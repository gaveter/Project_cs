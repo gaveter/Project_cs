{
  "nbformat": 4,
  "nbformat_minor": 0,
  "metadata": {
    "colab": {
      "name": "Project.ipynb",
      "provenance": [],
      "collapsed_sections": [],
      "toc_visible": true,
      "machine_shape": "hm"
    },
    "kernelspec": {
      "name": "python3",
      "display_name": "Python 3"
    },
    "accelerator": "GPU"
  },
  "cells": [
    {
      "cell_type": "code",
      "metadata": {
        "id": "ol1w_yeL6Ns5",
        "colab_type": "code",
        "outputId": "ce3f458c-cb24-4287-b3bb-eda42470b5e3",
        "colab": {
          "base_uri": "https://localhost:8080/",
          "height": 53
        }
      },
      "source": [
        "from google.colab import drive\n",
        "drive.mount('/content/drive')"
      ],
      "execution_count": 2,
      "outputs": [
        {
          "output_type": "stream",
          "text": [
            "Drive already mounted at /content/drive; to attempt to forcibly remount, call drive.mount(\"/content/drive\", force_remount=True).\n"
          ],
          "name": "stdout"
        }
      ]
    },
    {
      "cell_type": "markdown",
      "metadata": {
        "id": "Z6eOK8_a6P3z",
        "colab_type": "text"
      },
      "source": [
        "# Project 2019-20\n",
        "1. Normalize the loan_lenders table. In the normalized table, each row must have one loan_id and one lender.\n",
        "2. For each loan, add a column duration corresponding to the number of days between the disburse time and the planned expiration time.\n",
        "3. Find the lenders that have funded at least twice.\n",
        "4. For each country, compute how many loans have involved that country as borrowers.\n",
        "5. For each country, compute the overall amount of money borrowed.\n",
        "6. Like the previous point, but expressed as a percentage of the overall amount lent.\n",
        "7. Like the three previous points, but split for each year (with respect to disburse time).\n",
        "8. For each lender, compute the overall amount of money lent.\n",
        "9. For each country, compute the difference between the overall amount of money lent and the overall amount of money borrowed.\n",
        "10. Which country has the highest ratio between the difference computed at the previous point and the population?\n",
        "11. Which country has the highest ratio between the difference computed at point 9 and the population that is not below the poverty line?\n",
        "12. For each year, compute the total amount of loans. Each loan that has planned expiration time and disburse time in different years must \n",
        "have its amount distributed proportionally to the number of days in each year. For example, a loan with disburse time December 1st, 2016,\n",
        " planned expiration time January 30th 2018, and amount 5000USD has an amount of 5000USD * 31 / (31+365+30) = 363.85 for 2016, 5000USD * 365 / (31+365+30) = 4284.04\n",
        "for 2017, and 5000USD * 30 / (31+365+30) = 352.11 for 2018.\n",
        "© 2019 GitHub, Inc."
      ]
    },
    {
      "cell_type": "markdown",
      "metadata": {
        "id": "jRQIjhEl7EO0",
        "colab_type": "text"
      },
      "source": [
        "## Load libraries"
      ]
    },
    {
      "cell_type": "code",
      "metadata": {
        "id": "HhI6_r9s7Dro",
        "colab_type": "code",
        "colab": {}
      },
      "source": [
        "import pandas as pd\n",
        "from datetime import datetime\n",
        "import re\n",
        "import numpy as np"
      ],
      "execution_count": 0,
      "outputs": []
    },
    {
      "cell_type": "markdown",
      "metadata": {
        "id": "H293IL1LBfcH",
        "colab_type": "text"
      },
      "source": [
        "## Task1"
      ]
    },
    {
      "cell_type": "markdown",
      "metadata": {
        "id": "vBBoMroH7fgN",
        "colab_type": "text"
      },
      "source": [
        "### Load csv (loans_lenders)"
      ]
    },
    {
      "cell_type": "code",
      "metadata": {
        "id": "nuD87I-u7UGW",
        "colab_type": "code",
        "outputId": "ea8e23b0-0aef-4c29-b6be-806a699fa079",
        "colab": {
          "base_uri": "https://localhost:8080/",
          "height": 33
        }
      },
      "source": [
        "loans_lender = pd.read_csv('/content/drive/My Drive/Foundation of computer science/additional-kiva-snapshot/loans_lenders.csv')\n",
        "len(loans_lender)"
      ],
      "execution_count": 4,
      "outputs": [
        {
          "output_type": "execute_result",
          "data": {
            "text/plain": [
              "1387432"
            ]
          },
          "metadata": {
            "tags": []
          },
          "execution_count": 4
        }
      ]
    },
    {
      "cell_type": "code",
      "metadata": {
        "id": "aGeQjd7yKqbU",
        "colab_type": "code",
        "outputId": "32dc20b7-36b0-4cdc-dbfd-abb28f2955cc",
        "colab": {
          "base_uri": "https://localhost:8080/",
          "height": 67
        }
      },
      "source": [
        "loans_lender.dtypes"
      ],
      "execution_count": 5,
      "outputs": [
        {
          "output_type": "execute_result",
          "data": {
            "text/plain": [
              "loan_id     int64\n",
              "lenders    object\n",
              "dtype: object"
            ]
          },
          "metadata": {
            "tags": []
          },
          "execution_count": 5
        }
      ]
    },
    {
      "cell_type": "code",
      "metadata": {
        "id": "qeZeYsGHBUup",
        "colab_type": "code",
        "colab": {}
      },
      "source": [
        "loans_lender[\"lenders\"]=loans_lender[\"lenders\"].str.split(',') #divisione lenders\n",
        "loans_lender_norm=loans_lender.explode('lenders')"
      ],
      "execution_count": 0,
      "outputs": []
    },
    {
      "cell_type": "markdown",
      "metadata": {
        "id": "APH26ZJ3D5l-",
        "colab_type": "text"
      },
      "source": [
        "### Result"
      ]
    },
    {
      "cell_type": "code",
      "metadata": {
        "id": "RrsCO8-mCJmi",
        "colab_type": "code",
        "outputId": "a6487f3c-132c-4c51-fb29-1f0199cf7cba",
        "colab": {
          "base_uri": "https://localhost:8080/",
          "height": 196
        }
      },
      "source": [
        "loans_lender_norm=loans_lender_norm.reset_index(drop=True)\n",
        "loans_lender_norm.head()"
      ],
      "execution_count": 7,
      "outputs": [
        {
          "output_type": "execute_result",
          "data": {
            "text/html": [
              "<div>\n",
              "<style scoped>\n",
              "    .dataframe tbody tr th:only-of-type {\n",
              "        vertical-align: middle;\n",
              "    }\n",
              "\n",
              "    .dataframe tbody tr th {\n",
              "        vertical-align: top;\n",
              "    }\n",
              "\n",
              "    .dataframe thead th {\n",
              "        text-align: right;\n",
              "    }\n",
              "</style>\n",
              "<table border=\"1\" class=\"dataframe\">\n",
              "  <thead>\n",
              "    <tr style=\"text-align: right;\">\n",
              "      <th></th>\n",
              "      <th>loan_id</th>\n",
              "      <th>lenders</th>\n",
              "    </tr>\n",
              "  </thead>\n",
              "  <tbody>\n",
              "    <tr>\n",
              "      <th>0</th>\n",
              "      <td>483693</td>\n",
              "      <td>muc888</td>\n",
              "    </tr>\n",
              "    <tr>\n",
              "      <th>1</th>\n",
              "      <td>483693</td>\n",
              "      <td>sam4326</td>\n",
              "    </tr>\n",
              "    <tr>\n",
              "      <th>2</th>\n",
              "      <td>483693</td>\n",
              "      <td>camaran3922</td>\n",
              "    </tr>\n",
              "    <tr>\n",
              "      <th>3</th>\n",
              "      <td>483693</td>\n",
              "      <td>lachheb1865</td>\n",
              "    </tr>\n",
              "    <tr>\n",
              "      <th>4</th>\n",
              "      <td>483693</td>\n",
              "      <td>rebecca3499</td>\n",
              "    </tr>\n",
              "  </tbody>\n",
              "</table>\n",
              "</div>"
            ],
            "text/plain": [
              "   loan_id       lenders\n",
              "0   483693        muc888\n",
              "1   483693       sam4326\n",
              "2   483693   camaran3922\n",
              "3   483693   lachheb1865\n",
              "4   483693   rebecca3499"
            ]
          },
          "metadata": {
            "tags": []
          },
          "execution_count": 7
        }
      ]
    },
    {
      "cell_type": "code",
      "metadata": {
        "id": "r04QoJ3o1mdV",
        "colab_type": "code",
        "outputId": "073bc503-940e-4d51-df48-1e2523d038d8",
        "colab": {
          "base_uri": "https://localhost:8080/",
          "height": 33
        }
      },
      "source": [
        "len(loans_lender_norm)"
      ],
      "execution_count": 8,
      "outputs": [
        {
          "output_type": "execute_result",
          "data": {
            "text/plain": [
              "28293931"
            ]
          },
          "metadata": {
            "tags": []
          },
          "execution_count": 8
        }
      ]
    },
    {
      "cell_type": "markdown",
      "metadata": {
        "id": "YZbRGXk2DZKq",
        "colab_type": "text"
      },
      "source": [
        "## Task2\n",
        "- For each loan, add a column duration corresponding to the number of days between the disburse time and the planned expiration time"
      ]
    },
    {
      "cell_type": "markdown",
      "metadata": {
        "id": "8hizSkn5LXfV",
        "colab_type": "text"
      },
      "source": [
        "### Load csv (loans)"
      ]
    },
    {
      "cell_type": "code",
      "metadata": {
        "id": "wOJrqF4kDc-U",
        "colab_type": "code",
        "outputId": "f0597acd-8c45-4168-a4a5-bd752753a77f",
        "colab": {
          "base_uri": "https://localhost:8080/",
          "height": 33
        }
      },
      "source": [
        "loan = pd.read_csv('/content/drive/My Drive/Foundation of computer science/additional-kiva-snapshot/loans.csv')\n",
        "len(loan)"
      ],
      "execution_count": 9,
      "outputs": [
        {
          "output_type": "execute_result",
          "data": {
            "text/plain": [
              "1419607"
            ]
          },
          "metadata": {
            "tags": []
          },
          "execution_count": 9
        }
      ]
    },
    {
      "cell_type": "code",
      "metadata": {
        "id": "nxlPKclPFppe",
        "colab_type": "code",
        "outputId": "32e15d25-2c2a-4823-992c-5e91f9a43000",
        "colab": {
          "base_uri": "https://localhost:8080/",
          "height": 552
        }
      },
      "source": [
        "loan.dtypes"
      ],
      "execution_count": 10,
      "outputs": [
        {
          "output_type": "execute_result",
          "data": {
            "text/plain": [
              "loan_id                              int64\n",
              "loan_name                           object\n",
              "original_language                   object\n",
              "description                         object\n",
              "description_translated              object\n",
              "funded_amount                      float64\n",
              "loan_amount                        float64\n",
              "status                              object\n",
              "activity_name                       object\n",
              "sector_name                         object\n",
              "loan_use                            object\n",
              "country_code                        object\n",
              "country_name                        object\n",
              "town_name                           object\n",
              "currency_policy                     object\n",
              "currency_exchange_coverage_rate    float64\n",
              "currency                            object\n",
              "partner_id                         float64\n",
              "posted_time                         object\n",
              "planned_expiration_time             object\n",
              "disburse_time                       object\n",
              "raised_time                         object\n",
              "lender_term                        float64\n",
              "num_lenders_total                    int64\n",
              "num_journal_entries                  int64\n",
              "num_bulk_entries                     int64\n",
              "tags                                object\n",
              "borrower_genders                    object\n",
              "borrower_pictured                   object\n",
              "repayment_interval                  object\n",
              "distribution_model                  object\n",
              "dtype: object"
            ]
          },
          "metadata": {
            "tags": []
          },
          "execution_count": 10
        }
      ]
    },
    {
      "cell_type": "markdown",
      "metadata": {
        "id": "J-5FlPjEooYP",
        "colab_type": "text"
      },
      "source": [
        "### Check missing values"
      ]
    },
    {
      "cell_type": "code",
      "metadata": {
        "id": "cZCHUpNRarl2",
        "colab_type": "code",
        "colab": {}
      },
      "source": [
        "missing_loan = pd.isnull(loan[[\"planned_expiration_time\"]])"
      ],
      "execution_count": 0,
      "outputs": []
    },
    {
      "cell_type": "code",
      "metadata": {
        "id": "luFBF6vxnuom",
        "colab_type": "code",
        "outputId": "b05c830b-7e5b-470c-9923-faf28cbcc14f",
        "colab": {
          "base_uri": "https://localhost:8080/",
          "height": 226
        }
      },
      "source": [
        "loan.loc[64:69][[\"planned_expiration_time\",\"disburse_time\"]]"
      ],
      "execution_count": 12,
      "outputs": [
        {
          "output_type": "execute_result",
          "data": {
            "text/html": [
              "<div>\n",
              "<style scoped>\n",
              "    .dataframe tbody tr th:only-of-type {\n",
              "        vertical-align: middle;\n",
              "    }\n",
              "\n",
              "    .dataframe tbody tr th {\n",
              "        vertical-align: top;\n",
              "    }\n",
              "\n",
              "    .dataframe thead th {\n",
              "        text-align: right;\n",
              "    }\n",
              "</style>\n",
              "<table border=\"1\" class=\"dataframe\">\n",
              "  <thead>\n",
              "    <tr style=\"text-align: right;\">\n",
              "      <th></th>\n",
              "      <th>planned_expiration_time</th>\n",
              "      <th>disburse_time</th>\n",
              "    </tr>\n",
              "  </thead>\n",
              "  <tbody>\n",
              "    <tr>\n",
              "      <th>64</th>\n",
              "      <td>NaN</td>\n",
              "      <td>2010-11-18 08:00:00.000 +0000</td>\n",
              "    </tr>\n",
              "    <tr>\n",
              "      <th>65</th>\n",
              "      <td>NaN</td>\n",
              "      <td>2010-11-25 08:00:00.000 +0000</td>\n",
              "    </tr>\n",
              "    <tr>\n",
              "      <th>66</th>\n",
              "      <td>NaN</td>\n",
              "      <td>2010-11-25 08:00:00.000 +0000</td>\n",
              "    </tr>\n",
              "    <tr>\n",
              "      <th>67</th>\n",
              "      <td>NaN</td>\n",
              "      <td>2010-11-16 08:00:00.000 +0000</td>\n",
              "    </tr>\n",
              "    <tr>\n",
              "      <th>68</th>\n",
              "      <td>2016-11-03 06:10:05.000 +0000</td>\n",
              "      <td>2016-09-07 07:00:00.000 +0000</td>\n",
              "    </tr>\n",
              "    <tr>\n",
              "      <th>69</th>\n",
              "      <td>NaN</td>\n",
              "      <td>2010-11-10 08:00:00.000 +0000</td>\n",
              "    </tr>\n",
              "  </tbody>\n",
              "</table>\n",
              "</div>"
            ],
            "text/plain": [
              "          planned_expiration_time                  disburse_time\n",
              "64                            NaN  2010-11-18 08:00:00.000 +0000\n",
              "65                            NaN  2010-11-25 08:00:00.000 +0000\n",
              "66                            NaN  2010-11-25 08:00:00.000 +0000\n",
              "67                            NaN  2010-11-16 08:00:00.000 +0000\n",
              "68  2016-11-03 06:10:05.000 +0000  2016-09-07 07:00:00.000 +0000\n",
              "69                            NaN  2010-11-10 08:00:00.000 +0000"
            ]
          },
          "metadata": {
            "tags": []
          },
          "execution_count": 12
        }
      ]
    },
    {
      "cell_type": "markdown",
      "metadata": {
        "id": "VCwDEftFpehQ",
        "colab_type": "text"
      },
      "source": [
        "### Conversion attribute 'planned_expiration_time', 'disburse_time' to string"
      ]
    },
    {
      "cell_type": "code",
      "metadata": {
        "id": "0ynwYCBEpeBH",
        "colab_type": "code",
        "colab": {}
      },
      "source": [
        "loan[\"planned_expiration_time\"] = loan.apply(lambda x: str(x[\"planned_expiration_time\"]),axis=1) #each row (value is float)\n",
        "loan[\"disburse_time\"] = loan.apply(lambda x: str(x[\"disburse_time\"]),axis=1)"
      ],
      "execution_count": 0,
      "outputs": []
    },
    {
      "cell_type": "code",
      "metadata": {
        "id": "aMHD5LxYML_B",
        "colab_type": "code",
        "colab": {}
      },
      "source": [
        "def difference_dates(date1,date2):\n",
        "  if (date1==\"nan\" or date2==\"nan\"):\n",
        "    return(np.nan) #float\n",
        "  date1 = date1[:-10]\n",
        "  date1 = datetime.strptime(date1,\"%Y-%m-%d %H:%M:%S\")\n",
        "  date2 = date2[:-10]\n",
        "  date2 = datetime.strptime(date2,\"%Y-%m-%d %H:%M:%S\")\n",
        "  diff = (date1 - date2).days\n",
        "  return(diff)"
      ],
      "execution_count": 0,
      "outputs": []
    },
    {
      "cell_type": "code",
      "metadata": {
        "id": "EU_WyLDsTGpx",
        "colab_type": "code",
        "colab": {}
      },
      "source": [
        "loan[\"duration\"] = loan.apply(lambda x: difference_dates(x[\"planned_expiration_time\"],x[\"disburse_time\"]),axis=1)"
      ],
      "execution_count": 0,
      "outputs": []
    },
    {
      "cell_type": "code",
      "metadata": {
        "id": "CcwvUAWaXPzV",
        "colab_type": "code",
        "outputId": "ddee0fad-ca3a-4ec2-be13-890cf7cae1cf",
        "colab": {
          "base_uri": "https://localhost:8080/",
          "height": 33
        }
      },
      "source": [
        "zeroDuration = loan[loan[\"duration\"]==0][[\"planned_expiration_time\",\"disburse_time\",\"duration\"]]\n",
        "len(zeroDuration)"
      ],
      "execution_count": 16,
      "outputs": [
        {
          "output_type": "execute_result",
          "data": {
            "text/plain": [
              "772"
            ]
          },
          "metadata": {
            "tags": []
          },
          "execution_count": 16
        }
      ]
    },
    {
      "cell_type": "markdown",
      "metadata": {
        "id": "v1E4esXdQzYj",
        "colab_type": "text"
      },
      "source": [
        "### Result"
      ]
    },
    {
      "cell_type": "code",
      "metadata": {
        "id": "ksaM8dHyycQk",
        "colab_type": "code",
        "outputId": "118caf71-52d7-4097-8819-d0cc26b67959",
        "colab": {
          "base_uri": "https://localhost:8080/",
          "height": 196
        }
      },
      "source": [
        "loan.head()[[\"planned_expiration_time\",\"disburse_time\",\"duration\"]]"
      ],
      "execution_count": 17,
      "outputs": [
        {
          "output_type": "execute_result",
          "data": {
            "text/html": [
              "<div>\n",
              "<style scoped>\n",
              "    .dataframe tbody tr th:only-of-type {\n",
              "        vertical-align: middle;\n",
              "    }\n",
              "\n",
              "    .dataframe tbody tr th {\n",
              "        vertical-align: top;\n",
              "    }\n",
              "\n",
              "    .dataframe thead th {\n",
              "        text-align: right;\n",
              "    }\n",
              "</style>\n",
              "<table border=\"1\" class=\"dataframe\">\n",
              "  <thead>\n",
              "    <tr style=\"text-align: right;\">\n",
              "      <th></th>\n",
              "      <th>planned_expiration_time</th>\n",
              "      <th>disburse_time</th>\n",
              "      <th>duration</th>\n",
              "    </tr>\n",
              "  </thead>\n",
              "  <tbody>\n",
              "    <tr>\n",
              "      <th>0</th>\n",
              "      <td>2014-02-14 03:30:06.000 +0000</td>\n",
              "      <td>2013-12-22 08:00:00.000 +0000</td>\n",
              "      <td>53.0</td>\n",
              "    </tr>\n",
              "    <tr>\n",
              "      <th>1</th>\n",
              "      <td>2014-03-26 22:25:07.000 +0000</td>\n",
              "      <td>2013-12-20 08:00:00.000 +0000</td>\n",
              "      <td>96.0</td>\n",
              "    </tr>\n",
              "    <tr>\n",
              "      <th>2</th>\n",
              "      <td>2014-02-15 21:10:05.000 +0000</td>\n",
              "      <td>2014-01-09 08:00:00.000 +0000</td>\n",
              "      <td>37.0</td>\n",
              "    </tr>\n",
              "    <tr>\n",
              "      <th>3</th>\n",
              "      <td>2014-02-21 03:10:02.000 +0000</td>\n",
              "      <td>2014-01-17 08:00:00.000 +0000</td>\n",
              "      <td>34.0</td>\n",
              "    </tr>\n",
              "    <tr>\n",
              "      <th>4</th>\n",
              "      <td>2014-02-13 06:10:02.000 +0000</td>\n",
              "      <td>2013-12-17 08:00:00.000 +0000</td>\n",
              "      <td>57.0</td>\n",
              "    </tr>\n",
              "  </tbody>\n",
              "</table>\n",
              "</div>"
            ],
            "text/plain": [
              "         planned_expiration_time                  disburse_time  duration\n",
              "0  2014-02-14 03:30:06.000 +0000  2013-12-22 08:00:00.000 +0000      53.0\n",
              "1  2014-03-26 22:25:07.000 +0000  2013-12-20 08:00:00.000 +0000      96.0\n",
              "2  2014-02-15 21:10:05.000 +0000  2014-01-09 08:00:00.000 +0000      37.0\n",
              "3  2014-02-21 03:10:02.000 +0000  2014-01-17 08:00:00.000 +0000      34.0\n",
              "4  2014-02-13 06:10:02.000 +0000  2013-12-17 08:00:00.000 +0000      57.0"
            ]
          },
          "metadata": {
            "tags": []
          },
          "execution_count": 17
        }
      ]
    },
    {
      "cell_type": "markdown",
      "metadata": {
        "id": "eo2kVaCZKR_g",
        "colab_type": "text"
      },
      "source": [
        "## Task 3\n",
        "- Find the lenders that have funded at least twice"
      ]
    },
    {
      "cell_type": "code",
      "metadata": {
        "id": "G_KAf8ZtM40G",
        "colab_type": "code",
        "outputId": "11fa9a94-d213-4baf-95b3-a0038cf29406",
        "colab": {
          "base_uri": "https://localhost:8080/",
          "height": 117
        }
      },
      "source": [
        "loan.groupby(\"status\")[\"loan_id\"].count()"
      ],
      "execution_count": 90,
      "outputs": [
        {
          "output_type": "execute_result",
          "data": {
            "text/plain": [
              "status\n",
              "expired          59081\n",
              "fundRaising       3608\n",
              "funded         1350340\n",
              "refunded          6578\n",
              "Name: loan_id, dtype: int64"
            ]
          },
          "metadata": {
            "tags": []
          },
          "execution_count": 90
        }
      ]
    },
    {
      "cell_type": "code",
      "metadata": {
        "id": "fpHfzvJxLuqr",
        "colab_type": "code",
        "outputId": "6041c8dc-9706-4e83-acee-6affc261952c",
        "colab": {
          "base_uri": "https://localhost:8080/",
          "height": 196
        }
      },
      "source": [
        "fundedLoan = loan[loan[\"status\"]=='funded'][[\"loan_id\",\"status\"]]\n",
        "fundedLoan.head()"
      ],
      "execution_count": 91,
      "outputs": [
        {
          "output_type": "execute_result",
          "data": {
            "text/html": [
              "<div>\n",
              "<style scoped>\n",
              "    .dataframe tbody tr th:only-of-type {\n",
              "        vertical-align: middle;\n",
              "    }\n",
              "\n",
              "    .dataframe tbody tr th {\n",
              "        vertical-align: top;\n",
              "    }\n",
              "\n",
              "    .dataframe thead th {\n",
              "        text-align: right;\n",
              "    }\n",
              "</style>\n",
              "<table border=\"1\" class=\"dataframe\">\n",
              "  <thead>\n",
              "    <tr style=\"text-align: right;\">\n",
              "      <th></th>\n",
              "      <th>loan_id</th>\n",
              "      <th>status</th>\n",
              "    </tr>\n",
              "  </thead>\n",
              "  <tbody>\n",
              "    <tr>\n",
              "      <th>0</th>\n",
              "      <td>657307</td>\n",
              "      <td>funded</td>\n",
              "    </tr>\n",
              "    <tr>\n",
              "      <th>1</th>\n",
              "      <td>657259</td>\n",
              "      <td>funded</td>\n",
              "    </tr>\n",
              "    <tr>\n",
              "      <th>2</th>\n",
              "      <td>658010</td>\n",
              "      <td>funded</td>\n",
              "    </tr>\n",
              "    <tr>\n",
              "      <th>3</th>\n",
              "      <td>659347</td>\n",
              "      <td>funded</td>\n",
              "    </tr>\n",
              "    <tr>\n",
              "      <th>4</th>\n",
              "      <td>656933</td>\n",
              "      <td>funded</td>\n",
              "    </tr>\n",
              "  </tbody>\n",
              "</table>\n",
              "</div>"
            ],
            "text/plain": [
              "   loan_id  status\n",
              "0   657307  funded\n",
              "1   657259  funded\n",
              "2   658010  funded\n",
              "3   659347  funded\n",
              "4   656933  funded"
            ]
          },
          "metadata": {
            "tags": []
          },
          "execution_count": 91
        }
      ]
    },
    {
      "cell_type": "markdown",
      "metadata": {
        "id": "51t1W2oze5x6",
        "colab_type": "text"
      },
      "source": [
        "### Inner-join between loan_lender and type loan 'funded'"
      ]
    },
    {
      "cell_type": "code",
      "metadata": {
        "id": "-odsXDLHznWt",
        "colab_type": "code",
        "colab": {
          "base_uri": "https://localhost:8080/",
          "height": 196
        },
        "outputId": "3b531afc-d3f0-41b5-f27f-486516f72ce1"
      },
      "source": [
        "lenders_funded = pd.merge(loans_lender_norm,fundedLoan,how=\"inner\",on=\"loan_id\")\n",
        "lenders_funded.head()"
      ],
      "execution_count": 92,
      "outputs": [
        {
          "output_type": "execute_result",
          "data": {
            "text/html": [
              "<div>\n",
              "<style scoped>\n",
              "    .dataframe tbody tr th:only-of-type {\n",
              "        vertical-align: middle;\n",
              "    }\n",
              "\n",
              "    .dataframe tbody tr th {\n",
              "        vertical-align: top;\n",
              "    }\n",
              "\n",
              "    .dataframe thead th {\n",
              "        text-align: right;\n",
              "    }\n",
              "</style>\n",
              "<table border=\"1\" class=\"dataframe\">\n",
              "  <thead>\n",
              "    <tr style=\"text-align: right;\">\n",
              "      <th></th>\n",
              "      <th>loan_id</th>\n",
              "      <th>lenders</th>\n",
              "      <th>status</th>\n",
              "    </tr>\n",
              "  </thead>\n",
              "  <tbody>\n",
              "    <tr>\n",
              "      <th>0</th>\n",
              "      <td>483693</td>\n",
              "      <td>muc888</td>\n",
              "      <td>funded</td>\n",
              "    </tr>\n",
              "    <tr>\n",
              "      <th>1</th>\n",
              "      <td>483693</td>\n",
              "      <td>sam4326</td>\n",
              "      <td>funded</td>\n",
              "    </tr>\n",
              "    <tr>\n",
              "      <th>2</th>\n",
              "      <td>483693</td>\n",
              "      <td>camaran3922</td>\n",
              "      <td>funded</td>\n",
              "    </tr>\n",
              "    <tr>\n",
              "      <th>3</th>\n",
              "      <td>483693</td>\n",
              "      <td>lachheb1865</td>\n",
              "      <td>funded</td>\n",
              "    </tr>\n",
              "    <tr>\n",
              "      <th>4</th>\n",
              "      <td>483693</td>\n",
              "      <td>rebecca3499</td>\n",
              "      <td>funded</td>\n",
              "    </tr>\n",
              "  </tbody>\n",
              "</table>\n",
              "</div>"
            ],
            "text/plain": [
              "   loan_id       lenders  status\n",
              "0   483693        muc888  funded\n",
              "1   483693       sam4326  funded\n",
              "2   483693   camaran3922  funded\n",
              "3   483693   lachheb1865  funded\n",
              "4   483693   rebecca3499  funded"
            ]
          },
          "metadata": {
            "tags": []
          },
          "execution_count": 92
        }
      ]
    },
    {
      "cell_type": "code",
      "metadata": {
        "id": "p0YI4qjWbPoO",
        "colab_type": "code",
        "colab": {
          "base_uri": "https://localhost:8080/",
          "height": 404
        },
        "outputId": "353a8f8a-4968-441d-d871-40f8090ae30c"
      },
      "source": [
        "prova1 = lenders_funded[lenders_funded[\"lenders\"]=='gooddogg1']\n",
        "prova1"
      ],
      "execution_count": 93,
      "outputs": [
        {
          "output_type": "execute_result",
          "data": {
            "text/html": [
              "<div>\n",
              "<style scoped>\n",
              "    .dataframe tbody tr th:only-of-type {\n",
              "        vertical-align: middle;\n",
              "    }\n",
              "\n",
              "    .dataframe tbody tr th {\n",
              "        vertical-align: top;\n",
              "    }\n",
              "\n",
              "    .dataframe thead th {\n",
              "        text-align: right;\n",
              "    }\n",
              "</style>\n",
              "<table border=\"1\" class=\"dataframe\">\n",
              "  <thead>\n",
              "    <tr style=\"text-align: right;\">\n",
              "      <th></th>\n",
              "      <th>loan_id</th>\n",
              "      <th>lenders</th>\n",
              "      <th>status</th>\n",
              "    </tr>\n",
              "  </thead>\n",
              "  <tbody>\n",
              "    <tr>\n",
              "      <th>24292</th>\n",
              "      <td>842096</td>\n",
              "      <td>gooddogg1</td>\n",
              "      <td>funded</td>\n",
              "    </tr>\n",
              "    <tr>\n",
              "      <th>24360</th>\n",
              "      <td>848845</td>\n",
              "      <td>gooddogg1</td>\n",
              "      <td>funded</td>\n",
              "    </tr>\n",
              "    <tr>\n",
              "      <th>24372</th>\n",
              "      <td>848778</td>\n",
              "      <td>gooddogg1</td>\n",
              "      <td>funded</td>\n",
              "    </tr>\n",
              "    <tr>\n",
              "      <th>24380</th>\n",
              "      <td>848783</td>\n",
              "      <td>gooddogg1</td>\n",
              "      <td>funded</td>\n",
              "    </tr>\n",
              "    <tr>\n",
              "      <th>24388</th>\n",
              "      <td>848766</td>\n",
              "      <td>gooddogg1</td>\n",
              "      <td>funded</td>\n",
              "    </tr>\n",
              "    <tr>\n",
              "      <th>...</th>\n",
              "      <td>...</td>\n",
              "      <td>...</td>\n",
              "      <td>...</td>\n",
              "    </tr>\n",
              "    <tr>\n",
              "      <th>27143559</th>\n",
              "      <td>1194924</td>\n",
              "      <td>gooddogg1</td>\n",
              "      <td>funded</td>\n",
              "    </tr>\n",
              "    <tr>\n",
              "      <th>27144045</th>\n",
              "      <td>1199986</td>\n",
              "      <td>gooddogg1</td>\n",
              "      <td>funded</td>\n",
              "    </tr>\n",
              "    <tr>\n",
              "      <th>27144048</th>\n",
              "      <td>1200002</td>\n",
              "      <td>gooddogg1</td>\n",
              "      <td>funded</td>\n",
              "    </tr>\n",
              "    <tr>\n",
              "      <th>27145115</th>\n",
              "      <td>678036</td>\n",
              "      <td>gooddogg1</td>\n",
              "      <td>funded</td>\n",
              "    </tr>\n",
              "    <tr>\n",
              "      <th>27145176</th>\n",
              "      <td>677080</td>\n",
              "      <td>gooddogg1</td>\n",
              "      <td>funded</td>\n",
              "    </tr>\n",
              "  </tbody>\n",
              "</table>\n",
              "<p>25163 rows × 3 columns</p>\n",
              "</div>"
            ],
            "text/plain": [
              "          loan_id    lenders  status\n",
              "24292      842096  gooddogg1  funded\n",
              "24360      848845  gooddogg1  funded\n",
              "24372      848778  gooddogg1  funded\n",
              "24380      848783  gooddogg1  funded\n",
              "24388      848766  gooddogg1  funded\n",
              "...           ...        ...     ...\n",
              "27143559  1194924  gooddogg1  funded\n",
              "27144045  1199986  gooddogg1  funded\n",
              "27144048  1200002  gooddogg1  funded\n",
              "27145115   678036  gooddogg1  funded\n",
              "27145176   677080  gooddogg1  funded\n",
              "\n",
              "[25163 rows x 3 columns]"
            ]
          },
          "metadata": {
            "tags": []
          },
          "execution_count": 93
        }
      ]
    },
    {
      "cell_type": "code",
      "metadata": {
        "id": "UIZ_f70xcOhD",
        "colab_type": "code",
        "colab": {
          "base_uri": "https://localhost:8080/",
          "height": 196
        },
        "outputId": "98fae19b-fdd3-4cac-f3af-3906ba19b3b3"
      },
      "source": [
        "prova2 = lenders_funded.groupby('loan_id')['lenders'].count().reset_index(drop=False)\n",
        "prova2.head()"
      ],
      "execution_count": 94,
      "outputs": [
        {
          "output_type": "execute_result",
          "data": {
            "text/html": [
              "<div>\n",
              "<style scoped>\n",
              "    .dataframe tbody tr th:only-of-type {\n",
              "        vertical-align: middle;\n",
              "    }\n",
              "\n",
              "    .dataframe tbody tr th {\n",
              "        vertical-align: top;\n",
              "    }\n",
              "\n",
              "    .dataframe thead th {\n",
              "        text-align: right;\n",
              "    }\n",
              "</style>\n",
              "<table border=\"1\" class=\"dataframe\">\n",
              "  <thead>\n",
              "    <tr style=\"text-align: right;\">\n",
              "      <th></th>\n",
              "      <th>loan_id</th>\n",
              "      <th>lenders</th>\n",
              "    </tr>\n",
              "  </thead>\n",
              "  <tbody>\n",
              "    <tr>\n",
              "      <th>0</th>\n",
              "      <td>84</td>\n",
              "      <td>3</td>\n",
              "    </tr>\n",
              "    <tr>\n",
              "      <th>1</th>\n",
              "      <td>85</td>\n",
              "      <td>2</td>\n",
              "    </tr>\n",
              "    <tr>\n",
              "      <th>2</th>\n",
              "      <td>86</td>\n",
              "      <td>3</td>\n",
              "    </tr>\n",
              "    <tr>\n",
              "      <th>3</th>\n",
              "      <td>88</td>\n",
              "      <td>3</td>\n",
              "    </tr>\n",
              "    <tr>\n",
              "      <th>4</th>\n",
              "      <td>89</td>\n",
              "      <td>4</td>\n",
              "    </tr>\n",
              "  </tbody>\n",
              "</table>\n",
              "</div>"
            ],
            "text/plain": [
              "   loan_id  lenders\n",
              "0       84        3\n",
              "1       85        2\n",
              "2       86        3\n",
              "3       88        3\n",
              "4       89        4"
            ]
          },
          "metadata": {
            "tags": []
          },
          "execution_count": 94
        }
      ]
    },
    {
      "cell_type": "code",
      "metadata": {
        "id": "wo5GojdqcrhY",
        "colab_type": "code",
        "colab": {
          "base_uri": "https://localhost:8080/",
          "height": 67
        },
        "outputId": "908e5bf3-f07b-421c-fcbc-7d82c73c16de"
      },
      "source": [
        "ris = pd.merge(prova1,prova2,on=\"loan_id\")\n",
        "ris.columns = ['loan_id','lender','status','#lenders']\n",
        "ris.groupby('lender')['loan_id'].count()"
      ],
      "execution_count": 95,
      "outputs": [
        {
          "output_type": "execute_result",
          "data": {
            "text/plain": [
              "lender\n",
              "gooddogg1    25163\n",
              "Name: loan_id, dtype: int64"
            ]
          },
          "metadata": {
            "tags": []
          },
          "execution_count": 95
        }
      ]
    },
    {
      "cell_type": "code",
      "metadata": {
        "id": "4bPS04EKfGF7",
        "colab_type": "code",
        "colab": {}
      },
      "source": [
        "numberfunded_lenders = lenders_funded.groupby('lenders')['loan_id'].count().reset_index(level=0)"
      ],
      "execution_count": 0,
      "outputs": []
    },
    {
      "cell_type": "code",
      "metadata": {
        "id": "KhnFziBZgmIN",
        "colab_type": "code",
        "colab": {}
      },
      "source": [
        "numberfunded_lenders.columns=['lenders','count']"
      ],
      "execution_count": 0,
      "outputs": []
    },
    {
      "cell_type": "code",
      "metadata": {
        "id": "pYOxuKXihKth",
        "colab_type": "code",
        "colab": {}
      },
      "source": [
        "numberfunded_lenders = numberfunded_lenders[numberfunded_lenders['count']>=2]"
      ],
      "execution_count": 0,
      "outputs": []
    },
    {
      "cell_type": "code",
      "metadata": {
        "id": "V4Kx2W8Ik5Of",
        "colab_type": "code",
        "colab": {
          "base_uri": "https://localhost:8080/",
          "height": 77
        },
        "outputId": "4f39da1d-7767-4166-ae90-7851abf06993"
      },
      "source": [
        "numberfunded_lenders[numberfunded_lenders['lenders']=='trolltech4460']"
      ],
      "execution_count": 107,
      "outputs": [
        {
          "output_type": "execute_result",
          "data": {
            "text/html": [
              "<div>\n",
              "<style scoped>\n",
              "    .dataframe tbody tr th:only-of-type {\n",
              "        vertical-align: middle;\n",
              "    }\n",
              "\n",
              "    .dataframe tbody tr th {\n",
              "        vertical-align: top;\n",
              "    }\n",
              "\n",
              "    .dataframe thead th {\n",
              "        text-align: right;\n",
              "    }\n",
              "</style>\n",
              "<table border=\"1\" class=\"dataframe\">\n",
              "  <thead>\n",
              "    <tr style=\"text-align: right;\">\n",
              "      <th></th>\n",
              "      <th>lenders</th>\n",
              "      <th>count</th>\n",
              "    </tr>\n",
              "  </thead>\n",
              "  <tbody>\n",
              "    <tr>\n",
              "      <th>1605662</th>\n",
              "      <td>trolltech4460</td>\n",
              "      <td>2077</td>\n",
              "    </tr>\n",
              "  </tbody>\n",
              "</table>\n",
              "</div>"
            ],
            "text/plain": [
              "               lenders  count\n",
              "1605662  trolltech4460   2077"
            ]
          },
          "metadata": {
            "tags": []
          },
          "execution_count": 107
        }
      ]
    }
  ]
}