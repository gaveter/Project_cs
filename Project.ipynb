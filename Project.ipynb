{
  "nbformat": 4,
  "nbformat_minor": 0,
  "metadata": {
    "colab": {
      "name": "Project.ipynb",
      "provenance": [],
      "collapsed_sections": [],
      "toc_visible": true,
      "machine_shape": "hm",
      "include_colab_link": true
    },
    "kernelspec": {
      "name": "python3",
      "display_name": "Python 3"
    }
  },
  "cells": [
    {
      "cell_type": "markdown",
      "metadata": {
        "id": "view-in-github",
        "colab_type": "text"
      },
      "source": [
        "<a href=\"https://colab.research.google.com/github/gaveter/Project_cs/blob/master/Project.ipynb\" target=\"_parent\"><img src=\"https://colab.research.google.com/assets/colab-badge.svg\" alt=\"Open In Colab\"/></a>"
      ]
    },
    {
      "cell_type": "code",
      "metadata": {
        "id": "ol1w_yeL6Ns5",
        "outputId": "5498c543-23ba-4534-ba68-a7389bcc7248",
        "colab": {
          "base_uri": "https://localhost:8080/",
          "height": 34
        }
      },
      "source": [
        "from google.colab import drive\n",
        "drive.mount('/content/drive')"
      ],
      "execution_count": 1,
      "outputs": [
        {
          "output_type": "stream",
          "text": [
            "Drive already mounted at /content/drive; to attempt to forcibly remount, call drive.mount(\"/content/drive\", force_remount=True).\n"
          ],
          "name": "stdout"
        }
      ]
    },
    {
      "cell_type": "markdown",
      "metadata": {
        "id": "Z6eOK8_a6P3z"
      },
      "source": [
        "# Project 2019-20\n",
        "**Author**: Matteo Gaverini"
      ]
    },
    {
      "cell_type": "markdown",
      "metadata": {
        "id": "ac0rXnKy7Gx5"
      },
      "source": [
        "## Load libraries"
      ]
    },
    {
      "cell_type": "code",
      "metadata": {
        "id": "HhI6_r9s7Dro"
      },
      "source": [
        "import pandas as pd\n",
        "from datetime import datetime, timedelta\n",
        "import re\n",
        "import numpy as np\n",
        "from pandas.tseries.offsets import BDay\n",
        "import matplotlib.pyplot as plt\n",
        "import itertools\n",
        "import functools\n",
        "import calendar\n",
        "from collections import defaultdict"
      ],
      "execution_count": 2,
      "outputs": []
    },
    {
      "cell_type": "code",
      "metadata": {
        "id": "RNrEkqzUhT80",
        "outputId": "68222c71-11c6-4d57-f195-6ddeeb0f86a6",
        "colab": {
          "base_uri": "https://localhost:8080/",
          "height": 34
        }
      },
      "source": [
        "!pip install ipython-autotime  #necessario per stampare il tempo di esecuzione di ogni chunk\n",
        "%load_ext autotime"
      ],
      "execution_count": 3,
      "outputs": [
        {
          "output_type": "stream",
          "text": [
            "Requirement already satisfied: ipython-autotime in /usr/local/lib/python3.6/dist-packages (0.1)\n"
          ],
          "name": "stdout"
        }
      ]
    },
    {
      "cell_type": "markdown",
      "metadata": {
        "id": "H293IL1LBfcH"
      },
      "source": [
        "## Task1\n",
        "- Normalize the loan_lenders table. In the normalized table, each row must have one loan_id and one lender."
      ]
    },
    {
      "cell_type": "markdown",
      "metadata": {
        "id": "vBBoMroH7fgN"
      },
      "source": [
        "### Load csv (loans_lenders)"
      ]
    },
    {
      "cell_type": "code",
      "metadata": {
        "id": "nuD87I-u7UGW",
        "outputId": "ec468807-8a30-4d7d-a146-c5299a871415",
        "colab": {
          "base_uri": "https://localhost:8080/",
          "height": 34
        }
      },
      "source": [
        "loans_lender = pd.read_csv('/content/drive/My Drive/Foundation of computer science/additional-kiva-snapshot/loans_lenders.csv')"
      ],
      "execution_count": 4,
      "outputs": [
        {
          "output_type": "stream",
          "text": [
            "time: 4.52 s\n"
          ],
          "name": "stdout"
        }
      ]
    },
    {
      "cell_type": "markdown",
      "metadata": {
        "id": "5xNbI8At-N6G"
      },
      "source": [
        "_Overview_"
      ]
    },
    {
      "cell_type": "code",
      "metadata": {
        "id": "D_e6nB47Yr0g",
        "outputId": "19f37ca3-f9a9-45fa-a623-bc4df2812932",
        "colab": {
          "base_uri": "https://localhost:8080/",
          "height": 67
        }
      },
      "source": [
        "loans_lender.dtypes"
      ],
      "execution_count": 5,
      "outputs": [
        {
          "output_type": "execute_result",
          "data": {
            "text/plain": [
              "loan_id     int64\n",
              "lenders    object\n",
              "dtype: object"
            ]
          },
          "metadata": {
            "tags": []
          },
          "execution_count": 5
        },
        {
          "output_type": "stream",
          "text": [
            "time: 4.44 ms\n"
          ],
          "name": "stdout"
        }
      ]
    },
    {
      "cell_type": "code",
      "metadata": {
        "id": "NjRpKKfy-U0O",
        "outputId": "d55d6f5e-aec9-4b7b-be8b-657a4737dd0e",
        "colab": {
          "base_uri": "https://localhost:8080/",
          "height": 229
        }
      },
      "source": [
        "print(\"Number rows: \"+str(len(loans_lender)))\n",
        "loans_lender.head()"
      ],
      "execution_count": 6,
      "outputs": [
        {
          "output_type": "stream",
          "text": [
            "Number rows: 1387432\n"
          ],
          "name": "stdout"
        },
        {
          "output_type": "execute_result",
          "data": {
            "text/html": [
              "<div>\n",
              "<style scoped>\n",
              "    .dataframe tbody tr th:only-of-type {\n",
              "        vertical-align: middle;\n",
              "    }\n",
              "\n",
              "    .dataframe tbody tr th {\n",
              "        vertical-align: top;\n",
              "    }\n",
              "\n",
              "    .dataframe thead th {\n",
              "        text-align: right;\n",
              "    }\n",
              "</style>\n",
              "<table border=\"1\" class=\"dataframe\">\n",
              "  <thead>\n",
              "    <tr style=\"text-align: right;\">\n",
              "      <th></th>\n",
              "      <th>loan_id</th>\n",
              "      <th>lenders</th>\n",
              "    </tr>\n",
              "  </thead>\n",
              "  <tbody>\n",
              "    <tr>\n",
              "      <th>0</th>\n",
              "      <td>483693</td>\n",
              "      <td>muc888, sam4326, camaran3922, lachheb1865, reb...</td>\n",
              "    </tr>\n",
              "    <tr>\n",
              "      <th>1</th>\n",
              "      <td>483738</td>\n",
              "      <td>muc888, nora3555, williammanashi, barbara5610,...</td>\n",
              "    </tr>\n",
              "    <tr>\n",
              "      <th>2</th>\n",
              "      <td>485000</td>\n",
              "      <td>muc888, terrystl, richardandsusan8352, sherri4...</td>\n",
              "    </tr>\n",
              "    <tr>\n",
              "      <th>3</th>\n",
              "      <td>486087</td>\n",
              "      <td>muc888, james5068, rudi5955, daniel9859, don92...</td>\n",
              "    </tr>\n",
              "    <tr>\n",
              "      <th>4</th>\n",
              "      <td>534428</td>\n",
              "      <td>muc888, niki3008, teresa9174, mike4896, david7...</td>\n",
              "    </tr>\n",
              "  </tbody>\n",
              "</table>\n",
              "</div>"
            ],
            "text/plain": [
              "   loan_id                                            lenders\n",
              "0   483693  muc888, sam4326, camaran3922, lachheb1865, reb...\n",
              "1   483738  muc888, nora3555, williammanashi, barbara5610,...\n",
              "2   485000  muc888, terrystl, richardandsusan8352, sherri4...\n",
              "3   486087  muc888, james5068, rudi5955, daniel9859, don92...\n",
              "4   534428  muc888, niki3008, teresa9174, mike4896, david7..."
            ]
          },
          "metadata": {
            "tags": []
          },
          "execution_count": 6
        },
        {
          "output_type": "stream",
          "text": [
            "time: 17.6 ms\n"
          ],
          "name": "stdout"
        }
      ]
    },
    {
      "cell_type": "markdown",
      "metadata": {
        "id": "XtUUcFYDHUeD"
      },
      "source": [
        "### Split each lender for each loan"
      ]
    },
    {
      "cell_type": "code",
      "metadata": {
        "id": "qeZeYsGHBUup",
        "outputId": "9e7de43b-8535-4d01-c9eb-03a93f238d1e",
        "colab": {
          "base_uri": "https://localhost:8080/",
          "height": 34
        }
      },
      "source": [
        "loans_lender[\"lenders\"]=loans_lender[\"lenders\"].str.split(', ') #creazione lista per ogni riga\n",
        "loans_lender_norm=loans_lender.explode('lenders') #trasformazione ogni elemento della lista come una riga"
      ],
      "execution_count": 7,
      "outputs": [
        {
          "output_type": "stream",
          "text": [
            "time: 18.4 s\n"
          ],
          "name": "stdout"
        }
      ]
    },
    {
      "cell_type": "code",
      "metadata": {
        "id": "dAMLx8OKAiNY",
        "outputId": "bff40d96-dabf-4bd4-d8cc-1e0762ed0cac",
        "colab": {
          "base_uri": "https://localhost:8080/",
          "height": 34
        }
      },
      "source": [
        "loans_lender_norm=loans_lender_norm.reset_index(drop=True)"
      ],
      "execution_count": 8,
      "outputs": [
        {
          "output_type": "stream",
          "text": [
            "time: 538 ms\n"
          ],
          "name": "stdout"
        }
      ]
    },
    {
      "cell_type": "markdown",
      "metadata": {
        "id": "APH26ZJ3D5l-"
      },
      "source": [
        "### _Result_"
      ]
    },
    {
      "cell_type": "code",
      "metadata": {
        "id": "RrsCO8-mCJmi",
        "outputId": "046a8bed-47f1-4f19-fcd6-87db5f95f4a2",
        "colab": {
          "base_uri": "https://localhost:8080/",
          "height": 212
        }
      },
      "source": [
        "loans_lender_norm.head()"
      ],
      "execution_count": 9,
      "outputs": [
        {
          "output_type": "execute_result",
          "data": {
            "text/html": [
              "<div>\n",
              "<style scoped>\n",
              "    .dataframe tbody tr th:only-of-type {\n",
              "        vertical-align: middle;\n",
              "    }\n",
              "\n",
              "    .dataframe tbody tr th {\n",
              "        vertical-align: top;\n",
              "    }\n",
              "\n",
              "    .dataframe thead th {\n",
              "        text-align: right;\n",
              "    }\n",
              "</style>\n",
              "<table border=\"1\" class=\"dataframe\">\n",
              "  <thead>\n",
              "    <tr style=\"text-align: right;\">\n",
              "      <th></th>\n",
              "      <th>loan_id</th>\n",
              "      <th>lenders</th>\n",
              "    </tr>\n",
              "  </thead>\n",
              "  <tbody>\n",
              "    <tr>\n",
              "      <th>0</th>\n",
              "      <td>483693</td>\n",
              "      <td>muc888</td>\n",
              "    </tr>\n",
              "    <tr>\n",
              "      <th>1</th>\n",
              "      <td>483693</td>\n",
              "      <td>sam4326</td>\n",
              "    </tr>\n",
              "    <tr>\n",
              "      <th>2</th>\n",
              "      <td>483693</td>\n",
              "      <td>camaran3922</td>\n",
              "    </tr>\n",
              "    <tr>\n",
              "      <th>3</th>\n",
              "      <td>483693</td>\n",
              "      <td>lachheb1865</td>\n",
              "    </tr>\n",
              "    <tr>\n",
              "      <th>4</th>\n",
              "      <td>483693</td>\n",
              "      <td>rebecca3499</td>\n",
              "    </tr>\n",
              "  </tbody>\n",
              "</table>\n",
              "</div>"
            ],
            "text/plain": [
              "   loan_id      lenders\n",
              "0   483693       muc888\n",
              "1   483693      sam4326\n",
              "2   483693  camaran3922\n",
              "3   483693  lachheb1865\n",
              "4   483693  rebecca3499"
            ]
          },
          "metadata": {
            "tags": []
          },
          "execution_count": 9
        },
        {
          "output_type": "stream",
          "text": [
            "time: 9.62 ms\n"
          ],
          "name": "stdout"
        }
      ]
    },
    {
      "cell_type": "markdown",
      "metadata": {
        "id": "YZbRGXk2DZKq"
      },
      "source": [
        "## Task2\n",
        "- For each loan, add a column duration corresponding to the number of days between the disburse time and the planned expiration time. If any of those two dates is missing, also the duration must be missing."
      ]
    },
    {
      "cell_type": "markdown",
      "metadata": {
        "id": "8hizSkn5LXfV"
      },
      "source": [
        "### Load csv (loans)"
      ]
    },
    {
      "cell_type": "code",
      "metadata": {
        "id": "wOJrqF4kDc-U",
        "outputId": "e781f4c7-6e9d-4a59-851f-09f1fd188a22",
        "colab": {
          "base_uri": "https://localhost:8080/",
          "height": 34
        }
      },
      "source": [
        "loan = pd.read_csv('/content/drive/My Drive/Foundation of computer science/additional-kiva-snapshot/loans.csv')"
      ],
      "execution_count": 10,
      "outputs": [
        {
          "output_type": "stream",
          "text": [
            "time: 33.3 s\n"
          ],
          "name": "stdout"
        }
      ]
    },
    {
      "cell_type": "markdown",
      "metadata": {
        "id": "09Mreg75A6Un"
      },
      "source": [
        "_Overview_"
      ]
    },
    {
      "cell_type": "code",
      "metadata": {
        "id": "nxlPKclPFppe",
        "outputId": "d3da16c2-1174-4d35-9777-6633fe404a2b",
        "colab": {
          "base_uri": "https://localhost:8080/",
          "height": 554
        }
      },
      "source": [
        "loan.dtypes"
      ],
      "execution_count": 11,
      "outputs": [
        {
          "output_type": "execute_result",
          "data": {
            "text/plain": [
              "loan_id                              int64\n",
              "loan_name                           object\n",
              "original_language                   object\n",
              "description                         object\n",
              "description_translated              object\n",
              "funded_amount                      float64\n",
              "loan_amount                        float64\n",
              "status                              object\n",
              "activity_name                       object\n",
              "sector_name                         object\n",
              "loan_use                            object\n",
              "country_code                        object\n",
              "country_name                        object\n",
              "town_name                           object\n",
              "currency_policy                     object\n",
              "currency_exchange_coverage_rate    float64\n",
              "currency                            object\n",
              "partner_id                         float64\n",
              "posted_time                         object\n",
              "planned_expiration_time             object\n",
              "disburse_time                       object\n",
              "raised_time                         object\n",
              "lender_term                        float64\n",
              "num_lenders_total                    int64\n",
              "num_journal_entries                  int64\n",
              "num_bulk_entries                     int64\n",
              "tags                                object\n",
              "borrower_genders                    object\n",
              "borrower_pictured                   object\n",
              "repayment_interval                  object\n",
              "distribution_model                  object\n",
              "dtype: object"
            ]
          },
          "metadata": {
            "tags": []
          },
          "execution_count": 11
        },
        {
          "output_type": "stream",
          "text": [
            "time: 4.31 ms\n"
          ],
          "name": "stdout"
        }
      ]
    },
    {
      "cell_type": "code",
      "metadata": {
        "id": "64UhvtJ7BcV_",
        "outputId": "c2107f29-b2a5-4cae-9bbd-54d5990ae1cf",
        "colab": {
          "base_uri": "https://localhost:8080/",
          "height": 602
        }
      },
      "source": [
        "print('Number rows: '+str(len(loan)))\n",
        "loan.head()"
      ],
      "execution_count": 12,
      "outputs": [
        {
          "output_type": "stream",
          "text": [
            "Number rows: 1419607\n"
          ],
          "name": "stdout"
        },
        {
          "output_type": "execute_result",
          "data": {
            "text/html": [
              "<div>\n",
              "<style scoped>\n",
              "    .dataframe tbody tr th:only-of-type {\n",
              "        vertical-align: middle;\n",
              "    }\n",
              "\n",
              "    .dataframe tbody tr th {\n",
              "        vertical-align: top;\n",
              "    }\n",
              "\n",
              "    .dataframe thead th {\n",
              "        text-align: right;\n",
              "    }\n",
              "</style>\n",
              "<table border=\"1\" class=\"dataframe\">\n",
              "  <thead>\n",
              "    <tr style=\"text-align: right;\">\n",
              "      <th></th>\n",
              "      <th>loan_id</th>\n",
              "      <th>loan_name</th>\n",
              "      <th>original_language</th>\n",
              "      <th>description</th>\n",
              "      <th>description_translated</th>\n",
              "      <th>funded_amount</th>\n",
              "      <th>loan_amount</th>\n",
              "      <th>status</th>\n",
              "      <th>activity_name</th>\n",
              "      <th>sector_name</th>\n",
              "      <th>loan_use</th>\n",
              "      <th>country_code</th>\n",
              "      <th>country_name</th>\n",
              "      <th>town_name</th>\n",
              "      <th>currency_policy</th>\n",
              "      <th>currency_exchange_coverage_rate</th>\n",
              "      <th>currency</th>\n",
              "      <th>partner_id</th>\n",
              "      <th>posted_time</th>\n",
              "      <th>planned_expiration_time</th>\n",
              "      <th>disburse_time</th>\n",
              "      <th>raised_time</th>\n",
              "      <th>lender_term</th>\n",
              "      <th>num_lenders_total</th>\n",
              "      <th>num_journal_entries</th>\n",
              "      <th>num_bulk_entries</th>\n",
              "      <th>tags</th>\n",
              "      <th>borrower_genders</th>\n",
              "      <th>borrower_pictured</th>\n",
              "      <th>repayment_interval</th>\n",
              "      <th>distribution_model</th>\n",
              "    </tr>\n",
              "  </thead>\n",
              "  <tbody>\n",
              "    <tr>\n",
              "      <th>0</th>\n",
              "      <td>657307</td>\n",
              "      <td>Aivy</td>\n",
              "      <td>English</td>\n",
              "      <td>Aivy, 21 years of age, is single and lives in ...</td>\n",
              "      <td>NaN</td>\n",
              "      <td>125.0</td>\n",
              "      <td>125.0</td>\n",
              "      <td>funded</td>\n",
              "      <td>General Store</td>\n",
              "      <td>Retail</td>\n",
              "      <td>to buy additional inventories for her sari-sa...</td>\n",
              "      <td>PH</td>\n",
              "      <td>Philippines</td>\n",
              "      <td>Ozamiz - Ozamiz City</td>\n",
              "      <td>shared</td>\n",
              "      <td>0.1</td>\n",
              "      <td>PHP</td>\n",
              "      <td>126.0</td>\n",
              "      <td>2014-01-15 02:23:45.000 +0000</td>\n",
              "      <td>2014-02-14 03:30:06.000 +0000</td>\n",
              "      <td>2013-12-22 08:00:00.000 +0000</td>\n",
              "      <td>2014-01-15 04:48:22.000 +0000</td>\n",
              "      <td>7.0</td>\n",
              "      <td>3</td>\n",
              "      <td>2</td>\n",
              "      <td>1</td>\n",
              "      <td>NaN</td>\n",
              "      <td>female</td>\n",
              "      <td>true</td>\n",
              "      <td>irregular</td>\n",
              "      <td>field_partner</td>\n",
              "    </tr>\n",
              "    <tr>\n",
              "      <th>1</th>\n",
              "      <td>657259</td>\n",
              "      <td>Idalia Marizza</td>\n",
              "      <td>Spanish</td>\n",
              "      <td>Doña Idalia, esta casada, tiene 57 años de eda...</td>\n",
              "      <td>Idalia, 57, is married and lives with her husb...</td>\n",
              "      <td>400.0</td>\n",
              "      <td>400.0</td>\n",
              "      <td>funded</td>\n",
              "      <td>Used Clothing</td>\n",
              "      <td>Clothing</td>\n",
              "      <td>To buy American clothing such as blouses, shir...</td>\n",
              "      <td>HN</td>\n",
              "      <td>Honduras</td>\n",
              "      <td>La Lopez, Choloma</td>\n",
              "      <td>shared</td>\n",
              "      <td>0.1</td>\n",
              "      <td>HNL</td>\n",
              "      <td>201.0</td>\n",
              "      <td>2014-01-14 20:23:20.000 +0000</td>\n",
              "      <td>2014-03-26 22:25:07.000 +0000</td>\n",
              "      <td>2013-12-20 08:00:00.000 +0000</td>\n",
              "      <td>2014-02-25 06:42:06.000 +0000</td>\n",
              "      <td>8.0</td>\n",
              "      <td>11</td>\n",
              "      <td>2</td>\n",
              "      <td>1</td>\n",
              "      <td>NaN</td>\n",
              "      <td>female</td>\n",
              "      <td>true</td>\n",
              "      <td>monthly</td>\n",
              "      <td>field_partner</td>\n",
              "    </tr>\n",
              "    <tr>\n",
              "      <th>2</th>\n",
              "      <td>658010</td>\n",
              "      <td>Aasia</td>\n",
              "      <td>English</td>\n",
              "      <td>Aasia is a 45-year-old married lady and she ha...</td>\n",
              "      <td>NaN</td>\n",
              "      <td>400.0</td>\n",
              "      <td>400.0</td>\n",
              "      <td>funded</td>\n",
              "      <td>General Store</td>\n",
              "      <td>Retail</td>\n",
              "      <td>to buy stock of rice, sugar and flour</td>\n",
              "      <td>PK</td>\n",
              "      <td>Pakistan</td>\n",
              "      <td>Lala Musa</td>\n",
              "      <td>shared</td>\n",
              "      <td>0.1</td>\n",
              "      <td>PKR</td>\n",
              "      <td>245.0</td>\n",
              "      <td>2014-01-16 11:32:58.000 +0000</td>\n",
              "      <td>2014-02-15 21:10:05.000 +0000</td>\n",
              "      <td>2014-01-09 08:00:00.000 +0000</td>\n",
              "      <td>2014-01-24 23:06:18.000 +0000</td>\n",
              "      <td>14.0</td>\n",
              "      <td>16</td>\n",
              "      <td>2</td>\n",
              "      <td>1</td>\n",
              "      <td>#Woman Owned Biz, #Supporting Family, user_fav...</td>\n",
              "      <td>female</td>\n",
              "      <td>true</td>\n",
              "      <td>monthly</td>\n",
              "      <td>field_partner</td>\n",
              "    </tr>\n",
              "    <tr>\n",
              "      <th>3</th>\n",
              "      <td>659347</td>\n",
              "      <td>Gulmira</td>\n",
              "      <td>Russian</td>\n",
              "      <td>Гулмире 36 лет, замужем, вместе с супругом вос...</td>\n",
              "      <td>Gulmira is 36 years old and married.  She and ...</td>\n",
              "      <td>625.0</td>\n",
              "      <td>625.0</td>\n",
              "      <td>funded</td>\n",
              "      <td>Farming</td>\n",
              "      <td>Agriculture</td>\n",
              "      <td>to buy cucumber and tomato seeds, as well as f...</td>\n",
              "      <td>KG</td>\n",
              "      <td>Kyrgyzstan</td>\n",
              "      <td>Aravan village, Osh region</td>\n",
              "      <td>shared</td>\n",
              "      <td>0.1</td>\n",
              "      <td>KGS</td>\n",
              "      <td>171.0</td>\n",
              "      <td>2014-01-20 09:59:48.000 +0000</td>\n",
              "      <td>2014-02-21 03:10:02.000 +0000</td>\n",
              "      <td>2014-01-17 08:00:00.000 +0000</td>\n",
              "      <td>2014-01-22 05:29:28.000 +0000</td>\n",
              "      <td>14.0</td>\n",
              "      <td>21</td>\n",
              "      <td>2</td>\n",
              "      <td>1</td>\n",
              "      <td>user_favorite</td>\n",
              "      <td>female</td>\n",
              "      <td>true</td>\n",
              "      <td>monthly</td>\n",
              "      <td>field_partner</td>\n",
              "    </tr>\n",
              "    <tr>\n",
              "      <th>4</th>\n",
              "      <td>656933</td>\n",
              "      <td>Ricky\\t</td>\n",
              "      <td>English</td>\n",
              "      <td>Ricky is a farmer who currently cultivates his...</td>\n",
              "      <td>NaN</td>\n",
              "      <td>425.0</td>\n",
              "      <td>425.0</td>\n",
              "      <td>funded</td>\n",
              "      <td>Farming</td>\n",
              "      <td>Agriculture</td>\n",
              "      <td>to buy organic fertilizer and agrochemical pr...</td>\n",
              "      <td>PH</td>\n",
              "      <td>Philippines</td>\n",
              "      <td>Baleleng, Sto. Thomas, Isabela</td>\n",
              "      <td>shared</td>\n",
              "      <td>0.1</td>\n",
              "      <td>PHP</td>\n",
              "      <td>123.0</td>\n",
              "      <td>2014-01-14 05:46:21.000 +0000</td>\n",
              "      <td>2014-02-13 06:10:02.000 +0000</td>\n",
              "      <td>2013-12-17 08:00:00.000 +0000</td>\n",
              "      <td>2014-01-14 17:29:27.000 +0000</td>\n",
              "      <td>7.0</td>\n",
              "      <td>15</td>\n",
              "      <td>2</td>\n",
              "      <td>1</td>\n",
              "      <td>#Animals, #Eco-friendly, #Sustainable Ag</td>\n",
              "      <td>male</td>\n",
              "      <td>true</td>\n",
              "      <td>bullet</td>\n",
              "      <td>field_partner</td>\n",
              "    </tr>\n",
              "  </tbody>\n",
              "</table>\n",
              "</div>"
            ],
            "text/plain": [
              "   loan_id       loan_name  ... repayment_interval distribution_model\n",
              "0   657307            Aivy  ...          irregular      field_partner\n",
              "1   657259  Idalia Marizza  ...            monthly      field_partner\n",
              "2   658010           Aasia  ...            monthly      field_partner\n",
              "3   659347         Gulmira  ...            monthly      field_partner\n",
              "4   656933         Ricky\\t  ...             bullet      field_partner\n",
              "\n",
              "[5 rows x 31 columns]"
            ]
          },
          "metadata": {
            "tags": []
          },
          "execution_count": 12
        },
        {
          "output_type": "stream",
          "text": [
            "time: 58 ms\n"
          ],
          "name": "stdout"
        }
      ]
    },
    {
      "cell_type": "markdown",
      "metadata": {
        "id": "J-5FlPjEooYP"
      },
      "source": [
        "### Check missing values"
      ]
    },
    {
      "cell_type": "code",
      "metadata": {
        "id": "cZCHUpNRarl2",
        "outputId": "700f3579-4991-4148-da9e-4fb5eb772456",
        "colab": {
          "base_uri": "https://localhost:8080/",
          "height": 34
        }
      },
      "source": [
        "missing_loan_expiration = pd.isnull(loan[['planned_expiration_time']])\n",
        "missing_loan_disburse = pd.isnull(loan[['disburse_time']])"
      ],
      "execution_count": 13,
      "outputs": [
        {
          "output_type": "stream",
          "text": [
            "time: 158 ms\n"
          ],
          "name": "stdout"
        }
      ]
    },
    {
      "cell_type": "code",
      "metadata": {
        "id": "K39I0iLPREhe",
        "outputId": "b38cd457-f495-4c25-cfb0-95e90b8c422e",
        "colab": {
          "base_uri": "https://localhost:8080/",
          "height": 34
        }
      },
      "source": [
        "missing_loan_index_e = missing_loan_expiration[missing_loan_expiration['planned_expiration_time']==True].index\n",
        "missing_loan_index_d = missing_loan_disburse[missing_loan_disburse['disburse_time']==True].index"
      ],
      "execution_count": 14,
      "outputs": [
        {
          "output_type": "stream",
          "text": [
            "time: 151 ms\n"
          ],
          "name": "stdout"
        }
      ]
    },
    {
      "cell_type": "code",
      "metadata": {
        "id": "xL_ZQf3sV72I",
        "outputId": "c0a47a75-2058-4966-aca6-5c4daa3c661b",
        "colab": {
          "base_uri": "https://localhost:8080/",
          "height": 67
        }
      },
      "source": [
        "print('Number rows missing values planned_expiration_time: '+str(len(missing_loan_index_e)))\n",
        "print('Number rows missing values disburse_time: '+str(len(missing_loan_index_d)))"
      ],
      "execution_count": 15,
      "outputs": [
        {
          "output_type": "stream",
          "text": [
            "Number rows missing values planned_expiration_time: 371834\n",
            "Number rows missing values disburse_time: 2813\n",
            "time: 1.45 ms\n"
          ],
          "name": "stdout"
        }
      ]
    },
    {
      "cell_type": "code",
      "metadata": {
        "id": "oRZtAejQRo-U",
        "outputId": "2b338f62-b688-494e-a9b2-371d10d6b06a",
        "colab": {
          "base_uri": "https://localhost:8080/",
          "height": 34
        }
      },
      "source": [
        "missing_loan_index = missing_loan_index_e.union(missing_loan_index_d) #union indici nan disburse e nan expiration"
      ],
      "execution_count": 16,
      "outputs": [
        {
          "output_type": "stream",
          "text": [
            "time: 6.77 ms\n"
          ],
          "name": "stdout"
        }
      ]
    },
    {
      "cell_type": "code",
      "metadata": {
        "id": "n9ejOsHWFp4a",
        "outputId": "cc353ebb-5b51-4536-9466-9109bfb1baf8",
        "colab": {
          "base_uri": "https://localhost:8080/",
          "height": 67
        }
      },
      "source": [
        "missing = loan.loc[missing_loan_index]\n",
        "print('Number missing: '+str(len(missing)))\n",
        "print('Ratio missing: '+str(len(missing) / len(loan)))"
      ],
      "execution_count": 17,
      "outputs": [
        {
          "output_type": "stream",
          "text": [
            "Number missing: 374645\n",
            "Ratio missing: 0.26390754624343216\n",
            "time: 376 ms\n"
          ],
          "name": "stdout"
        }
      ]
    },
    {
      "cell_type": "markdown",
      "metadata": {
        "id": "VCwDEftFpehQ"
      },
      "source": [
        "### Conversion attributes _planned_expiration_time_, _disburse_time_ to _Datetime_"
      ]
    },
    {
      "cell_type": "code",
      "metadata": {
        "id": "ojZHY5BZgzAY",
        "outputId": "df54d91f-9bc2-4e76-f9ba-9d054eafe2d0",
        "colab": {
          "base_uri": "https://localhost:8080/",
          "height": 34
        }
      },
      "source": [
        "loan['planned_expiration_time'] = pd.to_datetime(loan.loc[:,'planned_expiration_time'])\n",
        "loan['disburse_time'] = pd.to_datetime(loan.loc[:,'disburse_time'])"
      ],
      "execution_count": 18,
      "outputs": [
        {
          "output_type": "stream",
          "text": [
            "time: 1.59 s\n"
          ],
          "name": "stdout"
        }
      ]
    },
    {
      "cell_type": "markdown",
      "metadata": {
        "id": "WWhangtDfGEA"
      },
      "source": [
        "### Compute difference between _planned_expiration_time_ and _disburse_time_"
      ]
    },
    {
      "cell_type": "code",
      "metadata": {
        "id": "7OFOFc7ehLd1",
        "outputId": "0d1b1147-ef07-40c7-822e-c2bccb625ab6",
        "colab": {
          "base_uri": "https://localhost:8080/",
          "height": 34
        }
      },
      "source": [
        "loan['duration'] = loan['planned_expiration_time']- loan['disburse_time'] #si ottiene oggetto timedelta"
      ],
      "execution_count": 19,
      "outputs": [
        {
          "output_type": "stream",
          "text": [
            "time: 34.7 ms\n"
          ],
          "name": "stdout"
        }
      ]
    },
    {
      "cell_type": "code",
      "metadata": {
        "id": "ciCJMVX5m0uk",
        "outputId": "161ac5b4-a354-4220-a010-4d0c9875050b",
        "colab": {
          "base_uri": "https://localhost:8080/",
          "height": 34
        }
      },
      "source": [
        "loan['duration'] = loan.apply(lambda x: x['duration'].days,axis=1)"
      ],
      "execution_count": 20,
      "outputs": [
        {
          "output_type": "stream",
          "text": [
            "time: 35 s\n"
          ],
          "name": "stdout"
        }
      ]
    },
    {
      "cell_type": "markdown",
      "metadata": {
        "id": "v1E4esXdQzYj"
      },
      "source": [
        "### _Result_"
      ]
    },
    {
      "cell_type": "code",
      "metadata": {
        "id": "ksaM8dHyycQk",
        "outputId": "e471f8ce-84f4-45e2-83cb-2ea5cab632d8",
        "colab": {
          "base_uri": "https://localhost:8080/",
          "height": 212
        }
      },
      "source": [
        "loan.head()[['planned_expiration_time','disburse_time','duration']]"
      ],
      "execution_count": 21,
      "outputs": [
        {
          "output_type": "execute_result",
          "data": {
            "text/html": [
              "<div>\n",
              "<style scoped>\n",
              "    .dataframe tbody tr th:only-of-type {\n",
              "        vertical-align: middle;\n",
              "    }\n",
              "\n",
              "    .dataframe tbody tr th {\n",
              "        vertical-align: top;\n",
              "    }\n",
              "\n",
              "    .dataframe thead th {\n",
              "        text-align: right;\n",
              "    }\n",
              "</style>\n",
              "<table border=\"1\" class=\"dataframe\">\n",
              "  <thead>\n",
              "    <tr style=\"text-align: right;\">\n",
              "      <th></th>\n",
              "      <th>planned_expiration_time</th>\n",
              "      <th>disburse_time</th>\n",
              "      <th>duration</th>\n",
              "    </tr>\n",
              "  </thead>\n",
              "  <tbody>\n",
              "    <tr>\n",
              "      <th>0</th>\n",
              "      <td>2014-02-14 03:30:06+00:00</td>\n",
              "      <td>2013-12-22 08:00:00+00:00</td>\n",
              "      <td>53.0</td>\n",
              "    </tr>\n",
              "    <tr>\n",
              "      <th>1</th>\n",
              "      <td>2014-03-26 22:25:07+00:00</td>\n",
              "      <td>2013-12-20 08:00:00+00:00</td>\n",
              "      <td>96.0</td>\n",
              "    </tr>\n",
              "    <tr>\n",
              "      <th>2</th>\n",
              "      <td>2014-02-15 21:10:05+00:00</td>\n",
              "      <td>2014-01-09 08:00:00+00:00</td>\n",
              "      <td>37.0</td>\n",
              "    </tr>\n",
              "    <tr>\n",
              "      <th>3</th>\n",
              "      <td>2014-02-21 03:10:02+00:00</td>\n",
              "      <td>2014-01-17 08:00:00+00:00</td>\n",
              "      <td>34.0</td>\n",
              "    </tr>\n",
              "    <tr>\n",
              "      <th>4</th>\n",
              "      <td>2014-02-13 06:10:02+00:00</td>\n",
              "      <td>2013-12-17 08:00:00+00:00</td>\n",
              "      <td>57.0</td>\n",
              "    </tr>\n",
              "  </tbody>\n",
              "</table>\n",
              "</div>"
            ],
            "text/plain": [
              "    planned_expiration_time             disburse_time  duration\n",
              "0 2014-02-14 03:30:06+00:00 2013-12-22 08:00:00+00:00      53.0\n",
              "1 2014-03-26 22:25:07+00:00 2013-12-20 08:00:00+00:00      96.0\n",
              "2 2014-02-15 21:10:05+00:00 2014-01-09 08:00:00+00:00      37.0\n",
              "3 2014-02-21 03:10:02+00:00 2014-01-17 08:00:00+00:00      34.0\n",
              "4 2014-02-13 06:10:02+00:00 2013-12-17 08:00:00+00:00      57.0"
            ]
          },
          "metadata": {
            "tags": []
          },
          "execution_count": 21
        },
        {
          "output_type": "stream",
          "text": [
            "time: 13.9 ms\n"
          ],
          "name": "stdout"
        }
      ]
    },
    {
      "cell_type": "code",
      "metadata": {
        "id": "zRokw7YFYAxm",
        "outputId": "9164a1c3-46be-4767-8ad6-ca248845430a",
        "colab": {
          "base_uri": "https://localhost:8080/",
          "height": 418
        }
      },
      "source": [
        "loan.loc[missing_loan_index][['planned_expiration_time','disburse_time','duration']]"
      ],
      "execution_count": 22,
      "outputs": [
        {
          "output_type": "execute_result",
          "data": {
            "text/html": [
              "<div>\n",
              "<style scoped>\n",
              "    .dataframe tbody tr th:only-of-type {\n",
              "        vertical-align: middle;\n",
              "    }\n",
              "\n",
              "    .dataframe tbody tr th {\n",
              "        vertical-align: top;\n",
              "    }\n",
              "\n",
              "    .dataframe thead th {\n",
              "        text-align: right;\n",
              "    }\n",
              "</style>\n",
              "<table border=\"1\" class=\"dataframe\">\n",
              "  <thead>\n",
              "    <tr style=\"text-align: right;\">\n",
              "      <th></th>\n",
              "      <th>planned_expiration_time</th>\n",
              "      <th>disburse_time</th>\n",
              "      <th>duration</th>\n",
              "    </tr>\n",
              "  </thead>\n",
              "  <tbody>\n",
              "    <tr>\n",
              "      <th>64</th>\n",
              "      <td>NaT</td>\n",
              "      <td>2010-11-18 08:00:00+00:00</td>\n",
              "      <td>NaN</td>\n",
              "    </tr>\n",
              "    <tr>\n",
              "      <th>65</th>\n",
              "      <td>NaT</td>\n",
              "      <td>2010-11-25 08:00:00+00:00</td>\n",
              "      <td>NaN</td>\n",
              "    </tr>\n",
              "    <tr>\n",
              "      <th>66</th>\n",
              "      <td>NaT</td>\n",
              "      <td>2010-11-25 08:00:00+00:00</td>\n",
              "      <td>NaN</td>\n",
              "    </tr>\n",
              "    <tr>\n",
              "      <th>67</th>\n",
              "      <td>NaT</td>\n",
              "      <td>2010-11-16 08:00:00+00:00</td>\n",
              "      <td>NaN</td>\n",
              "    </tr>\n",
              "    <tr>\n",
              "      <th>69</th>\n",
              "      <td>NaT</td>\n",
              "      <td>2010-11-10 08:00:00+00:00</td>\n",
              "      <td>NaN</td>\n",
              "    </tr>\n",
              "    <tr>\n",
              "      <th>...</th>\n",
              "      <td>...</td>\n",
              "      <td>...</td>\n",
              "      <td>...</td>\n",
              "    </tr>\n",
              "    <tr>\n",
              "      <th>1419523</th>\n",
              "      <td>NaT</td>\n",
              "      <td>2005-04-14 05:27:55+00:00</td>\n",
              "      <td>NaN</td>\n",
              "    </tr>\n",
              "    <tr>\n",
              "      <th>1419524</th>\n",
              "      <td>2017-02-09 23:07:54+00:00</td>\n",
              "      <td>NaT</td>\n",
              "      <td>NaN</td>\n",
              "    </tr>\n",
              "    <tr>\n",
              "      <th>1419525</th>\n",
              "      <td>2015-09-21 08:06:19+00:00</td>\n",
              "      <td>NaT</td>\n",
              "      <td>NaN</td>\n",
              "    </tr>\n",
              "    <tr>\n",
              "      <th>1419538</th>\n",
              "      <td>2017-02-25 20:21:21+00:00</td>\n",
              "      <td>NaT</td>\n",
              "      <td>NaN</td>\n",
              "    </tr>\n",
              "    <tr>\n",
              "      <th>1419564</th>\n",
              "      <td>2016-09-30 18:49:53+00:00</td>\n",
              "      <td>NaT</td>\n",
              "      <td>NaN</td>\n",
              "    </tr>\n",
              "  </tbody>\n",
              "</table>\n",
              "<p>374645 rows × 3 columns</p>\n",
              "</div>"
            ],
            "text/plain": [
              "          planned_expiration_time             disburse_time  duration\n",
              "64                            NaT 2010-11-18 08:00:00+00:00       NaN\n",
              "65                            NaT 2010-11-25 08:00:00+00:00       NaN\n",
              "66                            NaT 2010-11-25 08:00:00+00:00       NaN\n",
              "67                            NaT 2010-11-16 08:00:00+00:00       NaN\n",
              "69                            NaT 2010-11-10 08:00:00+00:00       NaN\n",
              "...                           ...                       ...       ...\n",
              "1419523                       NaT 2005-04-14 05:27:55+00:00       NaN\n",
              "1419524 2017-02-09 23:07:54+00:00                       NaT       NaN\n",
              "1419525 2015-09-21 08:06:19+00:00                       NaT       NaN\n",
              "1419538 2017-02-25 20:21:21+00:00                       NaT       NaN\n",
              "1419564 2016-09-30 18:49:53+00:00                       NaT       NaN\n",
              "\n",
              "[374645 rows x 3 columns]"
            ]
          },
          "metadata": {
            "tags": []
          },
          "execution_count": 22
        },
        {
          "output_type": "stream",
          "text": [
            "time: 250 ms\n"
          ],
          "name": "stdout"
        }
      ]
    },
    {
      "cell_type": "markdown",
      "metadata": {
        "id": "eo2kVaCZKR_g"
      },
      "source": [
        "## Task 3\n",
        "- Find the lenders that have funded at least twice"
      ]
    },
    {
      "cell_type": "code",
      "metadata": {
        "id": "4bPS04EKfGF7",
        "outputId": "664c793f-53b3-4070-d7c4-1983cbdf4bcc",
        "colab": {
          "base_uri": "https://localhost:8080/",
          "height": 34
        }
      },
      "source": [
        "numberfunded_lenders = loans_lender_norm.groupby('lenders')['loan_id'].count()\n",
        "numberfunded_lenders = pd.DataFrame(numberfunded_lenders).reset_index(drop=False)"
      ],
      "execution_count": 23,
      "outputs": [
        {
          "output_type": "stream",
          "text": [
            "time: 12.3 s\n"
          ],
          "name": "stdout"
        }
      ]
    },
    {
      "cell_type": "markdown",
      "metadata": {
        "id": "70Im_Tbx0JsK"
      },
      "source": [
        "### Apply constraint after group by "
      ]
    },
    {
      "cell_type": "code",
      "metadata": {
        "id": "7ZKXfIhsdDxr",
        "outputId": "f645f74d-ab94-4896-c643-e600d786aaa5",
        "colab": {
          "base_uri": "https://localhost:8080/",
          "height": 34
        }
      },
      "source": [
        "numberfunded_lenders.rename(columns={'loan_id': 'count'},inplace=True)\n",
        "numberfunded_lenders = numberfunded_lenders[numberfunded_lenders['count']>=2]"
      ],
      "execution_count": 24,
      "outputs": [
        {
          "output_type": "stream",
          "text": [
            "time: 146 ms\n"
          ],
          "name": "stdout"
        }
      ]
    },
    {
      "cell_type": "markdown",
      "metadata": {
        "id": "Z9WMYaSl2-gH"
      },
      "source": [
        "### _Result_"
      ]
    },
    {
      "cell_type": "code",
      "metadata": {
        "id": "1tVLRNMGeBnn",
        "outputId": "1bd3765b-2c27-4224-b765-7ea059a99f15",
        "colab": {
          "base_uri": "https://localhost:8080/",
          "height": 212
        }
      },
      "source": [
        "numberfunded_lenders.head()"
      ],
      "execution_count": 25,
      "outputs": [
        {
          "output_type": "execute_result",
          "data": {
            "text/html": [
              "<div>\n",
              "<style scoped>\n",
              "    .dataframe tbody tr th:only-of-type {\n",
              "        vertical-align: middle;\n",
              "    }\n",
              "\n",
              "    .dataframe tbody tr th {\n",
              "        vertical-align: top;\n",
              "    }\n",
              "\n",
              "    .dataframe thead th {\n",
              "        text-align: right;\n",
              "    }\n",
              "</style>\n",
              "<table border=\"1\" class=\"dataframe\">\n",
              "  <thead>\n",
              "    <tr style=\"text-align: right;\">\n",
              "      <th></th>\n",
              "      <th>lenders</th>\n",
              "      <th>count</th>\n",
              "    </tr>\n",
              "  </thead>\n",
              "  <tbody>\n",
              "    <tr>\n",
              "      <th>0</th>\n",
              "      <td>000</td>\n",
              "      <td>40</td>\n",
              "    </tr>\n",
              "    <tr>\n",
              "      <th>1</th>\n",
              "      <td>00000</td>\n",
              "      <td>39</td>\n",
              "    </tr>\n",
              "    <tr>\n",
              "      <th>2</th>\n",
              "      <td>0002</td>\n",
              "      <td>70</td>\n",
              "    </tr>\n",
              "    <tr>\n",
              "      <th>4</th>\n",
              "      <td>0101craign0101</td>\n",
              "      <td>71</td>\n",
              "    </tr>\n",
              "    <tr>\n",
              "      <th>5</th>\n",
              "      <td>0132575</td>\n",
              "      <td>4</td>\n",
              "    </tr>\n",
              "  </tbody>\n",
              "</table>\n",
              "</div>"
            ],
            "text/plain": [
              "          lenders  count\n",
              "0             000     40\n",
              "1           00000     39\n",
              "2            0002     70\n",
              "4  0101craign0101     71\n",
              "5         0132575      4"
            ]
          },
          "metadata": {
            "tags": []
          },
          "execution_count": 25
        },
        {
          "output_type": "stream",
          "text": [
            "time: 9.76 ms\n"
          ],
          "name": "stdout"
        }
      ]
    },
    {
      "cell_type": "markdown",
      "metadata": {
        "id": "3m78erQM3Nj0"
      },
      "source": [
        "## Task 4\n",
        "- For each country, compute how many loans have involved that country as borrowers."
      ]
    },
    {
      "cell_type": "markdown",
      "metadata": {
        "id": "QfLNnBktD9PZ"
      },
      "source": [
        "### Check missing values"
      ]
    },
    {
      "cell_type": "code",
      "metadata": {
        "id": "BFKmfgGp9Ii4",
        "outputId": "961c2d2b-6a09-49b0-dd4b-4f3f1c824297",
        "colab": {
          "base_uri": "https://localhost:8080/",
          "height": 64
        }
      },
      "source": [
        "missing_name = pd.isnull(loan[['country_name']])\n",
        "missing_name[missing_name['country_name']==True]"
      ],
      "execution_count": 26,
      "outputs": [
        {
          "output_type": "execute_result",
          "data": {
            "text/html": [
              "<div>\n",
              "<style scoped>\n",
              "    .dataframe tbody tr th:only-of-type {\n",
              "        vertical-align: middle;\n",
              "    }\n",
              "\n",
              "    .dataframe tbody tr th {\n",
              "        vertical-align: top;\n",
              "    }\n",
              "\n",
              "    .dataframe thead th {\n",
              "        text-align: right;\n",
              "    }\n",
              "</style>\n",
              "<table border=\"1\" class=\"dataframe\">\n",
              "  <thead>\n",
              "    <tr style=\"text-align: right;\">\n",
              "      <th></th>\n",
              "      <th>country_name</th>\n",
              "    </tr>\n",
              "  </thead>\n",
              "  <tbody>\n",
              "  </tbody>\n",
              "</table>\n",
              "</div>"
            ],
            "text/plain": [
              "Empty DataFrame\n",
              "Columns: [country_name]\n",
              "Index: []"
            ]
          },
          "metadata": {
            "tags": []
          },
          "execution_count": 26
        },
        {
          "output_type": "stream",
          "text": [
            "time: 81.3 ms\n"
          ],
          "name": "stdout"
        }
      ]
    },
    {
      "cell_type": "code",
      "metadata": {
        "id": "T5ah4Q3Ljvwo",
        "outputId": "d1cd6ef3-9b37-4322-f8a6-318ee6c1b93f",
        "colab": {
          "base_uri": "https://localhost:8080/",
          "height": 67
        }
      },
      "source": [
        "missing_code = pd.isnull(loan[['country_code']])\n",
        "index_code = missing_code[missing_code['country_code']==True].index\n",
        "index_code"
      ],
      "execution_count": 27,
      "outputs": [
        {
          "output_type": "execute_result",
          "data": {
            "text/plain": [
              "Int64Index([82889, 156970, 598087, 684876, 971827, 1134818, 1214923, 1281022,\n",
              "            1415763],\n",
              "           dtype='int64')"
            ]
          },
          "metadata": {
            "tags": []
          },
          "execution_count": 27
        },
        {
          "output_type": "stream",
          "text": [
            "time: 78.7 ms\n"
          ],
          "name": "stdout"
        }
      ]
    },
    {
      "cell_type": "markdown",
      "metadata": {
        "id": "i7Nvn5Akz1wv"
      },
      "source": [
        "### Replace missing values with manual imputation"
      ]
    },
    {
      "cell_type": "code",
      "metadata": {
        "id": "TzuCM46Q0R3V",
        "outputId": "332ab280-2900-4d7b-bc3a-7b3fce4ba34b",
        "colab": {
          "base_uri": "https://localhost:8080/",
          "height": 185
        }
      },
      "source": [
        "loan.loc[index_code]['country_name']"
      ],
      "execution_count": 28,
      "outputs": [
        {
          "output_type": "execute_result",
          "data": {
            "text/plain": [
              "82889      Namibia\n",
              "156970     Namibia\n",
              "598087     Namibia\n",
              "684876     Namibia\n",
              "971827     Namibia\n",
              "1134818    Namibia\n",
              "1214923    Namibia\n",
              "1281022    Namibia\n",
              "1415763    Namibia\n",
              "Name: country_name, dtype: object"
            ]
          },
          "metadata": {
            "tags": []
          },
          "execution_count": 28
        },
        {
          "output_type": "stream",
          "text": [
            "time: 5.41 ms\n"
          ],
          "name": "stdout"
        }
      ]
    },
    {
      "cell_type": "code",
      "metadata": {
        "id": "gw8gWEjxzmI_",
        "outputId": "b110676d-f004-419f-9cd5-3025cbafe256",
        "colab": {
          "base_uri": "https://localhost:8080/",
          "height": 34
        }
      },
      "source": [
        "loan['country_code'] = loan['country_code'].fillna('NA') #imputazione manuale (valore ottenuto da https://en.wikipedia.org/wiki/ISO_3166-1_alpha-2) "
      ],
      "execution_count": 29,
      "outputs": [
        {
          "output_type": "stream",
          "text": [
            "time: 81.6 ms\n"
          ],
          "name": "stdout"
        }
      ]
    },
    {
      "cell_type": "markdown",
      "metadata": {
        "id": "_tdNIZkiEjsp"
      },
      "source": [
        "### Compute calculation"
      ]
    },
    {
      "cell_type": "code",
      "metadata": {
        "id": "TsMVZZZUExNS",
        "outputId": "518fcbb8-1ede-4c93-8cb7-ed8b46241b0e",
        "colab": {
          "base_uri": "https://localhost:8080/",
          "height": 34
        }
      },
      "source": [
        "country_numberLoan = loan.groupby('country_code')['loan_id'].count()\n",
        "country_numberLoan = pd.DataFrame(country_numberLoan).reset_index(drop=False)\n",
        "country_numberLoan.rename(columns={'loan_id':'count'},inplace=True)"
      ],
      "execution_count": 30,
      "outputs": [
        {
          "output_type": "stream",
          "text": [
            "time: 84.7 ms\n"
          ],
          "name": "stdout"
        }
      ]
    },
    {
      "cell_type": "markdown",
      "metadata": {
        "id": "eRZgY4f0GH_W"
      },
      "source": [
        "### _Result_"
      ]
    },
    {
      "cell_type": "code",
      "metadata": {
        "id": "ziY0RfAbGJOJ",
        "outputId": "57a2a702-4c9f-454e-c148-8869d7c093b5",
        "colab": {
          "base_uri": "https://localhost:8080/",
          "height": 212
        }
      },
      "source": [
        "country_numberLoan.head()"
      ],
      "execution_count": 31,
      "outputs": [
        {
          "output_type": "execute_result",
          "data": {
            "text/html": [
              "<div>\n",
              "<style scoped>\n",
              "    .dataframe tbody tr th:only-of-type {\n",
              "        vertical-align: middle;\n",
              "    }\n",
              "\n",
              "    .dataframe tbody tr th {\n",
              "        vertical-align: top;\n",
              "    }\n",
              "\n",
              "    .dataframe thead th {\n",
              "        text-align: right;\n",
              "    }\n",
              "</style>\n",
              "<table border=\"1\" class=\"dataframe\">\n",
              "  <thead>\n",
              "    <tr style=\"text-align: right;\">\n",
              "      <th></th>\n",
              "      <th>country_code</th>\n",
              "      <th>count</th>\n",
              "    </tr>\n",
              "  </thead>\n",
              "  <tbody>\n",
              "    <tr>\n",
              "      <th>0</th>\n",
              "      <td>AF</td>\n",
              "      <td>2337</td>\n",
              "    </tr>\n",
              "    <tr>\n",
              "      <th>1</th>\n",
              "      <td>AL</td>\n",
              "      <td>3075</td>\n",
              "    </tr>\n",
              "    <tr>\n",
              "      <th>2</th>\n",
              "      <td>AM</td>\n",
              "      <td>13952</td>\n",
              "    </tr>\n",
              "    <tr>\n",
              "      <th>3</th>\n",
              "      <td>AZ</td>\n",
              "      <td>10172</td>\n",
              "    </tr>\n",
              "    <tr>\n",
              "      <th>4</th>\n",
              "      <td>BA</td>\n",
              "      <td>608</td>\n",
              "    </tr>\n",
              "  </tbody>\n",
              "</table>\n",
              "</div>"
            ],
            "text/plain": [
              "  country_code  count\n",
              "0           AF   2337\n",
              "1           AL   3075\n",
              "2           AM  13952\n",
              "3           AZ  10172\n",
              "4           BA    608"
            ]
          },
          "metadata": {
            "tags": []
          },
          "execution_count": 31
        },
        {
          "output_type": "stream",
          "text": [
            "time: 10.7 ms\n"
          ],
          "name": "stdout"
        }
      ]
    },
    {
      "cell_type": "markdown",
      "metadata": {
        "id": "p4fsZmbtT7FR"
      },
      "source": [
        "## Task 5\n",
        "- For each country, compute the overall amount of money borrowed."
      ]
    },
    {
      "cell_type": "code",
      "metadata": {
        "id": "jMLpkBfH75R0",
        "outputId": "fa6b7260-4699-47fe-88bd-34181f6448f1",
        "colab": {
          "base_uri": "https://localhost:8080/",
          "height": 448
        }
      },
      "source": [
        "check = loan[['country_code','currency','loan_id']]\n",
        "pd.DataFrame(check.groupby(['country_code','currency'])['loan_id'].count()) #motivo per cui non è stata considerata la valuta di ogni prestito"
      ],
      "execution_count": 32,
      "outputs": [
        {
          "output_type": "execute_result",
          "data": {
            "text/html": [
              "<div>\n",
              "<style scoped>\n",
              "    .dataframe tbody tr th:only-of-type {\n",
              "        vertical-align: middle;\n",
              "    }\n",
              "\n",
              "    .dataframe tbody tr th {\n",
              "        vertical-align: top;\n",
              "    }\n",
              "\n",
              "    .dataframe thead th {\n",
              "        text-align: right;\n",
              "    }\n",
              "</style>\n",
              "<table border=\"1\" class=\"dataframe\">\n",
              "  <thead>\n",
              "    <tr style=\"text-align: right;\">\n",
              "      <th></th>\n",
              "      <th></th>\n",
              "      <th>loan_id</th>\n",
              "    </tr>\n",
              "    <tr>\n",
              "      <th>country_code</th>\n",
              "      <th>currency</th>\n",
              "      <th></th>\n",
              "    </tr>\n",
              "  </thead>\n",
              "  <tbody>\n",
              "    <tr>\n",
              "      <th rowspan=\"2\" valign=\"top\">AF</th>\n",
              "      <th>AFN</th>\n",
              "      <td>1958</td>\n",
              "    </tr>\n",
              "    <tr>\n",
              "      <th>USD</th>\n",
              "      <td>379</td>\n",
              "    </tr>\n",
              "    <tr>\n",
              "      <th rowspan=\"3\" valign=\"top\">AL</th>\n",
              "      <th>ALL</th>\n",
              "      <td>3072</td>\n",
              "    </tr>\n",
              "    <tr>\n",
              "      <th>EUR</th>\n",
              "      <td>2</td>\n",
              "    </tr>\n",
              "    <tr>\n",
              "      <th>USD</th>\n",
              "      <td>1</td>\n",
              "    </tr>\n",
              "    <tr>\n",
              "      <th>...</th>\n",
              "      <th>...</th>\n",
              "      <td>...</td>\n",
              "    </tr>\n",
              "    <tr>\n",
              "      <th rowspan=\"3\" valign=\"top\">ZM</th>\n",
              "      <th>USD</th>\n",
              "      <td>22</td>\n",
              "    </tr>\n",
              "    <tr>\n",
              "      <th>ZMK</th>\n",
              "      <td>51</td>\n",
              "    </tr>\n",
              "    <tr>\n",
              "      <th>ZMW</th>\n",
              "      <td>1204</td>\n",
              "    </tr>\n",
              "    <tr>\n",
              "      <th rowspan=\"2\" valign=\"top\">ZW</th>\n",
              "      <th>USD</th>\n",
              "      <td>5511</td>\n",
              "    </tr>\n",
              "    <tr>\n",
              "      <th>ZWD</th>\n",
              "      <td>2</td>\n",
              "    </tr>\n",
              "  </tbody>\n",
              "</table>\n",
              "<p>163 rows × 1 columns</p>\n",
              "</div>"
            ],
            "text/plain": [
              "                       loan_id\n",
              "country_code currency         \n",
              "AF           AFN          1958\n",
              "             USD           379\n",
              "AL           ALL          3072\n",
              "             EUR             2\n",
              "             USD             1\n",
              "...                        ...\n",
              "ZM           USD            22\n",
              "             ZMK            51\n",
              "             ZMW          1204\n",
              "ZW           USD          5511\n",
              "             ZWD             2\n",
              "\n",
              "[163 rows x 1 columns]"
            ]
          },
          "metadata": {
            "tags": []
          },
          "execution_count": 32
        },
        {
          "output_type": "stream",
          "text": [
            "time: 220 ms\n"
          ],
          "name": "stdout"
        }
      ]
    },
    {
      "cell_type": "code",
      "metadata": {
        "id": "6MxOu0nQR9FF",
        "outputId": "07fcb037-a881-4f30-9fd9-3d82729c124f",
        "colab": {
          "base_uri": "https://localhost:8080/",
          "height": 34
        }
      },
      "source": [
        "loan_simplified = loan[['loan_id','country_code','disburse_time','planned_expiration_time',\n",
        "                                      'num_lenders_total','loan_amount']] #feature essenziali per risolvere gli altri task"
      ],
      "execution_count": 33,
      "outputs": [
        {
          "output_type": "stream",
          "text": [
            "time: 24 ms\n"
          ],
          "name": "stdout"
        }
      ]
    },
    {
      "cell_type": "markdown",
      "metadata": {
        "id": "olGHi4L7okqe"
      },
      "source": [
        "### Check missing values"
      ]
    },
    {
      "cell_type": "code",
      "metadata": {
        "id": "M5ctgIlXnYMM",
        "outputId": "a03543a9-72e2-42c0-f42a-93fa453e2d11",
        "colab": {
          "base_uri": "https://localhost:8080/",
          "height": 64
        }
      },
      "source": [
        "missing = pd.isnull(loan_simplified[['loan_amount']])\n",
        "missing[missing['loan_amount']==True]"
      ],
      "execution_count": 34,
      "outputs": [
        {
          "output_type": "execute_result",
          "data": {
            "text/html": [
              "<div>\n",
              "<style scoped>\n",
              "    .dataframe tbody tr th:only-of-type {\n",
              "        vertical-align: middle;\n",
              "    }\n",
              "\n",
              "    .dataframe tbody tr th {\n",
              "        vertical-align: top;\n",
              "    }\n",
              "\n",
              "    .dataframe thead th {\n",
              "        text-align: right;\n",
              "    }\n",
              "</style>\n",
              "<table border=\"1\" class=\"dataframe\">\n",
              "  <thead>\n",
              "    <tr style=\"text-align: right;\">\n",
              "      <th></th>\n",
              "      <th>loan_amount</th>\n",
              "    </tr>\n",
              "  </thead>\n",
              "  <tbody>\n",
              "  </tbody>\n",
              "</table>\n",
              "</div>"
            ],
            "text/plain": [
              "Empty DataFrame\n",
              "Columns: [loan_amount]\n",
              "Index: []"
            ]
          },
          "metadata": {
            "tags": []
          },
          "execution_count": 34
        },
        {
          "output_type": "stream",
          "text": [
            "time: 58.1 ms\n"
          ],
          "name": "stdout"
        }
      ]
    },
    {
      "cell_type": "markdown",
      "metadata": {
        "id": "1fvZRjgAT-EM"
      },
      "source": [
        "### Compute calculation"
      ]
    },
    {
      "cell_type": "code",
      "metadata": {
        "id": "UUjb_utHdjLh",
        "outputId": "f23aa41f-3ad6-4cdb-cd28-cdf21b90df22",
        "colab": {
          "base_uri": "https://localhost:8080/",
          "height": 34
        }
      },
      "source": [
        "country_amount_loan = loan_simplified.groupby('country_code')['loan_amount'].sum().reset_index()"
      ],
      "execution_count": 35,
      "outputs": [
        {
          "output_type": "stream",
          "text": [
            "time: 89.8 ms\n"
          ],
          "name": "stdout"
        }
      ]
    },
    {
      "cell_type": "markdown",
      "metadata": {
        "id": "B1-vzEGQWATQ"
      },
      "source": [
        "### _Result_"
      ]
    },
    {
      "cell_type": "code",
      "metadata": {
        "id": "gsXkIui62mOs",
        "outputId": "04faef8b-03d7-4ca3-f06d-5915ad51af30",
        "colab": {
          "base_uri": "https://localhost:8080/",
          "height": 212
        }
      },
      "source": [
        "country_amount_loan.head()"
      ],
      "execution_count": 36,
      "outputs": [
        {
          "output_type": "execute_result",
          "data": {
            "text/html": [
              "<div>\n",
              "<style scoped>\n",
              "    .dataframe tbody tr th:only-of-type {\n",
              "        vertical-align: middle;\n",
              "    }\n",
              "\n",
              "    .dataframe tbody tr th {\n",
              "        vertical-align: top;\n",
              "    }\n",
              "\n",
              "    .dataframe thead th {\n",
              "        text-align: right;\n",
              "    }\n",
              "</style>\n",
              "<table border=\"1\" class=\"dataframe\">\n",
              "  <thead>\n",
              "    <tr style=\"text-align: right;\">\n",
              "      <th></th>\n",
              "      <th>country_code</th>\n",
              "      <th>loan_amount</th>\n",
              "    </tr>\n",
              "  </thead>\n",
              "  <tbody>\n",
              "    <tr>\n",
              "      <th>0</th>\n",
              "      <td>AF</td>\n",
              "      <td>1967950.0</td>\n",
              "    </tr>\n",
              "    <tr>\n",
              "      <th>1</th>\n",
              "      <td>AL</td>\n",
              "      <td>4307350.0</td>\n",
              "    </tr>\n",
              "    <tr>\n",
              "      <th>2</th>\n",
              "      <td>AM</td>\n",
              "      <td>22950475.0</td>\n",
              "    </tr>\n",
              "    <tr>\n",
              "      <th>3</th>\n",
              "      <td>AZ</td>\n",
              "      <td>14784625.0</td>\n",
              "    </tr>\n",
              "    <tr>\n",
              "      <th>4</th>\n",
              "      <td>BA</td>\n",
              "      <td>477250.0</td>\n",
              "    </tr>\n",
              "  </tbody>\n",
              "</table>\n",
              "</div>"
            ],
            "text/plain": [
              "  country_code  loan_amount\n",
              "0           AF    1967950.0\n",
              "1           AL    4307350.0\n",
              "2           AM   22950475.0\n",
              "3           AZ   14784625.0\n",
              "4           BA     477250.0"
            ]
          },
          "metadata": {
            "tags": []
          },
          "execution_count": 36
        },
        {
          "output_type": "stream",
          "text": [
            "time: 10.2 ms\n"
          ],
          "name": "stdout"
        }
      ]
    },
    {
      "cell_type": "markdown",
      "metadata": {
        "id": "Kkmag5y2Whhi"
      },
      "source": [
        "## Task 6\n",
        "- Like the previous point, but expressed as a percentage of the overall amount lent."
      ]
    },
    {
      "cell_type": "code",
      "metadata": {
        "id": "gjnwWbopn2y1",
        "outputId": "74985c56-f5a3-447e-ee8d-1fdcea9b85e7",
        "colab": {
          "base_uri": "https://localhost:8080/",
          "height": 34
        }
      },
      "source": [
        "country_amount_loan_perc=country_amount_loan\n",
        "country_amount_loan.rename(columns={'loan_amount':'borrowed'},inplace=True)"
      ],
      "execution_count": 37,
      "outputs": [
        {
          "output_type": "stream",
          "text": [
            "time: 1.73 ms\n"
          ],
          "name": "stdout"
        }
      ]
    },
    {
      "cell_type": "markdown",
      "metadata": {
        "id": "13ISFmwc8EAL"
      },
      "source": [
        "### Compute ratio between total country and overall amount"
      ]
    },
    {
      "cell_type": "code",
      "metadata": {
        "id": "M89TfHxStNcI",
        "outputId": "88350238-c642-42cd-ab86-c500d0cbdcf6",
        "colab": {
          "base_uri": "https://localhost:8080/",
          "height": 34
        }
      },
      "source": [
        "total=country_amount_loan_perc['borrowed'].sum()\n",
        "country_amount_loan_perc['percentage']=round(country_amount_loan_perc['borrowed']/total*100,2)"
      ],
      "execution_count": 38,
      "outputs": [
        {
          "output_type": "stream",
          "text": [
            "time: 4.11 ms\n"
          ],
          "name": "stdout"
        }
      ]
    },
    {
      "cell_type": "markdown",
      "metadata": {
        "id": "xNgVeIqTufQK"
      },
      "source": [
        "### _Result_"
      ]
    },
    {
      "cell_type": "code",
      "metadata": {
        "id": "zyErEw0PugNt",
        "outputId": "a5ca760d-d5e2-4434-b93e-3eadcfc14299",
        "colab": {
          "base_uri": "https://localhost:8080/",
          "height": 212
        }
      },
      "source": [
        "country_amount_loan_perc[['country_code','percentage']].head()"
      ],
      "execution_count": 39,
      "outputs": [
        {
          "output_type": "execute_result",
          "data": {
            "text/html": [
              "<div>\n",
              "<style scoped>\n",
              "    .dataframe tbody tr th:only-of-type {\n",
              "        vertical-align: middle;\n",
              "    }\n",
              "\n",
              "    .dataframe tbody tr th {\n",
              "        vertical-align: top;\n",
              "    }\n",
              "\n",
              "    .dataframe thead th {\n",
              "        text-align: right;\n",
              "    }\n",
              "</style>\n",
              "<table border=\"1\" class=\"dataframe\">\n",
              "  <thead>\n",
              "    <tr style=\"text-align: right;\">\n",
              "      <th></th>\n",
              "      <th>country_code</th>\n",
              "      <th>percentage</th>\n",
              "    </tr>\n",
              "  </thead>\n",
              "  <tbody>\n",
              "    <tr>\n",
              "      <th>0</th>\n",
              "      <td>AF</td>\n",
              "      <td>0.17</td>\n",
              "    </tr>\n",
              "    <tr>\n",
              "      <th>1</th>\n",
              "      <td>AL</td>\n",
              "      <td>0.36</td>\n",
              "    </tr>\n",
              "    <tr>\n",
              "      <th>2</th>\n",
              "      <td>AM</td>\n",
              "      <td>1.94</td>\n",
              "    </tr>\n",
              "    <tr>\n",
              "      <th>3</th>\n",
              "      <td>AZ</td>\n",
              "      <td>1.25</td>\n",
              "    </tr>\n",
              "    <tr>\n",
              "      <th>4</th>\n",
              "      <td>BA</td>\n",
              "      <td>0.04</td>\n",
              "    </tr>\n",
              "  </tbody>\n",
              "</table>\n",
              "</div>"
            ],
            "text/plain": [
              "  country_code  percentage\n",
              "0           AF        0.17\n",
              "1           AL        0.36\n",
              "2           AM        1.94\n",
              "3           AZ        1.25\n",
              "4           BA        0.04"
            ]
          },
          "metadata": {
            "tags": []
          },
          "execution_count": 39
        },
        {
          "output_type": "stream",
          "text": [
            "time: 11.7 ms\n"
          ],
          "name": "stdout"
        }
      ]
    },
    {
      "cell_type": "markdown",
      "metadata": {
        "id": "jlNVlX6mGRVt"
      },
      "source": [
        "## Task 7\n",
        "- Like the three previous points, but split for each year (with respect to disburse time)."
      ]
    },
    {
      "cell_type": "markdown",
      "metadata": {
        "id": "PUvQ2XS7_mbn"
      },
      "source": [
        "### Check missing values"
      ]
    },
    {
      "cell_type": "code",
      "metadata": {
        "id": "u-1LWUIApUBs",
        "outputId": "3a32e7ba-41fa-4a56-de61-46fa61b953ca",
        "colab": {
          "base_uri": "https://localhost:8080/",
          "height": 418
        }
      },
      "source": [
        "loan_simplified.loc[missing_loan_index_d]"
      ],
      "execution_count": 40,
      "outputs": [
        {
          "output_type": "execute_result",
          "data": {
            "text/html": [
              "<div>\n",
              "<style scoped>\n",
              "    .dataframe tbody tr th:only-of-type {\n",
              "        vertical-align: middle;\n",
              "    }\n",
              "\n",
              "    .dataframe tbody tr th {\n",
              "        vertical-align: top;\n",
              "    }\n",
              "\n",
              "    .dataframe thead th {\n",
              "        text-align: right;\n",
              "    }\n",
              "</style>\n",
              "<table border=\"1\" class=\"dataframe\">\n",
              "  <thead>\n",
              "    <tr style=\"text-align: right;\">\n",
              "      <th></th>\n",
              "      <th>loan_id</th>\n",
              "      <th>country_code</th>\n",
              "      <th>disburse_time</th>\n",
              "      <th>planned_expiration_time</th>\n",
              "      <th>num_lenders_total</th>\n",
              "      <th>loan_amount</th>\n",
              "    </tr>\n",
              "  </thead>\n",
              "  <tbody>\n",
              "    <tr>\n",
              "      <th>31106</th>\n",
              "      <td>1379508</td>\n",
              "      <td>US</td>\n",
              "      <td>NaT</td>\n",
              "      <td>2017-12-06 16:41:36+00:00</td>\n",
              "      <td>2</td>\n",
              "      <td>1000.0</td>\n",
              "    </tr>\n",
              "    <tr>\n",
              "      <th>31107</th>\n",
              "      <td>1428617</td>\n",
              "      <td>US</td>\n",
              "      <td>NaT</td>\n",
              "      <td>2018-01-25 19:25:55+00:00</td>\n",
              "      <td>0</td>\n",
              "      <td>10000.0</td>\n",
              "    </tr>\n",
              "    <tr>\n",
              "      <th>31178</th>\n",
              "      <td>1135319</td>\n",
              "      <td>US</td>\n",
              "      <td>NaT</td>\n",
              "      <td>2016-09-02 20:27:46+00:00</td>\n",
              "      <td>2</td>\n",
              "      <td>500.0</td>\n",
              "    </tr>\n",
              "    <tr>\n",
              "      <th>32151</th>\n",
              "      <td>1279252</td>\n",
              "      <td>US</td>\n",
              "      <td>NaT</td>\n",
              "      <td>2017-05-04 23:31:00+00:00</td>\n",
              "      <td>0</td>\n",
              "      <td>1000.0</td>\n",
              "    </tr>\n",
              "    <tr>\n",
              "      <th>32152</th>\n",
              "      <td>1433349</td>\n",
              "      <td>US</td>\n",
              "      <td>NaT</td>\n",
              "      <td>2018-01-04 18:49:43+00:00</td>\n",
              "      <td>0</td>\n",
              "      <td>8000.0</td>\n",
              "    </tr>\n",
              "    <tr>\n",
              "      <th>...</th>\n",
              "      <td>...</td>\n",
              "      <td>...</td>\n",
              "      <td>...</td>\n",
              "      <td>...</td>\n",
              "      <td>...</td>\n",
              "      <td>...</td>\n",
              "    </tr>\n",
              "    <tr>\n",
              "      <th>1419522</th>\n",
              "      <td>1082442</td>\n",
              "      <td>US</td>\n",
              "      <td>NaT</td>\n",
              "      <td>2014-10-14 16:05:01+00:00</td>\n",
              "      <td>37</td>\n",
              "      <td>3000.0</td>\n",
              "    </tr>\n",
              "    <tr>\n",
              "      <th>1419524</th>\n",
              "      <td>1227124</td>\n",
              "      <td>US</td>\n",
              "      <td>NaT</td>\n",
              "      <td>2017-02-09 23:07:54+00:00</td>\n",
              "      <td>9</td>\n",
              "      <td>10000.0</td>\n",
              "    </tr>\n",
              "    <tr>\n",
              "      <th>1419525</th>\n",
              "      <td>1089430</td>\n",
              "      <td>KE</td>\n",
              "      <td>NaT</td>\n",
              "      <td>2015-09-21 08:06:19+00:00</td>\n",
              "      <td>3</td>\n",
              "      <td>225.0</td>\n",
              "    </tr>\n",
              "    <tr>\n",
              "      <th>1419538</th>\n",
              "      <td>1235452</td>\n",
              "      <td>US</td>\n",
              "      <td>NaT</td>\n",
              "      <td>2017-02-25 20:21:21+00:00</td>\n",
              "      <td>3</td>\n",
              "      <td>3000.0</td>\n",
              "    </tr>\n",
              "    <tr>\n",
              "      <th>1419564</th>\n",
              "      <td>1151269</td>\n",
              "      <td>US</td>\n",
              "      <td>NaT</td>\n",
              "      <td>2016-09-30 18:49:53+00:00</td>\n",
              "      <td>2</td>\n",
              "      <td>8750.0</td>\n",
              "    </tr>\n",
              "  </tbody>\n",
              "</table>\n",
              "<p>2813 rows × 6 columns</p>\n",
              "</div>"
            ],
            "text/plain": [
              "         loan_id country_code  ... num_lenders_total loan_amount\n",
              "31106    1379508           US  ...                 2      1000.0\n",
              "31107    1428617           US  ...                 0     10000.0\n",
              "31178    1135319           US  ...                 2       500.0\n",
              "32151    1279252           US  ...                 0      1000.0\n",
              "32152    1433349           US  ...                 0      8000.0\n",
              "...          ...          ...  ...               ...         ...\n",
              "1419522  1082442           US  ...                37      3000.0\n",
              "1419524  1227124           US  ...                 9     10000.0\n",
              "1419525  1089430           KE  ...                 3       225.0\n",
              "1419538  1235452           US  ...                 3      3000.0\n",
              "1419564  1151269           US  ...                 2      8750.0\n",
              "\n",
              "[2813 rows x 6 columns]"
            ]
          },
          "metadata": {
            "tags": []
          },
          "execution_count": 40
        },
        {
          "output_type": "stream",
          "text": [
            "time: 28.2 ms\n"
          ],
          "name": "stdout"
        }
      ]
    },
    {
      "cell_type": "markdown",
      "metadata": {
        "id": "q9nUtxBoFrJO"
      },
      "source": [
        "### Get year from _disburse_time_ for each loan"
      ]
    },
    {
      "cell_type": "code",
      "metadata": {
        "id": "UamDI5T1YtWv",
        "outputId": "ad3a2778-ee36-48f3-fcf1-2ee0fd212d1c",
        "colab": {
          "base_uri": "https://localhost:8080/",
          "height": 34
        }
      },
      "source": [
        "loan_simplified=loan_simplified.copy()\n",
        "loan_simplified['year_disburse'] = loan_simplified.apply(lambda x: x['disburse_time'].year,axis=1)"
      ],
      "execution_count": 41,
      "outputs": [
        {
          "output_type": "stream",
          "text": [
            "time: 21.2 s\n"
          ],
          "name": "stdout"
        }
      ]
    },
    {
      "cell_type": "code",
      "metadata": {
        "id": "Uxiw_dYcrARH",
        "outputId": "4c4e5174-4e48-40d5-91c4-3aa1bc20a6d2",
        "colab": {
          "base_uri": "https://localhost:8080/",
          "height": 34
        }
      },
      "source": [
        "year_nan = pd.isnull(loan_simplified['year_disburse'])\n",
        "year_nan_index = year_nan[year_nan==True].index\n",
        "\n",
        "loan_year = loan_simplified.drop(index=year_nan_index) #non considero tuple che hanno missing values in 'disburse_time'"
      ],
      "execution_count": 42,
      "outputs": [
        {
          "output_type": "stream",
          "text": [
            "time: 113 ms\n"
          ],
          "name": "stdout"
        }
      ]
    },
    {
      "cell_type": "code",
      "metadata": {
        "id": "2fJC515Gr2GB",
        "outputId": "5e03bd21-83c8-4e10-d2f4-f10ff03de48c",
        "colab": {
          "base_uri": "https://localhost:8080/",
          "height": 34
        }
      },
      "source": [
        "loan_year['year_disburse']=loan_year['year_disburse'].astype(int)\n",
        "loan_year = loan_year.copy()"
      ],
      "execution_count": 43,
      "outputs": [
        {
          "output_type": "stream",
          "text": [
            "time: 43.6 ms\n"
          ],
          "name": "stdout"
        }
      ]
    },
    {
      "cell_type": "markdown",
      "metadata": {
        "id": "JXecS81Ds0bX"
      },
      "source": [
        "### Point 4 (how many loans)"
      ]
    },
    {
      "cell_type": "code",
      "metadata": {
        "id": "QXg7Qgtywfuj",
        "outputId": "337ffa54-49e6-4460-8cde-cd7738970dcb",
        "colab": {
          "base_uri": "https://localhost:8080/",
          "height": 34
        }
      },
      "source": [
        "loan_state_year = loan_year.groupby(['country_code','year_disburse'])['loan_id'].count()\n",
        "loan_state_year = pd.DataFrame(loan_state_year)"
      ],
      "execution_count": 44,
      "outputs": [
        {
          "output_type": "stream",
          "text": [
            "time: 126 ms\n"
          ],
          "name": "stdout"
        }
      ]
    },
    {
      "cell_type": "code",
      "metadata": {
        "id": "2EO635vzB14z",
        "outputId": "ee99fad3-37b6-4a4c-8858-60c821c79693",
        "colab": {
          "base_uri": "https://localhost:8080/",
          "height": 34
        }
      },
      "source": [
        "loan_state_year.rename(columns={'loan_id':'count'},inplace=True)"
      ],
      "execution_count": 45,
      "outputs": [
        {
          "output_type": "stream",
          "text": [
            "time: 1.62 ms\n"
          ],
          "name": "stdout"
        }
      ]
    },
    {
      "cell_type": "markdown",
      "metadata": {
        "id": "bz5NO8LZxGsY"
      },
      "source": [
        "#### _Result_"
      ]
    },
    {
      "cell_type": "code",
      "metadata": {
        "id": "erKL3O0zsz6-",
        "outputId": "47da2f1b-9565-4114-ae6f-85a9fc4103a0",
        "colab": {
          "base_uri": "https://localhost:8080/",
          "height": 242
        }
      },
      "source": [
        "loan_state_year.head()"
      ],
      "execution_count": 46,
      "outputs": [
        {
          "output_type": "execute_result",
          "data": {
            "text/html": [
              "<div>\n",
              "<style scoped>\n",
              "    .dataframe tbody tr th:only-of-type {\n",
              "        vertical-align: middle;\n",
              "    }\n",
              "\n",
              "    .dataframe tbody tr th {\n",
              "        vertical-align: top;\n",
              "    }\n",
              "\n",
              "    .dataframe thead th {\n",
              "        text-align: right;\n",
              "    }\n",
              "</style>\n",
              "<table border=\"1\" class=\"dataframe\">\n",
              "  <thead>\n",
              "    <tr style=\"text-align: right;\">\n",
              "      <th></th>\n",
              "      <th></th>\n",
              "      <th>count</th>\n",
              "    </tr>\n",
              "    <tr>\n",
              "      <th>country_code</th>\n",
              "      <th>year_disburse</th>\n",
              "      <th></th>\n",
              "    </tr>\n",
              "  </thead>\n",
              "  <tbody>\n",
              "    <tr>\n",
              "      <th rowspan=\"5\" valign=\"top\">AF</th>\n",
              "      <th>2007</th>\n",
              "      <td>408</td>\n",
              "    </tr>\n",
              "    <tr>\n",
              "      <th>2008</th>\n",
              "      <td>370</td>\n",
              "    </tr>\n",
              "    <tr>\n",
              "      <th>2009</th>\n",
              "      <td>678</td>\n",
              "    </tr>\n",
              "    <tr>\n",
              "      <th>2010</th>\n",
              "      <td>632</td>\n",
              "    </tr>\n",
              "    <tr>\n",
              "      <th>2011</th>\n",
              "      <td>247</td>\n",
              "    </tr>\n",
              "  </tbody>\n",
              "</table>\n",
              "</div>"
            ],
            "text/plain": [
              "                            count\n",
              "country_code year_disburse       \n",
              "AF           2007             408\n",
              "             2008             370\n",
              "             2009             678\n",
              "             2010             632\n",
              "             2011             247"
            ]
          },
          "metadata": {
            "tags": []
          },
          "execution_count": 46
        },
        {
          "output_type": "stream",
          "text": [
            "time: 10.8 ms\n"
          ],
          "name": "stdout"
        }
      ]
    },
    {
      "cell_type": "markdown",
      "metadata": {
        "id": "fAY5ZBvrtcUy"
      },
      "source": [
        "### Point 5 (amount money borrowed)"
      ]
    },
    {
      "cell_type": "code",
      "metadata": {
        "id": "d47zSuN9stSB",
        "outputId": "77cd34a8-0571-46ec-a0c9-d8da4932d37c",
        "colab": {
          "base_uri": "https://localhost:8080/",
          "height": 34
        }
      },
      "source": [
        "amount_state_year = loan_year.groupby(['country_code','year_disburse'])['loan_amount'].sum()\n",
        "amount_state_year = pd.DataFrame(amount_state_year)"
      ],
      "execution_count": 47,
      "outputs": [
        {
          "output_type": "stream",
          "text": [
            "time: 121 ms\n"
          ],
          "name": "stdout"
        }
      ]
    },
    {
      "cell_type": "markdown",
      "metadata": {
        "id": "C3kspnU9yaCx"
      },
      "source": [
        "#### _Result_"
      ]
    },
    {
      "cell_type": "code",
      "metadata": {
        "id": "KdRzR8QByZDS",
        "outputId": "05a81301-8b48-4976-f15a-abd482e95531",
        "colab": {
          "base_uri": "https://localhost:8080/",
          "height": 242
        }
      },
      "source": [
        "amount_state_year.head()"
      ],
      "execution_count": 48,
      "outputs": [
        {
          "output_type": "execute_result",
          "data": {
            "text/html": [
              "<div>\n",
              "<style scoped>\n",
              "    .dataframe tbody tr th:only-of-type {\n",
              "        vertical-align: middle;\n",
              "    }\n",
              "\n",
              "    .dataframe tbody tr th {\n",
              "        vertical-align: top;\n",
              "    }\n",
              "\n",
              "    .dataframe thead th {\n",
              "        text-align: right;\n",
              "    }\n",
              "</style>\n",
              "<table border=\"1\" class=\"dataframe\">\n",
              "  <thead>\n",
              "    <tr style=\"text-align: right;\">\n",
              "      <th></th>\n",
              "      <th></th>\n",
              "      <th>loan_amount</th>\n",
              "    </tr>\n",
              "    <tr>\n",
              "      <th>country_code</th>\n",
              "      <th>year_disburse</th>\n",
              "      <th></th>\n",
              "    </tr>\n",
              "  </thead>\n",
              "  <tbody>\n",
              "    <tr>\n",
              "      <th rowspan=\"5\" valign=\"top\">AF</th>\n",
              "      <th>2007</th>\n",
              "      <td>194975.0</td>\n",
              "    </tr>\n",
              "    <tr>\n",
              "      <th>2008</th>\n",
              "      <td>365375.0</td>\n",
              "    </tr>\n",
              "    <tr>\n",
              "      <th>2009</th>\n",
              "      <td>585125.0</td>\n",
              "    </tr>\n",
              "    <tr>\n",
              "      <th>2010</th>\n",
              "      <td>563350.0</td>\n",
              "    </tr>\n",
              "    <tr>\n",
              "      <th>2011</th>\n",
              "      <td>245125.0</td>\n",
              "    </tr>\n",
              "  </tbody>\n",
              "</table>\n",
              "</div>"
            ],
            "text/plain": [
              "                            loan_amount\n",
              "country_code year_disburse             \n",
              "AF           2007              194975.0\n",
              "             2008              365375.0\n",
              "             2009              585125.0\n",
              "             2010              563350.0\n",
              "             2011              245125.0"
            ]
          },
          "metadata": {
            "tags": []
          },
          "execution_count": 48
        },
        {
          "output_type": "stream",
          "text": [
            "time: 10.2 ms\n"
          ],
          "name": "stdout"
        }
      ]
    },
    {
      "cell_type": "markdown",
      "metadata": {
        "id": "URit4OzOzHXJ"
      },
      "source": [
        "### Point 6 (amount money percentage)"
      ]
    },
    {
      "cell_type": "code",
      "metadata": {
        "id": "vKUrI0dQ2bPy",
        "outputId": "589ed752-34a0-42cd-acae-37c8389592ed",
        "colab": {
          "base_uri": "https://localhost:8080/",
          "height": 34
        }
      },
      "source": [
        "amount_state_year.reset_index(level=[0],inplace=True) #conversione multiindex in indice singolo"
      ],
      "execution_count": 49,
      "outputs": [
        {
          "output_type": "stream",
          "text": [
            "time: 3.17 ms\n"
          ],
          "name": "stdout"
        }
      ]
    },
    {
      "cell_type": "code",
      "metadata": {
        "id": "15J5esvxzGH3",
        "outputId": "c0ad96f9-cad3-4bff-df03-b2bc25c760f2",
        "colab": {
          "base_uri": "https://localhost:8080/",
          "height": 34
        }
      },
      "source": [
        "total_year = loan_year.groupby('year_disburse')['loan_amount'].sum() #per ogni anno denaro totale prestiti\n",
        "total_year = pd.DataFrame(total_year)"
      ],
      "execution_count": 50,
      "outputs": [
        {
          "output_type": "stream",
          "text": [
            "time: 25.4 ms\n"
          ],
          "name": "stdout"
        }
      ]
    },
    {
      "cell_type": "code",
      "metadata": {
        "id": "WEBNZLkO6tfT",
        "outputId": "9b429fc0-267f-46c1-bb97-24f3539083f7",
        "colab": {
          "base_uri": "https://localhost:8080/",
          "height": 508
        }
      },
      "source": [
        "total_year"
      ],
      "execution_count": 51,
      "outputs": [
        {
          "output_type": "execute_result",
          "data": {
            "text/html": [
              "<div>\n",
              "<style scoped>\n",
              "    .dataframe tbody tr th:only-of-type {\n",
              "        vertical-align: middle;\n",
              "    }\n",
              "\n",
              "    .dataframe tbody tr th {\n",
              "        vertical-align: top;\n",
              "    }\n",
              "\n",
              "    .dataframe thead th {\n",
              "        text-align: right;\n",
              "    }\n",
              "</style>\n",
              "<table border=\"1\" class=\"dataframe\">\n",
              "  <thead>\n",
              "    <tr style=\"text-align: right;\">\n",
              "      <th></th>\n",
              "      <th>loan_amount</th>\n",
              "    </tr>\n",
              "    <tr>\n",
              "      <th>year_disburse</th>\n",
              "      <th></th>\n",
              "    </tr>\n",
              "  </thead>\n",
              "  <tbody>\n",
              "    <tr>\n",
              "      <th>2005</th>\n",
              "      <td>102850.0</td>\n",
              "    </tr>\n",
              "    <tr>\n",
              "      <th>2006</th>\n",
              "      <td>1376575.0</td>\n",
              "    </tr>\n",
              "    <tr>\n",
              "      <th>2007</th>\n",
              "      <td>15446525.0</td>\n",
              "    </tr>\n",
              "    <tr>\n",
              "      <th>2008</th>\n",
              "      <td>39423050.0</td>\n",
              "    </tr>\n",
              "    <tr>\n",
              "      <th>2009</th>\n",
              "      <td>59689475.0</td>\n",
              "    </tr>\n",
              "    <tr>\n",
              "      <th>2010</th>\n",
              "      <td>72609150.0</td>\n",
              "    </tr>\n",
              "    <tr>\n",
              "      <th>2011</th>\n",
              "      <td>93699300.0</td>\n",
              "    </tr>\n",
              "    <tr>\n",
              "      <th>2012</th>\n",
              "      <td>119977575.0</td>\n",
              "    </tr>\n",
              "    <tr>\n",
              "      <th>2013</th>\n",
              "      <td>132043925.0</td>\n",
              "    </tr>\n",
              "    <tr>\n",
              "      <th>2014</th>\n",
              "      <td>152270425.0</td>\n",
              "    </tr>\n",
              "    <tr>\n",
              "      <th>2015</th>\n",
              "      <td>155835650.0</td>\n",
              "    </tr>\n",
              "    <tr>\n",
              "      <th>2016</th>\n",
              "      <td>160978375.0</td>\n",
              "    </tr>\n",
              "    <tr>\n",
              "      <th>2017</th>\n",
              "      <td>166053650.0</td>\n",
              "    </tr>\n",
              "    <tr>\n",
              "      <th>2018</th>\n",
              "      <td>990025.0</td>\n",
              "    </tr>\n",
              "  </tbody>\n",
              "</table>\n",
              "</div>"
            ],
            "text/plain": [
              "               loan_amount\n",
              "year_disburse             \n",
              "2005              102850.0\n",
              "2006             1376575.0\n",
              "2007            15446525.0\n",
              "2008            39423050.0\n",
              "2009            59689475.0\n",
              "2010            72609150.0\n",
              "2011            93699300.0\n",
              "2012           119977575.0\n",
              "2013           132043925.0\n",
              "2014           152270425.0\n",
              "2015           155835650.0\n",
              "2016           160978375.0\n",
              "2017           166053650.0\n",
              "2018              990025.0"
            ]
          },
          "metadata": {
            "tags": []
          },
          "execution_count": 51
        },
        {
          "output_type": "stream",
          "text": [
            "time: 9.56 ms\n"
          ],
          "name": "stdout"
        }
      ]
    },
    {
      "cell_type": "code",
      "metadata": {
        "id": "oVmK4XOO0JOf",
        "outputId": "e20953b2-f7c4-4a72-900f-962f3b1aad2a",
        "colab": {
          "base_uri": "https://localhost:8080/",
          "height": 34
        }
      },
      "source": [
        "amount_state_year_perc = pd.merge(amount_state_year,total_year,on='year_disburse',how='inner')\n",
        "amount_state_year_perc.rename(columns={'loan_amount_x': 'loan_amount',\n",
        "                    'loan_amount_y': 'total'}, inplace=True)"
      ],
      "execution_count": 52,
      "outputs": [
        {
          "output_type": "stream",
          "text": [
            "time: 8.37 ms\n"
          ],
          "name": "stdout"
        }
      ]
    },
    {
      "cell_type": "code",
      "metadata": {
        "id": "QwsYiV3_64om",
        "outputId": "a414734b-31be-41ce-e320-96214e1b4742",
        "colab": {
          "base_uri": "https://localhost:8080/",
          "height": 448
        }
      },
      "source": [
        "amount_state_year_perc"
      ],
      "execution_count": 53,
      "outputs": [
        {
          "output_type": "execute_result",
          "data": {
            "text/html": [
              "<div>\n",
              "<style scoped>\n",
              "    .dataframe tbody tr th:only-of-type {\n",
              "        vertical-align: middle;\n",
              "    }\n",
              "\n",
              "    .dataframe tbody tr th {\n",
              "        vertical-align: top;\n",
              "    }\n",
              "\n",
              "    .dataframe thead th {\n",
              "        text-align: right;\n",
              "    }\n",
              "</style>\n",
              "<table border=\"1\" class=\"dataframe\">\n",
              "  <thead>\n",
              "    <tr style=\"text-align: right;\">\n",
              "      <th></th>\n",
              "      <th>country_code</th>\n",
              "      <th>loan_amount</th>\n",
              "      <th>total</th>\n",
              "    </tr>\n",
              "    <tr>\n",
              "      <th>year_disburse</th>\n",
              "      <th></th>\n",
              "      <th></th>\n",
              "      <th></th>\n",
              "    </tr>\n",
              "  </thead>\n",
              "  <tbody>\n",
              "    <tr>\n",
              "      <th>2007</th>\n",
              "      <td>AF</td>\n",
              "      <td>194975.0</td>\n",
              "      <td>15446525.0</td>\n",
              "    </tr>\n",
              "    <tr>\n",
              "      <th>2007</th>\n",
              "      <td>AZ</td>\n",
              "      <td>1892775.0</td>\n",
              "      <td>15446525.0</td>\n",
              "    </tr>\n",
              "    <tr>\n",
              "      <th>2007</th>\n",
              "      <td>BG</td>\n",
              "      <td>263050.0</td>\n",
              "      <td>15446525.0</td>\n",
              "    </tr>\n",
              "    <tr>\n",
              "      <th>2007</th>\n",
              "      <td>BO</td>\n",
              "      <td>304700.0</td>\n",
              "      <td>15446525.0</td>\n",
              "    </tr>\n",
              "    <tr>\n",
              "      <th>2007</th>\n",
              "      <td>CD</td>\n",
              "      <td>30600.0</td>\n",
              "      <td>15446525.0</td>\n",
              "    </tr>\n",
              "    <tr>\n",
              "      <th>...</th>\n",
              "      <td>...</td>\n",
              "      <td>...</td>\n",
              "      <td>...</td>\n",
              "    </tr>\n",
              "    <tr>\n",
              "      <th>2018</th>\n",
              "      <td>TH</td>\n",
              "      <td>26500.0</td>\n",
              "      <td>990025.0</td>\n",
              "    </tr>\n",
              "    <tr>\n",
              "      <th>2018</th>\n",
              "      <td>TZ</td>\n",
              "      <td>14300.0</td>\n",
              "      <td>990025.0</td>\n",
              "    </tr>\n",
              "    <tr>\n",
              "      <th>2018</th>\n",
              "      <td>UG</td>\n",
              "      <td>21750.0</td>\n",
              "      <td>990025.0</td>\n",
              "    </tr>\n",
              "    <tr>\n",
              "      <th>2018</th>\n",
              "      <td>UY</td>\n",
              "      <td>8000.0</td>\n",
              "      <td>990025.0</td>\n",
              "    </tr>\n",
              "    <tr>\n",
              "      <th>2018</th>\n",
              "      <td>ZM</td>\n",
              "      <td>13975.0</td>\n",
              "      <td>990025.0</td>\n",
              "    </tr>\n",
              "  </tbody>\n",
              "</table>\n",
              "<p>748 rows × 3 columns</p>\n",
              "</div>"
            ],
            "text/plain": [
              "              country_code  loan_amount       total\n",
              "year_disburse                                      \n",
              "2007                    AF     194975.0  15446525.0\n",
              "2007                    AZ    1892775.0  15446525.0\n",
              "2007                    BG     263050.0  15446525.0\n",
              "2007                    BO     304700.0  15446525.0\n",
              "2007                    CD      30600.0  15446525.0\n",
              "...                    ...          ...         ...\n",
              "2018                    TH      26500.0    990025.0\n",
              "2018                    TZ      14300.0    990025.0\n",
              "2018                    UG      21750.0    990025.0\n",
              "2018                    UY       8000.0    990025.0\n",
              "2018                    ZM      13975.0    990025.0\n",
              "\n",
              "[748 rows x 3 columns]"
            ]
          },
          "metadata": {
            "tags": []
          },
          "execution_count": 53
        },
        {
          "output_type": "stream",
          "text": [
            "time: 18.1 ms\n"
          ],
          "name": "stdout"
        }
      ]
    },
    {
      "cell_type": "code",
      "metadata": {
        "id": "xu0mV0nN3oV0",
        "outputId": "f17ec113-4282-459f-b7c5-9eaaf022f591",
        "colab": {
          "base_uri": "https://localhost:8080/",
          "height": 34
        }
      },
      "source": [
        "amount_state_year_perc.reset_index(inplace=True)\n",
        "amount_state_year_perc.sort_values(by=['country_code','year_disburse'],ascending=True,inplace=True)"
      ],
      "execution_count": 54,
      "outputs": [
        {
          "output_type": "stream",
          "text": [
            "time: 6.27 ms\n"
          ],
          "name": "stdout"
        }
      ]
    },
    {
      "cell_type": "code",
      "metadata": {
        "id": "unCMUrFL7N_c",
        "outputId": "3c35f6a9-db1c-4f4c-f548-1b4a9cfdd7c3",
        "colab": {
          "base_uri": "https://localhost:8080/",
          "height": 418
        }
      },
      "source": [
        "amount_state_year_perc"
      ],
      "execution_count": 55,
      "outputs": [
        {
          "output_type": "execute_result",
          "data": {
            "text/html": [
              "<div>\n",
              "<style scoped>\n",
              "    .dataframe tbody tr th:only-of-type {\n",
              "        vertical-align: middle;\n",
              "    }\n",
              "\n",
              "    .dataframe tbody tr th {\n",
              "        vertical-align: top;\n",
              "    }\n",
              "\n",
              "    .dataframe thead th {\n",
              "        text-align: right;\n",
              "    }\n",
              "</style>\n",
              "<table border=\"1\" class=\"dataframe\">\n",
              "  <thead>\n",
              "    <tr style=\"text-align: right;\">\n",
              "      <th></th>\n",
              "      <th>year_disburse</th>\n",
              "      <th>country_code</th>\n",
              "      <th>loan_amount</th>\n",
              "      <th>total</th>\n",
              "    </tr>\n",
              "  </thead>\n",
              "  <tbody>\n",
              "    <tr>\n",
              "      <th>0</th>\n",
              "      <td>2007</td>\n",
              "      <td>AF</td>\n",
              "      <td>194975.0</td>\n",
              "      <td>15446525.0</td>\n",
              "    </tr>\n",
              "    <tr>\n",
              "      <th>37</th>\n",
              "      <td>2008</td>\n",
              "      <td>AF</td>\n",
              "      <td>365375.0</td>\n",
              "      <td>39423050.0</td>\n",
              "    </tr>\n",
              "    <tr>\n",
              "      <th>82</th>\n",
              "      <td>2009</td>\n",
              "      <td>AF</td>\n",
              "      <td>585125.0</td>\n",
              "      <td>59689475.0</td>\n",
              "    </tr>\n",
              "    <tr>\n",
              "      <th>132</th>\n",
              "      <td>2010</td>\n",
              "      <td>AF</td>\n",
              "      <td>563350.0</td>\n",
              "      <td>72609150.0</td>\n",
              "    </tr>\n",
              "    <tr>\n",
              "      <th>186</th>\n",
              "      <td>2011</td>\n",
              "      <td>AF</td>\n",
              "      <td>245125.0</td>\n",
              "      <td>93699300.0</td>\n",
              "    </tr>\n",
              "    <tr>\n",
              "      <th>...</th>\n",
              "      <td>...</td>\n",
              "      <td>...</td>\n",
              "      <td>...</td>\n",
              "      <td>...</td>\n",
              "    </tr>\n",
              "    <tr>\n",
              "      <th>533</th>\n",
              "      <td>2013</td>\n",
              "      <td>ZW</td>\n",
              "      <td>678525.0</td>\n",
              "      <td>132043925.0</td>\n",
              "    </tr>\n",
              "    <tr>\n",
              "      <th>611</th>\n",
              "      <td>2014</td>\n",
              "      <td>ZW</td>\n",
              "      <td>1311575.0</td>\n",
              "      <td>152270425.0</td>\n",
              "    </tr>\n",
              "    <tr>\n",
              "      <th>321</th>\n",
              "      <td>2015</td>\n",
              "      <td>ZW</td>\n",
              "      <td>723625.0</td>\n",
              "      <td>155835650.0</td>\n",
              "    </tr>\n",
              "    <tr>\n",
              "      <th>395</th>\n",
              "      <td>2016</td>\n",
              "      <td>ZW</td>\n",
              "      <td>788600.0</td>\n",
              "      <td>160978375.0</td>\n",
              "    </tr>\n",
              "    <tr>\n",
              "      <th>685</th>\n",
              "      <td>2017</td>\n",
              "      <td>ZW</td>\n",
              "      <td>1237600.0</td>\n",
              "      <td>166053650.0</td>\n",
              "    </tr>\n",
              "  </tbody>\n",
              "</table>\n",
              "<p>748 rows × 4 columns</p>\n",
              "</div>"
            ],
            "text/plain": [
              "     year_disburse country_code  loan_amount        total\n",
              "0             2007           AF     194975.0   15446525.0\n",
              "37            2008           AF     365375.0   39423050.0\n",
              "82            2009           AF     585125.0   59689475.0\n",
              "132           2010           AF     563350.0   72609150.0\n",
              "186           2011           AF     245125.0   93699300.0\n",
              "..             ...          ...          ...          ...\n",
              "533           2013           ZW     678525.0  132043925.0\n",
              "611           2014           ZW    1311575.0  152270425.0\n",
              "321           2015           ZW     723625.0  155835650.0\n",
              "395           2016           ZW     788600.0  160978375.0\n",
              "685           2017           ZW    1237600.0  166053650.0\n",
              "\n",
              "[748 rows x 4 columns]"
            ]
          },
          "metadata": {
            "tags": []
          },
          "execution_count": 55
        },
        {
          "output_type": "stream",
          "text": [
            "time: 18.2 ms\n"
          ],
          "name": "stdout"
        }
      ]
    },
    {
      "cell_type": "code",
      "metadata": {
        "id": "F5LPIhUv5jea",
        "outputId": "b6e64646-2080-41c9-f932-dc0a754d4b6c",
        "colab": {
          "base_uri": "https://localhost:8080/",
          "height": 34
        }
      },
      "source": [
        "amount_state_year_perc.set_index(['country_code','year_disburse'],inplace=True) #creazione multiindex\n",
        "amount_state_year_perc['percentage'] = round(amount_state_year_perc['loan_amount'] / amount_state_year_perc['total']*100,3)"
      ],
      "execution_count": 56,
      "outputs": [
        {
          "output_type": "stream",
          "text": [
            "time: 6.01 ms\n"
          ],
          "name": "stdout"
        }
      ]
    },
    {
      "cell_type": "code",
      "metadata": {
        "id": "YBcGpYHHp4TM",
        "outputId": "408e726a-2891-4a7e-eb75-c2c281fa3ce0",
        "colab": {
          "base_uri": "https://localhost:8080/",
          "height": 448
        }
      },
      "source": [
        "amount_state_year_perc"
      ],
      "execution_count": 57,
      "outputs": [
        {
          "output_type": "execute_result",
          "data": {
            "text/html": [
              "<div>\n",
              "<style scoped>\n",
              "    .dataframe tbody tr th:only-of-type {\n",
              "        vertical-align: middle;\n",
              "    }\n",
              "\n",
              "    .dataframe tbody tr th {\n",
              "        vertical-align: top;\n",
              "    }\n",
              "\n",
              "    .dataframe thead th {\n",
              "        text-align: right;\n",
              "    }\n",
              "</style>\n",
              "<table border=\"1\" class=\"dataframe\">\n",
              "  <thead>\n",
              "    <tr style=\"text-align: right;\">\n",
              "      <th></th>\n",
              "      <th></th>\n",
              "      <th>loan_amount</th>\n",
              "      <th>total</th>\n",
              "      <th>percentage</th>\n",
              "    </tr>\n",
              "    <tr>\n",
              "      <th>country_code</th>\n",
              "      <th>year_disburse</th>\n",
              "      <th></th>\n",
              "      <th></th>\n",
              "      <th></th>\n",
              "    </tr>\n",
              "  </thead>\n",
              "  <tbody>\n",
              "    <tr>\n",
              "      <th rowspan=\"5\" valign=\"top\">AF</th>\n",
              "      <th>2007</th>\n",
              "      <td>194975.0</td>\n",
              "      <td>15446525.0</td>\n",
              "      <td>1.262</td>\n",
              "    </tr>\n",
              "    <tr>\n",
              "      <th>2008</th>\n",
              "      <td>365375.0</td>\n",
              "      <td>39423050.0</td>\n",
              "      <td>0.927</td>\n",
              "    </tr>\n",
              "    <tr>\n",
              "      <th>2009</th>\n",
              "      <td>585125.0</td>\n",
              "      <td>59689475.0</td>\n",
              "      <td>0.980</td>\n",
              "    </tr>\n",
              "    <tr>\n",
              "      <th>2010</th>\n",
              "      <td>563350.0</td>\n",
              "      <td>72609150.0</td>\n",
              "      <td>0.776</td>\n",
              "    </tr>\n",
              "    <tr>\n",
              "      <th>2011</th>\n",
              "      <td>245125.0</td>\n",
              "      <td>93699300.0</td>\n",
              "      <td>0.262</td>\n",
              "    </tr>\n",
              "    <tr>\n",
              "      <th>...</th>\n",
              "      <th>...</th>\n",
              "      <td>...</td>\n",
              "      <td>...</td>\n",
              "      <td>...</td>\n",
              "    </tr>\n",
              "    <tr>\n",
              "      <th rowspan=\"5\" valign=\"top\">ZW</th>\n",
              "      <th>2013</th>\n",
              "      <td>678525.0</td>\n",
              "      <td>132043925.0</td>\n",
              "      <td>0.514</td>\n",
              "    </tr>\n",
              "    <tr>\n",
              "      <th>2014</th>\n",
              "      <td>1311575.0</td>\n",
              "      <td>152270425.0</td>\n",
              "      <td>0.861</td>\n",
              "    </tr>\n",
              "    <tr>\n",
              "      <th>2015</th>\n",
              "      <td>723625.0</td>\n",
              "      <td>155835650.0</td>\n",
              "      <td>0.464</td>\n",
              "    </tr>\n",
              "    <tr>\n",
              "      <th>2016</th>\n",
              "      <td>788600.0</td>\n",
              "      <td>160978375.0</td>\n",
              "      <td>0.490</td>\n",
              "    </tr>\n",
              "    <tr>\n",
              "      <th>2017</th>\n",
              "      <td>1237600.0</td>\n",
              "      <td>166053650.0</td>\n",
              "      <td>0.745</td>\n",
              "    </tr>\n",
              "  </tbody>\n",
              "</table>\n",
              "<p>748 rows × 3 columns</p>\n",
              "</div>"
            ],
            "text/plain": [
              "                            loan_amount        total  percentage\n",
              "country_code year_disburse                                      \n",
              "AF           2007              194975.0   15446525.0       1.262\n",
              "             2008              365375.0   39423050.0       0.927\n",
              "             2009              585125.0   59689475.0       0.980\n",
              "             2010              563350.0   72609150.0       0.776\n",
              "             2011              245125.0   93699300.0       0.262\n",
              "...                                 ...          ...         ...\n",
              "ZW           2013              678525.0  132043925.0       0.514\n",
              "             2014             1311575.0  152270425.0       0.861\n",
              "             2015              723625.0  155835650.0       0.464\n",
              "             2016              788600.0  160978375.0       0.490\n",
              "             2017             1237600.0  166053650.0       0.745\n",
              "\n",
              "[748 rows x 3 columns]"
            ]
          },
          "metadata": {
            "tags": []
          },
          "execution_count": 57
        },
        {
          "output_type": "stream",
          "text": [
            "time: 21.6 ms\n"
          ],
          "name": "stdout"
        }
      ]
    },
    {
      "cell_type": "code",
      "metadata": {
        "id": "cWxArVDw6DyA",
        "outputId": "a5d7ba6e-3fb4-41e6-cdb6-84bdd62d36cf",
        "colab": {
          "base_uri": "https://localhost:8080/",
          "height": 34
        }
      },
      "source": [
        "amount_state_year_perc.drop(columns='total',inplace=True)\n",
        "amount_state_year_perc.rename(columns={'loan_amount':'borrowed'},inplace=True)"
      ],
      "execution_count": 58,
      "outputs": [
        {
          "output_type": "stream",
          "text": [
            "time: 3.73 ms\n"
          ],
          "name": "stdout"
        }
      ]
    },
    {
      "cell_type": "markdown",
      "metadata": {
        "id": "1E1eXCWnBEmh"
      },
      "source": [
        "#### _Result_"
      ]
    },
    {
      "cell_type": "code",
      "metadata": {
        "id": "-hb5rNmZBD1H",
        "outputId": "cd83f395-d9de-449d-cba9-db8f8ae316c7",
        "colab": {
          "base_uri": "https://localhost:8080/",
          "height": 242
        }
      },
      "source": [
        "amount_state_year_perc[['percentage']].head()"
      ],
      "execution_count": 59,
      "outputs": [
        {
          "output_type": "execute_result",
          "data": {
            "text/html": [
              "<div>\n",
              "<style scoped>\n",
              "    .dataframe tbody tr th:only-of-type {\n",
              "        vertical-align: middle;\n",
              "    }\n",
              "\n",
              "    .dataframe tbody tr th {\n",
              "        vertical-align: top;\n",
              "    }\n",
              "\n",
              "    .dataframe thead th {\n",
              "        text-align: right;\n",
              "    }\n",
              "</style>\n",
              "<table border=\"1\" class=\"dataframe\">\n",
              "  <thead>\n",
              "    <tr style=\"text-align: right;\">\n",
              "      <th></th>\n",
              "      <th></th>\n",
              "      <th>percentage</th>\n",
              "    </tr>\n",
              "    <tr>\n",
              "      <th>country_code</th>\n",
              "      <th>year_disburse</th>\n",
              "      <th></th>\n",
              "    </tr>\n",
              "  </thead>\n",
              "  <tbody>\n",
              "    <tr>\n",
              "      <th rowspan=\"5\" valign=\"top\">AF</th>\n",
              "      <th>2007</th>\n",
              "      <td>1.262</td>\n",
              "    </tr>\n",
              "    <tr>\n",
              "      <th>2008</th>\n",
              "      <td>0.927</td>\n",
              "    </tr>\n",
              "    <tr>\n",
              "      <th>2009</th>\n",
              "      <td>0.980</td>\n",
              "    </tr>\n",
              "    <tr>\n",
              "      <th>2010</th>\n",
              "      <td>0.776</td>\n",
              "    </tr>\n",
              "    <tr>\n",
              "      <th>2011</th>\n",
              "      <td>0.262</td>\n",
              "    </tr>\n",
              "  </tbody>\n",
              "</table>\n",
              "</div>"
            ],
            "text/plain": [
              "                            percentage\n",
              "country_code year_disburse            \n",
              "AF           2007                1.262\n",
              "             2008                0.927\n",
              "             2009                0.980\n",
              "             2010                0.776\n",
              "             2011                0.262"
            ]
          },
          "metadata": {
            "tags": []
          },
          "execution_count": 59
        },
        {
          "output_type": "stream",
          "text": [
            "time: 11.8 ms\n"
          ],
          "name": "stdout"
        }
      ]
    },
    {
      "cell_type": "markdown",
      "metadata": {
        "id": "9cWj5GvvDNak"
      },
      "source": [
        "## Task 8\n",
        "- For each lender, compute the overall amount of money lent. For each loan that has more than one lender, you must assume that all lenders contributed the same amount."
      ]
    },
    {
      "cell_type": "code",
      "metadata": {
        "id": "XUJlYtiAEje7",
        "outputId": "45161760-99c1-4f2a-b6f6-1b4e384d403b",
        "colab": {
          "base_uri": "https://localhost:8080/",
          "height": 34
        }
      },
      "source": [
        "number_loans_lender_norm=loans_lender_norm.groupby('loan_id')['lenders'].count()\n",
        "number_loans_lender_norm=pd.DataFrame(number_loans_lender_norm).reset_index(level=0) #per ogni loan numero lenders"
      ],
      "execution_count": 60,
      "outputs": [
        {
          "output_type": "stream",
          "text": [
            "time: 2.32 s\n"
          ],
          "name": "stdout"
        }
      ]
    },
    {
      "cell_type": "code",
      "metadata": {
        "id": "zn6njOTxubhi",
        "outputId": "74391760-fae1-4656-9475-6a8e8b7174f7",
        "colab": {
          "base_uri": "https://localhost:8080/",
          "height": 212
        }
      },
      "source": [
        "number_loans_lender_norm.head()"
      ],
      "execution_count": 61,
      "outputs": [
        {
          "output_type": "execute_result",
          "data": {
            "text/html": [
              "<div>\n",
              "<style scoped>\n",
              "    .dataframe tbody tr th:only-of-type {\n",
              "        vertical-align: middle;\n",
              "    }\n",
              "\n",
              "    .dataframe tbody tr th {\n",
              "        vertical-align: top;\n",
              "    }\n",
              "\n",
              "    .dataframe thead th {\n",
              "        text-align: right;\n",
              "    }\n",
              "</style>\n",
              "<table border=\"1\" class=\"dataframe\">\n",
              "  <thead>\n",
              "    <tr style=\"text-align: right;\">\n",
              "      <th></th>\n",
              "      <th>loan_id</th>\n",
              "      <th>lenders</th>\n",
              "    </tr>\n",
              "  </thead>\n",
              "  <tbody>\n",
              "    <tr>\n",
              "      <th>0</th>\n",
              "      <td>84</td>\n",
              "      <td>3</td>\n",
              "    </tr>\n",
              "    <tr>\n",
              "      <th>1</th>\n",
              "      <td>85</td>\n",
              "      <td>2</td>\n",
              "    </tr>\n",
              "    <tr>\n",
              "      <th>2</th>\n",
              "      <td>86</td>\n",
              "      <td>3</td>\n",
              "    </tr>\n",
              "    <tr>\n",
              "      <th>3</th>\n",
              "      <td>88</td>\n",
              "      <td>3</td>\n",
              "    </tr>\n",
              "    <tr>\n",
              "      <th>4</th>\n",
              "      <td>89</td>\n",
              "      <td>4</td>\n",
              "    </tr>\n",
              "  </tbody>\n",
              "</table>\n",
              "</div>"
            ],
            "text/plain": [
              "   loan_id  lenders\n",
              "0       84        3\n",
              "1       85        2\n",
              "2       86        3\n",
              "3       88        3\n",
              "4       89        4"
            ]
          },
          "metadata": {
            "tags": []
          },
          "execution_count": 61
        },
        {
          "output_type": "stream",
          "text": [
            "time: 9.71 ms\n"
          ],
          "name": "stdout"
        }
      ]
    },
    {
      "cell_type": "markdown",
      "metadata": {
        "id": "_p7KiNmgww0i"
      },
      "source": [
        "### Get number lenders for each loan"
      ]
    },
    {
      "cell_type": "code",
      "metadata": {
        "id": "M_-CUKmLFg5S",
        "outputId": "153e9bb6-c93a-43db-dba0-108b1f0036fa",
        "colab": {
          "base_uri": "https://localhost:8080/",
          "height": 34
        }
      },
      "source": [
        "loans_lender_amount = pd.merge(loan_simplified,number_loans_lender_norm,how=\"inner\",on=\"loan_id\")\n",
        "loans_lender_amount= loans_lender_amount[['loan_id','num_lenders_total','lenders','loan_amount']]"
      ],
      "execution_count": 62,
      "outputs": [
        {
          "output_type": "stream",
          "text": [
            "time: 567 ms\n"
          ],
          "name": "stdout"
        }
      ]
    },
    {
      "cell_type": "code",
      "metadata": {
        "id": "C0H9eMJUIl_a",
        "outputId": "6727c9d1-b840-4aea-cc86-8b28191fa470",
        "colab": {
          "base_uri": "https://localhost:8080/",
          "height": 34
        }
      },
      "source": [
        "correct = loans_lender_amount[loans_lender_amount['num_lenders_total']==loans_lender_amount['lenders']]\n",
        "wrong = loans_lender_amount[loans_lender_amount['num_lenders_total']!=loans_lender_amount['lenders']]"
      ],
      "execution_count": 63,
      "outputs": [
        {
          "output_type": "stream",
          "text": [
            "time: 56 ms\n"
          ],
          "name": "stdout"
        }
      ]
    },
    {
      "cell_type": "code",
      "metadata": {
        "id": "kjjsczFRJJeg",
        "outputId": "c286e877-09b8-4eb1-bba7-94599f4373b2",
        "colab": {
          "base_uri": "https://localhost:8080/",
          "height": 67
        }
      },
      "source": [
        "print(\"Correct info: \"+str(len(correct)/len(loans_lender_amount)))\n",
        "print(\"Error info: \"+str(len(wrong)/len(loans_lender_amount)))"
      ],
      "execution_count": 64,
      "outputs": [
        {
          "output_type": "stream",
          "text": [
            "Correct info: 0.1917209397532701\n",
            "Error info: 0.8082790602467299\n",
            "time: 1.51 ms\n"
          ],
          "name": "stdout"
        }
      ]
    },
    {
      "cell_type": "markdown",
      "metadata": {
        "id": "v5EoCcw2xRnm"
      },
      "source": [
        "### Fixed count lenders for each loan"
      ]
    },
    {
      "cell_type": "code",
      "metadata": {
        "id": "-zkLgG65yEEB",
        "outputId": "00e24ddf-adb5-483f-8781-0e64ea69beb2",
        "colab": {
          "base_uri": "https://localhost:8080/",
          "height": 34
        }
      },
      "source": [
        "loans_lender_amount.drop(columns='num_lenders_total',inplace=True)"
      ],
      "execution_count": 65,
      "outputs": [
        {
          "output_type": "stream",
          "text": [
            "time: 15 ms\n"
          ],
          "name": "stdout"
        }
      ]
    },
    {
      "cell_type": "code",
      "metadata": {
        "id": "f0b3RtIaxwUU",
        "outputId": "005304a3-9d70-47ca-c0fc-1239a0b4fda0",
        "colab": {
          "base_uri": "https://localhost:8080/",
          "height": 212
        }
      },
      "source": [
        "loans_lender_amount.head()"
      ],
      "execution_count": 66,
      "outputs": [
        {
          "output_type": "execute_result",
          "data": {
            "text/html": [
              "<div>\n",
              "<style scoped>\n",
              "    .dataframe tbody tr th:only-of-type {\n",
              "        vertical-align: middle;\n",
              "    }\n",
              "\n",
              "    .dataframe tbody tr th {\n",
              "        vertical-align: top;\n",
              "    }\n",
              "\n",
              "    .dataframe thead th {\n",
              "        text-align: right;\n",
              "    }\n",
              "</style>\n",
              "<table border=\"1\" class=\"dataframe\">\n",
              "  <thead>\n",
              "    <tr style=\"text-align: right;\">\n",
              "      <th></th>\n",
              "      <th>loan_id</th>\n",
              "      <th>lenders</th>\n",
              "      <th>loan_amount</th>\n",
              "    </tr>\n",
              "  </thead>\n",
              "  <tbody>\n",
              "    <tr>\n",
              "      <th>0</th>\n",
              "      <td>657307</td>\n",
              "      <td>3</td>\n",
              "      <td>125.0</td>\n",
              "    </tr>\n",
              "    <tr>\n",
              "      <th>1</th>\n",
              "      <td>657259</td>\n",
              "      <td>7</td>\n",
              "      <td>400.0</td>\n",
              "    </tr>\n",
              "    <tr>\n",
              "      <th>2</th>\n",
              "      <td>658010</td>\n",
              "      <td>14</td>\n",
              "      <td>400.0</td>\n",
              "    </tr>\n",
              "    <tr>\n",
              "      <th>3</th>\n",
              "      <td>659347</td>\n",
              "      <td>17</td>\n",
              "      <td>625.0</td>\n",
              "    </tr>\n",
              "    <tr>\n",
              "      <th>4</th>\n",
              "      <td>656933</td>\n",
              "      <td>14</td>\n",
              "      <td>425.0</td>\n",
              "    </tr>\n",
              "  </tbody>\n",
              "</table>\n",
              "</div>"
            ],
            "text/plain": [
              "   loan_id  lenders  loan_amount\n",
              "0   657307        3        125.0\n",
              "1   657259        7        400.0\n",
              "2   658010       14        400.0\n",
              "3   659347       17        625.0\n",
              "4   656933       14        425.0"
            ]
          },
          "metadata": {
            "tags": []
          },
          "execution_count": 66
        },
        {
          "output_type": "stream",
          "text": [
            "time: 14.2 ms\n"
          ],
          "name": "stdout"
        }
      ]
    },
    {
      "cell_type": "markdown",
      "metadata": {
        "id": "1Ohl6yFx1pNh"
      },
      "source": [
        "### Compute contribution lenders for each loan"
      ]
    },
    {
      "cell_type": "code",
      "metadata": {
        "id": "fr5Vhem6OsGc",
        "outputId": "758a33ab-c5cb-4ee6-f3e6-dfa5e84b82a6",
        "colab": {
          "base_uri": "https://localhost:8080/",
          "height": 34
        }
      },
      "source": [
        "loans_lender_amount['amount']=round(loans_lender_amount['loan_amount']/loans_lender_amount['lenders'],2)"
      ],
      "execution_count": 67,
      "outputs": [
        {
          "output_type": "stream",
          "text": [
            "time: 20.3 ms\n"
          ],
          "name": "stdout"
        }
      ]
    },
    {
      "cell_type": "code",
      "metadata": {
        "id": "zlAyAEOvbp0J",
        "outputId": "412857f8-6c38-446d-a4c4-1a2cf7325a3d",
        "colab": {
          "base_uri": "https://localhost:8080/",
          "height": 212
        }
      },
      "source": [
        "loans_lender_amount.head()"
      ],
      "execution_count": 68,
      "outputs": [
        {
          "output_type": "execute_result",
          "data": {
            "text/html": [
              "<div>\n",
              "<style scoped>\n",
              "    .dataframe tbody tr th:only-of-type {\n",
              "        vertical-align: middle;\n",
              "    }\n",
              "\n",
              "    .dataframe tbody tr th {\n",
              "        vertical-align: top;\n",
              "    }\n",
              "\n",
              "    .dataframe thead th {\n",
              "        text-align: right;\n",
              "    }\n",
              "</style>\n",
              "<table border=\"1\" class=\"dataframe\">\n",
              "  <thead>\n",
              "    <tr style=\"text-align: right;\">\n",
              "      <th></th>\n",
              "      <th>loan_id</th>\n",
              "      <th>lenders</th>\n",
              "      <th>loan_amount</th>\n",
              "      <th>amount</th>\n",
              "    </tr>\n",
              "  </thead>\n",
              "  <tbody>\n",
              "    <tr>\n",
              "      <th>0</th>\n",
              "      <td>657307</td>\n",
              "      <td>3</td>\n",
              "      <td>125.0</td>\n",
              "      <td>41.67</td>\n",
              "    </tr>\n",
              "    <tr>\n",
              "      <th>1</th>\n",
              "      <td>657259</td>\n",
              "      <td>7</td>\n",
              "      <td>400.0</td>\n",
              "      <td>57.14</td>\n",
              "    </tr>\n",
              "    <tr>\n",
              "      <th>2</th>\n",
              "      <td>658010</td>\n",
              "      <td>14</td>\n",
              "      <td>400.0</td>\n",
              "      <td>28.57</td>\n",
              "    </tr>\n",
              "    <tr>\n",
              "      <th>3</th>\n",
              "      <td>659347</td>\n",
              "      <td>17</td>\n",
              "      <td>625.0</td>\n",
              "      <td>36.76</td>\n",
              "    </tr>\n",
              "    <tr>\n",
              "      <th>4</th>\n",
              "      <td>656933</td>\n",
              "      <td>14</td>\n",
              "      <td>425.0</td>\n",
              "      <td>30.36</td>\n",
              "    </tr>\n",
              "  </tbody>\n",
              "</table>\n",
              "</div>"
            ],
            "text/plain": [
              "   loan_id  lenders  loan_amount  amount\n",
              "0   657307        3        125.0   41.67\n",
              "1   657259        7        400.0   57.14\n",
              "2   658010       14        400.0   28.57\n",
              "3   659347       17        625.0   36.76\n",
              "4   656933       14        425.0   30.36"
            ]
          },
          "metadata": {
            "tags": []
          },
          "execution_count": 68
        },
        {
          "output_type": "stream",
          "text": [
            "time: 12.6 ms\n"
          ],
          "name": "stdout"
        }
      ]
    },
    {
      "cell_type": "code",
      "metadata": {
        "id": "IPPOA09QczNE",
        "outputId": "1a6285e0-f10d-4876-e929-9ed0be2c974c",
        "colab": {
          "base_uri": "https://localhost:8080/",
          "height": 34
        }
      },
      "source": [
        "amount_loan_lender = pd.merge(loans_lender_norm,loans_lender_amount,how=\"inner\",on='loan_id')\n",
        "amount_loan_lender.drop(columns=['loan_amount','lenders_y'],inplace=True)\n",
        "amount_loan_lender.rename(columns={'lenders_x':'lenders'},inplace=True)"
      ],
      "execution_count": 69,
      "outputs": [
        {
          "output_type": "stream",
          "text": [
            "time: 4.6 s\n"
          ],
          "name": "stdout"
        }
      ]
    },
    {
      "cell_type": "code",
      "metadata": {
        "id": "vPq56hehjYSr",
        "outputId": "fb9d6bf6-db4a-457d-b00f-cb0512903bad",
        "colab": {
          "base_uri": "https://localhost:8080/",
          "height": 212
        }
      },
      "source": [
        "amount_loan_lender.head()"
      ],
      "execution_count": 70,
      "outputs": [
        {
          "output_type": "execute_result",
          "data": {
            "text/html": [
              "<div>\n",
              "<style scoped>\n",
              "    .dataframe tbody tr th:only-of-type {\n",
              "        vertical-align: middle;\n",
              "    }\n",
              "\n",
              "    .dataframe tbody tr th {\n",
              "        vertical-align: top;\n",
              "    }\n",
              "\n",
              "    .dataframe thead th {\n",
              "        text-align: right;\n",
              "    }\n",
              "</style>\n",
              "<table border=\"1\" class=\"dataframe\">\n",
              "  <thead>\n",
              "    <tr style=\"text-align: right;\">\n",
              "      <th></th>\n",
              "      <th>loan_id</th>\n",
              "      <th>lenders</th>\n",
              "      <th>amount</th>\n",
              "    </tr>\n",
              "  </thead>\n",
              "  <tbody>\n",
              "    <tr>\n",
              "      <th>0</th>\n",
              "      <td>483693</td>\n",
              "      <td>muc888</td>\n",
              "      <td>30.62</td>\n",
              "    </tr>\n",
              "    <tr>\n",
              "      <th>1</th>\n",
              "      <td>483693</td>\n",
              "      <td>sam4326</td>\n",
              "      <td>30.62</td>\n",
              "    </tr>\n",
              "    <tr>\n",
              "      <th>2</th>\n",
              "      <td>483693</td>\n",
              "      <td>camaran3922</td>\n",
              "      <td>30.62</td>\n",
              "    </tr>\n",
              "    <tr>\n",
              "      <th>3</th>\n",
              "      <td>483693</td>\n",
              "      <td>lachheb1865</td>\n",
              "      <td>30.62</td>\n",
              "    </tr>\n",
              "    <tr>\n",
              "      <th>4</th>\n",
              "      <td>483693</td>\n",
              "      <td>rebecca3499</td>\n",
              "      <td>30.62</td>\n",
              "    </tr>\n",
              "  </tbody>\n",
              "</table>\n",
              "</div>"
            ],
            "text/plain": [
              "   loan_id      lenders  amount\n",
              "0   483693       muc888   30.62\n",
              "1   483693      sam4326   30.62\n",
              "2   483693  camaran3922   30.62\n",
              "3   483693  lachheb1865   30.62\n",
              "4   483693  rebecca3499   30.62"
            ]
          },
          "metadata": {
            "tags": []
          },
          "execution_count": 70
        },
        {
          "output_type": "stream",
          "text": [
            "time: 12.8 ms\n"
          ],
          "name": "stdout"
        }
      ]
    },
    {
      "cell_type": "code",
      "metadata": {
        "id": "jdNHodV2e20L",
        "outputId": "b595d586-3b7a-4b2a-8e50-1c6d25986e3b",
        "colab": {
          "base_uri": "https://localhost:8080/",
          "height": 34
        }
      },
      "source": [
        "amount_lender = amount_loan_lender.groupby('lenders')['amount'].sum()\n",
        "amount_lender = pd.DataFrame(amount_lender).reset_index(level=0)"
      ],
      "execution_count": 71,
      "outputs": [
        {
          "output_type": "stream",
          "text": [
            "time: 12.4 s\n"
          ],
          "name": "stdout"
        }
      ]
    },
    {
      "cell_type": "markdown",
      "metadata": {
        "id": "3TyiPuDJ4fSb"
      },
      "source": [
        "### _Result_"
      ]
    },
    {
      "cell_type": "code",
      "metadata": {
        "id": "Vc0k4AgZgs7e",
        "outputId": "25e45f8f-d7e0-49dd-93b9-c5e53b8ee866",
        "colab": {
          "base_uri": "https://localhost:8080/",
          "height": 212
        }
      },
      "source": [
        "amount_lender.head()"
      ],
      "execution_count": 72,
      "outputs": [
        {
          "output_type": "execute_result",
          "data": {
            "text/html": [
              "<div>\n",
              "<style scoped>\n",
              "    .dataframe tbody tr th:only-of-type {\n",
              "        vertical-align: middle;\n",
              "    }\n",
              "\n",
              "    .dataframe tbody tr th {\n",
              "        vertical-align: top;\n",
              "    }\n",
              "\n",
              "    .dataframe thead th {\n",
              "        text-align: right;\n",
              "    }\n",
              "</style>\n",
              "<table border=\"1\" class=\"dataframe\">\n",
              "  <thead>\n",
              "    <tr style=\"text-align: right;\">\n",
              "      <th></th>\n",
              "      <th>lenders</th>\n",
              "      <th>amount</th>\n",
              "    </tr>\n",
              "  </thead>\n",
              "  <tbody>\n",
              "    <tr>\n",
              "      <th>0</th>\n",
              "      <td>000</td>\n",
              "      <td>1764.26</td>\n",
              "    </tr>\n",
              "    <tr>\n",
              "      <th>1</th>\n",
              "      <td>00000</td>\n",
              "      <td>1380.68</td>\n",
              "    </tr>\n",
              "    <tr>\n",
              "      <th>2</th>\n",
              "      <td>0002</td>\n",
              "      <td>2472.54</td>\n",
              "    </tr>\n",
              "    <tr>\n",
              "      <th>3</th>\n",
              "      <td>00mike00</td>\n",
              "      <td>52.63</td>\n",
              "    </tr>\n",
              "    <tr>\n",
              "      <th>4</th>\n",
              "      <td>0101craign0101</td>\n",
              "      <td>2623.50</td>\n",
              "    </tr>\n",
              "  </tbody>\n",
              "</table>\n",
              "</div>"
            ],
            "text/plain": [
              "          lenders   amount\n",
              "0             000  1764.26\n",
              "1           00000  1380.68\n",
              "2            0002  2472.54\n",
              "3        00mike00    52.63\n",
              "4  0101craign0101  2623.50"
            ]
          },
          "metadata": {
            "tags": []
          },
          "execution_count": 72
        },
        {
          "output_type": "stream",
          "text": [
            "time: 10.5 ms\n"
          ],
          "name": "stdout"
        }
      ]
    },
    {
      "cell_type": "markdown",
      "metadata": {
        "id": "bFOyaQ_a4_fM"
      },
      "source": [
        "## Task 9\n",
        "- For each country, compute the difference between the overall amount of money lent and the overall amount of money borrowed. Since the country of the lender is often unknown, you can assume that the true distribution among the countries is the same as the one computed from the rows where the country is known."
      ]
    },
    {
      "cell_type": "markdown",
      "metadata": {
        "id": "QXKlr765-m49"
      },
      "source": [
        "### Load csv (lenders)"
      ]
    },
    {
      "cell_type": "code",
      "metadata": {
        "id": "Z4sd6tju5Olp",
        "outputId": "ec620150-94c8-4eb8-b546-7f33e83103c3",
        "colab": {
          "base_uri": "https://localhost:8080/",
          "height": 34
        }
      },
      "source": [
        "lenders = pd.read_csv('/content/drive/My Drive/Foundation of computer science/additional-kiva-snapshot/lenders.csv')"
      ],
      "execution_count": 73,
      "outputs": [
        {
          "output_type": "stream",
          "text": [
            "time: 4.94 s\n"
          ],
          "name": "stdout"
        }
      ]
    },
    {
      "cell_type": "markdown",
      "metadata": {
        "id": "yq5tivIL3_i0"
      },
      "source": [
        "_Overview_"
      ]
    },
    {
      "cell_type": "code",
      "metadata": {
        "id": "Y-bRzrVh4AuC",
        "outputId": "de52ea37-11fe-43ed-bfa7-a2cdbe66d8c5",
        "colab": {
          "base_uri": "https://localhost:8080/",
          "height": 218
        }
      },
      "source": [
        "lenders.dtypes"
      ],
      "execution_count": 74,
      "outputs": [
        {
          "output_type": "execute_result",
          "data": {
            "text/plain": [
              "permanent_name        object\n",
              "display_name          object\n",
              "city                  object\n",
              "state                 object\n",
              "country_code          object\n",
              "member_since           int64\n",
              "occupation            object\n",
              "loan_because          object\n",
              "loan_purchase_num    float64\n",
              "invited_by            object\n",
              "num_invited            int64\n",
              "dtype: object"
            ]
          },
          "metadata": {
            "tags": []
          },
          "execution_count": 74
        },
        {
          "output_type": "stream",
          "text": [
            "time: 4.66 ms\n"
          ],
          "name": "stdout"
        }
      ]
    },
    {
      "cell_type": "code",
      "metadata": {
        "id": "9miSowhW4Etk",
        "outputId": "ec414014-e086-4119-dcfc-e5b255b5e372",
        "colab": {
          "base_uri": "https://localhost:8080/",
          "height": 229
        }
      },
      "source": [
        "print('Number rows: '+str(len(lenders)))\n",
        "lenders.head()"
      ],
      "execution_count": 75,
      "outputs": [
        {
          "output_type": "stream",
          "text": [
            "Number rows: 2349174\n"
          ],
          "name": "stdout"
        },
        {
          "output_type": "execute_result",
          "data": {
            "text/html": [
              "<div>\n",
              "<style scoped>\n",
              "    .dataframe tbody tr th:only-of-type {\n",
              "        vertical-align: middle;\n",
              "    }\n",
              "\n",
              "    .dataframe tbody tr th {\n",
              "        vertical-align: top;\n",
              "    }\n",
              "\n",
              "    .dataframe thead th {\n",
              "        text-align: right;\n",
              "    }\n",
              "</style>\n",
              "<table border=\"1\" class=\"dataframe\">\n",
              "  <thead>\n",
              "    <tr style=\"text-align: right;\">\n",
              "      <th></th>\n",
              "      <th>permanent_name</th>\n",
              "      <th>display_name</th>\n",
              "      <th>city</th>\n",
              "      <th>state</th>\n",
              "      <th>country_code</th>\n",
              "      <th>member_since</th>\n",
              "      <th>occupation</th>\n",
              "      <th>loan_because</th>\n",
              "      <th>loan_purchase_num</th>\n",
              "      <th>invited_by</th>\n",
              "      <th>num_invited</th>\n",
              "    </tr>\n",
              "  </thead>\n",
              "  <tbody>\n",
              "    <tr>\n",
              "      <th>0</th>\n",
              "      <td>qian3013</td>\n",
              "      <td>Qian</td>\n",
              "      <td>NaN</td>\n",
              "      <td>NaN</td>\n",
              "      <td>NaN</td>\n",
              "      <td>1461300457</td>\n",
              "      <td>NaN</td>\n",
              "      <td>NaN</td>\n",
              "      <td>1.0</td>\n",
              "      <td>NaN</td>\n",
              "      <td>0</td>\n",
              "    </tr>\n",
              "    <tr>\n",
              "      <th>1</th>\n",
              "      <td>reena6733</td>\n",
              "      <td>Reena</td>\n",
              "      <td>NaN</td>\n",
              "      <td>NaN</td>\n",
              "      <td>NaN</td>\n",
              "      <td>1461300634</td>\n",
              "      <td>NaN</td>\n",
              "      <td>NaN</td>\n",
              "      <td>9.0</td>\n",
              "      <td>NaN</td>\n",
              "      <td>0</td>\n",
              "    </tr>\n",
              "    <tr>\n",
              "      <th>2</th>\n",
              "      <td>mai5982</td>\n",
              "      <td>Mai</td>\n",
              "      <td>NaN</td>\n",
              "      <td>NaN</td>\n",
              "      <td>NaN</td>\n",
              "      <td>1461300853</td>\n",
              "      <td>NaN</td>\n",
              "      <td>NaN</td>\n",
              "      <td>NaN</td>\n",
              "      <td>NaN</td>\n",
              "      <td>0</td>\n",
              "    </tr>\n",
              "    <tr>\n",
              "      <th>3</th>\n",
              "      <td>andrew86079135</td>\n",
              "      <td>Andrew</td>\n",
              "      <td>NaN</td>\n",
              "      <td>NaN</td>\n",
              "      <td>NaN</td>\n",
              "      <td>1461301091</td>\n",
              "      <td>NaN</td>\n",
              "      <td>NaN</td>\n",
              "      <td>5.0</td>\n",
              "      <td>Peter Tan</td>\n",
              "      <td>0</td>\n",
              "    </tr>\n",
              "    <tr>\n",
              "      <th>4</th>\n",
              "      <td>nguyen6962</td>\n",
              "      <td>Nguyen</td>\n",
              "      <td>NaN</td>\n",
              "      <td>NaN</td>\n",
              "      <td>NaN</td>\n",
              "      <td>1461301154</td>\n",
              "      <td>NaN</td>\n",
              "      <td>NaN</td>\n",
              "      <td>NaN</td>\n",
              "      <td>NaN</td>\n",
              "      <td>0</td>\n",
              "    </tr>\n",
              "  </tbody>\n",
              "</table>\n",
              "</div>"
            ],
            "text/plain": [
              "   permanent_name display_name city  ... loan_purchase_num invited_by  num_invited\n",
              "0        qian3013         Qian  NaN  ...               1.0        NaN            0\n",
              "1       reena6733        Reena  NaN  ...               9.0        NaN            0\n",
              "2         mai5982          Mai  NaN  ...               NaN        NaN            0\n",
              "3  andrew86079135       Andrew  NaN  ...               5.0  Peter Tan            0\n",
              "4      nguyen6962       Nguyen  NaN  ...               NaN        NaN            0\n",
              "\n",
              "[5 rows x 11 columns]"
            ]
          },
          "metadata": {
            "tags": []
          },
          "execution_count": 75
        },
        {
          "output_type": "stream",
          "text": [
            "time: 26.2 ms\n"
          ],
          "name": "stdout"
        }
      ]
    },
    {
      "cell_type": "code",
      "metadata": {
        "id": "DV_wENVnJ29A",
        "outputId": "3d9f94d7-557e-4f81-ec8d-07dc8e183b10",
        "colab": {
          "base_uri": "https://localhost:8080/",
          "height": 50
        }
      },
      "source": [
        "lenders['state'].unique() #motivo per cui si sceglie country_code come id country"
      ],
      "execution_count": 76,
      "outputs": [
        {
          "output_type": "execute_result",
          "data": {
            "text/plain": [
              "array([nan, 'NSW', 'FL', ..., 'Memphis, TN', 'West Parade', 'Cymru Wales'],\n",
              "      dtype=object)"
            ]
          },
          "metadata": {
            "tags": []
          },
          "execution_count": 76
        },
        {
          "output_type": "stream",
          "text": [
            "time: 109 ms\n"
          ],
          "name": "stdout"
        }
      ]
    },
    {
      "cell_type": "code",
      "metadata": {
        "id": "CO8r_4ku8C8I",
        "outputId": "6af7caf5-9845-4661-f014-47fed4aa0c99",
        "colab": {
          "base_uri": "https://localhost:8080/",
          "height": 34
        }
      },
      "source": [
        "lenders = lenders[['permanent_name','country_code']]"
      ],
      "execution_count": 77,
      "outputs": [
        {
          "output_type": "stream",
          "text": [
            "time: 45.8 ms\n"
          ],
          "name": "stdout"
        }
      ]
    },
    {
      "cell_type": "code",
      "metadata": {
        "id": "2wTiJOJDBFr2",
        "outputId": "69d867e5-fdab-49fd-cd48-912403b8811e",
        "colab": {
          "base_uri": "https://localhost:8080/",
          "height": 34
        }
      },
      "source": [
        "unknown_lenders = lenders[lenders['country_code'].isnull()]\n",
        "tot = len(lenders)"
      ],
      "execution_count": 78,
      "outputs": [
        {
          "output_type": "stream",
          "text": [
            "time: 154 ms\n"
          ],
          "name": "stdout"
        }
      ]
    },
    {
      "cell_type": "code",
      "metadata": {
        "id": "nseISRXg_uLV",
        "outputId": "1e9bba05-d9e9-48d3-ba75-159811129427",
        "colab": {
          "base_uri": "https://localhost:8080/",
          "height": 50
        }
      },
      "source": [
        "print(\"Country lenders unknown: \"+str(len(unknown_lenders)/tot))"
      ],
      "execution_count": 79,
      "outputs": [
        {
          "output_type": "stream",
          "text": [
            "Country lenders unknown: 0.620913989342637\n",
            "time: 1.28 ms\n"
          ],
          "name": "stdout"
        }
      ]
    },
    {
      "cell_type": "code",
      "metadata": {
        "id": "cdZ1WYrDAbKt",
        "outputId": "9944216e-a416-4d10-969f-a002861c9c70",
        "colab": {
          "base_uri": "https://localhost:8080/",
          "height": 34
        }
      },
      "source": [
        "lenders.drop(index=unknown_lenders.index,inplace=True)\n",
        "lenders_country = lenders"
      ],
      "execution_count": 80,
      "outputs": [
        {
          "output_type": "stream",
          "text": [
            "time: 426 ms\n"
          ],
          "name": "stdout"
        }
      ]
    },
    {
      "cell_type": "markdown",
      "metadata": {
        "id": "0Hco1dz4HzxZ"
      },
      "source": [
        "### Compute distribution country lenders known"
      ]
    },
    {
      "cell_type": "code",
      "metadata": {
        "id": "3y2wBEmrJrcQ",
        "outputId": "031ad5c7-6375-4e26-956d-a1cf1fdb0d2c",
        "colab": {
          "base_uri": "https://localhost:8080/",
          "height": 34
        }
      },
      "source": [
        "dist = lenders_country['country_code'].value_counts(normalize=True) #ritorna frequenza relativa\n",
        "lenders_country_dist = pd.DataFrame(dist).reset_index(drop=False)\n",
        "lenders_country_dist.rename(columns={'index':'country_code',\n",
        "                                     'country_code':'distribution'},inplace=True)"
      ],
      "execution_count": 81,
      "outputs": [
        {
          "output_type": "stream",
          "text": [
            "time: 95.5 ms\n"
          ],
          "name": "stdout"
        }
      ]
    },
    {
      "cell_type": "code",
      "metadata": {
        "id": "RreWJTz8H6pL",
        "outputId": "99d5f5a2-fbd8-4d3c-ae46-e786d64b61af",
        "colab": {
          "base_uri": "https://localhost:8080/",
          "height": 34
        }
      },
      "source": [
        "lenders_country_dist['distribution_100'] = round(lenders_country_dist['distribution'] * 100,2)"
      ],
      "execution_count": 82,
      "outputs": [
        {
          "output_type": "stream",
          "text": [
            "time: 2.73 ms\n"
          ],
          "name": "stdout"
        }
      ]
    },
    {
      "cell_type": "markdown",
      "metadata": {
        "id": "nnMwaeChEfOy"
      },
      "source": [
        "### Distribution country lenders known\n",
        "\n"
      ]
    },
    {
      "cell_type": "code",
      "metadata": {
        "id": "gbkTudLISVeR",
        "outputId": "503acad2-329b-4e79-9e48-766723624db7",
        "colab": {
          "base_uri": "https://localhost:8080/",
          "height": 218
        }
      },
      "source": [
        "dist"
      ],
      "execution_count": 83,
      "outputs": [
        {
          "output_type": "execute_result",
          "data": {
            "text/plain": [
              "US    0.664330\n",
              "CA    0.076325\n",
              "GB    0.043097\n",
              "AU    0.041664\n",
              "DE    0.017975\n",
              "        ...   \n",
              "GW    0.000001\n",
              "NU    0.000001\n",
              "MS    0.000001\n",
              "KM    0.000001\n",
              "TF    0.000001\n",
              "Name: country_code, Length: 234, dtype: float64"
            ]
          },
          "metadata": {
            "tags": []
          },
          "execution_count": 83
        },
        {
          "output_type": "stream",
          "text": [
            "time: 4.59 ms\n"
          ],
          "name": "stdout"
        }
      ]
    },
    {
      "cell_type": "code",
      "metadata": {
        "id": "etMV9p_4Td_F",
        "outputId": "caa781b5-94f8-4559-ac93-e74b42da0368",
        "colab": {
          "base_uri": "https://localhost:8080/",
          "height": 384
        }
      },
      "source": [
        "dist_focus = lenders_country_dist.head(10)\n",
        "fig = plt.figure(figsize=(16,5))\n",
        "plt.bar(dist_focus['country_code'],dist_focus['distribution_100'],color='blue')\n",
        "plt.title('Distribution top10 countries')\n",
        "plt.xlabel('country')\n",
        "plt.ylabel('percentage(%)')"
      ],
      "execution_count": 84,
      "outputs": [
        {
          "output_type": "execute_result",
          "data": {
            "text/plain": [
              "Text(0, 0.5, 'percentage(%)')"
            ]
          },
          "metadata": {
            "tags": []
          },
          "execution_count": 84
        },
        {
          "output_type": "display_data",
          "data": {
            "image/png": "[encoded data removed]",
            "text/plain": [
              "<Figure size 1152x360 with 1 Axes>"
            ]
          },
          "metadata": {
            "tags": [],
            "needs_background": "light"
          }
        },
        {
          "output_type": "stream",
          "text": [
            "time: 248 ms\n"
          ],
          "name": "stdout"
        }
      ]
    },
    {
      "cell_type": "markdown",
      "metadata": {
        "id": "TglTQ3mBIzyL"
      },
      "source": [
        "### Replace NAN according distribution computed before"
      ]
    },
    {
      "cell_type": "code",
      "metadata": {
        "id": "fGYgA8ezPcBb",
        "outputId": "f180f903-6d4d-4d90-f593-b02985aceb65",
        "colab": {
          "base_uri": "https://localhost:8080/",
          "height": 34
        }
      },
      "source": [
        "unknown_lenders = unknown_lenders.copy()\n",
        "unknown_lenders['country_code'] = np.random.choice(dist.index, size = len(unknown_lenders), p = dist.values)"
      ],
      "execution_count": 85,
      "outputs": [
        {
          "output_type": "stream",
          "text": [
            "time: 114 ms\n"
          ],
          "name": "stdout"
        }
      ]
    },
    {
      "cell_type": "markdown",
      "metadata": {
        "id": "ByehBo51vV1f"
      },
      "source": [
        "### Compare two distributions"
      ]
    },
    {
      "cell_type": "code",
      "metadata": {
        "id": "zLwb1dJAZJQc",
        "outputId": "c70a2fbf-4900-4121-8bbc-7f2f52943490",
        "colab": {
          "base_uri": "https://localhost:8080/",
          "height": 34
        }
      },
      "source": [
        "dist_nan = unknown_lenders['country_code'].value_counts(normalize=True)\n",
        "unknown_code_dist = pd.DataFrame(dist_nan).reset_index(drop=False)\n",
        "unknown_code_dist.rename(columns={'index':'country_code',\n",
        "                                     'country_code':'distribution'},inplace=True)\n",
        "unknown_code_dist['distribution_unknown'] = round(unknown_code_dist['distribution']*100,2)"
      ],
      "execution_count": 86,
      "outputs": [
        {
          "output_type": "stream",
          "text": [
            "time: 136 ms\n"
          ],
          "name": "stdout"
        }
      ]
    },
    {
      "cell_type": "code",
      "metadata": {
        "id": "Q9sJT2-6dZSe",
        "outputId": "8a178076-eebb-4def-ee52-4c16c1684426",
        "colab": {
          "base_uri": "https://localhost:8080/",
          "height": 34
        }
      },
      "source": [
        "compare_dist = pd.merge(lenders_country_dist,unknown_code_dist,how='inner',on='country_code')\n",
        "compare_dist.drop(columns=['distribution_x','distribution_y'],inplace=True)"
      ],
      "execution_count": 87,
      "outputs": [
        {
          "output_type": "stream",
          "text": [
            "time: 7.46 ms\n"
          ],
          "name": "stdout"
        }
      ]
    },
    {
      "cell_type": "markdown",
      "metadata": {
        "id": "QCpfxa0t0cAF"
      },
      "source": [
        "#### Barchart compare distribution (top10)"
      ]
    },
    {
      "cell_type": "code",
      "metadata": {
        "id": "IsOfOveSehdK",
        "outputId": "59b5ef0e-1c60-4350-97f1-92c537558f50",
        "colab": {
          "base_uri": "https://localhost:8080/",
          "height": 384
        }
      },
      "source": [
        "compare_dist = compare_dist.head(10)\n",
        "country = compare_dist['country_code']\n",
        "\n",
        "x = np.arange(len(compare_dist))\n",
        "fig, ax = plt.subplots(figsize=(16,5))\n",
        "bar_width = 0.5\n",
        "\n",
        "ax.bar(x-bar_width/2,compare_dist['distribution_100'],width=bar_width,color='blue',label='original')\n",
        "ax.bar(x+bar_width/2,compare_dist['distribution_unknown'],width=bar_width,color='orange',label='unknown')\n",
        "plt.title('Comparison distributions')\n",
        "ax.set_xticks(x)\n",
        "ax.set_xticklabels(country)\n",
        "plt.xlabel('country')\n",
        "plt.ylabel('percentage(%)')\n",
        "plt.legend()"
      ],
      "execution_count": 88,
      "outputs": [
        {
          "output_type": "execute_result",
          "data": {
            "text/plain": [
              "<matplotlib.legend.Legend at 0x7f67bacd0cf8>"
            ]
          },
          "metadata": {
            "tags": []
          },
          "execution_count": 88
        },
        {
          "output_type": "display_data",
          "data": {
            "image/png": "[encoded data removed]",
            "text/plain": [
              "<Figure size 1152x360 with 1 Axes>"
            ]
          },
          "metadata": {
            "tags": [],
            "needs_background": "light"
          }
        },
        {
          "output_type": "stream",
          "text": [
            "time: 264 ms\n"
          ],
          "name": "stdout"
        }
      ]
    },
    {
      "cell_type": "code",
      "metadata": {
        "id": "8OuRP18BI-Fu",
        "outputId": "c8782f76-1736-4111-8740-46b84224469b",
        "colab": {
          "base_uri": "https://localhost:8080/",
          "height": 34
        }
      },
      "source": [
        "lenders_country = pd.concat([lenders_country,unknown_lenders],axis=0) #per ogni lender è associata una nazione"
      ],
      "execution_count": 89,
      "outputs": [
        {
          "output_type": "stream",
          "text": [
            "time: 50.1 ms\n"
          ],
          "name": "stdout"
        }
      ]
    },
    {
      "cell_type": "code",
      "metadata": {
        "id": "9MIMm7meyccG",
        "outputId": "4af43ea2-90f6-4980-e33b-c507658a1292",
        "colab": {
          "base_uri": "https://localhost:8080/",
          "height": 34
        }
      },
      "source": [
        "lenders_country.rename(columns={'permanent_name':'lenders'},inplace=True)"
      ],
      "execution_count": 90,
      "outputs": [
        {
          "output_type": "stream",
          "text": [
            "time: 2.18 ms\n"
          ],
          "name": "stdout"
        }
      ]
    },
    {
      "cell_type": "code",
      "metadata": {
        "id": "ZZpCf2h05Zjr",
        "outputId": "f4885bb7-d147-464f-bb0c-10e132dfd650",
        "colab": {
          "base_uri": "https://localhost:8080/",
          "height": 418
        }
      },
      "source": [
        "lenders_country"
      ],
      "execution_count": 91,
      "outputs": [
        {
          "output_type": "execute_result",
          "data": {
            "text/html": [
              "<div>\n",
              "<style scoped>\n",
              "    .dataframe tbody tr th:only-of-type {\n",
              "        vertical-align: middle;\n",
              "    }\n",
              "\n",
              "    .dataframe tbody tr th {\n",
              "        vertical-align: top;\n",
              "    }\n",
              "\n",
              "    .dataframe thead th {\n",
              "        text-align: right;\n",
              "    }\n",
              "</style>\n",
              "<table border=\"1\" class=\"dataframe\">\n",
              "  <thead>\n",
              "    <tr style=\"text-align: right;\">\n",
              "      <th></th>\n",
              "      <th>lenders</th>\n",
              "      <th>country_code</th>\n",
              "    </tr>\n",
              "  </thead>\n",
              "  <tbody>\n",
              "    <tr>\n",
              "      <th>16</th>\n",
              "      <td>naresh2074</td>\n",
              "      <td>US</td>\n",
              "    </tr>\n",
              "    <tr>\n",
              "      <th>31</th>\n",
              "      <td>christina27976796</td>\n",
              "      <td>US</td>\n",
              "    </tr>\n",
              "    <tr>\n",
              "      <th>37</th>\n",
              "      <td>vikas1098</td>\n",
              "      <td>IN</td>\n",
              "    </tr>\n",
              "    <tr>\n",
              "      <th>39</th>\n",
              "      <td>qian1385</td>\n",
              "      <td>US</td>\n",
              "    </tr>\n",
              "    <tr>\n",
              "      <th>42</th>\n",
              "      <td>xigg8769</td>\n",
              "      <td>US</td>\n",
              "    </tr>\n",
              "    <tr>\n",
              "      <th>...</th>\n",
              "      <td>...</td>\n",
              "      <td>...</td>\n",
              "    </tr>\n",
              "    <tr>\n",
              "      <th>2349167</th>\n",
              "      <td>todd5695</td>\n",
              "      <td>CZ</td>\n",
              "    </tr>\n",
              "    <tr>\n",
              "      <th>2349168</th>\n",
              "      <td>kate40761039</td>\n",
              "      <td>US</td>\n",
              "    </tr>\n",
              "    <tr>\n",
              "      <th>2349169</th>\n",
              "      <td>janet7309</td>\n",
              "      <td>US</td>\n",
              "    </tr>\n",
              "    <tr>\n",
              "      <th>2349170</th>\n",
              "      <td>pj4198</td>\n",
              "      <td>US</td>\n",
              "    </tr>\n",
              "    <tr>\n",
              "      <th>2349172</th>\n",
              "      <td>simone9846</td>\n",
              "      <td>US</td>\n",
              "    </tr>\n",
              "  </tbody>\n",
              "</table>\n",
              "<p>2349174 rows × 2 columns</p>\n",
              "</div>"
            ],
            "text/plain": [
              "                   lenders country_code\n",
              "16              naresh2074           US\n",
              "31       christina27976796           US\n",
              "37               vikas1098           IN\n",
              "39                qian1385           US\n",
              "42                xigg8769           US\n",
              "...                    ...          ...\n",
              "2349167           todd5695           CZ\n",
              "2349168       kate40761039           US\n",
              "2349169          janet7309           US\n",
              "2349170             pj4198           US\n",
              "2349172         simone9846           US\n",
              "\n",
              "[2349174 rows x 2 columns]"
            ]
          },
          "metadata": {
            "tags": []
          },
          "execution_count": 91
        },
        {
          "output_type": "stream",
          "text": [
            "time: 13.5 ms\n"
          ],
          "name": "stdout"
        }
      ]
    },
    {
      "cell_type": "markdown",
      "metadata": {
        "id": "53xUrQa5MOU0"
      },
      "source": [
        "### Get amount for each lender and his country"
      ]
    },
    {
      "cell_type": "code",
      "metadata": {
        "id": "CtUvZnRIM6fK",
        "outputId": "9a2a8b42-70f1-4fa4-8ff0-4231b59a4cc2",
        "colab": {
          "base_uri": "https://localhost:8080/",
          "height": 34
        }
      },
      "source": [
        "amount_lender_country = pd.merge(amount_lender,lenders_country,how='inner',on='lenders')"
      ],
      "execution_count": 92,
      "outputs": [
        {
          "output_type": "stream",
          "text": [
            "time: 3.52 s\n"
          ],
          "name": "stdout"
        }
      ]
    },
    {
      "cell_type": "code",
      "metadata": {
        "id": "DWSrJ7Sinsi1",
        "outputId": "0d5c983b-15b8-4b31-b143-6c56cc92ec97",
        "colab": {
          "base_uri": "https://localhost:8080/",
          "height": 418
        }
      },
      "source": [
        "amount_lender_country"
      ],
      "execution_count": 93,
      "outputs": [
        {
          "output_type": "execute_result",
          "data": {
            "text/html": [
              "<div>\n",
              "<style scoped>\n",
              "    .dataframe tbody tr th:only-of-type {\n",
              "        vertical-align: middle;\n",
              "    }\n",
              "\n",
              "    .dataframe tbody tr th {\n",
              "        vertical-align: top;\n",
              "    }\n",
              "\n",
              "    .dataframe thead th {\n",
              "        text-align: right;\n",
              "    }\n",
              "</style>\n",
              "<table border=\"1\" class=\"dataframe\">\n",
              "  <thead>\n",
              "    <tr style=\"text-align: right;\">\n",
              "      <th></th>\n",
              "      <th>lenders</th>\n",
              "      <th>amount</th>\n",
              "      <th>country_code</th>\n",
              "    </tr>\n",
              "  </thead>\n",
              "  <tbody>\n",
              "    <tr>\n",
              "      <th>0</th>\n",
              "      <td>000</td>\n",
              "      <td>1764.26</td>\n",
              "      <td>US</td>\n",
              "    </tr>\n",
              "    <tr>\n",
              "      <th>1</th>\n",
              "      <td>00000</td>\n",
              "      <td>1380.68</td>\n",
              "      <td>DE</td>\n",
              "    </tr>\n",
              "    <tr>\n",
              "      <th>2</th>\n",
              "      <td>0002</td>\n",
              "      <td>2472.54</td>\n",
              "      <td>US</td>\n",
              "    </tr>\n",
              "    <tr>\n",
              "      <th>3</th>\n",
              "      <td>00mike00</td>\n",
              "      <td>52.63</td>\n",
              "      <td>US</td>\n",
              "    </tr>\n",
              "    <tr>\n",
              "      <th>4</th>\n",
              "      <td>0101craign0101</td>\n",
              "      <td>2623.50</td>\n",
              "      <td>US</td>\n",
              "    </tr>\n",
              "    <tr>\n",
              "      <th>...</th>\n",
              "      <td>...</td>\n",
              "      <td>...</td>\n",
              "      <td>...</td>\n",
              "    </tr>\n",
              "    <tr>\n",
              "      <th>1383794</th>\n",
              "      <td>zzmcfate</td>\n",
              "      <td>66113.04</td>\n",
              "      <td>US</td>\n",
              "    </tr>\n",
              "    <tr>\n",
              "      <th>1383795</th>\n",
              "      <td>zzpaghetti9994</td>\n",
              "      <td>51.02</td>\n",
              "      <td>US</td>\n",
              "    </tr>\n",
              "    <tr>\n",
              "      <th>1383796</th>\n",
              "      <td>zzrvmf8538</td>\n",
              "      <td>576.97</td>\n",
              "      <td>US</td>\n",
              "    </tr>\n",
              "    <tr>\n",
              "      <th>1383797</th>\n",
              "      <td>zzzsai</td>\n",
              "      <td>267.67</td>\n",
              "      <td>US</td>\n",
              "    </tr>\n",
              "    <tr>\n",
              "      <th>1383798</th>\n",
              "      <td>zzzworld</td>\n",
              "      <td>27.52</td>\n",
              "      <td>TC</td>\n",
              "    </tr>\n",
              "  </tbody>\n",
              "</table>\n",
              "<p>1383799 rows × 3 columns</p>\n",
              "</div>"
            ],
            "text/plain": [
              "                lenders    amount country_code\n",
              "0                   000   1764.26           US\n",
              "1                 00000   1380.68           DE\n",
              "2                  0002   2472.54           US\n",
              "3              00mike00     52.63           US\n",
              "4        0101craign0101   2623.50           US\n",
              "...                 ...       ...          ...\n",
              "1383794        zzmcfate  66113.04           US\n",
              "1383795  zzpaghetti9994     51.02           US\n",
              "1383796      zzrvmf8538    576.97           US\n",
              "1383797          zzzsai    267.67           US\n",
              "1383798        zzzworld     27.52           TC\n",
              "\n",
              "[1383799 rows x 3 columns]"
            ]
          },
          "metadata": {
            "tags": []
          },
          "execution_count": 93
        },
        {
          "output_type": "stream",
          "text": [
            "time: 18.9 ms\n"
          ],
          "name": "stdout"
        }
      ]
    },
    {
      "cell_type": "code",
      "metadata": {
        "id": "_oanyZzzNsHs",
        "outputId": "bc3a0b54-f978-4f91-8a35-d347a6cb6cba",
        "colab": {
          "base_uri": "https://localhost:8080/",
          "height": 34
        }
      },
      "source": [
        "country_amount_lent = amount_lender_country.groupby('country_code')['amount'].sum()\n",
        "country_amount_lent = pd.DataFrame(country_amount_lent).reset_index(level=0)"
      ],
      "execution_count": 94,
      "outputs": [
        {
          "output_type": "stream",
          "text": [
            "time: 83.8 ms\n"
          ],
          "name": "stdout"
        }
      ]
    },
    {
      "cell_type": "code",
      "metadata": {
        "id": "wVPgQkNoOkJK",
        "outputId": "224ae322-2cd7-459b-d3f6-186beea09aad",
        "colab": {
          "base_uri": "https://localhost:8080/",
          "height": 34
        }
      },
      "source": [
        "country_amount_lent.rename(columns={'amount':'lent'},inplace=True)"
      ],
      "execution_count": 95,
      "outputs": [
        {
          "output_type": "stream",
          "text": [
            "time: 1.85 ms\n"
          ],
          "name": "stdout"
        }
      ]
    },
    {
      "cell_type": "code",
      "metadata": {
        "id": "kHjAq1aj46kG",
        "outputId": "563d8d76-50ac-434d-f785-cc60ebe1d0c7",
        "colab": {
          "base_uri": "https://localhost:8080/",
          "height": 34
        }
      },
      "source": [
        "len(country_amount_lent), len(country_amount_loan_perc)"
      ],
      "execution_count": 96,
      "outputs": [
        {
          "output_type": "execute_result",
          "data": {
            "text/plain": [
              "(230, 96)"
            ]
          },
          "metadata": {
            "tags": []
          },
          "execution_count": 96
        },
        {
          "output_type": "stream",
          "text": [
            "time: 2.87 ms\n"
          ],
          "name": "stdout"
        }
      ]
    },
    {
      "cell_type": "code",
      "metadata": {
        "id": "dByQ8KGNGTra",
        "outputId": "1168fada-1ba4-4ad6-f725-932d42b2c751",
        "colab": {
          "base_uri": "https://localhost:8080/",
          "height": 1000
        }
      },
      "source": [
        "lent = country_amount_lent['country_code'].values\n",
        "borrowed = country_amount_loan_perc['country_code'].values\n",
        "\n",
        "set(lent) - set(borrowed)"
      ],
      "execution_count": 97,
      "outputs": [
        {
          "output_type": "execute_result",
          "data": {
            "text/plain": [
              "{'AD',\n",
              " 'AE',\n",
              " 'AG',\n",
              " 'AI',\n",
              " 'AN',\n",
              " 'AO',\n",
              " 'AQ',\n",
              " 'AR',\n",
              " 'AS',\n",
              " 'AT',\n",
              " 'AU',\n",
              " 'AW',\n",
              " 'BB',\n",
              " 'BD',\n",
              " 'BE',\n",
              " 'BH',\n",
              " 'BM',\n",
              " 'BN',\n",
              " 'BS',\n",
              " 'BV',\n",
              " 'BY',\n",
              " 'CH',\n",
              " 'CK',\n",
              " 'CS',\n",
              " 'CU',\n",
              " 'CV',\n",
              " 'CX',\n",
              " 'CY',\n",
              " 'CZ',\n",
              " 'DE',\n",
              " 'DJ',\n",
              " 'DK',\n",
              " 'DM',\n",
              " 'DZ',\n",
              " 'EE',\n",
              " 'EH',\n",
              " 'ER',\n",
              " 'ES',\n",
              " 'ET',\n",
              " 'FI',\n",
              " 'FJ',\n",
              " 'FK',\n",
              " 'FO',\n",
              " 'FR',\n",
              " 'GA',\n",
              " 'GB',\n",
              " 'GD',\n",
              " 'GF',\n",
              " 'GI',\n",
              " 'GL',\n",
              " 'GM',\n",
              " 'GN',\n",
              " 'GP',\n",
              " 'GR',\n",
              " 'GS',\n",
              " 'GY',\n",
              " 'HK',\n",
              " 'HR',\n",
              " 'HU',\n",
              " 'IE',\n",
              " 'IO',\n",
              " 'IR',\n",
              " 'IS',\n",
              " 'IT',\n",
              " 'JM',\n",
              " 'JP',\n",
              " 'KM',\n",
              " 'KN',\n",
              " 'KP',\n",
              " 'KR',\n",
              " 'KW',\n",
              " 'KY',\n",
              " 'KZ',\n",
              " 'LC',\n",
              " 'LI',\n",
              " 'LT',\n",
              " 'LU',\n",
              " 'LV',\n",
              " 'LY',\n",
              " 'MA',\n",
              " 'MC',\n",
              " 'ME',\n",
              " 'MH',\n",
              " 'MK',\n",
              " 'MO',\n",
              " 'MP',\n",
              " 'MQ',\n",
              " 'MS',\n",
              " 'MT',\n",
              " 'MU',\n",
              " 'MV',\n",
              " 'MY',\n",
              " 'NC',\n",
              " 'NE',\n",
              " 'NF',\n",
              " 'NL',\n",
              " 'NO',\n",
              " 'NZ',\n",
              " 'OM',\n",
              " 'PF',\n",
              " 'PL',\n",
              " 'PN',\n",
              " 'PT',\n",
              " 'PW',\n",
              " 'QA',\n",
              " 'RE',\n",
              " 'RO',\n",
              " 'RS',\n",
              " 'RU',\n",
              " 'SA',\n",
              " 'SC',\n",
              " 'SD',\n",
              " 'SE',\n",
              " 'SG',\n",
              " 'SH',\n",
              " 'SI',\n",
              " 'SJ',\n",
              " 'SK',\n",
              " 'SM',\n",
              " 'SY',\n",
              " 'SZ',\n",
              " 'TC',\n",
              " 'TK',\n",
              " 'TM',\n",
              " 'TN',\n",
              " 'TO',\n",
              " 'TT',\n",
              " 'TV',\n",
              " 'TW',\n",
              " 'UM',\n",
              " 'UZ',\n",
              " 'VA',\n",
              " 'VE',\n",
              " 'VG',\n",
              " 'WF',\n",
              " 'YT'}"
            ]
          },
          "metadata": {
            "tags": []
          },
          "execution_count": 97
        },
        {
          "output_type": "stream",
          "text": [
            "time: 5.87 ms\n"
          ],
          "name": "stdout"
        }
      ]
    },
    {
      "cell_type": "markdown",
      "metadata": {
        "id": "_5QXpyrPNaON"
      },
      "source": [
        "### Right join between amount country borrowed and amount country lent"
      ]
    },
    {
      "cell_type": "code",
      "metadata": {
        "id": "dT3pJyA0PNyD",
        "outputId": "f0b902a8-ca7c-46a1-c49d-8dc4bbc28f16",
        "colab": {
          "base_uri": "https://localhost:8080/",
          "height": 34
        }
      },
      "source": [
        "country_difference = pd.merge(country_amount_loan_perc,country_amount_lent,how='right',on='country_code') #in questo modo si considerano anche gli stati non hanno mai ricevuto denaro\n",
        "country_difference.drop(columns='percentage',inplace=True)"
      ],
      "execution_count": 98,
      "outputs": [
        {
          "output_type": "stream",
          "text": [
            "time: 14.2 ms\n"
          ],
          "name": "stdout"
        }
      ]
    },
    {
      "cell_type": "code",
      "metadata": {
        "id": "CThd8y4Naoxw",
        "outputId": "e9e6f6aa-0f8a-4cb6-84d1-a20e57f625ff",
        "colab": {
          "base_uri": "https://localhost:8080/",
          "height": 418
        }
      },
      "source": [
        "country_difference"
      ],
      "execution_count": 99,
      "outputs": [
        {
          "output_type": "execute_result",
          "data": {
            "text/html": [
              "<div>\n",
              "<style scoped>\n",
              "    .dataframe tbody tr th:only-of-type {\n",
              "        vertical-align: middle;\n",
              "    }\n",
              "\n",
              "    .dataframe tbody tr th {\n",
              "        vertical-align: top;\n",
              "    }\n",
              "\n",
              "    .dataframe thead th {\n",
              "        text-align: right;\n",
              "    }\n",
              "</style>\n",
              "<table border=\"1\" class=\"dataframe\">\n",
              "  <thead>\n",
              "    <tr style=\"text-align: right;\">\n",
              "      <th></th>\n",
              "      <th>country_code</th>\n",
              "      <th>borrowed</th>\n",
              "      <th>lent</th>\n",
              "    </tr>\n",
              "  </thead>\n",
              "  <tbody>\n",
              "    <tr>\n",
              "      <th>0</th>\n",
              "      <td>AD</td>\n",
              "      <td>NaN</td>\n",
              "      <td>8465.32</td>\n",
              "    </tr>\n",
              "    <tr>\n",
              "      <th>1</th>\n",
              "      <td>AE</td>\n",
              "      <td>NaN</td>\n",
              "      <td>1989503.73</td>\n",
              "    </tr>\n",
              "    <tr>\n",
              "      <th>2</th>\n",
              "      <td>AF</td>\n",
              "      <td>1967950.0</td>\n",
              "      <td>159363.80</td>\n",
              "    </tr>\n",
              "    <tr>\n",
              "      <th>3</th>\n",
              "      <td>AG</td>\n",
              "      <td>NaN</td>\n",
              "      <td>2188.24</td>\n",
              "    </tr>\n",
              "    <tr>\n",
              "      <th>4</th>\n",
              "      <td>AI</td>\n",
              "      <td>NaN</td>\n",
              "      <td>483.90</td>\n",
              "    </tr>\n",
              "    <tr>\n",
              "      <th>...</th>\n",
              "      <td>...</td>\n",
              "      <td>...</td>\n",
              "      <td>...</td>\n",
              "    </tr>\n",
              "    <tr>\n",
              "      <th>225</th>\n",
              "      <td>YE</td>\n",
              "      <td>3444000.0</td>\n",
              "      <td>48722.78</td>\n",
              "    </tr>\n",
              "    <tr>\n",
              "      <th>226</th>\n",
              "      <td>YT</td>\n",
              "      <td>NaN</td>\n",
              "      <td>465.37</td>\n",
              "    </tr>\n",
              "    <tr>\n",
              "      <th>227</th>\n",
              "      <td>ZA</td>\n",
              "      <td>1006525.0</td>\n",
              "      <td>986856.48</td>\n",
              "    </tr>\n",
              "    <tr>\n",
              "      <th>228</th>\n",
              "      <td>ZM</td>\n",
              "      <td>1978975.0</td>\n",
              "      <td>45097.78</td>\n",
              "    </tr>\n",
              "    <tr>\n",
              "      <th>229</th>\n",
              "      <td>ZW</td>\n",
              "      <td>5851875.0</td>\n",
              "      <td>11403.10</td>\n",
              "    </tr>\n",
              "  </tbody>\n",
              "</table>\n",
              "<p>230 rows × 3 columns</p>\n",
              "</div>"
            ],
            "text/plain": [
              "    country_code   borrowed        lent\n",
              "0             AD        NaN     8465.32\n",
              "1             AE        NaN  1989503.73\n",
              "2             AF  1967950.0   159363.80\n",
              "3             AG        NaN     2188.24\n",
              "4             AI        NaN      483.90\n",
              "..           ...        ...         ...\n",
              "225           YE  3444000.0    48722.78\n",
              "226           YT        NaN      465.37\n",
              "227           ZA  1006525.0   986856.48\n",
              "228           ZM  1978975.0    45097.78\n",
              "229           ZW  5851875.0    11403.10\n",
              "\n",
              "[230 rows x 3 columns]"
            ]
          },
          "metadata": {
            "tags": []
          },
          "execution_count": 99
        },
        {
          "output_type": "stream",
          "text": [
            "time: 15.7 ms\n"
          ],
          "name": "stdout"
        }
      ]
    },
    {
      "cell_type": "markdown",
      "metadata": {
        "id": "brcH-h4qypVn"
      },
      "source": [
        "### Replace missing values borrowed"
      ]
    },
    {
      "cell_type": "code",
      "metadata": {
        "id": "e_ea_jxZ8Ekv",
        "outputId": "9be79f42-3e47-4ec3-9136-0280e9d85b4a",
        "colab": {
          "base_uri": "https://localhost:8080/",
          "height": 34
        }
      },
      "source": [
        "country_difference['borrowed'] = country_difference['borrowed'].fillna(0)"
      ],
      "execution_count": 100,
      "outputs": [
        {
          "output_type": "stream",
          "text": [
            "time: 1.64 ms\n"
          ],
          "name": "stdout"
        }
      ]
    },
    {
      "cell_type": "markdown",
      "metadata": {
        "id": "dHeVV2c12eed"
      },
      "source": [
        "### Compute difference between amount lent and amount borrowed"
      ]
    },
    {
      "cell_type": "code",
      "metadata": {
        "id": "d-gDF0aBQRov",
        "outputId": "36ca30bb-47d8-4689-f6c4-5b38f35df47a",
        "colab": {
          "base_uri": "https://localhost:8080/",
          "height": 34
        }
      },
      "source": [
        "country_difference['difference'] = country_difference['lent'] - country_difference['borrowed']"
      ],
      "execution_count": 101,
      "outputs": [
        {
          "output_type": "stream",
          "text": [
            "time: 2.29 ms\n"
          ],
          "name": "stdout"
        }
      ]
    },
    {
      "cell_type": "markdown",
      "metadata": {
        "id": "kuWe0iSvSKr2"
      },
      "source": [
        "### _Result_"
      ]
    },
    {
      "cell_type": "code",
      "metadata": {
        "id": "dQ-seQmVRJ4X",
        "outputId": "20f4ff55-e8cf-4fe0-f697-22ce2693d00b",
        "colab": {
          "base_uri": "https://localhost:8080/",
          "height": 212
        }
      },
      "source": [
        "country_difference[['country_code','difference']].head()"
      ],
      "execution_count": 102,
      "outputs": [
        {
          "output_type": "execute_result",
          "data": {
            "text/html": [
              "<div>\n",
              "<style scoped>\n",
              "    .dataframe tbody tr th:only-of-type {\n",
              "        vertical-align: middle;\n",
              "    }\n",
              "\n",
              "    .dataframe tbody tr th {\n",
              "        vertical-align: top;\n",
              "    }\n",
              "\n",
              "    .dataframe thead th {\n",
              "        text-align: right;\n",
              "    }\n",
              "</style>\n",
              "<table border=\"1\" class=\"dataframe\">\n",
              "  <thead>\n",
              "    <tr style=\"text-align: right;\">\n",
              "      <th></th>\n",
              "      <th>country_code</th>\n",
              "      <th>difference</th>\n",
              "    </tr>\n",
              "  </thead>\n",
              "  <tbody>\n",
              "    <tr>\n",
              "      <th>0</th>\n",
              "      <td>AD</td>\n",
              "      <td>8465.32</td>\n",
              "    </tr>\n",
              "    <tr>\n",
              "      <th>1</th>\n",
              "      <td>AE</td>\n",
              "      <td>1989503.73</td>\n",
              "    </tr>\n",
              "    <tr>\n",
              "      <th>2</th>\n",
              "      <td>AF</td>\n",
              "      <td>-1808586.20</td>\n",
              "    </tr>\n",
              "    <tr>\n",
              "      <th>3</th>\n",
              "      <td>AG</td>\n",
              "      <td>2188.24</td>\n",
              "    </tr>\n",
              "    <tr>\n",
              "      <th>4</th>\n",
              "      <td>AI</td>\n",
              "      <td>483.90</td>\n",
              "    </tr>\n",
              "  </tbody>\n",
              "</table>\n",
              "</div>"
            ],
            "text/plain": [
              "  country_code  difference\n",
              "0           AD     8465.32\n",
              "1           AE  1989503.73\n",
              "2           AF -1808586.20\n",
              "3           AG     2188.24\n",
              "4           AI      483.90"
            ]
          },
          "metadata": {
            "tags": []
          },
          "execution_count": 102
        },
        {
          "output_type": "stream",
          "text": [
            "time: 11.6 ms\n"
          ],
          "name": "stdout"
        }
      ]
    },
    {
      "cell_type": "markdown",
      "metadata": {
        "id": "E016hO4SSo90"
      },
      "source": [
        "## Task 10\n",
        "- Which country has the highest ratio between the difference computed at the previous point and the population?"
      ]
    },
    {
      "cell_type": "markdown",
      "metadata": {
        "id": "ZjUTAhMkBMt3"
      },
      "source": [
        "### Load csv (country_stats)"
      ]
    },
    {
      "cell_type": "code",
      "metadata": {
        "id": "qx-VIXBwBLoa",
        "outputId": "b2008e40-2ace-4eff-cb00-61f801d0f8fc",
        "colab": {
          "base_uri": "https://localhost:8080/",
          "height": 34
        }
      },
      "source": [
        "country_info=pd.read_csv('/content/drive/My Drive/Foundation of computer science/additional-kiva-snapshot/country_stats.csv')"
      ],
      "execution_count": 103,
      "outputs": [
        {
          "output_type": "stream",
          "text": [
            "time: 319 ms\n"
          ],
          "name": "stdout"
        }
      ]
    },
    {
      "cell_type": "markdown",
      "metadata": {
        "id": "u0WawD_5BgBv"
      },
      "source": [
        "_Overview_"
      ]
    },
    {
      "cell_type": "code",
      "metadata": {
        "id": "eeJCL-ymBgwX",
        "outputId": "57d285ee-5f5d-4f2f-86f7-099be0a2d139",
        "colab": {
          "base_uri": "https://localhost:8080/",
          "height": 252
        }
      },
      "source": [
        "country_info.dtypes"
      ],
      "execution_count": 104,
      "outputs": [
        {
          "output_type": "execute_result",
          "data": {
            "text/plain": [
              "country_name                      object\n",
              "country_code                      object\n",
              "country_code3                     object\n",
              "continent                         object\n",
              "region                            object\n",
              "population                         int64\n",
              "population_below_poverty_line    float64\n",
              "hdi                              float64\n",
              "life_expectancy                  float64\n",
              "expected_years_of_schooling      float64\n",
              "mean_years_of_schooling          float64\n",
              "gni                              float64\n",
              "kiva_country_name                 object\n",
              "dtype: object"
            ]
          },
          "metadata": {
            "tags": []
          },
          "execution_count": 104
        },
        {
          "output_type": "stream",
          "text": [
            "time: 4.69 ms\n"
          ],
          "name": "stdout"
        }
      ]
    },
    {
      "cell_type": "code",
      "metadata": {
        "id": "tPPY7Ipy-_9X",
        "outputId": "96f6a8e0-7683-496a-eda8-7bf9ee9025f6",
        "colab": {
          "base_uri": "https://localhost:8080/",
          "height": 333
        }
      },
      "source": [
        "print('Number rows: '+str(len(country_info)))\n",
        "country_info.head()"
      ],
      "execution_count": 105,
      "outputs": [
        {
          "output_type": "stream",
          "text": [
            "Number rows: 174\n"
          ],
          "name": "stdout"
        },
        {
          "output_type": "execute_result",
          "data": {
            "text/html": [
              "<div>\n",
              "<style scoped>\n",
              "    .dataframe tbody tr th:only-of-type {\n",
              "        vertical-align: middle;\n",
              "    }\n",
              "\n",
              "    .dataframe tbody tr th {\n",
              "        vertical-align: top;\n",
              "    }\n",
              "\n",
              "    .dataframe thead th {\n",
              "        text-align: right;\n",
              "    }\n",
              "</style>\n",
              "<table border=\"1\" class=\"dataframe\">\n",
              "  <thead>\n",
              "    <tr style=\"text-align: right;\">\n",
              "      <th></th>\n",
              "      <th>country_name</th>\n",
              "      <th>country_code</th>\n",
              "      <th>country_code3</th>\n",
              "      <th>continent</th>\n",
              "      <th>region</th>\n",
              "      <th>population</th>\n",
              "      <th>population_below_poverty_line</th>\n",
              "      <th>hdi</th>\n",
              "      <th>life_expectancy</th>\n",
              "      <th>expected_years_of_schooling</th>\n",
              "      <th>mean_years_of_schooling</th>\n",
              "      <th>gni</th>\n",
              "      <th>kiva_country_name</th>\n",
              "    </tr>\n",
              "  </thead>\n",
              "  <tbody>\n",
              "    <tr>\n",
              "      <th>0</th>\n",
              "      <td>India</td>\n",
              "      <td>IN</td>\n",
              "      <td>IND</td>\n",
              "      <td>Asia</td>\n",
              "      <td>Southern Asia</td>\n",
              "      <td>1339180127</td>\n",
              "      <td>21.9</td>\n",
              "      <td>0.623559</td>\n",
              "      <td>68.322</td>\n",
              "      <td>11.696590</td>\n",
              "      <td>6.298834</td>\n",
              "      <td>5663.474799</td>\n",
              "      <td>India</td>\n",
              "    </tr>\n",
              "    <tr>\n",
              "      <th>1</th>\n",
              "      <td>Nigeria</td>\n",
              "      <td>NG</td>\n",
              "      <td>NGA</td>\n",
              "      <td>Africa</td>\n",
              "      <td>Western Africa</td>\n",
              "      <td>190886311</td>\n",
              "      <td>70.0</td>\n",
              "      <td>0.527105</td>\n",
              "      <td>53.057</td>\n",
              "      <td>9.970482</td>\n",
              "      <td>6.000000</td>\n",
              "      <td>5442.901264</td>\n",
              "      <td>Nigeria</td>\n",
              "    </tr>\n",
              "    <tr>\n",
              "      <th>2</th>\n",
              "      <td>Mexico</td>\n",
              "      <td>MX</td>\n",
              "      <td>MEX</td>\n",
              "      <td>Americas</td>\n",
              "      <td>Central America</td>\n",
              "      <td>129163276</td>\n",
              "      <td>46.2</td>\n",
              "      <td>0.761683</td>\n",
              "      <td>76.972</td>\n",
              "      <td>13.299090</td>\n",
              "      <td>8.554985</td>\n",
              "      <td>16383.106680</td>\n",
              "      <td>Mexico</td>\n",
              "    </tr>\n",
              "    <tr>\n",
              "      <th>3</th>\n",
              "      <td>Pakistan</td>\n",
              "      <td>PK</td>\n",
              "      <td>PAK</td>\n",
              "      <td>Asia</td>\n",
              "      <td>Southern Asia</td>\n",
              "      <td>197015955</td>\n",
              "      <td>29.5</td>\n",
              "      <td>0.550354</td>\n",
              "      <td>66.365</td>\n",
              "      <td>8.106910</td>\n",
              "      <td>5.089460</td>\n",
              "      <td>5031.173074</td>\n",
              "      <td>Pakistan</td>\n",
              "    </tr>\n",
              "    <tr>\n",
              "      <th>4</th>\n",
              "      <td>Bangladesh</td>\n",
              "      <td>BD</td>\n",
              "      <td>BGD</td>\n",
              "      <td>Asia</td>\n",
              "      <td>Southern Asia</td>\n",
              "      <td>164669751</td>\n",
              "      <td>31.5</td>\n",
              "      <td>0.578824</td>\n",
              "      <td>71.985</td>\n",
              "      <td>10.178706</td>\n",
              "      <td>5.241577</td>\n",
              "      <td>3341.490722</td>\n",
              "      <td>Bangladesh</td>\n",
              "    </tr>\n",
              "  </tbody>\n",
              "</table>\n",
              "</div>"
            ],
            "text/plain": [
              "  country_name country_code  ...           gni kiva_country_name\n",
              "0        India           IN  ...   5663.474799             India\n",
              "1      Nigeria           NG  ...   5442.901264           Nigeria\n",
              "2       Mexico           MX  ...  16383.106680            Mexico\n",
              "3     Pakistan           PK  ...   5031.173074          Pakistan\n",
              "4   Bangladesh           BD  ...   3341.490722        Bangladesh\n",
              "\n",
              "[5 rows x 13 columns]"
            ]
          },
          "metadata": {
            "tags": []
          },
          "execution_count": 105
        },
        {
          "output_type": "stream",
          "text": [
            "time: 27.8 ms\n"
          ],
          "name": "stdout"
        }
      ]
    },
    {
      "cell_type": "code",
      "metadata": {
        "id": "iIE9o4TEB31M",
        "outputId": "5002d681-cff4-4b0e-e28f-b323a9342dff",
        "colab": {
          "base_uri": "https://localhost:8080/",
          "height": 34
        }
      },
      "source": [
        "country_info = country_info[['country_name','country_code','population','population_below_poverty_line']] #attributi necessari anche per il task successivo"
      ],
      "execution_count": 106,
      "outputs": [
        {
          "output_type": "stream",
          "text": [
            "time: 2.57 ms\n"
          ],
          "name": "stdout"
        }
      ]
    },
    {
      "cell_type": "markdown",
      "metadata": {
        "id": "-BP14cOSCSUk"
      },
      "source": [
        "### Check missing values"
      ]
    },
    {
      "cell_type": "code",
      "metadata": {
        "id": "hOo00st_CRs8",
        "outputId": "87335fab-d91b-49e9-e39c-fcb75c55eab4",
        "colab": {
          "base_uri": "https://localhost:8080/",
          "height": 94
        }
      },
      "source": [
        "country_info[country_info['country_code'].isnull()]"
      ],
      "execution_count": 107,
      "outputs": [
        {
          "output_type": "execute_result",
          "data": {
            "text/html": [
              "<div>\n",
              "<style scoped>\n",
              "    .dataframe tbody tr th:only-of-type {\n",
              "        vertical-align: middle;\n",
              "    }\n",
              "\n",
              "    .dataframe tbody tr th {\n",
              "        vertical-align: top;\n",
              "    }\n",
              "\n",
              "    .dataframe thead th {\n",
              "        text-align: right;\n",
              "    }\n",
              "</style>\n",
              "<table border=\"1\" class=\"dataframe\">\n",
              "  <thead>\n",
              "    <tr style=\"text-align: right;\">\n",
              "      <th></th>\n",
              "      <th>country_name</th>\n",
              "      <th>country_code</th>\n",
              "      <th>population</th>\n",
              "      <th>population_below_poverty_line</th>\n",
              "    </tr>\n",
              "  </thead>\n",
              "  <tbody>\n",
              "    <tr>\n",
              "      <th>115</th>\n",
              "      <td>Namibia</td>\n",
              "      <td>NaN</td>\n",
              "      <td>2533794</td>\n",
              "      <td>28.7</td>\n",
              "    </tr>\n",
              "  </tbody>\n",
              "</table>\n",
              "</div>"
            ],
            "text/plain": [
              "    country_name country_code  population  population_below_poverty_line\n",
              "115      Namibia          NaN     2533794                           28.7"
            ]
          },
          "metadata": {
            "tags": []
          },
          "execution_count": 107
        },
        {
          "output_type": "stream",
          "text": [
            "time: 15 ms\n"
          ],
          "name": "stdout"
        }
      ]
    },
    {
      "cell_type": "markdown",
      "metadata": {
        "id": "b57dJwjoCGd8"
      },
      "source": [
        "### Replace missing values"
      ]
    },
    {
      "cell_type": "code",
      "metadata": {
        "id": "EJjpfufPCFvg",
        "outputId": "2225fbd4-b672-44b2-ebf9-fd0bf6efaa08",
        "colab": {
          "base_uri": "https://localhost:8080/",
          "height": 34
        }
      },
      "source": [
        "country_info['country_code'] = country_info['country_code'].fillna('NA') #stessa operazione task4"
      ],
      "execution_count": 108,
      "outputs": [
        {
          "output_type": "stream",
          "text": [
            "time: 2.41 ms\n"
          ],
          "name": "stdout"
        }
      ]
    },
    {
      "cell_type": "code",
      "metadata": {
        "id": "gf0sYWKzDOqq",
        "outputId": "92cfd420-6f2f-4536-b11c-77abd2adeeeb",
        "colab": {
          "base_uri": "https://localhost:8080/",
          "height": 34
        }
      },
      "source": [
        "c_info = country_info['country_code'].unique()\n",
        "l_info =  lenders['country_code'].unique()\n",
        "\n",
        "len(c_info), len(l_info) #motivo per cui si sceglie country_code come id country"
      ],
      "execution_count": 109,
      "outputs": [
        {
          "output_type": "execute_result",
          "data": {
            "text/plain": [
              "(174, 234)"
            ]
          },
          "metadata": {
            "tags": []
          },
          "execution_count": 109
        },
        {
          "output_type": "stream",
          "text": [
            "time: 41 ms\n"
          ],
          "name": "stdout"
        }
      ]
    },
    {
      "cell_type": "code",
      "metadata": {
        "id": "JuW1STYUWNKD",
        "outputId": "a9fbdb89-2ef5-48d9-90eb-259077d0723a",
        "colab": {
          "base_uri": "https://localhost:8080/",
          "height": 34
        }
      },
      "source": [
        "country_difference = pd.merge(country_difference,country_info,how='inner',on='country_code')"
      ],
      "execution_count": 110,
      "outputs": [
        {
          "output_type": "stream",
          "text": [
            "time: 6.3 ms\n"
          ],
          "name": "stdout"
        }
      ]
    },
    {
      "cell_type": "code",
      "metadata": {
        "id": "KXaAqVc95qw1",
        "outputId": "7dc9be56-9c58-4cbb-e4ff-67566921e111",
        "colab": {
          "base_uri": "https://localhost:8080/",
          "height": 418
        }
      },
      "source": [
        "country_difference"
      ],
      "execution_count": 111,
      "outputs": [
        {
          "output_type": "execute_result",
          "data": {
            "text/html": [
              "<div>\n",
              "<style scoped>\n",
              "    .dataframe tbody tr th:only-of-type {\n",
              "        vertical-align: middle;\n",
              "    }\n",
              "\n",
              "    .dataframe tbody tr th {\n",
              "        vertical-align: top;\n",
              "    }\n",
              "\n",
              "    .dataframe thead th {\n",
              "        text-align: right;\n",
              "    }\n",
              "</style>\n",
              "<table border=\"1\" class=\"dataframe\">\n",
              "  <thead>\n",
              "    <tr style=\"text-align: right;\">\n",
              "      <th></th>\n",
              "      <th>country_code</th>\n",
              "      <th>borrowed</th>\n",
              "      <th>lent</th>\n",
              "      <th>difference</th>\n",
              "      <th>country_name</th>\n",
              "      <th>population</th>\n",
              "      <th>population_below_poverty_line</th>\n",
              "    </tr>\n",
              "  </thead>\n",
              "  <tbody>\n",
              "    <tr>\n",
              "      <th>0</th>\n",
              "      <td>AE</td>\n",
              "      <td>0.0</td>\n",
              "      <td>1989503.73</td>\n",
              "      <td>1989503.73</td>\n",
              "      <td>United Arab Emirates</td>\n",
              "      <td>9400145</td>\n",
              "      <td>19.5</td>\n",
              "    </tr>\n",
              "    <tr>\n",
              "      <th>1</th>\n",
              "      <td>AF</td>\n",
              "      <td>1967950.0</td>\n",
              "      <td>159363.80</td>\n",
              "      <td>-1808586.20</td>\n",
              "      <td>Afghanistan</td>\n",
              "      <td>35530081</td>\n",
              "      <td>35.8</td>\n",
              "    </tr>\n",
              "    <tr>\n",
              "      <th>2</th>\n",
              "      <td>AL</td>\n",
              "      <td>4307350.0</td>\n",
              "      <td>33176.19</td>\n",
              "      <td>-4274173.81</td>\n",
              "      <td>Albania</td>\n",
              "      <td>2930187</td>\n",
              "      <td>14.3</td>\n",
              "    </tr>\n",
              "    <tr>\n",
              "      <th>3</th>\n",
              "      <td>AM</td>\n",
              "      <td>22950475.0</td>\n",
              "      <td>41219.17</td>\n",
              "      <td>-22909255.83</td>\n",
              "      <td>Armenia</td>\n",
              "      <td>2930450</td>\n",
              "      <td>32.0</td>\n",
              "    </tr>\n",
              "    <tr>\n",
              "      <th>4</th>\n",
              "      <td>AO</td>\n",
              "      <td>0.0</td>\n",
              "      <td>43789.83</td>\n",
              "      <td>43789.83</td>\n",
              "      <td>Angola</td>\n",
              "      <td>29784193</td>\n",
              "      <td>40.5</td>\n",
              "    </tr>\n",
              "    <tr>\n",
              "      <th>...</th>\n",
              "      <td>...</td>\n",
              "      <td>...</td>\n",
              "      <td>...</td>\n",
              "      <td>...</td>\n",
              "      <td>...</td>\n",
              "      <td>...</td>\n",
              "      <td>...</td>\n",
              "    </tr>\n",
              "    <tr>\n",
              "      <th>164</th>\n",
              "      <td>XK</td>\n",
              "      <td>3083025.0</td>\n",
              "      <td>13254.78</td>\n",
              "      <td>-3069770.22</td>\n",
              "      <td>Kosovo</td>\n",
              "      <td>1895250</td>\n",
              "      <td>30.0</td>\n",
              "    </tr>\n",
              "    <tr>\n",
              "      <th>165</th>\n",
              "      <td>YE</td>\n",
              "      <td>3444000.0</td>\n",
              "      <td>48722.78</td>\n",
              "      <td>-3395277.22</td>\n",
              "      <td>Yemen</td>\n",
              "      <td>28250420</td>\n",
              "      <td>54.0</td>\n",
              "    </tr>\n",
              "    <tr>\n",
              "      <th>166</th>\n",
              "      <td>ZA</td>\n",
              "      <td>1006525.0</td>\n",
              "      <td>986856.48</td>\n",
              "      <td>-19668.52</td>\n",
              "      <td>South Africa</td>\n",
              "      <td>56717156</td>\n",
              "      <td>16.6</td>\n",
              "    </tr>\n",
              "    <tr>\n",
              "      <th>167</th>\n",
              "      <td>ZM</td>\n",
              "      <td>1978975.0</td>\n",
              "      <td>45097.78</td>\n",
              "      <td>-1933877.22</td>\n",
              "      <td>Zambia</td>\n",
              "      <td>17094130</td>\n",
              "      <td>60.5</td>\n",
              "    </tr>\n",
              "    <tr>\n",
              "      <th>168</th>\n",
              "      <td>ZW</td>\n",
              "      <td>5851875.0</td>\n",
              "      <td>11403.10</td>\n",
              "      <td>-5840471.90</td>\n",
              "      <td>Zimbabwe</td>\n",
              "      <td>16529904</td>\n",
              "      <td>72.3</td>\n",
              "    </tr>\n",
              "  </tbody>\n",
              "</table>\n",
              "<p>169 rows × 7 columns</p>\n",
              "</div>"
            ],
            "text/plain": [
              "    country_code    borrowed  ...  population  population_below_poverty_line\n",
              "0             AE         0.0  ...     9400145                           19.5\n",
              "1             AF   1967950.0  ...    35530081                           35.8\n",
              "2             AL   4307350.0  ...     2930187                           14.3\n",
              "3             AM  22950475.0  ...     2930450                           32.0\n",
              "4             AO         0.0  ...    29784193                           40.5\n",
              "..           ...         ...  ...         ...                            ...\n",
              "164           XK   3083025.0  ...     1895250                           30.0\n",
              "165           YE   3444000.0  ...    28250420                           54.0\n",
              "166           ZA   1006525.0  ...    56717156                           16.6\n",
              "167           ZM   1978975.0  ...    17094130                           60.5\n",
              "168           ZW   5851875.0  ...    16529904                           72.3\n",
              "\n",
              "[169 rows x 7 columns]"
            ]
          },
          "metadata": {
            "tags": []
          },
          "execution_count": 111
        },
        {
          "output_type": "stream",
          "text": [
            "time: 29.6 ms\n"
          ],
          "name": "stdout"
        }
      ]
    },
    {
      "cell_type": "markdown",
      "metadata": {
        "id": "62AEksUDOtlU"
      },
      "source": [
        "### Compute ratio for each country"
      ]
    },
    {
      "cell_type": "code",
      "metadata": {
        "id": "csHfXtedW7-u",
        "outputId": "f69c73ed-0d82-4a56-eac3-05c8058b490f",
        "colab": {
          "base_uri": "https://localhost:8080/",
          "height": 34
        }
      },
      "source": [
        "country_difference['ratio']= country_difference['difference'] / country_difference['population']"
      ],
      "execution_count": 112,
      "outputs": [
        {
          "output_type": "stream",
          "text": [
            "time: 2.49 ms\n"
          ],
          "name": "stdout"
        }
      ]
    },
    {
      "cell_type": "code",
      "metadata": {
        "id": "9LYSteqRXqLI",
        "outputId": "be1fdf65-922d-413c-9289-1914ac44ab6b",
        "colab": {
          "base_uri": "https://localhost:8080/",
          "height": 34
        }
      },
      "source": [
        "highest_ratio = country_difference.sort_values(by='ratio',ascending=False)"
      ],
      "execution_count": 113,
      "outputs": [
        {
          "output_type": "stream",
          "text": [
            "time: 4.21 ms\n"
          ],
          "name": "stdout"
        }
      ]
    },
    {
      "cell_type": "markdown",
      "metadata": {
        "id": "7f4N-vN2ZBYd"
      },
      "source": [
        "### _Result_"
      ]
    },
    {
      "cell_type": "code",
      "metadata": {
        "id": "BOxgKgknYStd",
        "outputId": "cabeb7ee-1c65-424a-b968-43c7597b292e",
        "colab": {
          "base_uri": "https://localhost:8080/",
          "height": 50
        }
      },
      "source": [
        "print(\"Country highest ratio: \"+highest_ratio.iloc[0]['country_name'])"
      ],
      "execution_count": 114,
      "outputs": [
        {
          "output_type": "stream",
          "text": [
            "Country highest ratio: Norway\n",
            "time: 1.99 ms\n"
          ],
          "name": "stdout"
        }
      ]
    },
    {
      "cell_type": "markdown",
      "metadata": {
        "id": "TwmrNqtfYxJk"
      },
      "source": [
        "## Task 11\n",
        "- Which country has the highest ratio between the difference computed at point 9 and the population that is not below the poverty line?"
      ]
    },
    {
      "cell_type": "markdown",
      "metadata": {
        "id": "pQTl10ke3_jc"
      },
      "source": [
        "### Check missing values"
      ]
    },
    {
      "cell_type": "code",
      "metadata": {
        "id": "ZreCV4s63-ID",
        "outputId": "e98994c2-bc0f-4b92-9c51-d50eda6e83cc",
        "colab": {
          "base_uri": "https://localhost:8080/",
          "height": 67
        }
      },
      "source": [
        "missing_index = country_difference[country_difference['population_below_poverty_line'].isnull()].index\n",
        "missing_index"
      ],
      "execution_count": 115,
      "outputs": [
        {
          "output_type": "execute_result",
          "data": {
            "text/plain": [
              "Int64Index([  7,  14,  17,  34,  35,  48,  71,  80,  82,  90, 113, 115, 116,\n",
              "            123, 124, 127, 132, 133, 136, 141, 163],\n",
              "           dtype='int64')"
            ]
          },
          "metadata": {
            "tags": []
          },
          "execution_count": 115
        },
        {
          "output_type": "stream",
          "text": [
            "time: 5.46 ms\n"
          ],
          "name": "stdout"
        }
      ]
    },
    {
      "cell_type": "code",
      "metadata": {
        "id": "mBX9fkXxCt09",
        "outputId": "0875b5e8-9596-4ed0-f419-bcd1d16dc82d",
        "colab": {
          "base_uri": "https://localhost:8080/",
          "height": 50
        }
      },
      "source": [
        "total_country = len(country_difference)\n",
        "rapp_missing = len(missing_index) / total_country\n",
        "print(\"Number missing values population: \"+str(rapp_missing))"
      ],
      "execution_count": 116,
      "outputs": [
        {
          "output_type": "stream",
          "text": [
            "Number missing values population: 0.1242603550295858\n",
            "time: 2.44 ms\n"
          ],
          "name": "stdout"
        }
      ]
    },
    {
      "cell_type": "code",
      "metadata": {
        "id": "jRXDb4Y1Gh4r",
        "outputId": "a63faed9-f4c2-4264-b703-d4ade4c82b6b",
        "colab": {
          "base_uri": "https://localhost:8080/",
          "height": 34
        }
      },
      "source": [
        "country_difference.drop(index=missing_index,inplace=True) # non si considerano i paesi che hanno missing values in population_below_poverty_line"
      ],
      "execution_count": 117,
      "outputs": [
        {
          "output_type": "stream",
          "text": [
            "time: 2.49 ms\n"
          ],
          "name": "stdout"
        }
      ]
    },
    {
      "cell_type": "markdown",
      "metadata": {
        "id": "wGa3NiOz2nSI"
      },
      "source": [
        "### Compute for each country number people below and above poverty line"
      ]
    },
    {
      "cell_type": "code",
      "metadata": {
        "id": "r9dMS-0nw9M_",
        "outputId": "c757261f-c807-43ad-9c7e-1aa13610a7cd",
        "colab": {
          "base_uri": "https://localhost:8080/",
          "height": 34
        }
      },
      "source": [
        "country_difference['population_below_poverty_line'] = country_difference['population_below_poverty_line']/100\n",
        "country_difference['number_population_below'] = country_difference['population']*country_difference['population_below_poverty_line']"
      ],
      "execution_count": 118,
      "outputs": [
        {
          "output_type": "stream",
          "text": [
            "time: 4.33 ms\n"
          ],
          "name": "stdout"
        }
      ]
    },
    {
      "cell_type": "code",
      "metadata": {
        "id": "a5gJNAvI3knv",
        "outputId": "6f66e17f-786b-4339-bef7-52aa3a3f8ddf",
        "colab": {
          "base_uri": "https://localhost:8080/",
          "height": 34
        }
      },
      "source": [
        "country_difference['number_population_below'] = country_difference['number_population_below'].astype(int)"
      ],
      "execution_count": 119,
      "outputs": [
        {
          "output_type": "stream",
          "text": [
            "time: 1.73 ms\n"
          ],
          "name": "stdout"
        }
      ]
    },
    {
      "cell_type": "code",
      "metadata": {
        "id": "Ah5E0SjyJDu5",
        "outputId": "3cd7eacc-a76c-4d16-b37b-d528c343eccb",
        "colab": {
          "base_uri": "https://localhost:8080/",
          "height": 34
        }
      },
      "source": [
        "country_difference['number_population_above'] = country_difference['population'] - country_difference['number_population_below']"
      ],
      "execution_count": 120,
      "outputs": [
        {
          "output_type": "stream",
          "text": [
            "time: 3.05 ms\n"
          ],
          "name": "stdout"
        }
      ]
    },
    {
      "cell_type": "markdown",
      "metadata": {
        "id": "QZzwGXl6Jdmx"
      },
      "source": [
        "### Compute ratio"
      ]
    },
    {
      "cell_type": "code",
      "metadata": {
        "id": "KXSexBPYJ0Zl",
        "outputId": "49e0f56a-2e9e-4258-9cdc-9953b2287550",
        "colab": {
          "base_uri": "https://localhost:8080/",
          "height": 34
        }
      },
      "source": [
        "country_difference = country_difference.copy()\n",
        "country_difference['ratio_number_above'] = country_difference['difference'] / country_difference['number_population_above']"
      ],
      "execution_count": 121,
      "outputs": [
        {
          "output_type": "stream",
          "text": [
            "time: 3.3 ms\n"
          ],
          "name": "stdout"
        }
      ]
    },
    {
      "cell_type": "code",
      "metadata": {
        "id": "WqceOJjFKALh",
        "outputId": "05377c29-3fb3-417e-b79f-5b2aa2cbab1f",
        "colab": {
          "base_uri": "https://localhost:8080/",
          "height": 34
        }
      },
      "source": [
        "highest_ratio = country_difference.sort_values(by='ratio_number_above',ascending=False)"
      ],
      "execution_count": 122,
      "outputs": [
        {
          "output_type": "stream",
          "text": [
            "time: 4.67 ms\n"
          ],
          "name": "stdout"
        }
      ]
    },
    {
      "cell_type": "markdown",
      "metadata": {
        "id": "ylHGoTKiFuTI"
      },
      "source": [
        "### _Result_"
      ]
    },
    {
      "cell_type": "code",
      "metadata": {
        "id": "vqSxkqETw7nx",
        "outputId": "e6180307-b929-475a-d6be-13f26b26523c",
        "colab": {
          "base_uri": "https://localhost:8080/",
          "height": 50
        }
      },
      "source": [
        "print(\"Country highest ratio: \"+highest_ratio.iloc[0]['country_name'])"
      ],
      "execution_count": 123,
      "outputs": [
        {
          "output_type": "stream",
          "text": [
            "Country highest ratio: Canada\n",
            "time: 2.56 ms\n"
          ],
          "name": "stdout"
        }
      ]
    },
    {
      "cell_type": "markdown",
      "metadata": {
        "id": "MLK9_JPhHGBm"
      },
      "source": [
        "## Task 12\n",
        "- For each year, compute the total amount of loans. Each loan that has planned expiration time and disburse time in different years must have its amount distributed proportionally to the number of days in each year. For example, a loan with disburse time December 1st, 2016, planned expiration time January 30th 2018, and amount 5000USD has an amount of 5000USD * 31 / (31+365+30) = 363.85 for 2016, 5000USD * 365 / (31+365+30) = 4284.04 for 2017, and 5000USD * 30 / (31+365+30) = 352.11 for 2018."
      ]
    },
    {
      "cell_type": "markdown",
      "metadata": {
        "id": "ZqhtIIM1G-0J"
      },
      "source": [
        "### Check missing values"
      ]
    },
    {
      "cell_type": "code",
      "metadata": {
        "id": "J_5pkhs7xTQZ",
        "outputId": "76796624-11ef-4d57-8e40-b7728aaa562d",
        "colab": {
          "base_uri": "https://localhost:8080/",
          "height": 118
        }
      },
      "source": [
        "missing_loan_index #calcolato task2"
      ],
      "execution_count": 124,
      "outputs": [
        {
          "output_type": "execute_result",
          "data": {
            "text/plain": [
              "Int64Index([     64,      65,      66,      67,      69,      70,     133,\n",
              "                134,     135,     136,\n",
              "            ...\n",
              "            1419219, 1419345, 1419505, 1419506, 1419522, 1419523, 1419524,\n",
              "            1419525, 1419538, 1419564],\n",
              "           dtype='int64', length=374645)"
            ]
          },
          "metadata": {
            "tags": []
          },
          "execution_count": 124
        },
        {
          "output_type": "stream",
          "text": [
            "time: 5.57 ms\n"
          ],
          "name": "stdout"
        }
      ]
    },
    {
      "cell_type": "code",
      "metadata": {
        "id": "xT2TU89tHEdv",
        "outputId": "62240a4c-df19-441e-92bb-2d5ef8befe8c",
        "colab": {
          "base_uri": "https://localhost:8080/",
          "height": 50
        }
      },
      "source": [
        "rapp = len(missing_loan_index) / len(loan_simplified)\n",
        "print(\"Number missing values planned_expiration_time or disburse_time: \"+str(rapp))"
      ],
      "execution_count": 125,
      "outputs": [
        {
          "output_type": "stream",
          "text": [
            "Number missing values planned_expiration_time or disburse_time: 0.26390754624343216\n",
            "time: 1.97 ms\n"
          ],
          "name": "stdout"
        }
      ]
    },
    {
      "cell_type": "code",
      "metadata": {
        "id": "QhQCU3Vo2o-5",
        "outputId": "ba97a5bb-f6d3-456c-b938-75f2809ac8ac",
        "colab": {
          "base_uri": "https://localhost:8080/",
          "height": 34
        }
      },
      "source": [
        "loan_simplified.drop(index=missing_loan_index,inplace=True) #non considero loan dove planned_expiration o disburse_time contengono nan"
      ],
      "execution_count": 126,
      "outputs": [
        {
          "output_type": "stream",
          "text": [
            "time: 156 ms\n"
          ],
          "name": "stdout"
        }
      ]
    },
    {
      "cell_type": "markdown",
      "metadata": {
        "id": "PWbEfDBV_bNa"
      },
      "source": [
        "### Get year from _planned_expiration_time_"
      ]
    },
    {
      "cell_type": "code",
      "metadata": {
        "id": "ern9HK5s-lDZ",
        "outputId": "ed53abc5-7dde-4013-a791-f45038ca9a7e",
        "colab": {
          "base_uri": "https://localhost:8080/",
          "height": 34
        }
      },
      "source": [
        "loan_simplified['year_expiration'] = loan_simplified.apply(lambda x: x['planned_expiration_time'].year,axis=1)\n",
        "loan_simplified['year_disburse']=loan_simplified['year_disburse'].astype(int)"
      ],
      "execution_count": 127,
      "outputs": [
        {
          "output_type": "stream",
          "text": [
            "time: 16.1 s\n"
          ],
          "name": "stdout"
        }
      ]
    },
    {
      "cell_type": "code",
      "metadata": {
        "id": "nyeB0BqC8do-",
        "outputId": "a8202e26-81ac-4ecd-d786-e1a846af52dd",
        "colab": {
          "base_uri": "https://localhost:8080/",
          "height": 34
        }
      },
      "source": [
        "loan_simplified['difference_years'] = loan_simplified['year_expiration'] - loan_simplified['year_disburse']\n",
        "loan_simplified['difference_years'].unique()"
      ],
      "execution_count": 128,
      "outputs": [
        {
          "output_type": "execute_result",
          "data": {
            "text/plain": [
              "array([ 1,  0, -1,  5,  4])"
            ]
          },
          "metadata": {
            "tags": []
          },
          "execution_count": 128
        },
        {
          "output_type": "stream",
          "text": [
            "time: 18.8 ms\n"
          ],
          "name": "stdout"
        }
      ]
    },
    {
      "cell_type": "code",
      "metadata": {
        "id": "dgihKzc5rDtM",
        "outputId": "b30f8423-42d7-4cc4-8901-489cae31f6a0",
        "colab": {
          "base_uri": "https://localhost:8080/",
          "height": 50
        }
      },
      "source": [
        "disburse_after_expiration = loan_simplified[loan_simplified['difference_years']==-1]\n",
        "print(\"Ratio difference -1 betweeen disburse and planned_expiration_time: \"+str(len(disburse_after_expiration) / len(loan_simplified)))"
      ],
      "execution_count": 129,
      "outputs": [
        {
          "output_type": "stream",
          "text": [
            "Ratio difference -1 betweeen disburse and planned_expiration_time: 0.001479479636580086\n",
            "time: 26.1 ms\n"
          ],
          "name": "stdout"
        }
      ]
    },
    {
      "cell_type": "code",
      "metadata": {
        "id": "TSqQkCzVuIdO",
        "outputId": "6baf2e63-b095-4e80-bef5-30196eebd07a",
        "colab": {
          "base_uri": "https://localhost:8080/",
          "height": 34
        }
      },
      "source": [
        "loan_simplified.drop(index=disburse_after_expiration.index,inplace=True)"
      ],
      "execution_count": 130,
      "outputs": [
        {
          "output_type": "stream",
          "text": [
            "time: 114 ms\n"
          ],
          "name": "stdout"
        }
      ]
    },
    {
      "cell_type": "markdown",
      "metadata": {
        "id": "QmasFpk6DDfC"
      },
      "source": [
        "### Get loans which have same years between disburse_time and planned_expiration_time"
      ]
    },
    {
      "cell_type": "code",
      "metadata": {
        "id": "rg7e3YM2uhuX",
        "outputId": "cdeeba39-cb2b-4715-aa3e-93c9b73f4e54",
        "colab": {
          "base_uri": "https://localhost:8080/",
          "height": 34
        }
      },
      "source": [
        "sameYear_loan = loan_simplified[loan_simplified['year_disburse']==loan_simplified['year_expiration']]\n",
        "index_sameYear = sameYear_loan.index"
      ],
      "execution_count": 131,
      "outputs": [
        {
          "output_type": "stream",
          "text": [
            "time: 44.6 ms\n"
          ],
          "name": "stdout"
        }
      ]
    },
    {
      "cell_type": "code",
      "metadata": {
        "id": "fb-yFyMzvFRv",
        "outputId": "f4b974ad-65f7-4d75-ca68-f88b54b34de7",
        "colab": {
          "base_uri": "https://localhost:8080/",
          "height": 34
        }
      },
      "source": [
        "distribution_loan = sameYear_loan[['loan_id','loan_amount','year_expiration']]\n",
        "distribution_loan = distribution_loan.copy()"
      ],
      "execution_count": 132,
      "outputs": [
        {
          "output_type": "stream",
          "text": [
            "time: 15.2 ms\n"
          ],
          "name": "stdout"
        }
      ]
    },
    {
      "cell_type": "code",
      "metadata": {
        "id": "-ECghCN8HnKA",
        "outputId": "08dbd169-229a-49de-8e18-0214814d05c9",
        "colab": {
          "base_uri": "https://localhost:8080/",
          "height": 418
        }
      },
      "source": [
        "distribution_loan"
      ],
      "execution_count": 133,
      "outputs": [
        {
          "output_type": "execute_result",
          "data": {
            "text/html": [
              "<div>\n",
              "<style scoped>\n",
              "    .dataframe tbody tr th:only-of-type {\n",
              "        vertical-align: middle;\n",
              "    }\n",
              "\n",
              "    .dataframe tbody tr th {\n",
              "        vertical-align: top;\n",
              "    }\n",
              "\n",
              "    .dataframe thead th {\n",
              "        text-align: right;\n",
              "    }\n",
              "</style>\n",
              "<table border=\"1\" class=\"dataframe\">\n",
              "  <thead>\n",
              "    <tr style=\"text-align: right;\">\n",
              "      <th></th>\n",
              "      <th>loan_id</th>\n",
              "      <th>loan_amount</th>\n",
              "      <th>year_expiration</th>\n",
              "    </tr>\n",
              "  </thead>\n",
              "  <tbody>\n",
              "    <tr>\n",
              "      <th>2</th>\n",
              "      <td>658010</td>\n",
              "      <td>400.0</td>\n",
              "      <td>2014</td>\n",
              "    </tr>\n",
              "    <tr>\n",
              "      <th>3</th>\n",
              "      <td>659347</td>\n",
              "      <td>625.0</td>\n",
              "      <td>2014</td>\n",
              "    </tr>\n",
              "    <tr>\n",
              "      <th>5</th>\n",
              "      <td>659605</td>\n",
              "      <td>350.0</td>\n",
              "      <td>2014</td>\n",
              "    </tr>\n",
              "    <tr>\n",
              "      <th>6</th>\n",
              "      <td>660240</td>\n",
              "      <td>125.0</td>\n",
              "      <td>2014</td>\n",
              "    </tr>\n",
              "    <tr>\n",
              "      <th>7</th>\n",
              "      <td>661601</td>\n",
              "      <td>1600.0</td>\n",
              "      <td>2014</td>\n",
              "    </tr>\n",
              "    <tr>\n",
              "      <th>...</th>\n",
              "      <td>...</td>\n",
              "      <td>...</td>\n",
              "      <td>...</td>\n",
              "    </tr>\n",
              "    <tr>\n",
              "      <th>1419597</th>\n",
              "      <td>984735</td>\n",
              "      <td>500.0</td>\n",
              "      <td>2015</td>\n",
              "    </tr>\n",
              "    <tr>\n",
              "      <th>1419598</th>\n",
              "      <td>985764</td>\n",
              "      <td>325.0</td>\n",
              "      <td>2015</td>\n",
              "    </tr>\n",
              "    <tr>\n",
              "      <th>1419599</th>\n",
              "      <td>986756</td>\n",
              "      <td>5475.0</td>\n",
              "      <td>2015</td>\n",
              "    </tr>\n",
              "    <tr>\n",
              "      <th>1419600</th>\n",
              "      <td>986789</td>\n",
              "      <td>500.0</td>\n",
              "      <td>2015</td>\n",
              "    </tr>\n",
              "    <tr>\n",
              "      <th>1419601</th>\n",
              "      <td>987606</td>\n",
              "      <td>3000.0</td>\n",
              "      <td>2015</td>\n",
              "    </tr>\n",
              "  </tbody>\n",
              "</table>\n",
              "<p>892805 rows × 3 columns</p>\n",
              "</div>"
            ],
            "text/plain": [
              "         loan_id  loan_amount  year_expiration\n",
              "2         658010        400.0             2014\n",
              "3         659347        625.0             2014\n",
              "5         659605        350.0             2014\n",
              "6         660240        125.0             2014\n",
              "7         661601       1600.0             2014\n",
              "...          ...          ...              ...\n",
              "1419597   984735        500.0             2015\n",
              "1419598   985764        325.0             2015\n",
              "1419599   986756       5475.0             2015\n",
              "1419600   986789        500.0             2015\n",
              "1419601   987606       3000.0             2015\n",
              "\n",
              "[892805 rows x 3 columns]"
            ]
          },
          "metadata": {
            "tags": []
          },
          "execution_count": 133
        },
        {
          "output_type": "stream",
          "text": [
            "time: 16.9 ms\n"
          ],
          "name": "stdout"
        }
      ]
    },
    {
      "cell_type": "code",
      "metadata": {
        "id": "yV0CPtOBvYRN",
        "outputId": "83b0e7e6-e9c3-40e3-a3fe-cf902b96b729",
        "colab": {
          "base_uri": "https://localhost:8080/",
          "height": 34
        }
      },
      "source": [
        "distribution_loan.rename(columns={'year_expiration':'year'},inplace=True)"
      ],
      "execution_count": 134,
      "outputs": [
        {
          "output_type": "stream",
          "text": [
            "time: 2.73 ms\n"
          ],
          "name": "stdout"
        }
      ]
    },
    {
      "cell_type": "code",
      "metadata": {
        "id": "UV2DyVs9vxu6",
        "outputId": "43a2cd89-f1f4-48ab-f59d-66de107163af",
        "colab": {
          "base_uri": "https://localhost:8080/",
          "height": 34
        }
      },
      "source": [
        "differentYear_loan = loan_simplified.drop(index=index_sameYear, axis=0)"
      ],
      "execution_count": 135,
      "outputs": [
        {
          "output_type": "stream",
          "text": [
            "time: 258 ms\n"
          ],
          "name": "stdout"
        }
      ]
    },
    {
      "cell_type": "markdown",
      "metadata": {
        "id": "Lpbi4F9Wz7wN"
      },
      "source": [
        "### Extract useful information to compute distribution"
      ]
    },
    {
      "cell_type": "code",
      "metadata": {
        "id": "7C8rybxWwr-g",
        "outputId": "a58a41a6-6ba5-40fc-c840-7175fcd27f12",
        "colab": {
          "base_uri": "https://localhost:8080/",
          "height": 34
        }
      },
      "source": [
        "differentYear_loan = differentYear_loan.copy()\n",
        "differentYear_loan['day_disburse'] = differentYear_loan.apply(lambda x: x['disburse_time'].day,axis=1)\n",
        "differentYear_loan['month_disburse'] = differentYear_loan.apply(lambda x: x['disburse_time'].month,axis=1)\n",
        "differentYear_loan['day_expiration'] = differentYear_loan.apply(lambda x: x['planned_expiration_time'].day,axis=1)"
      ],
      "execution_count": 136,
      "outputs": [
        {
          "output_type": "stream",
          "text": [
            "time: 9.1 s\n"
          ],
          "name": "stdout"
        }
      ]
    },
    {
      "cell_type": "code",
      "metadata": {
        "id": "ZJHlkUQQyOIf",
        "outputId": "465e5fa8-3961-49ad-b947-576974494ea2",
        "colab": {
          "base_uri": "https://localhost:8080/",
          "height": 34
        }
      },
      "source": [
        "differentYear_loan = differentYear_loan[['loan_id','disburse_time','planned_expiration_time',\n",
        "                                                 'loan_amount','year_expiration','year_disburse',\n",
        "                                                 'month_disburse','day_expiration',\n",
        "                                                 'difference_years','day_disburse']]"
      ],
      "execution_count": 137,
      "outputs": [
        {
          "output_type": "stream",
          "text": [
            "time: 13.7 ms\n"
          ],
          "name": "stdout"
        }
      ]
    },
    {
      "cell_type": "markdown",
      "metadata": {
        "id": "jVZ3eOuaEYqh"
      },
      "source": [
        "### Functions needed to compute distribution for each loan"
      ]
    },
    {
      "cell_type": "code",
      "metadata": {
        "id": "nIcwv07ArNZ4",
        "outputId": "0e8591d6-e841-4ede-fd56-d0ea96f2a8f6",
        "colab": {
          "base_uri": "https://localhost:8080/",
          "height": 34
        }
      },
      "source": [
        "def check_leap(year): #controllo se bisestile o meno\n",
        "  if calendar.isleap(year)==True:\n",
        "    return 366\n",
        "  else:\n",
        "    return 365\n",
        "\n",
        "def compute_amount_year(loan,den,val_num,range_year): #calcola quantità che deve essere restituita ogni anno\n",
        "  val_year = round((loan * val_num) / den,2)\n",
        "  return (range_year,val_year)\n",
        "\n",
        "\n",
        "def compute_distribution(id,loan,day_d,month_d,year_d,day_e,year_e): #ritorna lista che contiene per ogni anno l'importo proporzionato del prestito\n",
        "  days_month = calendar.monthrange(year_d,month_d)[1] #ritorna giorni mese\n",
        "  values = []\n",
        "  year_range = set(range(year_d,year_e+1)) #range anni tra disburse e planned_expiration_time\n",
        "  lower_upper = set([year_d,year_e]) #primo anno e ultimo anno\n",
        "  year_ris = list(year_range - lower_upper) #ottengo anni di cui devo considerare l'annualità (365 giorni 0 366)\n",
        "\n",
        "  if day_d==1:\n",
        "    difference = days_month #considero tutto mese\n",
        "  else:\n",
        "    if day_d==days_month:\n",
        "      difference = 1\n",
        "    else:\n",
        "      difference = days_month - day_d\n",
        "\n",
        "  if len(year_ris)==0: #se planned_expiration_time è anno successivo di disburse_time\n",
        "    values.append([difference,day_e])\n",
        "  else:\n",
        "    years_day = list(map (check_leap, year_ris)) #ottengo una lista dove per ogni anno è registrato numero giorni anno\n",
        "    values.append([[difference],years_day,[day_e]])\n",
        "    values = list(itertools.chain(*values))\n",
        "\n",
        "  values = list(itertools.chain(*values))\n",
        "  year_range=list(year_range)\n",
        "  year_range.sort() #ordino gli anni\n",
        "  den=sum(values)\n",
        "  result_list = list(map (functools.partial(compute_amount_year, loan,den), values, list(year_range)))\n",
        "  return result_list"
      ],
      "execution_count": 138,
      "outputs": [
        {
          "output_type": "stream",
          "text": [
            "time: 21.7 ms\n"
          ],
          "name": "stdout"
        }
      ]
    },
    {
      "cell_type": "markdown",
      "metadata": {
        "id": "8SE4At8ZTDyE"
      },
      "source": [
        "### Compute distribution for each loan"
      ]
    },
    {
      "cell_type": "code",
      "metadata": {
        "id": "xMUsxaaMH-R0",
        "outputId": "0d6c5d17-815c-4abd-f169-97b43f31483f",
        "colab": {
          "base_uri": "https://localhost:8080/",
          "height": 34
        }
      },
      "source": [
        "differentYear_loan['distribution']=differentYear_loan.apply(lambda x: compute_distribution(x['loan_id'],x['loan_amount'],\n",
        "                                                                                              x['day_disburse'],x['month_disburse'],\n",
        "                                                                                              x['year_disburse'],x['day_expiration'],x['year_expiration']),axis=1)\n"
      ],
      "execution_count": 139,
      "outputs": [
        {
          "output_type": "stream",
          "text": [
            "time: 8.57 s\n"
          ],
          "name": "stdout"
        }
      ]
    },
    {
      "cell_type": "code",
      "metadata": {
        "id": "CDn_VRX4-H8o",
        "outputId": "00ef0257-65db-450c-f598-b131d7f38372",
        "colab": {
          "base_uri": "https://localhost:8080/",
          "height": 418
        }
      },
      "source": [
        "loan_distribution = differentYear_loan[['loan_id','distribution']]\n",
        "loan_distribution"
      ],
      "execution_count": 140,
      "outputs": [
        {
          "output_type": "execute_result",
          "data": {
            "text/html": [
              "<div>\n",
              "<style scoped>\n",
              "    .dataframe tbody tr th:only-of-type {\n",
              "        vertical-align: middle;\n",
              "    }\n",
              "\n",
              "    .dataframe tbody tr th {\n",
              "        vertical-align: top;\n",
              "    }\n",
              "\n",
              "    .dataframe thead th {\n",
              "        text-align: right;\n",
              "    }\n",
              "</style>\n",
              "<table border=\"1\" class=\"dataframe\">\n",
              "  <thead>\n",
              "    <tr style=\"text-align: right;\">\n",
              "      <th></th>\n",
              "      <th>loan_id</th>\n",
              "      <th>distribution</th>\n",
              "    </tr>\n",
              "  </thead>\n",
              "  <tbody>\n",
              "    <tr>\n",
              "      <th>0</th>\n",
              "      <td>657307</td>\n",
              "      <td>[(2013, 48.91), (2014, 76.09)]</td>\n",
              "    </tr>\n",
              "    <tr>\n",
              "      <th>1</th>\n",
              "      <td>657259</td>\n",
              "      <td>[(2013, 118.92), (2014, 281.08)]</td>\n",
              "    </tr>\n",
              "    <tr>\n",
              "      <th>4</th>\n",
              "      <td>656933</td>\n",
              "      <td>[(2013, 220.37), (2014, 204.63)]</td>\n",
              "    </tr>\n",
              "    <tr>\n",
              "      <th>12</th>\n",
              "      <td>660363</td>\n",
              "      <td>[(2013, 324.14), (2014, 850.86)]</td>\n",
              "    </tr>\n",
              "    <tr>\n",
              "      <th>13</th>\n",
              "      <td>661165</td>\n",
              "      <td>[(2013, 48.39), (2014, 251.61)]</td>\n",
              "    </tr>\n",
              "    <tr>\n",
              "      <th>...</th>\n",
              "      <td>...</td>\n",
              "      <td>...</td>\n",
              "    </tr>\n",
              "    <tr>\n",
              "      <th>1419602</th>\n",
              "      <td>988180</td>\n",
              "      <td>[(2015, 311.11), (2016, 88.89)]</td>\n",
              "    </tr>\n",
              "    <tr>\n",
              "      <th>1419603</th>\n",
              "      <td>988213</td>\n",
              "      <td>[(2015, 225.0), (2016, 75.0)]</td>\n",
              "    </tr>\n",
              "    <tr>\n",
              "      <th>1419604</th>\n",
              "      <td>989109</td>\n",
              "      <td>[(2015, 2061.25), (2016, 363.75)]</td>\n",
              "    </tr>\n",
              "    <tr>\n",
              "      <th>1419605</th>\n",
              "      <td>989143</td>\n",
              "      <td>[(2015, 84.38), (2016, 15.62)]</td>\n",
              "    </tr>\n",
              "    <tr>\n",
              "      <th>1419606</th>\n",
              "      <td>989240</td>\n",
              "      <td>[(2015, 157.5), (2016, 17.5)]</td>\n",
              "    </tr>\n",
              "  </tbody>\n",
              "</table>\n",
              "<p>150611 rows × 2 columns</p>\n",
              "</div>"
            ],
            "text/plain": [
              "         loan_id                       distribution\n",
              "0         657307     [(2013, 48.91), (2014, 76.09)]\n",
              "1         657259   [(2013, 118.92), (2014, 281.08)]\n",
              "4         656933   [(2013, 220.37), (2014, 204.63)]\n",
              "12        660363   [(2013, 324.14), (2014, 850.86)]\n",
              "13        661165    [(2013, 48.39), (2014, 251.61)]\n",
              "...          ...                                ...\n",
              "1419602   988180    [(2015, 311.11), (2016, 88.89)]\n",
              "1419603   988213      [(2015, 225.0), (2016, 75.0)]\n",
              "1419604   989109  [(2015, 2061.25), (2016, 363.75)]\n",
              "1419605   989143     [(2015, 84.38), (2016, 15.62)]\n",
              "1419606   989240      [(2015, 157.5), (2016, 17.5)]\n",
              "\n",
              "[150611 rows x 2 columns]"
            ]
          },
          "metadata": {
            "tags": []
          },
          "execution_count": 140
        },
        {
          "output_type": "stream",
          "text": [
            "time: 29 ms\n"
          ],
          "name": "stdout"
        }
      ]
    },
    {
      "cell_type": "code",
      "metadata": {
        "id": "VMbx_ayD_H5c",
        "outputId": "840331e5-6e30-4075-f2d8-163a848dd933",
        "colab": {
          "base_uri": "https://localhost:8080/",
          "height": 34
        }
      },
      "source": [
        "loan_distribution = loan_distribution.explode('distribution')"
      ],
      "execution_count": 141,
      "outputs": [
        {
          "output_type": "stream",
          "text": [
            "time: 543 ms\n"
          ],
          "name": "stdout"
        }
      ]
    },
    {
      "cell_type": "code",
      "metadata": {
        "id": "pYc_qzs8BykZ",
        "outputId": "3a49eec8-b812-4441-de9c-7c6ee6ded6aa",
        "colab": {
          "base_uri": "https://localhost:8080/",
          "height": 34
        }
      },
      "source": [
        "loan_distribution['year'] = loan_distribution.apply(lambda x: x['distribution'][0],axis=1)\n",
        "loan_distribution['loan_amount'] = loan_distribution.apply(lambda x: x['distribution'][1],axis=1)\n",
        "\n",
        "loan_distribution = loan_distribution.reset_index()"
      ],
      "execution_count": 142,
      "outputs": [
        {
          "output_type": "stream",
          "text": [
            "time: 6.11 s\n"
          ],
          "name": "stdout"
        }
      ]
    },
    {
      "cell_type": "code",
      "metadata": {
        "id": "lZItdITNBVuS",
        "outputId": "bfdbbcee-c7aa-4041-c69f-be4435045c04",
        "colab": {
          "base_uri": "https://localhost:8080/",
          "height": 34
        }
      },
      "source": [
        "loan_distribution.drop(columns=['index','distribution'],inplace=True)"
      ],
      "execution_count": 143,
      "outputs": [
        {
          "output_type": "stream",
          "text": [
            "time: 13.9 ms\n"
          ],
          "name": "stdout"
        }
      ]
    },
    {
      "cell_type": "code",
      "metadata": {
        "id": "YvV07Ai42LMk",
        "outputId": "1ad4ff8d-e07e-43df-df44-0e6959f2ecdf",
        "colab": {
          "base_uri": "https://localhost:8080/",
          "height": 212
        }
      },
      "source": [
        "distribution_loan = pd.concat([distribution_loan,loan_distribution],axis=0,sort=False)\n",
        "distribution_loan.head()"
      ],
      "execution_count": 144,
      "outputs": [
        {
          "output_type": "execute_result",
          "data": {
            "text/html": [
              "<div>\n",
              "<style scoped>\n",
              "    .dataframe tbody tr th:only-of-type {\n",
              "        vertical-align: middle;\n",
              "    }\n",
              "\n",
              "    .dataframe tbody tr th {\n",
              "        vertical-align: top;\n",
              "    }\n",
              "\n",
              "    .dataframe thead th {\n",
              "        text-align: right;\n",
              "    }\n",
              "</style>\n",
              "<table border=\"1\" class=\"dataframe\">\n",
              "  <thead>\n",
              "    <tr style=\"text-align: right;\">\n",
              "      <th></th>\n",
              "      <th>loan_id</th>\n",
              "      <th>loan_amount</th>\n",
              "      <th>year</th>\n",
              "    </tr>\n",
              "  </thead>\n",
              "  <tbody>\n",
              "    <tr>\n",
              "      <th>2</th>\n",
              "      <td>658010</td>\n",
              "      <td>400.0</td>\n",
              "      <td>2014</td>\n",
              "    </tr>\n",
              "    <tr>\n",
              "      <th>3</th>\n",
              "      <td>659347</td>\n",
              "      <td>625.0</td>\n",
              "      <td>2014</td>\n",
              "    </tr>\n",
              "    <tr>\n",
              "      <th>5</th>\n",
              "      <td>659605</td>\n",
              "      <td>350.0</td>\n",
              "      <td>2014</td>\n",
              "    </tr>\n",
              "    <tr>\n",
              "      <th>6</th>\n",
              "      <td>660240</td>\n",
              "      <td>125.0</td>\n",
              "      <td>2014</td>\n",
              "    </tr>\n",
              "    <tr>\n",
              "      <th>7</th>\n",
              "      <td>661601</td>\n",
              "      <td>1600.0</td>\n",
              "      <td>2014</td>\n",
              "    </tr>\n",
              "  </tbody>\n",
              "</table>\n",
              "</div>"
            ],
            "text/plain": [
              "   loan_id  loan_amount  year\n",
              "2   658010        400.0  2014\n",
              "3   659347        625.0  2014\n",
              "5   659605        350.0  2014\n",
              "6   660240        125.0  2014\n",
              "7   661601       1600.0  2014"
            ]
          },
          "metadata": {
            "tags": []
          },
          "execution_count": 144
        },
        {
          "output_type": "stream",
          "text": [
            "time: 29.1 ms\n"
          ],
          "name": "stdout"
        }
      ]
    },
    {
      "cell_type": "code",
      "metadata": {
        "id": "3mVpYXLz2khM",
        "outputId": "cac8564d-4cc5-4a28-c670-1e54c5f46e6f",
        "colab": {
          "base_uri": "https://localhost:8080/",
          "height": 34
        }
      },
      "source": [
        "year_distribution = pd.DataFrame(distribution_loan.groupby('year')['loan_amount'].sum()).reset_index()"
      ],
      "execution_count": 145,
      "outputs": [
        {
          "output_type": "stream",
          "text": [
            "time: 23 ms\n"
          ],
          "name": "stdout"
        }
      ]
    },
    {
      "cell_type": "markdown",
      "metadata": {
        "id": "maGTF3Ll4seR"
      },
      "source": [
        "### _Result_"
      ]
    },
    {
      "cell_type": "code",
      "metadata": {
        "id": "_rfiN9OipJ73",
        "outputId": "58268e45-d68a-4591-f2e3-1e07f0988a5c",
        "colab": {
          "base_uri": "https://localhost:8080/",
          "height": 34
        }
      },
      "source": [
        "pd.options.display.float_format = '{:.2f}'.format"
      ],
      "execution_count": 146,
      "outputs": [
        {
          "output_type": "stream",
          "text": [
            "time: 1.11 ms\n"
          ],
          "name": "stdout"
        }
      ]
    },
    {
      "cell_type": "code",
      "metadata": {
        "id": "8K7jEdcA4gK-",
        "outputId": "c11ff8ff-fba6-45f8-f239-35043d1ca169",
        "colab": {
          "base_uri": "https://localhost:8080/",
          "height": 212
        }
      },
      "source": [
        "year_distribution.head()"
      ],
      "execution_count": 147,
      "outputs": [
        {
          "output_type": "execute_result",
          "data": {
            "text/html": [
              "<div>\n",
              "<style scoped>\n",
              "    .dataframe tbody tr th:only-of-type {\n",
              "        vertical-align: middle;\n",
              "    }\n",
              "\n",
              "    .dataframe tbody tr th {\n",
              "        vertical-align: top;\n",
              "    }\n",
              "\n",
              "    .dataframe thead th {\n",
              "        text-align: right;\n",
              "    }\n",
              "</style>\n",
              "<table border=\"1\" class=\"dataframe\">\n",
              "  <thead>\n",
              "    <tr style=\"text-align: right;\">\n",
              "      <th></th>\n",
              "      <th>year</th>\n",
              "      <th>loan_amount</th>\n",
              "    </tr>\n",
              "  </thead>\n",
              "  <tbody>\n",
              "    <tr>\n",
              "      <th>0</th>\n",
              "      <td>2011</td>\n",
              "      <td>1118390.70</td>\n",
              "    </tr>\n",
              "    <tr>\n",
              "      <th>1</th>\n",
              "      <td>2012</td>\n",
              "      <td>112810354.90</td>\n",
              "    </tr>\n",
              "    <tr>\n",
              "      <th>2</th>\n",
              "      <td>2013</td>\n",
              "      <td>122091737.20</td>\n",
              "    </tr>\n",
              "    <tr>\n",
              "      <th>3</th>\n",
              "      <td>2014</td>\n",
              "      <td>154916827.97</td>\n",
              "    </tr>\n",
              "    <tr>\n",
              "      <th>4</th>\n",
              "      <td>2015</td>\n",
              "      <td>159646198.09</td>\n",
              "    </tr>\n",
              "  </tbody>\n",
              "</table>\n",
              "</div>"
            ],
            "text/plain": [
              "   year  loan_amount\n",
              "0  2011   1118390.70\n",
              "1  2012 112810354.90\n",
              "2  2013 122091737.20\n",
              "3  2014 154916827.97\n",
              "4  2015 159646198.09"
            ]
          },
          "metadata": {
            "tags": []
          },
          "execution_count": 147
        },
        {
          "output_type": "stream",
          "text": [
            "time: 8.84 ms\n"
          ],
          "name": "stdout"
        }
      ]
    }
  ]
}