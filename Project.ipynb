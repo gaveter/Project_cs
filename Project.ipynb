{
  "nbformat": 4,
  "nbformat_minor": 0,
  "metadata": {
    "colab": {
      "name": "Project.ipynb",
      "provenance": [],
      "collapsed_sections": [],
      "toc_visible": true,
      "machine_shape": "hm",
      "include_colab_link": true
    },
    "kernelspec": {
      "name": "python3",
      "display_name": "Python 3"
    },
    "accelerator": "GPU"
  },
  "cells": [
    {
      "cell_type": "markdown",
      "metadata": {
        "id": "view-in-github",
        "colab_type": "text"
      },
      "source": [
        "<a href=\"https://colab.research.google.com/github/gaveter/Project_cs/blob/master/Project.ipynb\" target=\"_parent\"><img src=\"https://colab.research.google.com/assets/colab-badge.svg\" alt=\"Open In Colab\"/></a>"
      ]
    },
    {
      "cell_type": "code",
      "metadata": {
        "id": "ol1w_yeL6Ns5",
        "colab_type": "code",
        "outputId": "8fff50e8-7a2d-4479-8b39-980b7fff6c12",
        "colab": {
          "base_uri": "https://localhost:8080/",
          "height": 34
        }
      },
      "source": [
        "from google.colab import drive\n",
        "drive.mount('/content/drive')"
      ],
      "execution_count": 2,
      "outputs": [
        {
          "output_type": "stream",
          "text": [
            "Drive already mounted at /content/drive; to attempt to forcibly remount, call drive.mount(\"/content/drive\", force_remount=True).\n"
          ],
          "name": "stdout"
        }
      ]
    },
    {
      "cell_type": "markdown",
      "metadata": {
        "id": "Z6eOK8_a6P3z",
        "colab_type": "text"
      },
      "source": [
        "# Project 2019-20\n",
        "1. Normalize the loan_lenders table. In the normalized table, each row must have one loan_id and one lender.\n",
        "2. For each loan, add a column duration corresponding to the number of days between the disburse time and the planned expiration time.\n",
        "3. Find the lenders that have funded at least twice.\n",
        "4. For each country, compute how many loans have involved that country as borrowers.\n",
        "5. For each country, compute the overall amount of money borrowed.\n",
        "6. Like the previous point, but expressed as a percentage of the overall amount lent.\n",
        "7. Like the three previous points, but split for each year (with respect to disburse time).\n",
        "8. For each lender, compute the overall amount of money lent. For each loan that has more than one lender, you must assume that all lenders contributed the same amount.\n",
        "9. For each country, compute the difference between the overall amount of money lent and the overall amount of money borrowed.\n",
        "10. Which country has the highest ratio between the difference computed at the previous point and the population?\n",
        "11. Which country has the highest ratio between the difference computed at point 9 and the population that is not below the poverty line?\n",
        "12. For each year, compute the total amount of loans. Each loan that has planned expiration time and disburse time in different years must \n",
        "have its amount distributed proportionally to the number of days in each year. For example, a loan with disburse time December 1st, 2016,\n",
        " planned expiration time January 30th 2018, and amount 5000USD has an amount of 5000USD * 31 / (31+365+30) = 363.85 for 2016, 5000USD * 365 / (31+365+30) = 4284.04\n",
        "for 2017, and 5000USD * 30 / (31+365+30) = 352.11 for 2018.\n",
        "© 2019 GitHub, Inc."
      ]
    },
    {
      "cell_type": "markdown",
      "metadata": {
        "id": "jRQIjhEl7EO0",
        "colab_type": "text"
      },
      "source": [
        "## Load libraries"
      ]
    },
    {
      "cell_type": "code",
      "metadata": {
        "id": "OjxkdRT4n1rR",
        "colab_type": "code",
        "outputId": "68918417-b7b5-4736-f190-3a31bdeaecd2",
        "colab": {
          "base_uri": "https://localhost:8080/",
          "height": 373
        }
      },
      "source": [
        "pip install forex-python"
      ],
      "execution_count": 3,
      "outputs": [
        {
          "output_type": "stream",
          "text": [
            "Collecting forex-python\n",
            "  Downloading https://files.pythonhosted.org/packages/1a/ff/f3f6da21e8fdc6ece355643871749c79a3191fed1cba088cbd0dc597dfee/forex-python-1.5.tar.gz\n",
            "Requirement already satisfied: requests in /usr/local/lib/python3.6/dist-packages (from forex-python) (2.21.0)\n",
            "Collecting simplejson\n",
            "\u001b[?25l  Downloading https://files.pythonhosted.org/packages/98/87/a7b98aa9256c8843f92878966dc3d8d914c14aad97e2c5ce4798d5743e07/simplejson-3.17.0.tar.gz (83kB)\n",
            "\u001b[K     |████████████████████████████████| 92kB 2.6MB/s \n",
            "\u001b[?25hRequirement already satisfied: urllib3<1.25,>=1.21.1 in /usr/local/lib/python3.6/dist-packages (from requests->forex-python) (1.24.3)\n",
            "Requirement already satisfied: certifi>=2017.4.17 in /usr/local/lib/python3.6/dist-packages (from requests->forex-python) (2019.11.28)\n",
            "Requirement already satisfied: chardet<3.1.0,>=3.0.2 in /usr/local/lib/python3.6/dist-packages (from requests->forex-python) (3.0.4)\n",
            "Requirement already satisfied: idna<2.9,>=2.5 in /usr/local/lib/python3.6/dist-packages (from requests->forex-python) (2.8)\n",
            "Building wheels for collected packages: forex-python, simplejson\n",
            "  Building wheel for forex-python (setup.py) ... \u001b[?25l\u001b[?25hdone\n",
            "  Created wheel for forex-python: filename=forex_python-1.5-cp36-none-any.whl size=7235 sha256=622e160745389061a060d58b8015f872f16474d3b82223c5c075ccb54d4226c7\n",
            "  Stored in directory: /root/.cache/pip/wheels/c9/ee/ce/a0c208e72d186b786b0c51914675bc03d1bf00b8ed9406271b\n",
            "  Building wheel for simplejson (setup.py) ... \u001b[?25l\u001b[?25hdone\n",
            "  Created wheel for simplejson: filename=simplejson-3.17.0-cp36-cp36m-linux_x86_64.whl size=114203 sha256=55ace027ec9505198ec496091c71e5c28503a6ed20e6af97fde9566a71e019bc\n",
            "  Stored in directory: /root/.cache/pip/wheels/86/c0/83/dcd0339abb2640544bb8e0938aab2d069cef55e5647ce6e097\n",
            "Successfully built forex-python simplejson\n",
            "Installing collected packages: simplejson, forex-python\n",
            "Successfully installed forex-python-1.5 simplejson-3.17.0\n"
          ],
          "name": "stdout"
        }
      ]
    },
    {
      "cell_type": "code",
      "metadata": {
        "id": "HhI6_r9s7Dro",
        "colab_type": "code",
        "colab": {}
      },
      "source": [
        "import pandas as pd\n",
        "from datetime import datetime\n",
        "import re\n",
        "import numpy as np\n",
        "import matplotlib.pyplot as plt\n",
        "import itertools\n",
        "import functools\n",
        "import calendar\n",
        "from collections import defaultdict\n",
        "from forex_python.converter import CurrencyRates"
      ],
      "execution_count": 0,
      "outputs": []
    },
    {
      "cell_type": "code",
      "metadata": {
        "id": "_Tj-2ms1R4sk",
        "colab_type": "code",
        "outputId": "801a489b-2119-4a72-d0f4-ca678c6c395f",
        "colab": {
          "base_uri": "https://localhost:8080/",
          "height": 134
        }
      },
      "source": [
        "pip install forex-python"
      ],
      "execution_count": 5,
      "outputs": [
        {
          "output_type": "stream",
          "text": [
            "Requirement already satisfied: forex-python in /usr/local/lib/python3.6/dist-packages (1.5)\n",
            "Requirement already satisfied: simplejson in /usr/local/lib/python3.6/dist-packages (from forex-python) (3.17.0)\n",
            "Requirement already satisfied: requests in /usr/local/lib/python3.6/dist-packages (from forex-python) (2.21.0)\n",
            "Requirement already satisfied: idna<2.9,>=2.5 in /usr/local/lib/python3.6/dist-packages (from requests->forex-python) (2.8)\n",
            "Requirement already satisfied: certifi>=2017.4.17 in /usr/local/lib/python3.6/dist-packages (from requests->forex-python) (2019.11.28)\n",
            "Requirement already satisfied: chardet<3.1.0,>=3.0.2 in /usr/local/lib/python3.6/dist-packages (from requests->forex-python) (3.0.4)\n",
            "Requirement already satisfied: urllib3<1.25,>=1.21.1 in /usr/local/lib/python3.6/dist-packages (from requests->forex-python) (1.24.3)\n"
          ],
          "name": "stdout"
        }
      ]
    },
    {
      "cell_type": "markdown",
      "metadata": {
        "id": "H293IL1LBfcH",
        "colab_type": "text"
      },
      "source": [
        "## Task1"
      ]
    },
    {
      "cell_type": "markdown",
      "metadata": {
        "id": "vBBoMroH7fgN",
        "colab_type": "text"
      },
      "source": [
        "### Load csv (loans_lenders)"
      ]
    },
    {
      "cell_type": "code",
      "metadata": {
        "id": "nuD87I-u7UGW",
        "colab_type": "code",
        "outputId": "03ce0056-b03a-400f-dc79-96bb79a07e93",
        "colab": {
          "base_uri": "https://localhost:8080/",
          "height": 34
        }
      },
      "source": [
        "loans_lender = pd.read_csv('/content/drive/My Drive/Foundation of computer science/additional-kiva-snapshot/loans_lenders.csv')\n",
        "len(loans_lender)"
      ],
      "execution_count": 6,
      "outputs": [
        {
          "output_type": "execute_result",
          "data": {
            "text/plain": [
              "1387432"
            ]
          },
          "metadata": {
            "tags": []
          },
          "execution_count": 6
        }
      ]
    },
    {
      "cell_type": "code",
      "metadata": {
        "id": "aGeQjd7yKqbU",
        "colab_type": "code",
        "outputId": "dd0e1fc8-18f4-4260-d31d-afb7f86a6e94",
        "colab": {
          "base_uri": "https://localhost:8080/",
          "height": 195
        }
      },
      "source": [
        "loans_lender.head()"
      ],
      "execution_count": 7,
      "outputs": [
        {
          "output_type": "execute_result",
          "data": {
            "text/html": [
              "<div>\n",
              "<style scoped>\n",
              "    .dataframe tbody tr th:only-of-type {\n",
              "        vertical-align: middle;\n",
              "    }\n",
              "\n",
              "    .dataframe tbody tr th {\n",
              "        vertical-align: top;\n",
              "    }\n",
              "\n",
              "    .dataframe thead th {\n",
              "        text-align: right;\n",
              "    }\n",
              "</style>\n",
              "<table border=\"1\" class=\"dataframe\">\n",
              "  <thead>\n",
              "    <tr style=\"text-align: right;\">\n",
              "      <th></th>\n",
              "      <th>loan_id</th>\n",
              "      <th>lenders</th>\n",
              "    </tr>\n",
              "  </thead>\n",
              "  <tbody>\n",
              "    <tr>\n",
              "      <th>0</th>\n",
              "      <td>483693</td>\n",
              "      <td>muc888, sam4326, camaran3922, lachheb1865, reb...</td>\n",
              "    </tr>\n",
              "    <tr>\n",
              "      <th>1</th>\n",
              "      <td>483738</td>\n",
              "      <td>muc888, nora3555, williammanashi, barbara5610,...</td>\n",
              "    </tr>\n",
              "    <tr>\n",
              "      <th>2</th>\n",
              "      <td>485000</td>\n",
              "      <td>muc888, terrystl, richardandsusan8352, sherri4...</td>\n",
              "    </tr>\n",
              "    <tr>\n",
              "      <th>3</th>\n",
              "      <td>486087</td>\n",
              "      <td>muc888, james5068, rudi5955, daniel9859, don92...</td>\n",
              "    </tr>\n",
              "    <tr>\n",
              "      <th>4</th>\n",
              "      <td>534428</td>\n",
              "      <td>muc888, niki3008, teresa9174, mike4896, david7...</td>\n",
              "    </tr>\n",
              "  </tbody>\n",
              "</table>\n",
              "</div>"
            ],
            "text/plain": [
              "   loan_id                                            lenders\n",
              "0   483693  muc888, sam4326, camaran3922, lachheb1865, reb...\n",
              "1   483738  muc888, nora3555, williammanashi, barbara5610,...\n",
              "2   485000  muc888, terrystl, richardandsusan8352, sherri4...\n",
              "3   486087  muc888, james5068, rudi5955, daniel9859, don92...\n",
              "4   534428  muc888, niki3008, teresa9174, mike4896, david7..."
            ]
          },
          "metadata": {
            "tags": []
          },
          "execution_count": 7
        }
      ]
    },
    {
      "cell_type": "code",
      "metadata": {
        "id": "RxeJOvtKHC1t",
        "colab_type": "code",
        "colab": {}
      },
      "source": [
        "#loans_lender['lengthOriginal']=loans_lender.apply(lambda x: len(x['lenders']),axis=1)"
      ],
      "execution_count": 0,
      "outputs": []
    },
    {
      "cell_type": "code",
      "metadata": {
        "id": "qeZeYsGHBUup",
        "colab_type": "code",
        "colab": {}
      },
      "source": [
        "loans_lender[\"lenders\"]=loans_lender[\"lenders\"].str.split(', ') #creazione lista per ogni riga\n",
        "loans_lender_norm=loans_lender.explode('lenders')"
      ],
      "execution_count": 0,
      "outputs": []
    },
    {
      "cell_type": "code",
      "metadata": {
        "id": "MtSNgzYSqk5o",
        "colab_type": "code",
        "outputId": "28b7f5c5-d9fb-4165-a7c4-7166c0462411",
        "colab": {
          "base_uri": "https://localhost:8080/",
          "height": 343
        }
      },
      "source": [
        "loans_lender_norm.head(10)"
      ],
      "execution_count": 10,
      "outputs": [
        {
          "output_type": "execute_result",
          "data": {
            "text/html": [
              "<div>\n",
              "<style scoped>\n",
              "    .dataframe tbody tr th:only-of-type {\n",
              "        vertical-align: middle;\n",
              "    }\n",
              "\n",
              "    .dataframe tbody tr th {\n",
              "        vertical-align: top;\n",
              "    }\n",
              "\n",
              "    .dataframe thead th {\n",
              "        text-align: right;\n",
              "    }\n",
              "</style>\n",
              "<table border=\"1\" class=\"dataframe\">\n",
              "  <thead>\n",
              "    <tr style=\"text-align: right;\">\n",
              "      <th></th>\n",
              "      <th>loan_id</th>\n",
              "      <th>lenders</th>\n",
              "    </tr>\n",
              "  </thead>\n",
              "  <tbody>\n",
              "    <tr>\n",
              "      <th>0</th>\n",
              "      <td>483693</td>\n",
              "      <td>muc888</td>\n",
              "    </tr>\n",
              "    <tr>\n",
              "      <th>0</th>\n",
              "      <td>483693</td>\n",
              "      <td>sam4326</td>\n",
              "    </tr>\n",
              "    <tr>\n",
              "      <th>0</th>\n",
              "      <td>483693</td>\n",
              "      <td>camaran3922</td>\n",
              "    </tr>\n",
              "    <tr>\n",
              "      <th>0</th>\n",
              "      <td>483693</td>\n",
              "      <td>lachheb1865</td>\n",
              "    </tr>\n",
              "    <tr>\n",
              "      <th>0</th>\n",
              "      <td>483693</td>\n",
              "      <td>rebecca3499</td>\n",
              "    </tr>\n",
              "    <tr>\n",
              "      <th>0</th>\n",
              "      <td>483693</td>\n",
              "      <td>karlheinz4543</td>\n",
              "    </tr>\n",
              "    <tr>\n",
              "      <th>0</th>\n",
              "      <td>483693</td>\n",
              "      <td>jerrydb</td>\n",
              "    </tr>\n",
              "    <tr>\n",
              "      <th>0</th>\n",
              "      <td>483693</td>\n",
              "      <td>paula8951</td>\n",
              "    </tr>\n",
              "    <tr>\n",
              "      <th>0</th>\n",
              "      <td>483693</td>\n",
              "      <td>gmct</td>\n",
              "    </tr>\n",
              "    <tr>\n",
              "      <th>0</th>\n",
              "      <td>483693</td>\n",
              "      <td>amra9383</td>\n",
              "    </tr>\n",
              "  </tbody>\n",
              "</table>\n",
              "</div>"
            ],
            "text/plain": [
              "   loan_id        lenders\n",
              "0   483693         muc888\n",
              "0   483693        sam4326\n",
              "0   483693    camaran3922\n",
              "0   483693    lachheb1865\n",
              "0   483693    rebecca3499\n",
              "0   483693  karlheinz4543\n",
              "0   483693        jerrydb\n",
              "0   483693      paula8951\n",
              "0   483693           gmct\n",
              "0   483693       amra9383"
            ]
          },
          "metadata": {
            "tags": []
          },
          "execution_count": 10
        }
      ]
    },
    {
      "cell_type": "markdown",
      "metadata": {
        "id": "APH26ZJ3D5l-",
        "colab_type": "text"
      },
      "source": [
        "### Result"
      ]
    },
    {
      "cell_type": "code",
      "metadata": {
        "id": "RrsCO8-mCJmi",
        "colab_type": "code",
        "outputId": "4f2c04d8-f9ea-4da3-e8c8-a881dc41e659",
        "colab": {
          "base_uri": "https://localhost:8080/",
          "height": 195
        }
      },
      "source": [
        "loans_lender_norm=loans_lender_norm.reset_index(drop=True)\n",
        "loans_lender_norm.head()"
      ],
      "execution_count": 11,
      "outputs": [
        {
          "output_type": "execute_result",
          "data": {
            "text/html": [
              "<div>\n",
              "<style scoped>\n",
              "    .dataframe tbody tr th:only-of-type {\n",
              "        vertical-align: middle;\n",
              "    }\n",
              "\n",
              "    .dataframe tbody tr th {\n",
              "        vertical-align: top;\n",
              "    }\n",
              "\n",
              "    .dataframe thead th {\n",
              "        text-align: right;\n",
              "    }\n",
              "</style>\n",
              "<table border=\"1\" class=\"dataframe\">\n",
              "  <thead>\n",
              "    <tr style=\"text-align: right;\">\n",
              "      <th></th>\n",
              "      <th>loan_id</th>\n",
              "      <th>lenders</th>\n",
              "    </tr>\n",
              "  </thead>\n",
              "  <tbody>\n",
              "    <tr>\n",
              "      <th>0</th>\n",
              "      <td>483693</td>\n",
              "      <td>muc888</td>\n",
              "    </tr>\n",
              "    <tr>\n",
              "      <th>1</th>\n",
              "      <td>483693</td>\n",
              "      <td>sam4326</td>\n",
              "    </tr>\n",
              "    <tr>\n",
              "      <th>2</th>\n",
              "      <td>483693</td>\n",
              "      <td>camaran3922</td>\n",
              "    </tr>\n",
              "    <tr>\n",
              "      <th>3</th>\n",
              "      <td>483693</td>\n",
              "      <td>lachheb1865</td>\n",
              "    </tr>\n",
              "    <tr>\n",
              "      <th>4</th>\n",
              "      <td>483693</td>\n",
              "      <td>rebecca3499</td>\n",
              "    </tr>\n",
              "  </tbody>\n",
              "</table>\n",
              "</div>"
            ],
            "text/plain": [
              "   loan_id      lenders\n",
              "0   483693       muc888\n",
              "1   483693      sam4326\n",
              "2   483693  camaran3922\n",
              "3   483693  lachheb1865\n",
              "4   483693  rebecca3499"
            ]
          },
          "metadata": {
            "tags": []
          },
          "execution_count": 11
        }
      ]
    },
    {
      "cell_type": "markdown",
      "metadata": {
        "id": "YZbRGXk2DZKq",
        "colab_type": "text"
      },
      "source": [
        "## Task2\n",
        "- For each loan, add a column duration corresponding to the number of days between the disburse time and the planned expiration time"
      ]
    },
    {
      "cell_type": "markdown",
      "metadata": {
        "id": "8hizSkn5LXfV",
        "colab_type": "text"
      },
      "source": [
        "### Load csv (loans)"
      ]
    },
    {
      "cell_type": "code",
      "metadata": {
        "id": "wOJrqF4kDc-U",
        "colab_type": "code",
        "colab": {}
      },
      "source": [
        "loan = pd.read_csv('/content/drive/My Drive/Foundation of computer science/additional-kiva-snapshot/loans.csv')"
      ],
      "execution_count": 0,
      "outputs": []
    },
    {
      "cell_type": "code",
      "metadata": {
        "id": "nxlPKclPFppe",
        "colab_type": "code",
        "outputId": "5eb8bf4e-e9da-424c-a85a-90574f1dbe29",
        "colab": {
          "base_uri": "https://localhost:8080/",
          "height": 568
        }
      },
      "source": [
        "loan.head()"
      ],
      "execution_count": 13,
      "outputs": [
        {
          "output_type": "execute_result",
          "data": {
            "text/html": [
              "<div>\n",
              "<style scoped>\n",
              "    .dataframe tbody tr th:only-of-type {\n",
              "        vertical-align: middle;\n",
              "    }\n",
              "\n",
              "    .dataframe tbody tr th {\n",
              "        vertical-align: top;\n",
              "    }\n",
              "\n",
              "    .dataframe thead th {\n",
              "        text-align: right;\n",
              "    }\n",
              "</style>\n",
              "<table border=\"1\" class=\"dataframe\">\n",
              "  <thead>\n",
              "    <tr style=\"text-align: right;\">\n",
              "      <th></th>\n",
              "      <th>loan_id</th>\n",
              "      <th>loan_name</th>\n",
              "      <th>original_language</th>\n",
              "      <th>description</th>\n",
              "      <th>description_translated</th>\n",
              "      <th>funded_amount</th>\n",
              "      <th>loan_amount</th>\n",
              "      <th>status</th>\n",
              "      <th>activity_name</th>\n",
              "      <th>sector_name</th>\n",
              "      <th>loan_use</th>\n",
              "      <th>country_code</th>\n",
              "      <th>country_name</th>\n",
              "      <th>town_name</th>\n",
              "      <th>currency_policy</th>\n",
              "      <th>currency_exchange_coverage_rate</th>\n",
              "      <th>currency</th>\n",
              "      <th>partner_id</th>\n",
              "      <th>posted_time</th>\n",
              "      <th>planned_expiration_time</th>\n",
              "      <th>disburse_time</th>\n",
              "      <th>raised_time</th>\n",
              "      <th>lender_term</th>\n",
              "      <th>num_lenders_total</th>\n",
              "      <th>num_journal_entries</th>\n",
              "      <th>num_bulk_entries</th>\n",
              "      <th>tags</th>\n",
              "      <th>borrower_genders</th>\n",
              "      <th>borrower_pictured</th>\n",
              "      <th>repayment_interval</th>\n",
              "      <th>distribution_model</th>\n",
              "    </tr>\n",
              "  </thead>\n",
              "  <tbody>\n",
              "    <tr>\n",
              "      <th>0</th>\n",
              "      <td>657307</td>\n",
              "      <td>Aivy</td>\n",
              "      <td>English</td>\n",
              "      <td>Aivy, 21 years of age, is single and lives in ...</td>\n",
              "      <td>NaN</td>\n",
              "      <td>125.0</td>\n",
              "      <td>125.0</td>\n",
              "      <td>funded</td>\n",
              "      <td>General Store</td>\n",
              "      <td>Retail</td>\n",
              "      <td>to buy additional inventories for her sari-sa...</td>\n",
              "      <td>PH</td>\n",
              "      <td>Philippines</td>\n",
              "      <td>Ozamiz - Ozamiz City</td>\n",
              "      <td>shared</td>\n",
              "      <td>0.1</td>\n",
              "      <td>PHP</td>\n",
              "      <td>126.0</td>\n",
              "      <td>2014-01-15 02:23:45.000 +0000</td>\n",
              "      <td>2014-02-14 03:30:06.000 +0000</td>\n",
              "      <td>2013-12-22 08:00:00.000 +0000</td>\n",
              "      <td>2014-01-15 04:48:22.000 +0000</td>\n",
              "      <td>7.0</td>\n",
              "      <td>3</td>\n",
              "      <td>2</td>\n",
              "      <td>1</td>\n",
              "      <td>NaN</td>\n",
              "      <td>female</td>\n",
              "      <td>true</td>\n",
              "      <td>irregular</td>\n",
              "      <td>field_partner</td>\n",
              "    </tr>\n",
              "    <tr>\n",
              "      <th>1</th>\n",
              "      <td>657259</td>\n",
              "      <td>Idalia Marizza</td>\n",
              "      <td>Spanish</td>\n",
              "      <td>Doña Idalia, esta casada, tiene 57 años de eda...</td>\n",
              "      <td>Idalia, 57, is married and lives with her husb...</td>\n",
              "      <td>400.0</td>\n",
              "      <td>400.0</td>\n",
              "      <td>funded</td>\n",
              "      <td>Used Clothing</td>\n",
              "      <td>Clothing</td>\n",
              "      <td>To buy American clothing such as blouses, shir...</td>\n",
              "      <td>HN</td>\n",
              "      <td>Honduras</td>\n",
              "      <td>La Lopez, Choloma</td>\n",
              "      <td>shared</td>\n",
              "      <td>0.1</td>\n",
              "      <td>HNL</td>\n",
              "      <td>201.0</td>\n",
              "      <td>2014-01-14 20:23:20.000 +0000</td>\n",
              "      <td>2014-03-26 22:25:07.000 +0000</td>\n",
              "      <td>2013-12-20 08:00:00.000 +0000</td>\n",
              "      <td>2014-02-25 06:42:06.000 +0000</td>\n",
              "      <td>8.0</td>\n",
              "      <td>11</td>\n",
              "      <td>2</td>\n",
              "      <td>1</td>\n",
              "      <td>NaN</td>\n",
              "      <td>female</td>\n",
              "      <td>true</td>\n",
              "      <td>monthly</td>\n",
              "      <td>field_partner</td>\n",
              "    </tr>\n",
              "    <tr>\n",
              "      <th>2</th>\n",
              "      <td>658010</td>\n",
              "      <td>Aasia</td>\n",
              "      <td>English</td>\n",
              "      <td>Aasia is a 45-year-old married lady and she ha...</td>\n",
              "      <td>NaN</td>\n",
              "      <td>400.0</td>\n",
              "      <td>400.0</td>\n",
              "      <td>funded</td>\n",
              "      <td>General Store</td>\n",
              "      <td>Retail</td>\n",
              "      <td>to buy stock of rice, sugar and flour</td>\n",
              "      <td>PK</td>\n",
              "      <td>Pakistan</td>\n",
              "      <td>Lala Musa</td>\n",
              "      <td>shared</td>\n",
              "      <td>0.1</td>\n",
              "      <td>PKR</td>\n",
              "      <td>245.0</td>\n",
              "      <td>2014-01-16 11:32:58.000 +0000</td>\n",
              "      <td>2014-02-15 21:10:05.000 +0000</td>\n",
              "      <td>2014-01-09 08:00:00.000 +0000</td>\n",
              "      <td>2014-01-24 23:06:18.000 +0000</td>\n",
              "      <td>14.0</td>\n",
              "      <td>16</td>\n",
              "      <td>2</td>\n",
              "      <td>1</td>\n",
              "      <td>#Woman Owned Biz, #Supporting Family, user_fav...</td>\n",
              "      <td>female</td>\n",
              "      <td>true</td>\n",
              "      <td>monthly</td>\n",
              "      <td>field_partner</td>\n",
              "    </tr>\n",
              "    <tr>\n",
              "      <th>3</th>\n",
              "      <td>659347</td>\n",
              "      <td>Gulmira</td>\n",
              "      <td>Russian</td>\n",
              "      <td>Гулмире 36 лет, замужем, вместе с супругом вос...</td>\n",
              "      <td>Gulmira is 36 years old and married.  She and ...</td>\n",
              "      <td>625.0</td>\n",
              "      <td>625.0</td>\n",
              "      <td>funded</td>\n",
              "      <td>Farming</td>\n",
              "      <td>Agriculture</td>\n",
              "      <td>to buy cucumber and tomato seeds, as well as f...</td>\n",
              "      <td>KG</td>\n",
              "      <td>Kyrgyzstan</td>\n",
              "      <td>Aravan village, Osh region</td>\n",
              "      <td>shared</td>\n",
              "      <td>0.1</td>\n",
              "      <td>KGS</td>\n",
              "      <td>171.0</td>\n",
              "      <td>2014-01-20 09:59:48.000 +0000</td>\n",
              "      <td>2014-02-21 03:10:02.000 +0000</td>\n",
              "      <td>2014-01-17 08:00:00.000 +0000</td>\n",
              "      <td>2014-01-22 05:29:28.000 +0000</td>\n",
              "      <td>14.0</td>\n",
              "      <td>21</td>\n",
              "      <td>2</td>\n",
              "      <td>1</td>\n",
              "      <td>user_favorite</td>\n",
              "      <td>female</td>\n",
              "      <td>true</td>\n",
              "      <td>monthly</td>\n",
              "      <td>field_partner</td>\n",
              "    </tr>\n",
              "    <tr>\n",
              "      <th>4</th>\n",
              "      <td>656933</td>\n",
              "      <td>Ricky\\t</td>\n",
              "      <td>English</td>\n",
              "      <td>Ricky is a farmer who currently cultivates his...</td>\n",
              "      <td>NaN</td>\n",
              "      <td>425.0</td>\n",
              "      <td>425.0</td>\n",
              "      <td>funded</td>\n",
              "      <td>Farming</td>\n",
              "      <td>Agriculture</td>\n",
              "      <td>to buy organic fertilizer and agrochemical pr...</td>\n",
              "      <td>PH</td>\n",
              "      <td>Philippines</td>\n",
              "      <td>Baleleng, Sto. Thomas, Isabela</td>\n",
              "      <td>shared</td>\n",
              "      <td>0.1</td>\n",
              "      <td>PHP</td>\n",
              "      <td>123.0</td>\n",
              "      <td>2014-01-14 05:46:21.000 +0000</td>\n",
              "      <td>2014-02-13 06:10:02.000 +0000</td>\n",
              "      <td>2013-12-17 08:00:00.000 +0000</td>\n",
              "      <td>2014-01-14 17:29:27.000 +0000</td>\n",
              "      <td>7.0</td>\n",
              "      <td>15</td>\n",
              "      <td>2</td>\n",
              "      <td>1</td>\n",
              "      <td>#Animals, #Eco-friendly, #Sustainable Ag</td>\n",
              "      <td>male</td>\n",
              "      <td>true</td>\n",
              "      <td>bullet</td>\n",
              "      <td>field_partner</td>\n",
              "    </tr>\n",
              "  </tbody>\n",
              "</table>\n",
              "</div>"
            ],
            "text/plain": [
              "   loan_id       loan_name  ... repayment_interval distribution_model\n",
              "0   657307            Aivy  ...          irregular      field_partner\n",
              "1   657259  Idalia Marizza  ...            monthly      field_partner\n",
              "2   658010           Aasia  ...            monthly      field_partner\n",
              "3   659347         Gulmira  ...            monthly      field_partner\n",
              "4   656933         Ricky\\t  ...             bullet      field_partner\n",
              "\n",
              "[5 rows x 31 columns]"
            ]
          },
          "metadata": {
            "tags": []
          },
          "execution_count": 13
        }
      ]
    },
    {
      "cell_type": "markdown",
      "metadata": {
        "id": "J-5FlPjEooYP",
        "colab_type": "text"
      },
      "source": [
        "### Check missing values"
      ]
    },
    {
      "cell_type": "code",
      "metadata": {
        "id": "cZCHUpNRarl2",
        "colab_type": "code",
        "colab": {}
      },
      "source": [
        "missing_loan = pd.isnull(loan[[\"planned_expiration_time\"]])"
      ],
      "execution_count": 0,
      "outputs": []
    },
    {
      "cell_type": "code",
      "metadata": {
        "id": "luFBF6vxnuom",
        "colab_type": "code",
        "outputId": "e12250a8-4b49-4b80-fec4-8525ade4ef83",
        "colab": {
          "base_uri": "https://localhost:8080/",
          "height": 225
        }
      },
      "source": [
        "loan.loc[64:69][[\"planned_expiration_time\",\"disburse_time\"]]"
      ],
      "execution_count": 15,
      "outputs": [
        {
          "output_type": "execute_result",
          "data": {
            "text/html": [
              "<div>\n",
              "<style scoped>\n",
              "    .dataframe tbody tr th:only-of-type {\n",
              "        vertical-align: middle;\n",
              "    }\n",
              "\n",
              "    .dataframe tbody tr th {\n",
              "        vertical-align: top;\n",
              "    }\n",
              "\n",
              "    .dataframe thead th {\n",
              "        text-align: right;\n",
              "    }\n",
              "</style>\n",
              "<table border=\"1\" class=\"dataframe\">\n",
              "  <thead>\n",
              "    <tr style=\"text-align: right;\">\n",
              "      <th></th>\n",
              "      <th>planned_expiration_time</th>\n",
              "      <th>disburse_time</th>\n",
              "    </tr>\n",
              "  </thead>\n",
              "  <tbody>\n",
              "    <tr>\n",
              "      <th>64</th>\n",
              "      <td>NaN</td>\n",
              "      <td>2010-11-18 08:00:00.000 +0000</td>\n",
              "    </tr>\n",
              "    <tr>\n",
              "      <th>65</th>\n",
              "      <td>NaN</td>\n",
              "      <td>2010-11-25 08:00:00.000 +0000</td>\n",
              "    </tr>\n",
              "    <tr>\n",
              "      <th>66</th>\n",
              "      <td>NaN</td>\n",
              "      <td>2010-11-25 08:00:00.000 +0000</td>\n",
              "    </tr>\n",
              "    <tr>\n",
              "      <th>67</th>\n",
              "      <td>NaN</td>\n",
              "      <td>2010-11-16 08:00:00.000 +0000</td>\n",
              "    </tr>\n",
              "    <tr>\n",
              "      <th>68</th>\n",
              "      <td>2016-11-03 06:10:05.000 +0000</td>\n",
              "      <td>2016-09-07 07:00:00.000 +0000</td>\n",
              "    </tr>\n",
              "    <tr>\n",
              "      <th>69</th>\n",
              "      <td>NaN</td>\n",
              "      <td>2010-11-10 08:00:00.000 +0000</td>\n",
              "    </tr>\n",
              "  </tbody>\n",
              "</table>\n",
              "</div>"
            ],
            "text/plain": [
              "          planned_expiration_time                  disburse_time\n",
              "64                            NaN  2010-11-18 08:00:00.000 +0000\n",
              "65                            NaN  2010-11-25 08:00:00.000 +0000\n",
              "66                            NaN  2010-11-25 08:00:00.000 +0000\n",
              "67                            NaN  2010-11-16 08:00:00.000 +0000\n",
              "68  2016-11-03 06:10:05.000 +0000  2016-09-07 07:00:00.000 +0000\n",
              "69                            NaN  2010-11-10 08:00:00.000 +0000"
            ]
          },
          "metadata": {
            "tags": []
          },
          "execution_count": 15
        }
      ]
    },
    {
      "cell_type": "code",
      "metadata": {
        "id": "DMRls-drrNEq",
        "colab_type": "code",
        "outputId": "4331e61c-9746-4ac5-f971-5adefa59e2a1",
        "colab": {
          "base_uri": "https://localhost:8080/",
          "height": 34
        }
      },
      "source": [
        "type(loan.loc[67][[\"planned_expiration_time\"]][0]), type(loan.loc[68][[\"planned_expiration_time\"]][0])"
      ],
      "execution_count": 16,
      "outputs": [
        {
          "output_type": "execute_result",
          "data": {
            "text/plain": [
              "(float, str)"
            ]
          },
          "metadata": {
            "tags": []
          },
          "execution_count": 16
        }
      ]
    },
    {
      "cell_type": "markdown",
      "metadata": {
        "id": "VCwDEftFpehQ",
        "colab_type": "text"
      },
      "source": [
        "### Conversion attribute 'planned_expiration_time', 'disburse_time' to string"
      ]
    },
    {
      "cell_type": "code",
      "metadata": {
        "id": "0ynwYCBEpeBH",
        "colab_type": "code",
        "colab": {}
      },
      "source": [
        "loan[\"planned_expiration_time\"] = loan.apply(lambda x: str(x[\"planned_expiration_time\"]),axis=1) #each row (value is float)\n",
        "loan[\"disburse_time\"] = loan.apply(lambda x: str(x[\"disburse_time\"]),axis=1)"
      ],
      "execution_count": 0,
      "outputs": []
    },
    {
      "cell_type": "code",
      "metadata": {
        "id": "3iXXtRyf8ciq",
        "colab_type": "code",
        "outputId": "7051be85-2796-4974-c172-38511d57f62c",
        "colab": {
          "base_uri": "https://localhost:8080/",
          "height": 34
        }
      },
      "source": [
        "loan.loc[68][\"disburse_time\"]"
      ],
      "execution_count": 18,
      "outputs": [
        {
          "output_type": "execute_result",
          "data": {
            "text/plain": [
              "'2016-09-07 07:00:00.000 +0000'"
            ]
          },
          "metadata": {
            "tags": []
          },
          "execution_count": 18
        }
      ]
    },
    {
      "cell_type": "code",
      "metadata": {
        "id": "aMHD5LxYML_B",
        "colab_type": "code",
        "colab": {}
      },
      "source": [
        "def difference_dates(date1,date2):\n",
        "  if (date1==\"nan\" or date2==\"nan\"):\n",
        "    return(np.nan) #float\n",
        "  date1 = date1[:-10] #delete part +0000\n",
        "  date1 = datetime.strptime(date1,\"%Y-%m-%d %H:%M:%S\")\n",
        "  date2 = date2[:-10]\n",
        "  date2 = datetime.strptime(date2,\"%Y-%m-%d %H:%M:%S\")\n",
        "  diff = (date1 - date2).days\n",
        "  return(diff)"
      ],
      "execution_count": 0,
      "outputs": []
    },
    {
      "cell_type": "code",
      "metadata": {
        "id": "EU_WyLDsTGpx",
        "colab_type": "code",
        "colab": {}
      },
      "source": [
        "loan[\"duration\"] = loan.apply(lambda x: difference_dates(x[\"planned_expiration_time\"],x[\"disburse_time\"]),axis=1)"
      ],
      "execution_count": 0,
      "outputs": []
    },
    {
      "cell_type": "code",
      "metadata": {
        "id": "CcwvUAWaXPzV",
        "colab_type": "code",
        "outputId": "9ef47627-6b60-4645-e653-2f693f74c9cf",
        "colab": {
          "base_uri": "https://localhost:8080/",
          "height": 34
        }
      },
      "source": [
        "zeroDuration = loan[loan[\"duration\"]==0][[\"planned_expiration_time\",\"disburse_time\",\"duration\"]]\n",
        "len(zeroDuration)"
      ],
      "execution_count": 21,
      "outputs": [
        {
          "output_type": "execute_result",
          "data": {
            "text/plain": [
              "772"
            ]
          },
          "metadata": {
            "tags": []
          },
          "execution_count": 21
        }
      ]
    },
    {
      "cell_type": "markdown",
      "metadata": {
        "id": "v1E4esXdQzYj",
        "colab_type": "text"
      },
      "source": [
        "### Result"
      ]
    },
    {
      "cell_type": "code",
      "metadata": {
        "id": "ksaM8dHyycQk",
        "colab_type": "code",
        "outputId": "f171c39b-e36c-4ff7-974e-194eabe02860",
        "colab": {
          "base_uri": "https://localhost:8080/",
          "height": 195
        }
      },
      "source": [
        "loan.head()[[\"planned_expiration_time\",\"disburse_time\",\"duration\"]]"
      ],
      "execution_count": 22,
      "outputs": [
        {
          "output_type": "execute_result",
          "data": {
            "text/html": [
              "<div>\n",
              "<style scoped>\n",
              "    .dataframe tbody tr th:only-of-type {\n",
              "        vertical-align: middle;\n",
              "    }\n",
              "\n",
              "    .dataframe tbody tr th {\n",
              "        vertical-align: top;\n",
              "    }\n",
              "\n",
              "    .dataframe thead th {\n",
              "        text-align: right;\n",
              "    }\n",
              "</style>\n",
              "<table border=\"1\" class=\"dataframe\">\n",
              "  <thead>\n",
              "    <tr style=\"text-align: right;\">\n",
              "      <th></th>\n",
              "      <th>planned_expiration_time</th>\n",
              "      <th>disburse_time</th>\n",
              "      <th>duration</th>\n",
              "    </tr>\n",
              "  </thead>\n",
              "  <tbody>\n",
              "    <tr>\n",
              "      <th>0</th>\n",
              "      <td>2014-02-14 03:30:06.000 +0000</td>\n",
              "      <td>2013-12-22 08:00:00.000 +0000</td>\n",
              "      <td>53.0</td>\n",
              "    </tr>\n",
              "    <tr>\n",
              "      <th>1</th>\n",
              "      <td>2014-03-26 22:25:07.000 +0000</td>\n",
              "      <td>2013-12-20 08:00:00.000 +0000</td>\n",
              "      <td>96.0</td>\n",
              "    </tr>\n",
              "    <tr>\n",
              "      <th>2</th>\n",
              "      <td>2014-02-15 21:10:05.000 +0000</td>\n",
              "      <td>2014-01-09 08:00:00.000 +0000</td>\n",
              "      <td>37.0</td>\n",
              "    </tr>\n",
              "    <tr>\n",
              "      <th>3</th>\n",
              "      <td>2014-02-21 03:10:02.000 +0000</td>\n",
              "      <td>2014-01-17 08:00:00.000 +0000</td>\n",
              "      <td>34.0</td>\n",
              "    </tr>\n",
              "    <tr>\n",
              "      <th>4</th>\n",
              "      <td>2014-02-13 06:10:02.000 +0000</td>\n",
              "      <td>2013-12-17 08:00:00.000 +0000</td>\n",
              "      <td>57.0</td>\n",
              "    </tr>\n",
              "  </tbody>\n",
              "</table>\n",
              "</div>"
            ],
            "text/plain": [
              "         planned_expiration_time                  disburse_time  duration\n",
              "0  2014-02-14 03:30:06.000 +0000  2013-12-22 08:00:00.000 +0000      53.0\n",
              "1  2014-03-26 22:25:07.000 +0000  2013-12-20 08:00:00.000 +0000      96.0\n",
              "2  2014-02-15 21:10:05.000 +0000  2014-01-09 08:00:00.000 +0000      37.0\n",
              "3  2014-02-21 03:10:02.000 +0000  2014-01-17 08:00:00.000 +0000      34.0\n",
              "4  2014-02-13 06:10:02.000 +0000  2013-12-17 08:00:00.000 +0000      57.0"
            ]
          },
          "metadata": {
            "tags": []
          },
          "execution_count": 22
        }
      ]
    },
    {
      "cell_type": "markdown",
      "metadata": {
        "id": "eo2kVaCZKR_g",
        "colab_type": "text"
      },
      "source": [
        "## Task 3\n",
        "- Find the lenders that have funded at least twice"
      ]
    },
    {
      "cell_type": "code",
      "metadata": {
        "id": "qtnMpA9s_VKR",
        "colab_type": "code",
        "outputId": "955d4d65-7a63-4fd5-ff3f-ac18ea880262",
        "colab": {
          "base_uri": "https://localhost:8080/",
          "height": 34
        }
      },
      "source": [
        "loan['status'].unique()"
      ],
      "execution_count": 23,
      "outputs": [
        {
          "output_type": "execute_result",
          "data": {
            "text/plain": [
              "array(['funded', 'expired', 'refunded', 'fundRaising'], dtype=object)"
            ]
          },
          "metadata": {
            "tags": []
          },
          "execution_count": 23
        }
      ]
    },
    {
      "cell_type": "code",
      "metadata": {
        "id": "ymNALeYaHDbC",
        "colab_type": "code",
        "colab": {}
      },
      "source": [
        "fundedLoan=loan[['loan_id','status']]"
      ],
      "execution_count": 0,
      "outputs": []
    },
    {
      "cell_type": "code",
      "metadata": {
        "id": "-odsXDLHznWt",
        "colab_type": "code",
        "outputId": "801d650b-3d99-4618-e68d-fe3d08a28749",
        "colab": {
          "base_uri": "https://localhost:8080/",
          "height": 195
        }
      },
      "source": [
        "lenders_funded = pd.merge(loans_lender_norm,fundedLoan,how=\"inner\",on=\"loan_id\")\n",
        "lenders_funded.head()"
      ],
      "execution_count": 25,
      "outputs": [
        {
          "output_type": "execute_result",
          "data": {
            "text/html": [
              "<div>\n",
              "<style scoped>\n",
              "    .dataframe tbody tr th:only-of-type {\n",
              "        vertical-align: middle;\n",
              "    }\n",
              "\n",
              "    .dataframe tbody tr th {\n",
              "        vertical-align: top;\n",
              "    }\n",
              "\n",
              "    .dataframe thead th {\n",
              "        text-align: right;\n",
              "    }\n",
              "</style>\n",
              "<table border=\"1\" class=\"dataframe\">\n",
              "  <thead>\n",
              "    <tr style=\"text-align: right;\">\n",
              "      <th></th>\n",
              "      <th>loan_id</th>\n",
              "      <th>lenders</th>\n",
              "      <th>status</th>\n",
              "    </tr>\n",
              "  </thead>\n",
              "  <tbody>\n",
              "    <tr>\n",
              "      <th>0</th>\n",
              "      <td>483693</td>\n",
              "      <td>muc888</td>\n",
              "      <td>funded</td>\n",
              "    </tr>\n",
              "    <tr>\n",
              "      <th>1</th>\n",
              "      <td>483693</td>\n",
              "      <td>sam4326</td>\n",
              "      <td>funded</td>\n",
              "    </tr>\n",
              "    <tr>\n",
              "      <th>2</th>\n",
              "      <td>483693</td>\n",
              "      <td>camaran3922</td>\n",
              "      <td>funded</td>\n",
              "    </tr>\n",
              "    <tr>\n",
              "      <th>3</th>\n",
              "      <td>483693</td>\n",
              "      <td>lachheb1865</td>\n",
              "      <td>funded</td>\n",
              "    </tr>\n",
              "    <tr>\n",
              "      <th>4</th>\n",
              "      <td>483693</td>\n",
              "      <td>rebecca3499</td>\n",
              "      <td>funded</td>\n",
              "    </tr>\n",
              "  </tbody>\n",
              "</table>\n",
              "</div>"
            ],
            "text/plain": [
              "   loan_id      lenders  status\n",
              "0   483693       muc888  funded\n",
              "1   483693      sam4326  funded\n",
              "2   483693  camaran3922  funded\n",
              "3   483693  lachheb1865  funded\n",
              "4   483693  rebecca3499  funded"
            ]
          },
          "metadata": {
            "tags": []
          },
          "execution_count": 25
        }
      ]
    },
    {
      "cell_type": "code",
      "metadata": {
        "id": "4bPS04EKfGF7",
        "colab_type": "code",
        "colab": {}
      },
      "source": [
        "numberfunded_lenders = lenders_funded.groupby('lenders')['loan_id'].count().reset_index(level=0)\n",
        "numberfunded_lenders.columns=['lenders','count']"
      ],
      "execution_count": 0,
      "outputs": []
    },
    {
      "cell_type": "code",
      "metadata": {
        "id": "KhnFziBZgmIN",
        "colab_type": "code",
        "colab": {}
      },
      "source": [
        "numberfunded_lenders = numberfunded_lenders[numberfunded_lenders['count']>=2]\n",
        "numberfunded_lenders = numberfunded_lenders.sort_values('count',ascending=False)"
      ],
      "execution_count": 0,
      "outputs": []
    },
    {
      "cell_type": "markdown",
      "metadata": {
        "id": "Z9WMYaSl2-gH",
        "colab_type": "text"
      },
      "source": [
        "### Result"
      ]
    },
    {
      "cell_type": "code",
      "metadata": {
        "id": "1tVLRNMGeBnn",
        "colab_type": "code",
        "outputId": "71901ca9-dcd5-4ec4-f9ef-2877d3321d72",
        "colab": {
          "base_uri": "https://localhost:8080/",
          "height": 195
        }
      },
      "source": [
        "numberfunded_lenders.head()"
      ],
      "execution_count": 28,
      "outputs": [
        {
          "output_type": "execute_result",
          "data": {
            "text/html": [
              "<div>\n",
              "<style scoped>\n",
              "    .dataframe tbody tr th:only-of-type {\n",
              "        vertical-align: middle;\n",
              "    }\n",
              "\n",
              "    .dataframe tbody tr th {\n",
              "        vertical-align: top;\n",
              "    }\n",
              "\n",
              "    .dataframe thead th {\n",
              "        text-align: right;\n",
              "    }\n",
              "</style>\n",
              "<table border=\"1\" class=\"dataframe\">\n",
              "  <thead>\n",
              "    <tr style=\"text-align: right;\">\n",
              "      <th></th>\n",
              "      <th>lenders</th>\n",
              "      <th>count</th>\n",
              "    </tr>\n",
              "  </thead>\n",
              "  <tbody>\n",
              "    <tr>\n",
              "      <th>462833</th>\n",
              "      <td>gooddogg1</td>\n",
              "      <td>177645</td>\n",
              "    </tr>\n",
              "    <tr>\n",
              "      <th>1324411</th>\n",
              "      <td>trolltech4460</td>\n",
              "      <td>150762</td>\n",
              "    </tr>\n",
              "    <tr>\n",
              "      <th>462243</th>\n",
              "      <td>gmct</td>\n",
              "      <td>128159</td>\n",
              "    </tr>\n",
              "    <tr>\n",
              "      <th>1008585</th>\n",
              "      <td>nms</td>\n",
              "      <td>104314</td>\n",
              "    </tr>\n",
              "    <tr>\n",
              "      <th>1290437</th>\n",
              "      <td>themissionbeltco</td>\n",
              "      <td>81434</td>\n",
              "    </tr>\n",
              "  </tbody>\n",
              "</table>\n",
              "</div>"
            ],
            "text/plain": [
              "                  lenders   count\n",
              "462833          gooddogg1  177645\n",
              "1324411     trolltech4460  150762\n",
              "462243               gmct  128159\n",
              "1008585               nms  104314\n",
              "1290437  themissionbeltco   81434"
            ]
          },
          "metadata": {
            "tags": []
          },
          "execution_count": 28
        }
      ]
    },
    {
      "cell_type": "markdown",
      "metadata": {
        "id": "3m78erQM3Nj0",
        "colab_type": "text"
      },
      "source": [
        "## Task 4\n",
        "- For each country, compute how many loans have involved that country as borrowers."
      ]
    },
    {
      "cell_type": "code",
      "metadata": {
        "id": "3Cd0yvQO1wZ7",
        "colab_type": "code",
        "outputId": "da14d39f-2088-4519-ee17-e9363f05f088",
        "colab": {
          "base_uri": "https://localhost:8080/",
          "height": 402
        }
      },
      "source": [
        "loan[[\"country_name\",\"funded_amount\",\"loan_amount\",\"num_lenders_total\"]]"
      ],
      "execution_count": 29,
      "outputs": [
        {
          "output_type": "execute_result",
          "data": {
            "text/html": [
              "<div>\n",
              "<style scoped>\n",
              "    .dataframe tbody tr th:only-of-type {\n",
              "        vertical-align: middle;\n",
              "    }\n",
              "\n",
              "    .dataframe tbody tr th {\n",
              "        vertical-align: top;\n",
              "    }\n",
              "\n",
              "    .dataframe thead th {\n",
              "        text-align: right;\n",
              "    }\n",
              "</style>\n",
              "<table border=\"1\" class=\"dataframe\">\n",
              "  <thead>\n",
              "    <tr style=\"text-align: right;\">\n",
              "      <th></th>\n",
              "      <th>country_name</th>\n",
              "      <th>funded_amount</th>\n",
              "      <th>loan_amount</th>\n",
              "      <th>num_lenders_total</th>\n",
              "    </tr>\n",
              "  </thead>\n",
              "  <tbody>\n",
              "    <tr>\n",
              "      <th>0</th>\n",
              "      <td>Philippines</td>\n",
              "      <td>125.0</td>\n",
              "      <td>125.0</td>\n",
              "      <td>3</td>\n",
              "    </tr>\n",
              "    <tr>\n",
              "      <th>1</th>\n",
              "      <td>Honduras</td>\n",
              "      <td>400.0</td>\n",
              "      <td>400.0</td>\n",
              "      <td>11</td>\n",
              "    </tr>\n",
              "    <tr>\n",
              "      <th>2</th>\n",
              "      <td>Pakistan</td>\n",
              "      <td>400.0</td>\n",
              "      <td>400.0</td>\n",
              "      <td>16</td>\n",
              "    </tr>\n",
              "    <tr>\n",
              "      <th>3</th>\n",
              "      <td>Kyrgyzstan</td>\n",
              "      <td>625.0</td>\n",
              "      <td>625.0</td>\n",
              "      <td>21</td>\n",
              "    </tr>\n",
              "    <tr>\n",
              "      <th>4</th>\n",
              "      <td>Philippines</td>\n",
              "      <td>425.0</td>\n",
              "      <td>425.0</td>\n",
              "      <td>15</td>\n",
              "    </tr>\n",
              "    <tr>\n",
              "      <th>...</th>\n",
              "      <td>...</td>\n",
              "      <td>...</td>\n",
              "      <td>...</td>\n",
              "      <td>...</td>\n",
              "    </tr>\n",
              "    <tr>\n",
              "      <th>1419602</th>\n",
              "      <td>Kenya</td>\n",
              "      <td>400.0</td>\n",
              "      <td>400.0</td>\n",
              "      <td>16</td>\n",
              "    </tr>\n",
              "    <tr>\n",
              "      <th>1419603</th>\n",
              "      <td>Philippines</td>\n",
              "      <td>300.0</td>\n",
              "      <td>300.0</td>\n",
              "      <td>12</td>\n",
              "    </tr>\n",
              "    <tr>\n",
              "      <th>1419604</th>\n",
              "      <td>Ghana</td>\n",
              "      <td>2425.0</td>\n",
              "      <td>2425.0</td>\n",
              "      <td>76</td>\n",
              "    </tr>\n",
              "    <tr>\n",
              "      <th>1419605</th>\n",
              "      <td>Philippines</td>\n",
              "      <td>100.0</td>\n",
              "      <td>100.0</td>\n",
              "      <td>3</td>\n",
              "    </tr>\n",
              "    <tr>\n",
              "      <th>1419606</th>\n",
              "      <td>Madagascar</td>\n",
              "      <td>175.0</td>\n",
              "      <td>175.0</td>\n",
              "      <td>7</td>\n",
              "    </tr>\n",
              "  </tbody>\n",
              "</table>\n",
              "<p>1419607 rows × 4 columns</p>\n",
              "</div>"
            ],
            "text/plain": [
              "        country_name  funded_amount  loan_amount  num_lenders_total\n",
              "0        Philippines          125.0        125.0                  3\n",
              "1           Honduras          400.0        400.0                 11\n",
              "2           Pakistan          400.0        400.0                 16\n",
              "3         Kyrgyzstan          625.0        625.0                 21\n",
              "4        Philippines          425.0        425.0                 15\n",
              "...              ...            ...          ...                ...\n",
              "1419602        Kenya          400.0        400.0                 16\n",
              "1419603  Philippines          300.0        300.0                 12\n",
              "1419604        Ghana         2425.0       2425.0                 76\n",
              "1419605  Philippines          100.0        100.0                  3\n",
              "1419606   Madagascar          175.0        175.0                  7\n",
              "\n",
              "[1419607 rows x 4 columns]"
            ]
          },
          "metadata": {
            "tags": []
          },
          "execution_count": 29
        }
      ]
    },
    {
      "cell_type": "code",
      "metadata": {
        "id": "1LgJEt8zNtcN",
        "colab_type": "code",
        "outputId": "9a8d38bd-c72a-453d-ec8b-5c1379dd94fe",
        "colab": {
          "base_uri": "https://localhost:8080/",
          "height": 34
        }
      },
      "source": [
        "loan['status'].unique()"
      ],
      "execution_count": 30,
      "outputs": [
        {
          "output_type": "execute_result",
          "data": {
            "text/plain": [
              "array(['funded', 'expired', 'refunded', 'fundRaising'], dtype=object)"
            ]
          },
          "metadata": {
            "tags": []
          },
          "execution_count": 30
        }
      ]
    },
    {
      "cell_type": "code",
      "metadata": {
        "id": "eML8HtbuKP9s",
        "colab_type": "code",
        "colab": {}
      },
      "source": [
        "funded=loan[loan['status']=='funded'][['loan_id','country_name','status','currency','funded_amount','loan_amount','num_lenders_total']].head(2)\n",
        "expired=loan[loan['status']=='expired'][['loan_id','country_name','status','funded_amount','loan_amount','num_lenders_total']].head(2)\n",
        "refunded=loan[loan['status']=='refunded'][['loan_id','country_name','status','funded_amount','loan_amount','num_lenders_total']].head(2)\n",
        "fundRaising=loan[loan['status']=='fundRaising'][['loan_id','country_name','status','funded_amount','loan_amount','num_lenders_total']].head(2)"
      ],
      "execution_count": 0,
      "outputs": []
    },
    {
      "cell_type": "code",
      "metadata": {
        "id": "AXSjVRVCnE86",
        "colab_type": "code",
        "outputId": "0d5677a7-5acd-4aff-9473-8cff263a689b",
        "colab": {
          "base_uri": "https://localhost:8080/",
          "height": 171
        }
      },
      "source": [
        "esempio = pd.concat([funded,expired,refunded,fundRaising],axis=0)"
      ],
      "execution_count": 32,
      "outputs": [
        {
          "output_type": "stream",
          "text": [
            "/usr/local/lib/python3.6/dist-packages/ipykernel_launcher.py:1: FutureWarning: Sorting because non-concatenation axis is not aligned. A future version\n",
            "of pandas will change to not sort by default.\n",
            "\n",
            "To accept the future behavior, pass 'sort=False'.\n",
            "\n",
            "To retain the current behavior and silence the warning, pass 'sort=True'.\n",
            "\n",
            "  \"\"\"Entry point for launching an IPython kernel.\n"
          ],
          "name": "stderr"
        }
      ]
    },
    {
      "cell_type": "code",
      "metadata": {
        "id": "Jx_XV7J6z-FO",
        "colab_type": "code",
        "outputId": "53dd729a-06f9-436c-f14d-84543c725564",
        "colab": {
          "base_uri": "https://localhost:8080/",
          "height": 284
        }
      },
      "source": [
        "esempio"
      ],
      "execution_count": 33,
      "outputs": [
        {
          "output_type": "execute_result",
          "data": {
            "text/html": [
              "<div>\n",
              "<style scoped>\n",
              "    .dataframe tbody tr th:only-of-type {\n",
              "        vertical-align: middle;\n",
              "    }\n",
              "\n",
              "    .dataframe tbody tr th {\n",
              "        vertical-align: top;\n",
              "    }\n",
              "\n",
              "    .dataframe thead th {\n",
              "        text-align: right;\n",
              "    }\n",
              "</style>\n",
              "<table border=\"1\" class=\"dataframe\">\n",
              "  <thead>\n",
              "    <tr style=\"text-align: right;\">\n",
              "      <th></th>\n",
              "      <th>country_name</th>\n",
              "      <th>currency</th>\n",
              "      <th>funded_amount</th>\n",
              "      <th>loan_amount</th>\n",
              "      <th>loan_id</th>\n",
              "      <th>num_lenders_total</th>\n",
              "      <th>status</th>\n",
              "    </tr>\n",
              "  </thead>\n",
              "  <tbody>\n",
              "    <tr>\n",
              "      <th>0</th>\n",
              "      <td>Philippines</td>\n",
              "      <td>PHP</td>\n",
              "      <td>125.0</td>\n",
              "      <td>125.0</td>\n",
              "      <td>657307</td>\n",
              "      <td>3</td>\n",
              "      <td>funded</td>\n",
              "    </tr>\n",
              "    <tr>\n",
              "      <th>1</th>\n",
              "      <td>Honduras</td>\n",
              "      <td>HNL</td>\n",
              "      <td>400.0</td>\n",
              "      <td>400.0</td>\n",
              "      <td>657259</td>\n",
              "      <td>11</td>\n",
              "      <td>funded</td>\n",
              "    </tr>\n",
              "    <tr>\n",
              "      <th>22</th>\n",
              "      <td>Philippines</td>\n",
              "      <td>NaN</td>\n",
              "      <td>100.0</td>\n",
              "      <td>225.0</td>\n",
              "      <td>957461</td>\n",
              "      <td>4</td>\n",
              "      <td>expired</td>\n",
              "    </tr>\n",
              "    <tr>\n",
              "      <th>25</th>\n",
              "      <td>Philippines</td>\n",
              "      <td>NaN</td>\n",
              "      <td>225.0</td>\n",
              "      <td>300.0</td>\n",
              "      <td>959145</td>\n",
              "      <td>6</td>\n",
              "      <td>expired</td>\n",
              "    </tr>\n",
              "    <tr>\n",
              "      <th>361</th>\n",
              "      <td>Kenya</td>\n",
              "      <td>NaN</td>\n",
              "      <td>0.0</td>\n",
              "      <td>800.0</td>\n",
              "      <td>1158634</td>\n",
              "      <td>0</td>\n",
              "      <td>refunded</td>\n",
              "    </tr>\n",
              "    <tr>\n",
              "      <th>1420</th>\n",
              "      <td>Mexico</td>\n",
              "      <td>NaN</td>\n",
              "      <td>2075.0</td>\n",
              "      <td>2625.0</td>\n",
              "      <td>662566</td>\n",
              "      <td>67</td>\n",
              "      <td>refunded</td>\n",
              "    </tr>\n",
              "    <tr>\n",
              "      <th>5067</th>\n",
              "      <td>Ghana</td>\n",
              "      <td>NaN</td>\n",
              "      <td>0.0</td>\n",
              "      <td>225.0</td>\n",
              "      <td>1444070</td>\n",
              "      <td>0</td>\n",
              "      <td>fundRaising</td>\n",
              "    </tr>\n",
              "    <tr>\n",
              "      <th>16167</th>\n",
              "      <td>Lebanon</td>\n",
              "      <td>NaN</td>\n",
              "      <td>1375.0</td>\n",
              "      <td>2100.0</td>\n",
              "      <td>1431627</td>\n",
              "      <td>53</td>\n",
              "      <td>fundRaising</td>\n",
              "    </tr>\n",
              "  </tbody>\n",
              "</table>\n",
              "</div>"
            ],
            "text/plain": [
              "      country_name currency  ...  num_lenders_total       status\n",
              "0      Philippines      PHP  ...                  3       funded\n",
              "1         Honduras      HNL  ...                 11       funded\n",
              "22     Philippines      NaN  ...                  4      expired\n",
              "25     Philippines      NaN  ...                  6      expired\n",
              "361          Kenya      NaN  ...                  0     refunded\n",
              "1420        Mexico      NaN  ...                 67     refunded\n",
              "5067         Ghana      NaN  ...                  0  fundRaising\n",
              "16167      Lebanon      NaN  ...                 53  fundRaising\n",
              "\n",
              "[8 rows x 7 columns]"
            ]
          },
          "metadata": {
            "tags": []
          },
          "execution_count": 33
        }
      ]
    },
    {
      "cell_type": "code",
      "metadata": {
        "id": "-xC1mStPvYAM",
        "colab_type": "code",
        "outputId": "fef29dbd-065c-4054-e05e-3c5f9131552d",
        "colab": {
          "base_uri": "https://localhost:8080/",
          "height": 34
        }
      },
      "source": [
        "loan[\"status\"].unique()"
      ],
      "execution_count": 34,
      "outputs": [
        {
          "output_type": "execute_result",
          "data": {
            "text/plain": [
              "array(['funded', 'expired', 'refunded', 'fundRaising'], dtype=object)"
            ]
          },
          "metadata": {
            "tags": []
          },
          "execution_count": 34
        }
      ]
    },
    {
      "cell_type": "markdown",
      "metadata": {
        "id": "QfLNnBktD9PZ",
        "colab_type": "text"
      },
      "source": [
        "### Check missing values"
      ]
    },
    {
      "cell_type": "code",
      "metadata": {
        "id": "BFKmfgGp9Ii4",
        "colab_type": "code",
        "outputId": "b02af2ff-29d3-4ca4-8e56-a544ff276edf",
        "colab": {
          "base_uri": "https://localhost:8080/",
          "height": 47
        }
      },
      "source": [
        "missing = pd.isnull(loan[['country_name']])\n",
        "missing[missing['country_name']==True]"
      ],
      "execution_count": 35,
      "outputs": [
        {
          "output_type": "execute_result",
          "data": {
            "text/html": [
              "<div>\n",
              "<style scoped>\n",
              "    .dataframe tbody tr th:only-of-type {\n",
              "        vertical-align: middle;\n",
              "    }\n",
              "\n",
              "    .dataframe tbody tr th {\n",
              "        vertical-align: top;\n",
              "    }\n",
              "\n",
              "    .dataframe thead th {\n",
              "        text-align: right;\n",
              "    }\n",
              "</style>\n",
              "<table border=\"1\" class=\"dataframe\">\n",
              "  <thead>\n",
              "    <tr style=\"text-align: right;\">\n",
              "      <th></th>\n",
              "      <th>country_name</th>\n",
              "    </tr>\n",
              "  </thead>\n",
              "  <tbody>\n",
              "  </tbody>\n",
              "</table>\n",
              "</div>"
            ],
            "text/plain": [
              "Empty DataFrame\n",
              "Columns: [country_name]\n",
              "Index: []"
            ]
          },
          "metadata": {
            "tags": []
          },
          "execution_count": 35
        }
      ]
    },
    {
      "cell_type": "code",
      "metadata": {
        "id": "TsMVZZZUExNS",
        "colab_type": "code",
        "colab": {}
      },
      "source": [
        "country_numberLoan = loan.groupby('country_name')['status'].count()\n",
        "country_numberLoan = country_numberLoan.sort_values(ascending=False)"
      ],
      "execution_count": 0,
      "outputs": []
    },
    {
      "cell_type": "markdown",
      "metadata": {
        "id": "eRZgY4f0GH_W",
        "colab_type": "text"
      },
      "source": [
        "### Result"
      ]
    },
    {
      "cell_type": "code",
      "metadata": {
        "id": "ziY0RfAbGJOJ",
        "colab_type": "code",
        "outputId": "c419fbc7-2e04-4bcb-8d6c-6ec151c7c7ea",
        "colab": {
          "base_uri": "https://localhost:8080/",
          "height": 134
        }
      },
      "source": [
        "country_numberLoan.head()"
      ],
      "execution_count": 37,
      "outputs": [
        {
          "output_type": "execute_result",
          "data": {
            "text/plain": [
              "country_name\n",
              "Philippines    285336\n",
              "Kenya          143699\n",
              "Peru            86000\n",
              "Cambodia        79701\n",
              "El Salvador     64037\n",
              "Name: status, dtype: int64"
            ]
          },
          "metadata": {
            "tags": []
          },
          "execution_count": 37
        }
      ]
    },
    {
      "cell_type": "markdown",
      "metadata": {
        "id": "p4fsZmbtT7FR",
        "colab_type": "text"
      },
      "source": [
        "## Task 5\n",
        "- For each country, compute the overall amount of money borrowed."
      ]
    },
    {
      "cell_type": "code",
      "metadata": {
        "id": "bosGUgAIT_wz",
        "colab_type": "code",
        "colab": {}
      },
      "source": [
        "country_amountLoan = loan.groupby('country_name')['funded_amount'].sum()\n",
        "country_amountLoan = country_amountLoan.sort_values(ascending=False)"
      ],
      "execution_count": 0,
      "outputs": []
    },
    {
      "cell_type": "markdown",
      "metadata": {
        "id": "B1-vzEGQWATQ",
        "colab_type": "text"
      },
      "source": [
        "### Result"
      ]
    },
    {
      "cell_type": "code",
      "metadata": {
        "id": "N1YCh4OfWBt3",
        "colab_type": "code",
        "outputId": "1e13882a-0d57-4a53-bcf1-c4f95aa84208",
        "colab": {
          "base_uri": "https://localhost:8080/",
          "height": 134
        }
      },
      "source": [
        "country_amountLoan.head()"
      ],
      "execution_count": 39,
      "outputs": [
        {
          "output_type": "execute_result",
          "data": {
            "text/plain": [
              "country_name\n",
              "Philippines    97045925.0\n",
              "Peru           78702800.0\n",
              "Kenya          63650255.0\n",
              "Paraguay       53715200.0\n",
              "Cambodia       50829425.0\n",
              "Name: funded_amount, dtype: float64"
            ]
          },
          "metadata": {
            "tags": []
          },
          "execution_count": 39
        }
      ]
    },
    {
      "cell_type": "markdown",
      "metadata": {
        "id": "Kkmag5y2Whhi",
        "colab_type": "text"
      },
      "source": [
        "## Task 6\n",
        "- Like the previous point, but expressed as a percentage of the overall amount lent."
      ]
    },
    {
      "cell_type": "code",
      "metadata": {
        "id": "gjnwWbopn2y1",
        "colab_type": "code",
        "colab": {}
      },
      "source": [
        "country_amountLoan_perc=pd.DataFrame(country_amountLoan).reset_index(level=0)\n",
        "country_amountLoan_perc.columns=['country','total']"
      ],
      "execution_count": 0,
      "outputs": []
    },
    {
      "cell_type": "code",
      "metadata": {
        "id": "3nPeoBh8tk5N",
        "colab_type": "code",
        "outputId": "4e6c0ea1-d5b6-4b1a-99ec-762897e8d479",
        "colab": {
          "base_uri": "https://localhost:8080/",
          "height": 34
        }
      },
      "source": [
        "total_lent=country_amountLoan_perc['total'].sum()\n",
        "total_lent"
      ],
      "execution_count": 41,
      "outputs": [
        {
          "output_type": "execute_result",
          "data": {
            "text/plain": [
              "1130185170.0"
            ]
          },
          "metadata": {
            "tags": []
          },
          "execution_count": 41
        }
      ]
    },
    {
      "cell_type": "code",
      "metadata": {
        "id": "M89TfHxStNcI",
        "colab_type": "code",
        "colab": {}
      },
      "source": [
        "country_amountLoan_perc['percentage']=round(country_amountLoan_perc['total']/total_lent*100,2)"
      ],
      "execution_count": 0,
      "outputs": []
    },
    {
      "cell_type": "code",
      "metadata": {
        "id": "wXBYc_EHQve9",
        "colab_type": "code",
        "colab": {}
      },
      "source": [
        "country_amountLoan_perc.columns=['country','borrowed','percentage']"
      ],
      "execution_count": 0,
      "outputs": []
    },
    {
      "cell_type": "markdown",
      "metadata": {
        "id": "xNgVeIqTufQK",
        "colab_type": "text"
      },
      "source": [
        "### Result"
      ]
    },
    {
      "cell_type": "code",
      "metadata": {
        "id": "zyErEw0PugNt",
        "colab_type": "code",
        "outputId": "1484a44e-25d6-4b8f-f69f-c1f85c2cf7ef",
        "colab": {
          "base_uri": "https://localhost:8080/",
          "height": 195
        }
      },
      "source": [
        "country_amountLoan_perc.head()"
      ],
      "execution_count": 44,
      "outputs": [
        {
          "output_type": "execute_result",
          "data": {
            "text/html": [
              "<div>\n",
              "<style scoped>\n",
              "    .dataframe tbody tr th:only-of-type {\n",
              "        vertical-align: middle;\n",
              "    }\n",
              "\n",
              "    .dataframe tbody tr th {\n",
              "        vertical-align: top;\n",
              "    }\n",
              "\n",
              "    .dataframe thead th {\n",
              "        text-align: right;\n",
              "    }\n",
              "</style>\n",
              "<table border=\"1\" class=\"dataframe\">\n",
              "  <thead>\n",
              "    <tr style=\"text-align: right;\">\n",
              "      <th></th>\n",
              "      <th>country</th>\n",
              "      <th>borrowed</th>\n",
              "      <th>percentage</th>\n",
              "    </tr>\n",
              "  </thead>\n",
              "  <tbody>\n",
              "    <tr>\n",
              "      <th>0</th>\n",
              "      <td>Philippines</td>\n",
              "      <td>97045925.0</td>\n",
              "      <td>8.59</td>\n",
              "    </tr>\n",
              "    <tr>\n",
              "      <th>1</th>\n",
              "      <td>Peru</td>\n",
              "      <td>78702800.0</td>\n",
              "      <td>6.96</td>\n",
              "    </tr>\n",
              "    <tr>\n",
              "      <th>2</th>\n",
              "      <td>Kenya</td>\n",
              "      <td>63650255.0</td>\n",
              "      <td>5.63</td>\n",
              "    </tr>\n",
              "    <tr>\n",
              "      <th>3</th>\n",
              "      <td>Paraguay</td>\n",
              "      <td>53715200.0</td>\n",
              "      <td>4.75</td>\n",
              "    </tr>\n",
              "    <tr>\n",
              "      <th>4</th>\n",
              "      <td>Cambodia</td>\n",
              "      <td>50829425.0</td>\n",
              "      <td>4.50</td>\n",
              "    </tr>\n",
              "  </tbody>\n",
              "</table>\n",
              "</div>"
            ],
            "text/plain": [
              "       country    borrowed  percentage\n",
              "0  Philippines  97045925.0        8.59\n",
              "1         Peru  78702800.0        6.96\n",
              "2        Kenya  63650255.0        5.63\n",
              "3     Paraguay  53715200.0        4.75\n",
              "4     Cambodia  50829425.0        4.50"
            ]
          },
          "metadata": {
            "tags": []
          },
          "execution_count": 44
        }
      ]
    },
    {
      "cell_type": "markdown",
      "metadata": {
        "id": "jlNVlX6mGRVt",
        "colab_type": "text"
      },
      "source": [
        "## Task 7\n",
        "- Like the three previous points, but split for each year (with respect to disburse time)."
      ]
    },
    {
      "cell_type": "code",
      "metadata": {
        "id": "ZXa2wL8G30-G",
        "colab_type": "code",
        "colab": {}
      },
      "source": [
        "global loanYear"
      ],
      "execution_count": 0,
      "outputs": []
    },
    {
      "cell_type": "code",
      "metadata": {
        "id": "5-5164Z1GQ6g",
        "colab_type": "code",
        "colab": {}
      },
      "source": [
        "loanYear = loan[['loan_id','country_name','disburse_time','planned_expiration_time','duration',\n",
        "                 'funded_amount','loan_amount','currency']]"
      ],
      "execution_count": 0,
      "outputs": []
    },
    {
      "cell_type": "code",
      "metadata": {
        "id": "YsQyPqY3RVCn",
        "colab_type": "code",
        "outputId": "6576755d-eafc-4c44-967b-eb368e2c4976",
        "colab": {
          "base_uri": "https://localhost:8080/",
          "height": 47
        }
      },
      "source": [
        "missing = pd.isnull(loanYear[['disburse_time']])\n",
        "missing[missing['disburse_time']==True]"
      ],
      "execution_count": 47,
      "outputs": [
        {
          "output_type": "execute_result",
          "data": {
            "text/html": [
              "<div>\n",
              "<style scoped>\n",
              "    .dataframe tbody tr th:only-of-type {\n",
              "        vertical-align: middle;\n",
              "    }\n",
              "\n",
              "    .dataframe tbody tr th {\n",
              "        vertical-align: top;\n",
              "    }\n",
              "\n",
              "    .dataframe thead th {\n",
              "        text-align: right;\n",
              "    }\n",
              "</style>\n",
              "<table border=\"1\" class=\"dataframe\">\n",
              "  <thead>\n",
              "    <tr style=\"text-align: right;\">\n",
              "      <th></th>\n",
              "      <th>disburse_time</th>\n",
              "    </tr>\n",
              "  </thead>\n",
              "  <tbody>\n",
              "  </tbody>\n",
              "</table>\n",
              "</div>"
            ],
            "text/plain": [
              "Empty DataFrame\n",
              "Columns: [disburse_time]\n",
              "Index: []"
            ]
          },
          "metadata": {
            "tags": []
          },
          "execution_count": 47
        }
      ]
    },
    {
      "cell_type": "code",
      "metadata": {
        "id": "KRIkGPCQS8As",
        "colab_type": "code",
        "outputId": "eaa8f8fa-3b18-42e5-cea5-0fbda5543f01",
        "colab": {
          "base_uri": "https://localhost:8080/",
          "height": 34
        }
      },
      "source": [
        "len(loanYear[loanYear['disburse_time']==\"nan\"])"
      ],
      "execution_count": 48,
      "outputs": [
        {
          "output_type": "execute_result",
          "data": {
            "text/plain": [
              "2813"
            ]
          },
          "metadata": {
            "tags": []
          },
          "execution_count": 48
        }
      ]
    },
    {
      "cell_type": "code",
      "metadata": {
        "id": "VYix8BrvUH7U",
        "colab_type": "code",
        "colab": {}
      },
      "source": [
        "loanYear = loanYear[loanYear['disburse_time']!='nan']"
      ],
      "execution_count": 0,
      "outputs": []
    },
    {
      "cell_type": "code",
      "metadata": {
        "id": "UamDI5T1YtWv",
        "colab_type": "code",
        "outputId": "e12efdab-b924-45f9-f26b-c097566a59d5",
        "colab": {
          "base_uri": "https://localhost:8080/",
          "height": 67
        }
      },
      "source": [
        "inizio=datetime.now()\n",
        "print(\"Inizio: \"+inizio.strftime(\"%H:%M:%S\"))\n",
        "loanYear['year']=loanYear.apply(lambda x: int(x[\"disburse_time\"].split('-')[0]),axis=1)\n",
        "fine=datetime.now()\n",
        "print(\"Fine: \"+fine.strftime(\"%H:%M:%S\"))\n",
        "diff= fine - inizio\n",
        "diff"
      ],
      "execution_count": 50,
      "outputs": [
        {
          "output_type": "stream",
          "text": [
            "Inizio: 16:24:08\n",
            "Fine: 16:24:31\n"
          ],
          "name": "stdout"
        },
        {
          "output_type": "execute_result",
          "data": {
            "text/plain": [
              "datetime.timedelta(0, 22, 810928)"
            ]
          },
          "metadata": {
            "tags": []
          },
          "execution_count": 50
        }
      ]
    },
    {
      "cell_type": "code",
      "metadata": {
        "id": "DTFUBusEjbwQ",
        "colab_type": "code",
        "colab": {}
      },
      "source": [
        "countryAmount_year=loanYear.groupby(['country_name','year'])['funded_amount'].sum()\n",
        "countryAmount_year = pd.DataFrame(countryAmount_year)"
      ],
      "execution_count": 0,
      "outputs": []
    },
    {
      "cell_type": "markdown",
      "metadata": {
        "id": "ROv1F3vHC84f",
        "colab_type": "text"
      },
      "source": [
        "### Result"
      ]
    },
    {
      "cell_type": "code",
      "metadata": {
        "id": "1jnFa4B3B96x",
        "colab_type": "code",
        "outputId": "8df1688c-d5a2-415e-80c4-9fe4385c67a0",
        "colab": {
          "base_uri": "https://localhost:8080/",
          "height": 225
        }
      },
      "source": [
        "countryAmount_year.head()"
      ],
      "execution_count": 52,
      "outputs": [
        {
          "output_type": "execute_result",
          "data": {
            "text/html": [
              "<div>\n",
              "<style scoped>\n",
              "    .dataframe tbody tr th:only-of-type {\n",
              "        vertical-align: middle;\n",
              "    }\n",
              "\n",
              "    .dataframe tbody tr th {\n",
              "        vertical-align: top;\n",
              "    }\n",
              "\n",
              "    .dataframe thead th {\n",
              "        text-align: right;\n",
              "    }\n",
              "</style>\n",
              "<table border=\"1\" class=\"dataframe\">\n",
              "  <thead>\n",
              "    <tr style=\"text-align: right;\">\n",
              "      <th></th>\n",
              "      <th></th>\n",
              "      <th>funded_amount</th>\n",
              "    </tr>\n",
              "    <tr>\n",
              "      <th>country_name</th>\n",
              "      <th>year</th>\n",
              "      <th></th>\n",
              "    </tr>\n",
              "  </thead>\n",
              "  <tbody>\n",
              "    <tr>\n",
              "      <th rowspan=\"5\" valign=\"top\">Afghanistan</th>\n",
              "      <th>2007</th>\n",
              "      <td>194975.0</td>\n",
              "    </tr>\n",
              "    <tr>\n",
              "      <th>2008</th>\n",
              "      <td>365375.0</td>\n",
              "    </tr>\n",
              "    <tr>\n",
              "      <th>2009</th>\n",
              "      <td>581825.0</td>\n",
              "    </tr>\n",
              "    <tr>\n",
              "      <th>2010</th>\n",
              "      <td>563350.0</td>\n",
              "    </tr>\n",
              "    <tr>\n",
              "      <th>2011</th>\n",
              "      <td>245125.0</td>\n",
              "    </tr>\n",
              "  </tbody>\n",
              "</table>\n",
              "</div>"
            ],
            "text/plain": [
              "                   funded_amount\n",
              "country_name year               \n",
              "Afghanistan  2007       194975.0\n",
              "             2008       365375.0\n",
              "             2009       581825.0\n",
              "             2010       563350.0\n",
              "             2011       245125.0"
            ]
          },
          "metadata": {
            "tags": []
          },
          "execution_count": 52
        }
      ]
    },
    {
      "cell_type": "markdown",
      "metadata": {
        "id": "9cWj5GvvDNak",
        "colab_type": "text"
      },
      "source": [
        "## Task 8\n",
        "- For each lender, compute the overall amount of money lent. For each loan that has more than one lender, you must assume that all lenders contributed the same amount."
      ]
    },
    {
      "cell_type": "code",
      "metadata": {
        "id": "XUJlYtiAEje7",
        "colab_type": "code",
        "outputId": "0e39720e-25ff-433c-eb71-d40198814a3b",
        "colab": {
          "base_uri": "https://localhost:8080/",
          "height": 402
        }
      },
      "source": [
        "numberLoans_lender_norm=loans_lender_norm.groupby('loan_id')['lenders'].count()\n",
        "numberLoans_lender_norm=pd.DataFrame(numberLoans_lender_norm).reset_index(level=0)\n",
        "numberLoans_lender_norm"
      ],
      "execution_count": 53,
      "outputs": [
        {
          "output_type": "execute_result",
          "data": {
            "text/html": [
              "<div>\n",
              "<style scoped>\n",
              "    .dataframe tbody tr th:only-of-type {\n",
              "        vertical-align: middle;\n",
              "    }\n",
              "\n",
              "    .dataframe tbody tr th {\n",
              "        vertical-align: top;\n",
              "    }\n",
              "\n",
              "    .dataframe thead th {\n",
              "        text-align: right;\n",
              "    }\n",
              "</style>\n",
              "<table border=\"1\" class=\"dataframe\">\n",
              "  <thead>\n",
              "    <tr style=\"text-align: right;\">\n",
              "      <th></th>\n",
              "      <th>loan_id</th>\n",
              "      <th>lenders</th>\n",
              "    </tr>\n",
              "  </thead>\n",
              "  <tbody>\n",
              "    <tr>\n",
              "      <th>0</th>\n",
              "      <td>84</td>\n",
              "      <td>3</td>\n",
              "    </tr>\n",
              "    <tr>\n",
              "      <th>1</th>\n",
              "      <td>85</td>\n",
              "      <td>2</td>\n",
              "    </tr>\n",
              "    <tr>\n",
              "      <th>2</th>\n",
              "      <td>86</td>\n",
              "      <td>3</td>\n",
              "    </tr>\n",
              "    <tr>\n",
              "      <th>3</th>\n",
              "      <td>88</td>\n",
              "      <td>3</td>\n",
              "    </tr>\n",
              "    <tr>\n",
              "      <th>4</th>\n",
              "      <td>89</td>\n",
              "      <td>4</td>\n",
              "    </tr>\n",
              "    <tr>\n",
              "      <th>...</th>\n",
              "      <td>...</td>\n",
              "      <td>...</td>\n",
              "    </tr>\n",
              "    <tr>\n",
              "      <th>1387427</th>\n",
              "      <td>1444051</td>\n",
              "      <td>1</td>\n",
              "    </tr>\n",
              "    <tr>\n",
              "      <th>1387428</th>\n",
              "      <td>1444053</td>\n",
              "      <td>1</td>\n",
              "    </tr>\n",
              "    <tr>\n",
              "      <th>1387429</th>\n",
              "      <td>1444058</td>\n",
              "      <td>1</td>\n",
              "    </tr>\n",
              "    <tr>\n",
              "      <th>1387430</th>\n",
              "      <td>1444063</td>\n",
              "      <td>1</td>\n",
              "    </tr>\n",
              "    <tr>\n",
              "      <th>1387431</th>\n",
              "      <td>1444065</td>\n",
              "      <td>1</td>\n",
              "    </tr>\n",
              "  </tbody>\n",
              "</table>\n",
              "<p>1387432 rows × 2 columns</p>\n",
              "</div>"
            ],
            "text/plain": [
              "         loan_id  lenders\n",
              "0             84        3\n",
              "1             85        2\n",
              "2             86        3\n",
              "3             88        3\n",
              "4             89        4\n",
              "...          ...      ...\n",
              "1387427  1444051        1\n",
              "1387428  1444053        1\n",
              "1387429  1444058        1\n",
              "1387430  1444063        1\n",
              "1387431  1444065        1\n",
              "\n",
              "[1387432 rows x 2 columns]"
            ]
          },
          "metadata": {
            "tags": []
          },
          "execution_count": 53
        }
      ]
    },
    {
      "cell_type": "code",
      "metadata": {
        "id": "CLRRCXB3DkqC",
        "colab_type": "code",
        "colab": {}
      },
      "source": [
        "loans_lender = loan[['loan_id','num_lenders_total','funded_amount']]"
      ],
      "execution_count": 0,
      "outputs": []
    },
    {
      "cell_type": "code",
      "metadata": {
        "id": "M_-CUKmLFg5S",
        "colab_type": "code",
        "outputId": "2fb5d662-0d60-476d-b0c2-13903c5d46fb",
        "colab": {
          "base_uri": "https://localhost:8080/",
          "height": 195
        }
      },
      "source": [
        "numberLoans = pd.merge(loans_lender,numberLoans_lender_norm,how=\"inner\",on=\"loan_id\")\n",
        "numberLoans.head()"
      ],
      "execution_count": 55,
      "outputs": [
        {
          "output_type": "execute_result",
          "data": {
            "text/html": [
              "<div>\n",
              "<style scoped>\n",
              "    .dataframe tbody tr th:only-of-type {\n",
              "        vertical-align: middle;\n",
              "    }\n",
              "\n",
              "    .dataframe tbody tr th {\n",
              "        vertical-align: top;\n",
              "    }\n",
              "\n",
              "    .dataframe thead th {\n",
              "        text-align: right;\n",
              "    }\n",
              "</style>\n",
              "<table border=\"1\" class=\"dataframe\">\n",
              "  <thead>\n",
              "    <tr style=\"text-align: right;\">\n",
              "      <th></th>\n",
              "      <th>loan_id</th>\n",
              "      <th>num_lenders_total</th>\n",
              "      <th>funded_amount</th>\n",
              "      <th>lenders</th>\n",
              "    </tr>\n",
              "  </thead>\n",
              "  <tbody>\n",
              "    <tr>\n",
              "      <th>0</th>\n",
              "      <td>657307</td>\n",
              "      <td>3</td>\n",
              "      <td>125.0</td>\n",
              "      <td>3</td>\n",
              "    </tr>\n",
              "    <tr>\n",
              "      <th>1</th>\n",
              "      <td>657259</td>\n",
              "      <td>11</td>\n",
              "      <td>400.0</td>\n",
              "      <td>7</td>\n",
              "    </tr>\n",
              "    <tr>\n",
              "      <th>2</th>\n",
              "      <td>658010</td>\n",
              "      <td>16</td>\n",
              "      <td>400.0</td>\n",
              "      <td>14</td>\n",
              "    </tr>\n",
              "    <tr>\n",
              "      <th>3</th>\n",
              "      <td>659347</td>\n",
              "      <td>21</td>\n",
              "      <td>625.0</td>\n",
              "      <td>17</td>\n",
              "    </tr>\n",
              "    <tr>\n",
              "      <th>4</th>\n",
              "      <td>656933</td>\n",
              "      <td>15</td>\n",
              "      <td>425.0</td>\n",
              "      <td>14</td>\n",
              "    </tr>\n",
              "  </tbody>\n",
              "</table>\n",
              "</div>"
            ],
            "text/plain": [
              "   loan_id  num_lenders_total  funded_amount  lenders\n",
              "0   657307                  3          125.0        3\n",
              "1   657259                 11          400.0        7\n",
              "2   658010                 16          400.0       14\n",
              "3   659347                 21          625.0       17\n",
              "4   656933                 15          425.0       14"
            ]
          },
          "metadata": {
            "tags": []
          },
          "execution_count": 55
        }
      ]
    },
    {
      "cell_type": "code",
      "metadata": {
        "id": "C0H9eMJUIl_a",
        "colab_type": "code",
        "colab": {}
      },
      "source": [
        "correct = numberLoans[numberLoans['num_lenders_total']==numberLoans['lenders']]\n",
        "wrong = numberLoans[numberLoans['num_lenders_total']!=numberLoans['lenders']]"
      ],
      "execution_count": 0,
      "outputs": []
    },
    {
      "cell_type": "code",
      "metadata": {
        "id": "-2GagLVTSKJF",
        "colab_type": "code",
        "outputId": "f17a52c4-4e43-438f-938a-69ec5a4cb11d",
        "colab": {
          "base_uri": "https://localhost:8080/",
          "height": 195
        }
      },
      "source": [
        "wrong.head()"
      ],
      "execution_count": 57,
      "outputs": [
        {
          "output_type": "execute_result",
          "data": {
            "text/html": [
              "<div>\n",
              "<style scoped>\n",
              "    .dataframe tbody tr th:only-of-type {\n",
              "        vertical-align: middle;\n",
              "    }\n",
              "\n",
              "    .dataframe tbody tr th {\n",
              "        vertical-align: top;\n",
              "    }\n",
              "\n",
              "    .dataframe thead th {\n",
              "        text-align: right;\n",
              "    }\n",
              "</style>\n",
              "<table border=\"1\" class=\"dataframe\">\n",
              "  <thead>\n",
              "    <tr style=\"text-align: right;\">\n",
              "      <th></th>\n",
              "      <th>loan_id</th>\n",
              "      <th>num_lenders_total</th>\n",
              "      <th>funded_amount</th>\n",
              "      <th>lenders</th>\n",
              "    </tr>\n",
              "  </thead>\n",
              "  <tbody>\n",
              "    <tr>\n",
              "      <th>1</th>\n",
              "      <td>657259</td>\n",
              "      <td>11</td>\n",
              "      <td>400.0</td>\n",
              "      <td>7</td>\n",
              "    </tr>\n",
              "    <tr>\n",
              "      <th>2</th>\n",
              "      <td>658010</td>\n",
              "      <td>16</td>\n",
              "      <td>400.0</td>\n",
              "      <td>14</td>\n",
              "    </tr>\n",
              "    <tr>\n",
              "      <th>3</th>\n",
              "      <td>659347</td>\n",
              "      <td>21</td>\n",
              "      <td>625.0</td>\n",
              "      <td>17</td>\n",
              "    </tr>\n",
              "    <tr>\n",
              "      <th>4</th>\n",
              "      <td>656933</td>\n",
              "      <td>15</td>\n",
              "      <td>425.0</td>\n",
              "      <td>14</td>\n",
              "    </tr>\n",
              "    <tr>\n",
              "      <th>5</th>\n",
              "      <td>659605</td>\n",
              "      <td>13</td>\n",
              "      <td>350.0</td>\n",
              "      <td>14</td>\n",
              "    </tr>\n",
              "  </tbody>\n",
              "</table>\n",
              "</div>"
            ],
            "text/plain": [
              "   loan_id  num_lenders_total  funded_amount  lenders\n",
              "1   657259                 11          400.0        7\n",
              "2   658010                 16          400.0       14\n",
              "3   659347                 21          625.0       17\n",
              "4   656933                 15          425.0       14\n",
              "5   659605                 13          350.0       14"
            ]
          },
          "metadata": {
            "tags": []
          },
          "execution_count": 57
        }
      ]
    },
    {
      "cell_type": "code",
      "metadata": {
        "id": "kjjsczFRJJeg",
        "colab_type": "code",
        "outputId": "9ec96921-13ab-44e0-ed02-92e0f7c5bd6e",
        "colab": {
          "base_uri": "https://localhost:8080/",
          "height": 50
        }
      },
      "source": [
        "#plot barchart da fare\n",
        "print(\"Info giuste: \"+str(len(correct)/len(numberLoans)))\n",
        "print(\"Info sbagliate: \"+str(len(wrong)/len(numberLoans)))"
      ],
      "execution_count": 58,
      "outputs": [
        {
          "output_type": "stream",
          "text": [
            "Info giuste: 0.1917209397532701\n",
            "Info sbagliate: 0.8082790602467299\n"
          ],
          "name": "stdout"
        }
      ]
    },
    {
      "cell_type": "code",
      "metadata": {
        "id": "oraGcSfPLvwU",
        "colab_type": "code",
        "colab": {}
      },
      "source": [
        "loans_lender_correct = pd.merge(loans_lender,numberLoans_lender_norm,how='inner',on='loan_id')\n",
        "loans_lender_correct.drop(columns='num_lenders_total',inplace=True)"
      ],
      "execution_count": 0,
      "outputs": []
    },
    {
      "cell_type": "code",
      "metadata": {
        "id": "fr5Vhem6OsGc",
        "colab_type": "code",
        "colab": {}
      },
      "source": [
        "loans_lender_correct['amount']=round(loans_lender_correct['funded_amount']/loans_lender_correct['lenders'],2)"
      ],
      "execution_count": 0,
      "outputs": []
    },
    {
      "cell_type": "code",
      "metadata": {
        "id": "zlAyAEOvbp0J",
        "colab_type": "code",
        "outputId": "80c345b7-6a24-48d7-9d96-d70d4d6e7d6f",
        "colab": {
          "base_uri": "https://localhost:8080/",
          "height": 195
        }
      },
      "source": [
        "loans_lender_correct.head()"
      ],
      "execution_count": 61,
      "outputs": [
        {
          "output_type": "execute_result",
          "data": {
            "text/html": [
              "<div>\n",
              "<style scoped>\n",
              "    .dataframe tbody tr th:only-of-type {\n",
              "        vertical-align: middle;\n",
              "    }\n",
              "\n",
              "    .dataframe tbody tr th {\n",
              "        vertical-align: top;\n",
              "    }\n",
              "\n",
              "    .dataframe thead th {\n",
              "        text-align: right;\n",
              "    }\n",
              "</style>\n",
              "<table border=\"1\" class=\"dataframe\">\n",
              "  <thead>\n",
              "    <tr style=\"text-align: right;\">\n",
              "      <th></th>\n",
              "      <th>loan_id</th>\n",
              "      <th>funded_amount</th>\n",
              "      <th>lenders</th>\n",
              "      <th>amount</th>\n",
              "    </tr>\n",
              "  </thead>\n",
              "  <tbody>\n",
              "    <tr>\n",
              "      <th>0</th>\n",
              "      <td>657307</td>\n",
              "      <td>125.0</td>\n",
              "      <td>3</td>\n",
              "      <td>41.67</td>\n",
              "    </tr>\n",
              "    <tr>\n",
              "      <th>1</th>\n",
              "      <td>657259</td>\n",
              "      <td>400.0</td>\n",
              "      <td>7</td>\n",
              "      <td>57.14</td>\n",
              "    </tr>\n",
              "    <tr>\n",
              "      <th>2</th>\n",
              "      <td>658010</td>\n",
              "      <td>400.0</td>\n",
              "      <td>14</td>\n",
              "      <td>28.57</td>\n",
              "    </tr>\n",
              "    <tr>\n",
              "      <th>3</th>\n",
              "      <td>659347</td>\n",
              "      <td>625.0</td>\n",
              "      <td>17</td>\n",
              "      <td>36.76</td>\n",
              "    </tr>\n",
              "    <tr>\n",
              "      <th>4</th>\n",
              "      <td>656933</td>\n",
              "      <td>425.0</td>\n",
              "      <td>14</td>\n",
              "      <td>30.36</td>\n",
              "    </tr>\n",
              "  </tbody>\n",
              "</table>\n",
              "</div>"
            ],
            "text/plain": [
              "   loan_id  funded_amount  lenders  amount\n",
              "0   657307          125.0        3   41.67\n",
              "1   657259          400.0        7   57.14\n",
              "2   658010          400.0       14   28.57\n",
              "3   659347          625.0       17   36.76\n",
              "4   656933          425.0       14   30.36"
            ]
          },
          "metadata": {
            "tags": []
          },
          "execution_count": 61
        }
      ]
    },
    {
      "cell_type": "code",
      "metadata": {
        "id": "IPPOA09QczNE",
        "colab_type": "code",
        "colab": {}
      },
      "source": [
        "amount_loan_lender = pd.merge(loans_lender_norm,loans_lender_correct,how=\"inner\",on='loan_id')\n",
        "amount_loan_lender.drop(columns=['funded_amount','lenders_y'],inplace=True)\n",
        "amount_loan_lender.columns=['loan_id','lenders','amount'] "
      ],
      "execution_count": 0,
      "outputs": []
    },
    {
      "cell_type": "code",
      "metadata": {
        "id": "jdNHodV2e20L",
        "colab_type": "code",
        "colab": {}
      },
      "source": [
        "amountLender = amount_loan_lender.groupby('lenders')['amount'].sum()\n",
        "amountLender = pd.DataFrame(amountLender).reset_index(level=0)"
      ],
      "execution_count": 0,
      "outputs": []
    },
    {
      "cell_type": "code",
      "metadata": {
        "id": "i6j-6uMrf4g1",
        "colab_type": "code",
        "colab": {}
      },
      "source": [
        "amountLender = amountLender.sort_values(by='amount',ascending=False)"
      ],
      "execution_count": 0,
      "outputs": []
    },
    {
      "cell_type": "code",
      "metadata": {
        "id": "J4yIE6jNhKS3",
        "colab_type": "code",
        "colab": {}
      },
      "source": [
        "amountLender['amountFormat']=amountLender.apply(lambda x: format(x['amount'],'f'),axis=1)"
      ],
      "execution_count": 0,
      "outputs": []
    },
    {
      "cell_type": "markdown",
      "metadata": {
        "id": "3TyiPuDJ4fSb",
        "colab_type": "text"
      },
      "source": [
        "### Result"
      ]
    },
    {
      "cell_type": "code",
      "metadata": {
        "id": "Vc0k4AgZgs7e",
        "colab_type": "code",
        "outputId": "76e17010-2d75-44dc-b30b-1c5e957ce5f2",
        "colab": {
          "base_uri": "https://localhost:8080/",
          "height": 195
        }
      },
      "source": [
        "amountLender.head()"
      ],
      "execution_count": 66,
      "outputs": [
        {
          "output_type": "execute_result",
          "data": {
            "text/html": [
              "<div>\n",
              "<style scoped>\n",
              "    .dataframe tbody tr th:only-of-type {\n",
              "        vertical-align: middle;\n",
              "    }\n",
              "\n",
              "    .dataframe tbody tr th {\n",
              "        vertical-align: top;\n",
              "    }\n",
              "\n",
              "    .dataframe thead th {\n",
              "        text-align: right;\n",
              "    }\n",
              "</style>\n",
              "<table border=\"1\" class=\"dataframe\">\n",
              "  <thead>\n",
              "    <tr style=\"text-align: right;\">\n",
              "      <th></th>\n",
              "      <th>lenders</th>\n",
              "      <th>amount</th>\n",
              "      <th>amountFormat</th>\n",
              "    </tr>\n",
              "  </thead>\n",
              "  <tbody>\n",
              "    <tr>\n",
              "      <th>462833</th>\n",
              "      <td>gooddogg1</td>\n",
              "      <td>8.140636e+06</td>\n",
              "      <td>8140636.400000</td>\n",
              "    </tr>\n",
              "    <tr>\n",
              "      <th>1324411</th>\n",
              "      <td>trolltech4460</td>\n",
              "      <td>5.634790e+06</td>\n",
              "      <td>5634789.740000</td>\n",
              "    </tr>\n",
              "    <tr>\n",
              "      <th>1008585</th>\n",
              "      <td>nms</td>\n",
              "      <td>4.453638e+06</td>\n",
              "      <td>4453638.040000</td>\n",
              "    </tr>\n",
              "    <tr>\n",
              "      <th>462243</th>\n",
              "      <td>gmct</td>\n",
              "      <td>4.445122e+06</td>\n",
              "      <td>4445122.169999</td>\n",
              "    </tr>\n",
              "    <tr>\n",
              "      <th>158450</th>\n",
              "      <td>bob4739</td>\n",
              "      <td>4.439756e+06</td>\n",
              "      <td>4439755.910000</td>\n",
              "    </tr>\n",
              "  </tbody>\n",
              "</table>\n",
              "</div>"
            ],
            "text/plain": [
              "               lenders        amount    amountFormat\n",
              "462833       gooddogg1  8.140636e+06  8140636.400000\n",
              "1324411  trolltech4460  5.634790e+06  5634789.740000\n",
              "1008585            nms  4.453638e+06  4453638.040000\n",
              "462243            gmct  4.445122e+06  4445122.169999\n",
              "158450         bob4739  4.439756e+06  4439755.910000"
            ]
          },
          "metadata": {
            "tags": []
          },
          "execution_count": 66
        }
      ]
    },
    {
      "cell_type": "markdown",
      "metadata": {
        "id": "bFOyaQ_a4_fM",
        "colab_type": "text"
      },
      "source": [
        "## Task 9\n",
        "- For each country, compute the difference between the overall amount of money lent and the overall amount of money borrowed. Since the country of the lender is often unknown, you can assume that the true distribution among the countries is the same as the one computed from the rows where the country is known."
      ]
    },
    {
      "cell_type": "markdown",
      "metadata": {
        "id": "QXKlr765-m49",
        "colab_type": "text"
      },
      "source": [
        "### Load 2 csv: lenders and country_stats"
      ]
    },
    {
      "cell_type": "code",
      "metadata": {
        "id": "Z4sd6tju5Olp",
        "colab_type": "code",
        "colab": {}
      },
      "source": [
        "lenders = pd.read_csv('/content/drive/My Drive/Foundation of computer science/additional-kiva-snapshot/lenders.csv')"
      ],
      "execution_count": 0,
      "outputs": []
    },
    {
      "cell_type": "code",
      "metadata": {
        "id": "tPPY7Ipy-_9X",
        "colab_type": "code",
        "colab": {}
      },
      "source": [
        "country_info=pd.read_csv('/content/drive/My Drive/Foundation of computer science/additional-kiva-snapshot/country_stats.csv')"
      ],
      "execution_count": 0,
      "outputs": []
    },
    {
      "cell_type": "code",
      "metadata": {
        "id": "rXc1cF25BBdQ",
        "colab_type": "code",
        "colab": {}
      },
      "source": [
        "country_info_9 = country_info[['country_name','country_code']] #population is included because it needed for the 10 task"
      ],
      "execution_count": 0,
      "outputs": []
    },
    {
      "cell_type": "code",
      "metadata": {
        "id": "CO8r_4ku8C8I",
        "colab_type": "code",
        "colab": {}
      },
      "source": [
        "lenders = lenders[['permanent_name','country_code']]"
      ],
      "execution_count": 0,
      "outputs": []
    },
    {
      "cell_type": "code",
      "metadata": {
        "id": "4DKzy7Wb8bht",
        "colab_type": "code",
        "colab": {}
      },
      "source": [
        "lenders['country_code']=lenders.apply(lambda x: str(x['country_code']),axis=1)"
      ],
      "execution_count": 0,
      "outputs": []
    },
    {
      "cell_type": "code",
      "metadata": {
        "id": "MAJHOvLnAfZx",
        "colab_type": "code",
        "outputId": "3c26a525-d6c9-4a3d-87c0-cf5bceb5330a",
        "colab": {
          "base_uri": "https://localhost:8080/",
          "height": 386
        }
      },
      "source": [
        "lenders['country_code'].unique()"
      ],
      "execution_count": 72,
      "outputs": [
        {
          "output_type": "execute_result",
          "data": {
            "text/plain": [
              "array(['nan', 'US', 'IN', 'AU', 'PL', 'BR', 'CN', 'FR', 'BG', 'AT', 'GB',\n",
              "       'ES', 'DE', 'BE', 'SK', 'IT', 'SE', 'JP', 'PK', 'LA', 'AR', 'HU',\n",
              "       'TR', 'LV', 'TW', 'MY', 'NL', 'GE', 'ID', 'RU', 'CA', 'PT', 'NG',\n",
              "       'IS', 'NO', 'HK', 'JO', 'KE', 'MT', 'VN', 'CH', 'NZ', 'FI', 'MX',\n",
              "       'TN', 'CO', 'AE', 'KR', 'DK', 'TZ', 'PH', 'GR', 'RO', 'CR', 'IL',\n",
              "       'SA', 'GH', 'PR', 'VE', 'LK', 'EG', 'MA', 'TH', 'AM', 'PG', 'CZ',\n",
              "       'SG', 'CL', 'YE', 'CY', 'PY', 'HR', 'MN', 'CM', 'UG', 'LT', 'EE',\n",
              "       'BH', 'DZ', 'IE', 'RS', 'KY', 'IR', 'GT', 'DO', 'PS', 'PE', 'BD',\n",
              "       'ET', 'SY', 'UY', 'RW', 'AS', 'PA', 'AL', 'UA', 'EC', 'KW', 'AD',\n",
              "       'NI', 'ZA', 'MM', 'FJ', 'LC', 'IQ', 'HT', 'AO', 'SD', 'SI', 'MK',\n",
              "       'OM', 'AQ', 'LY', 'AZ', 'AF', 'MO', 'BS', 'MZ', 'SV', 'ZM', 'LU',\n",
              "       'HN', 'BI', 'BJ', 'YT', 'GU', 'ML', 'BO', 'GW', 'TJ', 'KH', 'SR',\n",
              "       'LB', 'VU', 'AN', 'MP', 'MW', 'QA', 'MH', 'TM', 'UM', 'SZ', 'XK',\n",
              "       'NE', 'TT', 'SO', 'ZW', 'TK', 'BB', 'JM', 'NP', 'GI', 'KG', 'MG',\n",
              "       'FK', 'BY', 'MD', 'KZ', 'CU', 'GY', 'CD', 'CI', 'AW', 'SB', 'MV',\n",
              "       'UZ', 'VI', 'GM', 'BF', 'TG', 'ER', 'BT', 'CG', 'WS', 'TL', 'MU',\n",
              "       'NC', 'MQ', 'MR', 'LR', 'BM', 'BN', 'BW', 'MC', 'PF', 'WF', 'GL',\n",
              "       'PW', 'BA', 'FO', 'KN', 'SN', 'GD', 'GN', 'CK', 'GP', 'BV', 'SC',\n",
              "       'CV', 'GS', 'NF', 'BZ', 'VG', 'CS', 'RE', 'TF', 'VC', 'AI', 'SM',\n",
              "       'SH', 'SL', 'LI', 'GA', 'FM', 'TC', 'AG', 'LS', 'DM', 'KM', 'SS',\n",
              "       'GZ', 'EH', 'TO', 'KP', 'NU', 'ME', 'DJ', 'VA', 'TV', 'SJ', 'GF',\n",
              "       'PN', 'CX', 'IO', 'MS'], dtype=object)"
            ]
          },
          "metadata": {
            "tags": []
          },
          "execution_count": 72
        }
      ]
    },
    {
      "cell_type": "code",
      "metadata": {
        "id": "Q1l9_Hka-k-J",
        "colab_type": "code",
        "colab": {}
      },
      "source": [
        "totale = len(lenders)\n",
        "sconosciuti = len(lenders[lenders['country_code']=='nan'])"
      ],
      "execution_count": 0,
      "outputs": []
    },
    {
      "cell_type": "code",
      "metadata": {
        "id": "nseISRXg_uLV",
        "colab_type": "code",
        "outputId": "86207acb-e101-48f3-ae18-8b92aa5a1736",
        "colab": {
          "base_uri": "https://localhost:8080/",
          "height": 34
        }
      },
      "source": [
        "print(\"Country lenders not known: \"+str(sconosciuti/totale))"
      ],
      "execution_count": 74,
      "outputs": [
        {
          "output_type": "stream",
          "text": [
            "Country lenders not known: 0.620913989342637\n"
          ],
          "name": "stdout"
        }
      ]
    },
    {
      "cell_type": "code",
      "metadata": {
        "id": "rr9GPx50BaqK",
        "colab_type": "code",
        "outputId": "00ba78a9-9876-4911-9147-f853f3522af6",
        "colab": {
          "base_uri": "https://localhost:8080/",
          "height": 573
        }
      },
      "source": [
        "country_info"
      ],
      "execution_count": 75,
      "outputs": [
        {
          "output_type": "execute_result",
          "data": {
            "text/html": [
              "<div>\n",
              "<style scoped>\n",
              "    .dataframe tbody tr th:only-of-type {\n",
              "        vertical-align: middle;\n",
              "    }\n",
              "\n",
              "    .dataframe tbody tr th {\n",
              "        vertical-align: top;\n",
              "    }\n",
              "\n",
              "    .dataframe thead th {\n",
              "        text-align: right;\n",
              "    }\n",
              "</style>\n",
              "<table border=\"1\" class=\"dataframe\">\n",
              "  <thead>\n",
              "    <tr style=\"text-align: right;\">\n",
              "      <th></th>\n",
              "      <th>country_name</th>\n",
              "      <th>country_code</th>\n",
              "      <th>country_code3</th>\n",
              "      <th>continent</th>\n",
              "      <th>region</th>\n",
              "      <th>population</th>\n",
              "      <th>population_below_poverty_line</th>\n",
              "      <th>hdi</th>\n",
              "      <th>life_expectancy</th>\n",
              "      <th>expected_years_of_schooling</th>\n",
              "      <th>mean_years_of_schooling</th>\n",
              "      <th>gni</th>\n",
              "      <th>kiva_country_name</th>\n",
              "    </tr>\n",
              "  </thead>\n",
              "  <tbody>\n",
              "    <tr>\n",
              "      <th>0</th>\n",
              "      <td>India</td>\n",
              "      <td>IN</td>\n",
              "      <td>IND</td>\n",
              "      <td>Asia</td>\n",
              "      <td>Southern Asia</td>\n",
              "      <td>1339180127</td>\n",
              "      <td>21.9</td>\n",
              "      <td>0.623559</td>\n",
              "      <td>68.322</td>\n",
              "      <td>11.696590</td>\n",
              "      <td>6.298834</td>\n",
              "      <td>5663.474799</td>\n",
              "      <td>India</td>\n",
              "    </tr>\n",
              "    <tr>\n",
              "      <th>1</th>\n",
              "      <td>Nigeria</td>\n",
              "      <td>NG</td>\n",
              "      <td>NGA</td>\n",
              "      <td>Africa</td>\n",
              "      <td>Western Africa</td>\n",
              "      <td>190886311</td>\n",
              "      <td>70.0</td>\n",
              "      <td>0.527105</td>\n",
              "      <td>53.057</td>\n",
              "      <td>9.970482</td>\n",
              "      <td>6.000000</td>\n",
              "      <td>5442.901264</td>\n",
              "      <td>Nigeria</td>\n",
              "    </tr>\n",
              "    <tr>\n",
              "      <th>2</th>\n",
              "      <td>Mexico</td>\n",
              "      <td>MX</td>\n",
              "      <td>MEX</td>\n",
              "      <td>Americas</td>\n",
              "      <td>Central America</td>\n",
              "      <td>129163276</td>\n",
              "      <td>46.2</td>\n",
              "      <td>0.761683</td>\n",
              "      <td>76.972</td>\n",
              "      <td>13.299090</td>\n",
              "      <td>8.554985</td>\n",
              "      <td>16383.106680</td>\n",
              "      <td>Mexico</td>\n",
              "    </tr>\n",
              "    <tr>\n",
              "      <th>3</th>\n",
              "      <td>Pakistan</td>\n",
              "      <td>PK</td>\n",
              "      <td>PAK</td>\n",
              "      <td>Asia</td>\n",
              "      <td>Southern Asia</td>\n",
              "      <td>197015955</td>\n",
              "      <td>29.5</td>\n",
              "      <td>0.550354</td>\n",
              "      <td>66.365</td>\n",
              "      <td>8.106910</td>\n",
              "      <td>5.089460</td>\n",
              "      <td>5031.173074</td>\n",
              "      <td>Pakistan</td>\n",
              "    </tr>\n",
              "    <tr>\n",
              "      <th>4</th>\n",
              "      <td>Bangladesh</td>\n",
              "      <td>BD</td>\n",
              "      <td>BGD</td>\n",
              "      <td>Asia</td>\n",
              "      <td>Southern Asia</td>\n",
              "      <td>164669751</td>\n",
              "      <td>31.5</td>\n",
              "      <td>0.578824</td>\n",
              "      <td>71.985</td>\n",
              "      <td>10.178706</td>\n",
              "      <td>5.241577</td>\n",
              "      <td>3341.490722</td>\n",
              "      <td>Bangladesh</td>\n",
              "    </tr>\n",
              "    <tr>\n",
              "      <th>...</th>\n",
              "      <td>...</td>\n",
              "      <td>...</td>\n",
              "      <td>...</td>\n",
              "      <td>...</td>\n",
              "      <td>...</td>\n",
              "      <td>...</td>\n",
              "      <td>...</td>\n",
              "      <td>...</td>\n",
              "      <td>...</td>\n",
              "      <td>...</td>\n",
              "      <td>...</td>\n",
              "      <td>...</td>\n",
              "      <td>...</td>\n",
              "    </tr>\n",
              "    <tr>\n",
              "      <th>169</th>\n",
              "      <td>Somalia</td>\n",
              "      <td>SO</td>\n",
              "      <td>SOM</td>\n",
              "      <td>Africa</td>\n",
              "      <td>Eastern Africa</td>\n",
              "      <td>14742523</td>\n",
              "      <td>NaN</td>\n",
              "      <td>NaN</td>\n",
              "      <td>NaN</td>\n",
              "      <td>NaN</td>\n",
              "      <td>NaN</td>\n",
              "      <td>NaN</td>\n",
              "      <td>Somalia</td>\n",
              "    </tr>\n",
              "    <tr>\n",
              "      <th>170</th>\n",
              "      <td>Central African Republic</td>\n",
              "      <td>CF</td>\n",
              "      <td>CAF</td>\n",
              "      <td>Africa</td>\n",
              "      <td>Middle Africa</td>\n",
              "      <td>4659080</td>\n",
              "      <td>NaN</td>\n",
              "      <td>0.352440</td>\n",
              "      <td>51.458</td>\n",
              "      <td>7.098980</td>\n",
              "      <td>4.230000</td>\n",
              "      <td>587.473961</td>\n",
              "      <td>Central African Republic</td>\n",
              "    </tr>\n",
              "    <tr>\n",
              "      <th>171</th>\n",
              "      <td>Samoa</td>\n",
              "      <td>WS</td>\n",
              "      <td>WSM</td>\n",
              "      <td>Oceania</td>\n",
              "      <td>Polynesia</td>\n",
              "      <td>196440</td>\n",
              "      <td>NaN</td>\n",
              "      <td>0.702000</td>\n",
              "      <td>NaN</td>\n",
              "      <td>NaN</td>\n",
              "      <td>NaN</td>\n",
              "      <td>NaN</td>\n",
              "      <td>Samoa</td>\n",
              "    </tr>\n",
              "    <tr>\n",
              "      <th>172</th>\n",
              "      <td>Palestine</td>\n",
              "      <td>PS</td>\n",
              "      <td>PS</td>\n",
              "      <td>Asia</td>\n",
              "      <td>Western Asia</td>\n",
              "      <td>4920724</td>\n",
              "      <td>NaN</td>\n",
              "      <td>0.677000</td>\n",
              "      <td>NaN</td>\n",
              "      <td>NaN</td>\n",
              "      <td>NaN</td>\n",
              "      <td>NaN</td>\n",
              "      <td>Palestine</td>\n",
              "    </tr>\n",
              "    <tr>\n",
              "      <th>173</th>\n",
              "      <td>Kosovo</td>\n",
              "      <td>XK</td>\n",
              "      <td>NaN</td>\n",
              "      <td>Europe</td>\n",
              "      <td>Southern Europe</td>\n",
              "      <td>1895250</td>\n",
              "      <td>30.0</td>\n",
              "      <td>0.786000</td>\n",
              "      <td>NaN</td>\n",
              "      <td>NaN</td>\n",
              "      <td>NaN</td>\n",
              "      <td>NaN</td>\n",
              "      <td>Kosovo</td>\n",
              "    </tr>\n",
              "  </tbody>\n",
              "</table>\n",
              "<p>174 rows × 13 columns</p>\n",
              "</div>"
            ],
            "text/plain": [
              "                 country_name  ...         kiva_country_name\n",
              "0                       India  ...                     India\n",
              "1                     Nigeria  ...                   Nigeria\n",
              "2                      Mexico  ...                    Mexico\n",
              "3                    Pakistan  ...                  Pakistan\n",
              "4                  Bangladesh  ...                Bangladesh\n",
              "..                        ...  ...                       ...\n",
              "169                   Somalia  ...                   Somalia\n",
              "170  Central African Republic  ...  Central African Republic\n",
              "171                     Samoa  ...                     Samoa\n",
              "172                 Palestine  ...                 Palestine\n",
              "173                    Kosovo  ...                    Kosovo\n",
              "\n",
              "[174 rows x 13 columns]"
            ]
          },
          "metadata": {
            "tags": []
          },
          "execution_count": 75
        }
      ]
    },
    {
      "cell_type": "code",
      "metadata": {
        "id": "Pe7qvT_SBEMg",
        "colab_type": "code",
        "colab": {}
      },
      "source": [
        "lenders_country = pd.merge(lenders,country_info_9,how='left',on='country_code')\n",
        "lenders_country.drop(columns='country_code',inplace=True)"
      ],
      "execution_count": 0,
      "outputs": []
    },
    {
      "cell_type": "code",
      "metadata": {
        "id": "JWkokTHgCrsR",
        "colab_type": "code",
        "colab": {}
      },
      "source": [
        "lenders_country['country_name'] = lenders_country.apply(lambda x: str(x['country_name']),axis=1)"
      ],
      "execution_count": 0,
      "outputs": []
    },
    {
      "cell_type": "code",
      "metadata": {
        "id": "IW3EdK4tTYPu",
        "colab_type": "code",
        "outputId": "b0169297-f55b-449b-e0e5-3527ef1d940d",
        "colab": {
          "base_uri": "https://localhost:8080/",
          "height": 195
        }
      },
      "source": [
        "lenders_country.head()"
      ],
      "execution_count": 78,
      "outputs": [
        {
          "output_type": "execute_result",
          "data": {
            "text/html": [
              "<div>\n",
              "<style scoped>\n",
              "    .dataframe tbody tr th:only-of-type {\n",
              "        vertical-align: middle;\n",
              "    }\n",
              "\n",
              "    .dataframe tbody tr th {\n",
              "        vertical-align: top;\n",
              "    }\n",
              "\n",
              "    .dataframe thead th {\n",
              "        text-align: right;\n",
              "    }\n",
              "</style>\n",
              "<table border=\"1\" class=\"dataframe\">\n",
              "  <thead>\n",
              "    <tr style=\"text-align: right;\">\n",
              "      <th></th>\n",
              "      <th>permanent_name</th>\n",
              "      <th>country_name</th>\n",
              "    </tr>\n",
              "  </thead>\n",
              "  <tbody>\n",
              "    <tr>\n",
              "      <th>0</th>\n",
              "      <td>qian3013</td>\n",
              "      <td>nan</td>\n",
              "    </tr>\n",
              "    <tr>\n",
              "      <th>1</th>\n",
              "      <td>reena6733</td>\n",
              "      <td>nan</td>\n",
              "    </tr>\n",
              "    <tr>\n",
              "      <th>2</th>\n",
              "      <td>mai5982</td>\n",
              "      <td>nan</td>\n",
              "    </tr>\n",
              "    <tr>\n",
              "      <th>3</th>\n",
              "      <td>andrew86079135</td>\n",
              "      <td>nan</td>\n",
              "    </tr>\n",
              "    <tr>\n",
              "      <th>4</th>\n",
              "      <td>nguyen6962</td>\n",
              "      <td>nan</td>\n",
              "    </tr>\n",
              "  </tbody>\n",
              "</table>\n",
              "</div>"
            ],
            "text/plain": [
              "   permanent_name country_name\n",
              "0        qian3013          nan\n",
              "1       reena6733          nan\n",
              "2         mai5982          nan\n",
              "3  andrew86079135          nan\n",
              "4      nguyen6962          nan"
            ]
          },
          "metadata": {
            "tags": []
          },
          "execution_count": 78
        }
      ]
    },
    {
      "cell_type": "code",
      "metadata": {
        "id": "9rJeSK6jDpGG",
        "colab_type": "code",
        "colab": {}
      },
      "source": [
        "lenders_country.columns=['lenders','country_name']"
      ],
      "execution_count": 0,
      "outputs": []
    },
    {
      "cell_type": "code",
      "metadata": {
        "id": "RZn4cy1BDLa1",
        "colab_type": "code",
        "colab": {}
      },
      "source": [
        "lenders_country_distTrovati = lenders_country[lenders_country['country_name']!='nan']"
      ],
      "execution_count": 0,
      "outputs": []
    },
    {
      "cell_type": "code",
      "metadata": {
        "id": "mC9bY_44KZIW",
        "colab_type": "code",
        "colab": {}
      },
      "source": [
        "lenders_country_distTrovare = lenders_country[lenders_country['country_name']=='nan']"
      ],
      "execution_count": 0,
      "outputs": []
    },
    {
      "cell_type": "code",
      "metadata": {
        "id": "JWi6yRZEDWD4",
        "colab_type": "code",
        "colab": {}
      },
      "source": [
        "lenders_country_dist = lenders_country_distTrovati.groupby('country_name')['lenders'].count()\n",
        "lenders_country_dist = pd.DataFrame(lenders_country_dist).reset_index(level=0)"
      ],
      "execution_count": 0,
      "outputs": []
    },
    {
      "cell_type": "code",
      "metadata": {
        "id": "9HJzVjfxFKmW",
        "colab_type": "code",
        "outputId": "584a590b-9039-49a9-b329-fec54f7cad34",
        "colab": {
          "base_uri": "https://localhost:8080/",
          "height": 34
        }
      },
      "source": [
        "number_lenders = lenders_country_dist['lenders'].sum()\n",
        "number_lenders"
      ],
      "execution_count": 83,
      "outputs": [
        {
          "output_type": "execute_result",
          "data": {
            "text/plain": [
              "888056"
            ]
          },
          "metadata": {
            "tags": []
          },
          "execution_count": 83
        }
      ]
    },
    {
      "cell_type": "code",
      "metadata": {
        "id": "XaWtcSASEKs1",
        "colab_type": "code",
        "outputId": "d7073cd6-6e60-4d2f-b901-8c6b0f9bd2fd",
        "colab": {
          "base_uri": "https://localhost:8080/",
          "height": 282
        }
      },
      "source": [
        "fig = plt.figure()\n",
        "plt.bar(lenders_country_dist['country_name'],lenders_country_dist['lenders'])"
      ],
      "execution_count": 84,
      "outputs": [
        {
          "output_type": "execute_result",
          "data": {
            "text/plain": [
              "<BarContainer object of 170 artists>"
            ]
          },
          "metadata": {
            "tags": []
          },
          "execution_count": 84
        },
        {
          "output_type": "display_data",
          "data": {
            "image/png": "[encoded data removed]",
            "text/plain": [
              "<Figure size 432x288 with 1 Axes>"
            ]
          },
          "metadata": {
            "tags": []
          }
        }
      ]
    },
    {
      "cell_type": "code",
      "metadata": {
        "id": "A3TX8EnKHfQP",
        "colab_type": "code",
        "colab": {}
      },
      "source": [
        "lenders_country_dist['distribution'] = lenders_country_dist['lenders'] / number_lenders"
      ],
      "execution_count": 0,
      "outputs": []
    },
    {
      "cell_type": "code",
      "metadata": {
        "id": "RreWJTz8H6pL",
        "colab_type": "code",
        "colab": {}
      },
      "source": [
        "dist= lenders_country_dist.sort_values(by='lenders',ascending=False)"
      ],
      "execution_count": 0,
      "outputs": []
    },
    {
      "cell_type": "code",
      "metadata": {
        "id": "By1yigBuPxZq",
        "colab_type": "code",
        "outputId": "6304d116-4223-4011-e78c-351ee9d25aa4",
        "colab": {
          "base_uri": "https://localhost:8080/",
          "height": 402
        }
      },
      "source": [
        "dist"
      ],
      "execution_count": 87,
      "outputs": [
        {
          "output_type": "execute_result",
          "data": {
            "text/html": [
              "<div>\n",
              "<style scoped>\n",
              "    .dataframe tbody tr th:only-of-type {\n",
              "        vertical-align: middle;\n",
              "    }\n",
              "\n",
              "    .dataframe tbody tr th {\n",
              "        vertical-align: top;\n",
              "    }\n",
              "\n",
              "    .dataframe thead th {\n",
              "        text-align: right;\n",
              "    }\n",
              "</style>\n",
              "<table border=\"1\" class=\"dataframe\">\n",
              "  <thead>\n",
              "    <tr style=\"text-align: right;\">\n",
              "      <th></th>\n",
              "      <th>country_name</th>\n",
              "      <th>lenders</th>\n",
              "      <th>distribution</th>\n",
              "    </tr>\n",
              "  </thead>\n",
              "  <tbody>\n",
              "    <tr>\n",
              "      <th>162</th>\n",
              "      <td>United States</td>\n",
              "      <td>591612</td>\n",
              "      <td>0.666188</td>\n",
              "    </tr>\n",
              "    <tr>\n",
              "      <th>26</th>\n",
              "      <td>Canada</td>\n",
              "      <td>67970</td>\n",
              "      <td>0.076538</td>\n",
              "    </tr>\n",
              "    <tr>\n",
              "      <th>161</th>\n",
              "      <td>United Kingdom</td>\n",
              "      <td>38380</td>\n",
              "      <td>0.043218</td>\n",
              "    </tr>\n",
              "    <tr>\n",
              "      <th>6</th>\n",
              "      <td>Australia</td>\n",
              "      <td>37103</td>\n",
              "      <td>0.041780</td>\n",
              "    </tr>\n",
              "    <tr>\n",
              "      <th>53</th>\n",
              "      <td>Germany</td>\n",
              "      <td>16007</td>\n",
              "      <td>0.018025</td>\n",
              "    </tr>\n",
              "    <tr>\n",
              "      <th>...</th>\n",
              "      <td>...</td>\n",
              "      <td>...</td>\n",
              "      <td>...</td>\n",
              "    </tr>\n",
              "    <tr>\n",
              "      <th>157</th>\n",
              "      <td>Turkmenistan</td>\n",
              "      <td>4</td>\n",
              "      <td>0.000005</td>\n",
              "    </tr>\n",
              "    <tr>\n",
              "      <th>44</th>\n",
              "      <td>Eritrea</td>\n",
              "      <td>4</td>\n",
              "      <td>0.000005</td>\n",
              "    </tr>\n",
              "    <tr>\n",
              "      <th>96</th>\n",
              "      <td>Mauritania</td>\n",
              "      <td>4</td>\n",
              "      <td>0.000005</td>\n",
              "    </tr>\n",
              "    <tr>\n",
              "      <th>30</th>\n",
              "      <td>Comoros</td>\n",
              "      <td>1</td>\n",
              "      <td>0.000001</td>\n",
              "    </tr>\n",
              "    <tr>\n",
              "      <th>58</th>\n",
              "      <td>Guinea-Bissau</td>\n",
              "      <td>1</td>\n",
              "      <td>0.000001</td>\n",
              "    </tr>\n",
              "  </tbody>\n",
              "</table>\n",
              "<p>170 rows × 3 columns</p>\n",
              "</div>"
            ],
            "text/plain": [
              "       country_name  lenders  distribution\n",
              "162   United States   591612      0.666188\n",
              "26           Canada    67970      0.076538\n",
              "161  United Kingdom    38380      0.043218\n",
              "6         Australia    37103      0.041780\n",
              "53          Germany    16007      0.018025\n",
              "..              ...      ...           ...\n",
              "157    Turkmenistan        4      0.000005\n",
              "44          Eritrea        4      0.000005\n",
              "96       Mauritania        4      0.000005\n",
              "30          Comoros        1      0.000001\n",
              "58    Guinea-Bissau        1      0.000001\n",
              "\n",
              "[170 rows x 3 columns]"
            ]
          },
          "metadata": {
            "tags": []
          },
          "execution_count": 87
        }
      ]
    },
    {
      "cell_type": "code",
      "metadata": {
        "colab_type": "code",
        "outputId": "5bdfb564-8147-4fcd-c788-66882746a817",
        "id": "etMV9p_4Td_F",
        "colab": {
          "base_uri": "https://localhost:8080/",
          "height": 351
        }
      },
      "source": [
        "dist_focus = dist[dist['distribution']>0.005]\n",
        "fig = plt.figure(figsize=(16,5))\n",
        "plt.bar(dist_focus['country_name'],dist_focus['distribution'])\n",
        "plt.xlabel('country')\n",
        "plt.ylabel('percentage')"
      ],
      "execution_count": 88,
      "outputs": [
        {
          "output_type": "execute_result",
          "data": {
            "text/plain": [
              "Text(0, 0.5, 'percentage')"
            ]
          },
          "metadata": {
            "tags": []
          },
          "execution_count": 88
        },
        {
          "output_type": "display_data",
          "data": {
            "image/png": "[encoded data removed]",
            "text/plain": [
              "<Figure size 1152x360 with 1 Axes>"
            ]
          },
          "metadata": {
            "tags": []
          }
        }
      ]
    },
    {
      "cell_type": "code",
      "metadata": {
        "id": "y_4yDOWiKS9p",
        "colab_type": "code",
        "outputId": "c7846ad5-9a98-4d76-dad9-04853219ef1a",
        "colab": {
          "base_uri": "https://localhost:8080/",
          "height": 195
        }
      },
      "source": [
        "lenders_country_distTrovare.head()"
      ],
      "execution_count": 89,
      "outputs": [
        {
          "output_type": "execute_result",
          "data": {
            "text/html": [
              "<div>\n",
              "<style scoped>\n",
              "    .dataframe tbody tr th:only-of-type {\n",
              "        vertical-align: middle;\n",
              "    }\n",
              "\n",
              "    .dataframe tbody tr th {\n",
              "        vertical-align: top;\n",
              "    }\n",
              "\n",
              "    .dataframe thead th {\n",
              "        text-align: right;\n",
              "    }\n",
              "</style>\n",
              "<table border=\"1\" class=\"dataframe\">\n",
              "  <thead>\n",
              "    <tr style=\"text-align: right;\">\n",
              "      <th></th>\n",
              "      <th>lenders</th>\n",
              "      <th>country_name</th>\n",
              "    </tr>\n",
              "  </thead>\n",
              "  <tbody>\n",
              "    <tr>\n",
              "      <th>0</th>\n",
              "      <td>qian3013</td>\n",
              "      <td>nan</td>\n",
              "    </tr>\n",
              "    <tr>\n",
              "      <th>1</th>\n",
              "      <td>reena6733</td>\n",
              "      <td>nan</td>\n",
              "    </tr>\n",
              "    <tr>\n",
              "      <th>2</th>\n",
              "      <td>mai5982</td>\n",
              "      <td>nan</td>\n",
              "    </tr>\n",
              "    <tr>\n",
              "      <th>3</th>\n",
              "      <td>andrew86079135</td>\n",
              "      <td>nan</td>\n",
              "    </tr>\n",
              "    <tr>\n",
              "      <th>4</th>\n",
              "      <td>nguyen6962</td>\n",
              "      <td>nan</td>\n",
              "    </tr>\n",
              "  </tbody>\n",
              "</table>\n",
              "</div>"
            ],
            "text/plain": [
              "          lenders country_name\n",
              "0        qian3013          nan\n",
              "1       reena6733          nan\n",
              "2         mai5982          nan\n",
              "3  andrew86079135          nan\n",
              "4      nguyen6962          nan"
            ]
          },
          "metadata": {
            "tags": []
          },
          "execution_count": 89
        }
      ]
    },
    {
      "cell_type": "code",
      "metadata": {
        "id": "RDzplR-IMSun",
        "colab_type": "code",
        "outputId": "3bf95f4f-0e87-4bab-e15f-71a01170ef1e",
        "colab": {
          "base_uri": "https://localhost:8080/",
          "height": 402
        }
      },
      "source": [
        "dist['numberRecord']=round(dist['distribution']*len(lenders_country_distTrovare),0)\n",
        "dist['numberRecord'] = dist.apply(lambda x: int(x['numberRecord']),axis=1)\n",
        "dist"
      ],
      "execution_count": 90,
      "outputs": [
        {
          "output_type": "execute_result",
          "data": {
            "text/html": [
              "<div>\n",
              "<style scoped>\n",
              "    .dataframe tbody tr th:only-of-type {\n",
              "        vertical-align: middle;\n",
              "    }\n",
              "\n",
              "    .dataframe tbody tr th {\n",
              "        vertical-align: top;\n",
              "    }\n",
              "\n",
              "    .dataframe thead th {\n",
              "        text-align: right;\n",
              "    }\n",
              "</style>\n",
              "<table border=\"1\" class=\"dataframe\">\n",
              "  <thead>\n",
              "    <tr style=\"text-align: right;\">\n",
              "      <th></th>\n",
              "      <th>country_name</th>\n",
              "      <th>lenders</th>\n",
              "      <th>distribution</th>\n",
              "      <th>numberRecord</th>\n",
              "    </tr>\n",
              "  </thead>\n",
              "  <tbody>\n",
              "    <tr>\n",
              "      <th>162</th>\n",
              "      <td>United States</td>\n",
              "      <td>591612</td>\n",
              "      <td>0.666188</td>\n",
              "      <td>973379</td>\n",
              "    </tr>\n",
              "    <tr>\n",
              "      <th>26</th>\n",
              "      <td>Canada</td>\n",
              "      <td>67970</td>\n",
              "      <td>0.076538</td>\n",
              "      <td>111831</td>\n",
              "    </tr>\n",
              "    <tr>\n",
              "      <th>161</th>\n",
              "      <td>United Kingdom</td>\n",
              "      <td>38380</td>\n",
              "      <td>0.043218</td>\n",
              "      <td>63147</td>\n",
              "    </tr>\n",
              "    <tr>\n",
              "      <th>6</th>\n",
              "      <td>Australia</td>\n",
              "      <td>37103</td>\n",
              "      <td>0.041780</td>\n",
              "      <td>61046</td>\n",
              "    </tr>\n",
              "    <tr>\n",
              "      <th>53</th>\n",
              "      <td>Germany</td>\n",
              "      <td>16007</td>\n",
              "      <td>0.018025</td>\n",
              "      <td>26336</td>\n",
              "    </tr>\n",
              "    <tr>\n",
              "      <th>...</th>\n",
              "      <td>...</td>\n",
              "      <td>...</td>\n",
              "      <td>...</td>\n",
              "      <td>...</td>\n",
              "    </tr>\n",
              "    <tr>\n",
              "      <th>157</th>\n",
              "      <td>Turkmenistan</td>\n",
              "      <td>4</td>\n",
              "      <td>0.000005</td>\n",
              "      <td>7</td>\n",
              "    </tr>\n",
              "    <tr>\n",
              "      <th>44</th>\n",
              "      <td>Eritrea</td>\n",
              "      <td>4</td>\n",
              "      <td>0.000005</td>\n",
              "      <td>7</td>\n",
              "    </tr>\n",
              "    <tr>\n",
              "      <th>96</th>\n",
              "      <td>Mauritania</td>\n",
              "      <td>4</td>\n",
              "      <td>0.000005</td>\n",
              "      <td>7</td>\n",
              "    </tr>\n",
              "    <tr>\n",
              "      <th>30</th>\n",
              "      <td>Comoros</td>\n",
              "      <td>1</td>\n",
              "      <td>0.000001</td>\n",
              "      <td>2</td>\n",
              "    </tr>\n",
              "    <tr>\n",
              "      <th>58</th>\n",
              "      <td>Guinea-Bissau</td>\n",
              "      <td>1</td>\n",
              "      <td>0.000001</td>\n",
              "      <td>2</td>\n",
              "    </tr>\n",
              "  </tbody>\n",
              "</table>\n",
              "<p>170 rows × 4 columns</p>\n",
              "</div>"
            ],
            "text/plain": [
              "       country_name  lenders  distribution  numberRecord\n",
              "162   United States   591612      0.666188        973379\n",
              "26           Canada    67970      0.076538        111831\n",
              "161  United Kingdom    38380      0.043218         63147\n",
              "6         Australia    37103      0.041780         61046\n",
              "53          Germany    16007      0.018025         26336\n",
              "..              ...      ...           ...           ...\n",
              "157    Turkmenistan        4      0.000005             7\n",
              "44          Eritrea        4      0.000005             7\n",
              "96       Mauritania        4      0.000005             7\n",
              "30          Comoros        1      0.000001             2\n",
              "58    Guinea-Bissau        1      0.000001             2\n",
              "\n",
              "[170 rows x 4 columns]"
            ]
          },
          "metadata": {
            "tags": []
          },
          "execution_count": 90
        }
      ]
    },
    {
      "cell_type": "code",
      "metadata": {
        "id": "vr53G_NKVDvC",
        "colab_type": "code",
        "colab": {}
      },
      "source": [
        "dist['countryLender']=dist.apply(lambda x: [x['country_name']]*x['numberRecord'],axis=1)"
      ],
      "execution_count": 0,
      "outputs": []
    },
    {
      "cell_type": "code",
      "metadata": {
        "id": "bzMwKXM9X1BD",
        "colab_type": "code",
        "colab": {}
      },
      "source": [
        "country_lenderTrovare = pd.Series.to_list(dist['countryLender']) #concat all list for each country"
      ],
      "execution_count": 0,
      "outputs": []
    },
    {
      "cell_type": "code",
      "metadata": {
        "id": "bvi1AgKnYj1V",
        "colab_type": "code",
        "colab": {}
      },
      "source": [
        "country_lenderTrovare = list(itertools.chain(*country_lenderTrovare)) #flat list\n",
        "country_lenderTrovare = country_lenderTrovare[:-2]"
      ],
      "execution_count": 0,
      "outputs": []
    },
    {
      "cell_type": "code",
      "metadata": {
        "id": "zLwb1dJAZJQc",
        "colab_type": "code",
        "outputId": "f8143af8-2506-4299-a05a-ffc80532d371",
        "colab": {
          "base_uri": "https://localhost:8080/",
          "height": 118
        }
      },
      "source": [
        "lenders_country_distTrovare['country_name']=country_lenderTrovare"
      ],
      "execution_count": 94,
      "outputs": [
        {
          "output_type": "stream",
          "text": [
            "/usr/local/lib/python3.6/dist-packages/ipykernel_launcher.py:1: SettingWithCopyWarning: \n",
            "A value is trying to be set on a copy of a slice from a DataFrame.\n",
            "Try using .loc[row_indexer,col_indexer] = value instead\n",
            "\n",
            "See the caveats in the documentation: http://pandas.pydata.org/pandas-docs/stable/user_guide/indexing.html#returning-a-view-versus-a-copy\n",
            "  \"\"\"Entry point for launching an IPython kernel.\n"
          ],
          "name": "stderr"
        }
      ]
    },
    {
      "cell_type": "code",
      "metadata": {
        "id": "1X8FkeBtaJmT",
        "colab_type": "code",
        "colab": {}
      },
      "source": [
        "lenders_country = pd.concat([lenders_country_distTrovare,lenders_country_distTrovati],axis=0)"
      ],
      "execution_count": 0,
      "outputs": []
    },
    {
      "cell_type": "code",
      "metadata": {
        "id": "-XLJiBOLbNg4",
        "colab_type": "code",
        "outputId": "d5e9b57e-2d98-4d38-deaa-ada0c4053214",
        "colab": {
          "base_uri": "https://localhost:8080/",
          "height": 402
        }
      },
      "source": [
        "lenders_country"
      ],
      "execution_count": 96,
      "outputs": [
        {
          "output_type": "execute_result",
          "data": {
            "text/html": [
              "<div>\n",
              "<style scoped>\n",
              "    .dataframe tbody tr th:only-of-type {\n",
              "        vertical-align: middle;\n",
              "    }\n",
              "\n",
              "    .dataframe tbody tr th {\n",
              "        vertical-align: top;\n",
              "    }\n",
              "\n",
              "    .dataframe thead th {\n",
              "        text-align: right;\n",
              "    }\n",
              "</style>\n",
              "<table border=\"1\" class=\"dataframe\">\n",
              "  <thead>\n",
              "    <tr style=\"text-align: right;\">\n",
              "      <th></th>\n",
              "      <th>lenders</th>\n",
              "      <th>country_name</th>\n",
              "    </tr>\n",
              "  </thead>\n",
              "  <tbody>\n",
              "    <tr>\n",
              "      <th>0</th>\n",
              "      <td>qian3013</td>\n",
              "      <td>United States</td>\n",
              "    </tr>\n",
              "    <tr>\n",
              "      <th>1</th>\n",
              "      <td>reena6733</td>\n",
              "      <td>United States</td>\n",
              "    </tr>\n",
              "    <tr>\n",
              "      <th>2</th>\n",
              "      <td>mai5982</td>\n",
              "      <td>United States</td>\n",
              "    </tr>\n",
              "    <tr>\n",
              "      <th>3</th>\n",
              "      <td>andrew86079135</td>\n",
              "      <td>United States</td>\n",
              "    </tr>\n",
              "    <tr>\n",
              "      <th>4</th>\n",
              "      <td>nguyen6962</td>\n",
              "      <td>United States</td>\n",
              "    </tr>\n",
              "    <tr>\n",
              "      <th>...</th>\n",
              "      <td>...</td>\n",
              "      <td>...</td>\n",
              "    </tr>\n",
              "    <tr>\n",
              "      <th>2349158</th>\n",
              "      <td>rakhi</td>\n",
              "      <td>United States</td>\n",
              "    </tr>\n",
              "    <tr>\n",
              "      <th>2349159</th>\n",
              "      <td>vicki5374</td>\n",
              "      <td>United States</td>\n",
              "    </tr>\n",
              "    <tr>\n",
              "      <th>2349161</th>\n",
              "      <td>jennifer5879</td>\n",
              "      <td>Canada</td>\n",
              "    </tr>\n",
              "    <tr>\n",
              "      <th>2349171</th>\n",
              "      <td>maria2141</td>\n",
              "      <td>United States</td>\n",
              "    </tr>\n",
              "    <tr>\n",
              "      <th>2349173</th>\n",
              "      <td>laurie1160</td>\n",
              "      <td>United States</td>\n",
              "    </tr>\n",
              "  </tbody>\n",
              "</table>\n",
              "<p>2349174 rows × 2 columns</p>\n",
              "</div>"
            ],
            "text/plain": [
              "                lenders   country_name\n",
              "0              qian3013  United States\n",
              "1             reena6733  United States\n",
              "2               mai5982  United States\n",
              "3        andrew86079135  United States\n",
              "4            nguyen6962  United States\n",
              "...                 ...            ...\n",
              "2349158           rakhi  United States\n",
              "2349159       vicki5374  United States\n",
              "2349161    jennifer5879         Canada\n",
              "2349171       maria2141  United States\n",
              "2349173      laurie1160  United States\n",
              "\n",
              "[2349174 rows x 2 columns]"
            ]
          },
          "metadata": {
            "tags": []
          },
          "execution_count": 96
        }
      ]
    },
    {
      "cell_type": "code",
      "metadata": {
        "id": "CtUvZnRIM6fK",
        "colab_type": "code",
        "colab": {}
      },
      "source": [
        "amount_lender_country = pd.merge(amountLender,lenders_country,how='inner',on='lenders')"
      ],
      "execution_count": 0,
      "outputs": []
    },
    {
      "cell_type": "code",
      "metadata": {
        "id": "_oanyZzzNsHs",
        "colab_type": "code",
        "colab": {}
      },
      "source": [
        "country_amountLent = amount_lender_country.groupby('country_name')['amount'].sum()"
      ],
      "execution_count": 0,
      "outputs": []
    },
    {
      "cell_type": "code",
      "metadata": {
        "id": "kQYRyRRQONjO",
        "colab_type": "code",
        "colab": {}
      },
      "source": [
        "country_amountLent = pd.DataFrame(country_amountLent).reset_index(level=0)"
      ],
      "execution_count": 0,
      "outputs": []
    },
    {
      "cell_type": "code",
      "metadata": {
        "id": "lCj1XgzfP82J",
        "colab_type": "code",
        "outputId": "f6960f01-a0ad-4991-d20e-39a4f3f95e37",
        "colab": {
          "base_uri": "https://localhost:8080/",
          "height": 195
        }
      },
      "source": [
        "country_amountLent.head()"
      ],
      "execution_count": 100,
      "outputs": [
        {
          "output_type": "execute_result",
          "data": {
            "text/html": [
              "<div>\n",
              "<style scoped>\n",
              "    .dataframe tbody tr th:only-of-type {\n",
              "        vertical-align: middle;\n",
              "    }\n",
              "\n",
              "    .dataframe tbody tr th {\n",
              "        vertical-align: top;\n",
              "    }\n",
              "\n",
              "    .dataframe thead th {\n",
              "        text-align: right;\n",
              "    }\n",
              "</style>\n",
              "<table border=\"1\" class=\"dataframe\">\n",
              "  <thead>\n",
              "    <tr style=\"text-align: right;\">\n",
              "      <th></th>\n",
              "      <th>country_name</th>\n",
              "      <th>amount</th>\n",
              "    </tr>\n",
              "  </thead>\n",
              "  <tbody>\n",
              "    <tr>\n",
              "      <th>0</th>\n",
              "      <td>Afghanistan</td>\n",
              "      <td>161266.34</td>\n",
              "    </tr>\n",
              "    <tr>\n",
              "      <th>1</th>\n",
              "      <td>Albania</td>\n",
              "      <td>53739.63</td>\n",
              "    </tr>\n",
              "    <tr>\n",
              "      <th>2</th>\n",
              "      <td>Algeria</td>\n",
              "      <td>152502.87</td>\n",
              "    </tr>\n",
              "    <tr>\n",
              "      <th>3</th>\n",
              "      <td>Angola</td>\n",
              "      <td>46443.26</td>\n",
              "    </tr>\n",
              "    <tr>\n",
              "      <th>4</th>\n",
              "      <td>Argentina</td>\n",
              "      <td>2796947.51</td>\n",
              "    </tr>\n",
              "  </tbody>\n",
              "</table>\n",
              "</div>"
            ],
            "text/plain": [
              "  country_name      amount\n",
              "0  Afghanistan   161266.34\n",
              "1      Albania    53739.63\n",
              "2      Algeria   152502.87\n",
              "3       Angola    46443.26\n",
              "4    Argentina  2796947.51"
            ]
          },
          "metadata": {
            "tags": []
          },
          "execution_count": 100
        }
      ]
    },
    {
      "cell_type": "code",
      "metadata": {
        "id": "wVPgQkNoOkJK",
        "colab_type": "code",
        "colab": {}
      },
      "source": [
        "country_amountLent.columns=['country','lent']"
      ],
      "execution_count": 0,
      "outputs": []
    },
    {
      "cell_type": "code",
      "metadata": {
        "id": "wUcLUl-HPmQY",
        "colab_type": "code",
        "outputId": "1bc97186-bbc0-4f1a-fcae-ef3f5315f320",
        "colab": {
          "base_uri": "https://localhost:8080/",
          "height": 34
        }
      },
      "source": [
        "country_amountLoan_perc.columns"
      ],
      "execution_count": 102,
      "outputs": [
        {
          "output_type": "execute_result",
          "data": {
            "text/plain": [
              "Index(['country', 'borrowed', 'percentage'], dtype='object')"
            ]
          },
          "metadata": {
            "tags": []
          },
          "execution_count": 102
        }
      ]
    },
    {
      "cell_type": "code",
      "metadata": {
        "id": "dT3pJyA0PNyD",
        "colab_type": "code",
        "colab": {}
      },
      "source": [
        "country_difference = pd.merge(country_amountLoan_perc,country_amountLent,how='inner',on='country')\n",
        "country_difference.drop(columns='percentage',inplace=True)"
      ],
      "execution_count": 0,
      "outputs": []
    },
    {
      "cell_type": "code",
      "metadata": {
        "id": "d-gDF0aBQRov",
        "colab_type": "code",
        "colab": {}
      },
      "source": [
        "country_difference['difference'] = country_difference['lent'] - country_difference['borrowed']"
      ],
      "execution_count": 0,
      "outputs": []
    },
    {
      "cell_type": "markdown",
      "metadata": {
        "id": "kuWe0iSvSKr2",
        "colab_type": "text"
      },
      "source": [
        "### Result"
      ]
    },
    {
      "cell_type": "code",
      "metadata": {
        "id": "dQ-seQmVRJ4X",
        "colab_type": "code",
        "outputId": "6067ee74-5e61-41d4-e69a-ab6b1e132bcb",
        "colab": {
          "base_uri": "https://localhost:8080/",
          "height": 195
        }
      },
      "source": [
        "country_difference.head()"
      ],
      "execution_count": 105,
      "outputs": [
        {
          "output_type": "execute_result",
          "data": {
            "text/html": [
              "<div>\n",
              "<style scoped>\n",
              "    .dataframe tbody tr th:only-of-type {\n",
              "        vertical-align: middle;\n",
              "    }\n",
              "\n",
              "    .dataframe tbody tr th {\n",
              "        vertical-align: top;\n",
              "    }\n",
              "\n",
              "    .dataframe thead th {\n",
              "        text-align: right;\n",
              "    }\n",
              "</style>\n",
              "<table border=\"1\" class=\"dataframe\">\n",
              "  <thead>\n",
              "    <tr style=\"text-align: right;\">\n",
              "      <th></th>\n",
              "      <th>country</th>\n",
              "      <th>borrowed</th>\n",
              "      <th>lent</th>\n",
              "      <th>difference</th>\n",
              "    </tr>\n",
              "  </thead>\n",
              "  <tbody>\n",
              "    <tr>\n",
              "      <th>0</th>\n",
              "      <td>Philippines</td>\n",
              "      <td>97045925.0</td>\n",
              "      <td>3190391.83</td>\n",
              "      <td>-93855533.17</td>\n",
              "    </tr>\n",
              "    <tr>\n",
              "      <th>1</th>\n",
              "      <td>Peru</td>\n",
              "      <td>78702800.0</td>\n",
              "      <td>210138.88</td>\n",
              "      <td>-78492661.12</td>\n",
              "    </tr>\n",
              "    <tr>\n",
              "      <th>2</th>\n",
              "      <td>Kenya</td>\n",
              "      <td>63650255.0</td>\n",
              "      <td>619401.25</td>\n",
              "      <td>-63030853.75</td>\n",
              "    </tr>\n",
              "    <tr>\n",
              "      <th>3</th>\n",
              "      <td>Paraguay</td>\n",
              "      <td>53715200.0</td>\n",
              "      <td>66041.90</td>\n",
              "      <td>-53649158.10</td>\n",
              "    </tr>\n",
              "    <tr>\n",
              "      <th>4</th>\n",
              "      <td>Cambodia</td>\n",
              "      <td>50829425.0</td>\n",
              "      <td>211303.13</td>\n",
              "      <td>-50618121.87</td>\n",
              "    </tr>\n",
              "  </tbody>\n",
              "</table>\n",
              "</div>"
            ],
            "text/plain": [
              "       country    borrowed        lent   difference\n",
              "0  Philippines  97045925.0  3190391.83 -93855533.17\n",
              "1         Peru  78702800.0   210138.88 -78492661.12\n",
              "2        Kenya  63650255.0   619401.25 -63030853.75\n",
              "3     Paraguay  53715200.0    66041.90 -53649158.10\n",
              "4     Cambodia  50829425.0   211303.13 -50618121.87"
            ]
          },
          "metadata": {
            "tags": []
          },
          "execution_count": 105
        }
      ]
    },
    {
      "cell_type": "markdown",
      "metadata": {
        "id": "E016hO4SSo90",
        "colab_type": "text"
      },
      "source": [
        "## Task 10\n",
        "- Which country has the highest ratio between the difference computed at the previous point and the population?"
      ]
    },
    {
      "cell_type": "code",
      "metadata": {
        "id": "j2ZuZec_SvWW",
        "colab_type": "code",
        "colab": {}
      },
      "source": [
        "country_info_10 = country_info[['country_name','population']]"
      ],
      "execution_count": 0,
      "outputs": []
    },
    {
      "cell_type": "code",
      "metadata": {
        "id": "JuW1STYUWNKD",
        "colab_type": "code",
        "colab": {}
      },
      "source": [
        "country_difference = pd.merge(country_difference,country_info_10,how='inner',left_on='country',right_on='country_name')"
      ],
      "execution_count": 0,
      "outputs": []
    },
    {
      "cell_type": "code",
      "metadata": {
        "id": "THVkYp_AWs41",
        "colab_type": "code",
        "colab": {}
      },
      "source": [
        "country_difference.drop(columns='country_name',inplace=True)"
      ],
      "execution_count": 0,
      "outputs": []
    },
    {
      "cell_type": "code",
      "metadata": {
        "id": "csHfXtedW7-u",
        "colab_type": "code",
        "colab": {}
      },
      "source": [
        "country_difference['ratio']= country_difference['difference'] / country_difference['population']"
      ],
      "execution_count": 0,
      "outputs": []
    },
    {
      "cell_type": "code",
      "metadata": {
        "id": "9LYSteqRXqLI",
        "colab_type": "code",
        "colab": {}
      },
      "source": [
        "highest_ratio = country_difference.sort_values(by='ratio',ascending=False)"
      ],
      "execution_count": 0,
      "outputs": []
    },
    {
      "cell_type": "markdown",
      "metadata": {
        "id": "7f4N-vN2ZBYd",
        "colab_type": "text"
      },
      "source": [
        "### Result"
      ]
    },
    {
      "cell_type": "code",
      "metadata": {
        "id": "BOxgKgknYStd",
        "colab_type": "code",
        "outputId": "001900bb-d2d1-482b-d235-761aec858f3e",
        "colab": {
          "base_uri": "https://localhost:8080/",
          "height": 34
        }
      },
      "source": [
        "print(\"Country highest ratio: \"+highest_ratio.iloc[0]['country'])"
      ],
      "execution_count": 111,
      "outputs": [
        {
          "output_type": "stream",
          "text": [
            "Country highest ratio: Canada\n"
          ],
          "name": "stdout"
        }
      ]
    },
    {
      "cell_type": "markdown",
      "metadata": {
        "id": "TwmrNqtfYxJk",
        "colab_type": "text"
      },
      "source": [
        "## Task 11\n",
        "- Which country has the highest ratio between the difference computed at point 9 and the population that is not below the poverty line?"
      ]
    },
    {
      "cell_type": "code",
      "metadata": {
        "id": "jCyT8mplYvEP",
        "colab_type": "code",
        "colab": {}
      },
      "source": [
        "country_info_11=country_info[['country_name','population','population_below_poverty_line']]"
      ],
      "execution_count": 0,
      "outputs": []
    },
    {
      "cell_type": "code",
      "metadata": {
        "id": "wNXSsVSzaGa8",
        "colab_type": "code",
        "outputId": "c3c86dc2-fff9-4ddf-ccfc-f1bebb668657",
        "colab": {
          "base_uri": "https://localhost:8080/",
          "height": 34
        }
      },
      "source": [
        "media = country_info_11['population_below_poverty_line'].mean()\n",
        "media"
      ],
      "execution_count": 113,
      "outputs": [
        {
          "output_type": "execute_result",
          "data": {
            "text/plain": [
              "28.47697368421052"
            ]
          },
          "metadata": {
            "tags": []
          },
          "execution_count": 113
        }
      ]
    },
    {
      "cell_type": "code",
      "metadata": {
        "id": "UmtRUo9XeK84",
        "colab_type": "code",
        "outputId": "aa3103e1-3b6f-4f53-d492-f97eb6a1c598",
        "colab": {
          "base_uri": "https://localhost:8080/",
          "height": 252
        }
      },
      "source": [
        "country_info_11[country_info_11['population_below_poverty_line']> media]['country_name'].unique()"
      ],
      "execution_count": 114,
      "outputs": [
        {
          "output_type": "execute_result",
          "data": {
            "text/plain": [
              "array(['Nigeria', 'Mexico', 'Pakistan', 'Bangladesh',\n",
              "       'Democratic Republic of the Congo', 'Ethiopia', 'Kenya', 'Sudan',\n",
              "       'Madagascar', 'Italy', 'Yemen', 'Syria', 'Argentina', 'Mozambique',\n",
              "       'Afghanistan', 'Angola', 'Zimbabwe', 'Ivory Coast', 'Zambia',\n",
              "       'Guatemala', 'Niger', 'Malawi', 'Burkina Faso', 'Senegal',\n",
              "       'Cameroon', 'Burundi', 'Chad', 'Mali', 'Haiti', 'South Sudan',\n",
              "       'Guinea', 'Sierra Leone', 'Rwanda', 'Togo', 'Bolivia', 'Benin',\n",
              "       'Greece', 'Dominican Republic', 'Papua New Guinea', 'Tajikistan',\n",
              "       'Honduras', 'Liberia', 'Eritrea', 'Congo', 'El Salvador', 'Libya',\n",
              "       'Kyrgyzstan', 'Nicaragua', 'Lebanon', 'Mauritania', 'Lesotho',\n",
              "       'Guinea-Bissau', 'Gambia', 'Armenia', 'Swaziland', 'Namibia',\n",
              "       'Gabon', 'Botswana', 'Equatorial Guinea', 'Timor-Leste',\n",
              "       'Suriname', 'Comoros', 'Fiji', 'Guyana', 'Belize', 'Kosovo'],\n",
              "      dtype=object)"
            ]
          },
          "metadata": {
            "tags": []
          },
          "execution_count": 114
        }
      ]
    },
    {
      "cell_type": "code",
      "metadata": {
        "id": "Iwfcx6Dsek-J",
        "colab_type": "code",
        "outputId": "0fc16835-23f9-40eb-cf4e-9e0fae46b105",
        "colab": {
          "base_uri": "https://localhost:8080/",
          "height": 101
        }
      },
      "source": [
        "country_info_11[country_info_11['population_below_poverty_line']> 50]['country_name'].unique()"
      ],
      "execution_count": 115,
      "outputs": [
        {
          "output_type": "execute_result",
          "data": {
            "text/plain": [
              "array(['Nigeria', 'Democratic Republic of the Congo', 'Madagascar',\n",
              "       'Yemen', 'Syria', 'Zimbabwe', 'Zambia', 'Guatemala', 'Malawi',\n",
              "       'Burundi', 'Haiti', 'South Sudan', 'Sierra Leone', 'Togo',\n",
              "       'Liberia', 'Lesotho', 'Guinea-Bissau', 'Swaziland', 'Suriname'],\n",
              "      dtype=object)"
            ]
          },
          "metadata": {
            "tags": []
          },
          "execution_count": 115
        }
      ]
    },
    {
      "cell_type": "code",
      "metadata": {
        "id": "i_XuRvDugGlF",
        "colab_type": "code",
        "colab": {}
      },
      "source": [
        "valori = country_info_11['population_below_poverty_line']"
      ],
      "execution_count": 0,
      "outputs": []
    },
    {
      "cell_type": "code",
      "metadata": {
        "id": "G0J5oPS0miCH",
        "colab_type": "code",
        "colab": {}
      },
      "source": [
        "valori = pd.DataFrame(valori)\n",
        "valori = valori.dropna()"
      ],
      "execution_count": 0,
      "outputs": []
    },
    {
      "cell_type": "code",
      "metadata": {
        "id": "Zu0sh692oELL",
        "colab_type": "code",
        "outputId": "0113adaa-0b05-47a7-dd4c-fb42e55b1d45",
        "colab": {
          "base_uri": "https://localhost:8080/",
          "height": 84
        }
      },
      "source": [
        "quantili = valori.population_below_poverty_line.quantile([0.25,0.5,0.75])\n",
        "first_quantile=quantili.iloc[0]\n",
        "third_quantile=quantili.iloc[2]\n",
        "quantili"
      ],
      "execution_count": 118,
      "outputs": [
        {
          "output_type": "execute_result",
          "data": {
            "text/plain": [
              "0.25    15.100\n",
              "0.50    23.000\n",
              "0.75    38.725\n",
              "Name: population_below_poverty_line, dtype: float64"
            ]
          },
          "metadata": {
            "tags": []
          },
          "execution_count": 118
        }
      ]
    },
    {
      "cell_type": "code",
      "metadata": {
        "id": "AxPc1X38nlUu",
        "colab_type": "code",
        "outputId": "6002e95d-ab95-4b0c-c968-01c4f54b26e1",
        "colab": {
          "base_uri": "https://localhost:8080/",
          "height": 283
        }
      },
      "source": [
        "valori.boxplot(column='population_below_poverty_line')"
      ],
      "execution_count": 119,
      "outputs": [
        {
          "output_type": "execute_result",
          "data": {
            "text/plain": [
              "<matplotlib.axes._subplots.AxesSubplot at 0x7f9ad6c81978>"
            ]
          },
          "metadata": {
            "tags": []
          },
          "execution_count": 119
        },
        {
          "output_type": "display_data",
          "data": {
            "image/png": "[encoded data removed]",
            "text/plain": [
              "<Figure size 432x288 with 1 Axes>"
            ]
          },
          "metadata": {
            "tags": []
          }
        }
      ]
    },
    {
      "cell_type": "code",
      "metadata": {
        "id": "mw2vbPqDgdhc",
        "colab_type": "code",
        "outputId": "7bf620a4-07ea-4e9c-bb2e-0223123fed79",
        "colab": {
          "base_uri": "https://localhost:8080/",
          "height": 353
        }
      },
      "source": [
        "stringa='Media: '+str(media)\n",
        "\n",
        "fig = plt.figure(figsize=(10,5))\n",
        "plt.hist(valori['population_below_poverty_line'],bins='auto',rwidth=0.9)\n",
        "plt.text(50, 30, stringa)\n",
        "plt.title(\"Distribution poverty line\")"
      ],
      "execution_count": 120,
      "outputs": [
        {
          "output_type": "execute_result",
          "data": {
            "text/plain": [
              "Text(0.5, 1.0, 'Distribution poverty line')"
            ]
          },
          "metadata": {
            "tags": []
          },
          "execution_count": 120
        },
        {
          "output_type": "display_data",
          "data": {
            "image/png": "[encoded data removed]",
            "text/plain": [
              "<Figure size 720x360 with 1 Axes>"
            ]
          },
          "metadata": {
            "tags": []
          }
        }
      ]
    },
    {
      "cell_type": "code",
      "metadata": {
        "id": "m-Nvmjmkjkyi",
        "colab_type": "code",
        "colab": {}
      },
      "source": [
        "country_info_11 = country_info_11[country_info_11['population_below_poverty_line']<50]"
      ],
      "execution_count": 0,
      "outputs": []
    },
    {
      "cell_type": "code",
      "metadata": {
        "id": "eyXaVrBpj_xg",
        "colab_type": "code",
        "colab": {}
      },
      "source": [
        "country_difference_ratio = pd.merge(country_difference,country_info_11,how='inner',left_on='country',right_on='country_name')"
      ],
      "execution_count": 0,
      "outputs": []
    },
    {
      "cell_type": "code",
      "metadata": {
        "id": "LVuPD047lMJA",
        "colab_type": "code",
        "colab": {}
      },
      "source": [
        "country_difference_ratio.drop(columns=['country_name','population_y'],inplace=True)"
      ],
      "execution_count": 0,
      "outputs": []
    },
    {
      "cell_type": "code",
      "metadata": {
        "id": "tUJuiWaUlbNo",
        "colab_type": "code",
        "outputId": "6f198805-4a03-4241-8e38-864fa69b0b3d",
        "colab": {
          "base_uri": "https://localhost:8080/",
          "height": 402
        }
      },
      "source": [
        "country_difference_ratio"
      ],
      "execution_count": 124,
      "outputs": [
        {
          "output_type": "execute_result",
          "data": {
            "text/html": [
              "<div>\n",
              "<style scoped>\n",
              "    .dataframe tbody tr th:only-of-type {\n",
              "        vertical-align: middle;\n",
              "    }\n",
              "\n",
              "    .dataframe tbody tr th {\n",
              "        vertical-align: top;\n",
              "    }\n",
              "\n",
              "    .dataframe thead th {\n",
              "        text-align: right;\n",
              "    }\n",
              "</style>\n",
              "<table border=\"1\" class=\"dataframe\">\n",
              "  <thead>\n",
              "    <tr style=\"text-align: right;\">\n",
              "      <th></th>\n",
              "      <th>country</th>\n",
              "      <th>borrowed</th>\n",
              "      <th>lent</th>\n",
              "      <th>difference</th>\n",
              "      <th>population_x</th>\n",
              "      <th>ratio</th>\n",
              "      <th>population_below_poverty_line</th>\n",
              "    </tr>\n",
              "  </thead>\n",
              "  <tbody>\n",
              "    <tr>\n",
              "      <th>0</th>\n",
              "      <td>Philippines</td>\n",
              "      <td>97045925.0</td>\n",
              "      <td>3190391.83</td>\n",
              "      <td>-93855533.17</td>\n",
              "      <td>104918090</td>\n",
              "      <td>-0.894560</td>\n",
              "      <td>21.6</td>\n",
              "    </tr>\n",
              "    <tr>\n",
              "      <th>1</th>\n",
              "      <td>Peru</td>\n",
              "      <td>78702800.0</td>\n",
              "      <td>210138.88</td>\n",
              "      <td>-78492661.12</td>\n",
              "      <td>32165485</td>\n",
              "      <td>-2.440276</td>\n",
              "      <td>22.7</td>\n",
              "    </tr>\n",
              "    <tr>\n",
              "      <th>2</th>\n",
              "      <td>Kenya</td>\n",
              "      <td>63650255.0</td>\n",
              "      <td>619401.25</td>\n",
              "      <td>-63030853.75</td>\n",
              "      <td>49699862</td>\n",
              "      <td>-1.268230</td>\n",
              "      <td>43.4</td>\n",
              "    </tr>\n",
              "    <tr>\n",
              "      <th>3</th>\n",
              "      <td>Paraguay</td>\n",
              "      <td>53715200.0</td>\n",
              "      <td>66041.90</td>\n",
              "      <td>-53649158.10</td>\n",
              "      <td>6811297</td>\n",
              "      <td>-7.876497</td>\n",
              "      <td>22.2</td>\n",
              "    </tr>\n",
              "    <tr>\n",
              "      <th>4</th>\n",
              "      <td>Cambodia</td>\n",
              "      <td>50829425.0</td>\n",
              "      <td>211303.13</td>\n",
              "      <td>-50618121.87</td>\n",
              "      <td>16005373</td>\n",
              "      <td>-3.162571</td>\n",
              "      <td>17.7</td>\n",
              "    </tr>\n",
              "    <tr>\n",
              "      <th>...</th>\n",
              "      <td>...</td>\n",
              "      <td>...</td>\n",
              "      <td>...</td>\n",
              "      <td>...</td>\n",
              "      <td>...</td>\n",
              "      <td>...</td>\n",
              "      <td>...</td>\n",
              "    </tr>\n",
              "    <tr>\n",
              "      <th>59</th>\n",
              "      <td>Papua New Guinea</td>\n",
              "      <td>50000.0</td>\n",
              "      <td>12728.95</td>\n",
              "      <td>-37271.05</td>\n",
              "      <td>8251162</td>\n",
              "      <td>-0.004517</td>\n",
              "      <td>37.0</td>\n",
              "    </tr>\n",
              "    <tr>\n",
              "      <th>60</th>\n",
              "      <td>Bhutan</td>\n",
              "      <td>15625.0</td>\n",
              "      <td>3205.37</td>\n",
              "      <td>-12419.63</td>\n",
              "      <td>807610</td>\n",
              "      <td>-0.015378</td>\n",
              "      <td>13.3</td>\n",
              "    </tr>\n",
              "    <tr>\n",
              "      <th>61</th>\n",
              "      <td>Mauritania</td>\n",
              "      <td>15000.0</td>\n",
              "      <td>269.49</td>\n",
              "      <td>-14730.51</td>\n",
              "      <td>4420184</td>\n",
              "      <td>-0.003333</td>\n",
              "      <td>31.0</td>\n",
              "    </tr>\n",
              "    <tr>\n",
              "      <th>62</th>\n",
              "      <td>Botswana</td>\n",
              "      <td>8000.0</td>\n",
              "      <td>23897.32</td>\n",
              "      <td>15897.32</td>\n",
              "      <td>2291661</td>\n",
              "      <td>0.006937</td>\n",
              "      <td>30.3</td>\n",
              "    </tr>\n",
              "    <tr>\n",
              "      <th>63</th>\n",
              "      <td>Uruguay</td>\n",
              "      <td>8000.0</td>\n",
              "      <td>125742.18</td>\n",
              "      <td>117742.18</td>\n",
              "      <td>3456750</td>\n",
              "      <td>0.034062</td>\n",
              "      <td>9.7</td>\n",
              "    </tr>\n",
              "  </tbody>\n",
              "</table>\n",
              "<p>64 rows × 7 columns</p>\n",
              "</div>"
            ],
            "text/plain": [
              "             country    borrowed  ...     ratio  population_below_poverty_line\n",
              "0        Philippines  97045925.0  ... -0.894560                           21.6\n",
              "1               Peru  78702800.0  ... -2.440276                           22.7\n",
              "2              Kenya  63650255.0  ... -1.268230                           43.4\n",
              "3           Paraguay  53715200.0  ... -7.876497                           22.2\n",
              "4           Cambodia  50829425.0  ... -3.162571                           17.7\n",
              "..               ...         ...  ...       ...                            ...\n",
              "59  Papua New Guinea     50000.0  ... -0.004517                           37.0\n",
              "60            Bhutan     15625.0  ... -0.015378                           13.3\n",
              "61        Mauritania     15000.0  ... -0.003333                           31.0\n",
              "62          Botswana      8000.0  ...  0.006937                           30.3\n",
              "63           Uruguay      8000.0  ...  0.034062                            9.7\n",
              "\n",
              "[64 rows x 7 columns]"
            ]
          },
          "metadata": {
            "tags": []
          },
          "execution_count": 124
        }
      ]
    },
    {
      "cell_type": "markdown",
      "metadata": {
        "id": "ylHGoTKiFuTI",
        "colab_type": "text"
      },
      "source": [
        "### Result"
      ]
    },
    {
      "cell_type": "code",
      "metadata": {
        "id": "OFSsYBrCljZb",
        "colab_type": "code",
        "outputId": "3d776946-1063-4aa7-b2ff-12471d71f589",
        "colab": {
          "base_uri": "https://localhost:8080/",
          "height": 34
        }
      },
      "source": [
        "highest_ratio_notPoverty = country_difference_ratio.sort_values(by='ratio',ascending=False)\n",
        "print(\"Country highest ratio with constraint: \"+highest_ratio.iloc[0]['country'])"
      ],
      "execution_count": 125,
      "outputs": [
        {
          "output_type": "stream",
          "text": [
            "Country highest ratio with constraint: Canada\n"
          ],
          "name": "stdout"
        }
      ]
    },
    {
      "cell_type": "markdown",
      "metadata": {
        "id": "MLK9_JPhHGBm",
        "colab_type": "text"
      },
      "source": [
        "## Task 12\n",
        "- For each year, compute the total amount of loans. Each loan that has planned expiration time and disburse time in different years must have its amount distributed proportionally to the number of days in each year. For example, a loan with disburse time December 1st, 2016, planned expiration time January 30th 2018, and amount 5000USD has an amount of 5000USD * 31 / (31+365+30) = 363.85 for 2016, 5000USD * 365 / (31+365+30) = 4284.04 for 2017, and 5000USD * 30 / (31+365+30) = 352.11 for 2018."
      ]
    },
    {
      "cell_type": "code",
      "metadata": {
        "id": "2RhZoCgNHLbs",
        "colab_type": "code",
        "colab": {}
      },
      "source": [
        "loanYear.columns = ['loan_id','country','disburse_time','planned_expiration_time','duration',\n",
        "                    'funded_amount','loan_amount','currency','year_disburse']"
      ],
      "execution_count": 0,
      "outputs": []
    },
    {
      "cell_type": "code",
      "metadata": {
        "id": "SizItcQ4L_6a",
        "colab_type": "code",
        "colab": {}
      },
      "source": [
        "loanYear = loanYear[loanYear['duration']>0]"
      ],
      "execution_count": 0,
      "outputs": []
    },
    {
      "cell_type": "code",
      "metadata": {
        "id": "S1p7HHloSL5V",
        "colab_type": "code",
        "colab": {}
      },
      "source": [
        "loanYear['currency'] = loanYear.apply(lambda x: str(x['currency']),axis=1)"
      ],
      "execution_count": 0,
      "outputs": []
    },
    {
      "cell_type": "code",
      "metadata": {
        "id": "NyApmxhaVpkv",
        "colab_type": "code",
        "outputId": "0345bf8d-ef61-4ebe-b317-4334127f13ff",
        "colab": {
          "base_uri": "https://localhost:8080/",
          "height": 151
        }
      },
      "source": [
        "loanYear['currency'].unique()"
      ],
      "execution_count": 129,
      "outputs": [
        {
          "output_type": "execute_result",
          "data": {
            "text/plain": [
              "array(['PHP', 'HNL', 'PKR', 'KGS', 'USD', 'BIF', 'XOF', 'MNT', 'PEN',\n",
              "       'AMD', 'GHS', 'TZS', 'GTQ', 'PYG', 'NIO', 'KES', 'UGX', 'RWF',\n",
              "       'MZN', 'AZN', 'ILS', 'TJS', 'MXN', 'IDR', 'MGA', 'BOB', 'VND',\n",
              "       'COP', 'JOD', 'YER', 'INR', 'CLP', 'KHR', 'ALL', 'NPR', 'SLL',\n",
              "       'LBP', 'XAF', 'WST', 'DOP', 'LRD', 'LAK', 'MMK', 'GEL', 'HTG',\n",
              "       'UAH', 'EUR', 'ZAR', 'SDG', 'CRC', 'TRY', 'EGP', 'ZMW', 'ZMK',\n",
              "       'BZD', 'MWK', 'SRD', 'SSP', 'NGN', 'SBD', 'MDL', 'CNY', 'BRL',\n",
              "       'LSL', 'THB', 'NAD', 'VUV', 'XCD', 'ZWD'], dtype=object)"
            ]
          },
          "metadata": {
            "tags": []
          },
          "execution_count": 129
        }
      ]
    },
    {
      "cell_type": "markdown",
      "metadata": {
        "id": "gvAo8Z8BMvhR",
        "colab_type": "text"
      },
      "source": [
        "### Conversion amount loan from change country to USD"
      ]
    },
    {
      "cell_type": "code",
      "metadata": {
        "id": "aTx8BZKaQqhe",
        "colab_type": "code",
        "colab": {}
      },
      "source": [
        "global currency_list"
      ],
      "execution_count": 0,
      "outputs": []
    },
    {
      "cell_type": "code",
      "metadata": {
        "id": "b4cdNHrpd1yA",
        "colab_type": "code",
        "colab": {}
      },
      "source": [
        "currency_object = CurrencyRates()\n",
        "currency_list = currency_object.get_rates('USD')"
      ],
      "execution_count": 0,
      "outputs": []
    },
    {
      "cell_type": "code",
      "metadata": {
        "id": "55p6zS_pXWth",
        "colab_type": "code",
        "colab": {}
      },
      "source": [
        "'''def conversion_toUSD(currency, amount, date):\n",
        "  currency_result = currency_object.convert(currency,'USD',amount,date)\n",
        "  return round(currency_result,2)'''"
      ],
      "execution_count": 0,
      "outputs": []
    },
    {
      "cell_type": "code",
      "metadata": {
        "id": "95f2hhDjyDtF",
        "colab_type": "code",
        "outputId": "8b3b52a5-43c3-45fd-dc90-5d6ea04e1f9e",
        "colab": {
          "base_uri": "https://localhost:8080/",
          "height": 195
        }
      },
      "source": [
        "loanYear.head()"
      ],
      "execution_count": 132,
      "outputs": [
        {
          "output_type": "execute_result",
          "data": {
            "text/html": [
              "<div>\n",
              "<style scoped>\n",
              "    .dataframe tbody tr th:only-of-type {\n",
              "        vertical-align: middle;\n",
              "    }\n",
              "\n",
              "    .dataframe tbody tr th {\n",
              "        vertical-align: top;\n",
              "    }\n",
              "\n",
              "    .dataframe thead th {\n",
              "        text-align: right;\n",
              "    }\n",
              "</style>\n",
              "<table border=\"1\" class=\"dataframe\">\n",
              "  <thead>\n",
              "    <tr style=\"text-align: right;\">\n",
              "      <th></th>\n",
              "      <th>loan_id</th>\n",
              "      <th>country</th>\n",
              "      <th>disburse_time</th>\n",
              "      <th>planned_expiration_time</th>\n",
              "      <th>duration</th>\n",
              "      <th>funded_amount</th>\n",
              "      <th>loan_amount</th>\n",
              "      <th>currency</th>\n",
              "      <th>year_disburse</th>\n",
              "    </tr>\n",
              "  </thead>\n",
              "  <tbody>\n",
              "    <tr>\n",
              "      <th>0</th>\n",
              "      <td>657307</td>\n",
              "      <td>Philippines</td>\n",
              "      <td>2013-12-22 08:00:00.000 +0000</td>\n",
              "      <td>2014-02-14 03:30:06.000 +0000</td>\n",
              "      <td>53.0</td>\n",
              "      <td>125.0</td>\n",
              "      <td>125.0</td>\n",
              "      <td>PHP</td>\n",
              "      <td>2013</td>\n",
              "    </tr>\n",
              "    <tr>\n",
              "      <th>1</th>\n",
              "      <td>657259</td>\n",
              "      <td>Honduras</td>\n",
              "      <td>2013-12-20 08:00:00.000 +0000</td>\n",
              "      <td>2014-03-26 22:25:07.000 +0000</td>\n",
              "      <td>96.0</td>\n",
              "      <td>400.0</td>\n",
              "      <td>400.0</td>\n",
              "      <td>HNL</td>\n",
              "      <td>2013</td>\n",
              "    </tr>\n",
              "    <tr>\n",
              "      <th>2</th>\n",
              "      <td>658010</td>\n",
              "      <td>Pakistan</td>\n",
              "      <td>2014-01-09 08:00:00.000 +0000</td>\n",
              "      <td>2014-02-15 21:10:05.000 +0000</td>\n",
              "      <td>37.0</td>\n",
              "      <td>400.0</td>\n",
              "      <td>400.0</td>\n",
              "      <td>PKR</td>\n",
              "      <td>2014</td>\n",
              "    </tr>\n",
              "    <tr>\n",
              "      <th>3</th>\n",
              "      <td>659347</td>\n",
              "      <td>Kyrgyzstan</td>\n",
              "      <td>2014-01-17 08:00:00.000 +0000</td>\n",
              "      <td>2014-02-21 03:10:02.000 +0000</td>\n",
              "      <td>34.0</td>\n",
              "      <td>625.0</td>\n",
              "      <td>625.0</td>\n",
              "      <td>KGS</td>\n",
              "      <td>2014</td>\n",
              "    </tr>\n",
              "    <tr>\n",
              "      <th>4</th>\n",
              "      <td>656933</td>\n",
              "      <td>Philippines</td>\n",
              "      <td>2013-12-17 08:00:00.000 +0000</td>\n",
              "      <td>2014-02-13 06:10:02.000 +0000</td>\n",
              "      <td>57.0</td>\n",
              "      <td>425.0</td>\n",
              "      <td>425.0</td>\n",
              "      <td>PHP</td>\n",
              "      <td>2013</td>\n",
              "    </tr>\n",
              "  </tbody>\n",
              "</table>\n",
              "</div>"
            ],
            "text/plain": [
              "   loan_id      country  ... currency year_disburse\n",
              "0   657307  Philippines  ...      PHP          2013\n",
              "1   657259     Honduras  ...      HNL          2013\n",
              "2   658010     Pakistan  ...      PKR          2014\n",
              "3   659347   Kyrgyzstan  ...      KGS          2014\n",
              "4   656933  Philippines  ...      PHP          2013\n",
              "\n",
              "[5 rows x 9 columns]"
            ]
          },
          "metadata": {
            "tags": []
          },
          "execution_count": 132
        }
      ]
    },
    {
      "cell_type": "code",
      "metadata": {
        "id": "anZR3UYXF8vw",
        "colab_type": "code",
        "colab": {}
      },
      "source": [
        "loanYear['disburse_time'] = loanYear.apply(lambda x: datetime.strptime(x['disburse_time'][:-10],\"%Y-%m-%d %H:%M:%S\"),axis=1)"
      ],
      "execution_count": 0,
      "outputs": []
    },
    {
      "cell_type": "code",
      "metadata": {
        "id": "mXqRlxpXHcg0",
        "colab_type": "code",
        "colab": {}
      },
      "source": [
        "loanYear['planned_expiration_time'] = loanYear.apply(lambda x: datetime.strptime(x['planned_expiration_time'][:-10],\"%Y-%m-%d %H:%M:%S\"),axis=1)"
      ],
      "execution_count": 0,
      "outputs": []
    },
    {
      "cell_type": "code",
      "metadata": {
        "id": "bLn4MJiUHtC5",
        "colab_type": "code",
        "outputId": "bf877251-ae34-40e0-c286-7c922d06794d",
        "colab": {
          "base_uri": "https://localhost:8080/",
          "height": 195
        }
      },
      "source": [
        "loanYear.head()"
      ],
      "execution_count": 135,
      "outputs": [
        {
          "output_type": "execute_result",
          "data": {
            "text/html": [
              "<div>\n",
              "<style scoped>\n",
              "    .dataframe tbody tr th:only-of-type {\n",
              "        vertical-align: middle;\n",
              "    }\n",
              "\n",
              "    .dataframe tbody tr th {\n",
              "        vertical-align: top;\n",
              "    }\n",
              "\n",
              "    .dataframe thead th {\n",
              "        text-align: right;\n",
              "    }\n",
              "</style>\n",
              "<table border=\"1\" class=\"dataframe\">\n",
              "  <thead>\n",
              "    <tr style=\"text-align: right;\">\n",
              "      <th></th>\n",
              "      <th>loan_id</th>\n",
              "      <th>country</th>\n",
              "      <th>disburse_time</th>\n",
              "      <th>planned_expiration_time</th>\n",
              "      <th>duration</th>\n",
              "      <th>funded_amount</th>\n",
              "      <th>loan_amount</th>\n",
              "      <th>currency</th>\n",
              "      <th>year_disburse</th>\n",
              "    </tr>\n",
              "  </thead>\n",
              "  <tbody>\n",
              "    <tr>\n",
              "      <th>0</th>\n",
              "      <td>657307</td>\n",
              "      <td>Philippines</td>\n",
              "      <td>2013-12-22 08:00:00</td>\n",
              "      <td>2014-02-14 03:30:06</td>\n",
              "      <td>53.0</td>\n",
              "      <td>125.0</td>\n",
              "      <td>125.0</td>\n",
              "      <td>PHP</td>\n",
              "      <td>2013</td>\n",
              "    </tr>\n",
              "    <tr>\n",
              "      <th>1</th>\n",
              "      <td>657259</td>\n",
              "      <td>Honduras</td>\n",
              "      <td>2013-12-20 08:00:00</td>\n",
              "      <td>2014-03-26 22:25:07</td>\n",
              "      <td>96.0</td>\n",
              "      <td>400.0</td>\n",
              "      <td>400.0</td>\n",
              "      <td>HNL</td>\n",
              "      <td>2013</td>\n",
              "    </tr>\n",
              "    <tr>\n",
              "      <th>2</th>\n",
              "      <td>658010</td>\n",
              "      <td>Pakistan</td>\n",
              "      <td>2014-01-09 08:00:00</td>\n",
              "      <td>2014-02-15 21:10:05</td>\n",
              "      <td>37.0</td>\n",
              "      <td>400.0</td>\n",
              "      <td>400.0</td>\n",
              "      <td>PKR</td>\n",
              "      <td>2014</td>\n",
              "    </tr>\n",
              "    <tr>\n",
              "      <th>3</th>\n",
              "      <td>659347</td>\n",
              "      <td>Kyrgyzstan</td>\n",
              "      <td>2014-01-17 08:00:00</td>\n",
              "      <td>2014-02-21 03:10:02</td>\n",
              "      <td>34.0</td>\n",
              "      <td>625.0</td>\n",
              "      <td>625.0</td>\n",
              "      <td>KGS</td>\n",
              "      <td>2014</td>\n",
              "    </tr>\n",
              "    <tr>\n",
              "      <th>4</th>\n",
              "      <td>656933</td>\n",
              "      <td>Philippines</td>\n",
              "      <td>2013-12-17 08:00:00</td>\n",
              "      <td>2014-02-13 06:10:02</td>\n",
              "      <td>57.0</td>\n",
              "      <td>425.0</td>\n",
              "      <td>425.0</td>\n",
              "      <td>PHP</td>\n",
              "      <td>2013</td>\n",
              "    </tr>\n",
              "  </tbody>\n",
              "</table>\n",
              "</div>"
            ],
            "text/plain": [
              "   loan_id      country  ... currency year_disburse\n",
              "0   657307  Philippines  ...      PHP          2013\n",
              "1   657259     Honduras  ...      HNL          2013\n",
              "2   658010     Pakistan  ...      PKR          2014\n",
              "3   659347   Kyrgyzstan  ...      KGS          2014\n",
              "4   656933  Philippines  ...      PHP          2013\n",
              "\n",
              "[5 rows x 9 columns]"
            ]
          },
          "metadata": {
            "tags": []
          },
          "execution_count": 135
        }
      ]
    },
    {
      "cell_type": "code",
      "metadata": {
        "id": "tL7JpdqB1KPh",
        "colab_type": "code",
        "colab": {}
      },
      "source": [
        "currency_included = pd.DataFrame(loanYear['currency'].unique())\n",
        "currency_included.columns=['currency']"
      ],
      "execution_count": 0,
      "outputs": []
    },
    {
      "cell_type": "code",
      "metadata": {
        "id": "ikMC1kyNEHlc",
        "colab_type": "code",
        "colab": {}
      },
      "source": [
        "def check_currency(currency):\n",
        "  if currency not in currency_list or currency=='USD':\n",
        "    conv = False\n",
        "  else:\n",
        "    conv = True\n",
        "  return conv"
      ],
      "execution_count": 0,
      "outputs": []
    },
    {
      "cell_type": "code",
      "metadata": {
        "id": "_xmeVaoqJDor",
        "colab_type": "code",
        "colab": {}
      },
      "source": [
        "currency_included['conversion'] = currency_included.apply(lambda x: check_currency(x['currency']),axis=1)"
      ],
      "execution_count": 0,
      "outputs": []
    },
    {
      "cell_type": "code",
      "metadata": {
        "id": "Ifd-vLjDJc49",
        "colab_type": "code",
        "outputId": "65ef3ef7-726c-49c2-8c84-390a6e916832",
        "colab": {
          "base_uri": "https://localhost:8080/",
          "height": 195
        }
      },
      "source": [
        "currency_included.head()"
      ],
      "execution_count": 139,
      "outputs": [
        {
          "output_type": "execute_result",
          "data": {
            "text/html": [
              "<div>\n",
              "<style scoped>\n",
              "    .dataframe tbody tr th:only-of-type {\n",
              "        vertical-align: middle;\n",
              "    }\n",
              "\n",
              "    .dataframe tbody tr th {\n",
              "        vertical-align: top;\n",
              "    }\n",
              "\n",
              "    .dataframe thead th {\n",
              "        text-align: right;\n",
              "    }\n",
              "</style>\n",
              "<table border=\"1\" class=\"dataframe\">\n",
              "  <thead>\n",
              "    <tr style=\"text-align: right;\">\n",
              "      <th></th>\n",
              "      <th>currency</th>\n",
              "      <th>conversion</th>\n",
              "    </tr>\n",
              "  </thead>\n",
              "  <tbody>\n",
              "    <tr>\n",
              "      <th>0</th>\n",
              "      <td>PHP</td>\n",
              "      <td>True</td>\n",
              "    </tr>\n",
              "    <tr>\n",
              "      <th>1</th>\n",
              "      <td>HNL</td>\n",
              "      <td>False</td>\n",
              "    </tr>\n",
              "    <tr>\n",
              "      <th>2</th>\n",
              "      <td>PKR</td>\n",
              "      <td>False</td>\n",
              "    </tr>\n",
              "    <tr>\n",
              "      <th>3</th>\n",
              "      <td>KGS</td>\n",
              "      <td>False</td>\n",
              "    </tr>\n",
              "    <tr>\n",
              "      <th>4</th>\n",
              "      <td>USD</td>\n",
              "      <td>False</td>\n",
              "    </tr>\n",
              "  </tbody>\n",
              "</table>\n",
              "</div>"
            ],
            "text/plain": [
              "  currency  conversion\n",
              "0      PHP        True\n",
              "1      HNL       False\n",
              "2      PKR       False\n",
              "3      KGS       False\n",
              "4      USD       False"
            ]
          },
          "metadata": {
            "tags": []
          },
          "execution_count": 139
        }
      ]
    },
    {
      "cell_type": "code",
      "metadata": {
        "id": "nHRUzy1LJmjM",
        "colab_type": "code",
        "colab": {}
      },
      "source": [
        "loanYear = pd.merge(loanYear,currency_included,how='inner',on='currency')"
      ],
      "execution_count": 0,
      "outputs": []
    },
    {
      "cell_type": "code",
      "metadata": {
        "id": "B4MP1cUoKu3k",
        "colab_type": "code",
        "colab": {}
      },
      "source": [
        "firstBlock = loanYear[loanYear['conversion']==True]\n",
        "secondBlock = loanYear[loanYear['conversion']==False]"
      ],
      "execution_count": 0,
      "outputs": []
    },
    {
      "cell_type": "code",
      "metadata": {
        "id": "SytKfzkgL5hH",
        "colab_type": "code",
        "outputId": "447fd1b9-a3d0-440b-ed4b-16bae0bc55eb",
        "colab": {
          "base_uri": "https://localhost:8080/",
          "height": 34
        }
      },
      "source": [
        "len(firstBlock), len(secondBlock)"
      ],
      "execution_count": 142,
      "outputs": [
        {
          "output_type": "execute_result",
          "data": {
            "text/plain": [
              "(271075, 758180)"
            ]
          },
          "metadata": {
            "tags": []
          },
          "execution_count": 142
        }
      ]
    },
    {
      "cell_type": "code",
      "metadata": {
        "id": "1rPOI3opP18n",
        "colab_type": "code",
        "outputId": "a82151b4-d4ff-4e53-93f2-0d45a0ebd2a4",
        "colab": {
          "base_uri": "https://localhost:8080/",
          "height": 118
        }
      },
      "source": [
        "secondBlock['loan_amount_conversion'] = secondBlock['loan_amount']"
      ],
      "execution_count": 143,
      "outputs": [
        {
          "output_type": "stream",
          "text": [
            "/usr/local/lib/python3.6/dist-packages/ipykernel_launcher.py:1: SettingWithCopyWarning: \n",
            "A value is trying to be set on a copy of a slice from a DataFrame.\n",
            "Try using .loc[row_indexer,col_indexer] = value instead\n",
            "\n",
            "See the caveats in the documentation: http://pandas.pydata.org/pandas-docs/stable/user_guide/indexing.html#returning-a-view-versus-a-copy\n",
            "  \"\"\"Entry point for launching an IPython kernel.\n"
          ],
          "name": "stderr"
        }
      ]
    },
    {
      "cell_type": "code",
      "metadata": {
        "id": "1rL2xeY7-9f9",
        "colab_type": "code",
        "outputId": "7fa5bc0a-8407-4a59-ccf5-1cba2d95d572",
        "colab": {
          "base_uri": "https://localhost:8080/",
          "height": 101
        }
      },
      "source": [
        "secondBlock.drop(columns=['conversion'],inplace=True)"
      ],
      "execution_count": 144,
      "outputs": [
        {
          "output_type": "stream",
          "text": [
            "/usr/local/lib/python3.6/dist-packages/pandas/core/frame.py:4117: SettingWithCopyWarning: \n",
            "A value is trying to be set on a copy of a slice from a DataFrame\n",
            "\n",
            "See the caveats in the documentation: http://pandas.pydata.org/pandas-docs/stable/user_guide/indexing.html#returning-a-view-versus-a-copy\n",
            "  errors=errors,\n"
          ],
          "name": "stderr"
        }
      ]
    },
    {
      "cell_type": "code",
      "metadata": {
        "id": "4MEfqL6pLH4d",
        "colab_type": "code",
        "outputId": "ccdf787b-ac2f-463c-e2f9-53a612e9b328",
        "colab": {
          "base_uri": "https://localhost:8080/",
          "height": 235
        }
      },
      "source": [
        "firstBlock.groupby('currency')['country'].count()"
      ],
      "execution_count": 145,
      "outputs": [
        {
          "output_type": "execute_result",
          "data": {
            "text/plain": [
              "currency\n",
              "BRL       462\n",
              "CNY       125\n",
              "EUR      2180\n",
              "IDR      7862\n",
              "ILS       371\n",
              "INR     14707\n",
              "MXN      9375\n",
              "PHP    233833\n",
              "THB        50\n",
              "TRY      1974\n",
              "ZAR       136\n",
              "Name: country, dtype: int64"
            ]
          },
          "metadata": {
            "tags": []
          },
          "execution_count": 145
        }
      ]
    },
    {
      "cell_type": "code",
      "metadata": {
        "id": "7pRB9ZDJPYBW",
        "colab_type": "code",
        "outputId": "69d48e9e-c35f-4bca-eb39-66bd28b05a5e",
        "colab": {
          "base_uri": "https://localhost:8080/",
          "height": 50
        }
      },
      "source": [
        "currency_firstBlock = firstBlock['currency'].unique()\n",
        "currency_firstBlock"
      ],
      "execution_count": 146,
      "outputs": [
        {
          "output_type": "execute_result",
          "data": {
            "text/plain": [
              "array(['PHP', 'ILS', 'MXN', 'IDR', 'INR', 'EUR', 'ZAR', 'TRY', 'CNY',\n",
              "       'BRL', 'THB'], dtype=object)"
            ]
          },
          "metadata": {
            "tags": []
          },
          "execution_count": 146
        }
      ]
    },
    {
      "cell_type": "code",
      "metadata": {
        "id": "mPW_OzfmP1T6",
        "colab_type": "code",
        "outputId": "8d68da7a-06a9-410f-c872-543c67095c8a",
        "colab": {
          "base_uri": "https://localhost:8080/",
          "height": 34
        }
      },
      "source": [
        "currency_firstBlock[7:9]"
      ],
      "execution_count": 0,
      "outputs": [
        {
          "output_type": "execute_result",
          "data": {
            "text/plain": [
              "array(['TRY', 'CNY'], dtype=object)"
            ]
          },
          "metadata": {
            "tags": []
          },
          "execution_count": 151
        }
      ]
    },
    {
      "cell_type": "code",
      "metadata": {
        "id": "jEaAuEtbVqqt",
        "colab_type": "code",
        "colab": {}
      },
      "source": [
        "firstBlock_test=firstBlock[firstBlock['currency'].isin(currency_firstBlock)]\n",
        "\n",
        "#firstBlock_test=firstBlock[firstBlock['currency'].isin(currency_firstBlock)]"
      ],
      "execution_count": 0,
      "outputs": []
    },
    {
      "cell_type": "code",
      "metadata": {
        "id": "QabXEknTa70V",
        "colab_type": "code",
        "colab": {}
      },
      "source": [
        "dateCurrency = firstBlock_test[['loan_id','disburse_time','currency']]"
      ],
      "execution_count": 0,
      "outputs": []
    },
    {
      "cell_type": "code",
      "metadata": {
        "id": "8KBslSDabt3P",
        "colab_type": "code",
        "colab": {}
      },
      "source": [
        "val = range(len(currency_firstBlock))\n",
        "assignment = list(map(lambda x,y: (x,y),currency_firstBlock, val))\n",
        "index_currency = pd.DataFrame(assignment)\n",
        "index_currency.columns=['currency','index_currency']\n",
        "\n",
        "firstBlock_test = pd.merge(firstBlock_test,index_currency,how='inner',on='currency')"
      ],
      "execution_count": 0,
      "outputs": []
    },
    {
      "cell_type": "code",
      "metadata": {
        "id": "Q_JakKuTjkCp",
        "colab_type": "code",
        "colab": {}
      },
      "source": [
        "''''curr = list(map(lambda x: x[0], assignment))\n",
        "index = list(map(lambda x: x[1], assignment))\n",
        "\n",
        "dict_currency = dict(zip(index, curr))''''"
      ],
      "execution_count": 0,
      "outputs": []
    },
    {
      "cell_type": "code",
      "metadata": {
        "id": "2040zAPCeMkX",
        "colab_type": "code",
        "colab": {}
      },
      "source": [
        "#assignment[7:9] , dict_currency"
      ],
      "execution_count": 0,
      "outputs": []
    },
    {
      "cell_type": "code",
      "metadata": {
        "id": "TMcQ09Myy4ny",
        "colab_type": "code",
        "colab": {}
      },
      "source": [
        "def create_dictionary_currency(list_dict):\n",
        "  dates_dict = defaultdict(list)\n",
        "  for key, info in list_dict:\n",
        "    #print(key, info)\n",
        "    dates_dict[key].append(info)\n",
        "  return dates_dict"
      ],
      "execution_count": 0,
      "outputs": []
    },
    {
      "cell_type": "code",
      "metadata": {
        "colab_type": "code",
        "id": "yR6u7CM3d2uS",
        "colab": {}
      },
      "source": [
        "'''def fill_list(currency, dates):\n",
        "  date_list=list()\n",
        "  for key in dates:\n",
        "    currency_rate = (currency,currency_object.get_rate(currency,'USD',key))\n",
        "    pair = (key,currency_rate)\n",
        "    date_list.append(pair)\n",
        "  print(\"Trovato rate currency \"+str(currency))\n",
        "  return date_list\n",
        "\n",
        "def controllaPerformance(firstBlock_test,currency_list):\n",
        "  currency_list = dateCurrency['currency'].unique()\n",
        "  dict_currency_list = list()\n",
        "  for i in currency_list:\n",
        "    print(i)\n",
        "    loan_currency = firstBlock_test[firstBlock_test['currency']==i][['disburse_time','currency']]\n",
        "    date_loan_currency = set(loan_currency['disburse_time'].tolist()) #drop duplicates\n",
        "    ris = fill_list(i,date_loan_currency)\n",
        "    #print(ris)\n",
        "    dict_currency_list.append(ris)\n",
        "\n",
        "  return dict_currency_list'''"
      ],
      "execution_count": 0,
      "outputs": []
    },
    {
      "cell_type": "code",
      "metadata": {
        "id": "aV7k5_oBgRPu",
        "colab_type": "code",
        "colab": {}
      },
      "source": [
        "def get_rate_currency(currency, date):\n",
        "  currency_rate = (currency,currency_object.get_rate(currency,'USD',date))\n",
        "  pair = (date,currency_rate)\n",
        "  return pair\n",
        "\n",
        "def fill_list_map(currency, dates):\n",
        "  dates_list = [item for sublist in dates for item in sublist]\n",
        "  info_rate = list(map (functools.partial(get_rate_currency, currency), dates_list)) #currency remains same value for each iterable\n",
        "  print(\"Trovato rate currency \"+str(currency))\n",
        "  return info_rate\n",
        "\n",
        "def controllaPerformance_map(firstBlock_test,currency_list):\n",
        "  dict_currency_list=list()\n",
        "  date_loan_list = list()\n",
        "  for i in currency_list:\n",
        "    print(i)\n",
        "    loan_currency = firstBlock_test[firstBlock_test['currency']==i][['disburse_time','currency']]\n",
        "    date_loan_currency = set(loan_currency['disburse_time'].tolist()) #drop duplicates\n",
        "    date_loan_list.append([date_loan_currency])\n",
        "    #print(date_loan_currency)\n",
        "  #date_loan_list\n",
        "  dict_currency_list = list(map(lambda x,y: fill_list_map(x,y), currency_list, date_loan_list))\n",
        "  return dict_currency_list"
      ],
      "execution_count": 0,
      "outputs": []
    },
    {
      "cell_type": "code",
      "metadata": {
        "id": "pgjVX3NeQrLY",
        "colab_type": "code",
        "outputId": "580f4f93-aecf-4ae9-a142-753650158985",
        "colab": {
          "base_uri": "https://localhost:8080/",
          "height": 437
        }
      },
      "source": [
        "'''inizio=datetime.now()\n",
        "print(\"Inizio: \"+inizio.strftime(\"%H:%M:%S\"))\n",
        "controllaPerformance(firstBlock_test,currency_firstBlock)\n",
        "fine=datetime.now()\n",
        "print(\"Fine: \"+fine.strftime(\"%H:%M:%S\"))\n",
        "diff= fine - inizio\n",
        "diff'''"
      ],
      "execution_count": 154,
      "outputs": [
        {
          "output_type": "stream",
          "text": [
            "Inizio: 17:11:17\n",
            "PHP\n",
            "Trovato rate currency PHP\n",
            "ILS\n",
            "Trovato rate currency ILS\n",
            "MXN\n",
            "Trovato rate currency MXN\n",
            "IDR\n",
            "Trovato rate currency IDR\n",
            "INR\n",
            "Trovato rate currency INR\n",
            "EUR\n",
            "Trovato rate currency EUR\n",
            "ZAR\n",
            "Trovato rate currency ZAR\n",
            "TRY\n",
            "Trovato rate currency TRY\n",
            "CNY\n",
            "Trovato rate currency CNY\n",
            "BRL\n",
            "Trovato rate currency BRL\n",
            "THB\n",
            "Trovato rate currency THB\n",
            "Fine: 17:19:48\n"
          ],
          "name": "stdout"
        },
        {
          "output_type": "execute_result",
          "data": {
            "text/plain": [
              "datetime.timedelta(0, 510, 694758)"
            ]
          },
          "metadata": {
            "tags": []
          },
          "execution_count": 154
        }
      ]
    },
    {
      "cell_type": "code",
      "metadata": {
        "id": "qjTJDidLq4iD",
        "colab_type": "code",
        "outputId": "2da6b1d3-584c-4635-e6ff-f28c7113c216",
        "colab": {
          "base_uri": "https://localhost:8080/",
          "height": 437
        }
      },
      "source": [
        "inizio=datetime.now()\n",
        "print(\"Inizio: \"+inizio.strftime(\"%H:%M:%S\"))\n",
        "dict_currency_list = controllaPerformance_map(firstBlock_test, currency_firstBlock)\n",
        "fine=datetime.now()\n",
        "print(\"Fine: \"+fine.strftime(\"%H:%M:%S\"))\n",
        "diff= fine - inizio\n",
        "diff"
      ],
      "execution_count": 155,
      "outputs": [
        {
          "output_type": "stream",
          "text": [
            "Inizio: 17:20:04\n",
            "PHP\n",
            "ILS\n",
            "MXN\n",
            "IDR\n",
            "INR\n",
            "EUR\n",
            "ZAR\n",
            "TRY\n",
            "CNY\n",
            "BRL\n",
            "THB\n",
            "Trovato rate currency PHP\n",
            "Trovato rate currency ILS\n",
            "Trovato rate currency MXN\n",
            "Trovato rate currency IDR\n",
            "Trovato rate currency INR\n",
            "Trovato rate currency EUR\n",
            "Trovato rate currency ZAR\n",
            "Trovato rate currency TRY\n",
            "Trovato rate currency CNY\n",
            "Trovato rate currency BRL\n",
            "Trovato rate currency THB\n",
            "Fine: 17:23:56\n"
          ],
          "name": "stdout"
        },
        {
          "output_type": "execute_result",
          "data": {
            "text/plain": [
              "datetime.timedelta(0, 232, 551899)"
            ]
          },
          "metadata": {
            "tags": []
          },
          "execution_count": 155
        }
      ]
    },
    {
      "cell_type": "code",
      "metadata": {
        "id": "52BlNTnO103M",
        "colab_type": "code",
        "colab": {}
      },
      "source": [
        "flat_dict_currency_list = [item for sublist in dict_currency_list for item in sublist]\n",
        "dict_currency = create_dictionary_currency(flat_dict_currency_list)"
      ],
      "execution_count": 0,
      "outputs": []
    },
    {
      "cell_type": "code",
      "metadata": {
        "id": "LJ8a3RYqHshm",
        "colab_type": "code",
        "colab": {}
      },
      "source": [
        "date_currency = pd.DataFrame(dict_currency.items())\n",
        "date_currency.columns = ['date','currency']\n",
        "#date_currency['currency'].explode()"
      ],
      "execution_count": 0,
      "outputs": []
    },
    {
      "cell_type": "code",
      "metadata": {
        "id": "Vn8E0o0Yw4RT",
        "colab_type": "code",
        "outputId": "eaabf045-f6e1-4527-af6f-594a0719bca5",
        "colab": {
          "base_uri": "https://localhost:8080/",
          "height": 195
        }
      },
      "source": [
        "date_currency.head()"
      ],
      "execution_count": 171,
      "outputs": [
        {
          "output_type": "execute_result",
          "data": {
            "text/html": [
              "<div>\n",
              "<style scoped>\n",
              "    .dataframe tbody tr th:only-of-type {\n",
              "        vertical-align: middle;\n",
              "    }\n",
              "\n",
              "    .dataframe tbody tr th {\n",
              "        vertical-align: top;\n",
              "    }\n",
              "\n",
              "    .dataframe thead th {\n",
              "        text-align: right;\n",
              "    }\n",
              "</style>\n",
              "<table border=\"1\" class=\"dataframe\">\n",
              "  <thead>\n",
              "    <tr style=\"text-align: right;\">\n",
              "      <th></th>\n",
              "      <th>date</th>\n",
              "      <th>currency</th>\n",
              "    </tr>\n",
              "  </thead>\n",
              "  <tbody>\n",
              "    <tr>\n",
              "      <th>0</th>\n",
              "      <td>2013-09-23 07:00:00</td>\n",
              "      <td>[(PHP, 0.0231131188), (MXN, 0.0779088948), (ID...</td>\n",
              "    </tr>\n",
              "    <tr>\n",
              "      <th>1</th>\n",
              "      <td>2015-04-20 07:00:00</td>\n",
              "      <td>[(PHP, 0.0225980485), (MXN, 0.0651106024), (ID...</td>\n",
              "    </tr>\n",
              "    <tr>\n",
              "      <th>2</th>\n",
              "      <td>2013-04-26 07:00:00</td>\n",
              "      <td>[(PHP, 0.0242464374), (MXN, 0.0820007191), (ID...</td>\n",
              "    </tr>\n",
              "    <tr>\n",
              "      <th>3</th>\n",
              "      <td>2016-02-12 08:00:00</td>\n",
              "      <td>[(PHP, 0.0210507645), (MXN, 0.0519939867), (ID...</td>\n",
              "    </tr>\n",
              "    <tr>\n",
              "      <th>4</th>\n",
              "      <td>2015-07-03 07:00:00</td>\n",
              "      <td>[(PHP, 0.0221973274), (MXN, 0.0636822773), (ID...</td>\n",
              "    </tr>\n",
              "  </tbody>\n",
              "</table>\n",
              "</div>"
            ],
            "text/plain": [
              "                 date                                           currency\n",
              "0 2013-09-23 07:00:00  [(PHP, 0.0231131188), (MXN, 0.0779088948), (ID...\n",
              "1 2015-04-20 07:00:00  [(PHP, 0.0225980485), (MXN, 0.0651106024), (ID...\n",
              "2 2013-04-26 07:00:00  [(PHP, 0.0242464374), (MXN, 0.0820007191), (ID...\n",
              "3 2016-02-12 08:00:00  [(PHP, 0.0210507645), (MXN, 0.0519939867), (ID...\n",
              "4 2015-07-03 07:00:00  [(PHP, 0.0221973274), (MXN, 0.0636822773), (ID..."
            ]
          },
          "metadata": {
            "tags": []
          },
          "execution_count": 171
        }
      ]
    },
    {
      "cell_type": "code",
      "metadata": {
        "id": "y2THQdLgSL_K",
        "colab_type": "code",
        "colab": {}
      },
      "source": [
        "date_currency = date_currency.explode('currency').reset_index()"
      ],
      "execution_count": 0,
      "outputs": []
    },
    {
      "cell_type": "code",
      "metadata": {
        "id": "_-SbO3-jSmWy",
        "colab_type": "code",
        "colab": {
          "base_uri": "https://localhost:8080/",
          "height": 195
        },
        "outputId": "99a63ba2-1c7a-4c3f-f3dc-2a0141e32c64"
      },
      "source": [
        "date_currency.head()"
      ],
      "execution_count": 173,
      "outputs": [
        {
          "output_type": "execute_result",
          "data": {
            "text/html": [
              "<div>\n",
              "<style scoped>\n",
              "    .dataframe tbody tr th:only-of-type {\n",
              "        vertical-align: middle;\n",
              "    }\n",
              "\n",
              "    .dataframe tbody tr th {\n",
              "        vertical-align: top;\n",
              "    }\n",
              "\n",
              "    .dataframe thead th {\n",
              "        text-align: right;\n",
              "    }\n",
              "</style>\n",
              "<table border=\"1\" class=\"dataframe\">\n",
              "  <thead>\n",
              "    <tr style=\"text-align: right;\">\n",
              "      <th></th>\n",
              "      <th>index</th>\n",
              "      <th>date</th>\n",
              "      <th>currency</th>\n",
              "    </tr>\n",
              "  </thead>\n",
              "  <tbody>\n",
              "    <tr>\n",
              "      <th>0</th>\n",
              "      <td>0</td>\n",
              "      <td>2013-09-23 07:00:00</td>\n",
              "      <td>(PHP, 0.0231131188)</td>\n",
              "    </tr>\n",
              "    <tr>\n",
              "      <th>1</th>\n",
              "      <td>0</td>\n",
              "      <td>2013-09-23 07:00:00</td>\n",
              "      <td>(MXN, 0.0779088948)</td>\n",
              "    </tr>\n",
              "    <tr>\n",
              "      <th>2</th>\n",
              "      <td>0</td>\n",
              "      <td>2013-09-23 07:00:00</td>\n",
              "      <td>(IDR, 8.9569e-05)</td>\n",
              "    </tr>\n",
              "    <tr>\n",
              "      <th>3</th>\n",
              "      <td>0</td>\n",
              "      <td>2013-09-23 07:00:00</td>\n",
              "      <td>(EUR, 1.3508)</td>\n",
              "    </tr>\n",
              "    <tr>\n",
              "      <th>4</th>\n",
              "      <td>0</td>\n",
              "      <td>2013-09-23 07:00:00</td>\n",
              "      <td>(BRL, 0.4526809651)</td>\n",
              "    </tr>\n",
              "  </tbody>\n",
              "</table>\n",
              "</div>"
            ],
            "text/plain": [
              "   index                date             currency\n",
              "0      0 2013-09-23 07:00:00  (PHP, 0.0231131188)\n",
              "1      0 2013-09-23 07:00:00  (MXN, 0.0779088948)\n",
              "2      0 2013-09-23 07:00:00    (IDR, 8.9569e-05)\n",
              "3      0 2013-09-23 07:00:00        (EUR, 1.3508)\n",
              "4      0 2013-09-23 07:00:00  (BRL, 0.4526809651)"
            ]
          },
          "metadata": {
            "tags": []
          },
          "execution_count": 173
        }
      ]
    },
    {
      "cell_type": "code",
      "metadata": {
        "id": "L9JTL3Or7D5O",
        "colab_type": "code",
        "colab": {}
      },
      "source": [
        "date_currency['curr']=date_currency.apply(lambda x: x['currency'][0],axis=1)\n",
        "date_currency['rate']=date_currency.apply(lambda x: x['currency'][1],axis=1)"
      ],
      "execution_count": 0,
      "outputs": []
    },
    {
      "cell_type": "code",
      "metadata": {
        "id": "9Mw1UHto7j11",
        "colab_type": "code",
        "colab": {}
      },
      "source": [
        "date_currency.columns=['index','disburse_time','curr_list','currency','rate']"
      ],
      "execution_count": 0,
      "outputs": []
    },
    {
      "cell_type": "code",
      "metadata": {
        "id": "InMG2gs79vQq",
        "colab_type": "code",
        "outputId": "5e8b65f5-dd40-4b0a-f174-273bac8d5541",
        "colab": {
          "base_uri": "https://localhost:8080/",
          "height": 195
        }
      },
      "source": [
        "date_currency.head()"
      ],
      "execution_count": 176,
      "outputs": [
        {
          "output_type": "execute_result",
          "data": {
            "text/html": [
              "<div>\n",
              "<style scoped>\n",
              "    .dataframe tbody tr th:only-of-type {\n",
              "        vertical-align: middle;\n",
              "    }\n",
              "\n",
              "    .dataframe tbody tr th {\n",
              "        vertical-align: top;\n",
              "    }\n",
              "\n",
              "    .dataframe thead th {\n",
              "        text-align: right;\n",
              "    }\n",
              "</style>\n",
              "<table border=\"1\" class=\"dataframe\">\n",
              "  <thead>\n",
              "    <tr style=\"text-align: right;\">\n",
              "      <th></th>\n",
              "      <th>index</th>\n",
              "      <th>disburse_time</th>\n",
              "      <th>curr_list</th>\n",
              "      <th>currency</th>\n",
              "      <th>rate</th>\n",
              "    </tr>\n",
              "  </thead>\n",
              "  <tbody>\n",
              "    <tr>\n",
              "      <th>0</th>\n",
              "      <td>0</td>\n",
              "      <td>2013-09-23 07:00:00</td>\n",
              "      <td>(PHP, 0.0231131188)</td>\n",
              "      <td>PHP</td>\n",
              "      <td>0.023113</td>\n",
              "    </tr>\n",
              "    <tr>\n",
              "      <th>1</th>\n",
              "      <td>0</td>\n",
              "      <td>2013-09-23 07:00:00</td>\n",
              "      <td>(MXN, 0.0779088948)</td>\n",
              "      <td>MXN</td>\n",
              "      <td>0.077909</td>\n",
              "    </tr>\n",
              "    <tr>\n",
              "      <th>2</th>\n",
              "      <td>0</td>\n",
              "      <td>2013-09-23 07:00:00</td>\n",
              "      <td>(IDR, 8.9569e-05)</td>\n",
              "      <td>IDR</td>\n",
              "      <td>0.000090</td>\n",
              "    </tr>\n",
              "    <tr>\n",
              "      <th>3</th>\n",
              "      <td>0</td>\n",
              "      <td>2013-09-23 07:00:00</td>\n",
              "      <td>(EUR, 1.3508)</td>\n",
              "      <td>EUR</td>\n",
              "      <td>1.350800</td>\n",
              "    </tr>\n",
              "    <tr>\n",
              "      <th>4</th>\n",
              "      <td>0</td>\n",
              "      <td>2013-09-23 07:00:00</td>\n",
              "      <td>(BRL, 0.4526809651)</td>\n",
              "      <td>BRL</td>\n",
              "      <td>0.452681</td>\n",
              "    </tr>\n",
              "  </tbody>\n",
              "</table>\n",
              "</div>"
            ],
            "text/plain": [
              "   index       disburse_time            curr_list currency      rate\n",
              "0      0 2013-09-23 07:00:00  (PHP, 0.0231131188)      PHP  0.023113\n",
              "1      0 2013-09-23 07:00:00  (MXN, 0.0779088948)      MXN  0.077909\n",
              "2      0 2013-09-23 07:00:00    (IDR, 8.9569e-05)      IDR  0.000090\n",
              "3      0 2013-09-23 07:00:00        (EUR, 1.3508)      EUR  1.350800\n",
              "4      0 2013-09-23 07:00:00  (BRL, 0.4526809651)      BRL  0.452681"
            ]
          },
          "metadata": {
            "tags": []
          },
          "execution_count": 176
        }
      ]
    },
    {
      "cell_type": "code",
      "metadata": {
        "id": "e8UIS-sD-CAv",
        "colab_type": "code",
        "colab": {}
      },
      "source": [
        "firstBlock_test = pd.merge(firstBlock_test,date_currency,how='inner',on=['disburse_time','currency'])"
      ],
      "execution_count": 0,
      "outputs": []
    },
    {
      "cell_type": "code",
      "metadata": {
        "id": "l1CLK5S--pFn",
        "colab_type": "code",
        "colab": {}
      },
      "source": [
        "firstBlock_test.drop(columns=['index','curr_list','conversion'],inplace=True)"
      ],
      "execution_count": 0,
      "outputs": []
    },
    {
      "cell_type": "code",
      "metadata": {
        "id": "xWMY8DxN_VGZ",
        "colab_type": "code",
        "colab": {}
      },
      "source": [
        "firstBlock_test['loan_amount_conversion'] = firstBlock_test['loan_amount'] * firstBlock_test['rate']"
      ],
      "execution_count": 0,
      "outputs": []
    },
    {
      "cell_type": "code",
      "metadata": {
        "id": "egDP7h-t_tJG",
        "colab_type": "code",
        "colab": {}
      },
      "source": [
        "firstBlock_test.drop(columns=['index_currency'],inplace=True)"
      ],
      "execution_count": 0,
      "outputs": []
    },
    {
      "cell_type": "code",
      "metadata": {
        "id": "ZFRlL45ZUMPf",
        "colab_type": "code",
        "colab": {}
      },
      "source": [
        "firstBlock = firstBlock_test"
      ],
      "execution_count": 0,
      "outputs": []
    },
    {
      "cell_type": "markdown",
      "metadata": {
        "id": "3C0gcwzPQ2Ll",
        "colab_type": "text"
      },
      "source": [
        "### Test methods"
      ]
    },
    {
      "cell_type": "code",
      "metadata": {
        "id": "H2E_olO3N0rE",
        "colab_type": "code",
        "colab": {}
      },
      "source": [
        "def first_method1(df):\n",
        "    df['loan_amount_conversion'] = df['loan_amount']\n",
        "    return df\n",
        "\n",
        "def second_method1(df):\n",
        "    df['loan_amount_conversion'] = df.apply(lambda x: x['loan_amount'],axis=1)\n",
        "    return df"
      ],
      "execution_count": 0,
      "outputs": []
    },
    {
      "cell_type": "code",
      "metadata": {
        "id": "sI58p6ggQwp6",
        "colab_type": "code",
        "colab": {}
      },
      "source": [
        "secondBlock_test = secondBlock[:10000]"
      ],
      "execution_count": 0,
      "outputs": []
    },
    {
      "cell_type": "code",
      "metadata": {
        "id": "YlFxS2igNuNX",
        "colab_type": "code",
        "colab": {}
      },
      "source": [
        "%timeit first_method1(secondBlock_test)"
      ],
      "execution_count": 0,
      "outputs": []
    },
    {
      "cell_type": "code",
      "metadata": {
        "id": "fxN4nTmhPg7D",
        "colab_type": "code",
        "colab": {}
      },
      "source": [
        "%timeit second_method1(secondBlock_test)"
      ],
      "execution_count": 0,
      "outputs": []
    },
    {
      "cell_type": "code",
      "metadata": {
        "id": "fcF9yEq8Ued9",
        "colab_type": "code",
        "colab": {
          "base_uri": "https://localhost:8080/",
          "height": 299
        },
        "outputId": "f405e7bf-687c-4bef-8353-e1deb9d8d4e3"
      },
      "source": [
        "firstBlock.head()"
      ],
      "execution_count": 187,
      "outputs": [
        {
          "output_type": "execute_result",
          "data": {
            "text/html": [
              "<div>\n",
              "<style scoped>\n",
              "    .dataframe tbody tr th:only-of-type {\n",
              "        vertical-align: middle;\n",
              "    }\n",
              "\n",
              "    .dataframe tbody tr th {\n",
              "        vertical-align: top;\n",
              "    }\n",
              "\n",
              "    .dataframe thead th {\n",
              "        text-align: right;\n",
              "    }\n",
              "</style>\n",
              "<table border=\"1\" class=\"dataframe\">\n",
              "  <thead>\n",
              "    <tr style=\"text-align: right;\">\n",
              "      <th></th>\n",
              "      <th>loan_id</th>\n",
              "      <th>country</th>\n",
              "      <th>disburse_time</th>\n",
              "      <th>planned_expiration_time</th>\n",
              "      <th>duration</th>\n",
              "      <th>funded_amount</th>\n",
              "      <th>loan_amount</th>\n",
              "      <th>currency</th>\n",
              "      <th>year_disburse</th>\n",
              "      <th>rate</th>\n",
              "      <th>loan_amount_conversion</th>\n",
              "    </tr>\n",
              "  </thead>\n",
              "  <tbody>\n",
              "    <tr>\n",
              "      <th>0</th>\n",
              "      <td>657307</td>\n",
              "      <td>Philippines</td>\n",
              "      <td>2013-12-22 08:00:00</td>\n",
              "      <td>2014-02-14 03:30:06</td>\n",
              "      <td>53.0</td>\n",
              "      <td>125.0</td>\n",
              "      <td>125.0</td>\n",
              "      <td>PHP</td>\n",
              "      <td>2013</td>\n",
              "      <td>0.022448</td>\n",
              "      <td>2.805976</td>\n",
              "    </tr>\n",
              "    <tr>\n",
              "      <th>1</th>\n",
              "      <td>656933</td>\n",
              "      <td>Philippines</td>\n",
              "      <td>2013-12-17 08:00:00</td>\n",
              "      <td>2014-02-13 06:10:02</td>\n",
              "      <td>57.0</td>\n",
              "      <td>425.0</td>\n",
              "      <td>425.0</td>\n",
              "      <td>PHP</td>\n",
              "      <td>2013</td>\n",
              "      <td>0.022599</td>\n",
              "      <td>9.604729</td>\n",
              "    </tr>\n",
              "    <tr>\n",
              "      <th>2</th>\n",
              "      <td>657341</td>\n",
              "      <td>Philippines</td>\n",
              "      <td>2013-12-17 08:00:00</td>\n",
              "      <td>2014-02-14 08:30:03</td>\n",
              "      <td>59.0</td>\n",
              "      <td>425.0</td>\n",
              "      <td>425.0</td>\n",
              "      <td>PHP</td>\n",
              "      <td>2013</td>\n",
              "      <td>0.022599</td>\n",
              "      <td>9.604729</td>\n",
              "    </tr>\n",
              "    <tr>\n",
              "      <th>3</th>\n",
              "      <td>657884</td>\n",
              "      <td>Philippines</td>\n",
              "      <td>2013-12-17 08:00:00</td>\n",
              "      <td>2014-02-15 18:10:08</td>\n",
              "      <td>60.0</td>\n",
              "      <td>675.0</td>\n",
              "      <td>675.0</td>\n",
              "      <td>PHP</td>\n",
              "      <td>2013</td>\n",
              "      <td>0.022599</td>\n",
              "      <td>15.254569</td>\n",
              "    </tr>\n",
              "    <tr>\n",
              "      <th>4</th>\n",
              "      <td>657867</td>\n",
              "      <td>Philippines</td>\n",
              "      <td>2013-12-17 08:00:00</td>\n",
              "      <td>2014-02-15 18:50:02</td>\n",
              "      <td>60.0</td>\n",
              "      <td>275.0</td>\n",
              "      <td>275.0</td>\n",
              "      <td>PHP</td>\n",
              "      <td>2013</td>\n",
              "      <td>0.022599</td>\n",
              "      <td>6.214825</td>\n",
              "    </tr>\n",
              "  </tbody>\n",
              "</table>\n",
              "</div>"
            ],
            "text/plain": [
              "   loan_id      country  ...      rate loan_amount_conversion\n",
              "0   657307  Philippines  ...  0.022448               2.805976\n",
              "1   656933  Philippines  ...  0.022599               9.604729\n",
              "2   657341  Philippines  ...  0.022599               9.604729\n",
              "3   657884  Philippines  ...  0.022599              15.254569\n",
              "4   657867  Philippines  ...  0.022599               6.214825\n",
              "\n",
              "[5 rows x 11 columns]"
            ]
          },
          "metadata": {
            "tags": []
          },
          "execution_count": 187
        }
      ]
    },
    {
      "cell_type": "code",
      "metadata": {
        "id": "x0WjYxT0Uhzl",
        "colab_type": "code",
        "colab": {
          "base_uri": "https://localhost:8080/",
          "height": 299
        },
        "outputId": "7a744987-f63a-470a-c183-f11c5cae0590"
      },
      "source": [
        "secondBlock.head()"
      ],
      "execution_count": 188,
      "outputs": [
        {
          "output_type": "execute_result",
          "data": {
            "text/html": [
              "<div>\n",
              "<style scoped>\n",
              "    .dataframe tbody tr th:only-of-type {\n",
              "        vertical-align: middle;\n",
              "    }\n",
              "\n",
              "    .dataframe tbody tr th {\n",
              "        vertical-align: top;\n",
              "    }\n",
              "\n",
              "    .dataframe thead th {\n",
              "        text-align: right;\n",
              "    }\n",
              "</style>\n",
              "<table border=\"1\" class=\"dataframe\">\n",
              "  <thead>\n",
              "    <tr style=\"text-align: right;\">\n",
              "      <th></th>\n",
              "      <th>loan_id</th>\n",
              "      <th>country</th>\n",
              "      <th>disburse_time</th>\n",
              "      <th>planned_expiration_time</th>\n",
              "      <th>duration</th>\n",
              "      <th>funded_amount</th>\n",
              "      <th>loan_amount</th>\n",
              "      <th>currency</th>\n",
              "      <th>year_disburse</th>\n",
              "      <th>loan_amount_conversion</th>\n",
              "    </tr>\n",
              "  </thead>\n",
              "  <tbody>\n",
              "    <tr>\n",
              "      <th>233833</th>\n",
              "      <td>657259</td>\n",
              "      <td>Honduras</td>\n",
              "      <td>2013-12-20 08:00:00</td>\n",
              "      <td>2014-03-26 22:25:07</td>\n",
              "      <td>96.0</td>\n",
              "      <td>400.0</td>\n",
              "      <td>400.0</td>\n",
              "      <td>HNL</td>\n",
              "      <td>2013</td>\n",
              "      <td>400.0</td>\n",
              "    </tr>\n",
              "    <tr>\n",
              "      <th>233834</th>\n",
              "      <td>665129</td>\n",
              "      <td>Honduras</td>\n",
              "      <td>2014-01-24 08:00:00</td>\n",
              "      <td>2014-03-26 22:25:34</td>\n",
              "      <td>61.0</td>\n",
              "      <td>125.0</td>\n",
              "      <td>125.0</td>\n",
              "      <td>HNL</td>\n",
              "      <td>2014</td>\n",
              "      <td>125.0</td>\n",
              "    </tr>\n",
              "    <tr>\n",
              "      <th>233835</th>\n",
              "      <td>422503</td>\n",
              "      <td>Honduras</td>\n",
              "      <td>2012-04-17 07:00:00</td>\n",
              "      <td>2012-06-11 20:00:10</td>\n",
              "      <td>55.0</td>\n",
              "      <td>800.0</td>\n",
              "      <td>800.0</td>\n",
              "      <td>HNL</td>\n",
              "      <td>2012</td>\n",
              "      <td>800.0</td>\n",
              "    </tr>\n",
              "    <tr>\n",
              "      <th>233836</th>\n",
              "      <td>659012</td>\n",
              "      <td>Honduras</td>\n",
              "      <td>2014-01-16 08:00:00</td>\n",
              "      <td>2014-03-26 22:25:57</td>\n",
              "      <td>69.0</td>\n",
              "      <td>1000.0</td>\n",
              "      <td>1000.0</td>\n",
              "      <td>HNL</td>\n",
              "      <td>2014</td>\n",
              "      <td>1000.0</td>\n",
              "    </tr>\n",
              "    <tr>\n",
              "      <th>233837</th>\n",
              "      <td>417274</td>\n",
              "      <td>Honduras</td>\n",
              "      <td>2012-03-28 07:00:00</td>\n",
              "      <td>2012-05-27 15:50:02</td>\n",
              "      <td>60.0</td>\n",
              "      <td>1950.0</td>\n",
              "      <td>1950.0</td>\n",
              "      <td>HNL</td>\n",
              "      <td>2012</td>\n",
              "      <td>1950.0</td>\n",
              "    </tr>\n",
              "  </tbody>\n",
              "</table>\n",
              "</div>"
            ],
            "text/plain": [
              "        loan_id   country  ... year_disburse loan_amount_conversion\n",
              "233833   657259  Honduras  ...          2013                  400.0\n",
              "233834   665129  Honduras  ...          2014                  125.0\n",
              "233835   422503  Honduras  ...          2012                  800.0\n",
              "233836   659012  Honduras  ...          2014                 1000.0\n",
              "233837   417274  Honduras  ...          2012                 1950.0\n",
              "\n",
              "[5 rows x 10 columns]"
            ]
          },
          "metadata": {
            "tags": []
          },
          "execution_count": 188
        }
      ]
    },
    {
      "cell_type": "markdown",
      "metadata": {
        "id": "kVQtAlEtWGO-",
        "colab_type": "text"
      },
      "source": [
        "### Merge two parts divided before in all-one (loan_USD)"
      ]
    },
    {
      "cell_type": "code",
      "metadata": {
        "id": "-CtRdmbyUucp",
        "colab_type": "code",
        "colab": {}
      },
      "source": [
        "loan_USD = pd.concat([firstBlock,secondBlock],axis=0,sort=False)"
      ],
      "execution_count": 0,
      "outputs": []
    },
    {
      "cell_type": "code",
      "metadata": {
        "id": "QhQCU3Vo2o-5",
        "colab_type": "code",
        "colab": {}
      },
      "source": [
        "loan_USD['year_expiration']=loan_USD.apply(lambda x: x['planned_expiration_time'].date().year,axis=1)"
      ],
      "execution_count": 0,
      "outputs": []
    },
    {
      "cell_type": "code",
      "metadata": {
        "id": "j2r_avRYVBqj",
        "colab_type": "code",
        "colab": {}
      },
      "source": [
        "loan_USD_test = loan_USD.iloc[:1000][['loan_id','disburse_time',\n",
        "                          'planned_expiration_time','year_disburse','year_expiration','loan_amount_conversion']]"
      ],
      "execution_count": 0,
      "outputs": []
    },
    {
      "cell_type": "code",
      "metadata": {
        "id": "9JWhjGGdWunf",
        "colab_type": "code",
        "colab": {}
      },
      "source": [
        "loan_USD_test['loan_amount_conversion'] = round(loan_USD_test['loan_amount_conversion'],2)"
      ],
      "execution_count": 0,
      "outputs": []
    },
    {
      "cell_type": "code",
      "metadata": {
        "id": "TSqQkCzVuIdO",
        "colab_type": "code",
        "colab": {
          "base_uri": "https://localhost:8080/",
          "height": 402
        },
        "outputId": "4ef88bd6-56e8-4d2a-a791-947fb265f909"
      },
      "source": [
        "loan_USD_test"
      ],
      "execution_count": 348,
      "outputs": [
        {
          "output_type": "execute_result",
          "data": {
            "text/html": [
              "<div>\n",
              "<style scoped>\n",
              "    .dataframe tbody tr th:only-of-type {\n",
              "        vertical-align: middle;\n",
              "    }\n",
              "\n",
              "    .dataframe tbody tr th {\n",
              "        vertical-align: top;\n",
              "    }\n",
              "\n",
              "    .dataframe thead th {\n",
              "        text-align: right;\n",
              "    }\n",
              "</style>\n",
              "<table border=\"1\" class=\"dataframe\">\n",
              "  <thead>\n",
              "    <tr style=\"text-align: right;\">\n",
              "      <th></th>\n",
              "      <th>loan_id</th>\n",
              "      <th>disburse_time</th>\n",
              "      <th>planned_expiration_time</th>\n",
              "      <th>year_disburse</th>\n",
              "      <th>year_expiration</th>\n",
              "      <th>loan_amount_conversion</th>\n",
              "    </tr>\n",
              "  </thead>\n",
              "  <tbody>\n",
              "    <tr>\n",
              "      <th>0</th>\n",
              "      <td>657307</td>\n",
              "      <td>2013-12-22 08:00:00</td>\n",
              "      <td>2014-02-14 03:30:06</td>\n",
              "      <td>2013</td>\n",
              "      <td>2014</td>\n",
              "      <td>2.81</td>\n",
              "    </tr>\n",
              "    <tr>\n",
              "      <th>1</th>\n",
              "      <td>656933</td>\n",
              "      <td>2013-12-17 08:00:00</td>\n",
              "      <td>2014-02-13 06:10:02</td>\n",
              "      <td>2013</td>\n",
              "      <td>2014</td>\n",
              "      <td>9.60</td>\n",
              "    </tr>\n",
              "    <tr>\n",
              "      <th>2</th>\n",
              "      <td>657341</td>\n",
              "      <td>2013-12-17 08:00:00</td>\n",
              "      <td>2014-02-14 08:30:03</td>\n",
              "      <td>2013</td>\n",
              "      <td>2014</td>\n",
              "      <td>9.60</td>\n",
              "    </tr>\n",
              "    <tr>\n",
              "      <th>3</th>\n",
              "      <td>657884</td>\n",
              "      <td>2013-12-17 08:00:00</td>\n",
              "      <td>2014-02-15 18:10:08</td>\n",
              "      <td>2013</td>\n",
              "      <td>2014</td>\n",
              "      <td>15.25</td>\n",
              "    </tr>\n",
              "    <tr>\n",
              "      <th>4</th>\n",
              "      <td>657867</td>\n",
              "      <td>2013-12-17 08:00:00</td>\n",
              "      <td>2014-02-15 18:50:02</td>\n",
              "      <td>2013</td>\n",
              "      <td>2014</td>\n",
              "      <td>6.21</td>\n",
              "    </tr>\n",
              "    <tr>\n",
              "      <th>...</th>\n",
              "      <td>...</td>\n",
              "      <td>...</td>\n",
              "      <td>...</td>\n",
              "      <td>...</td>\n",
              "      <td>...</td>\n",
              "      <td>...</td>\n",
              "    </tr>\n",
              "    <tr>\n",
              "      <th>995</th>\n",
              "      <td>962002</td>\n",
              "      <td>2015-09-18 07:00:00</td>\n",
              "      <td>2015-11-13 15:20:05</td>\n",
              "      <td>2015</td>\n",
              "      <td>2015</td>\n",
              "      <td>10.80</td>\n",
              "    </tr>\n",
              "    <tr>\n",
              "      <th>996</th>\n",
              "      <td>964957</td>\n",
              "      <td>2015-09-18 07:00:00</td>\n",
              "      <td>2015-11-19 19:50:04</td>\n",
              "      <td>2015</td>\n",
              "      <td>2015</td>\n",
              "      <td>14.58</td>\n",
              "    </tr>\n",
              "    <tr>\n",
              "      <th>997</th>\n",
              "      <td>965349</td>\n",
              "      <td>2015-09-18 07:00:00</td>\n",
              "      <td>2015-11-21 02:50:04</td>\n",
              "      <td>2015</td>\n",
              "      <td>2015</td>\n",
              "      <td>8.64</td>\n",
              "    </tr>\n",
              "    <tr>\n",
              "      <th>998</th>\n",
              "      <td>964873</td>\n",
              "      <td>2015-09-18 07:00:00</td>\n",
              "      <td>2015-11-19 22:30:02</td>\n",
              "      <td>2015</td>\n",
              "      <td>2015</td>\n",
              "      <td>6.48</td>\n",
              "    </tr>\n",
              "    <tr>\n",
              "      <th>999</th>\n",
              "      <td>962043</td>\n",
              "      <td>2015-09-18 07:00:00</td>\n",
              "      <td>2015-11-14 20:30:06</td>\n",
              "      <td>2015</td>\n",
              "      <td>2015</td>\n",
              "      <td>14.58</td>\n",
              "    </tr>\n",
              "  </tbody>\n",
              "</table>\n",
              "<p>1000 rows × 6 columns</p>\n",
              "</div>"
            ],
            "text/plain": [
              "     loan_id       disburse_time  ... year_expiration  loan_amount_conversion\n",
              "0     657307 2013-12-22 08:00:00  ...            2014                    2.81\n",
              "1     656933 2013-12-17 08:00:00  ...            2014                    9.60\n",
              "2     657341 2013-12-17 08:00:00  ...            2014                    9.60\n",
              "3     657884 2013-12-17 08:00:00  ...            2014                   15.25\n",
              "4     657867 2013-12-17 08:00:00  ...            2014                    6.21\n",
              "..       ...                 ...  ...             ...                     ...\n",
              "995   962002 2015-09-18 07:00:00  ...            2015                   10.80\n",
              "996   964957 2015-09-18 07:00:00  ...            2015                   14.58\n",
              "997   965349 2015-09-18 07:00:00  ...            2015                    8.64\n",
              "998   964873 2015-09-18 07:00:00  ...            2015                    6.48\n",
              "999   962043 2015-09-18 07:00:00  ...            2015                   14.58\n",
              "\n",
              "[1000 rows x 6 columns]"
            ]
          },
          "metadata": {
            "tags": []
          },
          "execution_count": 348
        }
      ]
    },
    {
      "cell_type": "code",
      "metadata": {
        "id": "rg7e3YM2uhuX",
        "colab_type": "code",
        "colab": {}
      },
      "source": [
        "sameYear_loan_USD = loan_USD_test[loan_USD_test['year_disburse']==loan_USD_test['year_expiration']]\n",
        "index_sameYear = sameYear_loan_USD.index"
      ],
      "execution_count": 0,
      "outputs": []
    },
    {
      "cell_type": "code",
      "metadata": {
        "id": "6HwrYBIawLpN",
        "colab_type": "code",
        "colab": {
          "base_uri": "https://localhost:8080/",
          "height": 84
        },
        "outputId": "78e906d8-9079-4db2-9c93-88d88b5c4e9a"
      },
      "source": [
        "index_sameYear"
      ],
      "execution_count": 350,
      "outputs": [
        {
          "output_type": "execute_result",
          "data": {
            "text/plain": [
              "Int64Index([ 91,  92,  93,  94,  95,  96,  97,  98,  99, 100,\n",
              "            ...\n",
              "            990, 991, 992, 993, 994, 995, 996, 997, 998, 999],\n",
              "           dtype='int64', length=909)"
            ]
          },
          "metadata": {
            "tags": []
          },
          "execution_count": 350
        }
      ]
    },
    {
      "cell_type": "code",
      "metadata": {
        "id": "fb-yFyMzvFRv",
        "colab_type": "code",
        "colab": {}
      },
      "source": [
        "distribution_loan_USD = sameYear_loan_USD[['loan_id','loan_amount_conversion','year_expiration']]"
      ],
      "execution_count": 0,
      "outputs": []
    },
    {
      "cell_type": "code",
      "metadata": {
        "id": "yV0CPtOBvYRN",
        "colab_type": "code",
        "colab": {}
      },
      "source": [
        "distribution_loan_USD.columns = ['loan_id','loan_amount_USD','year']"
      ],
      "execution_count": 0,
      "outputs": []
    },
    {
      "cell_type": "code",
      "metadata": {
        "id": "UV2DyVs9vxu6",
        "colab_type": "code",
        "colab": {}
      },
      "source": [
        "differentYear_loan_USD = loan_USD_test.drop(index_sameYear, axis=0)"
      ],
      "execution_count": 0,
      "outputs": []
    },
    {
      "cell_type": "code",
      "metadata": {
        "id": "7C8rybxWwr-g",
        "colab_type": "code",
        "colab": {}
      },
      "source": [
        "differentYear_loan_USD['day_disburse'] = differentYear_loan_USD.apply(lambda x: x['disburse_time'].date().day,axis=1)"
      ],
      "execution_count": 0,
      "outputs": []
    },
    {
      "cell_type": "code",
      "metadata": {
        "id": "ZJHlkUQQyOIf",
        "colab_type": "code",
        "colab": {
          "base_uri": "https://localhost:8080/",
          "height": 195
        },
        "outputId": "592ee0e0-52f3-4050-ae5a-fcd12287f831"
      },
      "source": [
        "differentYear_loan_USD.head()"
      ],
      "execution_count": 355,
      "outputs": [
        {
          "output_type": "execute_result",
          "data": {
            "text/html": [
              "<div>\n",
              "<style scoped>\n",
              "    .dataframe tbody tr th:only-of-type {\n",
              "        vertical-align: middle;\n",
              "    }\n",
              "\n",
              "    .dataframe tbody tr th {\n",
              "        vertical-align: top;\n",
              "    }\n",
              "\n",
              "    .dataframe thead th {\n",
              "        text-align: right;\n",
              "    }\n",
              "</style>\n",
              "<table border=\"1\" class=\"dataframe\">\n",
              "  <thead>\n",
              "    <tr style=\"text-align: right;\">\n",
              "      <th></th>\n",
              "      <th>loan_id</th>\n",
              "      <th>disburse_time</th>\n",
              "      <th>planned_expiration_time</th>\n",
              "      <th>year_disburse</th>\n",
              "      <th>year_expiration</th>\n",
              "      <th>loan_amount_conversion</th>\n",
              "      <th>day_disburse</th>\n",
              "    </tr>\n",
              "  </thead>\n",
              "  <tbody>\n",
              "    <tr>\n",
              "      <th>0</th>\n",
              "      <td>657307</td>\n",
              "      <td>2013-12-22 08:00:00</td>\n",
              "      <td>2014-02-14 03:30:06</td>\n",
              "      <td>2013</td>\n",
              "      <td>2014</td>\n",
              "      <td>2.81</td>\n",
              "      <td>22</td>\n",
              "    </tr>\n",
              "    <tr>\n",
              "      <th>1</th>\n",
              "      <td>656933</td>\n",
              "      <td>2013-12-17 08:00:00</td>\n",
              "      <td>2014-02-13 06:10:02</td>\n",
              "      <td>2013</td>\n",
              "      <td>2014</td>\n",
              "      <td>9.60</td>\n",
              "      <td>17</td>\n",
              "    </tr>\n",
              "    <tr>\n",
              "      <th>2</th>\n",
              "      <td>657341</td>\n",
              "      <td>2013-12-17 08:00:00</td>\n",
              "      <td>2014-02-14 08:30:03</td>\n",
              "      <td>2013</td>\n",
              "      <td>2014</td>\n",
              "      <td>9.60</td>\n",
              "      <td>17</td>\n",
              "    </tr>\n",
              "    <tr>\n",
              "      <th>3</th>\n",
              "      <td>657884</td>\n",
              "      <td>2013-12-17 08:00:00</td>\n",
              "      <td>2014-02-15 18:10:08</td>\n",
              "      <td>2013</td>\n",
              "      <td>2014</td>\n",
              "      <td>15.25</td>\n",
              "      <td>17</td>\n",
              "    </tr>\n",
              "    <tr>\n",
              "      <th>4</th>\n",
              "      <td>657867</td>\n",
              "      <td>2013-12-17 08:00:00</td>\n",
              "      <td>2014-02-15 18:50:02</td>\n",
              "      <td>2013</td>\n",
              "      <td>2014</td>\n",
              "      <td>6.21</td>\n",
              "      <td>17</td>\n",
              "    </tr>\n",
              "  </tbody>\n",
              "</table>\n",
              "</div>"
            ],
            "text/plain": [
              "   loan_id       disburse_time  ... loan_amount_conversion  day_disburse\n",
              "0   657307 2013-12-22 08:00:00  ...                   2.81            22\n",
              "1   656933 2013-12-17 08:00:00  ...                   9.60            17\n",
              "2   657341 2013-12-17 08:00:00  ...                   9.60            17\n",
              "3   657884 2013-12-17 08:00:00  ...                  15.25            17\n",
              "4   657867 2013-12-17 08:00:00  ...                   6.21            17\n",
              "\n",
              "[5 rows x 7 columns]"
            ]
          },
          "metadata": {
            "tags": []
          },
          "execution_count": 355
        }
      ]
    },
    {
      "cell_type": "code",
      "metadata": {
        "id": "0pkQJnWvzaAA",
        "colab_type": "code",
        "colab": {}
      },
      "source": [
        "differentYear_loan_USD['range'] = differentYear_loan_USD.apply(lambda x: range(x['year_disburse'],x['year_expiration']+1),axis=1)"
      ],
      "execution_count": 0,
      "outputs": []
    },
    {
      "cell_type": "code",
      "metadata": {
        "id": "dEUMo10DG1At",
        "colab_type": "code",
        "colab": {}
      },
      "source": [
        "differentYear_loan_USD['month_disburse'] = differentYear_loan_USD.apply(lambda x: x['disburse_time'].date().month,axis=1)"
      ],
      "execution_count": 0,
      "outputs": []
    },
    {
      "cell_type": "code",
      "metadata": {
        "id": "KBInG024IyjX",
        "colab_type": "code",
        "colab": {}
      },
      "source": [
        "differentYear_loan_USD['day_expiration'] = differentYear_loan_USD.apply(lambda x: x['planned_expiration_time'].date().day,axis=1)"
      ],
      "execution_count": 0,
      "outputs": []
    },
    {
      "cell_type": "code",
      "metadata": {
        "id": "O8lKnxjXJCJI",
        "colab_type": "code",
        "colab": {
          "base_uri": "https://localhost:8080/",
          "height": 299
        },
        "outputId": "d2c9dff5-be0f-47b9-c301-20ba8e1c6a27"
      },
      "source": [
        "differentYear_loan_USD.head()"
      ],
      "execution_count": 371,
      "outputs": [
        {
          "output_type": "execute_result",
          "data": {
            "text/html": [
              "<div>\n",
              "<style scoped>\n",
              "    .dataframe tbody tr th:only-of-type {\n",
              "        vertical-align: middle;\n",
              "    }\n",
              "\n",
              "    .dataframe tbody tr th {\n",
              "        vertical-align: top;\n",
              "    }\n",
              "\n",
              "    .dataframe thead th {\n",
              "        text-align: right;\n",
              "    }\n",
              "</style>\n",
              "<table border=\"1\" class=\"dataframe\">\n",
              "  <thead>\n",
              "    <tr style=\"text-align: right;\">\n",
              "      <th></th>\n",
              "      <th>loan_id</th>\n",
              "      <th>disburse_time</th>\n",
              "      <th>planned_expiration_time</th>\n",
              "      <th>year_disburse</th>\n",
              "      <th>year_expiration</th>\n",
              "      <th>loan_amount_conversion</th>\n",
              "      <th>day_disburse</th>\n",
              "      <th>range</th>\n",
              "      <th>month_disburse</th>\n",
              "      <th>day_expiration</th>\n",
              "    </tr>\n",
              "  </thead>\n",
              "  <tbody>\n",
              "    <tr>\n",
              "      <th>0</th>\n",
              "      <td>657307</td>\n",
              "      <td>2013-12-22 08:00:00</td>\n",
              "      <td>2014-02-14 03:30:06</td>\n",
              "      <td>2013</td>\n",
              "      <td>2014</td>\n",
              "      <td>2.81</td>\n",
              "      <td>22</td>\n",
              "      <td>(2013, 2014)</td>\n",
              "      <td>12</td>\n",
              "      <td>14</td>\n",
              "    </tr>\n",
              "    <tr>\n",
              "      <th>1</th>\n",
              "      <td>656933</td>\n",
              "      <td>2013-12-17 08:00:00</td>\n",
              "      <td>2014-02-13 06:10:02</td>\n",
              "      <td>2013</td>\n",
              "      <td>2014</td>\n",
              "      <td>9.60</td>\n",
              "      <td>17</td>\n",
              "      <td>(2013, 2014)</td>\n",
              "      <td>12</td>\n",
              "      <td>13</td>\n",
              "    </tr>\n",
              "    <tr>\n",
              "      <th>2</th>\n",
              "      <td>657341</td>\n",
              "      <td>2013-12-17 08:00:00</td>\n",
              "      <td>2014-02-14 08:30:03</td>\n",
              "      <td>2013</td>\n",
              "      <td>2014</td>\n",
              "      <td>9.60</td>\n",
              "      <td>17</td>\n",
              "      <td>(2013, 2014)</td>\n",
              "      <td>12</td>\n",
              "      <td>14</td>\n",
              "    </tr>\n",
              "    <tr>\n",
              "      <th>3</th>\n",
              "      <td>657884</td>\n",
              "      <td>2013-12-17 08:00:00</td>\n",
              "      <td>2014-02-15 18:10:08</td>\n",
              "      <td>2013</td>\n",
              "      <td>2014</td>\n",
              "      <td>15.25</td>\n",
              "      <td>17</td>\n",
              "      <td>(2013, 2014)</td>\n",
              "      <td>12</td>\n",
              "      <td>15</td>\n",
              "    </tr>\n",
              "    <tr>\n",
              "      <th>4</th>\n",
              "      <td>657867</td>\n",
              "      <td>2013-12-17 08:00:00</td>\n",
              "      <td>2014-02-15 18:50:02</td>\n",
              "      <td>2013</td>\n",
              "      <td>2014</td>\n",
              "      <td>6.21</td>\n",
              "      <td>17</td>\n",
              "      <td>(2013, 2014)</td>\n",
              "      <td>12</td>\n",
              "      <td>15</td>\n",
              "    </tr>\n",
              "  </tbody>\n",
              "</table>\n",
              "</div>"
            ],
            "text/plain": [
              "   loan_id       disburse_time  ... month_disburse  day_expiration\n",
              "0   657307 2013-12-22 08:00:00  ...             12              14\n",
              "1   656933 2013-12-17 08:00:00  ...             12              13\n",
              "2   657341 2013-12-17 08:00:00  ...             12              14\n",
              "3   657884 2013-12-17 08:00:00  ...             12              15\n",
              "4   657867 2013-12-17 08:00:00  ...             12              15\n",
              "\n",
              "[5 rows x 10 columns]"
            ]
          },
          "metadata": {
            "tags": []
          },
          "execution_count": 371
        }
      ]
    },
    {
      "cell_type": "code",
      "metadata": {
        "id": "-vLNvtPx2GYL",
        "colab_type": "code",
        "colab": {}
      },
      "source": [
        "years = loan_USD['year_disburse'].unique()\n",
        "leap = list(map(calendar.isleap, years))"
      ],
      "execution_count": 0,
      "outputs": []
    },
    {
      "cell_type": "code",
      "metadata": {
        "id": "B79yzMdQ5Vc2",
        "colab_type": "code",
        "colab": {}
      },
      "source": [
        "dict_leap = dict(zip(years, leap))"
      ],
      "execution_count": 0,
      "outputs": []
    },
    {
      "cell_type": "code",
      "metadata": {
        "id": "FGqCcOEy5Hzc",
        "colab_type": "code",
        "colab": {
          "base_uri": "https://localhost:8080/",
          "height": 284
        },
        "outputId": "522da1ff-4f1c-4584-fddd-3e032a172073"
      },
      "source": [
        "check_leap = pd.DataFrame(dict_leap.items())\n",
        "check_leap"
      ],
      "execution_count": 364,
      "outputs": [
        {
          "output_type": "execute_result",
          "data": {
            "text/html": [
              "<div>\n",
              "<style scoped>\n",
              "    .dataframe tbody tr th:only-of-type {\n",
              "        vertical-align: middle;\n",
              "    }\n",
              "\n",
              "    .dataframe tbody tr th {\n",
              "        vertical-align: top;\n",
              "    }\n",
              "\n",
              "    .dataframe thead th {\n",
              "        text-align: right;\n",
              "    }\n",
              "</style>\n",
              "<table border=\"1\" class=\"dataframe\">\n",
              "  <thead>\n",
              "    <tr style=\"text-align: right;\">\n",
              "      <th></th>\n",
              "      <th>0</th>\n",
              "      <th>1</th>\n",
              "    </tr>\n",
              "  </thead>\n",
              "  <tbody>\n",
              "    <tr>\n",
              "      <th>0</th>\n",
              "      <td>2013</td>\n",
              "      <td>False</td>\n",
              "    </tr>\n",
              "    <tr>\n",
              "      <th>1</th>\n",
              "      <td>2014</td>\n",
              "      <td>False</td>\n",
              "    </tr>\n",
              "    <tr>\n",
              "      <th>2</th>\n",
              "      <td>2015</td>\n",
              "      <td>False</td>\n",
              "    </tr>\n",
              "    <tr>\n",
              "      <th>3</th>\n",
              "      <td>2012</td>\n",
              "      <td>True</td>\n",
              "    </tr>\n",
              "    <tr>\n",
              "      <th>4</th>\n",
              "      <td>2016</td>\n",
              "      <td>True</td>\n",
              "    </tr>\n",
              "    <tr>\n",
              "      <th>5</th>\n",
              "      <td>2017</td>\n",
              "      <td>False</td>\n",
              "    </tr>\n",
              "    <tr>\n",
              "      <th>6</th>\n",
              "      <td>2011</td>\n",
              "      <td>False</td>\n",
              "    </tr>\n",
              "    <tr>\n",
              "      <th>7</th>\n",
              "      <td>2018</td>\n",
              "      <td>False</td>\n",
              "    </tr>\n",
              "  </tbody>\n",
              "</table>\n",
              "</div>"
            ],
            "text/plain": [
              "      0      1\n",
              "0  2013  False\n",
              "1  2014  False\n",
              "2  2015  False\n",
              "3  2012   True\n",
              "4  2016   True\n",
              "5  2017  False\n",
              "6  2011  False\n",
              "7  2018  False"
            ]
          },
          "metadata": {
            "tags": []
          },
          "execution_count": 364
        }
      ]
    },
    {
      "cell_type": "code",
      "metadata": {
        "id": "V2_gTEPyKJwe",
        "colab_type": "code",
        "colab": {
          "base_uri": "https://localhost:8080/",
          "height": 299
        },
        "outputId": "1076b84c-862c-4d92-815d-9f4ccfbbd525"
      },
      "source": [
        "differentYear_loan_USD.head()"
      ],
      "execution_count": 408,
      "outputs": [
        {
          "output_type": "execute_result",
          "data": {
            "text/html": [
              "<div>\n",
              "<style scoped>\n",
              "    .dataframe tbody tr th:only-of-type {\n",
              "        vertical-align: middle;\n",
              "    }\n",
              "\n",
              "    .dataframe tbody tr th {\n",
              "        vertical-align: top;\n",
              "    }\n",
              "\n",
              "    .dataframe thead th {\n",
              "        text-align: right;\n",
              "    }\n",
              "</style>\n",
              "<table border=\"1\" class=\"dataframe\">\n",
              "  <thead>\n",
              "    <tr style=\"text-align: right;\">\n",
              "      <th></th>\n",
              "      <th>loan_id</th>\n",
              "      <th>disburse_time</th>\n",
              "      <th>planned_expiration_time</th>\n",
              "      <th>year_disburse</th>\n",
              "      <th>year_expiration</th>\n",
              "      <th>loan_amount_conversion</th>\n",
              "      <th>day_disburse</th>\n",
              "      <th>range</th>\n",
              "      <th>month_disburse</th>\n",
              "      <th>day_expiration</th>\n",
              "      <th>dict_distribution</th>\n",
              "    </tr>\n",
              "  </thead>\n",
              "  <tbody>\n",
              "    <tr>\n",
              "      <th>0</th>\n",
              "      <td>657307</td>\n",
              "      <td>2013-12-22 08:00:00</td>\n",
              "      <td>2014-02-14 03:30:06</td>\n",
              "      <td>2013</td>\n",
              "      <td>2014</td>\n",
              "      <td>2.81</td>\n",
              "      <td>22</td>\n",
              "      <td>(2013, 2014)</td>\n",
              "      <td>12</td>\n",
              "      <td>14</td>\n",
              "      <td>None</td>\n",
              "    </tr>\n",
              "    <tr>\n",
              "      <th>1</th>\n",
              "      <td>656933</td>\n",
              "      <td>2013-12-17 08:00:00</td>\n",
              "      <td>2014-02-13 06:10:02</td>\n",
              "      <td>2013</td>\n",
              "      <td>2014</td>\n",
              "      <td>9.60</td>\n",
              "      <td>17</td>\n",
              "      <td>(2013, 2014)</td>\n",
              "      <td>12</td>\n",
              "      <td>13</td>\n",
              "      <td>None</td>\n",
              "    </tr>\n",
              "    <tr>\n",
              "      <th>2</th>\n",
              "      <td>657341</td>\n",
              "      <td>2013-12-17 08:00:00</td>\n",
              "      <td>2014-02-14 08:30:03</td>\n",
              "      <td>2013</td>\n",
              "      <td>2014</td>\n",
              "      <td>9.60</td>\n",
              "      <td>17</td>\n",
              "      <td>(2013, 2014)</td>\n",
              "      <td>12</td>\n",
              "      <td>14</td>\n",
              "      <td>None</td>\n",
              "    </tr>\n",
              "    <tr>\n",
              "      <th>3</th>\n",
              "      <td>657884</td>\n",
              "      <td>2013-12-17 08:00:00</td>\n",
              "      <td>2014-02-15 18:10:08</td>\n",
              "      <td>2013</td>\n",
              "      <td>2014</td>\n",
              "      <td>15.25</td>\n",
              "      <td>17</td>\n",
              "      <td>(2013, 2014)</td>\n",
              "      <td>12</td>\n",
              "      <td>15</td>\n",
              "      <td>None</td>\n",
              "    </tr>\n",
              "    <tr>\n",
              "      <th>4</th>\n",
              "      <td>657867</td>\n",
              "      <td>2013-12-17 08:00:00</td>\n",
              "      <td>2014-02-15 18:50:02</td>\n",
              "      <td>2013</td>\n",
              "      <td>2014</td>\n",
              "      <td>6.21</td>\n",
              "      <td>17</td>\n",
              "      <td>(2013, 2014)</td>\n",
              "      <td>12</td>\n",
              "      <td>15</td>\n",
              "      <td>None</td>\n",
              "    </tr>\n",
              "  </tbody>\n",
              "</table>\n",
              "</div>"
            ],
            "text/plain": [
              "   loan_id       disburse_time  ... day_expiration  dict_distribution\n",
              "0   657307 2013-12-22 08:00:00  ...             14               None\n",
              "1   656933 2013-12-17 08:00:00  ...             13               None\n",
              "2   657341 2013-12-17 08:00:00  ...             14               None\n",
              "3   657884 2013-12-17 08:00:00  ...             15               None\n",
              "4   657867 2013-12-17 08:00:00  ...             15               None\n",
              "\n",
              "[5 rows x 11 columns]"
            ]
          },
          "metadata": {
            "tags": []
          },
          "execution_count": 408
        }
      ]
    },
    {
      "cell_type": "code",
      "metadata": {
        "id": "YQIgOf8-JcDE",
        "colab_type": "code",
        "colab": {}
      },
      "source": [
        "def compute_distribution(range,day_d,month_d,year_d,day_e):\n",
        "  days_month = calendar.monthrange(year_d,month_d)[1]\n",
        "  print(day_d)\n",
        "  difference = days_month - day_d\n",
        "  print(difference)"
      ],
      "execution_count": 0,
      "outputs": []
    },
    {
      "cell_type": "code",
      "metadata": {
        "id": "xMUsxaaMH-R0",
        "colab_type": "code",
        "colab": {
          "base_uri": "https://localhost:8080/",
          "height": 1000
        },
        "outputId": "6a9b3a54-69e5-484e-8c8b-eb61ce572d5f"
      },
      "source": [
        "differentYear_loan_USD['dict_distribution']=differentYear_loan_USD.apply(lambda x: compute_distribution(x['range'],x['day_disburse'],\n",
        "                                                                                                        x['month_disburse'],x['year_disburse'],\n",
        "                                                                                                        x['day_expiration']),axis=1)"
      ],
      "execution_count": 406,
      "outputs": [
        {
          "output_type": "stream",
          "text": [
            "22\n",
            "9\n",
            "17\n",
            "14\n",
            "17\n",
            "14\n",
            "17\n",
            "14\n",
            "17\n",
            "14\n",
            "17\n",
            "14\n",
            "17\n",
            "14\n",
            "17\n",
            "14\n",
            "17\n",
            "14\n",
            "17\n",
            "14\n",
            "17\n",
            "14\n",
            "17\n",
            "14\n",
            "17\n",
            "14\n",
            "17\n",
            "14\n",
            "17\n",
            "14\n",
            "17\n",
            "14\n",
            "17\n",
            "14\n",
            "17\n",
            "14\n",
            "17\n",
            "14\n",
            "17\n",
            "14\n",
            "17\n",
            "14\n",
            "17\n",
            "14\n",
            "17\n",
            "14\n",
            "17\n",
            "14\n",
            "17\n",
            "14\n",
            "17\n",
            "14\n",
            "17\n",
            "14\n",
            "17\n",
            "14\n",
            "17\n",
            "14\n",
            "17\n",
            "14\n",
            "17\n",
            "14\n",
            "17\n",
            "14\n",
            "17\n",
            "14\n",
            "17\n",
            "14\n",
            "17\n",
            "14\n",
            "17\n",
            "14\n",
            "17\n",
            "14\n",
            "17\n",
            "14\n",
            "17\n",
            "14\n",
            "17\n",
            "14\n",
            "17\n",
            "14\n",
            "17\n",
            "14\n",
            "17\n",
            "14\n",
            "17\n",
            "14\n",
            "17\n",
            "14\n",
            "17\n",
            "14\n",
            "17\n",
            "14\n",
            "17\n",
            "14\n",
            "17\n",
            "14\n",
            "17\n",
            "14\n",
            "17\n",
            "14\n",
            "17\n",
            "14\n",
            "17\n",
            "14\n",
            "17\n",
            "14\n",
            "17\n",
            "14\n",
            "17\n",
            "14\n",
            "17\n",
            "14\n",
            "17\n",
            "14\n",
            "17\n",
            "14\n",
            "17\n",
            "14\n",
            "17\n",
            "14\n",
            "17\n",
            "14\n",
            "17\n",
            "14\n",
            "17\n",
            "14\n",
            "17\n",
            "14\n",
            "17\n",
            "14\n",
            "17\n",
            "14\n",
            "17\n",
            "14\n",
            "17\n",
            "14\n",
            "17\n",
            "14\n",
            "17\n",
            "14\n",
            "17\n",
            "14\n",
            "17\n",
            "14\n",
            "17\n",
            "14\n",
            "17\n",
            "14\n",
            "17\n",
            "14\n",
            "17\n",
            "14\n",
            "17\n",
            "14\n",
            "17\n",
            "14\n",
            "17\n",
            "14\n",
            "17\n",
            "14\n",
            "17\n",
            "14\n",
            "17\n",
            "14\n",
            "17\n",
            "14\n",
            "17\n",
            "14\n",
            "17\n",
            "14\n",
            "17\n",
            "14\n",
            "17\n",
            "14\n",
            "17\n",
            "14\n",
            "17\n",
            "14\n",
            "17\n",
            "14\n"
          ],
          "name": "stdout"
        }
      ]
    },
    {
      "cell_type": "code",
      "metadata": {
        "id": "4AZGsndoJrPs",
        "colab_type": "code",
        "colab": {
          "base_uri": "https://localhost:8080/",
          "height": 34
        },
        "outputId": "833efa5a-20ac-4aaf-aafd-39126f3f07dc"
      },
      "source": [
        "calendar.monthrange(2014,2)"
      ],
      "execution_count": 394,
      "outputs": [
        {
          "output_type": "execute_result",
          "data": {
            "text/plain": [
              "(5, 28)"
            ]
          },
          "metadata": {
            "tags": []
          },
          "execution_count": 394
        }
      ]
    }
  ]
}