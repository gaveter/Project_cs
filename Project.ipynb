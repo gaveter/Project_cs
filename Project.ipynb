{
  "nbformat": 4,
  "nbformat_minor": 0,
  "metadata": {
    "colab": {
      "name": "Project.ipynb",
      "provenance": [],
      "collapsed_sections": [],
      "toc_visible": true,
      "machine_shape": "hm",
      "include_colab_link": true
    },
    "kernelspec": {
      "name": "python3",
      "display_name": "Python 3"
    }
  },
  "cells": [
    {
      "cell_type": "markdown",
      "metadata": {
        "id": "view-in-github",
        "colab_type": "text"
      },
      "source": [
        "<a href=\"https://colab.research.google.com/github/gaveter/Project_cs/blob/master/Project.ipynb\" target=\"_parent\"><img src=\"https://colab.research.google.com/assets/colab-badge.svg\" alt=\"Open In Colab\"/></a>"
      ]
    },
    {
      "cell_type": "code",
      "metadata": {
        "id": "ol1w_yeL6Ns5",
        "colab_type": "code",
        "outputId": "2c7838fd-9651-49c8-eee6-42311ab09122",
        "colab": {
          "base_uri": "https://localhost:8080/",
          "height": 34
        }
      },
      "source": [
        "from google.colab import drive\n",
        "drive.mount('/content/drive')"
      ],
      "execution_count": 8,
      "outputs": [
        {
          "output_type": "stream",
          "text": [
            "Drive already mounted at /content/drive; to attempt to forcibly remount, call drive.mount(\"/content/drive\", force_remount=True).\n"
          ],
          "name": "stdout"
        }
      ]
    },
    {
      "cell_type": "markdown",
      "metadata": {
        "id": "Z6eOK8_a6P3z",
        "colab_type": "text"
      },
      "source": [
        "# Project 2019-20\n",
        "1. Normalize the loan_lenders table. In the normalized table, each row must have one loan_id and one lender.\n",
        "2. For each loan, add a column duration corresponding to the number of days between the disburse time and the planned expiration time. If any of those two dates is missing, also the duration must be missing.\n",
        "3. Find the lenders that have funded at least twice.\n",
        "4. For each country, compute how many loans have involved that country as borrowers.\n",
        "5. For each country, compute the overall amount of money borrowed.\n",
        "6. Like the previous point, but expressed as a percentage of the overall amount lent.\n",
        "7. Like the three previous points, but split for each year (with respect to disburse time).\n",
        "8. For each lender, compute the overall amount of money lent. For each loan that has more than one lender, you must assume that all lenders contributed the same amount.\n",
        "9. For each country, compute the difference between the overall amount of money lent and the overall amount of money borrowed. Since the country of the lender is often unknown, you can assume that the true distribution among the countries is the same as the one computed from the rows where the country is known.\n",
        "10. Which country has the highest ratio between the difference computed at the previous point and the population?\n",
        "11. Which country has the highest ratio between the difference computed at point 9 and the population that is not below the poverty line?\n",
        "12. For each year, compute the total amount of loans. Each loan that has planned expiration time and disburse time in different years must have its amount distributed proportionally to the number of days in each year. For example, a loan with disburse time December 1st, 2016, planned expiration time January 30th 2018, and amount 5000USD has an amount of 5000USD * 31 / (31+365+30) = 363.85 for 2016, 5000USD * 365 / (31+365+30) = 4284.04 for 2017, and 5000USD * 30 / (31+365+30) = 352.11 for 2018.\n",
        "\n",
        "© 2019 GitHub, Inc."
      ]
    },
    {
      "cell_type": "markdown",
      "metadata": {
        "id": "jRQIjhEl7EO0",
        "colab_type": "text"
      },
      "source": [
        "## Install libraries"
      ]
    },
    {
      "cell_type": "code",
      "metadata": {
        "id": "n2X6u2wc8AhZ",
        "colab_type": "code",
        "colab": {}
      },
      "source": [
        "#pip install holidays #libreria necessaria per ritornare informazioni corrette da API Exchange rates"
      ],
      "execution_count": 0,
      "outputs": []
    },
    {
      "cell_type": "code",
      "metadata": {
        "id": "r1FMAtgcY9Zd",
        "colab_type": "code",
        "colab": {}
      },
      "source": [
        "#pip install request #libreria necessaria per effettuare richieste HTTP"
      ],
      "execution_count": 0,
      "outputs": []
    },
    {
      "cell_type": "markdown",
      "metadata": {
        "id": "ac0rXnKy7Gx5",
        "colab_type": "text"
      },
      "source": [
        "## Load libraries"
      ]
    },
    {
      "cell_type": "code",
      "metadata": {
        "id": "HhI6_r9s7Dro",
        "colab_type": "code",
        "colab": {}
      },
      "source": [
        "import pandas as pd\n",
        "from datetime import datetime, timedelta\n",
        "import re\n",
        "import numpy as np\n",
        "import holidays\n",
        "from pandas.tseries.offsets import BDay\n",
        "import matplotlib.pyplot as plt\n",
        "import itertools\n",
        "import requests\n",
        "import functools\n",
        "import calendar\n",
        "from collections import defaultdict"
      ],
      "execution_count": 0,
      "outputs": []
    },
    {
      "cell_type": "markdown",
      "metadata": {
        "id": "H293IL1LBfcH",
        "colab_type": "text"
      },
      "source": [
        "## Task1\n",
        "- Normalize the loan_lenders table. In the normalized table, each row must have one loan_id and one lender."
      ]
    },
    {
      "cell_type": "markdown",
      "metadata": {
        "id": "vBBoMroH7fgN",
        "colab_type": "text"
      },
      "source": [
        "### Load csv (loans_lenders)"
      ]
    },
    {
      "cell_type": "code",
      "metadata": {
        "id": "nuD87I-u7UGW",
        "colab_type": "code",
        "colab": {}
      },
      "source": [
        "loans_lender = pd.read_csv('/content/drive/My Drive/Foundation of computer science/additional-kiva-snapshot/loans_lenders.csv')"
      ],
      "execution_count": 0,
      "outputs": []
    },
    {
      "cell_type": "markdown",
      "metadata": {
        "id": "5xNbI8At-N6G",
        "colab_type": "text"
      },
      "source": [
        "_Overview_"
      ]
    },
    {
      "cell_type": "code",
      "metadata": {
        "id": "D_e6nB47Yr0g",
        "colab_type": "code",
        "outputId": "7e3e55fa-7640-488d-e956-f8bb153e9867",
        "colab": {
          "base_uri": "https://localhost:8080/",
          "height": 67
        }
      },
      "source": [
        "loans_lender.dtypes"
      ],
      "execution_count": 16,
      "outputs": [
        {
          "output_type": "execute_result",
          "data": {
            "text/plain": [
              "loan_id     int64\n",
              "lenders    object\n",
              "dtype: object"
            ]
          },
          "metadata": {
            "tags": []
          },
          "execution_count": 16
        }
      ]
    },
    {
      "cell_type": "code",
      "metadata": {
        "id": "NjRpKKfy-U0O",
        "colab_type": "code",
        "outputId": "c338d333-fd2b-4f19-901f-df7485c2b3eb",
        "colab": {
          "base_uri": "https://localhost:8080/",
          "height": 212
        }
      },
      "source": [
        "print(\"Number rows total: \"+str(len(loans_lender)))\n",
        "loans_lender.head()"
      ],
      "execution_count": 17,
      "outputs": [
        {
          "output_type": "stream",
          "text": [
            "Number rows total: 1387432\n"
          ],
          "name": "stdout"
        },
        {
          "output_type": "execute_result",
          "data": {
            "text/html": [
              "<div>\n",
              "<style scoped>\n",
              "    .dataframe tbody tr th:only-of-type {\n",
              "        vertical-align: middle;\n",
              "    }\n",
              "\n",
              "    .dataframe tbody tr th {\n",
              "        vertical-align: top;\n",
              "    }\n",
              "\n",
              "    .dataframe thead th {\n",
              "        text-align: right;\n",
              "    }\n",
              "</style>\n",
              "<table border=\"1\" class=\"dataframe\">\n",
              "  <thead>\n",
              "    <tr style=\"text-align: right;\">\n",
              "      <th></th>\n",
              "      <th>loan_id</th>\n",
              "      <th>lenders</th>\n",
              "    </tr>\n",
              "  </thead>\n",
              "  <tbody>\n",
              "    <tr>\n",
              "      <th>0</th>\n",
              "      <td>483693</td>\n",
              "      <td>muc888, sam4326, camaran3922, lachheb1865, reb...</td>\n",
              "    </tr>\n",
              "    <tr>\n",
              "      <th>1</th>\n",
              "      <td>483738</td>\n",
              "      <td>muc888, nora3555, williammanashi, barbara5610,...</td>\n",
              "    </tr>\n",
              "    <tr>\n",
              "      <th>2</th>\n",
              "      <td>485000</td>\n",
              "      <td>muc888, terrystl, richardandsusan8352, sherri4...</td>\n",
              "    </tr>\n",
              "    <tr>\n",
              "      <th>3</th>\n",
              "      <td>486087</td>\n",
              "      <td>muc888, james5068, rudi5955, daniel9859, don92...</td>\n",
              "    </tr>\n",
              "    <tr>\n",
              "      <th>4</th>\n",
              "      <td>534428</td>\n",
              "      <td>muc888, niki3008, teresa9174, mike4896, david7...</td>\n",
              "    </tr>\n",
              "  </tbody>\n",
              "</table>\n",
              "</div>"
            ],
            "text/plain": [
              "   loan_id                                            lenders\n",
              "0   483693  muc888, sam4326, camaran3922, lachheb1865, reb...\n",
              "1   483738  muc888, nora3555, williammanashi, barbara5610,...\n",
              "2   485000  muc888, terrystl, richardandsusan8352, sherri4...\n",
              "3   486087  muc888, james5068, rudi5955, daniel9859, don92...\n",
              "4   534428  muc888, niki3008, teresa9174, mike4896, david7..."
            ]
          },
          "metadata": {
            "tags": []
          },
          "execution_count": 17
        }
      ]
    },
    {
      "cell_type": "markdown",
      "metadata": {
        "id": "XtUUcFYDHUeD",
        "colab_type": "text"
      },
      "source": [
        "### Split each lender for each loan"
      ]
    },
    {
      "cell_type": "code",
      "metadata": {
        "id": "qeZeYsGHBUup",
        "colab_type": "code",
        "colab": {}
      },
      "source": [
        "loans_lender[\"lenders\"]=loans_lender[\"lenders\"].str.split(', ') #creazione lista per ogni riga\n",
        "loans_lender_norm=loans_lender.explode('lenders') #trasformazione ogni elemento della lista come una riga"
      ],
      "execution_count": 0,
      "outputs": []
    },
    {
      "cell_type": "code",
      "metadata": {
        "id": "dAMLx8OKAiNY",
        "colab_type": "code",
        "colab": {}
      },
      "source": [
        "loans_lender_norm=loans_lender_norm.reset_index(drop=True)"
      ],
      "execution_count": 0,
      "outputs": []
    },
    {
      "cell_type": "markdown",
      "metadata": {
        "id": "APH26ZJ3D5l-",
        "colab_type": "text"
      },
      "source": [
        "### _Result_"
      ]
    },
    {
      "cell_type": "code",
      "metadata": {
        "id": "RrsCO8-mCJmi",
        "colab_type": "code",
        "outputId": "581a714d-c0d4-4772-8b98-7809a974c19e",
        "colab": {
          "base_uri": "https://localhost:8080/",
          "height": 195
        }
      },
      "source": [
        "loans_lender_norm.head()"
      ],
      "execution_count": 20,
      "outputs": [
        {
          "output_type": "execute_result",
          "data": {
            "text/html": [
              "<div>\n",
              "<style scoped>\n",
              "    .dataframe tbody tr th:only-of-type {\n",
              "        vertical-align: middle;\n",
              "    }\n",
              "\n",
              "    .dataframe tbody tr th {\n",
              "        vertical-align: top;\n",
              "    }\n",
              "\n",
              "    .dataframe thead th {\n",
              "        text-align: right;\n",
              "    }\n",
              "</style>\n",
              "<table border=\"1\" class=\"dataframe\">\n",
              "  <thead>\n",
              "    <tr style=\"text-align: right;\">\n",
              "      <th></th>\n",
              "      <th>loan_id</th>\n",
              "      <th>lenders</th>\n",
              "    </tr>\n",
              "  </thead>\n",
              "  <tbody>\n",
              "    <tr>\n",
              "      <th>0</th>\n",
              "      <td>483693</td>\n",
              "      <td>muc888</td>\n",
              "    </tr>\n",
              "    <tr>\n",
              "      <th>1</th>\n",
              "      <td>483693</td>\n",
              "      <td>sam4326</td>\n",
              "    </tr>\n",
              "    <tr>\n",
              "      <th>2</th>\n",
              "      <td>483693</td>\n",
              "      <td>camaran3922</td>\n",
              "    </tr>\n",
              "    <tr>\n",
              "      <th>3</th>\n",
              "      <td>483693</td>\n",
              "      <td>lachheb1865</td>\n",
              "    </tr>\n",
              "    <tr>\n",
              "      <th>4</th>\n",
              "      <td>483693</td>\n",
              "      <td>rebecca3499</td>\n",
              "    </tr>\n",
              "  </tbody>\n",
              "</table>\n",
              "</div>"
            ],
            "text/plain": [
              "   loan_id      lenders\n",
              "0   483693       muc888\n",
              "1   483693      sam4326\n",
              "2   483693  camaran3922\n",
              "3   483693  lachheb1865\n",
              "4   483693  rebecca3499"
            ]
          },
          "metadata": {
            "tags": []
          },
          "execution_count": 20
        }
      ]
    },
    {
      "cell_type": "markdown",
      "metadata": {
        "id": "YZbRGXk2DZKq",
        "colab_type": "text"
      },
      "source": [
        "## Task2\n",
        "- For each loan, add a column duration corresponding to the number of days between the disburse time and the planned expiration time. If any of those two dates is missing, also the duration must be missing."
      ]
    },
    {
      "cell_type": "markdown",
      "metadata": {
        "id": "8hizSkn5LXfV",
        "colab_type": "text"
      },
      "source": [
        "### Load csv (loans)"
      ]
    },
    {
      "cell_type": "code",
      "metadata": {
        "id": "wOJrqF4kDc-U",
        "colab_type": "code",
        "colab": {}
      },
      "source": [
        "loan = pd.read_csv('/content/drive/My Drive/Foundation of computer science/additional-kiva-snapshot/loans.csv')"
      ],
      "execution_count": 0,
      "outputs": []
    },
    {
      "cell_type": "markdown",
      "metadata": {
        "id": "09Mreg75A6Un",
        "colab_type": "text"
      },
      "source": [
        "_Overview_"
      ]
    },
    {
      "cell_type": "code",
      "metadata": {
        "id": "nxlPKclPFppe",
        "colab_type": "code",
        "outputId": "8df94319-3788-467f-92f7-880237b161a2",
        "colab": {
          "base_uri": "https://localhost:8080/",
          "height": 554
        }
      },
      "source": [
        "loan.dtypes"
      ],
      "execution_count": 22,
      "outputs": [
        {
          "output_type": "execute_result",
          "data": {
            "text/plain": [
              "loan_id                              int64\n",
              "loan_name                           object\n",
              "original_language                   object\n",
              "description                         object\n",
              "description_translated              object\n",
              "funded_amount                      float64\n",
              "loan_amount                        float64\n",
              "status                              object\n",
              "activity_name                       object\n",
              "sector_name                         object\n",
              "loan_use                            object\n",
              "country_code                        object\n",
              "country_name                        object\n",
              "town_name                           object\n",
              "currency_policy                     object\n",
              "currency_exchange_coverage_rate    float64\n",
              "currency                            object\n",
              "partner_id                         float64\n",
              "posted_time                         object\n",
              "planned_expiration_time             object\n",
              "disburse_time                       object\n",
              "raised_time                         object\n",
              "lender_term                        float64\n",
              "num_lenders_total                    int64\n",
              "num_journal_entries                  int64\n",
              "num_bulk_entries                     int64\n",
              "tags                                object\n",
              "borrower_genders                    object\n",
              "borrower_pictured                   object\n",
              "repayment_interval                  object\n",
              "distribution_model                  object\n",
              "dtype: object"
            ]
          },
          "metadata": {
            "tags": []
          },
          "execution_count": 22
        }
      ]
    },
    {
      "cell_type": "code",
      "metadata": {
        "id": "64UhvtJ7BcV_",
        "colab_type": "code",
        "outputId": "e6083f0b-dae7-4eb6-f02f-6e28cd8c6024",
        "colab": {
          "base_uri": "https://localhost:8080/",
          "height": 585
        }
      },
      "source": [
        "print('Number rows total: '+str(len(loan)))\n",
        "loan.head()"
      ],
      "execution_count": 23,
      "outputs": [
        {
          "output_type": "stream",
          "text": [
            "Number rows total: 1419607\n"
          ],
          "name": "stdout"
        },
        {
          "output_type": "execute_result",
          "data": {
            "text/html": [
              "<div>\n",
              "<style scoped>\n",
              "    .dataframe tbody tr th:only-of-type {\n",
              "        vertical-align: middle;\n",
              "    }\n",
              "\n",
              "    .dataframe tbody tr th {\n",
              "        vertical-align: top;\n",
              "    }\n",
              "\n",
              "    .dataframe thead th {\n",
              "        text-align: right;\n",
              "    }\n",
              "</style>\n",
              "<table border=\"1\" class=\"dataframe\">\n",
              "  <thead>\n",
              "    <tr style=\"text-align: right;\">\n",
              "      <th></th>\n",
              "      <th>loan_id</th>\n",
              "      <th>loan_name</th>\n",
              "      <th>original_language</th>\n",
              "      <th>description</th>\n",
              "      <th>description_translated</th>\n",
              "      <th>funded_amount</th>\n",
              "      <th>loan_amount</th>\n",
              "      <th>status</th>\n",
              "      <th>activity_name</th>\n",
              "      <th>sector_name</th>\n",
              "      <th>loan_use</th>\n",
              "      <th>country_code</th>\n",
              "      <th>country_name</th>\n",
              "      <th>town_name</th>\n",
              "      <th>currency_policy</th>\n",
              "      <th>currency_exchange_coverage_rate</th>\n",
              "      <th>currency</th>\n",
              "      <th>partner_id</th>\n",
              "      <th>posted_time</th>\n",
              "      <th>planned_expiration_time</th>\n",
              "      <th>disburse_time</th>\n",
              "      <th>raised_time</th>\n",
              "      <th>lender_term</th>\n",
              "      <th>num_lenders_total</th>\n",
              "      <th>num_journal_entries</th>\n",
              "      <th>num_bulk_entries</th>\n",
              "      <th>tags</th>\n",
              "      <th>borrower_genders</th>\n",
              "      <th>borrower_pictured</th>\n",
              "      <th>repayment_interval</th>\n",
              "      <th>distribution_model</th>\n",
              "    </tr>\n",
              "  </thead>\n",
              "  <tbody>\n",
              "    <tr>\n",
              "      <th>0</th>\n",
              "      <td>657307</td>\n",
              "      <td>Aivy</td>\n",
              "      <td>English</td>\n",
              "      <td>Aivy, 21 years of age, is single and lives in ...</td>\n",
              "      <td>NaN</td>\n",
              "      <td>125.0</td>\n",
              "      <td>125.0</td>\n",
              "      <td>funded</td>\n",
              "      <td>General Store</td>\n",
              "      <td>Retail</td>\n",
              "      <td>to buy additional inventories for her sari-sa...</td>\n",
              "      <td>PH</td>\n",
              "      <td>Philippines</td>\n",
              "      <td>Ozamiz - Ozamiz City</td>\n",
              "      <td>shared</td>\n",
              "      <td>0.1</td>\n",
              "      <td>PHP</td>\n",
              "      <td>126.0</td>\n",
              "      <td>2014-01-15 02:23:45.000 +0000</td>\n",
              "      <td>2014-02-14 03:30:06.000 +0000</td>\n",
              "      <td>2013-12-22 08:00:00.000 +0000</td>\n",
              "      <td>2014-01-15 04:48:22.000 +0000</td>\n",
              "      <td>7.0</td>\n",
              "      <td>3</td>\n",
              "      <td>2</td>\n",
              "      <td>1</td>\n",
              "      <td>NaN</td>\n",
              "      <td>female</td>\n",
              "      <td>true</td>\n",
              "      <td>irregular</td>\n",
              "      <td>field_partner</td>\n",
              "    </tr>\n",
              "    <tr>\n",
              "      <th>1</th>\n",
              "      <td>657259</td>\n",
              "      <td>Idalia Marizza</td>\n",
              "      <td>Spanish</td>\n",
              "      <td>Doña Idalia, esta casada, tiene 57 años de eda...</td>\n",
              "      <td>Idalia, 57, is married and lives with her husb...</td>\n",
              "      <td>400.0</td>\n",
              "      <td>400.0</td>\n",
              "      <td>funded</td>\n",
              "      <td>Used Clothing</td>\n",
              "      <td>Clothing</td>\n",
              "      <td>To buy American clothing such as blouses, shir...</td>\n",
              "      <td>HN</td>\n",
              "      <td>Honduras</td>\n",
              "      <td>La Lopez, Choloma</td>\n",
              "      <td>shared</td>\n",
              "      <td>0.1</td>\n",
              "      <td>HNL</td>\n",
              "      <td>201.0</td>\n",
              "      <td>2014-01-14 20:23:20.000 +0000</td>\n",
              "      <td>2014-03-26 22:25:07.000 +0000</td>\n",
              "      <td>2013-12-20 08:00:00.000 +0000</td>\n",
              "      <td>2014-02-25 06:42:06.000 +0000</td>\n",
              "      <td>8.0</td>\n",
              "      <td>11</td>\n",
              "      <td>2</td>\n",
              "      <td>1</td>\n",
              "      <td>NaN</td>\n",
              "      <td>female</td>\n",
              "      <td>true</td>\n",
              "      <td>monthly</td>\n",
              "      <td>field_partner</td>\n",
              "    </tr>\n",
              "    <tr>\n",
              "      <th>2</th>\n",
              "      <td>658010</td>\n",
              "      <td>Aasia</td>\n",
              "      <td>English</td>\n",
              "      <td>Aasia is a 45-year-old married lady and she ha...</td>\n",
              "      <td>NaN</td>\n",
              "      <td>400.0</td>\n",
              "      <td>400.0</td>\n",
              "      <td>funded</td>\n",
              "      <td>General Store</td>\n",
              "      <td>Retail</td>\n",
              "      <td>to buy stock of rice, sugar and flour</td>\n",
              "      <td>PK</td>\n",
              "      <td>Pakistan</td>\n",
              "      <td>Lala Musa</td>\n",
              "      <td>shared</td>\n",
              "      <td>0.1</td>\n",
              "      <td>PKR</td>\n",
              "      <td>245.0</td>\n",
              "      <td>2014-01-16 11:32:58.000 +0000</td>\n",
              "      <td>2014-02-15 21:10:05.000 +0000</td>\n",
              "      <td>2014-01-09 08:00:00.000 +0000</td>\n",
              "      <td>2014-01-24 23:06:18.000 +0000</td>\n",
              "      <td>14.0</td>\n",
              "      <td>16</td>\n",
              "      <td>2</td>\n",
              "      <td>1</td>\n",
              "      <td>#Woman Owned Biz, #Supporting Family, user_fav...</td>\n",
              "      <td>female</td>\n",
              "      <td>true</td>\n",
              "      <td>monthly</td>\n",
              "      <td>field_partner</td>\n",
              "    </tr>\n",
              "    <tr>\n",
              "      <th>3</th>\n",
              "      <td>659347</td>\n",
              "      <td>Gulmira</td>\n",
              "      <td>Russian</td>\n",
              "      <td>Гулмире 36 лет, замужем, вместе с супругом вос...</td>\n",
              "      <td>Gulmira is 36 years old and married.  She and ...</td>\n",
              "      <td>625.0</td>\n",
              "      <td>625.0</td>\n",
              "      <td>funded</td>\n",
              "      <td>Farming</td>\n",
              "      <td>Agriculture</td>\n",
              "      <td>to buy cucumber and tomato seeds, as well as f...</td>\n",
              "      <td>KG</td>\n",
              "      <td>Kyrgyzstan</td>\n",
              "      <td>Aravan village, Osh region</td>\n",
              "      <td>shared</td>\n",
              "      <td>0.1</td>\n",
              "      <td>KGS</td>\n",
              "      <td>171.0</td>\n",
              "      <td>2014-01-20 09:59:48.000 +0000</td>\n",
              "      <td>2014-02-21 03:10:02.000 +0000</td>\n",
              "      <td>2014-01-17 08:00:00.000 +0000</td>\n",
              "      <td>2014-01-22 05:29:28.000 +0000</td>\n",
              "      <td>14.0</td>\n",
              "      <td>21</td>\n",
              "      <td>2</td>\n",
              "      <td>1</td>\n",
              "      <td>user_favorite</td>\n",
              "      <td>female</td>\n",
              "      <td>true</td>\n",
              "      <td>monthly</td>\n",
              "      <td>field_partner</td>\n",
              "    </tr>\n",
              "    <tr>\n",
              "      <th>4</th>\n",
              "      <td>656933</td>\n",
              "      <td>Ricky\\t</td>\n",
              "      <td>English</td>\n",
              "      <td>Ricky is a farmer who currently cultivates his...</td>\n",
              "      <td>NaN</td>\n",
              "      <td>425.0</td>\n",
              "      <td>425.0</td>\n",
              "      <td>funded</td>\n",
              "      <td>Farming</td>\n",
              "      <td>Agriculture</td>\n",
              "      <td>to buy organic fertilizer and agrochemical pr...</td>\n",
              "      <td>PH</td>\n",
              "      <td>Philippines</td>\n",
              "      <td>Baleleng, Sto. Thomas, Isabela</td>\n",
              "      <td>shared</td>\n",
              "      <td>0.1</td>\n",
              "      <td>PHP</td>\n",
              "      <td>123.0</td>\n",
              "      <td>2014-01-14 05:46:21.000 +0000</td>\n",
              "      <td>2014-02-13 06:10:02.000 +0000</td>\n",
              "      <td>2013-12-17 08:00:00.000 +0000</td>\n",
              "      <td>2014-01-14 17:29:27.000 +0000</td>\n",
              "      <td>7.0</td>\n",
              "      <td>15</td>\n",
              "      <td>2</td>\n",
              "      <td>1</td>\n",
              "      <td>#Animals, #Eco-friendly, #Sustainable Ag</td>\n",
              "      <td>male</td>\n",
              "      <td>true</td>\n",
              "      <td>bullet</td>\n",
              "      <td>field_partner</td>\n",
              "    </tr>\n",
              "  </tbody>\n",
              "</table>\n",
              "</div>"
            ],
            "text/plain": [
              "   loan_id       loan_name  ... repayment_interval distribution_model\n",
              "0   657307            Aivy  ...          irregular      field_partner\n",
              "1   657259  Idalia Marizza  ...            monthly      field_partner\n",
              "2   658010           Aasia  ...            monthly      field_partner\n",
              "3   659347         Gulmira  ...            monthly      field_partner\n",
              "4   656933         Ricky\\t  ...             bullet      field_partner\n",
              "\n",
              "[5 rows x 31 columns]"
            ]
          },
          "metadata": {
            "tags": []
          },
          "execution_count": 23
        }
      ]
    },
    {
      "cell_type": "markdown",
      "metadata": {
        "id": "J-5FlPjEooYP",
        "colab_type": "text"
      },
      "source": [
        "### Check missing values"
      ]
    },
    {
      "cell_type": "code",
      "metadata": {
        "id": "cZCHUpNRarl2",
        "colab_type": "code",
        "colab": {}
      },
      "source": [
        "missing_loan_expiration = pd.isnull(loan[['planned_expiration_time']])\n",
        "missing_loan_disburse = pd.isnull(loan[['disburse_time']])"
      ],
      "execution_count": 0,
      "outputs": []
    },
    {
      "cell_type": "code",
      "metadata": {
        "id": "K39I0iLPREhe",
        "colab_type": "code",
        "colab": {}
      },
      "source": [
        "missing_loan_index_e = missing_loan_expiration[missing_loan_expiration['planned_expiration_time']==True].index\n",
        "missing_loan_index_d = missing_loan_disburse[missing_loan_disburse['disburse_time']==True].index"
      ],
      "execution_count": 0,
      "outputs": []
    },
    {
      "cell_type": "code",
      "metadata": {
        "id": "xL_ZQf3sV72I",
        "colab_type": "code",
        "outputId": "b187a6aa-7e14-4c41-c63a-d81bcf72a83c",
        "colab": {
          "base_uri": "https://localhost:8080/",
          "height": 50
        }
      },
      "source": [
        "print('Number rows which have nan values planned_expiration_time: '+str(len(missing_loan_index_e)))\n",
        "print('Number rows which have nan values disburse_time: '+str(len(missing_loan_index_d)))"
      ],
      "execution_count": 26,
      "outputs": [
        {
          "output_type": "stream",
          "text": [
            "Number rows which have nan values planned_expiration_time: 371834\n",
            "Number rows which have nan values disburse_time: 2813\n"
          ],
          "name": "stdout"
        }
      ]
    },
    {
      "cell_type": "code",
      "metadata": {
        "id": "oRZtAejQRo-U",
        "colab_type": "code",
        "colab": {}
      },
      "source": [
        "missing_loan_index = missing_loan_index_e.union(missing_loan_index_d) #union indici nan disburse e nan expiration"
      ],
      "execution_count": 0,
      "outputs": []
    },
    {
      "cell_type": "code",
      "metadata": {
        "id": "bk9w0m7l69z7",
        "colab_type": "code",
        "outputId": "9e535131-5429-429e-b4e5-8db0916802c8",
        "colab": {
          "base_uri": "https://localhost:8080/",
          "height": 118
        }
      },
      "source": [
        "missing_loan_index"
      ],
      "execution_count": 28,
      "outputs": [
        {
          "output_type": "execute_result",
          "data": {
            "text/plain": [
              "Int64Index([     64,      65,      66,      67,      69,      70,     133,\n",
              "                134,     135,     136,\n",
              "            ...\n",
              "            1419219, 1419345, 1419505, 1419506, 1419522, 1419523, 1419524,\n",
              "            1419525, 1419538, 1419564],\n",
              "           dtype='int64', length=374645)"
            ]
          },
          "metadata": {
            "tags": []
          },
          "execution_count": 28
        }
      ]
    },
    {
      "cell_type": "code",
      "metadata": {
        "id": "17weT9aMC30j",
        "colab_type": "code",
        "outputId": "dfcb00ea-3d78-49ad-e6c9-a5d5169f010a",
        "colab": {
          "base_uri": "https://localhost:8080/",
          "height": 402
        }
      },
      "source": [
        "loan.loc[missing_loan_index][['planned_expiration_time','disburse_time']]"
      ],
      "execution_count": 29,
      "outputs": [
        {
          "output_type": "execute_result",
          "data": {
            "text/html": [
              "<div>\n",
              "<style scoped>\n",
              "    .dataframe tbody tr th:only-of-type {\n",
              "        vertical-align: middle;\n",
              "    }\n",
              "\n",
              "    .dataframe tbody tr th {\n",
              "        vertical-align: top;\n",
              "    }\n",
              "\n",
              "    .dataframe thead th {\n",
              "        text-align: right;\n",
              "    }\n",
              "</style>\n",
              "<table border=\"1\" class=\"dataframe\">\n",
              "  <thead>\n",
              "    <tr style=\"text-align: right;\">\n",
              "      <th></th>\n",
              "      <th>planned_expiration_time</th>\n",
              "      <th>disburse_time</th>\n",
              "    </tr>\n",
              "  </thead>\n",
              "  <tbody>\n",
              "    <tr>\n",
              "      <th>64</th>\n",
              "      <td>NaN</td>\n",
              "      <td>2010-11-18 08:00:00.000 +0000</td>\n",
              "    </tr>\n",
              "    <tr>\n",
              "      <th>65</th>\n",
              "      <td>NaN</td>\n",
              "      <td>2010-11-25 08:00:00.000 +0000</td>\n",
              "    </tr>\n",
              "    <tr>\n",
              "      <th>66</th>\n",
              "      <td>NaN</td>\n",
              "      <td>2010-11-25 08:00:00.000 +0000</td>\n",
              "    </tr>\n",
              "    <tr>\n",
              "      <th>67</th>\n",
              "      <td>NaN</td>\n",
              "      <td>2010-11-16 08:00:00.000 +0000</td>\n",
              "    </tr>\n",
              "    <tr>\n",
              "      <th>69</th>\n",
              "      <td>NaN</td>\n",
              "      <td>2010-11-10 08:00:00.000 +0000</td>\n",
              "    </tr>\n",
              "    <tr>\n",
              "      <th>...</th>\n",
              "      <td>...</td>\n",
              "      <td>...</td>\n",
              "    </tr>\n",
              "    <tr>\n",
              "      <th>1419523</th>\n",
              "      <td>NaN</td>\n",
              "      <td>2005-04-14 05:27:55.000 +0000</td>\n",
              "    </tr>\n",
              "    <tr>\n",
              "      <th>1419524</th>\n",
              "      <td>2017-02-09 23:07:54.000 +0000</td>\n",
              "      <td>NaN</td>\n",
              "    </tr>\n",
              "    <tr>\n",
              "      <th>1419525</th>\n",
              "      <td>2015-09-21 08:06:19.000 +0000</td>\n",
              "      <td>NaN</td>\n",
              "    </tr>\n",
              "    <tr>\n",
              "      <th>1419538</th>\n",
              "      <td>2017-02-25 20:21:21.000 +0000</td>\n",
              "      <td>NaN</td>\n",
              "    </tr>\n",
              "    <tr>\n",
              "      <th>1419564</th>\n",
              "      <td>2016-09-30 18:49:53.000 +0000</td>\n",
              "      <td>NaN</td>\n",
              "    </tr>\n",
              "  </tbody>\n",
              "</table>\n",
              "<p>374645 rows × 2 columns</p>\n",
              "</div>"
            ],
            "text/plain": [
              "               planned_expiration_time                  disburse_time\n",
              "64                                 NaN  2010-11-18 08:00:00.000 +0000\n",
              "65                                 NaN  2010-11-25 08:00:00.000 +0000\n",
              "66                                 NaN  2010-11-25 08:00:00.000 +0000\n",
              "67                                 NaN  2010-11-16 08:00:00.000 +0000\n",
              "69                                 NaN  2010-11-10 08:00:00.000 +0000\n",
              "...                                ...                            ...\n",
              "1419523                            NaN  2005-04-14 05:27:55.000 +0000\n",
              "1419524  2017-02-09 23:07:54.000 +0000                            NaN\n",
              "1419525  2015-09-21 08:06:19.000 +0000                            NaN\n",
              "1419538  2017-02-25 20:21:21.000 +0000                            NaN\n",
              "1419564  2016-09-30 18:49:53.000 +0000                            NaN\n",
              "\n",
              "[374645 rows x 2 columns]"
            ]
          },
          "metadata": {
            "tags": []
          },
          "execution_count": 29
        }
      ]
    },
    {
      "cell_type": "markdown",
      "metadata": {
        "id": "VCwDEftFpehQ",
        "colab_type": "text"
      },
      "source": [
        "### Conversion attributes _planned_expiration_time_, _disburse_time_ to _Datetime_"
      ]
    },
    {
      "cell_type": "code",
      "metadata": {
        "id": "ojZHY5BZgzAY",
        "colab_type": "code",
        "colab": {}
      },
      "source": [
        "loan['planned_expiration_time'] = pd.to_datetime(loan.loc[:,'planned_expiration_time'])\n",
        "loan['disburse_time'] = pd.to_datetime(loan.loc[:,'disburse_time'])"
      ],
      "execution_count": 0,
      "outputs": []
    },
    {
      "cell_type": "code",
      "metadata": {
        "id": "n9ejOsHWFp4a",
        "colab_type": "code",
        "outputId": "a7b5d303-c257-4493-dc25-f680079416ed",
        "colab": {
          "base_uri": "https://localhost:8080/",
          "height": 50
        }
      },
      "source": [
        "missing = loan.loc[missing_loan_index]\n",
        "print('Number rows missing: '+str(len(missing)))\n",
        "print('Ratio missing: '+str(len(missing) / len(loan)))"
      ],
      "execution_count": 31,
      "outputs": [
        {
          "output_type": "stream",
          "text": [
            "Number rows missing: 374645\n",
            "Ratio missing: 0.26390754624343216\n"
          ],
          "name": "stdout"
        }
      ]
    },
    {
      "cell_type": "markdown",
      "metadata": {
        "id": "WWhangtDfGEA",
        "colab_type": "text"
      },
      "source": [
        "### Compute difference between _planned_expiration_time_ and _disburse_time_"
      ]
    },
    {
      "cell_type": "code",
      "metadata": {
        "id": "7OFOFc7ehLd1",
        "colab_type": "code",
        "colab": {}
      },
      "source": [
        "loan['duration'] = loan['planned_expiration_time']- loan['disburse_time'] #si ottiene oggetto timedelta"
      ],
      "execution_count": 0,
      "outputs": []
    },
    {
      "cell_type": "code",
      "metadata": {
        "id": "ciCJMVX5m0uk",
        "colab_type": "code",
        "outputId": "f036a718-2699-49c9-9d5f-4c4ec7004b15",
        "colab": {
          "base_uri": "https://localhost:8080/",
          "height": 50
        }
      },
      "source": [
        "inizio = datetime.now() + timedelta(hours=1)\n",
        "print(\"Inizio: \"+inizio.strftime(\"%H:%M:%S\"))\n",
        "loan['duration'] = loan.apply(lambda x: x['duration'].days,axis=1)\n",
        "fine = datetime.now() + timedelta(hours=1)\n",
        "print(\"Fine: \"+fine.strftime(\"%H:%M:%S\"))\n",
        "diff = fine - inizio"
      ],
      "execution_count": 33,
      "outputs": [
        {
          "output_type": "stream",
          "text": [
            "Inizio: 13:27:12\n",
            "Fine: 13:29:51\n"
          ],
          "name": "stdout"
        }
      ]
    },
    {
      "cell_type": "markdown",
      "metadata": {
        "id": "v1E4esXdQzYj",
        "colab_type": "text"
      },
      "source": [
        "### _Result_"
      ]
    },
    {
      "cell_type": "code",
      "metadata": {
        "id": "ksaM8dHyycQk",
        "colab_type": "code",
        "colab": {
          "base_uri": "https://localhost:8080/",
          "height": 195
        },
        "outputId": "4b3b8a3f-3a06-4707-c482-238a689ad328"
      },
      "source": [
        "loan.head()[['planned_expiration_time','disburse_time','duration']]"
      ],
      "execution_count": 34,
      "outputs": [
        {
          "output_type": "execute_result",
          "data": {
            "text/html": [
              "<div>\n",
              "<style scoped>\n",
              "    .dataframe tbody tr th:only-of-type {\n",
              "        vertical-align: middle;\n",
              "    }\n",
              "\n",
              "    .dataframe tbody tr th {\n",
              "        vertical-align: top;\n",
              "    }\n",
              "\n",
              "    .dataframe thead th {\n",
              "        text-align: right;\n",
              "    }\n",
              "</style>\n",
              "<table border=\"1\" class=\"dataframe\">\n",
              "  <thead>\n",
              "    <tr style=\"text-align: right;\">\n",
              "      <th></th>\n",
              "      <th>planned_expiration_time</th>\n",
              "      <th>disburse_time</th>\n",
              "      <th>duration</th>\n",
              "    </tr>\n",
              "  </thead>\n",
              "  <tbody>\n",
              "    <tr>\n",
              "      <th>0</th>\n",
              "      <td>2014-02-14 03:30:06+00:00</td>\n",
              "      <td>2013-12-22 08:00:00+00:00</td>\n",
              "      <td>53.0</td>\n",
              "    </tr>\n",
              "    <tr>\n",
              "      <th>1</th>\n",
              "      <td>2014-03-26 22:25:07+00:00</td>\n",
              "      <td>2013-12-20 08:00:00+00:00</td>\n",
              "      <td>96.0</td>\n",
              "    </tr>\n",
              "    <tr>\n",
              "      <th>2</th>\n",
              "      <td>2014-02-15 21:10:05+00:00</td>\n",
              "      <td>2014-01-09 08:00:00+00:00</td>\n",
              "      <td>37.0</td>\n",
              "    </tr>\n",
              "    <tr>\n",
              "      <th>3</th>\n",
              "      <td>2014-02-21 03:10:02+00:00</td>\n",
              "      <td>2014-01-17 08:00:00+00:00</td>\n",
              "      <td>34.0</td>\n",
              "    </tr>\n",
              "    <tr>\n",
              "      <th>4</th>\n",
              "      <td>2014-02-13 06:10:02+00:00</td>\n",
              "      <td>2013-12-17 08:00:00+00:00</td>\n",
              "      <td>57.0</td>\n",
              "    </tr>\n",
              "  </tbody>\n",
              "</table>\n",
              "</div>"
            ],
            "text/plain": [
              "    planned_expiration_time             disburse_time  duration\n",
              "0 2014-02-14 03:30:06+00:00 2013-12-22 08:00:00+00:00      53.0\n",
              "1 2014-03-26 22:25:07+00:00 2013-12-20 08:00:00+00:00      96.0\n",
              "2 2014-02-15 21:10:05+00:00 2014-01-09 08:00:00+00:00      37.0\n",
              "3 2014-02-21 03:10:02+00:00 2014-01-17 08:00:00+00:00      34.0\n",
              "4 2014-02-13 06:10:02+00:00 2013-12-17 08:00:00+00:00      57.0"
            ]
          },
          "metadata": {
            "tags": []
          },
          "execution_count": 34
        }
      ]
    },
    {
      "cell_type": "code",
      "metadata": {
        "id": "zRokw7YFYAxm",
        "colab_type": "code",
        "colab": {
          "base_uri": "https://localhost:8080/",
          "height": 402
        },
        "outputId": "84546e17-7f1b-4104-abd8-0bcbcb98a3e0"
      },
      "source": [
        "loan.loc[missing_loan_index][['planned_expiration_time','disburse_time','duration']]"
      ],
      "execution_count": 40,
      "outputs": [
        {
          "output_type": "execute_result",
          "data": {
            "text/html": [
              "<div>\n",
              "<style scoped>\n",
              "    .dataframe tbody tr th:only-of-type {\n",
              "        vertical-align: middle;\n",
              "    }\n",
              "\n",
              "    .dataframe tbody tr th {\n",
              "        vertical-align: top;\n",
              "    }\n",
              "\n",
              "    .dataframe thead th {\n",
              "        text-align: right;\n",
              "    }\n",
              "</style>\n",
              "<table border=\"1\" class=\"dataframe\">\n",
              "  <thead>\n",
              "    <tr style=\"text-align: right;\">\n",
              "      <th></th>\n",
              "      <th>planned_expiration_time</th>\n",
              "      <th>disburse_time</th>\n",
              "      <th>duration</th>\n",
              "    </tr>\n",
              "  </thead>\n",
              "  <tbody>\n",
              "    <tr>\n",
              "      <th>64</th>\n",
              "      <td>NaT</td>\n",
              "      <td>2010-11-18 08:00:00+00:00</td>\n",
              "      <td>NaN</td>\n",
              "    </tr>\n",
              "    <tr>\n",
              "      <th>65</th>\n",
              "      <td>NaT</td>\n",
              "      <td>2010-11-25 08:00:00+00:00</td>\n",
              "      <td>NaN</td>\n",
              "    </tr>\n",
              "    <tr>\n",
              "      <th>66</th>\n",
              "      <td>NaT</td>\n",
              "      <td>2010-11-25 08:00:00+00:00</td>\n",
              "      <td>NaN</td>\n",
              "    </tr>\n",
              "    <tr>\n",
              "      <th>67</th>\n",
              "      <td>NaT</td>\n",
              "      <td>2010-11-16 08:00:00+00:00</td>\n",
              "      <td>NaN</td>\n",
              "    </tr>\n",
              "    <tr>\n",
              "      <th>69</th>\n",
              "      <td>NaT</td>\n",
              "      <td>2010-11-10 08:00:00+00:00</td>\n",
              "      <td>NaN</td>\n",
              "    </tr>\n",
              "    <tr>\n",
              "      <th>...</th>\n",
              "      <td>...</td>\n",
              "      <td>...</td>\n",
              "      <td>...</td>\n",
              "    </tr>\n",
              "    <tr>\n",
              "      <th>1419523</th>\n",
              "      <td>NaT</td>\n",
              "      <td>2005-04-14 05:27:55+00:00</td>\n",
              "      <td>NaN</td>\n",
              "    </tr>\n",
              "    <tr>\n",
              "      <th>1419524</th>\n",
              "      <td>2017-02-09 23:07:54+00:00</td>\n",
              "      <td>NaT</td>\n",
              "      <td>NaN</td>\n",
              "    </tr>\n",
              "    <tr>\n",
              "      <th>1419525</th>\n",
              "      <td>2015-09-21 08:06:19+00:00</td>\n",
              "      <td>NaT</td>\n",
              "      <td>NaN</td>\n",
              "    </tr>\n",
              "    <tr>\n",
              "      <th>1419538</th>\n",
              "      <td>2017-02-25 20:21:21+00:00</td>\n",
              "      <td>NaT</td>\n",
              "      <td>NaN</td>\n",
              "    </tr>\n",
              "    <tr>\n",
              "      <th>1419564</th>\n",
              "      <td>2016-09-30 18:49:53+00:00</td>\n",
              "      <td>NaT</td>\n",
              "      <td>NaN</td>\n",
              "    </tr>\n",
              "  </tbody>\n",
              "</table>\n",
              "<p>374645 rows × 3 columns</p>\n",
              "</div>"
            ],
            "text/plain": [
              "          planned_expiration_time             disburse_time  duration\n",
              "64                            NaT 2010-11-18 08:00:00+00:00       NaN\n",
              "65                            NaT 2010-11-25 08:00:00+00:00       NaN\n",
              "66                            NaT 2010-11-25 08:00:00+00:00       NaN\n",
              "67                            NaT 2010-11-16 08:00:00+00:00       NaN\n",
              "69                            NaT 2010-11-10 08:00:00+00:00       NaN\n",
              "...                           ...                       ...       ...\n",
              "1419523                       NaT 2005-04-14 05:27:55+00:00       NaN\n",
              "1419524 2017-02-09 23:07:54+00:00                       NaT       NaN\n",
              "1419525 2015-09-21 08:06:19+00:00                       NaT       NaN\n",
              "1419538 2017-02-25 20:21:21+00:00                       NaT       NaN\n",
              "1419564 2016-09-30 18:49:53+00:00                       NaT       NaN\n",
              "\n",
              "[374645 rows x 3 columns]"
            ]
          },
          "metadata": {
            "tags": []
          },
          "execution_count": 40
        }
      ]
    },
    {
      "cell_type": "markdown",
      "metadata": {
        "id": "eo2kVaCZKR_g",
        "colab_type": "text"
      },
      "source": [
        "## Task 3\n",
        "- Find the lenders that have funded at least twice"
      ]
    },
    {
      "cell_type": "code",
      "metadata": {
        "id": "4bPS04EKfGF7",
        "colab_type": "code",
        "colab": {}
      },
      "source": [
        "numberfunded_lenders = loans_lender_norm.groupby('lenders')['loan_id'].count()"
      ],
      "execution_count": 0,
      "outputs": []
    },
    {
      "cell_type": "markdown",
      "metadata": {
        "id": "70Im_Tbx0JsK",
        "colab_type": "text"
      },
      "source": [
        "### Apply constraint after group by "
      ]
    },
    {
      "cell_type": "code",
      "metadata": {
        "id": "KbBA7ZM2zIfZ",
        "colab_type": "code",
        "colab": {}
      },
      "source": [
        "numberfunded_lenders = pd.DataFrame(numberfunded_lenders).reset_index(drop=False)\n",
        "numberfunded_lenders.columns = ['lenders','count']\n",
        "\n",
        "numberfunded_lenders = numberfunded_lenders[numberfunded_lenders['count']>=2]"
      ],
      "execution_count": 0,
      "outputs": []
    },
    {
      "cell_type": "markdown",
      "metadata": {
        "id": "Z9WMYaSl2-gH",
        "colab_type": "text"
      },
      "source": [
        "### _Result_"
      ]
    },
    {
      "cell_type": "code",
      "metadata": {
        "id": "1tVLRNMGeBnn",
        "colab_type": "code",
        "colab": {}
      },
      "source": [
        "numberfunded_lenders.head()"
      ],
      "execution_count": 0,
      "outputs": []
    },
    {
      "cell_type": "markdown",
      "metadata": {
        "id": "Gdy6x4Hg0VAf",
        "colab_type": "text"
      },
      "source": [
        "_Result (ordered)_"
      ]
    },
    {
      "cell_type": "code",
      "metadata": {
        "id": "xUIpzZPp0jO_",
        "colab_type": "code",
        "colab": {}
      },
      "source": [
        "numberfunded_lenders.sort_values(by='count',ascending=False)"
      ],
      "execution_count": 0,
      "outputs": []
    },
    {
      "cell_type": "markdown",
      "metadata": {
        "id": "3m78erQM3Nj0",
        "colab_type": "text"
      },
      "source": [
        "## Task 4\n",
        "- For each country, compute how many loans have involved that country as borrowers."
      ]
    },
    {
      "cell_type": "markdown",
      "metadata": {
        "id": "QfLNnBktD9PZ",
        "colab_type": "text"
      },
      "source": [
        "### Check missing values"
      ]
    },
    {
      "cell_type": "code",
      "metadata": {
        "id": "BFKmfgGp9Ii4",
        "colab_type": "code",
        "colab": {}
      },
      "source": [
        "missing = pd.isnull(loan[['country_name']])\n",
        "missing[missing['country_name']==True]"
      ],
      "execution_count": 0,
      "outputs": []
    },
    {
      "cell_type": "code",
      "metadata": {
        "id": "TsMVZZZUExNS",
        "colab_type": "code",
        "colab": {}
      },
      "source": [
        "country_numberLoan = loan.groupby('country_name')['loan_id'].count()\n",
        "country_numberLoan = pd.DataFrame(country_numberLoan).reset_index(drop=False)\n",
        "country_numberLoan.columns=['country','count']"
      ],
      "execution_count": 0,
      "outputs": []
    },
    {
      "cell_type": "markdown",
      "metadata": {
        "id": "eRZgY4f0GH_W",
        "colab_type": "text"
      },
      "source": [
        "### _Result_"
      ]
    },
    {
      "cell_type": "code",
      "metadata": {
        "id": "ziY0RfAbGJOJ",
        "colab_type": "code",
        "outputId": "48f77dbc-b5a4-440b-babc-974a5d2298e1",
        "colab": {
          "base_uri": "https://localhost:8080/",
          "height": 195
        }
      },
      "source": [
        "country_numberLoan.head()"
      ],
      "execution_count": 0,
      "outputs": [
        {
          "output_type": "execute_result",
          "data": {
            "text/html": [
              "<div>\n",
              "<style scoped>\n",
              "    .dataframe tbody tr th:only-of-type {\n",
              "        vertical-align: middle;\n",
              "    }\n",
              "\n",
              "    .dataframe tbody tr th {\n",
              "        vertical-align: top;\n",
              "    }\n",
              "\n",
              "    .dataframe thead th {\n",
              "        text-align: right;\n",
              "    }\n",
              "</style>\n",
              "<table border=\"1\" class=\"dataframe\">\n",
              "  <thead>\n",
              "    <tr style=\"text-align: right;\">\n",
              "      <th></th>\n",
              "      <th>country</th>\n",
              "      <th>count</th>\n",
              "    </tr>\n",
              "  </thead>\n",
              "  <tbody>\n",
              "    <tr>\n",
              "      <th>0</th>\n",
              "      <td>Afghanistan</td>\n",
              "      <td>2337</td>\n",
              "    </tr>\n",
              "    <tr>\n",
              "      <th>1</th>\n",
              "      <td>Albania</td>\n",
              "      <td>3075</td>\n",
              "    </tr>\n",
              "    <tr>\n",
              "      <th>2</th>\n",
              "      <td>Armenia</td>\n",
              "      <td>13952</td>\n",
              "    </tr>\n",
              "    <tr>\n",
              "      <th>3</th>\n",
              "      <td>Azerbaijan</td>\n",
              "      <td>10172</td>\n",
              "    </tr>\n",
              "    <tr>\n",
              "      <th>4</th>\n",
              "      <td>Belize</td>\n",
              "      <td>218</td>\n",
              "    </tr>\n",
              "  </tbody>\n",
              "</table>\n",
              "</div>"
            ],
            "text/plain": [
              "       country  count\n",
              "0  Afghanistan   2337\n",
              "1      Albania   3075\n",
              "2      Armenia  13952\n",
              "3   Azerbaijan  10172\n",
              "4       Belize    218"
            ]
          },
          "metadata": {
            "tags": []
          },
          "execution_count": 39
        }
      ]
    },
    {
      "cell_type": "markdown",
      "metadata": {
        "id": "qkbwg3Rs2Xop",
        "colab_type": "text"
      },
      "source": [
        "_Result ordered_"
      ]
    },
    {
      "cell_type": "code",
      "metadata": {
        "id": "2Wdux6wmCLQP",
        "colab_type": "code",
        "outputId": "9791dbd3-95e4-4e5e-cee9-c39feedb2989",
        "colab": {
          "base_uri": "https://localhost:8080/",
          "height": 195
        }
      },
      "source": [
        "country_numberLoan.sort_values(by='count',ascending=False).head()"
      ],
      "execution_count": 0,
      "outputs": [
        {
          "output_type": "execute_result",
          "data": {
            "text/html": [
              "<div>\n",
              "<style scoped>\n",
              "    .dataframe tbody tr th:only-of-type {\n",
              "        vertical-align: middle;\n",
              "    }\n",
              "\n",
              "    .dataframe tbody tr th {\n",
              "        vertical-align: top;\n",
              "    }\n",
              "\n",
              "    .dataframe thead th {\n",
              "        text-align: right;\n",
              "    }\n",
              "</style>\n",
              "<table border=\"1\" class=\"dataframe\">\n",
              "  <thead>\n",
              "    <tr style=\"text-align: right;\">\n",
              "      <th></th>\n",
              "      <th>country</th>\n",
              "      <th>count</th>\n",
              "    </tr>\n",
              "  </thead>\n",
              "  <tbody>\n",
              "    <tr>\n",
              "      <th>66</th>\n",
              "      <td>Philippines</td>\n",
              "      <td>285336</td>\n",
              "    </tr>\n",
              "    <tr>\n",
              "      <th>40</th>\n",
              "      <td>Kenya</td>\n",
              "      <td>143699</td>\n",
              "    </tr>\n",
              "    <tr>\n",
              "      <th>65</th>\n",
              "      <td>Peru</td>\n",
              "      <td>86000</td>\n",
              "    </tr>\n",
              "    <tr>\n",
              "      <th>14</th>\n",
              "      <td>Cambodia</td>\n",
              "      <td>79701</td>\n",
              "    </tr>\n",
              "    <tr>\n",
              "      <th>27</th>\n",
              "      <td>El Salvador</td>\n",
              "      <td>64037</td>\n",
              "    </tr>\n",
              "  </tbody>\n",
              "</table>\n",
              "</div>"
            ],
            "text/plain": [
              "        country   count\n",
              "66  Philippines  285336\n",
              "40        Kenya  143699\n",
              "65         Peru   86000\n",
              "14     Cambodia   79701\n",
              "27  El Salvador   64037"
            ]
          },
          "metadata": {
            "tags": []
          },
          "execution_count": 40
        }
      ]
    },
    {
      "cell_type": "markdown",
      "metadata": {
        "id": "p4fsZmbtT7FR",
        "colab_type": "text"
      },
      "source": [
        "## Task 5\n",
        "- For each country, compute the overall amount of money borrowed.\n",
        "\n",
        "N.B. For this task I've decided to convert _loan_amount_ to USD for each loan due to keep same type currency"
      ]
    },
    {
      "cell_type": "code",
      "metadata": {
        "id": "6MxOu0nQR9FF",
        "colab_type": "code",
        "colab": {}
      },
      "source": [
        "loan_simplified = loan[['loan_id','country_name','disburse_time','planned_expiration_time',\n",
        "                                      'num_lenders_total','funded_amount','loan_amount','currency']]"
      ],
      "execution_count": 0,
      "outputs": []
    },
    {
      "cell_type": "markdown",
      "metadata": {
        "id": "krfz_MhffInQ",
        "colab_type": "text"
      },
      "source": [
        "### Functions needed to check if date represents week-end or not"
      ]
    },
    {
      "cell_type": "code",
      "metadata": {
        "id": "qThj0Vrp_N1b",
        "colab_type": "code",
        "outputId": "bd75c102-aa5a-43bf-97ab-9249f329a91c",
        "colab": {
          "base_uri": "https://localhost:8080/",
          "height": 34
        }
      },
      "source": [
        "loan.iloc[0]['disburse_time'].weekday()"
      ],
      "execution_count": 0,
      "outputs": [
        {
          "output_type": "execute_result",
          "data": {
            "text/plain": [
              "6"
            ]
          },
          "metadata": {
            "tags": []
          },
          "execution_count": 50
        }
      ]
    },
    {
      "cell_type": "code",
      "metadata": {
        "id": "mavEtQ1XfZqA",
        "colab_type": "code",
        "colab": {}
      },
      "source": [
        "def check_weekend(date_time):\n",
        "  date = date_time.date() #conversione data necessaria per API\n",
        "  day_week = date.weekday() #numero intero che indica il giorno della settimana va da 0 a 6\n",
        "  delta=0\n",
        "  if day_week >=5:\n",
        "    date_r = date - pd.tseries.offsets.BDay(1) #ritorna l'ultimo giorno feriale a partire da date\n",
        "  else:\n",
        "    date_r = date\n",
        "  return date_r"
      ],
      "execution_count": 0,
      "outputs": []
    },
    {
      "cell_type": "code",
      "metadata": {
        "id": "YXPuhFZ3f3DI",
        "colab_type": "code",
        "outputId": "1c0640b0-3203-4134-c95e-2bdd90c666ea",
        "colab": {
          "base_uri": "https://localhost:8080/",
          "height": 67
        }
      },
      "source": [
        "loan_simplified = loan_simplified.copy() #per evitare warning SettingWithCopyWarning\n",
        "inizio = datetime.now() + timedelta(hours=1)\n",
        "print(\"Inizio: \"+inizio.strftime(\"%H:%M:%S\"))\n",
        "loan_simplified.loc[:,('disburse_time_API')] = loan_simplified.apply(lambda x: check_weekend(x['disburse_time']),axis=1)\n",
        "fine = datetime.now() + timedelta(hours=1)\n",
        "print(\"Fine: \"+fine.strftime(\"%H:%M:%S\"))\n",
        "diff = fine - inizio\n",
        "diff"
      ],
      "execution_count": 0,
      "outputs": [
        {
          "output_type": "stream",
          "text": [
            "Inizio: 19:02:00\n",
            "Fine: 19:05:26\n"
          ],
          "name": "stdout"
        },
        {
          "output_type": "execute_result",
          "data": {
            "text/plain": [
              "datetime.timedelta(0, 206, 437750)"
            ]
          },
          "metadata": {
            "tags": []
          },
          "execution_count": 58
        }
      ]
    },
    {
      "cell_type": "code",
      "metadata": {
        "id": "ciGIUy7U05XD",
        "colab_type": "code",
        "colab": {}
      },
      "source": [
        "loan_simplified['disburse_time_API']=loan_simplified['disburse_time_API'].astype(str)"
      ],
      "execution_count": 0,
      "outputs": []
    },
    {
      "cell_type": "markdown",
      "metadata": {
        "id": "olGHi4L7okqe",
        "colab_type": "text"
      },
      "source": [
        "### Check missing values"
      ]
    },
    {
      "cell_type": "code",
      "metadata": {
        "id": "M5ctgIlXnYMM",
        "colab_type": "code",
        "outputId": "8c3d2593-fb9c-4660-e374-433c6bd5682f",
        "colab": {
          "base_uri": "https://localhost:8080/",
          "height": 47
        }
      },
      "source": [
        "missing = pd.isnull(loan_simplified[['currency']])\n",
        "missing[missing['currency']==True]"
      ],
      "execution_count": 0,
      "outputs": [
        {
          "output_type": "execute_result",
          "data": {
            "text/html": [
              "<div>\n",
              "<style scoped>\n",
              "    .dataframe tbody tr th:only-of-type {\n",
              "        vertical-align: middle;\n",
              "    }\n",
              "\n",
              "    .dataframe tbody tr th {\n",
              "        vertical-align: top;\n",
              "    }\n",
              "\n",
              "    .dataframe thead th {\n",
              "        text-align: right;\n",
              "    }\n",
              "</style>\n",
              "<table border=\"1\" class=\"dataframe\">\n",
              "  <thead>\n",
              "    <tr style=\"text-align: right;\">\n",
              "      <th></th>\n",
              "      <th>currency</th>\n",
              "    </tr>\n",
              "  </thead>\n",
              "  <tbody>\n",
              "  </tbody>\n",
              "</table>\n",
              "</div>"
            ],
            "text/plain": [
              "Empty DataFrame\n",
              "Columns: [currency]\n",
              "Index: []"
            ]
          },
          "metadata": {
            "tags": []
          },
          "execution_count": 37
        }
      ]
    },
    {
      "cell_type": "markdown",
      "metadata": {
        "id": "pETADWhlMDzm",
        "colab_type": "text"
      },
      "source": [
        "### Call API to get all currency available"
      ]
    },
    {
      "cell_type": "code",
      "metadata": {
        "id": "n1yATAGEavSh",
        "colab_type": "code",
        "colab": {}
      },
      "source": [
        "date = loan_simplified['disburse_time_API'][0]\n",
        "request_link = 'https://api.exchangeratesapi.io/history?start_at='+date+\"&end_at=\"+date+\"&base=USD\"\n",
        "\n",
        "request_API = requests.get(request_link) #richiesta API\n",
        "dict_request = request_API.json()\n",
        "dict_currency_legend = dict_request['rates'][date]"
      ],
      "execution_count": 0,
      "outputs": []
    },
    {
      "cell_type": "code",
      "metadata": {
        "id": "nB-FPobuZ_Dj",
        "colab_type": "code",
        "colab": {}
      },
      "source": [
        "global currency_list_legend\n",
        "currency_list_legend = dict_currency_legend.keys() #lista currency convertibile"
      ],
      "execution_count": 0,
      "outputs": []
    },
    {
      "cell_type": "markdown",
      "metadata": {
        "id": "b2yvut9JN9_U",
        "colab_type": "text"
      },
      "source": [
        "### Functions needed to check if current currency is convertible or not"
      ]
    },
    {
      "cell_type": "code",
      "metadata": {
        "id": "ikMC1kyNEHlc",
        "colab_type": "code",
        "colab": {}
      },
      "source": [
        "def check_currency(currency): #controlla se valuta corrente è 'convertibile' (esiste tasso di cambio)\n",
        "  if currency not in currency_list_legend:\n",
        "    conv = False\n",
        "  else:\n",
        "    conv = True\n",
        "  return conv"
      ],
      "execution_count": 0,
      "outputs": []
    },
    {
      "cell_type": "code",
      "metadata": {
        "id": "tL7JpdqB1KPh",
        "colab_type": "code",
        "colab": {}
      },
      "source": [
        "currency_included = pd.DataFrame(loan_simplified['currency'].unique())\n",
        "currency_included.columns=['currency']\n",
        "currency_included = currency_included[currency_included['currency']!='USD']\n",
        "currency_included['conversion'] = currency_included.apply(lambda x: check_currency(x['currency']),axis=1)"
      ],
      "execution_count": 0,
      "outputs": []
    },
    {
      "cell_type": "markdown",
      "metadata": {
        "id": "fL8FGF9qrVI9",
        "colab_type": "text"
      },
      "source": [
        "### Left join between loans and currency convertible"
      ]
    },
    {
      "cell_type": "code",
      "metadata": {
        "id": "nHRUzy1LJmjM",
        "colab_type": "code",
        "colab": {}
      },
      "source": [
        "loan_simplified = pd.merge(loan_simplified,currency_included,how='left',on='currency')"
      ],
      "execution_count": 0,
      "outputs": []
    },
    {
      "cell_type": "code",
      "metadata": {
        "id": "B4MP1cUoKu3k",
        "colab_type": "code",
        "colab": {}
      },
      "source": [
        "firstBlock = loan_simplified[loan_simplified['conversion']==True] #parte df dove le valute possone essere convertite\n",
        "firstBlock_index = firstBlock.index"
      ],
      "execution_count": 0,
      "outputs": []
    },
    {
      "cell_type": "code",
      "metadata": {
        "id": "H_nNjaFvT1gz",
        "colab_type": "code",
        "colab": {}
      },
      "source": [
        "secondBlock = loan_simplified.drop(firstBlock_index,axis=0)"
      ],
      "execution_count": 0,
      "outputs": []
    },
    {
      "cell_type": "code",
      "metadata": {
        "id": "ZK4NLppc08kq",
        "colab_type": "code",
        "colab": {}
      },
      "source": [
        "secondBlock['funded_amount_conversion_USD'] = secondBlock['funded_amount']\n",
        "secondBlock['loan_amount_conversion_USD'] = secondBlock['loan_amount']"
      ],
      "execution_count": 0,
      "outputs": []
    },
    {
      "cell_type": "markdown",
      "metadata": {
        "id": "Kip10pFWbiJh",
        "colab_type": "text"
      },
      "source": [
        "### Functions needed to get last business day if date was holiday"
      ]
    },
    {
      "cell_type": "code",
      "metadata": {
        "id": "ruxkjSwoZ24p",
        "colab_type": "code",
        "colab": {}
      },
      "source": [
        "def get_last_business_day_before_holidays(date,holidays): #va a ritroso fino a quando non trova un giorno della settimana che non sia festività\n",
        "  while date in holidays:\n",
        "    date = date - pd.tseries.offsets.BDay(1)\n",
        "  return date\n",
        "    \n",
        "def check_holidays(date): #controlla se il giorno rappresenta una festività in un determinato anno (dato da date)\n",
        "  date_datetime = datetime.strptime(date,'%Y-%m-%d')\n",
        "  holiday_EU = holidays.EuropeanCentralBank(years = date_datetime.year)\n",
        "  if date in holiday_EU:\n",
        "    date_r=get_last_business_day_before_holidays(date_datetime,holiday_EU)\n",
        "    date_r=date_r.strftime('%Y-%m-%d')\n",
        "  else:\n",
        "    date_r=date\n",
        "  return date_r"
      ],
      "execution_count": 0,
      "outputs": []
    },
    {
      "cell_type": "code",
      "metadata": {
        "id": "RR5VfUqcFWo8",
        "colab_type": "code",
        "outputId": "f860abd5-1a66-4be4-9eae-5c719aa1f853",
        "colab": {
          "base_uri": "https://localhost:8080/",
          "height": 67
        }
      },
      "source": [
        "inizio = datetime.now() + timedelta(hours=1)\n",
        "print(\"Inizio: \"+inizio.strftime(\"%H:%M:%S\"))\n",
        "firstBlock = firstBlock.copy()\n",
        "firstBlock['disburse_time_API']= firstBlock.apply(lambda x: check_holidays(x['disburse_time_API']),axis=1)\n",
        "fine = datetime.now() + timedelta(hours=1)\n",
        "print(\"Fine: \"+fine.strftime(\"%H:%M:%S\"))\n",
        "diff = fine - inizio\n",
        "diff"
      ],
      "execution_count": 0,
      "outputs": [
        {
          "output_type": "stream",
          "text": [
            "Inizio: 09:39:07\n",
            "Fine: 09:40:39\n"
          ],
          "name": "stdout"
        },
        {
          "output_type": "execute_result",
          "data": {
            "text/plain": [
              "datetime.timedelta(0, 92, 280875)"
            ]
          },
          "metadata": {
            "tags": []
          },
          "execution_count": 47
        }
      ]
    },
    {
      "cell_type": "markdown",
      "metadata": {
        "id": "Ay1gLmxh-9SI",
        "colab_type": "text"
      },
      "source": [
        "### Function useful to flat list"
      ]
    },
    {
      "cell_type": "code",
      "metadata": {
        "id": "lr5w93e1luuK",
        "colab_type": "code",
        "colab": {}
      },
      "source": [
        "def flat_list(list):\n",
        "  return [item for sublist in list for item in sublist]"
      ],
      "execution_count": 0,
      "outputs": []
    },
    {
      "cell_type": "markdown",
      "metadata": {
        "id": "TjB-ShaNtCpg",
        "colab_type": "text"
      },
      "source": [
        "### Functions needed to get for each date currency that have to converted"
      ]
    },
    {
      "cell_type": "code",
      "metadata": {
        "id": "i0VXdycRtCDm",
        "colab_type": "code",
        "colab": {}
      },
      "source": [
        "def create_dictionary_currency(list_dict): #funzione che crea dizionario da una lista\n",
        "  dates_dict = defaultdict(list)\n",
        "  for key, info in list_dict:\n",
        "    #print(key, info)\n",
        "    dates_dict[key].append(info)\n",
        "  return dates_dict\n",
        "\n",
        "def get_pair(currency, date):\n",
        "  pair = (date,currency)\n",
        "  return pair\n",
        "\n",
        "def fill_list_map1(currency, dates):\n",
        "  dates_list = flat_list(dates) #date loan di ogni valuta\n",
        "  info_rate = list(map (functools.partial(get_pair, currency), dates_list)) #funzione viene passata la stessa valuta\n",
        "  return info_rate\n",
        "\n",
        "def create_list_currency_map1(df, currency_list):\n",
        "  dict_currency_list=list()\n",
        "  date_loan_list = list()\n",
        "  for i in currency_list:\n",
        "    loan_currency = df[df['currency']==i][['disburse_time_API','currency']]\n",
        "    date_loan_currency = set(loan_currency['disburse_time_API'].tolist()) #elimino date duplicate\n",
        "    date_loan_list.append([date_loan_currency])\n",
        "  dict_currency_list = list(map(lambda x,y: fill_list_map1(x,y), currency_list, date_loan_list))\n",
        "  return dict_currency_list"
      ],
      "execution_count": 0,
      "outputs": []
    },
    {
      "cell_type": "code",
      "metadata": {
        "id": "f3UKnUGfu5-H",
        "colab_type": "code",
        "colab": {}
      },
      "source": [
        "currency = firstBlock['currency'].unique()\n",
        "dict_currency_list = create_list_currency_map1(firstBlock, currency)"
      ],
      "execution_count": 0,
      "outputs": []
    },
    {
      "cell_type": "code",
      "metadata": {
        "colab_type": "code",
        "id": "b74Gaiow5bZc",
        "colab": {}
      },
      "source": [
        "flat_dict_currency_list = flat_list(dict_currency_list)\n",
        "dict_date_currency = create_dictionary_currency(flat_dict_currency_list) #creo dizionario"
      ],
      "execution_count": 0,
      "outputs": []
    },
    {
      "cell_type": "markdown",
      "metadata": {
        "id": "Hrt2-9wQPnr2",
        "colab_type": "text"
      },
      "source": [
        "### Functions needed to get for each currency its rate for the current date"
      ]
    },
    {
      "cell_type": "code",
      "metadata": {
        "id": "NDAOQLQl51mU",
        "colab_type": "code",
        "colab": {}
      },
      "source": [
        "def extract_rate(dict_API, date,currency): #ritorna tasso cambio in una certa data (parametro date)\n",
        "  if currency in dict_API.keys():\n",
        "    rate = dict_API[currency]\n",
        "  else:\n",
        "    rate = np.NaN\n",
        "  return (currency,rate)\n",
        "\n",
        "def call_API(dict_date,date):\n",
        "  request = 'https://api.exchangeratesapi.io/history?start_at='+date+'&end_at='+date+'&base=USD'\n",
        "  request_API = requests.get(request)\n",
        "  dict_API = request_API.json()\n",
        "  dict_API = dict_API['rates'][date]\n",
        "  rate_currency = list(map (functools.partial(extract_rate, dict_API, date), dict_date[date]))\n",
        "  return (date,rate_currency)\n",
        "\n",
        "def get_list_currency_rate(dates_list,dict_date):\n",
        "  rate_list = list(map (functools.partial(call_API, dict_date), dates_list))\n",
        "  return rate_list"
      ],
      "execution_count": 0,
      "outputs": []
    },
    {
      "cell_type": "code",
      "metadata": {
        "id": "HN4ciEBg9tlc",
        "colab_type": "code",
        "colab": {}
      },
      "source": [
        "dates_request = dict_date_currency.keys() #lista date da usare per chiamare API\n",
        "dates_request = list(dates_request)"
      ],
      "execution_count": 0,
      "outputs": []
    },
    {
      "cell_type": "code",
      "metadata": {
        "colab_type": "code",
        "id": "yWH3N9dZ_Fhc",
        "outputId": "bb5aa78e-5e8e-4c8e-b387-557e471bf390",
        "colab": {
          "base_uri": "https://localhost:8080/",
          "height": 67
        }
      },
      "source": [
        "inizio = datetime.now() + timedelta(hours=1)\n",
        "print(\"Inizio: \"+inizio.strftime(\"%H:%M:%S\"))\n",
        "dict_currency_list = get_list_currency_rate(dates_request, dict_date_currency)\n",
        "fine=datetime.now() + timedelta(hours=1)\n",
        "print(\"Fine: \"+fine.strftime(\"%H:%M:%S\"))\n",
        "diff= fine - inizio\n",
        "diff"
      ],
      "execution_count": 0,
      "outputs": [
        {
          "output_type": "stream",
          "text": [
            "Inizio: 09:40:39\n",
            "Fine: 09:41:56\n"
          ],
          "name": "stdout"
        },
        {
          "output_type": "execute_result",
          "data": {
            "text/plain": [
              "datetime.timedelta(0, 76, 533705)"
            ]
          },
          "metadata": {
            "tags": []
          },
          "execution_count": 54
        }
      ]
    },
    {
      "cell_type": "code",
      "metadata": {
        "id": "prfa09Qa7Znq",
        "colab_type": "code",
        "colab": {}
      },
      "source": [
        "dict_currency = create_dictionary_currency(dict_currency_list) #dizionario che contiene tutti i tassi di cambio"
      ],
      "execution_count": 0,
      "outputs": []
    },
    {
      "cell_type": "code",
      "metadata": {
        "id": "cpkK2YfxeYYZ",
        "colab_type": "code",
        "colab": {}
      },
      "source": [
        "date_currency = pd.DataFrame(dict_currency.items()) #.items ritorna lista tuple coppia key value\n",
        "date_currency.columns = ['date','currency']"
      ],
      "execution_count": 0,
      "outputs": []
    },
    {
      "cell_type": "code",
      "metadata": {
        "id": "perrVdCqe3Uh",
        "colab_type": "code",
        "colab": {}
      },
      "source": [
        "date_currency['currency']=date_currency.apply(lambda x: flat_list(x['currency']),axis=1)\n",
        "date_currency = date_currency.explode('currency').reset_index()"
      ],
      "execution_count": 0,
      "outputs": []
    },
    {
      "cell_type": "code",
      "metadata": {
        "id": "nWVxIg8ofPYV",
        "colab_type": "code",
        "colab": {}
      },
      "source": [
        "date_currency['curr']=date_currency.apply(lambda x: x['currency'][0],axis=1)\n",
        "date_currency['rate']=date_currency.apply(lambda x: x['currency'][1],axis=1)\n",
        "\n",
        "date_currency.drop(columns=['index','currency'],inplace=True)"
      ],
      "execution_count": 0,
      "outputs": []
    },
    {
      "cell_type": "code",
      "metadata": {
        "id": "F9CYk5hFkJye",
        "colab_type": "code",
        "colab": {}
      },
      "source": [
        "date_currencyNaN_index = date_currency[date_currency.isna().any(axis=1)].index\n",
        "date_currencyNan = date_currency.loc[date_currencyNaN_index]"
      ],
      "execution_count": 0,
      "outputs": []
    },
    {
      "cell_type": "code",
      "metadata": {
        "id": "wTXQu6JRt2TF",
        "colab_type": "code",
        "colab": {}
      },
      "source": [
        "date_currency.drop(index=date_currencyNaN_index,inplace=True)"
      ],
      "execution_count": 0,
      "outputs": []
    },
    {
      "cell_type": "markdown",
      "metadata": {
        "id": "AiY_US8RTGyB",
        "colab_type": "text"
      },
      "source": [
        "### Functions needed to fix problem with particular pair date, currency"
      ]
    },
    {
      "cell_type": "code",
      "metadata": {
        "id": "K9_4G9AIOP54",
        "colab_type": "code",
        "colab": {}
      },
      "source": [
        "def get_valid_day(date,currency):\n",
        "  if currency=='ILS': #ILS non presenta info antecendenti al 2011, MXN dal 2008\n",
        "    date = datetime.strptime('2011-01-03','%Y-%m-%d')\n",
        "  else:\n",
        "    date = datetime.strptime('2008-01-02','%Y-%m-%d')\n",
        "  return date\n",
        "\n",
        "def get_info_from_API(date): #chiamata API\n",
        "  date = date.strftime('%Y-%m-%d')\n",
        "  request = 'https://api.exchangeratesapi.io/history?start_at='+date+'&end_at='+date+'&base=USD'\n",
        "  request_API = requests.get(request)\n",
        "  dict_API = request_API.json()\n",
        "  dict_API = dict_API['rates'][date]\n",
        "  return dict_API\n",
        "\n",
        "def get_last_date_currency(currency,date): #ritorna tasso di cambio prima data valida\n",
        "  date = datetime.strptime(date,'%Y-%m-%d')\n",
        "  date = get_valid_day(date,currency)\n",
        "  dict_result = get_info_from_API(date)\n",
        "  while currency not in dict_result.keys():\n",
        "    date = get_valid_day(date)\n",
        "    dict_result = get_info_from_API(date)\n",
        "  return dict_result[currency]"
      ],
      "execution_count": 0,
      "outputs": []
    },
    {
      "cell_type": "code",
      "metadata": {
        "id": "dmaI03ExuDTb",
        "colab_type": "code",
        "colab": {}
      },
      "source": [
        "date_currencyNan['rate'] = date_currencyNan.apply(lambda x: get_last_date_currency(x['curr'],x['date']),axis=1)\n",
        "date_currency = pd.concat([date_currency,date_currencyNan],axis=0)"
      ],
      "execution_count": 0,
      "outputs": []
    },
    {
      "cell_type": "markdown",
      "metadata": {
        "id": "irOzkDqdw01h",
        "colab_type": "text"
      },
      "source": [
        "### Inner join between rows which contains currency convertible and DataFrame which contains for each pair date, currency the rate"
      ]
    },
    {
      "cell_type": "code",
      "metadata": {
        "id": "gacAxgxnf5QS",
        "colab_type": "code",
        "colab": {}
      },
      "source": [
        "firstBlock = pd.merge(firstBlock,date_currency,how='inner',left_on=['disburse_time_API','currency'],right_on = ['date','curr'])"
      ],
      "execution_count": 0,
      "outputs": []
    },
    {
      "cell_type": "code",
      "metadata": {
        "id": "d24R6Tf92G4B",
        "colab_type": "code",
        "colab": {}
      },
      "source": [
        "firstBlock.drop(columns=['date','curr'],inplace=True)"
      ],
      "execution_count": 0,
      "outputs": []
    },
    {
      "cell_type": "markdown",
      "metadata": {
        "id": "1fvZRjgAT-EM",
        "colab_type": "text"
      },
      "source": [
        "### Compute conversion"
      ]
    },
    {
      "cell_type": "code",
      "metadata": {
        "id": "pTB034jr2VeC",
        "colab_type": "code",
        "colab": {}
      },
      "source": [
        "firstBlock['funded_amount_conversion_USD']=round(firstBlock['funded_amount']/firstBlock['rate'],2)\n",
        "firstBlock['loan_amount_conversion_USD']=round(firstBlock['loan_amount']/firstBlock['rate'],2)"
      ],
      "execution_count": 0,
      "outputs": []
    },
    {
      "cell_type": "code",
      "metadata": {
        "colab_type": "code",
        "id": "C9GVGJMyDkuU",
        "colab": {}
      },
      "source": [
        "loan_simplified_USD = pd.concat([firstBlock,secondBlock],axis=0,sort=False) #sort=False per evitare warning"
      ],
      "execution_count": 0,
      "outputs": []
    },
    {
      "cell_type": "code",
      "metadata": {
        "id": "qiAv1p_uDrzg",
        "colab_type": "code",
        "colab": {}
      },
      "source": [
        "country_amount_loan = pd.DataFrame(loan_simplified_USD.groupby('country_name')['loan_amount_conversion_USD'].sum()).reset_index()\n",
        "country_amount_loan.columns = ['country','overall_USD']"
      ],
      "execution_count": 0,
      "outputs": []
    },
    {
      "cell_type": "markdown",
      "metadata": {
        "id": "B1-vzEGQWATQ",
        "colab_type": "text"
      },
      "source": [
        "### _Result_"
      ]
    },
    {
      "cell_type": "code",
      "metadata": {
        "id": "gsXkIui62mOs",
        "colab_type": "code",
        "outputId": "5cde0b97-e527-4681-fc52-51134c536a5d",
        "colab": {
          "base_uri": "https://localhost:8080/",
          "height": 195
        }
      },
      "source": [
        "country_amount_loan.head()"
      ],
      "execution_count": 0,
      "outputs": [
        {
          "output_type": "execute_result",
          "data": {
            "text/html": [
              "<div>\n",
              "<style scoped>\n",
              "    .dataframe tbody tr th:only-of-type {\n",
              "        vertical-align: middle;\n",
              "    }\n",
              "\n",
              "    .dataframe tbody tr th {\n",
              "        vertical-align: top;\n",
              "    }\n",
              "\n",
              "    .dataframe thead th {\n",
              "        text-align: right;\n",
              "    }\n",
              "</style>\n",
              "<table border=\"1\" class=\"dataframe\">\n",
              "  <thead>\n",
              "    <tr style=\"text-align: right;\">\n",
              "      <th></th>\n",
              "      <th>country</th>\n",
              "      <th>overall_USD</th>\n",
              "    </tr>\n",
              "  </thead>\n",
              "  <tbody>\n",
              "    <tr>\n",
              "      <th>0</th>\n",
              "      <td>Afghanistan</td>\n",
              "      <td>1967950.00</td>\n",
              "    </tr>\n",
              "    <tr>\n",
              "      <th>1</th>\n",
              "      <td>Albania</td>\n",
              "      <td>4332689.39</td>\n",
              "    </tr>\n",
              "    <tr>\n",
              "      <th>2</th>\n",
              "      <td>Armenia</td>\n",
              "      <td>22950475.00</td>\n",
              "    </tr>\n",
              "    <tr>\n",
              "      <th>3</th>\n",
              "      <td>Azerbaijan</td>\n",
              "      <td>14784625.00</td>\n",
              "    </tr>\n",
              "    <tr>\n",
              "      <th>4</th>\n",
              "      <td>Belize</td>\n",
              "      <td>150175.00</td>\n",
              "    </tr>\n",
              "  </tbody>\n",
              "</table>\n",
              "</div>"
            ],
            "text/plain": [
              "       country  overall_USD\n",
              "0  Afghanistan   1967950.00\n",
              "1      Albania   4332689.39\n",
              "2      Armenia  22950475.00\n",
              "3   Azerbaijan  14784625.00\n",
              "4       Belize    150175.00"
            ]
          },
          "metadata": {
            "tags": []
          },
          "execution_count": 68
        }
      ]
    },
    {
      "cell_type": "markdown",
      "metadata": {
        "id": "7Zs2utjG2yjf",
        "colab_type": "text"
      },
      "source": [
        "_Result (ordered)_"
      ]
    },
    {
      "cell_type": "code",
      "metadata": {
        "id": "uld2KgPI20r2",
        "colab_type": "code",
        "outputId": "e338ddcf-c734-4ec8-8466-ebad9481ed36",
        "colab": {
          "base_uri": "https://localhost:8080/",
          "height": 195
        }
      },
      "source": [
        "country_amount_loan.sort_values(by='overall_USD',ascending=False).head()"
      ],
      "execution_count": 0,
      "outputs": [
        {
          "output_type": "execute_result",
          "data": {
            "text/html": [
              "<div>\n",
              "<style scoped>\n",
              "    .dataframe tbody tr th:only-of-type {\n",
              "        vertical-align: middle;\n",
              "    }\n",
              "\n",
              "    .dataframe tbody tr th {\n",
              "        vertical-align: top;\n",
              "    }\n",
              "\n",
              "    .dataframe thead th {\n",
              "        text-align: right;\n",
              "    }\n",
              "</style>\n",
              "<table border=\"1\" class=\"dataframe\">\n",
              "  <thead>\n",
              "    <tr style=\"text-align: right;\">\n",
              "      <th></th>\n",
              "      <th>country</th>\n",
              "      <th>overall_USD</th>\n",
              "    </tr>\n",
              "  </thead>\n",
              "  <tbody>\n",
              "    <tr>\n",
              "      <th>65</th>\n",
              "      <td>Peru</td>\n",
              "      <td>79437775.0</td>\n",
              "    </tr>\n",
              "    <tr>\n",
              "      <th>40</th>\n",
              "      <td>Kenya</td>\n",
              "      <td>66735975.0</td>\n",
              "    </tr>\n",
              "    <tr>\n",
              "      <th>64</th>\n",
              "      <td>Paraguay</td>\n",
              "      <td>53964700.0</td>\n",
              "    </tr>\n",
              "    <tr>\n",
              "      <th>14</th>\n",
              "      <td>Cambodia</td>\n",
              "      <td>51613525.0</td>\n",
              "    </tr>\n",
              "    <tr>\n",
              "      <th>88</th>\n",
              "      <td>United States</td>\n",
              "      <td>46352000.0</td>\n",
              "    </tr>\n",
              "  </tbody>\n",
              "</table>\n",
              "</div>"
            ],
            "text/plain": [
              "          country  overall_USD\n",
              "65           Peru   79437775.0\n",
              "40          Kenya   66735975.0\n",
              "64       Paraguay   53964700.0\n",
              "14       Cambodia   51613525.0\n",
              "88  United States   46352000.0"
            ]
          },
          "metadata": {
            "tags": []
          },
          "execution_count": 69
        }
      ]
    },
    {
      "cell_type": "markdown",
      "metadata": {
        "id": "Kkmag5y2Whhi",
        "colab_type": "text"
      },
      "source": [
        "## Task 6\n",
        "- Like the previous point, but expressed as a percentage of the overall amount lent."
      ]
    },
    {
      "cell_type": "code",
      "metadata": {
        "id": "gjnwWbopn2y1",
        "colab_type": "code",
        "colab": {}
      },
      "source": [
        "country_amount_loan_perc=pd.DataFrame(country_amount_loan)\n",
        "country_amount_loan_perc.columns = ['country','borrowed']"
      ],
      "execution_count": 0,
      "outputs": []
    },
    {
      "cell_type": "markdown",
      "metadata": {
        "id": "13ISFmwc8EAL",
        "colab_type": "text"
      },
      "source": [
        "### Compute ratio between total country and overall amount"
      ]
    },
    {
      "cell_type": "code",
      "metadata": {
        "id": "M89TfHxStNcI",
        "colab_type": "code",
        "colab": {}
      },
      "source": [
        "total=country_amount_loan_perc['borrowed'].sum()\n",
        "country_amount_loan_perc['percentage']=round(country_amount_loan_perc['borrowed']/total*100,2)"
      ],
      "execution_count": 0,
      "outputs": []
    },
    {
      "cell_type": "markdown",
      "metadata": {
        "id": "xNgVeIqTufQK",
        "colab_type": "text"
      },
      "source": [
        "### _Result_"
      ]
    },
    {
      "cell_type": "code",
      "metadata": {
        "id": "zyErEw0PugNt",
        "colab_type": "code",
        "outputId": "aef62278-631b-4166-bf17-4c827ebc49b8",
        "colab": {
          "base_uri": "https://localhost:8080/",
          "height": 195
        }
      },
      "source": [
        "country_amount_loan_perc.head()"
      ],
      "execution_count": 0,
      "outputs": [
        {
          "output_type": "execute_result",
          "data": {
            "text/html": [
              "<div>\n",
              "<style scoped>\n",
              "    .dataframe tbody tr th:only-of-type {\n",
              "        vertical-align: middle;\n",
              "    }\n",
              "\n",
              "    .dataframe tbody tr th {\n",
              "        vertical-align: top;\n",
              "    }\n",
              "\n",
              "    .dataframe thead th {\n",
              "        text-align: right;\n",
              "    }\n",
              "</style>\n",
              "<table border=\"1\" class=\"dataframe\">\n",
              "  <thead>\n",
              "    <tr style=\"text-align: right;\">\n",
              "      <th></th>\n",
              "      <th>country</th>\n",
              "      <th>borrowed</th>\n",
              "      <th>percentage</th>\n",
              "    </tr>\n",
              "  </thead>\n",
              "  <tbody>\n",
              "    <tr>\n",
              "      <th>0</th>\n",
              "      <td>Afghanistan</td>\n",
              "      <td>1967950.00</td>\n",
              "      <td>0.19</td>\n",
              "    </tr>\n",
              "    <tr>\n",
              "      <th>1</th>\n",
              "      <td>Albania</td>\n",
              "      <td>4332689.39</td>\n",
              "      <td>0.41</td>\n",
              "    </tr>\n",
              "    <tr>\n",
              "      <th>2</th>\n",
              "      <td>Armenia</td>\n",
              "      <td>22950475.00</td>\n",
              "      <td>2.20</td>\n",
              "    </tr>\n",
              "    <tr>\n",
              "      <th>3</th>\n",
              "      <td>Azerbaijan</td>\n",
              "      <td>14784625.00</td>\n",
              "      <td>1.42</td>\n",
              "    </tr>\n",
              "    <tr>\n",
              "      <th>4</th>\n",
              "      <td>Belize</td>\n",
              "      <td>150175.00</td>\n",
              "      <td>0.01</td>\n",
              "    </tr>\n",
              "  </tbody>\n",
              "</table>\n",
              "</div>"
            ],
            "text/plain": [
              "       country     borrowed  percentage\n",
              "0  Afghanistan   1967950.00        0.19\n",
              "1      Albania   4332689.39        0.41\n",
              "2      Armenia  22950475.00        2.20\n",
              "3   Azerbaijan  14784625.00        1.42\n",
              "4       Belize    150175.00        0.01"
            ]
          },
          "metadata": {
            "tags": []
          },
          "execution_count": 72
        }
      ]
    },
    {
      "cell_type": "markdown",
      "metadata": {
        "id": "ac5y8VRK8S74",
        "colab_type": "text"
      },
      "source": [
        "_Result (ordered)_"
      ]
    },
    {
      "cell_type": "code",
      "metadata": {
        "id": "RRYrsg9t8U4W",
        "colab_type": "code",
        "outputId": "d65cdd8c-1659-4caf-fbd3-f0a6ab285c1e",
        "colab": {
          "base_uri": "https://localhost:8080/",
          "height": 195
        }
      },
      "source": [
        "country_amount_loan_perc.sort_values(by='percentage',ascending=False).head()"
      ],
      "execution_count": 0,
      "outputs": [
        {
          "output_type": "execute_result",
          "data": {
            "text/html": [
              "<div>\n",
              "<style scoped>\n",
              "    .dataframe tbody tr th:only-of-type {\n",
              "        vertical-align: middle;\n",
              "    }\n",
              "\n",
              "    .dataframe tbody tr th {\n",
              "        vertical-align: top;\n",
              "    }\n",
              "\n",
              "    .dataframe thead th {\n",
              "        text-align: right;\n",
              "    }\n",
              "</style>\n",
              "<table border=\"1\" class=\"dataframe\">\n",
              "  <thead>\n",
              "    <tr style=\"text-align: right;\">\n",
              "      <th></th>\n",
              "      <th>country</th>\n",
              "      <th>borrowed</th>\n",
              "      <th>percentage</th>\n",
              "    </tr>\n",
              "  </thead>\n",
              "  <tbody>\n",
              "    <tr>\n",
              "      <th>65</th>\n",
              "      <td>Peru</td>\n",
              "      <td>79437775.0</td>\n",
              "      <td>7.60</td>\n",
              "    </tr>\n",
              "    <tr>\n",
              "      <th>40</th>\n",
              "      <td>Kenya</td>\n",
              "      <td>66735975.0</td>\n",
              "      <td>6.39</td>\n",
              "    </tr>\n",
              "    <tr>\n",
              "      <th>64</th>\n",
              "      <td>Paraguay</td>\n",
              "      <td>53964700.0</td>\n",
              "      <td>5.17</td>\n",
              "    </tr>\n",
              "    <tr>\n",
              "      <th>14</th>\n",
              "      <td>Cambodia</td>\n",
              "      <td>51613525.0</td>\n",
              "      <td>4.94</td>\n",
              "    </tr>\n",
              "    <tr>\n",
              "      <th>88</th>\n",
              "      <td>United States</td>\n",
              "      <td>46352000.0</td>\n",
              "      <td>4.44</td>\n",
              "    </tr>\n",
              "  </tbody>\n",
              "</table>\n",
              "</div>"
            ],
            "text/plain": [
              "          country    borrowed  percentage\n",
              "65           Peru  79437775.0        7.60\n",
              "40          Kenya  66735975.0        6.39\n",
              "64       Paraguay  53964700.0        5.17\n",
              "14       Cambodia  51613525.0        4.94\n",
              "88  United States  46352000.0        4.44"
            ]
          },
          "metadata": {
            "tags": []
          },
          "execution_count": 73
        }
      ]
    },
    {
      "cell_type": "markdown",
      "metadata": {
        "id": "jlNVlX6mGRVt",
        "colab_type": "text"
      },
      "source": [
        "## Task 7\n",
        "- Like the three previous points, but split for each year (with respect to disburse time)."
      ]
    },
    {
      "cell_type": "markdown",
      "metadata": {
        "id": "PUvQ2XS7_mbn",
        "colab_type": "text"
      },
      "source": [
        "### Check missing values"
      ]
    },
    {
      "cell_type": "code",
      "metadata": {
        "id": "YsQyPqY3RVCn",
        "colab_type": "code",
        "outputId": "5c621aa7-7141-453c-9bb3-01db5d9c40bd",
        "colab": {
          "base_uri": "https://localhost:8080/",
          "height": 422
        }
      },
      "source": [
        "missing = loan_simplified_USD[loan_simplified_USD['disburse_time'].isnull()]\n",
        "missing"
      ],
      "execution_count": 0,
      "outputs": [
        {
          "output_type": "execute_result",
          "data": {
            "text/html": [
              "<div>\n",
              "<style scoped>\n",
              "    .dataframe tbody tr th:only-of-type {\n",
              "        vertical-align: middle;\n",
              "    }\n",
              "\n",
              "    .dataframe tbody tr th {\n",
              "        vertical-align: top;\n",
              "    }\n",
              "\n",
              "    .dataframe thead th {\n",
              "        text-align: right;\n",
              "    }\n",
              "</style>\n",
              "<table border=\"1\" class=\"dataframe\">\n",
              "  <thead>\n",
              "    <tr style=\"text-align: right;\">\n",
              "      <th></th>\n",
              "      <th>loan_id</th>\n",
              "      <th>country_name</th>\n",
              "      <th>disburse_time</th>\n",
              "      <th>planned_expiration_time</th>\n",
              "      <th>num_lenders_total</th>\n",
              "      <th>funded_amount</th>\n",
              "      <th>loan_amount</th>\n",
              "      <th>currency</th>\n",
              "      <th>disburse_time_API</th>\n",
              "      <th>conversion</th>\n",
              "      <th>rate</th>\n",
              "      <th>funded_amount_conversion_USD</th>\n",
              "      <th>loan_amount_conversion_USD</th>\n",
              "    </tr>\n",
              "  </thead>\n",
              "  <tbody>\n",
              "    <tr>\n",
              "      <th>31106</th>\n",
              "      <td>1379508</td>\n",
              "      <td>United States</td>\n",
              "      <td>NaT</td>\n",
              "      <td>2017-12-06 16:41:36+00:00</td>\n",
              "      <td>2</td>\n",
              "      <td>125.0</td>\n",
              "      <td>1000.0</td>\n",
              "      <td>USD</td>\n",
              "      <td>NaT</td>\n",
              "      <td>NaN</td>\n",
              "      <td>NaN</td>\n",
              "      <td>125.0</td>\n",
              "      <td>1000.0</td>\n",
              "    </tr>\n",
              "    <tr>\n",
              "      <th>31107</th>\n",
              "      <td>1428617</td>\n",
              "      <td>United States</td>\n",
              "      <td>NaT</td>\n",
              "      <td>2018-01-25 19:25:55+00:00</td>\n",
              "      <td>0</td>\n",
              "      <td>0.0</td>\n",
              "      <td>10000.0</td>\n",
              "      <td>USD</td>\n",
              "      <td>NaT</td>\n",
              "      <td>NaN</td>\n",
              "      <td>NaN</td>\n",
              "      <td>0.0</td>\n",
              "      <td>10000.0</td>\n",
              "    </tr>\n",
              "    <tr>\n",
              "      <th>31178</th>\n",
              "      <td>1135319</td>\n",
              "      <td>United States</td>\n",
              "      <td>NaT</td>\n",
              "      <td>2016-09-02 20:27:46+00:00</td>\n",
              "      <td>2</td>\n",
              "      <td>50.0</td>\n",
              "      <td>500.0</td>\n",
              "      <td>USD</td>\n",
              "      <td>NaT</td>\n",
              "      <td>NaN</td>\n",
              "      <td>NaN</td>\n",
              "      <td>50.0</td>\n",
              "      <td>500.0</td>\n",
              "    </tr>\n",
              "    <tr>\n",
              "      <th>32151</th>\n",
              "      <td>1279252</td>\n",
              "      <td>United States</td>\n",
              "      <td>NaT</td>\n",
              "      <td>2017-05-04 23:31:00+00:00</td>\n",
              "      <td>0</td>\n",
              "      <td>0.0</td>\n",
              "      <td>1000.0</td>\n",
              "      <td>USD</td>\n",
              "      <td>NaT</td>\n",
              "      <td>NaN</td>\n",
              "      <td>NaN</td>\n",
              "      <td>0.0</td>\n",
              "      <td>1000.0</td>\n",
              "    </tr>\n",
              "    <tr>\n",
              "      <th>32152</th>\n",
              "      <td>1433349</td>\n",
              "      <td>United States</td>\n",
              "      <td>NaT</td>\n",
              "      <td>2018-01-04 18:49:43+00:00</td>\n",
              "      <td>0</td>\n",
              "      <td>0.0</td>\n",
              "      <td>8000.0</td>\n",
              "      <td>USD</td>\n",
              "      <td>NaT</td>\n",
              "      <td>NaN</td>\n",
              "      <td>NaN</td>\n",
              "      <td>0.0</td>\n",
              "      <td>8000.0</td>\n",
              "    </tr>\n",
              "    <tr>\n",
              "      <th>...</th>\n",
              "      <td>...</td>\n",
              "      <td>...</td>\n",
              "      <td>...</td>\n",
              "      <td>...</td>\n",
              "      <td>...</td>\n",
              "      <td>...</td>\n",
              "      <td>...</td>\n",
              "      <td>...</td>\n",
              "      <td>...</td>\n",
              "      <td>...</td>\n",
              "      <td>...</td>\n",
              "      <td>...</td>\n",
              "      <td>...</td>\n",
              "    </tr>\n",
              "    <tr>\n",
              "      <th>1419522</th>\n",
              "      <td>1082442</td>\n",
              "      <td>United States</td>\n",
              "      <td>NaT</td>\n",
              "      <td>2014-10-14 16:05:01+00:00</td>\n",
              "      <td>37</td>\n",
              "      <td>510.0</td>\n",
              "      <td>3000.0</td>\n",
              "      <td>USD</td>\n",
              "      <td>NaT</td>\n",
              "      <td>NaN</td>\n",
              "      <td>NaN</td>\n",
              "      <td>510.0</td>\n",
              "      <td>3000.0</td>\n",
              "    </tr>\n",
              "    <tr>\n",
              "      <th>1419524</th>\n",
              "      <td>1227124</td>\n",
              "      <td>United States</td>\n",
              "      <td>NaT</td>\n",
              "      <td>2017-02-09 23:07:54+00:00</td>\n",
              "      <td>9</td>\n",
              "      <td>800.0</td>\n",
              "      <td>10000.0</td>\n",
              "      <td>USD</td>\n",
              "      <td>NaT</td>\n",
              "      <td>NaN</td>\n",
              "      <td>NaN</td>\n",
              "      <td>800.0</td>\n",
              "      <td>10000.0</td>\n",
              "    </tr>\n",
              "    <tr>\n",
              "      <th>1419525</th>\n",
              "      <td>1089430</td>\n",
              "      <td>Kenya</td>\n",
              "      <td>NaT</td>\n",
              "      <td>2015-09-21 08:06:19+00:00</td>\n",
              "      <td>3</td>\n",
              "      <td>125.0</td>\n",
              "      <td>225.0</td>\n",
              "      <td>KES</td>\n",
              "      <td>NaT</td>\n",
              "      <td>False</td>\n",
              "      <td>NaN</td>\n",
              "      <td>125.0</td>\n",
              "      <td>225.0</td>\n",
              "    </tr>\n",
              "    <tr>\n",
              "      <th>1419538</th>\n",
              "      <td>1235452</td>\n",
              "      <td>United States</td>\n",
              "      <td>NaT</td>\n",
              "      <td>2017-02-25 20:21:21+00:00</td>\n",
              "      <td>3</td>\n",
              "      <td>600.0</td>\n",
              "      <td>3000.0</td>\n",
              "      <td>USD</td>\n",
              "      <td>NaT</td>\n",
              "      <td>NaN</td>\n",
              "      <td>NaN</td>\n",
              "      <td>600.0</td>\n",
              "      <td>3000.0</td>\n",
              "    </tr>\n",
              "    <tr>\n",
              "      <th>1419564</th>\n",
              "      <td>1151269</td>\n",
              "      <td>United States</td>\n",
              "      <td>NaT</td>\n",
              "      <td>2016-09-30 18:49:53+00:00</td>\n",
              "      <td>2</td>\n",
              "      <td>50.0</td>\n",
              "      <td>8750.0</td>\n",
              "      <td>USD</td>\n",
              "      <td>NaT</td>\n",
              "      <td>NaN</td>\n",
              "      <td>NaN</td>\n",
              "      <td>50.0</td>\n",
              "      <td>8750.0</td>\n",
              "    </tr>\n",
              "  </tbody>\n",
              "</table>\n",
              "<p>2813 rows × 13 columns</p>\n",
              "</div>"
            ],
            "text/plain": [
              "         loan_id  ... loan_amount_conversion_USD\n",
              "31106    1379508  ...                     1000.0\n",
              "31107    1428617  ...                    10000.0\n",
              "31178    1135319  ...                      500.0\n",
              "32151    1279252  ...                     1000.0\n",
              "32152    1433349  ...                     8000.0\n",
              "...          ...  ...                        ...\n",
              "1419522  1082442  ...                     3000.0\n",
              "1419524  1227124  ...                    10000.0\n",
              "1419525  1089430  ...                      225.0\n",
              "1419538  1235452  ...                     3000.0\n",
              "1419564  1151269  ...                     8750.0\n",
              "\n",
              "[2813 rows x 13 columns]"
            ]
          },
          "metadata": {
            "tags": []
          },
          "execution_count": 74
        }
      ]
    },
    {
      "cell_type": "markdown",
      "metadata": {
        "id": "q9nUtxBoFrJO",
        "colab_type": "text"
      },
      "source": [
        "### Get year from _disburse_time_ for each loan"
      ]
    },
    {
      "cell_type": "code",
      "metadata": {
        "id": "UamDI5T1YtWv",
        "colab_type": "code",
        "outputId": "84d4d4a7-512c-41dd-ecec-0721859c501c",
        "colab": {
          "base_uri": "https://localhost:8080/",
          "height": 67
        }
      },
      "source": [
        "loan_simplified_USD=loan_simplified_USD.copy()\n",
        "inizio = datetime.now() + timedelta(hours=1)\n",
        "print(\"Inizio: \"+inizio.strftime(\"%H:%M:%S\"))\n",
        "loan_simplified_USD['year_disburse'] = loan_simplified_USD.apply(lambda x: x['disburse_time'].year,axis=1)\n",
        "fine = datetime.now() + timedelta(hours=1)\n",
        "print(\"Inizio: \"+fine.strftime(\"%H:%M:%S\"))\n",
        "fine-inizio"
      ],
      "execution_count": 0,
      "outputs": [
        {
          "output_type": "stream",
          "text": [
            "Inizio: 09:42:29\n",
            "Inizio: 09:44:53\n"
          ],
          "name": "stdout"
        },
        {
          "output_type": "execute_result",
          "data": {
            "text/plain": [
              "datetime.timedelta(0, 143, 669594)"
            ]
          },
          "metadata": {
            "tags": []
          },
          "execution_count": 75
        }
      ]
    },
    {
      "cell_type": "code",
      "metadata": {
        "id": "Uxiw_dYcrARH",
        "colab_type": "code",
        "colab": {}
      },
      "source": [
        "year_nan = pd.isnull(loan_simplified_USD['year_disburse'])\n",
        "year_nan_index = year_nan[year_nan==True].index\n",
        "\n",
        "loan_year = loan_simplified_USD.drop(index=year_nan_index) #non considero tuple che non hanno valore in 'disburse_time'"
      ],
      "execution_count": 0,
      "outputs": []
    },
    {
      "cell_type": "code",
      "metadata": {
        "id": "2fJC515Gr2GB",
        "colab_type": "code",
        "colab": {}
      },
      "source": [
        "loan_year = loan_year.copy()\n",
        "loan_year['year_disburse']=loan_year['year_disburse'].astype(int)"
      ],
      "execution_count": 0,
      "outputs": []
    },
    {
      "cell_type": "code",
      "metadata": {
        "id": "DTFUBusEjbwQ",
        "colab_type": "code",
        "colab": {}
      },
      "source": [
        "country_amount_year=loan_year.groupby(['country_name','year_disburse'])['loan_amount_conversion_USD'].sum()\n",
        "country_amount_year = pd.DataFrame(country_amount_year)"
      ],
      "execution_count": 0,
      "outputs": []
    },
    {
      "cell_type": "markdown",
      "metadata": {
        "id": "ROv1F3vHC84f",
        "colab_type": "text"
      },
      "source": [
        "### _Result_"
      ]
    },
    {
      "cell_type": "code",
      "metadata": {
        "id": "1jnFa4B3B96x",
        "colab_type": "code",
        "outputId": "410c3cdb-28e3-4d3b-c1af-ecf47fbe921a",
        "colab": {
          "base_uri": "https://localhost:8080/",
          "height": 225
        }
      },
      "source": [
        "country_amount_year.head()"
      ],
      "execution_count": 0,
      "outputs": [
        {
          "output_type": "execute_result",
          "data": {
            "text/html": [
              "<div>\n",
              "<style scoped>\n",
              "    .dataframe tbody tr th:only-of-type {\n",
              "        vertical-align: middle;\n",
              "    }\n",
              "\n",
              "    .dataframe tbody tr th {\n",
              "        vertical-align: top;\n",
              "    }\n",
              "\n",
              "    .dataframe thead th {\n",
              "        text-align: right;\n",
              "    }\n",
              "</style>\n",
              "<table border=\"1\" class=\"dataframe\">\n",
              "  <thead>\n",
              "    <tr style=\"text-align: right;\">\n",
              "      <th></th>\n",
              "      <th></th>\n",
              "      <th>loan_amount_conversion_USD</th>\n",
              "    </tr>\n",
              "    <tr>\n",
              "      <th>country_name</th>\n",
              "      <th>year_disburse</th>\n",
              "      <th></th>\n",
              "    </tr>\n",
              "  </thead>\n",
              "  <tbody>\n",
              "    <tr>\n",
              "      <th rowspan=\"5\" valign=\"top\">Afghanistan</th>\n",
              "      <th>2007</th>\n",
              "      <td>194975.0</td>\n",
              "    </tr>\n",
              "    <tr>\n",
              "      <th>2008</th>\n",
              "      <td>365375.0</td>\n",
              "    </tr>\n",
              "    <tr>\n",
              "      <th>2009</th>\n",
              "      <td>585125.0</td>\n",
              "    </tr>\n",
              "    <tr>\n",
              "      <th>2010</th>\n",
              "      <td>563350.0</td>\n",
              "    </tr>\n",
              "    <tr>\n",
              "      <th>2011</th>\n",
              "      <td>245125.0</td>\n",
              "    </tr>\n",
              "  </tbody>\n",
              "</table>\n",
              "</div>"
            ],
            "text/plain": [
              "                            loan_amount_conversion_USD\n",
              "country_name year_disburse                            \n",
              "Afghanistan  2007                             194975.0\n",
              "             2008                             365375.0\n",
              "             2009                             585125.0\n",
              "             2010                             563350.0\n",
              "             2011                             245125.0"
            ]
          },
          "metadata": {
            "tags": []
          },
          "execution_count": 81
        }
      ]
    },
    {
      "cell_type": "markdown",
      "metadata": {
        "id": "9cWj5GvvDNak",
        "colab_type": "text"
      },
      "source": [
        "## Task 8\n",
        "- For each lender, compute the overall amount of money lent. For each loan that has more than one lender, you must assume that all lenders contributed the same amount."
      ]
    },
    {
      "cell_type": "code",
      "metadata": {
        "id": "XUJlYtiAEje7",
        "colab_type": "code",
        "colab": {}
      },
      "source": [
        "number_loans_lender_norm=loans_lender_norm.groupby('loan_id')['lenders'].count()\n",
        "number_loans_lender_norm=pd.DataFrame(number_loans_lender_norm).reset_index(level=0) #per ogni loan numero lenders"
      ],
      "execution_count": 0,
      "outputs": []
    },
    {
      "cell_type": "code",
      "metadata": {
        "id": "zn6njOTxubhi",
        "colab_type": "code",
        "outputId": "6b39b6bb-891b-4425-9476-4d75d36165d6",
        "colab": {
          "base_uri": "https://localhost:8080/",
          "height": 195
        }
      },
      "source": [
        "number_loans_lender_norm.head()"
      ],
      "execution_count": 0,
      "outputs": [
        {
          "output_type": "execute_result",
          "data": {
            "text/html": [
              "<div>\n",
              "<style scoped>\n",
              "    .dataframe tbody tr th:only-of-type {\n",
              "        vertical-align: middle;\n",
              "    }\n",
              "\n",
              "    .dataframe tbody tr th {\n",
              "        vertical-align: top;\n",
              "    }\n",
              "\n",
              "    .dataframe thead th {\n",
              "        text-align: right;\n",
              "    }\n",
              "</style>\n",
              "<table border=\"1\" class=\"dataframe\">\n",
              "  <thead>\n",
              "    <tr style=\"text-align: right;\">\n",
              "      <th></th>\n",
              "      <th>loan_id</th>\n",
              "      <th>lenders</th>\n",
              "    </tr>\n",
              "  </thead>\n",
              "  <tbody>\n",
              "    <tr>\n",
              "      <th>0</th>\n",
              "      <td>84</td>\n",
              "      <td>3</td>\n",
              "    </tr>\n",
              "    <tr>\n",
              "      <th>1</th>\n",
              "      <td>85</td>\n",
              "      <td>2</td>\n",
              "    </tr>\n",
              "    <tr>\n",
              "      <th>2</th>\n",
              "      <td>86</td>\n",
              "      <td>3</td>\n",
              "    </tr>\n",
              "    <tr>\n",
              "      <th>3</th>\n",
              "      <td>88</td>\n",
              "      <td>3</td>\n",
              "    </tr>\n",
              "    <tr>\n",
              "      <th>4</th>\n",
              "      <td>89</td>\n",
              "      <td>4</td>\n",
              "    </tr>\n",
              "  </tbody>\n",
              "</table>\n",
              "</div>"
            ],
            "text/plain": [
              "   loan_id  lenders\n",
              "0       84        3\n",
              "1       85        2\n",
              "2       86        3\n",
              "3       88        3\n",
              "4       89        4"
            ]
          },
          "metadata": {
            "tags": []
          },
          "execution_count": 83
        }
      ]
    },
    {
      "cell_type": "markdown",
      "metadata": {
        "id": "_p7KiNmgww0i",
        "colab_type": "text"
      },
      "source": [
        "### Get number lenders for each loan"
      ]
    },
    {
      "cell_type": "code",
      "metadata": {
        "id": "M_-CUKmLFg5S",
        "colab_type": "code",
        "colab": {}
      },
      "source": [
        "loans_lender_amount = pd.merge(loan_simplified_USD,number_loans_lender_norm,how=\"inner\",on=\"loan_id\")\n",
        "loans_lender_amount= loans_lender_amount[['loan_id','num_lenders_total','lenders','loan_amount_conversion_USD']]"
      ],
      "execution_count": 0,
      "outputs": []
    },
    {
      "cell_type": "code",
      "metadata": {
        "id": "C0H9eMJUIl_a",
        "colab_type": "code",
        "colab": {}
      },
      "source": [
        "correct = loans_lender_amount[loans_lender_amount['num_lenders_total']==loans_lender_amount['lenders']]\n",
        "wrong = loans_lender_amount[loans_lender_amount['num_lenders_total']!=loans_lender_amount['lenders']]"
      ],
      "execution_count": 0,
      "outputs": []
    },
    {
      "cell_type": "code",
      "metadata": {
        "id": "kjjsczFRJJeg",
        "colab_type": "code",
        "outputId": "4a87b351-189b-41b8-acd9-3e972d5f26a9",
        "colab": {
          "base_uri": "https://localhost:8080/",
          "height": 50
        }
      },
      "source": [
        "print(\"Info giuste: \"+str(len(correct)/len(loans_lender_amount)))\n",
        "print(\"Info sbagliate: \"+str(len(wrong)/len(loans_lender_amount)))"
      ],
      "execution_count": 0,
      "outputs": [
        {
          "output_type": "stream",
          "text": [
            "Info giuste: 0.1917209397532701\n",
            "Info sbagliate: 0.8082790602467299\n"
          ],
          "name": "stdout"
        }
      ]
    },
    {
      "cell_type": "markdown",
      "metadata": {
        "id": "v5EoCcw2xRnm",
        "colab_type": "text"
      },
      "source": [
        "### Fixed count lenders for each loan"
      ]
    },
    {
      "cell_type": "code",
      "metadata": {
        "id": "-zkLgG65yEEB",
        "colab_type": "code",
        "colab": {}
      },
      "source": [
        "loans_lender_amount.drop(columns='num_lenders_total',inplace=True)"
      ],
      "execution_count": 0,
      "outputs": []
    },
    {
      "cell_type": "code",
      "metadata": {
        "id": "f0b3RtIaxwUU",
        "colab_type": "code",
        "outputId": "99dd3cef-d31b-494c-efd2-2ccbffe4fd09",
        "colab": {
          "base_uri": "https://localhost:8080/",
          "height": 195
        }
      },
      "source": [
        "loans_lender_amount.head()"
      ],
      "execution_count": 0,
      "outputs": [
        {
          "output_type": "execute_result",
          "data": {
            "text/html": [
              "<div>\n",
              "<style scoped>\n",
              "    .dataframe tbody tr th:only-of-type {\n",
              "        vertical-align: middle;\n",
              "    }\n",
              "\n",
              "    .dataframe tbody tr th {\n",
              "        vertical-align: top;\n",
              "    }\n",
              "\n",
              "    .dataframe thead th {\n",
              "        text-align: right;\n",
              "    }\n",
              "</style>\n",
              "<table border=\"1\" class=\"dataframe\">\n",
              "  <thead>\n",
              "    <tr style=\"text-align: right;\">\n",
              "      <th></th>\n",
              "      <th>loan_id</th>\n",
              "      <th>lenders</th>\n",
              "      <th>loan_amount_conversion_USD</th>\n",
              "    </tr>\n",
              "  </thead>\n",
              "  <tbody>\n",
              "    <tr>\n",
              "      <th>0</th>\n",
              "      <td>657307</td>\n",
              "      <td>3</td>\n",
              "      <td>2.81</td>\n",
              "    </tr>\n",
              "    <tr>\n",
              "      <th>1</th>\n",
              "      <td>654523</td>\n",
              "      <td>11</td>\n",
              "      <td>8.98</td>\n",
              "    </tr>\n",
              "    <tr>\n",
              "      <th>2</th>\n",
              "      <td>657419</td>\n",
              "      <td>11</td>\n",
              "      <td>7.86</td>\n",
              "    </tr>\n",
              "    <tr>\n",
              "      <th>3</th>\n",
              "      <td>652191</td>\n",
              "      <td>8</td>\n",
              "      <td>5.61</td>\n",
              "    </tr>\n",
              "    <tr>\n",
              "      <th>4</th>\n",
              "      <td>657423</td>\n",
              "      <td>9</td>\n",
              "      <td>10.10</td>\n",
              "    </tr>\n",
              "  </tbody>\n",
              "</table>\n",
              "</div>"
            ],
            "text/plain": [
              "   loan_id  lenders  loan_amount_conversion_USD\n",
              "0   657307        3                        2.81\n",
              "1   654523       11                        8.98\n",
              "2   657419       11                        7.86\n",
              "3   652191        8                        5.61\n",
              "4   657423        9                       10.10"
            ]
          },
          "metadata": {
            "tags": []
          },
          "execution_count": 88
        }
      ]
    },
    {
      "cell_type": "markdown",
      "metadata": {
        "id": "1Ohl6yFx1pNh",
        "colab_type": "text"
      },
      "source": [
        "### Compute contribution lenders for each loan"
      ]
    },
    {
      "cell_type": "code",
      "metadata": {
        "id": "fr5Vhem6OsGc",
        "colab_type": "code",
        "colab": {}
      },
      "source": [
        "loans_lender_amount['amount']=round(loans_lender_amount['loan_amount_conversion_USD']/loans_lender_amount['lenders'],2)"
      ],
      "execution_count": 0,
      "outputs": []
    },
    {
      "cell_type": "code",
      "metadata": {
        "id": "zlAyAEOvbp0J",
        "colab_type": "code",
        "outputId": "8736d0dc-03be-4d08-b06e-8e9becdb4e3e",
        "colab": {
          "base_uri": "https://localhost:8080/",
          "height": 195
        }
      },
      "source": [
        "loans_lender_amount.head()"
      ],
      "execution_count": 0,
      "outputs": [
        {
          "output_type": "execute_result",
          "data": {
            "text/html": [
              "<div>\n",
              "<style scoped>\n",
              "    .dataframe tbody tr th:only-of-type {\n",
              "        vertical-align: middle;\n",
              "    }\n",
              "\n",
              "    .dataframe tbody tr th {\n",
              "        vertical-align: top;\n",
              "    }\n",
              "\n",
              "    .dataframe thead th {\n",
              "        text-align: right;\n",
              "    }\n",
              "</style>\n",
              "<table border=\"1\" class=\"dataframe\">\n",
              "  <thead>\n",
              "    <tr style=\"text-align: right;\">\n",
              "      <th></th>\n",
              "      <th>loan_id</th>\n",
              "      <th>lenders</th>\n",
              "      <th>loan_amount_conversion_USD</th>\n",
              "      <th>amount</th>\n",
              "    </tr>\n",
              "  </thead>\n",
              "  <tbody>\n",
              "    <tr>\n",
              "      <th>0</th>\n",
              "      <td>657307</td>\n",
              "      <td>3</td>\n",
              "      <td>2.81</td>\n",
              "      <td>0.94</td>\n",
              "    </tr>\n",
              "    <tr>\n",
              "      <th>1</th>\n",
              "      <td>654523</td>\n",
              "      <td>11</td>\n",
              "      <td>8.98</td>\n",
              "      <td>0.82</td>\n",
              "    </tr>\n",
              "    <tr>\n",
              "      <th>2</th>\n",
              "      <td>657419</td>\n",
              "      <td>11</td>\n",
              "      <td>7.86</td>\n",
              "      <td>0.71</td>\n",
              "    </tr>\n",
              "    <tr>\n",
              "      <th>3</th>\n",
              "      <td>652191</td>\n",
              "      <td>8</td>\n",
              "      <td>5.61</td>\n",
              "      <td>0.70</td>\n",
              "    </tr>\n",
              "    <tr>\n",
              "      <th>4</th>\n",
              "      <td>657423</td>\n",
              "      <td>9</td>\n",
              "      <td>10.10</td>\n",
              "      <td>1.12</td>\n",
              "    </tr>\n",
              "  </tbody>\n",
              "</table>\n",
              "</div>"
            ],
            "text/plain": [
              "   loan_id  lenders  loan_amount_conversion_USD  amount\n",
              "0   657307        3                        2.81    0.94\n",
              "1   654523       11                        8.98    0.82\n",
              "2   657419       11                        7.86    0.71\n",
              "3   652191        8                        5.61    0.70\n",
              "4   657423        9                       10.10    1.12"
            ]
          },
          "metadata": {
            "tags": []
          },
          "execution_count": 90
        }
      ]
    },
    {
      "cell_type": "code",
      "metadata": {
        "id": "IPPOA09QczNE",
        "colab_type": "code",
        "colab": {}
      },
      "source": [
        "amount_loan_lender = pd.merge(loans_lender_norm,loans_lender_amount,how=\"inner\",on='loan_id')\n",
        "amount_loan_lender.drop(columns=['loan_amount_conversion_USD','lenders_y'],inplace=True)\n",
        "amount_loan_lender.columns=['loan_id','lenders','amount'] "
      ],
      "execution_count": 0,
      "outputs": []
    },
    {
      "cell_type": "code",
      "metadata": {
        "id": "jdNHodV2e20L",
        "colab_type": "code",
        "colab": {}
      },
      "source": [
        "amount_lender = amount_loan_lender.groupby('lenders')['amount'].sum()\n",
        "amount_lender = pd.DataFrame(amount_lender).reset_index(level=0)"
      ],
      "execution_count": 0,
      "outputs": []
    },
    {
      "cell_type": "code",
      "metadata": {
        "id": "J4yIE6jNhKS3",
        "colab_type": "code",
        "colab": {}
      },
      "source": [
        "amount_lender['amountFormat']=amount_lender.apply(lambda x: format(x['amount'],'f'),axis=1)"
      ],
      "execution_count": 0,
      "outputs": []
    },
    {
      "cell_type": "markdown",
      "metadata": {
        "id": "3TyiPuDJ4fSb",
        "colab_type": "text"
      },
      "source": [
        "### _Result_"
      ]
    },
    {
      "cell_type": "code",
      "metadata": {
        "id": "Vc0k4AgZgs7e",
        "colab_type": "code",
        "outputId": "b6fead93-c112-47f4-9ae7-0cac6db8c6b1",
        "colab": {
          "base_uri": "https://localhost:8080/",
          "height": 195
        }
      },
      "source": [
        "amount_lender.head()"
      ],
      "execution_count": 0,
      "outputs": [
        {
          "output_type": "execute_result",
          "data": {
            "text/html": [
              "<div>\n",
              "<style scoped>\n",
              "    .dataframe tbody tr th:only-of-type {\n",
              "        vertical-align: middle;\n",
              "    }\n",
              "\n",
              "    .dataframe tbody tr th {\n",
              "        vertical-align: top;\n",
              "    }\n",
              "\n",
              "    .dataframe thead th {\n",
              "        text-align: right;\n",
              "    }\n",
              "</style>\n",
              "<table border=\"1\" class=\"dataframe\">\n",
              "  <thead>\n",
              "    <tr style=\"text-align: right;\">\n",
              "      <th></th>\n",
              "      <th>lenders</th>\n",
              "      <th>amount</th>\n",
              "      <th>amountFormat</th>\n",
              "    </tr>\n",
              "  </thead>\n",
              "  <tbody>\n",
              "    <tr>\n",
              "      <th>0</th>\n",
              "      <td>000</td>\n",
              "      <td>1509.47</td>\n",
              "      <td>1509.470000</td>\n",
              "    </tr>\n",
              "    <tr>\n",
              "      <th>1</th>\n",
              "      <td>00000</td>\n",
              "      <td>1285.24</td>\n",
              "      <td>1285.240000</td>\n",
              "    </tr>\n",
              "    <tr>\n",
              "      <th>2</th>\n",
              "      <td>0002</td>\n",
              "      <td>1603.66</td>\n",
              "      <td>1603.660000</td>\n",
              "    </tr>\n",
              "    <tr>\n",
              "      <th>3</th>\n",
              "      <td>00mike00</td>\n",
              "      <td>52.63</td>\n",
              "      <td>52.630000</td>\n",
              "    </tr>\n",
              "    <tr>\n",
              "      <th>4</th>\n",
              "      <td>0101craign0101</td>\n",
              "      <td>2530.51</td>\n",
              "      <td>2530.510000</td>\n",
              "    </tr>\n",
              "  </tbody>\n",
              "</table>\n",
              "</div>"
            ],
            "text/plain": [
              "          lenders   amount amountFormat\n",
              "0             000  1509.47  1509.470000\n",
              "1           00000  1285.24  1285.240000\n",
              "2            0002  1603.66  1603.660000\n",
              "3        00mike00    52.63    52.630000\n",
              "4  0101craign0101  2530.51  2530.510000"
            ]
          },
          "metadata": {
            "tags": []
          },
          "execution_count": 95
        }
      ]
    },
    {
      "cell_type": "markdown",
      "metadata": {
        "id": "0BkdnMDU2Sn7",
        "colab_type": "text"
      },
      "source": [
        "_Result (ordered)_"
      ]
    },
    {
      "cell_type": "code",
      "metadata": {
        "id": "0lV8oEOp2UfE",
        "colab_type": "code",
        "outputId": "6714fc21-661a-4e3a-c2d0-2b7d2d586be4",
        "colab": {
          "base_uri": "https://localhost:8080/",
          "height": 195
        }
      },
      "source": [
        "amount_lender.sort_values(by='amount',ascending=False).head()"
      ],
      "execution_count": 0,
      "outputs": [
        {
          "output_type": "execute_result",
          "data": {
            "text/html": [
              "<div>\n",
              "<style scoped>\n",
              "    .dataframe tbody tr th:only-of-type {\n",
              "        vertical-align: middle;\n",
              "    }\n",
              "\n",
              "    .dataframe tbody tr th {\n",
              "        vertical-align: top;\n",
              "    }\n",
              "\n",
              "    .dataframe thead th {\n",
              "        text-align: right;\n",
              "    }\n",
              "</style>\n",
              "<table border=\"1\" class=\"dataframe\">\n",
              "  <thead>\n",
              "    <tr style=\"text-align: right;\">\n",
              "      <th></th>\n",
              "      <th>lenders</th>\n",
              "      <th>amount</th>\n",
              "      <th>amountFormat</th>\n",
              "    </tr>\n",
              "  </thead>\n",
              "  <tbody>\n",
              "    <tr>\n",
              "      <th>462833</th>\n",
              "      <td>gooddogg1</td>\n",
              "      <td>6.552887e+06</td>\n",
              "      <td>6552887.310000</td>\n",
              "    </tr>\n",
              "    <tr>\n",
              "      <th>1324411</th>\n",
              "      <td>trolltech4460</td>\n",
              "      <td>5.372954e+06</td>\n",
              "      <td>5372954.150000</td>\n",
              "    </tr>\n",
              "    <tr>\n",
              "      <th>651884</th>\n",
              "      <td>jouko1940</td>\n",
              "      <td>4.477584e+06</td>\n",
              "      <td>4477584.310000</td>\n",
              "    </tr>\n",
              "    <tr>\n",
              "      <th>1008585</th>\n",
              "      <td>nms</td>\n",
              "      <td>4.327798e+06</td>\n",
              "      <td>4327797.650000</td>\n",
              "    </tr>\n",
              "    <tr>\n",
              "      <th>462243</th>\n",
              "      <td>gmct</td>\n",
              "      <td>3.671530e+06</td>\n",
              "      <td>3671529.769999</td>\n",
              "    </tr>\n",
              "  </tbody>\n",
              "</table>\n",
              "</div>"
            ],
            "text/plain": [
              "               lenders        amount    amountFormat\n",
              "462833       gooddogg1  6.552887e+06  6552887.310000\n",
              "1324411  trolltech4460  5.372954e+06  5372954.150000\n",
              "651884       jouko1940  4.477584e+06  4477584.310000\n",
              "1008585            nms  4.327798e+06  4327797.650000\n",
              "462243            gmct  3.671530e+06  3671529.769999"
            ]
          },
          "metadata": {
            "tags": []
          },
          "execution_count": 96
        }
      ]
    },
    {
      "cell_type": "markdown",
      "metadata": {
        "id": "bFOyaQ_a4_fM",
        "colab_type": "text"
      },
      "source": [
        "## Task 9\n",
        "- For each country, compute the difference between the overall amount of money lent and the overall amount of money borrowed. Since the country of the lender is often unknown, you can assume that the true distribution among the countries is the same as the one computed from the rows where the country is known."
      ]
    },
    {
      "cell_type": "markdown",
      "metadata": {
        "id": "QXKlr765-m49",
        "colab_type": "text"
      },
      "source": [
        "### Load csv\n",
        "1. lenders\n",
        "2. country_stats"
      ]
    },
    {
      "cell_type": "code",
      "metadata": {
        "id": "Z4sd6tju5Olp",
        "colab_type": "code",
        "colab": {}
      },
      "source": [
        "lenders = pd.read_csv('/content/drive/My Drive/Foundation of computer science/additional-kiva-snapshot/lenders.csv')"
      ],
      "execution_count": 0,
      "outputs": []
    },
    {
      "cell_type": "markdown",
      "metadata": {
        "id": "yq5tivIL3_i0",
        "colab_type": "text"
      },
      "source": [
        "_Overview_"
      ]
    },
    {
      "cell_type": "code",
      "metadata": {
        "id": "Y-bRzrVh4AuC",
        "colab_type": "code",
        "outputId": "2e53f5c5-7836-4121-aadc-38861293d5df",
        "colab": {
          "base_uri": "https://localhost:8080/",
          "height": 218
        }
      },
      "source": [
        "lenders.dtypes"
      ],
      "execution_count": 0,
      "outputs": [
        {
          "output_type": "execute_result",
          "data": {
            "text/plain": [
              "permanent_name        object\n",
              "display_name          object\n",
              "city                  object\n",
              "state                 object\n",
              "country_code          object\n",
              "member_since           int64\n",
              "occupation            object\n",
              "loan_because          object\n",
              "loan_purchase_num    float64\n",
              "invited_by            object\n",
              "num_invited            int64\n",
              "dtype: object"
            ]
          },
          "metadata": {
            "tags": []
          },
          "execution_count": 159
        }
      ]
    },
    {
      "cell_type": "code",
      "metadata": {
        "id": "9miSowhW4Etk",
        "colab_type": "code",
        "outputId": "50a85163-291e-4f17-9592-42619259e336",
        "colab": {
          "base_uri": "https://localhost:8080/",
          "height": 212
        }
      },
      "source": [
        "print('Number rows total: '+str(len(lenders)))\n",
        "lenders.head()"
      ],
      "execution_count": 0,
      "outputs": [
        {
          "output_type": "stream",
          "text": [
            "Number rows total: 2349174\n"
          ],
          "name": "stdout"
        },
        {
          "output_type": "execute_result",
          "data": {
            "text/html": [
              "<div>\n",
              "<style scoped>\n",
              "    .dataframe tbody tr th:only-of-type {\n",
              "        vertical-align: middle;\n",
              "    }\n",
              "\n",
              "    .dataframe tbody tr th {\n",
              "        vertical-align: top;\n",
              "    }\n",
              "\n",
              "    .dataframe thead th {\n",
              "        text-align: right;\n",
              "    }\n",
              "</style>\n",
              "<table border=\"1\" class=\"dataframe\">\n",
              "  <thead>\n",
              "    <tr style=\"text-align: right;\">\n",
              "      <th></th>\n",
              "      <th>permanent_name</th>\n",
              "      <th>display_name</th>\n",
              "      <th>city</th>\n",
              "      <th>state</th>\n",
              "      <th>country_code</th>\n",
              "      <th>member_since</th>\n",
              "      <th>occupation</th>\n",
              "      <th>loan_because</th>\n",
              "      <th>loan_purchase_num</th>\n",
              "      <th>invited_by</th>\n",
              "      <th>num_invited</th>\n",
              "    </tr>\n",
              "  </thead>\n",
              "  <tbody>\n",
              "    <tr>\n",
              "      <th>0</th>\n",
              "      <td>qian3013</td>\n",
              "      <td>Qian</td>\n",
              "      <td>NaN</td>\n",
              "      <td>NaN</td>\n",
              "      <td>NaN</td>\n",
              "      <td>1461300457</td>\n",
              "      <td>NaN</td>\n",
              "      <td>NaN</td>\n",
              "      <td>1.0</td>\n",
              "      <td>NaN</td>\n",
              "      <td>0</td>\n",
              "    </tr>\n",
              "    <tr>\n",
              "      <th>1</th>\n",
              "      <td>reena6733</td>\n",
              "      <td>Reena</td>\n",
              "      <td>NaN</td>\n",
              "      <td>NaN</td>\n",
              "      <td>NaN</td>\n",
              "      <td>1461300634</td>\n",
              "      <td>NaN</td>\n",
              "      <td>NaN</td>\n",
              "      <td>9.0</td>\n",
              "      <td>NaN</td>\n",
              "      <td>0</td>\n",
              "    </tr>\n",
              "    <tr>\n",
              "      <th>2</th>\n",
              "      <td>mai5982</td>\n",
              "      <td>Mai</td>\n",
              "      <td>NaN</td>\n",
              "      <td>NaN</td>\n",
              "      <td>NaN</td>\n",
              "      <td>1461300853</td>\n",
              "      <td>NaN</td>\n",
              "      <td>NaN</td>\n",
              "      <td>NaN</td>\n",
              "      <td>NaN</td>\n",
              "      <td>0</td>\n",
              "    </tr>\n",
              "    <tr>\n",
              "      <th>3</th>\n",
              "      <td>andrew86079135</td>\n",
              "      <td>Andrew</td>\n",
              "      <td>NaN</td>\n",
              "      <td>NaN</td>\n",
              "      <td>NaN</td>\n",
              "      <td>1461301091</td>\n",
              "      <td>NaN</td>\n",
              "      <td>NaN</td>\n",
              "      <td>5.0</td>\n",
              "      <td>Peter Tan</td>\n",
              "      <td>0</td>\n",
              "    </tr>\n",
              "    <tr>\n",
              "      <th>4</th>\n",
              "      <td>nguyen6962</td>\n",
              "      <td>Nguyen</td>\n",
              "      <td>NaN</td>\n",
              "      <td>NaN</td>\n",
              "      <td>NaN</td>\n",
              "      <td>1461301154</td>\n",
              "      <td>NaN</td>\n",
              "      <td>NaN</td>\n",
              "      <td>NaN</td>\n",
              "      <td>NaN</td>\n",
              "      <td>0</td>\n",
              "    </tr>\n",
              "  </tbody>\n",
              "</table>\n",
              "</div>"
            ],
            "text/plain": [
              "   permanent_name display_name city  ... loan_purchase_num invited_by  num_invited\n",
              "0        qian3013         Qian  NaN  ...               1.0        NaN            0\n",
              "1       reena6733        Reena  NaN  ...               9.0        NaN            0\n",
              "2         mai5982          Mai  NaN  ...               NaN        NaN            0\n",
              "3  andrew86079135       Andrew  NaN  ...               5.0  Peter Tan            0\n",
              "4      nguyen6962       Nguyen  NaN  ...               NaN        NaN            0\n",
              "\n",
              "[5 rows x 11 columns]"
            ]
          },
          "metadata": {
            "tags": []
          },
          "execution_count": 160
        }
      ]
    },
    {
      "cell_type": "code",
      "metadata": {
        "id": "tPPY7Ipy-_9X",
        "colab_type": "code",
        "colab": {}
      },
      "source": [
        "country_info=pd.read_csv('/content/drive/My Drive/Foundation of computer science/additional-kiva-snapshot/country_stats.csv')"
      ],
      "execution_count": 0,
      "outputs": []
    },
    {
      "cell_type": "markdown",
      "metadata": {
        "id": "51mMuQBq4ZjR",
        "colab_type": "text"
      },
      "source": [
        "_Overview_"
      ]
    },
    {
      "cell_type": "code",
      "metadata": {
        "id": "bGAS443b4cj5",
        "colab_type": "code",
        "outputId": "0dbee2e3-bbf1-43c7-bcd8-a6d112a01f8b",
        "colab": {
          "base_uri": "https://localhost:8080/",
          "height": 252
        }
      },
      "source": [
        "country_info.dtypes"
      ],
      "execution_count": 0,
      "outputs": [
        {
          "output_type": "execute_result",
          "data": {
            "text/plain": [
              "country_name                      object\n",
              "country_code                      object\n",
              "country_code3                     object\n",
              "continent                         object\n",
              "region                            object\n",
              "population                         int64\n",
              "population_below_poverty_line    float64\n",
              "hdi                              float64\n",
              "life_expectancy                  float64\n",
              "expected_years_of_schooling      float64\n",
              "mean_years_of_schooling          float64\n",
              "gni                              float64\n",
              "kiva_country_name                 object\n",
              "dtype: object"
            ]
          },
          "metadata": {
            "tags": []
          },
          "execution_count": 162
        }
      ]
    },
    {
      "cell_type": "code",
      "metadata": {
        "id": "dd59ZlV24maJ",
        "colab_type": "code",
        "outputId": "d91c2419-dacf-4e9c-ad04-b71477e9b960",
        "colab": {
          "base_uri": "https://localhost:8080/",
          "height": 316
        }
      },
      "source": [
        "print('Number rows total: '+str(len(country_info)))\n",
        "country_info.head()"
      ],
      "execution_count": 0,
      "outputs": [
        {
          "output_type": "stream",
          "text": [
            "Number rows total: 174\n"
          ],
          "name": "stdout"
        },
        {
          "output_type": "execute_result",
          "data": {
            "text/html": [
              "<div>\n",
              "<style scoped>\n",
              "    .dataframe tbody tr th:only-of-type {\n",
              "        vertical-align: middle;\n",
              "    }\n",
              "\n",
              "    .dataframe tbody tr th {\n",
              "        vertical-align: top;\n",
              "    }\n",
              "\n",
              "    .dataframe thead th {\n",
              "        text-align: right;\n",
              "    }\n",
              "</style>\n",
              "<table border=\"1\" class=\"dataframe\">\n",
              "  <thead>\n",
              "    <tr style=\"text-align: right;\">\n",
              "      <th></th>\n",
              "      <th>country_name</th>\n",
              "      <th>country_code</th>\n",
              "      <th>country_code3</th>\n",
              "      <th>continent</th>\n",
              "      <th>region</th>\n",
              "      <th>population</th>\n",
              "      <th>population_below_poverty_line</th>\n",
              "      <th>hdi</th>\n",
              "      <th>life_expectancy</th>\n",
              "      <th>expected_years_of_schooling</th>\n",
              "      <th>mean_years_of_schooling</th>\n",
              "      <th>gni</th>\n",
              "      <th>kiva_country_name</th>\n",
              "    </tr>\n",
              "  </thead>\n",
              "  <tbody>\n",
              "    <tr>\n",
              "      <th>0</th>\n",
              "      <td>India</td>\n",
              "      <td>IN</td>\n",
              "      <td>IND</td>\n",
              "      <td>Asia</td>\n",
              "      <td>Southern Asia</td>\n",
              "      <td>1339180127</td>\n",
              "      <td>21.9</td>\n",
              "      <td>0.623559</td>\n",
              "      <td>68.322</td>\n",
              "      <td>11.696590</td>\n",
              "      <td>6.298834</td>\n",
              "      <td>5663.474799</td>\n",
              "      <td>India</td>\n",
              "    </tr>\n",
              "    <tr>\n",
              "      <th>1</th>\n",
              "      <td>Nigeria</td>\n",
              "      <td>NG</td>\n",
              "      <td>NGA</td>\n",
              "      <td>Africa</td>\n",
              "      <td>Western Africa</td>\n",
              "      <td>190886311</td>\n",
              "      <td>70.0</td>\n",
              "      <td>0.527105</td>\n",
              "      <td>53.057</td>\n",
              "      <td>9.970482</td>\n",
              "      <td>6.000000</td>\n",
              "      <td>5442.901264</td>\n",
              "      <td>Nigeria</td>\n",
              "    </tr>\n",
              "    <tr>\n",
              "      <th>2</th>\n",
              "      <td>Mexico</td>\n",
              "      <td>MX</td>\n",
              "      <td>MEX</td>\n",
              "      <td>Americas</td>\n",
              "      <td>Central America</td>\n",
              "      <td>129163276</td>\n",
              "      <td>46.2</td>\n",
              "      <td>0.761683</td>\n",
              "      <td>76.972</td>\n",
              "      <td>13.299090</td>\n",
              "      <td>8.554985</td>\n",
              "      <td>16383.106680</td>\n",
              "      <td>Mexico</td>\n",
              "    </tr>\n",
              "    <tr>\n",
              "      <th>3</th>\n",
              "      <td>Pakistan</td>\n",
              "      <td>PK</td>\n",
              "      <td>PAK</td>\n",
              "      <td>Asia</td>\n",
              "      <td>Southern Asia</td>\n",
              "      <td>197015955</td>\n",
              "      <td>29.5</td>\n",
              "      <td>0.550354</td>\n",
              "      <td>66.365</td>\n",
              "      <td>8.106910</td>\n",
              "      <td>5.089460</td>\n",
              "      <td>5031.173074</td>\n",
              "      <td>Pakistan</td>\n",
              "    </tr>\n",
              "    <tr>\n",
              "      <th>4</th>\n",
              "      <td>Bangladesh</td>\n",
              "      <td>BD</td>\n",
              "      <td>BGD</td>\n",
              "      <td>Asia</td>\n",
              "      <td>Southern Asia</td>\n",
              "      <td>164669751</td>\n",
              "      <td>31.5</td>\n",
              "      <td>0.578824</td>\n",
              "      <td>71.985</td>\n",
              "      <td>10.178706</td>\n",
              "      <td>5.241577</td>\n",
              "      <td>3341.490722</td>\n",
              "      <td>Bangladesh</td>\n",
              "    </tr>\n",
              "  </tbody>\n",
              "</table>\n",
              "</div>"
            ],
            "text/plain": [
              "  country_name country_code  ...           gni kiva_country_name\n",
              "0        India           IN  ...   5663.474799             India\n",
              "1      Nigeria           NG  ...   5442.901264           Nigeria\n",
              "2       Mexico           MX  ...  16383.106680            Mexico\n",
              "3     Pakistan           PK  ...   5031.173074          Pakistan\n",
              "4   Bangladesh           BD  ...   3341.490722        Bangladesh\n",
              "\n",
              "[5 rows x 13 columns]"
            ]
          },
          "metadata": {
            "tags": []
          },
          "execution_count": 163
        }
      ]
    },
    {
      "cell_type": "code",
      "metadata": {
        "id": "rXc1cF25BBdQ",
        "colab_type": "code",
        "colab": {}
      },
      "source": [
        "country_info = country_info[['country_name','country_code','population','population_below_poverty_line']] #attributi necessari anche per il task successivo"
      ],
      "execution_count": 0,
      "outputs": []
    },
    {
      "cell_type": "code",
      "metadata": {
        "id": "CO8r_4ku8C8I",
        "colab_type": "code",
        "colab": {}
      },
      "source": [
        "lenders = lenders[['permanent_name','country_code']]"
      ],
      "execution_count": 0,
      "outputs": []
    },
    {
      "cell_type": "markdown",
      "metadata": {
        "id": "XAOlkNf77DVZ",
        "colab_type": "text"
      },
      "source": [
        "### Check missing values"
      ]
    },
    {
      "cell_type": "code",
      "metadata": {
        "id": "RRb2bJKj87N1",
        "colab_type": "code",
        "outputId": "481e39aa-6fce-4736-c4e8-a015fbfbaf50",
        "colab": {
          "base_uri": "https://localhost:8080/",
          "height": 77
        }
      },
      "source": [
        "country_info[country_info['country_code'].isnull()]"
      ],
      "execution_count": 0,
      "outputs": [
        {
          "output_type": "execute_result",
          "data": {
            "text/html": [
              "<div>\n",
              "<style scoped>\n",
              "    .dataframe tbody tr th:only-of-type {\n",
              "        vertical-align: middle;\n",
              "    }\n",
              "\n",
              "    .dataframe tbody tr th {\n",
              "        vertical-align: top;\n",
              "    }\n",
              "\n",
              "    .dataframe thead th {\n",
              "        text-align: right;\n",
              "    }\n",
              "</style>\n",
              "<table border=\"1\" class=\"dataframe\">\n",
              "  <thead>\n",
              "    <tr style=\"text-align: right;\">\n",
              "      <th></th>\n",
              "      <th>country_name</th>\n",
              "      <th>country_code</th>\n",
              "      <th>population</th>\n",
              "      <th>population_below_poverty_line</th>\n",
              "    </tr>\n",
              "  </thead>\n",
              "  <tbody>\n",
              "    <tr>\n",
              "      <th>115</th>\n",
              "      <td>Namibia</td>\n",
              "      <td>NaN</td>\n",
              "      <td>2533794</td>\n",
              "      <td>28.7</td>\n",
              "    </tr>\n",
              "  </tbody>\n",
              "</table>\n",
              "</div>"
            ],
            "text/plain": [
              "    country_name country_code  population  population_below_poverty_line\n",
              "115      Namibia          NaN     2533794                           28.7"
            ]
          },
          "metadata": {
            "tags": []
          },
          "execution_count": 166
        }
      ]
    },
    {
      "cell_type": "code",
      "metadata": {
        "id": "2wTiJOJDBFr2",
        "colab_type": "code",
        "colab": {}
      },
      "source": [
        "unknown_lenders = lenders[lenders['country_code'].isnull()]\n",
        "tot = len(lenders)"
      ],
      "execution_count": 0,
      "outputs": []
    },
    {
      "cell_type": "code",
      "metadata": {
        "id": "nseISRXg_uLV",
        "colab_type": "code",
        "outputId": "b3ca2f11-f60a-47b3-8b2b-21eb439711d3",
        "colab": {
          "base_uri": "https://localhost:8080/",
          "height": 34
        }
      },
      "source": [
        "print(\"Country lenders not known: \"+str(len(unknown_lenders)/tot))"
      ],
      "execution_count": 0,
      "outputs": [
        {
          "output_type": "stream",
          "text": [
            "Country lenders not known: 0.620913989342637\n"
          ],
          "name": "stdout"
        }
      ]
    },
    {
      "cell_type": "code",
      "metadata": {
        "id": "cdZ1WYrDAbKt",
        "colab_type": "code",
        "colab": {}
      },
      "source": [
        "lenders.drop(index=unknown_lenders.index,inplace=True)"
      ],
      "execution_count": 0,
      "outputs": []
    },
    {
      "cell_type": "markdown",
      "metadata": {
        "id": "D-T4Jm8k75ik",
        "colab_type": "text"
      },
      "source": [
        "### Inner join between lenders and info country (useful to get country name)"
      ]
    },
    {
      "cell_type": "code",
      "metadata": {
        "id": "Pe7qvT_SBEMg",
        "colab_type": "code",
        "colab": {}
      },
      "source": [
        "lenders_country = pd.merge(lenders,country_info,how='inner',on='country_code')\n",
        "lenders_country.drop(columns='country_code',inplace=True)"
      ],
      "execution_count": 0,
      "outputs": []
    },
    {
      "cell_type": "code",
      "metadata": {
        "id": "IW3EdK4tTYPu",
        "colab_type": "code",
        "colab": {}
      },
      "source": [
        "lenders_country.drop(columns=['population','population_below_poverty_line'],inplace=True)\n",
        "lenders_country.columns=['lenders','country_name']"
      ],
      "execution_count": 0,
      "outputs": []
    },
    {
      "cell_type": "code",
      "metadata": {
        "id": "JWi6yRZEDWD4",
        "colab_type": "code",
        "colab": {}
      },
      "source": [
        "lenders_country_dist = lenders_country.groupby('country_name')['lenders'].count()\n",
        "lenders_country_dist = pd.DataFrame(lenders_country_dist).reset_index(level=0)"
      ],
      "execution_count": 0,
      "outputs": []
    },
    {
      "cell_type": "markdown",
      "metadata": {
        "id": "0Hco1dz4HzxZ",
        "colab_type": "text"
      },
      "source": [
        "### Compute distribution country lenders known"
      ]
    },
    {
      "cell_type": "code",
      "metadata": {
        "id": "A3TX8EnKHfQP",
        "colab_type": "code",
        "colab": {}
      },
      "source": [
        "number_lenders = lenders_country_dist['lenders'].sum()\n",
        "lenders_country_dist['distribution'] = lenders_country_dist['lenders'] / number_lenders"
      ],
      "execution_count": 0,
      "outputs": []
    },
    {
      "cell_type": "code",
      "metadata": {
        "id": "RreWJTz8H6pL",
        "colab_type": "code",
        "colab": {}
      },
      "source": [
        "lenders_country_dist= lenders_country_dist.sort_values(by='lenders',ascending=False)\n",
        "lenders_country_dist['distribution_100'] = round(lenders_country_dist['distribution'] * 100,2)"
      ],
      "execution_count": 0,
      "outputs": []
    },
    {
      "cell_type": "markdown",
      "metadata": {
        "id": "nnMwaeChEfOy",
        "colab_type": "text"
      },
      "source": [
        "### Barchart distribution country lenders known"
      ]
    },
    {
      "cell_type": "code",
      "metadata": {
        "id": "XaWtcSASEKs1",
        "colab_type": "code",
        "outputId": "63fac17a-a313-4848-f7f3-8b11127b1837",
        "colab": {
          "base_uri": "https://localhost:8080/",
          "height": 307
        }
      },
      "source": [
        "fig = plt.figure(figsize=(20,4))\n",
        "plt.bar(lenders_country_dist['country_name'],lenders_country_dist['distribution'])\n",
        "plt.title('Distribution country lenders')\n",
        "plt.xticks(ticks=[])"
      ],
      "execution_count": 0,
      "outputs": [
        {
          "output_type": "execute_result",
          "data": {
            "text/plain": [
              "([], <a list of 0 Text xticklabel objects>)"
            ]
          },
          "metadata": {
            "tags": []
          },
          "execution_count": 186
        },
        {
          "output_type": "display_data",
          "data": {
            "image/png": "[encoded data removed]",
            "text/plain": [
              "<Figure size 1440x288 with 1 Axes>"
            ]
          },
          "metadata": {
            "tags": []
          }
        }
      ]
    },
    {
      "cell_type": "code",
      "metadata": {
        "colab_type": "code",
        "outputId": "6addd5bb-c2c8-4b7d-dea6-d362972ffea8",
        "id": "etMV9p_4Td_F",
        "colab": {
          "base_uri": "https://localhost:8080/",
          "height": 351
        }
      },
      "source": [
        "dist_focus = lenders_country_dist[lenders_country_dist['distribution_100']>1]\n",
        "fig = plt.figure(figsize=(16,5))\n",
        "plt.bar(dist_focus['country_name'],dist_focus['distribution_100'],color='blue')\n",
        "plt.xlabel('country')\n",
        "plt.ylabel('percentage(%)')"
      ],
      "execution_count": 0,
      "outputs": [
        {
          "output_type": "execute_result",
          "data": {
            "text/plain": [
              "Text(0, 0.5, 'percentage(%)')"
            ]
          },
          "metadata": {
            "tags": []
          },
          "execution_count": 189
        },
        {
          "output_type": "display_data",
          "data": {
            "image/png": "[encoded data removed]",
            "text/plain": [
              "<Figure size 1152x360 with 1 Axes>"
            ]
          },
          "metadata": {
            "tags": []
          }
        }
      ]
    },
    {
      "cell_type": "code",
      "metadata": {
        "id": "RDzplR-IMSun",
        "colab_type": "code",
        "outputId": "5573db5a-3041-492a-d938-3407014e4d5e",
        "colab": {
          "base_uri": "https://localhost:8080/",
          "height": 402
        }
      },
      "source": [
        "lenders_country_dist['numberRecord']=round(lenders_country_dist['distribution']*len(unknown_lenders),0)\n",
        "lenders_country_dist['numberRecord'] = lenders_country_dist.apply(lambda x: int(x['numberRecord']),axis=1)\n",
        "lenders_country_dist"
      ],
      "execution_count": 0,
      "outputs": [
        {
          "output_type": "execute_result",
          "data": {
            "text/html": [
              "<div>\n",
              "<style scoped>\n",
              "    .dataframe tbody tr th:only-of-type {\n",
              "        vertical-align: middle;\n",
              "    }\n",
              "\n",
              "    .dataframe tbody tr th {\n",
              "        vertical-align: top;\n",
              "    }\n",
              "\n",
              "    .dataframe thead th {\n",
              "        text-align: right;\n",
              "    }\n",
              "</style>\n",
              "<table border=\"1\" class=\"dataframe\">\n",
              "  <thead>\n",
              "    <tr style=\"text-align: right;\">\n",
              "      <th></th>\n",
              "      <th>country_name</th>\n",
              "      <th>lenders</th>\n",
              "      <th>distribution</th>\n",
              "      <th>distribution_100</th>\n",
              "      <th>numberRecord</th>\n",
              "    </tr>\n",
              "  </thead>\n",
              "  <tbody>\n",
              "    <tr>\n",
              "      <th>162</th>\n",
              "      <td>United States</td>\n",
              "      <td>591612</td>\n",
              "      <td>0.666188</td>\n",
              "      <td>66.62</td>\n",
              "      <td>971725</td>\n",
              "    </tr>\n",
              "    <tr>\n",
              "      <th>26</th>\n",
              "      <td>Canada</td>\n",
              "      <td>67970</td>\n",
              "      <td>0.076538</td>\n",
              "      <td>7.65</td>\n",
              "      <td>111641</td>\n",
              "    </tr>\n",
              "    <tr>\n",
              "      <th>161</th>\n",
              "      <td>United Kingdom</td>\n",
              "      <td>38380</td>\n",
              "      <td>0.043218</td>\n",
              "      <td>4.32</td>\n",
              "      <td>63039</td>\n",
              "    </tr>\n",
              "    <tr>\n",
              "      <th>6</th>\n",
              "      <td>Australia</td>\n",
              "      <td>37103</td>\n",
              "      <td>0.041780</td>\n",
              "      <td>4.18</td>\n",
              "      <td>60942</td>\n",
              "    </tr>\n",
              "    <tr>\n",
              "      <th>53</th>\n",
              "      <td>Germany</td>\n",
              "      <td>16007</td>\n",
              "      <td>0.018025</td>\n",
              "      <td>1.80</td>\n",
              "      <td>26292</td>\n",
              "    </tr>\n",
              "    <tr>\n",
              "      <th>...</th>\n",
              "      <td>...</td>\n",
              "      <td>...</td>\n",
              "      <td>...</td>\n",
              "      <td>...</td>\n",
              "      <td>...</td>\n",
              "    </tr>\n",
              "    <tr>\n",
              "      <th>157</th>\n",
              "      <td>Turkmenistan</td>\n",
              "      <td>4</td>\n",
              "      <td>0.000005</td>\n",
              "      <td>0.00</td>\n",
              "      <td>7</td>\n",
              "    </tr>\n",
              "    <tr>\n",
              "      <th>44</th>\n",
              "      <td>Eritrea</td>\n",
              "      <td>4</td>\n",
              "      <td>0.000005</td>\n",
              "      <td>0.00</td>\n",
              "      <td>7</td>\n",
              "    </tr>\n",
              "    <tr>\n",
              "      <th>96</th>\n",
              "      <td>Mauritania</td>\n",
              "      <td>4</td>\n",
              "      <td>0.000005</td>\n",
              "      <td>0.00</td>\n",
              "      <td>7</td>\n",
              "    </tr>\n",
              "    <tr>\n",
              "      <th>30</th>\n",
              "      <td>Comoros</td>\n",
              "      <td>1</td>\n",
              "      <td>0.000001</td>\n",
              "      <td>0.00</td>\n",
              "      <td>2</td>\n",
              "    </tr>\n",
              "    <tr>\n",
              "      <th>58</th>\n",
              "      <td>Guinea-Bissau</td>\n",
              "      <td>1</td>\n",
              "      <td>0.000001</td>\n",
              "      <td>0.00</td>\n",
              "      <td>2</td>\n",
              "    </tr>\n",
              "  </tbody>\n",
              "</table>\n",
              "<p>170 rows × 5 columns</p>\n",
              "</div>"
            ],
            "text/plain": [
              "       country_name  lenders  distribution  distribution_100  numberRecord\n",
              "162   United States   591612      0.666188             66.62        971725\n",
              "26           Canada    67970      0.076538              7.65        111641\n",
              "161  United Kingdom    38380      0.043218              4.32         63039\n",
              "6         Australia    37103      0.041780              4.18         60942\n",
              "53          Germany    16007      0.018025              1.80         26292\n",
              "..              ...      ...           ...               ...           ...\n",
              "157    Turkmenistan        4      0.000005              0.00             7\n",
              "44          Eritrea        4      0.000005              0.00             7\n",
              "96       Mauritania        4      0.000005              0.00             7\n",
              "30          Comoros        1      0.000001              0.00             2\n",
              "58    Guinea-Bissau        1      0.000001              0.00             2\n",
              "\n",
              "[170 rows x 5 columns]"
            ]
          },
          "metadata": {
            "tags": []
          },
          "execution_count": 190
        }
      ]
    },
    {
      "cell_type": "code",
      "metadata": {
        "id": "vr53G_NKVDvC",
        "colab_type": "code",
        "colab": {}
      },
      "source": [
        "lenders_country_dist['countryLender']=lenders_country_dist.apply(lambda x: [x['country_name']]*x['numberRecord'],axis=1)"
      ],
      "execution_count": 0,
      "outputs": []
    },
    {
      "cell_type": "code",
      "metadata": {
        "id": "bzMwKXM9X1BD",
        "colab_type": "code",
        "colab": {}
      },
      "source": [
        "country_lender_unknown = pd.Series.to_list(lenders_country_dist['countryLender']) #concateno tutte le liste"
      ],
      "execution_count": 0,
      "outputs": []
    },
    {
      "cell_type": "code",
      "metadata": {
        "id": "bvi1AgKnYj1V",
        "colab_type": "code",
        "colab": {}
      },
      "source": [
        "country_lender_unknown = flat_list(country_lender_unknown) #flat list\n",
        "country_lender_unknown = country_lender_unknown[:-2]"
      ],
      "execution_count": 0,
      "outputs": []
    },
    {
      "cell_type": "markdown",
      "metadata": {
        "id": "TglTQ3mBIzyL",
        "colab_type": "text"
      },
      "source": [
        "### Replace NAN according distribution computed before"
      ]
    },
    {
      "cell_type": "code",
      "metadata": {
        "id": "zLwb1dJAZJQc",
        "colab_type": "code",
        "colab": {}
      },
      "source": [
        "unknown_lenders = unknown_lenders.copy()\n",
        "unknown_lenders['country_name']=country_lender_unknown\n",
        "unknown_lenders.drop(columns='country_code',inplace=True)\n",
        "unknown_lenders.columns=['lenders','country_name']"
      ],
      "execution_count": 0,
      "outputs": []
    },
    {
      "cell_type": "code",
      "metadata": {
        "id": "A4_pvFyCZuPU",
        "colab_type": "code",
        "colab": {}
      },
      "source": [
        "dist_unknown_lenders = pd.DataFrame(unknown_lenders.groupby('country_name')['lenders'].count()).reset_index()\n",
        "total = len(unknown_lenders)"
      ],
      "execution_count": 0,
      "outputs": []
    },
    {
      "cell_type": "code",
      "metadata": {
        "id": "x_AIXBETaVZt",
        "colab_type": "code",
        "colab": {}
      },
      "source": [
        "dist_unknown_lenders['distribution'] = dist_unknown_lenders['lenders']/total\n",
        "dist_unknown_lenders['distribution_100'] = round(dist_unknown_lenders['distribution']*100,2)"
      ],
      "execution_count": 0,
      "outputs": []
    },
    {
      "cell_type": "code",
      "metadata": {
        "id": "IncmxmXFcAPM",
        "colab_type": "code",
        "colab": {}
      },
      "source": [
        "dist_unknown_lenders = dist_unknown_lenders.sort_values(by='distribution',ascending=False)\n",
        "dist_unknown_lenders_focus=dist_unknown_lenders[dist_unknown_lenders['distribution_100']>1]\n",
        "dist_unknown_lenders_focus = dist_unknown_lenders_focus.copy()"
      ],
      "execution_count": 0,
      "outputs": []
    },
    {
      "cell_type": "code",
      "metadata": {
        "id": "tcYCC0fJcMZq",
        "colab_type": "code",
        "colab": {}
      },
      "source": [
        "dist_unknown_lenders_focus.drop(columns='distribution',inplace=True)\n",
        "dist_unknown_lenders_focus.columns=['country_name','lenders_unknown','distribution_unknown']\n",
        "\n",
        "dist_focus = dist_focus.copy()\n",
        "dist_focus.drop(columns=['distribution'],inplace=True)"
      ],
      "execution_count": 0,
      "outputs": []
    },
    {
      "cell_type": "code",
      "metadata": {
        "id": "Q9sJT2-6dZSe",
        "colab_type": "code",
        "colab": {}
      },
      "source": [
        "compare_dist = pd.merge(dist_focus,dist_unknown_lenders_focus,how='inner',on='country_name')\n",
        "compare_dist.drop(columns=['lenders','lenders_unknown'],inplace=True)"
      ],
      "execution_count": 0,
      "outputs": []
    },
    {
      "cell_type": "markdown",
      "metadata": {
        "id": "QCpfxa0t0cAF",
        "colab_type": "text"
      },
      "source": [
        "### Barchart compare distribution"
      ]
    },
    {
      "cell_type": "code",
      "metadata": {
        "id": "IsOfOveSehdK",
        "colab_type": "code",
        "outputId": "ae0ce962-68ff-4b63-ea60-845ce54d649a",
        "colab": {
          "base_uri": "https://localhost:8080/",
          "height": 367
        }
      },
      "source": [
        "country = compare_dist['country_name']\n",
        "x = np.arange(len(compare_dist))\n",
        "fig = plt.figure(figsize=(16,5))\n",
        "bar_width = 0.5\n",
        "\n",
        "plt.bar(x,compare_dist['distribution_100'],width=bar_width,color='blue',label='original')\n",
        "plt.bar(x+bar_width,compare_dist['distribution_unknown'],width=bar_width,color='orange',label='unknown')\n",
        "plt.title('Comparison distributions')\n",
        "plt.xticks(x+bar_width,country)\n",
        "plt.xlabel('country')\n",
        "plt.ylabel('percentage(%)')\n",
        "plt.legend()"
      ],
      "execution_count": 0,
      "outputs": [
        {
          "output_type": "execute_result",
          "data": {
            "text/plain": [
              "<matplotlib.legend.Legend at 0x7fe87773d198>"
            ]
          },
          "metadata": {
            "tags": []
          },
          "execution_count": 200
        },
        {
          "output_type": "display_data",
          "data": {
            "image/png": "[encoded data removed]",
            "text/plain": [
              "<Figure size 1152x360 with 1 Axes>"
            ]
          },
          "metadata": {
            "tags": []
          }
        }
      ]
    },
    {
      "cell_type": "code",
      "metadata": {
        "id": "8OuRP18BI-Fu",
        "colab_type": "code",
        "colab": {}
      },
      "source": [
        "lenders_country = pd.concat([lenders_country,unknown_lenders],axis=0)"
      ],
      "execution_count": 0,
      "outputs": []
    },
    {
      "cell_type": "markdown",
      "metadata": {
        "id": "53xUrQa5MOU0",
        "colab_type": "text"
      },
      "source": [
        "### Get amount for each lender and his country"
      ]
    },
    {
      "cell_type": "code",
      "metadata": {
        "id": "CtUvZnRIM6fK",
        "colab_type": "code",
        "colab": {}
      },
      "source": [
        "amount_lender_country = pd.merge(amount_lender,lenders_country,how='inner',on='lenders')"
      ],
      "execution_count": 0,
      "outputs": []
    },
    {
      "cell_type": "code",
      "metadata": {
        "id": "_oanyZzzNsHs",
        "colab_type": "code",
        "colab": {}
      },
      "source": [
        "country_amount_lent = amount_lender_country.groupby('country_name')['amount'].sum()\n",
        "country_amount_lent = pd.DataFrame(country_amount_lent).reset_index(level=0)"
      ],
      "execution_count": 0,
      "outputs": []
    },
    {
      "cell_type": "code",
      "metadata": {
        "id": "wVPgQkNoOkJK",
        "colab_type": "code",
        "colab": {}
      },
      "source": [
        "country_amount_lent.columns=['country','lent']"
      ],
      "execution_count": 0,
      "outputs": []
    },
    {
      "cell_type": "markdown",
      "metadata": {
        "id": "_5QXpyrPNaON",
        "colab_type": "text"
      },
      "source": [
        "### Inner join between amount country borrowed and amount country lent"
      ]
    },
    {
      "cell_type": "code",
      "metadata": {
        "id": "dT3pJyA0PNyD",
        "colab_type": "code",
        "colab": {}
      },
      "source": [
        "country_difference = pd.merge(country_amount_loan_perc,country_amount_lent,how='inner',on='country')\n",
        "country_difference.drop(columns='percentage',inplace=True)"
      ],
      "execution_count": 0,
      "outputs": []
    },
    {
      "cell_type": "markdown",
      "metadata": {
        "id": "dHeVV2c12eed",
        "colab_type": "text"
      },
      "source": [
        "### Compute difference between amount lent and amount borrowed"
      ]
    },
    {
      "cell_type": "code",
      "metadata": {
        "id": "d-gDF0aBQRov",
        "colab_type": "code",
        "colab": {}
      },
      "source": [
        "country_difference['difference'] = country_difference['lent'] - country_difference['borrowed']"
      ],
      "execution_count": 0,
      "outputs": []
    },
    {
      "cell_type": "markdown",
      "metadata": {
        "id": "kuWe0iSvSKr2",
        "colab_type": "text"
      },
      "source": [
        "### _Result_"
      ]
    },
    {
      "cell_type": "code",
      "metadata": {
        "id": "dQ-seQmVRJ4X",
        "colab_type": "code",
        "outputId": "ee0a7b61-b9e0-46a2-9fe8-a717d5167f44",
        "colab": {
          "base_uri": "https://localhost:8080/",
          "height": 195
        }
      },
      "source": [
        "country_difference.head()"
      ],
      "execution_count": 0,
      "outputs": [
        {
          "output_type": "execute_result",
          "data": {
            "text/html": [
              "<div>\n",
              "<style scoped>\n",
              "    .dataframe tbody tr th:only-of-type {\n",
              "        vertical-align: middle;\n",
              "    }\n",
              "\n",
              "    .dataframe tbody tr th {\n",
              "        vertical-align: top;\n",
              "    }\n",
              "\n",
              "    .dataframe thead th {\n",
              "        text-align: right;\n",
              "    }\n",
              "</style>\n",
              "<table border=\"1\" class=\"dataframe\">\n",
              "  <thead>\n",
              "    <tr style=\"text-align: right;\">\n",
              "      <th></th>\n",
              "      <th>country</th>\n",
              "      <th>borrowed</th>\n",
              "      <th>lent</th>\n",
              "      <th>difference</th>\n",
              "    </tr>\n",
              "  </thead>\n",
              "  <tbody>\n",
              "    <tr>\n",
              "      <th>0</th>\n",
              "      <td>Afghanistan</td>\n",
              "      <td>1967950.00</td>\n",
              "      <td>149722.54</td>\n",
              "      <td>-1818227.46</td>\n",
              "    </tr>\n",
              "    <tr>\n",
              "      <th>1</th>\n",
              "      <td>Albania</td>\n",
              "      <td>4332689.39</td>\n",
              "      <td>49425.44</td>\n",
              "      <td>-4283263.95</td>\n",
              "    </tr>\n",
              "    <tr>\n",
              "      <th>2</th>\n",
              "      <td>Armenia</td>\n",
              "      <td>22950475.00</td>\n",
              "      <td>139896.46</td>\n",
              "      <td>-22810578.54</td>\n",
              "    </tr>\n",
              "    <tr>\n",
              "      <th>3</th>\n",
              "      <td>Azerbaijan</td>\n",
              "      <td>14784625.00</td>\n",
              "      <td>33692.70</td>\n",
              "      <td>-14750932.30</td>\n",
              "    </tr>\n",
              "    <tr>\n",
              "      <th>4</th>\n",
              "      <td>Belize</td>\n",
              "      <td>150175.00</td>\n",
              "      <td>38274.94</td>\n",
              "      <td>-111900.06</td>\n",
              "    </tr>\n",
              "  </tbody>\n",
              "</table>\n",
              "</div>"
            ],
            "text/plain": [
              "       country     borrowed       lent   difference\n",
              "0  Afghanistan   1967950.00  149722.54  -1818227.46\n",
              "1      Albania   4332689.39   49425.44  -4283263.95\n",
              "2      Armenia  22950475.00  139896.46 -22810578.54\n",
              "3   Azerbaijan  14784625.00   33692.70 -14750932.30\n",
              "4       Belize    150175.00   38274.94   -111900.06"
            ]
          },
          "metadata": {
            "tags": []
          },
          "execution_count": 207
        }
      ]
    },
    {
      "cell_type": "markdown",
      "metadata": {
        "id": "C_WGB_RTNv4Y",
        "colab_type": "text"
      },
      "source": [
        "_Result (ordered)_"
      ]
    },
    {
      "cell_type": "code",
      "metadata": {
        "id": "moAizTJ3Nx66",
        "colab_type": "code",
        "outputId": "1ea45628-d61e-43bc-a243-8526fc5371af",
        "colab": {
          "base_uri": "https://localhost:8080/",
          "height": 195
        }
      },
      "source": [
        "country_difference.sort_values(by='difference',ascending=True).head()"
      ],
      "execution_count": 0,
      "outputs": [
        {
          "output_type": "execute_result",
          "data": {
            "text/html": [
              "<div>\n",
              "<style scoped>\n",
              "    .dataframe tbody tr th:only-of-type {\n",
              "        vertical-align: middle;\n",
              "    }\n",
              "\n",
              "    .dataframe tbody tr th {\n",
              "        vertical-align: top;\n",
              "    }\n",
              "\n",
              "    .dataframe thead th {\n",
              "        text-align: right;\n",
              "    }\n",
              "</style>\n",
              "<table border=\"1\" class=\"dataframe\">\n",
              "  <thead>\n",
              "    <tr style=\"text-align: right;\">\n",
              "      <th></th>\n",
              "      <th>country</th>\n",
              "      <th>borrowed</th>\n",
              "      <th>lent</th>\n",
              "      <th>difference</th>\n",
              "    </tr>\n",
              "  </thead>\n",
              "  <tbody>\n",
              "    <tr>\n",
              "      <th>58</th>\n",
              "      <td>Peru</td>\n",
              "      <td>79437775.0</td>\n",
              "      <td>188447.12</td>\n",
              "      <td>-79249327.88</td>\n",
              "    </tr>\n",
              "    <tr>\n",
              "      <th>36</th>\n",
              "      <td>Kenya</td>\n",
              "      <td>66735975.0</td>\n",
              "      <td>612280.30</td>\n",
              "      <td>-66123694.70</td>\n",
              "    </tr>\n",
              "    <tr>\n",
              "      <th>57</th>\n",
              "      <td>Paraguay</td>\n",
              "      <td>53964700.0</td>\n",
              "      <td>64721.89</td>\n",
              "      <td>-53899978.11</td>\n",
              "    </tr>\n",
              "    <tr>\n",
              "      <th>14</th>\n",
              "      <td>Cambodia</td>\n",
              "      <td>51613525.0</td>\n",
              "      <td>189691.43</td>\n",
              "      <td>-51423833.57</td>\n",
              "    </tr>\n",
              "    <tr>\n",
              "      <th>7</th>\n",
              "      <td>Bolivia</td>\n",
              "      <td>44226725.0</td>\n",
              "      <td>81658.80</td>\n",
              "      <td>-44145066.20</td>\n",
              "    </tr>\n",
              "  </tbody>\n",
              "</table>\n",
              "</div>"
            ],
            "text/plain": [
              "     country    borrowed       lent   difference\n",
              "58      Peru  79437775.0  188447.12 -79249327.88\n",
              "36     Kenya  66735975.0  612280.30 -66123694.70\n",
              "57  Paraguay  53964700.0   64721.89 -53899978.11\n",
              "14  Cambodia  51613525.0  189691.43 -51423833.57\n",
              "7    Bolivia  44226725.0   81658.80 -44145066.20"
            ]
          },
          "metadata": {
            "tags": []
          },
          "execution_count": 208
        }
      ]
    },
    {
      "cell_type": "markdown",
      "metadata": {
        "id": "E016hO4SSo90",
        "colab_type": "text"
      },
      "source": [
        "## Task 10\n",
        "- Which country has the highest ratio between the difference computed at the previous point and the population?"
      ]
    },
    {
      "cell_type": "code",
      "metadata": {
        "id": "JuW1STYUWNKD",
        "colab_type": "code",
        "colab": {}
      },
      "source": [
        "country_difference = pd.merge(country_difference,country_info,how='inner',left_on='country',right_on='country_name')"
      ],
      "execution_count": 0,
      "outputs": []
    },
    {
      "cell_type": "code",
      "metadata": {
        "id": "THVkYp_AWs41",
        "colab_type": "code",
        "colab": {}
      },
      "source": [
        "country_difference.drop(columns='country_name',inplace=True)"
      ],
      "execution_count": 0,
      "outputs": []
    },
    {
      "cell_type": "markdown",
      "metadata": {
        "id": "62AEksUDOtlU",
        "colab_type": "text"
      },
      "source": [
        "### Compute ratio for each country"
      ]
    },
    {
      "cell_type": "code",
      "metadata": {
        "id": "csHfXtedW7-u",
        "colab_type": "code",
        "colab": {}
      },
      "source": [
        "country_difference['ratio']= country_difference['difference'] / country_difference['population']"
      ],
      "execution_count": 0,
      "outputs": []
    },
    {
      "cell_type": "code",
      "metadata": {
        "id": "9LYSteqRXqLI",
        "colab_type": "code",
        "colab": {}
      },
      "source": [
        "highest_ratio = country_difference.sort_values(by='ratio',ascending=False)"
      ],
      "execution_count": 0,
      "outputs": []
    },
    {
      "cell_type": "markdown",
      "metadata": {
        "id": "7f4N-vN2ZBYd",
        "colab_type": "text"
      },
      "source": [
        "### _Result_"
      ]
    },
    {
      "cell_type": "code",
      "metadata": {
        "id": "BOxgKgknYStd",
        "colab_type": "code",
        "outputId": "280b5821-8200-47b1-98af-1bed2e114b18",
        "colab": {
          "base_uri": "https://localhost:8080/",
          "height": 34
        }
      },
      "source": [
        "print(\"Country highest ratio: \"+highest_ratio.iloc[0]['country'])"
      ],
      "execution_count": 0,
      "outputs": [
        {
          "output_type": "stream",
          "text": [
            "Country highest ratio: Canada\n"
          ],
          "name": "stdout"
        }
      ]
    },
    {
      "cell_type": "markdown",
      "metadata": {
        "id": "TwmrNqtfYxJk",
        "colab_type": "text"
      },
      "source": [
        "## Task 11\n",
        "- Which country has the highest ratio between the difference computed at point 9 and the population that is not below the poverty line?"
      ]
    },
    {
      "cell_type": "markdown",
      "metadata": {
        "id": "pQTl10ke3_jc",
        "colab_type": "text"
      },
      "source": [
        "### Check missing values"
      ]
    },
    {
      "cell_type": "code",
      "metadata": {
        "id": "ZreCV4s63-ID",
        "colab_type": "code",
        "outputId": "ab828c24-4e25-4490-be4b-ba3b63da2f33",
        "colab": {
          "base_uri": "https://localhost:8080/",
          "height": 195
        }
      },
      "source": [
        "country_difference[country_difference['population_below_poverty_line'].isnull()]"
      ],
      "execution_count": 0,
      "outputs": [
        {
          "output_type": "execute_result",
          "data": {
            "text/html": [
              "<div>\n",
              "<style scoped>\n",
              "    .dataframe tbody tr th:only-of-type {\n",
              "        vertical-align: middle;\n",
              "    }\n",
              "\n",
              "    .dataframe tbody tr th {\n",
              "        vertical-align: top;\n",
              "    }\n",
              "\n",
              "    .dataframe thead th {\n",
              "        text-align: right;\n",
              "    }\n",
              "</style>\n",
              "<table border=\"1\" class=\"dataframe\">\n",
              "  <thead>\n",
              "    <tr style=\"text-align: right;\">\n",
              "      <th></th>\n",
              "      <th>country</th>\n",
              "      <th>borrowed</th>\n",
              "      <th>lent</th>\n",
              "      <th>difference</th>\n",
              "      <th>country_code</th>\n",
              "      <th>population</th>\n",
              "      <th>population_below_poverty_line</th>\n",
              "      <th>ratio</th>\n",
              "    </tr>\n",
              "  </thead>\n",
              "  <tbody>\n",
              "    <tr>\n",
              "      <th>54</th>\n",
              "      <td>Palestine</td>\n",
              "      <td>22315801.51</td>\n",
              "      <td>111652.75</td>\n",
              "      <td>-22204148.76</td>\n",
              "      <td>PS</td>\n",
              "      <td>4920724</td>\n",
              "      <td>NaN</td>\n",
              "      <td>-4.512374</td>\n",
              "    </tr>\n",
              "    <tr>\n",
              "      <th>60</th>\n",
              "      <td>Puerto Rico</td>\n",
              "      <td>441900.00</td>\n",
              "      <td>362777.71</td>\n",
              "      <td>-79122.29</td>\n",
              "      <td>PR</td>\n",
              "      <td>3663131</td>\n",
              "      <td>NaN</td>\n",
              "      <td>-0.021600</td>\n",
              "    </tr>\n",
              "    <tr>\n",
              "      <th>62</th>\n",
              "      <td>Samoa</td>\n",
              "      <td>12212175.00</td>\n",
              "      <td>2417.92</td>\n",
              "      <td>-12209757.08</td>\n",
              "      <td>WS</td>\n",
              "      <td>196440</td>\n",
              "      <td>NaN</td>\n",
              "      <td>-62.155147</td>\n",
              "    </tr>\n",
              "    <tr>\n",
              "      <th>65</th>\n",
              "      <td>Solomon Islands</td>\n",
              "      <td>815575.00</td>\n",
              "      <td>2805.77</td>\n",
              "      <td>-812769.23</td>\n",
              "      <td>SB</td>\n",
              "      <td>611343</td>\n",
              "      <td>NaN</td>\n",
              "      <td>-1.329482</td>\n",
              "    </tr>\n",
              "    <tr>\n",
              "      <th>66</th>\n",
              "      <td>Somalia</td>\n",
              "      <td>308725.00</td>\n",
              "      <td>5063.58</td>\n",
              "      <td>-303661.42</td>\n",
              "      <td>SO</td>\n",
              "      <td>14742523</td>\n",
              "      <td>NaN</td>\n",
              "      <td>-0.020598</td>\n",
              "    </tr>\n",
              "  </tbody>\n",
              "</table>\n",
              "</div>"
            ],
            "text/plain": [
              "            country     borrowed  ...  population_below_poverty_line      ratio\n",
              "54        Palestine  22315801.51  ...                            NaN  -4.512374\n",
              "60      Puerto Rico    441900.00  ...                            NaN  -0.021600\n",
              "62            Samoa  12212175.00  ...                            NaN -62.155147\n",
              "65  Solomon Islands    815575.00  ...                            NaN  -1.329482\n",
              "66          Somalia    308725.00  ...                            NaN  -0.020598\n",
              "\n",
              "[5 rows x 8 columns]"
            ]
          },
          "metadata": {
            "tags": []
          },
          "execution_count": 214
        }
      ]
    },
    {
      "cell_type": "code",
      "metadata": {
        "id": "IUejFqn_6Wgf",
        "colab_type": "code",
        "colab": {}
      },
      "source": [
        "noinfo_index = country_difference[country_difference['population_below_poverty_line'].isna()].index"
      ],
      "execution_count": 0,
      "outputs": []
    },
    {
      "cell_type": "code",
      "metadata": {
        "id": "jRXDb4Y1Gh4r",
        "colab_type": "code",
        "colab": {}
      },
      "source": [
        "country_difference.drop(index=noinfo_index,inplace=True)"
      ],
      "execution_count": 0,
      "outputs": []
    },
    {
      "cell_type": "markdown",
      "metadata": {
        "id": "wGa3NiOz2nSI",
        "colab_type": "text"
      },
      "source": [
        "### Compute for each country number people below and above poverty line"
      ]
    },
    {
      "cell_type": "code",
      "metadata": {
        "id": "r9dMS-0nw9M_",
        "colab_type": "code",
        "colab": {}
      },
      "source": [
        "country_difference['population_below_poverty_line'] = country_difference['population_below_poverty_line']/100\n",
        "country_difference['number_population_below'] = country_difference['population']*country_difference['population_below_poverty_line']"
      ],
      "execution_count": 0,
      "outputs": []
    },
    {
      "cell_type": "code",
      "metadata": {
        "id": "a5gJNAvI3knv",
        "colab_type": "code",
        "colab": {}
      },
      "source": [
        "country_difference['number_population_below'] = country_difference['number_population_below'].astype(int)"
      ],
      "execution_count": 0,
      "outputs": []
    },
    {
      "cell_type": "code",
      "metadata": {
        "id": "Ah5E0SjyJDu5",
        "colab_type": "code",
        "colab": {}
      },
      "source": [
        "country_difference['number_population_above'] = country_difference['population'] - country_difference['number_population_below']"
      ],
      "execution_count": 0,
      "outputs": []
    },
    {
      "cell_type": "markdown",
      "metadata": {
        "id": "QZzwGXl6Jdmx",
        "colab_type": "text"
      },
      "source": [
        "### Compute ratio"
      ]
    },
    {
      "cell_type": "code",
      "metadata": {
        "id": "f2t3lzpXJccw",
        "colab_type": "code",
        "colab": {}
      },
      "source": [
        "country_difference = country_difference[['country','difference','number_population_above']]"
      ],
      "execution_count": 0,
      "outputs": []
    },
    {
      "cell_type": "code",
      "metadata": {
        "id": "KXSexBPYJ0Zl",
        "colab_type": "code",
        "colab": {}
      },
      "source": [
        "country_difference = country_difference.copy()\n",
        "country_difference['ratio'] = country_difference['difference'] / country_difference['number_population_above']"
      ],
      "execution_count": 0,
      "outputs": []
    },
    {
      "cell_type": "code",
      "metadata": {
        "id": "WqceOJjFKALh",
        "colab_type": "code",
        "colab": {}
      },
      "source": [
        "highest_ratio = country_difference.sort_values(by='ratio',ascending=False)"
      ],
      "execution_count": 0,
      "outputs": []
    },
    {
      "cell_type": "markdown",
      "metadata": {
        "id": "ylHGoTKiFuTI",
        "colab_type": "text"
      },
      "source": [
        "### _Result_"
      ]
    },
    {
      "cell_type": "code",
      "metadata": {
        "id": "vqSxkqETw7nx",
        "colab_type": "code",
        "outputId": "131871a4-0335-4e58-e55b-b8427dc4c456",
        "colab": {
          "base_uri": "https://localhost:8080/",
          "height": 34
        }
      },
      "source": [
        "print(\"Country highest ratio: \"+highest_ratio.iloc[0]['country'])"
      ],
      "execution_count": 0,
      "outputs": [
        {
          "output_type": "stream",
          "text": [
            "Country highest ratio: Canada\n"
          ],
          "name": "stdout"
        }
      ]
    },
    {
      "cell_type": "markdown",
      "metadata": {
        "id": "MLK9_JPhHGBm",
        "colab_type": "text"
      },
      "source": [
        "## Task 12\n",
        "- For each year, compute the total amount of loans. Each loan that has planned expiration time and disburse time in different years must have its amount distributed proportionally to the number of days in each year. For example, a loan with disburse time December 1st, 2016, planned expiration time January 30th 2018, and amount 5000USD has an amount of 5000USD * 31 / (31+365+30) = 363.85 for 2016, 5000USD * 365 / (31+365+30) = 4284.04 for 2017, and 5000USD * 30 / (31+365+30) = 352.11 for 2018."
      ]
    },
    {
      "cell_type": "code",
      "metadata": {
        "id": "J_5pkhs7xTQZ",
        "colab_type": "code",
        "colab": {}
      },
      "source": [
        "expired_nan = loan_simplified_USD[(loan_simplified_USD['planned_expiration_time'].isnull()) |\n",
        "                                  (loan_simplified_USD['disburse_time'].isnull())]"
      ],
      "execution_count": 0,
      "outputs": []
    },
    {
      "cell_type": "code",
      "metadata": {
        "id": "QhQCU3Vo2o-5",
        "colab_type": "code",
        "colab": {}
      },
      "source": [
        "loan_simplified_USD.drop(index=expired_nan.index,inplace=True) #non considero loan dove planned_expiration o disburse_time contengono nan"
      ],
      "execution_count": 0,
      "outputs": []
    },
    {
      "cell_type": "markdown",
      "metadata": {
        "id": "PWbEfDBV_bNa",
        "colab_type": "text"
      },
      "source": [
        "### Get year from _planned_expiration_time_"
      ]
    },
    {
      "cell_type": "code",
      "metadata": {
        "id": "ern9HK5s-lDZ",
        "colab_type": "code",
        "outputId": "a2ee599a-0ec3-42d2-8a87-125cd69c68ce",
        "colab": {
          "base_uri": "https://localhost:8080/",
          "height": 50
        }
      },
      "source": [
        "inizio=datetime.now()+timedelta(hours=1)\n",
        "print(\"Inizio: \"+inizio.strftime(\"%H:%M:%S\"))\n",
        "loan_simplified_USD['year_expiration'] = loan_simplified_USD.apply(lambda x: x['planned_expiration_time'].year,axis=1)\n",
        "fine=datetime.now()+timedelta(hours=1)\n",
        "print(\"Fine: \"+fine.strftime(\"%H:%M:%S\"))\n",
        "diff = fine - inizio\n",
        "diff"
      ],
      "execution_count": 0,
      "outputs": [
        {
          "output_type": "stream",
          "text": [
            "Inizio: 10:17:07\n",
            "Fine: 10:18:43\n"
          ],
          "name": "stdout"
        }
      ]
    },
    {
      "cell_type": "code",
      "metadata": {
        "id": "17HCLgkRqdfK",
        "colab_type": "code",
        "colab": {}
      },
      "source": [
        "loan_simplified_USD['year_disburse']=loan_simplified_USD['year_disburse'].astype(int)"
      ],
      "execution_count": 0,
      "outputs": []
    },
    {
      "cell_type": "code",
      "metadata": {
        "id": "nyeB0BqC8do-",
        "colab_type": "code",
        "outputId": "2f794ec8-d44d-4a13-d36a-009db684d278",
        "colab": {
          "base_uri": "https://localhost:8080/",
          "height": 34
        }
      },
      "source": [
        "loan_simplified_USD['difference_years'] = loan_simplified_USD['year_expiration'] - loan_simplified_USD['year_disburse']\n",
        "loan_simplified_USD['difference_years'].unique()"
      ],
      "execution_count": 0,
      "outputs": [
        {
          "output_type": "execute_result",
          "data": {
            "text/plain": [
              "array([ 1,  0, -1,  5,  4])"
            ]
          },
          "metadata": {
            "tags": []
          },
          "execution_count": 249
        }
      ]
    },
    {
      "cell_type": "code",
      "metadata": {
        "id": "1OHf3DizpWYL",
        "colab_type": "code",
        "outputId": "9ab351f1-13e9-4e2d-98a0-8e30bf01131a",
        "colab": {
          "base_uri": "https://localhost:8080/",
          "height": 402
        }
      },
      "source": [
        "loan_simplified_USD[['year_disburse','year_expiration']]"
      ],
      "execution_count": 0,
      "outputs": [
        {
          "output_type": "execute_result",
          "data": {
            "text/html": [
              "<div>\n",
              "<style scoped>\n",
              "    .dataframe tbody tr th:only-of-type {\n",
              "        vertical-align: middle;\n",
              "    }\n",
              "\n",
              "    .dataframe tbody tr th {\n",
              "        vertical-align: top;\n",
              "    }\n",
              "\n",
              "    .dataframe thead th {\n",
              "        text-align: right;\n",
              "    }\n",
              "</style>\n",
              "<table border=\"1\" class=\"dataframe\">\n",
              "  <thead>\n",
              "    <tr style=\"text-align: right;\">\n",
              "      <th></th>\n",
              "      <th>year_disburse</th>\n",
              "      <th>year_expiration</th>\n",
              "    </tr>\n",
              "  </thead>\n",
              "  <tbody>\n",
              "    <tr>\n",
              "      <th>0</th>\n",
              "      <td>2013</td>\n",
              "      <td>2014</td>\n",
              "    </tr>\n",
              "    <tr>\n",
              "      <th>1</th>\n",
              "      <td>2013</td>\n",
              "      <td>2014</td>\n",
              "    </tr>\n",
              "    <tr>\n",
              "      <th>2</th>\n",
              "      <td>2013</td>\n",
              "      <td>2014</td>\n",
              "    </tr>\n",
              "    <tr>\n",
              "      <th>3</th>\n",
              "      <td>2013</td>\n",
              "      <td>2014</td>\n",
              "    </tr>\n",
              "    <tr>\n",
              "      <th>4</th>\n",
              "      <td>2013</td>\n",
              "      <td>2014</td>\n",
              "    </tr>\n",
              "    <tr>\n",
              "      <th>...</th>\n",
              "      <td>...</td>\n",
              "      <td>...</td>\n",
              "    </tr>\n",
              "    <tr>\n",
              "      <th>1419600</th>\n",
              "      <td>2015</td>\n",
              "      <td>2015</td>\n",
              "    </tr>\n",
              "    <tr>\n",
              "      <th>1419601</th>\n",
              "      <td>2015</td>\n",
              "      <td>2015</td>\n",
              "    </tr>\n",
              "    <tr>\n",
              "      <th>1419602</th>\n",
              "      <td>2015</td>\n",
              "      <td>2016</td>\n",
              "    </tr>\n",
              "    <tr>\n",
              "      <th>1419604</th>\n",
              "      <td>2015</td>\n",
              "      <td>2016</td>\n",
              "    </tr>\n",
              "    <tr>\n",
              "      <th>1419606</th>\n",
              "      <td>2015</td>\n",
              "      <td>2016</td>\n",
              "    </tr>\n",
              "  </tbody>\n",
              "</table>\n",
              "<p>950090 rows × 2 columns</p>\n",
              "</div>"
            ],
            "text/plain": [
              "         year_disburse  year_expiration\n",
              "0                 2013             2014\n",
              "1                 2013             2014\n",
              "2                 2013             2014\n",
              "3                 2013             2014\n",
              "4                 2013             2014\n",
              "...                ...              ...\n",
              "1419600           2015             2015\n",
              "1419601           2015             2015\n",
              "1419602           2015             2016\n",
              "1419604           2015             2016\n",
              "1419606           2015             2016\n",
              "\n",
              "[950090 rows x 2 columns]"
            ]
          },
          "metadata": {
            "tags": []
          },
          "execution_count": 253
        }
      ]
    },
    {
      "cell_type": "code",
      "metadata": {
        "id": "dgihKzc5rDtM",
        "colab_type": "code",
        "outputId": "f21f8366-b3cc-4d88-946f-dfcff71b0b16",
        "colab": {
          "base_uri": "https://localhost:8080/",
          "height": 34
        }
      },
      "source": [
        "disburse_after_expiration = loan_simplified_USD[loan_simplified_USD['difference_years']==-1]\n",
        "print(\"Ratio difference -1 betweeen disburse and planned_expiration_time: \"+str(len(disburse_after_expiration) / len(loan_simplified_USD)))"
      ],
      "execution_count": 0,
      "outputs": [
        {
          "output_type": "stream",
          "text": [
            "Ratio difference -1 betweeen disburse and planned_expiration_time: 0.0015461693102758686\n"
          ],
          "name": "stdout"
        }
      ]
    },
    {
      "cell_type": "code",
      "metadata": {
        "id": "TSqQkCzVuIdO",
        "colab_type": "code",
        "colab": {}
      },
      "source": [
        "loan_simplified_USD.drop(index=disburse_after_expiration.index,inplace=True)"
      ],
      "execution_count": 0,
      "outputs": []
    },
    {
      "cell_type": "markdown",
      "metadata": {
        "id": "QmasFpk6DDfC",
        "colab_type": "text"
      },
      "source": [
        "### Get loans which have same years between disburse_time and planned_expiration_time"
      ]
    },
    {
      "cell_type": "code",
      "metadata": {
        "id": "rg7e3YM2uhuX",
        "colab_type": "code",
        "colab": {}
      },
      "source": [
        "sameYear_loan_USD = loan_simplified_USD[loan_simplified_USD['year_disburse']==loan_simplified_USD['year_expiration']]\n",
        "index_sameYear = sameYear_loan_USD.index"
      ],
      "execution_count": 0,
      "outputs": []
    },
    {
      "cell_type": "code",
      "metadata": {
        "id": "fb-yFyMzvFRv",
        "colab_type": "code",
        "colab": {}
      },
      "source": [
        "distribution_loan_USD = sameYear_loan_USD[['loan_id','loan_amount_conversion_USD','year_expiration']]"
      ],
      "execution_count": 0,
      "outputs": []
    },
    {
      "cell_type": "code",
      "metadata": {
        "id": "yV0CPtOBvYRN",
        "colab_type": "code",
        "outputId": "4ec38840-5cbf-4653-b6d1-41c4eff1e35b",
        "colab": {
          "base_uri": "https://localhost:8080/",
          "height": 195
        }
      },
      "source": [
        "distribution_loan_USD.columns = ['loan_id','loan_amount_USD','year']\n",
        "distribution_loan_USD.head()"
      ],
      "execution_count": 0,
      "outputs": [
        {
          "output_type": "execute_result",
          "data": {
            "text/html": [
              "<div>\n",
              "<style scoped>\n",
              "    .dataframe tbody tr th:only-of-type {\n",
              "        vertical-align: middle;\n",
              "    }\n",
              "\n",
              "    .dataframe tbody tr th {\n",
              "        vertical-align: top;\n",
              "    }\n",
              "\n",
              "    .dataframe thead th {\n",
              "        text-align: right;\n",
              "    }\n",
              "</style>\n",
              "<table border=\"1\" class=\"dataframe\">\n",
              "  <thead>\n",
              "    <tr style=\"text-align: right;\">\n",
              "      <th></th>\n",
              "      <th>loan_id</th>\n",
              "      <th>loan_amount_USD</th>\n",
              "      <th>year</th>\n",
              "    </tr>\n",
              "  </thead>\n",
              "  <tbody>\n",
              "    <tr>\n",
              "      <th>143</th>\n",
              "      <td>659605</td>\n",
              "      <td>7.76</td>\n",
              "      <td>2014</td>\n",
              "    </tr>\n",
              "    <tr>\n",
              "      <th>144</th>\n",
              "      <td>660485</td>\n",
              "      <td>5.54</td>\n",
              "      <td>2014</td>\n",
              "    </tr>\n",
              "    <tr>\n",
              "      <th>145</th>\n",
              "      <td>659100</td>\n",
              "      <td>4.99</td>\n",
              "      <td>2014</td>\n",
              "    </tr>\n",
              "    <tr>\n",
              "      <th>146</th>\n",
              "      <td>659266</td>\n",
              "      <td>17.74</td>\n",
              "      <td>2014</td>\n",
              "    </tr>\n",
              "    <tr>\n",
              "      <th>147</th>\n",
              "      <td>663198</td>\n",
              "      <td>2.77</td>\n",
              "      <td>2014</td>\n",
              "    </tr>\n",
              "  </tbody>\n",
              "</table>\n",
              "</div>"
            ],
            "text/plain": [
              "     loan_id  loan_amount_USD  year\n",
              "143   659605             7.76  2014\n",
              "144   660485             5.54  2014\n",
              "145   659100             4.99  2014\n",
              "146   659266            17.74  2014\n",
              "147   663198             2.77  2014"
            ]
          },
          "metadata": {
            "tags": []
          },
          "execution_count": 262
        }
      ]
    },
    {
      "cell_type": "code",
      "metadata": {
        "id": "UV2DyVs9vxu6",
        "colab_type": "code",
        "colab": {}
      },
      "source": [
        "differentYear_loan_USD = loan_simplified_USD.drop(index=index_sameYear, axis=0)"
      ],
      "execution_count": 0,
      "outputs": []
    },
    {
      "cell_type": "code",
      "metadata": {
        "id": "7C8rybxWwr-g",
        "colab_type": "code",
        "colab": {}
      },
      "source": [
        "differentYear_loan_USD = differentYear_loan_USD.copy()\n",
        "differentYear_loan_USD['day_disburse'] = differentYear_loan_USD.apply(lambda x: x['disburse_time'].day,axis=1)"
      ],
      "execution_count": 0,
      "outputs": []
    },
    {
      "cell_type": "code",
      "metadata": {
        "id": "ZJHlkUQQyOIf",
        "colab_type": "code",
        "colab": {}
      },
      "source": [
        "differentYear_loan_USD = differentYear_loan_USD[['loan_id','disburse_time','planned_expiration_time',\n",
        "                                                 'loan_amount_conversion_USD','year_expiration','year_disburse',\n",
        "                                                 'difference_years','day_disburse']]"
      ],
      "execution_count": 0,
      "outputs": []
    },
    {
      "cell_type": "code",
      "metadata": {
        "id": "dEUMo10DG1At",
        "colab_type": "code",
        "colab": {}
      },
      "source": [
        "differentYear_loan_USD['month_disburse'] = differentYear_loan_USD.apply(lambda x: x['disburse_time'].month,axis=1)\n",
        "differentYear_loan_USD['day_expiration'] = differentYear_loan_USD.apply(lambda x: x['planned_expiration_time'].day,axis=1)"
      ],
      "execution_count": 0,
      "outputs": []
    },
    {
      "cell_type": "markdown",
      "metadata": {
        "id": "jVZ3eOuaEYqh",
        "colab_type": "text"
      },
      "source": [
        "### Functions needed to compute distribution for each loan"
      ]
    },
    {
      "cell_type": "code",
      "metadata": {
        "id": "nIcwv07ArNZ4",
        "colab_type": "code",
        "colab": {}
      },
      "source": [
        "def check_leap(year): #controllo se bisestile o meno\n",
        "  if calendar.isleap(year)==True:\n",
        "    return 366\n",
        "  else:\n",
        "    return 365\n",
        "\n",
        "def compute_amount_year(loan,den,val_num,range_year): #calcola quantità che deve essere restituita ogni anno\n",
        "  val_year = round((loan * val_num) / den,2)\n",
        "  return (range_year,val_year)\n",
        "\n",
        "\n",
        "def compute_distribution(id,loan,day_d,month_d,year_d,day_e,year_e): #ritorna lista che contiene per ogni anno la quantità che deve essere restituita\n",
        "  days_month = calendar.monthrange(year_d,month_d)[1]\n",
        "  values = []\n",
        "  year_range = set(range(year_d,year_e+1)) #range anni tra disburse e planned_expiration_time\n",
        "  lower_upper = set([year_d,year_e])\n",
        "  year_ris = list(year_range - lower_upper) #ottengo anni di cui devo considerare l'annualità (365 giorni 0 366)\n",
        "\n",
        "  if day_d==1:\n",
        "    difference = days_month\n",
        "  else:\n",
        "    if day_d==days_month:\n",
        "      difference = 1\n",
        "    else:\n",
        "      difference = days_month - day_d\n",
        "\n",
        "  if len(year_ris)==0: #se planned_expiration_time è anno successivo di disburse_time\n",
        "    values.append([difference,day_e])\n",
        "  else:\n",
        "    years_day = list(map (check_leap, year_ris)) #ottengo una lista dove per ogni anno è registrato numero giorni anno\n",
        "    values.append([[difference],years_day,[day_e]])\n",
        "    values = list(itertools.chain(*values))\n",
        "\n",
        "  values = list(itertools.chain(*values))\n",
        "  year_range=list(year_range)\n",
        "  year_range.sort() #ordino gli anni\n",
        "  den=sum(values)\n",
        "  result_list = list(map (functools.partial(compute_amount_year, loan,den), values, list(year_range)))\n",
        "  return result_list"
      ],
      "execution_count": 0,
      "outputs": []
    },
    {
      "cell_type": "markdown",
      "metadata": {
        "id": "8SE4At8ZTDyE",
        "colab_type": "text"
      },
      "source": [
        "### Compute distribution for each loan"
      ]
    },
    {
      "cell_type": "code",
      "metadata": {
        "id": "xMUsxaaMH-R0",
        "colab_type": "code",
        "colab": {}
      },
      "source": [
        "differentYear_loan_USD['dict_distribution']=differentYear_loan_USD.apply(lambda x: compute_distribution(x['loan_id'],x['loan_amount_conversion_USD'],\n",
        "                                                                                              x['day_disburse'],x['month_disburse'],\n",
        "                                                                                              x['year_disburse'],x['day_expiration'],x['year_expiration']),axis=1)\n"
      ],
      "execution_count": 0,
      "outputs": []
    },
    {
      "cell_type": "code",
      "metadata": {
        "id": "CDn_VRX4-H8o",
        "colab_type": "code",
        "outputId": "5bb0fbc5-db95-41c9-fa15-f500d490c2b2",
        "colab": {
          "base_uri": "https://localhost:8080/",
          "height": 402
        }
      },
      "source": [
        "loan_distribution = differentYear_loan_USD[['loan_id','dict_distribution']]\n",
        "loan_distribution"
      ],
      "execution_count": 0,
      "outputs": [
        {
          "output_type": "execute_result",
          "data": {
            "text/html": [
              "<div>\n",
              "<style scoped>\n",
              "    .dataframe tbody tr th:only-of-type {\n",
              "        vertical-align: middle;\n",
              "    }\n",
              "\n",
              "    .dataframe tbody tr th {\n",
              "        vertical-align: top;\n",
              "    }\n",
              "\n",
              "    .dataframe thead th {\n",
              "        text-align: right;\n",
              "    }\n",
              "</style>\n",
              "<table border=\"1\" class=\"dataframe\">\n",
              "  <thead>\n",
              "    <tr style=\"text-align: right;\">\n",
              "      <th></th>\n",
              "      <th>loan_id</th>\n",
              "      <th>dict_distribution</th>\n",
              "    </tr>\n",
              "  </thead>\n",
              "  <tbody>\n",
              "    <tr>\n",
              "      <th>0</th>\n",
              "      <td>657307</td>\n",
              "      <td>[(2013, 1.1), (2014, 1.71)]</td>\n",
              "    </tr>\n",
              "    <tr>\n",
              "      <th>1</th>\n",
              "      <td>654523</td>\n",
              "      <td>[(2013, 5.81), (2014, 3.17)]</td>\n",
              "    </tr>\n",
              "    <tr>\n",
              "      <th>4</th>\n",
              "      <td>657423</td>\n",
              "      <td>[(2013, 4.44), (2014, 5.66)]</td>\n",
              "    </tr>\n",
              "    <tr>\n",
              "      <th>5</th>\n",
              "      <td>657404</td>\n",
              "      <td>[(2013, 4.94), (2014, 6.28)]</td>\n",
              "    </tr>\n",
              "    <tr>\n",
              "      <th>6</th>\n",
              "      <td>653497</td>\n",
              "      <td>[(2013, 4.75), (2014, 0.86)]</td>\n",
              "    </tr>\n",
              "    <tr>\n",
              "      <th>...</th>\n",
              "      <td>...</td>\n",
              "      <td>...</td>\n",
              "    </tr>\n",
              "    <tr>\n",
              "      <th>1419590</th>\n",
              "      <td>988686</td>\n",
              "      <td>[(2015, 85.71), (2016, 14.29)]</td>\n",
              "    </tr>\n",
              "    <tr>\n",
              "      <th>1419592</th>\n",
              "      <td>983537</td>\n",
              "      <td>[(2015, 76.92), (2016, 123.08)]</td>\n",
              "    </tr>\n",
              "    <tr>\n",
              "      <th>1419602</th>\n",
              "      <td>988180</td>\n",
              "      <td>[(2015, 311.11), (2016, 88.89)]</td>\n",
              "    </tr>\n",
              "    <tr>\n",
              "      <th>1419604</th>\n",
              "      <td>989109</td>\n",
              "      <td>[(2015, 2061.25), (2016, 363.75)]</td>\n",
              "    </tr>\n",
              "    <tr>\n",
              "      <th>1419606</th>\n",
              "      <td>989240</td>\n",
              "      <td>[(2015, 157.5), (2016, 17.5)]</td>\n",
              "    </tr>\n",
              "  </tbody>\n",
              "</table>\n",
              "<p>101296 rows × 2 columns</p>\n",
              "</div>"
            ],
            "text/plain": [
              "         loan_id                  dict_distribution\n",
              "0         657307        [(2013, 1.1), (2014, 1.71)]\n",
              "1         654523       [(2013, 5.81), (2014, 3.17)]\n",
              "4         657423       [(2013, 4.44), (2014, 5.66)]\n",
              "5         657404       [(2013, 4.94), (2014, 6.28)]\n",
              "6         653497       [(2013, 4.75), (2014, 0.86)]\n",
              "...          ...                                ...\n",
              "1419590   988686     [(2015, 85.71), (2016, 14.29)]\n",
              "1419592   983537    [(2015, 76.92), (2016, 123.08)]\n",
              "1419602   988180    [(2015, 311.11), (2016, 88.89)]\n",
              "1419604   989109  [(2015, 2061.25), (2016, 363.75)]\n",
              "1419606   989240      [(2015, 157.5), (2016, 17.5)]\n",
              "\n",
              "[101296 rows x 2 columns]"
            ]
          },
          "metadata": {
            "tags": []
          },
          "execution_count": 270
        }
      ]
    },
    {
      "cell_type": "code",
      "metadata": {
        "id": "VMbx_ayD_H5c",
        "colab_type": "code",
        "colab": {}
      },
      "source": [
        "loan_distribution = loan_distribution.explode('dict_distribution')"
      ],
      "execution_count": 0,
      "outputs": []
    },
    {
      "cell_type": "code",
      "metadata": {
        "id": "pYc_qzs8BykZ",
        "colab_type": "code",
        "colab": {}
      },
      "source": [
        "loan_distribution['year'] = loan_distribution.apply(lambda x: x['dict_distribution'][0],axis=1)\n",
        "loan_distribution['loan_amount_USD'] = loan_distribution.apply(lambda x: x['dict_distribution'][1],axis=1)\n",
        "\n",
        "loan_distribution = loan_distribution.reset_index()"
      ],
      "execution_count": 0,
      "outputs": []
    },
    {
      "cell_type": "code",
      "metadata": {
        "id": "lZItdITNBVuS",
        "colab_type": "code",
        "colab": {}
      },
      "source": [
        "loan_distribution.drop(columns=['index','dict_distribution'],inplace=True)"
      ],
      "execution_count": 0,
      "outputs": []
    },
    {
      "cell_type": "code",
      "metadata": {
        "id": "YvV07Ai42LMk",
        "colab_type": "code",
        "outputId": "68354de8-7ef7-476a-9c3f-9122c1b698ea",
        "colab": {
          "base_uri": "https://localhost:8080/",
          "height": 195
        }
      },
      "source": [
        "distribution_loan = pd.concat([distribution_loan_USD,loan_distribution],axis=0,sort=False)\n",
        "distribution_loan.head()"
      ],
      "execution_count": 0,
      "outputs": [
        {
          "output_type": "execute_result",
          "data": {
            "text/html": [
              "<div>\n",
              "<style scoped>\n",
              "    .dataframe tbody tr th:only-of-type {\n",
              "        vertical-align: middle;\n",
              "    }\n",
              "\n",
              "    .dataframe tbody tr th {\n",
              "        vertical-align: top;\n",
              "    }\n",
              "\n",
              "    .dataframe thead th {\n",
              "        text-align: right;\n",
              "    }\n",
              "</style>\n",
              "<table border=\"1\" class=\"dataframe\">\n",
              "  <thead>\n",
              "    <tr style=\"text-align: right;\">\n",
              "      <th></th>\n",
              "      <th>loan_id</th>\n",
              "      <th>loan_amount_USD</th>\n",
              "      <th>year</th>\n",
              "    </tr>\n",
              "  </thead>\n",
              "  <tbody>\n",
              "    <tr>\n",
              "      <th>143</th>\n",
              "      <td>659605</td>\n",
              "      <td>7.76</td>\n",
              "      <td>2014</td>\n",
              "    </tr>\n",
              "    <tr>\n",
              "      <th>144</th>\n",
              "      <td>660485</td>\n",
              "      <td>5.54</td>\n",
              "      <td>2014</td>\n",
              "    </tr>\n",
              "    <tr>\n",
              "      <th>145</th>\n",
              "      <td>659100</td>\n",
              "      <td>4.99</td>\n",
              "      <td>2014</td>\n",
              "    </tr>\n",
              "    <tr>\n",
              "      <th>146</th>\n",
              "      <td>659266</td>\n",
              "      <td>17.74</td>\n",
              "      <td>2014</td>\n",
              "    </tr>\n",
              "    <tr>\n",
              "      <th>147</th>\n",
              "      <td>663198</td>\n",
              "      <td>2.77</td>\n",
              "      <td>2014</td>\n",
              "    </tr>\n",
              "  </tbody>\n",
              "</table>\n",
              "</div>"
            ],
            "text/plain": [
              "     loan_id  loan_amount_USD  year\n",
              "143   659605             7.76  2014\n",
              "144   660485             5.54  2014\n",
              "145   659100             4.99  2014\n",
              "146   659266            17.74  2014\n",
              "147   663198             2.77  2014"
            ]
          },
          "metadata": {
            "tags": []
          },
          "execution_count": 274
        }
      ]
    },
    {
      "cell_type": "code",
      "metadata": {
        "id": "3mVpYXLz2khM",
        "colab_type": "code",
        "colab": {}
      },
      "source": [
        "year_distribution = pd.DataFrame(distribution_loan.groupby('year')['loan_amount_USD'].sum()).reset_index()"
      ],
      "execution_count": 0,
      "outputs": []
    },
    {
      "cell_type": "code",
      "metadata": {
        "id": "NIJDL2KdVIQr",
        "colab_type": "code",
        "colab": {}
      },
      "source": [
        "year_distribution['loan_amount_USD_format']=year_distribution.apply(lambda x: '{:f}'.format(x['loan_amount_USD']),axis=1)"
      ],
      "execution_count": 0,
      "outputs": []
    },
    {
      "cell_type": "markdown",
      "metadata": {
        "id": "maGTF3Ll4seR",
        "colab_type": "text"
      },
      "source": [
        "### _Result_"
      ]
    },
    {
      "cell_type": "code",
      "metadata": {
        "id": "8K7jEdcA4gK-",
        "colab_type": "code",
        "outputId": "2a6c413b-fbad-48a2-93eb-cf8927b19751",
        "colab": {
          "base_uri": "https://localhost:8080/",
          "height": 195
        }
      },
      "source": [
        "year_distribution.head()"
      ],
      "execution_count": 0,
      "outputs": [
        {
          "output_type": "execute_result",
          "data": {
            "text/html": [
              "<div>\n",
              "<style scoped>\n",
              "    .dataframe tbody tr th:only-of-type {\n",
              "        vertical-align: middle;\n",
              "    }\n",
              "\n",
              "    .dataframe tbody tr th {\n",
              "        vertical-align: top;\n",
              "    }\n",
              "\n",
              "    .dataframe thead th {\n",
              "        text-align: right;\n",
              "    }\n",
              "</style>\n",
              "<table border=\"1\" class=\"dataframe\">\n",
              "  <thead>\n",
              "    <tr style=\"text-align: right;\">\n",
              "      <th></th>\n",
              "      <th>year</th>\n",
              "      <th>loan_amount_USD</th>\n",
              "      <th>loan_amount_USD_format</th>\n",
              "    </tr>\n",
              "  </thead>\n",
              "  <tbody>\n",
              "    <tr>\n",
              "      <th>0</th>\n",
              "      <td>2011</td>\n",
              "      <td>8.444752e+05</td>\n",
              "      <td>844475.240000</td>\n",
              "    </tr>\n",
              "    <tr>\n",
              "      <th>1</th>\n",
              "      <td>2012</td>\n",
              "      <td>9.343680e+07</td>\n",
              "      <td>93436800.090001</td>\n",
              "    </tr>\n",
              "    <tr>\n",
              "      <th>2</th>\n",
              "      <td>2013</td>\n",
              "      <td>1.008890e+08</td>\n",
              "      <td>100889020.190000</td>\n",
              "    </tr>\n",
              "    <tr>\n",
              "      <th>3</th>\n",
              "      <td>2014</td>\n",
              "      <td>1.265259e+08</td>\n",
              "      <td>126525875.789998</td>\n",
              "    </tr>\n",
              "    <tr>\n",
              "      <th>4</th>\n",
              "      <td>2015</td>\n",
              "      <td>1.269714e+08</td>\n",
              "      <td>126971438.300001</td>\n",
              "    </tr>\n",
              "  </tbody>\n",
              "</table>\n",
              "</div>"
            ],
            "text/plain": [
              "   year  loan_amount_USD loan_amount_USD_format\n",
              "0  2011     8.444752e+05          844475.240000\n",
              "1  2012     9.343680e+07        93436800.090001\n",
              "2  2013     1.008890e+08       100889020.190000\n",
              "3  2014     1.265259e+08       126525875.789998\n",
              "4  2015     1.269714e+08       126971438.300001"
            ]
          },
          "metadata": {
            "tags": []
          },
          "execution_count": 277
        }
      ]
    }
  ]
}