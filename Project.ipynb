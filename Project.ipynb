{
  "nbformat": 4,
  "nbformat_minor": 0,
  "metadata": {
    "colab": {
      "name": "Project.ipynb",
      "provenance": [],
      "collapsed_sections": [],
      "toc_visible": true,
      "machine_shape": "hm",
      "include_colab_link": true
    },
    "kernelspec": {
      "name": "python3",
      "display_name": "Python 3"
    }
  },
  "cells": [
    {
      "cell_type": "markdown",
      "metadata": {
        "id": "view-in-github",
        "colab_type": "text"
      },
      "source": [
        "<a href=\"https://colab.research.google.com/github/gaveter/Project_cs/blob/master/Project.ipynb\" target=\"_parent\"><img src=\"https://colab.research.google.com/assets/colab-badge.svg\" alt=\"Open In Colab\"/></a>"
      ]
    },
    {
      "cell_type": "code",
      "metadata": {
        "id": "ol1w_yeL6Ns5",
        "colab_type": "code",
        "outputId": "c15e38da-0803-4076-9bb9-e56bdde2dd91",
        "colab": {
          "base_uri": "https://localhost:8080/",
          "height": 34
        }
      },
      "source": [
        "from google.colab import drive\n",
        "drive.mount('/content/drive')"
      ],
      "execution_count": 1,
      "outputs": [
        {
          "output_type": "stream",
          "text": [
            "Drive already mounted at /content/drive; to attempt to forcibly remount, call drive.mount(\"/content/drive\", force_remount=True).\n"
          ],
          "name": "stdout"
        }
      ]
    },
    {
      "cell_type": "markdown",
      "metadata": {
        "id": "Z6eOK8_a6P3z",
        "colab_type": "text"
      },
      "source": [
        "# Project 2019-20\n",
        "1. Normalize the loan_lenders table. In the normalized table, each row must have one loan_id and one lender.\n",
        "2. For each loan, add a column duration corresponding to the number of days between the disburse time and the planned expiration time. If any of those two dates is missing, also the duration must be missing.\n",
        "3. Find the lenders that have funded at least twice.\n",
        "4. For each country, compute how many loans have involved that country as borrowers.\n",
        "5. For each country, compute the overall amount of money borrowed.\n",
        "6. Like the previous point, but expressed as a percentage of the overall amount lent.\n",
        "7. Like the three previous points, but split for each year (with respect to disburse time).\n",
        "8. For each lender, compute the overall amount of money lent. For each loan that has more than one lender, you must assume that all lenders contributed the same amount.\n",
        "9. For each country, compute the difference between the overall amount of money lent and the overall amount of money borrowed. Since the country of the lender is often unknown, you can assume that the true distribution among the countries is the same as the one computed from the rows where the country is known.\n",
        "10. Which country has the highest ratio between the difference computed at the previous point and the population?\n",
        "11. Which country has the highest ratio between the difference computed at point 9 and the population that is not below the poverty line?\n",
        "12. For each year, compute the total amount of loans. Each loan that has planned expiration time and disburse time in different years must have its amount distributed proportionally to the number of days in each year. For example, a loan with disburse time December 1st, 2016, planned expiration time January 30th 2018, and amount 5000USD has an amount of 5000USD * 31 / (31+365+30) = 363.85 for 2016, 5000USD * 365 / (31+365+30) = 4284.04 for 2017, and 5000USD * 30 / (31+365+30) = 352.11 for 2018.\n",
        "\n",
        "© 2019 GitHub, Inc."
      ]
    },
    {
      "cell_type": "markdown",
      "metadata": {
        "id": "ac0rXnKy7Gx5",
        "colab_type": "text"
      },
      "source": [
        "## Load libraries"
      ]
    },
    {
      "cell_type": "code",
      "metadata": {
        "id": "HhI6_r9s7Dro",
        "colab_type": "code",
        "colab": {}
      },
      "source": [
        "import pandas as pd\n",
        "from datetime import datetime, timedelta\n",
        "import re\n",
        "import numpy as np\n",
        "#import holidays\n",
        "from pandas.tseries.offsets import BDay\n",
        "import matplotlib.pyplot as plt\n",
        "import itertools\n",
        "import requests\n",
        "import functools\n",
        "import calendar\n",
        "from collections import defaultdict"
      ],
      "execution_count": 0,
      "outputs": []
    },
    {
      "cell_type": "code",
      "metadata": {
        "id": "RNrEkqzUhT80",
        "colab_type": "code",
        "outputId": "ab16ebcc-fe73-493e-a295-f1714404f289",
        "colab": {
          "base_uri": "https://localhost:8080/",
          "height": 34
        }
      },
      "source": [
        "!pip install ipython-autotime  #necessario per stampare il tempo di esecuzione di ogni chunk\n",
        "%load_ext autotime"
      ],
      "execution_count": 3,
      "outputs": [
        {
          "output_type": "stream",
          "text": [
            "Requirement already satisfied: ipython-autotime in /usr/local/lib/python3.6/dist-packages (0.1)\n"
          ],
          "name": "stdout"
        }
      ]
    },
    {
      "cell_type": "markdown",
      "metadata": {
        "id": "H293IL1LBfcH",
        "colab_type": "text"
      },
      "source": [
        "## Task1\n",
        "- Normalize the loan_lenders table. In the normalized table, each row must have one loan_id and one lender."
      ]
    },
    {
      "cell_type": "markdown",
      "metadata": {
        "id": "vBBoMroH7fgN",
        "colab_type": "text"
      },
      "source": [
        "### Load csv (loans_lenders)"
      ]
    },
    {
      "cell_type": "code",
      "metadata": {
        "id": "nuD87I-u7UGW",
        "colab_type": "code",
        "outputId": "ecb6bfbe-2903-4c14-eb10-1294e4cecacc",
        "colab": {
          "base_uri": "https://localhost:8080/",
          "height": 34
        }
      },
      "source": [
        "loans_lender = pd.read_csv('/content/drive/My Drive/Foundation of computer science/additional-kiva-snapshot/loans_lenders.csv')"
      ],
      "execution_count": 4,
      "outputs": [
        {
          "output_type": "stream",
          "text": [
            "time: 4.51 s\n"
          ],
          "name": "stdout"
        }
      ]
    },
    {
      "cell_type": "markdown",
      "metadata": {
        "id": "5xNbI8At-N6G",
        "colab_type": "text"
      },
      "source": [
        "_Overview_"
      ]
    },
    {
      "cell_type": "code",
      "metadata": {
        "id": "D_e6nB47Yr0g",
        "colab_type": "code",
        "outputId": "0cd642fc-a760-4c79-976c-714a91158c3d",
        "colab": {
          "base_uri": "https://localhost:8080/",
          "height": 67
        }
      },
      "source": [
        "loans_lender.dtypes"
      ],
      "execution_count": 5,
      "outputs": [
        {
          "output_type": "execute_result",
          "data": {
            "text/plain": [
              "loan_id     int64\n",
              "lenders    object\n",
              "dtype: object"
            ]
          },
          "metadata": {
            "tags": []
          },
          "execution_count": 5
        },
        {
          "output_type": "stream",
          "text": [
            "time: 6.42 ms\n"
          ],
          "name": "stdout"
        }
      ]
    },
    {
      "cell_type": "code",
      "metadata": {
        "id": "NjRpKKfy-U0O",
        "colab_type": "code",
        "outputId": "c5408b2f-88f9-4d3a-fd47-d83a260e7edf",
        "colab": {
          "base_uri": "https://localhost:8080/",
          "height": 229
        }
      },
      "source": [
        "print(\"Number rows total: \"+str(len(loans_lender)))\n",
        "loans_lender.head()"
      ],
      "execution_count": 6,
      "outputs": [
        {
          "output_type": "stream",
          "text": [
            "Number rows total: 1387432\n"
          ],
          "name": "stdout"
        },
        {
          "output_type": "execute_result",
          "data": {
            "text/html": [
              "<div>\n",
              "<style scoped>\n",
              "    .dataframe tbody tr th:only-of-type {\n",
              "        vertical-align: middle;\n",
              "    }\n",
              "\n",
              "    .dataframe tbody tr th {\n",
              "        vertical-align: top;\n",
              "    }\n",
              "\n",
              "    .dataframe thead th {\n",
              "        text-align: right;\n",
              "    }\n",
              "</style>\n",
              "<table border=\"1\" class=\"dataframe\">\n",
              "  <thead>\n",
              "    <tr style=\"text-align: right;\">\n",
              "      <th></th>\n",
              "      <th>loan_id</th>\n",
              "      <th>lenders</th>\n",
              "    </tr>\n",
              "  </thead>\n",
              "  <tbody>\n",
              "    <tr>\n",
              "      <th>0</th>\n",
              "      <td>483693</td>\n",
              "      <td>muc888, sam4326, camaran3922, lachheb1865, reb...</td>\n",
              "    </tr>\n",
              "    <tr>\n",
              "      <th>1</th>\n",
              "      <td>483738</td>\n",
              "      <td>muc888, nora3555, williammanashi, barbara5610,...</td>\n",
              "    </tr>\n",
              "    <tr>\n",
              "      <th>2</th>\n",
              "      <td>485000</td>\n",
              "      <td>muc888, terrystl, richardandsusan8352, sherri4...</td>\n",
              "    </tr>\n",
              "    <tr>\n",
              "      <th>3</th>\n",
              "      <td>486087</td>\n",
              "      <td>muc888, james5068, rudi5955, daniel9859, don92...</td>\n",
              "    </tr>\n",
              "    <tr>\n",
              "      <th>4</th>\n",
              "      <td>534428</td>\n",
              "      <td>muc888, niki3008, teresa9174, mike4896, david7...</td>\n",
              "    </tr>\n",
              "  </tbody>\n",
              "</table>\n",
              "</div>"
            ],
            "text/plain": [
              "   loan_id                                            lenders\n",
              "0   483693  muc888, sam4326, camaran3922, lachheb1865, reb...\n",
              "1   483738  muc888, nora3555, williammanashi, barbara5610,...\n",
              "2   485000  muc888, terrystl, richardandsusan8352, sherri4...\n",
              "3   486087  muc888, james5068, rudi5955, daniel9859, don92...\n",
              "4   534428  muc888, niki3008, teresa9174, mike4896, david7..."
            ]
          },
          "metadata": {
            "tags": []
          },
          "execution_count": 6
        },
        {
          "output_type": "stream",
          "text": [
            "time: 15.2 ms\n"
          ],
          "name": "stdout"
        }
      ]
    },
    {
      "cell_type": "markdown",
      "metadata": {
        "id": "XtUUcFYDHUeD",
        "colab_type": "text"
      },
      "source": [
        "### Split each lender for each loan"
      ]
    },
    {
      "cell_type": "code",
      "metadata": {
        "id": "qeZeYsGHBUup",
        "colab_type": "code",
        "outputId": "feb87723-9e7c-400d-9aa9-e85ff50e3192",
        "colab": {
          "base_uri": "https://localhost:8080/",
          "height": 34
        }
      },
      "source": [
        "loans_lender[\"lenders\"]=loans_lender[\"lenders\"].str.split(', ') #creazione lista per ogni riga\n",
        "loans_lender_norm=loans_lender.explode('lenders') #trasformazione ogni elemento della lista come una riga"
      ],
      "execution_count": 7,
      "outputs": [
        {
          "output_type": "stream",
          "text": [
            "time: 18.6 s\n"
          ],
          "name": "stdout"
        }
      ]
    },
    {
      "cell_type": "code",
      "metadata": {
        "id": "dAMLx8OKAiNY",
        "colab_type": "code",
        "outputId": "46b6e3f7-c18c-4378-88c5-570cae745a7b",
        "colab": {
          "base_uri": "https://localhost:8080/",
          "height": 34
        }
      },
      "source": [
        "loans_lender_norm=loans_lender_norm.reset_index(drop=True)"
      ],
      "execution_count": 8,
      "outputs": [
        {
          "output_type": "stream",
          "text": [
            "time: 519 ms\n"
          ],
          "name": "stdout"
        }
      ]
    },
    {
      "cell_type": "markdown",
      "metadata": {
        "id": "APH26ZJ3D5l-",
        "colab_type": "text"
      },
      "source": [
        "### _Result_"
      ]
    },
    {
      "cell_type": "code",
      "metadata": {
        "id": "RrsCO8-mCJmi",
        "colab_type": "code",
        "outputId": "aa6981e6-2670-46bd-ec95-b85d563eefdb",
        "colab": {
          "base_uri": "https://localhost:8080/",
          "height": 212
        }
      },
      "source": [
        "loans_lender_norm.head()"
      ],
      "execution_count": 9,
      "outputs": [
        {
          "output_type": "execute_result",
          "data": {
            "text/html": [
              "<div>\n",
              "<style scoped>\n",
              "    .dataframe tbody tr th:only-of-type {\n",
              "        vertical-align: middle;\n",
              "    }\n",
              "\n",
              "    .dataframe tbody tr th {\n",
              "        vertical-align: top;\n",
              "    }\n",
              "\n",
              "    .dataframe thead th {\n",
              "        text-align: right;\n",
              "    }\n",
              "</style>\n",
              "<table border=\"1\" class=\"dataframe\">\n",
              "  <thead>\n",
              "    <tr style=\"text-align: right;\">\n",
              "      <th></th>\n",
              "      <th>loan_id</th>\n",
              "      <th>lenders</th>\n",
              "    </tr>\n",
              "  </thead>\n",
              "  <tbody>\n",
              "    <tr>\n",
              "      <th>0</th>\n",
              "      <td>483693</td>\n",
              "      <td>muc888</td>\n",
              "    </tr>\n",
              "    <tr>\n",
              "      <th>1</th>\n",
              "      <td>483693</td>\n",
              "      <td>sam4326</td>\n",
              "    </tr>\n",
              "    <tr>\n",
              "      <th>2</th>\n",
              "      <td>483693</td>\n",
              "      <td>camaran3922</td>\n",
              "    </tr>\n",
              "    <tr>\n",
              "      <th>3</th>\n",
              "      <td>483693</td>\n",
              "      <td>lachheb1865</td>\n",
              "    </tr>\n",
              "    <tr>\n",
              "      <th>4</th>\n",
              "      <td>483693</td>\n",
              "      <td>rebecca3499</td>\n",
              "    </tr>\n",
              "  </tbody>\n",
              "</table>\n",
              "</div>"
            ],
            "text/plain": [
              "   loan_id      lenders\n",
              "0   483693       muc888\n",
              "1   483693      sam4326\n",
              "2   483693  camaran3922\n",
              "3   483693  lachheb1865\n",
              "4   483693  rebecca3499"
            ]
          },
          "metadata": {
            "tags": []
          },
          "execution_count": 9
        },
        {
          "output_type": "stream",
          "text": [
            "time: 10.6 ms\n"
          ],
          "name": "stdout"
        }
      ]
    },
    {
      "cell_type": "markdown",
      "metadata": {
        "id": "YZbRGXk2DZKq",
        "colab_type": "text"
      },
      "source": [
        "## Task2\n",
        "- For each loan, add a column duration corresponding to the number of days between the disburse time and the planned expiration time. If any of those two dates is missing, also the duration must be missing."
      ]
    },
    {
      "cell_type": "markdown",
      "metadata": {
        "id": "8hizSkn5LXfV",
        "colab_type": "text"
      },
      "source": [
        "### Load csv (loans)"
      ]
    },
    {
      "cell_type": "code",
      "metadata": {
        "id": "wOJrqF4kDc-U",
        "colab_type": "code",
        "outputId": "c034fa73-2748-4d73-b7da-52ba190c07da",
        "colab": {
          "base_uri": "https://localhost:8080/",
          "height": 34
        }
      },
      "source": [
        "loan = pd.read_csv('/content/drive/My Drive/Foundation of computer science/additional-kiva-snapshot/loans.csv')"
      ],
      "execution_count": 10,
      "outputs": [
        {
          "output_type": "stream",
          "text": [
            "time: 33.1 s\n"
          ],
          "name": "stdout"
        }
      ]
    },
    {
      "cell_type": "markdown",
      "metadata": {
        "id": "09Mreg75A6Un",
        "colab_type": "text"
      },
      "source": [
        "_Overview_"
      ]
    },
    {
      "cell_type": "code",
      "metadata": {
        "id": "nxlPKclPFppe",
        "colab_type": "code",
        "outputId": "606a4c89-b457-42b7-f315-83be74002344",
        "colab": {
          "base_uri": "https://localhost:8080/",
          "height": 554
        }
      },
      "source": [
        "loan.dtypes"
      ],
      "execution_count": 11,
      "outputs": [
        {
          "output_type": "execute_result",
          "data": {
            "text/plain": [
              "loan_id                              int64\n",
              "loan_name                           object\n",
              "original_language                   object\n",
              "description                         object\n",
              "description_translated              object\n",
              "funded_amount                      float64\n",
              "loan_amount                        float64\n",
              "status                              object\n",
              "activity_name                       object\n",
              "sector_name                         object\n",
              "loan_use                            object\n",
              "country_code                        object\n",
              "country_name                        object\n",
              "town_name                           object\n",
              "currency_policy                     object\n",
              "currency_exchange_coverage_rate    float64\n",
              "currency                            object\n",
              "partner_id                         float64\n",
              "posted_time                         object\n",
              "planned_expiration_time             object\n",
              "disburse_time                       object\n",
              "raised_time                         object\n",
              "lender_term                        float64\n",
              "num_lenders_total                    int64\n",
              "num_journal_entries                  int64\n",
              "num_bulk_entries                     int64\n",
              "tags                                object\n",
              "borrower_genders                    object\n",
              "borrower_pictured                   object\n",
              "repayment_interval                  object\n",
              "distribution_model                  object\n",
              "dtype: object"
            ]
          },
          "metadata": {
            "tags": []
          },
          "execution_count": 11
        },
        {
          "output_type": "stream",
          "text": [
            "time: 6.44 ms\n"
          ],
          "name": "stdout"
        }
      ]
    },
    {
      "cell_type": "code",
      "metadata": {
        "id": "64UhvtJ7BcV_",
        "colab_type": "code",
        "outputId": "d2fbe20d-e0f4-4114-b474-159b9ba3fae5",
        "colab": {
          "base_uri": "https://localhost:8080/",
          "height": 602
        }
      },
      "source": [
        "print('Number rows total: '+str(len(loan)))\n",
        "loan.head()"
      ],
      "execution_count": 12,
      "outputs": [
        {
          "output_type": "stream",
          "text": [
            "Number rows total: 1419607\n"
          ],
          "name": "stdout"
        },
        {
          "output_type": "execute_result",
          "data": {
            "text/html": [
              "<div>\n",
              "<style scoped>\n",
              "    .dataframe tbody tr th:only-of-type {\n",
              "        vertical-align: middle;\n",
              "    }\n",
              "\n",
              "    .dataframe tbody tr th {\n",
              "        vertical-align: top;\n",
              "    }\n",
              "\n",
              "    .dataframe thead th {\n",
              "        text-align: right;\n",
              "    }\n",
              "</style>\n",
              "<table border=\"1\" class=\"dataframe\">\n",
              "  <thead>\n",
              "    <tr style=\"text-align: right;\">\n",
              "      <th></th>\n",
              "      <th>loan_id</th>\n",
              "      <th>loan_name</th>\n",
              "      <th>original_language</th>\n",
              "      <th>description</th>\n",
              "      <th>description_translated</th>\n",
              "      <th>funded_amount</th>\n",
              "      <th>loan_amount</th>\n",
              "      <th>status</th>\n",
              "      <th>activity_name</th>\n",
              "      <th>sector_name</th>\n",
              "      <th>loan_use</th>\n",
              "      <th>country_code</th>\n",
              "      <th>country_name</th>\n",
              "      <th>town_name</th>\n",
              "      <th>currency_policy</th>\n",
              "      <th>currency_exchange_coverage_rate</th>\n",
              "      <th>currency</th>\n",
              "      <th>partner_id</th>\n",
              "      <th>posted_time</th>\n",
              "      <th>planned_expiration_time</th>\n",
              "      <th>disburse_time</th>\n",
              "      <th>raised_time</th>\n",
              "      <th>lender_term</th>\n",
              "      <th>num_lenders_total</th>\n",
              "      <th>num_journal_entries</th>\n",
              "      <th>num_bulk_entries</th>\n",
              "      <th>tags</th>\n",
              "      <th>borrower_genders</th>\n",
              "      <th>borrower_pictured</th>\n",
              "      <th>repayment_interval</th>\n",
              "      <th>distribution_model</th>\n",
              "    </tr>\n",
              "  </thead>\n",
              "  <tbody>\n",
              "    <tr>\n",
              "      <th>0</th>\n",
              "      <td>657307</td>\n",
              "      <td>Aivy</td>\n",
              "      <td>English</td>\n",
              "      <td>Aivy, 21 years of age, is single and lives in ...</td>\n",
              "      <td>NaN</td>\n",
              "      <td>125.0</td>\n",
              "      <td>125.0</td>\n",
              "      <td>funded</td>\n",
              "      <td>General Store</td>\n",
              "      <td>Retail</td>\n",
              "      <td>to buy additional inventories for her sari-sa...</td>\n",
              "      <td>PH</td>\n",
              "      <td>Philippines</td>\n",
              "      <td>Ozamiz - Ozamiz City</td>\n",
              "      <td>shared</td>\n",
              "      <td>0.1</td>\n",
              "      <td>PHP</td>\n",
              "      <td>126.0</td>\n",
              "      <td>2014-01-15 02:23:45.000 +0000</td>\n",
              "      <td>2014-02-14 03:30:06.000 +0000</td>\n",
              "      <td>2013-12-22 08:00:00.000 +0000</td>\n",
              "      <td>2014-01-15 04:48:22.000 +0000</td>\n",
              "      <td>7.0</td>\n",
              "      <td>3</td>\n",
              "      <td>2</td>\n",
              "      <td>1</td>\n",
              "      <td>NaN</td>\n",
              "      <td>female</td>\n",
              "      <td>true</td>\n",
              "      <td>irregular</td>\n",
              "      <td>field_partner</td>\n",
              "    </tr>\n",
              "    <tr>\n",
              "      <th>1</th>\n",
              "      <td>657259</td>\n",
              "      <td>Idalia Marizza</td>\n",
              "      <td>Spanish</td>\n",
              "      <td>Doña Idalia, esta casada, tiene 57 años de eda...</td>\n",
              "      <td>Idalia, 57, is married and lives with her husb...</td>\n",
              "      <td>400.0</td>\n",
              "      <td>400.0</td>\n",
              "      <td>funded</td>\n",
              "      <td>Used Clothing</td>\n",
              "      <td>Clothing</td>\n",
              "      <td>To buy American clothing such as blouses, shir...</td>\n",
              "      <td>HN</td>\n",
              "      <td>Honduras</td>\n",
              "      <td>La Lopez, Choloma</td>\n",
              "      <td>shared</td>\n",
              "      <td>0.1</td>\n",
              "      <td>HNL</td>\n",
              "      <td>201.0</td>\n",
              "      <td>2014-01-14 20:23:20.000 +0000</td>\n",
              "      <td>2014-03-26 22:25:07.000 +0000</td>\n",
              "      <td>2013-12-20 08:00:00.000 +0000</td>\n",
              "      <td>2014-02-25 06:42:06.000 +0000</td>\n",
              "      <td>8.0</td>\n",
              "      <td>11</td>\n",
              "      <td>2</td>\n",
              "      <td>1</td>\n",
              "      <td>NaN</td>\n",
              "      <td>female</td>\n",
              "      <td>true</td>\n",
              "      <td>monthly</td>\n",
              "      <td>field_partner</td>\n",
              "    </tr>\n",
              "    <tr>\n",
              "      <th>2</th>\n",
              "      <td>658010</td>\n",
              "      <td>Aasia</td>\n",
              "      <td>English</td>\n",
              "      <td>Aasia is a 45-year-old married lady and she ha...</td>\n",
              "      <td>NaN</td>\n",
              "      <td>400.0</td>\n",
              "      <td>400.0</td>\n",
              "      <td>funded</td>\n",
              "      <td>General Store</td>\n",
              "      <td>Retail</td>\n",
              "      <td>to buy stock of rice, sugar and flour</td>\n",
              "      <td>PK</td>\n",
              "      <td>Pakistan</td>\n",
              "      <td>Lala Musa</td>\n",
              "      <td>shared</td>\n",
              "      <td>0.1</td>\n",
              "      <td>PKR</td>\n",
              "      <td>245.0</td>\n",
              "      <td>2014-01-16 11:32:58.000 +0000</td>\n",
              "      <td>2014-02-15 21:10:05.000 +0000</td>\n",
              "      <td>2014-01-09 08:00:00.000 +0000</td>\n",
              "      <td>2014-01-24 23:06:18.000 +0000</td>\n",
              "      <td>14.0</td>\n",
              "      <td>16</td>\n",
              "      <td>2</td>\n",
              "      <td>1</td>\n",
              "      <td>#Woman Owned Biz, #Supporting Family, user_fav...</td>\n",
              "      <td>female</td>\n",
              "      <td>true</td>\n",
              "      <td>monthly</td>\n",
              "      <td>field_partner</td>\n",
              "    </tr>\n",
              "    <tr>\n",
              "      <th>3</th>\n",
              "      <td>659347</td>\n",
              "      <td>Gulmira</td>\n",
              "      <td>Russian</td>\n",
              "      <td>Гулмире 36 лет, замужем, вместе с супругом вос...</td>\n",
              "      <td>Gulmira is 36 years old and married.  She and ...</td>\n",
              "      <td>625.0</td>\n",
              "      <td>625.0</td>\n",
              "      <td>funded</td>\n",
              "      <td>Farming</td>\n",
              "      <td>Agriculture</td>\n",
              "      <td>to buy cucumber and tomato seeds, as well as f...</td>\n",
              "      <td>KG</td>\n",
              "      <td>Kyrgyzstan</td>\n",
              "      <td>Aravan village, Osh region</td>\n",
              "      <td>shared</td>\n",
              "      <td>0.1</td>\n",
              "      <td>KGS</td>\n",
              "      <td>171.0</td>\n",
              "      <td>2014-01-20 09:59:48.000 +0000</td>\n",
              "      <td>2014-02-21 03:10:02.000 +0000</td>\n",
              "      <td>2014-01-17 08:00:00.000 +0000</td>\n",
              "      <td>2014-01-22 05:29:28.000 +0000</td>\n",
              "      <td>14.0</td>\n",
              "      <td>21</td>\n",
              "      <td>2</td>\n",
              "      <td>1</td>\n",
              "      <td>user_favorite</td>\n",
              "      <td>female</td>\n",
              "      <td>true</td>\n",
              "      <td>monthly</td>\n",
              "      <td>field_partner</td>\n",
              "    </tr>\n",
              "    <tr>\n",
              "      <th>4</th>\n",
              "      <td>656933</td>\n",
              "      <td>Ricky\\t</td>\n",
              "      <td>English</td>\n",
              "      <td>Ricky is a farmer who currently cultivates his...</td>\n",
              "      <td>NaN</td>\n",
              "      <td>425.0</td>\n",
              "      <td>425.0</td>\n",
              "      <td>funded</td>\n",
              "      <td>Farming</td>\n",
              "      <td>Agriculture</td>\n",
              "      <td>to buy organic fertilizer and agrochemical pr...</td>\n",
              "      <td>PH</td>\n",
              "      <td>Philippines</td>\n",
              "      <td>Baleleng, Sto. Thomas, Isabela</td>\n",
              "      <td>shared</td>\n",
              "      <td>0.1</td>\n",
              "      <td>PHP</td>\n",
              "      <td>123.0</td>\n",
              "      <td>2014-01-14 05:46:21.000 +0000</td>\n",
              "      <td>2014-02-13 06:10:02.000 +0000</td>\n",
              "      <td>2013-12-17 08:00:00.000 +0000</td>\n",
              "      <td>2014-01-14 17:29:27.000 +0000</td>\n",
              "      <td>7.0</td>\n",
              "      <td>15</td>\n",
              "      <td>2</td>\n",
              "      <td>1</td>\n",
              "      <td>#Animals, #Eco-friendly, #Sustainable Ag</td>\n",
              "      <td>male</td>\n",
              "      <td>true</td>\n",
              "      <td>bullet</td>\n",
              "      <td>field_partner</td>\n",
              "    </tr>\n",
              "  </tbody>\n",
              "</table>\n",
              "</div>"
            ],
            "text/plain": [
              "   loan_id       loan_name  ... repayment_interval distribution_model\n",
              "0   657307            Aivy  ...          irregular      field_partner\n",
              "1   657259  Idalia Marizza  ...            monthly      field_partner\n",
              "2   658010           Aasia  ...            monthly      field_partner\n",
              "3   659347         Gulmira  ...            monthly      field_partner\n",
              "4   656933         Ricky\\t  ...             bullet      field_partner\n",
              "\n",
              "[5 rows x 31 columns]"
            ]
          },
          "metadata": {
            "tags": []
          },
          "execution_count": 12
        },
        {
          "output_type": "stream",
          "text": [
            "time: 66.5 ms\n"
          ],
          "name": "stdout"
        }
      ]
    },
    {
      "cell_type": "markdown",
      "metadata": {
        "id": "J-5FlPjEooYP",
        "colab_type": "text"
      },
      "source": [
        "### Check missing values"
      ]
    },
    {
      "cell_type": "code",
      "metadata": {
        "id": "cZCHUpNRarl2",
        "colab_type": "code",
        "outputId": "73e77229-d29b-4fe1-cf38-c0f95f422d6f",
        "colab": {
          "base_uri": "https://localhost:8080/",
          "height": 34
        }
      },
      "source": [
        "missing_loan_expiration = pd.isnull(loan[['planned_expiration_time']])\n",
        "missing_loan_disburse = pd.isnull(loan[['disburse_time']])"
      ],
      "execution_count": 13,
      "outputs": [
        {
          "output_type": "stream",
          "text": [
            "time: 154 ms\n"
          ],
          "name": "stdout"
        }
      ]
    },
    {
      "cell_type": "code",
      "metadata": {
        "id": "K39I0iLPREhe",
        "colab_type": "code",
        "outputId": "0b259b33-114a-4435-b13f-1f9eb6d2134e",
        "colab": {
          "base_uri": "https://localhost:8080/",
          "height": 34
        }
      },
      "source": [
        "missing_loan_index_e = missing_loan_expiration[missing_loan_expiration['planned_expiration_time']==True].index\n",
        "missing_loan_index_d = missing_loan_disburse[missing_loan_disburse['disburse_time']==True].index"
      ],
      "execution_count": 14,
      "outputs": [
        {
          "output_type": "stream",
          "text": [
            "time: 20 ms\n"
          ],
          "name": "stdout"
        }
      ]
    },
    {
      "cell_type": "code",
      "metadata": {
        "id": "xL_ZQf3sV72I",
        "colab_type": "code",
        "outputId": "728951da-cb3b-47d5-d7bb-02337a22f187",
        "colab": {
          "base_uri": "https://localhost:8080/",
          "height": 67
        }
      },
      "source": [
        "print('Number rows which have nan values planned_expiration_time: '+str(len(missing_loan_index_e)))\n",
        "print('Number rows which have nan values disburse_time: '+str(len(missing_loan_index_d)))"
      ],
      "execution_count": 15,
      "outputs": [
        {
          "output_type": "stream",
          "text": [
            "Number rows which have nan values planned_expiration_time: 371834\n",
            "Number rows which have nan values disburse_time: 2813\n",
            "time: 1.77 ms\n"
          ],
          "name": "stdout"
        }
      ]
    },
    {
      "cell_type": "code",
      "metadata": {
        "id": "oRZtAejQRo-U",
        "colab_type": "code",
        "outputId": "e287c0e4-76b8-4ece-d932-c9143f2144a9",
        "colab": {
          "base_uri": "https://localhost:8080/",
          "height": 34
        }
      },
      "source": [
        "missing_loan_index = missing_loan_index_e.union(missing_loan_index_d) #union indici nan disburse e nan expiration"
      ],
      "execution_count": 16,
      "outputs": [
        {
          "output_type": "stream",
          "text": [
            "time: 6.45 ms\n"
          ],
          "name": "stdout"
        }
      ]
    },
    {
      "cell_type": "code",
      "metadata": {
        "id": "bk9w0m7l69z7",
        "colab_type": "code",
        "outputId": "19ba942e-d24c-4b59-e63b-c44b65f32196",
        "colab": {
          "base_uri": "https://localhost:8080/",
          "height": 118
        }
      },
      "source": [
        "missing_loan_index"
      ],
      "execution_count": 17,
      "outputs": [
        {
          "output_type": "execute_result",
          "data": {
            "text/plain": [
              "Int64Index([     64,      65,      66,      67,      69,      70,     133,\n",
              "                134,     135,     136,\n",
              "            ...\n",
              "            1419219, 1419345, 1419505, 1419506, 1419522, 1419523, 1419524,\n",
              "            1419525, 1419538, 1419564],\n",
              "           dtype='int64', length=374645)"
            ]
          },
          "metadata": {
            "tags": []
          },
          "execution_count": 17
        },
        {
          "output_type": "stream",
          "text": [
            "time: 3.27 ms\n"
          ],
          "name": "stdout"
        }
      ]
    },
    {
      "cell_type": "code",
      "metadata": {
        "id": "17weT9aMC30j",
        "colab_type": "code",
        "outputId": "41f02652-1dbb-407b-a239-e7c90d8bc9f3",
        "colab": {
          "base_uri": "https://localhost:8080/",
          "height": 418
        }
      },
      "source": [
        "loan.loc[missing_loan_index][['planned_expiration_time','disburse_time']]"
      ],
      "execution_count": 18,
      "outputs": [
        {
          "output_type": "execute_result",
          "data": {
            "text/html": [
              "<div>\n",
              "<style scoped>\n",
              "    .dataframe tbody tr th:only-of-type {\n",
              "        vertical-align: middle;\n",
              "    }\n",
              "\n",
              "    .dataframe tbody tr th {\n",
              "        vertical-align: top;\n",
              "    }\n",
              "\n",
              "    .dataframe thead th {\n",
              "        text-align: right;\n",
              "    }\n",
              "</style>\n",
              "<table border=\"1\" class=\"dataframe\">\n",
              "  <thead>\n",
              "    <tr style=\"text-align: right;\">\n",
              "      <th></th>\n",
              "      <th>planned_expiration_time</th>\n",
              "      <th>disburse_time</th>\n",
              "    </tr>\n",
              "  </thead>\n",
              "  <tbody>\n",
              "    <tr>\n",
              "      <th>64</th>\n",
              "      <td>NaN</td>\n",
              "      <td>2010-11-18 08:00:00.000 +0000</td>\n",
              "    </tr>\n",
              "    <tr>\n",
              "      <th>65</th>\n",
              "      <td>NaN</td>\n",
              "      <td>2010-11-25 08:00:00.000 +0000</td>\n",
              "    </tr>\n",
              "    <tr>\n",
              "      <th>66</th>\n",
              "      <td>NaN</td>\n",
              "      <td>2010-11-25 08:00:00.000 +0000</td>\n",
              "    </tr>\n",
              "    <tr>\n",
              "      <th>67</th>\n",
              "      <td>NaN</td>\n",
              "      <td>2010-11-16 08:00:00.000 +0000</td>\n",
              "    </tr>\n",
              "    <tr>\n",
              "      <th>69</th>\n",
              "      <td>NaN</td>\n",
              "      <td>2010-11-10 08:00:00.000 +0000</td>\n",
              "    </tr>\n",
              "    <tr>\n",
              "      <th>...</th>\n",
              "      <td>...</td>\n",
              "      <td>...</td>\n",
              "    </tr>\n",
              "    <tr>\n",
              "      <th>1419523</th>\n",
              "      <td>NaN</td>\n",
              "      <td>2005-04-14 05:27:55.000 +0000</td>\n",
              "    </tr>\n",
              "    <tr>\n",
              "      <th>1419524</th>\n",
              "      <td>2017-02-09 23:07:54.000 +0000</td>\n",
              "      <td>NaN</td>\n",
              "    </tr>\n",
              "    <tr>\n",
              "      <th>1419525</th>\n",
              "      <td>2015-09-21 08:06:19.000 +0000</td>\n",
              "      <td>NaN</td>\n",
              "    </tr>\n",
              "    <tr>\n",
              "      <th>1419538</th>\n",
              "      <td>2017-02-25 20:21:21.000 +0000</td>\n",
              "      <td>NaN</td>\n",
              "    </tr>\n",
              "    <tr>\n",
              "      <th>1419564</th>\n",
              "      <td>2016-09-30 18:49:53.000 +0000</td>\n",
              "      <td>NaN</td>\n",
              "    </tr>\n",
              "  </tbody>\n",
              "</table>\n",
              "<p>374645 rows × 2 columns</p>\n",
              "</div>"
            ],
            "text/plain": [
              "               planned_expiration_time                  disburse_time\n",
              "64                                 NaN  2010-11-18 08:00:00.000 +0000\n",
              "65                                 NaN  2010-11-25 08:00:00.000 +0000\n",
              "66                                 NaN  2010-11-25 08:00:00.000 +0000\n",
              "67                                 NaN  2010-11-16 08:00:00.000 +0000\n",
              "69                                 NaN  2010-11-10 08:00:00.000 +0000\n",
              "...                                ...                            ...\n",
              "1419523                            NaN  2005-04-14 05:27:55.000 +0000\n",
              "1419524  2017-02-09 23:07:54.000 +0000                            NaN\n",
              "1419525  2015-09-21 08:06:19.000 +0000                            NaN\n",
              "1419538  2017-02-25 20:21:21.000 +0000                            NaN\n",
              "1419564  2016-09-30 18:49:53.000 +0000                            NaN\n",
              "\n",
              "[374645 rows x 2 columns]"
            ]
          },
          "metadata": {
            "tags": []
          },
          "execution_count": 18
        },
        {
          "output_type": "stream",
          "text": [
            "time: 222 ms\n"
          ],
          "name": "stdout"
        }
      ]
    },
    {
      "cell_type": "markdown",
      "metadata": {
        "id": "VCwDEftFpehQ",
        "colab_type": "text"
      },
      "source": [
        "### Conversion attributes _planned_expiration_time_, _disburse_time_ to _Datetime_"
      ]
    },
    {
      "cell_type": "code",
      "metadata": {
        "id": "ojZHY5BZgzAY",
        "colab_type": "code",
        "outputId": "134bf735-0478-4d3c-91a2-0d6932b194b9",
        "colab": {
          "base_uri": "https://localhost:8080/",
          "height": 34
        }
      },
      "source": [
        "loan['planned_expiration_time'] = pd.to_datetime(loan.loc[:,'planned_expiration_time'])\n",
        "loan['disburse_time'] = pd.to_datetime(loan.loc[:,'disburse_time'])"
      ],
      "execution_count": 19,
      "outputs": [
        {
          "output_type": "stream",
          "text": [
            "time: 1.47 s\n"
          ],
          "name": "stdout"
        }
      ]
    },
    {
      "cell_type": "code",
      "metadata": {
        "id": "n9ejOsHWFp4a",
        "colab_type": "code",
        "outputId": "3aad951a-99e6-474a-da2b-89e8de3e0719",
        "colab": {
          "base_uri": "https://localhost:8080/",
          "height": 67
        }
      },
      "source": [
        "missing = loan.loc[missing_loan_index]\n",
        "print('Number rows missing: '+str(len(missing)))\n",
        "print('Ratio missing: '+str(len(missing) / len(loan)))"
      ],
      "execution_count": 20,
      "outputs": [
        {
          "output_type": "stream",
          "text": [
            "Number rows missing: 374645\n",
            "Ratio missing: 0.26390754624343216\n",
            "time: 156 ms\n"
          ],
          "name": "stdout"
        }
      ]
    },
    {
      "cell_type": "markdown",
      "metadata": {
        "id": "WWhangtDfGEA",
        "colab_type": "text"
      },
      "source": [
        "### Compute difference between _planned_expiration_time_ and _disburse_time_"
      ]
    },
    {
      "cell_type": "code",
      "metadata": {
        "id": "7OFOFc7ehLd1",
        "colab_type": "code",
        "outputId": "8fac5b4f-19a6-43e7-a45d-d744a997b10e",
        "colab": {
          "base_uri": "https://localhost:8080/",
          "height": 34
        }
      },
      "source": [
        "loan['duration'] = loan['planned_expiration_time']- loan['disburse_time'] #si ottiene oggetto timedelta"
      ],
      "execution_count": 21,
      "outputs": [
        {
          "output_type": "stream",
          "text": [
            "time: 28.6 ms\n"
          ],
          "name": "stdout"
        }
      ]
    },
    {
      "cell_type": "code",
      "metadata": {
        "id": "ciCJMVX5m0uk",
        "colab_type": "code",
        "outputId": "04b39955-edcb-4c35-99a8-07644582083d",
        "colab": {
          "base_uri": "https://localhost:8080/",
          "height": 34
        }
      },
      "source": [
        "loan['duration'] = loan.apply(lambda x: x['duration'].days,axis=1)"
      ],
      "execution_count": 22,
      "outputs": [
        {
          "output_type": "stream",
          "text": [
            "time: 2min 40s\n"
          ],
          "name": "stdout"
        }
      ]
    },
    {
      "cell_type": "markdown",
      "metadata": {
        "id": "v1E4esXdQzYj",
        "colab_type": "text"
      },
      "source": [
        "### _Result_"
      ]
    },
    {
      "cell_type": "code",
      "metadata": {
        "id": "ksaM8dHyycQk",
        "colab_type": "code",
        "outputId": "6cf14806-8329-4610-acfb-ed425b41fad2",
        "colab": {
          "base_uri": "https://localhost:8080/",
          "height": 212
        }
      },
      "source": [
        "loan.head()[['planned_expiration_time','disburse_time','duration']]"
      ],
      "execution_count": 23,
      "outputs": [
        {
          "output_type": "execute_result",
          "data": {
            "text/html": [
              "<div>\n",
              "<style scoped>\n",
              "    .dataframe tbody tr th:only-of-type {\n",
              "        vertical-align: middle;\n",
              "    }\n",
              "\n",
              "    .dataframe tbody tr th {\n",
              "        vertical-align: top;\n",
              "    }\n",
              "\n",
              "    .dataframe thead th {\n",
              "        text-align: right;\n",
              "    }\n",
              "</style>\n",
              "<table border=\"1\" class=\"dataframe\">\n",
              "  <thead>\n",
              "    <tr style=\"text-align: right;\">\n",
              "      <th></th>\n",
              "      <th>planned_expiration_time</th>\n",
              "      <th>disburse_time</th>\n",
              "      <th>duration</th>\n",
              "    </tr>\n",
              "  </thead>\n",
              "  <tbody>\n",
              "    <tr>\n",
              "      <th>0</th>\n",
              "      <td>2014-02-14 03:30:06+00:00</td>\n",
              "      <td>2013-12-22 08:00:00+00:00</td>\n",
              "      <td>53.0</td>\n",
              "    </tr>\n",
              "    <tr>\n",
              "      <th>1</th>\n",
              "      <td>2014-03-26 22:25:07+00:00</td>\n",
              "      <td>2013-12-20 08:00:00+00:00</td>\n",
              "      <td>96.0</td>\n",
              "    </tr>\n",
              "    <tr>\n",
              "      <th>2</th>\n",
              "      <td>2014-02-15 21:10:05+00:00</td>\n",
              "      <td>2014-01-09 08:00:00+00:00</td>\n",
              "      <td>37.0</td>\n",
              "    </tr>\n",
              "    <tr>\n",
              "      <th>3</th>\n",
              "      <td>2014-02-21 03:10:02+00:00</td>\n",
              "      <td>2014-01-17 08:00:00+00:00</td>\n",
              "      <td>34.0</td>\n",
              "    </tr>\n",
              "    <tr>\n",
              "      <th>4</th>\n",
              "      <td>2014-02-13 06:10:02+00:00</td>\n",
              "      <td>2013-12-17 08:00:00+00:00</td>\n",
              "      <td>57.0</td>\n",
              "    </tr>\n",
              "  </tbody>\n",
              "</table>\n",
              "</div>"
            ],
            "text/plain": [
              "    planned_expiration_time             disburse_time  duration\n",
              "0 2014-02-14 03:30:06+00:00 2013-12-22 08:00:00+00:00      53.0\n",
              "1 2014-03-26 22:25:07+00:00 2013-12-20 08:00:00+00:00      96.0\n",
              "2 2014-02-15 21:10:05+00:00 2014-01-09 08:00:00+00:00      37.0\n",
              "3 2014-02-21 03:10:02+00:00 2014-01-17 08:00:00+00:00      34.0\n",
              "4 2014-02-13 06:10:02+00:00 2013-12-17 08:00:00+00:00      57.0"
            ]
          },
          "metadata": {
            "tags": []
          },
          "execution_count": 23
        },
        {
          "output_type": "stream",
          "text": [
            "time: 16.8 ms\n"
          ],
          "name": "stdout"
        }
      ]
    },
    {
      "cell_type": "code",
      "metadata": {
        "id": "zRokw7YFYAxm",
        "colab_type": "code",
        "outputId": "90d5d6c5-8aa4-4ad1-93ab-9ec33630f324",
        "colab": {
          "base_uri": "https://localhost:8080/",
          "height": 418
        }
      },
      "source": [
        "loan.loc[missing_loan_index][['planned_expiration_time','disburse_time','duration']]"
      ],
      "execution_count": 24,
      "outputs": [
        {
          "output_type": "execute_result",
          "data": {
            "text/html": [
              "<div>\n",
              "<style scoped>\n",
              "    .dataframe tbody tr th:only-of-type {\n",
              "        vertical-align: middle;\n",
              "    }\n",
              "\n",
              "    .dataframe tbody tr th {\n",
              "        vertical-align: top;\n",
              "    }\n",
              "\n",
              "    .dataframe thead th {\n",
              "        text-align: right;\n",
              "    }\n",
              "</style>\n",
              "<table border=\"1\" class=\"dataframe\">\n",
              "  <thead>\n",
              "    <tr style=\"text-align: right;\">\n",
              "      <th></th>\n",
              "      <th>planned_expiration_time</th>\n",
              "      <th>disburse_time</th>\n",
              "      <th>duration</th>\n",
              "    </tr>\n",
              "  </thead>\n",
              "  <tbody>\n",
              "    <tr>\n",
              "      <th>64</th>\n",
              "      <td>NaT</td>\n",
              "      <td>2010-11-18 08:00:00+00:00</td>\n",
              "      <td>NaN</td>\n",
              "    </tr>\n",
              "    <tr>\n",
              "      <th>65</th>\n",
              "      <td>NaT</td>\n",
              "      <td>2010-11-25 08:00:00+00:00</td>\n",
              "      <td>NaN</td>\n",
              "    </tr>\n",
              "    <tr>\n",
              "      <th>66</th>\n",
              "      <td>NaT</td>\n",
              "      <td>2010-11-25 08:00:00+00:00</td>\n",
              "      <td>NaN</td>\n",
              "    </tr>\n",
              "    <tr>\n",
              "      <th>67</th>\n",
              "      <td>NaT</td>\n",
              "      <td>2010-11-16 08:00:00+00:00</td>\n",
              "      <td>NaN</td>\n",
              "    </tr>\n",
              "    <tr>\n",
              "      <th>69</th>\n",
              "      <td>NaT</td>\n",
              "      <td>2010-11-10 08:00:00+00:00</td>\n",
              "      <td>NaN</td>\n",
              "    </tr>\n",
              "    <tr>\n",
              "      <th>...</th>\n",
              "      <td>...</td>\n",
              "      <td>...</td>\n",
              "      <td>...</td>\n",
              "    </tr>\n",
              "    <tr>\n",
              "      <th>1419523</th>\n",
              "      <td>NaT</td>\n",
              "      <td>2005-04-14 05:27:55+00:00</td>\n",
              "      <td>NaN</td>\n",
              "    </tr>\n",
              "    <tr>\n",
              "      <th>1419524</th>\n",
              "      <td>2017-02-09 23:07:54+00:00</td>\n",
              "      <td>NaT</td>\n",
              "      <td>NaN</td>\n",
              "    </tr>\n",
              "    <tr>\n",
              "      <th>1419525</th>\n",
              "      <td>2015-09-21 08:06:19+00:00</td>\n",
              "      <td>NaT</td>\n",
              "      <td>NaN</td>\n",
              "    </tr>\n",
              "    <tr>\n",
              "      <th>1419538</th>\n",
              "      <td>2017-02-25 20:21:21+00:00</td>\n",
              "      <td>NaT</td>\n",
              "      <td>NaN</td>\n",
              "    </tr>\n",
              "    <tr>\n",
              "      <th>1419564</th>\n",
              "      <td>2016-09-30 18:49:53+00:00</td>\n",
              "      <td>NaT</td>\n",
              "      <td>NaN</td>\n",
              "    </tr>\n",
              "  </tbody>\n",
              "</table>\n",
              "<p>374645 rows × 3 columns</p>\n",
              "</div>"
            ],
            "text/plain": [
              "          planned_expiration_time             disburse_time  duration\n",
              "64                            NaT 2010-11-18 08:00:00+00:00       NaN\n",
              "65                            NaT 2010-11-25 08:00:00+00:00       NaN\n",
              "66                            NaT 2010-11-25 08:00:00+00:00       NaN\n",
              "67                            NaT 2010-11-16 08:00:00+00:00       NaN\n",
              "69                            NaT 2010-11-10 08:00:00+00:00       NaN\n",
              "...                           ...                       ...       ...\n",
              "1419523                       NaT 2005-04-14 05:27:55+00:00       NaN\n",
              "1419524 2017-02-09 23:07:54+00:00                       NaT       NaN\n",
              "1419525 2015-09-21 08:06:19+00:00                       NaT       NaN\n",
              "1419538 2017-02-25 20:21:21+00:00                       NaT       NaN\n",
              "1419564 2016-09-30 18:49:53+00:00                       NaT       NaN\n",
              "\n",
              "[374645 rows x 3 columns]"
            ]
          },
          "metadata": {
            "tags": []
          },
          "execution_count": 24
        },
        {
          "output_type": "stream",
          "text": [
            "time: 279 ms\n"
          ],
          "name": "stdout"
        }
      ]
    },
    {
      "cell_type": "markdown",
      "metadata": {
        "id": "eo2kVaCZKR_g",
        "colab_type": "text"
      },
      "source": [
        "## Task 3\n",
        "- Find the lenders that have funded at least twice"
      ]
    },
    {
      "cell_type": "code",
      "metadata": {
        "id": "4bPS04EKfGF7",
        "colab_type": "code",
        "outputId": "e82748e8-a587-4839-cdcc-b49a062466d9",
        "colab": {
          "base_uri": "https://localhost:8080/",
          "height": 34
        }
      },
      "source": [
        "numberfunded_lenders = loans_lender_norm.groupby('lenders')['loan_id'].count()"
      ],
      "execution_count": 25,
      "outputs": [
        {
          "output_type": "stream",
          "text": [
            "time: 11.9 s\n"
          ],
          "name": "stdout"
        }
      ]
    },
    {
      "cell_type": "markdown",
      "metadata": {
        "id": "70Im_Tbx0JsK",
        "colab_type": "text"
      },
      "source": [
        "### Apply constraint after group by "
      ]
    },
    {
      "cell_type": "code",
      "metadata": {
        "id": "KbBA7ZM2zIfZ",
        "colab_type": "code",
        "outputId": "ad5d9caf-85ce-41c4-8831-f16f18ef488b",
        "colab": {
          "base_uri": "https://localhost:8080/",
          "height": 34
        }
      },
      "source": [
        "numberfunded_lenders = pd.DataFrame(numberfunded_lenders).reset_index(drop=False)\n",
        "numberfunded_lenders.columns = ['lenders','count']\n",
        "\n",
        "numberfunded_lenders = numberfunded_lenders[numberfunded_lenders['count']>=2]"
      ],
      "execution_count": 26,
      "outputs": [
        {
          "output_type": "stream",
          "text": [
            "time: 321 ms\n"
          ],
          "name": "stdout"
        }
      ]
    },
    {
      "cell_type": "markdown",
      "metadata": {
        "id": "Z9WMYaSl2-gH",
        "colab_type": "text"
      },
      "source": [
        "### _Result_"
      ]
    },
    {
      "cell_type": "code",
      "metadata": {
        "id": "1tVLRNMGeBnn",
        "colab_type": "code",
        "outputId": "48bfb51e-7c43-4a55-faa1-51571935cf9a",
        "colab": {
          "base_uri": "https://localhost:8080/",
          "height": 212
        }
      },
      "source": [
        "numberfunded_lenders.head()"
      ],
      "execution_count": 27,
      "outputs": [
        {
          "output_type": "execute_result",
          "data": {
            "text/html": [
              "<div>\n",
              "<style scoped>\n",
              "    .dataframe tbody tr th:only-of-type {\n",
              "        vertical-align: middle;\n",
              "    }\n",
              "\n",
              "    .dataframe tbody tr th {\n",
              "        vertical-align: top;\n",
              "    }\n",
              "\n",
              "    .dataframe thead th {\n",
              "        text-align: right;\n",
              "    }\n",
              "</style>\n",
              "<table border=\"1\" class=\"dataframe\">\n",
              "  <thead>\n",
              "    <tr style=\"text-align: right;\">\n",
              "      <th></th>\n",
              "      <th>lenders</th>\n",
              "      <th>count</th>\n",
              "    </tr>\n",
              "  </thead>\n",
              "  <tbody>\n",
              "    <tr>\n",
              "      <th>0</th>\n",
              "      <td>000</td>\n",
              "      <td>40</td>\n",
              "    </tr>\n",
              "    <tr>\n",
              "      <th>1</th>\n",
              "      <td>00000</td>\n",
              "      <td>39</td>\n",
              "    </tr>\n",
              "    <tr>\n",
              "      <th>2</th>\n",
              "      <td>0002</td>\n",
              "      <td>70</td>\n",
              "    </tr>\n",
              "    <tr>\n",
              "      <th>4</th>\n",
              "      <td>0101craign0101</td>\n",
              "      <td>71</td>\n",
              "    </tr>\n",
              "    <tr>\n",
              "      <th>5</th>\n",
              "      <td>0132575</td>\n",
              "      <td>4</td>\n",
              "    </tr>\n",
              "  </tbody>\n",
              "</table>\n",
              "</div>"
            ],
            "text/plain": [
              "          lenders  count\n",
              "0             000     40\n",
              "1           00000     39\n",
              "2            0002     70\n",
              "4  0101craign0101     71\n",
              "5         0132575      4"
            ]
          },
          "metadata": {
            "tags": []
          },
          "execution_count": 27
        },
        {
          "output_type": "stream",
          "text": [
            "time: 10.7 ms\n"
          ],
          "name": "stdout"
        }
      ]
    },
    {
      "cell_type": "markdown",
      "metadata": {
        "id": "3m78erQM3Nj0",
        "colab_type": "text"
      },
      "source": [
        "## Task 4\n",
        "- For each country, compute how many loans have involved that country as borrowers."
      ]
    },
    {
      "cell_type": "markdown",
      "metadata": {
        "id": "QfLNnBktD9PZ",
        "colab_type": "text"
      },
      "source": [
        "### Check missing values"
      ]
    },
    {
      "cell_type": "code",
      "metadata": {
        "id": "BFKmfgGp9Ii4",
        "colab_type": "code",
        "outputId": "c6307e00-1cfd-4ef0-edf6-fb3cfefde35e",
        "colab": {
          "base_uri": "https://localhost:8080/",
          "height": 64
        }
      },
      "source": [
        "missing_name = pd.isnull(loan[['country_name']])\n",
        "missing_name[missing_name['country_name']==True]"
      ],
      "execution_count": 28,
      "outputs": [
        {
          "output_type": "execute_result",
          "data": {
            "text/html": [
              "<div>\n",
              "<style scoped>\n",
              "    .dataframe tbody tr th:only-of-type {\n",
              "        vertical-align: middle;\n",
              "    }\n",
              "\n",
              "    .dataframe tbody tr th {\n",
              "        vertical-align: top;\n",
              "    }\n",
              "\n",
              "    .dataframe thead th {\n",
              "        text-align: right;\n",
              "    }\n",
              "</style>\n",
              "<table border=\"1\" class=\"dataframe\">\n",
              "  <thead>\n",
              "    <tr style=\"text-align: right;\">\n",
              "      <th></th>\n",
              "      <th>country_name</th>\n",
              "    </tr>\n",
              "  </thead>\n",
              "  <tbody>\n",
              "  </tbody>\n",
              "</table>\n",
              "</div>"
            ],
            "text/plain": [
              "Empty DataFrame\n",
              "Columns: [country_name]\n",
              "Index: []"
            ]
          },
          "metadata": {
            "tags": []
          },
          "execution_count": 28
        },
        {
          "output_type": "stream",
          "text": [
            "time: 77.7 ms\n"
          ],
          "name": "stdout"
        }
      ]
    },
    {
      "cell_type": "code",
      "metadata": {
        "id": "T5ah4Q3Ljvwo",
        "colab_type": "code",
        "outputId": "05508940-0c24-43ff-d208-ec4f99d6a5c7",
        "colab": {
          "base_uri": "https://localhost:8080/",
          "height": 67
        }
      },
      "source": [
        "missing_code = pd.isnull(loan[['country_code']])\n",
        "index_code = missing_code[missing_code['country_code']==True].index\n",
        "index_code"
      ],
      "execution_count": 29,
      "outputs": [
        {
          "output_type": "execute_result",
          "data": {
            "text/plain": [
              "Int64Index([82889, 156970, 598087, 684876, 971827, 1134818, 1214923, 1281022,\n",
              "            1415763],\n",
              "           dtype='int64')"
            ]
          },
          "metadata": {
            "tags": []
          },
          "execution_count": 29
        },
        {
          "output_type": "stream",
          "text": [
            "time: 77.1 ms\n"
          ],
          "name": "stdout"
        }
      ]
    },
    {
      "cell_type": "markdown",
      "metadata": {
        "id": "i7Nvn5Akz1wv",
        "colab_type": "text"
      },
      "source": [
        "### Replace missing values with manual imputation"
      ]
    },
    {
      "cell_type": "code",
      "metadata": {
        "id": "TzuCM46Q0R3V",
        "colab_type": "code",
        "colab": {
          "base_uri": "https://localhost:8080/",
          "height": 185
        },
        "outputId": "e7c61b66-8d97-4f6b-9434-f95caeff8f84"
      },
      "source": [
        "loan.loc[index_code]['country_name']"
      ],
      "execution_count": 30,
      "outputs": [
        {
          "output_type": "execute_result",
          "data": {
            "text/plain": [
              "82889      Namibia\n",
              "156970     Namibia\n",
              "598087     Namibia\n",
              "684876     Namibia\n",
              "971827     Namibia\n",
              "1134818    Namibia\n",
              "1214923    Namibia\n",
              "1281022    Namibia\n",
              "1415763    Namibia\n",
              "Name: country_name, dtype: object"
            ]
          },
          "metadata": {
            "tags": []
          },
          "execution_count": 30
        },
        {
          "output_type": "stream",
          "text": [
            "time: 4.53 ms\n"
          ],
          "name": "stdout"
        }
      ]
    },
    {
      "cell_type": "code",
      "metadata": {
        "id": "gw8gWEjxzmI_",
        "colab_type": "code",
        "colab": {
          "base_uri": "https://localhost:8080/",
          "height": 34
        },
        "outputId": "40d8e2d2-c69e-4e85-ba1e-d4071e82c712"
      },
      "source": [
        "loan['country_code'] = loan['country_code'].fillna('NA') #imputazione manuale (valore ottenuto da https://en.wikipedia.org/wiki/ISO_3166-1_alpha-2) \n"
      ],
      "execution_count": 31,
      "outputs": [
        {
          "output_type": "stream",
          "text": [
            "time: 81.2 ms\n"
          ],
          "name": "stdout"
        }
      ]
    },
    {
      "cell_type": "code",
      "metadata": {
        "id": "TsMVZZZUExNS",
        "colab_type": "code",
        "outputId": "fedd0f8a-9948-4aa3-dd41-cfed4930e2c8",
        "colab": {
          "base_uri": "https://localhost:8080/",
          "height": 34
        }
      },
      "source": [
        "country_numberLoan = loan.groupby('country_code')['loan_id'].count()\n",
        "country_numberLoan = pd.DataFrame(country_numberLoan).reset_index(drop=False)\n",
        "country_numberLoan.columns=['country','count']"
      ],
      "execution_count": 32,
      "outputs": [
        {
          "output_type": "stream",
          "text": [
            "time: 76.4 ms\n"
          ],
          "name": "stdout"
        }
      ]
    },
    {
      "cell_type": "code",
      "metadata": {
        "id": "2ivHnD9Rmvfx",
        "colab_type": "code",
        "outputId": "520b51e4-f1a6-4daa-d699-060949986d42",
        "colab": {
          "base_uri": "https://localhost:8080/",
          "height": 34
        }
      },
      "source": [
        "code_numberLoan = loan.groupby('country_code')['loan_id'].count()\n",
        "code_numberLoan = pd.DataFrame(code_numberLoan).reset_index(drop=False)\n",
        "code_numberLoan.columns=['code','count']"
      ],
      "execution_count": 33,
      "outputs": [
        {
          "output_type": "stream",
          "text": [
            "time: 76 ms\n"
          ],
          "name": "stdout"
        }
      ]
    },
    {
      "cell_type": "markdown",
      "metadata": {
        "id": "eRZgY4f0GH_W",
        "colab_type": "text"
      },
      "source": [
        "### _Result_"
      ]
    },
    {
      "cell_type": "code",
      "metadata": {
        "id": "ziY0RfAbGJOJ",
        "colab_type": "code",
        "outputId": "8cc5bf96-1dd7-4485-869b-0d8bea74a207",
        "colab": {
          "base_uri": "https://localhost:8080/",
          "height": 212
        }
      },
      "source": [
        "country_numberLoan.head()"
      ],
      "execution_count": 34,
      "outputs": [
        {
          "output_type": "execute_result",
          "data": {
            "text/html": [
              "<div>\n",
              "<style scoped>\n",
              "    .dataframe tbody tr th:only-of-type {\n",
              "        vertical-align: middle;\n",
              "    }\n",
              "\n",
              "    .dataframe tbody tr th {\n",
              "        vertical-align: top;\n",
              "    }\n",
              "\n",
              "    .dataframe thead th {\n",
              "        text-align: right;\n",
              "    }\n",
              "</style>\n",
              "<table border=\"1\" class=\"dataframe\">\n",
              "  <thead>\n",
              "    <tr style=\"text-align: right;\">\n",
              "      <th></th>\n",
              "      <th>country</th>\n",
              "      <th>count</th>\n",
              "    </tr>\n",
              "  </thead>\n",
              "  <tbody>\n",
              "    <tr>\n",
              "      <th>0</th>\n",
              "      <td>AF</td>\n",
              "      <td>2337</td>\n",
              "    </tr>\n",
              "    <tr>\n",
              "      <th>1</th>\n",
              "      <td>AL</td>\n",
              "      <td>3075</td>\n",
              "    </tr>\n",
              "    <tr>\n",
              "      <th>2</th>\n",
              "      <td>AM</td>\n",
              "      <td>13952</td>\n",
              "    </tr>\n",
              "    <tr>\n",
              "      <th>3</th>\n",
              "      <td>AZ</td>\n",
              "      <td>10172</td>\n",
              "    </tr>\n",
              "    <tr>\n",
              "      <th>4</th>\n",
              "      <td>BA</td>\n",
              "      <td>608</td>\n",
              "    </tr>\n",
              "  </tbody>\n",
              "</table>\n",
              "</div>"
            ],
            "text/plain": [
              "  country  count\n",
              "0      AF   2337\n",
              "1      AL   3075\n",
              "2      AM  13952\n",
              "3      AZ  10172\n",
              "4      BA    608"
            ]
          },
          "metadata": {
            "tags": []
          },
          "execution_count": 34
        },
        {
          "output_type": "stream",
          "text": [
            "time: 9.02 ms\n"
          ],
          "name": "stdout"
        }
      ]
    },
    {
      "cell_type": "markdown",
      "metadata": {
        "id": "p4fsZmbtT7FR",
        "colab_type": "text"
      },
      "source": [
        "## Task 5\n",
        "- For each country, compute the overall amount of money borrowed."
      ]
    },
    {
      "cell_type": "code",
      "metadata": {
        "id": "6MxOu0nQR9FF",
        "colab_type": "code",
        "outputId": "ed94db91-999f-4670-8f31-46bffe6e6269",
        "colab": {
          "base_uri": "https://localhost:8080/",
          "height": 34
        }
      },
      "source": [
        "loan_simplified = loan[['loan_id','country_code','disburse_time','planned_expiration_time',\n",
        "                                      'num_lenders_total','funded_amount','loan_amount','currency']] #feature essenziali per risolvere gli altri task"
      ],
      "execution_count": 35,
      "outputs": [
        {
          "output_type": "stream",
          "text": [
            "time: 43.7 ms\n"
          ],
          "name": "stdout"
        }
      ]
    },
    {
      "cell_type": "markdown",
      "metadata": {
        "id": "olGHi4L7okqe",
        "colab_type": "text"
      },
      "source": [
        "### Check missing values"
      ]
    },
    {
      "cell_type": "code",
      "metadata": {
        "id": "M5ctgIlXnYMM",
        "colab_type": "code",
        "outputId": "782d7470-f08a-48d5-8efb-99eddf36deef",
        "colab": {
          "base_uri": "https://localhost:8080/",
          "height": 64
        }
      },
      "source": [
        "missing = pd.isnull(loan_simplified[['loan_amount']])\n",
        "missing[missing['loan_amount']==True]"
      ],
      "execution_count": 36,
      "outputs": [
        {
          "output_type": "execute_result",
          "data": {
            "text/html": [
              "<div>\n",
              "<style scoped>\n",
              "    .dataframe tbody tr th:only-of-type {\n",
              "        vertical-align: middle;\n",
              "    }\n",
              "\n",
              "    .dataframe tbody tr th {\n",
              "        vertical-align: top;\n",
              "    }\n",
              "\n",
              "    .dataframe thead th {\n",
              "        text-align: right;\n",
              "    }\n",
              "</style>\n",
              "<table border=\"1\" class=\"dataframe\">\n",
              "  <thead>\n",
              "    <tr style=\"text-align: right;\">\n",
              "      <th></th>\n",
              "      <th>loan_amount</th>\n",
              "    </tr>\n",
              "  </thead>\n",
              "  <tbody>\n",
              "  </tbody>\n",
              "</table>\n",
              "</div>"
            ],
            "text/plain": [
              "Empty DataFrame\n",
              "Columns: [loan_amount]\n",
              "Index: []"
            ]
          },
          "metadata": {
            "tags": []
          },
          "execution_count": 36
        },
        {
          "output_type": "stream",
          "text": [
            "time: 86.5 ms\n"
          ],
          "name": "stdout"
        }
      ]
    },
    {
      "cell_type": "markdown",
      "metadata": {
        "id": "1fvZRjgAT-EM",
        "colab_type": "text"
      },
      "source": [
        "### Compute calculation"
      ]
    },
    {
      "cell_type": "code",
      "metadata": {
        "id": "UUjb_utHdjLh",
        "colab_type": "code",
        "outputId": "4c2f6f20-d3ef-44d8-a7a9-07fd80f3a024",
        "colab": {
          "base_uri": "https://localhost:8080/",
          "height": 34
        }
      },
      "source": [
        "country_amount_loan = loan_simplified.groupby('country_code')['loan_amount'].sum().reset_index()"
      ],
      "execution_count": 37,
      "outputs": [
        {
          "output_type": "stream",
          "text": [
            "time: 72.3 ms\n"
          ],
          "name": "stdout"
        }
      ]
    },
    {
      "cell_type": "markdown",
      "metadata": {
        "id": "B1-vzEGQWATQ",
        "colab_type": "text"
      },
      "source": [
        "### _Result_"
      ]
    },
    {
      "cell_type": "code",
      "metadata": {
        "id": "gsXkIui62mOs",
        "colab_type": "code",
        "outputId": "8ee62fb4-36cf-4aee-f67a-27f183ae8134",
        "colab": {
          "base_uri": "https://localhost:8080/",
          "height": 212
        }
      },
      "source": [
        "country_amount_loan.head()"
      ],
      "execution_count": 38,
      "outputs": [
        {
          "output_type": "execute_result",
          "data": {
            "text/html": [
              "<div>\n",
              "<style scoped>\n",
              "    .dataframe tbody tr th:only-of-type {\n",
              "        vertical-align: middle;\n",
              "    }\n",
              "\n",
              "    .dataframe tbody tr th {\n",
              "        vertical-align: top;\n",
              "    }\n",
              "\n",
              "    .dataframe thead th {\n",
              "        text-align: right;\n",
              "    }\n",
              "</style>\n",
              "<table border=\"1\" class=\"dataframe\">\n",
              "  <thead>\n",
              "    <tr style=\"text-align: right;\">\n",
              "      <th></th>\n",
              "      <th>country_code</th>\n",
              "      <th>loan_amount</th>\n",
              "    </tr>\n",
              "  </thead>\n",
              "  <tbody>\n",
              "    <tr>\n",
              "      <th>0</th>\n",
              "      <td>AF</td>\n",
              "      <td>1967950.0</td>\n",
              "    </tr>\n",
              "    <tr>\n",
              "      <th>1</th>\n",
              "      <td>AL</td>\n",
              "      <td>4307350.0</td>\n",
              "    </tr>\n",
              "    <tr>\n",
              "      <th>2</th>\n",
              "      <td>AM</td>\n",
              "      <td>22950475.0</td>\n",
              "    </tr>\n",
              "    <tr>\n",
              "      <th>3</th>\n",
              "      <td>AZ</td>\n",
              "      <td>14784625.0</td>\n",
              "    </tr>\n",
              "    <tr>\n",
              "      <th>4</th>\n",
              "      <td>BA</td>\n",
              "      <td>477250.0</td>\n",
              "    </tr>\n",
              "  </tbody>\n",
              "</table>\n",
              "</div>"
            ],
            "text/plain": [
              "  country_code  loan_amount\n",
              "0           AF    1967950.0\n",
              "1           AL    4307350.0\n",
              "2           AM   22950475.0\n",
              "3           AZ   14784625.0\n",
              "4           BA     477250.0"
            ]
          },
          "metadata": {
            "tags": []
          },
          "execution_count": 38
        },
        {
          "output_type": "stream",
          "text": [
            "time: 10.9 ms\n"
          ],
          "name": "stdout"
        }
      ]
    },
    {
      "cell_type": "markdown",
      "metadata": {
        "id": "Kkmag5y2Whhi",
        "colab_type": "text"
      },
      "source": [
        "## Task 6\n",
        "- Like the previous point, but expressed as a percentage of the overall amount lent."
      ]
    },
    {
      "cell_type": "code",
      "metadata": {
        "id": "gjnwWbopn2y1",
        "colab_type": "code",
        "outputId": "680fde79-059a-472b-ff5e-a80ea298d841",
        "colab": {
          "base_uri": "https://localhost:8080/",
          "height": 34
        }
      },
      "source": [
        "country_amount_loan_perc=country_amount_loan\n",
        "country_amount_loan_perc.columns = ['country','borrowed']"
      ],
      "execution_count": 39,
      "outputs": [
        {
          "output_type": "stream",
          "text": [
            "time: 1.51 ms\n"
          ],
          "name": "stdout"
        }
      ]
    },
    {
      "cell_type": "markdown",
      "metadata": {
        "id": "13ISFmwc8EAL",
        "colab_type": "text"
      },
      "source": [
        "### Compute ratio between total country and overall amount"
      ]
    },
    {
      "cell_type": "code",
      "metadata": {
        "id": "M89TfHxStNcI",
        "colab_type": "code",
        "outputId": "281ac586-d973-4685-a714-9d642c508793",
        "colab": {
          "base_uri": "https://localhost:8080/",
          "height": 34
        }
      },
      "source": [
        "total=country_amount_loan_perc['borrowed'].sum()\n",
        "country_amount_loan_perc['percentage']=round(country_amount_loan_perc['borrowed']/total*100,2)"
      ],
      "execution_count": 40,
      "outputs": [
        {
          "output_type": "stream",
          "text": [
            "time: 9.24 ms\n"
          ],
          "name": "stdout"
        }
      ]
    },
    {
      "cell_type": "markdown",
      "metadata": {
        "id": "xNgVeIqTufQK",
        "colab_type": "text"
      },
      "source": [
        "### _Result_"
      ]
    },
    {
      "cell_type": "code",
      "metadata": {
        "id": "zyErEw0PugNt",
        "colab_type": "code",
        "outputId": "3d90a6d5-a6d8-4261-8863-d9bc0a978e9d",
        "colab": {
          "base_uri": "https://localhost:8080/",
          "height": 212
        }
      },
      "source": [
        "country_amount_loan_perc.head()"
      ],
      "execution_count": 41,
      "outputs": [
        {
          "output_type": "execute_result",
          "data": {
            "text/html": [
              "<div>\n",
              "<style scoped>\n",
              "    .dataframe tbody tr th:only-of-type {\n",
              "        vertical-align: middle;\n",
              "    }\n",
              "\n",
              "    .dataframe tbody tr th {\n",
              "        vertical-align: top;\n",
              "    }\n",
              "\n",
              "    .dataframe thead th {\n",
              "        text-align: right;\n",
              "    }\n",
              "</style>\n",
              "<table border=\"1\" class=\"dataframe\">\n",
              "  <thead>\n",
              "    <tr style=\"text-align: right;\">\n",
              "      <th></th>\n",
              "      <th>country</th>\n",
              "      <th>borrowed</th>\n",
              "      <th>percentage</th>\n",
              "    </tr>\n",
              "  </thead>\n",
              "  <tbody>\n",
              "    <tr>\n",
              "      <th>0</th>\n",
              "      <td>AF</td>\n",
              "      <td>1967950.0</td>\n",
              "      <td>0.17</td>\n",
              "    </tr>\n",
              "    <tr>\n",
              "      <th>1</th>\n",
              "      <td>AL</td>\n",
              "      <td>4307350.0</td>\n",
              "      <td>0.36</td>\n",
              "    </tr>\n",
              "    <tr>\n",
              "      <th>2</th>\n",
              "      <td>AM</td>\n",
              "      <td>22950475.0</td>\n",
              "      <td>1.94</td>\n",
              "    </tr>\n",
              "    <tr>\n",
              "      <th>3</th>\n",
              "      <td>AZ</td>\n",
              "      <td>14784625.0</td>\n",
              "      <td>1.25</td>\n",
              "    </tr>\n",
              "    <tr>\n",
              "      <th>4</th>\n",
              "      <td>BA</td>\n",
              "      <td>477250.0</td>\n",
              "      <td>0.04</td>\n",
              "    </tr>\n",
              "  </tbody>\n",
              "</table>\n",
              "</div>"
            ],
            "text/plain": [
              "  country    borrowed  percentage\n",
              "0      AF   1967950.0        0.17\n",
              "1      AL   4307350.0        0.36\n",
              "2      AM  22950475.0        1.94\n",
              "3      AZ  14784625.0        1.25\n",
              "4      BA    477250.0        0.04"
            ]
          },
          "metadata": {
            "tags": []
          },
          "execution_count": 41
        },
        {
          "output_type": "stream",
          "text": [
            "time: 12.5 ms\n"
          ],
          "name": "stdout"
        }
      ]
    },
    {
      "cell_type": "markdown",
      "metadata": {
        "id": "jlNVlX6mGRVt",
        "colab_type": "text"
      },
      "source": [
        "## Task 7\n",
        "- Like the three previous points, but split for each year (with respect to disburse time)."
      ]
    },
    {
      "cell_type": "markdown",
      "metadata": {
        "id": "PUvQ2XS7_mbn",
        "colab_type": "text"
      },
      "source": [
        "### Check missing values"
      ]
    },
    {
      "cell_type": "code",
      "metadata": {
        "id": "YsQyPqY3RVCn",
        "colab_type": "code",
        "outputId": "c540d84e-1552-4de4-a82b-8ee48b826f55",
        "colab": {
          "base_uri": "https://localhost:8080/",
          "height": 418
        }
      },
      "source": [
        "missing = loan_simplified[loan_simplified['disburse_time'].isnull()]\n",
        "missing"
      ],
      "execution_count": 42,
      "outputs": [
        {
          "output_type": "execute_result",
          "data": {
            "text/html": [
              "<div>\n",
              "<style scoped>\n",
              "    .dataframe tbody tr th:only-of-type {\n",
              "        vertical-align: middle;\n",
              "    }\n",
              "\n",
              "    .dataframe tbody tr th {\n",
              "        vertical-align: top;\n",
              "    }\n",
              "\n",
              "    .dataframe thead th {\n",
              "        text-align: right;\n",
              "    }\n",
              "</style>\n",
              "<table border=\"1\" class=\"dataframe\">\n",
              "  <thead>\n",
              "    <tr style=\"text-align: right;\">\n",
              "      <th></th>\n",
              "      <th>loan_id</th>\n",
              "      <th>country_code</th>\n",
              "      <th>disburse_time</th>\n",
              "      <th>planned_expiration_time</th>\n",
              "      <th>num_lenders_total</th>\n",
              "      <th>funded_amount</th>\n",
              "      <th>loan_amount</th>\n",
              "      <th>currency</th>\n",
              "    </tr>\n",
              "  </thead>\n",
              "  <tbody>\n",
              "    <tr>\n",
              "      <th>31106</th>\n",
              "      <td>1379508</td>\n",
              "      <td>US</td>\n",
              "      <td>NaT</td>\n",
              "      <td>2017-12-06 16:41:36+00:00</td>\n",
              "      <td>2</td>\n",
              "      <td>125.0</td>\n",
              "      <td>1000.0</td>\n",
              "      <td>USD</td>\n",
              "    </tr>\n",
              "    <tr>\n",
              "      <th>31107</th>\n",
              "      <td>1428617</td>\n",
              "      <td>US</td>\n",
              "      <td>NaT</td>\n",
              "      <td>2018-01-25 19:25:55+00:00</td>\n",
              "      <td>0</td>\n",
              "      <td>0.0</td>\n",
              "      <td>10000.0</td>\n",
              "      <td>USD</td>\n",
              "    </tr>\n",
              "    <tr>\n",
              "      <th>31178</th>\n",
              "      <td>1135319</td>\n",
              "      <td>US</td>\n",
              "      <td>NaT</td>\n",
              "      <td>2016-09-02 20:27:46+00:00</td>\n",
              "      <td>2</td>\n",
              "      <td>50.0</td>\n",
              "      <td>500.0</td>\n",
              "      <td>USD</td>\n",
              "    </tr>\n",
              "    <tr>\n",
              "      <th>32151</th>\n",
              "      <td>1279252</td>\n",
              "      <td>US</td>\n",
              "      <td>NaT</td>\n",
              "      <td>2017-05-04 23:31:00+00:00</td>\n",
              "      <td>0</td>\n",
              "      <td>0.0</td>\n",
              "      <td>1000.0</td>\n",
              "      <td>USD</td>\n",
              "    </tr>\n",
              "    <tr>\n",
              "      <th>32152</th>\n",
              "      <td>1433349</td>\n",
              "      <td>US</td>\n",
              "      <td>NaT</td>\n",
              "      <td>2018-01-04 18:49:43+00:00</td>\n",
              "      <td>0</td>\n",
              "      <td>0.0</td>\n",
              "      <td>8000.0</td>\n",
              "      <td>USD</td>\n",
              "    </tr>\n",
              "    <tr>\n",
              "      <th>...</th>\n",
              "      <td>...</td>\n",
              "      <td>...</td>\n",
              "      <td>...</td>\n",
              "      <td>...</td>\n",
              "      <td>...</td>\n",
              "      <td>...</td>\n",
              "      <td>...</td>\n",
              "      <td>...</td>\n",
              "    </tr>\n",
              "    <tr>\n",
              "      <th>1419522</th>\n",
              "      <td>1082442</td>\n",
              "      <td>US</td>\n",
              "      <td>NaT</td>\n",
              "      <td>2014-10-14 16:05:01+00:00</td>\n",
              "      <td>37</td>\n",
              "      <td>510.0</td>\n",
              "      <td>3000.0</td>\n",
              "      <td>USD</td>\n",
              "    </tr>\n",
              "    <tr>\n",
              "      <th>1419524</th>\n",
              "      <td>1227124</td>\n",
              "      <td>US</td>\n",
              "      <td>NaT</td>\n",
              "      <td>2017-02-09 23:07:54+00:00</td>\n",
              "      <td>9</td>\n",
              "      <td>800.0</td>\n",
              "      <td>10000.0</td>\n",
              "      <td>USD</td>\n",
              "    </tr>\n",
              "    <tr>\n",
              "      <th>1419525</th>\n",
              "      <td>1089430</td>\n",
              "      <td>KE</td>\n",
              "      <td>NaT</td>\n",
              "      <td>2015-09-21 08:06:19+00:00</td>\n",
              "      <td>3</td>\n",
              "      <td>125.0</td>\n",
              "      <td>225.0</td>\n",
              "      <td>KES</td>\n",
              "    </tr>\n",
              "    <tr>\n",
              "      <th>1419538</th>\n",
              "      <td>1235452</td>\n",
              "      <td>US</td>\n",
              "      <td>NaT</td>\n",
              "      <td>2017-02-25 20:21:21+00:00</td>\n",
              "      <td>3</td>\n",
              "      <td>600.0</td>\n",
              "      <td>3000.0</td>\n",
              "      <td>USD</td>\n",
              "    </tr>\n",
              "    <tr>\n",
              "      <th>1419564</th>\n",
              "      <td>1151269</td>\n",
              "      <td>US</td>\n",
              "      <td>NaT</td>\n",
              "      <td>2016-09-30 18:49:53+00:00</td>\n",
              "      <td>2</td>\n",
              "      <td>50.0</td>\n",
              "      <td>8750.0</td>\n",
              "      <td>USD</td>\n",
              "    </tr>\n",
              "  </tbody>\n",
              "</table>\n",
              "<p>2813 rows × 8 columns</p>\n",
              "</div>"
            ],
            "text/plain": [
              "         loan_id country_code  ... loan_amount currency\n",
              "31106    1379508           US  ...      1000.0      USD\n",
              "31107    1428617           US  ...     10000.0      USD\n",
              "31178    1135319           US  ...       500.0      USD\n",
              "32151    1279252           US  ...      1000.0      USD\n",
              "32152    1433349           US  ...      8000.0      USD\n",
              "...          ...          ...  ...         ...      ...\n",
              "1419522  1082442           US  ...      3000.0      USD\n",
              "1419524  1227124           US  ...     10000.0      USD\n",
              "1419525  1089430           KE  ...       225.0      KES\n",
              "1419538  1235452           US  ...      3000.0      USD\n",
              "1419564  1151269           US  ...      8750.0      USD\n",
              "\n",
              "[2813 rows x 8 columns]"
            ]
          },
          "metadata": {
            "tags": []
          },
          "execution_count": 42
        },
        {
          "output_type": "stream",
          "text": [
            "time: 33.9 ms\n"
          ],
          "name": "stdout"
        }
      ]
    },
    {
      "cell_type": "markdown",
      "metadata": {
        "id": "q9nUtxBoFrJO",
        "colab_type": "text"
      },
      "source": [
        "### Get year from _disburse_time_ for each loan"
      ]
    },
    {
      "cell_type": "code",
      "metadata": {
        "id": "UamDI5T1YtWv",
        "colab_type": "code",
        "outputId": "fed5d51f-3046-4322-f5a0-ca8c54604ae5",
        "colab": {
          "base_uri": "https://localhost:8080/",
          "height": 34
        }
      },
      "source": [
        "loan_simplified=loan_simplified.copy()\n",
        "loan_simplified['year_disburse'] = loan_simplified.apply(lambda x: x['disburse_time'].year,axis=1)"
      ],
      "execution_count": 43,
      "outputs": [
        {
          "output_type": "stream",
          "text": [
            "time: 2min 29s\n"
          ],
          "name": "stdout"
        }
      ]
    },
    {
      "cell_type": "code",
      "metadata": {
        "id": "Uxiw_dYcrARH",
        "colab_type": "code",
        "outputId": "b3b57239-460f-47f2-c91b-0fcc9efe587d",
        "colab": {
          "base_uri": "https://localhost:8080/",
          "height": 34
        }
      },
      "source": [
        "year_nan = pd.isnull(loan_simplified['year_disburse'])\n",
        "year_nan_index = year_nan[year_nan==True].index\n",
        "\n",
        "loan_year = loan_simplified.drop(index=year_nan_index) #non considero tuple che hanno missing values in 'disburse_time'"
      ],
      "execution_count": 44,
      "outputs": [
        {
          "output_type": "stream",
          "text": [
            "time: 136 ms\n"
          ],
          "name": "stdout"
        }
      ]
    },
    {
      "cell_type": "code",
      "metadata": {
        "id": "2fJC515Gr2GB",
        "colab_type": "code",
        "outputId": "10c10424-3ce7-4738-df45-6c98fff86bf0",
        "colab": {
          "base_uri": "https://localhost:8080/",
          "height": 34
        }
      },
      "source": [
        "loan_year = loan_year.copy()\n",
        "loan_year['year_disburse']=loan_year['year_disburse'].astype(int)"
      ],
      "execution_count": 45,
      "outputs": [
        {
          "output_type": "stream",
          "text": [
            "time: 57.8 ms\n"
          ],
          "name": "stdout"
        }
      ]
    },
    {
      "cell_type": "markdown",
      "metadata": {
        "id": "JXecS81Ds0bX",
        "colab_type": "text"
      },
      "source": [
        "### Point 4 (how many loans)"
      ]
    },
    {
      "cell_type": "code",
      "metadata": {
        "id": "QXg7Qgtywfuj",
        "colab_type": "code",
        "outputId": "8a47664c-0f68-43e6-f553-c6901baed10a",
        "colab": {
          "base_uri": "https://localhost:8080/",
          "height": 34
        }
      },
      "source": [
        "loan_state_year = loan_year.groupby(['country_code','year_disburse'])['loan_id'].count()\n",
        "loan_state_year = pd.DataFrame(loan_state_year)"
      ],
      "execution_count": 46,
      "outputs": [
        {
          "output_type": "stream",
          "text": [
            "time: 138 ms\n"
          ],
          "name": "stdout"
        }
      ]
    },
    {
      "cell_type": "code",
      "metadata": {
        "id": "2EO635vzB14z",
        "colab_type": "code",
        "outputId": "cd74bf4e-59b7-49a1-a9d6-8f24733e0efd",
        "colab": {
          "base_uri": "https://localhost:8080/",
          "height": 34
        }
      },
      "source": [
        "loan_state_year.rename(columns={'loan_id':'count'},inplace=True)"
      ],
      "execution_count": 47,
      "outputs": [
        {
          "output_type": "stream",
          "text": [
            "time: 2.6 ms\n"
          ],
          "name": "stdout"
        }
      ]
    },
    {
      "cell_type": "markdown",
      "metadata": {
        "id": "bz5NO8LZxGsY",
        "colab_type": "text"
      },
      "source": [
        "#### _Result_"
      ]
    },
    {
      "cell_type": "code",
      "metadata": {
        "id": "erKL3O0zsz6-",
        "colab_type": "code",
        "outputId": "7a034ee5-12a7-4961-a8c4-a9bf1b0201cd",
        "colab": {
          "base_uri": "https://localhost:8080/",
          "height": 242
        }
      },
      "source": [
        "loan_state_year.head()"
      ],
      "execution_count": 48,
      "outputs": [
        {
          "output_type": "execute_result",
          "data": {
            "text/html": [
              "<div>\n",
              "<style scoped>\n",
              "    .dataframe tbody tr th:only-of-type {\n",
              "        vertical-align: middle;\n",
              "    }\n",
              "\n",
              "    .dataframe tbody tr th {\n",
              "        vertical-align: top;\n",
              "    }\n",
              "\n",
              "    .dataframe thead th {\n",
              "        text-align: right;\n",
              "    }\n",
              "</style>\n",
              "<table border=\"1\" class=\"dataframe\">\n",
              "  <thead>\n",
              "    <tr style=\"text-align: right;\">\n",
              "      <th></th>\n",
              "      <th></th>\n",
              "      <th>count</th>\n",
              "    </tr>\n",
              "    <tr>\n",
              "      <th>country_code</th>\n",
              "      <th>year_disburse</th>\n",
              "      <th></th>\n",
              "    </tr>\n",
              "  </thead>\n",
              "  <tbody>\n",
              "    <tr>\n",
              "      <th rowspan=\"5\" valign=\"top\">AF</th>\n",
              "      <th>2007</th>\n",
              "      <td>408</td>\n",
              "    </tr>\n",
              "    <tr>\n",
              "      <th>2008</th>\n",
              "      <td>370</td>\n",
              "    </tr>\n",
              "    <tr>\n",
              "      <th>2009</th>\n",
              "      <td>678</td>\n",
              "    </tr>\n",
              "    <tr>\n",
              "      <th>2010</th>\n",
              "      <td>632</td>\n",
              "    </tr>\n",
              "    <tr>\n",
              "      <th>2011</th>\n",
              "      <td>247</td>\n",
              "    </tr>\n",
              "  </tbody>\n",
              "</table>\n",
              "</div>"
            ],
            "text/plain": [
              "                            count\n",
              "country_code year_disburse       \n",
              "AF           2007             408\n",
              "             2008             370\n",
              "             2009             678\n",
              "             2010             632\n",
              "             2011             247"
            ]
          },
          "metadata": {
            "tags": []
          },
          "execution_count": 48
        },
        {
          "output_type": "stream",
          "text": [
            "time: 9.37 ms\n"
          ],
          "name": "stdout"
        }
      ]
    },
    {
      "cell_type": "markdown",
      "metadata": {
        "id": "fAY5ZBvrtcUy",
        "colab_type": "text"
      },
      "source": [
        "### Point 5 (amount money borrowed)"
      ]
    },
    {
      "cell_type": "code",
      "metadata": {
        "id": "d47zSuN9stSB",
        "colab_type": "code",
        "outputId": "a77a073b-bdf8-4516-bcc3-d503777dfcc6",
        "colab": {
          "base_uri": "https://localhost:8080/",
          "height": 34
        }
      },
      "source": [
        "amount_state_year = loan_year.groupby(['country_code','year_disburse'])['loan_amount'].sum()\n",
        "amount_state_year = pd.DataFrame(amount_state_year)"
      ],
      "execution_count": 49,
      "outputs": [
        {
          "output_type": "stream",
          "text": [
            "time: 110 ms\n"
          ],
          "name": "stdout"
        }
      ]
    },
    {
      "cell_type": "markdown",
      "metadata": {
        "id": "C3kspnU9yaCx",
        "colab_type": "text"
      },
      "source": [
        "#### _Result_"
      ]
    },
    {
      "cell_type": "code",
      "metadata": {
        "id": "kztJwJeJ1fNP",
        "colab_type": "code",
        "outputId": "09bb1621-c310-469d-d601-73abaa2119f4",
        "colab": {
          "base_uri": "https://localhost:8080/",
          "height": 34
        }
      },
      "source": [
        "len(amount_state_year)"
      ],
      "execution_count": 50,
      "outputs": [
        {
          "output_type": "execute_result",
          "data": {
            "text/plain": [
              "748"
            ]
          },
          "metadata": {
            "tags": []
          },
          "execution_count": 50
        },
        {
          "output_type": "stream",
          "text": [
            "time: 2.93 ms\n"
          ],
          "name": "stdout"
        }
      ]
    },
    {
      "cell_type": "code",
      "metadata": {
        "id": "KdRzR8QByZDS",
        "colab_type": "code",
        "outputId": "2e3e8785-ce61-4897-9f1b-3bd29025ab82",
        "colab": {
          "base_uri": "https://localhost:8080/",
          "height": 242
        }
      },
      "source": [
        "amount_state_year.head()"
      ],
      "execution_count": 51,
      "outputs": [
        {
          "output_type": "execute_result",
          "data": {
            "text/html": [
              "<div>\n",
              "<style scoped>\n",
              "    .dataframe tbody tr th:only-of-type {\n",
              "        vertical-align: middle;\n",
              "    }\n",
              "\n",
              "    .dataframe tbody tr th {\n",
              "        vertical-align: top;\n",
              "    }\n",
              "\n",
              "    .dataframe thead th {\n",
              "        text-align: right;\n",
              "    }\n",
              "</style>\n",
              "<table border=\"1\" class=\"dataframe\">\n",
              "  <thead>\n",
              "    <tr style=\"text-align: right;\">\n",
              "      <th></th>\n",
              "      <th></th>\n",
              "      <th>loan_amount</th>\n",
              "    </tr>\n",
              "    <tr>\n",
              "      <th>country_code</th>\n",
              "      <th>year_disburse</th>\n",
              "      <th></th>\n",
              "    </tr>\n",
              "  </thead>\n",
              "  <tbody>\n",
              "    <tr>\n",
              "      <th rowspan=\"5\" valign=\"top\">AF</th>\n",
              "      <th>2007</th>\n",
              "      <td>194975.0</td>\n",
              "    </tr>\n",
              "    <tr>\n",
              "      <th>2008</th>\n",
              "      <td>365375.0</td>\n",
              "    </tr>\n",
              "    <tr>\n",
              "      <th>2009</th>\n",
              "      <td>585125.0</td>\n",
              "    </tr>\n",
              "    <tr>\n",
              "      <th>2010</th>\n",
              "      <td>563350.0</td>\n",
              "    </tr>\n",
              "    <tr>\n",
              "      <th>2011</th>\n",
              "      <td>245125.0</td>\n",
              "    </tr>\n",
              "  </tbody>\n",
              "</table>\n",
              "</div>"
            ],
            "text/plain": [
              "                            loan_amount\n",
              "country_code year_disburse             \n",
              "AF           2007              194975.0\n",
              "             2008              365375.0\n",
              "             2009              585125.0\n",
              "             2010              563350.0\n",
              "             2011              245125.0"
            ]
          },
          "metadata": {
            "tags": []
          },
          "execution_count": 51
        },
        {
          "output_type": "stream",
          "text": [
            "time: 12.1 ms\n"
          ],
          "name": "stdout"
        }
      ]
    },
    {
      "cell_type": "markdown",
      "metadata": {
        "id": "URit4OzOzHXJ",
        "colab_type": "text"
      },
      "source": [
        "### Point 6 (amount money percentage)"
      ]
    },
    {
      "cell_type": "code",
      "metadata": {
        "id": "vKUrI0dQ2bPy",
        "colab_type": "code",
        "outputId": "12f95e9c-ef54-4da9-dadd-3330fab04f0e",
        "colab": {
          "base_uri": "https://localhost:8080/",
          "height": 34
        }
      },
      "source": [
        "amount_state_year.reset_index(level=[0],inplace=True) #conversione multiindex in indice singolo"
      ],
      "execution_count": 52,
      "outputs": [
        {
          "output_type": "stream",
          "text": [
            "time: 2.82 ms\n"
          ],
          "name": "stdout"
        }
      ]
    },
    {
      "cell_type": "code",
      "metadata": {
        "id": "15J5esvxzGH3",
        "colab_type": "code",
        "outputId": "4ef027a4-7c41-4f63-f604-80d2eea94e6a",
        "colab": {
          "base_uri": "https://localhost:8080/",
          "height": 34
        }
      },
      "source": [
        "total_year = loan_year.groupby('year_disburse')['loan_amount'].sum() #per ogni anno denaro totale prestiti\n",
        "total_year = pd.DataFrame(total_year)"
      ],
      "execution_count": 53,
      "outputs": [
        {
          "output_type": "stream",
          "text": [
            "time: 24.7 ms\n"
          ],
          "name": "stdout"
        }
      ]
    },
    {
      "cell_type": "code",
      "metadata": {
        "id": "oVmK4XOO0JOf",
        "colab_type": "code",
        "outputId": "e8235986-e71d-49b6-e35c-260bf983128c",
        "colab": {
          "base_uri": "https://localhost:8080/",
          "height": 34
        }
      },
      "source": [
        "amount_state_year_perc = pd.merge(amount_state_year,total_year,on='year_disburse',how='inner')\n",
        "amount_state_year_perc.rename(columns={'loan_amount_x': 'loan_amount',\n",
        "                    'loan_amount_y': 'total'}, inplace=True)"
      ],
      "execution_count": 54,
      "outputs": [
        {
          "output_type": "stream",
          "text": [
            "time: 8.4 ms\n"
          ],
          "name": "stdout"
        }
      ]
    },
    {
      "cell_type": "code",
      "metadata": {
        "id": "xu0mV0nN3oV0",
        "colab_type": "code",
        "outputId": "8c50ad73-f744-4c1e-a6bd-3140943f04e0",
        "colab": {
          "base_uri": "https://localhost:8080/",
          "height": 34
        }
      },
      "source": [
        "amount_state_year_perc.reset_index(inplace=True)\n",
        "amount_state_year_perc.sort_values(by=['country_code','year_disburse'],ascending=True,inplace=True)"
      ],
      "execution_count": 55,
      "outputs": [
        {
          "output_type": "stream",
          "text": [
            "time: 6.09 ms\n"
          ],
          "name": "stdout"
        }
      ]
    },
    {
      "cell_type": "code",
      "metadata": {
        "id": "F5LPIhUv5jea",
        "colab_type": "code",
        "outputId": "16246e23-8cde-4372-e8f0-9acba9c41461",
        "colab": {
          "base_uri": "https://localhost:8080/",
          "height": 34
        }
      },
      "source": [
        "amount_state_year_perc.set_index(['country_code','year_disburse'],inplace=True) #creazione multiindex\n",
        "amount_state_year_perc['percentage'] = round(amount_state_year_perc['loan_amount'] / amount_state_year_perc['total']*100,3)"
      ],
      "execution_count": 56,
      "outputs": [
        {
          "output_type": "stream",
          "text": [
            "time: 6.08 ms\n"
          ],
          "name": "stdout"
        }
      ]
    },
    {
      "cell_type": "code",
      "metadata": {
        "id": "cWxArVDw6DyA",
        "colab_type": "code",
        "outputId": "8573a4ff-d99a-455f-9f59-a91b58bf0bad",
        "colab": {
          "base_uri": "https://localhost:8080/",
          "height": 34
        }
      },
      "source": [
        "amount_state_year_perc.drop(columns='total',inplace=True)\n",
        "amount_state_year_perc.rename(columns={'loan_amount':'borrowed'},inplace=True)"
      ],
      "execution_count": 57,
      "outputs": [
        {
          "output_type": "stream",
          "text": [
            "time: 4.5 ms\n"
          ],
          "name": "stdout"
        }
      ]
    },
    {
      "cell_type": "markdown",
      "metadata": {
        "id": "1E1eXCWnBEmh",
        "colab_type": "text"
      },
      "source": [
        "#### _Result_"
      ]
    },
    {
      "cell_type": "code",
      "metadata": {
        "id": "-hb5rNmZBD1H",
        "colab_type": "code",
        "outputId": "be3d1aa8-54c3-4139-f9a5-a1931c34915d",
        "colab": {
          "base_uri": "https://localhost:8080/",
          "height": 242
        }
      },
      "source": [
        "amount_state_year_perc.head()"
      ],
      "execution_count": 58,
      "outputs": [
        {
          "output_type": "execute_result",
          "data": {
            "text/html": [
              "<div>\n",
              "<style scoped>\n",
              "    .dataframe tbody tr th:only-of-type {\n",
              "        vertical-align: middle;\n",
              "    }\n",
              "\n",
              "    .dataframe tbody tr th {\n",
              "        vertical-align: top;\n",
              "    }\n",
              "\n",
              "    .dataframe thead th {\n",
              "        text-align: right;\n",
              "    }\n",
              "</style>\n",
              "<table border=\"1\" class=\"dataframe\">\n",
              "  <thead>\n",
              "    <tr style=\"text-align: right;\">\n",
              "      <th></th>\n",
              "      <th></th>\n",
              "      <th>borrowed</th>\n",
              "      <th>percentage</th>\n",
              "    </tr>\n",
              "    <tr>\n",
              "      <th>country_code</th>\n",
              "      <th>year_disburse</th>\n",
              "      <th></th>\n",
              "      <th></th>\n",
              "    </tr>\n",
              "  </thead>\n",
              "  <tbody>\n",
              "    <tr>\n",
              "      <th rowspan=\"5\" valign=\"top\">AF</th>\n",
              "      <th>2007</th>\n",
              "      <td>194975.0</td>\n",
              "      <td>1.262</td>\n",
              "    </tr>\n",
              "    <tr>\n",
              "      <th>2008</th>\n",
              "      <td>365375.0</td>\n",
              "      <td>0.927</td>\n",
              "    </tr>\n",
              "    <tr>\n",
              "      <th>2009</th>\n",
              "      <td>585125.0</td>\n",
              "      <td>0.980</td>\n",
              "    </tr>\n",
              "    <tr>\n",
              "      <th>2010</th>\n",
              "      <td>563350.0</td>\n",
              "      <td>0.776</td>\n",
              "    </tr>\n",
              "    <tr>\n",
              "      <th>2011</th>\n",
              "      <td>245125.0</td>\n",
              "      <td>0.262</td>\n",
              "    </tr>\n",
              "  </tbody>\n",
              "</table>\n",
              "</div>"
            ],
            "text/plain": [
              "                            borrowed  percentage\n",
              "country_code year_disburse                      \n",
              "AF           2007           194975.0       1.262\n",
              "             2008           365375.0       0.927\n",
              "             2009           585125.0       0.980\n",
              "             2010           563350.0       0.776\n",
              "             2011           245125.0       0.262"
            ]
          },
          "metadata": {
            "tags": []
          },
          "execution_count": 58
        },
        {
          "output_type": "stream",
          "text": [
            "time: 11.4 ms\n"
          ],
          "name": "stdout"
        }
      ]
    },
    {
      "cell_type": "markdown",
      "metadata": {
        "id": "9cWj5GvvDNak",
        "colab_type": "text"
      },
      "source": [
        "## Task 8\n",
        "- For each lender, compute the overall amount of money lent. For each loan that has more than one lender, you must assume that all lenders contributed the same amount."
      ]
    },
    {
      "cell_type": "code",
      "metadata": {
        "id": "XUJlYtiAEje7",
        "colab_type": "code",
        "outputId": "12c27083-32a7-468a-ad4c-312e799aa391",
        "colab": {
          "base_uri": "https://localhost:8080/",
          "height": 34
        }
      },
      "source": [
        "number_loans_lender_norm=loans_lender_norm.groupby('loan_id')['lenders'].count()\n",
        "number_loans_lender_norm=pd.DataFrame(number_loans_lender_norm).reset_index(level=0) #per ogni loan numero lenders"
      ],
      "execution_count": 59,
      "outputs": [
        {
          "output_type": "stream",
          "text": [
            "time: 2.37 s\n"
          ],
          "name": "stdout"
        }
      ]
    },
    {
      "cell_type": "code",
      "metadata": {
        "id": "zn6njOTxubhi",
        "colab_type": "code",
        "outputId": "cd6e62b7-1f42-4be3-aca3-bb8a3a71e5ed",
        "colab": {
          "base_uri": "https://localhost:8080/",
          "height": 212
        }
      },
      "source": [
        "number_loans_lender_norm.head()"
      ],
      "execution_count": 60,
      "outputs": [
        {
          "output_type": "execute_result",
          "data": {
            "text/html": [
              "<div>\n",
              "<style scoped>\n",
              "    .dataframe tbody tr th:only-of-type {\n",
              "        vertical-align: middle;\n",
              "    }\n",
              "\n",
              "    .dataframe tbody tr th {\n",
              "        vertical-align: top;\n",
              "    }\n",
              "\n",
              "    .dataframe thead th {\n",
              "        text-align: right;\n",
              "    }\n",
              "</style>\n",
              "<table border=\"1\" class=\"dataframe\">\n",
              "  <thead>\n",
              "    <tr style=\"text-align: right;\">\n",
              "      <th></th>\n",
              "      <th>loan_id</th>\n",
              "      <th>lenders</th>\n",
              "    </tr>\n",
              "  </thead>\n",
              "  <tbody>\n",
              "    <tr>\n",
              "      <th>0</th>\n",
              "      <td>84</td>\n",
              "      <td>3</td>\n",
              "    </tr>\n",
              "    <tr>\n",
              "      <th>1</th>\n",
              "      <td>85</td>\n",
              "      <td>2</td>\n",
              "    </tr>\n",
              "    <tr>\n",
              "      <th>2</th>\n",
              "      <td>86</td>\n",
              "      <td>3</td>\n",
              "    </tr>\n",
              "    <tr>\n",
              "      <th>3</th>\n",
              "      <td>88</td>\n",
              "      <td>3</td>\n",
              "    </tr>\n",
              "    <tr>\n",
              "      <th>4</th>\n",
              "      <td>89</td>\n",
              "      <td>4</td>\n",
              "    </tr>\n",
              "  </tbody>\n",
              "</table>\n",
              "</div>"
            ],
            "text/plain": [
              "   loan_id  lenders\n",
              "0       84        3\n",
              "1       85        2\n",
              "2       86        3\n",
              "3       88        3\n",
              "4       89        4"
            ]
          },
          "metadata": {
            "tags": []
          },
          "execution_count": 60
        },
        {
          "output_type": "stream",
          "text": [
            "time: 9.09 ms\n"
          ],
          "name": "stdout"
        }
      ]
    },
    {
      "cell_type": "markdown",
      "metadata": {
        "id": "_p7KiNmgww0i",
        "colab_type": "text"
      },
      "source": [
        "### Get number lenders for each loan"
      ]
    },
    {
      "cell_type": "code",
      "metadata": {
        "id": "M_-CUKmLFg5S",
        "colab_type": "code",
        "outputId": "5a0217f0-6972-4e12-9bcb-68a003ded032",
        "colab": {
          "base_uri": "https://localhost:8080/",
          "height": 34
        }
      },
      "source": [
        "loans_lender_amount = pd.merge(loan_simplified,number_loans_lender_norm,how=\"inner\",on=\"loan_id\")\n",
        "loans_lender_amount= loans_lender_amount[['loan_id','num_lenders_total','lenders','loan_amount']]"
      ],
      "execution_count": 61,
      "outputs": [
        {
          "output_type": "stream",
          "text": [
            "time: 663 ms\n"
          ],
          "name": "stdout"
        }
      ]
    },
    {
      "cell_type": "code",
      "metadata": {
        "id": "C0H9eMJUIl_a",
        "colab_type": "code",
        "outputId": "477f2ea2-7bdc-4b08-f8a5-762b49a167b2",
        "colab": {
          "base_uri": "https://localhost:8080/",
          "height": 34
        }
      },
      "source": [
        "correct = loans_lender_amount[loans_lender_amount['num_lenders_total']==loans_lender_amount['lenders']]\n",
        "wrong = loans_lender_amount[loans_lender_amount['num_lenders_total']!=loans_lender_amount['lenders']]"
      ],
      "execution_count": 62,
      "outputs": [
        {
          "output_type": "stream",
          "text": [
            "time: 53.9 ms\n"
          ],
          "name": "stdout"
        }
      ]
    },
    {
      "cell_type": "code",
      "metadata": {
        "id": "kjjsczFRJJeg",
        "colab_type": "code",
        "outputId": "86c4e686-fe54-460b-8c92-91ca51cee62e",
        "colab": {
          "base_uri": "https://localhost:8080/",
          "height": 67
        }
      },
      "source": [
        "print(\"Correct info: \"+str(len(correct)/len(loans_lender_amount)))\n",
        "print(\"Errors: \"+str(len(wrong)/len(loans_lender_amount)))"
      ],
      "execution_count": 63,
      "outputs": [
        {
          "output_type": "stream",
          "text": [
            "Correct info: 0.1917209397532701\n",
            "Errors: 0.8082790602467299\n",
            "time: 1.83 ms\n"
          ],
          "name": "stdout"
        }
      ]
    },
    {
      "cell_type": "markdown",
      "metadata": {
        "id": "v5EoCcw2xRnm",
        "colab_type": "text"
      },
      "source": [
        "### Fixed count lenders for each loan"
      ]
    },
    {
      "cell_type": "code",
      "metadata": {
        "id": "-zkLgG65yEEB",
        "colab_type": "code",
        "outputId": "735ddca5-e543-412e-8815-891e15831ea0",
        "colab": {
          "base_uri": "https://localhost:8080/",
          "height": 34
        }
      },
      "source": [
        "loans_lender_amount.drop(columns='num_lenders_total',inplace=True)"
      ],
      "execution_count": 64,
      "outputs": [
        {
          "output_type": "stream",
          "text": [
            "time: 13.8 ms\n"
          ],
          "name": "stdout"
        }
      ]
    },
    {
      "cell_type": "code",
      "metadata": {
        "id": "f0b3RtIaxwUU",
        "colab_type": "code",
        "outputId": "c6d520ab-8ab9-4e9f-dd7a-930e9ad903f3",
        "colab": {
          "base_uri": "https://localhost:8080/",
          "height": 212
        }
      },
      "source": [
        "loans_lender_amount.head()"
      ],
      "execution_count": 65,
      "outputs": [
        {
          "output_type": "execute_result",
          "data": {
            "text/html": [
              "<div>\n",
              "<style scoped>\n",
              "    .dataframe tbody tr th:only-of-type {\n",
              "        vertical-align: middle;\n",
              "    }\n",
              "\n",
              "    .dataframe tbody tr th {\n",
              "        vertical-align: top;\n",
              "    }\n",
              "\n",
              "    .dataframe thead th {\n",
              "        text-align: right;\n",
              "    }\n",
              "</style>\n",
              "<table border=\"1\" class=\"dataframe\">\n",
              "  <thead>\n",
              "    <tr style=\"text-align: right;\">\n",
              "      <th></th>\n",
              "      <th>loan_id</th>\n",
              "      <th>lenders</th>\n",
              "      <th>loan_amount</th>\n",
              "    </tr>\n",
              "  </thead>\n",
              "  <tbody>\n",
              "    <tr>\n",
              "      <th>0</th>\n",
              "      <td>657307</td>\n",
              "      <td>3</td>\n",
              "      <td>125.0</td>\n",
              "    </tr>\n",
              "    <tr>\n",
              "      <th>1</th>\n",
              "      <td>657259</td>\n",
              "      <td>7</td>\n",
              "      <td>400.0</td>\n",
              "    </tr>\n",
              "    <tr>\n",
              "      <th>2</th>\n",
              "      <td>658010</td>\n",
              "      <td>14</td>\n",
              "      <td>400.0</td>\n",
              "    </tr>\n",
              "    <tr>\n",
              "      <th>3</th>\n",
              "      <td>659347</td>\n",
              "      <td>17</td>\n",
              "      <td>625.0</td>\n",
              "    </tr>\n",
              "    <tr>\n",
              "      <th>4</th>\n",
              "      <td>656933</td>\n",
              "      <td>14</td>\n",
              "      <td>425.0</td>\n",
              "    </tr>\n",
              "  </tbody>\n",
              "</table>\n",
              "</div>"
            ],
            "text/plain": [
              "   loan_id  lenders  loan_amount\n",
              "0   657307        3        125.0\n",
              "1   657259        7        400.0\n",
              "2   658010       14        400.0\n",
              "3   659347       17        625.0\n",
              "4   656933       14        425.0"
            ]
          },
          "metadata": {
            "tags": []
          },
          "execution_count": 65
        },
        {
          "output_type": "stream",
          "text": [
            "time: 10.4 ms\n"
          ],
          "name": "stdout"
        }
      ]
    },
    {
      "cell_type": "markdown",
      "metadata": {
        "id": "1Ohl6yFx1pNh",
        "colab_type": "text"
      },
      "source": [
        "### Compute contribution lenders for each loan"
      ]
    },
    {
      "cell_type": "code",
      "metadata": {
        "id": "fr5Vhem6OsGc",
        "colab_type": "code",
        "outputId": "2c4d45b9-6dad-4aa9-b43d-34c4536265dd",
        "colab": {
          "base_uri": "https://localhost:8080/",
          "height": 34
        }
      },
      "source": [
        "loans_lender_amount['amount']=round(loans_lender_amount['loan_amount']/loans_lender_amount['lenders'],2)"
      ],
      "execution_count": 66,
      "outputs": [
        {
          "output_type": "stream",
          "text": [
            "time: 18.1 ms\n"
          ],
          "name": "stdout"
        }
      ]
    },
    {
      "cell_type": "code",
      "metadata": {
        "id": "zlAyAEOvbp0J",
        "colab_type": "code",
        "outputId": "499c9736-f3f1-4105-ccc5-5f2f86cfa55a",
        "colab": {
          "base_uri": "https://localhost:8080/",
          "height": 212
        }
      },
      "source": [
        "loans_lender_amount.head()"
      ],
      "execution_count": 67,
      "outputs": [
        {
          "output_type": "execute_result",
          "data": {
            "text/html": [
              "<div>\n",
              "<style scoped>\n",
              "    .dataframe tbody tr th:only-of-type {\n",
              "        vertical-align: middle;\n",
              "    }\n",
              "\n",
              "    .dataframe tbody tr th {\n",
              "        vertical-align: top;\n",
              "    }\n",
              "\n",
              "    .dataframe thead th {\n",
              "        text-align: right;\n",
              "    }\n",
              "</style>\n",
              "<table border=\"1\" class=\"dataframe\">\n",
              "  <thead>\n",
              "    <tr style=\"text-align: right;\">\n",
              "      <th></th>\n",
              "      <th>loan_id</th>\n",
              "      <th>lenders</th>\n",
              "      <th>loan_amount</th>\n",
              "      <th>amount</th>\n",
              "    </tr>\n",
              "  </thead>\n",
              "  <tbody>\n",
              "    <tr>\n",
              "      <th>0</th>\n",
              "      <td>657307</td>\n",
              "      <td>3</td>\n",
              "      <td>125.0</td>\n",
              "      <td>41.67</td>\n",
              "    </tr>\n",
              "    <tr>\n",
              "      <th>1</th>\n",
              "      <td>657259</td>\n",
              "      <td>7</td>\n",
              "      <td>400.0</td>\n",
              "      <td>57.14</td>\n",
              "    </tr>\n",
              "    <tr>\n",
              "      <th>2</th>\n",
              "      <td>658010</td>\n",
              "      <td>14</td>\n",
              "      <td>400.0</td>\n",
              "      <td>28.57</td>\n",
              "    </tr>\n",
              "    <tr>\n",
              "      <th>3</th>\n",
              "      <td>659347</td>\n",
              "      <td>17</td>\n",
              "      <td>625.0</td>\n",
              "      <td>36.76</td>\n",
              "    </tr>\n",
              "    <tr>\n",
              "      <th>4</th>\n",
              "      <td>656933</td>\n",
              "      <td>14</td>\n",
              "      <td>425.0</td>\n",
              "      <td>30.36</td>\n",
              "    </tr>\n",
              "  </tbody>\n",
              "</table>\n",
              "</div>"
            ],
            "text/plain": [
              "   loan_id  lenders  loan_amount  amount\n",
              "0   657307        3        125.0   41.67\n",
              "1   657259        7        400.0   57.14\n",
              "2   658010       14        400.0   28.57\n",
              "3   659347       17        625.0   36.76\n",
              "4   656933       14        425.0   30.36"
            ]
          },
          "metadata": {
            "tags": []
          },
          "execution_count": 67
        },
        {
          "output_type": "stream",
          "text": [
            "time: 12.3 ms\n"
          ],
          "name": "stdout"
        }
      ]
    },
    {
      "cell_type": "code",
      "metadata": {
        "id": "IPPOA09QczNE",
        "colab_type": "code",
        "outputId": "9618c593-6a47-4838-b557-bb7b65048c28",
        "colab": {
          "base_uri": "https://localhost:8080/",
          "height": 34
        }
      },
      "source": [
        "amount_loan_lender = pd.merge(loans_lender_norm,loans_lender_amount,how=\"inner\",on='loan_id')\n",
        "amount_loan_lender.drop(columns=['loan_amount','lenders_y'],inplace=True)\n",
        "amount_loan_lender.rename(columns={'lenders_x':'lenders'},inplace=True)"
      ],
      "execution_count": 68,
      "outputs": [
        {
          "output_type": "stream",
          "text": [
            "time: 5.55 s\n"
          ],
          "name": "stdout"
        }
      ]
    },
    {
      "cell_type": "code",
      "metadata": {
        "id": "jdNHodV2e20L",
        "colab_type": "code",
        "outputId": "19eacb78-63aa-469c-d944-6e58870ee14e",
        "colab": {
          "base_uri": "https://localhost:8080/",
          "height": 34
        }
      },
      "source": [
        "amount_lender = amount_loan_lender.groupby('lenders')['amount'].sum()\n",
        "amount_lender = pd.DataFrame(amount_lender).reset_index(level=0)"
      ],
      "execution_count": 69,
      "outputs": [
        {
          "output_type": "stream",
          "text": [
            "time: 12.3 s\n"
          ],
          "name": "stdout"
        }
      ]
    },
    {
      "cell_type": "markdown",
      "metadata": {
        "id": "3TyiPuDJ4fSb",
        "colab_type": "text"
      },
      "source": [
        "### _Result_"
      ]
    },
    {
      "cell_type": "code",
      "metadata": {
        "id": "Vc0k4AgZgs7e",
        "colab_type": "code",
        "outputId": "5b314ad4-4723-4c8a-ed4e-ca4e7814ec69",
        "colab": {
          "base_uri": "https://localhost:8080/",
          "height": 212
        }
      },
      "source": [
        "amount_lender.head()"
      ],
      "execution_count": 70,
      "outputs": [
        {
          "output_type": "execute_result",
          "data": {
            "text/html": [
              "<div>\n",
              "<style scoped>\n",
              "    .dataframe tbody tr th:only-of-type {\n",
              "        vertical-align: middle;\n",
              "    }\n",
              "\n",
              "    .dataframe tbody tr th {\n",
              "        vertical-align: top;\n",
              "    }\n",
              "\n",
              "    .dataframe thead th {\n",
              "        text-align: right;\n",
              "    }\n",
              "</style>\n",
              "<table border=\"1\" class=\"dataframe\">\n",
              "  <thead>\n",
              "    <tr style=\"text-align: right;\">\n",
              "      <th></th>\n",
              "      <th>lenders</th>\n",
              "      <th>amount</th>\n",
              "    </tr>\n",
              "  </thead>\n",
              "  <tbody>\n",
              "    <tr>\n",
              "      <th>0</th>\n",
              "      <td>000</td>\n",
              "      <td>1764.26</td>\n",
              "    </tr>\n",
              "    <tr>\n",
              "      <th>1</th>\n",
              "      <td>00000</td>\n",
              "      <td>1380.68</td>\n",
              "    </tr>\n",
              "    <tr>\n",
              "      <th>2</th>\n",
              "      <td>0002</td>\n",
              "      <td>2472.54</td>\n",
              "    </tr>\n",
              "    <tr>\n",
              "      <th>3</th>\n",
              "      <td>00mike00</td>\n",
              "      <td>52.63</td>\n",
              "    </tr>\n",
              "    <tr>\n",
              "      <th>4</th>\n",
              "      <td>0101craign0101</td>\n",
              "      <td>2623.50</td>\n",
              "    </tr>\n",
              "  </tbody>\n",
              "</table>\n",
              "</div>"
            ],
            "text/plain": [
              "          lenders   amount\n",
              "0             000  1764.26\n",
              "1           00000  1380.68\n",
              "2            0002  2472.54\n",
              "3        00mike00    52.63\n",
              "4  0101craign0101  2623.50"
            ]
          },
          "metadata": {
            "tags": []
          },
          "execution_count": 70
        },
        {
          "output_type": "stream",
          "text": [
            "time: 11 ms\n"
          ],
          "name": "stdout"
        }
      ]
    },
    {
      "cell_type": "markdown",
      "metadata": {
        "id": "bFOyaQ_a4_fM",
        "colab_type": "text"
      },
      "source": [
        "## Task 9\n",
        "- For each country, compute the difference between the overall amount of money lent and the overall amount of money borrowed. Since the country of the lender is often unknown, you can assume that the true distribution among the countries is the same as the one computed from the rows where the country is known."
      ]
    },
    {
      "cell_type": "markdown",
      "metadata": {
        "id": "QXKlr765-m49",
        "colab_type": "text"
      },
      "source": [
        "### Load csv\n",
        "1. lenders\n",
        "2. country_stats"
      ]
    },
    {
      "cell_type": "code",
      "metadata": {
        "id": "Z4sd6tju5Olp",
        "colab_type": "code",
        "outputId": "f89462b5-0c85-4a2b-bbd4-f2de0e1a0e16",
        "colab": {
          "base_uri": "https://localhost:8080/",
          "height": 34
        }
      },
      "source": [
        "lenders = pd.read_csv('/content/drive/My Drive/Foundation of computer science/additional-kiva-snapshot/lenders.csv')"
      ],
      "execution_count": 71,
      "outputs": [
        {
          "output_type": "stream",
          "text": [
            "time: 4.08 s\n"
          ],
          "name": "stdout"
        }
      ]
    },
    {
      "cell_type": "markdown",
      "metadata": {
        "id": "yq5tivIL3_i0",
        "colab_type": "text"
      },
      "source": [
        "_Overview_"
      ]
    },
    {
      "cell_type": "code",
      "metadata": {
        "id": "Y-bRzrVh4AuC",
        "colab_type": "code",
        "outputId": "010dd4ba-0a0b-4b8d-f10e-2a9511f89de1",
        "colab": {
          "base_uri": "https://localhost:8080/",
          "height": 218
        }
      },
      "source": [
        "lenders.dtypes"
      ],
      "execution_count": 72,
      "outputs": [
        {
          "output_type": "execute_result",
          "data": {
            "text/plain": [
              "permanent_name        object\n",
              "display_name          object\n",
              "city                  object\n",
              "state                 object\n",
              "country_code          object\n",
              "member_since           int64\n",
              "occupation            object\n",
              "loan_because          object\n",
              "loan_purchase_num    float64\n",
              "invited_by            object\n",
              "num_invited            int64\n",
              "dtype: object"
            ]
          },
          "metadata": {
            "tags": []
          },
          "execution_count": 72
        },
        {
          "output_type": "stream",
          "text": [
            "time: 4.06 ms\n"
          ],
          "name": "stdout"
        }
      ]
    },
    {
      "cell_type": "code",
      "metadata": {
        "id": "9miSowhW4Etk",
        "colab_type": "code",
        "outputId": "a7e731a5-77d9-4179-901d-c2de5a99dfb9",
        "colab": {
          "base_uri": "https://localhost:8080/",
          "height": 229
        }
      },
      "source": [
        "print('Number rows total: '+str(len(lenders)))\n",
        "lenders.head()"
      ],
      "execution_count": 73,
      "outputs": [
        {
          "output_type": "stream",
          "text": [
            "Number rows total: 2349174\n"
          ],
          "name": "stdout"
        },
        {
          "output_type": "execute_result",
          "data": {
            "text/html": [
              "<div>\n",
              "<style scoped>\n",
              "    .dataframe tbody tr th:only-of-type {\n",
              "        vertical-align: middle;\n",
              "    }\n",
              "\n",
              "    .dataframe tbody tr th {\n",
              "        vertical-align: top;\n",
              "    }\n",
              "\n",
              "    .dataframe thead th {\n",
              "        text-align: right;\n",
              "    }\n",
              "</style>\n",
              "<table border=\"1\" class=\"dataframe\">\n",
              "  <thead>\n",
              "    <tr style=\"text-align: right;\">\n",
              "      <th></th>\n",
              "      <th>permanent_name</th>\n",
              "      <th>display_name</th>\n",
              "      <th>city</th>\n",
              "      <th>state</th>\n",
              "      <th>country_code</th>\n",
              "      <th>member_since</th>\n",
              "      <th>occupation</th>\n",
              "      <th>loan_because</th>\n",
              "      <th>loan_purchase_num</th>\n",
              "      <th>invited_by</th>\n",
              "      <th>num_invited</th>\n",
              "    </tr>\n",
              "  </thead>\n",
              "  <tbody>\n",
              "    <tr>\n",
              "      <th>0</th>\n",
              "      <td>qian3013</td>\n",
              "      <td>Qian</td>\n",
              "      <td>NaN</td>\n",
              "      <td>NaN</td>\n",
              "      <td>NaN</td>\n",
              "      <td>1461300457</td>\n",
              "      <td>NaN</td>\n",
              "      <td>NaN</td>\n",
              "      <td>1.0</td>\n",
              "      <td>NaN</td>\n",
              "      <td>0</td>\n",
              "    </tr>\n",
              "    <tr>\n",
              "      <th>1</th>\n",
              "      <td>reena6733</td>\n",
              "      <td>Reena</td>\n",
              "      <td>NaN</td>\n",
              "      <td>NaN</td>\n",
              "      <td>NaN</td>\n",
              "      <td>1461300634</td>\n",
              "      <td>NaN</td>\n",
              "      <td>NaN</td>\n",
              "      <td>9.0</td>\n",
              "      <td>NaN</td>\n",
              "      <td>0</td>\n",
              "    </tr>\n",
              "    <tr>\n",
              "      <th>2</th>\n",
              "      <td>mai5982</td>\n",
              "      <td>Mai</td>\n",
              "      <td>NaN</td>\n",
              "      <td>NaN</td>\n",
              "      <td>NaN</td>\n",
              "      <td>1461300853</td>\n",
              "      <td>NaN</td>\n",
              "      <td>NaN</td>\n",
              "      <td>NaN</td>\n",
              "      <td>NaN</td>\n",
              "      <td>0</td>\n",
              "    </tr>\n",
              "    <tr>\n",
              "      <th>3</th>\n",
              "      <td>andrew86079135</td>\n",
              "      <td>Andrew</td>\n",
              "      <td>NaN</td>\n",
              "      <td>NaN</td>\n",
              "      <td>NaN</td>\n",
              "      <td>1461301091</td>\n",
              "      <td>NaN</td>\n",
              "      <td>NaN</td>\n",
              "      <td>5.0</td>\n",
              "      <td>Peter Tan</td>\n",
              "      <td>0</td>\n",
              "    </tr>\n",
              "    <tr>\n",
              "      <th>4</th>\n",
              "      <td>nguyen6962</td>\n",
              "      <td>Nguyen</td>\n",
              "      <td>NaN</td>\n",
              "      <td>NaN</td>\n",
              "      <td>NaN</td>\n",
              "      <td>1461301154</td>\n",
              "      <td>NaN</td>\n",
              "      <td>NaN</td>\n",
              "      <td>NaN</td>\n",
              "      <td>NaN</td>\n",
              "      <td>0</td>\n",
              "    </tr>\n",
              "  </tbody>\n",
              "</table>\n",
              "</div>"
            ],
            "text/plain": [
              "   permanent_name display_name city  ... loan_purchase_num invited_by  num_invited\n",
              "0        qian3013         Qian  NaN  ...               1.0        NaN            0\n",
              "1       reena6733        Reena  NaN  ...               9.0        NaN            0\n",
              "2         mai5982          Mai  NaN  ...               NaN        NaN            0\n",
              "3  andrew86079135       Andrew  NaN  ...               5.0  Peter Tan            0\n",
              "4      nguyen6962       Nguyen  NaN  ...               NaN        NaN            0\n",
              "\n",
              "[5 rows x 11 columns]"
            ]
          },
          "metadata": {
            "tags": []
          },
          "execution_count": 73
        },
        {
          "output_type": "stream",
          "text": [
            "time: 26.7 ms\n"
          ],
          "name": "stdout"
        }
      ]
    },
    {
      "cell_type": "code",
      "metadata": {
        "id": "tPPY7Ipy-_9X",
        "colab_type": "code",
        "outputId": "bf7bbb66-cd2a-4246-a1b9-a35a7695b82e",
        "colab": {
          "base_uri": "https://localhost:8080/",
          "height": 34
        }
      },
      "source": [
        "country_info=pd.read_csv('/content/drive/My Drive/Foundation of computer science/additional-kiva-snapshot/country_stats.csv')"
      ],
      "execution_count": 74,
      "outputs": [
        {
          "output_type": "stream",
          "text": [
            "time: 7.84 ms\n"
          ],
          "name": "stdout"
        }
      ]
    },
    {
      "cell_type": "markdown",
      "metadata": {
        "id": "51mMuQBq4ZjR",
        "colab_type": "text"
      },
      "source": [
        "_Overview_"
      ]
    },
    {
      "cell_type": "code",
      "metadata": {
        "id": "bGAS443b4cj5",
        "colab_type": "code",
        "outputId": "7d39ed64-2800-40d2-c699-06d2a1de230b",
        "colab": {
          "base_uri": "https://localhost:8080/",
          "height": 252
        }
      },
      "source": [
        "country_info.dtypes"
      ],
      "execution_count": 75,
      "outputs": [
        {
          "output_type": "execute_result",
          "data": {
            "text/plain": [
              "country_name                      object\n",
              "country_code                      object\n",
              "country_code3                     object\n",
              "continent                         object\n",
              "region                            object\n",
              "population                         int64\n",
              "population_below_poverty_line    float64\n",
              "hdi                              float64\n",
              "life_expectancy                  float64\n",
              "expected_years_of_schooling      float64\n",
              "mean_years_of_schooling          float64\n",
              "gni                              float64\n",
              "kiva_country_name                 object\n",
              "dtype: object"
            ]
          },
          "metadata": {
            "tags": []
          },
          "execution_count": 75
        },
        {
          "output_type": "stream",
          "text": [
            "time: 3.91 ms\n"
          ],
          "name": "stdout"
        }
      ]
    },
    {
      "cell_type": "code",
      "metadata": {
        "id": "dd59ZlV24maJ",
        "colab_type": "code",
        "outputId": "1ea736ca-85d8-4c50-e86e-2c64bea37a01",
        "colab": {
          "base_uri": "https://localhost:8080/",
          "height": 333
        }
      },
      "source": [
        "print('Number rows total: '+str(len(country_info)))\n",
        "country_info.head()"
      ],
      "execution_count": 76,
      "outputs": [
        {
          "output_type": "stream",
          "text": [
            "Number rows total: 174\n"
          ],
          "name": "stdout"
        },
        {
          "output_type": "execute_result",
          "data": {
            "text/html": [
              "<div>\n",
              "<style scoped>\n",
              "    .dataframe tbody tr th:only-of-type {\n",
              "        vertical-align: middle;\n",
              "    }\n",
              "\n",
              "    .dataframe tbody tr th {\n",
              "        vertical-align: top;\n",
              "    }\n",
              "\n",
              "    .dataframe thead th {\n",
              "        text-align: right;\n",
              "    }\n",
              "</style>\n",
              "<table border=\"1\" class=\"dataframe\">\n",
              "  <thead>\n",
              "    <tr style=\"text-align: right;\">\n",
              "      <th></th>\n",
              "      <th>country_name</th>\n",
              "      <th>country_code</th>\n",
              "      <th>country_code3</th>\n",
              "      <th>continent</th>\n",
              "      <th>region</th>\n",
              "      <th>population</th>\n",
              "      <th>population_below_poverty_line</th>\n",
              "      <th>hdi</th>\n",
              "      <th>life_expectancy</th>\n",
              "      <th>expected_years_of_schooling</th>\n",
              "      <th>mean_years_of_schooling</th>\n",
              "      <th>gni</th>\n",
              "      <th>kiva_country_name</th>\n",
              "    </tr>\n",
              "  </thead>\n",
              "  <tbody>\n",
              "    <tr>\n",
              "      <th>0</th>\n",
              "      <td>India</td>\n",
              "      <td>IN</td>\n",
              "      <td>IND</td>\n",
              "      <td>Asia</td>\n",
              "      <td>Southern Asia</td>\n",
              "      <td>1339180127</td>\n",
              "      <td>21.9</td>\n",
              "      <td>0.623559</td>\n",
              "      <td>68.322</td>\n",
              "      <td>11.696590</td>\n",
              "      <td>6.298834</td>\n",
              "      <td>5663.474799</td>\n",
              "      <td>India</td>\n",
              "    </tr>\n",
              "    <tr>\n",
              "      <th>1</th>\n",
              "      <td>Nigeria</td>\n",
              "      <td>NG</td>\n",
              "      <td>NGA</td>\n",
              "      <td>Africa</td>\n",
              "      <td>Western Africa</td>\n",
              "      <td>190886311</td>\n",
              "      <td>70.0</td>\n",
              "      <td>0.527105</td>\n",
              "      <td>53.057</td>\n",
              "      <td>9.970482</td>\n",
              "      <td>6.000000</td>\n",
              "      <td>5442.901264</td>\n",
              "      <td>Nigeria</td>\n",
              "    </tr>\n",
              "    <tr>\n",
              "      <th>2</th>\n",
              "      <td>Mexico</td>\n",
              "      <td>MX</td>\n",
              "      <td>MEX</td>\n",
              "      <td>Americas</td>\n",
              "      <td>Central America</td>\n",
              "      <td>129163276</td>\n",
              "      <td>46.2</td>\n",
              "      <td>0.761683</td>\n",
              "      <td>76.972</td>\n",
              "      <td>13.299090</td>\n",
              "      <td>8.554985</td>\n",
              "      <td>16383.106680</td>\n",
              "      <td>Mexico</td>\n",
              "    </tr>\n",
              "    <tr>\n",
              "      <th>3</th>\n",
              "      <td>Pakistan</td>\n",
              "      <td>PK</td>\n",
              "      <td>PAK</td>\n",
              "      <td>Asia</td>\n",
              "      <td>Southern Asia</td>\n",
              "      <td>197015955</td>\n",
              "      <td>29.5</td>\n",
              "      <td>0.550354</td>\n",
              "      <td>66.365</td>\n",
              "      <td>8.106910</td>\n",
              "      <td>5.089460</td>\n",
              "      <td>5031.173074</td>\n",
              "      <td>Pakistan</td>\n",
              "    </tr>\n",
              "    <tr>\n",
              "      <th>4</th>\n",
              "      <td>Bangladesh</td>\n",
              "      <td>BD</td>\n",
              "      <td>BGD</td>\n",
              "      <td>Asia</td>\n",
              "      <td>Southern Asia</td>\n",
              "      <td>164669751</td>\n",
              "      <td>31.5</td>\n",
              "      <td>0.578824</td>\n",
              "      <td>71.985</td>\n",
              "      <td>10.178706</td>\n",
              "      <td>5.241577</td>\n",
              "      <td>3341.490722</td>\n",
              "      <td>Bangladesh</td>\n",
              "    </tr>\n",
              "  </tbody>\n",
              "</table>\n",
              "</div>"
            ],
            "text/plain": [
              "  country_name country_code  ...           gni kiva_country_name\n",
              "0        India           IN  ...   5663.474799             India\n",
              "1      Nigeria           NG  ...   5442.901264           Nigeria\n",
              "2       Mexico           MX  ...  16383.106680            Mexico\n",
              "3     Pakistan           PK  ...   5031.173074          Pakistan\n",
              "4   Bangladesh           BD  ...   3341.490722        Bangladesh\n",
              "\n",
              "[5 rows x 13 columns]"
            ]
          },
          "metadata": {
            "tags": []
          },
          "execution_count": 76
        },
        {
          "output_type": "stream",
          "text": [
            "time: 28.8 ms\n"
          ],
          "name": "stdout"
        }
      ]
    },
    {
      "cell_type": "code",
      "metadata": {
        "id": "rXc1cF25BBdQ",
        "colab_type": "code",
        "outputId": "51c6997e-cd0a-4f56-de98-dcde6270cecf",
        "colab": {
          "base_uri": "https://localhost:8080/",
          "height": 34
        }
      },
      "source": [
        "country_info = country_info[['country_name','country_code','population','population_below_poverty_line']] #attributi necessari anche per il task successivo"
      ],
      "execution_count": 77,
      "outputs": [
        {
          "output_type": "stream",
          "text": [
            "time: 2.75 ms\n"
          ],
          "name": "stdout"
        }
      ]
    },
    {
      "cell_type": "code",
      "metadata": {
        "id": "CO8r_4ku8C8I",
        "colab_type": "code",
        "outputId": "440287ad-458b-4d4e-9f07-9ee2ad5cd7e2",
        "colab": {
          "base_uri": "https://localhost:8080/",
          "height": 34
        }
      },
      "source": [
        "lenders = lenders[['permanent_name','country_code']]"
      ],
      "execution_count": 78,
      "outputs": [
        {
          "output_type": "stream",
          "text": [
            "time: 48.2 ms\n"
          ],
          "name": "stdout"
        }
      ]
    },
    {
      "cell_type": "markdown",
      "metadata": {
        "id": "XAOlkNf77DVZ",
        "colab_type": "text"
      },
      "source": [
        "### Check missing values"
      ]
    },
    {
      "cell_type": "code",
      "metadata": {
        "id": "RRb2bJKj87N1",
        "colab_type": "code",
        "outputId": "6432baae-efd9-4dee-a9f1-b22141d2ec34",
        "colab": {
          "base_uri": "https://localhost:8080/",
          "height": 94
        }
      },
      "source": [
        "country_info[country_info['country_code'].isnull()]"
      ],
      "execution_count": 79,
      "outputs": [
        {
          "output_type": "execute_result",
          "data": {
            "text/html": [
              "<div>\n",
              "<style scoped>\n",
              "    .dataframe tbody tr th:only-of-type {\n",
              "        vertical-align: middle;\n",
              "    }\n",
              "\n",
              "    .dataframe tbody tr th {\n",
              "        vertical-align: top;\n",
              "    }\n",
              "\n",
              "    .dataframe thead th {\n",
              "        text-align: right;\n",
              "    }\n",
              "</style>\n",
              "<table border=\"1\" class=\"dataframe\">\n",
              "  <thead>\n",
              "    <tr style=\"text-align: right;\">\n",
              "      <th></th>\n",
              "      <th>country_name</th>\n",
              "      <th>country_code</th>\n",
              "      <th>population</th>\n",
              "      <th>population_below_poverty_line</th>\n",
              "    </tr>\n",
              "  </thead>\n",
              "  <tbody>\n",
              "    <tr>\n",
              "      <th>115</th>\n",
              "      <td>Namibia</td>\n",
              "      <td>NaN</td>\n",
              "      <td>2533794</td>\n",
              "      <td>28.7</td>\n",
              "    </tr>\n",
              "  </tbody>\n",
              "</table>\n",
              "</div>"
            ],
            "text/plain": [
              "    country_name country_code  population  population_below_poverty_line\n",
              "115      Namibia          NaN     2533794                           28.7"
            ]
          },
          "metadata": {
            "tags": []
          },
          "execution_count": 79
        },
        {
          "output_type": "stream",
          "text": [
            "time: 13.1 ms\n"
          ],
          "name": "stdout"
        }
      ]
    },
    {
      "cell_type": "markdown",
      "metadata": {
        "id": "ISfH0Lss06yN",
        "colab_type": "text"
      },
      "source": [
        "### Replace missing values"
      ]
    },
    {
      "cell_type": "code",
      "metadata": {
        "id": "nj9mcqpjxZ3T",
        "colab_type": "code",
        "outputId": "cd91aa4f-6d29-45a4-8a67-78071e50273f",
        "colab": {
          "base_uri": "https://localhost:8080/",
          "height": 34
        }
      },
      "source": [
        "country_info['country_code'] = country_info['country_code'].fillna('NA') #stessa operazione task4"
      ],
      "execution_count": 80,
      "outputs": [
        {
          "output_type": "stream",
          "text": [
            "time: 1.61 ms\n"
          ],
          "name": "stdout"
        }
      ]
    },
    {
      "cell_type": "code",
      "metadata": {
        "id": "2wTiJOJDBFr2",
        "colab_type": "code",
        "outputId": "99ad5831-e18c-4684-94b4-4295ef5e2b13",
        "colab": {
          "base_uri": "https://localhost:8080/",
          "height": 34
        }
      },
      "source": [
        "unknown_lenders = lenders[lenders['country_code'].isnull()]\n",
        "tot = len(lenders)"
      ],
      "execution_count": 81,
      "outputs": [
        {
          "output_type": "stream",
          "text": [
            "time: 148 ms\n"
          ],
          "name": "stdout"
        }
      ]
    },
    {
      "cell_type": "code",
      "metadata": {
        "id": "nseISRXg_uLV",
        "colab_type": "code",
        "outputId": "b15deec2-c435-4c21-e2f5-46ca01c68ecc",
        "colab": {
          "base_uri": "https://localhost:8080/",
          "height": 50
        }
      },
      "source": [
        "print(\"Country lenders not known: \"+str(len(unknown_lenders)/tot))"
      ],
      "execution_count": 82,
      "outputs": [
        {
          "output_type": "stream",
          "text": [
            "Country lenders not known: 0.620913989342637\n",
            "time: 1.51 ms\n"
          ],
          "name": "stdout"
        }
      ]
    },
    {
      "cell_type": "code",
      "metadata": {
        "id": "cdZ1WYrDAbKt",
        "colab_type": "code",
        "outputId": "2aec59ab-3148-48eb-85a1-601566200c7e",
        "colab": {
          "base_uri": "https://localhost:8080/",
          "height": 34
        }
      },
      "source": [
        "lenders.drop(index=unknown_lenders.index,inplace=True)"
      ],
      "execution_count": 83,
      "outputs": [
        {
          "output_type": "stream",
          "text": [
            "time: 434 ms\n"
          ],
          "name": "stdout"
        }
      ]
    },
    {
      "cell_type": "code",
      "metadata": {
        "id": "CLMtxPweSmL2",
        "colab_type": "code",
        "outputId": "2fb3c539-b6a2-4df2-bd35-c38712159458",
        "colab": {
          "base_uri": "https://localhost:8080/",
          "height": 34
        }
      },
      "source": [
        "c_info = country_info['country_code'].unique()\n",
        "l_info =  lenders['country_code'].unique()\n",
        "\n",
        "len(c_info), len(l_info)"
      ],
      "execution_count": 84,
      "outputs": [
        {
          "output_type": "execute_result",
          "data": {
            "text/plain": [
              "(174, 234)"
            ]
          },
          "metadata": {
            "tags": []
          },
          "execution_count": 84
        },
        {
          "output_type": "stream",
          "text": [
            "time: 35.7 ms\n"
          ],
          "name": "stdout"
        }
      ]
    },
    {
      "cell_type": "markdown",
      "metadata": {
        "id": "D-T4Jm8k75ik",
        "colab_type": "text"
      },
      "source": [
        "### Left join between lenders and info country (useful to get country code)"
      ]
    },
    {
      "cell_type": "code",
      "metadata": {
        "id": "Pe7qvT_SBEMg",
        "colab_type": "code",
        "outputId": "e1e493b0-362b-49d7-adb2-82eca5bcfd26",
        "colab": {
          "base_uri": "https://localhost:8080/",
          "height": 34
        }
      },
      "source": [
        "lenders_country = pd.merge(lenders,country_info,how='left',on='country_code')\n",
        "#lenders_country.drop(columns='country_code',inplace=True)"
      ],
      "execution_count": 85,
      "outputs": [
        {
          "output_type": "stream",
          "text": [
            "time: 159 ms\n"
          ],
          "name": "stdout"
        }
      ]
    },
    {
      "cell_type": "code",
      "metadata": {
        "id": "IW3EdK4tTYPu",
        "colab_type": "code",
        "outputId": "dd84989b-9934-48f2-ff89-ce49d57f9501",
        "colab": {
          "base_uri": "https://localhost:8080/",
          "height": 34
        }
      },
      "source": [
        "lenders_country.drop(columns=['population','population_below_poverty_line'],inplace=True)"
      ],
      "execution_count": 86,
      "outputs": [
        {
          "output_type": "stream",
          "text": [
            "time: 113 ms\n"
          ],
          "name": "stdout"
        }
      ]
    },
    {
      "cell_type": "markdown",
      "metadata": {
        "id": "0Hco1dz4HzxZ",
        "colab_type": "text"
      },
      "source": [
        "### Compute distribution country lenders known"
      ]
    },
    {
      "cell_type": "code",
      "metadata": {
        "id": "3y2wBEmrJrcQ",
        "colab_type": "code",
        "outputId": "660fa670-365e-4e20-f9d7-39e55d96addc",
        "colab": {
          "base_uri": "https://localhost:8080/",
          "height": 34
        }
      },
      "source": [
        "dist = lenders_country['country_code'].value_counts(normalize=True) #ritorna frequenza relativa\n",
        "lenders_country_dist = pd.DataFrame(dist).reset_index(drop=False)\n",
        "lenders_country_dist.rename(columns={'index':'country_code',\n",
        "                                     'country_code':'distribution'},inplace=True)"
      ],
      "execution_count": 87,
      "outputs": [
        {
          "output_type": "stream",
          "text": [
            "time: 98.6 ms\n"
          ],
          "name": "stdout"
        }
      ]
    },
    {
      "cell_type": "code",
      "metadata": {
        "id": "wR-RyU3no77t",
        "colab_type": "code",
        "colab": {
          "base_uri": "https://localhost:8080/",
          "height": 218
        },
        "outputId": "b169d00e-b5cd-4924-cb85-5f54a288b26e"
      },
      "source": [
        "dist"
      ],
      "execution_count": 88,
      "outputs": [
        {
          "output_type": "execute_result",
          "data": {
            "text/plain": [
              "US    0.664330\n",
              "CA    0.076325\n",
              "GB    0.043097\n",
              "AU    0.041664\n",
              "DE    0.017975\n",
              "        ...   \n",
              "GW    0.000001\n",
              "NU    0.000001\n",
              "KM    0.000001\n",
              "MS    0.000001\n",
              "IO    0.000001\n",
              "Name: country_code, Length: 234, dtype: float64"
            ]
          },
          "metadata": {
            "tags": []
          },
          "execution_count": 88
        },
        {
          "output_type": "stream",
          "text": [
            "time: 4.02 ms\n"
          ],
          "name": "stdout"
        }
      ]
    },
    {
      "cell_type": "code",
      "metadata": {
        "id": "RreWJTz8H6pL",
        "colab_type": "code",
        "outputId": "358135a9-f73b-43ce-c658-5e33e1bc2768",
        "colab": {
          "base_uri": "https://localhost:8080/",
          "height": 34
        }
      },
      "source": [
        "lenders_country_dist['distribution_100'] = round(lenders_country_dist['distribution'] * 100,2)"
      ],
      "execution_count": 89,
      "outputs": [
        {
          "output_type": "stream",
          "text": [
            "time: 3.53 ms\n"
          ],
          "name": "stdout"
        }
      ]
    },
    {
      "cell_type": "markdown",
      "metadata": {
        "id": "nnMwaeChEfOy",
        "colab_type": "text"
      },
      "source": [
        "### Barchart distribution country lenders known"
      ]
    },
    {
      "cell_type": "code",
      "metadata": {
        "id": "XaWtcSASEKs1",
        "colab_type": "code",
        "outputId": "204d8275-ae63-4fca-99a2-6d0615264f56",
        "colab": {
          "base_uri": "https://localhost:8080/",
          "height": 295
        }
      },
      "source": [
        "fig = plt.figure(figsize=(20,4))\n",
        "plt.bar(lenders_country_dist['country_code'],lenders_country_dist['distribution'])\n",
        "plt.title('Distribution country lenders')\n",
        "plt.xticks(ticks=[])"
      ],
      "execution_count": 90,
      "outputs": [
        {
          "output_type": "execute_result",
          "data": {
            "text/plain": [
              "([], <a list of 0 Text major ticklabel objects>)"
            ]
          },
          "metadata": {
            "tags": []
          },
          "execution_count": 90
        },
        {
          "output_type": "display_data",
          "data": {
            "image/png": "[encoded data removed]",
            "text/plain": [
              "<Figure size 1440x288 with 1 Axes>"
            ]
          },
          "metadata": {
            "tags": [],
            "needs_background": "light"
          }
        },
        {
          "output_type": "stream",
          "text": [
            "time: 536 ms\n"
          ],
          "name": "stdout"
        }
      ]
    },
    {
      "cell_type": "code",
      "metadata": {
        "colab_type": "code",
        "outputId": "092ff659-01cb-4c53-d86a-fc09fe0e88db",
        "id": "etMV9p_4Td_F",
        "colab": {
          "base_uri": "https://localhost:8080/",
          "height": 368
        }
      },
      "source": [
        "dist_focus = lenders_country_dist[lenders_country_dist['distribution_100']>1]\n",
        "fig = plt.figure(figsize=(16,5))\n",
        "plt.bar(dist_focus['country_code'],dist_focus['distribution_100'],color='blue')\n",
        "plt.xlabel('country')\n",
        "plt.ylabel('percentage(%)')"
      ],
      "execution_count": 91,
      "outputs": [
        {
          "output_type": "execute_result",
          "data": {
            "text/plain": [
              "Text(0, 0.5, 'percentage(%)')"
            ]
          },
          "metadata": {
            "tags": []
          },
          "execution_count": 91
        },
        {
          "output_type": "display_data",
          "data": {
            "image/png": "[encoded data removed]",
            "text/plain": [
              "<Figure size 1152x360 with 1 Axes>"
            ]
          },
          "metadata": {
            "tags": [],
            "needs_background": "light"
          }
        },
        {
          "output_type": "stream",
          "text": [
            "time: 179 ms\n"
          ],
          "name": "stdout"
        }
      ]
    },
    {
      "cell_type": "markdown",
      "metadata": {
        "id": "TglTQ3mBIzyL",
        "colab_type": "text"
      },
      "source": [
        "### Replace NAN according distribution computed before"
      ]
    },
    {
      "cell_type": "code",
      "metadata": {
        "id": "fGYgA8ezPcBb",
        "colab_type": "code",
        "outputId": "2a8b05f2-92f6-4aa0-d1b1-4d49f5f35d26",
        "colab": {
          "base_uri": "https://localhost:8080/",
          "height": 34
        }
      },
      "source": [
        "unknown_lenders = unknown_lenders.copy()\n",
        "unknown_lenders['country_code'] = np.random.choice(dist.index, size = len(unknown_lenders), p = dist.values)"
      ],
      "execution_count": 92,
      "outputs": [
        {
          "output_type": "stream",
          "text": [
            "time: 113 ms\n"
          ],
          "name": "stdout"
        }
      ]
    },
    {
      "cell_type": "code",
      "metadata": {
        "id": "zLwb1dJAZJQc",
        "colab_type": "code",
        "colab": {
          "base_uri": "https://localhost:8080/",
          "height": 34
        },
        "outputId": "70d73bee-e13a-49ef-c560-23ad7b299ab7"
      },
      "source": [
        "dist_nan = unknown_lenders['country_code'].value_counts(normalize=True)\n",
        "unknown_code_dist = pd.DataFrame(dist_nan).reset_index(drop=False)\n",
        "unknown_code_dist.rename(columns={'index':'country_code',\n",
        "                                     'country_code':'distribution'},inplace=True)"
      ],
      "execution_count": 93,
      "outputs": [
        {
          "output_type": "stream",
          "text": [
            "time: 135 ms\n"
          ],
          "name": "stdout"
        }
      ]
    },
    {
      "cell_type": "code",
      "metadata": {
        "id": "fK1WfMhIr5fv",
        "colab_type": "code",
        "colab": {
          "base_uri": "https://localhost:8080/",
          "height": 34
        },
        "outputId": "98d31dff-894a-42de-b937-7016757be639"
      },
      "source": [
        "unknown_code_dist['distribution_unknown'] = round(unknown_code_dist['distribution']*100,2)"
      ],
      "execution_count": 94,
      "outputs": [
        {
          "output_type": "stream",
          "text": [
            "time: 2.64 ms\n"
          ],
          "name": "stdout"
        }
      ]
    },
    {
      "cell_type": "markdown",
      "metadata": {
        "id": "ByehBo51vV1f",
        "colab_type": "text"
      },
      "source": [
        "### Compare two distributions"
      ]
    },
    {
      "cell_type": "code",
      "metadata": {
        "id": "Q9sJT2-6dZSe",
        "colab_type": "code",
        "colab": {
          "base_uri": "https://localhost:8080/",
          "height": 34
        },
        "outputId": "701cb9c8-4beb-4a0c-8a6a-969bda3bbcf5"
      },
      "source": [
        "compare_dist = pd.merge(lenders_country_dist,unknown_code_dist,how='inner',on='country_code')\n",
        "compare_dist.drop(columns=['distribution_x','distribution_y'],inplace=True)"
      ],
      "execution_count": 95,
      "outputs": [
        {
          "output_type": "stream",
          "text": [
            "time: 7.76 ms\n"
          ],
          "name": "stdout"
        }
      ]
    },
    {
      "cell_type": "markdown",
      "metadata": {
        "id": "QCpfxa0t0cAF",
        "colab_type": "text"
      },
      "source": [
        "#### Barchart compare distribution"
      ]
    },
    {
      "cell_type": "code",
      "metadata": {
        "id": "f5aNOTwRvTrO",
        "colab_type": "code",
        "colab": {
          "base_uri": "https://localhost:8080/",
          "height": 34
        },
        "outputId": "9a7a3062-29c7-4d94-d21d-25b52e0f73df"
      },
      "source": [
        "compare_dist = compare_dist[compare_dist['distribution_100']>1]\n",
        "country = compare_dist['country_code']"
      ],
      "execution_count": 96,
      "outputs": [
        {
          "output_type": "stream",
          "text": [
            "time: 2.51 ms\n"
          ],
          "name": "stdout"
        }
      ]
    },
    {
      "cell_type": "code",
      "metadata": {
        "id": "IsOfOveSehdK",
        "colab_type": "code",
        "outputId": "e56b7053-61af-4c39-c7fd-bc8e196e0dcf",
        "colab": {
          "base_uri": "https://localhost:8080/",
          "height": 384
        }
      },
      "source": [
        "x = np.arange(len(compare_dist))\n",
        "fig, ax = plt.subplots(figsize=(16,5))\n",
        "bar_width = 0.5\n",
        "\n",
        "ax.bar(x-bar_width/2,compare_dist['distribution_100'],width=bar_width,color='blue',label='original')\n",
        "ax.bar(x+bar_width/2,compare_dist['distribution_unknown'],width=bar_width,color='orange',label='unknown')\n",
        "plt.title('Comparison distributions')\n",
        "ax.set_xticks(x)\n",
        "ax.set_xticklabels(country)\n",
        "plt.xlabel('country')\n",
        "plt.ylabel('percentage(%)')\n",
        "plt.legend()"
      ],
      "execution_count": 97,
      "outputs": [
        {
          "output_type": "execute_result",
          "data": {
            "text/plain": [
              "<matplotlib.legend.Legend at 0x7fb79b38dd30>"
            ]
          },
          "metadata": {
            "tags": []
          },
          "execution_count": 97
        },
        {
          "output_type": "display_data",
          "data": {
            "image/png": "[encoded data removed]",
            "text/plain": [
              "<Figure size 1152x360 with 1 Axes>"
            ]
          },
          "metadata": {
            "tags": [],
            "needs_background": "light"
          }
        },
        {
          "output_type": "stream",
          "text": [
            "time: 228 ms\n"
          ],
          "name": "stdout"
        }
      ]
    },
    {
      "cell_type": "code",
      "metadata": {
        "id": "8OuRP18BI-Fu",
        "colab_type": "code",
        "colab": {
          "base_uri": "https://localhost:8080/",
          "height": 34
        },
        "outputId": "94fbf286-6d0d-45e1-cae3-b72a420ec6b5"
      },
      "source": [
        "lenders_country = pd.concat([lenders_country,unknown_lenders],axis=0) #per ogni lender è adesso associato una nazione"
      ],
      "execution_count": 98,
      "outputs": [
        {
          "output_type": "stream",
          "text": [
            "time: 83 ms\n"
          ],
          "name": "stdout"
        }
      ]
    },
    {
      "cell_type": "code",
      "metadata": {
        "id": "9MIMm7meyccG",
        "colab_type": "code",
        "colab": {
          "base_uri": "https://localhost:8080/",
          "height": 34
        },
        "outputId": "fd94b362-8b96-4936-df68-3b429ac61d2d"
      },
      "source": [
        "lenders_country.rename(columns={'permanent_name':'lenders'},inplace=True)"
      ],
      "execution_count": 99,
      "outputs": [
        {
          "output_type": "stream",
          "text": [
            "time: 231 ms\n"
          ],
          "name": "stdout"
        }
      ]
    },
    {
      "cell_type": "markdown",
      "metadata": {
        "id": "53xUrQa5MOU0",
        "colab_type": "text"
      },
      "source": [
        "### Get amount for each lender and his country"
      ]
    },
    {
      "cell_type": "code",
      "metadata": {
        "id": "CtUvZnRIM6fK",
        "colab_type": "code",
        "colab": {
          "base_uri": "https://localhost:8080/",
          "height": 34
        },
        "outputId": "27b8a8a8-5364-4f58-d48b-6057b67a12d7"
      },
      "source": [
        "amount_lender_country = pd.merge(amount_lender,lenders_country,how='inner',on='lenders')"
      ],
      "execution_count": 100,
      "outputs": [
        {
          "output_type": "stream",
          "text": [
            "time: 4.15 s\n"
          ],
          "name": "stdout"
        }
      ]
    },
    {
      "cell_type": "code",
      "metadata": {
        "id": "_oanyZzzNsHs",
        "colab_type": "code",
        "colab": {
          "base_uri": "https://localhost:8080/",
          "height": 34
        },
        "outputId": "7d5ea428-847d-4b14-8819-0b3f9b130414"
      },
      "source": [
        "country_amount_lent = amount_lender_country.groupby('country_code')['amount'].sum()\n",
        "country_amount_lent = pd.DataFrame(country_amount_lent).reset_index(level=0)"
      ],
      "execution_count": 101,
      "outputs": [
        {
          "output_type": "stream",
          "text": [
            "time: 392 ms\n"
          ],
          "name": "stdout"
        }
      ]
    },
    {
      "cell_type": "code",
      "metadata": {
        "id": "wVPgQkNoOkJK",
        "colab_type": "code",
        "colab": {
          "base_uri": "https://localhost:8080/",
          "height": 34
        },
        "outputId": "c145eae0-ef6a-480f-814d-6c6eb15d4dd2"
      },
      "source": [
        "country_amount_lent.rename(columns={'amount':'lent',\n",
        "                                    'country_code': 'country'},inplace=True)"
      ],
      "execution_count": 102,
      "outputs": [
        {
          "output_type": "stream",
          "text": [
            "time: 2.15 ms\n"
          ],
          "name": "stdout"
        }
      ]
    },
    {
      "cell_type": "code",
      "metadata": {
        "id": "kHjAq1aj46kG",
        "colab_type": "code",
        "colab": {
          "base_uri": "https://localhost:8080/",
          "height": 34
        },
        "outputId": "36e6d404-b925-427b-e1eb-22a3060952bf"
      },
      "source": [
        "len(country_amount_lent), len(country_amount_loan_perc)"
      ],
      "execution_count": 103,
      "outputs": [
        {
          "output_type": "execute_result",
          "data": {
            "text/plain": [
              "(232, 96)"
            ]
          },
          "metadata": {
            "tags": []
          },
          "execution_count": 103
        },
        {
          "output_type": "stream",
          "text": [
            "time: 2.95 ms\n"
          ],
          "name": "stdout"
        }
      ]
    },
    {
      "cell_type": "markdown",
      "metadata": {
        "id": "_5QXpyrPNaON",
        "colab_type": "text"
      },
      "source": [
        "### Right join between amount country borrowed and amount country lent"
      ]
    },
    {
      "cell_type": "code",
      "metadata": {
        "id": "dT3pJyA0PNyD",
        "colab_type": "code",
        "colab": {
          "base_uri": "https://localhost:8080/",
          "height": 34
        },
        "outputId": "82cc236d-6f1c-4b99-e429-6d8ca4e5ed91"
      },
      "source": [
        "country_difference = pd.merge(country_amount_loan_perc,country_amount_lent,how='right',on='country') #in questo modo si considerano anche gli stati non hanno mai ricevuto denaro\n",
        "country_difference.drop(columns='percentage',inplace=True)"
      ],
      "execution_count": 104,
      "outputs": [
        {
          "output_type": "stream",
          "text": [
            "time: 9.18 ms\n"
          ],
          "name": "stdout"
        }
      ]
    },
    {
      "cell_type": "code",
      "metadata": {
        "id": "e_ea_jxZ8Ekv",
        "colab_type": "code",
        "colab": {
          "base_uri": "https://localhost:8080/",
          "height": 34
        },
        "outputId": "a187deb7-d6a8-4737-aae6-a2d120b64f57"
      },
      "source": [
        "country_difference['borrowed'] = country_difference['borrowed'].fillna(0)"
      ],
      "execution_count": 105,
      "outputs": [
        {
          "output_type": "stream",
          "text": [
            "time: 1.38 ms\n"
          ],
          "name": "stdout"
        }
      ]
    },
    {
      "cell_type": "markdown",
      "metadata": {
        "id": "dHeVV2c12eed",
        "colab_type": "text"
      },
      "source": [
        "### Compute difference between amount lent and amount borrowed"
      ]
    },
    {
      "cell_type": "code",
      "metadata": {
        "id": "d-gDF0aBQRov",
        "colab_type": "code",
        "colab": {
          "base_uri": "https://localhost:8080/",
          "height": 34
        },
        "outputId": "20412b34-89cc-417b-f8dd-01c37ce85a6d"
      },
      "source": [
        "country_difference['difference'] = country_difference['lent'] - country_difference['borrowed']"
      ],
      "execution_count": 106,
      "outputs": [
        {
          "output_type": "stream",
          "text": [
            "time: 2.22 ms\n"
          ],
          "name": "stdout"
        }
      ]
    },
    {
      "cell_type": "markdown",
      "metadata": {
        "id": "kuWe0iSvSKr2",
        "colab_type": "text"
      },
      "source": [
        "### _Result_"
      ]
    },
    {
      "cell_type": "code",
      "metadata": {
        "id": "dQ-seQmVRJ4X",
        "colab_type": "code",
        "outputId": "4695cb1e-bf37-456d-a36b-e81ffe6e9b60",
        "colab": {
          "base_uri": "https://localhost:8080/",
          "height": 212
        }
      },
      "source": [
        "country_difference.head()"
      ],
      "execution_count": 107,
      "outputs": [
        {
          "output_type": "execute_result",
          "data": {
            "text/html": [
              "<div>\n",
              "<style scoped>\n",
              "    .dataframe tbody tr th:only-of-type {\n",
              "        vertical-align: middle;\n",
              "    }\n",
              "\n",
              "    .dataframe tbody tr th {\n",
              "        vertical-align: top;\n",
              "    }\n",
              "\n",
              "    .dataframe thead th {\n",
              "        text-align: right;\n",
              "    }\n",
              "</style>\n",
              "<table border=\"1\" class=\"dataframe\">\n",
              "  <thead>\n",
              "    <tr style=\"text-align: right;\">\n",
              "      <th></th>\n",
              "      <th>country</th>\n",
              "      <th>borrowed</th>\n",
              "      <th>lent</th>\n",
              "      <th>difference</th>\n",
              "    </tr>\n",
              "  </thead>\n",
              "  <tbody>\n",
              "    <tr>\n",
              "      <th>0</th>\n",
              "      <td>AF</td>\n",
              "      <td>1967950.0</td>\n",
              "      <td>163786.99</td>\n",
              "      <td>-1804163.01</td>\n",
              "    </tr>\n",
              "    <tr>\n",
              "      <th>1</th>\n",
              "      <td>AL</td>\n",
              "      <td>4307350.0</td>\n",
              "      <td>30983.75</td>\n",
              "      <td>-4276366.25</td>\n",
              "    </tr>\n",
              "    <tr>\n",
              "      <th>2</th>\n",
              "      <td>AM</td>\n",
              "      <td>22950475.0</td>\n",
              "      <td>34241.11</td>\n",
              "      <td>-22916233.89</td>\n",
              "    </tr>\n",
              "    <tr>\n",
              "      <th>3</th>\n",
              "      <td>AZ</td>\n",
              "      <td>14784625.0</td>\n",
              "      <td>13430.80</td>\n",
              "      <td>-14771194.20</td>\n",
              "    </tr>\n",
              "    <tr>\n",
              "      <th>4</th>\n",
              "      <td>BA</td>\n",
              "      <td>477250.0</td>\n",
              "      <td>71925.20</td>\n",
              "      <td>-405324.80</td>\n",
              "    </tr>\n",
              "  </tbody>\n",
              "</table>\n",
              "</div>"
            ],
            "text/plain": [
              "  country    borrowed       lent   difference\n",
              "0      AF   1967950.0  163786.99  -1804163.01\n",
              "1      AL   4307350.0   30983.75  -4276366.25\n",
              "2      AM  22950475.0   34241.11 -22916233.89\n",
              "3      AZ  14784625.0   13430.80 -14771194.20\n",
              "4      BA    477250.0   71925.20   -405324.80"
            ]
          },
          "metadata": {
            "tags": []
          },
          "execution_count": 107
        },
        {
          "output_type": "stream",
          "text": [
            "time: 13.8 ms\n"
          ],
          "name": "stdout"
        }
      ]
    },
    {
      "cell_type": "markdown",
      "metadata": {
        "id": "E016hO4SSo90",
        "colab_type": "text"
      },
      "source": [
        "## Task 10\n",
        "- Which country has the highest ratio between the difference computed at the previous point and the population?"
      ]
    },
    {
      "cell_type": "code",
      "metadata": {
        "id": "JuW1STYUWNKD",
        "colab_type": "code",
        "colab": {
          "base_uri": "https://localhost:8080/",
          "height": 34
        },
        "outputId": "85a6cf10-aa8d-4fc5-a4ed-f0cff2e73262"
      },
      "source": [
        "country_difference = pd.merge(country_difference,country_info,how='inner',left_on='country',right_on='country_code')"
      ],
      "execution_count": 108,
      "outputs": [
        {
          "output_type": "stream",
          "text": [
            "time: 4.68 ms\n"
          ],
          "name": "stdout"
        }
      ]
    },
    {
      "cell_type": "code",
      "metadata": {
        "id": "KXaAqVc95qw1",
        "colab_type": "code",
        "colab": {
          "base_uri": "https://localhost:8080/",
          "height": 418
        },
        "outputId": "ab8106e4-e78b-48a9-fb11-98fccf9b28b7"
      },
      "source": [
        "country_difference"
      ],
      "execution_count": 109,
      "outputs": [
        {
          "output_type": "execute_result",
          "data": {
            "text/html": [
              "<div>\n",
              "<style scoped>\n",
              "    .dataframe tbody tr th:only-of-type {\n",
              "        vertical-align: middle;\n",
              "    }\n",
              "\n",
              "    .dataframe tbody tr th {\n",
              "        vertical-align: top;\n",
              "    }\n",
              "\n",
              "    .dataframe thead th {\n",
              "        text-align: right;\n",
              "    }\n",
              "</style>\n",
              "<table border=\"1\" class=\"dataframe\">\n",
              "  <thead>\n",
              "    <tr style=\"text-align: right;\">\n",
              "      <th></th>\n",
              "      <th>country</th>\n",
              "      <th>borrowed</th>\n",
              "      <th>lent</th>\n",
              "      <th>difference</th>\n",
              "      <th>country_name</th>\n",
              "      <th>country_code</th>\n",
              "      <th>population</th>\n",
              "      <th>population_below_poverty_line</th>\n",
              "    </tr>\n",
              "  </thead>\n",
              "  <tbody>\n",
              "    <tr>\n",
              "      <th>0</th>\n",
              "      <td>AF</td>\n",
              "      <td>1967950.0</td>\n",
              "      <td>163786.99</td>\n",
              "      <td>-1804163.01</td>\n",
              "      <td>Afghanistan</td>\n",
              "      <td>AF</td>\n",
              "      <td>35530081</td>\n",
              "      <td>35.8</td>\n",
              "    </tr>\n",
              "    <tr>\n",
              "      <th>1</th>\n",
              "      <td>AL</td>\n",
              "      <td>4307350.0</td>\n",
              "      <td>30983.75</td>\n",
              "      <td>-4276366.25</td>\n",
              "      <td>Albania</td>\n",
              "      <td>AL</td>\n",
              "      <td>2930187</td>\n",
              "      <td>14.3</td>\n",
              "    </tr>\n",
              "    <tr>\n",
              "      <th>2</th>\n",
              "      <td>AM</td>\n",
              "      <td>22950475.0</td>\n",
              "      <td>34241.11</td>\n",
              "      <td>-22916233.89</td>\n",
              "      <td>Armenia</td>\n",
              "      <td>AM</td>\n",
              "      <td>2930450</td>\n",
              "      <td>32.0</td>\n",
              "    </tr>\n",
              "    <tr>\n",
              "      <th>3</th>\n",
              "      <td>AZ</td>\n",
              "      <td>14784625.0</td>\n",
              "      <td>13430.80</td>\n",
              "      <td>-14771194.20</td>\n",
              "      <td>Azerbaijan</td>\n",
              "      <td>AZ</td>\n",
              "      <td>9827589</td>\n",
              "      <td>4.9</td>\n",
              "    </tr>\n",
              "    <tr>\n",
              "      <th>4</th>\n",
              "      <td>BA</td>\n",
              "      <td>477250.0</td>\n",
              "      <td>71925.20</td>\n",
              "      <td>-405324.80</td>\n",
              "      <td>Bosnia and Herzegovina</td>\n",
              "      <td>BA</td>\n",
              "      <td>3507017</td>\n",
              "      <td>17.2</td>\n",
              "    </tr>\n",
              "    <tr>\n",
              "      <th>...</th>\n",
              "      <td>...</td>\n",
              "      <td>...</td>\n",
              "      <td>...</td>\n",
              "      <td>...</td>\n",
              "      <td>...</td>\n",
              "      <td>...</td>\n",
              "      <td>...</td>\n",
              "      <td>...</td>\n",
              "    </tr>\n",
              "    <tr>\n",
              "      <th>164</th>\n",
              "      <td>TM</td>\n",
              "      <td>0.0</td>\n",
              "      <td>1210.20</td>\n",
              "      <td>1210.20</td>\n",
              "      <td>Turkmenistan</td>\n",
              "      <td>TM</td>\n",
              "      <td>5758075</td>\n",
              "      <td>0.2</td>\n",
              "    </tr>\n",
              "    <tr>\n",
              "      <th>165</th>\n",
              "      <td>TN</td>\n",
              "      <td>0.0</td>\n",
              "      <td>50393.45</td>\n",
              "      <td>50393.45</td>\n",
              "      <td>Tunisia</td>\n",
              "      <td>TN</td>\n",
              "      <td>11532127</td>\n",
              "      <td>15.5</td>\n",
              "    </tr>\n",
              "    <tr>\n",
              "      <th>166</th>\n",
              "      <td>TT</td>\n",
              "      <td>0.0</td>\n",
              "      <td>61922.18</td>\n",
              "      <td>61922.18</td>\n",
              "      <td>Trinidad and Tobago</td>\n",
              "      <td>TT</td>\n",
              "      <td>1369125</td>\n",
              "      <td>20.0</td>\n",
              "    </tr>\n",
              "    <tr>\n",
              "      <th>167</th>\n",
              "      <td>UZ</td>\n",
              "      <td>0.0</td>\n",
              "      <td>3916.72</td>\n",
              "      <td>3916.72</td>\n",
              "      <td>Uzbekistan</td>\n",
              "      <td>UZ</td>\n",
              "      <td>31910641</td>\n",
              "      <td>14.0</td>\n",
              "    </tr>\n",
              "    <tr>\n",
              "      <th>168</th>\n",
              "      <td>VE</td>\n",
              "      <td>0.0</td>\n",
              "      <td>128874.37</td>\n",
              "      <td>128874.37</td>\n",
              "      <td>Venezuela</td>\n",
              "      <td>VE</td>\n",
              "      <td>31977065</td>\n",
              "      <td>19.7</td>\n",
              "    </tr>\n",
              "  </tbody>\n",
              "</table>\n",
              "<p>169 rows × 8 columns</p>\n",
              "</div>"
            ],
            "text/plain": [
              "    country    borrowed  ...  population  population_below_poverty_line\n",
              "0        AF   1967950.0  ...    35530081                           35.8\n",
              "1        AL   4307350.0  ...     2930187                           14.3\n",
              "2        AM  22950475.0  ...     2930450                           32.0\n",
              "3        AZ  14784625.0  ...     9827589                            4.9\n",
              "4        BA    477250.0  ...     3507017                           17.2\n",
              "..      ...         ...  ...         ...                            ...\n",
              "164      TM         0.0  ...     5758075                            0.2\n",
              "165      TN         0.0  ...    11532127                           15.5\n",
              "166      TT         0.0  ...     1369125                           20.0\n",
              "167      UZ         0.0  ...    31910641                           14.0\n",
              "168      VE         0.0  ...    31977065                           19.7\n",
              "\n",
              "[169 rows x 8 columns]"
            ]
          },
          "metadata": {
            "tags": []
          },
          "execution_count": 109
        },
        {
          "output_type": "stream",
          "text": [
            "time: 34.2 ms\n"
          ],
          "name": "stdout"
        }
      ]
    },
    {
      "cell_type": "markdown",
      "metadata": {
        "id": "62AEksUDOtlU",
        "colab_type": "text"
      },
      "source": [
        "### Compute ratio for each country"
      ]
    },
    {
      "cell_type": "code",
      "metadata": {
        "id": "csHfXtedW7-u",
        "colab_type": "code",
        "colab": {
          "base_uri": "https://localhost:8080/",
          "height": 34
        },
        "outputId": "db801cc8-b931-4e1d-aa74-58a4e054b418"
      },
      "source": [
        "country_difference['ratio']= country_difference['difference'] / country_difference['population']"
      ],
      "execution_count": 110,
      "outputs": [
        {
          "output_type": "stream",
          "text": [
            "time: 2.42 ms\n"
          ],
          "name": "stdout"
        }
      ]
    },
    {
      "cell_type": "code",
      "metadata": {
        "id": "9LYSteqRXqLI",
        "colab_type": "code",
        "colab": {
          "base_uri": "https://localhost:8080/",
          "height": 34
        },
        "outputId": "d91305a8-9780-4558-d0cf-a9945311a704"
      },
      "source": [
        "highest_ratio = country_difference.sort_values(by='ratio',ascending=False)"
      ],
      "execution_count": 111,
      "outputs": [
        {
          "output_type": "stream",
          "text": [
            "time: 3.25 ms\n"
          ],
          "name": "stdout"
        }
      ]
    },
    {
      "cell_type": "markdown",
      "metadata": {
        "id": "7f4N-vN2ZBYd",
        "colab_type": "text"
      },
      "source": [
        "### _Result_"
      ]
    },
    {
      "cell_type": "code",
      "metadata": {
        "id": "BOxgKgknYStd",
        "colab_type": "code",
        "outputId": "b51a76b0-6e61-4607-a6ef-f7f19f3fdaf0",
        "colab": {
          "base_uri": "https://localhost:8080/",
          "height": 50
        }
      },
      "source": [
        "print(\"Country highest ratio: \"+highest_ratio.iloc[0]['country_name'])"
      ],
      "execution_count": 112,
      "outputs": [
        {
          "output_type": "stream",
          "text": [
            "Country highest ratio: Norway\n",
            "time: 1.46 ms\n"
          ],
          "name": "stdout"
        }
      ]
    },
    {
      "cell_type": "markdown",
      "metadata": {
        "id": "TwmrNqtfYxJk",
        "colab_type": "text"
      },
      "source": [
        "## Task 11\n",
        "- Which country has the highest ratio between the difference computed at point 9 and the population that is not below the poverty line?"
      ]
    },
    {
      "cell_type": "markdown",
      "metadata": {
        "id": "pQTl10ke3_jc",
        "colab_type": "text"
      },
      "source": [
        "### Check missing values"
      ]
    },
    {
      "cell_type": "code",
      "metadata": {
        "id": "RKQiEjqI-H7y",
        "colab_type": "code",
        "colab": {
          "base_uri": "https://localhost:8080/",
          "height": 34
        },
        "outputId": "69acc994-3872-4423-ece7-5f8cfdfff6ef"
      },
      "source": [
        "total_country = len(country_difference)"
      ],
      "execution_count": 113,
      "outputs": [
        {
          "output_type": "stream",
          "text": [
            "time: 932 µs\n"
          ],
          "name": "stdout"
        }
      ]
    },
    {
      "cell_type": "code",
      "metadata": {
        "id": "ZreCV4s63-ID",
        "colab_type": "code",
        "outputId": "07b4a280-9abc-49fd-f3a9-1a65f74620c9",
        "colab": {
          "base_uri": "https://localhost:8080/",
          "height": 67
        }
      },
      "source": [
        "missing_index = country_difference[country_difference['population_below_poverty_line'].isnull()].index\n",
        "missing_index"
      ],
      "execution_count": 114,
      "outputs": [
        {
          "output_type": "execute_result",
          "data": {
            "text/plain": [
              "Int64Index([ 61,  62,  65,  68,  83,  93,  96,  97, 100, 101, 111, 125, 130,\n",
              "            132, 135, 147, 148, 149, 152, 156, 159],\n",
              "           dtype='int64')"
            ]
          },
          "metadata": {
            "tags": []
          },
          "execution_count": 114
        },
        {
          "output_type": "stream",
          "text": [
            "time: 5.12 ms\n"
          ],
          "name": "stdout"
        }
      ]
    },
    {
      "cell_type": "code",
      "metadata": {
        "id": "mBX9fkXxCt09",
        "colab_type": "code",
        "colab": {
          "base_uri": "https://localhost:8080/",
          "height": 34
        },
        "outputId": "4648e0d4-863a-4490-9853-047a75a8786a"
      },
      "source": [
        "rapp_missing = len(missing_index) / total_country"
      ],
      "execution_count": 117,
      "outputs": [
        {
          "output_type": "stream",
          "text": [
            "time: 1.03 ms\n"
          ],
          "name": "stdout"
        }
      ]
    },
    {
      "cell_type": "code",
      "metadata": {
        "id": "Auw2A_kP-Bf6",
        "colab_type": "code",
        "colab": {
          "base_uri": "https://localhost:8080/",
          "height": 50
        },
        "outputId": "5f43d68e-229e-4805-d7d2-b5d3505da044"
      },
      "source": [
        "print(\"Numero missing values population: \"+str(rapp_missing))"
      ],
      "execution_count": 118,
      "outputs": [
        {
          "output_type": "stream",
          "text": [
            "Numero missing values population: 0.1242603550295858\n",
            "time: 969 µs\n"
          ],
          "name": "stdout"
        }
      ]
    },
    {
      "cell_type": "code",
      "metadata": {
        "id": "jRXDb4Y1Gh4r",
        "colab_type": "code",
        "colab": {
          "base_uri": "https://localhost:8080/",
          "height": 34
        },
        "outputId": "0a284f27-2426-437e-a57f-3f4ad0194de0"
      },
      "source": [
        "country_difference.drop(index=missing_index,inplace=True) # non si considerano i paesi che hanno missing values in population_below_poverty_line"
      ],
      "execution_count": 119,
      "outputs": [
        {
          "output_type": "stream",
          "text": [
            "time: 3.4 ms\n"
          ],
          "name": "stdout"
        }
      ]
    },
    {
      "cell_type": "markdown",
      "metadata": {
        "id": "wGa3NiOz2nSI",
        "colab_type": "text"
      },
      "source": [
        "### Compute for each country number people below and above poverty line"
      ]
    },
    {
      "cell_type": "code",
      "metadata": {
        "id": "r9dMS-0nw9M_",
        "colab_type": "code",
        "colab": {
          "base_uri": "https://localhost:8080/",
          "height": 34
        },
        "outputId": "37cac763-519f-4c2b-ce6a-b35343e6ee38"
      },
      "source": [
        "country_difference['population_below_poverty_line'] = country_difference['population_below_poverty_line']/100\n",
        "country_difference['number_population_below'] = country_difference['population']*country_difference['population_below_poverty_line']"
      ],
      "execution_count": 120,
      "outputs": [
        {
          "output_type": "stream",
          "text": [
            "time: 4.96 ms\n"
          ],
          "name": "stdout"
        }
      ]
    },
    {
      "cell_type": "code",
      "metadata": {
        "id": "a5gJNAvI3knv",
        "colab_type": "code",
        "colab": {
          "base_uri": "https://localhost:8080/",
          "height": 34
        },
        "outputId": "4ade5f5d-cdb1-47b8-9a73-e2a1d7031361"
      },
      "source": [
        "country_difference['number_population_below'] = country_difference['number_population_below'].astype(int)"
      ],
      "execution_count": 121,
      "outputs": [
        {
          "output_type": "stream",
          "text": [
            "time: 2.42 ms\n"
          ],
          "name": "stdout"
        }
      ]
    },
    {
      "cell_type": "code",
      "metadata": {
        "id": "Ah5E0SjyJDu5",
        "colab_type": "code",
        "colab": {
          "base_uri": "https://localhost:8080/",
          "height": 34
        },
        "outputId": "eb6eac95-c982-4837-9aa2-dd7b0965c4cd"
      },
      "source": [
        "country_difference['number_population_above'] = country_difference['population'] - country_difference['number_population_below']"
      ],
      "execution_count": 122,
      "outputs": [
        {
          "output_type": "stream",
          "text": [
            "time: 2.75 ms\n"
          ],
          "name": "stdout"
        }
      ]
    },
    {
      "cell_type": "markdown",
      "metadata": {
        "id": "QZzwGXl6Jdmx",
        "colab_type": "text"
      },
      "source": [
        "### Compute ratio"
      ]
    },
    {
      "cell_type": "code",
      "metadata": {
        "id": "f2t3lzpXJccw",
        "colab_type": "code",
        "colab": {
          "base_uri": "https://localhost:8080/",
          "height": 34
        },
        "outputId": "ceee3b83-f892-44af-c767-2cdf3f926813"
      },
      "source": [
        "country_difference = country_difference[['country','country_name','difference','number_population_above']]"
      ],
      "execution_count": 126,
      "outputs": [
        {
          "output_type": "stream",
          "text": [
            "time: 3.26 ms\n"
          ],
          "name": "stdout"
        }
      ]
    },
    {
      "cell_type": "code",
      "metadata": {
        "id": "KXSexBPYJ0Zl",
        "colab_type": "code",
        "colab": {
          "base_uri": "https://localhost:8080/",
          "height": 34
        },
        "outputId": "d99ab46a-95a9-4035-e6cb-5f235bcf2246"
      },
      "source": [
        "country_difference = country_difference.copy()\n",
        "country_difference['ratio_number_above'] = country_difference['difference'] / country_difference['number_population_above']"
      ],
      "execution_count": 127,
      "outputs": [
        {
          "output_type": "stream",
          "text": [
            "time: 3.19 ms\n"
          ],
          "name": "stdout"
        }
      ]
    },
    {
      "cell_type": "code",
      "metadata": {
        "id": "WqceOJjFKALh",
        "colab_type": "code",
        "colab": {
          "base_uri": "https://localhost:8080/",
          "height": 34
        },
        "outputId": "e2e8cf45-6e58-43ea-8214-ab44f3ca2fc1"
      },
      "source": [
        "highest_ratio = country_difference.sort_values(by='ratio_number_above',ascending=False)"
      ],
      "execution_count": 128,
      "outputs": [
        {
          "output_type": "stream",
          "text": [
            "time: 2.62 ms\n"
          ],
          "name": "stdout"
        }
      ]
    },
    {
      "cell_type": "markdown",
      "metadata": {
        "id": "ylHGoTKiFuTI",
        "colab_type": "text"
      },
      "source": [
        "### _Result_"
      ]
    },
    {
      "cell_type": "code",
      "metadata": {
        "id": "vqSxkqETw7nx",
        "colab_type": "code",
        "outputId": "fe16037e-0d18-4320-f955-a7407f889391",
        "colab": {
          "base_uri": "https://localhost:8080/",
          "height": 50
        }
      },
      "source": [
        "print(\"Country highest ratio: \"+highest_ratio.iloc[0]['country_name'])"
      ],
      "execution_count": 129,
      "outputs": [
        {
          "output_type": "stream",
          "text": [
            "Country highest ratio: Canada\n",
            "time: 1.79 ms\n"
          ],
          "name": "stdout"
        }
      ]
    },
    {
      "cell_type": "markdown",
      "metadata": {
        "id": "MLK9_JPhHGBm",
        "colab_type": "text"
      },
      "source": [
        "## Task 12\n",
        "- For each year, compute the total amount of loans. Each loan that has planned expiration time and disburse time in different years must have its amount distributed proportionally to the number of days in each year. For example, a loan with disburse time December 1st, 2016, planned expiration time January 30th 2018, and amount 5000USD has an amount of 5000USD * 31 / (31+365+30) = 363.85 for 2016, 5000USD * 365 / (31+365+30) = 4284.04 for 2017, and 5000USD * 30 / (31+365+30) = 352.11 for 2018."
      ]
    },
    {
      "cell_type": "markdown",
      "metadata": {
        "id": "ZqhtIIM1G-0J",
        "colab_type": "text"
      },
      "source": [
        "### Check missing values"
      ]
    },
    {
      "cell_type": "code",
      "metadata": {
        "id": "J_5pkhs7xTQZ",
        "colab_type": "code",
        "colab": {
          "base_uri": "https://localhost:8080/",
          "height": 34
        },
        "outputId": "42e427b5-e59f-4f80-9ebb-61740e320434"
      },
      "source": [
        "expired_nan = loan_simplified[(loan_simplified['planned_expiration_time'].isnull()) |\n",
        "                                  (loan_simplified['disburse_time'].isnull())]"
      ],
      "execution_count": 130,
      "outputs": [
        {
          "output_type": "stream",
          "text": [
            "time: 50.1 ms\n"
          ],
          "name": "stdout"
        }
      ]
    },
    {
      "cell_type": "code",
      "metadata": {
        "id": "xT2TU89tHEdv",
        "colab_type": "code",
        "colab": {
          "base_uri": "https://localhost:8080/",
          "height": 50
        },
        "outputId": "778aea89-cfcc-4643-b58f-346bac34e303"
      },
      "source": [
        "rapp = len(expired_nan) / len(loan_simplified)\n",
        "print(\"Numero missing values planned_expiration_time o disburse_time: \"+str(rapp))"
      ],
      "execution_count": 136,
      "outputs": [
        {
          "output_type": "stream",
          "text": [
            "Numero missing values planned_expiration_time o disburse_time: 0.26390754624343216\n",
            "time: 1.44 ms\n"
          ],
          "name": "stdout"
        }
      ]
    },
    {
      "cell_type": "code",
      "metadata": {
        "id": "QhQCU3Vo2o-5",
        "colab_type": "code",
        "colab": {
          "base_uri": "https://localhost:8080/",
          "height": 34
        },
        "outputId": "3798374c-9ccb-4b12-8b57-5d9bf6e264fe"
      },
      "source": [
        "loan_simplified.drop(index=expired_nan.index,inplace=True) #non considero loan dove planned_expiration o disburse_time contengono nan"
      ],
      "execution_count": 137,
      "outputs": [
        {
          "output_type": "stream",
          "text": [
            "time: 187 ms\n"
          ],
          "name": "stdout"
        }
      ]
    },
    {
      "cell_type": "markdown",
      "metadata": {
        "id": "PWbEfDBV_bNa",
        "colab_type": "text"
      },
      "source": [
        "### Get year from _planned_expiration_time_"
      ]
    },
    {
      "cell_type": "code",
      "metadata": {
        "id": "ern9HK5s-lDZ",
        "colab_type": "code",
        "colab": {}
      },
      "source": [
        "#waiting time ~2m\n",
        "loan_simplified['year_expiration'] = loan_simplified.apply(lambda x: x['planned_expiration_time'].year,axis=1)"
      ],
      "execution_count": 0,
      "outputs": []
    },
    {
      "cell_type": "code",
      "metadata": {
        "id": "17HCLgkRqdfK",
        "colab_type": "code",
        "colab": {}
      },
      "source": [
        "loan_simplified['year_disburse']=loan_simplified['year_disburse'].astype(int)"
      ],
      "execution_count": 0,
      "outputs": []
    },
    {
      "cell_type": "code",
      "metadata": {
        "id": "nyeB0BqC8do-",
        "colab_type": "code",
        "outputId": "42f23744-01ed-41f2-fd5f-138ebc7af6c9",
        "colab": {
          "base_uri": "https://localhost:8080/",
          "height": 34
        }
      },
      "source": [
        "loan_simplified['difference_years'] = loan_simplified['year_expiration'] - loan_simplified['year_disburse']\n",
        "loan_simplified['difference_years'].unique()"
      ],
      "execution_count": 0,
      "outputs": [
        {
          "output_type": "execute_result",
          "data": {
            "text/plain": [
              "array([ 1,  0, -1,  5,  4])"
            ]
          },
          "metadata": {
            "tags": []
          },
          "execution_count": 114
        }
      ]
    },
    {
      "cell_type": "code",
      "metadata": {
        "id": "dgihKzc5rDtM",
        "colab_type": "code",
        "outputId": "a059a402-c6ae-415c-dca4-0b12802e1b43",
        "colab": {
          "base_uri": "https://localhost:8080/",
          "height": 34
        }
      },
      "source": [
        "disburse_after_expiration = loan_simplified[loan_simplified['difference_years']==-1]\n",
        "print(\"Ratio difference -1 betweeen disburse and planned_expiration_time: \"+str(len(disburse_after_expiration) / len(loan_simplified)))"
      ],
      "execution_count": 0,
      "outputs": [
        {
          "output_type": "stream",
          "text": [
            "Ratio difference -1 betweeen disburse and planned_expiration_time: 0.001479479636580086\n"
          ],
          "name": "stdout"
        }
      ]
    },
    {
      "cell_type": "code",
      "metadata": {
        "id": "TSqQkCzVuIdO",
        "colab_type": "code",
        "colab": {}
      },
      "source": [
        "loan_simplified.drop(index=disburse_after_expiration.index,inplace=True)"
      ],
      "execution_count": 0,
      "outputs": []
    },
    {
      "cell_type": "markdown",
      "metadata": {
        "id": "QmasFpk6DDfC",
        "colab_type": "text"
      },
      "source": [
        "### Get loans which have same years between disburse_time and planned_expiration_time"
      ]
    },
    {
      "cell_type": "code",
      "metadata": {
        "id": "rg7e3YM2uhuX",
        "colab_type": "code",
        "colab": {}
      },
      "source": [
        "sameYear_loan = loan_simplified[loan_simplified['year_disburse']==loan_simplified['year_expiration']]\n",
        "index_sameYear = sameYear_loan.index"
      ],
      "execution_count": 0,
      "outputs": []
    },
    {
      "cell_type": "code",
      "metadata": {
        "id": "fb-yFyMzvFRv",
        "colab_type": "code",
        "colab": {}
      },
      "source": [
        "distribution_loan = sameYear_loan[['loan_id','loan_amount','year_expiration']]\n",
        "distribution_loan = distribution_loan.copy()"
      ],
      "execution_count": 0,
      "outputs": []
    },
    {
      "cell_type": "code",
      "metadata": {
        "id": "-ECghCN8HnKA",
        "colab_type": "code",
        "outputId": "40b9da16-67fa-4e43-cdb3-23abb437bbca",
        "colab": {
          "base_uri": "https://localhost:8080/",
          "height": 402
        }
      },
      "source": [
        "distribution_loan"
      ],
      "execution_count": 0,
      "outputs": [
        {
          "output_type": "execute_result",
          "data": {
            "text/html": [
              "<div>\n",
              "<style scoped>\n",
              "    .dataframe tbody tr th:only-of-type {\n",
              "        vertical-align: middle;\n",
              "    }\n",
              "\n",
              "    .dataframe tbody tr th {\n",
              "        vertical-align: top;\n",
              "    }\n",
              "\n",
              "    .dataframe thead th {\n",
              "        text-align: right;\n",
              "    }\n",
              "</style>\n",
              "<table border=\"1\" class=\"dataframe\">\n",
              "  <thead>\n",
              "    <tr style=\"text-align: right;\">\n",
              "      <th></th>\n",
              "      <th>loan_id</th>\n",
              "      <th>loan_amount</th>\n",
              "      <th>year_expiration</th>\n",
              "    </tr>\n",
              "  </thead>\n",
              "  <tbody>\n",
              "    <tr>\n",
              "      <th>2</th>\n",
              "      <td>658010</td>\n",
              "      <td>400.0</td>\n",
              "      <td>2014</td>\n",
              "    </tr>\n",
              "    <tr>\n",
              "      <th>3</th>\n",
              "      <td>659347</td>\n",
              "      <td>625.0</td>\n",
              "      <td>2014</td>\n",
              "    </tr>\n",
              "    <tr>\n",
              "      <th>5</th>\n",
              "      <td>659605</td>\n",
              "      <td>350.0</td>\n",
              "      <td>2014</td>\n",
              "    </tr>\n",
              "    <tr>\n",
              "      <th>6</th>\n",
              "      <td>660240</td>\n",
              "      <td>125.0</td>\n",
              "      <td>2014</td>\n",
              "    </tr>\n",
              "    <tr>\n",
              "      <th>7</th>\n",
              "      <td>661601</td>\n",
              "      <td>1600.0</td>\n",
              "      <td>2014</td>\n",
              "    </tr>\n",
              "    <tr>\n",
              "      <th>...</th>\n",
              "      <td>...</td>\n",
              "      <td>...</td>\n",
              "      <td>...</td>\n",
              "    </tr>\n",
              "    <tr>\n",
              "      <th>1419597</th>\n",
              "      <td>984735</td>\n",
              "      <td>500.0</td>\n",
              "      <td>2015</td>\n",
              "    </tr>\n",
              "    <tr>\n",
              "      <th>1419598</th>\n",
              "      <td>985764</td>\n",
              "      <td>325.0</td>\n",
              "      <td>2015</td>\n",
              "    </tr>\n",
              "    <tr>\n",
              "      <th>1419599</th>\n",
              "      <td>986756</td>\n",
              "      <td>5475.0</td>\n",
              "      <td>2015</td>\n",
              "    </tr>\n",
              "    <tr>\n",
              "      <th>1419600</th>\n",
              "      <td>986789</td>\n",
              "      <td>500.0</td>\n",
              "      <td>2015</td>\n",
              "    </tr>\n",
              "    <tr>\n",
              "      <th>1419601</th>\n",
              "      <td>987606</td>\n",
              "      <td>3000.0</td>\n",
              "      <td>2015</td>\n",
              "    </tr>\n",
              "  </tbody>\n",
              "</table>\n",
              "<p>892805 rows × 3 columns</p>\n",
              "</div>"
            ],
            "text/plain": [
              "         loan_id  loan_amount  year_expiration\n",
              "2         658010        400.0             2014\n",
              "3         659347        625.0             2014\n",
              "5         659605        350.0             2014\n",
              "6         660240        125.0             2014\n",
              "7         661601       1600.0             2014\n",
              "...          ...          ...              ...\n",
              "1419597   984735        500.0             2015\n",
              "1419598   985764        325.0             2015\n",
              "1419599   986756       5475.0             2015\n",
              "1419600   986789        500.0             2015\n",
              "1419601   987606       3000.0             2015\n",
              "\n",
              "[892805 rows x 3 columns]"
            ]
          },
          "metadata": {
            "tags": []
          },
          "execution_count": 119
        }
      ]
    },
    {
      "cell_type": "code",
      "metadata": {
        "id": "yV0CPtOBvYRN",
        "colab_type": "code",
        "outputId": "e3e09aea-3e55-44b2-bb2c-52976ebb7793",
        "colab": {
          "base_uri": "https://localhost:8080/",
          "height": 195
        }
      },
      "source": [
        "distribution_loan.rename(columns={'year_expiration':'year'},inplace=True)\n",
        "distribution_loan.head()"
      ],
      "execution_count": 0,
      "outputs": [
        {
          "output_type": "execute_result",
          "data": {
            "text/html": [
              "<div>\n",
              "<style scoped>\n",
              "    .dataframe tbody tr th:only-of-type {\n",
              "        vertical-align: middle;\n",
              "    }\n",
              "\n",
              "    .dataframe tbody tr th {\n",
              "        vertical-align: top;\n",
              "    }\n",
              "\n",
              "    .dataframe thead th {\n",
              "        text-align: right;\n",
              "    }\n",
              "</style>\n",
              "<table border=\"1\" class=\"dataframe\">\n",
              "  <thead>\n",
              "    <tr style=\"text-align: right;\">\n",
              "      <th></th>\n",
              "      <th>loan_id</th>\n",
              "      <th>loan_amount</th>\n",
              "      <th>year</th>\n",
              "    </tr>\n",
              "  </thead>\n",
              "  <tbody>\n",
              "    <tr>\n",
              "      <th>2</th>\n",
              "      <td>658010</td>\n",
              "      <td>400.0</td>\n",
              "      <td>2014</td>\n",
              "    </tr>\n",
              "    <tr>\n",
              "      <th>3</th>\n",
              "      <td>659347</td>\n",
              "      <td>625.0</td>\n",
              "      <td>2014</td>\n",
              "    </tr>\n",
              "    <tr>\n",
              "      <th>5</th>\n",
              "      <td>659605</td>\n",
              "      <td>350.0</td>\n",
              "      <td>2014</td>\n",
              "    </tr>\n",
              "    <tr>\n",
              "      <th>6</th>\n",
              "      <td>660240</td>\n",
              "      <td>125.0</td>\n",
              "      <td>2014</td>\n",
              "    </tr>\n",
              "    <tr>\n",
              "      <th>7</th>\n",
              "      <td>661601</td>\n",
              "      <td>1600.0</td>\n",
              "      <td>2014</td>\n",
              "    </tr>\n",
              "  </tbody>\n",
              "</table>\n",
              "</div>"
            ],
            "text/plain": [
              "   loan_id  loan_amount  year\n",
              "2   658010        400.0  2014\n",
              "3   659347        625.0  2014\n",
              "5   659605        350.0  2014\n",
              "6   660240        125.0  2014\n",
              "7   661601       1600.0  2014"
            ]
          },
          "metadata": {
            "tags": []
          },
          "execution_count": 120
        }
      ]
    },
    {
      "cell_type": "code",
      "metadata": {
        "id": "UV2DyVs9vxu6",
        "colab_type": "code",
        "colab": {}
      },
      "source": [
        "differentYear_loan = loan_simplified.drop(index=index_sameYear, axis=0)"
      ],
      "execution_count": 0,
      "outputs": []
    },
    {
      "cell_type": "code",
      "metadata": {
        "id": "7C8rybxWwr-g",
        "colab_type": "code",
        "colab": {}
      },
      "source": [
        "differentYear_loan = differentYear_loan.copy()\n",
        "differentYear_loan['day_disburse'] = differentYear_loan.apply(lambda x: x['disburse_time'].day,axis=1)"
      ],
      "execution_count": 0,
      "outputs": []
    },
    {
      "cell_type": "code",
      "metadata": {
        "id": "ZJHlkUQQyOIf",
        "colab_type": "code",
        "colab": {}
      },
      "source": [
        "differentYear_loan = differentYear_loan[['loan_id','disburse_time','planned_expiration_time',\n",
        "                                                 'loan_amount','year_expiration','year_disburse',\n",
        "                                                 'difference_years','day_disburse']]"
      ],
      "execution_count": 0,
      "outputs": []
    },
    {
      "cell_type": "code",
      "metadata": {
        "id": "dEUMo10DG1At",
        "colab_type": "code",
        "colab": {}
      },
      "source": [
        "differentYear_loan['month_disburse'] = differentYear_loan.apply(lambda x: x['disburse_time'].month,axis=1)\n",
        "differentYear_loan['day_expiration'] = differentYear_loan.apply(lambda x: x['planned_expiration_time'].day,axis=1)"
      ],
      "execution_count": 0,
      "outputs": []
    },
    {
      "cell_type": "markdown",
      "metadata": {
        "id": "jVZ3eOuaEYqh",
        "colab_type": "text"
      },
      "source": [
        "### Functions needed to compute distribution for each loan"
      ]
    },
    {
      "cell_type": "code",
      "metadata": {
        "id": "nIcwv07ArNZ4",
        "colab_type": "code",
        "colab": {}
      },
      "source": [
        "def check_leap(year): #controllo se bisestile o meno\n",
        "  if calendar.isleap(year)==True:\n",
        "    return 366\n",
        "  else:\n",
        "    return 365\n",
        "\n",
        "def compute_amount_year(loan,den,val_num,range_year): #calcola quantità che deve essere restituita ogni anno\n",
        "  val_year = round((loan * val_num) / den,2)\n",
        "  return (range_year,val_year)\n",
        "\n",
        "\n",
        "def compute_distribution(id,loan,day_d,month_d,year_d,day_e,year_e): #ritorna lista che contiene per ogni anno la quantità che deve essere restituita\n",
        "  days_month = calendar.monthrange(year_d,month_d)[1] #ritorna giorni mese\n",
        "  values = []\n",
        "  year_range = set(range(year_d,year_e+1)) #range anni tra disburse e planned_expiration_time\n",
        "  lower_upper = set([year_d,year_e]) #primo anno e ultimo anno\n",
        "  year_ris = list(year_range - lower_upper) #ottengo anni di cui devo considerare l'annualità (365 giorni 0 366)\n",
        "\n",
        "  if day_d==1:\n",
        "    difference = days_month #considero tutto mese\n",
        "  else:\n",
        "    if day_d==days_month:\n",
        "      difference = 1\n",
        "    else:\n",
        "      difference = days_month - day_d\n",
        "\n",
        "  if len(year_ris)==0: #se planned_expiration_time è anno successivo di disburse_time\n",
        "    values.append([difference,day_e])\n",
        "  else:\n",
        "    years_day = list(map (check_leap, year_ris)) #ottengo una lista dove per ogni anno è registrato numero giorni anno\n",
        "    values.append([[difference],years_day,[day_e]])\n",
        "    values = list(itertools.chain(*values))\n",
        "\n",
        "  values = list(itertools.chain(*values))\n",
        "  year_range=list(year_range)\n",
        "  year_range.sort() #ordino gli anni\n",
        "  den=sum(values)\n",
        "  result_list = list(map (functools.partial(compute_amount_year, loan,den), values, list(year_range)))\n",
        "  return result_list"
      ],
      "execution_count": 0,
      "outputs": []
    },
    {
      "cell_type": "markdown",
      "metadata": {
        "id": "8SE4At8ZTDyE",
        "colab_type": "text"
      },
      "source": [
        "### Compute distribution for each loan"
      ]
    },
    {
      "cell_type": "code",
      "metadata": {
        "id": "xMUsxaaMH-R0",
        "colab_type": "code",
        "colab": {}
      },
      "source": [
        "differentYear_loan['distribution']=differentYear_loan.apply(lambda x: compute_distribution(x['loan_id'],x['loan_amount'],\n",
        "                                                                                              x['day_disburse'],x['month_disburse'],\n",
        "                                                                                              x['year_disburse'],x['day_expiration'],x['year_expiration']),axis=1)\n"
      ],
      "execution_count": 0,
      "outputs": []
    },
    {
      "cell_type": "code",
      "metadata": {
        "id": "CDn_VRX4-H8o",
        "colab_type": "code",
        "outputId": "633e820d-d7a6-4366-8a05-e2de857193b1",
        "colab": {
          "base_uri": "https://localhost:8080/",
          "height": 402
        }
      },
      "source": [
        "loan_distribution = differentYear_loan[['loan_id','distribution']]\n",
        "loan_distribution"
      ],
      "execution_count": 0,
      "outputs": [
        {
          "output_type": "execute_result",
          "data": {
            "text/html": [
              "<div>\n",
              "<style scoped>\n",
              "    .dataframe tbody tr th:only-of-type {\n",
              "        vertical-align: middle;\n",
              "    }\n",
              "\n",
              "    .dataframe tbody tr th {\n",
              "        vertical-align: top;\n",
              "    }\n",
              "\n",
              "    .dataframe thead th {\n",
              "        text-align: right;\n",
              "    }\n",
              "</style>\n",
              "<table border=\"1\" class=\"dataframe\">\n",
              "  <thead>\n",
              "    <tr style=\"text-align: right;\">\n",
              "      <th></th>\n",
              "      <th>loan_id</th>\n",
              "      <th>distribution</th>\n",
              "    </tr>\n",
              "  </thead>\n",
              "  <tbody>\n",
              "    <tr>\n",
              "      <th>0</th>\n",
              "      <td>657307</td>\n",
              "      <td>[(2013, 48.91), (2014, 76.09)]</td>\n",
              "    </tr>\n",
              "    <tr>\n",
              "      <th>1</th>\n",
              "      <td>657259</td>\n",
              "      <td>[(2013, 118.92), (2014, 281.08)]</td>\n",
              "    </tr>\n",
              "    <tr>\n",
              "      <th>4</th>\n",
              "      <td>656933</td>\n",
              "      <td>[(2013, 220.37), (2014, 204.63)]</td>\n",
              "    </tr>\n",
              "    <tr>\n",
              "      <th>12</th>\n",
              "      <td>660363</td>\n",
              "      <td>[(2013, 324.14), (2014, 850.86)]</td>\n",
              "    </tr>\n",
              "    <tr>\n",
              "      <th>13</th>\n",
              "      <td>661165</td>\n",
              "      <td>[(2013, 48.39), (2014, 251.61)]</td>\n",
              "    </tr>\n",
              "    <tr>\n",
              "      <th>...</th>\n",
              "      <td>...</td>\n",
              "      <td>...</td>\n",
              "    </tr>\n",
              "    <tr>\n",
              "      <th>1419602</th>\n",
              "      <td>988180</td>\n",
              "      <td>[(2015, 311.11), (2016, 88.89)]</td>\n",
              "    </tr>\n",
              "    <tr>\n",
              "      <th>1419603</th>\n",
              "      <td>988213</td>\n",
              "      <td>[(2015, 225.0), (2016, 75.0)]</td>\n",
              "    </tr>\n",
              "    <tr>\n",
              "      <th>1419604</th>\n",
              "      <td>989109</td>\n",
              "      <td>[(2015, 2061.25), (2016, 363.75)]</td>\n",
              "    </tr>\n",
              "    <tr>\n",
              "      <th>1419605</th>\n",
              "      <td>989143</td>\n",
              "      <td>[(2015, 84.38), (2016, 15.62)]</td>\n",
              "    </tr>\n",
              "    <tr>\n",
              "      <th>1419606</th>\n",
              "      <td>989240</td>\n",
              "      <td>[(2015, 157.5), (2016, 17.5)]</td>\n",
              "    </tr>\n",
              "  </tbody>\n",
              "</table>\n",
              "<p>150611 rows × 2 columns</p>\n",
              "</div>"
            ],
            "text/plain": [
              "         loan_id                       distribution\n",
              "0         657307     [(2013, 48.91), (2014, 76.09)]\n",
              "1         657259   [(2013, 118.92), (2014, 281.08)]\n",
              "4         656933   [(2013, 220.37), (2014, 204.63)]\n",
              "12        660363   [(2013, 324.14), (2014, 850.86)]\n",
              "13        661165    [(2013, 48.39), (2014, 251.61)]\n",
              "...          ...                                ...\n",
              "1419602   988180    [(2015, 311.11), (2016, 88.89)]\n",
              "1419603   988213      [(2015, 225.0), (2016, 75.0)]\n",
              "1419604   989109  [(2015, 2061.25), (2016, 363.75)]\n",
              "1419605   989143     [(2015, 84.38), (2016, 15.62)]\n",
              "1419606   989240      [(2015, 157.5), (2016, 17.5)]\n",
              "\n",
              "[150611 rows x 2 columns]"
            ]
          },
          "metadata": {
            "tags": []
          },
          "execution_count": 127
        }
      ]
    },
    {
      "cell_type": "code",
      "metadata": {
        "id": "VMbx_ayD_H5c",
        "colab_type": "code",
        "colab": {}
      },
      "source": [
        "loan_distribution = loan_distribution.explode('distribution')"
      ],
      "execution_count": 0,
      "outputs": []
    },
    {
      "cell_type": "code",
      "metadata": {
        "id": "pYc_qzs8BykZ",
        "colab_type": "code",
        "colab": {}
      },
      "source": [
        "loan_distribution['year'] = loan_distribution.apply(lambda x: x['distribution'][0],axis=1)\n",
        "loan_distribution['loan_amount'] = loan_distribution.apply(lambda x: x['distribution'][1],axis=1)\n",
        "\n",
        "loan_distribution = loan_distribution.reset_index()"
      ],
      "execution_count": 0,
      "outputs": []
    },
    {
      "cell_type": "code",
      "metadata": {
        "id": "lZItdITNBVuS",
        "colab_type": "code",
        "colab": {}
      },
      "source": [
        "loan_distribution.drop(columns=['index','distribution'],inplace=True)"
      ],
      "execution_count": 0,
      "outputs": []
    },
    {
      "cell_type": "code",
      "metadata": {
        "id": "YvV07Ai42LMk",
        "colab_type": "code",
        "outputId": "39217895-f954-4f37-ff46-541ddea26004",
        "colab": {
          "base_uri": "https://localhost:8080/",
          "height": 195
        }
      },
      "source": [
        "distribution_loan = pd.concat([distribution_loan,loan_distribution],axis=0,sort=False)\n",
        "distribution_loan.head()"
      ],
      "execution_count": 0,
      "outputs": [
        {
          "output_type": "execute_result",
          "data": {
            "text/html": [
              "<div>\n",
              "<style scoped>\n",
              "    .dataframe tbody tr th:only-of-type {\n",
              "        vertical-align: middle;\n",
              "    }\n",
              "\n",
              "    .dataframe tbody tr th {\n",
              "        vertical-align: top;\n",
              "    }\n",
              "\n",
              "    .dataframe thead th {\n",
              "        text-align: right;\n",
              "    }\n",
              "</style>\n",
              "<table border=\"1\" class=\"dataframe\">\n",
              "  <thead>\n",
              "    <tr style=\"text-align: right;\">\n",
              "      <th></th>\n",
              "      <th>loan_id</th>\n",
              "      <th>loan_amount</th>\n",
              "      <th>year</th>\n",
              "    </tr>\n",
              "  </thead>\n",
              "  <tbody>\n",
              "    <tr>\n",
              "      <th>2</th>\n",
              "      <td>658010</td>\n",
              "      <td>400.0</td>\n",
              "      <td>2014</td>\n",
              "    </tr>\n",
              "    <tr>\n",
              "      <th>3</th>\n",
              "      <td>659347</td>\n",
              "      <td>625.0</td>\n",
              "      <td>2014</td>\n",
              "    </tr>\n",
              "    <tr>\n",
              "      <th>5</th>\n",
              "      <td>659605</td>\n",
              "      <td>350.0</td>\n",
              "      <td>2014</td>\n",
              "    </tr>\n",
              "    <tr>\n",
              "      <th>6</th>\n",
              "      <td>660240</td>\n",
              "      <td>125.0</td>\n",
              "      <td>2014</td>\n",
              "    </tr>\n",
              "    <tr>\n",
              "      <th>7</th>\n",
              "      <td>661601</td>\n",
              "      <td>1600.0</td>\n",
              "      <td>2014</td>\n",
              "    </tr>\n",
              "  </tbody>\n",
              "</table>\n",
              "</div>"
            ],
            "text/plain": [
              "   loan_id  loan_amount  year\n",
              "2   658010        400.0  2014\n",
              "3   659347        625.0  2014\n",
              "5   659605        350.0  2014\n",
              "6   660240        125.0  2014\n",
              "7   661601       1600.0  2014"
            ]
          },
          "metadata": {
            "tags": []
          },
          "execution_count": 131
        }
      ]
    },
    {
      "cell_type": "code",
      "metadata": {
        "id": "3mVpYXLz2khM",
        "colab_type": "code",
        "colab": {}
      },
      "source": [
        "year_distribution = pd.DataFrame(distribution_loan.groupby('year')['loan_amount'].sum()).reset_index()"
      ],
      "execution_count": 0,
      "outputs": []
    },
    {
      "cell_type": "markdown",
      "metadata": {
        "id": "maGTF3Ll4seR",
        "colab_type": "text"
      },
      "source": [
        "### _Result_"
      ]
    },
    {
      "cell_type": "code",
      "metadata": {
        "id": "_rfiN9OipJ73",
        "colab_type": "code",
        "colab": {}
      },
      "source": [
        "pd.options.display.float_format = '{:.2f}'.format"
      ],
      "execution_count": 0,
      "outputs": []
    },
    {
      "cell_type": "code",
      "metadata": {
        "id": "8K7jEdcA4gK-",
        "colab_type": "code",
        "outputId": "678bdce0-6927-4132-ffd3-a2ca801202ab",
        "colab": {
          "base_uri": "https://localhost:8080/",
          "height": 195
        }
      },
      "source": [
        "year_distribution.head()"
      ],
      "execution_count": 0,
      "outputs": [
        {
          "output_type": "execute_result",
          "data": {
            "text/html": [
              "<div>\n",
              "<style scoped>\n",
              "    .dataframe tbody tr th:only-of-type {\n",
              "        vertical-align: middle;\n",
              "    }\n",
              "\n",
              "    .dataframe tbody tr th {\n",
              "        vertical-align: top;\n",
              "    }\n",
              "\n",
              "    .dataframe thead th {\n",
              "        text-align: right;\n",
              "    }\n",
              "</style>\n",
              "<table border=\"1\" class=\"dataframe\">\n",
              "  <thead>\n",
              "    <tr style=\"text-align: right;\">\n",
              "      <th></th>\n",
              "      <th>year</th>\n",
              "      <th>loan_amount</th>\n",
              "    </tr>\n",
              "  </thead>\n",
              "  <tbody>\n",
              "    <tr>\n",
              "      <th>0</th>\n",
              "      <td>2011</td>\n",
              "      <td>1118390.70</td>\n",
              "    </tr>\n",
              "    <tr>\n",
              "      <th>1</th>\n",
              "      <td>2012</td>\n",
              "      <td>112810354.90</td>\n",
              "    </tr>\n",
              "    <tr>\n",
              "      <th>2</th>\n",
              "      <td>2013</td>\n",
              "      <td>122091737.20</td>\n",
              "    </tr>\n",
              "    <tr>\n",
              "      <th>3</th>\n",
              "      <td>2014</td>\n",
              "      <td>154916827.97</td>\n",
              "    </tr>\n",
              "    <tr>\n",
              "      <th>4</th>\n",
              "      <td>2015</td>\n",
              "      <td>159646198.09</td>\n",
              "    </tr>\n",
              "  </tbody>\n",
              "</table>\n",
              "</div>"
            ],
            "text/plain": [
              "   year  loan_amount\n",
              "0  2011   1118390.70\n",
              "1  2012 112810354.90\n",
              "2  2013 122091737.20\n",
              "3  2014 154916827.97\n",
              "4  2015 159646198.09"
            ]
          },
          "metadata": {
            "tags": []
          },
          "execution_count": 134
        }
      ]
    }
  ]
}