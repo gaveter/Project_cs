{
  "nbformat": 4,
  "nbformat_minor": 0,
  "metadata": {
    "colab": {
      "name": "Project.ipynb",
      "provenance": [],
      "collapsed_sections": [],
      "toc_visible": true,
      "machine_shape": "hm",
      "include_colab_link": true
    },
    "kernelspec": {
      "name": "python3",
      "display_name": "Python 3"
    }
  },
  "cells": [
    {
      "cell_type": "markdown",
      "metadata": {
        "id": "view-in-github",
        "colab_type": "text"
      },
      "source": [
        "<a href=\"https://colab.research.google.com/github/gaveter/Project_cs/blob/master/Project.ipynb\" target=\"_parent\"><img src=\"https://colab.research.google.com/assets/colab-badge.svg\" alt=\"Open In Colab\"/></a>"
      ]
    },
    {
      "cell_type": "code",
      "metadata": {
        "id": "ol1w_yeL6Ns5",
        "colab_type": "code",
        "outputId": "500551f7-e2e2-48ce-d31f-ae9a0393537e",
        "colab": {
          "base_uri": "https://localhost:8080/",
          "height": 34
        }
      },
      "source": [
        "from google.colab import drive\n",
        "drive.mount('/content/drive')"
      ],
      "execution_count": 1,
      "outputs": [
        {
          "output_type": "stream",
          "text": [
            "Drive already mounted at /content/drive; to attempt to forcibly remount, call drive.mount(\"/content/drive\", force_remount=True).\n"
          ],
          "name": "stdout"
        }
      ]
    },
    {
      "cell_type": "markdown",
      "metadata": {
        "id": "Z6eOK8_a6P3z",
        "colab_type": "text"
      },
      "source": [
        "# Project 2019-20\n",
        "1. Normalize the loan_lenders table. In the normalized table, each row must have one loan_id and one lender.\n",
        "2. For each loan, add a column duration corresponding to the number of days between the disburse time and the planned expiration time. If any of those two dates is missing, also the duration must be missing.\n",
        "3. Find the lenders that have funded at least twice.\n",
        "4. For each country, compute how many loans have involved that country as borrowers.\n",
        "5. For each country, compute the overall amount of money borrowed.\n",
        "6. Like the previous point, but expressed as a percentage of the overall amount lent.\n",
        "7. Like the three previous points, but split for each year (with respect to disburse time).\n",
        "8. For each lender, compute the overall amount of money lent. For each loan that has more than one lender, you must assume that all lenders contributed the same amount.\n",
        "9. For each country, compute the difference between the overall amount of money lent and the overall amount of money borrowed. Since the country of the lender is often unknown, you can assume that the true distribution among the countries is the same as the one computed from the rows where the country is known.\n",
        "10. Which country has the highest ratio between the difference computed at the previous point and the population?\n",
        "11. Which country has the highest ratio between the difference computed at point 9 and the population that is not below the poverty line?\n",
        "12. For each year, compute the total amount of loans. Each loan that has planned expiration time and disburse time in different years must have its amount distributed proportionally to the number of days in each year. For example, a loan with disburse time December 1st, 2016, planned expiration time January 30th 2018, and amount 5000USD has an amount of 5000USD * 31 / (31+365+30) = 363.85 for 2016, 5000USD * 365 / (31+365+30) = 4284.04 for 2017, and 5000USD * 30 / (31+365+30) = 352.11 for 2018.\n",
        "\n",
        "© 2019 GitHub, Inc."
      ]
    },
    {
      "cell_type": "markdown",
      "metadata": {
        "id": "ac0rXnKy7Gx5",
        "colab_type": "text"
      },
      "source": [
        "## Load libraries"
      ]
    },
    {
      "cell_type": "code",
      "metadata": {
        "id": "HhI6_r9s7Dro",
        "colab_type": "code",
        "colab": {}
      },
      "source": [
        "import pandas as pd\n",
        "from datetime import datetime, timedelta\n",
        "import re\n",
        "import numpy as np\n",
        "#import holidays\n",
        "from pandas.tseries.offsets import BDay\n",
        "import matplotlib.pyplot as plt\n",
        "import itertools\n",
        "import requests\n",
        "import functools\n",
        "import calendar\n",
        "from collections import defaultdict"
      ],
      "execution_count": 0,
      "outputs": []
    },
    {
      "cell_type": "code",
      "metadata": {
        "id": "RNrEkqzUhT80",
        "colab_type": "code",
        "outputId": "e55d9c2d-e69e-40b7-84c8-9b685b2d7e0c",
        "colab": {
          "base_uri": "https://localhost:8080/",
          "height": 34
        }
      },
      "source": [
        "!pip install ipython-autotime  #necessario per stampare il tempo di esecuzione di ogni chunk\n",
        "%load_ext autotime"
      ],
      "execution_count": 3,
      "outputs": [
        {
          "output_type": "stream",
          "text": [
            "Requirement already satisfied: ipython-autotime in /usr/local/lib/python3.6/dist-packages (0.1)\n"
          ],
          "name": "stdout"
        }
      ]
    },
    {
      "cell_type": "markdown",
      "metadata": {
        "id": "H293IL1LBfcH",
        "colab_type": "text"
      },
      "source": [
        "## Task1\n",
        "- Normalize the loan_lenders table. In the normalized table, each row must have one loan_id and one lender."
      ]
    },
    {
      "cell_type": "markdown",
      "metadata": {
        "id": "vBBoMroH7fgN",
        "colab_type": "text"
      },
      "source": [
        "### Load csv (loans_lenders)"
      ]
    },
    {
      "cell_type": "code",
      "metadata": {
        "id": "nuD87I-u7UGW",
        "colab_type": "code",
        "outputId": "a20f4e2e-a446-4dc4-c0ca-1816a433cd73",
        "colab": {
          "base_uri": "https://localhost:8080/",
          "height": 34
        }
      },
      "source": [
        "loans_lender = pd.read_csv('/content/drive/My Drive/Foundation of computer science/additional-kiva-snapshot/loans_lenders.csv')"
      ],
      "execution_count": 4,
      "outputs": [
        {
          "output_type": "stream",
          "text": [
            "time: 4.58 s\n"
          ],
          "name": "stdout"
        }
      ]
    },
    {
      "cell_type": "markdown",
      "metadata": {
        "id": "5xNbI8At-N6G",
        "colab_type": "text"
      },
      "source": [
        "_Overview_"
      ]
    },
    {
      "cell_type": "code",
      "metadata": {
        "id": "D_e6nB47Yr0g",
        "colab_type": "code",
        "outputId": "039e0808-0e18-4a12-c90f-14f79faaa61c",
        "colab": {
          "base_uri": "https://localhost:8080/",
          "height": 67
        }
      },
      "source": [
        "loans_lender.dtypes"
      ],
      "execution_count": 5,
      "outputs": [
        {
          "output_type": "execute_result",
          "data": {
            "text/plain": [
              "loan_id     int64\n",
              "lenders    object\n",
              "dtype: object"
            ]
          },
          "metadata": {
            "tags": []
          },
          "execution_count": 5
        },
        {
          "output_type": "stream",
          "text": [
            "time: 5.72 ms\n"
          ],
          "name": "stdout"
        }
      ]
    },
    {
      "cell_type": "code",
      "metadata": {
        "id": "NjRpKKfy-U0O",
        "colab_type": "code",
        "outputId": "655583f0-940c-45ec-c290-39ee8edef617",
        "colab": {
          "base_uri": "https://localhost:8080/",
          "height": 229
        }
      },
      "source": [
        "print(\"Number rows total: \"+str(len(loans_lender)))\n",
        "loans_lender.head()"
      ],
      "execution_count": 6,
      "outputs": [
        {
          "output_type": "stream",
          "text": [
            "Number rows total: 1387432\n"
          ],
          "name": "stdout"
        },
        {
          "output_type": "execute_result",
          "data": {
            "text/html": [
              "<div>\n",
              "<style scoped>\n",
              "    .dataframe tbody tr th:only-of-type {\n",
              "        vertical-align: middle;\n",
              "    }\n",
              "\n",
              "    .dataframe tbody tr th {\n",
              "        vertical-align: top;\n",
              "    }\n",
              "\n",
              "    .dataframe thead th {\n",
              "        text-align: right;\n",
              "    }\n",
              "</style>\n",
              "<table border=\"1\" class=\"dataframe\">\n",
              "  <thead>\n",
              "    <tr style=\"text-align: right;\">\n",
              "      <th></th>\n",
              "      <th>loan_id</th>\n",
              "      <th>lenders</th>\n",
              "    </tr>\n",
              "  </thead>\n",
              "  <tbody>\n",
              "    <tr>\n",
              "      <th>0</th>\n",
              "      <td>483693</td>\n",
              "      <td>muc888, sam4326, camaran3922, lachheb1865, reb...</td>\n",
              "    </tr>\n",
              "    <tr>\n",
              "      <th>1</th>\n",
              "      <td>483738</td>\n",
              "      <td>muc888, nora3555, williammanashi, barbara5610,...</td>\n",
              "    </tr>\n",
              "    <tr>\n",
              "      <th>2</th>\n",
              "      <td>485000</td>\n",
              "      <td>muc888, terrystl, richardandsusan8352, sherri4...</td>\n",
              "    </tr>\n",
              "    <tr>\n",
              "      <th>3</th>\n",
              "      <td>486087</td>\n",
              "      <td>muc888, james5068, rudi5955, daniel9859, don92...</td>\n",
              "    </tr>\n",
              "    <tr>\n",
              "      <th>4</th>\n",
              "      <td>534428</td>\n",
              "      <td>muc888, niki3008, teresa9174, mike4896, david7...</td>\n",
              "    </tr>\n",
              "  </tbody>\n",
              "</table>\n",
              "</div>"
            ],
            "text/plain": [
              "   loan_id                                            lenders\n",
              "0   483693  muc888, sam4326, camaran3922, lachheb1865, reb...\n",
              "1   483738  muc888, nora3555, williammanashi, barbara5610,...\n",
              "2   485000  muc888, terrystl, richardandsusan8352, sherri4...\n",
              "3   486087  muc888, james5068, rudi5955, daniel9859, don92...\n",
              "4   534428  muc888, niki3008, teresa9174, mike4896, david7..."
            ]
          },
          "metadata": {
            "tags": []
          },
          "execution_count": 6
        },
        {
          "output_type": "stream",
          "text": [
            "time: 15.4 ms\n"
          ],
          "name": "stdout"
        }
      ]
    },
    {
      "cell_type": "markdown",
      "metadata": {
        "id": "XtUUcFYDHUeD",
        "colab_type": "text"
      },
      "source": [
        "### Split each lender for each loan"
      ]
    },
    {
      "cell_type": "code",
      "metadata": {
        "id": "qeZeYsGHBUup",
        "colab_type": "code",
        "outputId": "219ec626-fdfc-46d3-ca0c-eebc013fb8a0",
        "colab": {
          "base_uri": "https://localhost:8080/",
          "height": 34
        }
      },
      "source": [
        "loans_lender[\"lenders\"]=loans_lender[\"lenders\"].str.split(', ') #creazione lista per ogni riga\n",
        "loans_lender_norm=loans_lender.explode('lenders') #trasformazione ogni elemento della lista come una riga"
      ],
      "execution_count": 7,
      "outputs": [
        {
          "output_type": "stream",
          "text": [
            "time: 17.9 s\n"
          ],
          "name": "stdout"
        }
      ]
    },
    {
      "cell_type": "code",
      "metadata": {
        "id": "dAMLx8OKAiNY",
        "colab_type": "code",
        "outputId": "8dcc6e24-6db3-4cdf-99a9-bf8bab09b8d4",
        "colab": {
          "base_uri": "https://localhost:8080/",
          "height": 34
        }
      },
      "source": [
        "loans_lender_norm=loans_lender_norm.reset_index(drop=True)"
      ],
      "execution_count": 8,
      "outputs": [
        {
          "output_type": "stream",
          "text": [
            "time: 519 ms\n"
          ],
          "name": "stdout"
        }
      ]
    },
    {
      "cell_type": "markdown",
      "metadata": {
        "id": "APH26ZJ3D5l-",
        "colab_type": "text"
      },
      "source": [
        "### _Result_"
      ]
    },
    {
      "cell_type": "code",
      "metadata": {
        "id": "RrsCO8-mCJmi",
        "colab_type": "code",
        "outputId": "50bb00c4-240c-4881-ab46-9538a757a745",
        "colab": {
          "base_uri": "https://localhost:8080/",
          "height": 212
        }
      },
      "source": [
        "loans_lender_norm.head()"
      ],
      "execution_count": 9,
      "outputs": [
        {
          "output_type": "execute_result",
          "data": {
            "text/html": [
              "<div>\n",
              "<style scoped>\n",
              "    .dataframe tbody tr th:only-of-type {\n",
              "        vertical-align: middle;\n",
              "    }\n",
              "\n",
              "    .dataframe tbody tr th {\n",
              "        vertical-align: top;\n",
              "    }\n",
              "\n",
              "    .dataframe thead th {\n",
              "        text-align: right;\n",
              "    }\n",
              "</style>\n",
              "<table border=\"1\" class=\"dataframe\">\n",
              "  <thead>\n",
              "    <tr style=\"text-align: right;\">\n",
              "      <th></th>\n",
              "      <th>loan_id</th>\n",
              "      <th>lenders</th>\n",
              "    </tr>\n",
              "  </thead>\n",
              "  <tbody>\n",
              "    <tr>\n",
              "      <th>0</th>\n",
              "      <td>483693</td>\n",
              "      <td>muc888</td>\n",
              "    </tr>\n",
              "    <tr>\n",
              "      <th>1</th>\n",
              "      <td>483693</td>\n",
              "      <td>sam4326</td>\n",
              "    </tr>\n",
              "    <tr>\n",
              "      <th>2</th>\n",
              "      <td>483693</td>\n",
              "      <td>camaran3922</td>\n",
              "    </tr>\n",
              "    <tr>\n",
              "      <th>3</th>\n",
              "      <td>483693</td>\n",
              "      <td>lachheb1865</td>\n",
              "    </tr>\n",
              "    <tr>\n",
              "      <th>4</th>\n",
              "      <td>483693</td>\n",
              "      <td>rebecca3499</td>\n",
              "    </tr>\n",
              "  </tbody>\n",
              "</table>\n",
              "</div>"
            ],
            "text/plain": [
              "   loan_id      lenders\n",
              "0   483693       muc888\n",
              "1   483693      sam4326\n",
              "2   483693  camaran3922\n",
              "3   483693  lachheb1865\n",
              "4   483693  rebecca3499"
            ]
          },
          "metadata": {
            "tags": []
          },
          "execution_count": 9
        },
        {
          "output_type": "stream",
          "text": [
            "time: 10.3 ms\n"
          ],
          "name": "stdout"
        }
      ]
    },
    {
      "cell_type": "markdown",
      "metadata": {
        "id": "YZbRGXk2DZKq",
        "colab_type": "text"
      },
      "source": [
        "## Task2\n",
        "- For each loan, add a column duration corresponding to the number of days between the disburse time and the planned expiration time. If any of those two dates is missing, also the duration must be missing."
      ]
    },
    {
      "cell_type": "markdown",
      "metadata": {
        "id": "8hizSkn5LXfV",
        "colab_type": "text"
      },
      "source": [
        "### Load csv (loans)"
      ]
    },
    {
      "cell_type": "code",
      "metadata": {
        "id": "wOJrqF4kDc-U",
        "colab_type": "code",
        "outputId": "3b61e8a9-6e03-410b-defa-3ffd878a6e27",
        "colab": {
          "base_uri": "https://localhost:8080/",
          "height": 34
        }
      },
      "source": [
        "loan = pd.read_csv('/content/drive/My Drive/Foundation of computer science/additional-kiva-snapshot/loans.csv')"
      ],
      "execution_count": 10,
      "outputs": [
        {
          "output_type": "stream",
          "text": [
            "time: 32.4 s\n"
          ],
          "name": "stdout"
        }
      ]
    },
    {
      "cell_type": "markdown",
      "metadata": {
        "id": "09Mreg75A6Un",
        "colab_type": "text"
      },
      "source": [
        "_Overview_"
      ]
    },
    {
      "cell_type": "code",
      "metadata": {
        "id": "nxlPKclPFppe",
        "colab_type": "code",
        "outputId": "aa0f087a-d213-4e55-8f68-385e3089109f",
        "colab": {
          "base_uri": "https://localhost:8080/",
          "height": 554
        }
      },
      "source": [
        "loan.dtypes"
      ],
      "execution_count": 11,
      "outputs": [
        {
          "output_type": "execute_result",
          "data": {
            "text/plain": [
              "loan_id                              int64\n",
              "loan_name                           object\n",
              "original_language                   object\n",
              "description                         object\n",
              "description_translated              object\n",
              "funded_amount                      float64\n",
              "loan_amount                        float64\n",
              "status                              object\n",
              "activity_name                       object\n",
              "sector_name                         object\n",
              "loan_use                            object\n",
              "country_code                        object\n",
              "country_name                        object\n",
              "town_name                           object\n",
              "currency_policy                     object\n",
              "currency_exchange_coverage_rate    float64\n",
              "currency                            object\n",
              "partner_id                         float64\n",
              "posted_time                         object\n",
              "planned_expiration_time             object\n",
              "disburse_time                       object\n",
              "raised_time                         object\n",
              "lender_term                        float64\n",
              "num_lenders_total                    int64\n",
              "num_journal_entries                  int64\n",
              "num_bulk_entries                     int64\n",
              "tags                                object\n",
              "borrower_genders                    object\n",
              "borrower_pictured                   object\n",
              "repayment_interval                  object\n",
              "distribution_model                  object\n",
              "dtype: object"
            ]
          },
          "metadata": {
            "tags": []
          },
          "execution_count": 11
        },
        {
          "output_type": "stream",
          "text": [
            "time: 5.49 ms\n"
          ],
          "name": "stdout"
        }
      ]
    },
    {
      "cell_type": "code",
      "metadata": {
        "id": "64UhvtJ7BcV_",
        "colab_type": "code",
        "outputId": "1911415e-4abf-4efd-bf3b-81d9352f4ce2",
        "colab": {
          "base_uri": "https://localhost:8080/",
          "height": 602
        }
      },
      "source": [
        "print('Number rows total: '+str(len(loan)))\n",
        "loan.head()"
      ],
      "execution_count": 12,
      "outputs": [
        {
          "output_type": "stream",
          "text": [
            "Number rows total: 1419607\n"
          ],
          "name": "stdout"
        },
        {
          "output_type": "execute_result",
          "data": {
            "text/html": [
              "<div>\n",
              "<style scoped>\n",
              "    .dataframe tbody tr th:only-of-type {\n",
              "        vertical-align: middle;\n",
              "    }\n",
              "\n",
              "    .dataframe tbody tr th {\n",
              "        vertical-align: top;\n",
              "    }\n",
              "\n",
              "    .dataframe thead th {\n",
              "        text-align: right;\n",
              "    }\n",
              "</style>\n",
              "<table border=\"1\" class=\"dataframe\">\n",
              "  <thead>\n",
              "    <tr style=\"text-align: right;\">\n",
              "      <th></th>\n",
              "      <th>loan_id</th>\n",
              "      <th>loan_name</th>\n",
              "      <th>original_language</th>\n",
              "      <th>description</th>\n",
              "      <th>description_translated</th>\n",
              "      <th>funded_amount</th>\n",
              "      <th>loan_amount</th>\n",
              "      <th>status</th>\n",
              "      <th>activity_name</th>\n",
              "      <th>sector_name</th>\n",
              "      <th>loan_use</th>\n",
              "      <th>country_code</th>\n",
              "      <th>country_name</th>\n",
              "      <th>town_name</th>\n",
              "      <th>currency_policy</th>\n",
              "      <th>currency_exchange_coverage_rate</th>\n",
              "      <th>currency</th>\n",
              "      <th>partner_id</th>\n",
              "      <th>posted_time</th>\n",
              "      <th>planned_expiration_time</th>\n",
              "      <th>disburse_time</th>\n",
              "      <th>raised_time</th>\n",
              "      <th>lender_term</th>\n",
              "      <th>num_lenders_total</th>\n",
              "      <th>num_journal_entries</th>\n",
              "      <th>num_bulk_entries</th>\n",
              "      <th>tags</th>\n",
              "      <th>borrower_genders</th>\n",
              "      <th>borrower_pictured</th>\n",
              "      <th>repayment_interval</th>\n",
              "      <th>distribution_model</th>\n",
              "    </tr>\n",
              "  </thead>\n",
              "  <tbody>\n",
              "    <tr>\n",
              "      <th>0</th>\n",
              "      <td>657307</td>\n",
              "      <td>Aivy</td>\n",
              "      <td>English</td>\n",
              "      <td>Aivy, 21 years of age, is single and lives in ...</td>\n",
              "      <td>NaN</td>\n",
              "      <td>125.0</td>\n",
              "      <td>125.0</td>\n",
              "      <td>funded</td>\n",
              "      <td>General Store</td>\n",
              "      <td>Retail</td>\n",
              "      <td>to buy additional inventories for her sari-sa...</td>\n",
              "      <td>PH</td>\n",
              "      <td>Philippines</td>\n",
              "      <td>Ozamiz - Ozamiz City</td>\n",
              "      <td>shared</td>\n",
              "      <td>0.1</td>\n",
              "      <td>PHP</td>\n",
              "      <td>126.0</td>\n",
              "      <td>2014-01-15 02:23:45.000 +0000</td>\n",
              "      <td>2014-02-14 03:30:06.000 +0000</td>\n",
              "      <td>2013-12-22 08:00:00.000 +0000</td>\n",
              "      <td>2014-01-15 04:48:22.000 +0000</td>\n",
              "      <td>7.0</td>\n",
              "      <td>3</td>\n",
              "      <td>2</td>\n",
              "      <td>1</td>\n",
              "      <td>NaN</td>\n",
              "      <td>female</td>\n",
              "      <td>true</td>\n",
              "      <td>irregular</td>\n",
              "      <td>field_partner</td>\n",
              "    </tr>\n",
              "    <tr>\n",
              "      <th>1</th>\n",
              "      <td>657259</td>\n",
              "      <td>Idalia Marizza</td>\n",
              "      <td>Spanish</td>\n",
              "      <td>Doña Idalia, esta casada, tiene 57 años de eda...</td>\n",
              "      <td>Idalia, 57, is married and lives with her husb...</td>\n",
              "      <td>400.0</td>\n",
              "      <td>400.0</td>\n",
              "      <td>funded</td>\n",
              "      <td>Used Clothing</td>\n",
              "      <td>Clothing</td>\n",
              "      <td>To buy American clothing such as blouses, shir...</td>\n",
              "      <td>HN</td>\n",
              "      <td>Honduras</td>\n",
              "      <td>La Lopez, Choloma</td>\n",
              "      <td>shared</td>\n",
              "      <td>0.1</td>\n",
              "      <td>HNL</td>\n",
              "      <td>201.0</td>\n",
              "      <td>2014-01-14 20:23:20.000 +0000</td>\n",
              "      <td>2014-03-26 22:25:07.000 +0000</td>\n",
              "      <td>2013-12-20 08:00:00.000 +0000</td>\n",
              "      <td>2014-02-25 06:42:06.000 +0000</td>\n",
              "      <td>8.0</td>\n",
              "      <td>11</td>\n",
              "      <td>2</td>\n",
              "      <td>1</td>\n",
              "      <td>NaN</td>\n",
              "      <td>female</td>\n",
              "      <td>true</td>\n",
              "      <td>monthly</td>\n",
              "      <td>field_partner</td>\n",
              "    </tr>\n",
              "    <tr>\n",
              "      <th>2</th>\n",
              "      <td>658010</td>\n",
              "      <td>Aasia</td>\n",
              "      <td>English</td>\n",
              "      <td>Aasia is a 45-year-old married lady and she ha...</td>\n",
              "      <td>NaN</td>\n",
              "      <td>400.0</td>\n",
              "      <td>400.0</td>\n",
              "      <td>funded</td>\n",
              "      <td>General Store</td>\n",
              "      <td>Retail</td>\n",
              "      <td>to buy stock of rice, sugar and flour</td>\n",
              "      <td>PK</td>\n",
              "      <td>Pakistan</td>\n",
              "      <td>Lala Musa</td>\n",
              "      <td>shared</td>\n",
              "      <td>0.1</td>\n",
              "      <td>PKR</td>\n",
              "      <td>245.0</td>\n",
              "      <td>2014-01-16 11:32:58.000 +0000</td>\n",
              "      <td>2014-02-15 21:10:05.000 +0000</td>\n",
              "      <td>2014-01-09 08:00:00.000 +0000</td>\n",
              "      <td>2014-01-24 23:06:18.000 +0000</td>\n",
              "      <td>14.0</td>\n",
              "      <td>16</td>\n",
              "      <td>2</td>\n",
              "      <td>1</td>\n",
              "      <td>#Woman Owned Biz, #Supporting Family, user_fav...</td>\n",
              "      <td>female</td>\n",
              "      <td>true</td>\n",
              "      <td>monthly</td>\n",
              "      <td>field_partner</td>\n",
              "    </tr>\n",
              "    <tr>\n",
              "      <th>3</th>\n",
              "      <td>659347</td>\n",
              "      <td>Gulmira</td>\n",
              "      <td>Russian</td>\n",
              "      <td>Гулмире 36 лет, замужем, вместе с супругом вос...</td>\n",
              "      <td>Gulmira is 36 years old and married.  She and ...</td>\n",
              "      <td>625.0</td>\n",
              "      <td>625.0</td>\n",
              "      <td>funded</td>\n",
              "      <td>Farming</td>\n",
              "      <td>Agriculture</td>\n",
              "      <td>to buy cucumber and tomato seeds, as well as f...</td>\n",
              "      <td>KG</td>\n",
              "      <td>Kyrgyzstan</td>\n",
              "      <td>Aravan village, Osh region</td>\n",
              "      <td>shared</td>\n",
              "      <td>0.1</td>\n",
              "      <td>KGS</td>\n",
              "      <td>171.0</td>\n",
              "      <td>2014-01-20 09:59:48.000 +0000</td>\n",
              "      <td>2014-02-21 03:10:02.000 +0000</td>\n",
              "      <td>2014-01-17 08:00:00.000 +0000</td>\n",
              "      <td>2014-01-22 05:29:28.000 +0000</td>\n",
              "      <td>14.0</td>\n",
              "      <td>21</td>\n",
              "      <td>2</td>\n",
              "      <td>1</td>\n",
              "      <td>user_favorite</td>\n",
              "      <td>female</td>\n",
              "      <td>true</td>\n",
              "      <td>monthly</td>\n",
              "      <td>field_partner</td>\n",
              "    </tr>\n",
              "    <tr>\n",
              "      <th>4</th>\n",
              "      <td>656933</td>\n",
              "      <td>Ricky\\t</td>\n",
              "      <td>English</td>\n",
              "      <td>Ricky is a farmer who currently cultivates his...</td>\n",
              "      <td>NaN</td>\n",
              "      <td>425.0</td>\n",
              "      <td>425.0</td>\n",
              "      <td>funded</td>\n",
              "      <td>Farming</td>\n",
              "      <td>Agriculture</td>\n",
              "      <td>to buy organic fertilizer and agrochemical pr...</td>\n",
              "      <td>PH</td>\n",
              "      <td>Philippines</td>\n",
              "      <td>Baleleng, Sto. Thomas, Isabela</td>\n",
              "      <td>shared</td>\n",
              "      <td>0.1</td>\n",
              "      <td>PHP</td>\n",
              "      <td>123.0</td>\n",
              "      <td>2014-01-14 05:46:21.000 +0000</td>\n",
              "      <td>2014-02-13 06:10:02.000 +0000</td>\n",
              "      <td>2013-12-17 08:00:00.000 +0000</td>\n",
              "      <td>2014-01-14 17:29:27.000 +0000</td>\n",
              "      <td>7.0</td>\n",
              "      <td>15</td>\n",
              "      <td>2</td>\n",
              "      <td>1</td>\n",
              "      <td>#Animals, #Eco-friendly, #Sustainable Ag</td>\n",
              "      <td>male</td>\n",
              "      <td>true</td>\n",
              "      <td>bullet</td>\n",
              "      <td>field_partner</td>\n",
              "    </tr>\n",
              "  </tbody>\n",
              "</table>\n",
              "</div>"
            ],
            "text/plain": [
              "   loan_id       loan_name  ... repayment_interval distribution_model\n",
              "0   657307            Aivy  ...          irregular      field_partner\n",
              "1   657259  Idalia Marizza  ...            monthly      field_partner\n",
              "2   658010           Aasia  ...            monthly      field_partner\n",
              "3   659347         Gulmira  ...            monthly      field_partner\n",
              "4   656933         Ricky\\t  ...             bullet      field_partner\n",
              "\n",
              "[5 rows x 31 columns]"
            ]
          },
          "metadata": {
            "tags": []
          },
          "execution_count": 12
        },
        {
          "output_type": "stream",
          "text": [
            "time: 62.5 ms\n"
          ],
          "name": "stdout"
        }
      ]
    },
    {
      "cell_type": "markdown",
      "metadata": {
        "id": "J-5FlPjEooYP",
        "colab_type": "text"
      },
      "source": [
        "### Check missing values"
      ]
    },
    {
      "cell_type": "code",
      "metadata": {
        "id": "cZCHUpNRarl2",
        "colab_type": "code",
        "outputId": "f4144898-12d0-4c7b-96b8-ee719cd5610d",
        "colab": {
          "base_uri": "https://localhost:8080/",
          "height": 34
        }
      },
      "source": [
        "missing_loan_expiration = pd.isnull(loan[['planned_expiration_time']])\n",
        "missing_loan_disburse = pd.isnull(loan[['disburse_time']])"
      ],
      "execution_count": 13,
      "outputs": [
        {
          "output_type": "stream",
          "text": [
            "time: 152 ms\n"
          ],
          "name": "stdout"
        }
      ]
    },
    {
      "cell_type": "code",
      "metadata": {
        "id": "K39I0iLPREhe",
        "colab_type": "code",
        "outputId": "4217765c-1cab-497f-da00-955c5d5ed173",
        "colab": {
          "base_uri": "https://localhost:8080/",
          "height": 34
        }
      },
      "source": [
        "missing_loan_index_e = missing_loan_expiration[missing_loan_expiration['planned_expiration_time']==True].index\n",
        "missing_loan_index_d = missing_loan_disburse[missing_loan_disburse['disburse_time']==True].index"
      ],
      "execution_count": 14,
      "outputs": [
        {
          "output_type": "stream",
          "text": [
            "time: 19.3 ms\n"
          ],
          "name": "stdout"
        }
      ]
    },
    {
      "cell_type": "code",
      "metadata": {
        "id": "xL_ZQf3sV72I",
        "colab_type": "code",
        "outputId": "6e21c4a5-86ea-427a-be36-6fa913a714ed",
        "colab": {
          "base_uri": "https://localhost:8080/",
          "height": 67
        }
      },
      "source": [
        "print('Number rows which have nan values planned_expiration_time: '+str(len(missing_loan_index_e)))\n",
        "print('Number rows which have nan values disburse_time: '+str(len(missing_loan_index_d)))"
      ],
      "execution_count": 15,
      "outputs": [
        {
          "output_type": "stream",
          "text": [
            "Number rows which have nan values planned_expiration_time: 371834\n",
            "Number rows which have nan values disburse_time: 2813\n",
            "time: 1.37 ms\n"
          ],
          "name": "stdout"
        }
      ]
    },
    {
      "cell_type": "code",
      "metadata": {
        "id": "oRZtAejQRo-U",
        "colab_type": "code",
        "outputId": "2c8e56e4-1529-49ee-d81c-feae9ac517d8",
        "colab": {
          "base_uri": "https://localhost:8080/",
          "height": 34
        }
      },
      "source": [
        "missing_loan_index = missing_loan_index_e.union(missing_loan_index_d) #union indici nan disburse e nan expiration"
      ],
      "execution_count": 16,
      "outputs": [
        {
          "output_type": "stream",
          "text": [
            "time: 7.04 ms\n"
          ],
          "name": "stdout"
        }
      ]
    },
    {
      "cell_type": "code",
      "metadata": {
        "id": "bk9w0m7l69z7",
        "colab_type": "code",
        "outputId": "e71bcea2-9b30-47a8-8977-a8bc22e2efa9",
        "colab": {
          "base_uri": "https://localhost:8080/",
          "height": 118
        }
      },
      "source": [
        "missing_loan_index"
      ],
      "execution_count": 17,
      "outputs": [
        {
          "output_type": "execute_result",
          "data": {
            "text/plain": [
              "Int64Index([     64,      65,      66,      67,      69,      70,     133,\n",
              "                134,     135,     136,\n",
              "            ...\n",
              "            1419219, 1419345, 1419505, 1419506, 1419522, 1419523, 1419524,\n",
              "            1419525, 1419538, 1419564],\n",
              "           dtype='int64', length=374645)"
            ]
          },
          "metadata": {
            "tags": []
          },
          "execution_count": 17
        },
        {
          "output_type": "stream",
          "text": [
            "time: 2.79 ms\n"
          ],
          "name": "stdout"
        }
      ]
    },
    {
      "cell_type": "code",
      "metadata": {
        "id": "17weT9aMC30j",
        "colab_type": "code",
        "outputId": "aab5458f-01c9-4102-c2e7-6df634820479",
        "colab": {
          "base_uri": "https://localhost:8080/",
          "height": 418
        }
      },
      "source": [
        "loan.loc[missing_loan_index][['planned_expiration_time','disburse_time']]"
      ],
      "execution_count": 18,
      "outputs": [
        {
          "output_type": "execute_result",
          "data": {
            "text/html": [
              "<div>\n",
              "<style scoped>\n",
              "    .dataframe tbody tr th:only-of-type {\n",
              "        vertical-align: middle;\n",
              "    }\n",
              "\n",
              "    .dataframe tbody tr th {\n",
              "        vertical-align: top;\n",
              "    }\n",
              "\n",
              "    .dataframe thead th {\n",
              "        text-align: right;\n",
              "    }\n",
              "</style>\n",
              "<table border=\"1\" class=\"dataframe\">\n",
              "  <thead>\n",
              "    <tr style=\"text-align: right;\">\n",
              "      <th></th>\n",
              "      <th>planned_expiration_time</th>\n",
              "      <th>disburse_time</th>\n",
              "    </tr>\n",
              "  </thead>\n",
              "  <tbody>\n",
              "    <tr>\n",
              "      <th>64</th>\n",
              "      <td>NaN</td>\n",
              "      <td>2010-11-18 08:00:00.000 +0000</td>\n",
              "    </tr>\n",
              "    <tr>\n",
              "      <th>65</th>\n",
              "      <td>NaN</td>\n",
              "      <td>2010-11-25 08:00:00.000 +0000</td>\n",
              "    </tr>\n",
              "    <tr>\n",
              "      <th>66</th>\n",
              "      <td>NaN</td>\n",
              "      <td>2010-11-25 08:00:00.000 +0000</td>\n",
              "    </tr>\n",
              "    <tr>\n",
              "      <th>67</th>\n",
              "      <td>NaN</td>\n",
              "      <td>2010-11-16 08:00:00.000 +0000</td>\n",
              "    </tr>\n",
              "    <tr>\n",
              "      <th>69</th>\n",
              "      <td>NaN</td>\n",
              "      <td>2010-11-10 08:00:00.000 +0000</td>\n",
              "    </tr>\n",
              "    <tr>\n",
              "      <th>...</th>\n",
              "      <td>...</td>\n",
              "      <td>...</td>\n",
              "    </tr>\n",
              "    <tr>\n",
              "      <th>1419523</th>\n",
              "      <td>NaN</td>\n",
              "      <td>2005-04-14 05:27:55.000 +0000</td>\n",
              "    </tr>\n",
              "    <tr>\n",
              "      <th>1419524</th>\n",
              "      <td>2017-02-09 23:07:54.000 +0000</td>\n",
              "      <td>NaN</td>\n",
              "    </tr>\n",
              "    <tr>\n",
              "      <th>1419525</th>\n",
              "      <td>2015-09-21 08:06:19.000 +0000</td>\n",
              "      <td>NaN</td>\n",
              "    </tr>\n",
              "    <tr>\n",
              "      <th>1419538</th>\n",
              "      <td>2017-02-25 20:21:21.000 +0000</td>\n",
              "      <td>NaN</td>\n",
              "    </tr>\n",
              "    <tr>\n",
              "      <th>1419564</th>\n",
              "      <td>2016-09-30 18:49:53.000 +0000</td>\n",
              "      <td>NaN</td>\n",
              "    </tr>\n",
              "  </tbody>\n",
              "</table>\n",
              "<p>374645 rows × 2 columns</p>\n",
              "</div>"
            ],
            "text/plain": [
              "               planned_expiration_time                  disburse_time\n",
              "64                                 NaN  2010-11-18 08:00:00.000 +0000\n",
              "65                                 NaN  2010-11-25 08:00:00.000 +0000\n",
              "66                                 NaN  2010-11-25 08:00:00.000 +0000\n",
              "67                                 NaN  2010-11-16 08:00:00.000 +0000\n",
              "69                                 NaN  2010-11-10 08:00:00.000 +0000\n",
              "...                                ...                            ...\n",
              "1419523                            NaN  2005-04-14 05:27:55.000 +0000\n",
              "1419524  2017-02-09 23:07:54.000 +0000                            NaN\n",
              "1419525  2015-09-21 08:06:19.000 +0000                            NaN\n",
              "1419538  2017-02-25 20:21:21.000 +0000                            NaN\n",
              "1419564  2016-09-30 18:49:53.000 +0000                            NaN\n",
              "\n",
              "[374645 rows x 2 columns]"
            ]
          },
          "metadata": {
            "tags": []
          },
          "execution_count": 18
        },
        {
          "output_type": "stream",
          "text": [
            "time: 218 ms\n"
          ],
          "name": "stdout"
        }
      ]
    },
    {
      "cell_type": "markdown",
      "metadata": {
        "id": "VCwDEftFpehQ",
        "colab_type": "text"
      },
      "source": [
        "### Conversion attributes _planned_expiration_time_, _disburse_time_ to _Datetime_"
      ]
    },
    {
      "cell_type": "code",
      "metadata": {
        "id": "ojZHY5BZgzAY",
        "colab_type": "code",
        "outputId": "cfb5e047-ce6f-448a-d5c8-821032d8e178",
        "colab": {
          "base_uri": "https://localhost:8080/",
          "height": 34
        }
      },
      "source": [
        "loan['planned_expiration_time'] = pd.to_datetime(loan.loc[:,'planned_expiration_time'])\n",
        "loan['disburse_time'] = pd.to_datetime(loan.loc[:,'disburse_time'])"
      ],
      "execution_count": 19,
      "outputs": [
        {
          "output_type": "stream",
          "text": [
            "time: 1.39 s\n"
          ],
          "name": "stdout"
        }
      ]
    },
    {
      "cell_type": "code",
      "metadata": {
        "id": "n9ejOsHWFp4a",
        "colab_type": "code",
        "outputId": "23dc0db7-533b-4d01-a097-9eaa97327a3d",
        "colab": {
          "base_uri": "https://localhost:8080/",
          "height": 67
        }
      },
      "source": [
        "missing = loan.loc[missing_loan_index]\n",
        "print('Number rows missing: '+str(len(missing)))\n",
        "print('Ratio missing: '+str(len(missing) / len(loan)))"
      ],
      "execution_count": 20,
      "outputs": [
        {
          "output_type": "stream",
          "text": [
            "Number rows missing: 374645\n",
            "Ratio missing: 0.26390754624343216\n",
            "time: 157 ms\n"
          ],
          "name": "stdout"
        }
      ]
    },
    {
      "cell_type": "markdown",
      "metadata": {
        "id": "WWhangtDfGEA",
        "colab_type": "text"
      },
      "source": [
        "### Compute difference between _planned_expiration_time_ and _disburse_time_"
      ]
    },
    {
      "cell_type": "code",
      "metadata": {
        "id": "7OFOFc7ehLd1",
        "colab_type": "code",
        "outputId": "1d1ab2a7-3cfd-45d1-a737-c08dac5cf9a7",
        "colab": {
          "base_uri": "https://localhost:8080/",
          "height": 34
        }
      },
      "source": [
        "loan['duration'] = loan['planned_expiration_time']- loan['disburse_time'] #si ottiene oggetto timedelta"
      ],
      "execution_count": 21,
      "outputs": [
        {
          "output_type": "stream",
          "text": [
            "time: 29.2 ms\n"
          ],
          "name": "stdout"
        }
      ]
    },
    {
      "cell_type": "code",
      "metadata": {
        "id": "ciCJMVX5m0uk",
        "colab_type": "code",
        "outputId": "7ea70048-9ce3-412e-98cc-73df55f3fe2c",
        "colab": {
          "base_uri": "https://localhost:8080/",
          "height": 34
        }
      },
      "source": [
        "loan['duration'] = loan.apply(lambda x: x['duration'].days,axis=1)"
      ],
      "execution_count": 22,
      "outputs": [
        {
          "output_type": "stream",
          "text": [
            "time: 2min 41s\n"
          ],
          "name": "stdout"
        }
      ]
    },
    {
      "cell_type": "markdown",
      "metadata": {
        "id": "v1E4esXdQzYj",
        "colab_type": "text"
      },
      "source": [
        "### _Result_"
      ]
    },
    {
      "cell_type": "code",
      "metadata": {
        "id": "ksaM8dHyycQk",
        "colab_type": "code",
        "outputId": "01d0069a-573a-40be-d8c1-9ed57d6409c8",
        "colab": {
          "base_uri": "https://localhost:8080/",
          "height": 212
        }
      },
      "source": [
        "loan.head()[['planned_expiration_time','disburse_time','duration']]"
      ],
      "execution_count": 23,
      "outputs": [
        {
          "output_type": "execute_result",
          "data": {
            "text/html": [
              "<div>\n",
              "<style scoped>\n",
              "    .dataframe tbody tr th:only-of-type {\n",
              "        vertical-align: middle;\n",
              "    }\n",
              "\n",
              "    .dataframe tbody tr th {\n",
              "        vertical-align: top;\n",
              "    }\n",
              "\n",
              "    .dataframe thead th {\n",
              "        text-align: right;\n",
              "    }\n",
              "</style>\n",
              "<table border=\"1\" class=\"dataframe\">\n",
              "  <thead>\n",
              "    <tr style=\"text-align: right;\">\n",
              "      <th></th>\n",
              "      <th>planned_expiration_time</th>\n",
              "      <th>disburse_time</th>\n",
              "      <th>duration</th>\n",
              "    </tr>\n",
              "  </thead>\n",
              "  <tbody>\n",
              "    <tr>\n",
              "      <th>0</th>\n",
              "      <td>2014-02-14 03:30:06+00:00</td>\n",
              "      <td>2013-12-22 08:00:00+00:00</td>\n",
              "      <td>53.0</td>\n",
              "    </tr>\n",
              "    <tr>\n",
              "      <th>1</th>\n",
              "      <td>2014-03-26 22:25:07+00:00</td>\n",
              "      <td>2013-12-20 08:00:00+00:00</td>\n",
              "      <td>96.0</td>\n",
              "    </tr>\n",
              "    <tr>\n",
              "      <th>2</th>\n",
              "      <td>2014-02-15 21:10:05+00:00</td>\n",
              "      <td>2014-01-09 08:00:00+00:00</td>\n",
              "      <td>37.0</td>\n",
              "    </tr>\n",
              "    <tr>\n",
              "      <th>3</th>\n",
              "      <td>2014-02-21 03:10:02+00:00</td>\n",
              "      <td>2014-01-17 08:00:00+00:00</td>\n",
              "      <td>34.0</td>\n",
              "    </tr>\n",
              "    <tr>\n",
              "      <th>4</th>\n",
              "      <td>2014-02-13 06:10:02+00:00</td>\n",
              "      <td>2013-12-17 08:00:00+00:00</td>\n",
              "      <td>57.0</td>\n",
              "    </tr>\n",
              "  </tbody>\n",
              "</table>\n",
              "</div>"
            ],
            "text/plain": [
              "    planned_expiration_time             disburse_time  duration\n",
              "0 2014-02-14 03:30:06+00:00 2013-12-22 08:00:00+00:00      53.0\n",
              "1 2014-03-26 22:25:07+00:00 2013-12-20 08:00:00+00:00      96.0\n",
              "2 2014-02-15 21:10:05+00:00 2014-01-09 08:00:00+00:00      37.0\n",
              "3 2014-02-21 03:10:02+00:00 2014-01-17 08:00:00+00:00      34.0\n",
              "4 2014-02-13 06:10:02+00:00 2013-12-17 08:00:00+00:00      57.0"
            ]
          },
          "metadata": {
            "tags": []
          },
          "execution_count": 23
        },
        {
          "output_type": "stream",
          "text": [
            "time: 16 ms\n"
          ],
          "name": "stdout"
        }
      ]
    },
    {
      "cell_type": "code",
      "metadata": {
        "id": "zRokw7YFYAxm",
        "colab_type": "code",
        "outputId": "4ce5d7db-2b95-4a7d-bf7e-0a5c111247a5",
        "colab": {
          "base_uri": "https://localhost:8080/",
          "height": 418
        }
      },
      "source": [
        "loan.loc[missing_loan_index][['planned_expiration_time','disburse_time','duration']]"
      ],
      "execution_count": 24,
      "outputs": [
        {
          "output_type": "execute_result",
          "data": {
            "text/html": [
              "<div>\n",
              "<style scoped>\n",
              "    .dataframe tbody tr th:only-of-type {\n",
              "        vertical-align: middle;\n",
              "    }\n",
              "\n",
              "    .dataframe tbody tr th {\n",
              "        vertical-align: top;\n",
              "    }\n",
              "\n",
              "    .dataframe thead th {\n",
              "        text-align: right;\n",
              "    }\n",
              "</style>\n",
              "<table border=\"1\" class=\"dataframe\">\n",
              "  <thead>\n",
              "    <tr style=\"text-align: right;\">\n",
              "      <th></th>\n",
              "      <th>planned_expiration_time</th>\n",
              "      <th>disburse_time</th>\n",
              "      <th>duration</th>\n",
              "    </tr>\n",
              "  </thead>\n",
              "  <tbody>\n",
              "    <tr>\n",
              "      <th>64</th>\n",
              "      <td>NaT</td>\n",
              "      <td>2010-11-18 08:00:00+00:00</td>\n",
              "      <td>NaN</td>\n",
              "    </tr>\n",
              "    <tr>\n",
              "      <th>65</th>\n",
              "      <td>NaT</td>\n",
              "      <td>2010-11-25 08:00:00+00:00</td>\n",
              "      <td>NaN</td>\n",
              "    </tr>\n",
              "    <tr>\n",
              "      <th>66</th>\n",
              "      <td>NaT</td>\n",
              "      <td>2010-11-25 08:00:00+00:00</td>\n",
              "      <td>NaN</td>\n",
              "    </tr>\n",
              "    <tr>\n",
              "      <th>67</th>\n",
              "      <td>NaT</td>\n",
              "      <td>2010-11-16 08:00:00+00:00</td>\n",
              "      <td>NaN</td>\n",
              "    </tr>\n",
              "    <tr>\n",
              "      <th>69</th>\n",
              "      <td>NaT</td>\n",
              "      <td>2010-11-10 08:00:00+00:00</td>\n",
              "      <td>NaN</td>\n",
              "    </tr>\n",
              "    <tr>\n",
              "      <th>...</th>\n",
              "      <td>...</td>\n",
              "      <td>...</td>\n",
              "      <td>...</td>\n",
              "    </tr>\n",
              "    <tr>\n",
              "      <th>1419523</th>\n",
              "      <td>NaT</td>\n",
              "      <td>2005-04-14 05:27:55+00:00</td>\n",
              "      <td>NaN</td>\n",
              "    </tr>\n",
              "    <tr>\n",
              "      <th>1419524</th>\n",
              "      <td>2017-02-09 23:07:54+00:00</td>\n",
              "      <td>NaT</td>\n",
              "      <td>NaN</td>\n",
              "    </tr>\n",
              "    <tr>\n",
              "      <th>1419525</th>\n",
              "      <td>2015-09-21 08:06:19+00:00</td>\n",
              "      <td>NaT</td>\n",
              "      <td>NaN</td>\n",
              "    </tr>\n",
              "    <tr>\n",
              "      <th>1419538</th>\n",
              "      <td>2017-02-25 20:21:21+00:00</td>\n",
              "      <td>NaT</td>\n",
              "      <td>NaN</td>\n",
              "    </tr>\n",
              "    <tr>\n",
              "      <th>1419564</th>\n",
              "      <td>2016-09-30 18:49:53+00:00</td>\n",
              "      <td>NaT</td>\n",
              "      <td>NaN</td>\n",
              "    </tr>\n",
              "  </tbody>\n",
              "</table>\n",
              "<p>374645 rows × 3 columns</p>\n",
              "</div>"
            ],
            "text/plain": [
              "          planned_expiration_time             disburse_time  duration\n",
              "64                            NaT 2010-11-18 08:00:00+00:00       NaN\n",
              "65                            NaT 2010-11-25 08:00:00+00:00       NaN\n",
              "66                            NaT 2010-11-25 08:00:00+00:00       NaN\n",
              "67                            NaT 2010-11-16 08:00:00+00:00       NaN\n",
              "69                            NaT 2010-11-10 08:00:00+00:00       NaN\n",
              "...                           ...                       ...       ...\n",
              "1419523                       NaT 2005-04-14 05:27:55+00:00       NaN\n",
              "1419524 2017-02-09 23:07:54+00:00                       NaT       NaN\n",
              "1419525 2015-09-21 08:06:19+00:00                       NaT       NaN\n",
              "1419538 2017-02-25 20:21:21+00:00                       NaT       NaN\n",
              "1419564 2016-09-30 18:49:53+00:00                       NaT       NaN\n",
              "\n",
              "[374645 rows x 3 columns]"
            ]
          },
          "metadata": {
            "tags": []
          },
          "execution_count": 24
        },
        {
          "output_type": "stream",
          "text": [
            "time: 275 ms\n"
          ],
          "name": "stdout"
        }
      ]
    },
    {
      "cell_type": "markdown",
      "metadata": {
        "id": "eo2kVaCZKR_g",
        "colab_type": "text"
      },
      "source": [
        "## Task 3\n",
        "- Find the lenders that have funded at least twice"
      ]
    },
    {
      "cell_type": "code",
      "metadata": {
        "id": "4bPS04EKfGF7",
        "colab_type": "code",
        "outputId": "16f20524-414b-44b8-dd7d-9905971204e7",
        "colab": {
          "base_uri": "https://localhost:8080/",
          "height": 34
        }
      },
      "source": [
        "numberfunded_lenders = loans_lender_norm.groupby('lenders')['loan_id'].count()"
      ],
      "execution_count": 25,
      "outputs": [
        {
          "output_type": "stream",
          "text": [
            "time: 11.8 s\n"
          ],
          "name": "stdout"
        }
      ]
    },
    {
      "cell_type": "markdown",
      "metadata": {
        "id": "70Im_Tbx0JsK",
        "colab_type": "text"
      },
      "source": [
        "### Apply constraint after group by "
      ]
    },
    {
      "cell_type": "code",
      "metadata": {
        "id": "KbBA7ZM2zIfZ",
        "colab_type": "code",
        "outputId": "5e99b87f-0ba7-4ee4-a161-b0a31ef3179e",
        "colab": {
          "base_uri": "https://localhost:8080/",
          "height": 34
        }
      },
      "source": [
        "numberfunded_lenders = pd.DataFrame(numberfunded_lenders).reset_index(drop=False)\n",
        "numberfunded_lenders.columns = ['lenders','count']\n",
        "\n",
        "numberfunded_lenders = numberfunded_lenders[numberfunded_lenders['count']>=2]"
      ],
      "execution_count": 26,
      "outputs": [
        {
          "output_type": "stream",
          "text": [
            "time: 309 ms\n"
          ],
          "name": "stdout"
        }
      ]
    },
    {
      "cell_type": "markdown",
      "metadata": {
        "id": "Z9WMYaSl2-gH",
        "colab_type": "text"
      },
      "source": [
        "### _Result_"
      ]
    },
    {
      "cell_type": "code",
      "metadata": {
        "id": "1tVLRNMGeBnn",
        "colab_type": "code",
        "outputId": "1bce1633-fc40-496b-cfe0-ad18284f4a54",
        "colab": {
          "base_uri": "https://localhost:8080/",
          "height": 212
        }
      },
      "source": [
        "numberfunded_lenders.head()"
      ],
      "execution_count": 27,
      "outputs": [
        {
          "output_type": "execute_result",
          "data": {
            "text/html": [
              "<div>\n",
              "<style scoped>\n",
              "    .dataframe tbody tr th:only-of-type {\n",
              "        vertical-align: middle;\n",
              "    }\n",
              "\n",
              "    .dataframe tbody tr th {\n",
              "        vertical-align: top;\n",
              "    }\n",
              "\n",
              "    .dataframe thead th {\n",
              "        text-align: right;\n",
              "    }\n",
              "</style>\n",
              "<table border=\"1\" class=\"dataframe\">\n",
              "  <thead>\n",
              "    <tr style=\"text-align: right;\">\n",
              "      <th></th>\n",
              "      <th>lenders</th>\n",
              "      <th>count</th>\n",
              "    </tr>\n",
              "  </thead>\n",
              "  <tbody>\n",
              "    <tr>\n",
              "      <th>0</th>\n",
              "      <td>000</td>\n",
              "      <td>40</td>\n",
              "    </tr>\n",
              "    <tr>\n",
              "      <th>1</th>\n",
              "      <td>00000</td>\n",
              "      <td>39</td>\n",
              "    </tr>\n",
              "    <tr>\n",
              "      <th>2</th>\n",
              "      <td>0002</td>\n",
              "      <td>70</td>\n",
              "    </tr>\n",
              "    <tr>\n",
              "      <th>4</th>\n",
              "      <td>0101craign0101</td>\n",
              "      <td>71</td>\n",
              "    </tr>\n",
              "    <tr>\n",
              "      <th>5</th>\n",
              "      <td>0132575</td>\n",
              "      <td>4</td>\n",
              "    </tr>\n",
              "  </tbody>\n",
              "</table>\n",
              "</div>"
            ],
            "text/plain": [
              "          lenders  count\n",
              "0             000     40\n",
              "1           00000     39\n",
              "2            0002     70\n",
              "4  0101craign0101     71\n",
              "5         0132575      4"
            ]
          },
          "metadata": {
            "tags": []
          },
          "execution_count": 27
        },
        {
          "output_type": "stream",
          "text": [
            "time: 9.89 ms\n"
          ],
          "name": "stdout"
        }
      ]
    },
    {
      "cell_type": "markdown",
      "metadata": {
        "id": "3m78erQM3Nj0",
        "colab_type": "text"
      },
      "source": [
        "## Task 4\n",
        "- For each country, compute how many loans have involved that country as borrowers."
      ]
    },
    {
      "cell_type": "markdown",
      "metadata": {
        "id": "QfLNnBktD9PZ",
        "colab_type": "text"
      },
      "source": [
        "### Check missing values"
      ]
    },
    {
      "cell_type": "code",
      "metadata": {
        "id": "BFKmfgGp9Ii4",
        "colab_type": "code",
        "outputId": "a579a98a-8d8e-4326-b0d0-cae4c46c10e4",
        "colab": {
          "base_uri": "https://localhost:8080/",
          "height": 64
        }
      },
      "source": [
        "missing_name = pd.isnull(loan[['country_name']])\n",
        "missing_name[missing_name['country_name']==True]"
      ],
      "execution_count": 28,
      "outputs": [
        {
          "output_type": "execute_result",
          "data": {
            "text/html": [
              "<div>\n",
              "<style scoped>\n",
              "    .dataframe tbody tr th:only-of-type {\n",
              "        vertical-align: middle;\n",
              "    }\n",
              "\n",
              "    .dataframe tbody tr th {\n",
              "        vertical-align: top;\n",
              "    }\n",
              "\n",
              "    .dataframe thead th {\n",
              "        text-align: right;\n",
              "    }\n",
              "</style>\n",
              "<table border=\"1\" class=\"dataframe\">\n",
              "  <thead>\n",
              "    <tr style=\"text-align: right;\">\n",
              "      <th></th>\n",
              "      <th>country_name</th>\n",
              "    </tr>\n",
              "  </thead>\n",
              "  <tbody>\n",
              "  </tbody>\n",
              "</table>\n",
              "</div>"
            ],
            "text/plain": [
              "Empty DataFrame\n",
              "Columns: [country_name]\n",
              "Index: []"
            ]
          },
          "metadata": {
            "tags": []
          },
          "execution_count": 28
        },
        {
          "output_type": "stream",
          "text": [
            "time: 76.6 ms\n"
          ],
          "name": "stdout"
        }
      ]
    },
    {
      "cell_type": "code",
      "metadata": {
        "id": "T5ah4Q3Ljvwo",
        "colab_type": "code",
        "outputId": "5ac9865f-3e06-48ba-8db7-9e243493d4b9",
        "colab": {
          "base_uri": "https://localhost:8080/",
          "height": 67
        }
      },
      "source": [
        "missing_code = pd.isnull(loan[['country_code']])\n",
        "index_code = missing_code[missing_code['country_code']==True].index\n",
        "index_code"
      ],
      "execution_count": 29,
      "outputs": [
        {
          "output_type": "execute_result",
          "data": {
            "text/plain": [
              "Int64Index([82889, 156970, 598087, 684876, 971827, 1134818, 1214923, 1281022,\n",
              "            1415763],\n",
              "           dtype='int64')"
            ]
          },
          "metadata": {
            "tags": []
          },
          "execution_count": 29
        },
        {
          "output_type": "stream",
          "text": [
            "time: 77.6 ms\n"
          ],
          "name": "stdout"
        }
      ]
    },
    {
      "cell_type": "markdown",
      "metadata": {
        "id": "i7Nvn5Akz1wv",
        "colab_type": "text"
      },
      "source": [
        "### Replace missing values with manual imputation"
      ]
    },
    {
      "cell_type": "code",
      "metadata": {
        "id": "TzuCM46Q0R3V",
        "colab_type": "code",
        "colab": {
          "base_uri": "https://localhost:8080/",
          "height": 185
        },
        "outputId": "5f4837bd-7a80-44e7-a5e0-795d5d5eba79"
      },
      "source": [
        "loan.loc[index_code]['country_name']"
      ],
      "execution_count": 30,
      "outputs": [
        {
          "output_type": "execute_result",
          "data": {
            "text/plain": [
              "82889      Namibia\n",
              "156970     Namibia\n",
              "598087     Namibia\n",
              "684876     Namibia\n",
              "971827     Namibia\n",
              "1134818    Namibia\n",
              "1214923    Namibia\n",
              "1281022    Namibia\n",
              "1415763    Namibia\n",
              "Name: country_name, dtype: object"
            ]
          },
          "metadata": {
            "tags": []
          },
          "execution_count": 30
        },
        {
          "output_type": "stream",
          "text": [
            "time: 4.73 ms\n"
          ],
          "name": "stdout"
        }
      ]
    },
    {
      "cell_type": "code",
      "metadata": {
        "id": "gw8gWEjxzmI_",
        "colab_type": "code",
        "colab": {
          "base_uri": "https://localhost:8080/",
          "height": 34
        },
        "outputId": "49e20a76-ff63-4306-eddf-4e6dd6bf7d45"
      },
      "source": [
        "loan['country_code'] = loan['country_code'].fillna('NA') #imputazione manuale (valore ottenuto da https://en.wikipedia.org/wiki/ISO_3166-1_alpha-2) \n"
      ],
      "execution_count": 31,
      "outputs": [
        {
          "output_type": "stream",
          "text": [
            "time: 79 ms\n"
          ],
          "name": "stdout"
        }
      ]
    },
    {
      "cell_type": "code",
      "metadata": {
        "id": "TsMVZZZUExNS",
        "colab_type": "code",
        "outputId": "d1f72c8e-346c-4539-a936-c782c9e10ace",
        "colab": {
          "base_uri": "https://localhost:8080/",
          "height": 34
        }
      },
      "source": [
        "country_numberLoan = loan.groupby('country_code')['loan_id'].count()\n",
        "country_numberLoan = pd.DataFrame(country_numberLoan).reset_index(drop=False)\n",
        "country_numberLoan.columns=['country','count']"
      ],
      "execution_count": 32,
      "outputs": [
        {
          "output_type": "stream",
          "text": [
            "time: 76.2 ms\n"
          ],
          "name": "stdout"
        }
      ]
    },
    {
      "cell_type": "code",
      "metadata": {
        "id": "2ivHnD9Rmvfx",
        "colab_type": "code",
        "outputId": "f39b6928-e022-4ebd-be55-056bfed5c1de",
        "colab": {
          "base_uri": "https://localhost:8080/",
          "height": 34
        }
      },
      "source": [
        "code_numberLoan = loan.groupby('country_code')['loan_id'].count()\n",
        "code_numberLoan = pd.DataFrame(code_numberLoan).reset_index(drop=False)\n",
        "code_numberLoan.columns=['code','count']"
      ],
      "execution_count": 33,
      "outputs": [
        {
          "output_type": "stream",
          "text": [
            "time: 75.2 ms\n"
          ],
          "name": "stdout"
        }
      ]
    },
    {
      "cell_type": "markdown",
      "metadata": {
        "id": "eRZgY4f0GH_W",
        "colab_type": "text"
      },
      "source": [
        "### _Result_"
      ]
    },
    {
      "cell_type": "code",
      "metadata": {
        "id": "ziY0RfAbGJOJ",
        "colab_type": "code",
        "outputId": "df844131-dae1-410f-9761-1b8c9125c27b",
        "colab": {
          "base_uri": "https://localhost:8080/",
          "height": 212
        }
      },
      "source": [
        "country_numberLoan.head()"
      ],
      "execution_count": 34,
      "outputs": [
        {
          "output_type": "execute_result",
          "data": {
            "text/html": [
              "<div>\n",
              "<style scoped>\n",
              "    .dataframe tbody tr th:only-of-type {\n",
              "        vertical-align: middle;\n",
              "    }\n",
              "\n",
              "    .dataframe tbody tr th {\n",
              "        vertical-align: top;\n",
              "    }\n",
              "\n",
              "    .dataframe thead th {\n",
              "        text-align: right;\n",
              "    }\n",
              "</style>\n",
              "<table border=\"1\" class=\"dataframe\">\n",
              "  <thead>\n",
              "    <tr style=\"text-align: right;\">\n",
              "      <th></th>\n",
              "      <th>country</th>\n",
              "      <th>count</th>\n",
              "    </tr>\n",
              "  </thead>\n",
              "  <tbody>\n",
              "    <tr>\n",
              "      <th>0</th>\n",
              "      <td>AF</td>\n",
              "      <td>2337</td>\n",
              "    </tr>\n",
              "    <tr>\n",
              "      <th>1</th>\n",
              "      <td>AL</td>\n",
              "      <td>3075</td>\n",
              "    </tr>\n",
              "    <tr>\n",
              "      <th>2</th>\n",
              "      <td>AM</td>\n",
              "      <td>13952</td>\n",
              "    </tr>\n",
              "    <tr>\n",
              "      <th>3</th>\n",
              "      <td>AZ</td>\n",
              "      <td>10172</td>\n",
              "    </tr>\n",
              "    <tr>\n",
              "      <th>4</th>\n",
              "      <td>BA</td>\n",
              "      <td>608</td>\n",
              "    </tr>\n",
              "  </tbody>\n",
              "</table>\n",
              "</div>"
            ],
            "text/plain": [
              "  country  count\n",
              "0      AF   2337\n",
              "1      AL   3075\n",
              "2      AM  13952\n",
              "3      AZ  10172\n",
              "4      BA    608"
            ]
          },
          "metadata": {
            "tags": []
          },
          "execution_count": 34
        },
        {
          "output_type": "stream",
          "text": [
            "time: 9.16 ms\n"
          ],
          "name": "stdout"
        }
      ]
    },
    {
      "cell_type": "markdown",
      "metadata": {
        "id": "p4fsZmbtT7FR",
        "colab_type": "text"
      },
      "source": [
        "## Task 5\n",
        "- For each country, compute the overall amount of money borrowed."
      ]
    },
    {
      "cell_type": "code",
      "metadata": {
        "id": "6MxOu0nQR9FF",
        "colab_type": "code",
        "outputId": "92fc7be4-92a8-4791-a76a-65d07b4bca70",
        "colab": {
          "base_uri": "https://localhost:8080/",
          "height": 34
        }
      },
      "source": [
        "loan_simplified = loan[['loan_id','country_code','disburse_time','planned_expiration_time',\n",
        "                                      'num_lenders_total','funded_amount','loan_amount','currency']] #feature essenziali per risolvere gli altri task"
      ],
      "execution_count": 35,
      "outputs": [
        {
          "output_type": "stream",
          "text": [
            "time: 43.3 ms\n"
          ],
          "name": "stdout"
        }
      ]
    },
    {
      "cell_type": "markdown",
      "metadata": {
        "id": "olGHi4L7okqe",
        "colab_type": "text"
      },
      "source": [
        "### Check missing values"
      ]
    },
    {
      "cell_type": "code",
      "metadata": {
        "id": "M5ctgIlXnYMM",
        "colab_type": "code",
        "outputId": "13a3970f-b842-4bf7-f645-93e57fa65300",
        "colab": {
          "base_uri": "https://localhost:8080/",
          "height": 64
        }
      },
      "source": [
        "missing = pd.isnull(loan_simplified[['loan_amount']])\n",
        "missing[missing['loan_amount']==True]"
      ],
      "execution_count": 36,
      "outputs": [
        {
          "output_type": "execute_result",
          "data": {
            "text/html": [
              "<div>\n",
              "<style scoped>\n",
              "    .dataframe tbody tr th:only-of-type {\n",
              "        vertical-align: middle;\n",
              "    }\n",
              "\n",
              "    .dataframe tbody tr th {\n",
              "        vertical-align: top;\n",
              "    }\n",
              "\n",
              "    .dataframe thead th {\n",
              "        text-align: right;\n",
              "    }\n",
              "</style>\n",
              "<table border=\"1\" class=\"dataframe\">\n",
              "  <thead>\n",
              "    <tr style=\"text-align: right;\">\n",
              "      <th></th>\n",
              "      <th>loan_amount</th>\n",
              "    </tr>\n",
              "  </thead>\n",
              "  <tbody>\n",
              "  </tbody>\n",
              "</table>\n",
              "</div>"
            ],
            "text/plain": [
              "Empty DataFrame\n",
              "Columns: [loan_amount]\n",
              "Index: []"
            ]
          },
          "metadata": {
            "tags": []
          },
          "execution_count": 36
        },
        {
          "output_type": "stream",
          "text": [
            "time: 62.3 ms\n"
          ],
          "name": "stdout"
        }
      ]
    },
    {
      "cell_type": "markdown",
      "metadata": {
        "id": "1fvZRjgAT-EM",
        "colab_type": "text"
      },
      "source": [
        "### Compute calculation"
      ]
    },
    {
      "cell_type": "code",
      "metadata": {
        "id": "UUjb_utHdjLh",
        "colab_type": "code",
        "outputId": "9bbf2e8a-5485-4f69-c3c4-e02a853310f2",
        "colab": {
          "base_uri": "https://localhost:8080/",
          "height": 34
        }
      },
      "source": [
        "country_amount_loan = loan_simplified.groupby('country_code')['loan_amount'].sum().reset_index()"
      ],
      "execution_count": 37,
      "outputs": [
        {
          "output_type": "stream",
          "text": [
            "time: 69.7 ms\n"
          ],
          "name": "stdout"
        }
      ]
    },
    {
      "cell_type": "markdown",
      "metadata": {
        "id": "B1-vzEGQWATQ",
        "colab_type": "text"
      },
      "source": [
        "### _Result_"
      ]
    },
    {
      "cell_type": "code",
      "metadata": {
        "id": "gsXkIui62mOs",
        "colab_type": "code",
        "outputId": "8cfa68c1-25f5-49bf-e712-638a617ebc26",
        "colab": {
          "base_uri": "https://localhost:8080/",
          "height": 212
        }
      },
      "source": [
        "country_amount_loan.head()"
      ],
      "execution_count": 38,
      "outputs": [
        {
          "output_type": "execute_result",
          "data": {
            "text/html": [
              "<div>\n",
              "<style scoped>\n",
              "    .dataframe tbody tr th:only-of-type {\n",
              "        vertical-align: middle;\n",
              "    }\n",
              "\n",
              "    .dataframe tbody tr th {\n",
              "        vertical-align: top;\n",
              "    }\n",
              "\n",
              "    .dataframe thead th {\n",
              "        text-align: right;\n",
              "    }\n",
              "</style>\n",
              "<table border=\"1\" class=\"dataframe\">\n",
              "  <thead>\n",
              "    <tr style=\"text-align: right;\">\n",
              "      <th></th>\n",
              "      <th>country_code</th>\n",
              "      <th>loan_amount</th>\n",
              "    </tr>\n",
              "  </thead>\n",
              "  <tbody>\n",
              "    <tr>\n",
              "      <th>0</th>\n",
              "      <td>AF</td>\n",
              "      <td>1967950.0</td>\n",
              "    </tr>\n",
              "    <tr>\n",
              "      <th>1</th>\n",
              "      <td>AL</td>\n",
              "      <td>4307350.0</td>\n",
              "    </tr>\n",
              "    <tr>\n",
              "      <th>2</th>\n",
              "      <td>AM</td>\n",
              "      <td>22950475.0</td>\n",
              "    </tr>\n",
              "    <tr>\n",
              "      <th>3</th>\n",
              "      <td>AZ</td>\n",
              "      <td>14784625.0</td>\n",
              "    </tr>\n",
              "    <tr>\n",
              "      <th>4</th>\n",
              "      <td>BA</td>\n",
              "      <td>477250.0</td>\n",
              "    </tr>\n",
              "  </tbody>\n",
              "</table>\n",
              "</div>"
            ],
            "text/plain": [
              "  country_code  loan_amount\n",
              "0           AF    1967950.0\n",
              "1           AL    4307350.0\n",
              "2           AM   22950475.0\n",
              "3           AZ   14784625.0\n",
              "4           BA     477250.0"
            ]
          },
          "metadata": {
            "tags": []
          },
          "execution_count": 38
        },
        {
          "output_type": "stream",
          "text": [
            "time: 10.2 ms\n"
          ],
          "name": "stdout"
        }
      ]
    },
    {
      "cell_type": "markdown",
      "metadata": {
        "id": "Kkmag5y2Whhi",
        "colab_type": "text"
      },
      "source": [
        "## Task 6\n",
        "- Like the previous point, but expressed as a percentage of the overall amount lent."
      ]
    },
    {
      "cell_type": "code",
      "metadata": {
        "id": "gjnwWbopn2y1",
        "colab_type": "code",
        "outputId": "42cc6a16-55ce-4acc-940b-ca22213d6d50",
        "colab": {
          "base_uri": "https://localhost:8080/",
          "height": 34
        }
      },
      "source": [
        "country_amount_loan_perc=country_amount_loan\n",
        "country_amount_loan_perc.columns = ['country','borrowed']"
      ],
      "execution_count": 39,
      "outputs": [
        {
          "output_type": "stream",
          "text": [
            "time: 1.73 ms\n"
          ],
          "name": "stdout"
        }
      ]
    },
    {
      "cell_type": "markdown",
      "metadata": {
        "id": "13ISFmwc8EAL",
        "colab_type": "text"
      },
      "source": [
        "### Compute ratio between total country and overall amount"
      ]
    },
    {
      "cell_type": "code",
      "metadata": {
        "id": "M89TfHxStNcI",
        "colab_type": "code",
        "outputId": "6f5cc272-fcb5-4b6e-e5bc-9b443f44cc60",
        "colab": {
          "base_uri": "https://localhost:8080/",
          "height": 34
        }
      },
      "source": [
        "total=country_amount_loan_perc['borrowed'].sum()\n",
        "country_amount_loan_perc['percentage']=round(country_amount_loan_perc['borrowed']/total*100,2)"
      ],
      "execution_count": 40,
      "outputs": [
        {
          "output_type": "stream",
          "text": [
            "time: 10.6 ms\n"
          ],
          "name": "stdout"
        }
      ]
    },
    {
      "cell_type": "markdown",
      "metadata": {
        "id": "xNgVeIqTufQK",
        "colab_type": "text"
      },
      "source": [
        "### _Result_"
      ]
    },
    {
      "cell_type": "code",
      "metadata": {
        "id": "zyErEw0PugNt",
        "colab_type": "code",
        "outputId": "4f1aa938-e56b-40a1-b04a-f60e5195190e",
        "colab": {
          "base_uri": "https://localhost:8080/",
          "height": 212
        }
      },
      "source": [
        "country_amount_loan_perc.head()"
      ],
      "execution_count": 41,
      "outputs": [
        {
          "output_type": "execute_result",
          "data": {
            "text/html": [
              "<div>\n",
              "<style scoped>\n",
              "    .dataframe tbody tr th:only-of-type {\n",
              "        vertical-align: middle;\n",
              "    }\n",
              "\n",
              "    .dataframe tbody tr th {\n",
              "        vertical-align: top;\n",
              "    }\n",
              "\n",
              "    .dataframe thead th {\n",
              "        text-align: right;\n",
              "    }\n",
              "</style>\n",
              "<table border=\"1\" class=\"dataframe\">\n",
              "  <thead>\n",
              "    <tr style=\"text-align: right;\">\n",
              "      <th></th>\n",
              "      <th>country</th>\n",
              "      <th>borrowed</th>\n",
              "      <th>percentage</th>\n",
              "    </tr>\n",
              "  </thead>\n",
              "  <tbody>\n",
              "    <tr>\n",
              "      <th>0</th>\n",
              "      <td>AF</td>\n",
              "      <td>1967950.0</td>\n",
              "      <td>0.17</td>\n",
              "    </tr>\n",
              "    <tr>\n",
              "      <th>1</th>\n",
              "      <td>AL</td>\n",
              "      <td>4307350.0</td>\n",
              "      <td>0.36</td>\n",
              "    </tr>\n",
              "    <tr>\n",
              "      <th>2</th>\n",
              "      <td>AM</td>\n",
              "      <td>22950475.0</td>\n",
              "      <td>1.94</td>\n",
              "    </tr>\n",
              "    <tr>\n",
              "      <th>3</th>\n",
              "      <td>AZ</td>\n",
              "      <td>14784625.0</td>\n",
              "      <td>1.25</td>\n",
              "    </tr>\n",
              "    <tr>\n",
              "      <th>4</th>\n",
              "      <td>BA</td>\n",
              "      <td>477250.0</td>\n",
              "      <td>0.04</td>\n",
              "    </tr>\n",
              "  </tbody>\n",
              "</table>\n",
              "</div>"
            ],
            "text/plain": [
              "  country    borrowed  percentage\n",
              "0      AF   1967950.0        0.17\n",
              "1      AL   4307350.0        0.36\n",
              "2      AM  22950475.0        1.94\n",
              "3      AZ  14784625.0        1.25\n",
              "4      BA    477250.0        0.04"
            ]
          },
          "metadata": {
            "tags": []
          },
          "execution_count": 41
        },
        {
          "output_type": "stream",
          "text": [
            "time: 13.1 ms\n"
          ],
          "name": "stdout"
        }
      ]
    },
    {
      "cell_type": "markdown",
      "metadata": {
        "id": "jlNVlX6mGRVt",
        "colab_type": "text"
      },
      "source": [
        "## Task 7\n",
        "- Like the three previous points, but split for each year (with respect to disburse time)."
      ]
    },
    {
      "cell_type": "markdown",
      "metadata": {
        "id": "PUvQ2XS7_mbn",
        "colab_type": "text"
      },
      "source": [
        "### Check missing values"
      ]
    },
    {
      "cell_type": "code",
      "metadata": {
        "id": "YsQyPqY3RVCn",
        "colab_type": "code",
        "outputId": "de831f3b-c872-4f2e-b14b-948626212488",
        "colab": {
          "base_uri": "https://localhost:8080/",
          "height": 418
        }
      },
      "source": [
        "missing = loan_simplified[loan_simplified['disburse_time'].isnull()]\n",
        "missing"
      ],
      "execution_count": 42,
      "outputs": [
        {
          "output_type": "execute_result",
          "data": {
            "text/html": [
              "<div>\n",
              "<style scoped>\n",
              "    .dataframe tbody tr th:only-of-type {\n",
              "        vertical-align: middle;\n",
              "    }\n",
              "\n",
              "    .dataframe tbody tr th {\n",
              "        vertical-align: top;\n",
              "    }\n",
              "\n",
              "    .dataframe thead th {\n",
              "        text-align: right;\n",
              "    }\n",
              "</style>\n",
              "<table border=\"1\" class=\"dataframe\">\n",
              "  <thead>\n",
              "    <tr style=\"text-align: right;\">\n",
              "      <th></th>\n",
              "      <th>loan_id</th>\n",
              "      <th>country_code</th>\n",
              "      <th>disburse_time</th>\n",
              "      <th>planned_expiration_time</th>\n",
              "      <th>num_lenders_total</th>\n",
              "      <th>funded_amount</th>\n",
              "      <th>loan_amount</th>\n",
              "      <th>currency</th>\n",
              "    </tr>\n",
              "  </thead>\n",
              "  <tbody>\n",
              "    <tr>\n",
              "      <th>31106</th>\n",
              "      <td>1379508</td>\n",
              "      <td>US</td>\n",
              "      <td>NaT</td>\n",
              "      <td>2017-12-06 16:41:36+00:00</td>\n",
              "      <td>2</td>\n",
              "      <td>125.0</td>\n",
              "      <td>1000.0</td>\n",
              "      <td>USD</td>\n",
              "    </tr>\n",
              "    <tr>\n",
              "      <th>31107</th>\n",
              "      <td>1428617</td>\n",
              "      <td>US</td>\n",
              "      <td>NaT</td>\n",
              "      <td>2018-01-25 19:25:55+00:00</td>\n",
              "      <td>0</td>\n",
              "      <td>0.0</td>\n",
              "      <td>10000.0</td>\n",
              "      <td>USD</td>\n",
              "    </tr>\n",
              "    <tr>\n",
              "      <th>31178</th>\n",
              "      <td>1135319</td>\n",
              "      <td>US</td>\n",
              "      <td>NaT</td>\n",
              "      <td>2016-09-02 20:27:46+00:00</td>\n",
              "      <td>2</td>\n",
              "      <td>50.0</td>\n",
              "      <td>500.0</td>\n",
              "      <td>USD</td>\n",
              "    </tr>\n",
              "    <tr>\n",
              "      <th>32151</th>\n",
              "      <td>1279252</td>\n",
              "      <td>US</td>\n",
              "      <td>NaT</td>\n",
              "      <td>2017-05-04 23:31:00+00:00</td>\n",
              "      <td>0</td>\n",
              "      <td>0.0</td>\n",
              "      <td>1000.0</td>\n",
              "      <td>USD</td>\n",
              "    </tr>\n",
              "    <tr>\n",
              "      <th>32152</th>\n",
              "      <td>1433349</td>\n",
              "      <td>US</td>\n",
              "      <td>NaT</td>\n",
              "      <td>2018-01-04 18:49:43+00:00</td>\n",
              "      <td>0</td>\n",
              "      <td>0.0</td>\n",
              "      <td>8000.0</td>\n",
              "      <td>USD</td>\n",
              "    </tr>\n",
              "    <tr>\n",
              "      <th>...</th>\n",
              "      <td>...</td>\n",
              "      <td>...</td>\n",
              "      <td>...</td>\n",
              "      <td>...</td>\n",
              "      <td>...</td>\n",
              "      <td>...</td>\n",
              "      <td>...</td>\n",
              "      <td>...</td>\n",
              "    </tr>\n",
              "    <tr>\n",
              "      <th>1419522</th>\n",
              "      <td>1082442</td>\n",
              "      <td>US</td>\n",
              "      <td>NaT</td>\n",
              "      <td>2014-10-14 16:05:01+00:00</td>\n",
              "      <td>37</td>\n",
              "      <td>510.0</td>\n",
              "      <td>3000.0</td>\n",
              "      <td>USD</td>\n",
              "    </tr>\n",
              "    <tr>\n",
              "      <th>1419524</th>\n",
              "      <td>1227124</td>\n",
              "      <td>US</td>\n",
              "      <td>NaT</td>\n",
              "      <td>2017-02-09 23:07:54+00:00</td>\n",
              "      <td>9</td>\n",
              "      <td>800.0</td>\n",
              "      <td>10000.0</td>\n",
              "      <td>USD</td>\n",
              "    </tr>\n",
              "    <tr>\n",
              "      <th>1419525</th>\n",
              "      <td>1089430</td>\n",
              "      <td>KE</td>\n",
              "      <td>NaT</td>\n",
              "      <td>2015-09-21 08:06:19+00:00</td>\n",
              "      <td>3</td>\n",
              "      <td>125.0</td>\n",
              "      <td>225.0</td>\n",
              "      <td>KES</td>\n",
              "    </tr>\n",
              "    <tr>\n",
              "      <th>1419538</th>\n",
              "      <td>1235452</td>\n",
              "      <td>US</td>\n",
              "      <td>NaT</td>\n",
              "      <td>2017-02-25 20:21:21+00:00</td>\n",
              "      <td>3</td>\n",
              "      <td>600.0</td>\n",
              "      <td>3000.0</td>\n",
              "      <td>USD</td>\n",
              "    </tr>\n",
              "    <tr>\n",
              "      <th>1419564</th>\n",
              "      <td>1151269</td>\n",
              "      <td>US</td>\n",
              "      <td>NaT</td>\n",
              "      <td>2016-09-30 18:49:53+00:00</td>\n",
              "      <td>2</td>\n",
              "      <td>50.0</td>\n",
              "      <td>8750.0</td>\n",
              "      <td>USD</td>\n",
              "    </tr>\n",
              "  </tbody>\n",
              "</table>\n",
              "<p>2813 rows × 8 columns</p>\n",
              "</div>"
            ],
            "text/plain": [
              "         loan_id country_code  ... loan_amount currency\n",
              "31106    1379508           US  ...      1000.0      USD\n",
              "31107    1428617           US  ...     10000.0      USD\n",
              "31178    1135319           US  ...       500.0      USD\n",
              "32151    1279252           US  ...      1000.0      USD\n",
              "32152    1433349           US  ...      8000.0      USD\n",
              "...          ...          ...  ...         ...      ...\n",
              "1419522  1082442           US  ...      3000.0      USD\n",
              "1419524  1227124           US  ...     10000.0      USD\n",
              "1419525  1089430           KE  ...       225.0      KES\n",
              "1419538  1235452           US  ...      3000.0      USD\n",
              "1419564  1151269           US  ...      8750.0      USD\n",
              "\n",
              "[2813 rows x 8 columns]"
            ]
          },
          "metadata": {
            "tags": []
          },
          "execution_count": 42
        },
        {
          "output_type": "stream",
          "text": [
            "time: 34.3 ms\n"
          ],
          "name": "stdout"
        }
      ]
    },
    {
      "cell_type": "markdown",
      "metadata": {
        "id": "q9nUtxBoFrJO",
        "colab_type": "text"
      },
      "source": [
        "### Get year from _disburse_time_ for each loan"
      ]
    },
    {
      "cell_type": "code",
      "metadata": {
        "id": "UamDI5T1YtWv",
        "colab_type": "code",
        "outputId": "56d5c84a-c813-4e8b-d33e-8ed9ba686a7d",
        "colab": {
          "base_uri": "https://localhost:8080/",
          "height": 34
        }
      },
      "source": [
        "loan_simplified=loan_simplified.copy()\n",
        "loan_simplified['year_disburse'] = loan_simplified.apply(lambda x: x['disburse_time'].year,axis=1)"
      ],
      "execution_count": 43,
      "outputs": [
        {
          "output_type": "stream",
          "text": [
            "time: 2min 25s\n"
          ],
          "name": "stdout"
        }
      ]
    },
    {
      "cell_type": "code",
      "metadata": {
        "id": "Uxiw_dYcrARH",
        "colab_type": "code",
        "outputId": "f0008c5c-0e5f-49fc-9ff4-92faefda303b",
        "colab": {
          "base_uri": "https://localhost:8080/",
          "height": 34
        }
      },
      "source": [
        "year_nan = pd.isnull(loan_simplified['year_disburse'])\n",
        "year_nan_index = year_nan[year_nan==True].index\n",
        "\n",
        "loan_year = loan_simplified.drop(index=year_nan_index) #non considero tuple che hanno missing values in 'disburse_time'"
      ],
      "execution_count": 44,
      "outputs": [
        {
          "output_type": "stream",
          "text": [
            "time: 136 ms\n"
          ],
          "name": "stdout"
        }
      ]
    },
    {
      "cell_type": "code",
      "metadata": {
        "id": "2fJC515Gr2GB",
        "colab_type": "code",
        "outputId": "431ed073-18a3-4435-f4da-7f63ef9a5780",
        "colab": {
          "base_uri": "https://localhost:8080/",
          "height": 34
        }
      },
      "source": [
        "loan_year = loan_year.copy()\n",
        "loan_year['year_disburse']=loan_year['year_disburse'].astype(int)"
      ],
      "execution_count": 45,
      "outputs": [
        {
          "output_type": "stream",
          "text": [
            "time: 59 ms\n"
          ],
          "name": "stdout"
        }
      ]
    },
    {
      "cell_type": "markdown",
      "metadata": {
        "id": "JXecS81Ds0bX",
        "colab_type": "text"
      },
      "source": [
        "### Point 4 (how many loans)"
      ]
    },
    {
      "cell_type": "code",
      "metadata": {
        "id": "QXg7Qgtywfuj",
        "colab_type": "code",
        "outputId": "8992181c-b23c-4b1e-974a-ddb160085904",
        "colab": {
          "base_uri": "https://localhost:8080/",
          "height": 34
        }
      },
      "source": [
        "loan_state_year = loan_year.groupby(['country_code','year_disburse'])['loan_id'].count()\n",
        "loan_state_year = pd.DataFrame(loan_state_year)"
      ],
      "execution_count": 46,
      "outputs": [
        {
          "output_type": "stream",
          "text": [
            "time: 136 ms\n"
          ],
          "name": "stdout"
        }
      ]
    },
    {
      "cell_type": "code",
      "metadata": {
        "id": "2EO635vzB14z",
        "colab_type": "code",
        "outputId": "6721e840-63c5-4a6a-b4e3-0ff26ca5aa49",
        "colab": {
          "base_uri": "https://localhost:8080/",
          "height": 34
        }
      },
      "source": [
        "loan_state_year.rename(columns={'loan_id':'count'},inplace=True)"
      ],
      "execution_count": 47,
      "outputs": [
        {
          "output_type": "stream",
          "text": [
            "time: 2.45 ms\n"
          ],
          "name": "stdout"
        }
      ]
    },
    {
      "cell_type": "markdown",
      "metadata": {
        "id": "bz5NO8LZxGsY",
        "colab_type": "text"
      },
      "source": [
        "#### _Result_"
      ]
    },
    {
      "cell_type": "code",
      "metadata": {
        "id": "erKL3O0zsz6-",
        "colab_type": "code",
        "outputId": "48a68866-02eb-41c7-9534-d0e4e8488763",
        "colab": {
          "base_uri": "https://localhost:8080/",
          "height": 242
        }
      },
      "source": [
        "loan_state_year.head()"
      ],
      "execution_count": 48,
      "outputs": [
        {
          "output_type": "execute_result",
          "data": {
            "text/html": [
              "<div>\n",
              "<style scoped>\n",
              "    .dataframe tbody tr th:only-of-type {\n",
              "        vertical-align: middle;\n",
              "    }\n",
              "\n",
              "    .dataframe tbody tr th {\n",
              "        vertical-align: top;\n",
              "    }\n",
              "\n",
              "    .dataframe thead th {\n",
              "        text-align: right;\n",
              "    }\n",
              "</style>\n",
              "<table border=\"1\" class=\"dataframe\">\n",
              "  <thead>\n",
              "    <tr style=\"text-align: right;\">\n",
              "      <th></th>\n",
              "      <th></th>\n",
              "      <th>count</th>\n",
              "    </tr>\n",
              "    <tr>\n",
              "      <th>country_code</th>\n",
              "      <th>year_disburse</th>\n",
              "      <th></th>\n",
              "    </tr>\n",
              "  </thead>\n",
              "  <tbody>\n",
              "    <tr>\n",
              "      <th rowspan=\"5\" valign=\"top\">AF</th>\n",
              "      <th>2007</th>\n",
              "      <td>408</td>\n",
              "    </tr>\n",
              "    <tr>\n",
              "      <th>2008</th>\n",
              "      <td>370</td>\n",
              "    </tr>\n",
              "    <tr>\n",
              "      <th>2009</th>\n",
              "      <td>678</td>\n",
              "    </tr>\n",
              "    <tr>\n",
              "      <th>2010</th>\n",
              "      <td>632</td>\n",
              "    </tr>\n",
              "    <tr>\n",
              "      <th>2011</th>\n",
              "      <td>247</td>\n",
              "    </tr>\n",
              "  </tbody>\n",
              "</table>\n",
              "</div>"
            ],
            "text/plain": [
              "                            count\n",
              "country_code year_disburse       \n",
              "AF           2007             408\n",
              "             2008             370\n",
              "             2009             678\n",
              "             2010             632\n",
              "             2011             247"
            ]
          },
          "metadata": {
            "tags": []
          },
          "execution_count": 48
        },
        {
          "output_type": "stream",
          "text": [
            "time: 10.4 ms\n"
          ],
          "name": "stdout"
        }
      ]
    },
    {
      "cell_type": "markdown",
      "metadata": {
        "id": "fAY5ZBvrtcUy",
        "colab_type": "text"
      },
      "source": [
        "### Point 5 (amount money borrowed)"
      ]
    },
    {
      "cell_type": "code",
      "metadata": {
        "id": "d47zSuN9stSB",
        "colab_type": "code",
        "outputId": "d102b1a4-3382-4291-d0e6-4444e9619063",
        "colab": {
          "base_uri": "https://localhost:8080/",
          "height": 34
        }
      },
      "source": [
        "amount_state_year = loan_year.groupby(['country_code','year_disburse'])['loan_amount'].sum()\n",
        "amount_state_year = pd.DataFrame(amount_state_year)"
      ],
      "execution_count": 49,
      "outputs": [
        {
          "output_type": "stream",
          "text": [
            "time: 109 ms\n"
          ],
          "name": "stdout"
        }
      ]
    },
    {
      "cell_type": "markdown",
      "metadata": {
        "id": "C3kspnU9yaCx",
        "colab_type": "text"
      },
      "source": [
        "#### _Result_"
      ]
    },
    {
      "cell_type": "code",
      "metadata": {
        "id": "kztJwJeJ1fNP",
        "colab_type": "code",
        "outputId": "f3e9651d-8b41-4a93-9698-9c41040caeb7",
        "colab": {
          "base_uri": "https://localhost:8080/",
          "height": 34
        }
      },
      "source": [
        "len(amount_state_year)"
      ],
      "execution_count": 50,
      "outputs": [
        {
          "output_type": "execute_result",
          "data": {
            "text/plain": [
              "748"
            ]
          },
          "metadata": {
            "tags": []
          },
          "execution_count": 50
        },
        {
          "output_type": "stream",
          "text": [
            "time: 2.81 ms\n"
          ],
          "name": "stdout"
        }
      ]
    },
    {
      "cell_type": "code",
      "metadata": {
        "id": "KdRzR8QByZDS",
        "colab_type": "code",
        "outputId": "e877b938-1af1-4e11-db10-c467c651ffe3",
        "colab": {
          "base_uri": "https://localhost:8080/",
          "height": 242
        }
      },
      "source": [
        "amount_state_year.head()"
      ],
      "execution_count": 51,
      "outputs": [
        {
          "output_type": "execute_result",
          "data": {
            "text/html": [
              "<div>\n",
              "<style scoped>\n",
              "    .dataframe tbody tr th:only-of-type {\n",
              "        vertical-align: middle;\n",
              "    }\n",
              "\n",
              "    .dataframe tbody tr th {\n",
              "        vertical-align: top;\n",
              "    }\n",
              "\n",
              "    .dataframe thead th {\n",
              "        text-align: right;\n",
              "    }\n",
              "</style>\n",
              "<table border=\"1\" class=\"dataframe\">\n",
              "  <thead>\n",
              "    <tr style=\"text-align: right;\">\n",
              "      <th></th>\n",
              "      <th></th>\n",
              "      <th>loan_amount</th>\n",
              "    </tr>\n",
              "    <tr>\n",
              "      <th>country_code</th>\n",
              "      <th>year_disburse</th>\n",
              "      <th></th>\n",
              "    </tr>\n",
              "  </thead>\n",
              "  <tbody>\n",
              "    <tr>\n",
              "      <th rowspan=\"5\" valign=\"top\">AF</th>\n",
              "      <th>2007</th>\n",
              "      <td>194975.0</td>\n",
              "    </tr>\n",
              "    <tr>\n",
              "      <th>2008</th>\n",
              "      <td>365375.0</td>\n",
              "    </tr>\n",
              "    <tr>\n",
              "      <th>2009</th>\n",
              "      <td>585125.0</td>\n",
              "    </tr>\n",
              "    <tr>\n",
              "      <th>2010</th>\n",
              "      <td>563350.0</td>\n",
              "    </tr>\n",
              "    <tr>\n",
              "      <th>2011</th>\n",
              "      <td>245125.0</td>\n",
              "    </tr>\n",
              "  </tbody>\n",
              "</table>\n",
              "</div>"
            ],
            "text/plain": [
              "                            loan_amount\n",
              "country_code year_disburse             \n",
              "AF           2007              194975.0\n",
              "             2008              365375.0\n",
              "             2009              585125.0\n",
              "             2010              563350.0\n",
              "             2011              245125.0"
            ]
          },
          "metadata": {
            "tags": []
          },
          "execution_count": 51
        },
        {
          "output_type": "stream",
          "text": [
            "time: 11 ms\n"
          ],
          "name": "stdout"
        }
      ]
    },
    {
      "cell_type": "markdown",
      "metadata": {
        "id": "URit4OzOzHXJ",
        "colab_type": "text"
      },
      "source": [
        "### Point 6 (amount money percentage)"
      ]
    },
    {
      "cell_type": "code",
      "metadata": {
        "id": "vKUrI0dQ2bPy",
        "colab_type": "code",
        "outputId": "afbfe913-1307-4c2e-d289-6cdf7abd75bd",
        "colab": {
          "base_uri": "https://localhost:8080/",
          "height": 34
        }
      },
      "source": [
        "amount_state_year.reset_index(level=[0],inplace=True) #conversione multiindex in indice singolo"
      ],
      "execution_count": 52,
      "outputs": [
        {
          "output_type": "stream",
          "text": [
            "time: 2.82 ms\n"
          ],
          "name": "stdout"
        }
      ]
    },
    {
      "cell_type": "code",
      "metadata": {
        "id": "15J5esvxzGH3",
        "colab_type": "code",
        "outputId": "f2187a47-28c8-4bae-84eb-35750f22df78",
        "colab": {
          "base_uri": "https://localhost:8080/",
          "height": 34
        }
      },
      "source": [
        "total_year = loan_year.groupby('year_disburse')['loan_amount'].sum() #per ogni anno denaro totale prestiti\n",
        "total_year = pd.DataFrame(total_year)"
      ],
      "execution_count": 53,
      "outputs": [
        {
          "output_type": "stream",
          "text": [
            "time: 26 ms\n"
          ],
          "name": "stdout"
        }
      ]
    },
    {
      "cell_type": "code",
      "metadata": {
        "id": "oVmK4XOO0JOf",
        "colab_type": "code",
        "outputId": "88cf3ec8-0b68-4da1-a9f6-3c5f916e95b8",
        "colab": {
          "base_uri": "https://localhost:8080/",
          "height": 34
        }
      },
      "source": [
        "amount_state_year_perc = pd.merge(amount_state_year,total_year,on='year_disburse',how='inner')\n",
        "amount_state_year_perc.rename(columns={'loan_amount_x': 'loan_amount',\n",
        "                    'loan_amount_y': 'total'}, inplace=True)"
      ],
      "execution_count": 54,
      "outputs": [
        {
          "output_type": "stream",
          "text": [
            "time: 9.31 ms\n"
          ],
          "name": "stdout"
        }
      ]
    },
    {
      "cell_type": "code",
      "metadata": {
        "id": "xu0mV0nN3oV0",
        "colab_type": "code",
        "outputId": "66a97ed9-a3ba-452d-f881-37b15940491c",
        "colab": {
          "base_uri": "https://localhost:8080/",
          "height": 34
        }
      },
      "source": [
        "amount_state_year_perc.reset_index(inplace=True)\n",
        "amount_state_year_perc.sort_values(by=['country_code','year_disburse'],ascending=True,inplace=True)"
      ],
      "execution_count": 55,
      "outputs": [
        {
          "output_type": "stream",
          "text": [
            "time: 5.83 ms\n"
          ],
          "name": "stdout"
        }
      ]
    },
    {
      "cell_type": "code",
      "metadata": {
        "id": "F5LPIhUv5jea",
        "colab_type": "code",
        "outputId": "c693eb28-6b1e-4f3d-a2eb-7e90505a20f3",
        "colab": {
          "base_uri": "https://localhost:8080/",
          "height": 34
        }
      },
      "source": [
        "amount_state_year_perc.set_index(['country_code','year_disburse'],inplace=True) #creazione multiindex\n",
        "amount_state_year_perc['percentage'] = round(amount_state_year_perc['loan_amount'] / amount_state_year_perc['total']*100,3)"
      ],
      "execution_count": 56,
      "outputs": [
        {
          "output_type": "stream",
          "text": [
            "time: 7.08 ms\n"
          ],
          "name": "stdout"
        }
      ]
    },
    {
      "cell_type": "code",
      "metadata": {
        "id": "cWxArVDw6DyA",
        "colab_type": "code",
        "outputId": "d6aa5d08-9eca-43e0-f02c-b16b908dfcc3",
        "colab": {
          "base_uri": "https://localhost:8080/",
          "height": 34
        }
      },
      "source": [
        "amount_state_year_perc.drop(columns='total',inplace=True)\n",
        "amount_state_year_perc.rename(columns={'loan_amount':'borrowed'},inplace=True)"
      ],
      "execution_count": 57,
      "outputs": [
        {
          "output_type": "stream",
          "text": [
            "time: 3.82 ms\n"
          ],
          "name": "stdout"
        }
      ]
    },
    {
      "cell_type": "markdown",
      "metadata": {
        "id": "1E1eXCWnBEmh",
        "colab_type": "text"
      },
      "source": [
        "#### _Result_"
      ]
    },
    {
      "cell_type": "code",
      "metadata": {
        "id": "-hb5rNmZBD1H",
        "colab_type": "code",
        "outputId": "3bb7d816-7837-42ce-af8b-bf88d2414302",
        "colab": {
          "base_uri": "https://localhost:8080/",
          "height": 242
        }
      },
      "source": [
        "amount_state_year_perc.head()"
      ],
      "execution_count": 58,
      "outputs": [
        {
          "output_type": "execute_result",
          "data": {
            "text/html": [
              "<div>\n",
              "<style scoped>\n",
              "    .dataframe tbody tr th:only-of-type {\n",
              "        vertical-align: middle;\n",
              "    }\n",
              "\n",
              "    .dataframe tbody tr th {\n",
              "        vertical-align: top;\n",
              "    }\n",
              "\n",
              "    .dataframe thead th {\n",
              "        text-align: right;\n",
              "    }\n",
              "</style>\n",
              "<table border=\"1\" class=\"dataframe\">\n",
              "  <thead>\n",
              "    <tr style=\"text-align: right;\">\n",
              "      <th></th>\n",
              "      <th></th>\n",
              "      <th>borrowed</th>\n",
              "      <th>percentage</th>\n",
              "    </tr>\n",
              "    <tr>\n",
              "      <th>country_code</th>\n",
              "      <th>year_disburse</th>\n",
              "      <th></th>\n",
              "      <th></th>\n",
              "    </tr>\n",
              "  </thead>\n",
              "  <tbody>\n",
              "    <tr>\n",
              "      <th rowspan=\"5\" valign=\"top\">AF</th>\n",
              "      <th>2007</th>\n",
              "      <td>194975.0</td>\n",
              "      <td>1.262</td>\n",
              "    </tr>\n",
              "    <tr>\n",
              "      <th>2008</th>\n",
              "      <td>365375.0</td>\n",
              "      <td>0.927</td>\n",
              "    </tr>\n",
              "    <tr>\n",
              "      <th>2009</th>\n",
              "      <td>585125.0</td>\n",
              "      <td>0.980</td>\n",
              "    </tr>\n",
              "    <tr>\n",
              "      <th>2010</th>\n",
              "      <td>563350.0</td>\n",
              "      <td>0.776</td>\n",
              "    </tr>\n",
              "    <tr>\n",
              "      <th>2011</th>\n",
              "      <td>245125.0</td>\n",
              "      <td>0.262</td>\n",
              "    </tr>\n",
              "  </tbody>\n",
              "</table>\n",
              "</div>"
            ],
            "text/plain": [
              "                            borrowed  percentage\n",
              "country_code year_disburse                      \n",
              "AF           2007           194975.0       1.262\n",
              "             2008           365375.0       0.927\n",
              "             2009           585125.0       0.980\n",
              "             2010           563350.0       0.776\n",
              "             2011           245125.0       0.262"
            ]
          },
          "metadata": {
            "tags": []
          },
          "execution_count": 58
        },
        {
          "output_type": "stream",
          "text": [
            "time: 12.8 ms\n"
          ],
          "name": "stdout"
        }
      ]
    },
    {
      "cell_type": "markdown",
      "metadata": {
        "id": "9cWj5GvvDNak",
        "colab_type": "text"
      },
      "source": [
        "## Task 8\n",
        "- For each lender, compute the overall amount of money lent. For each loan that has more than one lender, you must assume that all lenders contributed the same amount."
      ]
    },
    {
      "cell_type": "code",
      "metadata": {
        "id": "XUJlYtiAEje7",
        "colab_type": "code",
        "outputId": "3a5e7545-44f0-42d8-e821-dd8cdadc240c",
        "colab": {
          "base_uri": "https://localhost:8080/",
          "height": 34
        }
      },
      "source": [
        "number_loans_lender_norm=loans_lender_norm.groupby('loan_id')['lenders'].count()\n",
        "number_loans_lender_norm=pd.DataFrame(number_loans_lender_norm).reset_index(level=0) #per ogni loan numero lenders"
      ],
      "execution_count": 59,
      "outputs": [
        {
          "output_type": "stream",
          "text": [
            "time: 2.28 s\n"
          ],
          "name": "stdout"
        }
      ]
    },
    {
      "cell_type": "code",
      "metadata": {
        "id": "zn6njOTxubhi",
        "colab_type": "code",
        "outputId": "3b5a41e6-af16-4b6d-a439-5d3027366bbd",
        "colab": {
          "base_uri": "https://localhost:8080/",
          "height": 212
        }
      },
      "source": [
        "number_loans_lender_norm.head()"
      ],
      "execution_count": 60,
      "outputs": [
        {
          "output_type": "execute_result",
          "data": {
            "text/html": [
              "<div>\n",
              "<style scoped>\n",
              "    .dataframe tbody tr th:only-of-type {\n",
              "        vertical-align: middle;\n",
              "    }\n",
              "\n",
              "    .dataframe tbody tr th {\n",
              "        vertical-align: top;\n",
              "    }\n",
              "\n",
              "    .dataframe thead th {\n",
              "        text-align: right;\n",
              "    }\n",
              "</style>\n",
              "<table border=\"1\" class=\"dataframe\">\n",
              "  <thead>\n",
              "    <tr style=\"text-align: right;\">\n",
              "      <th></th>\n",
              "      <th>loan_id</th>\n",
              "      <th>lenders</th>\n",
              "    </tr>\n",
              "  </thead>\n",
              "  <tbody>\n",
              "    <tr>\n",
              "      <th>0</th>\n",
              "      <td>84</td>\n",
              "      <td>3</td>\n",
              "    </tr>\n",
              "    <tr>\n",
              "      <th>1</th>\n",
              "      <td>85</td>\n",
              "      <td>2</td>\n",
              "    </tr>\n",
              "    <tr>\n",
              "      <th>2</th>\n",
              "      <td>86</td>\n",
              "      <td>3</td>\n",
              "    </tr>\n",
              "    <tr>\n",
              "      <th>3</th>\n",
              "      <td>88</td>\n",
              "      <td>3</td>\n",
              "    </tr>\n",
              "    <tr>\n",
              "      <th>4</th>\n",
              "      <td>89</td>\n",
              "      <td>4</td>\n",
              "    </tr>\n",
              "  </tbody>\n",
              "</table>\n",
              "</div>"
            ],
            "text/plain": [
              "   loan_id  lenders\n",
              "0       84        3\n",
              "1       85        2\n",
              "2       86        3\n",
              "3       88        3\n",
              "4       89        4"
            ]
          },
          "metadata": {
            "tags": []
          },
          "execution_count": 60
        },
        {
          "output_type": "stream",
          "text": [
            "time: 8.83 ms\n"
          ],
          "name": "stdout"
        }
      ]
    },
    {
      "cell_type": "markdown",
      "metadata": {
        "id": "_p7KiNmgww0i",
        "colab_type": "text"
      },
      "source": [
        "### Get number lenders for each loan"
      ]
    },
    {
      "cell_type": "code",
      "metadata": {
        "id": "M_-CUKmLFg5S",
        "colab_type": "code",
        "outputId": "23f33445-b770-4fa1-dcc7-df8cfc21812d",
        "colab": {
          "base_uri": "https://localhost:8080/",
          "height": 34
        }
      },
      "source": [
        "loans_lender_amount = pd.merge(loan_simplified,number_loans_lender_norm,how=\"inner\",on=\"loan_id\")\n",
        "loans_lender_amount= loans_lender_amount[['loan_id','num_lenders_total','lenders','loan_amount']]"
      ],
      "execution_count": 61,
      "outputs": [
        {
          "output_type": "stream",
          "text": [
            "time: 665 ms\n"
          ],
          "name": "stdout"
        }
      ]
    },
    {
      "cell_type": "code",
      "metadata": {
        "id": "C0H9eMJUIl_a",
        "colab_type": "code",
        "outputId": "f204fec6-2424-4270-e118-2d1853a8c688",
        "colab": {
          "base_uri": "https://localhost:8080/",
          "height": 34
        }
      },
      "source": [
        "correct = loans_lender_amount[loans_lender_amount['num_lenders_total']==loans_lender_amount['lenders']]\n",
        "wrong = loans_lender_amount[loans_lender_amount['num_lenders_total']!=loans_lender_amount['lenders']]"
      ],
      "execution_count": 62,
      "outputs": [
        {
          "output_type": "stream",
          "text": [
            "time: 56.9 ms\n"
          ],
          "name": "stdout"
        }
      ]
    },
    {
      "cell_type": "code",
      "metadata": {
        "id": "kjjsczFRJJeg",
        "colab_type": "code",
        "outputId": "5acbadfd-b77b-4f52-cf26-8401ae9b703c",
        "colab": {
          "base_uri": "https://localhost:8080/",
          "height": 67
        }
      },
      "source": [
        "print(\"Correct info: \"+str(len(correct)/len(loans_lender_amount)))\n",
        "print(\"Errors: \"+str(len(wrong)/len(loans_lender_amount)))"
      ],
      "execution_count": 63,
      "outputs": [
        {
          "output_type": "stream",
          "text": [
            "Correct info: 0.1917209397532701\n",
            "Errors: 0.8082790602467299\n",
            "time: 1.49 ms\n"
          ],
          "name": "stdout"
        }
      ]
    },
    {
      "cell_type": "markdown",
      "metadata": {
        "id": "v5EoCcw2xRnm",
        "colab_type": "text"
      },
      "source": [
        "### Fixed count lenders for each loan"
      ]
    },
    {
      "cell_type": "code",
      "metadata": {
        "id": "-zkLgG65yEEB",
        "colab_type": "code",
        "outputId": "a2e0a164-7043-4090-e537-ebf505d1ef96",
        "colab": {
          "base_uri": "https://localhost:8080/",
          "height": 34
        }
      },
      "source": [
        "loans_lender_amount.drop(columns='num_lenders_total',inplace=True)"
      ],
      "execution_count": 64,
      "outputs": [
        {
          "output_type": "stream",
          "text": [
            "time: 13.7 ms\n"
          ],
          "name": "stdout"
        }
      ]
    },
    {
      "cell_type": "code",
      "metadata": {
        "id": "f0b3RtIaxwUU",
        "colab_type": "code",
        "outputId": "d268c354-6d4c-4e8c-f3e3-a1d18a65d81c",
        "colab": {
          "base_uri": "https://localhost:8080/",
          "height": 212
        }
      },
      "source": [
        "loans_lender_amount.head()"
      ],
      "execution_count": 65,
      "outputs": [
        {
          "output_type": "execute_result",
          "data": {
            "text/html": [
              "<div>\n",
              "<style scoped>\n",
              "    .dataframe tbody tr th:only-of-type {\n",
              "        vertical-align: middle;\n",
              "    }\n",
              "\n",
              "    .dataframe tbody tr th {\n",
              "        vertical-align: top;\n",
              "    }\n",
              "\n",
              "    .dataframe thead th {\n",
              "        text-align: right;\n",
              "    }\n",
              "</style>\n",
              "<table border=\"1\" class=\"dataframe\">\n",
              "  <thead>\n",
              "    <tr style=\"text-align: right;\">\n",
              "      <th></th>\n",
              "      <th>loan_id</th>\n",
              "      <th>lenders</th>\n",
              "      <th>loan_amount</th>\n",
              "    </tr>\n",
              "  </thead>\n",
              "  <tbody>\n",
              "    <tr>\n",
              "      <th>0</th>\n",
              "      <td>657307</td>\n",
              "      <td>3</td>\n",
              "      <td>125.0</td>\n",
              "    </tr>\n",
              "    <tr>\n",
              "      <th>1</th>\n",
              "      <td>657259</td>\n",
              "      <td>7</td>\n",
              "      <td>400.0</td>\n",
              "    </tr>\n",
              "    <tr>\n",
              "      <th>2</th>\n",
              "      <td>658010</td>\n",
              "      <td>14</td>\n",
              "      <td>400.0</td>\n",
              "    </tr>\n",
              "    <tr>\n",
              "      <th>3</th>\n",
              "      <td>659347</td>\n",
              "      <td>17</td>\n",
              "      <td>625.0</td>\n",
              "    </tr>\n",
              "    <tr>\n",
              "      <th>4</th>\n",
              "      <td>656933</td>\n",
              "      <td>14</td>\n",
              "      <td>425.0</td>\n",
              "    </tr>\n",
              "  </tbody>\n",
              "</table>\n",
              "</div>"
            ],
            "text/plain": [
              "   loan_id  lenders  loan_amount\n",
              "0   657307        3        125.0\n",
              "1   657259        7        400.0\n",
              "2   658010       14        400.0\n",
              "3   659347       17        625.0\n",
              "4   656933       14        425.0"
            ]
          },
          "metadata": {
            "tags": []
          },
          "execution_count": 65
        },
        {
          "output_type": "stream",
          "text": [
            "time: 10.4 ms\n"
          ],
          "name": "stdout"
        }
      ]
    },
    {
      "cell_type": "markdown",
      "metadata": {
        "id": "1Ohl6yFx1pNh",
        "colab_type": "text"
      },
      "source": [
        "### Compute contribution lenders for each loan"
      ]
    },
    {
      "cell_type": "code",
      "metadata": {
        "id": "fr5Vhem6OsGc",
        "colab_type": "code",
        "outputId": "916388b7-e2eb-46bb-b964-f92263048f46",
        "colab": {
          "base_uri": "https://localhost:8080/",
          "height": 34
        }
      },
      "source": [
        "loans_lender_amount['amount']=round(loans_lender_amount['loan_amount']/loans_lender_amount['lenders'],2)"
      ],
      "execution_count": 66,
      "outputs": [
        {
          "output_type": "stream",
          "text": [
            "time: 18.2 ms\n"
          ],
          "name": "stdout"
        }
      ]
    },
    {
      "cell_type": "code",
      "metadata": {
        "id": "zlAyAEOvbp0J",
        "colab_type": "code",
        "outputId": "ef24cb4b-ddb9-4aae-cc9a-ff34be98cfd6",
        "colab": {
          "base_uri": "https://localhost:8080/",
          "height": 212
        }
      },
      "source": [
        "loans_lender_amount.head()"
      ],
      "execution_count": 67,
      "outputs": [
        {
          "output_type": "execute_result",
          "data": {
            "text/html": [
              "<div>\n",
              "<style scoped>\n",
              "    .dataframe tbody tr th:only-of-type {\n",
              "        vertical-align: middle;\n",
              "    }\n",
              "\n",
              "    .dataframe tbody tr th {\n",
              "        vertical-align: top;\n",
              "    }\n",
              "\n",
              "    .dataframe thead th {\n",
              "        text-align: right;\n",
              "    }\n",
              "</style>\n",
              "<table border=\"1\" class=\"dataframe\">\n",
              "  <thead>\n",
              "    <tr style=\"text-align: right;\">\n",
              "      <th></th>\n",
              "      <th>loan_id</th>\n",
              "      <th>lenders</th>\n",
              "      <th>loan_amount</th>\n",
              "      <th>amount</th>\n",
              "    </tr>\n",
              "  </thead>\n",
              "  <tbody>\n",
              "    <tr>\n",
              "      <th>0</th>\n",
              "      <td>657307</td>\n",
              "      <td>3</td>\n",
              "      <td>125.0</td>\n",
              "      <td>41.67</td>\n",
              "    </tr>\n",
              "    <tr>\n",
              "      <th>1</th>\n",
              "      <td>657259</td>\n",
              "      <td>7</td>\n",
              "      <td>400.0</td>\n",
              "      <td>57.14</td>\n",
              "    </tr>\n",
              "    <tr>\n",
              "      <th>2</th>\n",
              "      <td>658010</td>\n",
              "      <td>14</td>\n",
              "      <td>400.0</td>\n",
              "      <td>28.57</td>\n",
              "    </tr>\n",
              "    <tr>\n",
              "      <th>3</th>\n",
              "      <td>659347</td>\n",
              "      <td>17</td>\n",
              "      <td>625.0</td>\n",
              "      <td>36.76</td>\n",
              "    </tr>\n",
              "    <tr>\n",
              "      <th>4</th>\n",
              "      <td>656933</td>\n",
              "      <td>14</td>\n",
              "      <td>425.0</td>\n",
              "      <td>30.36</td>\n",
              "    </tr>\n",
              "  </tbody>\n",
              "</table>\n",
              "</div>"
            ],
            "text/plain": [
              "   loan_id  lenders  loan_amount  amount\n",
              "0   657307        3        125.0   41.67\n",
              "1   657259        7        400.0   57.14\n",
              "2   658010       14        400.0   28.57\n",
              "3   659347       17        625.0   36.76\n",
              "4   656933       14        425.0   30.36"
            ]
          },
          "metadata": {
            "tags": []
          },
          "execution_count": 67
        },
        {
          "output_type": "stream",
          "text": [
            "time: 14 ms\n"
          ],
          "name": "stdout"
        }
      ]
    },
    {
      "cell_type": "code",
      "metadata": {
        "id": "IPPOA09QczNE",
        "colab_type": "code",
        "outputId": "8b4534f9-f064-4bf7-89e8-99ce9a13b702",
        "colab": {
          "base_uri": "https://localhost:8080/",
          "height": 34
        }
      },
      "source": [
        "amount_loan_lender = pd.merge(loans_lender_norm,loans_lender_amount,how=\"inner\",on='loan_id')\n",
        "amount_loan_lender.drop(columns=['loan_amount','lenders_y'],inplace=True)\n",
        "amount_loan_lender.rename(columns={'lenders_x':'lenders'},inplace=True)"
      ],
      "execution_count": 68,
      "outputs": [
        {
          "output_type": "stream",
          "text": [
            "time: 4.91 s\n"
          ],
          "name": "stdout"
        }
      ]
    },
    {
      "cell_type": "code",
      "metadata": {
        "id": "jdNHodV2e20L",
        "colab_type": "code",
        "outputId": "39b356dc-63b9-4274-fe0f-fb018c8e0e56",
        "colab": {
          "base_uri": "https://localhost:8080/",
          "height": 34
        }
      },
      "source": [
        "amount_lender = amount_loan_lender.groupby('lenders')['amount'].sum()\n",
        "amount_lender = pd.DataFrame(amount_lender).reset_index(level=0)"
      ],
      "execution_count": 69,
      "outputs": [
        {
          "output_type": "stream",
          "text": [
            "time: 12.5 s\n"
          ],
          "name": "stdout"
        }
      ]
    },
    {
      "cell_type": "markdown",
      "metadata": {
        "id": "3TyiPuDJ4fSb",
        "colab_type": "text"
      },
      "source": [
        "### _Result_"
      ]
    },
    {
      "cell_type": "code",
      "metadata": {
        "id": "Vc0k4AgZgs7e",
        "colab_type": "code",
        "outputId": "7ca48cd0-4c42-4fe8-f850-f2e445b1d49f",
        "colab": {
          "base_uri": "https://localhost:8080/",
          "height": 212
        }
      },
      "source": [
        "amount_lender.head()"
      ],
      "execution_count": 70,
      "outputs": [
        {
          "output_type": "execute_result",
          "data": {
            "text/html": [
              "<div>\n",
              "<style scoped>\n",
              "    .dataframe tbody tr th:only-of-type {\n",
              "        vertical-align: middle;\n",
              "    }\n",
              "\n",
              "    .dataframe tbody tr th {\n",
              "        vertical-align: top;\n",
              "    }\n",
              "\n",
              "    .dataframe thead th {\n",
              "        text-align: right;\n",
              "    }\n",
              "</style>\n",
              "<table border=\"1\" class=\"dataframe\">\n",
              "  <thead>\n",
              "    <tr style=\"text-align: right;\">\n",
              "      <th></th>\n",
              "      <th>lenders</th>\n",
              "      <th>amount</th>\n",
              "    </tr>\n",
              "  </thead>\n",
              "  <tbody>\n",
              "    <tr>\n",
              "      <th>0</th>\n",
              "      <td>000</td>\n",
              "      <td>1764.26</td>\n",
              "    </tr>\n",
              "    <tr>\n",
              "      <th>1</th>\n",
              "      <td>00000</td>\n",
              "      <td>1380.68</td>\n",
              "    </tr>\n",
              "    <tr>\n",
              "      <th>2</th>\n",
              "      <td>0002</td>\n",
              "      <td>2472.54</td>\n",
              "    </tr>\n",
              "    <tr>\n",
              "      <th>3</th>\n",
              "      <td>00mike00</td>\n",
              "      <td>52.63</td>\n",
              "    </tr>\n",
              "    <tr>\n",
              "      <th>4</th>\n",
              "      <td>0101craign0101</td>\n",
              "      <td>2623.50</td>\n",
              "    </tr>\n",
              "  </tbody>\n",
              "</table>\n",
              "</div>"
            ],
            "text/plain": [
              "          lenders   amount\n",
              "0             000  1764.26\n",
              "1           00000  1380.68\n",
              "2            0002  2472.54\n",
              "3        00mike00    52.63\n",
              "4  0101craign0101  2623.50"
            ]
          },
          "metadata": {
            "tags": []
          },
          "execution_count": 70
        },
        {
          "output_type": "stream",
          "text": [
            "time: 9.85 ms\n"
          ],
          "name": "stdout"
        }
      ]
    },
    {
      "cell_type": "markdown",
      "metadata": {
        "id": "bFOyaQ_a4_fM",
        "colab_type": "text"
      },
      "source": [
        "## Task 9\n",
        "- For each country, compute the difference between the overall amount of money lent and the overall amount of money borrowed. Since the country of the lender is often unknown, you can assume that the true distribution among the countries is the same as the one computed from the rows where the country is known."
      ]
    },
    {
      "cell_type": "markdown",
      "metadata": {
        "id": "QXKlr765-m49",
        "colab_type": "text"
      },
      "source": [
        "### Load csv\n",
        "1. lenders\n",
        "2. country_stats"
      ]
    },
    {
      "cell_type": "code",
      "metadata": {
        "id": "Z4sd6tju5Olp",
        "colab_type": "code",
        "outputId": "55b35d0b-7c64-432f-9dd4-5c63e2178830",
        "colab": {
          "base_uri": "https://localhost:8080/",
          "height": 34
        }
      },
      "source": [
        "lenders = pd.read_csv('/content/drive/My Drive/Foundation of computer science/additional-kiva-snapshot/lenders.csv')"
      ],
      "execution_count": 71,
      "outputs": [
        {
          "output_type": "stream",
          "text": [
            "time: 4.03 s\n"
          ],
          "name": "stdout"
        }
      ]
    },
    {
      "cell_type": "markdown",
      "metadata": {
        "id": "yq5tivIL3_i0",
        "colab_type": "text"
      },
      "source": [
        "_Overview_"
      ]
    },
    {
      "cell_type": "code",
      "metadata": {
        "id": "Y-bRzrVh4AuC",
        "colab_type": "code",
        "outputId": "1afb1dfc-7b46-46f0-cb3f-3764e4b52e5d",
        "colab": {
          "base_uri": "https://localhost:8080/",
          "height": 218
        }
      },
      "source": [
        "lenders.dtypes"
      ],
      "execution_count": 72,
      "outputs": [
        {
          "output_type": "execute_result",
          "data": {
            "text/plain": [
              "permanent_name        object\n",
              "display_name          object\n",
              "city                  object\n",
              "state                 object\n",
              "country_code          object\n",
              "member_since           int64\n",
              "occupation            object\n",
              "loan_because          object\n",
              "loan_purchase_num    float64\n",
              "invited_by            object\n",
              "num_invited            int64\n",
              "dtype: object"
            ]
          },
          "metadata": {
            "tags": []
          },
          "execution_count": 72
        },
        {
          "output_type": "stream",
          "text": [
            "time: 3.64 ms\n"
          ],
          "name": "stdout"
        }
      ]
    },
    {
      "cell_type": "code",
      "metadata": {
        "id": "9miSowhW4Etk",
        "colab_type": "code",
        "outputId": "0f2ae9d9-3644-4e28-9ae9-1098cf565d69",
        "colab": {
          "base_uri": "https://localhost:8080/",
          "height": 229
        }
      },
      "source": [
        "print('Number rows total: '+str(len(lenders)))\n",
        "lenders.head()"
      ],
      "execution_count": 73,
      "outputs": [
        {
          "output_type": "stream",
          "text": [
            "Number rows total: 2349174\n"
          ],
          "name": "stdout"
        },
        {
          "output_type": "execute_result",
          "data": {
            "text/html": [
              "<div>\n",
              "<style scoped>\n",
              "    .dataframe tbody tr th:only-of-type {\n",
              "        vertical-align: middle;\n",
              "    }\n",
              "\n",
              "    .dataframe tbody tr th {\n",
              "        vertical-align: top;\n",
              "    }\n",
              "\n",
              "    .dataframe thead th {\n",
              "        text-align: right;\n",
              "    }\n",
              "</style>\n",
              "<table border=\"1\" class=\"dataframe\">\n",
              "  <thead>\n",
              "    <tr style=\"text-align: right;\">\n",
              "      <th></th>\n",
              "      <th>permanent_name</th>\n",
              "      <th>display_name</th>\n",
              "      <th>city</th>\n",
              "      <th>state</th>\n",
              "      <th>country_code</th>\n",
              "      <th>member_since</th>\n",
              "      <th>occupation</th>\n",
              "      <th>loan_because</th>\n",
              "      <th>loan_purchase_num</th>\n",
              "      <th>invited_by</th>\n",
              "      <th>num_invited</th>\n",
              "    </tr>\n",
              "  </thead>\n",
              "  <tbody>\n",
              "    <tr>\n",
              "      <th>0</th>\n",
              "      <td>qian3013</td>\n",
              "      <td>Qian</td>\n",
              "      <td>NaN</td>\n",
              "      <td>NaN</td>\n",
              "      <td>NaN</td>\n",
              "      <td>1461300457</td>\n",
              "      <td>NaN</td>\n",
              "      <td>NaN</td>\n",
              "      <td>1.0</td>\n",
              "      <td>NaN</td>\n",
              "      <td>0</td>\n",
              "    </tr>\n",
              "    <tr>\n",
              "      <th>1</th>\n",
              "      <td>reena6733</td>\n",
              "      <td>Reena</td>\n",
              "      <td>NaN</td>\n",
              "      <td>NaN</td>\n",
              "      <td>NaN</td>\n",
              "      <td>1461300634</td>\n",
              "      <td>NaN</td>\n",
              "      <td>NaN</td>\n",
              "      <td>9.0</td>\n",
              "      <td>NaN</td>\n",
              "      <td>0</td>\n",
              "    </tr>\n",
              "    <tr>\n",
              "      <th>2</th>\n",
              "      <td>mai5982</td>\n",
              "      <td>Mai</td>\n",
              "      <td>NaN</td>\n",
              "      <td>NaN</td>\n",
              "      <td>NaN</td>\n",
              "      <td>1461300853</td>\n",
              "      <td>NaN</td>\n",
              "      <td>NaN</td>\n",
              "      <td>NaN</td>\n",
              "      <td>NaN</td>\n",
              "      <td>0</td>\n",
              "    </tr>\n",
              "    <tr>\n",
              "      <th>3</th>\n",
              "      <td>andrew86079135</td>\n",
              "      <td>Andrew</td>\n",
              "      <td>NaN</td>\n",
              "      <td>NaN</td>\n",
              "      <td>NaN</td>\n",
              "      <td>1461301091</td>\n",
              "      <td>NaN</td>\n",
              "      <td>NaN</td>\n",
              "      <td>5.0</td>\n",
              "      <td>Peter Tan</td>\n",
              "      <td>0</td>\n",
              "    </tr>\n",
              "    <tr>\n",
              "      <th>4</th>\n",
              "      <td>nguyen6962</td>\n",
              "      <td>Nguyen</td>\n",
              "      <td>NaN</td>\n",
              "      <td>NaN</td>\n",
              "      <td>NaN</td>\n",
              "      <td>1461301154</td>\n",
              "      <td>NaN</td>\n",
              "      <td>NaN</td>\n",
              "      <td>NaN</td>\n",
              "      <td>NaN</td>\n",
              "      <td>0</td>\n",
              "    </tr>\n",
              "  </tbody>\n",
              "</table>\n",
              "</div>"
            ],
            "text/plain": [
              "   permanent_name display_name city  ... loan_purchase_num invited_by  num_invited\n",
              "0        qian3013         Qian  NaN  ...               1.0        NaN            0\n",
              "1       reena6733        Reena  NaN  ...               9.0        NaN            0\n",
              "2         mai5982          Mai  NaN  ...               NaN        NaN            0\n",
              "3  andrew86079135       Andrew  NaN  ...               5.0  Peter Tan            0\n",
              "4      nguyen6962       Nguyen  NaN  ...               NaN        NaN            0\n",
              "\n",
              "[5 rows x 11 columns]"
            ]
          },
          "metadata": {
            "tags": []
          },
          "execution_count": 73
        },
        {
          "output_type": "stream",
          "text": [
            "time: 25.6 ms\n"
          ],
          "name": "stdout"
        }
      ]
    },
    {
      "cell_type": "code",
      "metadata": {
        "id": "tPPY7Ipy-_9X",
        "colab_type": "code",
        "outputId": "bd0cad6c-4722-4bba-8526-e26aa09ea1b2",
        "colab": {
          "base_uri": "https://localhost:8080/",
          "height": 34
        }
      },
      "source": [
        "country_info=pd.read_csv('/content/drive/My Drive/Foundation of computer science/additional-kiva-snapshot/country_stats.csv')"
      ],
      "execution_count": 74,
      "outputs": [
        {
          "output_type": "stream",
          "text": [
            "time: 9.91 ms\n"
          ],
          "name": "stdout"
        }
      ]
    },
    {
      "cell_type": "markdown",
      "metadata": {
        "id": "51mMuQBq4ZjR",
        "colab_type": "text"
      },
      "source": [
        "_Overview_"
      ]
    },
    {
      "cell_type": "code",
      "metadata": {
        "id": "bGAS443b4cj5",
        "colab_type": "code",
        "outputId": "1c07d741-08c1-4aa9-a685-d72b00301db9",
        "colab": {
          "base_uri": "https://localhost:8080/",
          "height": 252
        }
      },
      "source": [
        "country_info.dtypes"
      ],
      "execution_count": 75,
      "outputs": [
        {
          "output_type": "execute_result",
          "data": {
            "text/plain": [
              "country_name                      object\n",
              "country_code                      object\n",
              "country_code3                     object\n",
              "continent                         object\n",
              "region                            object\n",
              "population                         int64\n",
              "population_below_poverty_line    float64\n",
              "hdi                              float64\n",
              "life_expectancy                  float64\n",
              "expected_years_of_schooling      float64\n",
              "mean_years_of_schooling          float64\n",
              "gni                              float64\n",
              "kiva_country_name                 object\n",
              "dtype: object"
            ]
          },
          "metadata": {
            "tags": []
          },
          "execution_count": 75
        },
        {
          "output_type": "stream",
          "text": [
            "time: 3.76 ms\n"
          ],
          "name": "stdout"
        }
      ]
    },
    {
      "cell_type": "code",
      "metadata": {
        "id": "dd59ZlV24maJ",
        "colab_type": "code",
        "outputId": "5ccad2a6-56d4-4cb5-9f52-813283fbdee6",
        "colab": {
          "base_uri": "https://localhost:8080/",
          "height": 333
        }
      },
      "source": [
        "print('Number rows total: '+str(len(country_info)))\n",
        "country_info.head()"
      ],
      "execution_count": 76,
      "outputs": [
        {
          "output_type": "stream",
          "text": [
            "Number rows total: 174\n"
          ],
          "name": "stdout"
        },
        {
          "output_type": "execute_result",
          "data": {
            "text/html": [
              "<div>\n",
              "<style scoped>\n",
              "    .dataframe tbody tr th:only-of-type {\n",
              "        vertical-align: middle;\n",
              "    }\n",
              "\n",
              "    .dataframe tbody tr th {\n",
              "        vertical-align: top;\n",
              "    }\n",
              "\n",
              "    .dataframe thead th {\n",
              "        text-align: right;\n",
              "    }\n",
              "</style>\n",
              "<table border=\"1\" class=\"dataframe\">\n",
              "  <thead>\n",
              "    <tr style=\"text-align: right;\">\n",
              "      <th></th>\n",
              "      <th>country_name</th>\n",
              "      <th>country_code</th>\n",
              "      <th>country_code3</th>\n",
              "      <th>continent</th>\n",
              "      <th>region</th>\n",
              "      <th>population</th>\n",
              "      <th>population_below_poverty_line</th>\n",
              "      <th>hdi</th>\n",
              "      <th>life_expectancy</th>\n",
              "      <th>expected_years_of_schooling</th>\n",
              "      <th>mean_years_of_schooling</th>\n",
              "      <th>gni</th>\n",
              "      <th>kiva_country_name</th>\n",
              "    </tr>\n",
              "  </thead>\n",
              "  <tbody>\n",
              "    <tr>\n",
              "      <th>0</th>\n",
              "      <td>India</td>\n",
              "      <td>IN</td>\n",
              "      <td>IND</td>\n",
              "      <td>Asia</td>\n",
              "      <td>Southern Asia</td>\n",
              "      <td>1339180127</td>\n",
              "      <td>21.9</td>\n",
              "      <td>0.623559</td>\n",
              "      <td>68.322</td>\n",
              "      <td>11.696590</td>\n",
              "      <td>6.298834</td>\n",
              "      <td>5663.474799</td>\n",
              "      <td>India</td>\n",
              "    </tr>\n",
              "    <tr>\n",
              "      <th>1</th>\n",
              "      <td>Nigeria</td>\n",
              "      <td>NG</td>\n",
              "      <td>NGA</td>\n",
              "      <td>Africa</td>\n",
              "      <td>Western Africa</td>\n",
              "      <td>190886311</td>\n",
              "      <td>70.0</td>\n",
              "      <td>0.527105</td>\n",
              "      <td>53.057</td>\n",
              "      <td>9.970482</td>\n",
              "      <td>6.000000</td>\n",
              "      <td>5442.901264</td>\n",
              "      <td>Nigeria</td>\n",
              "    </tr>\n",
              "    <tr>\n",
              "      <th>2</th>\n",
              "      <td>Mexico</td>\n",
              "      <td>MX</td>\n",
              "      <td>MEX</td>\n",
              "      <td>Americas</td>\n",
              "      <td>Central America</td>\n",
              "      <td>129163276</td>\n",
              "      <td>46.2</td>\n",
              "      <td>0.761683</td>\n",
              "      <td>76.972</td>\n",
              "      <td>13.299090</td>\n",
              "      <td>8.554985</td>\n",
              "      <td>16383.106680</td>\n",
              "      <td>Mexico</td>\n",
              "    </tr>\n",
              "    <tr>\n",
              "      <th>3</th>\n",
              "      <td>Pakistan</td>\n",
              "      <td>PK</td>\n",
              "      <td>PAK</td>\n",
              "      <td>Asia</td>\n",
              "      <td>Southern Asia</td>\n",
              "      <td>197015955</td>\n",
              "      <td>29.5</td>\n",
              "      <td>0.550354</td>\n",
              "      <td>66.365</td>\n",
              "      <td>8.106910</td>\n",
              "      <td>5.089460</td>\n",
              "      <td>5031.173074</td>\n",
              "      <td>Pakistan</td>\n",
              "    </tr>\n",
              "    <tr>\n",
              "      <th>4</th>\n",
              "      <td>Bangladesh</td>\n",
              "      <td>BD</td>\n",
              "      <td>BGD</td>\n",
              "      <td>Asia</td>\n",
              "      <td>Southern Asia</td>\n",
              "      <td>164669751</td>\n",
              "      <td>31.5</td>\n",
              "      <td>0.578824</td>\n",
              "      <td>71.985</td>\n",
              "      <td>10.178706</td>\n",
              "      <td>5.241577</td>\n",
              "      <td>3341.490722</td>\n",
              "      <td>Bangladesh</td>\n",
              "    </tr>\n",
              "  </tbody>\n",
              "</table>\n",
              "</div>"
            ],
            "text/plain": [
              "  country_name country_code  ...           gni kiva_country_name\n",
              "0        India           IN  ...   5663.474799             India\n",
              "1      Nigeria           NG  ...   5442.901264           Nigeria\n",
              "2       Mexico           MX  ...  16383.106680            Mexico\n",
              "3     Pakistan           PK  ...   5031.173074          Pakistan\n",
              "4   Bangladesh           BD  ...   3341.490722        Bangladesh\n",
              "\n",
              "[5 rows x 13 columns]"
            ]
          },
          "metadata": {
            "tags": []
          },
          "execution_count": 76
        },
        {
          "output_type": "stream",
          "text": [
            "time: 28.9 ms\n"
          ],
          "name": "stdout"
        }
      ]
    },
    {
      "cell_type": "code",
      "metadata": {
        "id": "rXc1cF25BBdQ",
        "colab_type": "code",
        "outputId": "d7e24e7e-acbe-4350-a7a7-df0b56996f5f",
        "colab": {
          "base_uri": "https://localhost:8080/",
          "height": 34
        }
      },
      "source": [
        "country_info = country_info[['country_name','country_code','population','population_below_poverty_line']] #attributi necessari anche per il task successivo"
      ],
      "execution_count": 77,
      "outputs": [
        {
          "output_type": "stream",
          "text": [
            "time: 2.78 ms\n"
          ],
          "name": "stdout"
        }
      ]
    },
    {
      "cell_type": "code",
      "metadata": {
        "id": "CO8r_4ku8C8I",
        "colab_type": "code",
        "outputId": "1e81aeef-a893-4e12-d693-ee701b150c7e",
        "colab": {
          "base_uri": "https://localhost:8080/",
          "height": 34
        }
      },
      "source": [
        "lenders = lenders[['permanent_name','country_code']]"
      ],
      "execution_count": 78,
      "outputs": [
        {
          "output_type": "stream",
          "text": [
            "time: 49.3 ms\n"
          ],
          "name": "stdout"
        }
      ]
    },
    {
      "cell_type": "markdown",
      "metadata": {
        "id": "XAOlkNf77DVZ",
        "colab_type": "text"
      },
      "source": [
        "### Check missing values"
      ]
    },
    {
      "cell_type": "code",
      "metadata": {
        "id": "RRb2bJKj87N1",
        "colab_type": "code",
        "outputId": "debedb87-1c15-40dc-f6c8-3c0c72d60d4e",
        "colab": {
          "base_uri": "https://localhost:8080/",
          "height": 94
        }
      },
      "source": [
        "country_info[country_info['country_code'].isnull()]"
      ],
      "execution_count": 79,
      "outputs": [
        {
          "output_type": "execute_result",
          "data": {
            "text/html": [
              "<div>\n",
              "<style scoped>\n",
              "    .dataframe tbody tr th:only-of-type {\n",
              "        vertical-align: middle;\n",
              "    }\n",
              "\n",
              "    .dataframe tbody tr th {\n",
              "        vertical-align: top;\n",
              "    }\n",
              "\n",
              "    .dataframe thead th {\n",
              "        text-align: right;\n",
              "    }\n",
              "</style>\n",
              "<table border=\"1\" class=\"dataframe\">\n",
              "  <thead>\n",
              "    <tr style=\"text-align: right;\">\n",
              "      <th></th>\n",
              "      <th>country_name</th>\n",
              "      <th>country_code</th>\n",
              "      <th>population</th>\n",
              "      <th>population_below_poverty_line</th>\n",
              "    </tr>\n",
              "  </thead>\n",
              "  <tbody>\n",
              "    <tr>\n",
              "      <th>115</th>\n",
              "      <td>Namibia</td>\n",
              "      <td>NaN</td>\n",
              "      <td>2533794</td>\n",
              "      <td>28.7</td>\n",
              "    </tr>\n",
              "  </tbody>\n",
              "</table>\n",
              "</div>"
            ],
            "text/plain": [
              "    country_name country_code  population  population_below_poverty_line\n",
              "115      Namibia          NaN     2533794                           28.7"
            ]
          },
          "metadata": {
            "tags": []
          },
          "execution_count": 79
        },
        {
          "output_type": "stream",
          "text": [
            "time: 12.4 ms\n"
          ],
          "name": "stdout"
        }
      ]
    },
    {
      "cell_type": "markdown",
      "metadata": {
        "id": "ISfH0Lss06yN",
        "colab_type": "text"
      },
      "source": [
        "### Replace missing values"
      ]
    },
    {
      "cell_type": "code",
      "metadata": {
        "id": "nj9mcqpjxZ3T",
        "colab_type": "code",
        "outputId": "08769724-81e2-4f8a-8c13-66d61a284667",
        "colab": {
          "base_uri": "https://localhost:8080/",
          "height": 34
        }
      },
      "source": [
        "country_info['country_code'] = country_info['country_code'].fillna('NA') #stessa operazione task4"
      ],
      "execution_count": 80,
      "outputs": [
        {
          "output_type": "stream",
          "text": [
            "time: 2.08 ms\n"
          ],
          "name": "stdout"
        }
      ]
    },
    {
      "cell_type": "code",
      "metadata": {
        "id": "2wTiJOJDBFr2",
        "colab_type": "code",
        "outputId": "006f7852-80e1-4e1a-bd28-f067a5386fc6",
        "colab": {
          "base_uri": "https://localhost:8080/",
          "height": 34
        }
      },
      "source": [
        "unknown_lenders = lenders[lenders['country_code'].isnull()]\n",
        "tot = len(lenders)"
      ],
      "execution_count": 81,
      "outputs": [
        {
          "output_type": "stream",
          "text": [
            "time: 149 ms\n"
          ],
          "name": "stdout"
        }
      ]
    },
    {
      "cell_type": "code",
      "metadata": {
        "id": "nseISRXg_uLV",
        "colab_type": "code",
        "outputId": "29349367-47e7-4980-9304-3900a7ac0254",
        "colab": {
          "base_uri": "https://localhost:8080/",
          "height": 50
        }
      },
      "source": [
        "print(\"Country lenders not known: \"+str(len(unknown_lenders)/tot))"
      ],
      "execution_count": 82,
      "outputs": [
        {
          "output_type": "stream",
          "text": [
            "Country lenders not known: 0.620913989342637\n",
            "time: 1.01 ms\n"
          ],
          "name": "stdout"
        }
      ]
    },
    {
      "cell_type": "code",
      "metadata": {
        "id": "cdZ1WYrDAbKt",
        "colab_type": "code",
        "outputId": "735628da-e6d3-4f01-e335-5ed62a45f6d8",
        "colab": {
          "base_uri": "https://localhost:8080/",
          "height": 34
        }
      },
      "source": [
        "lenders.drop(index=unknown_lenders.index,inplace=True)"
      ],
      "execution_count": 83,
      "outputs": [
        {
          "output_type": "stream",
          "text": [
            "time: 396 ms\n"
          ],
          "name": "stdout"
        }
      ]
    },
    {
      "cell_type": "code",
      "metadata": {
        "id": "CLMtxPweSmL2",
        "colab_type": "code",
        "outputId": "b6af7189-c722-4f77-89c9-50dfcc4add8f",
        "colab": {
          "base_uri": "https://localhost:8080/",
          "height": 34
        }
      },
      "source": [
        "c_info = country_info['country_code'].unique()\n",
        "l_info =  lenders['country_code'].unique()\n",
        "\n",
        "len(c_info), len(l_info)"
      ],
      "execution_count": 84,
      "outputs": [
        {
          "output_type": "execute_result",
          "data": {
            "text/plain": [
              "(174, 234)"
            ]
          },
          "metadata": {
            "tags": []
          },
          "execution_count": 84
        },
        {
          "output_type": "stream",
          "text": [
            "time: 34.2 ms\n"
          ],
          "name": "stdout"
        }
      ]
    },
    {
      "cell_type": "markdown",
      "metadata": {
        "id": "D-T4Jm8k75ik",
        "colab_type": "text"
      },
      "source": [
        "### Left join between lenders and info country (useful to get country code)"
      ]
    },
    {
      "cell_type": "code",
      "metadata": {
        "id": "Pe7qvT_SBEMg",
        "colab_type": "code",
        "outputId": "8ea59643-ad53-4998-f07c-3e9f6dfaf8bf",
        "colab": {
          "base_uri": "https://localhost:8080/",
          "height": 34
        }
      },
      "source": [
        "lenders_country = pd.merge(lenders,country_info,how='left',on='country_code')\n",
        "#lenders_country.drop(columns='country_code',inplace=True)"
      ],
      "execution_count": 85,
      "outputs": [
        {
          "output_type": "stream",
          "text": [
            "time: 170 ms\n"
          ],
          "name": "stdout"
        }
      ]
    },
    {
      "cell_type": "code",
      "metadata": {
        "id": "Yg0tCfNbUbAr",
        "colab_type": "code",
        "outputId": "c33a0006-751b-4f48-dc84-eea47745bf06",
        "colab": {
          "base_uri": "https://localhost:8080/",
          "height": 418
        }
      },
      "source": [
        "lenders_country[lenders_country['country_name'].isnull()]"
      ],
      "execution_count": 86,
      "outputs": [
        {
          "output_type": "execute_result",
          "data": {
            "text/html": [
              "<div>\n",
              "<style scoped>\n",
              "    .dataframe tbody tr th:only-of-type {\n",
              "        vertical-align: middle;\n",
              "    }\n",
              "\n",
              "    .dataframe tbody tr th {\n",
              "        vertical-align: top;\n",
              "    }\n",
              "\n",
              "    .dataframe thead th {\n",
              "        text-align: right;\n",
              "    }\n",
              "</style>\n",
              "<table border=\"1\" class=\"dataframe\">\n",
              "  <thead>\n",
              "    <tr style=\"text-align: right;\">\n",
              "      <th></th>\n",
              "      <th>permanent_name</th>\n",
              "      <th>country_code</th>\n",
              "      <th>country_name</th>\n",
              "      <th>population</th>\n",
              "      <th>population_below_poverty_line</th>\n",
              "    </tr>\n",
              "  </thead>\n",
              "  <tbody>\n",
              "    <tr>\n",
              "      <th>200</th>\n",
              "      <td>mulan9910</td>\n",
              "      <td>TW</td>\n",
              "      <td>NaN</td>\n",
              "      <td>NaN</td>\n",
              "      <td>NaN</td>\n",
              "    </tr>\n",
              "    <tr>\n",
              "      <th>843</th>\n",
              "      <td>julie38077446</td>\n",
              "      <td>TW</td>\n",
              "      <td>NaN</td>\n",
              "      <td>NaN</td>\n",
              "      <td>NaN</td>\n",
              "    </tr>\n",
              "    <tr>\n",
              "      <th>918</th>\n",
              "      <td>martin77222200</td>\n",
              "      <td>TW</td>\n",
              "      <td>NaN</td>\n",
              "      <td>NaN</td>\n",
              "      <td>NaN</td>\n",
              "    </tr>\n",
              "    <tr>\n",
              "      <th>1014</th>\n",
              "      <td>sharon84893605</td>\n",
              "      <td>TW</td>\n",
              "      <td>NaN</td>\n",
              "      <td>NaN</td>\n",
              "      <td>NaN</td>\n",
              "    </tr>\n",
              "    <tr>\n",
              "      <th>1143</th>\n",
              "      <td>chen8080</td>\n",
              "      <td>TW</td>\n",
              "      <td>NaN</td>\n",
              "      <td>NaN</td>\n",
              "      <td>NaN</td>\n",
              "    </tr>\n",
              "    <tr>\n",
              "      <th>...</th>\n",
              "      <td>...</td>\n",
              "      <td>...</td>\n",
              "      <td>...</td>\n",
              "      <td>...</td>\n",
              "      <td>...</td>\n",
              "    </tr>\n",
              "    <tr>\n",
              "      <th>889549</th>\n",
              "      <td>worldlove</td>\n",
              "      <td>TW</td>\n",
              "      <td>NaN</td>\n",
              "      <td>NaN</td>\n",
              "      <td>NaN</td>\n",
              "    </tr>\n",
              "    <tr>\n",
              "      <th>889550</th>\n",
              "      <td>vpzpd8975</td>\n",
              "      <td>TW</td>\n",
              "      <td>NaN</td>\n",
              "      <td>NaN</td>\n",
              "      <td>NaN</td>\n",
              "    </tr>\n",
              "    <tr>\n",
              "      <th>889912</th>\n",
              "      <td>harry7812</td>\n",
              "      <td>TW</td>\n",
              "      <td>NaN</td>\n",
              "      <td>NaN</td>\n",
              "      <td>NaN</td>\n",
              "    </tr>\n",
              "    <tr>\n",
              "      <th>889959</th>\n",
              "      <td>zjhvk2101</td>\n",
              "      <td>TW</td>\n",
              "      <td>NaN</td>\n",
              "      <td>NaN</td>\n",
              "      <td>NaN</td>\n",
              "    </tr>\n",
              "    <tr>\n",
              "      <th>890184</th>\n",
              "      <td>jeffyeh</td>\n",
              "      <td>TW</td>\n",
              "      <td>NaN</td>\n",
              "      <td>NaN</td>\n",
              "      <td>NaN</td>\n",
              "    </tr>\n",
              "  </tbody>\n",
              "</table>\n",
              "<p>2483 rows × 5 columns</p>\n",
              "</div>"
            ],
            "text/plain": [
              "        permanent_name country_code  ... population  population_below_poverty_line\n",
              "200          mulan9910           TW  ...        NaN                            NaN\n",
              "843      julie38077446           TW  ...        NaN                            NaN\n",
              "918     martin77222200           TW  ...        NaN                            NaN\n",
              "1014    sharon84893605           TW  ...        NaN                            NaN\n",
              "1143          chen8080           TW  ...        NaN                            NaN\n",
              "...                ...          ...  ...        ...                            ...\n",
              "889549       worldlove           TW  ...        NaN                            NaN\n",
              "889550       vpzpd8975           TW  ...        NaN                            NaN\n",
              "889912       harry7812           TW  ...        NaN                            NaN\n",
              "889959       zjhvk2101           TW  ...        NaN                            NaN\n",
              "890184         jeffyeh           TW  ...        NaN                            NaN\n",
              "\n",
              "[2483 rows x 5 columns]"
            ]
          },
          "metadata": {
            "tags": []
          },
          "execution_count": 86
        },
        {
          "output_type": "stream",
          "text": [
            "time: 126 ms\n"
          ],
          "name": "stdout"
        }
      ]
    },
    {
      "cell_type": "code",
      "metadata": {
        "id": "IW3EdK4tTYPu",
        "colab_type": "code",
        "outputId": "198d1d75-d0c4-40ff-b306-d878f456785b",
        "colab": {
          "base_uri": "https://localhost:8080/",
          "height": 34
        }
      },
      "source": [
        "lenders_country.drop(columns=['population','population_below_poverty_line'],inplace=True)"
      ],
      "execution_count": 87,
      "outputs": [
        {
          "output_type": "stream",
          "text": [
            "time: 41.4 ms\n"
          ],
          "name": "stdout"
        }
      ]
    },
    {
      "cell_type": "markdown",
      "metadata": {
        "id": "0Hco1dz4HzxZ",
        "colab_type": "text"
      },
      "source": [
        "### Compute distribution country lenders known"
      ]
    },
    {
      "cell_type": "code",
      "metadata": {
        "id": "3y2wBEmrJrcQ",
        "colab_type": "code",
        "outputId": "6020bd7f-227d-4c36-93b2-d21c6d742708",
        "colab": {
          "base_uri": "https://localhost:8080/",
          "height": 34
        }
      },
      "source": [
        "dist = lenders_country['country_code'].value_counts(normalize=True) #ritorna frequenza relativa\n",
        "lenders_country_dist = pd.DataFrame(dist).reset_index(drop=False)\n",
        "lenders_country_dist.rename(columns={'index':'country_code',\n",
        "                                     'country_code':'distribution'},inplace=True)"
      ],
      "execution_count": 88,
      "outputs": [
        {
          "output_type": "stream",
          "text": [
            "time: 96.6 ms\n"
          ],
          "name": "stdout"
        }
      ]
    },
    {
      "cell_type": "code",
      "metadata": {
        "id": "wR-RyU3no77t",
        "colab_type": "code",
        "colab": {
          "base_uri": "https://localhost:8080/",
          "height": 218
        },
        "outputId": "88ef235d-b746-43be-f770-84ca4cf5f732"
      },
      "source": [
        "dist"
      ],
      "execution_count": 89,
      "outputs": [
        {
          "output_type": "execute_result",
          "data": {
            "text/plain": [
              "US    0.664330\n",
              "CA    0.076325\n",
              "GB    0.043097\n",
              "AU    0.041664\n",
              "DE    0.017975\n",
              "        ...   \n",
              "NU    0.000001\n",
              "GW    0.000001\n",
              "IO    0.000001\n",
              "MS    0.000001\n",
              "KM    0.000001\n",
              "Name: country_code, Length: 234, dtype: float64"
            ]
          },
          "metadata": {
            "tags": []
          },
          "execution_count": 89
        },
        {
          "output_type": "stream",
          "text": [
            "time: 3.71 ms\n"
          ],
          "name": "stdout"
        }
      ]
    },
    {
      "cell_type": "code",
      "metadata": {
        "id": "RreWJTz8H6pL",
        "colab_type": "code",
        "outputId": "5071e705-55f7-4a21-e5d4-06881fbe5683",
        "colab": {
          "base_uri": "https://localhost:8080/",
          "height": 34
        }
      },
      "source": [
        "lenders_country_dist['distribution_100'] = round(lenders_country_dist['distribution'] * 100,2)"
      ],
      "execution_count": 90,
      "outputs": [
        {
          "output_type": "stream",
          "text": [
            "time: 2.79 ms\n"
          ],
          "name": "stdout"
        }
      ]
    },
    {
      "cell_type": "markdown",
      "metadata": {
        "id": "nnMwaeChEfOy",
        "colab_type": "text"
      },
      "source": [
        "### Barchart distribution country lenders known"
      ]
    },
    {
      "cell_type": "code",
      "metadata": {
        "id": "XaWtcSASEKs1",
        "colab_type": "code",
        "outputId": "7fdafca2-1833-45e5-d78d-b1c9a5440fab",
        "colab": {
          "base_uri": "https://localhost:8080/",
          "height": 295
        }
      },
      "source": [
        "fig = plt.figure(figsize=(20,4))\n",
        "plt.bar(lenders_country_dist['country_code'],lenders_country_dist['distribution'])\n",
        "plt.title('Distribution country lenders')\n",
        "plt.xticks(ticks=[])"
      ],
      "execution_count": 91,
      "outputs": [
        {
          "output_type": "execute_result",
          "data": {
            "text/plain": [
              "([], <a list of 0 Text major ticklabel objects>)"
            ]
          },
          "metadata": {
            "tags": []
          },
          "execution_count": 91
        },
        {
          "output_type": "display_data",
          "data": {
            "image/png": "[encoded data removed]",
            "text/plain": [
              "<Figure size 1440x288 with 1 Axes>"
            ]
          },
          "metadata": {
            "tags": [],
            "needs_background": "light"
          }
        },
        {
          "output_type": "stream",
          "text": [
            "time: 517 ms\n"
          ],
          "name": "stdout"
        }
      ]
    },
    {
      "cell_type": "code",
      "metadata": {
        "colab_type": "code",
        "outputId": "0668b3c1-e530-4f13-ba83-684902765916",
        "id": "etMV9p_4Td_F",
        "colab": {
          "base_uri": "https://localhost:8080/",
          "height": 368
        }
      },
      "source": [
        "dist_focus = lenders_country_dist[lenders_country_dist['distribution_100']>1]\n",
        "fig = plt.figure(figsize=(16,5))\n",
        "plt.bar(dist_focus['country_code'],dist_focus['distribution_100'],color='blue')\n",
        "plt.xlabel('country')\n",
        "plt.ylabel('percentage(%)')"
      ],
      "execution_count": 92,
      "outputs": [
        {
          "output_type": "execute_result",
          "data": {
            "text/plain": [
              "Text(0, 0.5, 'percentage(%)')"
            ]
          },
          "metadata": {
            "tags": []
          },
          "execution_count": 92
        },
        {
          "output_type": "display_data",
          "data": {
            "image/png": "[encoded data removed]",
            "text/plain": [
              "<Figure size 1152x360 with 1 Axes>"
            ]
          },
          "metadata": {
            "tags": [],
            "needs_background": "light"
          }
        },
        {
          "output_type": "stream",
          "text": [
            "time: 189 ms\n"
          ],
          "name": "stdout"
        }
      ]
    },
    {
      "cell_type": "markdown",
      "metadata": {
        "id": "TglTQ3mBIzyL",
        "colab_type": "text"
      },
      "source": [
        "### Replace NAN according distribution computed before"
      ]
    },
    {
      "cell_type": "code",
      "metadata": {
        "id": "fGYgA8ezPcBb",
        "colab_type": "code",
        "outputId": "9d57feb7-39f6-4dee-bb70-5a9a1000c2c7",
        "colab": {
          "base_uri": "https://localhost:8080/",
          "height": 34
        }
      },
      "source": [
        "unknown_lenders = unknown_lenders.copy()\n",
        "unknown_lenders['country_code'] = np.random.choice(dist.index, size = len(unknown_lenders), p = dist.values)"
      ],
      "execution_count": 93,
      "outputs": [
        {
          "output_type": "stream",
          "text": [
            "time: 114 ms\n"
          ],
          "name": "stdout"
        }
      ]
    },
    {
      "cell_type": "code",
      "metadata": {
        "id": "zLwb1dJAZJQc",
        "colab_type": "code",
        "colab": {
          "base_uri": "https://localhost:8080/",
          "height": 34
        },
        "outputId": "19a9b1e6-0ac3-4201-ab8e-e4b1f16621dc"
      },
      "source": [
        "dist_nan = unknown_lenders['country_code'].value_counts(normalize=True)\n",
        "unknown_code_dist = pd.DataFrame(dist_nan).reset_index(drop=False)\n",
        "unknown_code_dist.rename(columns={'index':'country_code',\n",
        "                                     'country_code':'distribution'},inplace=True)"
      ],
      "execution_count": 94,
      "outputs": [
        {
          "output_type": "stream",
          "text": [
            "time: 128 ms\n"
          ],
          "name": "stdout"
        }
      ]
    },
    {
      "cell_type": "code",
      "metadata": {
        "id": "fK1WfMhIr5fv",
        "colab_type": "code",
        "colab": {
          "base_uri": "https://localhost:8080/",
          "height": 34
        },
        "outputId": "260627e3-f537-4067-fb92-11543d159e3c"
      },
      "source": [
        "unknown_code_dist['distribution_unknown'] = round(unknown_code_dist['distribution']*100,2)"
      ],
      "execution_count": 95,
      "outputs": [
        {
          "output_type": "stream",
          "text": [
            "time: 2.6 ms\n"
          ],
          "name": "stdout"
        }
      ]
    },
    {
      "cell_type": "markdown",
      "metadata": {
        "id": "ByehBo51vV1f",
        "colab_type": "text"
      },
      "source": [
        "### Compare two distributions"
      ]
    },
    {
      "cell_type": "code",
      "metadata": {
        "id": "Q9sJT2-6dZSe",
        "colab_type": "code",
        "colab": {
          "base_uri": "https://localhost:8080/",
          "height": 34
        },
        "outputId": "2af1db91-1116-4bf5-9277-6786aed9b379"
      },
      "source": [
        "compare_dist = pd.merge(lenders_country_dist,unknown_code_dist,how='inner',on='country_code')\n",
        "compare_dist.drop(columns=['distribution_x','distribution_y'],inplace=True)"
      ],
      "execution_count": 96,
      "outputs": [
        {
          "output_type": "stream",
          "text": [
            "time: 8.24 ms\n"
          ],
          "name": "stdout"
        }
      ]
    },
    {
      "cell_type": "markdown",
      "metadata": {
        "id": "QCpfxa0t0cAF",
        "colab_type": "text"
      },
      "source": [
        "#### Barchart compare distribution"
      ]
    },
    {
      "cell_type": "code",
      "metadata": {
        "id": "f5aNOTwRvTrO",
        "colab_type": "code",
        "colab": {
          "base_uri": "https://localhost:8080/",
          "height": 34
        },
        "outputId": "ed82b2ab-3f70-495a-f93f-afb9d43eca4a"
      },
      "source": [
        "compare_dist = compare_dist[compare_dist['distribution_100']>1]\n",
        "country = compare_dist['country_code']"
      ],
      "execution_count": 97,
      "outputs": [
        {
          "output_type": "stream",
          "text": [
            "time: 2.5 ms\n"
          ],
          "name": "stdout"
        }
      ]
    },
    {
      "cell_type": "code",
      "metadata": {
        "id": "IsOfOveSehdK",
        "colab_type": "code",
        "outputId": "16ef2e45-0acf-40bf-ad6a-da9993236048",
        "colab": {
          "base_uri": "https://localhost:8080/",
          "height": 384
        }
      },
      "source": [
        "x = np.arange(len(compare_dist))\n",
        "fig, ax = plt.subplots(figsize=(16,5))\n",
        "bar_width = 0.5\n",
        "\n",
        "ax.bar(x-bar_width/2,compare_dist['distribution_100'],width=bar_width,color='blue',label='original')\n",
        "ax.bar(x+bar_width/2,compare_dist['distribution_unknown'],width=bar_width,color='orange',label='unknown')\n",
        "plt.title('Comparison distributions')\n",
        "ax.set_xticks(x)\n",
        "ax.set_xticklabels(country)\n",
        "plt.xlabel('country')\n",
        "plt.ylabel('percentage(%)')\n",
        "plt.legend()"
      ],
      "execution_count": 98,
      "outputs": [
        {
          "output_type": "execute_result",
          "data": {
            "text/plain": [
              "<matplotlib.legend.Legend at 0x7fdd54acdcf8>"
            ]
          },
          "metadata": {
            "tags": []
          },
          "execution_count": 98
        },
        {
          "output_type": "display_data",
          "data": {
            "image/png": "[encoded data removed]",
            "text/plain": [
              "<Figure size 1152x360 with 1 Axes>"
            ]
          },
          "metadata": {
            "tags": [],
            "needs_background": "light"
          }
        },
        {
          "output_type": "stream",
          "text": [
            "time: 224 ms\n"
          ],
          "name": "stdout"
        }
      ]
    },
    {
      "cell_type": "code",
      "metadata": {
        "id": "8OuRP18BI-Fu",
        "colab_type": "code",
        "colab": {
          "base_uri": "https://localhost:8080/",
          "height": 34
        },
        "outputId": "774f540b-18c4-4ea7-8c3c-639d734fe2d7"
      },
      "source": [
        "lenders_country = pd.concat([lenders_country,unknown_lenders],axis=0) #per ogni lender è adesso associato una nazione"
      ],
      "execution_count": 99,
      "outputs": [
        {
          "output_type": "stream",
          "text": [
            "time: 83.4 ms\n"
          ],
          "name": "stdout"
        }
      ]
    },
    {
      "cell_type": "code",
      "metadata": {
        "id": "9MIMm7meyccG",
        "colab_type": "code",
        "colab": {
          "base_uri": "https://localhost:8080/",
          "height": 34
        },
        "outputId": "32869192-bb6e-410d-b08e-8b789aced468"
      },
      "source": [
        "lenders_country.rename(columns={'permanent_name':'lenders'},inplace=True)"
      ],
      "execution_count": 100,
      "outputs": [
        {
          "output_type": "stream",
          "text": [
            "time: 226 ms\n"
          ],
          "name": "stdout"
        }
      ]
    },
    {
      "cell_type": "markdown",
      "metadata": {
        "id": "53xUrQa5MOU0",
        "colab_type": "text"
      },
      "source": [
        "### Get amount for each lender and his country"
      ]
    },
    {
      "cell_type": "code",
      "metadata": {
        "id": "CtUvZnRIM6fK",
        "colab_type": "code",
        "colab": {
          "base_uri": "https://localhost:8080/",
          "height": 34
        },
        "outputId": "cd59bd64-6fb9-41b7-e894-ca9b7ff117d8"
      },
      "source": [
        "amount_lender_country = pd.merge(amount_lender,lenders_country,how='inner',on='lenders')"
      ],
      "execution_count": 101,
      "outputs": [
        {
          "output_type": "stream",
          "text": [
            "time: 5.98 s\n"
          ],
          "name": "stdout"
        }
      ]
    },
    {
      "cell_type": "code",
      "metadata": {
        "id": "_oanyZzzNsHs",
        "colab_type": "code",
        "colab": {
          "base_uri": "https://localhost:8080/",
          "height": 34
        },
        "outputId": "aaf02f54-648b-4385-f2c5-a3b78bcfa9f1"
      },
      "source": [
        "country_amount_lent = amount_lender_country.groupby('country_code')['amount'].sum()\n",
        "country_amount_lent = pd.DataFrame(country_amount_lent).reset_index(level=0)"
      ],
      "execution_count": 102,
      "outputs": [
        {
          "output_type": "stream",
          "text": [
            "time: 520 ms\n"
          ],
          "name": "stdout"
        }
      ]
    },
    {
      "cell_type": "code",
      "metadata": {
        "id": "wVPgQkNoOkJK",
        "colab_type": "code",
        "colab": {
          "base_uri": "https://localhost:8080/",
          "height": 34
        },
        "outputId": "2def12fe-8003-4154-ae94-e9427f8efda4"
      },
      "source": [
        "country_amount_lent.rename(columns={'amount':'lent',\n",
        "                                    'country_code': 'country'},inplace=True)"
      ],
      "execution_count": 107,
      "outputs": [
        {
          "output_type": "stream",
          "text": [
            "time: 2.44 ms\n"
          ],
          "name": "stdout"
        }
      ]
    },
    {
      "cell_type": "markdown",
      "metadata": {
        "id": "_5QXpyrPNaON",
        "colab_type": "text"
      },
      "source": [
        "### Inner join between amount country borrowed and amount country lent"
      ]
    },
    {
      "cell_type": "code",
      "metadata": {
        "id": "dT3pJyA0PNyD",
        "colab_type": "code",
        "colab": {
          "base_uri": "https://localhost:8080/",
          "height": 34
        },
        "outputId": "cf135d05-2f05-4445-fc8a-751042623781"
      },
      "source": [
        "country_difference = pd.merge(country_amount_loan_perc,country_amount_lent,how='inner',on='country')\n",
        "country_difference.drop(columns='percentage',inplace=True)"
      ],
      "execution_count": 108,
      "outputs": [
        {
          "output_type": "stream",
          "text": [
            "time: 9.15 ms\n"
          ],
          "name": "stdout"
        }
      ]
    },
    {
      "cell_type": "markdown",
      "metadata": {
        "id": "dHeVV2c12eed",
        "colab_type": "text"
      },
      "source": [
        "### Compute difference between amount lent and amount borrowed"
      ]
    },
    {
      "cell_type": "code",
      "metadata": {
        "id": "d-gDF0aBQRov",
        "colab_type": "code",
        "colab": {
          "base_uri": "https://localhost:8080/",
          "height": 34
        },
        "outputId": "c97cd4bd-f125-4f95-fede-b205c26da0d4"
      },
      "source": [
        "country_difference['difference'] = country_difference['lent'] - country_difference['borrowed']"
      ],
      "execution_count": 109,
      "outputs": [
        {
          "output_type": "stream",
          "text": [
            "time: 2.35 ms\n"
          ],
          "name": "stdout"
        }
      ]
    },
    {
      "cell_type": "markdown",
      "metadata": {
        "id": "kuWe0iSvSKr2",
        "colab_type": "text"
      },
      "source": [
        "### _Result_"
      ]
    },
    {
      "cell_type": "code",
      "metadata": {
        "id": "dQ-seQmVRJ4X",
        "colab_type": "code",
        "outputId": "8e41c3b5-d156-4188-a580-82ab024e4f2d",
        "colab": {
          "base_uri": "https://localhost:8080/",
          "height": 212
        }
      },
      "source": [
        "country_difference.head()"
      ],
      "execution_count": 110,
      "outputs": [
        {
          "output_type": "execute_result",
          "data": {
            "text/html": [
              "<div>\n",
              "<style scoped>\n",
              "    .dataframe tbody tr th:only-of-type {\n",
              "        vertical-align: middle;\n",
              "    }\n",
              "\n",
              "    .dataframe tbody tr th {\n",
              "        vertical-align: top;\n",
              "    }\n",
              "\n",
              "    .dataframe thead th {\n",
              "        text-align: right;\n",
              "    }\n",
              "</style>\n",
              "<table border=\"1\" class=\"dataframe\">\n",
              "  <thead>\n",
              "    <tr style=\"text-align: right;\">\n",
              "      <th></th>\n",
              "      <th>country</th>\n",
              "      <th>borrowed</th>\n",
              "      <th>lent</th>\n",
              "      <th>difference</th>\n",
              "    </tr>\n",
              "  </thead>\n",
              "  <tbody>\n",
              "    <tr>\n",
              "      <th>0</th>\n",
              "      <td>AF</td>\n",
              "      <td>1967950.0</td>\n",
              "      <td>147651.60</td>\n",
              "      <td>-1820298.40</td>\n",
              "    </tr>\n",
              "    <tr>\n",
              "      <th>1</th>\n",
              "      <td>AL</td>\n",
              "      <td>4307350.0</td>\n",
              "      <td>21130.27</td>\n",
              "      <td>-4286219.73</td>\n",
              "    </tr>\n",
              "    <tr>\n",
              "      <th>2</th>\n",
              "      <td>AM</td>\n",
              "      <td>22950475.0</td>\n",
              "      <td>71890.14</td>\n",
              "      <td>-22878584.86</td>\n",
              "    </tr>\n",
              "    <tr>\n",
              "      <th>3</th>\n",
              "      <td>AZ</td>\n",
              "      <td>14784625.0</td>\n",
              "      <td>20469.29</td>\n",
              "      <td>-14764155.71</td>\n",
              "    </tr>\n",
              "    <tr>\n",
              "      <th>4</th>\n",
              "      <td>BA</td>\n",
              "      <td>477250.0</td>\n",
              "      <td>72187.46</td>\n",
              "      <td>-405062.54</td>\n",
              "    </tr>\n",
              "  </tbody>\n",
              "</table>\n",
              "</div>"
            ],
            "text/plain": [
              "  country    borrowed       lent   difference\n",
              "0      AF   1967950.0  147651.60  -1820298.40\n",
              "1      AL   4307350.0   21130.27  -4286219.73\n",
              "2      AM  22950475.0   71890.14 -22878584.86\n",
              "3      AZ  14784625.0   20469.29 -14764155.71\n",
              "4      BA    477250.0   72187.46   -405062.54"
            ]
          },
          "metadata": {
            "tags": []
          },
          "execution_count": 110
        },
        {
          "output_type": "stream",
          "text": [
            "time: 14.3 ms\n"
          ],
          "name": "stdout"
        }
      ]
    },
    {
      "cell_type": "markdown",
      "metadata": {
        "id": "E016hO4SSo90",
        "colab_type": "text"
      },
      "source": [
        "## Task 10\n",
        "- Which country has the highest ratio between the difference computed at the previous point and the population?"
      ]
    },
    {
      "cell_type": "code",
      "metadata": {
        "id": "JuW1STYUWNKD",
        "colab_type": "code",
        "colab": {}
      },
      "source": [
        "country_difference = pd.merge(country_difference,country_info,how='inner',left_on='country',right_on='country_name')"
      ],
      "execution_count": 0,
      "outputs": []
    },
    {
      "cell_type": "code",
      "metadata": {
        "id": "THVkYp_AWs41",
        "colab_type": "code",
        "colab": {}
      },
      "source": [
        "country_difference.drop(columns='country_name',inplace=True)"
      ],
      "execution_count": 0,
      "outputs": []
    },
    {
      "cell_type": "markdown",
      "metadata": {
        "id": "62AEksUDOtlU",
        "colab_type": "text"
      },
      "source": [
        "### Compute ratio for each country"
      ]
    },
    {
      "cell_type": "code",
      "metadata": {
        "id": "csHfXtedW7-u",
        "colab_type": "code",
        "colab": {}
      },
      "source": [
        "country_difference['ratio']= country_difference['difference'] / country_difference['population']"
      ],
      "execution_count": 0,
      "outputs": []
    },
    {
      "cell_type": "code",
      "metadata": {
        "id": "9LYSteqRXqLI",
        "colab_type": "code",
        "colab": {}
      },
      "source": [
        "highest_ratio = country_difference.sort_values(by='ratio',ascending=False)"
      ],
      "execution_count": 0,
      "outputs": []
    },
    {
      "cell_type": "markdown",
      "metadata": {
        "id": "7f4N-vN2ZBYd",
        "colab_type": "text"
      },
      "source": [
        "### _Result_"
      ]
    },
    {
      "cell_type": "code",
      "metadata": {
        "id": "BOxgKgknYStd",
        "colab_type": "code",
        "outputId": "ead3d0d9-9ee2-4465-a2c3-1f4ab01e0992",
        "colab": {
          "base_uri": "https://localhost:8080/",
          "height": 34
        }
      },
      "source": [
        "print(\"Country highest ratio: \"+highest_ratio.iloc[0]['country'])"
      ],
      "execution_count": 0,
      "outputs": [
        {
          "output_type": "stream",
          "text": [
            "Country highest ratio: Canada\n"
          ],
          "name": "stdout"
        }
      ]
    },
    {
      "cell_type": "markdown",
      "metadata": {
        "id": "TwmrNqtfYxJk",
        "colab_type": "text"
      },
      "source": [
        "## Task 11\n",
        "- Which country has the highest ratio between the difference computed at point 9 and the population that is not below the poverty line?"
      ]
    },
    {
      "cell_type": "markdown",
      "metadata": {
        "id": "pQTl10ke3_jc",
        "colab_type": "text"
      },
      "source": [
        "### Check missing values"
      ]
    },
    {
      "cell_type": "code",
      "metadata": {
        "id": "ZreCV4s63-ID",
        "colab_type": "code",
        "outputId": "b144f003-d44c-4a71-a350-7186dcd35f7a",
        "colab": {
          "base_uri": "https://localhost:8080/",
          "height": 195
        }
      },
      "source": [
        "country_difference[country_difference['population_below_poverty_line'].isnull()]"
      ],
      "execution_count": 0,
      "outputs": [
        {
          "output_type": "execute_result",
          "data": {
            "text/html": [
              "<div>\n",
              "<style scoped>\n",
              "    .dataframe tbody tr th:only-of-type {\n",
              "        vertical-align: middle;\n",
              "    }\n",
              "\n",
              "    .dataframe tbody tr th {\n",
              "        vertical-align: top;\n",
              "    }\n",
              "\n",
              "    .dataframe thead th {\n",
              "        text-align: right;\n",
              "    }\n",
              "</style>\n",
              "<table border=\"1\" class=\"dataframe\">\n",
              "  <thead>\n",
              "    <tr style=\"text-align: right;\">\n",
              "      <th></th>\n",
              "      <th>country</th>\n",
              "      <th>borrowed</th>\n",
              "      <th>lent</th>\n",
              "      <th>difference</th>\n",
              "      <th>country_code</th>\n",
              "      <th>population</th>\n",
              "      <th>population_below_poverty_line</th>\n",
              "      <th>ratio</th>\n",
              "    </tr>\n",
              "  </thead>\n",
              "  <tbody>\n",
              "    <tr>\n",
              "      <th>54</th>\n",
              "      <td>Palestine</td>\n",
              "      <td>22316675.0</td>\n",
              "      <td>122666.55</td>\n",
              "      <td>-22194008.45</td>\n",
              "      <td>PS</td>\n",
              "      <td>4920724</td>\n",
              "      <td>NaN</td>\n",
              "      <td>-4.510314</td>\n",
              "    </tr>\n",
              "    <tr>\n",
              "      <th>60</th>\n",
              "      <td>Puerto Rico</td>\n",
              "      <td>441900.0</td>\n",
              "      <td>392963.02</td>\n",
              "      <td>-48936.98</td>\n",
              "      <td>PR</td>\n",
              "      <td>3663131</td>\n",
              "      <td>NaN</td>\n",
              "      <td>-0.013359</td>\n",
              "    </tr>\n",
              "    <tr>\n",
              "      <th>62</th>\n",
              "      <td>Samoa</td>\n",
              "      <td>12212175.0</td>\n",
              "      <td>2764.10</td>\n",
              "      <td>-12209410.90</td>\n",
              "      <td>WS</td>\n",
              "      <td>196440</td>\n",
              "      <td>NaN</td>\n",
              "      <td>-62.153385</td>\n",
              "    </tr>\n",
              "    <tr>\n",
              "      <th>65</th>\n",
              "      <td>Solomon Islands</td>\n",
              "      <td>815575.0</td>\n",
              "      <td>3060.21</td>\n",
              "      <td>-812514.79</td>\n",
              "      <td>SB</td>\n",
              "      <td>611343</td>\n",
              "      <td>NaN</td>\n",
              "      <td>-1.329065</td>\n",
              "    </tr>\n",
              "    <tr>\n",
              "      <th>66</th>\n",
              "      <td>Somalia</td>\n",
              "      <td>308725.0</td>\n",
              "      <td>5649.44</td>\n",
              "      <td>-303075.56</td>\n",
              "      <td>SO</td>\n",
              "      <td>14742523</td>\n",
              "      <td>NaN</td>\n",
              "      <td>-0.020558</td>\n",
              "    </tr>\n",
              "  </tbody>\n",
              "</table>\n",
              "</div>"
            ],
            "text/plain": [
              "            country    borrowed  ...  population_below_poverty_line      ratio\n",
              "54        Palestine  22316675.0  ...                            NaN  -4.510314\n",
              "60      Puerto Rico    441900.0  ...                            NaN  -0.013359\n",
              "62            Samoa  12212175.0  ...                            NaN -62.153385\n",
              "65  Solomon Islands    815575.0  ...                            NaN  -1.329065\n",
              "66          Somalia    308725.0  ...                            NaN  -0.020558\n",
              "\n",
              "[5 rows x 8 columns]"
            ]
          },
          "metadata": {
            "tags": []
          },
          "execution_count": 212
        }
      ]
    },
    {
      "cell_type": "code",
      "metadata": {
        "id": "IUejFqn_6Wgf",
        "colab_type": "code",
        "colab": {}
      },
      "source": [
        "noinfo_index = country_difference[country_difference['population_below_poverty_line'].isna()].index"
      ],
      "execution_count": 0,
      "outputs": []
    },
    {
      "cell_type": "code",
      "metadata": {
        "id": "KIEEKBPjx0zx",
        "colab_type": "code",
        "outputId": "3ebeffbd-aff2-45d3-934f-a340f839f2d0",
        "colab": {
          "base_uri": "https://localhost:8080/",
          "height": 34
        }
      },
      "source": [
        "noinfo_index"
      ],
      "execution_count": 0,
      "outputs": [
        {
          "output_type": "execute_result",
          "data": {
            "text/plain": [
              "Int64Index([54, 60, 62, 65, 66], dtype='int64')"
            ]
          },
          "metadata": {
            "tags": []
          },
          "execution_count": 214
        }
      ]
    },
    {
      "cell_type": "code",
      "metadata": {
        "id": "jRXDb4Y1Gh4r",
        "colab_type": "code",
        "colab": {}
      },
      "source": [
        "country_difference.drop(index=noinfo_index,inplace=True) # si eliminano i paesi che hanno missing values in population_below_poverty_line"
      ],
      "execution_count": 0,
      "outputs": []
    },
    {
      "cell_type": "markdown",
      "metadata": {
        "id": "wGa3NiOz2nSI",
        "colab_type": "text"
      },
      "source": [
        "### Compute for each country number people below and above poverty line"
      ]
    },
    {
      "cell_type": "code",
      "metadata": {
        "id": "r9dMS-0nw9M_",
        "colab_type": "code",
        "colab": {}
      },
      "source": [
        "country_difference['population_below_poverty_line'] = country_difference['population_below_poverty_line']/100\n",
        "country_difference['number_population_below'] = country_difference['population']*country_difference['population_below_poverty_line']"
      ],
      "execution_count": 0,
      "outputs": []
    },
    {
      "cell_type": "code",
      "metadata": {
        "id": "a5gJNAvI3knv",
        "colab_type": "code",
        "colab": {}
      },
      "source": [
        "country_difference['number_population_below'] = country_difference['number_population_below'].astype(int)"
      ],
      "execution_count": 0,
      "outputs": []
    },
    {
      "cell_type": "code",
      "metadata": {
        "id": "Ah5E0SjyJDu5",
        "colab_type": "code",
        "colab": {}
      },
      "source": [
        "country_difference['number_population_above'] = country_difference['population'] - country_difference['number_population_below']"
      ],
      "execution_count": 0,
      "outputs": []
    },
    {
      "cell_type": "markdown",
      "metadata": {
        "id": "QZzwGXl6Jdmx",
        "colab_type": "text"
      },
      "source": [
        "### Compute ratio"
      ]
    },
    {
      "cell_type": "code",
      "metadata": {
        "id": "f2t3lzpXJccw",
        "colab_type": "code",
        "colab": {}
      },
      "source": [
        "country_difference = country_difference[['country','difference','number_population_above']]"
      ],
      "execution_count": 0,
      "outputs": []
    },
    {
      "cell_type": "code",
      "metadata": {
        "id": "KXSexBPYJ0Zl",
        "colab_type": "code",
        "colab": {}
      },
      "source": [
        "country_difference = country_difference.copy()\n",
        "country_difference['ratio_number_above'] = country_difference['difference'] / country_difference['number_population_above']"
      ],
      "execution_count": 0,
      "outputs": []
    },
    {
      "cell_type": "code",
      "metadata": {
        "id": "WqceOJjFKALh",
        "colab_type": "code",
        "colab": {}
      },
      "source": [
        "highest_ratio = country_difference.sort_values(by='ratio_number_above',ascending=False)"
      ],
      "execution_count": 0,
      "outputs": []
    },
    {
      "cell_type": "markdown",
      "metadata": {
        "id": "ylHGoTKiFuTI",
        "colab_type": "text"
      },
      "source": [
        "### _Result_"
      ]
    },
    {
      "cell_type": "code",
      "metadata": {
        "id": "vqSxkqETw7nx",
        "colab_type": "code",
        "outputId": "dc924e3b-7555-4595-913d-63d448b74e5b",
        "colab": {
          "base_uri": "https://localhost:8080/",
          "height": 34
        }
      },
      "source": [
        "print(\"Country highest ratio: \"+highest_ratio.iloc[0]['country'])"
      ],
      "execution_count": 0,
      "outputs": [
        {
          "output_type": "stream",
          "text": [
            "Country highest ratio: Canada\n"
          ],
          "name": "stdout"
        }
      ]
    },
    {
      "cell_type": "markdown",
      "metadata": {
        "id": "MLK9_JPhHGBm",
        "colab_type": "text"
      },
      "source": [
        "## Task 12\n",
        "- For each year, compute the total amount of loans. Each loan that has planned expiration time and disburse time in different years must have its amount distributed proportionally to the number of days in each year. For example, a loan with disburse time December 1st, 2016, planned expiration time January 30th 2018, and amount 5000USD has an amount of 5000USD * 31 / (31+365+30) = 363.85 for 2016, 5000USD * 365 / (31+365+30) = 4284.04 for 2017, and 5000USD * 30 / (31+365+30) = 352.11 for 2018."
      ]
    },
    {
      "cell_type": "code",
      "metadata": {
        "id": "J_5pkhs7xTQZ",
        "colab_type": "code",
        "colab": {}
      },
      "source": [
        "expired_nan = loan_simplified[(loan_simplified['planned_expiration_time'].isnull()) |\n",
        "                                  (loan_simplified['disburse_time'].isnull())]"
      ],
      "execution_count": 0,
      "outputs": []
    },
    {
      "cell_type": "code",
      "metadata": {
        "id": "QhQCU3Vo2o-5",
        "colab_type": "code",
        "colab": {}
      },
      "source": [
        "loan_simplified.drop(index=expired_nan.index,inplace=True) #non considero loan dove planned_expiration o disburse_time contengono nan"
      ],
      "execution_count": 0,
      "outputs": []
    },
    {
      "cell_type": "markdown",
      "metadata": {
        "id": "PWbEfDBV_bNa",
        "colab_type": "text"
      },
      "source": [
        "### Get year from _planned_expiration_time_"
      ]
    },
    {
      "cell_type": "code",
      "metadata": {
        "id": "ern9HK5s-lDZ",
        "colab_type": "code",
        "colab": {}
      },
      "source": [
        "#waiting time ~2m\n",
        "loan_simplified['year_expiration'] = loan_simplified.apply(lambda x: x['planned_expiration_time'].year,axis=1)"
      ],
      "execution_count": 0,
      "outputs": []
    },
    {
      "cell_type": "code",
      "metadata": {
        "id": "17HCLgkRqdfK",
        "colab_type": "code",
        "colab": {}
      },
      "source": [
        "loan_simplified['year_disburse']=loan_simplified['year_disburse'].astype(int)"
      ],
      "execution_count": 0,
      "outputs": []
    },
    {
      "cell_type": "code",
      "metadata": {
        "id": "nyeB0BqC8do-",
        "colab_type": "code",
        "outputId": "42f23744-01ed-41f2-fd5f-138ebc7af6c9",
        "colab": {
          "base_uri": "https://localhost:8080/",
          "height": 34
        }
      },
      "source": [
        "loan_simplified['difference_years'] = loan_simplified['year_expiration'] - loan_simplified['year_disburse']\n",
        "loan_simplified['difference_years'].unique()"
      ],
      "execution_count": 0,
      "outputs": [
        {
          "output_type": "execute_result",
          "data": {
            "text/plain": [
              "array([ 1,  0, -1,  5,  4])"
            ]
          },
          "metadata": {
            "tags": []
          },
          "execution_count": 114
        }
      ]
    },
    {
      "cell_type": "code",
      "metadata": {
        "id": "dgihKzc5rDtM",
        "colab_type": "code",
        "outputId": "a059a402-c6ae-415c-dca4-0b12802e1b43",
        "colab": {
          "base_uri": "https://localhost:8080/",
          "height": 34
        }
      },
      "source": [
        "disburse_after_expiration = loan_simplified[loan_simplified['difference_years']==-1]\n",
        "print(\"Ratio difference -1 betweeen disburse and planned_expiration_time: \"+str(len(disburse_after_expiration) / len(loan_simplified)))"
      ],
      "execution_count": 0,
      "outputs": [
        {
          "output_type": "stream",
          "text": [
            "Ratio difference -1 betweeen disburse and planned_expiration_time: 0.001479479636580086\n"
          ],
          "name": "stdout"
        }
      ]
    },
    {
      "cell_type": "code",
      "metadata": {
        "id": "TSqQkCzVuIdO",
        "colab_type": "code",
        "colab": {}
      },
      "source": [
        "loan_simplified.drop(index=disburse_after_expiration.index,inplace=True)"
      ],
      "execution_count": 0,
      "outputs": []
    },
    {
      "cell_type": "markdown",
      "metadata": {
        "id": "QmasFpk6DDfC",
        "colab_type": "text"
      },
      "source": [
        "### Get loans which have same years between disburse_time and planned_expiration_time"
      ]
    },
    {
      "cell_type": "code",
      "metadata": {
        "id": "rg7e3YM2uhuX",
        "colab_type": "code",
        "colab": {}
      },
      "source": [
        "sameYear_loan = loan_simplified[loan_simplified['year_disburse']==loan_simplified['year_expiration']]\n",
        "index_sameYear = sameYear_loan.index"
      ],
      "execution_count": 0,
      "outputs": []
    },
    {
      "cell_type": "code",
      "metadata": {
        "id": "fb-yFyMzvFRv",
        "colab_type": "code",
        "colab": {}
      },
      "source": [
        "distribution_loan = sameYear_loan[['loan_id','loan_amount','year_expiration']]\n",
        "distribution_loan = distribution_loan.copy()"
      ],
      "execution_count": 0,
      "outputs": []
    },
    {
      "cell_type": "code",
      "metadata": {
        "id": "-ECghCN8HnKA",
        "colab_type": "code",
        "outputId": "40b9da16-67fa-4e43-cdb3-23abb437bbca",
        "colab": {
          "base_uri": "https://localhost:8080/",
          "height": 402
        }
      },
      "source": [
        "distribution_loan"
      ],
      "execution_count": 0,
      "outputs": [
        {
          "output_type": "execute_result",
          "data": {
            "text/html": [
              "<div>\n",
              "<style scoped>\n",
              "    .dataframe tbody tr th:only-of-type {\n",
              "        vertical-align: middle;\n",
              "    }\n",
              "\n",
              "    .dataframe tbody tr th {\n",
              "        vertical-align: top;\n",
              "    }\n",
              "\n",
              "    .dataframe thead th {\n",
              "        text-align: right;\n",
              "    }\n",
              "</style>\n",
              "<table border=\"1\" class=\"dataframe\">\n",
              "  <thead>\n",
              "    <tr style=\"text-align: right;\">\n",
              "      <th></th>\n",
              "      <th>loan_id</th>\n",
              "      <th>loan_amount</th>\n",
              "      <th>year_expiration</th>\n",
              "    </tr>\n",
              "  </thead>\n",
              "  <tbody>\n",
              "    <tr>\n",
              "      <th>2</th>\n",
              "      <td>658010</td>\n",
              "      <td>400.0</td>\n",
              "      <td>2014</td>\n",
              "    </tr>\n",
              "    <tr>\n",
              "      <th>3</th>\n",
              "      <td>659347</td>\n",
              "      <td>625.0</td>\n",
              "      <td>2014</td>\n",
              "    </tr>\n",
              "    <tr>\n",
              "      <th>5</th>\n",
              "      <td>659605</td>\n",
              "      <td>350.0</td>\n",
              "      <td>2014</td>\n",
              "    </tr>\n",
              "    <tr>\n",
              "      <th>6</th>\n",
              "      <td>660240</td>\n",
              "      <td>125.0</td>\n",
              "      <td>2014</td>\n",
              "    </tr>\n",
              "    <tr>\n",
              "      <th>7</th>\n",
              "      <td>661601</td>\n",
              "      <td>1600.0</td>\n",
              "      <td>2014</td>\n",
              "    </tr>\n",
              "    <tr>\n",
              "      <th>...</th>\n",
              "      <td>...</td>\n",
              "      <td>...</td>\n",
              "      <td>...</td>\n",
              "    </tr>\n",
              "    <tr>\n",
              "      <th>1419597</th>\n",
              "      <td>984735</td>\n",
              "      <td>500.0</td>\n",
              "      <td>2015</td>\n",
              "    </tr>\n",
              "    <tr>\n",
              "      <th>1419598</th>\n",
              "      <td>985764</td>\n",
              "      <td>325.0</td>\n",
              "      <td>2015</td>\n",
              "    </tr>\n",
              "    <tr>\n",
              "      <th>1419599</th>\n",
              "      <td>986756</td>\n",
              "      <td>5475.0</td>\n",
              "      <td>2015</td>\n",
              "    </tr>\n",
              "    <tr>\n",
              "      <th>1419600</th>\n",
              "      <td>986789</td>\n",
              "      <td>500.0</td>\n",
              "      <td>2015</td>\n",
              "    </tr>\n",
              "    <tr>\n",
              "      <th>1419601</th>\n",
              "      <td>987606</td>\n",
              "      <td>3000.0</td>\n",
              "      <td>2015</td>\n",
              "    </tr>\n",
              "  </tbody>\n",
              "</table>\n",
              "<p>892805 rows × 3 columns</p>\n",
              "</div>"
            ],
            "text/plain": [
              "         loan_id  loan_amount  year_expiration\n",
              "2         658010        400.0             2014\n",
              "3         659347        625.0             2014\n",
              "5         659605        350.0             2014\n",
              "6         660240        125.0             2014\n",
              "7         661601       1600.0             2014\n",
              "...          ...          ...              ...\n",
              "1419597   984735        500.0             2015\n",
              "1419598   985764        325.0             2015\n",
              "1419599   986756       5475.0             2015\n",
              "1419600   986789        500.0             2015\n",
              "1419601   987606       3000.0             2015\n",
              "\n",
              "[892805 rows x 3 columns]"
            ]
          },
          "metadata": {
            "tags": []
          },
          "execution_count": 119
        }
      ]
    },
    {
      "cell_type": "code",
      "metadata": {
        "id": "yV0CPtOBvYRN",
        "colab_type": "code",
        "outputId": "e3e09aea-3e55-44b2-bb2c-52976ebb7793",
        "colab": {
          "base_uri": "https://localhost:8080/",
          "height": 195
        }
      },
      "source": [
        "distribution_loan.rename(columns={'year_expiration':'year'},inplace=True)\n",
        "distribution_loan.head()"
      ],
      "execution_count": 0,
      "outputs": [
        {
          "output_type": "execute_result",
          "data": {
            "text/html": [
              "<div>\n",
              "<style scoped>\n",
              "    .dataframe tbody tr th:only-of-type {\n",
              "        vertical-align: middle;\n",
              "    }\n",
              "\n",
              "    .dataframe tbody tr th {\n",
              "        vertical-align: top;\n",
              "    }\n",
              "\n",
              "    .dataframe thead th {\n",
              "        text-align: right;\n",
              "    }\n",
              "</style>\n",
              "<table border=\"1\" class=\"dataframe\">\n",
              "  <thead>\n",
              "    <tr style=\"text-align: right;\">\n",
              "      <th></th>\n",
              "      <th>loan_id</th>\n",
              "      <th>loan_amount</th>\n",
              "      <th>year</th>\n",
              "    </tr>\n",
              "  </thead>\n",
              "  <tbody>\n",
              "    <tr>\n",
              "      <th>2</th>\n",
              "      <td>658010</td>\n",
              "      <td>400.0</td>\n",
              "      <td>2014</td>\n",
              "    </tr>\n",
              "    <tr>\n",
              "      <th>3</th>\n",
              "      <td>659347</td>\n",
              "      <td>625.0</td>\n",
              "      <td>2014</td>\n",
              "    </tr>\n",
              "    <tr>\n",
              "      <th>5</th>\n",
              "      <td>659605</td>\n",
              "      <td>350.0</td>\n",
              "      <td>2014</td>\n",
              "    </tr>\n",
              "    <tr>\n",
              "      <th>6</th>\n",
              "      <td>660240</td>\n",
              "      <td>125.0</td>\n",
              "      <td>2014</td>\n",
              "    </tr>\n",
              "    <tr>\n",
              "      <th>7</th>\n",
              "      <td>661601</td>\n",
              "      <td>1600.0</td>\n",
              "      <td>2014</td>\n",
              "    </tr>\n",
              "  </tbody>\n",
              "</table>\n",
              "</div>"
            ],
            "text/plain": [
              "   loan_id  loan_amount  year\n",
              "2   658010        400.0  2014\n",
              "3   659347        625.0  2014\n",
              "5   659605        350.0  2014\n",
              "6   660240        125.0  2014\n",
              "7   661601       1600.0  2014"
            ]
          },
          "metadata": {
            "tags": []
          },
          "execution_count": 120
        }
      ]
    },
    {
      "cell_type": "code",
      "metadata": {
        "id": "UV2DyVs9vxu6",
        "colab_type": "code",
        "colab": {}
      },
      "source": [
        "differentYear_loan = loan_simplified.drop(index=index_sameYear, axis=0)"
      ],
      "execution_count": 0,
      "outputs": []
    },
    {
      "cell_type": "code",
      "metadata": {
        "id": "7C8rybxWwr-g",
        "colab_type": "code",
        "colab": {}
      },
      "source": [
        "differentYear_loan = differentYear_loan.copy()\n",
        "differentYear_loan['day_disburse'] = differentYear_loan.apply(lambda x: x['disburse_time'].day,axis=1)"
      ],
      "execution_count": 0,
      "outputs": []
    },
    {
      "cell_type": "code",
      "metadata": {
        "id": "ZJHlkUQQyOIf",
        "colab_type": "code",
        "colab": {}
      },
      "source": [
        "differentYear_loan = differentYear_loan[['loan_id','disburse_time','planned_expiration_time',\n",
        "                                                 'loan_amount','year_expiration','year_disburse',\n",
        "                                                 'difference_years','day_disburse']]"
      ],
      "execution_count": 0,
      "outputs": []
    },
    {
      "cell_type": "code",
      "metadata": {
        "id": "dEUMo10DG1At",
        "colab_type": "code",
        "colab": {}
      },
      "source": [
        "differentYear_loan['month_disburse'] = differentYear_loan.apply(lambda x: x['disburse_time'].month,axis=1)\n",
        "differentYear_loan['day_expiration'] = differentYear_loan.apply(lambda x: x['planned_expiration_time'].day,axis=1)"
      ],
      "execution_count": 0,
      "outputs": []
    },
    {
      "cell_type": "markdown",
      "metadata": {
        "id": "jVZ3eOuaEYqh",
        "colab_type": "text"
      },
      "source": [
        "### Functions needed to compute distribution for each loan"
      ]
    },
    {
      "cell_type": "code",
      "metadata": {
        "id": "nIcwv07ArNZ4",
        "colab_type": "code",
        "colab": {}
      },
      "source": [
        "def check_leap(year): #controllo se bisestile o meno\n",
        "  if calendar.isleap(year)==True:\n",
        "    return 366\n",
        "  else:\n",
        "    return 365\n",
        "\n",
        "def compute_amount_year(loan,den,val_num,range_year): #calcola quantità che deve essere restituita ogni anno\n",
        "  val_year = round((loan * val_num) / den,2)\n",
        "  return (range_year,val_year)\n",
        "\n",
        "\n",
        "def compute_distribution(id,loan,day_d,month_d,year_d,day_e,year_e): #ritorna lista che contiene per ogni anno la quantità che deve essere restituita\n",
        "  days_month = calendar.monthrange(year_d,month_d)[1] #ritorna giorni mese\n",
        "  values = []\n",
        "  year_range = set(range(year_d,year_e+1)) #range anni tra disburse e planned_expiration_time\n",
        "  lower_upper = set([year_d,year_e]) #primo anno e ultimo anno\n",
        "  year_ris = list(year_range - lower_upper) #ottengo anni di cui devo considerare l'annualità (365 giorni 0 366)\n",
        "\n",
        "  if day_d==1:\n",
        "    difference = days_month #considero tutto mese\n",
        "  else:\n",
        "    if day_d==days_month:\n",
        "      difference = 1\n",
        "    else:\n",
        "      difference = days_month - day_d\n",
        "\n",
        "  if len(year_ris)==0: #se planned_expiration_time è anno successivo di disburse_time\n",
        "    values.append([difference,day_e])\n",
        "  else:\n",
        "    years_day = list(map (check_leap, year_ris)) #ottengo una lista dove per ogni anno è registrato numero giorni anno\n",
        "    values.append([[difference],years_day,[day_e]])\n",
        "    values = list(itertools.chain(*values))\n",
        "\n",
        "  values = list(itertools.chain(*values))\n",
        "  year_range=list(year_range)\n",
        "  year_range.sort() #ordino gli anni\n",
        "  den=sum(values)\n",
        "  result_list = list(map (functools.partial(compute_amount_year, loan,den), values, list(year_range)))\n",
        "  return result_list"
      ],
      "execution_count": 0,
      "outputs": []
    },
    {
      "cell_type": "markdown",
      "metadata": {
        "id": "8SE4At8ZTDyE",
        "colab_type": "text"
      },
      "source": [
        "### Compute distribution for each loan"
      ]
    },
    {
      "cell_type": "code",
      "metadata": {
        "id": "xMUsxaaMH-R0",
        "colab_type": "code",
        "colab": {}
      },
      "source": [
        "differentYear_loan['distribution']=differentYear_loan.apply(lambda x: compute_distribution(x['loan_id'],x['loan_amount'],\n",
        "                                                                                              x['day_disburse'],x['month_disburse'],\n",
        "                                                                                              x['year_disburse'],x['day_expiration'],x['year_expiration']),axis=1)\n"
      ],
      "execution_count": 0,
      "outputs": []
    },
    {
      "cell_type": "code",
      "metadata": {
        "id": "CDn_VRX4-H8o",
        "colab_type": "code",
        "outputId": "633e820d-d7a6-4366-8a05-e2de857193b1",
        "colab": {
          "base_uri": "https://localhost:8080/",
          "height": 402
        }
      },
      "source": [
        "loan_distribution = differentYear_loan[['loan_id','distribution']]\n",
        "loan_distribution"
      ],
      "execution_count": 0,
      "outputs": [
        {
          "output_type": "execute_result",
          "data": {
            "text/html": [
              "<div>\n",
              "<style scoped>\n",
              "    .dataframe tbody tr th:only-of-type {\n",
              "        vertical-align: middle;\n",
              "    }\n",
              "\n",
              "    .dataframe tbody tr th {\n",
              "        vertical-align: top;\n",
              "    }\n",
              "\n",
              "    .dataframe thead th {\n",
              "        text-align: right;\n",
              "    }\n",
              "</style>\n",
              "<table border=\"1\" class=\"dataframe\">\n",
              "  <thead>\n",
              "    <tr style=\"text-align: right;\">\n",
              "      <th></th>\n",
              "      <th>loan_id</th>\n",
              "      <th>distribution</th>\n",
              "    </tr>\n",
              "  </thead>\n",
              "  <tbody>\n",
              "    <tr>\n",
              "      <th>0</th>\n",
              "      <td>657307</td>\n",
              "      <td>[(2013, 48.91), (2014, 76.09)]</td>\n",
              "    </tr>\n",
              "    <tr>\n",
              "      <th>1</th>\n",
              "      <td>657259</td>\n",
              "      <td>[(2013, 118.92), (2014, 281.08)]</td>\n",
              "    </tr>\n",
              "    <tr>\n",
              "      <th>4</th>\n",
              "      <td>656933</td>\n",
              "      <td>[(2013, 220.37), (2014, 204.63)]</td>\n",
              "    </tr>\n",
              "    <tr>\n",
              "      <th>12</th>\n",
              "      <td>660363</td>\n",
              "      <td>[(2013, 324.14), (2014, 850.86)]</td>\n",
              "    </tr>\n",
              "    <tr>\n",
              "      <th>13</th>\n",
              "      <td>661165</td>\n",
              "      <td>[(2013, 48.39), (2014, 251.61)]</td>\n",
              "    </tr>\n",
              "    <tr>\n",
              "      <th>...</th>\n",
              "      <td>...</td>\n",
              "      <td>...</td>\n",
              "    </tr>\n",
              "    <tr>\n",
              "      <th>1419602</th>\n",
              "      <td>988180</td>\n",
              "      <td>[(2015, 311.11), (2016, 88.89)]</td>\n",
              "    </tr>\n",
              "    <tr>\n",
              "      <th>1419603</th>\n",
              "      <td>988213</td>\n",
              "      <td>[(2015, 225.0), (2016, 75.0)]</td>\n",
              "    </tr>\n",
              "    <tr>\n",
              "      <th>1419604</th>\n",
              "      <td>989109</td>\n",
              "      <td>[(2015, 2061.25), (2016, 363.75)]</td>\n",
              "    </tr>\n",
              "    <tr>\n",
              "      <th>1419605</th>\n",
              "      <td>989143</td>\n",
              "      <td>[(2015, 84.38), (2016, 15.62)]</td>\n",
              "    </tr>\n",
              "    <tr>\n",
              "      <th>1419606</th>\n",
              "      <td>989240</td>\n",
              "      <td>[(2015, 157.5), (2016, 17.5)]</td>\n",
              "    </tr>\n",
              "  </tbody>\n",
              "</table>\n",
              "<p>150611 rows × 2 columns</p>\n",
              "</div>"
            ],
            "text/plain": [
              "         loan_id                       distribution\n",
              "0         657307     [(2013, 48.91), (2014, 76.09)]\n",
              "1         657259   [(2013, 118.92), (2014, 281.08)]\n",
              "4         656933   [(2013, 220.37), (2014, 204.63)]\n",
              "12        660363   [(2013, 324.14), (2014, 850.86)]\n",
              "13        661165    [(2013, 48.39), (2014, 251.61)]\n",
              "...          ...                                ...\n",
              "1419602   988180    [(2015, 311.11), (2016, 88.89)]\n",
              "1419603   988213      [(2015, 225.0), (2016, 75.0)]\n",
              "1419604   989109  [(2015, 2061.25), (2016, 363.75)]\n",
              "1419605   989143     [(2015, 84.38), (2016, 15.62)]\n",
              "1419606   989240      [(2015, 157.5), (2016, 17.5)]\n",
              "\n",
              "[150611 rows x 2 columns]"
            ]
          },
          "metadata": {
            "tags": []
          },
          "execution_count": 127
        }
      ]
    },
    {
      "cell_type": "code",
      "metadata": {
        "id": "VMbx_ayD_H5c",
        "colab_type": "code",
        "colab": {}
      },
      "source": [
        "loan_distribution = loan_distribution.explode('distribution')"
      ],
      "execution_count": 0,
      "outputs": []
    },
    {
      "cell_type": "code",
      "metadata": {
        "id": "pYc_qzs8BykZ",
        "colab_type": "code",
        "colab": {}
      },
      "source": [
        "loan_distribution['year'] = loan_distribution.apply(lambda x: x['distribution'][0],axis=1)\n",
        "loan_distribution['loan_amount'] = loan_distribution.apply(lambda x: x['distribution'][1],axis=1)\n",
        "\n",
        "loan_distribution = loan_distribution.reset_index()"
      ],
      "execution_count": 0,
      "outputs": []
    },
    {
      "cell_type": "code",
      "metadata": {
        "id": "lZItdITNBVuS",
        "colab_type": "code",
        "colab": {}
      },
      "source": [
        "loan_distribution.drop(columns=['index','distribution'],inplace=True)"
      ],
      "execution_count": 0,
      "outputs": []
    },
    {
      "cell_type": "code",
      "metadata": {
        "id": "YvV07Ai42LMk",
        "colab_type": "code",
        "outputId": "39217895-f954-4f37-ff46-541ddea26004",
        "colab": {
          "base_uri": "https://localhost:8080/",
          "height": 195
        }
      },
      "source": [
        "distribution_loan = pd.concat([distribution_loan,loan_distribution],axis=0,sort=False)\n",
        "distribution_loan.head()"
      ],
      "execution_count": 0,
      "outputs": [
        {
          "output_type": "execute_result",
          "data": {
            "text/html": [
              "<div>\n",
              "<style scoped>\n",
              "    .dataframe tbody tr th:only-of-type {\n",
              "        vertical-align: middle;\n",
              "    }\n",
              "\n",
              "    .dataframe tbody tr th {\n",
              "        vertical-align: top;\n",
              "    }\n",
              "\n",
              "    .dataframe thead th {\n",
              "        text-align: right;\n",
              "    }\n",
              "</style>\n",
              "<table border=\"1\" class=\"dataframe\">\n",
              "  <thead>\n",
              "    <tr style=\"text-align: right;\">\n",
              "      <th></th>\n",
              "      <th>loan_id</th>\n",
              "      <th>loan_amount</th>\n",
              "      <th>year</th>\n",
              "    </tr>\n",
              "  </thead>\n",
              "  <tbody>\n",
              "    <tr>\n",
              "      <th>2</th>\n",
              "      <td>658010</td>\n",
              "      <td>400.0</td>\n",
              "      <td>2014</td>\n",
              "    </tr>\n",
              "    <tr>\n",
              "      <th>3</th>\n",
              "      <td>659347</td>\n",
              "      <td>625.0</td>\n",
              "      <td>2014</td>\n",
              "    </tr>\n",
              "    <tr>\n",
              "      <th>5</th>\n",
              "      <td>659605</td>\n",
              "      <td>350.0</td>\n",
              "      <td>2014</td>\n",
              "    </tr>\n",
              "    <tr>\n",
              "      <th>6</th>\n",
              "      <td>660240</td>\n",
              "      <td>125.0</td>\n",
              "      <td>2014</td>\n",
              "    </tr>\n",
              "    <tr>\n",
              "      <th>7</th>\n",
              "      <td>661601</td>\n",
              "      <td>1600.0</td>\n",
              "      <td>2014</td>\n",
              "    </tr>\n",
              "  </tbody>\n",
              "</table>\n",
              "</div>"
            ],
            "text/plain": [
              "   loan_id  loan_amount  year\n",
              "2   658010        400.0  2014\n",
              "3   659347        625.0  2014\n",
              "5   659605        350.0  2014\n",
              "6   660240        125.0  2014\n",
              "7   661601       1600.0  2014"
            ]
          },
          "metadata": {
            "tags": []
          },
          "execution_count": 131
        }
      ]
    },
    {
      "cell_type": "code",
      "metadata": {
        "id": "3mVpYXLz2khM",
        "colab_type": "code",
        "colab": {}
      },
      "source": [
        "year_distribution = pd.DataFrame(distribution_loan.groupby('year')['loan_amount'].sum()).reset_index()"
      ],
      "execution_count": 0,
      "outputs": []
    },
    {
      "cell_type": "markdown",
      "metadata": {
        "id": "maGTF3Ll4seR",
        "colab_type": "text"
      },
      "source": [
        "### _Result_"
      ]
    },
    {
      "cell_type": "code",
      "metadata": {
        "id": "_rfiN9OipJ73",
        "colab_type": "code",
        "colab": {}
      },
      "source": [
        "pd.options.display.float_format = '{:.2f}'.format"
      ],
      "execution_count": 0,
      "outputs": []
    },
    {
      "cell_type": "code",
      "metadata": {
        "id": "8K7jEdcA4gK-",
        "colab_type": "code",
        "outputId": "678bdce0-6927-4132-ffd3-a2ca801202ab",
        "colab": {
          "base_uri": "https://localhost:8080/",
          "height": 195
        }
      },
      "source": [
        "year_distribution.head()"
      ],
      "execution_count": 0,
      "outputs": [
        {
          "output_type": "execute_result",
          "data": {
            "text/html": [
              "<div>\n",
              "<style scoped>\n",
              "    .dataframe tbody tr th:only-of-type {\n",
              "        vertical-align: middle;\n",
              "    }\n",
              "\n",
              "    .dataframe tbody tr th {\n",
              "        vertical-align: top;\n",
              "    }\n",
              "\n",
              "    .dataframe thead th {\n",
              "        text-align: right;\n",
              "    }\n",
              "</style>\n",
              "<table border=\"1\" class=\"dataframe\">\n",
              "  <thead>\n",
              "    <tr style=\"text-align: right;\">\n",
              "      <th></th>\n",
              "      <th>year</th>\n",
              "      <th>loan_amount</th>\n",
              "    </tr>\n",
              "  </thead>\n",
              "  <tbody>\n",
              "    <tr>\n",
              "      <th>0</th>\n",
              "      <td>2011</td>\n",
              "      <td>1118390.70</td>\n",
              "    </tr>\n",
              "    <tr>\n",
              "      <th>1</th>\n",
              "      <td>2012</td>\n",
              "      <td>112810354.90</td>\n",
              "    </tr>\n",
              "    <tr>\n",
              "      <th>2</th>\n",
              "      <td>2013</td>\n",
              "      <td>122091737.20</td>\n",
              "    </tr>\n",
              "    <tr>\n",
              "      <th>3</th>\n",
              "      <td>2014</td>\n",
              "      <td>154916827.97</td>\n",
              "    </tr>\n",
              "    <tr>\n",
              "      <th>4</th>\n",
              "      <td>2015</td>\n",
              "      <td>159646198.09</td>\n",
              "    </tr>\n",
              "  </tbody>\n",
              "</table>\n",
              "</div>"
            ],
            "text/plain": [
              "   year  loan_amount\n",
              "0  2011   1118390.70\n",
              "1  2012 112810354.90\n",
              "2  2013 122091737.20\n",
              "3  2014 154916827.97\n",
              "4  2015 159646198.09"
            ]
          },
          "metadata": {
            "tags": []
          },
          "execution_count": 134
        }
      ]
    }
  ]
}