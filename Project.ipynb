{
  "nbformat": 4,
  "nbformat_minor": 0,
  "metadata": {
    "colab": {
      "name": "Project.ipynb",
      "provenance": [],
      "collapsed_sections": [],
      "toc_visible": true,
      "machine_shape": "hm",
      "include_colab_link": true
    },
    "kernelspec": {
      "name": "python3",
      "display_name": "Python 3"
    },
    "accelerator": "GPU"
  },
  "cells": [
    {
      "cell_type": "markdown",
      "metadata": {
        "id": "view-in-github",
        "colab_type": "text"
      },
      "source": [
        "<a href=\"https://colab.research.google.com/github/gaveter/Project_cs/blob/master/Project.ipynb\" target=\"_parent\"><img src=\"https://colab.research.google.com/assets/colab-badge.svg\" alt=\"Open In Colab\"/></a>"
      ]
    },
    {
      "cell_type": "code",
      "metadata": {
        "id": "ol1w_yeL6Ns5",
        "colab_type": "code",
        "outputId": "841acce0-1726-43e8-e34c-f4a46644842d",
        "colab": {
          "base_uri": "https://localhost:8080/",
          "height": 34
        }
      },
      "source": [
        "from google.colab import drive\n",
        "drive.mount('/content/drive')"
      ],
      "execution_count": 2,
      "outputs": [
        {
          "output_type": "stream",
          "text": [
            "Drive already mounted at /content/drive; to attempt to forcibly remount, call drive.mount(\"/content/drive\", force_remount=True).\n"
          ],
          "name": "stdout"
        }
      ]
    },
    {
      "cell_type": "markdown",
      "metadata": {
        "id": "Z6eOK8_a6P3z",
        "colab_type": "text"
      },
      "source": [
        "# Project 2019-20\n",
        "1. Normalize the loan_lenders table. In the normalized table, each row must have one loan_id and one lender.\n",
        "2. For each loan, add a column duration corresponding to the number of days between the disburse time and the planned expiration time.\n",
        "3. Find the lenders that have funded at least twice.\n",
        "4. For each country, compute how many loans have involved that country as borrowers.\n",
        "5. For each country, compute the overall amount of money borrowed.\n",
        "6. Like the previous point, but expressed as a percentage of the overall amount lent.\n",
        "7. Like the three previous points, but split for each year (with respect to disburse time).\n",
        "8. For each lender, compute the overall amount of money lent. For each loan that has more than one lender, you must assume that all lenders contributed the same amount.\n",
        "9. For each country, compute the difference between the overall amount of money lent and the overall amount of money borrowed.\n",
        "10. Which country has the highest ratio between the difference computed at the previous point and the population?\n",
        "11. Which country has the highest ratio between the difference computed at point 9 and the population that is not below the poverty line?\n",
        "12. For each year, compute the total amount of loans. Each loan that has planned expiration time and disburse time in different years must \n",
        "have its amount distributed proportionally to the number of days in each year. For example, a loan with disburse time December 1st, 2016,\n",
        " planned expiration time January 30th 2018, and amount 5000USD has an amount of 5000USD * 31 / (31+365+30) = 363.85 for 2016, 5000USD * 365 / (31+365+30) = 4284.04\n",
        "for 2017, and 5000USD * 30 / (31+365+30) = 352.11 for 2018.\n",
        "© 2019 GitHub, Inc."
      ]
    },
    {
      "cell_type": "markdown",
      "metadata": {
        "id": "jRQIjhEl7EO0",
        "colab_type": "text"
      },
      "source": [
        "## Load libraries"
      ]
    },
    {
      "cell_type": "code",
      "metadata": {
        "id": "HhI6_r9s7Dro",
        "colab_type": "code",
        "colab": {}
      },
      "source": [
        "import pandas as pd\n",
        "from datetime import datetime\n",
        "import re\n",
        "import numpy as np\n",
        "import matplotlib.pyplot as plt\n",
        "import itertools"
      ],
      "execution_count": 0,
      "outputs": []
    },
    {
      "cell_type": "markdown",
      "metadata": {
        "id": "H293IL1LBfcH",
        "colab_type": "text"
      },
      "source": [
        "## Task1"
      ]
    },
    {
      "cell_type": "markdown",
      "metadata": {
        "id": "vBBoMroH7fgN",
        "colab_type": "text"
      },
      "source": [
        "### Load csv (loans_lenders)"
      ]
    },
    {
      "cell_type": "code",
      "metadata": {
        "id": "nuD87I-u7UGW",
        "colab_type": "code",
        "outputId": "ea56ff04-3ce2-4354-aaa7-970178189813",
        "colab": {
          "base_uri": "https://localhost:8080/",
          "height": 34
        }
      },
      "source": [
        "loans_lender = pd.read_csv('/content/drive/My Drive/Foundation of computer science/additional-kiva-snapshot/loans_lenders.csv')\n",
        "len(loans_lender)"
      ],
      "execution_count": 4,
      "outputs": [
        {
          "output_type": "execute_result",
          "data": {
            "text/plain": [
              "1387432"
            ]
          },
          "metadata": {
            "tags": []
          },
          "execution_count": 4
        }
      ]
    },
    {
      "cell_type": "code",
      "metadata": {
        "id": "aGeQjd7yKqbU",
        "colab_type": "code",
        "outputId": "e8281fa6-ca5f-46e5-8bf7-11f88c43898b",
        "colab": {
          "base_uri": "https://localhost:8080/",
          "height": 195
        }
      },
      "source": [
        "loans_lender.head()"
      ],
      "execution_count": 5,
      "outputs": [
        {
          "output_type": "execute_result",
          "data": {
            "text/html": [
              "<div>\n",
              "<style scoped>\n",
              "    .dataframe tbody tr th:only-of-type {\n",
              "        vertical-align: middle;\n",
              "    }\n",
              "\n",
              "    .dataframe tbody tr th {\n",
              "        vertical-align: top;\n",
              "    }\n",
              "\n",
              "    .dataframe thead th {\n",
              "        text-align: right;\n",
              "    }\n",
              "</style>\n",
              "<table border=\"1\" class=\"dataframe\">\n",
              "  <thead>\n",
              "    <tr style=\"text-align: right;\">\n",
              "      <th></th>\n",
              "      <th>loan_id</th>\n",
              "      <th>lenders</th>\n",
              "    </tr>\n",
              "  </thead>\n",
              "  <tbody>\n",
              "    <tr>\n",
              "      <th>0</th>\n",
              "      <td>483693</td>\n",
              "      <td>muc888, sam4326, camaran3922, lachheb1865, reb...</td>\n",
              "    </tr>\n",
              "    <tr>\n",
              "      <th>1</th>\n",
              "      <td>483738</td>\n",
              "      <td>muc888, nora3555, williammanashi, barbara5610,...</td>\n",
              "    </tr>\n",
              "    <tr>\n",
              "      <th>2</th>\n",
              "      <td>485000</td>\n",
              "      <td>muc888, terrystl, richardandsusan8352, sherri4...</td>\n",
              "    </tr>\n",
              "    <tr>\n",
              "      <th>3</th>\n",
              "      <td>486087</td>\n",
              "      <td>muc888, james5068, rudi5955, daniel9859, don92...</td>\n",
              "    </tr>\n",
              "    <tr>\n",
              "      <th>4</th>\n",
              "      <td>534428</td>\n",
              "      <td>muc888, niki3008, teresa9174, mike4896, david7...</td>\n",
              "    </tr>\n",
              "  </tbody>\n",
              "</table>\n",
              "</div>"
            ],
            "text/plain": [
              "   loan_id                                            lenders\n",
              "0   483693  muc888, sam4326, camaran3922, lachheb1865, reb...\n",
              "1   483738  muc888, nora3555, williammanashi, barbara5610,...\n",
              "2   485000  muc888, terrystl, richardandsusan8352, sherri4...\n",
              "3   486087  muc888, james5068, rudi5955, daniel9859, don92...\n",
              "4   534428  muc888, niki3008, teresa9174, mike4896, david7..."
            ]
          },
          "metadata": {
            "tags": []
          },
          "execution_count": 5
        }
      ]
    },
    {
      "cell_type": "code",
      "metadata": {
        "id": "RxeJOvtKHC1t",
        "colab_type": "code",
        "colab": {}
      },
      "source": [
        "#loans_lender['lengthOriginal']=loans_lender.apply(lambda x: len(x['lenders']),axis=1)"
      ],
      "execution_count": 0,
      "outputs": []
    },
    {
      "cell_type": "code",
      "metadata": {
        "id": "qeZeYsGHBUup",
        "colab_type": "code",
        "colab": {}
      },
      "source": [
        "loans_lender[\"lenders\"]=loans_lender[\"lenders\"].str.split(', ') #creazione lista per ogni riga\n",
        "loans_lender_norm=loans_lender.explode('lenders')"
      ],
      "execution_count": 0,
      "outputs": []
    },
    {
      "cell_type": "code",
      "metadata": {
        "id": "MtSNgzYSqk5o",
        "colab_type": "code",
        "outputId": "5fb584b0-49d6-4310-c5fa-367aedccffa6",
        "colab": {
          "base_uri": "https://localhost:8080/",
          "height": 343
        }
      },
      "source": [
        "loans_lender_norm.head(10)"
      ],
      "execution_count": 8,
      "outputs": [
        {
          "output_type": "execute_result",
          "data": {
            "text/html": [
              "<div>\n",
              "<style scoped>\n",
              "    .dataframe tbody tr th:only-of-type {\n",
              "        vertical-align: middle;\n",
              "    }\n",
              "\n",
              "    .dataframe tbody tr th {\n",
              "        vertical-align: top;\n",
              "    }\n",
              "\n",
              "    .dataframe thead th {\n",
              "        text-align: right;\n",
              "    }\n",
              "</style>\n",
              "<table border=\"1\" class=\"dataframe\">\n",
              "  <thead>\n",
              "    <tr style=\"text-align: right;\">\n",
              "      <th></th>\n",
              "      <th>loan_id</th>\n",
              "      <th>lenders</th>\n",
              "    </tr>\n",
              "  </thead>\n",
              "  <tbody>\n",
              "    <tr>\n",
              "      <th>0</th>\n",
              "      <td>483693</td>\n",
              "      <td>muc888</td>\n",
              "    </tr>\n",
              "    <tr>\n",
              "      <th>0</th>\n",
              "      <td>483693</td>\n",
              "      <td>sam4326</td>\n",
              "    </tr>\n",
              "    <tr>\n",
              "      <th>0</th>\n",
              "      <td>483693</td>\n",
              "      <td>camaran3922</td>\n",
              "    </tr>\n",
              "    <tr>\n",
              "      <th>0</th>\n",
              "      <td>483693</td>\n",
              "      <td>lachheb1865</td>\n",
              "    </tr>\n",
              "    <tr>\n",
              "      <th>0</th>\n",
              "      <td>483693</td>\n",
              "      <td>rebecca3499</td>\n",
              "    </tr>\n",
              "    <tr>\n",
              "      <th>0</th>\n",
              "      <td>483693</td>\n",
              "      <td>karlheinz4543</td>\n",
              "    </tr>\n",
              "    <tr>\n",
              "      <th>0</th>\n",
              "      <td>483693</td>\n",
              "      <td>jerrydb</td>\n",
              "    </tr>\n",
              "    <tr>\n",
              "      <th>0</th>\n",
              "      <td>483693</td>\n",
              "      <td>paula8951</td>\n",
              "    </tr>\n",
              "    <tr>\n",
              "      <th>0</th>\n",
              "      <td>483693</td>\n",
              "      <td>gmct</td>\n",
              "    </tr>\n",
              "    <tr>\n",
              "      <th>0</th>\n",
              "      <td>483693</td>\n",
              "      <td>amra9383</td>\n",
              "    </tr>\n",
              "  </tbody>\n",
              "</table>\n",
              "</div>"
            ],
            "text/plain": [
              "   loan_id        lenders\n",
              "0   483693         muc888\n",
              "0   483693        sam4326\n",
              "0   483693    camaran3922\n",
              "0   483693    lachheb1865\n",
              "0   483693    rebecca3499\n",
              "0   483693  karlheinz4543\n",
              "0   483693        jerrydb\n",
              "0   483693      paula8951\n",
              "0   483693           gmct\n",
              "0   483693       amra9383"
            ]
          },
          "metadata": {
            "tags": []
          },
          "execution_count": 8
        }
      ]
    },
    {
      "cell_type": "markdown",
      "metadata": {
        "id": "APH26ZJ3D5l-",
        "colab_type": "text"
      },
      "source": [
        "### Result"
      ]
    },
    {
      "cell_type": "code",
      "metadata": {
        "id": "RrsCO8-mCJmi",
        "colab_type": "code",
        "outputId": "db2b8b9a-7bdc-4457-ebcc-4114fe1a3281",
        "colab": {
          "base_uri": "https://localhost:8080/",
          "height": 195
        }
      },
      "source": [
        "loans_lender_norm=loans_lender_norm.reset_index(drop=True)\n",
        "loans_lender_norm.head()"
      ],
      "execution_count": 9,
      "outputs": [
        {
          "output_type": "execute_result",
          "data": {
            "text/html": [
              "<div>\n",
              "<style scoped>\n",
              "    .dataframe tbody tr th:only-of-type {\n",
              "        vertical-align: middle;\n",
              "    }\n",
              "\n",
              "    .dataframe tbody tr th {\n",
              "        vertical-align: top;\n",
              "    }\n",
              "\n",
              "    .dataframe thead th {\n",
              "        text-align: right;\n",
              "    }\n",
              "</style>\n",
              "<table border=\"1\" class=\"dataframe\">\n",
              "  <thead>\n",
              "    <tr style=\"text-align: right;\">\n",
              "      <th></th>\n",
              "      <th>loan_id</th>\n",
              "      <th>lenders</th>\n",
              "    </tr>\n",
              "  </thead>\n",
              "  <tbody>\n",
              "    <tr>\n",
              "      <th>0</th>\n",
              "      <td>483693</td>\n",
              "      <td>muc888</td>\n",
              "    </tr>\n",
              "    <tr>\n",
              "      <th>1</th>\n",
              "      <td>483693</td>\n",
              "      <td>sam4326</td>\n",
              "    </tr>\n",
              "    <tr>\n",
              "      <th>2</th>\n",
              "      <td>483693</td>\n",
              "      <td>camaran3922</td>\n",
              "    </tr>\n",
              "    <tr>\n",
              "      <th>3</th>\n",
              "      <td>483693</td>\n",
              "      <td>lachheb1865</td>\n",
              "    </tr>\n",
              "    <tr>\n",
              "      <th>4</th>\n",
              "      <td>483693</td>\n",
              "      <td>rebecca3499</td>\n",
              "    </tr>\n",
              "  </tbody>\n",
              "</table>\n",
              "</div>"
            ],
            "text/plain": [
              "   loan_id      lenders\n",
              "0   483693       muc888\n",
              "1   483693      sam4326\n",
              "2   483693  camaran3922\n",
              "3   483693  lachheb1865\n",
              "4   483693  rebecca3499"
            ]
          },
          "metadata": {
            "tags": []
          },
          "execution_count": 9
        }
      ]
    },
    {
      "cell_type": "markdown",
      "metadata": {
        "id": "YZbRGXk2DZKq",
        "colab_type": "text"
      },
      "source": [
        "## Task2\n",
        "- For each loan, add a column duration corresponding to the number of days between the disburse time and the planned expiration time"
      ]
    },
    {
      "cell_type": "markdown",
      "metadata": {
        "id": "8hizSkn5LXfV",
        "colab_type": "text"
      },
      "source": [
        "### Load csv (loans)"
      ]
    },
    {
      "cell_type": "code",
      "metadata": {
        "id": "wOJrqF4kDc-U",
        "colab_type": "code",
        "colab": {}
      },
      "source": [
        "loan = pd.read_csv('/content/drive/My Drive/Foundation of computer science/additional-kiva-snapshot/loans.csv')"
      ],
      "execution_count": 0,
      "outputs": []
    },
    {
      "cell_type": "code",
      "metadata": {
        "id": "nxlPKclPFppe",
        "colab_type": "code",
        "outputId": "acab2499-e3f0-4906-b77e-0bd83ce88f4e",
        "colab": {
          "base_uri": "https://localhost:8080/",
          "height": 568
        }
      },
      "source": [
        "loan.head()"
      ],
      "execution_count": 11,
      "outputs": [
        {
          "output_type": "execute_result",
          "data": {
            "text/html": [
              "<div>\n",
              "<style scoped>\n",
              "    .dataframe tbody tr th:only-of-type {\n",
              "        vertical-align: middle;\n",
              "    }\n",
              "\n",
              "    .dataframe tbody tr th {\n",
              "        vertical-align: top;\n",
              "    }\n",
              "\n",
              "    .dataframe thead th {\n",
              "        text-align: right;\n",
              "    }\n",
              "</style>\n",
              "<table border=\"1\" class=\"dataframe\">\n",
              "  <thead>\n",
              "    <tr style=\"text-align: right;\">\n",
              "      <th></th>\n",
              "      <th>loan_id</th>\n",
              "      <th>loan_name</th>\n",
              "      <th>original_language</th>\n",
              "      <th>description</th>\n",
              "      <th>description_translated</th>\n",
              "      <th>funded_amount</th>\n",
              "      <th>loan_amount</th>\n",
              "      <th>status</th>\n",
              "      <th>activity_name</th>\n",
              "      <th>sector_name</th>\n",
              "      <th>loan_use</th>\n",
              "      <th>country_code</th>\n",
              "      <th>country_name</th>\n",
              "      <th>town_name</th>\n",
              "      <th>currency_policy</th>\n",
              "      <th>currency_exchange_coverage_rate</th>\n",
              "      <th>currency</th>\n",
              "      <th>partner_id</th>\n",
              "      <th>posted_time</th>\n",
              "      <th>planned_expiration_time</th>\n",
              "      <th>disburse_time</th>\n",
              "      <th>raised_time</th>\n",
              "      <th>lender_term</th>\n",
              "      <th>num_lenders_total</th>\n",
              "      <th>num_journal_entries</th>\n",
              "      <th>num_bulk_entries</th>\n",
              "      <th>tags</th>\n",
              "      <th>borrower_genders</th>\n",
              "      <th>borrower_pictured</th>\n",
              "      <th>repayment_interval</th>\n",
              "      <th>distribution_model</th>\n",
              "    </tr>\n",
              "  </thead>\n",
              "  <tbody>\n",
              "    <tr>\n",
              "      <th>0</th>\n",
              "      <td>657307</td>\n",
              "      <td>Aivy</td>\n",
              "      <td>English</td>\n",
              "      <td>Aivy, 21 years of age, is single and lives in ...</td>\n",
              "      <td>NaN</td>\n",
              "      <td>125.0</td>\n",
              "      <td>125.0</td>\n",
              "      <td>funded</td>\n",
              "      <td>General Store</td>\n",
              "      <td>Retail</td>\n",
              "      <td>to buy additional inventories for her sari-sa...</td>\n",
              "      <td>PH</td>\n",
              "      <td>Philippines</td>\n",
              "      <td>Ozamiz - Ozamiz City</td>\n",
              "      <td>shared</td>\n",
              "      <td>0.1</td>\n",
              "      <td>PHP</td>\n",
              "      <td>126.0</td>\n",
              "      <td>2014-01-15 02:23:45.000 +0000</td>\n",
              "      <td>2014-02-14 03:30:06.000 +0000</td>\n",
              "      <td>2013-12-22 08:00:00.000 +0000</td>\n",
              "      <td>2014-01-15 04:48:22.000 +0000</td>\n",
              "      <td>7.0</td>\n",
              "      <td>3</td>\n",
              "      <td>2</td>\n",
              "      <td>1</td>\n",
              "      <td>NaN</td>\n",
              "      <td>female</td>\n",
              "      <td>true</td>\n",
              "      <td>irregular</td>\n",
              "      <td>field_partner</td>\n",
              "    </tr>\n",
              "    <tr>\n",
              "      <th>1</th>\n",
              "      <td>657259</td>\n",
              "      <td>Idalia Marizza</td>\n",
              "      <td>Spanish</td>\n",
              "      <td>Doña Idalia, esta casada, tiene 57 años de eda...</td>\n",
              "      <td>Idalia, 57, is married and lives with her husb...</td>\n",
              "      <td>400.0</td>\n",
              "      <td>400.0</td>\n",
              "      <td>funded</td>\n",
              "      <td>Used Clothing</td>\n",
              "      <td>Clothing</td>\n",
              "      <td>To buy American clothing such as blouses, shir...</td>\n",
              "      <td>HN</td>\n",
              "      <td>Honduras</td>\n",
              "      <td>La Lopez, Choloma</td>\n",
              "      <td>shared</td>\n",
              "      <td>0.1</td>\n",
              "      <td>HNL</td>\n",
              "      <td>201.0</td>\n",
              "      <td>2014-01-14 20:23:20.000 +0000</td>\n",
              "      <td>2014-03-26 22:25:07.000 +0000</td>\n",
              "      <td>2013-12-20 08:00:00.000 +0000</td>\n",
              "      <td>2014-02-25 06:42:06.000 +0000</td>\n",
              "      <td>8.0</td>\n",
              "      <td>11</td>\n",
              "      <td>2</td>\n",
              "      <td>1</td>\n",
              "      <td>NaN</td>\n",
              "      <td>female</td>\n",
              "      <td>true</td>\n",
              "      <td>monthly</td>\n",
              "      <td>field_partner</td>\n",
              "    </tr>\n",
              "    <tr>\n",
              "      <th>2</th>\n",
              "      <td>658010</td>\n",
              "      <td>Aasia</td>\n",
              "      <td>English</td>\n",
              "      <td>Aasia is a 45-year-old married lady and she ha...</td>\n",
              "      <td>NaN</td>\n",
              "      <td>400.0</td>\n",
              "      <td>400.0</td>\n",
              "      <td>funded</td>\n",
              "      <td>General Store</td>\n",
              "      <td>Retail</td>\n",
              "      <td>to buy stock of rice, sugar and flour</td>\n",
              "      <td>PK</td>\n",
              "      <td>Pakistan</td>\n",
              "      <td>Lala Musa</td>\n",
              "      <td>shared</td>\n",
              "      <td>0.1</td>\n",
              "      <td>PKR</td>\n",
              "      <td>245.0</td>\n",
              "      <td>2014-01-16 11:32:58.000 +0000</td>\n",
              "      <td>2014-02-15 21:10:05.000 +0000</td>\n",
              "      <td>2014-01-09 08:00:00.000 +0000</td>\n",
              "      <td>2014-01-24 23:06:18.000 +0000</td>\n",
              "      <td>14.0</td>\n",
              "      <td>16</td>\n",
              "      <td>2</td>\n",
              "      <td>1</td>\n",
              "      <td>#Woman Owned Biz, #Supporting Family, user_fav...</td>\n",
              "      <td>female</td>\n",
              "      <td>true</td>\n",
              "      <td>monthly</td>\n",
              "      <td>field_partner</td>\n",
              "    </tr>\n",
              "    <tr>\n",
              "      <th>3</th>\n",
              "      <td>659347</td>\n",
              "      <td>Gulmira</td>\n",
              "      <td>Russian</td>\n",
              "      <td>Гулмире 36 лет, замужем, вместе с супругом вос...</td>\n",
              "      <td>Gulmira is 36 years old and married.  She and ...</td>\n",
              "      <td>625.0</td>\n",
              "      <td>625.0</td>\n",
              "      <td>funded</td>\n",
              "      <td>Farming</td>\n",
              "      <td>Agriculture</td>\n",
              "      <td>to buy cucumber and tomato seeds, as well as f...</td>\n",
              "      <td>KG</td>\n",
              "      <td>Kyrgyzstan</td>\n",
              "      <td>Aravan village, Osh region</td>\n",
              "      <td>shared</td>\n",
              "      <td>0.1</td>\n",
              "      <td>KGS</td>\n",
              "      <td>171.0</td>\n",
              "      <td>2014-01-20 09:59:48.000 +0000</td>\n",
              "      <td>2014-02-21 03:10:02.000 +0000</td>\n",
              "      <td>2014-01-17 08:00:00.000 +0000</td>\n",
              "      <td>2014-01-22 05:29:28.000 +0000</td>\n",
              "      <td>14.0</td>\n",
              "      <td>21</td>\n",
              "      <td>2</td>\n",
              "      <td>1</td>\n",
              "      <td>user_favorite</td>\n",
              "      <td>female</td>\n",
              "      <td>true</td>\n",
              "      <td>monthly</td>\n",
              "      <td>field_partner</td>\n",
              "    </tr>\n",
              "    <tr>\n",
              "      <th>4</th>\n",
              "      <td>656933</td>\n",
              "      <td>Ricky\\t</td>\n",
              "      <td>English</td>\n",
              "      <td>Ricky is a farmer who currently cultivates his...</td>\n",
              "      <td>NaN</td>\n",
              "      <td>425.0</td>\n",
              "      <td>425.0</td>\n",
              "      <td>funded</td>\n",
              "      <td>Farming</td>\n",
              "      <td>Agriculture</td>\n",
              "      <td>to buy organic fertilizer and agrochemical pr...</td>\n",
              "      <td>PH</td>\n",
              "      <td>Philippines</td>\n",
              "      <td>Baleleng, Sto. Thomas, Isabela</td>\n",
              "      <td>shared</td>\n",
              "      <td>0.1</td>\n",
              "      <td>PHP</td>\n",
              "      <td>123.0</td>\n",
              "      <td>2014-01-14 05:46:21.000 +0000</td>\n",
              "      <td>2014-02-13 06:10:02.000 +0000</td>\n",
              "      <td>2013-12-17 08:00:00.000 +0000</td>\n",
              "      <td>2014-01-14 17:29:27.000 +0000</td>\n",
              "      <td>7.0</td>\n",
              "      <td>15</td>\n",
              "      <td>2</td>\n",
              "      <td>1</td>\n",
              "      <td>#Animals, #Eco-friendly, #Sustainable Ag</td>\n",
              "      <td>male</td>\n",
              "      <td>true</td>\n",
              "      <td>bullet</td>\n",
              "      <td>field_partner</td>\n",
              "    </tr>\n",
              "  </tbody>\n",
              "</table>\n",
              "</div>"
            ],
            "text/plain": [
              "   loan_id       loan_name  ... repayment_interval distribution_model\n",
              "0   657307            Aivy  ...          irregular      field_partner\n",
              "1   657259  Idalia Marizza  ...            monthly      field_partner\n",
              "2   658010           Aasia  ...            monthly      field_partner\n",
              "3   659347         Gulmira  ...            monthly      field_partner\n",
              "4   656933         Ricky\\t  ...             bullet      field_partner\n",
              "\n",
              "[5 rows x 31 columns]"
            ]
          },
          "metadata": {
            "tags": []
          },
          "execution_count": 11
        }
      ]
    },
    {
      "cell_type": "markdown",
      "metadata": {
        "id": "J-5FlPjEooYP",
        "colab_type": "text"
      },
      "source": [
        "### Check missing values"
      ]
    },
    {
      "cell_type": "code",
      "metadata": {
        "id": "cZCHUpNRarl2",
        "colab_type": "code",
        "colab": {}
      },
      "source": [
        "missing_loan = pd.isnull(loan[[\"planned_expiration_time\"]])"
      ],
      "execution_count": 0,
      "outputs": []
    },
    {
      "cell_type": "code",
      "metadata": {
        "id": "luFBF6vxnuom",
        "colab_type": "code",
        "outputId": "2d34267a-9179-4577-bd23-b8d62f3141e1",
        "colab": {
          "base_uri": "https://localhost:8080/",
          "height": 225
        }
      },
      "source": [
        "loan.loc[64:69][[\"planned_expiration_time\",\"disburse_time\"]]"
      ],
      "execution_count": 13,
      "outputs": [
        {
          "output_type": "execute_result",
          "data": {
            "text/html": [
              "<div>\n",
              "<style scoped>\n",
              "    .dataframe tbody tr th:only-of-type {\n",
              "        vertical-align: middle;\n",
              "    }\n",
              "\n",
              "    .dataframe tbody tr th {\n",
              "        vertical-align: top;\n",
              "    }\n",
              "\n",
              "    .dataframe thead th {\n",
              "        text-align: right;\n",
              "    }\n",
              "</style>\n",
              "<table border=\"1\" class=\"dataframe\">\n",
              "  <thead>\n",
              "    <tr style=\"text-align: right;\">\n",
              "      <th></th>\n",
              "      <th>planned_expiration_time</th>\n",
              "      <th>disburse_time</th>\n",
              "    </tr>\n",
              "  </thead>\n",
              "  <tbody>\n",
              "    <tr>\n",
              "      <th>64</th>\n",
              "      <td>NaN</td>\n",
              "      <td>2010-11-18 08:00:00.000 +0000</td>\n",
              "    </tr>\n",
              "    <tr>\n",
              "      <th>65</th>\n",
              "      <td>NaN</td>\n",
              "      <td>2010-11-25 08:00:00.000 +0000</td>\n",
              "    </tr>\n",
              "    <tr>\n",
              "      <th>66</th>\n",
              "      <td>NaN</td>\n",
              "      <td>2010-11-25 08:00:00.000 +0000</td>\n",
              "    </tr>\n",
              "    <tr>\n",
              "      <th>67</th>\n",
              "      <td>NaN</td>\n",
              "      <td>2010-11-16 08:00:00.000 +0000</td>\n",
              "    </tr>\n",
              "    <tr>\n",
              "      <th>68</th>\n",
              "      <td>2016-11-03 06:10:05.000 +0000</td>\n",
              "      <td>2016-09-07 07:00:00.000 +0000</td>\n",
              "    </tr>\n",
              "    <tr>\n",
              "      <th>69</th>\n",
              "      <td>NaN</td>\n",
              "      <td>2010-11-10 08:00:00.000 +0000</td>\n",
              "    </tr>\n",
              "  </tbody>\n",
              "</table>\n",
              "</div>"
            ],
            "text/plain": [
              "          planned_expiration_time                  disburse_time\n",
              "64                            NaN  2010-11-18 08:00:00.000 +0000\n",
              "65                            NaN  2010-11-25 08:00:00.000 +0000\n",
              "66                            NaN  2010-11-25 08:00:00.000 +0000\n",
              "67                            NaN  2010-11-16 08:00:00.000 +0000\n",
              "68  2016-11-03 06:10:05.000 +0000  2016-09-07 07:00:00.000 +0000\n",
              "69                            NaN  2010-11-10 08:00:00.000 +0000"
            ]
          },
          "metadata": {
            "tags": []
          },
          "execution_count": 13
        }
      ]
    },
    {
      "cell_type": "code",
      "metadata": {
        "id": "DMRls-drrNEq",
        "colab_type": "code",
        "outputId": "10e7520f-38d5-4764-ccff-45a966f43dbd",
        "colab": {
          "base_uri": "https://localhost:8080/",
          "height": 34
        }
      },
      "source": [
        "type(loan.loc[67][[\"planned_expiration_time\"]][0]), type(loan.loc[68][[\"planned_expiration_time\"]][0])"
      ],
      "execution_count": 14,
      "outputs": [
        {
          "output_type": "execute_result",
          "data": {
            "text/plain": [
              "(float, str)"
            ]
          },
          "metadata": {
            "tags": []
          },
          "execution_count": 14
        }
      ]
    },
    {
      "cell_type": "markdown",
      "metadata": {
        "id": "VCwDEftFpehQ",
        "colab_type": "text"
      },
      "source": [
        "### Conversion attribute 'planned_expiration_time', 'disburse_time' to string"
      ]
    },
    {
      "cell_type": "code",
      "metadata": {
        "id": "0ynwYCBEpeBH",
        "colab_type": "code",
        "colab": {}
      },
      "source": [
        "loan[\"planned_expiration_time\"] = loan.apply(lambda x: str(x[\"planned_expiration_time\"]),axis=1) #each row (value is float)\n",
        "loan[\"disburse_time\"] = loan.apply(lambda x: str(x[\"disburse_time\"]),axis=1)"
      ],
      "execution_count": 0,
      "outputs": []
    },
    {
      "cell_type": "code",
      "metadata": {
        "id": "3iXXtRyf8ciq",
        "colab_type": "code",
        "outputId": "c9320985-36b0-4d47-83c4-e11048311ddb",
        "colab": {
          "base_uri": "https://localhost:8080/",
          "height": 34
        }
      },
      "source": [
        "loan.loc[68][\"disburse_time\"]"
      ],
      "execution_count": 16,
      "outputs": [
        {
          "output_type": "execute_result",
          "data": {
            "text/plain": [
              "'2016-09-07 07:00:00.000 +0000'"
            ]
          },
          "metadata": {
            "tags": []
          },
          "execution_count": 16
        }
      ]
    },
    {
      "cell_type": "code",
      "metadata": {
        "id": "aMHD5LxYML_B",
        "colab_type": "code",
        "colab": {}
      },
      "source": [
        "def difference_dates(date1,date2):\n",
        "  if (date1==\"nan\" or date2==\"nan\"):\n",
        "    return(np.nan) #float\n",
        "  date1 = date1[:-10] #delete part +0000\n",
        "  date1 = datetime.strptime(date1,\"%Y-%m-%d %H:%M:%S\")\n",
        "  date2 = date2[:-10]\n",
        "  date2 = datetime.strptime(date2,\"%Y-%m-%d %H:%M:%S\")\n",
        "  diff = (date1 - date2).days\n",
        "  return(diff)"
      ],
      "execution_count": 0,
      "outputs": []
    },
    {
      "cell_type": "code",
      "metadata": {
        "id": "EU_WyLDsTGpx",
        "colab_type": "code",
        "colab": {}
      },
      "source": [
        "loan[\"duration\"] = loan.apply(lambda x: difference_dates(x[\"planned_expiration_time\"],x[\"disburse_time\"]),axis=1)"
      ],
      "execution_count": 0,
      "outputs": []
    },
    {
      "cell_type": "code",
      "metadata": {
        "id": "CcwvUAWaXPzV",
        "colab_type": "code",
        "outputId": "c6351c72-1431-413a-a599-879cf301aa73",
        "colab": {
          "base_uri": "https://localhost:8080/",
          "height": 34
        }
      },
      "source": [
        "zeroDuration = loan[loan[\"duration\"]==0][[\"planned_expiration_time\",\"disburse_time\",\"duration\"]]\n",
        "len(zeroDuration)"
      ],
      "execution_count": 19,
      "outputs": [
        {
          "output_type": "execute_result",
          "data": {
            "text/plain": [
              "772"
            ]
          },
          "metadata": {
            "tags": []
          },
          "execution_count": 19
        }
      ]
    },
    {
      "cell_type": "markdown",
      "metadata": {
        "id": "v1E4esXdQzYj",
        "colab_type": "text"
      },
      "source": [
        "### Result"
      ]
    },
    {
      "cell_type": "code",
      "metadata": {
        "id": "ksaM8dHyycQk",
        "colab_type": "code",
        "outputId": "45bdf3d6-9f0d-4b57-8137-6f683a48e2cf",
        "colab": {
          "base_uri": "https://localhost:8080/",
          "height": 195
        }
      },
      "source": [
        "loan.head()[[\"planned_expiration_time\",\"disburse_time\",\"duration\"]]"
      ],
      "execution_count": 20,
      "outputs": [
        {
          "output_type": "execute_result",
          "data": {
            "text/html": [
              "<div>\n",
              "<style scoped>\n",
              "    .dataframe tbody tr th:only-of-type {\n",
              "        vertical-align: middle;\n",
              "    }\n",
              "\n",
              "    .dataframe tbody tr th {\n",
              "        vertical-align: top;\n",
              "    }\n",
              "\n",
              "    .dataframe thead th {\n",
              "        text-align: right;\n",
              "    }\n",
              "</style>\n",
              "<table border=\"1\" class=\"dataframe\">\n",
              "  <thead>\n",
              "    <tr style=\"text-align: right;\">\n",
              "      <th></th>\n",
              "      <th>planned_expiration_time</th>\n",
              "      <th>disburse_time</th>\n",
              "      <th>duration</th>\n",
              "    </tr>\n",
              "  </thead>\n",
              "  <tbody>\n",
              "    <tr>\n",
              "      <th>0</th>\n",
              "      <td>2014-02-14 03:30:06.000 +0000</td>\n",
              "      <td>2013-12-22 08:00:00.000 +0000</td>\n",
              "      <td>53.0</td>\n",
              "    </tr>\n",
              "    <tr>\n",
              "      <th>1</th>\n",
              "      <td>2014-03-26 22:25:07.000 +0000</td>\n",
              "      <td>2013-12-20 08:00:00.000 +0000</td>\n",
              "      <td>96.0</td>\n",
              "    </tr>\n",
              "    <tr>\n",
              "      <th>2</th>\n",
              "      <td>2014-02-15 21:10:05.000 +0000</td>\n",
              "      <td>2014-01-09 08:00:00.000 +0000</td>\n",
              "      <td>37.0</td>\n",
              "    </tr>\n",
              "    <tr>\n",
              "      <th>3</th>\n",
              "      <td>2014-02-21 03:10:02.000 +0000</td>\n",
              "      <td>2014-01-17 08:00:00.000 +0000</td>\n",
              "      <td>34.0</td>\n",
              "    </tr>\n",
              "    <tr>\n",
              "      <th>4</th>\n",
              "      <td>2014-02-13 06:10:02.000 +0000</td>\n",
              "      <td>2013-12-17 08:00:00.000 +0000</td>\n",
              "      <td>57.0</td>\n",
              "    </tr>\n",
              "  </tbody>\n",
              "</table>\n",
              "</div>"
            ],
            "text/plain": [
              "         planned_expiration_time                  disburse_time  duration\n",
              "0  2014-02-14 03:30:06.000 +0000  2013-12-22 08:00:00.000 +0000      53.0\n",
              "1  2014-03-26 22:25:07.000 +0000  2013-12-20 08:00:00.000 +0000      96.0\n",
              "2  2014-02-15 21:10:05.000 +0000  2014-01-09 08:00:00.000 +0000      37.0\n",
              "3  2014-02-21 03:10:02.000 +0000  2014-01-17 08:00:00.000 +0000      34.0\n",
              "4  2014-02-13 06:10:02.000 +0000  2013-12-17 08:00:00.000 +0000      57.0"
            ]
          },
          "metadata": {
            "tags": []
          },
          "execution_count": 20
        }
      ]
    },
    {
      "cell_type": "markdown",
      "metadata": {
        "id": "eo2kVaCZKR_g",
        "colab_type": "text"
      },
      "source": [
        "## Task 3\n",
        "- Find the lenders that have funded at least twice"
      ]
    },
    {
      "cell_type": "code",
      "metadata": {
        "id": "qtnMpA9s_VKR",
        "colab_type": "code",
        "outputId": "00712686-913f-4e20-dd5e-74ba8a2be7eb",
        "colab": {
          "base_uri": "https://localhost:8080/",
          "height": 34
        }
      },
      "source": [
        "loan['status'].unique()"
      ],
      "execution_count": 21,
      "outputs": [
        {
          "output_type": "execute_result",
          "data": {
            "text/plain": [
              "array(['funded', 'expired', 'refunded', 'fundRaising'], dtype=object)"
            ]
          },
          "metadata": {
            "tags": []
          },
          "execution_count": 21
        }
      ]
    },
    {
      "cell_type": "code",
      "metadata": {
        "id": "ymNALeYaHDbC",
        "colab_type": "code",
        "colab": {}
      },
      "source": [
        "fundedLoan=loan[['loan_id','status']]"
      ],
      "execution_count": 0,
      "outputs": []
    },
    {
      "cell_type": "code",
      "metadata": {
        "id": "-odsXDLHznWt",
        "colab_type": "code",
        "outputId": "067316f1-e312-4c94-a5d7-2f3ba4b42b6b",
        "colab": {
          "base_uri": "https://localhost:8080/",
          "height": 195
        }
      },
      "source": [
        "lenders_funded = pd.merge(loans_lender_norm,fundedLoan,how=\"inner\",on=\"loan_id\")\n",
        "lenders_funded.head()"
      ],
      "execution_count": 23,
      "outputs": [
        {
          "output_type": "execute_result",
          "data": {
            "text/html": [
              "<div>\n",
              "<style scoped>\n",
              "    .dataframe tbody tr th:only-of-type {\n",
              "        vertical-align: middle;\n",
              "    }\n",
              "\n",
              "    .dataframe tbody tr th {\n",
              "        vertical-align: top;\n",
              "    }\n",
              "\n",
              "    .dataframe thead th {\n",
              "        text-align: right;\n",
              "    }\n",
              "</style>\n",
              "<table border=\"1\" class=\"dataframe\">\n",
              "  <thead>\n",
              "    <tr style=\"text-align: right;\">\n",
              "      <th></th>\n",
              "      <th>loan_id</th>\n",
              "      <th>lenders</th>\n",
              "      <th>status</th>\n",
              "    </tr>\n",
              "  </thead>\n",
              "  <tbody>\n",
              "    <tr>\n",
              "      <th>0</th>\n",
              "      <td>483693</td>\n",
              "      <td>muc888</td>\n",
              "      <td>funded</td>\n",
              "    </tr>\n",
              "    <tr>\n",
              "      <th>1</th>\n",
              "      <td>483693</td>\n",
              "      <td>sam4326</td>\n",
              "      <td>funded</td>\n",
              "    </tr>\n",
              "    <tr>\n",
              "      <th>2</th>\n",
              "      <td>483693</td>\n",
              "      <td>camaran3922</td>\n",
              "      <td>funded</td>\n",
              "    </tr>\n",
              "    <tr>\n",
              "      <th>3</th>\n",
              "      <td>483693</td>\n",
              "      <td>lachheb1865</td>\n",
              "      <td>funded</td>\n",
              "    </tr>\n",
              "    <tr>\n",
              "      <th>4</th>\n",
              "      <td>483693</td>\n",
              "      <td>rebecca3499</td>\n",
              "      <td>funded</td>\n",
              "    </tr>\n",
              "  </tbody>\n",
              "</table>\n",
              "</div>"
            ],
            "text/plain": [
              "   loan_id      lenders  status\n",
              "0   483693       muc888  funded\n",
              "1   483693      sam4326  funded\n",
              "2   483693  camaran3922  funded\n",
              "3   483693  lachheb1865  funded\n",
              "4   483693  rebecca3499  funded"
            ]
          },
          "metadata": {
            "tags": []
          },
          "execution_count": 23
        }
      ]
    },
    {
      "cell_type": "code",
      "metadata": {
        "id": "4bPS04EKfGF7",
        "colab_type": "code",
        "colab": {}
      },
      "source": [
        "numberfunded_lenders = lenders_funded.groupby('lenders')['loan_id'].count().reset_index(level=0)\n",
        "numberfunded_lenders.columns=['lenders','count']"
      ],
      "execution_count": 0,
      "outputs": []
    },
    {
      "cell_type": "code",
      "metadata": {
        "id": "KhnFziBZgmIN",
        "colab_type": "code",
        "colab": {}
      },
      "source": [
        "numberfunded_lenders = numberfunded_lenders[numberfunded_lenders['count']>=2]\n",
        "numberfunded_lenders = numberfunded_lenders.sort_values('count',ascending=False)"
      ],
      "execution_count": 0,
      "outputs": []
    },
    {
      "cell_type": "markdown",
      "metadata": {
        "id": "Z9WMYaSl2-gH",
        "colab_type": "text"
      },
      "source": [
        "### Result"
      ]
    },
    {
      "cell_type": "code",
      "metadata": {
        "id": "1tVLRNMGeBnn",
        "colab_type": "code",
        "outputId": "262fec5b-0d73-4eca-f6bb-0fe1a2839e55",
        "colab": {
          "base_uri": "https://localhost:8080/",
          "height": 195
        }
      },
      "source": [
        "numberfunded_lenders.head()"
      ],
      "execution_count": 26,
      "outputs": [
        {
          "output_type": "execute_result",
          "data": {
            "text/html": [
              "<div>\n",
              "<style scoped>\n",
              "    .dataframe tbody tr th:only-of-type {\n",
              "        vertical-align: middle;\n",
              "    }\n",
              "\n",
              "    .dataframe tbody tr th {\n",
              "        vertical-align: top;\n",
              "    }\n",
              "\n",
              "    .dataframe thead th {\n",
              "        text-align: right;\n",
              "    }\n",
              "</style>\n",
              "<table border=\"1\" class=\"dataframe\">\n",
              "  <thead>\n",
              "    <tr style=\"text-align: right;\">\n",
              "      <th></th>\n",
              "      <th>lenders</th>\n",
              "      <th>count</th>\n",
              "    </tr>\n",
              "  </thead>\n",
              "  <tbody>\n",
              "    <tr>\n",
              "      <th>462833</th>\n",
              "      <td>gooddogg1</td>\n",
              "      <td>177645</td>\n",
              "    </tr>\n",
              "    <tr>\n",
              "      <th>1324411</th>\n",
              "      <td>trolltech4460</td>\n",
              "      <td>150762</td>\n",
              "    </tr>\n",
              "    <tr>\n",
              "      <th>462243</th>\n",
              "      <td>gmct</td>\n",
              "      <td>128159</td>\n",
              "    </tr>\n",
              "    <tr>\n",
              "      <th>1008585</th>\n",
              "      <td>nms</td>\n",
              "      <td>104314</td>\n",
              "    </tr>\n",
              "    <tr>\n",
              "      <th>1290437</th>\n",
              "      <td>themissionbeltco</td>\n",
              "      <td>81434</td>\n",
              "    </tr>\n",
              "  </tbody>\n",
              "</table>\n",
              "</div>"
            ],
            "text/plain": [
              "                  lenders   count\n",
              "462833          gooddogg1  177645\n",
              "1324411     trolltech4460  150762\n",
              "462243               gmct  128159\n",
              "1008585               nms  104314\n",
              "1290437  themissionbeltco   81434"
            ]
          },
          "metadata": {
            "tags": []
          },
          "execution_count": 26
        }
      ]
    },
    {
      "cell_type": "markdown",
      "metadata": {
        "id": "3m78erQM3Nj0",
        "colab_type": "text"
      },
      "source": [
        "## Task 4\n",
        "- For each country, compute how many loans have involved that country as borrowers."
      ]
    },
    {
      "cell_type": "code",
      "metadata": {
        "id": "3Cd0yvQO1wZ7",
        "colab_type": "code",
        "outputId": "3a980de1-5dee-4514-c5e4-b9c9b970a5ff",
        "colab": {
          "base_uri": "https://localhost:8080/",
          "height": 402
        }
      },
      "source": [
        "loan[[\"country_name\",\"funded_amount\",\"loan_amount\",\"num_lenders_total\"]]"
      ],
      "execution_count": 27,
      "outputs": [
        {
          "output_type": "execute_result",
          "data": {
            "text/html": [
              "<div>\n",
              "<style scoped>\n",
              "    .dataframe tbody tr th:only-of-type {\n",
              "        vertical-align: middle;\n",
              "    }\n",
              "\n",
              "    .dataframe tbody tr th {\n",
              "        vertical-align: top;\n",
              "    }\n",
              "\n",
              "    .dataframe thead th {\n",
              "        text-align: right;\n",
              "    }\n",
              "</style>\n",
              "<table border=\"1\" class=\"dataframe\">\n",
              "  <thead>\n",
              "    <tr style=\"text-align: right;\">\n",
              "      <th></th>\n",
              "      <th>country_name</th>\n",
              "      <th>funded_amount</th>\n",
              "      <th>loan_amount</th>\n",
              "      <th>num_lenders_total</th>\n",
              "    </tr>\n",
              "  </thead>\n",
              "  <tbody>\n",
              "    <tr>\n",
              "      <th>0</th>\n",
              "      <td>Philippines</td>\n",
              "      <td>125.0</td>\n",
              "      <td>125.0</td>\n",
              "      <td>3</td>\n",
              "    </tr>\n",
              "    <tr>\n",
              "      <th>1</th>\n",
              "      <td>Honduras</td>\n",
              "      <td>400.0</td>\n",
              "      <td>400.0</td>\n",
              "      <td>11</td>\n",
              "    </tr>\n",
              "    <tr>\n",
              "      <th>2</th>\n",
              "      <td>Pakistan</td>\n",
              "      <td>400.0</td>\n",
              "      <td>400.0</td>\n",
              "      <td>16</td>\n",
              "    </tr>\n",
              "    <tr>\n",
              "      <th>3</th>\n",
              "      <td>Kyrgyzstan</td>\n",
              "      <td>625.0</td>\n",
              "      <td>625.0</td>\n",
              "      <td>21</td>\n",
              "    </tr>\n",
              "    <tr>\n",
              "      <th>4</th>\n",
              "      <td>Philippines</td>\n",
              "      <td>425.0</td>\n",
              "      <td>425.0</td>\n",
              "      <td>15</td>\n",
              "    </tr>\n",
              "    <tr>\n",
              "      <th>...</th>\n",
              "      <td>...</td>\n",
              "      <td>...</td>\n",
              "      <td>...</td>\n",
              "      <td>...</td>\n",
              "    </tr>\n",
              "    <tr>\n",
              "      <th>1419602</th>\n",
              "      <td>Kenya</td>\n",
              "      <td>400.0</td>\n",
              "      <td>400.0</td>\n",
              "      <td>16</td>\n",
              "    </tr>\n",
              "    <tr>\n",
              "      <th>1419603</th>\n",
              "      <td>Philippines</td>\n",
              "      <td>300.0</td>\n",
              "      <td>300.0</td>\n",
              "      <td>12</td>\n",
              "    </tr>\n",
              "    <tr>\n",
              "      <th>1419604</th>\n",
              "      <td>Ghana</td>\n",
              "      <td>2425.0</td>\n",
              "      <td>2425.0</td>\n",
              "      <td>76</td>\n",
              "    </tr>\n",
              "    <tr>\n",
              "      <th>1419605</th>\n",
              "      <td>Philippines</td>\n",
              "      <td>100.0</td>\n",
              "      <td>100.0</td>\n",
              "      <td>3</td>\n",
              "    </tr>\n",
              "    <tr>\n",
              "      <th>1419606</th>\n",
              "      <td>Madagascar</td>\n",
              "      <td>175.0</td>\n",
              "      <td>175.0</td>\n",
              "      <td>7</td>\n",
              "    </tr>\n",
              "  </tbody>\n",
              "</table>\n",
              "<p>1419607 rows × 4 columns</p>\n",
              "</div>"
            ],
            "text/plain": [
              "        country_name  funded_amount  loan_amount  num_lenders_total\n",
              "0        Philippines          125.0        125.0                  3\n",
              "1           Honduras          400.0        400.0                 11\n",
              "2           Pakistan          400.0        400.0                 16\n",
              "3         Kyrgyzstan          625.0        625.0                 21\n",
              "4        Philippines          425.0        425.0                 15\n",
              "...              ...            ...          ...                ...\n",
              "1419602        Kenya          400.0        400.0                 16\n",
              "1419603  Philippines          300.0        300.0                 12\n",
              "1419604        Ghana         2425.0       2425.0                 76\n",
              "1419605  Philippines          100.0        100.0                  3\n",
              "1419606   Madagascar          175.0        175.0                  7\n",
              "\n",
              "[1419607 rows x 4 columns]"
            ]
          },
          "metadata": {
            "tags": []
          },
          "execution_count": 27
        }
      ]
    },
    {
      "cell_type": "code",
      "metadata": {
        "id": "1LgJEt8zNtcN",
        "colab_type": "code",
        "outputId": "ed660c82-3725-4e20-a321-44bb2718cd57",
        "colab": {
          "base_uri": "https://localhost:8080/",
          "height": 34
        }
      },
      "source": [
        "loan['status'].unique()"
      ],
      "execution_count": 28,
      "outputs": [
        {
          "output_type": "execute_result",
          "data": {
            "text/plain": [
              "array(['funded', 'expired', 'refunded', 'fundRaising'], dtype=object)"
            ]
          },
          "metadata": {
            "tags": []
          },
          "execution_count": 28
        }
      ]
    },
    {
      "cell_type": "code",
      "metadata": {
        "id": "eML8HtbuKP9s",
        "colab_type": "code",
        "colab": {}
      },
      "source": [
        "funded=loan[loan['status']=='funded'][['loan_id','country_name','status','currency','funded_amount','loan_amount','num_lenders_total']].head(2)\n",
        "expired=loan[loan['status']=='expired'][['loan_id','country_name','status','funded_amount','loan_amount','num_lenders_total']].head(2)\n",
        "refunded=loan[loan['status']=='refunded'][['loan_id','country_name','status','funded_amount','loan_amount','num_lenders_total']].head(2)\n",
        "fundRaising=loan[loan['status']=='fundRaising'][['loan_id','country_name','status','funded_amount','loan_amount','num_lenders_total']].head(2)"
      ],
      "execution_count": 0,
      "outputs": []
    },
    {
      "cell_type": "code",
      "metadata": {
        "id": "AXSjVRVCnE86",
        "colab_type": "code",
        "outputId": "5883935d-f072-4405-8bfb-8190b362f29a",
        "colab": {
          "base_uri": "https://localhost:8080/",
          "height": 171
        }
      },
      "source": [
        "esempio = pd.concat([funded,expired,refunded,fundRaising],axis=0)"
      ],
      "execution_count": 30,
      "outputs": [
        {
          "output_type": "stream",
          "text": [
            "/usr/local/lib/python3.6/dist-packages/ipykernel_launcher.py:1: FutureWarning: Sorting because non-concatenation axis is not aligned. A future version\n",
            "of pandas will change to not sort by default.\n",
            "\n",
            "To accept the future behavior, pass 'sort=False'.\n",
            "\n",
            "To retain the current behavior and silence the warning, pass 'sort=True'.\n",
            "\n",
            "  \"\"\"Entry point for launching an IPython kernel.\n"
          ],
          "name": "stderr"
        }
      ]
    },
    {
      "cell_type": "code",
      "metadata": {
        "id": "Jx_XV7J6z-FO",
        "colab_type": "code",
        "outputId": "0256478f-5b02-42a6-d1e2-308fc4474878",
        "colab": {
          "base_uri": "https://localhost:8080/",
          "height": 284
        }
      },
      "source": [
        "esempio"
      ],
      "execution_count": 31,
      "outputs": [
        {
          "output_type": "execute_result",
          "data": {
            "text/html": [
              "<div>\n",
              "<style scoped>\n",
              "    .dataframe tbody tr th:only-of-type {\n",
              "        vertical-align: middle;\n",
              "    }\n",
              "\n",
              "    .dataframe tbody tr th {\n",
              "        vertical-align: top;\n",
              "    }\n",
              "\n",
              "    .dataframe thead th {\n",
              "        text-align: right;\n",
              "    }\n",
              "</style>\n",
              "<table border=\"1\" class=\"dataframe\">\n",
              "  <thead>\n",
              "    <tr style=\"text-align: right;\">\n",
              "      <th></th>\n",
              "      <th>country_name</th>\n",
              "      <th>currency</th>\n",
              "      <th>funded_amount</th>\n",
              "      <th>loan_amount</th>\n",
              "      <th>loan_id</th>\n",
              "      <th>num_lenders_total</th>\n",
              "      <th>status</th>\n",
              "    </tr>\n",
              "  </thead>\n",
              "  <tbody>\n",
              "    <tr>\n",
              "      <th>0</th>\n",
              "      <td>Philippines</td>\n",
              "      <td>PHP</td>\n",
              "      <td>125.0</td>\n",
              "      <td>125.0</td>\n",
              "      <td>657307</td>\n",
              "      <td>3</td>\n",
              "      <td>funded</td>\n",
              "    </tr>\n",
              "    <tr>\n",
              "      <th>1</th>\n",
              "      <td>Honduras</td>\n",
              "      <td>HNL</td>\n",
              "      <td>400.0</td>\n",
              "      <td>400.0</td>\n",
              "      <td>657259</td>\n",
              "      <td>11</td>\n",
              "      <td>funded</td>\n",
              "    </tr>\n",
              "    <tr>\n",
              "      <th>22</th>\n",
              "      <td>Philippines</td>\n",
              "      <td>NaN</td>\n",
              "      <td>100.0</td>\n",
              "      <td>225.0</td>\n",
              "      <td>957461</td>\n",
              "      <td>4</td>\n",
              "      <td>expired</td>\n",
              "    </tr>\n",
              "    <tr>\n",
              "      <th>25</th>\n",
              "      <td>Philippines</td>\n",
              "      <td>NaN</td>\n",
              "      <td>225.0</td>\n",
              "      <td>300.0</td>\n",
              "      <td>959145</td>\n",
              "      <td>6</td>\n",
              "      <td>expired</td>\n",
              "    </tr>\n",
              "    <tr>\n",
              "      <th>361</th>\n",
              "      <td>Kenya</td>\n",
              "      <td>NaN</td>\n",
              "      <td>0.0</td>\n",
              "      <td>800.0</td>\n",
              "      <td>1158634</td>\n",
              "      <td>0</td>\n",
              "      <td>refunded</td>\n",
              "    </tr>\n",
              "    <tr>\n",
              "      <th>1420</th>\n",
              "      <td>Mexico</td>\n",
              "      <td>NaN</td>\n",
              "      <td>2075.0</td>\n",
              "      <td>2625.0</td>\n",
              "      <td>662566</td>\n",
              "      <td>67</td>\n",
              "      <td>refunded</td>\n",
              "    </tr>\n",
              "    <tr>\n",
              "      <th>5067</th>\n",
              "      <td>Ghana</td>\n",
              "      <td>NaN</td>\n",
              "      <td>0.0</td>\n",
              "      <td>225.0</td>\n",
              "      <td>1444070</td>\n",
              "      <td>0</td>\n",
              "      <td>fundRaising</td>\n",
              "    </tr>\n",
              "    <tr>\n",
              "      <th>16167</th>\n",
              "      <td>Lebanon</td>\n",
              "      <td>NaN</td>\n",
              "      <td>1375.0</td>\n",
              "      <td>2100.0</td>\n",
              "      <td>1431627</td>\n",
              "      <td>53</td>\n",
              "      <td>fundRaising</td>\n",
              "    </tr>\n",
              "  </tbody>\n",
              "</table>\n",
              "</div>"
            ],
            "text/plain": [
              "      country_name currency  ...  num_lenders_total       status\n",
              "0      Philippines      PHP  ...                  3       funded\n",
              "1         Honduras      HNL  ...                 11       funded\n",
              "22     Philippines      NaN  ...                  4      expired\n",
              "25     Philippines      NaN  ...                  6      expired\n",
              "361          Kenya      NaN  ...                  0     refunded\n",
              "1420        Mexico      NaN  ...                 67     refunded\n",
              "5067         Ghana      NaN  ...                  0  fundRaising\n",
              "16167      Lebanon      NaN  ...                 53  fundRaising\n",
              "\n",
              "[8 rows x 7 columns]"
            ]
          },
          "metadata": {
            "tags": []
          },
          "execution_count": 31
        }
      ]
    },
    {
      "cell_type": "code",
      "metadata": {
        "id": "-xC1mStPvYAM",
        "colab_type": "code",
        "outputId": "771e03f8-302b-4d94-9159-372fc05fdc5b",
        "colab": {
          "base_uri": "https://localhost:8080/",
          "height": 34
        }
      },
      "source": [
        "loan[\"status\"].unique()"
      ],
      "execution_count": 32,
      "outputs": [
        {
          "output_type": "execute_result",
          "data": {
            "text/plain": [
              "array(['funded', 'expired', 'refunded', 'fundRaising'], dtype=object)"
            ]
          },
          "metadata": {
            "tags": []
          },
          "execution_count": 32
        }
      ]
    },
    {
      "cell_type": "markdown",
      "metadata": {
        "id": "QfLNnBktD9PZ",
        "colab_type": "text"
      },
      "source": [
        "### Check missing values"
      ]
    },
    {
      "cell_type": "code",
      "metadata": {
        "id": "BFKmfgGp9Ii4",
        "colab_type": "code",
        "outputId": "a12f9997-deb0-437c-e98e-88b8ea21412e",
        "colab": {
          "base_uri": "https://localhost:8080/",
          "height": 47
        }
      },
      "source": [
        "missing = pd.isnull(loan[['country_name']])\n",
        "missing[missing['country_name']==True]"
      ],
      "execution_count": 33,
      "outputs": [
        {
          "output_type": "execute_result",
          "data": {
            "text/html": [
              "<div>\n",
              "<style scoped>\n",
              "    .dataframe tbody tr th:only-of-type {\n",
              "        vertical-align: middle;\n",
              "    }\n",
              "\n",
              "    .dataframe tbody tr th {\n",
              "        vertical-align: top;\n",
              "    }\n",
              "\n",
              "    .dataframe thead th {\n",
              "        text-align: right;\n",
              "    }\n",
              "</style>\n",
              "<table border=\"1\" class=\"dataframe\">\n",
              "  <thead>\n",
              "    <tr style=\"text-align: right;\">\n",
              "      <th></th>\n",
              "      <th>country_name</th>\n",
              "    </tr>\n",
              "  </thead>\n",
              "  <tbody>\n",
              "  </tbody>\n",
              "</table>\n",
              "</div>"
            ],
            "text/plain": [
              "Empty DataFrame\n",
              "Columns: [country_name]\n",
              "Index: []"
            ]
          },
          "metadata": {
            "tags": []
          },
          "execution_count": 33
        }
      ]
    },
    {
      "cell_type": "code",
      "metadata": {
        "id": "TsMVZZZUExNS",
        "colab_type": "code",
        "colab": {}
      },
      "source": [
        "country_numberLoan = loan.groupby('country_name')['status'].count()\n",
        "country_numberLoan = country_numberLoan.sort_values(ascending=False)"
      ],
      "execution_count": 0,
      "outputs": []
    },
    {
      "cell_type": "markdown",
      "metadata": {
        "id": "eRZgY4f0GH_W",
        "colab_type": "text"
      },
      "source": [
        "### Result"
      ]
    },
    {
      "cell_type": "code",
      "metadata": {
        "id": "ziY0RfAbGJOJ",
        "colab_type": "code",
        "outputId": "e59bc95b-f955-4563-8b4e-8d0d81902d19",
        "colab": {
          "base_uri": "https://localhost:8080/",
          "height": 134
        }
      },
      "source": [
        "country_numberLoan.head()"
      ],
      "execution_count": 35,
      "outputs": [
        {
          "output_type": "execute_result",
          "data": {
            "text/plain": [
              "country_name\n",
              "Philippines    285336\n",
              "Kenya          143699\n",
              "Peru            86000\n",
              "Cambodia        79701\n",
              "El Salvador     64037\n",
              "Name: status, dtype: int64"
            ]
          },
          "metadata": {
            "tags": []
          },
          "execution_count": 35
        }
      ]
    },
    {
      "cell_type": "markdown",
      "metadata": {
        "id": "p4fsZmbtT7FR",
        "colab_type": "text"
      },
      "source": [
        "## Task 5\n",
        "- For each country, compute the overall amount of money borrowed."
      ]
    },
    {
      "cell_type": "code",
      "metadata": {
        "id": "bosGUgAIT_wz",
        "colab_type": "code",
        "colab": {}
      },
      "source": [
        "country_amountLoan = loan.groupby('country_name')['funded_amount'].sum()\n",
        "country_amountLoan = country_amountLoan.sort_values(ascending=False)"
      ],
      "execution_count": 0,
      "outputs": []
    },
    {
      "cell_type": "markdown",
      "metadata": {
        "id": "B1-vzEGQWATQ",
        "colab_type": "text"
      },
      "source": [
        "### Result"
      ]
    },
    {
      "cell_type": "code",
      "metadata": {
        "id": "N1YCh4OfWBt3",
        "colab_type": "code",
        "outputId": "50e46582-35f4-4364-b645-039aebea62d0",
        "colab": {
          "base_uri": "https://localhost:8080/",
          "height": 134
        }
      },
      "source": [
        "country_amountLoan.head()"
      ],
      "execution_count": 37,
      "outputs": [
        {
          "output_type": "execute_result",
          "data": {
            "text/plain": [
              "country_name\n",
              "Philippines    97045925.0\n",
              "Peru           78702800.0\n",
              "Kenya          63650255.0\n",
              "Paraguay       53715200.0\n",
              "Cambodia       50829425.0\n",
              "Name: funded_amount, dtype: float64"
            ]
          },
          "metadata": {
            "tags": []
          },
          "execution_count": 37
        }
      ]
    },
    {
      "cell_type": "markdown",
      "metadata": {
        "id": "Kkmag5y2Whhi",
        "colab_type": "text"
      },
      "source": [
        "## Task 6\n",
        "- Like the previous point, but expressed as a percentage of the overall amount lent."
      ]
    },
    {
      "cell_type": "code",
      "metadata": {
        "id": "gjnwWbopn2y1",
        "colab_type": "code",
        "colab": {}
      },
      "source": [
        "country_amountLoan_perc=pd.DataFrame(country_amountLoan).reset_index(level=0)\n",
        "country_amountLoan_perc.columns=['country','total']"
      ],
      "execution_count": 0,
      "outputs": []
    },
    {
      "cell_type": "code",
      "metadata": {
        "id": "3nPeoBh8tk5N",
        "colab_type": "code",
        "outputId": "aa2414ab-732e-454b-b30b-0387c64c50dc",
        "colab": {
          "base_uri": "https://localhost:8080/",
          "height": 34
        }
      },
      "source": [
        "total_lent=country_amountLoan_perc['total'].sum()\n",
        "total_lent"
      ],
      "execution_count": 39,
      "outputs": [
        {
          "output_type": "execute_result",
          "data": {
            "text/plain": [
              "1130185170.0"
            ]
          },
          "metadata": {
            "tags": []
          },
          "execution_count": 39
        }
      ]
    },
    {
      "cell_type": "code",
      "metadata": {
        "id": "M89TfHxStNcI",
        "colab_type": "code",
        "colab": {}
      },
      "source": [
        "country_amountLoan_perc['percentage']=round(country_amountLoan_perc['total']/total_lent*100,2)"
      ],
      "execution_count": 0,
      "outputs": []
    },
    {
      "cell_type": "code",
      "metadata": {
        "id": "wXBYc_EHQve9",
        "colab_type": "code",
        "colab": {}
      },
      "source": [
        "country_amountLoan_perc.columns=['country','borrowed','percentage']"
      ],
      "execution_count": 0,
      "outputs": []
    },
    {
      "cell_type": "markdown",
      "metadata": {
        "id": "xNgVeIqTufQK",
        "colab_type": "text"
      },
      "source": [
        "### Result"
      ]
    },
    {
      "cell_type": "code",
      "metadata": {
        "id": "zyErEw0PugNt",
        "colab_type": "code",
        "outputId": "8a7c1c65-fa74-4aa5-e7ae-4b5a8dc88d3c",
        "colab": {
          "base_uri": "https://localhost:8080/",
          "height": 195
        }
      },
      "source": [
        "country_amountLoan_perc.head()"
      ],
      "execution_count": 120,
      "outputs": [
        {
          "output_type": "execute_result",
          "data": {
            "text/html": [
              "<div>\n",
              "<style scoped>\n",
              "    .dataframe tbody tr th:only-of-type {\n",
              "        vertical-align: middle;\n",
              "    }\n",
              "\n",
              "    .dataframe tbody tr th {\n",
              "        vertical-align: top;\n",
              "    }\n",
              "\n",
              "    .dataframe thead th {\n",
              "        text-align: right;\n",
              "    }\n",
              "</style>\n",
              "<table border=\"1\" class=\"dataframe\">\n",
              "  <thead>\n",
              "    <tr style=\"text-align: right;\">\n",
              "      <th></th>\n",
              "      <th>country</th>\n",
              "      <th>borrowed</th>\n",
              "      <th>percentage</th>\n",
              "    </tr>\n",
              "  </thead>\n",
              "  <tbody>\n",
              "    <tr>\n",
              "      <th>0</th>\n",
              "      <td>Philippines</td>\n",
              "      <td>97045925.0</td>\n",
              "      <td>8.59</td>\n",
              "    </tr>\n",
              "    <tr>\n",
              "      <th>1</th>\n",
              "      <td>Peru</td>\n",
              "      <td>78702800.0</td>\n",
              "      <td>6.96</td>\n",
              "    </tr>\n",
              "    <tr>\n",
              "      <th>2</th>\n",
              "      <td>Kenya</td>\n",
              "      <td>63650255.0</td>\n",
              "      <td>5.63</td>\n",
              "    </tr>\n",
              "    <tr>\n",
              "      <th>3</th>\n",
              "      <td>Paraguay</td>\n",
              "      <td>53715200.0</td>\n",
              "      <td>4.75</td>\n",
              "    </tr>\n",
              "    <tr>\n",
              "      <th>4</th>\n",
              "      <td>Cambodia</td>\n",
              "      <td>50829425.0</td>\n",
              "      <td>4.50</td>\n",
              "    </tr>\n",
              "  </tbody>\n",
              "</table>\n",
              "</div>"
            ],
            "text/plain": [
              "       country    borrowed  percentage\n",
              "0  Philippines  97045925.0        8.59\n",
              "1         Peru  78702800.0        6.96\n",
              "2        Kenya  63650255.0        5.63\n",
              "3     Paraguay  53715200.0        4.75\n",
              "4     Cambodia  50829425.0        4.50"
            ]
          },
          "metadata": {
            "tags": []
          },
          "execution_count": 120
        }
      ]
    },
    {
      "cell_type": "markdown",
      "metadata": {
        "id": "jlNVlX6mGRVt",
        "colab_type": "text"
      },
      "source": [
        "## Task 7\n",
        "- Like the three previous points, but split for each year (with respect to disburse time)."
      ]
    },
    {
      "cell_type": "code",
      "metadata": {
        "id": "5-5164Z1GQ6g",
        "colab_type": "code",
        "colab": {}
      },
      "source": [
        "loanYear = loan[['country_name','disburse_time','funded_amount','loan_amount']]"
      ],
      "execution_count": 0,
      "outputs": []
    },
    {
      "cell_type": "code",
      "metadata": {
        "id": "YsQyPqY3RVCn",
        "colab_type": "code",
        "outputId": "4e0c563a-3f92-4de2-da62-9faaa7b988db",
        "colab": {
          "base_uri": "https://localhost:8080/",
          "height": 47
        }
      },
      "source": [
        "missing = pd.isnull(loanYear[['disburse_time']])\n",
        "missing[missing['disburse_time']==True]"
      ],
      "execution_count": 43,
      "outputs": [
        {
          "output_type": "execute_result",
          "data": {
            "text/html": [
              "<div>\n",
              "<style scoped>\n",
              "    .dataframe tbody tr th:only-of-type {\n",
              "        vertical-align: middle;\n",
              "    }\n",
              "\n",
              "    .dataframe tbody tr th {\n",
              "        vertical-align: top;\n",
              "    }\n",
              "\n",
              "    .dataframe thead th {\n",
              "        text-align: right;\n",
              "    }\n",
              "</style>\n",
              "<table border=\"1\" class=\"dataframe\">\n",
              "  <thead>\n",
              "    <tr style=\"text-align: right;\">\n",
              "      <th></th>\n",
              "      <th>disburse_time</th>\n",
              "    </tr>\n",
              "  </thead>\n",
              "  <tbody>\n",
              "  </tbody>\n",
              "</table>\n",
              "</div>"
            ],
            "text/plain": [
              "Empty DataFrame\n",
              "Columns: [disburse_time]\n",
              "Index: []"
            ]
          },
          "metadata": {
            "tags": []
          },
          "execution_count": 43
        }
      ]
    },
    {
      "cell_type": "code",
      "metadata": {
        "id": "KRIkGPCQS8As",
        "colab_type": "code",
        "outputId": "1cc27a1f-7275-429b-9009-6a9b23d35fd6",
        "colab": {
          "base_uri": "https://localhost:8080/",
          "height": 34
        }
      },
      "source": [
        "len(loanYear[loanYear['disburse_time']==\"nan\"])"
      ],
      "execution_count": 44,
      "outputs": [
        {
          "output_type": "execute_result",
          "data": {
            "text/plain": [
              "2813"
            ]
          },
          "metadata": {
            "tags": []
          },
          "execution_count": 44
        }
      ]
    },
    {
      "cell_type": "code",
      "metadata": {
        "id": "VYix8BrvUH7U",
        "colab_type": "code",
        "colab": {}
      },
      "source": [
        "loanYear = loanYear[loanYear['disburse_time']!='nan']"
      ],
      "execution_count": 0,
      "outputs": []
    },
    {
      "cell_type": "code",
      "metadata": {
        "id": "UamDI5T1YtWv",
        "colab_type": "code",
        "outputId": "8bd229f2-5026-4791-9563-92930d50cf6f",
        "colab": {
          "base_uri": "https://localhost:8080/",
          "height": 67
        }
      },
      "source": [
        "inizio=datetime.now()\n",
        "print(\"Inizio: \"+inizio.strftime(\"%H:%M:%S\"))\n",
        "loanYear['year']=loanYear.apply(lambda x: int(x[\"disburse_time\"].split('-')[0]),axis=1)\n",
        "fine=datetime.now()\n",
        "print(\"Fine: \"+fine.strftime(\"%H:%M:%S\"))\n",
        "diff= fine - inizio\n",
        "diff"
      ],
      "execution_count": 46,
      "outputs": [
        {
          "output_type": "stream",
          "text": [
            "Inizio: 09:01:08\n",
            "Fine: 09:01:25\n"
          ],
          "name": "stdout"
        },
        {
          "output_type": "execute_result",
          "data": {
            "text/plain": [
              "datetime.timedelta(0, 16, 340234)"
            ]
          },
          "metadata": {
            "tags": []
          },
          "execution_count": 46
        }
      ]
    },
    {
      "cell_type": "code",
      "metadata": {
        "id": "DTFUBusEjbwQ",
        "colab_type": "code",
        "colab": {}
      },
      "source": [
        "countryAmount_year=loanYear.groupby(['country_name','year'])['funded_amount'].sum()\n",
        "countryAmount_year = pd.DataFrame(countryAmount_year)"
      ],
      "execution_count": 0,
      "outputs": []
    },
    {
      "cell_type": "markdown",
      "metadata": {
        "id": "ROv1F3vHC84f",
        "colab_type": "text"
      },
      "source": [
        "### Result"
      ]
    },
    {
      "cell_type": "code",
      "metadata": {
        "id": "1jnFa4B3B96x",
        "colab_type": "code",
        "outputId": "342c99da-3753-4f35-e276-885a58f7d991",
        "colab": {
          "base_uri": "https://localhost:8080/",
          "height": 225
        }
      },
      "source": [
        "countryAmount_year.head()"
      ],
      "execution_count": 48,
      "outputs": [
        {
          "output_type": "execute_result",
          "data": {
            "text/html": [
              "<div>\n",
              "<style scoped>\n",
              "    .dataframe tbody tr th:only-of-type {\n",
              "        vertical-align: middle;\n",
              "    }\n",
              "\n",
              "    .dataframe tbody tr th {\n",
              "        vertical-align: top;\n",
              "    }\n",
              "\n",
              "    .dataframe thead th {\n",
              "        text-align: right;\n",
              "    }\n",
              "</style>\n",
              "<table border=\"1\" class=\"dataframe\">\n",
              "  <thead>\n",
              "    <tr style=\"text-align: right;\">\n",
              "      <th></th>\n",
              "      <th></th>\n",
              "      <th>funded_amount</th>\n",
              "    </tr>\n",
              "    <tr>\n",
              "      <th>country_name</th>\n",
              "      <th>year</th>\n",
              "      <th></th>\n",
              "    </tr>\n",
              "  </thead>\n",
              "  <tbody>\n",
              "    <tr>\n",
              "      <th rowspan=\"5\" valign=\"top\">Afghanistan</th>\n",
              "      <th>2007</th>\n",
              "      <td>194975.0</td>\n",
              "    </tr>\n",
              "    <tr>\n",
              "      <th>2008</th>\n",
              "      <td>365375.0</td>\n",
              "    </tr>\n",
              "    <tr>\n",
              "      <th>2009</th>\n",
              "      <td>581825.0</td>\n",
              "    </tr>\n",
              "    <tr>\n",
              "      <th>2010</th>\n",
              "      <td>563350.0</td>\n",
              "    </tr>\n",
              "    <tr>\n",
              "      <th>2011</th>\n",
              "      <td>245125.0</td>\n",
              "    </tr>\n",
              "  </tbody>\n",
              "</table>\n",
              "</div>"
            ],
            "text/plain": [
              "                   funded_amount\n",
              "country_name year               \n",
              "Afghanistan  2007       194975.0\n",
              "             2008       365375.0\n",
              "             2009       581825.0\n",
              "             2010       563350.0\n",
              "             2011       245125.0"
            ]
          },
          "metadata": {
            "tags": []
          },
          "execution_count": 48
        }
      ]
    },
    {
      "cell_type": "markdown",
      "metadata": {
        "id": "9cWj5GvvDNak",
        "colab_type": "text"
      },
      "source": [
        "## Task 8\n",
        "- For each lender, compute the overall amount of money lent. For each loan that has more than one lender, you must assume that all lenders contributed the same amount."
      ]
    },
    {
      "cell_type": "code",
      "metadata": {
        "id": "XUJlYtiAEje7",
        "colab_type": "code",
        "outputId": "69020a15-8277-4207-bb69-2a38254cfe74",
        "colab": {
          "base_uri": "https://localhost:8080/",
          "height": 402
        }
      },
      "source": [
        "numberLoans_lender_norm=loans_lender_norm.groupby('loan_id')['lenders'].count()\n",
        "numberLoans_lender_norm=pd.DataFrame(numberLoans_lender_norm).reset_index(level=0)\n",
        "numberLoans_lender_norm"
      ],
      "execution_count": 49,
      "outputs": [
        {
          "output_type": "execute_result",
          "data": {
            "text/html": [
              "<div>\n",
              "<style scoped>\n",
              "    .dataframe tbody tr th:only-of-type {\n",
              "        vertical-align: middle;\n",
              "    }\n",
              "\n",
              "    .dataframe tbody tr th {\n",
              "        vertical-align: top;\n",
              "    }\n",
              "\n",
              "    .dataframe thead th {\n",
              "        text-align: right;\n",
              "    }\n",
              "</style>\n",
              "<table border=\"1\" class=\"dataframe\">\n",
              "  <thead>\n",
              "    <tr style=\"text-align: right;\">\n",
              "      <th></th>\n",
              "      <th>loan_id</th>\n",
              "      <th>lenders</th>\n",
              "    </tr>\n",
              "  </thead>\n",
              "  <tbody>\n",
              "    <tr>\n",
              "      <th>0</th>\n",
              "      <td>84</td>\n",
              "      <td>3</td>\n",
              "    </tr>\n",
              "    <tr>\n",
              "      <th>1</th>\n",
              "      <td>85</td>\n",
              "      <td>2</td>\n",
              "    </tr>\n",
              "    <tr>\n",
              "      <th>2</th>\n",
              "      <td>86</td>\n",
              "      <td>3</td>\n",
              "    </tr>\n",
              "    <tr>\n",
              "      <th>3</th>\n",
              "      <td>88</td>\n",
              "      <td>3</td>\n",
              "    </tr>\n",
              "    <tr>\n",
              "      <th>4</th>\n",
              "      <td>89</td>\n",
              "      <td>4</td>\n",
              "    </tr>\n",
              "    <tr>\n",
              "      <th>...</th>\n",
              "      <td>...</td>\n",
              "      <td>...</td>\n",
              "    </tr>\n",
              "    <tr>\n",
              "      <th>1387427</th>\n",
              "      <td>1444051</td>\n",
              "      <td>1</td>\n",
              "    </tr>\n",
              "    <tr>\n",
              "      <th>1387428</th>\n",
              "      <td>1444053</td>\n",
              "      <td>1</td>\n",
              "    </tr>\n",
              "    <tr>\n",
              "      <th>1387429</th>\n",
              "      <td>1444058</td>\n",
              "      <td>1</td>\n",
              "    </tr>\n",
              "    <tr>\n",
              "      <th>1387430</th>\n",
              "      <td>1444063</td>\n",
              "      <td>1</td>\n",
              "    </tr>\n",
              "    <tr>\n",
              "      <th>1387431</th>\n",
              "      <td>1444065</td>\n",
              "      <td>1</td>\n",
              "    </tr>\n",
              "  </tbody>\n",
              "</table>\n",
              "<p>1387432 rows × 2 columns</p>\n",
              "</div>"
            ],
            "text/plain": [
              "         loan_id  lenders\n",
              "0             84        3\n",
              "1             85        2\n",
              "2             86        3\n",
              "3             88        3\n",
              "4             89        4\n",
              "...          ...      ...\n",
              "1387427  1444051        1\n",
              "1387428  1444053        1\n",
              "1387429  1444058        1\n",
              "1387430  1444063        1\n",
              "1387431  1444065        1\n",
              "\n",
              "[1387432 rows x 2 columns]"
            ]
          },
          "metadata": {
            "tags": []
          },
          "execution_count": 49
        }
      ]
    },
    {
      "cell_type": "code",
      "metadata": {
        "id": "CLRRCXB3DkqC",
        "colab_type": "code",
        "colab": {}
      },
      "source": [
        "loans_lender = loan[['loan_id','num_lenders_total','funded_amount']]"
      ],
      "execution_count": 0,
      "outputs": []
    },
    {
      "cell_type": "code",
      "metadata": {
        "id": "M_-CUKmLFg5S",
        "colab_type": "code",
        "outputId": "6270e330-0a73-4649-b916-49cc790e62b0",
        "colab": {
          "base_uri": "https://localhost:8080/",
          "height": 195
        }
      },
      "source": [
        "numberLoans = pd.merge(loans_lender,numberLoans_lender_norm,how=\"inner\",on=\"loan_id\")\n",
        "numberLoans.head()"
      ],
      "execution_count": 51,
      "outputs": [
        {
          "output_type": "execute_result",
          "data": {
            "text/html": [
              "<div>\n",
              "<style scoped>\n",
              "    .dataframe tbody tr th:only-of-type {\n",
              "        vertical-align: middle;\n",
              "    }\n",
              "\n",
              "    .dataframe tbody tr th {\n",
              "        vertical-align: top;\n",
              "    }\n",
              "\n",
              "    .dataframe thead th {\n",
              "        text-align: right;\n",
              "    }\n",
              "</style>\n",
              "<table border=\"1\" class=\"dataframe\">\n",
              "  <thead>\n",
              "    <tr style=\"text-align: right;\">\n",
              "      <th></th>\n",
              "      <th>loan_id</th>\n",
              "      <th>num_lenders_total</th>\n",
              "      <th>funded_amount</th>\n",
              "      <th>lenders</th>\n",
              "    </tr>\n",
              "  </thead>\n",
              "  <tbody>\n",
              "    <tr>\n",
              "      <th>0</th>\n",
              "      <td>657307</td>\n",
              "      <td>3</td>\n",
              "      <td>125.0</td>\n",
              "      <td>3</td>\n",
              "    </tr>\n",
              "    <tr>\n",
              "      <th>1</th>\n",
              "      <td>657259</td>\n",
              "      <td>11</td>\n",
              "      <td>400.0</td>\n",
              "      <td>7</td>\n",
              "    </tr>\n",
              "    <tr>\n",
              "      <th>2</th>\n",
              "      <td>658010</td>\n",
              "      <td>16</td>\n",
              "      <td>400.0</td>\n",
              "      <td>14</td>\n",
              "    </tr>\n",
              "    <tr>\n",
              "      <th>3</th>\n",
              "      <td>659347</td>\n",
              "      <td>21</td>\n",
              "      <td>625.0</td>\n",
              "      <td>17</td>\n",
              "    </tr>\n",
              "    <tr>\n",
              "      <th>4</th>\n",
              "      <td>656933</td>\n",
              "      <td>15</td>\n",
              "      <td>425.0</td>\n",
              "      <td>14</td>\n",
              "    </tr>\n",
              "  </tbody>\n",
              "</table>\n",
              "</div>"
            ],
            "text/plain": [
              "   loan_id  num_lenders_total  funded_amount  lenders\n",
              "0   657307                  3          125.0        3\n",
              "1   657259                 11          400.0        7\n",
              "2   658010                 16          400.0       14\n",
              "3   659347                 21          625.0       17\n",
              "4   656933                 15          425.0       14"
            ]
          },
          "metadata": {
            "tags": []
          },
          "execution_count": 51
        }
      ]
    },
    {
      "cell_type": "code",
      "metadata": {
        "id": "C0H9eMJUIl_a",
        "colab_type": "code",
        "colab": {}
      },
      "source": [
        "correct = numberLoans[numberLoans['num_lenders_total']==numberLoans['lenders']]\n",
        "wrong = numberLoans[numberLoans['num_lenders_total']!=numberLoans['lenders']]"
      ],
      "execution_count": 0,
      "outputs": []
    },
    {
      "cell_type": "code",
      "metadata": {
        "id": "-2GagLVTSKJF",
        "colab_type": "code",
        "outputId": "013c0d39-81af-4e01-a3d8-b667713f83a3",
        "colab": {
          "base_uri": "https://localhost:8080/",
          "height": 195
        }
      },
      "source": [
        "wrong.head()"
      ],
      "execution_count": 53,
      "outputs": [
        {
          "output_type": "execute_result",
          "data": {
            "text/html": [
              "<div>\n",
              "<style scoped>\n",
              "    .dataframe tbody tr th:only-of-type {\n",
              "        vertical-align: middle;\n",
              "    }\n",
              "\n",
              "    .dataframe tbody tr th {\n",
              "        vertical-align: top;\n",
              "    }\n",
              "\n",
              "    .dataframe thead th {\n",
              "        text-align: right;\n",
              "    }\n",
              "</style>\n",
              "<table border=\"1\" class=\"dataframe\">\n",
              "  <thead>\n",
              "    <tr style=\"text-align: right;\">\n",
              "      <th></th>\n",
              "      <th>loan_id</th>\n",
              "      <th>num_lenders_total</th>\n",
              "      <th>funded_amount</th>\n",
              "      <th>lenders</th>\n",
              "    </tr>\n",
              "  </thead>\n",
              "  <tbody>\n",
              "    <tr>\n",
              "      <th>1</th>\n",
              "      <td>657259</td>\n",
              "      <td>11</td>\n",
              "      <td>400.0</td>\n",
              "      <td>7</td>\n",
              "    </tr>\n",
              "    <tr>\n",
              "      <th>2</th>\n",
              "      <td>658010</td>\n",
              "      <td>16</td>\n",
              "      <td>400.0</td>\n",
              "      <td>14</td>\n",
              "    </tr>\n",
              "    <tr>\n",
              "      <th>3</th>\n",
              "      <td>659347</td>\n",
              "      <td>21</td>\n",
              "      <td>625.0</td>\n",
              "      <td>17</td>\n",
              "    </tr>\n",
              "    <tr>\n",
              "      <th>4</th>\n",
              "      <td>656933</td>\n",
              "      <td>15</td>\n",
              "      <td>425.0</td>\n",
              "      <td>14</td>\n",
              "    </tr>\n",
              "    <tr>\n",
              "      <th>5</th>\n",
              "      <td>659605</td>\n",
              "      <td>13</td>\n",
              "      <td>350.0</td>\n",
              "      <td>14</td>\n",
              "    </tr>\n",
              "  </tbody>\n",
              "</table>\n",
              "</div>"
            ],
            "text/plain": [
              "   loan_id  num_lenders_total  funded_amount  lenders\n",
              "1   657259                 11          400.0        7\n",
              "2   658010                 16          400.0       14\n",
              "3   659347                 21          625.0       17\n",
              "4   656933                 15          425.0       14\n",
              "5   659605                 13          350.0       14"
            ]
          },
          "metadata": {
            "tags": []
          },
          "execution_count": 53
        }
      ]
    },
    {
      "cell_type": "code",
      "metadata": {
        "id": "kjjsczFRJJeg",
        "colab_type": "code",
        "outputId": "c7c20be4-8fae-4b6b-d330-05512be99086",
        "colab": {
          "base_uri": "https://localhost:8080/",
          "height": 50
        }
      },
      "source": [
        "#plot barchart da fare\n",
        "print(\"Info giuste: \"+str(len(correct)/len(numberLoans)))\n",
        "print(\"Info sbagliate: \"+str(len(wrong)/len(numberLoans)))"
      ],
      "execution_count": 54,
      "outputs": [
        {
          "output_type": "stream",
          "text": [
            "Info giuste: 0.1917209397532701\n",
            "Info sbagliate: 0.8082790602467299\n"
          ],
          "name": "stdout"
        }
      ]
    },
    {
      "cell_type": "code",
      "metadata": {
        "id": "oraGcSfPLvwU",
        "colab_type": "code",
        "colab": {}
      },
      "source": [
        "loans_lender_correct = pd.merge(loans_lender,numberLoans_lender_norm,how='inner',on='loan_id')\n",
        "loans_lender_correct.drop(columns='num_lenders_total',inplace=True)"
      ],
      "execution_count": 0,
      "outputs": []
    },
    {
      "cell_type": "code",
      "metadata": {
        "id": "fr5Vhem6OsGc",
        "colab_type": "code",
        "colab": {}
      },
      "source": [
        "loans_lender_correct['amount']=round(loans_lender_correct['funded_amount']/loans_lender_correct['lenders'],2)"
      ],
      "execution_count": 0,
      "outputs": []
    },
    {
      "cell_type": "code",
      "metadata": {
        "id": "zlAyAEOvbp0J",
        "colab_type": "code",
        "outputId": "21958f31-9e94-4ccf-bce9-e14e9fbeaeee",
        "colab": {
          "base_uri": "https://localhost:8080/",
          "height": 195
        }
      },
      "source": [
        "loans_lender_correct.head()"
      ],
      "execution_count": 57,
      "outputs": [
        {
          "output_type": "execute_result",
          "data": {
            "text/html": [
              "<div>\n",
              "<style scoped>\n",
              "    .dataframe tbody tr th:only-of-type {\n",
              "        vertical-align: middle;\n",
              "    }\n",
              "\n",
              "    .dataframe tbody tr th {\n",
              "        vertical-align: top;\n",
              "    }\n",
              "\n",
              "    .dataframe thead th {\n",
              "        text-align: right;\n",
              "    }\n",
              "</style>\n",
              "<table border=\"1\" class=\"dataframe\">\n",
              "  <thead>\n",
              "    <tr style=\"text-align: right;\">\n",
              "      <th></th>\n",
              "      <th>loan_id</th>\n",
              "      <th>funded_amount</th>\n",
              "      <th>lenders</th>\n",
              "      <th>amount</th>\n",
              "    </tr>\n",
              "  </thead>\n",
              "  <tbody>\n",
              "    <tr>\n",
              "      <th>0</th>\n",
              "      <td>657307</td>\n",
              "      <td>125.0</td>\n",
              "      <td>3</td>\n",
              "      <td>41.67</td>\n",
              "    </tr>\n",
              "    <tr>\n",
              "      <th>1</th>\n",
              "      <td>657259</td>\n",
              "      <td>400.0</td>\n",
              "      <td>7</td>\n",
              "      <td>57.14</td>\n",
              "    </tr>\n",
              "    <tr>\n",
              "      <th>2</th>\n",
              "      <td>658010</td>\n",
              "      <td>400.0</td>\n",
              "      <td>14</td>\n",
              "      <td>28.57</td>\n",
              "    </tr>\n",
              "    <tr>\n",
              "      <th>3</th>\n",
              "      <td>659347</td>\n",
              "      <td>625.0</td>\n",
              "      <td>17</td>\n",
              "      <td>36.76</td>\n",
              "    </tr>\n",
              "    <tr>\n",
              "      <th>4</th>\n",
              "      <td>656933</td>\n",
              "      <td>425.0</td>\n",
              "      <td>14</td>\n",
              "      <td>30.36</td>\n",
              "    </tr>\n",
              "  </tbody>\n",
              "</table>\n",
              "</div>"
            ],
            "text/plain": [
              "   loan_id  funded_amount  lenders  amount\n",
              "0   657307          125.0        3   41.67\n",
              "1   657259          400.0        7   57.14\n",
              "2   658010          400.0       14   28.57\n",
              "3   659347          625.0       17   36.76\n",
              "4   656933          425.0       14   30.36"
            ]
          },
          "metadata": {
            "tags": []
          },
          "execution_count": 57
        }
      ]
    },
    {
      "cell_type": "code",
      "metadata": {
        "id": "IPPOA09QczNE",
        "colab_type": "code",
        "colab": {}
      },
      "source": [
        "amount_loan_lender = pd.merge(loans_lender_norm,loans_lender_correct,how=\"inner\",on='loan_id')\n",
        "amount_loan_lender.drop(columns=['funded_amount','lenders_y'],inplace=True)\n",
        "amount_loan_lender.columns=['loan_id','lenders','amount'] "
      ],
      "execution_count": 0,
      "outputs": []
    },
    {
      "cell_type": "code",
      "metadata": {
        "id": "jdNHodV2e20L",
        "colab_type": "code",
        "colab": {}
      },
      "source": [
        "amountLender = amount_loan_lender.groupby('lenders')['amount'].sum()\n",
        "amountLender = pd.DataFrame(amountLender).reset_index(level=0)"
      ],
      "execution_count": 0,
      "outputs": []
    },
    {
      "cell_type": "code",
      "metadata": {
        "id": "i6j-6uMrf4g1",
        "colab_type": "code",
        "colab": {}
      },
      "source": [
        "amountLender = amountLender.sort_values(by='amount',ascending=False)"
      ],
      "execution_count": 0,
      "outputs": []
    },
    {
      "cell_type": "code",
      "metadata": {
        "id": "J4yIE6jNhKS3",
        "colab_type": "code",
        "colab": {}
      },
      "source": [
        "amountLender['amountFormat']=amountLender.apply(lambda x: format(x['amount'],'f'),axis=1)"
      ],
      "execution_count": 0,
      "outputs": []
    },
    {
      "cell_type": "markdown",
      "metadata": {
        "id": "3TyiPuDJ4fSb",
        "colab_type": "text"
      },
      "source": [
        "### Result"
      ]
    },
    {
      "cell_type": "code",
      "metadata": {
        "id": "Vc0k4AgZgs7e",
        "colab_type": "code",
        "outputId": "9b8b15b7-7ba2-4d36-acf4-ec88d052d19e",
        "colab": {
          "base_uri": "https://localhost:8080/",
          "height": 195
        }
      },
      "source": [
        "amountLender.head()"
      ],
      "execution_count": 62,
      "outputs": [
        {
          "output_type": "execute_result",
          "data": {
            "text/html": [
              "<div>\n",
              "<style scoped>\n",
              "    .dataframe tbody tr th:only-of-type {\n",
              "        vertical-align: middle;\n",
              "    }\n",
              "\n",
              "    .dataframe tbody tr th {\n",
              "        vertical-align: top;\n",
              "    }\n",
              "\n",
              "    .dataframe thead th {\n",
              "        text-align: right;\n",
              "    }\n",
              "</style>\n",
              "<table border=\"1\" class=\"dataframe\">\n",
              "  <thead>\n",
              "    <tr style=\"text-align: right;\">\n",
              "      <th></th>\n",
              "      <th>lenders</th>\n",
              "      <th>amount</th>\n",
              "      <th>amountFormat</th>\n",
              "    </tr>\n",
              "  </thead>\n",
              "  <tbody>\n",
              "    <tr>\n",
              "      <th>462833</th>\n",
              "      <td>gooddogg1</td>\n",
              "      <td>8.140636e+06</td>\n",
              "      <td>8140636.400000</td>\n",
              "    </tr>\n",
              "    <tr>\n",
              "      <th>1324411</th>\n",
              "      <td>trolltech4460</td>\n",
              "      <td>5.634790e+06</td>\n",
              "      <td>5634789.740000</td>\n",
              "    </tr>\n",
              "    <tr>\n",
              "      <th>1008585</th>\n",
              "      <td>nms</td>\n",
              "      <td>4.453638e+06</td>\n",
              "      <td>4453638.040000</td>\n",
              "    </tr>\n",
              "    <tr>\n",
              "      <th>462243</th>\n",
              "      <td>gmct</td>\n",
              "      <td>4.445122e+06</td>\n",
              "      <td>4445122.169999</td>\n",
              "    </tr>\n",
              "    <tr>\n",
              "      <th>158450</th>\n",
              "      <td>bob4739</td>\n",
              "      <td>4.439756e+06</td>\n",
              "      <td>4439755.910000</td>\n",
              "    </tr>\n",
              "  </tbody>\n",
              "</table>\n",
              "</div>"
            ],
            "text/plain": [
              "               lenders        amount    amountFormat\n",
              "462833       gooddogg1  8.140636e+06  8140636.400000\n",
              "1324411  trolltech4460  5.634790e+06  5634789.740000\n",
              "1008585            nms  4.453638e+06  4453638.040000\n",
              "462243            gmct  4.445122e+06  4445122.169999\n",
              "158450         bob4739  4.439756e+06  4439755.910000"
            ]
          },
          "metadata": {
            "tags": []
          },
          "execution_count": 62
        }
      ]
    },
    {
      "cell_type": "markdown",
      "metadata": {
        "id": "bFOyaQ_a4_fM",
        "colab_type": "text"
      },
      "source": [
        "## Task 9\n",
        "- For each country, compute the difference between the overall amount of money lent and the overall amount of money borrowed. Since the country of the lender is often unknown, you can assume that the true distribution among the countries is the same as the one computed from the rows where the country is known."
      ]
    },
    {
      "cell_type": "markdown",
      "metadata": {
        "id": "QXKlr765-m49",
        "colab_type": "text"
      },
      "source": [
        "### Load 2 csv: lenders and country_stats"
      ]
    },
    {
      "cell_type": "code",
      "metadata": {
        "id": "Z4sd6tju5Olp",
        "colab_type": "code",
        "colab": {}
      },
      "source": [
        "lenders = pd.read_csv('/content/drive/My Drive/Foundation of computer science/additional-kiva-snapshot/lenders.csv')"
      ],
      "execution_count": 0,
      "outputs": []
    },
    {
      "cell_type": "code",
      "metadata": {
        "id": "tPPY7Ipy-_9X",
        "colab_type": "code",
        "colab": {}
      },
      "source": [
        "country_info=pd.read_csv('/content/drive/My Drive/Foundation of computer science/additional-kiva-snapshot/country_stats.csv')"
      ],
      "execution_count": 0,
      "outputs": []
    },
    {
      "cell_type": "code",
      "metadata": {
        "id": "rXc1cF25BBdQ",
        "colab_type": "code",
        "colab": {}
      },
      "source": [
        "country_info = country_info[['country_name','country_code']]"
      ],
      "execution_count": 0,
      "outputs": []
    },
    {
      "cell_type": "code",
      "metadata": {
        "id": "CO8r_4ku8C8I",
        "colab_type": "code",
        "colab": {}
      },
      "source": [
        "lenders = lenders[['permanent_name','country_code']]"
      ],
      "execution_count": 0,
      "outputs": []
    },
    {
      "cell_type": "code",
      "metadata": {
        "id": "4DKzy7Wb8bht",
        "colab_type": "code",
        "colab": {}
      },
      "source": [
        "lenders['country_code']=lenders.apply(lambda x: str(x['country_code']),axis=1)"
      ],
      "execution_count": 0,
      "outputs": []
    },
    {
      "cell_type": "code",
      "metadata": {
        "id": "MAJHOvLnAfZx",
        "colab_type": "code",
        "outputId": "52bde4a4-eb1a-4c48-ba97-aec0f9671c9f",
        "colab": {
          "base_uri": "https://localhost:8080/",
          "height": 386
        }
      },
      "source": [
        "lenders['country_code'].unique()"
      ],
      "execution_count": 68,
      "outputs": [
        {
          "output_type": "execute_result",
          "data": {
            "text/plain": [
              "array(['nan', 'US', 'IN', 'AU', 'PL', 'BR', 'CN', 'FR', 'BG', 'AT', 'GB',\n",
              "       'ES', 'DE', 'BE', 'SK', 'IT', 'SE', 'JP', 'PK', 'LA', 'AR', 'HU',\n",
              "       'TR', 'LV', 'TW', 'MY', 'NL', 'GE', 'ID', 'RU', 'CA', 'PT', 'NG',\n",
              "       'IS', 'NO', 'HK', 'JO', 'KE', 'MT', 'VN', 'CH', 'NZ', 'FI', 'MX',\n",
              "       'TN', 'CO', 'AE', 'KR', 'DK', 'TZ', 'PH', 'GR', 'RO', 'CR', 'IL',\n",
              "       'SA', 'GH', 'PR', 'VE', 'LK', 'EG', 'MA', 'TH', 'AM', 'PG', 'CZ',\n",
              "       'SG', 'CL', 'YE', 'CY', 'PY', 'HR', 'MN', 'CM', 'UG', 'LT', 'EE',\n",
              "       'BH', 'DZ', 'IE', 'RS', 'KY', 'IR', 'GT', 'DO', 'PS', 'PE', 'BD',\n",
              "       'ET', 'SY', 'UY', 'RW', 'AS', 'PA', 'AL', 'UA', 'EC', 'KW', 'AD',\n",
              "       'NI', 'ZA', 'MM', 'FJ', 'LC', 'IQ', 'HT', 'AO', 'SD', 'SI', 'MK',\n",
              "       'OM', 'AQ', 'LY', 'AZ', 'AF', 'MO', 'BS', 'MZ', 'SV', 'ZM', 'LU',\n",
              "       'HN', 'BI', 'BJ', 'YT', 'GU', 'ML', 'BO', 'GW', 'TJ', 'KH', 'SR',\n",
              "       'LB', 'VU', 'AN', 'MP', 'MW', 'QA', 'MH', 'TM', 'UM', 'SZ', 'XK',\n",
              "       'NE', 'TT', 'SO', 'ZW', 'TK', 'BB', 'JM', 'NP', 'GI', 'KG', 'MG',\n",
              "       'FK', 'BY', 'MD', 'KZ', 'CU', 'GY', 'CD', 'CI', 'AW', 'SB', 'MV',\n",
              "       'UZ', 'VI', 'GM', 'BF', 'TG', 'ER', 'BT', 'CG', 'WS', 'TL', 'MU',\n",
              "       'NC', 'MQ', 'MR', 'LR', 'BM', 'BN', 'BW', 'MC', 'PF', 'WF', 'GL',\n",
              "       'PW', 'BA', 'FO', 'KN', 'SN', 'GD', 'GN', 'CK', 'GP', 'BV', 'SC',\n",
              "       'CV', 'GS', 'NF', 'BZ', 'VG', 'CS', 'RE', 'TF', 'VC', 'AI', 'SM',\n",
              "       'SH', 'SL', 'LI', 'GA', 'FM', 'TC', 'AG', 'LS', 'DM', 'KM', 'SS',\n",
              "       'GZ', 'EH', 'TO', 'KP', 'NU', 'ME', 'DJ', 'VA', 'TV', 'SJ', 'GF',\n",
              "       'PN', 'CX', 'IO', 'MS'], dtype=object)"
            ]
          },
          "metadata": {
            "tags": []
          },
          "execution_count": 68
        }
      ]
    },
    {
      "cell_type": "code",
      "metadata": {
        "id": "Q1l9_Hka-k-J",
        "colab_type": "code",
        "colab": {}
      },
      "source": [
        "totale = len(lenders)\n",
        "sconosciuti = len(lenders[lenders['country_code']=='nan'])"
      ],
      "execution_count": 0,
      "outputs": []
    },
    {
      "cell_type": "code",
      "metadata": {
        "id": "nseISRXg_uLV",
        "colab_type": "code",
        "outputId": "e0107a75-4d3a-495f-e428-1c1a7fd4168a",
        "colab": {
          "base_uri": "https://localhost:8080/",
          "height": 34
        }
      },
      "source": [
        "print(\"Country lenders not known: \"+str(sconosciuti/totale))"
      ],
      "execution_count": 70,
      "outputs": [
        {
          "output_type": "stream",
          "text": [
            "Country lenders not known: 0.620913989342637\n"
          ],
          "name": "stdout"
        }
      ]
    },
    {
      "cell_type": "code",
      "metadata": {
        "id": "rr9GPx50BaqK",
        "colab_type": "code",
        "outputId": "b30a5288-3db5-41e3-a4cf-a13352267afa",
        "colab": {
          "base_uri": "https://localhost:8080/",
          "height": 402
        }
      },
      "source": [
        "country_info"
      ],
      "execution_count": 71,
      "outputs": [
        {
          "output_type": "execute_result",
          "data": {
            "text/html": [
              "<div>\n",
              "<style scoped>\n",
              "    .dataframe tbody tr th:only-of-type {\n",
              "        vertical-align: middle;\n",
              "    }\n",
              "\n",
              "    .dataframe tbody tr th {\n",
              "        vertical-align: top;\n",
              "    }\n",
              "\n",
              "    .dataframe thead th {\n",
              "        text-align: right;\n",
              "    }\n",
              "</style>\n",
              "<table border=\"1\" class=\"dataframe\">\n",
              "  <thead>\n",
              "    <tr style=\"text-align: right;\">\n",
              "      <th></th>\n",
              "      <th>country_name</th>\n",
              "      <th>country_code</th>\n",
              "    </tr>\n",
              "  </thead>\n",
              "  <tbody>\n",
              "    <tr>\n",
              "      <th>0</th>\n",
              "      <td>India</td>\n",
              "      <td>IN</td>\n",
              "    </tr>\n",
              "    <tr>\n",
              "      <th>1</th>\n",
              "      <td>Nigeria</td>\n",
              "      <td>NG</td>\n",
              "    </tr>\n",
              "    <tr>\n",
              "      <th>2</th>\n",
              "      <td>Mexico</td>\n",
              "      <td>MX</td>\n",
              "    </tr>\n",
              "    <tr>\n",
              "      <th>3</th>\n",
              "      <td>Pakistan</td>\n",
              "      <td>PK</td>\n",
              "    </tr>\n",
              "    <tr>\n",
              "      <th>4</th>\n",
              "      <td>Bangladesh</td>\n",
              "      <td>BD</td>\n",
              "    </tr>\n",
              "    <tr>\n",
              "      <th>...</th>\n",
              "      <td>...</td>\n",
              "      <td>...</td>\n",
              "    </tr>\n",
              "    <tr>\n",
              "      <th>169</th>\n",
              "      <td>Somalia</td>\n",
              "      <td>SO</td>\n",
              "    </tr>\n",
              "    <tr>\n",
              "      <th>170</th>\n",
              "      <td>Central African Republic</td>\n",
              "      <td>CF</td>\n",
              "    </tr>\n",
              "    <tr>\n",
              "      <th>171</th>\n",
              "      <td>Samoa</td>\n",
              "      <td>WS</td>\n",
              "    </tr>\n",
              "    <tr>\n",
              "      <th>172</th>\n",
              "      <td>Palestine</td>\n",
              "      <td>PS</td>\n",
              "    </tr>\n",
              "    <tr>\n",
              "      <th>173</th>\n",
              "      <td>Kosovo</td>\n",
              "      <td>XK</td>\n",
              "    </tr>\n",
              "  </tbody>\n",
              "</table>\n",
              "<p>174 rows × 2 columns</p>\n",
              "</div>"
            ],
            "text/plain": [
              "                 country_name country_code\n",
              "0                       India           IN\n",
              "1                     Nigeria           NG\n",
              "2                      Mexico           MX\n",
              "3                    Pakistan           PK\n",
              "4                  Bangladesh           BD\n",
              "..                        ...          ...\n",
              "169                   Somalia           SO\n",
              "170  Central African Republic           CF\n",
              "171                     Samoa           WS\n",
              "172                 Palestine           PS\n",
              "173                    Kosovo           XK\n",
              "\n",
              "[174 rows x 2 columns]"
            ]
          },
          "metadata": {
            "tags": []
          },
          "execution_count": 71
        }
      ]
    },
    {
      "cell_type": "code",
      "metadata": {
        "id": "Pe7qvT_SBEMg",
        "colab_type": "code",
        "colab": {}
      },
      "source": [
        "lenders_country = pd.merge(lenders,country_info,how='left',on='country_code')\n",
        "lenders_country.drop(columns='country_code',inplace=True)"
      ],
      "execution_count": 0,
      "outputs": []
    },
    {
      "cell_type": "code",
      "metadata": {
        "id": "JWkokTHgCrsR",
        "colab_type": "code",
        "colab": {}
      },
      "source": [
        "lenders_country['country_name'] = lenders_country.apply(lambda x: str(x['country_name']),axis=1)"
      ],
      "execution_count": 0,
      "outputs": []
    },
    {
      "cell_type": "code",
      "metadata": {
        "id": "9rJeSK6jDpGG",
        "colab_type": "code",
        "colab": {}
      },
      "source": [
        "lenders_country.columns=['lenders','country_name']"
      ],
      "execution_count": 0,
      "outputs": []
    },
    {
      "cell_type": "code",
      "metadata": {
        "id": "snygUQ3zLQSw",
        "colab_type": "code",
        "outputId": "59fadc7c-9f8f-4262-d706-b400c7fa0ed8",
        "colab": {
          "base_uri": "https://localhost:8080/",
          "height": 402
        }
      },
      "source": [
        "lenders_country"
      ],
      "execution_count": 75,
      "outputs": [
        {
          "output_type": "execute_result",
          "data": {
            "text/html": [
              "<div>\n",
              "<style scoped>\n",
              "    .dataframe tbody tr th:only-of-type {\n",
              "        vertical-align: middle;\n",
              "    }\n",
              "\n",
              "    .dataframe tbody tr th {\n",
              "        vertical-align: top;\n",
              "    }\n",
              "\n",
              "    .dataframe thead th {\n",
              "        text-align: right;\n",
              "    }\n",
              "</style>\n",
              "<table border=\"1\" class=\"dataframe\">\n",
              "  <thead>\n",
              "    <tr style=\"text-align: right;\">\n",
              "      <th></th>\n",
              "      <th>lenders</th>\n",
              "      <th>country_name</th>\n",
              "    </tr>\n",
              "  </thead>\n",
              "  <tbody>\n",
              "    <tr>\n",
              "      <th>0</th>\n",
              "      <td>qian3013</td>\n",
              "      <td>nan</td>\n",
              "    </tr>\n",
              "    <tr>\n",
              "      <th>1</th>\n",
              "      <td>reena6733</td>\n",
              "      <td>nan</td>\n",
              "    </tr>\n",
              "    <tr>\n",
              "      <th>2</th>\n",
              "      <td>mai5982</td>\n",
              "      <td>nan</td>\n",
              "    </tr>\n",
              "    <tr>\n",
              "      <th>3</th>\n",
              "      <td>andrew86079135</td>\n",
              "      <td>nan</td>\n",
              "    </tr>\n",
              "    <tr>\n",
              "      <th>4</th>\n",
              "      <td>nguyen6962</td>\n",
              "      <td>nan</td>\n",
              "    </tr>\n",
              "    <tr>\n",
              "      <th>...</th>\n",
              "      <td>...</td>\n",
              "      <td>...</td>\n",
              "    </tr>\n",
              "    <tr>\n",
              "      <th>2349169</th>\n",
              "      <td>janet7309</td>\n",
              "      <td>nan</td>\n",
              "    </tr>\n",
              "    <tr>\n",
              "      <th>2349170</th>\n",
              "      <td>pj4198</td>\n",
              "      <td>nan</td>\n",
              "    </tr>\n",
              "    <tr>\n",
              "      <th>2349171</th>\n",
              "      <td>maria2141</td>\n",
              "      <td>United States</td>\n",
              "    </tr>\n",
              "    <tr>\n",
              "      <th>2349172</th>\n",
              "      <td>simone9846</td>\n",
              "      <td>nan</td>\n",
              "    </tr>\n",
              "    <tr>\n",
              "      <th>2349173</th>\n",
              "      <td>laurie1160</td>\n",
              "      <td>United States</td>\n",
              "    </tr>\n",
              "  </tbody>\n",
              "</table>\n",
              "<p>2349174 rows × 2 columns</p>\n",
              "</div>"
            ],
            "text/plain": [
              "                lenders   country_name\n",
              "0              qian3013            nan\n",
              "1             reena6733            nan\n",
              "2               mai5982            nan\n",
              "3        andrew86079135            nan\n",
              "4            nguyen6962            nan\n",
              "...                 ...            ...\n",
              "2349169       janet7309            nan\n",
              "2349170          pj4198            nan\n",
              "2349171       maria2141  United States\n",
              "2349172      simone9846            nan\n",
              "2349173      laurie1160  United States\n",
              "\n",
              "[2349174 rows x 2 columns]"
            ]
          },
          "metadata": {
            "tags": []
          },
          "execution_count": 75
        }
      ]
    },
    {
      "cell_type": "code",
      "metadata": {
        "id": "RZn4cy1BDLa1",
        "colab_type": "code",
        "colab": {}
      },
      "source": [
        "lenders_country_distTrovati = lenders_country[lenders_country['country_name']!='nan']"
      ],
      "execution_count": 0,
      "outputs": []
    },
    {
      "cell_type": "code",
      "metadata": {
        "id": "mC9bY_44KZIW",
        "colab_type": "code",
        "colab": {}
      },
      "source": [
        "lenders_country_distTrovare = lenders_country[lenders_country['country_name']=='nan']"
      ],
      "execution_count": 0,
      "outputs": []
    },
    {
      "cell_type": "code",
      "metadata": {
        "id": "JWi6yRZEDWD4",
        "colab_type": "code",
        "colab": {}
      },
      "source": [
        "lenders_country_dist = lenders_country_distTrovati.groupby('country_name')['lenders'].count()\n",
        "lenders_country_dist = pd.DataFrame(lenders_country_dist).reset_index(level=0)"
      ],
      "execution_count": 0,
      "outputs": []
    },
    {
      "cell_type": "code",
      "metadata": {
        "id": "9HJzVjfxFKmW",
        "colab_type": "code",
        "outputId": "2bc63a59-fdc9-42a9-9821-096336d61850",
        "colab": {
          "base_uri": "https://localhost:8080/",
          "height": 34
        }
      },
      "source": [
        "number_lenders = lenders_country_dist['lenders'].sum()\n",
        "number_lenders"
      ],
      "execution_count": 80,
      "outputs": [
        {
          "output_type": "execute_result",
          "data": {
            "text/plain": [
              "888056"
            ]
          },
          "metadata": {
            "tags": []
          },
          "execution_count": 80
        }
      ]
    },
    {
      "cell_type": "code",
      "metadata": {
        "id": "XaWtcSASEKs1",
        "colab_type": "code",
        "outputId": "298e0fc9-613c-4fec-edb1-54a6cb1c4043",
        "colab": {
          "base_uri": "https://localhost:8080/",
          "height": 282
        }
      },
      "source": [
        "fig = plt.figure()\n",
        "plt.bar(lenders_country_dist['country_name'],lenders_country_dist['lenders'])"
      ],
      "execution_count": 81,
      "outputs": [
        {
          "output_type": "execute_result",
          "data": {
            "text/plain": [
              "<BarContainer object of 170 artists>"
            ]
          },
          "metadata": {
            "tags": []
          },
          "execution_count": 81
        },
        {
          "output_type": "display_data",
          "data": {
            "image/png": "[encoded data removed]",
            "text/plain": [
              "<Figure size 432x288 with 1 Axes>"
            ]
          },
          "metadata": {
            "tags": []
          }
        }
      ]
    },
    {
      "cell_type": "code",
      "metadata": {
        "id": "A3TX8EnKHfQP",
        "colab_type": "code",
        "colab": {}
      },
      "source": [
        "lenders_country_dist['distribution'] = lenders_country_dist['lenders'] / number_lenders"
      ],
      "execution_count": 0,
      "outputs": []
    },
    {
      "cell_type": "code",
      "metadata": {
        "id": "RreWJTz8H6pL",
        "colab_type": "code",
        "colab": {}
      },
      "source": [
        "dist= lenders_country_dist.sort_values(by='lenders',ascending=False)"
      ],
      "execution_count": 0,
      "outputs": []
    },
    {
      "cell_type": "code",
      "metadata": {
        "id": "By1yigBuPxZq",
        "colab_type": "code",
        "outputId": "10382238-122c-4b42-8e4b-819536347a2b",
        "colab": {
          "base_uri": "https://localhost:8080/",
          "height": 402
        }
      },
      "source": [
        "dist"
      ],
      "execution_count": 84,
      "outputs": [
        {
          "output_type": "execute_result",
          "data": {
            "text/html": [
              "<div>\n",
              "<style scoped>\n",
              "    .dataframe tbody tr th:only-of-type {\n",
              "        vertical-align: middle;\n",
              "    }\n",
              "\n",
              "    .dataframe tbody tr th {\n",
              "        vertical-align: top;\n",
              "    }\n",
              "\n",
              "    .dataframe thead th {\n",
              "        text-align: right;\n",
              "    }\n",
              "</style>\n",
              "<table border=\"1\" class=\"dataframe\">\n",
              "  <thead>\n",
              "    <tr style=\"text-align: right;\">\n",
              "      <th></th>\n",
              "      <th>country_name</th>\n",
              "      <th>lenders</th>\n",
              "      <th>distribution</th>\n",
              "    </tr>\n",
              "  </thead>\n",
              "  <tbody>\n",
              "    <tr>\n",
              "      <th>162</th>\n",
              "      <td>United States</td>\n",
              "      <td>591612</td>\n",
              "      <td>0.666188</td>\n",
              "    </tr>\n",
              "    <tr>\n",
              "      <th>26</th>\n",
              "      <td>Canada</td>\n",
              "      <td>67970</td>\n",
              "      <td>0.076538</td>\n",
              "    </tr>\n",
              "    <tr>\n",
              "      <th>161</th>\n",
              "      <td>United Kingdom</td>\n",
              "      <td>38380</td>\n",
              "      <td>0.043218</td>\n",
              "    </tr>\n",
              "    <tr>\n",
              "      <th>6</th>\n",
              "      <td>Australia</td>\n",
              "      <td>37103</td>\n",
              "      <td>0.041780</td>\n",
              "    </tr>\n",
              "    <tr>\n",
              "      <th>53</th>\n",
              "      <td>Germany</td>\n",
              "      <td>16007</td>\n",
              "      <td>0.018025</td>\n",
              "    </tr>\n",
              "    <tr>\n",
              "      <th>...</th>\n",
              "      <td>...</td>\n",
              "      <td>...</td>\n",
              "      <td>...</td>\n",
              "    </tr>\n",
              "    <tr>\n",
              "      <th>157</th>\n",
              "      <td>Turkmenistan</td>\n",
              "      <td>4</td>\n",
              "      <td>0.000005</td>\n",
              "    </tr>\n",
              "    <tr>\n",
              "      <th>44</th>\n",
              "      <td>Eritrea</td>\n",
              "      <td>4</td>\n",
              "      <td>0.000005</td>\n",
              "    </tr>\n",
              "    <tr>\n",
              "      <th>96</th>\n",
              "      <td>Mauritania</td>\n",
              "      <td>4</td>\n",
              "      <td>0.000005</td>\n",
              "    </tr>\n",
              "    <tr>\n",
              "      <th>30</th>\n",
              "      <td>Comoros</td>\n",
              "      <td>1</td>\n",
              "      <td>0.000001</td>\n",
              "    </tr>\n",
              "    <tr>\n",
              "      <th>58</th>\n",
              "      <td>Guinea-Bissau</td>\n",
              "      <td>1</td>\n",
              "      <td>0.000001</td>\n",
              "    </tr>\n",
              "  </tbody>\n",
              "</table>\n",
              "<p>170 rows × 3 columns</p>\n",
              "</div>"
            ],
            "text/plain": [
              "       country_name  lenders  distribution\n",
              "162   United States   591612      0.666188\n",
              "26           Canada    67970      0.076538\n",
              "161  United Kingdom    38380      0.043218\n",
              "6         Australia    37103      0.041780\n",
              "53          Germany    16007      0.018025\n",
              "..              ...      ...           ...\n",
              "157    Turkmenistan        4      0.000005\n",
              "44          Eritrea        4      0.000005\n",
              "96       Mauritania        4      0.000005\n",
              "30          Comoros        1      0.000001\n",
              "58    Guinea-Bissau        1      0.000001\n",
              "\n",
              "[170 rows x 3 columns]"
            ]
          },
          "metadata": {
            "tags": []
          },
          "execution_count": 84
        }
      ]
    },
    {
      "cell_type": "code",
      "metadata": {
        "colab_type": "code",
        "outputId": "74979280-e695-44bb-e913-ae051d97d34d",
        "id": "etMV9p_4Td_F",
        "colab": {
          "base_uri": "https://localhost:8080/",
          "height": 351
        }
      },
      "source": [
        "dist_focus = dist[dist['distribution']>0.005]\n",
        "fig = plt.figure(figsize=(16,5))\n",
        "plt.bar(dist_focus['country_name'],dist_focus['distribution'])\n",
        "plt.xlabel('country')\n",
        "plt.ylabel('percentage')"
      ],
      "execution_count": 85,
      "outputs": [
        {
          "output_type": "execute_result",
          "data": {
            "text/plain": [
              "Text(0, 0.5, 'percentage')"
            ]
          },
          "metadata": {
            "tags": []
          },
          "execution_count": 85
        },
        {
          "output_type": "display_data",
          "data": {
            "image/png": "[encoded data removed]",
            "text/plain": [
              "<Figure size 1152x360 with 1 Axes>"
            ]
          },
          "metadata": {
            "tags": []
          }
        }
      ]
    },
    {
      "cell_type": "code",
      "metadata": {
        "id": "y_4yDOWiKS9p",
        "colab_type": "code",
        "outputId": "add88805-a7ae-4696-c834-64ae889b3003",
        "colab": {
          "base_uri": "https://localhost:8080/",
          "height": 195
        }
      },
      "source": [
        "lenders_country_distTrovare.head()"
      ],
      "execution_count": 86,
      "outputs": [
        {
          "output_type": "execute_result",
          "data": {
            "text/html": [
              "<div>\n",
              "<style scoped>\n",
              "    .dataframe tbody tr th:only-of-type {\n",
              "        vertical-align: middle;\n",
              "    }\n",
              "\n",
              "    .dataframe tbody tr th {\n",
              "        vertical-align: top;\n",
              "    }\n",
              "\n",
              "    .dataframe thead th {\n",
              "        text-align: right;\n",
              "    }\n",
              "</style>\n",
              "<table border=\"1\" class=\"dataframe\">\n",
              "  <thead>\n",
              "    <tr style=\"text-align: right;\">\n",
              "      <th></th>\n",
              "      <th>lenders</th>\n",
              "      <th>country_name</th>\n",
              "    </tr>\n",
              "  </thead>\n",
              "  <tbody>\n",
              "    <tr>\n",
              "      <th>0</th>\n",
              "      <td>qian3013</td>\n",
              "      <td>nan</td>\n",
              "    </tr>\n",
              "    <tr>\n",
              "      <th>1</th>\n",
              "      <td>reena6733</td>\n",
              "      <td>nan</td>\n",
              "    </tr>\n",
              "    <tr>\n",
              "      <th>2</th>\n",
              "      <td>mai5982</td>\n",
              "      <td>nan</td>\n",
              "    </tr>\n",
              "    <tr>\n",
              "      <th>3</th>\n",
              "      <td>andrew86079135</td>\n",
              "      <td>nan</td>\n",
              "    </tr>\n",
              "    <tr>\n",
              "      <th>4</th>\n",
              "      <td>nguyen6962</td>\n",
              "      <td>nan</td>\n",
              "    </tr>\n",
              "  </tbody>\n",
              "</table>\n",
              "</div>"
            ],
            "text/plain": [
              "          lenders country_name\n",
              "0        qian3013          nan\n",
              "1       reena6733          nan\n",
              "2         mai5982          nan\n",
              "3  andrew86079135          nan\n",
              "4      nguyen6962          nan"
            ]
          },
          "metadata": {
            "tags": []
          },
          "execution_count": 86
        }
      ]
    },
    {
      "cell_type": "code",
      "metadata": {
        "id": "RDzplR-IMSun",
        "colab_type": "code",
        "outputId": "26e27e3c-e666-4893-929e-f3bca52a6aa6",
        "colab": {
          "base_uri": "https://localhost:8080/",
          "height": 402
        }
      },
      "source": [
        "dist['numberRecord']=round(dist['distribution']*len(lenders_country_distTrovare),0)\n",
        "dist['numberRecord'] = dist.apply(lambda x: int(x['numberRecord']),axis=1)\n",
        "dist"
      ],
      "execution_count": 87,
      "outputs": [
        {
          "output_type": "execute_result",
          "data": {
            "text/html": [
              "<div>\n",
              "<style scoped>\n",
              "    .dataframe tbody tr th:only-of-type {\n",
              "        vertical-align: middle;\n",
              "    }\n",
              "\n",
              "    .dataframe tbody tr th {\n",
              "        vertical-align: top;\n",
              "    }\n",
              "\n",
              "    .dataframe thead th {\n",
              "        text-align: right;\n",
              "    }\n",
              "</style>\n",
              "<table border=\"1\" class=\"dataframe\">\n",
              "  <thead>\n",
              "    <tr style=\"text-align: right;\">\n",
              "      <th></th>\n",
              "      <th>country_name</th>\n",
              "      <th>lenders</th>\n",
              "      <th>distribution</th>\n",
              "      <th>numberRecord</th>\n",
              "    </tr>\n",
              "  </thead>\n",
              "  <tbody>\n",
              "    <tr>\n",
              "      <th>162</th>\n",
              "      <td>United States</td>\n",
              "      <td>591612</td>\n",
              "      <td>0.666188</td>\n",
              "      <td>973379</td>\n",
              "    </tr>\n",
              "    <tr>\n",
              "      <th>26</th>\n",
              "      <td>Canada</td>\n",
              "      <td>67970</td>\n",
              "      <td>0.076538</td>\n",
              "      <td>111831</td>\n",
              "    </tr>\n",
              "    <tr>\n",
              "      <th>161</th>\n",
              "      <td>United Kingdom</td>\n",
              "      <td>38380</td>\n",
              "      <td>0.043218</td>\n",
              "      <td>63147</td>\n",
              "    </tr>\n",
              "    <tr>\n",
              "      <th>6</th>\n",
              "      <td>Australia</td>\n",
              "      <td>37103</td>\n",
              "      <td>0.041780</td>\n",
              "      <td>61046</td>\n",
              "    </tr>\n",
              "    <tr>\n",
              "      <th>53</th>\n",
              "      <td>Germany</td>\n",
              "      <td>16007</td>\n",
              "      <td>0.018025</td>\n",
              "      <td>26336</td>\n",
              "    </tr>\n",
              "    <tr>\n",
              "      <th>...</th>\n",
              "      <td>...</td>\n",
              "      <td>...</td>\n",
              "      <td>...</td>\n",
              "      <td>...</td>\n",
              "    </tr>\n",
              "    <tr>\n",
              "      <th>157</th>\n",
              "      <td>Turkmenistan</td>\n",
              "      <td>4</td>\n",
              "      <td>0.000005</td>\n",
              "      <td>7</td>\n",
              "    </tr>\n",
              "    <tr>\n",
              "      <th>44</th>\n",
              "      <td>Eritrea</td>\n",
              "      <td>4</td>\n",
              "      <td>0.000005</td>\n",
              "      <td>7</td>\n",
              "    </tr>\n",
              "    <tr>\n",
              "      <th>96</th>\n",
              "      <td>Mauritania</td>\n",
              "      <td>4</td>\n",
              "      <td>0.000005</td>\n",
              "      <td>7</td>\n",
              "    </tr>\n",
              "    <tr>\n",
              "      <th>30</th>\n",
              "      <td>Comoros</td>\n",
              "      <td>1</td>\n",
              "      <td>0.000001</td>\n",
              "      <td>2</td>\n",
              "    </tr>\n",
              "    <tr>\n",
              "      <th>58</th>\n",
              "      <td>Guinea-Bissau</td>\n",
              "      <td>1</td>\n",
              "      <td>0.000001</td>\n",
              "      <td>2</td>\n",
              "    </tr>\n",
              "  </tbody>\n",
              "</table>\n",
              "<p>170 rows × 4 columns</p>\n",
              "</div>"
            ],
            "text/plain": [
              "       country_name  lenders  distribution  numberRecord\n",
              "162   United States   591612      0.666188        973379\n",
              "26           Canada    67970      0.076538        111831\n",
              "161  United Kingdom    38380      0.043218         63147\n",
              "6         Australia    37103      0.041780         61046\n",
              "53          Germany    16007      0.018025         26336\n",
              "..              ...      ...           ...           ...\n",
              "157    Turkmenistan        4      0.000005             7\n",
              "44          Eritrea        4      0.000005             7\n",
              "96       Mauritania        4      0.000005             7\n",
              "30          Comoros        1      0.000001             2\n",
              "58    Guinea-Bissau        1      0.000001             2\n",
              "\n",
              "[170 rows x 4 columns]"
            ]
          },
          "metadata": {
            "tags": []
          },
          "execution_count": 87
        }
      ]
    },
    {
      "cell_type": "code",
      "metadata": {
        "id": "HUbojm05Q62a",
        "colab_type": "code",
        "outputId": "4c1739a4-3e76-4078-b4df-8392b32001bc",
        "colab": {
          "base_uri": "https://localhost:8080/",
          "height": 34
        }
      },
      "source": [
        "dist['numberRecord'].sum() , len(lenders_country_distTrovare)"
      ],
      "execution_count": 88,
      "outputs": [
        {
          "output_type": "execute_result",
          "data": {
            "text/plain": [
              "(1461120, 1461118)"
            ]
          },
          "metadata": {
            "tags": []
          },
          "execution_count": 88
        }
      ]
    },
    {
      "cell_type": "code",
      "metadata": {
        "id": "vr53G_NKVDvC",
        "colab_type": "code",
        "colab": {}
      },
      "source": [
        "dist['countryLender']=dist.apply(lambda x: [x['country_name']]*x['numberRecord'],axis=1)"
      ],
      "execution_count": 0,
      "outputs": []
    },
    {
      "cell_type": "code",
      "metadata": {
        "id": "bzMwKXM9X1BD",
        "colab_type": "code",
        "colab": {}
      },
      "source": [
        "country_lenderTrovare = pd.Series.to_list(dist['countryLender']) #concat all list for each country"
      ],
      "execution_count": 0,
      "outputs": []
    },
    {
      "cell_type": "code",
      "metadata": {
        "id": "bvi1AgKnYj1V",
        "colab_type": "code",
        "colab": {}
      },
      "source": [
        "country_lenderTrovare = list(itertools.chain(*country_lenderTrovare)) #flat list\n",
        "country_lenderTrovare = country_lenderTrovare[:-2]"
      ],
      "execution_count": 0,
      "outputs": []
    },
    {
      "cell_type": "code",
      "metadata": {
        "id": "TVgLZd8daCPO",
        "colab_type": "code",
        "outputId": "80dc5f7d-92c8-42ce-b879-e990dc077a3f",
        "colab": {
          "base_uri": "https://localhost:8080/",
          "height": 34
        }
      },
      "source": [
        "len(country_lenderTrovare)"
      ],
      "execution_count": 93,
      "outputs": [
        {
          "output_type": "execute_result",
          "data": {
            "text/plain": [
              "1461118"
            ]
          },
          "metadata": {
            "tags": []
          },
          "execution_count": 93
        }
      ]
    },
    {
      "cell_type": "code",
      "metadata": {
        "id": "zLwb1dJAZJQc",
        "colab_type": "code",
        "outputId": "a38b4134-47eb-4c82-815a-b4405a4f7e04",
        "colab": {
          "base_uri": "https://localhost:8080/",
          "height": 118
        }
      },
      "source": [
        "lenders_country_distTrovare['country_name']=country_lenderTrovare"
      ],
      "execution_count": 94,
      "outputs": [
        {
          "output_type": "stream",
          "text": [
            "/usr/local/lib/python3.6/dist-packages/ipykernel_launcher.py:1: SettingWithCopyWarning: \n",
            "A value is trying to be set on a copy of a slice from a DataFrame.\n",
            "Try using .loc[row_indexer,col_indexer] = value instead\n",
            "\n",
            "See the caveats in the documentation: http://pandas.pydata.org/pandas-docs/stable/user_guide/indexing.html#returning-a-view-versus-a-copy\n",
            "  \"\"\"Entry point for launching an IPython kernel.\n"
          ],
          "name": "stderr"
        }
      ]
    },
    {
      "cell_type": "code",
      "metadata": {
        "id": "1X8FkeBtaJmT",
        "colab_type": "code",
        "colab": {}
      },
      "source": [
        "lenders_country = pd.concat([lenders_country_distTrovare,lenders_country_distTrovati],axis=0)"
      ],
      "execution_count": 0,
      "outputs": []
    },
    {
      "cell_type": "code",
      "metadata": {
        "id": "-XLJiBOLbNg4",
        "colab_type": "code",
        "outputId": "0fdd9e57-644e-4830-ea57-cc1fbaaeb071",
        "colab": {
          "base_uri": "https://localhost:8080/",
          "height": 402
        }
      },
      "source": [
        "lenders_country"
      ],
      "execution_count": 96,
      "outputs": [
        {
          "output_type": "execute_result",
          "data": {
            "text/html": [
              "<div>\n",
              "<style scoped>\n",
              "    .dataframe tbody tr th:only-of-type {\n",
              "        vertical-align: middle;\n",
              "    }\n",
              "\n",
              "    .dataframe tbody tr th {\n",
              "        vertical-align: top;\n",
              "    }\n",
              "\n",
              "    .dataframe thead th {\n",
              "        text-align: right;\n",
              "    }\n",
              "</style>\n",
              "<table border=\"1\" class=\"dataframe\">\n",
              "  <thead>\n",
              "    <tr style=\"text-align: right;\">\n",
              "      <th></th>\n",
              "      <th>lenders</th>\n",
              "      <th>country_name</th>\n",
              "    </tr>\n",
              "  </thead>\n",
              "  <tbody>\n",
              "    <tr>\n",
              "      <th>0</th>\n",
              "      <td>qian3013</td>\n",
              "      <td>United States</td>\n",
              "    </tr>\n",
              "    <tr>\n",
              "      <th>1</th>\n",
              "      <td>reena6733</td>\n",
              "      <td>United States</td>\n",
              "    </tr>\n",
              "    <tr>\n",
              "      <th>2</th>\n",
              "      <td>mai5982</td>\n",
              "      <td>United States</td>\n",
              "    </tr>\n",
              "    <tr>\n",
              "      <th>3</th>\n",
              "      <td>andrew86079135</td>\n",
              "      <td>United States</td>\n",
              "    </tr>\n",
              "    <tr>\n",
              "      <th>4</th>\n",
              "      <td>nguyen6962</td>\n",
              "      <td>United States</td>\n",
              "    </tr>\n",
              "    <tr>\n",
              "      <th>...</th>\n",
              "      <td>...</td>\n",
              "      <td>...</td>\n",
              "    </tr>\n",
              "    <tr>\n",
              "      <th>2349158</th>\n",
              "      <td>rakhi</td>\n",
              "      <td>United States</td>\n",
              "    </tr>\n",
              "    <tr>\n",
              "      <th>2349159</th>\n",
              "      <td>vicki5374</td>\n",
              "      <td>United States</td>\n",
              "    </tr>\n",
              "    <tr>\n",
              "      <th>2349161</th>\n",
              "      <td>jennifer5879</td>\n",
              "      <td>Canada</td>\n",
              "    </tr>\n",
              "    <tr>\n",
              "      <th>2349171</th>\n",
              "      <td>maria2141</td>\n",
              "      <td>United States</td>\n",
              "    </tr>\n",
              "    <tr>\n",
              "      <th>2349173</th>\n",
              "      <td>laurie1160</td>\n",
              "      <td>United States</td>\n",
              "    </tr>\n",
              "  </tbody>\n",
              "</table>\n",
              "<p>2349174 rows × 2 columns</p>\n",
              "</div>"
            ],
            "text/plain": [
              "                lenders   country_name\n",
              "0              qian3013  United States\n",
              "1             reena6733  United States\n",
              "2               mai5982  United States\n",
              "3        andrew86079135  United States\n",
              "4            nguyen6962  United States\n",
              "...                 ...            ...\n",
              "2349158           rakhi  United States\n",
              "2349159       vicki5374  United States\n",
              "2349161    jennifer5879         Canada\n",
              "2349171       maria2141  United States\n",
              "2349173      laurie1160  United States\n",
              "\n",
              "[2349174 rows x 2 columns]"
            ]
          },
          "metadata": {
            "tags": []
          },
          "execution_count": 96
        }
      ]
    },
    {
      "cell_type": "code",
      "metadata": {
        "id": "CtUvZnRIM6fK",
        "colab_type": "code",
        "colab": {}
      },
      "source": [
        "amount_lender_country = pd.merge(amountLender,lenders_country,how='inner',on='lenders')"
      ],
      "execution_count": 0,
      "outputs": []
    },
    {
      "cell_type": "code",
      "metadata": {
        "id": "_oanyZzzNsHs",
        "colab_type": "code",
        "colab": {}
      },
      "source": [
        "country_amountLent = amount_lender_country.groupby('country_name')['amount'].sum()"
      ],
      "execution_count": 0,
      "outputs": []
    },
    {
      "cell_type": "code",
      "metadata": {
        "id": "kQYRyRRQONjO",
        "colab_type": "code",
        "colab": {}
      },
      "source": [
        "country_amountLent = pd.DataFrame(country_amountLent).reset_index(level=0)"
      ],
      "execution_count": 0,
      "outputs": []
    },
    {
      "cell_type": "code",
      "metadata": {
        "id": "lCj1XgzfP82J",
        "colab_type": "code",
        "colab": {
          "base_uri": "https://localhost:8080/",
          "height": 195
        },
        "outputId": "5984c538-ea9b-48fd-f8b6-659024f679ae"
      },
      "source": [
        "country_amountLent.head()"
      ],
      "execution_count": 116,
      "outputs": [
        {
          "output_type": "execute_result",
          "data": {
            "text/html": [
              "<div>\n",
              "<style scoped>\n",
              "    .dataframe tbody tr th:only-of-type {\n",
              "        vertical-align: middle;\n",
              "    }\n",
              "\n",
              "    .dataframe tbody tr th {\n",
              "        vertical-align: top;\n",
              "    }\n",
              "\n",
              "    .dataframe thead th {\n",
              "        text-align: right;\n",
              "    }\n",
              "</style>\n",
              "<table border=\"1\" class=\"dataframe\">\n",
              "  <thead>\n",
              "    <tr style=\"text-align: right;\">\n",
              "      <th></th>\n",
              "      <th>country</th>\n",
              "      <th>lent</th>\n",
              "    </tr>\n",
              "  </thead>\n",
              "  <tbody>\n",
              "    <tr>\n",
              "      <th>0</th>\n",
              "      <td>Afghanistan</td>\n",
              "      <td>161266.34</td>\n",
              "    </tr>\n",
              "    <tr>\n",
              "      <th>1</th>\n",
              "      <td>Albania</td>\n",
              "      <td>53739.63</td>\n",
              "    </tr>\n",
              "    <tr>\n",
              "      <th>2</th>\n",
              "      <td>Algeria</td>\n",
              "      <td>152502.87</td>\n",
              "    </tr>\n",
              "    <tr>\n",
              "      <th>3</th>\n",
              "      <td>Angola</td>\n",
              "      <td>46443.26</td>\n",
              "    </tr>\n",
              "    <tr>\n",
              "      <th>4</th>\n",
              "      <td>Argentina</td>\n",
              "      <td>2796947.51</td>\n",
              "    </tr>\n",
              "  </tbody>\n",
              "</table>\n",
              "</div>"
            ],
            "text/plain": [
              "       country        lent\n",
              "0  Afghanistan   161266.34\n",
              "1      Albania    53739.63\n",
              "2      Algeria   152502.87\n",
              "3       Angola    46443.26\n",
              "4    Argentina  2796947.51"
            ]
          },
          "metadata": {
            "tags": []
          },
          "execution_count": 116
        }
      ]
    },
    {
      "cell_type": "code",
      "metadata": {
        "id": "wVPgQkNoOkJK",
        "colab_type": "code",
        "colab": {}
      },
      "source": [
        "country_amountLent.columns=['country','lent']"
      ],
      "execution_count": 0,
      "outputs": []
    },
    {
      "cell_type": "code",
      "metadata": {
        "id": "wUcLUl-HPmQY",
        "colab_type": "code",
        "colab": {
          "base_uri": "https://localhost:8080/",
          "height": 34
        },
        "outputId": "3699f40f-c9a3-4ba2-c4e1-bac26d5cf167"
      },
      "source": [
        "country_amountLoan_perc.columns"
      ],
      "execution_count": 113,
      "outputs": [
        {
          "output_type": "execute_result",
          "data": {
            "text/plain": [
              "Index(['country', 'total', 'percentage'], dtype='object')"
            ]
          },
          "metadata": {
            "tags": []
          },
          "execution_count": 113
        }
      ]
    },
    {
      "cell_type": "code",
      "metadata": {
        "id": "dT3pJyA0PNyD",
        "colab_type": "code",
        "colab": {}
      },
      "source": [
        "country_difference = pd.merge(country_amountLoan_perc,country_amountLent,how='inner',on='country')\n",
        "country_difference.drop(columns='percentage',inplace=True)"
      ],
      "execution_count": 0,
      "outputs": []
    },
    {
      "cell_type": "code",
      "metadata": {
        "id": "d-gDF0aBQRov",
        "colab_type": "code",
        "colab": {}
      },
      "source": [
        "country_difference['difference'] = country_difference['lent'] - country_difference['borrowed']"
      ],
      "execution_count": 0,
      "outputs": []
    },
    {
      "cell_type": "markdown",
      "metadata": {
        "id": "kuWe0iSvSKr2",
        "colab_type": "text"
      },
      "source": [
        "### Result"
      ]
    },
    {
      "cell_type": "code",
      "metadata": {
        "id": "dQ-seQmVRJ4X",
        "colab_type": "code",
        "colab": {
          "base_uri": "https://localhost:8080/",
          "height": 195
        },
        "outputId": "e8e67b75-cdf2-4218-bffd-1da61888410d"
      },
      "source": [
        "country_difference.head()"
      ],
      "execution_count": 131,
      "outputs": [
        {
          "output_type": "execute_result",
          "data": {
            "text/html": [
              "<div>\n",
              "<style scoped>\n",
              "    .dataframe tbody tr th:only-of-type {\n",
              "        vertical-align: middle;\n",
              "    }\n",
              "\n",
              "    .dataframe tbody tr th {\n",
              "        vertical-align: top;\n",
              "    }\n",
              "\n",
              "    .dataframe thead th {\n",
              "        text-align: right;\n",
              "    }\n",
              "</style>\n",
              "<table border=\"1\" class=\"dataframe\">\n",
              "  <thead>\n",
              "    <tr style=\"text-align: right;\">\n",
              "      <th></th>\n",
              "      <th>country</th>\n",
              "      <th>borrowed</th>\n",
              "      <th>lent</th>\n",
              "      <th>difference</th>\n",
              "    </tr>\n",
              "  </thead>\n",
              "  <tbody>\n",
              "    <tr>\n",
              "      <th>0</th>\n",
              "      <td>Philippines</td>\n",
              "      <td>97045925.0</td>\n",
              "      <td>3190391.83</td>\n",
              "      <td>-93855533.17</td>\n",
              "    </tr>\n",
              "    <tr>\n",
              "      <th>1</th>\n",
              "      <td>Peru</td>\n",
              "      <td>78702800.0</td>\n",
              "      <td>210138.88</td>\n",
              "      <td>-78492661.12</td>\n",
              "    </tr>\n",
              "    <tr>\n",
              "      <th>2</th>\n",
              "      <td>Kenya</td>\n",
              "      <td>63650255.0</td>\n",
              "      <td>619401.25</td>\n",
              "      <td>-63030853.75</td>\n",
              "    </tr>\n",
              "    <tr>\n",
              "      <th>3</th>\n",
              "      <td>Paraguay</td>\n",
              "      <td>53715200.0</td>\n",
              "      <td>66041.90</td>\n",
              "      <td>-53649158.10</td>\n",
              "    </tr>\n",
              "    <tr>\n",
              "      <th>4</th>\n",
              "      <td>Cambodia</td>\n",
              "      <td>50829425.0</td>\n",
              "      <td>211303.13</td>\n",
              "      <td>-50618121.87</td>\n",
              "    </tr>\n",
              "  </tbody>\n",
              "</table>\n",
              "</div>"
            ],
            "text/plain": [
              "       country    borrowed        lent   difference\n",
              "0  Philippines  97045925.0  3190391.83 -93855533.17\n",
              "1         Peru  78702800.0   210138.88 -78492661.12\n",
              "2        Kenya  63650255.0   619401.25 -63030853.75\n",
              "3     Paraguay  53715200.0    66041.90 -53649158.10\n",
              "4     Cambodia  50829425.0   211303.13 -50618121.87"
            ]
          },
          "metadata": {
            "tags": []
          },
          "execution_count": 131
        }
      ]
    }
  ]
}