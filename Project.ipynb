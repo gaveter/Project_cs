{
  "nbformat": 4,
  "nbformat_minor": 0,
  "metadata": {
    "colab": {
      "name": "Project.ipynb",
      "provenance": [],
      "collapsed_sections": [],
      "toc_visible": true,
      "machine_shape": "hm",
      "include_colab_link": true
    },
    "kernelspec": {
      "name": "python3",
      "display_name": "Python 3"
    },
    "accelerator": "GPU"
  },
  "cells": [
    {
      "cell_type": "markdown",
      "metadata": {
        "id": "view-in-github",
        "colab_type": "text"
      },
      "source": [
        "<a href=\"https://colab.research.google.com/github/gaveter/Project_cs/blob/master/Project.ipynb\" target=\"_parent\"><img src=\"https://colab.research.google.com/assets/colab-badge.svg\" alt=\"Open In Colab\"/></a>"
      ]
    },
    {
      "cell_type": "code",
      "metadata": {
        "id": "ol1w_yeL6Ns5",
        "colab_type": "code",
        "outputId": "152feb4b-6fa1-4cbd-9d9e-cac3b0441db7",
        "colab": {
          "base_uri": "https://localhost:8080/",
          "height": 34
        }
      },
      "source": [
        "from google.colab import drive\n",
        "drive.mount('/content/drive')"
      ],
      "execution_count": 81,
      "outputs": [
        {
          "output_type": "stream",
          "text": [
            "Drive already mounted at /content/drive; to attempt to forcibly remount, call drive.mount(\"/content/drive\", force_remount=True).\n"
          ],
          "name": "stdout"
        }
      ]
    },
    {
      "cell_type": "markdown",
      "metadata": {
        "id": "Z6eOK8_a6P3z",
        "colab_type": "text"
      },
      "source": [
        "# Project 2019-20\n",
        "1. Normalize the loan_lenders table. In the normalized table, each row must have one loan_id and one lender.\n",
        "2. For each loan, add a column duration corresponding to the number of days between the disburse time and the planned expiration time. If any of those two dates is missing, also the duration must be missing.\n",
        "3. Find the lenders that have funded at least twice.\n",
        "4. For each country, compute how many loans have involved that country as borrowers.\n",
        "5. For each country, compute the overall amount of money borrowed.\n",
        "6. Like the previous point, but expressed as a percentage of the overall amount lent.\n",
        "7. Like the three previous points, but split for each year (with respect to disburse time).\n",
        "8. For each lender, compute the overall amount of money lent. For each loan that has more than one lender, you must assume that all lenders contributed the same amount.\n",
        "9. For each country, compute the difference between the overall amount of money lent and the overall amount of money borrowed. Since the country of the lender is often unknown, you can assume that the true distribution among the countries is the same as the one computed from the rows where the country is known.\n",
        "10. Which country has the highest ratio between the difference computed at the previous point and the population?\n",
        "11. Which country has the highest ratio between the difference computed at point 9 and the population that is not below the poverty line?\n",
        "12. For each year, compute the total amount of loans. Each loan that has planned expiration time and disburse time in different years must have its amount distributed proportionally to the number of days in each year. For example, a loan with disburse time December 1st, 2016, planned expiration time January 30th 2018, and amount 5000USD has an amount of 5000USD * 31 / (31+365+30) = 363.85 for 2016, 5000USD * 365 / (31+365+30) = 4284.04 for 2017, and 5000USD * 30 / (31+365+30) = 352.11 for 2018.\n",
        "\n",
        "© 2019 GitHub, Inc."
      ]
    },
    {
      "cell_type": "markdown",
      "metadata": {
        "id": "jRQIjhEl7EO0",
        "colab_type": "text"
      },
      "source": [
        "## Install package needed for the project"
      ]
    },
    {
      "cell_type": "code",
      "metadata": {
        "id": "n2X6u2wc8AhZ",
        "colab_type": "code",
        "outputId": "4c51c034-6088-401c-dd91-4236b9c1ae0f",
        "colab": {
          "base_uri": "https://localhost:8080/",
          "height": 67
        }
      },
      "source": [
        "pip install holidays"
      ],
      "execution_count": 82,
      "outputs": [
        {
          "output_type": "stream",
          "text": [
            "Requirement already satisfied: holidays in /usr/local/lib/python3.6/dist-packages (0.9.12)\n",
            "Requirement already satisfied: six in /usr/local/lib/python3.6/dist-packages (from holidays) (1.12.0)\n",
            "Requirement already satisfied: python-dateutil in /usr/local/lib/python3.6/dist-packages (from holidays) (2.6.1)\n"
          ],
          "name": "stdout"
        }
      ]
    },
    {
      "cell_type": "code",
      "metadata": {
        "id": "OjxkdRT4n1rR",
        "colab_type": "code",
        "outputId": "b68603a6-1dba-4df3-9cf3-c77b7c470462",
        "colab": {
          "base_uri": "https://localhost:8080/",
          "height": 134
        }
      },
      "source": [
        "pip install forex-python"
      ],
      "execution_count": 83,
      "outputs": [
        {
          "output_type": "stream",
          "text": [
            "Requirement already satisfied: forex-python in /usr/local/lib/python3.6/dist-packages (1.5)\n",
            "Requirement already satisfied: requests in /usr/local/lib/python3.6/dist-packages (from forex-python) (2.21.0)\n",
            "Requirement already satisfied: simplejson in /usr/local/lib/python3.6/dist-packages (from forex-python) (3.17.0)\n",
            "Requirement already satisfied: idna<2.9,>=2.5 in /usr/local/lib/python3.6/dist-packages (from requests->forex-python) (2.8)\n",
            "Requirement already satisfied: chardet<3.1.0,>=3.0.2 in /usr/local/lib/python3.6/dist-packages (from requests->forex-python) (3.0.4)\n",
            "Requirement already satisfied: urllib3<1.25,>=1.21.1 in /usr/local/lib/python3.6/dist-packages (from requests->forex-python) (1.24.3)\n",
            "Requirement already satisfied: certifi>=2017.4.17 in /usr/local/lib/python3.6/dist-packages (from requests->forex-python) (2019.11.28)\n"
          ],
          "name": "stdout"
        }
      ]
    },
    {
      "cell_type": "code",
      "metadata": {
        "id": "r1FMAtgcY9Zd",
        "colab_type": "code",
        "outputId": "cc101ea1-98b8-4c05-b784-0812a950c51d",
        "colab": {
          "base_uri": "https://localhost:8080/",
          "height": 118
        }
      },
      "source": [
        "pip install request"
      ],
      "execution_count": 84,
      "outputs": [
        {
          "output_type": "stream",
          "text": [
            "Requirement already satisfied: request in /usr/local/lib/python3.6/dist-packages (2019.4.13)\n",
            "Requirement already satisfied: post in /usr/local/lib/python3.6/dist-packages (from request) (2019.4.13)\n",
            "Requirement already satisfied: get in /usr/local/lib/python3.6/dist-packages (from request) (2019.4.13)\n",
            "Requirement already satisfied: setuptools in /usr/local/lib/python3.6/dist-packages (from request) (45.1.0)\n",
            "Requirement already satisfied: query-string in /usr/local/lib/python3.6/dist-packages (from get->request) (2019.4.13)\n",
            "Requirement already satisfied: public in /usr/local/lib/python3.6/dist-packages (from query-string->get->request) (2019.4.13)\n"
          ],
          "name": "stdout"
        }
      ]
    },
    {
      "cell_type": "markdown",
      "metadata": {
        "id": "ac0rXnKy7Gx5",
        "colab_type": "text"
      },
      "source": [
        "## Load all libraries needed for the project"
      ]
    },
    {
      "cell_type": "code",
      "metadata": {
        "id": "HhI6_r9s7Dro",
        "colab_type": "code",
        "colab": {}
      },
      "source": [
        "import pandas as pd\n",
        "from datetime import datetime, timedelta\n",
        "import re\n",
        "import numpy as np\n",
        "import holidays\n",
        "from pandas.tseries.offsets import BDay\n",
        "import matplotlib.pyplot as plt\n",
        "import itertools\n",
        "import requests\n",
        "import functools\n",
        "import calendar\n",
        "from collections import defaultdict\n",
        "from forex_python.converter import CurrencyRates"
      ],
      "execution_count": 0,
      "outputs": []
    },
    {
      "cell_type": "markdown",
      "metadata": {
        "id": "H293IL1LBfcH",
        "colab_type": "text"
      },
      "source": [
        "## Task1\n",
        "- Normalize the loan_lenders table. In the normalized table, each row must have one loan_id and one lender."
      ]
    },
    {
      "cell_type": "markdown",
      "metadata": {
        "id": "vBBoMroH7fgN",
        "colab_type": "text"
      },
      "source": [
        "### Load csv (loans_lenders)"
      ]
    },
    {
      "cell_type": "code",
      "metadata": {
        "id": "nuD87I-u7UGW",
        "colab_type": "code",
        "colab": {
          "base_uri": "https://localhost:8080/",
          "height": 505
        },
        "outputId": "4c48017d-e0a4-447a-afc6-7a433697e3e4"
      },
      "source": [
        "loans_lender = pd.read_csv('/content/drive/My Drive/Foundation of computer science/additional-kiva-snapshot/loans_lenders.csv')"
      ],
      "execution_count": 86,
      "outputs": [
        {
          "output_type": "error",
          "ename": "KeyboardInterrupt",
          "evalue": "ignored",
          "traceback": [
            "\u001b[0;31m---------------------------------------------------------------------------\u001b[0m",
            "\u001b[0;31mKeyboardInterrupt\u001b[0m                         Traceback (most recent call last)",
            "\u001b[0;32m<ipython-input-86-3aadbcd68bb2>\u001b[0m in \u001b[0;36m<module>\u001b[0;34m()\u001b[0m\n\u001b[0;32m----> 1\u001b[0;31m \u001b[0mloans_lender\u001b[0m \u001b[0;34m=\u001b[0m \u001b[0mpd\u001b[0m\u001b[0;34m.\u001b[0m\u001b[0mread_csv\u001b[0m\u001b[0;34m(\u001b[0m\u001b[0;34m'/content/drive/My Drive/Foundation of computer science/additional-kiva-snapshot/loans_lenders.csv'\u001b[0m\u001b[0;34m)\u001b[0m\u001b[0;34m\u001b[0m\u001b[0;34m\u001b[0m\u001b[0m\n\u001b[0m",
            "\u001b[0;32m/usr/local/lib/python3.6/dist-packages/pandas/io/parsers.py\u001b[0m in \u001b[0;36mparser_f\u001b[0;34m(filepath_or_buffer, sep, delimiter, header, names, index_col, usecols, squeeze, prefix, mangle_dupe_cols, dtype, engine, converters, true_values, false_values, skipinitialspace, skiprows, skipfooter, nrows, na_values, keep_default_na, na_filter, verbose, skip_blank_lines, parse_dates, infer_datetime_format, keep_date_col, date_parser, dayfirst, cache_dates, iterator, chunksize, compression, thousands, decimal, lineterminator, quotechar, quoting, doublequote, escapechar, comment, encoding, dialect, error_bad_lines, warn_bad_lines, delim_whitespace, low_memory, memory_map, float_precision)\u001b[0m\n\u001b[1;32m    683\u001b[0m         )\n\u001b[1;32m    684\u001b[0m \u001b[0;34m\u001b[0m\u001b[0m\n\u001b[0;32m--> 685\u001b[0;31m         \u001b[0;32mreturn\u001b[0m \u001b[0m_read\u001b[0m\u001b[0;34m(\u001b[0m\u001b[0mfilepath_or_buffer\u001b[0m\u001b[0;34m,\u001b[0m \u001b[0mkwds\u001b[0m\u001b[0;34m)\u001b[0m\u001b[0;34m\u001b[0m\u001b[0;34m\u001b[0m\u001b[0m\n\u001b[0m\u001b[1;32m    686\u001b[0m \u001b[0;34m\u001b[0m\u001b[0m\n\u001b[1;32m    687\u001b[0m     \u001b[0mparser_f\u001b[0m\u001b[0;34m.\u001b[0m\u001b[0m__name__\u001b[0m \u001b[0;34m=\u001b[0m \u001b[0mname\u001b[0m\u001b[0;34m\u001b[0m\u001b[0;34m\u001b[0m\u001b[0m\n",
            "\u001b[0;32m/usr/local/lib/python3.6/dist-packages/pandas/io/parsers.py\u001b[0m in \u001b[0;36m_read\u001b[0;34m(filepath_or_buffer, kwds)\u001b[0m\n\u001b[1;32m    461\u001b[0m \u001b[0;34m\u001b[0m\u001b[0m\n\u001b[1;32m    462\u001b[0m     \u001b[0;32mtry\u001b[0m\u001b[0;34m:\u001b[0m\u001b[0;34m\u001b[0m\u001b[0;34m\u001b[0m\u001b[0m\n\u001b[0;32m--> 463\u001b[0;31m         \u001b[0mdata\u001b[0m \u001b[0;34m=\u001b[0m \u001b[0mparser\u001b[0m\u001b[0;34m.\u001b[0m\u001b[0mread\u001b[0m\u001b[0;34m(\u001b[0m\u001b[0mnrows\u001b[0m\u001b[0;34m)\u001b[0m\u001b[0;34m\u001b[0m\u001b[0;34m\u001b[0m\u001b[0m\n\u001b[0m\u001b[1;32m    464\u001b[0m     \u001b[0;32mfinally\u001b[0m\u001b[0;34m:\u001b[0m\u001b[0;34m\u001b[0m\u001b[0;34m\u001b[0m\u001b[0m\n\u001b[1;32m    465\u001b[0m         \u001b[0mparser\u001b[0m\u001b[0;34m.\u001b[0m\u001b[0mclose\u001b[0m\u001b[0;34m(\u001b[0m\u001b[0;34m)\u001b[0m\u001b[0;34m\u001b[0m\u001b[0;34m\u001b[0m\u001b[0m\n",
            "\u001b[0;32m/usr/local/lib/python3.6/dist-packages/pandas/io/parsers.py\u001b[0m in \u001b[0;36mread\u001b[0;34m(self, nrows)\u001b[0m\n\u001b[1;32m   1152\u001b[0m     \u001b[0;32mdef\u001b[0m \u001b[0mread\u001b[0m\u001b[0;34m(\u001b[0m\u001b[0mself\u001b[0m\u001b[0;34m,\u001b[0m \u001b[0mnrows\u001b[0m\u001b[0;34m=\u001b[0m\u001b[0;32mNone\u001b[0m\u001b[0;34m)\u001b[0m\u001b[0;34m:\u001b[0m\u001b[0;34m\u001b[0m\u001b[0;34m\u001b[0m\u001b[0m\n\u001b[1;32m   1153\u001b[0m         \u001b[0mnrows\u001b[0m \u001b[0;34m=\u001b[0m \u001b[0m_validate_integer\u001b[0m\u001b[0;34m(\u001b[0m\u001b[0;34m\"nrows\"\u001b[0m\u001b[0;34m,\u001b[0m \u001b[0mnrows\u001b[0m\u001b[0;34m)\u001b[0m\u001b[0;34m\u001b[0m\u001b[0;34m\u001b[0m\u001b[0m\n\u001b[0;32m-> 1154\u001b[0;31m         \u001b[0mret\u001b[0m \u001b[0;34m=\u001b[0m \u001b[0mself\u001b[0m\u001b[0;34m.\u001b[0m\u001b[0m_engine\u001b[0m\u001b[0;34m.\u001b[0m\u001b[0mread\u001b[0m\u001b[0;34m(\u001b[0m\u001b[0mnrows\u001b[0m\u001b[0;34m)\u001b[0m\u001b[0;34m\u001b[0m\u001b[0;34m\u001b[0m\u001b[0m\n\u001b[0m\u001b[1;32m   1155\u001b[0m \u001b[0;34m\u001b[0m\u001b[0m\n\u001b[1;32m   1156\u001b[0m         \u001b[0;31m# May alter columns / col_dict\u001b[0m\u001b[0;34m\u001b[0m\u001b[0;34m\u001b[0m\u001b[0;34m\u001b[0m\u001b[0m\n",
            "\u001b[0;32m/usr/local/lib/python3.6/dist-packages/pandas/io/parsers.py\u001b[0m in \u001b[0;36mread\u001b[0;34m(self, nrows)\u001b[0m\n\u001b[1;32m   2057\u001b[0m     \u001b[0;32mdef\u001b[0m \u001b[0mread\u001b[0m\u001b[0;34m(\u001b[0m\u001b[0mself\u001b[0m\u001b[0;34m,\u001b[0m \u001b[0mnrows\u001b[0m\u001b[0;34m=\u001b[0m\u001b[0;32mNone\u001b[0m\u001b[0;34m)\u001b[0m\u001b[0;34m:\u001b[0m\u001b[0;34m\u001b[0m\u001b[0;34m\u001b[0m\u001b[0m\n\u001b[1;32m   2058\u001b[0m         \u001b[0;32mtry\u001b[0m\u001b[0;34m:\u001b[0m\u001b[0;34m\u001b[0m\u001b[0;34m\u001b[0m\u001b[0m\n\u001b[0;32m-> 2059\u001b[0;31m             \u001b[0mdata\u001b[0m \u001b[0;34m=\u001b[0m \u001b[0mself\u001b[0m\u001b[0;34m.\u001b[0m\u001b[0m_reader\u001b[0m\u001b[0;34m.\u001b[0m\u001b[0mread\u001b[0m\u001b[0;34m(\u001b[0m\u001b[0mnrows\u001b[0m\u001b[0;34m)\u001b[0m\u001b[0;34m\u001b[0m\u001b[0;34m\u001b[0m\u001b[0m\n\u001b[0m\u001b[1;32m   2060\u001b[0m         \u001b[0;32mexcept\u001b[0m \u001b[0mStopIteration\u001b[0m\u001b[0;34m:\u001b[0m\u001b[0;34m\u001b[0m\u001b[0;34m\u001b[0m\u001b[0m\n\u001b[1;32m   2061\u001b[0m             \u001b[0;32mif\u001b[0m \u001b[0mself\u001b[0m\u001b[0;34m.\u001b[0m\u001b[0m_first_chunk\u001b[0m\u001b[0;34m:\u001b[0m\u001b[0;34m\u001b[0m\u001b[0;34m\u001b[0m\u001b[0m\n",
            "\u001b[0;32mpandas/_libs/parsers.pyx\u001b[0m in \u001b[0;36mpandas._libs.parsers.TextReader.read\u001b[0;34m()\u001b[0m\n",
            "\u001b[0;32mpandas/_libs/parsers.pyx\u001b[0m in \u001b[0;36mpandas._libs.parsers.TextReader._read_low_memory\u001b[0;34m()\u001b[0m\n",
            "\u001b[0;32mpandas/_libs/parsers.pyx\u001b[0m in \u001b[0;36mpandas._libs.parsers.TextReader._read_rows\u001b[0;34m()\u001b[0m\n",
            "\u001b[0;32mpandas/_libs/parsers.pyx\u001b[0m in \u001b[0;36mpandas._libs.parsers.TextReader._convert_column_data\u001b[0;34m()\u001b[0m\n",
            "\u001b[0;32mpandas/_libs/parsers.pyx\u001b[0m in \u001b[0;36mpandas._libs.parsers.TextReader._convert_tokens\u001b[0;34m()\u001b[0m\n",
            "\u001b[0;32mpandas/_libs/parsers.pyx\u001b[0m in \u001b[0;36mpandas._libs.parsers.TextReader._convert_with_dtype\u001b[0;34m()\u001b[0m\n",
            "\u001b[0;32m/usr/local/lib/python3.6/dist-packages/pandas/core/dtypes/common.py\u001b[0m in \u001b[0;36mis_categorical_dtype\u001b[0;34m(arr_or_dtype)\u001b[0m\n\u001b[1;32m    676\u001b[0m \u001b[0;34m\u001b[0m\u001b[0m\n\u001b[1;32m    677\u001b[0m \u001b[0;34m\u001b[0m\u001b[0m\n\u001b[0;32m--> 678\u001b[0;31m \u001b[0;32mdef\u001b[0m \u001b[0mis_categorical_dtype\u001b[0m\u001b[0;34m(\u001b[0m\u001b[0marr_or_dtype\u001b[0m\u001b[0;34m)\u001b[0m\u001b[0;34m:\u001b[0m\u001b[0;34m\u001b[0m\u001b[0;34m\u001b[0m\u001b[0m\n\u001b[0m\u001b[1;32m    679\u001b[0m     \"\"\"\n\u001b[1;32m    680\u001b[0m     \u001b[0mCheck\u001b[0m \u001b[0mwhether\u001b[0m \u001b[0man\u001b[0m \u001b[0marray\u001b[0m\u001b[0;34m-\u001b[0m\u001b[0mlike\u001b[0m \u001b[0;32mor\u001b[0m \u001b[0mdtype\u001b[0m \u001b[0;32mis\u001b[0m \u001b[0mof\u001b[0m \u001b[0mthe\u001b[0m \u001b[0mCategorical\u001b[0m \u001b[0mdtype\u001b[0m\u001b[0;34m.\u001b[0m\u001b[0;34m\u001b[0m\u001b[0;34m\u001b[0m\u001b[0m\n",
            "\u001b[0;31mKeyboardInterrupt\u001b[0m: "
          ]
        }
      ]
    },
    {
      "cell_type": "markdown",
      "metadata": {
        "id": "5xNbI8At-N6G",
        "colab_type": "text"
      },
      "source": [
        "_Overview_"
      ]
    },
    {
      "cell_type": "code",
      "metadata": {
        "id": "NjRpKKfy-U0O",
        "colab_type": "code",
        "colab": {}
      },
      "source": [
        "print(\"Number rows total: \"+str(len(loans_lender)))\n",
        "loans_lender.head()"
      ],
      "execution_count": 0,
      "outputs": []
    },
    {
      "cell_type": "markdown",
      "metadata": {
        "id": "XtUUcFYDHUeD",
        "colab_type": "text"
      },
      "source": [
        "### Split each lender for each loan_id"
      ]
    },
    {
      "cell_type": "code",
      "metadata": {
        "id": "qeZeYsGHBUup",
        "colab_type": "code",
        "colab": {}
      },
      "source": [
        "loans_lender[\"lenders\"]=loans_lender[\"lenders\"].str.split(', ') #creazione lista per ogni riga\n",
        "loans_lender_norm=loans_lender.explode('lenders') #trasformazione ogni elemento della lista come una riga"
      ],
      "execution_count": 0,
      "outputs": []
    },
    {
      "cell_type": "code",
      "metadata": {
        "id": "dAMLx8OKAiNY",
        "colab_type": "code",
        "colab": {}
      },
      "source": [
        "loans_lender_norm=loans_lender_norm.reset_index(drop=True)"
      ],
      "execution_count": 0,
      "outputs": []
    },
    {
      "cell_type": "markdown",
      "metadata": {
        "id": "APH26ZJ3D5l-",
        "colab_type": "text"
      },
      "source": [
        "### _Result_"
      ]
    },
    {
      "cell_type": "code",
      "metadata": {
        "id": "RrsCO8-mCJmi",
        "colab_type": "code",
        "colab": {}
      },
      "source": [
        "loans_lender_norm.head()"
      ],
      "execution_count": 0,
      "outputs": []
    },
    {
      "cell_type": "markdown",
      "metadata": {
        "id": "YZbRGXk2DZKq",
        "colab_type": "text"
      },
      "source": [
        "## Task2\n",
        "- For each loan, add a column duration corresponding to the number of days between the disburse time and the planned expiration time"
      ]
    },
    {
      "cell_type": "markdown",
      "metadata": {
        "id": "8hizSkn5LXfV",
        "colab_type": "text"
      },
      "source": [
        "### Load csv (loans)"
      ]
    },
    {
      "cell_type": "code",
      "metadata": {
        "id": "wOJrqF4kDc-U",
        "colab_type": "code",
        "colab": {}
      },
      "source": [
        "loan = pd.read_csv('/content/drive/My Drive/Foundation of computer science/additional-kiva-snapshot/loans.csv')"
      ],
      "execution_count": 0,
      "outputs": []
    },
    {
      "cell_type": "markdown",
      "metadata": {
        "id": "09Mreg75A6Un",
        "colab_type": "text"
      },
      "source": [
        "_Overview_"
      ]
    },
    {
      "cell_type": "code",
      "metadata": {
        "id": "nxlPKclPFppe",
        "colab_type": "code",
        "colab": {}
      },
      "source": [
        "loan.dtypes"
      ],
      "execution_count": 0,
      "outputs": []
    },
    {
      "cell_type": "code",
      "metadata": {
        "id": "64UhvtJ7BcV_",
        "colab_type": "code",
        "colab": {}
      },
      "source": [
        "print('Number rows total: '+str(len(loan)))\n",
        "loan.head()"
      ],
      "execution_count": 0,
      "outputs": []
    },
    {
      "cell_type": "markdown",
      "metadata": {
        "id": "J-5FlPjEooYP",
        "colab_type": "text"
      },
      "source": [
        "### Check missing values"
      ]
    },
    {
      "cell_type": "code",
      "metadata": {
        "id": "cZCHUpNRarl2",
        "colab_type": "code",
        "colab": {}
      },
      "source": [
        "missing_loan_expiration = pd.isnull(loan[['planned_expiration_time']])\n",
        "missing_loan_disburse = pd.isnull(loan[['disburse_time']])"
      ],
      "execution_count": 0,
      "outputs": []
    },
    {
      "cell_type": "code",
      "metadata": {
        "id": "K39I0iLPREhe",
        "colab_type": "code",
        "colab": {}
      },
      "source": [
        "missing_loan_index_e = missing_loan_expiration[missing_loan_expiration['planned_expiration_time']==True].index\n",
        "missing_loan_index_d = missing_loan_disburse[missing_loan_disburse['disburse_time']==True].index"
      ],
      "execution_count": 0,
      "outputs": []
    },
    {
      "cell_type": "code",
      "metadata": {
        "id": "xL_ZQf3sV72I",
        "colab_type": "code",
        "colab": {}
      },
      "source": [
        "print('Number rows which have nan values planned_expiration_time: '+str(len(missing_loan_index_e)))\n",
        "print('Number rows which have nan values disburse_time: '+str(len(missing_loan_index_d)))"
      ],
      "execution_count": 0,
      "outputs": []
    },
    {
      "cell_type": "code",
      "metadata": {
        "id": "oRZtAejQRo-U",
        "colab_type": "code",
        "colab": {}
      },
      "source": [
        "missing_loan_index = missing_loan_index_e.union(missing_loan_index_d) #union indici nan disburse e nan expiration"
      ],
      "execution_count": 0,
      "outputs": []
    },
    {
      "cell_type": "code",
      "metadata": {
        "id": "17weT9aMC30j",
        "colab_type": "code",
        "colab": {}
      },
      "source": [
        "loan.loc[missing_loan_index][['planned_expiration_time','disburse_time']]"
      ],
      "execution_count": 0,
      "outputs": []
    },
    {
      "cell_type": "code",
      "metadata": {
        "id": "DMRls-drrNEq",
        "colab_type": "code",
        "colab": {}
      },
      "source": [
        "type(loan.loc[67][['planned_expiration_time']][0]), type(loan.loc[68][['planned_expiration_time']][0])"
      ],
      "execution_count": 0,
      "outputs": []
    },
    {
      "cell_type": "markdown",
      "metadata": {
        "id": "VCwDEftFpehQ",
        "colab_type": "text"
      },
      "source": [
        "### Conversion attributes\n",
        "_2 steps_\n",
        "1. planned_expiration_time, disburse_time to _String_\n",
        "2. planned_expiration_time, disburse_time to _Datetime_"
      ]
    },
    {
      "cell_type": "code",
      "metadata": {
        "id": "PDrsHjvadm2l",
        "colab_type": "code",
        "colab": {}
      },
      "source": [
        "loan['planned_expiration_time']=loan['planned_expiration_time'].astype(str)\n",
        "loan['disburse_time']=loan['disburse_time'].astype(str)"
      ],
      "execution_count": 0,
      "outputs": []
    },
    {
      "cell_type": "code",
      "metadata": {
        "id": "LqOA-KnlEpDI",
        "colab_type": "code",
        "colab": {}
      },
      "source": [
        "loan.loc[64:66][['planned_expiration_time','disburse_time']]"
      ],
      "execution_count": 0,
      "outputs": []
    },
    {
      "cell_type": "code",
      "metadata": {
        "id": "n9ejOsHWFp4a",
        "colab_type": "code",
        "colab": {}
      },
      "source": [
        "missing = loan.loc[missing_loan_index]\n",
        "print('Number rows missing: '+str(len(missing)))\n",
        "print('Ratio missing: '+str(len(missing) / len(loan)))"
      ],
      "execution_count": 0,
      "outputs": []
    },
    {
      "cell_type": "code",
      "metadata": {
        "id": "eAXogh_1I0LW",
        "colab_type": "code",
        "colab": {}
      },
      "source": [
        "missing[missing['loan_id']==269368]"
      ],
      "execution_count": 0,
      "outputs": []
    },
    {
      "cell_type": "code",
      "metadata": {
        "id": "XfMTOttaGOOQ",
        "colab_type": "code",
        "colab": {}
      },
      "source": [
        "loan = loan.drop(missing_loan_index,axis=0) #eliminazione righe che hanno valori nan attributo 'disburse' oppure 'planned_expiration_time'"
      ],
      "execution_count": 0,
      "outputs": []
    },
    {
      "cell_type": "code",
      "metadata": {
        "id": "iizfIZjpD59W",
        "colab_type": "code",
        "colab": {}
      },
      "source": [
        "#set lentissimo 1 minuto e passa\n",
        "loan['planned_expiration_time']=loan.apply(lambda x: datetime.strptime(x['planned_expiration_time'][:-10],'%Y-%m-%d %H:%M:%S'),axis=1)\n",
        "loan['disburse_time']=loan.apply(lambda x: datetime.strptime(x['disburse_time'][:-10],'%Y-%m-%d %H:%M:%S'),axis=1)"
      ],
      "execution_count": 0,
      "outputs": []
    },
    {
      "cell_type": "markdown",
      "metadata": {
        "id": "WWhangtDfGEA",
        "colab_type": "text"
      },
      "source": [
        "### Compute difference between planned_expiration_time and disburse_time"
      ]
    },
    {
      "cell_type": "code",
      "metadata": {
        "id": "7OFOFc7ehLd1",
        "colab_type": "code",
        "colab": {}
      },
      "source": [
        "loan['duration'] = loan['planned_expiration_time']- loan['disburse_time'] #si ottiene oggetto timedelta\n",
        "loan['duration'] = loan.apply(lambda x: x['duration'].days,axis=1)"
      ],
      "execution_count": 0,
      "outputs": []
    },
    {
      "cell_type": "markdown",
      "metadata": {
        "id": "TnR7jN8C62t8",
        "colab_type": "text"
      },
      "source": [
        "### Function needed to convert date to DateTime (used only for the rows that have nan values)"
      ]
    },
    {
      "cell_type": "code",
      "metadata": {
        "id": "dDd3RART7hFU",
        "colab_type": "code",
        "colab": {}
      },
      "source": [
        "def convert_date(date):\n",
        "  if date!='nan':\n",
        "    date = datetime.strptime(date[:-10],'%Y-%m-%d %H:%M:%S')\n",
        "  return date"
      ],
      "execution_count": 0,
      "outputs": []
    },
    {
      "cell_type": "code",
      "metadata": {
        "id": "-M6nQZ036B9h",
        "colab_type": "code",
        "colab": {}
      },
      "source": [
        "missing['disburse_time'] = missing.apply(lambda x: convert_date(x['disburse_time']),axis=1)"
      ],
      "execution_count": 0,
      "outputs": []
    },
    {
      "cell_type": "code",
      "metadata": {
        "id": "SMcnyAhE73nu",
        "colab_type": "code",
        "colab": {}
      },
      "source": [
        "missing['planned_expiration_time'] = missing.apply(lambda x: convert_date(x['planned_expiration_time']),axis=1)"
      ],
      "execution_count": 0,
      "outputs": []
    },
    {
      "cell_type": "code",
      "metadata": {
        "id": "n5UGFQBXBUX0",
        "colab_type": "code",
        "colab": {}
      },
      "source": [
        "missing[missing['loan_id']==269368][['disburse_time','planned_expiration_time']]"
      ],
      "execution_count": 0,
      "outputs": []
    },
    {
      "cell_type": "code",
      "metadata": {
        "id": "KLpGyFWAfn8f",
        "colab_type": "code",
        "colab": {}
      },
      "source": [
        "loan = pd.concat([loan,missing],axis=0,sort=False)"
      ],
      "execution_count": 0,
      "outputs": []
    },
    {
      "cell_type": "markdown",
      "metadata": {
        "id": "v1E4esXdQzYj",
        "colab_type": "text"
      },
      "source": [
        "### _Result_"
      ]
    },
    {
      "cell_type": "code",
      "metadata": {
        "id": "ksaM8dHyycQk",
        "colab_type": "code",
        "colab": {}
      },
      "source": [
        "loan.head()[['planned_expiration_time','disburse_time','duration']]"
      ],
      "execution_count": 0,
      "outputs": []
    },
    {
      "cell_type": "markdown",
      "metadata": {
        "id": "eo2kVaCZKR_g",
        "colab_type": "text"
      },
      "source": [
        "## Task 3\n",
        "- Find the lenders that have funded at least twice"
      ]
    },
    {
      "cell_type": "code",
      "metadata": {
        "id": "qtnMpA9s_VKR",
        "colab_type": "code",
        "colab": {}
      },
      "source": [
        "loan['status'].unique()"
      ],
      "execution_count": 0,
      "outputs": []
    },
    {
      "cell_type": "code",
      "metadata": {
        "id": "ymNALeYaHDbC",
        "colab_type": "code",
        "colab": {}
      },
      "source": [
        "fundedLoan=loan['loan_id']"
      ],
      "execution_count": 0,
      "outputs": []
    },
    {
      "cell_type": "markdown",
      "metadata": {
        "id": "1lUxT7dWnHux",
        "colab_type": "text"
      },
      "source": [
        "### Inner join between lenders_norm and loan"
      ]
    },
    {
      "cell_type": "code",
      "metadata": {
        "id": "-odsXDLHznWt",
        "colab_type": "code",
        "colab": {}
      },
      "source": [
        "lenders_funded = pd.merge(loans_lender_norm,fundedLoan,how='inner',on='loan_id')\n",
        "lenders_funded.head()"
      ],
      "execution_count": 0,
      "outputs": []
    },
    {
      "cell_type": "code",
      "metadata": {
        "id": "4bPS04EKfGF7",
        "colab_type": "code",
        "colab": {}
      },
      "source": [
        "numberfunded_lenders = lenders_funded.groupby('lenders')['loan_id'].count()"
      ],
      "execution_count": 0,
      "outputs": []
    },
    {
      "cell_type": "markdown",
      "metadata": {
        "id": "70Im_Tbx0JsK",
        "colab_type": "text"
      },
      "source": [
        "### Apply constraint after group by "
      ]
    },
    {
      "cell_type": "code",
      "metadata": {
        "id": "KbBA7ZM2zIfZ",
        "colab_type": "code",
        "colab": {}
      },
      "source": [
        "numberfunded_lenders = pd.DataFrame(numberfunded_lenders).reset_index(drop=False)\n",
        "numberfunded_lenders.columns = ['lenders','count']\n",
        "\n",
        "numberfunded_lenders = numberfunded_lenders[numberfunded_lenders['count']>=2]"
      ],
      "execution_count": 0,
      "outputs": []
    },
    {
      "cell_type": "markdown",
      "metadata": {
        "id": "Z9WMYaSl2-gH",
        "colab_type": "text"
      },
      "source": [
        "### _Result_"
      ]
    },
    {
      "cell_type": "code",
      "metadata": {
        "id": "1tVLRNMGeBnn",
        "colab_type": "code",
        "colab": {}
      },
      "source": [
        "numberfunded_lenders.head()"
      ],
      "execution_count": 0,
      "outputs": []
    },
    {
      "cell_type": "markdown",
      "metadata": {
        "id": "Gdy6x4Hg0VAf",
        "colab_type": "text"
      },
      "source": [
        "_Result (ordered)_"
      ]
    },
    {
      "cell_type": "code",
      "metadata": {
        "id": "xUIpzZPp0jO_",
        "colab_type": "code",
        "colab": {}
      },
      "source": [
        "numberfunded_lenders.sort_values(by='count',ascending=False)"
      ],
      "execution_count": 0,
      "outputs": []
    },
    {
      "cell_type": "markdown",
      "metadata": {
        "id": "3m78erQM3Nj0",
        "colab_type": "text"
      },
      "source": [
        "## Task 4\n",
        "- For each country, compute how many loans have involved that country as borrowers."
      ]
    },
    {
      "cell_type": "code",
      "metadata": {
        "id": "3Cd0yvQO1wZ7",
        "colab_type": "code",
        "colab": {}
      },
      "source": [
        "loan[[\"country_name\",\"funded_amount\",\"loan_amount\",\"num_lenders_total\"]]"
      ],
      "execution_count": 0,
      "outputs": []
    },
    {
      "cell_type": "code",
      "metadata": {
        "id": "eML8HtbuKP9s",
        "colab_type": "code",
        "colab": {}
      },
      "source": [
        "#esempio per capire situazione\n",
        "funded=loan[loan['status']=='funded'][['loan_id','country_name','status','currency','funded_amount','loan_amount','num_lenders_total']].head(2)\n",
        "expired=loan[loan['status']=='expired'][['loan_id','country_name','status','funded_amount','loan_amount','num_lenders_total']].head(2)\n",
        "refunded=loan[loan['status']=='refunded'][['loan_id','country_name','status','funded_amount','loan_amount','num_lenders_total']].head(2)\n",
        "fundRaising=loan[loan['status']=='fundRaising'][['loan_id','country_name','status','funded_amount','loan_amount','num_lenders_total']].head(2)\n",
        "\n",
        "esempio = pd.concat([funded,expired,refunded,fundRaising],axis=0,sort=False)\n",
        "\n",
        "esempio"
      ],
      "execution_count": 0,
      "outputs": []
    },
    {
      "cell_type": "markdown",
      "metadata": {
        "id": "QfLNnBktD9PZ",
        "colab_type": "text"
      },
      "source": [
        "### Check missing values"
      ]
    },
    {
      "cell_type": "code",
      "metadata": {
        "id": "BFKmfgGp9Ii4",
        "colab_type": "code",
        "colab": {}
      },
      "source": [
        "missing = pd.isnull(loan[['country_name']])\n",
        "missing[missing['country_name']==True]"
      ],
      "execution_count": 0,
      "outputs": []
    },
    {
      "cell_type": "markdown",
      "metadata": {
        "id": "2_YusR15jYOQ",
        "colab_type": "text"
      },
      "source": [
        "### Delete rows who have 0 as values 'num_lenders_total'"
      ]
    },
    {
      "cell_type": "code",
      "metadata": {
        "id": "_q7JCbFaiYZ9",
        "colab_type": "code",
        "colab": {}
      },
      "source": [
        "loan_noZeroLenders = loan[loan['num_lenders_total']!=0]"
      ],
      "execution_count": 0,
      "outputs": []
    },
    {
      "cell_type": "code",
      "metadata": {
        "id": "TsMVZZZUExNS",
        "colab_type": "code",
        "colab": {}
      },
      "source": [
        "country_numberLoan = loan_noZeroLenders.groupby('country_name')['status'].count()\n",
        "country_numberLoan = pd.DataFrame(country_numberLoan).reset_index(drop=False)\n",
        "country_numberLoan.columns=['country','count']"
      ],
      "execution_count": 0,
      "outputs": []
    },
    {
      "cell_type": "markdown",
      "metadata": {
        "id": "eRZgY4f0GH_W",
        "colab_type": "text"
      },
      "source": [
        "### _Result_"
      ]
    },
    {
      "cell_type": "code",
      "metadata": {
        "id": "ziY0RfAbGJOJ",
        "colab_type": "code",
        "colab": {}
      },
      "source": [
        "country_numberLoan.head()"
      ],
      "execution_count": 0,
      "outputs": []
    },
    {
      "cell_type": "markdown",
      "metadata": {
        "id": "qkbwg3Rs2Xop",
        "colab_type": "text"
      },
      "source": [
        "_Result ordered_"
      ]
    },
    {
      "cell_type": "code",
      "metadata": {
        "id": "2Wdux6wmCLQP",
        "colab_type": "code",
        "colab": {}
      },
      "source": [
        "country_numberLoan.sort_values(by='count',ascending=False)"
      ],
      "execution_count": 0,
      "outputs": []
    },
    {
      "cell_type": "markdown",
      "metadata": {
        "id": "p4fsZmbtT7FR",
        "colab_type": "text"
      },
      "source": [
        "## Task 5\n",
        "- For each country, compute the overall amount of money borrowed.\n",
        "\n",
        "N.B. For this task I've decided to convert 'funded_amount' to USD for each loan due to need to sum all amount money for each country"
      ]
    },
    {
      "cell_type": "markdown",
      "metadata": {
        "id": "3BnlClHEMU8s",
        "colab_type": "text"
      },
      "source": [
        "### Create object CurrencyRates needed to convert money to USD"
      ]
    },
    {
      "cell_type": "code",
      "metadata": {
        "id": "aTx8BZKaQqhe",
        "colab_type": "code",
        "colab": {}
      },
      "source": [
        "'''global currency_list # variabile globale che memorizza tutte le valute dai quali è possibile effettuare conversione in dollari (USD)\n",
        "\n",
        "currency_object = CurrencyRates()\n",
        "currency_list = currency_object.get_rates('USD')'''"
      ],
      "execution_count": 0,
      "outputs": []
    },
    {
      "cell_type": "code",
      "metadata": {
        "id": "6MxOu0nQR9FF",
        "colab_type": "code",
        "colab": {}
      },
      "source": [
        "loan_simplified = loan_noZeroLenders[['loan_id','country_name','disburse_time',\n",
        "                    'funded_amount','loan_amount','currency']]"
      ],
      "execution_count": 0,
      "outputs": []
    },
    {
      "cell_type": "markdown",
      "metadata": {
        "id": "krfz_MhffInQ",
        "colab_type": "text"
      },
      "source": [
        "### Functions needed to check if date represent week-end or not"
      ]
    },
    {
      "cell_type": "code",
      "metadata": {
        "id": "mavEtQ1XfZqA",
        "colab_type": "code",
        "colab": {}
      },
      "source": [
        "def check_weekend(date_time):\n",
        "  date = date_time.date() #conversione data \n",
        "  day_week = date.weekday()\n",
        "  delta=0\n",
        "  if (day_week == 5):\n",
        "    delta = 1\n",
        "  if (day_week == 6):\n",
        "    delta = 2\n",
        "  #print(delta)\n",
        "  date_r = date - timedelta(delta)\n",
        "  return date_r"
      ],
      "execution_count": 0,
      "outputs": []
    },
    {
      "cell_type": "code",
      "metadata": {
        "id": "YXPuhFZ3f3DI",
        "colab_type": "code",
        "outputId": "9ce8f3c2-f895-40c3-d437-131d15c72e25",
        "colab": {
          "base_uri": "https://localhost:8080/",
          "height": 118
        }
      },
      "source": [
        "loan_simplified['disburse_time_API'] = loan_simplified.apply(lambda x: check_weekend(x['disburse_time']),axis=1)"
      ],
      "execution_count": 173,
      "outputs": [
        {
          "output_type": "stream",
          "text": [
            "/usr/local/lib/python3.6/dist-packages/ipykernel_launcher.py:1: SettingWithCopyWarning: \n",
            "A value is trying to be set on a copy of a slice from a DataFrame.\n",
            "Try using .loc[row_indexer,col_indexer] = value instead\n",
            "\n",
            "See the caveats in the documentation: http://pandas.pydata.org/pandas-docs/stable/user_guide/indexing.html#returning-a-view-versus-a-copy\n",
            "  \"\"\"Entry point for launching an IPython kernel.\n"
          ],
          "name": "stderr"
        }
      ]
    },
    {
      "cell_type": "code",
      "metadata": {
        "id": "CZIL4iOzhkpg",
        "colab_type": "code",
        "outputId": "f1d77d4d-25e9-4047-f64c-4d5e197c32d7",
        "colab": {
          "base_uri": "https://localhost:8080/",
          "height": 118
        }
      },
      "source": [
        "loan_simplified['disburse_time_API']=loan_simplified['disburse_time_API'].astype(str)"
      ],
      "execution_count": 174,
      "outputs": [
        {
          "output_type": "stream",
          "text": [
            "/usr/local/lib/python3.6/dist-packages/ipykernel_launcher.py:1: SettingWithCopyWarning: \n",
            "A value is trying to be set on a copy of a slice from a DataFrame.\n",
            "Try using .loc[row_indexer,col_indexer] = value instead\n",
            "\n",
            "See the caveats in the documentation: http://pandas.pydata.org/pandas-docs/stable/user_guide/indexing.html#returning-a-view-versus-a-copy\n",
            "  \"\"\"Entry point for launching an IPython kernel.\n"
          ],
          "name": "stderr"
        }
      ]
    },
    {
      "cell_type": "markdown",
      "metadata": {
        "id": "olGHi4L7okqe",
        "colab_type": "text"
      },
      "source": [
        "### Check missing values"
      ]
    },
    {
      "cell_type": "code",
      "metadata": {
        "id": "M5ctgIlXnYMM",
        "colab_type": "code",
        "outputId": "6c428e8c-770d-4217-98c9-f152fa5c1b7b",
        "colab": {
          "base_uri": "https://localhost:8080/",
          "height": 47
        }
      },
      "source": [
        "missing = pd.isnull(loan_simplified[['currency']])\n",
        "missing[missing['currency']==True]"
      ],
      "execution_count": 175,
      "outputs": [
        {
          "output_type": "execute_result",
          "data": {
            "text/html": [
              "<div>\n",
              "<style scoped>\n",
              "    .dataframe tbody tr th:only-of-type {\n",
              "        vertical-align: middle;\n",
              "    }\n",
              "\n",
              "    .dataframe tbody tr th {\n",
              "        vertical-align: top;\n",
              "    }\n",
              "\n",
              "    .dataframe thead th {\n",
              "        text-align: right;\n",
              "    }\n",
              "</style>\n",
              "<table border=\"1\" class=\"dataframe\">\n",
              "  <thead>\n",
              "    <tr style=\"text-align: right;\">\n",
              "      <th></th>\n",
              "      <th>currency</th>\n",
              "    </tr>\n",
              "  </thead>\n",
              "  <tbody>\n",
              "  </tbody>\n",
              "</table>\n",
              "</div>"
            ],
            "text/plain": [
              "Empty DataFrame\n",
              "Columns: [currency]\n",
              "Index: []"
            ]
          },
          "metadata": {
            "tags": []
          },
          "execution_count": 175
        }
      ]
    },
    {
      "cell_type": "code",
      "metadata": {
        "id": "n1yATAGEavSh",
        "colab_type": "code",
        "colab": {}
      },
      "source": [
        "date = loan_simplified['disburse_time_API'][0]\n",
        "request_link = 'https://api.exchangeratesapi.io/history?start_at='+date+\"&end_at=\"+date+\"&base=USD\"\n",
        "\n",
        "request_API = requests.get(request_link) #richiesta API\n",
        "dict_request = request_API.json()"
      ],
      "execution_count": 0,
      "outputs": []
    },
    {
      "cell_type": "code",
      "metadata": {
        "id": "d44TT07Wo4Bi",
        "colab_type": "code",
        "colab": {}
      },
      "source": [
        "dict_currency_legend = dict_request['rates'][date]"
      ],
      "execution_count": 0,
      "outputs": []
    },
    {
      "cell_type": "code",
      "metadata": {
        "id": "2jsD9aLVsJ0X",
        "colab_type": "code",
        "colab": {}
      },
      "source": [
        "global currency_list_legend"
      ],
      "execution_count": 0,
      "outputs": []
    },
    {
      "cell_type": "code",
      "metadata": {
        "id": "nB-FPobuZ_Dj",
        "colab_type": "code",
        "colab": {}
      },
      "source": [
        "currency_list_legend = dict_currency_legend.keys() #lista currency convertibile"
      ],
      "execution_count": 0,
      "outputs": []
    },
    {
      "cell_type": "markdown",
      "metadata": {
        "id": "b2yvut9JN9_U",
        "colab_type": "text"
      },
      "source": [
        "### Functions needed to convert each money amount from current currency to USD"
      ]
    },
    {
      "cell_type": "code",
      "metadata": {
        "id": "ikMC1kyNEHlc",
        "colab_type": "code",
        "colab": {}
      },
      "source": [
        "def check_currency(currency): #controlla se valuta corrente è 'convertibile' (esiste tasso di cambio)\n",
        "  if currency not in currency_list_legend:\n",
        "    conv = False\n",
        "  else:\n",
        "    conv = True\n",
        "  return conv"
      ],
      "execution_count": 0,
      "outputs": []
    },
    {
      "cell_type": "code",
      "metadata": {
        "id": "dFx5BSHUPY_h",
        "colab_type": "code",
        "colab": {}
      },
      "source": [
        "def create_dictionary_currency(list_dict): #funzione che crea dizionario da una lista\n",
        "  dates_dict = defaultdict(list)\n",
        "  for key, info in list_dict:\n",
        "    #print(key, info)\n",
        "    dates_dict[key].append(info)\n",
        "  return dates_dict"
      ],
      "execution_count": 0,
      "outputs": []
    },
    {
      "cell_type": "code",
      "metadata": {
        "id": "tL7JpdqB1KPh",
        "colab_type": "code",
        "colab": {}
      },
      "source": [
        "currency_included = pd.DataFrame(loan_simplified['currency'].unique())\n",
        "currency_included.columns=['currency']\n",
        "currency_included = currency_included[currency_included['currency']!='USD']"
      ],
      "execution_count": 0,
      "outputs": []
    },
    {
      "cell_type": "code",
      "metadata": {
        "id": "_xmeVaoqJDor",
        "colab_type": "code",
        "colab": {}
      },
      "source": [
        "currency_included['conversion'] = currency_included.apply(lambda x: check_currency(x['currency']),axis=1)"
      ],
      "execution_count": 0,
      "outputs": []
    },
    {
      "cell_type": "markdown",
      "metadata": {
        "id": "fL8FGF9qrVI9",
        "colab_type": "text"
      },
      "source": [
        "### Left join between loans and currency convertible"
      ]
    },
    {
      "cell_type": "code",
      "metadata": {
        "id": "nHRUzy1LJmjM",
        "colab_type": "code",
        "colab": {}
      },
      "source": [
        "loan_simplified = pd.merge(loan_simplified,currency_included,how='left',on='currency')"
      ],
      "execution_count": 0,
      "outputs": []
    },
    {
      "cell_type": "code",
      "metadata": {
        "id": "B4MP1cUoKu3k",
        "colab_type": "code",
        "colab": {}
      },
      "source": [
        "firstBlock = loan_simplified[loan_simplified['conversion']==True] #parte df dove le valute possone essere convertite\n",
        "firstBlock_index = firstBlock.index"
      ],
      "execution_count": 0,
      "outputs": []
    },
    {
      "cell_type": "code",
      "metadata": {
        "id": "pAlSDRPnWbgh",
        "colab_type": "code",
        "outputId": "0fe8f9d7-0b80-4d9a-ba31-b92d13194210",
        "colab": {
          "base_uri": "https://localhost:8080/",
          "height": 252
        }
      },
      "source": [
        "firstBlock.groupby('currency')['loan_id'].count()"
      ],
      "execution_count": 187,
      "outputs": [
        {
          "output_type": "execute_result",
          "data": {
            "text/plain": [
              "currency\n",
              "BGN        64\n",
              "BRL       465\n",
              "CNY       125\n",
              "EUR      2180\n",
              "IDR     10041\n",
              "ILS       467\n",
              "INR     15069\n",
              "MXN     17155\n",
              "PHP    285256\n",
              "THB       110\n",
              "TRY      2008\n",
              "ZAR       596\n",
              "Name: loan_id, dtype: int64"
            ]
          },
          "metadata": {
            "tags": []
          },
          "execution_count": 187
        }
      ]
    },
    {
      "cell_type": "code",
      "metadata": {
        "id": "H_nNjaFvT1gz",
        "colab_type": "code",
        "colab": {}
      },
      "source": [
        "secondBlock = loan_simplified.drop(firstBlock_index,axis=0)"
      ],
      "execution_count": 0,
      "outputs": []
    },
    {
      "cell_type": "code",
      "metadata": {
        "id": "ZK4NLppc08kq",
        "colab_type": "code",
        "colab": {}
      },
      "source": [
        "secondBlock['funded_amount_conversion_USD'] = secondBlock['funded_amount']"
      ],
      "execution_count": 0,
      "outputs": []
    },
    {
      "cell_type": "markdown",
      "metadata": {
        "id": "Kip10pFWbiJh",
        "colab_type": "text"
      },
      "source": [
        "### Functions needed to get last business day if date was holiday"
      ]
    },
    {
      "cell_type": "code",
      "metadata": {
        "id": "jVTvlZUPIcCP",
        "colab_type": "code",
        "colab": {}
      },
      "source": [
        "def get_last_business_day(date,holidays):\n",
        "  i=1\n",
        "  date = date - timedelta(i)\n",
        "  while date in holidays or date.weekday()>=5:\n",
        "    date = date - timedelta(1)\n",
        "  return date\n",
        "    \n",
        "\n",
        "def check_holidays(date):\n",
        "  date_datetime = datetime.strptime(date,'%Y-%m-%d')\n",
        "  holiday_EU = holidays.EuropeanCentralBank(years = date_datetime.year)\n",
        "  if date in holiday_EU:\n",
        "    #print(\"Festività\")\n",
        "    date_r=get_last_business_day(date_datetime,holiday_EU)\n",
        "    date_r=date_r.strftime('%Y-%m-%d')\n",
        "  else:\n",
        "    date_r=date\n",
        "  return date_r"
      ],
      "execution_count": 0,
      "outputs": []
    },
    {
      "cell_type": "code",
      "metadata": {
        "id": "RR5VfUqcFWo8",
        "colab_type": "code",
        "outputId": "1ca3f7c4-84b8-4257-90f2-9cbc1c803c1b",
        "colab": {
          "base_uri": "https://localhost:8080/",
          "height": 118
        }
      },
      "source": [
        "firstBlock['disburse_time_API']= firstBlock.apply(lambda x: check_holidays(x['disburse_time_API']),axis=1)"
      ],
      "execution_count": 191,
      "outputs": [
        {
          "output_type": "stream",
          "text": [
            "/usr/local/lib/python3.6/dist-packages/ipykernel_launcher.py:1: SettingWithCopyWarning: \n",
            "A value is trying to be set on a copy of a slice from a DataFrame.\n",
            "Try using .loc[row_indexer,col_indexer] = value instead\n",
            "\n",
            "See the caveats in the documentation: http://pandas.pydata.org/pandas-docs/stable/user_guide/indexing.html#returning-a-view-versus-a-copy\n",
            "  \"\"\"Entry point for launching an IPython kernel.\n"
          ],
          "name": "stderr"
        }
      ]
    },
    {
      "cell_type": "markdown",
      "metadata": {
        "id": "TjB-ShaNtCpg",
        "colab_type": "text"
      },
      "source": [
        "### Functions that use API"
      ]
    },
    {
      "cell_type": "code",
      "metadata": {
        "id": "i0VXdycRtCDm",
        "colab_type": "code",
        "colab": {}
      },
      "source": [
        "def get_pair(currency, date):\n",
        "  pair = (date,currency)\n",
        "  return pair\n",
        "\n",
        "def fill_list_map1(currency, dates):\n",
        "  dates_list = [item for sublist in dates for item in sublist] #date loan di ogni valuta\n",
        "  info_rate = list(map (functools.partial(get_pair, currency), dates_list)) #funzione viene passata la stessa valuta\n",
        "  return info_rate\n",
        "\n",
        "def create_list_currency_map1(df, currency_list):\n",
        "  dict_currency_list=list()\n",
        "  date_loan_list = list()\n",
        "  for i in currency_list:\n",
        "    loan_currency = df[df['currency']==i][['disburse_time_API','currency']]\n",
        "    date_loan_currency = set(loan_currency['disburse_time_API'].tolist()) #elimino date duplicate\n",
        "    date_loan_list.append([date_loan_currency])\n",
        "\n",
        "  \n",
        "  dict_currency_list = list(map(lambda x,y: fill_list_map1(x,y), currency_list, date_loan_list))\n",
        "  return dict_currency_list"
      ],
      "execution_count": 0,
      "outputs": []
    },
    {
      "cell_type": "code",
      "metadata": {
        "id": "f3UKnUGfu5-H",
        "colab_type": "code",
        "colab": {}
      },
      "source": [
        "currency = firstBlock['currency'].unique()\n",
        "dict_currency_list = create_list_currency_map1(firstBlock, currency)"
      ],
      "execution_count": 0,
      "outputs": []
    },
    {
      "cell_type": "code",
      "metadata": {
        "colab_type": "code",
        "id": "b74Gaiow5bZc",
        "colab": {}
      },
      "source": [
        "flat_dict_currency_list = [item for sublist in dict_currency_list for item in sublist]\n",
        "dict_date_currency = create_dictionary_currency(flat_dict_currency_list)"
      ],
      "execution_count": 0,
      "outputs": []
    },
    {
      "cell_type": "code",
      "metadata": {
        "id": "K9_4G9AIOP54",
        "colab_type": "code",
        "colab": {}
      },
      "source": [
        "def get_info_from_API(date):\n",
        "  date = date.strftime('%Y-%m-%d')\n",
        "  request = 'https://api.exchangeratesapi.io/history?start_at='+date+'&end_at='+date+'&base=USD'\n",
        "  request_API = requests.get(request)\n",
        "  dict_API = request_API.json()\n",
        "  dict_API = dict_API['rates'][date]\n",
        "  return dict_API\n",
        "\n",
        "def get_last_date_currency(currency,date):\n",
        "  #print(date)\n",
        "  date = datetime.strptime(date,'%Y-%m-%d')\n",
        "  date = date - timedelta(1)\n",
        "  dict_result = get_info_from_API(date)\n",
        "  while currency not in dict_result.keys():\n",
        "    date = date - timedelta(1)\n",
        "    dict_result = get_info_from_API(date)\n",
        "  return dict_result[currency]"
      ],
      "execution_count": 0,
      "outputs": []
    },
    {
      "cell_type": "code",
      "metadata": {
        "id": "NDAOQLQl51mU",
        "colab_type": "code",
        "colab": {}
      },
      "source": [
        "def extract_rate(dict_API, date,currency):\n",
        "  if currency in dict_API.keys():\n",
        "    rate = dict_API[currency]\n",
        "  else:\n",
        "    rate = get_last_date_currency(currency,date)\n",
        "  return (currency,rate)\n",
        "\n",
        "def call_API(dict_date,date):\n",
        "  request = 'https://api.exchangeratesapi.io/history?start_at='+date+'&end_at='+date+'&base=USD'\n",
        "  request_API = requests.get(request)\n",
        "  dict_API = request_API.json()\n",
        "  dict_API = dict_API['rates'][date]\n",
        "  rate_currency = list(map (functools.partial(extract_rate, dict_API, date), dict_date[date]))\n",
        "  #print(rate_currency)\n",
        "  return (date,rate_currency)\n",
        "\n",
        "\n",
        "def get_list_currency_rate(dates_list,dict_date):\n",
        "  rate_list = list(map (functools.partial(call_API, dict_date), dates_list))\n",
        "  return rate_list"
      ],
      "execution_count": 0,
      "outputs": []
    },
    {
      "cell_type": "code",
      "metadata": {
        "id": "HN4ciEBg9tlc",
        "colab_type": "code",
        "colab": {}
      },
      "source": [
        "dates_request = dict_date_currency.keys() #lista date da usare per chiamare API\n",
        "dates_request = list(dates_request)"
      ],
      "execution_count": 0,
      "outputs": []
    },
    {
      "cell_type": "code",
      "metadata": {
        "colab_type": "code",
        "id": "yWH3N9dZ_Fhc",
        "colab": {
          "base_uri": "https://localhost:8080/",
          "height": 303
        },
        "outputId": "890fef41-ee6a-45e5-93ba-c8220b72ad0e"
      },
      "source": [
        "dict_currency_list = get_list_currency_rate(dates_request, dict_date_currency)"
      ],
      "execution_count": 208,
      "outputs": [
        {
          "output_type": "error",
          "ename": "KeyError",
          "evalue": "ignored",
          "traceback": [
            "\u001b[0;31m---------------------------------------------------------------------------\u001b[0m",
            "\u001b[0;31mKeyError\u001b[0m                                  Traceback (most recent call last)",
            "\u001b[0;32m<ipython-input-208-2cbab36a4969>\u001b[0m in \u001b[0;36m<module>\u001b[0;34m()\u001b[0m\n\u001b[0;32m----> 1\u001b[0;31m \u001b[0mdict_currency_list\u001b[0m \u001b[0;34m=\u001b[0m \u001b[0mget_list_currency_rate\u001b[0m\u001b[0;34m(\u001b[0m\u001b[0mdates_request\u001b[0m\u001b[0;34m,\u001b[0m \u001b[0mdict_date_currency\u001b[0m\u001b[0;34m)\u001b[0m\u001b[0;34m\u001b[0m\u001b[0;34m\u001b[0m\u001b[0m\n\u001b[0m",
            "\u001b[0;32m<ipython-input-206-c7c3ed09b84f>\u001b[0m in \u001b[0;36mget_list_currency_rate\u001b[0;34m(dates_list, dict_date)\u001b[0m\n\u001b[1;32m     17\u001b[0m \u001b[0;34m\u001b[0m\u001b[0m\n\u001b[1;32m     18\u001b[0m \u001b[0;32mdef\u001b[0m \u001b[0mget_list_currency_rate\u001b[0m\u001b[0;34m(\u001b[0m\u001b[0mdates_list\u001b[0m\u001b[0;34m,\u001b[0m\u001b[0mdict_date\u001b[0m\u001b[0;34m)\u001b[0m\u001b[0;34m:\u001b[0m\u001b[0;34m\u001b[0m\u001b[0;34m\u001b[0m\u001b[0m\n\u001b[0;32m---> 19\u001b[0;31m   \u001b[0mrate_list\u001b[0m \u001b[0;34m=\u001b[0m \u001b[0mlist\u001b[0m\u001b[0;34m(\u001b[0m\u001b[0mmap\u001b[0m \u001b[0;34m(\u001b[0m\u001b[0mfunctools\u001b[0m\u001b[0;34m.\u001b[0m\u001b[0mpartial\u001b[0m\u001b[0;34m(\u001b[0m\u001b[0mcall_API\u001b[0m\u001b[0;34m,\u001b[0m \u001b[0mdict_date\u001b[0m\u001b[0;34m)\u001b[0m\u001b[0;34m,\u001b[0m \u001b[0mdates_list\u001b[0m\u001b[0;34m)\u001b[0m\u001b[0;34m)\u001b[0m\u001b[0;34m\u001b[0m\u001b[0;34m\u001b[0m\u001b[0m\n\u001b[0m\u001b[1;32m     20\u001b[0m   \u001b[0;32mreturn\u001b[0m \u001b[0mrate_list\u001b[0m\u001b[0;34m\u001b[0m\u001b[0;34m\u001b[0m\u001b[0m\n",
            "\u001b[0;32m<ipython-input-206-c7c3ed09b84f>\u001b[0m in \u001b[0;36mcall_API\u001b[0;34m(dict_date, date)\u001b[0m\n\u001b[1;32m     11\u001b[0m   \u001b[0mdict_API\u001b[0m \u001b[0;34m=\u001b[0m \u001b[0mrequest_API\u001b[0m\u001b[0;34m.\u001b[0m\u001b[0mjson\u001b[0m\u001b[0;34m(\u001b[0m\u001b[0;34m)\u001b[0m\u001b[0;34m\u001b[0m\u001b[0;34m\u001b[0m\u001b[0m\n\u001b[1;32m     12\u001b[0m   \u001b[0mdict_API\u001b[0m \u001b[0;34m=\u001b[0m \u001b[0mdict_API\u001b[0m\u001b[0;34m[\u001b[0m\u001b[0;34m'rates'\u001b[0m\u001b[0;34m]\u001b[0m\u001b[0;34m[\u001b[0m\u001b[0mdate\u001b[0m\u001b[0;34m]\u001b[0m\u001b[0;34m\u001b[0m\u001b[0;34m\u001b[0m\u001b[0m\n\u001b[0;32m---> 13\u001b[0;31m   \u001b[0mrate_currency\u001b[0m \u001b[0;34m=\u001b[0m \u001b[0mlist\u001b[0m\u001b[0;34m(\u001b[0m\u001b[0mmap\u001b[0m \u001b[0;34m(\u001b[0m\u001b[0mfunctools\u001b[0m\u001b[0;34m.\u001b[0m\u001b[0mpartial\u001b[0m\u001b[0;34m(\u001b[0m\u001b[0mextract_rate\u001b[0m\u001b[0;34m,\u001b[0m \u001b[0mdict_API\u001b[0m\u001b[0;34m,\u001b[0m \u001b[0mdate\u001b[0m\u001b[0;34m)\u001b[0m\u001b[0;34m,\u001b[0m \u001b[0mdict_date\u001b[0m\u001b[0;34m[\u001b[0m\u001b[0mdate\u001b[0m\u001b[0;34m]\u001b[0m\u001b[0;34m)\u001b[0m\u001b[0;34m)\u001b[0m\u001b[0;34m\u001b[0m\u001b[0;34m\u001b[0m\u001b[0m\n\u001b[0m\u001b[1;32m     14\u001b[0m   \u001b[0;31m#print(rate_currency)\u001b[0m\u001b[0;34m\u001b[0m\u001b[0;34m\u001b[0m\u001b[0;34m\u001b[0m\u001b[0m\n\u001b[1;32m     15\u001b[0m   \u001b[0;32mreturn\u001b[0m \u001b[0;34m(\u001b[0m\u001b[0mdate\u001b[0m\u001b[0;34m,\u001b[0m\u001b[0mrate_currency\u001b[0m\u001b[0;34m)\u001b[0m\u001b[0;34m\u001b[0m\u001b[0;34m\u001b[0m\u001b[0m\n",
            "\u001b[0;32m<ipython-input-206-c7c3ed09b84f>\u001b[0m in \u001b[0;36mextract_rate\u001b[0;34m(dict_API, date, currency)\u001b[0m\n\u001b[1;32m      3\u001b[0m     \u001b[0mrate\u001b[0m \u001b[0;34m=\u001b[0m \u001b[0mdict_API\u001b[0m\u001b[0;34m[\u001b[0m\u001b[0mcurrency\u001b[0m\u001b[0;34m]\u001b[0m\u001b[0;34m\u001b[0m\u001b[0;34m\u001b[0m\u001b[0m\n\u001b[1;32m      4\u001b[0m   \u001b[0;32melse\u001b[0m\u001b[0;34m:\u001b[0m\u001b[0;34m\u001b[0m\u001b[0;34m\u001b[0m\u001b[0m\n\u001b[0;32m----> 5\u001b[0;31m     \u001b[0mrate\u001b[0m \u001b[0;34m=\u001b[0m \u001b[0mget_last_date_currency\u001b[0m\u001b[0;34m(\u001b[0m\u001b[0mcurrency\u001b[0m\u001b[0;34m,\u001b[0m\u001b[0mdate\u001b[0m\u001b[0;34m)\u001b[0m\u001b[0;34m\u001b[0m\u001b[0;34m\u001b[0m\u001b[0m\n\u001b[0m\u001b[1;32m      6\u001b[0m   \u001b[0;32mreturn\u001b[0m \u001b[0;34m(\u001b[0m\u001b[0mcurrency\u001b[0m\u001b[0;34m,\u001b[0m\u001b[0mrate\u001b[0m\u001b[0;34m)\u001b[0m\u001b[0;34m\u001b[0m\u001b[0;34m\u001b[0m\u001b[0m\n\u001b[1;32m      7\u001b[0m \u001b[0;34m\u001b[0m\u001b[0m\n",
            "\u001b[0;32m<ipython-input-205-bc39bd025c10>\u001b[0m in \u001b[0;36mget_last_date_currency\u001b[0;34m(currency, date)\u001b[0m\n\u001b[1;32m     14\u001b[0m   \u001b[0;32mwhile\u001b[0m \u001b[0mcurrency\u001b[0m \u001b[0;32mnot\u001b[0m \u001b[0;32min\u001b[0m \u001b[0mdict_result\u001b[0m\u001b[0;34m.\u001b[0m\u001b[0mkeys\u001b[0m\u001b[0;34m(\u001b[0m\u001b[0;34m)\u001b[0m\u001b[0;34m:\u001b[0m\u001b[0;34m\u001b[0m\u001b[0;34m\u001b[0m\u001b[0m\n\u001b[1;32m     15\u001b[0m     \u001b[0mdate\u001b[0m \u001b[0;34m=\u001b[0m \u001b[0mdate\u001b[0m \u001b[0;34m-\u001b[0m \u001b[0mtimedelta\u001b[0m\u001b[0;34m(\u001b[0m\u001b[0;36m1\u001b[0m\u001b[0;34m)\u001b[0m\u001b[0;34m\u001b[0m\u001b[0;34m\u001b[0m\u001b[0m\n\u001b[0;32m---> 16\u001b[0;31m     \u001b[0mdict_result\u001b[0m \u001b[0;34m=\u001b[0m \u001b[0mget_info_from_API\u001b[0m\u001b[0;34m(\u001b[0m\u001b[0mdate\u001b[0m\u001b[0;34m)\u001b[0m\u001b[0;34m\u001b[0m\u001b[0;34m\u001b[0m\u001b[0m\n\u001b[0m\u001b[1;32m     17\u001b[0m   \u001b[0;32mreturn\u001b[0m \u001b[0mdict_result\u001b[0m\u001b[0;34m[\u001b[0m\u001b[0mcurrency\u001b[0m\u001b[0;34m]\u001b[0m\u001b[0;34m\u001b[0m\u001b[0;34m\u001b[0m\u001b[0m\n",
            "\u001b[0;32m<ipython-input-205-bc39bd025c10>\u001b[0m in \u001b[0;36mget_info_from_API\u001b[0;34m(date)\u001b[0m\n\u001b[1;32m      4\u001b[0m   \u001b[0mrequest_API\u001b[0m \u001b[0;34m=\u001b[0m \u001b[0mrequests\u001b[0m\u001b[0;34m.\u001b[0m\u001b[0mget\u001b[0m\u001b[0;34m(\u001b[0m\u001b[0mrequest\u001b[0m\u001b[0;34m)\u001b[0m\u001b[0;34m\u001b[0m\u001b[0;34m\u001b[0m\u001b[0m\n\u001b[1;32m      5\u001b[0m   \u001b[0mdict_API\u001b[0m \u001b[0;34m=\u001b[0m \u001b[0mrequest_API\u001b[0m\u001b[0;34m.\u001b[0m\u001b[0mjson\u001b[0m\u001b[0;34m(\u001b[0m\u001b[0;34m)\u001b[0m\u001b[0;34m\u001b[0m\u001b[0;34m\u001b[0m\u001b[0m\n\u001b[0;32m----> 6\u001b[0;31m   \u001b[0mdict_API\u001b[0m \u001b[0;34m=\u001b[0m \u001b[0mdict_API\u001b[0m\u001b[0;34m[\u001b[0m\u001b[0;34m'rates'\u001b[0m\u001b[0;34m]\u001b[0m\u001b[0;34m[\u001b[0m\u001b[0mdate\u001b[0m\u001b[0;34m]\u001b[0m\u001b[0;34m\u001b[0m\u001b[0;34m\u001b[0m\u001b[0m\n\u001b[0m\u001b[1;32m      7\u001b[0m   \u001b[0;32mreturn\u001b[0m \u001b[0mdict_API\u001b[0m\u001b[0;34m\u001b[0m\u001b[0;34m\u001b[0m\u001b[0m\n\u001b[1;32m      8\u001b[0m \u001b[0;34m\u001b[0m\u001b[0m\n",
            "\u001b[0;31mKeyError\u001b[0m: '2010-12-19'"
          ]
        }
      ]
    },
    {
      "cell_type": "code",
      "metadata": {
        "id": "prfa09Qa7Znq",
        "colab_type": "code",
        "colab": {}
      },
      "source": [
        "dict_currency = create_dictionary_currency(dict_currency_list)"
      ],
      "execution_count": 0,
      "outputs": []
    },
    {
      "cell_type": "markdown",
      "metadata": {
        "colab_type": "text",
        "id": "IyfcMrXqfwZN"
      },
      "source": [
        "### Create DataFrame that contains for each date currency rates"
      ]
    },
    {
      "cell_type": "code",
      "metadata": {
        "id": "lr5w93e1luuK",
        "colab_type": "code",
        "colab": {}
      },
      "source": [
        "def flat_list(list):\n",
        "  return [item for sublist in list for item in sublist]"
      ],
      "execution_count": 0,
      "outputs": []
    },
    {
      "cell_type": "code",
      "metadata": {
        "id": "cpkK2YfxeYYZ",
        "colab_type": "code",
        "colab": {}
      },
      "source": [
        "date_currency = pd.DataFrame(dict_currency.items()) #.items ritorna lista tuple coppia key value\n",
        "date_currency.columns = ['date','currency']"
      ],
      "execution_count": 0,
      "outputs": []
    },
    {
      "cell_type": "code",
      "metadata": {
        "id": "perrVdCqe3Uh",
        "colab_type": "code",
        "colab": {}
      },
      "source": [
        "date_currency['currency']=date_currency.apply(lambda x: flat_list(x['currency']),axis=1)"
      ],
      "execution_count": 0,
      "outputs": []
    },
    {
      "cell_type": "code",
      "metadata": {
        "colab_type": "code",
        "id": "NdrlB8YWetcr",
        "colab": {}
      },
      "source": [
        "date_currency = date_currency.explode('currency').reset_index()"
      ],
      "execution_count": 0,
      "outputs": []
    },
    {
      "cell_type": "code",
      "metadata": {
        "id": "nWVxIg8ofPYV",
        "colab_type": "code",
        "colab": {}
      },
      "source": [
        "date_currency['curr']=date_currency.apply(lambda x: x['currency'][0],axis=1)\n",
        "date_currency['rate']=date_currency.apply(lambda x: x['currency'][1],axis=1)"
      ],
      "execution_count": 0,
      "outputs": []
    },
    {
      "cell_type": "code",
      "metadata": {
        "id": "Clbt4ypUfZZx",
        "colab_type": "code",
        "colab": {}
      },
      "source": [
        "date_currency.drop(columns=['index','currency'],inplace=True)"
      ],
      "execution_count": 0,
      "outputs": []
    },
    {
      "cell_type": "code",
      "metadata": {
        "id": "F9CYk5hFkJye",
        "colab_type": "code",
        "colab": {
          "base_uri": "https://localhost:8080/",
          "height": 402
        },
        "outputId": "cf58053d-31e3-4c58-8a2f-fe5602c3255e"
      },
      "source": [
        "date_currency"
      ],
      "execution_count": 95,
      "outputs": [
        {
          "output_type": "execute_result",
          "data": {
            "text/html": [
              "<div>\n",
              "<style scoped>\n",
              "    .dataframe tbody tr th:only-of-type {\n",
              "        vertical-align: middle;\n",
              "    }\n",
              "\n",
              "    .dataframe tbody tr th {\n",
              "        vertical-align: top;\n",
              "    }\n",
              "\n",
              "    .dataframe thead th {\n",
              "        text-align: right;\n",
              "    }\n",
              "</style>\n",
              "<table border=\"1\" class=\"dataframe\">\n",
              "  <thead>\n",
              "    <tr style=\"text-align: right;\">\n",
              "      <th></th>\n",
              "      <th>date</th>\n",
              "      <th>curr</th>\n",
              "      <th>rate</th>\n",
              "    </tr>\n",
              "  </thead>\n",
              "  <tbody>\n",
              "    <tr>\n",
              "      <th>0</th>\n",
              "      <td>2011-06-02</td>\n",
              "      <td>PHP</td>\n",
              "      <td>43.223375</td>\n",
              "    </tr>\n",
              "    <tr>\n",
              "      <th>1</th>\n",
              "      <td>2011-06-02</td>\n",
              "      <td>ILS</td>\n",
              "      <td>3.400000</td>\n",
              "    </tr>\n",
              "    <tr>\n",
              "      <th>2</th>\n",
              "      <td>2011-06-02</td>\n",
              "      <td>MXN</td>\n",
              "      <td>11.675035</td>\n",
              "    </tr>\n",
              "    <tr>\n",
              "      <th>3</th>\n",
              "      <td>2012-05-11</td>\n",
              "      <td>PHP</td>\n",
              "      <td>42.523949</td>\n",
              "    </tr>\n",
              "    <tr>\n",
              "      <th>4</th>\n",
              "      <td>2012-05-11</td>\n",
              "      <td>ILS</td>\n",
              "      <td>3.815899</td>\n",
              "    </tr>\n",
              "    <tr>\n",
              "      <th>...</th>\n",
              "      <td>...</td>\n",
              "      <td>...</td>\n",
              "      <td>...</td>\n",
              "    </tr>\n",
              "    <tr>\n",
              "      <th>9506</th>\n",
              "      <td>2013-11-01</td>\n",
              "      <td>IDR</td>\n",
              "      <td>11335.209182</td>\n",
              "    </tr>\n",
              "    <tr>\n",
              "      <th>9507</th>\n",
              "      <td>2013-11-01</td>\n",
              "      <td>INR</td>\n",
              "      <td>61.728619</td>\n",
              "    </tr>\n",
              "    <tr>\n",
              "      <th>9508</th>\n",
              "      <td>2013-11-01</td>\n",
              "      <td>BRL</td>\n",
              "      <td>2.251685</td>\n",
              "    </tr>\n",
              "    <tr>\n",
              "      <th>9509</th>\n",
              "      <td>2013-01-02</td>\n",
              "      <td>INR</td>\n",
              "      <td>54.313075</td>\n",
              "    </tr>\n",
              "    <tr>\n",
              "      <th>9510</th>\n",
              "      <td>2018-01-15</td>\n",
              "      <td>BRL</td>\n",
              "      <td>3.195976</td>\n",
              "    </tr>\n",
              "  </tbody>\n",
              "</table>\n",
              "<p>9511 rows × 3 columns</p>\n",
              "</div>"
            ],
            "text/plain": [
              "            date curr          rate\n",
              "0     2011-06-02  PHP     43.223375\n",
              "1     2011-06-02  ILS      3.400000\n",
              "2     2011-06-02  MXN     11.675035\n",
              "3     2012-05-11  PHP     42.523949\n",
              "4     2012-05-11  ILS      3.815899\n",
              "...          ...  ...           ...\n",
              "9506  2013-11-01  IDR  11335.209182\n",
              "9507  2013-11-01  INR     61.728619\n",
              "9508  2013-11-01  BRL      2.251685\n",
              "9509  2013-01-02  INR     54.313075\n",
              "9510  2018-01-15  BRL      3.195976\n",
              "\n",
              "[9511 rows x 3 columns]"
            ]
          },
          "metadata": {
            "tags": []
          },
          "execution_count": 95
        }
      ]
    },
    {
      "cell_type": "markdown",
      "metadata": {
        "id": "irOzkDqdw01h",
        "colab_type": "text"
      },
      "source": [
        "### Inner join between rows which contains currency convertible and DataFrame created before"
      ]
    },
    {
      "cell_type": "code",
      "metadata": {
        "id": "gacAxgxnf5QS",
        "colab_type": "code",
        "colab": {}
      },
      "source": [
        "firstBlock = pd.merge(firstBlock,date_currency,how='inner',left_on=['disburse_time_API','currency'],right_on = ['date','curr'])"
      ],
      "execution_count": 0,
      "outputs": []
    },
    {
      "cell_type": "code",
      "metadata": {
        "id": "d24R6Tf92G4B",
        "colab_type": "code",
        "colab": {}
      },
      "source": [
        "firstBlock.drop(columns=['date','curr'],inplace=True)"
      ],
      "execution_count": 0,
      "outputs": []
    },
    {
      "cell_type": "code",
      "metadata": {
        "id": "pTB034jr2VeC",
        "colab_type": "code",
        "colab": {}
      },
      "source": [
        "firstBlock['funded_amount_conversion_USD']=round(firstBlock['funded_amount']/firstBlock['rate'],2)"
      ],
      "execution_count": 0,
      "outputs": []
    },
    {
      "cell_type": "code",
      "metadata": {
        "id": "SD9wvXtF20zt",
        "colab_type": "code",
        "outputId": "2a0bbe38-d4f3-4f78-9b43-bc93b6275ef9",
        "colab": {
          "base_uri": "https://localhost:8080/",
          "height": 570
        }
      },
      "source": [
        "firstBlock"
      ],
      "execution_count": 99,
      "outputs": [
        {
          "output_type": "execute_result",
          "data": {
            "text/html": [
              "<div>\n",
              "<style scoped>\n",
              "    .dataframe tbody tr th:only-of-type {\n",
              "        vertical-align: middle;\n",
              "    }\n",
              "\n",
              "    .dataframe tbody tr th {\n",
              "        vertical-align: top;\n",
              "    }\n",
              "\n",
              "    .dataframe thead th {\n",
              "        text-align: right;\n",
              "    }\n",
              "</style>\n",
              "<table border=\"1\" class=\"dataframe\">\n",
              "  <thead>\n",
              "    <tr style=\"text-align: right;\">\n",
              "      <th></th>\n",
              "      <th>loan_id</th>\n",
              "      <th>country_name</th>\n",
              "      <th>disburse_time</th>\n",
              "      <th>funded_amount</th>\n",
              "      <th>loan_amount</th>\n",
              "      <th>currency</th>\n",
              "      <th>disburse_time_API</th>\n",
              "      <th>rate</th>\n",
              "      <th>funded_amount_conversion_USD</th>\n",
              "    </tr>\n",
              "  </thead>\n",
              "  <tbody>\n",
              "    <tr>\n",
              "      <th>0</th>\n",
              "      <td>657307</td>\n",
              "      <td>Philippines</td>\n",
              "      <td>2013-12-22 08:00:00</td>\n",
              "      <td>125.0</td>\n",
              "      <td>125.0</td>\n",
              "      <td>PHP</td>\n",
              "      <td>2013-12-20</td>\n",
              "      <td>44.547785</td>\n",
              "      <td>2.81</td>\n",
              "    </tr>\n",
              "    <tr>\n",
              "      <th>1</th>\n",
              "      <td>654523</td>\n",
              "      <td>Philippines</td>\n",
              "      <td>2013-12-20 08:00:00</td>\n",
              "      <td>400.0</td>\n",
              "      <td>400.0</td>\n",
              "      <td>PHP</td>\n",
              "      <td>2013-12-20</td>\n",
              "      <td>44.547785</td>\n",
              "      <td>8.98</td>\n",
              "    </tr>\n",
              "    <tr>\n",
              "      <th>2</th>\n",
              "      <td>657419</td>\n",
              "      <td>Philippines</td>\n",
              "      <td>2013-12-20 08:00:00</td>\n",
              "      <td>350.0</td>\n",
              "      <td>350.0</td>\n",
              "      <td>PHP</td>\n",
              "      <td>2013-12-20</td>\n",
              "      <td>44.547785</td>\n",
              "      <td>7.86</td>\n",
              "    </tr>\n",
              "    <tr>\n",
              "      <th>3</th>\n",
              "      <td>652191</td>\n",
              "      <td>Philippines</td>\n",
              "      <td>2013-12-20 08:00:00</td>\n",
              "      <td>250.0</td>\n",
              "      <td>250.0</td>\n",
              "      <td>PHP</td>\n",
              "      <td>2013-12-20</td>\n",
              "      <td>44.547785</td>\n",
              "      <td>5.61</td>\n",
              "    </tr>\n",
              "    <tr>\n",
              "      <th>4</th>\n",
              "      <td>657423</td>\n",
              "      <td>Philippines</td>\n",
              "      <td>2013-12-20 08:00:00</td>\n",
              "      <td>450.0</td>\n",
              "      <td>450.0</td>\n",
              "      <td>PHP</td>\n",
              "      <td>2013-12-20</td>\n",
              "      <td>44.547785</td>\n",
              "      <td>10.10</td>\n",
              "    </tr>\n",
              "    <tr>\n",
              "      <th>...</th>\n",
              "      <td>...</td>\n",
              "      <td>...</td>\n",
              "      <td>...</td>\n",
              "      <td>...</td>\n",
              "      <td>...</td>\n",
              "      <td>...</td>\n",
              "      <td>...</td>\n",
              "      <td>...</td>\n",
              "      <td>...</td>\n",
              "    </tr>\n",
              "    <tr>\n",
              "      <th>333531</th>\n",
              "      <td>375249</td>\n",
              "      <td>Israel</td>\n",
              "      <td>2011-12-22 08:00:00</td>\n",
              "      <td>2650.0</td>\n",
              "      <td>2650.0</td>\n",
              "      <td>ILS</td>\n",
              "      <td>2011-12-22</td>\n",
              "      <td>3.783245</td>\n",
              "      <td>700.46</td>\n",
              "    </tr>\n",
              "    <tr>\n",
              "      <th>333532</th>\n",
              "      <td>64211</td>\n",
              "      <td>Indonesia</td>\n",
              "      <td>2008-10-08 07:00:00</td>\n",
              "      <td>325.0</td>\n",
              "      <td>325.0</td>\n",
              "      <td>IDR</td>\n",
              "      <td>2008-10-08</td>\n",
              "      <td>9670.999927</td>\n",
              "      <td>0.03</td>\n",
              "    </tr>\n",
              "    <tr>\n",
              "      <th>333533</th>\n",
              "      <td>80498</td>\n",
              "      <td>Philippines</td>\n",
              "      <td>2008-12-03 08:00:00</td>\n",
              "      <td>150.0</td>\n",
              "      <td>150.0</td>\n",
              "      <td>PHP</td>\n",
              "      <td>2008-12-03</td>\n",
              "      <td>49.298899</td>\n",
              "      <td>3.04</td>\n",
              "    </tr>\n",
              "    <tr>\n",
              "      <th>333534</th>\n",
              "      <td>182418</td>\n",
              "      <td>Indonesia</td>\n",
              "      <td>2010-02-23 08:00:00</td>\n",
              "      <td>975.0</td>\n",
              "      <td>975.0</td>\n",
              "      <td>IDR</td>\n",
              "      <td>2010-02-23</td>\n",
              "      <td>9299.337114</td>\n",
              "      <td>0.10</td>\n",
              "    </tr>\n",
              "    <tr>\n",
              "      <th>333535</th>\n",
              "      <td>171439</td>\n",
              "      <td>Mexico</td>\n",
              "      <td>2009-12-28 08:00:00</td>\n",
              "      <td>4500.0</td>\n",
              "      <td>4500.0</td>\n",
              "      <td>MXN</td>\n",
              "      <td>2009-12-28</td>\n",
              "      <td>12.841999</td>\n",
              "      <td>350.41</td>\n",
              "    </tr>\n",
              "  </tbody>\n",
              "</table>\n",
              "<p>333536 rows × 9 columns</p>\n",
              "</div>"
            ],
            "text/plain": [
              "        loan_id country_name  ...         rate  funded_amount_conversion_USD\n",
              "0        657307  Philippines  ...    44.547785                          2.81\n",
              "1        654523  Philippines  ...    44.547785                          8.98\n",
              "2        657419  Philippines  ...    44.547785                          7.86\n",
              "3        652191  Philippines  ...    44.547785                          5.61\n",
              "4        657423  Philippines  ...    44.547785                         10.10\n",
              "...         ...          ...  ...          ...                           ...\n",
              "333531   375249       Israel  ...     3.783245                        700.46\n",
              "333532    64211    Indonesia  ...  9670.999927                          0.03\n",
              "333533    80498  Philippines  ...    49.298899                          3.04\n",
              "333534   182418    Indonesia  ...  9299.337114                          0.10\n",
              "333535   171439       Mexico  ...    12.841999                        350.41\n",
              "\n",
              "[333536 rows x 9 columns]"
            ]
          },
          "metadata": {
            "tags": []
          },
          "execution_count": 99
        }
      ]
    },
    {
      "cell_type": "code",
      "metadata": {
        "colab_type": "code",
        "id": "C9GVGJMyDkuU",
        "colab": {}
      },
      "source": [
        "loan_simplified_USD = pd.concat([firstBlock,secondBlock],axis=0,sort=False)"
      ],
      "execution_count": 0,
      "outputs": []
    },
    {
      "cell_type": "code",
      "metadata": {
        "id": "xY6Efz3lHbVa",
        "colab_type": "code",
        "colab": {
          "base_uri": "https://localhost:8080/",
          "height": 114
        },
        "outputId": "26fa019d-412a-48f9-f94f-bdddc3863287"
      },
      "source": [
        "loan_simplified_USD[loan_simplified_USD['loan_id']==25930]"
      ],
      "execution_count": 164,
      "outputs": [
        {
          "output_type": "execute_result",
          "data": {
            "text/html": [
              "<div>\n",
              "<style scoped>\n",
              "    .dataframe tbody tr th:only-of-type {\n",
              "        vertical-align: middle;\n",
              "    }\n",
              "\n",
              "    .dataframe tbody tr th {\n",
              "        vertical-align: top;\n",
              "    }\n",
              "\n",
              "    .dataframe thead th {\n",
              "        text-align: right;\n",
              "    }\n",
              "</style>\n",
              "<table border=\"1\" class=\"dataframe\">\n",
              "  <thead>\n",
              "    <tr style=\"text-align: right;\">\n",
              "      <th></th>\n",
              "      <th>loan_id</th>\n",
              "      <th>country_name</th>\n",
              "      <th>disburse_time</th>\n",
              "      <th>funded_amount</th>\n",
              "      <th>loan_amount</th>\n",
              "      <th>currency</th>\n",
              "      <th>disburse_time_API</th>\n",
              "      <th>rate</th>\n",
              "      <th>funded_amount_conversion_USD</th>\n",
              "      <th>conversion</th>\n",
              "    </tr>\n",
              "  </thead>\n",
              "  <tbody>\n",
              "    <tr>\n",
              "      <th>304407</th>\n",
              "      <td>25930</td>\n",
              "      <td>Mexico</td>\n",
              "      <td>2007-12-14 12:29:15</td>\n",
              "      <td>750.0</td>\n",
              "      <td>750.0</td>\n",
              "      <td>MXN</td>\n",
              "      <td>2007-12-14</td>\n",
              "      <td>0.0</td>\n",
              "      <td>inf</td>\n",
              "      <td>NaN</td>\n",
              "    </tr>\n",
              "  </tbody>\n",
              "</table>\n",
              "</div>"
            ],
            "text/plain": [
              "        loan_id country_name  ... funded_amount_conversion_USD  conversion\n",
              "304407    25930       Mexico  ...                          inf         NaN\n",
              "\n",
              "[1 rows x 10 columns]"
            ]
          },
          "metadata": {
            "tags": []
          },
          "execution_count": 164
        }
      ]
    },
    {
      "cell_type": "code",
      "metadata": {
        "id": "dmN05gSDEbbF",
        "colab_type": "code",
        "colab": {}
      },
      "source": [
        "mexico = loan_simplified_USD[loan_simplified_USD['country_name']=='Mexico'][['loan_id','funded_amount_conversion_USD']]"
      ],
      "execution_count": 0,
      "outputs": []
    },
    {
      "cell_type": "code",
      "metadata": {
        "id": "Bh1JrdscE7nm",
        "colab_type": "code",
        "colab": {}
      },
      "source": [
        "prova = pd.DataFrame(mexico)"
      ],
      "execution_count": 0,
      "outputs": []
    },
    {
      "cell_type": "code",
      "metadata": {
        "id": "RoaViXfFHIgz",
        "colab_type": "code",
        "colab": {
          "base_uri": "https://localhost:8080/",
          "height": 402
        },
        "outputId": "67293d5a-a865-4b0b-dfba-ca5655f3963e"
      },
      "source": [
        "prova[prova['funded_amount_conversion_USD']==np.inf]"
      ],
      "execution_count": 161,
      "outputs": [
        {
          "output_type": "execute_result",
          "data": {
            "text/html": [
              "<div>\n",
              "<style scoped>\n",
              "    .dataframe tbody tr th:only-of-type {\n",
              "        vertical-align: middle;\n",
              "    }\n",
              "\n",
              "    .dataframe tbody tr th {\n",
              "        vertical-align: top;\n",
              "    }\n",
              "\n",
              "    .dataframe thead th {\n",
              "        text-align: right;\n",
              "    }\n",
              "</style>\n",
              "<table border=\"1\" class=\"dataframe\">\n",
              "  <thead>\n",
              "    <tr style=\"text-align: right;\">\n",
              "      <th></th>\n",
              "      <th>loan_id</th>\n",
              "      <th>funded_amount_conversion_USD</th>\n",
              "    </tr>\n",
              "  </thead>\n",
              "  <tbody>\n",
              "    <tr>\n",
              "      <th>304407</th>\n",
              "      <td>25930</td>\n",
              "      <td>inf</td>\n",
              "    </tr>\n",
              "    <tr>\n",
              "      <th>304408</th>\n",
              "      <td>26072</td>\n",
              "      <td>inf</td>\n",
              "    </tr>\n",
              "    <tr>\n",
              "      <th>304409</th>\n",
              "      <td>26079</td>\n",
              "      <td>inf</td>\n",
              "    </tr>\n",
              "    <tr>\n",
              "      <th>304410</th>\n",
              "      <td>26048</td>\n",
              "      <td>inf</td>\n",
              "    </tr>\n",
              "    <tr>\n",
              "      <th>304411</th>\n",
              "      <td>26069</td>\n",
              "      <td>inf</td>\n",
              "    </tr>\n",
              "    <tr>\n",
              "      <th>...</th>\n",
              "      <td>...</td>\n",
              "      <td>...</td>\n",
              "    </tr>\n",
              "    <tr>\n",
              "      <th>333482</th>\n",
              "      <td>21078</td>\n",
              "      <td>inf</td>\n",
              "    </tr>\n",
              "    <tr>\n",
              "      <th>333489</th>\n",
              "      <td>12325</td>\n",
              "      <td>inf</td>\n",
              "    </tr>\n",
              "    <tr>\n",
              "      <th>333524</th>\n",
              "      <td>21664</td>\n",
              "      <td>inf</td>\n",
              "    </tr>\n",
              "    <tr>\n",
              "      <th>333525</th>\n",
              "      <td>13598</td>\n",
              "      <td>inf</td>\n",
              "    </tr>\n",
              "    <tr>\n",
              "      <th>333527</th>\n",
              "      <td>21329</td>\n",
              "      <td>inf</td>\n",
              "    </tr>\n",
              "  </tbody>\n",
              "</table>\n",
              "<p>278 rows × 2 columns</p>\n",
              "</div>"
            ],
            "text/plain": [
              "        loan_id  funded_amount_conversion_USD\n",
              "304407    25930                           inf\n",
              "304408    26072                           inf\n",
              "304409    26079                           inf\n",
              "304410    26048                           inf\n",
              "304411    26069                           inf\n",
              "...         ...                           ...\n",
              "333482    21078                           inf\n",
              "333489    12325                           inf\n",
              "333524    21664                           inf\n",
              "333525    13598                           inf\n",
              "333527    21329                           inf\n",
              "\n",
              "[278 rows x 2 columns]"
            ]
          },
          "metadata": {
            "tags": []
          },
          "execution_count": 161
        }
      ]
    },
    {
      "cell_type": "code",
      "metadata": {
        "id": "ggYs750YGnMb",
        "colab_type": "code",
        "colab": {
          "base_uri": "https://localhost:8080/",
          "height": 303
        },
        "outputId": "eba0bb88-4266-4529-807e-a809ad676996"
      },
      "source": [
        "prova['appossimation'] = prova['funded_amount_conversion_USD'].astype(int)"
      ],
      "execution_count": 155,
      "outputs": [
        {
          "output_type": "error",
          "ename": "ValueError",
          "evalue": "ignored",
          "traceback": [
            "\u001b[0;31m---------------------------------------------------------------------------\u001b[0m",
            "\u001b[0;31mValueError\u001b[0m                                Traceback (most recent call last)",
            "\u001b[0;32m<ipython-input-155-306a034cb7de>\u001b[0m in \u001b[0;36m<module>\u001b[0;34m()\u001b[0m\n\u001b[0;32m----> 1\u001b[0;31m \u001b[0mprova\u001b[0m\u001b[0;34m[\u001b[0m\u001b[0;34m'appossimation'\u001b[0m\u001b[0;34m]\u001b[0m \u001b[0;34m=\u001b[0m \u001b[0mprova\u001b[0m\u001b[0;34m[\u001b[0m\u001b[0;34m'funded_amount_conversion_USD'\u001b[0m\u001b[0;34m]\u001b[0m\u001b[0;34m.\u001b[0m\u001b[0mastype\u001b[0m\u001b[0;34m(\u001b[0m\u001b[0mint\u001b[0m\u001b[0;34m)\u001b[0m\u001b[0;34m\u001b[0m\u001b[0;34m\u001b[0m\u001b[0m\n\u001b[0m",
            "\u001b[0;32m/usr/local/lib/python3.6/dist-packages/pandas/core/generic.py\u001b[0m in \u001b[0;36mastype\u001b[0;34m(self, dtype, copy, errors, **kwargs)\u001b[0m\n\u001b[1;32m   5880\u001b[0m             \u001b[0;31m# else, only a single dtype is given\u001b[0m\u001b[0;34m\u001b[0m\u001b[0;34m\u001b[0m\u001b[0;34m\u001b[0m\u001b[0m\n\u001b[1;32m   5881\u001b[0m             new_data = self._data.astype(\n\u001b[0;32m-> 5882\u001b[0;31m                 \u001b[0mdtype\u001b[0m\u001b[0;34m=\u001b[0m\u001b[0mdtype\u001b[0m\u001b[0;34m,\u001b[0m \u001b[0mcopy\u001b[0m\u001b[0;34m=\u001b[0m\u001b[0mcopy\u001b[0m\u001b[0;34m,\u001b[0m \u001b[0merrors\u001b[0m\u001b[0;34m=\u001b[0m\u001b[0merrors\u001b[0m\u001b[0;34m,\u001b[0m \u001b[0;34m**\u001b[0m\u001b[0mkwargs\u001b[0m\u001b[0;34m\u001b[0m\u001b[0;34m\u001b[0m\u001b[0m\n\u001b[0m\u001b[1;32m   5883\u001b[0m             )\n\u001b[1;32m   5884\u001b[0m             \u001b[0;32mreturn\u001b[0m \u001b[0mself\u001b[0m\u001b[0;34m.\u001b[0m\u001b[0m_constructor\u001b[0m\u001b[0;34m(\u001b[0m\u001b[0mnew_data\u001b[0m\u001b[0;34m)\u001b[0m\u001b[0;34m.\u001b[0m\u001b[0m__finalize__\u001b[0m\u001b[0;34m(\u001b[0m\u001b[0mself\u001b[0m\u001b[0;34m)\u001b[0m\u001b[0;34m\u001b[0m\u001b[0;34m\u001b[0m\u001b[0m\n",
            "\u001b[0;32m/usr/local/lib/python3.6/dist-packages/pandas/core/internals/managers.py\u001b[0m in \u001b[0;36mastype\u001b[0;34m(self, dtype, **kwargs)\u001b[0m\n\u001b[1;32m    579\u001b[0m \u001b[0;34m\u001b[0m\u001b[0m\n\u001b[1;32m    580\u001b[0m     \u001b[0;32mdef\u001b[0m \u001b[0mastype\u001b[0m\u001b[0;34m(\u001b[0m\u001b[0mself\u001b[0m\u001b[0;34m,\u001b[0m \u001b[0mdtype\u001b[0m\u001b[0;34m,\u001b[0m \u001b[0;34m**\u001b[0m\u001b[0mkwargs\u001b[0m\u001b[0;34m)\u001b[0m\u001b[0;34m:\u001b[0m\u001b[0;34m\u001b[0m\u001b[0;34m\u001b[0m\u001b[0m\n\u001b[0;32m--> 581\u001b[0;31m         \u001b[0;32mreturn\u001b[0m \u001b[0mself\u001b[0m\u001b[0;34m.\u001b[0m\u001b[0mapply\u001b[0m\u001b[0;34m(\u001b[0m\u001b[0;34m\"astype\"\u001b[0m\u001b[0;34m,\u001b[0m \u001b[0mdtype\u001b[0m\u001b[0;34m=\u001b[0m\u001b[0mdtype\u001b[0m\u001b[0;34m,\u001b[0m \u001b[0;34m**\u001b[0m\u001b[0mkwargs\u001b[0m\u001b[0;34m)\u001b[0m\u001b[0;34m\u001b[0m\u001b[0;34m\u001b[0m\u001b[0m\n\u001b[0m\u001b[1;32m    582\u001b[0m \u001b[0;34m\u001b[0m\u001b[0m\n\u001b[1;32m    583\u001b[0m     \u001b[0;32mdef\u001b[0m \u001b[0mconvert\u001b[0m\u001b[0;34m(\u001b[0m\u001b[0mself\u001b[0m\u001b[0;34m,\u001b[0m \u001b[0;34m**\u001b[0m\u001b[0mkwargs\u001b[0m\u001b[0;34m)\u001b[0m\u001b[0;34m:\u001b[0m\u001b[0;34m\u001b[0m\u001b[0;34m\u001b[0m\u001b[0m\n",
            "\u001b[0;32m/usr/local/lib/python3.6/dist-packages/pandas/core/internals/managers.py\u001b[0m in \u001b[0;36mapply\u001b[0;34m(self, f, axes, filter, do_integrity_check, consolidate, **kwargs)\u001b[0m\n\u001b[1;32m    436\u001b[0m                     \u001b[0mkwargs\u001b[0m\u001b[0;34m[\u001b[0m\u001b[0mk\u001b[0m\u001b[0;34m]\u001b[0m \u001b[0;34m=\u001b[0m \u001b[0mobj\u001b[0m\u001b[0;34m.\u001b[0m\u001b[0mreindex\u001b[0m\u001b[0;34m(\u001b[0m\u001b[0mb_items\u001b[0m\u001b[0;34m,\u001b[0m \u001b[0maxis\u001b[0m\u001b[0;34m=\u001b[0m\u001b[0maxis\u001b[0m\u001b[0;34m,\u001b[0m \u001b[0mcopy\u001b[0m\u001b[0;34m=\u001b[0m\u001b[0malign_copy\u001b[0m\u001b[0;34m)\u001b[0m\u001b[0;34m\u001b[0m\u001b[0;34m\u001b[0m\u001b[0m\n\u001b[1;32m    437\u001b[0m \u001b[0;34m\u001b[0m\u001b[0m\n\u001b[0;32m--> 438\u001b[0;31m             \u001b[0mapplied\u001b[0m \u001b[0;34m=\u001b[0m \u001b[0mgetattr\u001b[0m\u001b[0;34m(\u001b[0m\u001b[0mb\u001b[0m\u001b[0;34m,\u001b[0m \u001b[0mf\u001b[0m\u001b[0;34m)\u001b[0m\u001b[0;34m(\u001b[0m\u001b[0;34m**\u001b[0m\u001b[0mkwargs\u001b[0m\u001b[0;34m)\u001b[0m\u001b[0;34m\u001b[0m\u001b[0;34m\u001b[0m\u001b[0m\n\u001b[0m\u001b[1;32m    439\u001b[0m             \u001b[0mresult_blocks\u001b[0m \u001b[0;34m=\u001b[0m \u001b[0m_extend_blocks\u001b[0m\u001b[0;34m(\u001b[0m\u001b[0mapplied\u001b[0m\u001b[0;34m,\u001b[0m \u001b[0mresult_blocks\u001b[0m\u001b[0;34m)\u001b[0m\u001b[0;34m\u001b[0m\u001b[0;34m\u001b[0m\u001b[0m\n\u001b[1;32m    440\u001b[0m \u001b[0;34m\u001b[0m\u001b[0m\n",
            "\u001b[0;32m/usr/local/lib/python3.6/dist-packages/pandas/core/internals/blocks.py\u001b[0m in \u001b[0;36mastype\u001b[0;34m(self, dtype, copy, errors, values, **kwargs)\u001b[0m\n\u001b[1;32m    557\u001b[0m \u001b[0;34m\u001b[0m\u001b[0m\n\u001b[1;32m    558\u001b[0m     \u001b[0;32mdef\u001b[0m \u001b[0mastype\u001b[0m\u001b[0;34m(\u001b[0m\u001b[0mself\u001b[0m\u001b[0;34m,\u001b[0m \u001b[0mdtype\u001b[0m\u001b[0;34m,\u001b[0m \u001b[0mcopy\u001b[0m\u001b[0;34m=\u001b[0m\u001b[0;32mFalse\u001b[0m\u001b[0;34m,\u001b[0m \u001b[0merrors\u001b[0m\u001b[0;34m=\u001b[0m\u001b[0;34m\"raise\"\u001b[0m\u001b[0;34m,\u001b[0m \u001b[0mvalues\u001b[0m\u001b[0;34m=\u001b[0m\u001b[0;32mNone\u001b[0m\u001b[0;34m,\u001b[0m \u001b[0;34m**\u001b[0m\u001b[0mkwargs\u001b[0m\u001b[0;34m)\u001b[0m\u001b[0;34m:\u001b[0m\u001b[0;34m\u001b[0m\u001b[0;34m\u001b[0m\u001b[0m\n\u001b[0;32m--> 559\u001b[0;31m         \u001b[0;32mreturn\u001b[0m \u001b[0mself\u001b[0m\u001b[0;34m.\u001b[0m\u001b[0m_astype\u001b[0m\u001b[0;34m(\u001b[0m\u001b[0mdtype\u001b[0m\u001b[0;34m,\u001b[0m \u001b[0mcopy\u001b[0m\u001b[0;34m=\u001b[0m\u001b[0mcopy\u001b[0m\u001b[0;34m,\u001b[0m \u001b[0merrors\u001b[0m\u001b[0;34m=\u001b[0m\u001b[0merrors\u001b[0m\u001b[0;34m,\u001b[0m \u001b[0mvalues\u001b[0m\u001b[0;34m=\u001b[0m\u001b[0mvalues\u001b[0m\u001b[0;34m,\u001b[0m \u001b[0;34m**\u001b[0m\u001b[0mkwargs\u001b[0m\u001b[0;34m)\u001b[0m\u001b[0;34m\u001b[0m\u001b[0;34m\u001b[0m\u001b[0m\n\u001b[0m\u001b[1;32m    560\u001b[0m \u001b[0;34m\u001b[0m\u001b[0m\n\u001b[1;32m    561\u001b[0m     \u001b[0;32mdef\u001b[0m \u001b[0m_astype\u001b[0m\u001b[0;34m(\u001b[0m\u001b[0mself\u001b[0m\u001b[0;34m,\u001b[0m \u001b[0mdtype\u001b[0m\u001b[0;34m,\u001b[0m \u001b[0mcopy\u001b[0m\u001b[0;34m=\u001b[0m\u001b[0;32mFalse\u001b[0m\u001b[0;34m,\u001b[0m \u001b[0merrors\u001b[0m\u001b[0;34m=\u001b[0m\u001b[0;34m\"raise\"\u001b[0m\u001b[0;34m,\u001b[0m \u001b[0mvalues\u001b[0m\u001b[0;34m=\u001b[0m\u001b[0;32mNone\u001b[0m\u001b[0;34m,\u001b[0m \u001b[0;34m**\u001b[0m\u001b[0mkwargs\u001b[0m\u001b[0;34m)\u001b[0m\u001b[0;34m:\u001b[0m\u001b[0;34m\u001b[0m\u001b[0;34m\u001b[0m\u001b[0m\n",
            "\u001b[0;32m/usr/local/lib/python3.6/dist-packages/pandas/core/internals/blocks.py\u001b[0m in \u001b[0;36m_astype\u001b[0;34m(self, dtype, copy, errors, values, **kwargs)\u001b[0m\n\u001b[1;32m    641\u001b[0m                     \u001b[0;31m# _astype_nansafe works fine with 1-d only\u001b[0m\u001b[0;34m\u001b[0m\u001b[0;34m\u001b[0m\u001b[0;34m\u001b[0m\u001b[0m\n\u001b[1;32m    642\u001b[0m                     \u001b[0mvals1d\u001b[0m \u001b[0;34m=\u001b[0m \u001b[0mvalues\u001b[0m\u001b[0;34m.\u001b[0m\u001b[0mravel\u001b[0m\u001b[0;34m(\u001b[0m\u001b[0;34m)\u001b[0m\u001b[0;34m\u001b[0m\u001b[0;34m\u001b[0m\u001b[0m\n\u001b[0;32m--> 643\u001b[0;31m                     \u001b[0mvalues\u001b[0m \u001b[0;34m=\u001b[0m \u001b[0mastype_nansafe\u001b[0m\u001b[0;34m(\u001b[0m\u001b[0mvals1d\u001b[0m\u001b[0;34m,\u001b[0m \u001b[0mdtype\u001b[0m\u001b[0;34m,\u001b[0m \u001b[0mcopy\u001b[0m\u001b[0;34m=\u001b[0m\u001b[0;32mTrue\u001b[0m\u001b[0;34m,\u001b[0m \u001b[0;34m**\u001b[0m\u001b[0mkwargs\u001b[0m\u001b[0;34m)\u001b[0m\u001b[0;34m\u001b[0m\u001b[0;34m\u001b[0m\u001b[0m\n\u001b[0m\u001b[1;32m    644\u001b[0m \u001b[0;34m\u001b[0m\u001b[0m\n\u001b[1;32m    645\u001b[0m                 \u001b[0;31m# TODO(extension)\u001b[0m\u001b[0;34m\u001b[0m\u001b[0;34m\u001b[0m\u001b[0;34m\u001b[0m\u001b[0m\n",
            "\u001b[0;32m/usr/local/lib/python3.6/dist-packages/pandas/core/dtypes/cast.py\u001b[0m in \u001b[0;36mastype_nansafe\u001b[0;34m(arr, dtype, copy, skipna)\u001b[0m\n\u001b[1;32m    698\u001b[0m         \u001b[0;32mif\u001b[0m \u001b[0;32mnot\u001b[0m \u001b[0mnp\u001b[0m\u001b[0;34m.\u001b[0m\u001b[0misfinite\u001b[0m\u001b[0;34m(\u001b[0m\u001b[0marr\u001b[0m\u001b[0;34m)\u001b[0m\u001b[0;34m.\u001b[0m\u001b[0mall\u001b[0m\u001b[0;34m(\u001b[0m\u001b[0;34m)\u001b[0m\u001b[0;34m:\u001b[0m\u001b[0;34m\u001b[0m\u001b[0;34m\u001b[0m\u001b[0m\n\u001b[1;32m    699\u001b[0m             raise ValueError(\n\u001b[0;32m--> 700\u001b[0;31m                 \u001b[0;34m\"Cannot convert non-finite values (NA or inf) to \"\u001b[0m \u001b[0;34m\"integer\"\u001b[0m\u001b[0;34m\u001b[0m\u001b[0;34m\u001b[0m\u001b[0m\n\u001b[0m\u001b[1;32m    701\u001b[0m             )\n\u001b[1;32m    702\u001b[0m \u001b[0;34m\u001b[0m\u001b[0m\n",
            "\u001b[0;31mValueError\u001b[0m: Cannot convert non-finite values (NA or inf) to integer"
          ]
        }
      ]
    },
    {
      "cell_type": "code",
      "metadata": {
        "id": "qiAv1p_uDrzg",
        "colab_type": "code",
        "colab": {}
      },
      "source": [
        "country_amountLoan = pd.DataFrame(loan_simplified_USD.groupby('country_name')['funded_amount_conversion_USD'].sum()).reset_index()"
      ],
      "execution_count": 0,
      "outputs": []
    },
    {
      "cell_type": "code",
      "metadata": {
        "id": "KBjE5RI9EFKo",
        "colab_type": "code",
        "colab": {
          "base_uri": "https://localhost:8080/",
          "height": 77
        },
        "outputId": "8b3c9eb0-06b8-4aaa-e6fb-76a29499cca3"
      },
      "source": [
        "country_amountLoan[country_amountLoan['country_name']=='Mexico']"
      ],
      "execution_count": 122,
      "outputs": [
        {
          "output_type": "execute_result",
          "data": {
            "text/html": [
              "<div>\n",
              "<style scoped>\n",
              "    .dataframe tbody tr th:only-of-type {\n",
              "        vertical-align: middle;\n",
              "    }\n",
              "\n",
              "    .dataframe tbody tr th {\n",
              "        vertical-align: top;\n",
              "    }\n",
              "\n",
              "    .dataframe thead th {\n",
              "        text-align: right;\n",
              "    }\n",
              "</style>\n",
              "<table border=\"1\" class=\"dataframe\">\n",
              "  <thead>\n",
              "    <tr style=\"text-align: right;\">\n",
              "      <th></th>\n",
              "      <th>country_name</th>\n",
              "      <th>funded_amount_conversion_USD</th>\n",
              "    </tr>\n",
              "  </thead>\n",
              "  <tbody>\n",
              "    <tr>\n",
              "      <th>51</th>\n",
              "      <td>Mexico</td>\n",
              "      <td>inf</td>\n",
              "    </tr>\n",
              "  </tbody>\n",
              "</table>\n",
              "</div>"
            ],
            "text/plain": [
              "   country_name  funded_amount_conversion_USD\n",
              "51       Mexico                           inf"
            ]
          },
          "metadata": {
            "tags": []
          },
          "execution_count": 122
        }
      ]
    },
    {
      "cell_type": "markdown",
      "metadata": {
        "id": "B1-vzEGQWATQ",
        "colab_type": "text"
      },
      "source": [
        "### _Result_"
      ]
    },
    {
      "cell_type": "code",
      "metadata": {
        "id": "gsXkIui62mOs",
        "colab_type": "code",
        "outputId": "4e86094a-f36d-4082-d545-7049490fae98",
        "colab": {
          "base_uri": "https://localhost:8080/",
          "height": 195
        }
      },
      "source": [
        "country_amountLoan.head()"
      ],
      "execution_count": 108,
      "outputs": [
        {
          "output_type": "execute_result",
          "data": {
            "text/html": [
              "<div>\n",
              "<style scoped>\n",
              "    .dataframe tbody tr th:only-of-type {\n",
              "        vertical-align: middle;\n",
              "    }\n",
              "\n",
              "    .dataframe tbody tr th {\n",
              "        vertical-align: top;\n",
              "    }\n",
              "\n",
              "    .dataframe thead th {\n",
              "        text-align: right;\n",
              "    }\n",
              "</style>\n",
              "<table border=\"1\" class=\"dataframe\">\n",
              "  <thead>\n",
              "    <tr style=\"text-align: right;\">\n",
              "      <th></th>\n",
              "      <th>country</th>\n",
              "      <th>overall</th>\n",
              "    </tr>\n",
              "  </thead>\n",
              "  <tbody>\n",
              "    <tr>\n",
              "      <th>0</th>\n",
              "      <td>Afghanistan</td>\n",
              "      <td>1964650.00</td>\n",
              "    </tr>\n",
              "    <tr>\n",
              "      <th>1</th>\n",
              "      <td>Albania</td>\n",
              "      <td>4017814.39</td>\n",
              "    </tr>\n",
              "    <tr>\n",
              "      <th>2</th>\n",
              "      <td>Armenia</td>\n",
              "      <td>20284675.00</td>\n",
              "    </tr>\n",
              "    <tr>\n",
              "      <th>3</th>\n",
              "      <td>Azerbaijan</td>\n",
              "      <td>14191350.00</td>\n",
              "    </tr>\n",
              "    <tr>\n",
              "      <th>4</th>\n",
              "      <td>Belize</td>\n",
              "      <td>150175.00</td>\n",
              "    </tr>\n",
              "  </tbody>\n",
              "</table>\n",
              "</div>"
            ],
            "text/plain": [
              "       country      overall\n",
              "0  Afghanistan   1964650.00\n",
              "1      Albania   4017814.39\n",
              "2      Armenia  20284675.00\n",
              "3   Azerbaijan  14191350.00\n",
              "4       Belize    150175.00"
            ]
          },
          "metadata": {
            "tags": []
          },
          "execution_count": 108
        }
      ]
    },
    {
      "cell_type": "markdown",
      "metadata": {
        "id": "7Zs2utjG2yjf",
        "colab_type": "text"
      },
      "source": [
        "_Result (ordered)_"
      ]
    },
    {
      "cell_type": "code",
      "metadata": {
        "id": "uld2KgPI20r2",
        "colab_type": "code",
        "outputId": "54fe3f6d-e765-4c27-cbe9-96c4bbb153aa",
        "colab": {
          "base_uri": "https://localhost:8080/",
          "height": 402
        }
      },
      "source": [
        "country_amountLoan.sort_values(by='overall',ascending=False)"
      ],
      "execution_count": 109,
      "outputs": [
        {
          "output_type": "execute_result",
          "data": {
            "text/html": [
              "<div>\n",
              "<style scoped>\n",
              "    .dataframe tbody tr th:only-of-type {\n",
              "        vertical-align: middle;\n",
              "    }\n",
              "\n",
              "    .dataframe tbody tr th {\n",
              "        vertical-align: top;\n",
              "    }\n",
              "\n",
              "    .dataframe thead th {\n",
              "        text-align: right;\n",
              "    }\n",
              "</style>\n",
              "<table border=\"1\" class=\"dataframe\">\n",
              "  <thead>\n",
              "    <tr style=\"text-align: right;\">\n",
              "      <th></th>\n",
              "      <th>country</th>\n",
              "      <th>overall</th>\n",
              "    </tr>\n",
              "  </thead>\n",
              "  <tbody>\n",
              "    <tr>\n",
              "      <th>38</th>\n",
              "      <td>Israel</td>\n",
              "      <td>inf</td>\n",
              "    </tr>\n",
              "    <tr>\n",
              "      <th>51</th>\n",
              "      <td>Mexico</td>\n",
              "      <td>inf</td>\n",
              "    </tr>\n",
              "    <tr>\n",
              "      <th>65</th>\n",
              "      <td>Peru</td>\n",
              "      <td>78702800.0</td>\n",
              "    </tr>\n",
              "    <tr>\n",
              "      <th>40</th>\n",
              "      <td>Kenya</td>\n",
              "      <td>63650255.0</td>\n",
              "    </tr>\n",
              "    <tr>\n",
              "      <th>64</th>\n",
              "      <td>Paraguay</td>\n",
              "      <td>53715200.0</td>\n",
              "    </tr>\n",
              "    <tr>\n",
              "      <th>...</th>\n",
              "      <td>...</td>\n",
              "      <td>...</td>\n",
              "    </tr>\n",
              "    <tr>\n",
              "      <th>90</th>\n",
              "      <td>Vanuatu</td>\n",
              "      <td>9250.0</td>\n",
              "    </tr>\n",
              "    <tr>\n",
              "      <th>31</th>\n",
              "      <td>Guam</td>\n",
              "      <td>8700.0</td>\n",
              "    </tr>\n",
              "    <tr>\n",
              "      <th>9</th>\n",
              "      <td>Botswana</td>\n",
              "      <td>8000.0</td>\n",
              "    </tr>\n",
              "    <tr>\n",
              "      <th>89</th>\n",
              "      <td>Uruguay</td>\n",
              "      <td>8000.0</td>\n",
              "    </tr>\n",
              "    <tr>\n",
              "      <th>28</th>\n",
              "      <td>Gaza</td>\n",
              "      <td>5000.0</td>\n",
              "    </tr>\n",
              "  </tbody>\n",
              "</table>\n",
              "<p>95 rows × 2 columns</p>\n",
              "</div>"
            ],
            "text/plain": [
              "     country     overall\n",
              "38    Israel         inf\n",
              "51    Mexico         inf\n",
              "65      Peru  78702800.0\n",
              "40     Kenya  63650255.0\n",
              "64  Paraguay  53715200.0\n",
              "..       ...         ...\n",
              "90   Vanuatu      9250.0\n",
              "31      Guam      8700.0\n",
              "9   Botswana      8000.0\n",
              "89   Uruguay      8000.0\n",
              "28      Gaza      5000.0\n",
              "\n",
              "[95 rows x 2 columns]"
            ]
          },
          "metadata": {
            "tags": []
          },
          "execution_count": 109
        }
      ]
    },
    {
      "cell_type": "markdown",
      "metadata": {
        "id": "Kkmag5y2Whhi",
        "colab_type": "text"
      },
      "source": [
        "## Task 6\n",
        "- Like the previous point, but expressed as a percentage of the overall amount lent."
      ]
    },
    {
      "cell_type": "code",
      "metadata": {
        "id": "gjnwWbopn2y1",
        "colab_type": "code",
        "colab": {}
      },
      "source": [
        "country_amountLoan_perc=pd.DataFrame(country_amountLoan).reset_index(level=0)\n",
        "country_amountLoan_perc.columns=['country','total']"
      ],
      "execution_count": 0,
      "outputs": []
    },
    {
      "cell_type": "code",
      "metadata": {
        "id": "3nPeoBh8tk5N",
        "colab_type": "code",
        "outputId": "0053b5af-ce54-4563-93bd-7ac6e0d39d18",
        "colab": {
          "base_uri": "https://localhost:8080/",
          "height": 34
        }
      },
      "source": [
        "total_lent=country_amountLoan_perc['total'].sum()\n",
        "total_lent"
      ],
      "execution_count": 0,
      "outputs": [
        {
          "output_type": "execute_result",
          "data": {
            "text/plain": [
              "1130185170.0"
            ]
          },
          "metadata": {
            "tags": []
          },
          "execution_count": 42
        }
      ]
    },
    {
      "cell_type": "code",
      "metadata": {
        "id": "M89TfHxStNcI",
        "colab_type": "code",
        "colab": {}
      },
      "source": [
        "country_amountLoan_perc['percentage']=round(country_amountLoan_perc['total']/total_lent*100,2)"
      ],
      "execution_count": 0,
      "outputs": []
    },
    {
      "cell_type": "code",
      "metadata": {
        "id": "wXBYc_EHQve9",
        "colab_type": "code",
        "colab": {}
      },
      "source": [
        "country_amountLoan_perc.columns=['country','borrowed','percentage']"
      ],
      "execution_count": 0,
      "outputs": []
    },
    {
      "cell_type": "markdown",
      "metadata": {
        "id": "xNgVeIqTufQK",
        "colab_type": "text"
      },
      "source": [
        "### Result"
      ]
    },
    {
      "cell_type": "code",
      "metadata": {
        "id": "zyErEw0PugNt",
        "colab_type": "code",
        "outputId": "f39b9f16-3fc9-4236-fee5-1ff4ef551027",
        "colab": {
          "base_uri": "https://localhost:8080/",
          "height": 195
        }
      },
      "source": [
        "country_amountLoan_perc.head()"
      ],
      "execution_count": 0,
      "outputs": [
        {
          "output_type": "execute_result",
          "data": {
            "text/html": [
              "<div>\n",
              "<style scoped>\n",
              "    .dataframe tbody tr th:only-of-type {\n",
              "        vertical-align: middle;\n",
              "    }\n",
              "\n",
              "    .dataframe tbody tr th {\n",
              "        vertical-align: top;\n",
              "    }\n",
              "\n",
              "    .dataframe thead th {\n",
              "        text-align: right;\n",
              "    }\n",
              "</style>\n",
              "<table border=\"1\" class=\"dataframe\">\n",
              "  <thead>\n",
              "    <tr style=\"text-align: right;\">\n",
              "      <th></th>\n",
              "      <th>country</th>\n",
              "      <th>borrowed</th>\n",
              "      <th>percentage</th>\n",
              "    </tr>\n",
              "  </thead>\n",
              "  <tbody>\n",
              "    <tr>\n",
              "      <th>0</th>\n",
              "      <td>Philippines</td>\n",
              "      <td>97045925.0</td>\n",
              "      <td>8.59</td>\n",
              "    </tr>\n",
              "    <tr>\n",
              "      <th>1</th>\n",
              "      <td>Peru</td>\n",
              "      <td>78702800.0</td>\n",
              "      <td>6.96</td>\n",
              "    </tr>\n",
              "    <tr>\n",
              "      <th>2</th>\n",
              "      <td>Kenya</td>\n",
              "      <td>63650255.0</td>\n",
              "      <td>5.63</td>\n",
              "    </tr>\n",
              "    <tr>\n",
              "      <th>3</th>\n",
              "      <td>Paraguay</td>\n",
              "      <td>53715200.0</td>\n",
              "      <td>4.75</td>\n",
              "    </tr>\n",
              "    <tr>\n",
              "      <th>4</th>\n",
              "      <td>Cambodia</td>\n",
              "      <td>50829425.0</td>\n",
              "      <td>4.50</td>\n",
              "    </tr>\n",
              "  </tbody>\n",
              "</table>\n",
              "</div>"
            ],
            "text/plain": [
              "       country    borrowed  percentage\n",
              "0  Philippines  97045925.0        8.59\n",
              "1         Peru  78702800.0        6.96\n",
              "2        Kenya  63650255.0        5.63\n",
              "3     Paraguay  53715200.0        4.75\n",
              "4     Cambodia  50829425.0        4.50"
            ]
          },
          "metadata": {
            "tags": []
          },
          "execution_count": 45
        }
      ]
    },
    {
      "cell_type": "markdown",
      "metadata": {
        "id": "jlNVlX6mGRVt",
        "colab_type": "text"
      },
      "source": [
        "## Task 7\n",
        "- Like the three previous points, but split for each year (with respect to disburse time)."
      ]
    },
    {
      "cell_type": "code",
      "metadata": {
        "id": "ZXa2wL8G30-G",
        "colab_type": "code",
        "colab": {}
      },
      "source": [
        "global loanYear"
      ],
      "execution_count": 0,
      "outputs": []
    },
    {
      "cell_type": "code",
      "metadata": {
        "id": "5-5164Z1GQ6g",
        "colab_type": "code",
        "colab": {}
      },
      "source": [
        "loanYear = loan[['loan_id','country_name','disburse_time','planned_expiration_time','duration',\n",
        "                 'funded_amount','loan_amount','currency']]"
      ],
      "execution_count": 0,
      "outputs": []
    },
    {
      "cell_type": "code",
      "metadata": {
        "id": "YsQyPqY3RVCn",
        "colab_type": "code",
        "outputId": "430f6580-7a01-49cd-8ed2-87a189def470",
        "colab": {
          "base_uri": "https://localhost:8080/",
          "height": 47
        }
      },
      "source": [
        "missing = pd.isnull(loanYear[['disburse_time']])\n",
        "missing[missing['disburse_time']==True]"
      ],
      "execution_count": 0,
      "outputs": [
        {
          "output_type": "execute_result",
          "data": {
            "text/html": [
              "<div>\n",
              "<style scoped>\n",
              "    .dataframe tbody tr th:only-of-type {\n",
              "        vertical-align: middle;\n",
              "    }\n",
              "\n",
              "    .dataframe tbody tr th {\n",
              "        vertical-align: top;\n",
              "    }\n",
              "\n",
              "    .dataframe thead th {\n",
              "        text-align: right;\n",
              "    }\n",
              "</style>\n",
              "<table border=\"1\" class=\"dataframe\">\n",
              "  <thead>\n",
              "    <tr style=\"text-align: right;\">\n",
              "      <th></th>\n",
              "      <th>disburse_time</th>\n",
              "    </tr>\n",
              "  </thead>\n",
              "  <tbody>\n",
              "  </tbody>\n",
              "</table>\n",
              "</div>"
            ],
            "text/plain": [
              "Empty DataFrame\n",
              "Columns: [disburse_time]\n",
              "Index: []"
            ]
          },
          "metadata": {
            "tags": []
          },
          "execution_count": 48
        }
      ]
    },
    {
      "cell_type": "code",
      "metadata": {
        "id": "KRIkGPCQS8As",
        "colab_type": "code",
        "outputId": "6394240b-6b27-400d-a3c6-4a0ef8fdee80",
        "colab": {
          "base_uri": "https://localhost:8080/",
          "height": 34
        }
      },
      "source": [
        "len(loanYear[loanYear['disburse_time']==\"nan\"])"
      ],
      "execution_count": 0,
      "outputs": [
        {
          "output_type": "execute_result",
          "data": {
            "text/plain": [
              "2813"
            ]
          },
          "metadata": {
            "tags": []
          },
          "execution_count": 49
        }
      ]
    },
    {
      "cell_type": "code",
      "metadata": {
        "id": "VYix8BrvUH7U",
        "colab_type": "code",
        "colab": {}
      },
      "source": [
        "loanYear = loanYear[loanYear['disburse_time']!='nan']"
      ],
      "execution_count": 0,
      "outputs": []
    },
    {
      "cell_type": "code",
      "metadata": {
        "id": "UamDI5T1YtWv",
        "colab_type": "code",
        "outputId": "55f45a1f-2c81-4867-f120-1425350f87c5",
        "colab": {
          "base_uri": "https://localhost:8080/",
          "height": 67
        }
      },
      "source": [
        "inizio=datetime.now()\n",
        "print(\"Inizio: \"+inizio.strftime(\"%H:%M:%S\"))\n",
        "loanYear['year']=loanYear.apply(lambda x: int(x[\"disburse_time\"].split('-')[0]),axis=1)\n",
        "fine=datetime.now()\n",
        "print(\"Fine: \"+fine.strftime(\"%H:%M:%S\"))\n",
        "diff= fine - inizio\n",
        "diff"
      ],
      "execution_count": 0,
      "outputs": [
        {
          "output_type": "stream",
          "text": [
            "Inizio: 13:05:49\n",
            "Fine: 13:06:12\n"
          ],
          "name": "stdout"
        },
        {
          "output_type": "execute_result",
          "data": {
            "text/plain": [
              "datetime.timedelta(0, 22, 360383)"
            ]
          },
          "metadata": {
            "tags": []
          },
          "execution_count": 51
        }
      ]
    },
    {
      "cell_type": "code",
      "metadata": {
        "id": "DTFUBusEjbwQ",
        "colab_type": "code",
        "colab": {}
      },
      "source": [
        "countryAmount_year=loanYear.groupby(['country_name','year'])['funded_amount'].sum()\n",
        "countryAmount_year = pd.DataFrame(countryAmount_year)"
      ],
      "execution_count": 0,
      "outputs": []
    },
    {
      "cell_type": "markdown",
      "metadata": {
        "id": "ROv1F3vHC84f",
        "colab_type": "text"
      },
      "source": [
        "### Result"
      ]
    },
    {
      "cell_type": "code",
      "metadata": {
        "id": "1jnFa4B3B96x",
        "colab_type": "code",
        "outputId": "0e0a7abf-bdef-45eb-8bda-e35cc10ffaf1",
        "colab": {
          "base_uri": "https://localhost:8080/",
          "height": 225
        }
      },
      "source": [
        "countryAmount_year.head()"
      ],
      "execution_count": 0,
      "outputs": [
        {
          "output_type": "execute_result",
          "data": {
            "text/html": [
              "<div>\n",
              "<style scoped>\n",
              "    .dataframe tbody tr th:only-of-type {\n",
              "        vertical-align: middle;\n",
              "    }\n",
              "\n",
              "    .dataframe tbody tr th {\n",
              "        vertical-align: top;\n",
              "    }\n",
              "\n",
              "    .dataframe thead th {\n",
              "        text-align: right;\n",
              "    }\n",
              "</style>\n",
              "<table border=\"1\" class=\"dataframe\">\n",
              "  <thead>\n",
              "    <tr style=\"text-align: right;\">\n",
              "      <th></th>\n",
              "      <th></th>\n",
              "      <th>funded_amount</th>\n",
              "    </tr>\n",
              "    <tr>\n",
              "      <th>country_name</th>\n",
              "      <th>year</th>\n",
              "      <th></th>\n",
              "    </tr>\n",
              "  </thead>\n",
              "  <tbody>\n",
              "    <tr>\n",
              "      <th rowspan=\"5\" valign=\"top\">Afghanistan</th>\n",
              "      <th>2007</th>\n",
              "      <td>194975.0</td>\n",
              "    </tr>\n",
              "    <tr>\n",
              "      <th>2008</th>\n",
              "      <td>365375.0</td>\n",
              "    </tr>\n",
              "    <tr>\n",
              "      <th>2009</th>\n",
              "      <td>581825.0</td>\n",
              "    </tr>\n",
              "    <tr>\n",
              "      <th>2010</th>\n",
              "      <td>563350.0</td>\n",
              "    </tr>\n",
              "    <tr>\n",
              "      <th>2011</th>\n",
              "      <td>245125.0</td>\n",
              "    </tr>\n",
              "  </tbody>\n",
              "</table>\n",
              "</div>"
            ],
            "text/plain": [
              "                   funded_amount\n",
              "country_name year               \n",
              "Afghanistan  2007       194975.0\n",
              "             2008       365375.0\n",
              "             2009       581825.0\n",
              "             2010       563350.0\n",
              "             2011       245125.0"
            ]
          },
          "metadata": {
            "tags": []
          },
          "execution_count": 53
        }
      ]
    },
    {
      "cell_type": "markdown",
      "metadata": {
        "id": "9cWj5GvvDNak",
        "colab_type": "text"
      },
      "source": [
        "## Task 8\n",
        "- For each lender, compute the overall amount of money lent. For each loan that has more than one lender, you must assume that all lenders contributed the same amount."
      ]
    },
    {
      "cell_type": "code",
      "metadata": {
        "id": "XUJlYtiAEje7",
        "colab_type": "code",
        "outputId": "de4593e3-f562-4cb6-d81e-fcfc13660f89",
        "colab": {
          "base_uri": "https://localhost:8080/",
          "height": 402
        }
      },
      "source": [
        "numberLoans_lender_norm=loans_lender_norm.groupby('loan_id')['lenders'].count()\n",
        "numberLoans_lender_norm=pd.DataFrame(numberLoans_lender_norm).reset_index(level=0)\n",
        "numberLoans_lender_norm"
      ],
      "execution_count": 0,
      "outputs": [
        {
          "output_type": "execute_result",
          "data": {
            "text/html": [
              "<div>\n",
              "<style scoped>\n",
              "    .dataframe tbody tr th:only-of-type {\n",
              "        vertical-align: middle;\n",
              "    }\n",
              "\n",
              "    .dataframe tbody tr th {\n",
              "        vertical-align: top;\n",
              "    }\n",
              "\n",
              "    .dataframe thead th {\n",
              "        text-align: right;\n",
              "    }\n",
              "</style>\n",
              "<table border=\"1\" class=\"dataframe\">\n",
              "  <thead>\n",
              "    <tr style=\"text-align: right;\">\n",
              "      <th></th>\n",
              "      <th>loan_id</th>\n",
              "      <th>lenders</th>\n",
              "    </tr>\n",
              "  </thead>\n",
              "  <tbody>\n",
              "    <tr>\n",
              "      <th>0</th>\n",
              "      <td>84</td>\n",
              "      <td>3</td>\n",
              "    </tr>\n",
              "    <tr>\n",
              "      <th>1</th>\n",
              "      <td>85</td>\n",
              "      <td>2</td>\n",
              "    </tr>\n",
              "    <tr>\n",
              "      <th>2</th>\n",
              "      <td>86</td>\n",
              "      <td>3</td>\n",
              "    </tr>\n",
              "    <tr>\n",
              "      <th>3</th>\n",
              "      <td>88</td>\n",
              "      <td>3</td>\n",
              "    </tr>\n",
              "    <tr>\n",
              "      <th>4</th>\n",
              "      <td>89</td>\n",
              "      <td>4</td>\n",
              "    </tr>\n",
              "    <tr>\n",
              "      <th>...</th>\n",
              "      <td>...</td>\n",
              "      <td>...</td>\n",
              "    </tr>\n",
              "    <tr>\n",
              "      <th>1387427</th>\n",
              "      <td>1444051</td>\n",
              "      <td>1</td>\n",
              "    </tr>\n",
              "    <tr>\n",
              "      <th>1387428</th>\n",
              "      <td>1444053</td>\n",
              "      <td>1</td>\n",
              "    </tr>\n",
              "    <tr>\n",
              "      <th>1387429</th>\n",
              "      <td>1444058</td>\n",
              "      <td>1</td>\n",
              "    </tr>\n",
              "    <tr>\n",
              "      <th>1387430</th>\n",
              "      <td>1444063</td>\n",
              "      <td>1</td>\n",
              "    </tr>\n",
              "    <tr>\n",
              "      <th>1387431</th>\n",
              "      <td>1444065</td>\n",
              "      <td>1</td>\n",
              "    </tr>\n",
              "  </tbody>\n",
              "</table>\n",
              "<p>1387432 rows × 2 columns</p>\n",
              "</div>"
            ],
            "text/plain": [
              "         loan_id  lenders\n",
              "0             84        3\n",
              "1             85        2\n",
              "2             86        3\n",
              "3             88        3\n",
              "4             89        4\n",
              "...          ...      ...\n",
              "1387427  1444051        1\n",
              "1387428  1444053        1\n",
              "1387429  1444058        1\n",
              "1387430  1444063        1\n",
              "1387431  1444065        1\n",
              "\n",
              "[1387432 rows x 2 columns]"
            ]
          },
          "metadata": {
            "tags": []
          },
          "execution_count": 54
        }
      ]
    },
    {
      "cell_type": "code",
      "metadata": {
        "id": "CLRRCXB3DkqC",
        "colab_type": "code",
        "colab": {}
      },
      "source": [
        "loans_lender = loan[['loan_id','num_lenders_total','funded_amount']]"
      ],
      "execution_count": 0,
      "outputs": []
    },
    {
      "cell_type": "code",
      "metadata": {
        "id": "M_-CUKmLFg5S",
        "colab_type": "code",
        "outputId": "2f0c9722-f384-4030-e79c-9ed4f145dd40",
        "colab": {
          "base_uri": "https://localhost:8080/",
          "height": 195
        }
      },
      "source": [
        "numberLoans = pd.merge(loans_lender,numberLoans_lender_norm,how=\"inner\",on=\"loan_id\")\n",
        "numberLoans.head()"
      ],
      "execution_count": 0,
      "outputs": [
        {
          "output_type": "execute_result",
          "data": {
            "text/html": [
              "<div>\n",
              "<style scoped>\n",
              "    .dataframe tbody tr th:only-of-type {\n",
              "        vertical-align: middle;\n",
              "    }\n",
              "\n",
              "    .dataframe tbody tr th {\n",
              "        vertical-align: top;\n",
              "    }\n",
              "\n",
              "    .dataframe thead th {\n",
              "        text-align: right;\n",
              "    }\n",
              "</style>\n",
              "<table border=\"1\" class=\"dataframe\">\n",
              "  <thead>\n",
              "    <tr style=\"text-align: right;\">\n",
              "      <th></th>\n",
              "      <th>loan_id</th>\n",
              "      <th>num_lenders_total</th>\n",
              "      <th>funded_amount</th>\n",
              "      <th>lenders</th>\n",
              "    </tr>\n",
              "  </thead>\n",
              "  <tbody>\n",
              "    <tr>\n",
              "      <th>0</th>\n",
              "      <td>657307</td>\n",
              "      <td>3</td>\n",
              "      <td>125.0</td>\n",
              "      <td>3</td>\n",
              "    </tr>\n",
              "    <tr>\n",
              "      <th>1</th>\n",
              "      <td>657259</td>\n",
              "      <td>11</td>\n",
              "      <td>400.0</td>\n",
              "      <td>7</td>\n",
              "    </tr>\n",
              "    <tr>\n",
              "      <th>2</th>\n",
              "      <td>658010</td>\n",
              "      <td>16</td>\n",
              "      <td>400.0</td>\n",
              "      <td>14</td>\n",
              "    </tr>\n",
              "    <tr>\n",
              "      <th>3</th>\n",
              "      <td>659347</td>\n",
              "      <td>21</td>\n",
              "      <td>625.0</td>\n",
              "      <td>17</td>\n",
              "    </tr>\n",
              "    <tr>\n",
              "      <th>4</th>\n",
              "      <td>656933</td>\n",
              "      <td>15</td>\n",
              "      <td>425.0</td>\n",
              "      <td>14</td>\n",
              "    </tr>\n",
              "  </tbody>\n",
              "</table>\n",
              "</div>"
            ],
            "text/plain": [
              "   loan_id  num_lenders_total  funded_amount  lenders\n",
              "0   657307                  3          125.0        3\n",
              "1   657259                 11          400.0        7\n",
              "2   658010                 16          400.0       14\n",
              "3   659347                 21          625.0       17\n",
              "4   656933                 15          425.0       14"
            ]
          },
          "metadata": {
            "tags": []
          },
          "execution_count": 56
        }
      ]
    },
    {
      "cell_type": "code",
      "metadata": {
        "id": "C0H9eMJUIl_a",
        "colab_type": "code",
        "colab": {}
      },
      "source": [
        "correct = numberLoans[numberLoans['num_lenders_total']==numberLoans['lenders']]\n",
        "wrong = numberLoans[numberLoans['num_lenders_total']!=numberLoans['lenders']]"
      ],
      "execution_count": 0,
      "outputs": []
    },
    {
      "cell_type": "code",
      "metadata": {
        "id": "-2GagLVTSKJF",
        "colab_type": "code",
        "outputId": "5080d550-0f3c-47e7-dc55-60c76184ce75",
        "colab": {
          "base_uri": "https://localhost:8080/",
          "height": 195
        }
      },
      "source": [
        "wrong.head()"
      ],
      "execution_count": 0,
      "outputs": [
        {
          "output_type": "execute_result",
          "data": {
            "text/html": [
              "<div>\n",
              "<style scoped>\n",
              "    .dataframe tbody tr th:only-of-type {\n",
              "        vertical-align: middle;\n",
              "    }\n",
              "\n",
              "    .dataframe tbody tr th {\n",
              "        vertical-align: top;\n",
              "    }\n",
              "\n",
              "    .dataframe thead th {\n",
              "        text-align: right;\n",
              "    }\n",
              "</style>\n",
              "<table border=\"1\" class=\"dataframe\">\n",
              "  <thead>\n",
              "    <tr style=\"text-align: right;\">\n",
              "      <th></th>\n",
              "      <th>loan_id</th>\n",
              "      <th>num_lenders_total</th>\n",
              "      <th>funded_amount</th>\n",
              "      <th>lenders</th>\n",
              "    </tr>\n",
              "  </thead>\n",
              "  <tbody>\n",
              "    <tr>\n",
              "      <th>1</th>\n",
              "      <td>657259</td>\n",
              "      <td>11</td>\n",
              "      <td>400.0</td>\n",
              "      <td>7</td>\n",
              "    </tr>\n",
              "    <tr>\n",
              "      <th>2</th>\n",
              "      <td>658010</td>\n",
              "      <td>16</td>\n",
              "      <td>400.0</td>\n",
              "      <td>14</td>\n",
              "    </tr>\n",
              "    <tr>\n",
              "      <th>3</th>\n",
              "      <td>659347</td>\n",
              "      <td>21</td>\n",
              "      <td>625.0</td>\n",
              "      <td>17</td>\n",
              "    </tr>\n",
              "    <tr>\n",
              "      <th>4</th>\n",
              "      <td>656933</td>\n",
              "      <td>15</td>\n",
              "      <td>425.0</td>\n",
              "      <td>14</td>\n",
              "    </tr>\n",
              "    <tr>\n",
              "      <th>5</th>\n",
              "      <td>659605</td>\n",
              "      <td>13</td>\n",
              "      <td>350.0</td>\n",
              "      <td>14</td>\n",
              "    </tr>\n",
              "  </tbody>\n",
              "</table>\n",
              "</div>"
            ],
            "text/plain": [
              "   loan_id  num_lenders_total  funded_amount  lenders\n",
              "1   657259                 11          400.0        7\n",
              "2   658010                 16          400.0       14\n",
              "3   659347                 21          625.0       17\n",
              "4   656933                 15          425.0       14\n",
              "5   659605                 13          350.0       14"
            ]
          },
          "metadata": {
            "tags": []
          },
          "execution_count": 58
        }
      ]
    },
    {
      "cell_type": "code",
      "metadata": {
        "id": "kjjsczFRJJeg",
        "colab_type": "code",
        "outputId": "dc5100e8-27b3-4832-86ae-f6b3d5b2ffb2",
        "colab": {
          "base_uri": "https://localhost:8080/",
          "height": 50
        }
      },
      "source": [
        "#plot barchart da fare\n",
        "print(\"Info giuste: \"+str(len(correct)/len(numberLoans)))\n",
        "print(\"Info sbagliate: \"+str(len(wrong)/len(numberLoans)))"
      ],
      "execution_count": 0,
      "outputs": [
        {
          "output_type": "stream",
          "text": [
            "Info giuste: 0.1917209397532701\n",
            "Info sbagliate: 0.8082790602467299\n"
          ],
          "name": "stdout"
        }
      ]
    },
    {
      "cell_type": "code",
      "metadata": {
        "id": "oraGcSfPLvwU",
        "colab_type": "code",
        "colab": {}
      },
      "source": [
        "loans_lender_correct = pd.merge(loans_lender,numberLoans_lender_norm,how='inner',on='loan_id')\n",
        "loans_lender_correct.drop(columns='num_lenders_total',inplace=True)"
      ],
      "execution_count": 0,
      "outputs": []
    },
    {
      "cell_type": "code",
      "metadata": {
        "id": "fr5Vhem6OsGc",
        "colab_type": "code",
        "colab": {}
      },
      "source": [
        "loans_lender_correct['amount']=round(loans_lender_correct['funded_amount']/loans_lender_correct['lenders'],2)"
      ],
      "execution_count": 0,
      "outputs": []
    },
    {
      "cell_type": "code",
      "metadata": {
        "id": "zlAyAEOvbp0J",
        "colab_type": "code",
        "outputId": "566a5a9e-208c-44dd-dfa4-c8ad337f576a",
        "colab": {
          "base_uri": "https://localhost:8080/",
          "height": 195
        }
      },
      "source": [
        "loans_lender_correct.head()"
      ],
      "execution_count": 0,
      "outputs": [
        {
          "output_type": "execute_result",
          "data": {
            "text/html": [
              "<div>\n",
              "<style scoped>\n",
              "    .dataframe tbody tr th:only-of-type {\n",
              "        vertical-align: middle;\n",
              "    }\n",
              "\n",
              "    .dataframe tbody tr th {\n",
              "        vertical-align: top;\n",
              "    }\n",
              "\n",
              "    .dataframe thead th {\n",
              "        text-align: right;\n",
              "    }\n",
              "</style>\n",
              "<table border=\"1\" class=\"dataframe\">\n",
              "  <thead>\n",
              "    <tr style=\"text-align: right;\">\n",
              "      <th></th>\n",
              "      <th>loan_id</th>\n",
              "      <th>funded_amount</th>\n",
              "      <th>lenders</th>\n",
              "      <th>amount</th>\n",
              "    </tr>\n",
              "  </thead>\n",
              "  <tbody>\n",
              "    <tr>\n",
              "      <th>0</th>\n",
              "      <td>657307</td>\n",
              "      <td>125.0</td>\n",
              "      <td>3</td>\n",
              "      <td>41.67</td>\n",
              "    </tr>\n",
              "    <tr>\n",
              "      <th>1</th>\n",
              "      <td>657259</td>\n",
              "      <td>400.0</td>\n",
              "      <td>7</td>\n",
              "      <td>57.14</td>\n",
              "    </tr>\n",
              "    <tr>\n",
              "      <th>2</th>\n",
              "      <td>658010</td>\n",
              "      <td>400.0</td>\n",
              "      <td>14</td>\n",
              "      <td>28.57</td>\n",
              "    </tr>\n",
              "    <tr>\n",
              "      <th>3</th>\n",
              "      <td>659347</td>\n",
              "      <td>625.0</td>\n",
              "      <td>17</td>\n",
              "      <td>36.76</td>\n",
              "    </tr>\n",
              "    <tr>\n",
              "      <th>4</th>\n",
              "      <td>656933</td>\n",
              "      <td>425.0</td>\n",
              "      <td>14</td>\n",
              "      <td>30.36</td>\n",
              "    </tr>\n",
              "  </tbody>\n",
              "</table>\n",
              "</div>"
            ],
            "text/plain": [
              "   loan_id  funded_amount  lenders  amount\n",
              "0   657307          125.0        3   41.67\n",
              "1   657259          400.0        7   57.14\n",
              "2   658010          400.0       14   28.57\n",
              "3   659347          625.0       17   36.76\n",
              "4   656933          425.0       14   30.36"
            ]
          },
          "metadata": {
            "tags": []
          },
          "execution_count": 62
        }
      ]
    },
    {
      "cell_type": "code",
      "metadata": {
        "id": "IPPOA09QczNE",
        "colab_type": "code",
        "colab": {}
      },
      "source": [
        "amount_loan_lender = pd.merge(loans_lender_norm,loans_lender_correct,how=\"inner\",on='loan_id')\n",
        "amount_loan_lender.drop(columns=['funded_amount','lenders_y'],inplace=True)\n",
        "amount_loan_lender.columns=['loan_id','lenders','amount'] "
      ],
      "execution_count": 0,
      "outputs": []
    },
    {
      "cell_type": "code",
      "metadata": {
        "id": "jdNHodV2e20L",
        "colab_type": "code",
        "colab": {}
      },
      "source": [
        "amountLender = amount_loan_lender.groupby('lenders')['amount'].sum()\n",
        "amountLender = pd.DataFrame(amountLender).reset_index(level=0)"
      ],
      "execution_count": 0,
      "outputs": []
    },
    {
      "cell_type": "code",
      "metadata": {
        "id": "i6j-6uMrf4g1",
        "colab_type": "code",
        "colab": {}
      },
      "source": [
        "amountLender = amountLender.sort_values(by='amount',ascending=False)"
      ],
      "execution_count": 0,
      "outputs": []
    },
    {
      "cell_type": "code",
      "metadata": {
        "id": "J4yIE6jNhKS3",
        "colab_type": "code",
        "colab": {}
      },
      "source": [
        "amountLender['amountFormat']=amountLender.apply(lambda x: format(x['amount'],'f'),axis=1)"
      ],
      "execution_count": 0,
      "outputs": []
    },
    {
      "cell_type": "markdown",
      "metadata": {
        "id": "3TyiPuDJ4fSb",
        "colab_type": "text"
      },
      "source": [
        "### Result"
      ]
    },
    {
      "cell_type": "code",
      "metadata": {
        "id": "Vc0k4AgZgs7e",
        "colab_type": "code",
        "outputId": "a7d0d7cd-28bd-4a63-b711-d2cbfc995c16",
        "colab": {
          "base_uri": "https://localhost:8080/",
          "height": 195
        }
      },
      "source": [
        "amountLender.head()"
      ],
      "execution_count": 0,
      "outputs": [
        {
          "output_type": "execute_result",
          "data": {
            "text/html": [
              "<div>\n",
              "<style scoped>\n",
              "    .dataframe tbody tr th:only-of-type {\n",
              "        vertical-align: middle;\n",
              "    }\n",
              "\n",
              "    .dataframe tbody tr th {\n",
              "        vertical-align: top;\n",
              "    }\n",
              "\n",
              "    .dataframe thead th {\n",
              "        text-align: right;\n",
              "    }\n",
              "</style>\n",
              "<table border=\"1\" class=\"dataframe\">\n",
              "  <thead>\n",
              "    <tr style=\"text-align: right;\">\n",
              "      <th></th>\n",
              "      <th>lenders</th>\n",
              "      <th>amount</th>\n",
              "      <th>amountFormat</th>\n",
              "    </tr>\n",
              "  </thead>\n",
              "  <tbody>\n",
              "    <tr>\n",
              "      <th>462833</th>\n",
              "      <td>gooddogg1</td>\n",
              "      <td>8.140636e+06</td>\n",
              "      <td>8140636.400000</td>\n",
              "    </tr>\n",
              "    <tr>\n",
              "      <th>1324411</th>\n",
              "      <td>trolltech4460</td>\n",
              "      <td>5.634790e+06</td>\n",
              "      <td>5634789.740000</td>\n",
              "    </tr>\n",
              "    <tr>\n",
              "      <th>1008585</th>\n",
              "      <td>nms</td>\n",
              "      <td>4.453638e+06</td>\n",
              "      <td>4453638.040000</td>\n",
              "    </tr>\n",
              "    <tr>\n",
              "      <th>462243</th>\n",
              "      <td>gmct</td>\n",
              "      <td>4.445122e+06</td>\n",
              "      <td>4445122.169999</td>\n",
              "    </tr>\n",
              "    <tr>\n",
              "      <th>158450</th>\n",
              "      <td>bob4739</td>\n",
              "      <td>4.439756e+06</td>\n",
              "      <td>4439755.910000</td>\n",
              "    </tr>\n",
              "  </tbody>\n",
              "</table>\n",
              "</div>"
            ],
            "text/plain": [
              "               lenders        amount    amountFormat\n",
              "462833       gooddogg1  8.140636e+06  8140636.400000\n",
              "1324411  trolltech4460  5.634790e+06  5634789.740000\n",
              "1008585            nms  4.453638e+06  4453638.040000\n",
              "462243            gmct  4.445122e+06  4445122.169999\n",
              "158450         bob4739  4.439756e+06  4439755.910000"
            ]
          },
          "metadata": {
            "tags": []
          },
          "execution_count": 67
        }
      ]
    },
    {
      "cell_type": "markdown",
      "metadata": {
        "id": "bFOyaQ_a4_fM",
        "colab_type": "text"
      },
      "source": [
        "## Task 9\n",
        "- For each country, compute the difference between the overall amount of money lent and the overall amount of money borrowed. Since the country of the lender is often unknown, you can assume that the true distribution among the countries is the same as the one computed from the rows where the country is known."
      ]
    },
    {
      "cell_type": "markdown",
      "metadata": {
        "id": "QXKlr765-m49",
        "colab_type": "text"
      },
      "source": [
        "### Load 2 csv: lenders and country_stats"
      ]
    },
    {
      "cell_type": "code",
      "metadata": {
        "id": "Z4sd6tju5Olp",
        "colab_type": "code",
        "colab": {}
      },
      "source": [
        "lenders = pd.read_csv('/content/drive/My Drive/Foundation of computer science/additional-kiva-snapshot/lenders.csv')"
      ],
      "execution_count": 0,
      "outputs": []
    },
    {
      "cell_type": "code",
      "metadata": {
        "id": "tPPY7Ipy-_9X",
        "colab_type": "code",
        "colab": {}
      },
      "source": [
        "country_info=pd.read_csv('/content/drive/My Drive/Foundation of computer science/additional-kiva-snapshot/country_stats.csv')"
      ],
      "execution_count": 0,
      "outputs": []
    },
    {
      "cell_type": "code",
      "metadata": {
        "id": "rXc1cF25BBdQ",
        "colab_type": "code",
        "colab": {}
      },
      "source": [
        "country_info_9 = country_info[['country_name','country_code']] #population is included because it needed for the 10 task"
      ],
      "execution_count": 0,
      "outputs": []
    },
    {
      "cell_type": "code",
      "metadata": {
        "id": "CO8r_4ku8C8I",
        "colab_type": "code",
        "colab": {}
      },
      "source": [
        "lenders = lenders[['permanent_name','country_code']]"
      ],
      "execution_count": 0,
      "outputs": []
    },
    {
      "cell_type": "code",
      "metadata": {
        "id": "4DKzy7Wb8bht",
        "colab_type": "code",
        "colab": {}
      },
      "source": [
        "lenders['country_code']=lenders.apply(lambda x: str(x['country_code']),axis=1)"
      ],
      "execution_count": 0,
      "outputs": []
    },
    {
      "cell_type": "code",
      "metadata": {
        "id": "MAJHOvLnAfZx",
        "colab_type": "code",
        "outputId": "164cc425-53e2-46ff-aff8-f316064ee9e6",
        "colab": {
          "base_uri": "https://localhost:8080/",
          "height": 386
        }
      },
      "source": [
        "lenders['country_code'].unique()"
      ],
      "execution_count": 0,
      "outputs": [
        {
          "output_type": "execute_result",
          "data": {
            "text/plain": [
              "array(['nan', 'US', 'IN', 'AU', 'PL', 'BR', 'CN', 'FR', 'BG', 'AT', 'GB',\n",
              "       'ES', 'DE', 'BE', 'SK', 'IT', 'SE', 'JP', 'PK', 'LA', 'AR', 'HU',\n",
              "       'TR', 'LV', 'TW', 'MY', 'NL', 'GE', 'ID', 'RU', 'CA', 'PT', 'NG',\n",
              "       'IS', 'NO', 'HK', 'JO', 'KE', 'MT', 'VN', 'CH', 'NZ', 'FI', 'MX',\n",
              "       'TN', 'CO', 'AE', 'KR', 'DK', 'TZ', 'PH', 'GR', 'RO', 'CR', 'IL',\n",
              "       'SA', 'GH', 'PR', 'VE', 'LK', 'EG', 'MA', 'TH', 'AM', 'PG', 'CZ',\n",
              "       'SG', 'CL', 'YE', 'CY', 'PY', 'HR', 'MN', 'CM', 'UG', 'LT', 'EE',\n",
              "       'BH', 'DZ', 'IE', 'RS', 'KY', 'IR', 'GT', 'DO', 'PS', 'PE', 'BD',\n",
              "       'ET', 'SY', 'UY', 'RW', 'AS', 'PA', 'AL', 'UA', 'EC', 'KW', 'AD',\n",
              "       'NI', 'ZA', 'MM', 'FJ', 'LC', 'IQ', 'HT', 'AO', 'SD', 'SI', 'MK',\n",
              "       'OM', 'AQ', 'LY', 'AZ', 'AF', 'MO', 'BS', 'MZ', 'SV', 'ZM', 'LU',\n",
              "       'HN', 'BI', 'BJ', 'YT', 'GU', 'ML', 'BO', 'GW', 'TJ', 'KH', 'SR',\n",
              "       'LB', 'VU', 'AN', 'MP', 'MW', 'QA', 'MH', 'TM', 'UM', 'SZ', 'XK',\n",
              "       'NE', 'TT', 'SO', 'ZW', 'TK', 'BB', 'JM', 'NP', 'GI', 'KG', 'MG',\n",
              "       'FK', 'BY', 'MD', 'KZ', 'CU', 'GY', 'CD', 'CI', 'AW', 'SB', 'MV',\n",
              "       'UZ', 'VI', 'GM', 'BF', 'TG', 'ER', 'BT', 'CG', 'WS', 'TL', 'MU',\n",
              "       'NC', 'MQ', 'MR', 'LR', 'BM', 'BN', 'BW', 'MC', 'PF', 'WF', 'GL',\n",
              "       'PW', 'BA', 'FO', 'KN', 'SN', 'GD', 'GN', 'CK', 'GP', 'BV', 'SC',\n",
              "       'CV', 'GS', 'NF', 'BZ', 'VG', 'CS', 'RE', 'TF', 'VC', 'AI', 'SM',\n",
              "       'SH', 'SL', 'LI', 'GA', 'FM', 'TC', 'AG', 'LS', 'DM', 'KM', 'SS',\n",
              "       'GZ', 'EH', 'TO', 'KP', 'NU', 'ME', 'DJ', 'VA', 'TV', 'SJ', 'GF',\n",
              "       'PN', 'CX', 'IO', 'MS'], dtype=object)"
            ]
          },
          "metadata": {
            "tags": []
          },
          "execution_count": 73
        }
      ]
    },
    {
      "cell_type": "code",
      "metadata": {
        "id": "Q1l9_Hka-k-J",
        "colab_type": "code",
        "colab": {}
      },
      "source": [
        "totale = len(lenders)\n",
        "sconosciuti = len(lenders[lenders['country_code']=='nan'])"
      ],
      "execution_count": 0,
      "outputs": []
    },
    {
      "cell_type": "code",
      "metadata": {
        "id": "nseISRXg_uLV",
        "colab_type": "code",
        "outputId": "786711d7-c1ee-4548-fb3e-4714a014a6a5",
        "colab": {
          "base_uri": "https://localhost:8080/",
          "height": 34
        }
      },
      "source": [
        "print(\"Country lenders not known: \"+str(sconosciuti/totale))"
      ],
      "execution_count": 0,
      "outputs": [
        {
          "output_type": "stream",
          "text": [
            "Country lenders not known: 0.620913989342637\n"
          ],
          "name": "stdout"
        }
      ]
    },
    {
      "cell_type": "code",
      "metadata": {
        "id": "rr9GPx50BaqK",
        "colab_type": "code",
        "outputId": "22e16a5c-6865-4d7f-8a73-937204d8ea66",
        "colab": {
          "base_uri": "https://localhost:8080/",
          "height": 573
        }
      },
      "source": [
        "country_info"
      ],
      "execution_count": 0,
      "outputs": [
        {
          "output_type": "execute_result",
          "data": {
            "text/html": [
              "<div>\n",
              "<style scoped>\n",
              "    .dataframe tbody tr th:only-of-type {\n",
              "        vertical-align: middle;\n",
              "    }\n",
              "\n",
              "    .dataframe tbody tr th {\n",
              "        vertical-align: top;\n",
              "    }\n",
              "\n",
              "    .dataframe thead th {\n",
              "        text-align: right;\n",
              "    }\n",
              "</style>\n",
              "<table border=\"1\" class=\"dataframe\">\n",
              "  <thead>\n",
              "    <tr style=\"text-align: right;\">\n",
              "      <th></th>\n",
              "      <th>country_name</th>\n",
              "      <th>country_code</th>\n",
              "      <th>country_code3</th>\n",
              "      <th>continent</th>\n",
              "      <th>region</th>\n",
              "      <th>population</th>\n",
              "      <th>population_below_poverty_line</th>\n",
              "      <th>hdi</th>\n",
              "      <th>life_expectancy</th>\n",
              "      <th>expected_years_of_schooling</th>\n",
              "      <th>mean_years_of_schooling</th>\n",
              "      <th>gni</th>\n",
              "      <th>kiva_country_name</th>\n",
              "    </tr>\n",
              "  </thead>\n",
              "  <tbody>\n",
              "    <tr>\n",
              "      <th>0</th>\n",
              "      <td>India</td>\n",
              "      <td>IN</td>\n",
              "      <td>IND</td>\n",
              "      <td>Asia</td>\n",
              "      <td>Southern Asia</td>\n",
              "      <td>1339180127</td>\n",
              "      <td>21.9</td>\n",
              "      <td>0.623559</td>\n",
              "      <td>68.322</td>\n",
              "      <td>11.696590</td>\n",
              "      <td>6.298834</td>\n",
              "      <td>5663.474799</td>\n",
              "      <td>India</td>\n",
              "    </tr>\n",
              "    <tr>\n",
              "      <th>1</th>\n",
              "      <td>Nigeria</td>\n",
              "      <td>NG</td>\n",
              "      <td>NGA</td>\n",
              "      <td>Africa</td>\n",
              "      <td>Western Africa</td>\n",
              "      <td>190886311</td>\n",
              "      <td>70.0</td>\n",
              "      <td>0.527105</td>\n",
              "      <td>53.057</td>\n",
              "      <td>9.970482</td>\n",
              "      <td>6.000000</td>\n",
              "      <td>5442.901264</td>\n",
              "      <td>Nigeria</td>\n",
              "    </tr>\n",
              "    <tr>\n",
              "      <th>2</th>\n",
              "      <td>Mexico</td>\n",
              "      <td>MX</td>\n",
              "      <td>MEX</td>\n",
              "      <td>Americas</td>\n",
              "      <td>Central America</td>\n",
              "      <td>129163276</td>\n",
              "      <td>46.2</td>\n",
              "      <td>0.761683</td>\n",
              "      <td>76.972</td>\n",
              "      <td>13.299090</td>\n",
              "      <td>8.554985</td>\n",
              "      <td>16383.106680</td>\n",
              "      <td>Mexico</td>\n",
              "    </tr>\n",
              "    <tr>\n",
              "      <th>3</th>\n",
              "      <td>Pakistan</td>\n",
              "      <td>PK</td>\n",
              "      <td>PAK</td>\n",
              "      <td>Asia</td>\n",
              "      <td>Southern Asia</td>\n",
              "      <td>197015955</td>\n",
              "      <td>29.5</td>\n",
              "      <td>0.550354</td>\n",
              "      <td>66.365</td>\n",
              "      <td>8.106910</td>\n",
              "      <td>5.089460</td>\n",
              "      <td>5031.173074</td>\n",
              "      <td>Pakistan</td>\n",
              "    </tr>\n",
              "    <tr>\n",
              "      <th>4</th>\n",
              "      <td>Bangladesh</td>\n",
              "      <td>BD</td>\n",
              "      <td>BGD</td>\n",
              "      <td>Asia</td>\n",
              "      <td>Southern Asia</td>\n",
              "      <td>164669751</td>\n",
              "      <td>31.5</td>\n",
              "      <td>0.578824</td>\n",
              "      <td>71.985</td>\n",
              "      <td>10.178706</td>\n",
              "      <td>5.241577</td>\n",
              "      <td>3341.490722</td>\n",
              "      <td>Bangladesh</td>\n",
              "    </tr>\n",
              "    <tr>\n",
              "      <th>...</th>\n",
              "      <td>...</td>\n",
              "      <td>...</td>\n",
              "      <td>...</td>\n",
              "      <td>...</td>\n",
              "      <td>...</td>\n",
              "      <td>...</td>\n",
              "      <td>...</td>\n",
              "      <td>...</td>\n",
              "      <td>...</td>\n",
              "      <td>...</td>\n",
              "      <td>...</td>\n",
              "      <td>...</td>\n",
              "      <td>...</td>\n",
              "    </tr>\n",
              "    <tr>\n",
              "      <th>169</th>\n",
              "      <td>Somalia</td>\n",
              "      <td>SO</td>\n",
              "      <td>SOM</td>\n",
              "      <td>Africa</td>\n",
              "      <td>Eastern Africa</td>\n",
              "      <td>14742523</td>\n",
              "      <td>NaN</td>\n",
              "      <td>NaN</td>\n",
              "      <td>NaN</td>\n",
              "      <td>NaN</td>\n",
              "      <td>NaN</td>\n",
              "      <td>NaN</td>\n",
              "      <td>Somalia</td>\n",
              "    </tr>\n",
              "    <tr>\n",
              "      <th>170</th>\n",
              "      <td>Central African Republic</td>\n",
              "      <td>CF</td>\n",
              "      <td>CAF</td>\n",
              "      <td>Africa</td>\n",
              "      <td>Middle Africa</td>\n",
              "      <td>4659080</td>\n",
              "      <td>NaN</td>\n",
              "      <td>0.352440</td>\n",
              "      <td>51.458</td>\n",
              "      <td>7.098980</td>\n",
              "      <td>4.230000</td>\n",
              "      <td>587.473961</td>\n",
              "      <td>Central African Republic</td>\n",
              "    </tr>\n",
              "    <tr>\n",
              "      <th>171</th>\n",
              "      <td>Samoa</td>\n",
              "      <td>WS</td>\n",
              "      <td>WSM</td>\n",
              "      <td>Oceania</td>\n",
              "      <td>Polynesia</td>\n",
              "      <td>196440</td>\n",
              "      <td>NaN</td>\n",
              "      <td>0.702000</td>\n",
              "      <td>NaN</td>\n",
              "      <td>NaN</td>\n",
              "      <td>NaN</td>\n",
              "      <td>NaN</td>\n",
              "      <td>Samoa</td>\n",
              "    </tr>\n",
              "    <tr>\n",
              "      <th>172</th>\n",
              "      <td>Palestine</td>\n",
              "      <td>PS</td>\n",
              "      <td>PS</td>\n",
              "      <td>Asia</td>\n",
              "      <td>Western Asia</td>\n",
              "      <td>4920724</td>\n",
              "      <td>NaN</td>\n",
              "      <td>0.677000</td>\n",
              "      <td>NaN</td>\n",
              "      <td>NaN</td>\n",
              "      <td>NaN</td>\n",
              "      <td>NaN</td>\n",
              "      <td>Palestine</td>\n",
              "    </tr>\n",
              "    <tr>\n",
              "      <th>173</th>\n",
              "      <td>Kosovo</td>\n",
              "      <td>XK</td>\n",
              "      <td>NaN</td>\n",
              "      <td>Europe</td>\n",
              "      <td>Southern Europe</td>\n",
              "      <td>1895250</td>\n",
              "      <td>30.0</td>\n",
              "      <td>0.786000</td>\n",
              "      <td>NaN</td>\n",
              "      <td>NaN</td>\n",
              "      <td>NaN</td>\n",
              "      <td>NaN</td>\n",
              "      <td>Kosovo</td>\n",
              "    </tr>\n",
              "  </tbody>\n",
              "</table>\n",
              "<p>174 rows × 13 columns</p>\n",
              "</div>"
            ],
            "text/plain": [
              "                 country_name  ...         kiva_country_name\n",
              "0                       India  ...                     India\n",
              "1                     Nigeria  ...                   Nigeria\n",
              "2                      Mexico  ...                    Mexico\n",
              "3                    Pakistan  ...                  Pakistan\n",
              "4                  Bangladesh  ...                Bangladesh\n",
              "..                        ...  ...                       ...\n",
              "169                   Somalia  ...                   Somalia\n",
              "170  Central African Republic  ...  Central African Republic\n",
              "171                     Samoa  ...                     Samoa\n",
              "172                 Palestine  ...                 Palestine\n",
              "173                    Kosovo  ...                    Kosovo\n",
              "\n",
              "[174 rows x 13 columns]"
            ]
          },
          "metadata": {
            "tags": []
          },
          "execution_count": 76
        }
      ]
    },
    {
      "cell_type": "code",
      "metadata": {
        "id": "Pe7qvT_SBEMg",
        "colab_type": "code",
        "colab": {}
      },
      "source": [
        "lenders_country = pd.merge(lenders,country_info_9,how='left',on='country_code')\n",
        "lenders_country.drop(columns='country_code',inplace=True)"
      ],
      "execution_count": 0,
      "outputs": []
    },
    {
      "cell_type": "code",
      "metadata": {
        "id": "JWkokTHgCrsR",
        "colab_type": "code",
        "colab": {}
      },
      "source": [
        "lenders_country['country_name'] = lenders_country.apply(lambda x: str(x['country_name']),axis=1)"
      ],
      "execution_count": 0,
      "outputs": []
    },
    {
      "cell_type": "code",
      "metadata": {
        "id": "IW3EdK4tTYPu",
        "colab_type": "code",
        "outputId": "f16b45c0-ced1-4a80-8196-2dc9f49c2a1b",
        "colab": {
          "base_uri": "https://localhost:8080/",
          "height": 195
        }
      },
      "source": [
        "lenders_country.head()"
      ],
      "execution_count": 0,
      "outputs": [
        {
          "output_type": "execute_result",
          "data": {
            "text/html": [
              "<div>\n",
              "<style scoped>\n",
              "    .dataframe tbody tr th:only-of-type {\n",
              "        vertical-align: middle;\n",
              "    }\n",
              "\n",
              "    .dataframe tbody tr th {\n",
              "        vertical-align: top;\n",
              "    }\n",
              "\n",
              "    .dataframe thead th {\n",
              "        text-align: right;\n",
              "    }\n",
              "</style>\n",
              "<table border=\"1\" class=\"dataframe\">\n",
              "  <thead>\n",
              "    <tr style=\"text-align: right;\">\n",
              "      <th></th>\n",
              "      <th>permanent_name</th>\n",
              "      <th>country_name</th>\n",
              "    </tr>\n",
              "  </thead>\n",
              "  <tbody>\n",
              "    <tr>\n",
              "      <th>0</th>\n",
              "      <td>qian3013</td>\n",
              "      <td>nan</td>\n",
              "    </tr>\n",
              "    <tr>\n",
              "      <th>1</th>\n",
              "      <td>reena6733</td>\n",
              "      <td>nan</td>\n",
              "    </tr>\n",
              "    <tr>\n",
              "      <th>2</th>\n",
              "      <td>mai5982</td>\n",
              "      <td>nan</td>\n",
              "    </tr>\n",
              "    <tr>\n",
              "      <th>3</th>\n",
              "      <td>andrew86079135</td>\n",
              "      <td>nan</td>\n",
              "    </tr>\n",
              "    <tr>\n",
              "      <th>4</th>\n",
              "      <td>nguyen6962</td>\n",
              "      <td>nan</td>\n",
              "    </tr>\n",
              "  </tbody>\n",
              "</table>\n",
              "</div>"
            ],
            "text/plain": [
              "   permanent_name country_name\n",
              "0        qian3013          nan\n",
              "1       reena6733          nan\n",
              "2         mai5982          nan\n",
              "3  andrew86079135          nan\n",
              "4      nguyen6962          nan"
            ]
          },
          "metadata": {
            "tags": []
          },
          "execution_count": 79
        }
      ]
    },
    {
      "cell_type": "code",
      "metadata": {
        "id": "9rJeSK6jDpGG",
        "colab_type": "code",
        "colab": {}
      },
      "source": [
        "lenders_country.columns=['lenders','country_name']"
      ],
      "execution_count": 0,
      "outputs": []
    },
    {
      "cell_type": "code",
      "metadata": {
        "id": "RZn4cy1BDLa1",
        "colab_type": "code",
        "colab": {}
      },
      "source": [
        "lenders_country_distTrovati = lenders_country[lenders_country['country_name']!='nan']"
      ],
      "execution_count": 0,
      "outputs": []
    },
    {
      "cell_type": "code",
      "metadata": {
        "id": "mC9bY_44KZIW",
        "colab_type": "code",
        "colab": {}
      },
      "source": [
        "lenders_country_distTrovare = lenders_country[lenders_country['country_name']=='nan']"
      ],
      "execution_count": 0,
      "outputs": []
    },
    {
      "cell_type": "code",
      "metadata": {
        "id": "JWi6yRZEDWD4",
        "colab_type": "code",
        "colab": {}
      },
      "source": [
        "lenders_country_dist = lenders_country_distTrovati.groupby('country_name')['lenders'].count()\n",
        "lenders_country_dist = pd.DataFrame(lenders_country_dist).reset_index(level=0)"
      ],
      "execution_count": 0,
      "outputs": []
    },
    {
      "cell_type": "code",
      "metadata": {
        "id": "9HJzVjfxFKmW",
        "colab_type": "code",
        "outputId": "7ec4d43b-44f9-4e27-b47b-70567c2ef4e8",
        "colab": {
          "base_uri": "https://localhost:8080/",
          "height": 34
        }
      },
      "source": [
        "number_lenders = lenders_country_dist['lenders'].sum()\n",
        "number_lenders"
      ],
      "execution_count": 0,
      "outputs": [
        {
          "output_type": "execute_result",
          "data": {
            "text/plain": [
              "888056"
            ]
          },
          "metadata": {
            "tags": []
          },
          "execution_count": 84
        }
      ]
    },
    {
      "cell_type": "code",
      "metadata": {
        "id": "XaWtcSASEKs1",
        "colab_type": "code",
        "outputId": "1afaa926-8135-4a74-9a04-3b1207750413",
        "colab": {
          "base_uri": "https://localhost:8080/",
          "height": 282
        }
      },
      "source": [
        "fig = plt.figure()\n",
        "plt.bar(lenders_country_dist['country_name'],lenders_country_dist['lenders'])"
      ],
      "execution_count": 0,
      "outputs": [
        {
          "output_type": "execute_result",
          "data": {
            "text/plain": [
              "<BarContainer object of 170 artists>"
            ]
          },
          "metadata": {
            "tags": []
          },
          "execution_count": 85
        },
        {
          "output_type": "display_data",
          "data": {
            "image/png": "[encoded data removed]",
            "text/plain": [
              "<Figure size 432x288 with 1 Axes>"
            ]
          },
          "metadata": {
            "tags": []
          }
        }
      ]
    },
    {
      "cell_type": "code",
      "metadata": {
        "id": "A3TX8EnKHfQP",
        "colab_type": "code",
        "colab": {}
      },
      "source": [
        "lenders_country_dist['distribution'] = lenders_country_dist['lenders'] / number_lenders"
      ],
      "execution_count": 0,
      "outputs": []
    },
    {
      "cell_type": "code",
      "metadata": {
        "id": "RreWJTz8H6pL",
        "colab_type": "code",
        "colab": {}
      },
      "source": [
        "dist= lenders_country_dist.sort_values(by='lenders',ascending=False)"
      ],
      "execution_count": 0,
      "outputs": []
    },
    {
      "cell_type": "code",
      "metadata": {
        "id": "By1yigBuPxZq",
        "colab_type": "code",
        "outputId": "5a8e466b-a3f0-46ce-a72a-c3235fa8985d",
        "colab": {
          "base_uri": "https://localhost:8080/",
          "height": 402
        }
      },
      "source": [
        "dist"
      ],
      "execution_count": 0,
      "outputs": [
        {
          "output_type": "execute_result",
          "data": {
            "text/html": [
              "<div>\n",
              "<style scoped>\n",
              "    .dataframe tbody tr th:only-of-type {\n",
              "        vertical-align: middle;\n",
              "    }\n",
              "\n",
              "    .dataframe tbody tr th {\n",
              "        vertical-align: top;\n",
              "    }\n",
              "\n",
              "    .dataframe thead th {\n",
              "        text-align: right;\n",
              "    }\n",
              "</style>\n",
              "<table border=\"1\" class=\"dataframe\">\n",
              "  <thead>\n",
              "    <tr style=\"text-align: right;\">\n",
              "      <th></th>\n",
              "      <th>country_name</th>\n",
              "      <th>lenders</th>\n",
              "      <th>distribution</th>\n",
              "    </tr>\n",
              "  </thead>\n",
              "  <tbody>\n",
              "    <tr>\n",
              "      <th>162</th>\n",
              "      <td>United States</td>\n",
              "      <td>591612</td>\n",
              "      <td>0.666188</td>\n",
              "    </tr>\n",
              "    <tr>\n",
              "      <th>26</th>\n",
              "      <td>Canada</td>\n",
              "      <td>67970</td>\n",
              "      <td>0.076538</td>\n",
              "    </tr>\n",
              "    <tr>\n",
              "      <th>161</th>\n",
              "      <td>United Kingdom</td>\n",
              "      <td>38380</td>\n",
              "      <td>0.043218</td>\n",
              "    </tr>\n",
              "    <tr>\n",
              "      <th>6</th>\n",
              "      <td>Australia</td>\n",
              "      <td>37103</td>\n",
              "      <td>0.041780</td>\n",
              "    </tr>\n",
              "    <tr>\n",
              "      <th>53</th>\n",
              "      <td>Germany</td>\n",
              "      <td>16007</td>\n",
              "      <td>0.018025</td>\n",
              "    </tr>\n",
              "    <tr>\n",
              "      <th>...</th>\n",
              "      <td>...</td>\n",
              "      <td>...</td>\n",
              "      <td>...</td>\n",
              "    </tr>\n",
              "    <tr>\n",
              "      <th>157</th>\n",
              "      <td>Turkmenistan</td>\n",
              "      <td>4</td>\n",
              "      <td>0.000005</td>\n",
              "    </tr>\n",
              "    <tr>\n",
              "      <th>44</th>\n",
              "      <td>Eritrea</td>\n",
              "      <td>4</td>\n",
              "      <td>0.000005</td>\n",
              "    </tr>\n",
              "    <tr>\n",
              "      <th>96</th>\n",
              "      <td>Mauritania</td>\n",
              "      <td>4</td>\n",
              "      <td>0.000005</td>\n",
              "    </tr>\n",
              "    <tr>\n",
              "      <th>30</th>\n",
              "      <td>Comoros</td>\n",
              "      <td>1</td>\n",
              "      <td>0.000001</td>\n",
              "    </tr>\n",
              "    <tr>\n",
              "      <th>58</th>\n",
              "      <td>Guinea-Bissau</td>\n",
              "      <td>1</td>\n",
              "      <td>0.000001</td>\n",
              "    </tr>\n",
              "  </tbody>\n",
              "</table>\n",
              "<p>170 rows × 3 columns</p>\n",
              "</div>"
            ],
            "text/plain": [
              "       country_name  lenders  distribution\n",
              "162   United States   591612      0.666188\n",
              "26           Canada    67970      0.076538\n",
              "161  United Kingdom    38380      0.043218\n",
              "6         Australia    37103      0.041780\n",
              "53          Germany    16007      0.018025\n",
              "..              ...      ...           ...\n",
              "157    Turkmenistan        4      0.000005\n",
              "44          Eritrea        4      0.000005\n",
              "96       Mauritania        4      0.000005\n",
              "30          Comoros        1      0.000001\n",
              "58    Guinea-Bissau        1      0.000001\n",
              "\n",
              "[170 rows x 3 columns]"
            ]
          },
          "metadata": {
            "tags": []
          },
          "execution_count": 88
        }
      ]
    },
    {
      "cell_type": "code",
      "metadata": {
        "colab_type": "code",
        "outputId": "0f62d506-23b4-469d-d656-686116c478c1",
        "id": "etMV9p_4Td_F",
        "colab": {
          "base_uri": "https://localhost:8080/",
          "height": 351
        }
      },
      "source": [
        "dist_focus = dist[dist['distribution']>0.005]\n",
        "fig = plt.figure(figsize=(16,5))\n",
        "plt.bar(dist_focus['country_name'],dist_focus['distribution'])\n",
        "plt.xlabel('country')\n",
        "plt.ylabel('percentage')"
      ],
      "execution_count": 0,
      "outputs": [
        {
          "output_type": "execute_result",
          "data": {
            "text/plain": [
              "Text(0, 0.5, 'percentage')"
            ]
          },
          "metadata": {
            "tags": []
          },
          "execution_count": 89
        },
        {
          "output_type": "display_data",
          "data": {
            "image/png": "[encoded data removed]",
            "text/plain": [
              "<Figure size 1152x360 with 1 Axes>"
            ]
          },
          "metadata": {
            "tags": []
          }
        }
      ]
    },
    {
      "cell_type": "code",
      "metadata": {
        "id": "y_4yDOWiKS9p",
        "colab_type": "code",
        "outputId": "9a2aceb2-a498-4df3-9bfe-850118d5f139",
        "colab": {
          "base_uri": "https://localhost:8080/",
          "height": 195
        }
      },
      "source": [
        "lenders_country_distTrovare.head()"
      ],
      "execution_count": 0,
      "outputs": [
        {
          "output_type": "execute_result",
          "data": {
            "text/html": [
              "<div>\n",
              "<style scoped>\n",
              "    .dataframe tbody tr th:only-of-type {\n",
              "        vertical-align: middle;\n",
              "    }\n",
              "\n",
              "    .dataframe tbody tr th {\n",
              "        vertical-align: top;\n",
              "    }\n",
              "\n",
              "    .dataframe thead th {\n",
              "        text-align: right;\n",
              "    }\n",
              "</style>\n",
              "<table border=\"1\" class=\"dataframe\">\n",
              "  <thead>\n",
              "    <tr style=\"text-align: right;\">\n",
              "      <th></th>\n",
              "      <th>lenders</th>\n",
              "      <th>country_name</th>\n",
              "    </tr>\n",
              "  </thead>\n",
              "  <tbody>\n",
              "    <tr>\n",
              "      <th>0</th>\n",
              "      <td>qian3013</td>\n",
              "      <td>nan</td>\n",
              "    </tr>\n",
              "    <tr>\n",
              "      <th>1</th>\n",
              "      <td>reena6733</td>\n",
              "      <td>nan</td>\n",
              "    </tr>\n",
              "    <tr>\n",
              "      <th>2</th>\n",
              "      <td>mai5982</td>\n",
              "      <td>nan</td>\n",
              "    </tr>\n",
              "    <tr>\n",
              "      <th>3</th>\n",
              "      <td>andrew86079135</td>\n",
              "      <td>nan</td>\n",
              "    </tr>\n",
              "    <tr>\n",
              "      <th>4</th>\n",
              "      <td>nguyen6962</td>\n",
              "      <td>nan</td>\n",
              "    </tr>\n",
              "  </tbody>\n",
              "</table>\n",
              "</div>"
            ],
            "text/plain": [
              "          lenders country_name\n",
              "0        qian3013          nan\n",
              "1       reena6733          nan\n",
              "2         mai5982          nan\n",
              "3  andrew86079135          nan\n",
              "4      nguyen6962          nan"
            ]
          },
          "metadata": {
            "tags": []
          },
          "execution_count": 90
        }
      ]
    },
    {
      "cell_type": "code",
      "metadata": {
        "id": "RDzplR-IMSun",
        "colab_type": "code",
        "outputId": "9b8c81d0-3e7b-4f62-809d-a1cb55e5da0e",
        "colab": {
          "base_uri": "https://localhost:8080/",
          "height": 402
        }
      },
      "source": [
        "dist['numberRecord']=round(dist['distribution']*len(lenders_country_distTrovare),0)\n",
        "dist['numberRecord'] = dist.apply(lambda x: int(x['numberRecord']),axis=1)\n",
        "dist"
      ],
      "execution_count": 0,
      "outputs": [
        {
          "output_type": "execute_result",
          "data": {
            "text/html": [
              "<div>\n",
              "<style scoped>\n",
              "    .dataframe tbody tr th:only-of-type {\n",
              "        vertical-align: middle;\n",
              "    }\n",
              "\n",
              "    .dataframe tbody tr th {\n",
              "        vertical-align: top;\n",
              "    }\n",
              "\n",
              "    .dataframe thead th {\n",
              "        text-align: right;\n",
              "    }\n",
              "</style>\n",
              "<table border=\"1\" class=\"dataframe\">\n",
              "  <thead>\n",
              "    <tr style=\"text-align: right;\">\n",
              "      <th></th>\n",
              "      <th>country_name</th>\n",
              "      <th>lenders</th>\n",
              "      <th>distribution</th>\n",
              "      <th>numberRecord</th>\n",
              "    </tr>\n",
              "  </thead>\n",
              "  <tbody>\n",
              "    <tr>\n",
              "      <th>162</th>\n",
              "      <td>United States</td>\n",
              "      <td>591612</td>\n",
              "      <td>0.666188</td>\n",
              "      <td>973379</td>\n",
              "    </tr>\n",
              "    <tr>\n",
              "      <th>26</th>\n",
              "      <td>Canada</td>\n",
              "      <td>67970</td>\n",
              "      <td>0.076538</td>\n",
              "      <td>111831</td>\n",
              "    </tr>\n",
              "    <tr>\n",
              "      <th>161</th>\n",
              "      <td>United Kingdom</td>\n",
              "      <td>38380</td>\n",
              "      <td>0.043218</td>\n",
              "      <td>63147</td>\n",
              "    </tr>\n",
              "    <tr>\n",
              "      <th>6</th>\n",
              "      <td>Australia</td>\n",
              "      <td>37103</td>\n",
              "      <td>0.041780</td>\n",
              "      <td>61046</td>\n",
              "    </tr>\n",
              "    <tr>\n",
              "      <th>53</th>\n",
              "      <td>Germany</td>\n",
              "      <td>16007</td>\n",
              "      <td>0.018025</td>\n",
              "      <td>26336</td>\n",
              "    </tr>\n",
              "    <tr>\n",
              "      <th>...</th>\n",
              "      <td>...</td>\n",
              "      <td>...</td>\n",
              "      <td>...</td>\n",
              "      <td>...</td>\n",
              "    </tr>\n",
              "    <tr>\n",
              "      <th>157</th>\n",
              "      <td>Turkmenistan</td>\n",
              "      <td>4</td>\n",
              "      <td>0.000005</td>\n",
              "      <td>7</td>\n",
              "    </tr>\n",
              "    <tr>\n",
              "      <th>44</th>\n",
              "      <td>Eritrea</td>\n",
              "      <td>4</td>\n",
              "      <td>0.000005</td>\n",
              "      <td>7</td>\n",
              "    </tr>\n",
              "    <tr>\n",
              "      <th>96</th>\n",
              "      <td>Mauritania</td>\n",
              "      <td>4</td>\n",
              "      <td>0.000005</td>\n",
              "      <td>7</td>\n",
              "    </tr>\n",
              "    <tr>\n",
              "      <th>30</th>\n",
              "      <td>Comoros</td>\n",
              "      <td>1</td>\n",
              "      <td>0.000001</td>\n",
              "      <td>2</td>\n",
              "    </tr>\n",
              "    <tr>\n",
              "      <th>58</th>\n",
              "      <td>Guinea-Bissau</td>\n",
              "      <td>1</td>\n",
              "      <td>0.000001</td>\n",
              "      <td>2</td>\n",
              "    </tr>\n",
              "  </tbody>\n",
              "</table>\n",
              "<p>170 rows × 4 columns</p>\n",
              "</div>"
            ],
            "text/plain": [
              "       country_name  lenders  distribution  numberRecord\n",
              "162   United States   591612      0.666188        973379\n",
              "26           Canada    67970      0.076538        111831\n",
              "161  United Kingdom    38380      0.043218         63147\n",
              "6         Australia    37103      0.041780         61046\n",
              "53          Germany    16007      0.018025         26336\n",
              "..              ...      ...           ...           ...\n",
              "157    Turkmenistan        4      0.000005             7\n",
              "44          Eritrea        4      0.000005             7\n",
              "96       Mauritania        4      0.000005             7\n",
              "30          Comoros        1      0.000001             2\n",
              "58    Guinea-Bissau        1      0.000001             2\n",
              "\n",
              "[170 rows x 4 columns]"
            ]
          },
          "metadata": {
            "tags": []
          },
          "execution_count": 91
        }
      ]
    },
    {
      "cell_type": "code",
      "metadata": {
        "id": "vr53G_NKVDvC",
        "colab_type": "code",
        "colab": {}
      },
      "source": [
        "dist['countryLender']=dist.apply(lambda x: [x['country_name']]*x['numberRecord'],axis=1)"
      ],
      "execution_count": 0,
      "outputs": []
    },
    {
      "cell_type": "code",
      "metadata": {
        "id": "bzMwKXM9X1BD",
        "colab_type": "code",
        "colab": {}
      },
      "source": [
        "country_lenderTrovare = pd.Series.to_list(dist['countryLender']) #concat all list for each country"
      ],
      "execution_count": 0,
      "outputs": []
    },
    {
      "cell_type": "code",
      "metadata": {
        "id": "bvi1AgKnYj1V",
        "colab_type": "code",
        "colab": {}
      },
      "source": [
        "country_lenderTrovare = list(itertools.chain(*country_lenderTrovare)) #flat list\n",
        "country_lenderTrovare = country_lenderTrovare[:-2]"
      ],
      "execution_count": 0,
      "outputs": []
    },
    {
      "cell_type": "code",
      "metadata": {
        "id": "zLwb1dJAZJQc",
        "colab_type": "code",
        "outputId": "4c375ece-3869-4dbc-9828-0fc956088220",
        "colab": {
          "base_uri": "https://localhost:8080/",
          "height": 118
        }
      },
      "source": [
        "lenders_country_distTrovare['country_name']=country_lenderTrovare"
      ],
      "execution_count": 0,
      "outputs": [
        {
          "output_type": "stream",
          "text": [
            "/usr/local/lib/python3.6/dist-packages/ipykernel_launcher.py:1: SettingWithCopyWarning: \n",
            "A value is trying to be set on a copy of a slice from a DataFrame.\n",
            "Try using .loc[row_indexer,col_indexer] = value instead\n",
            "\n",
            "See the caveats in the documentation: http://pandas.pydata.org/pandas-docs/stable/user_guide/indexing.html#returning-a-view-versus-a-copy\n",
            "  \"\"\"Entry point for launching an IPython kernel.\n"
          ],
          "name": "stderr"
        }
      ]
    },
    {
      "cell_type": "code",
      "metadata": {
        "id": "1X8FkeBtaJmT",
        "colab_type": "code",
        "colab": {}
      },
      "source": [
        "lenders_country = pd.concat([lenders_country_distTrovare,lenders_country_distTrovati],axis=0)"
      ],
      "execution_count": 0,
      "outputs": []
    },
    {
      "cell_type": "code",
      "metadata": {
        "id": "-XLJiBOLbNg4",
        "colab_type": "code",
        "outputId": "9c3d2dd4-5256-4e06-e9b6-38deb8012f04",
        "colab": {
          "base_uri": "https://localhost:8080/",
          "height": 402
        }
      },
      "source": [
        "lenders_country"
      ],
      "execution_count": 0,
      "outputs": [
        {
          "output_type": "execute_result",
          "data": {
            "text/html": [
              "<div>\n",
              "<style scoped>\n",
              "    .dataframe tbody tr th:only-of-type {\n",
              "        vertical-align: middle;\n",
              "    }\n",
              "\n",
              "    .dataframe tbody tr th {\n",
              "        vertical-align: top;\n",
              "    }\n",
              "\n",
              "    .dataframe thead th {\n",
              "        text-align: right;\n",
              "    }\n",
              "</style>\n",
              "<table border=\"1\" class=\"dataframe\">\n",
              "  <thead>\n",
              "    <tr style=\"text-align: right;\">\n",
              "      <th></th>\n",
              "      <th>lenders</th>\n",
              "      <th>country_name</th>\n",
              "    </tr>\n",
              "  </thead>\n",
              "  <tbody>\n",
              "    <tr>\n",
              "      <th>0</th>\n",
              "      <td>qian3013</td>\n",
              "      <td>United States</td>\n",
              "    </tr>\n",
              "    <tr>\n",
              "      <th>1</th>\n",
              "      <td>reena6733</td>\n",
              "      <td>United States</td>\n",
              "    </tr>\n",
              "    <tr>\n",
              "      <th>2</th>\n",
              "      <td>mai5982</td>\n",
              "      <td>United States</td>\n",
              "    </tr>\n",
              "    <tr>\n",
              "      <th>3</th>\n",
              "      <td>andrew86079135</td>\n",
              "      <td>United States</td>\n",
              "    </tr>\n",
              "    <tr>\n",
              "      <th>4</th>\n",
              "      <td>nguyen6962</td>\n",
              "      <td>United States</td>\n",
              "    </tr>\n",
              "    <tr>\n",
              "      <th>...</th>\n",
              "      <td>...</td>\n",
              "      <td>...</td>\n",
              "    </tr>\n",
              "    <tr>\n",
              "      <th>2349158</th>\n",
              "      <td>rakhi</td>\n",
              "      <td>United States</td>\n",
              "    </tr>\n",
              "    <tr>\n",
              "      <th>2349159</th>\n",
              "      <td>vicki5374</td>\n",
              "      <td>United States</td>\n",
              "    </tr>\n",
              "    <tr>\n",
              "      <th>2349161</th>\n",
              "      <td>jennifer5879</td>\n",
              "      <td>Canada</td>\n",
              "    </tr>\n",
              "    <tr>\n",
              "      <th>2349171</th>\n",
              "      <td>maria2141</td>\n",
              "      <td>United States</td>\n",
              "    </tr>\n",
              "    <tr>\n",
              "      <th>2349173</th>\n",
              "      <td>laurie1160</td>\n",
              "      <td>United States</td>\n",
              "    </tr>\n",
              "  </tbody>\n",
              "</table>\n",
              "<p>2349174 rows × 2 columns</p>\n",
              "</div>"
            ],
            "text/plain": [
              "                lenders   country_name\n",
              "0              qian3013  United States\n",
              "1             reena6733  United States\n",
              "2               mai5982  United States\n",
              "3        andrew86079135  United States\n",
              "4            nguyen6962  United States\n",
              "...                 ...            ...\n",
              "2349158           rakhi  United States\n",
              "2349159       vicki5374  United States\n",
              "2349161    jennifer5879         Canada\n",
              "2349171       maria2141  United States\n",
              "2349173      laurie1160  United States\n",
              "\n",
              "[2349174 rows x 2 columns]"
            ]
          },
          "metadata": {
            "tags": []
          },
          "execution_count": 97
        }
      ]
    },
    {
      "cell_type": "code",
      "metadata": {
        "id": "CtUvZnRIM6fK",
        "colab_type": "code",
        "colab": {}
      },
      "source": [
        "amount_lender_country = pd.merge(amountLender,lenders_country,how='inner',on='lenders')"
      ],
      "execution_count": 0,
      "outputs": []
    },
    {
      "cell_type": "code",
      "metadata": {
        "id": "_oanyZzzNsHs",
        "colab_type": "code",
        "colab": {}
      },
      "source": [
        "country_amountLent = amount_lender_country.groupby('country_name')['amount'].sum()"
      ],
      "execution_count": 0,
      "outputs": []
    },
    {
      "cell_type": "code",
      "metadata": {
        "id": "kQYRyRRQONjO",
        "colab_type": "code",
        "colab": {}
      },
      "source": [
        "country_amountLent = pd.DataFrame(country_amountLent).reset_index(level=0)"
      ],
      "execution_count": 0,
      "outputs": []
    },
    {
      "cell_type": "code",
      "metadata": {
        "id": "lCj1XgzfP82J",
        "colab_type": "code",
        "outputId": "33cb110d-85bb-454f-b143-ada188d472e1",
        "colab": {
          "base_uri": "https://localhost:8080/",
          "height": 195
        }
      },
      "source": [
        "country_amountLent.head()"
      ],
      "execution_count": 0,
      "outputs": [
        {
          "output_type": "execute_result",
          "data": {
            "text/html": [
              "<div>\n",
              "<style scoped>\n",
              "    .dataframe tbody tr th:only-of-type {\n",
              "        vertical-align: middle;\n",
              "    }\n",
              "\n",
              "    .dataframe tbody tr th {\n",
              "        vertical-align: top;\n",
              "    }\n",
              "\n",
              "    .dataframe thead th {\n",
              "        text-align: right;\n",
              "    }\n",
              "</style>\n",
              "<table border=\"1\" class=\"dataframe\">\n",
              "  <thead>\n",
              "    <tr style=\"text-align: right;\">\n",
              "      <th></th>\n",
              "      <th>country_name</th>\n",
              "      <th>amount</th>\n",
              "    </tr>\n",
              "  </thead>\n",
              "  <tbody>\n",
              "    <tr>\n",
              "      <th>0</th>\n",
              "      <td>Afghanistan</td>\n",
              "      <td>161266.34</td>\n",
              "    </tr>\n",
              "    <tr>\n",
              "      <th>1</th>\n",
              "      <td>Albania</td>\n",
              "      <td>53739.63</td>\n",
              "    </tr>\n",
              "    <tr>\n",
              "      <th>2</th>\n",
              "      <td>Algeria</td>\n",
              "      <td>152502.87</td>\n",
              "    </tr>\n",
              "    <tr>\n",
              "      <th>3</th>\n",
              "      <td>Angola</td>\n",
              "      <td>46443.26</td>\n",
              "    </tr>\n",
              "    <tr>\n",
              "      <th>4</th>\n",
              "      <td>Argentina</td>\n",
              "      <td>2796947.51</td>\n",
              "    </tr>\n",
              "  </tbody>\n",
              "</table>\n",
              "</div>"
            ],
            "text/plain": [
              "  country_name      amount\n",
              "0  Afghanistan   161266.34\n",
              "1      Albania    53739.63\n",
              "2      Algeria   152502.87\n",
              "3       Angola    46443.26\n",
              "4    Argentina  2796947.51"
            ]
          },
          "metadata": {
            "tags": []
          },
          "execution_count": 101
        }
      ]
    },
    {
      "cell_type": "code",
      "metadata": {
        "id": "wVPgQkNoOkJK",
        "colab_type": "code",
        "colab": {}
      },
      "source": [
        "country_amountLent.columns=['country','lent']"
      ],
      "execution_count": 0,
      "outputs": []
    },
    {
      "cell_type": "code",
      "metadata": {
        "id": "wUcLUl-HPmQY",
        "colab_type": "code",
        "outputId": "c5954c45-4f33-4401-df67-2750d3dec4c2",
        "colab": {
          "base_uri": "https://localhost:8080/",
          "height": 34
        }
      },
      "source": [
        "country_amountLoan_perc.columns"
      ],
      "execution_count": 0,
      "outputs": [
        {
          "output_type": "execute_result",
          "data": {
            "text/plain": [
              "Index(['country', 'borrowed', 'percentage'], dtype='object')"
            ]
          },
          "metadata": {
            "tags": []
          },
          "execution_count": 103
        }
      ]
    },
    {
      "cell_type": "code",
      "metadata": {
        "id": "dT3pJyA0PNyD",
        "colab_type": "code",
        "colab": {}
      },
      "source": [
        "country_difference = pd.merge(country_amountLoan_perc,country_amountLent,how='inner',on='country')\n",
        "country_difference.drop(columns='percentage',inplace=True)"
      ],
      "execution_count": 0,
      "outputs": []
    },
    {
      "cell_type": "code",
      "metadata": {
        "id": "d-gDF0aBQRov",
        "colab_type": "code",
        "colab": {}
      },
      "source": [
        "country_difference['difference'] = country_difference['lent'] - country_difference['borrowed']"
      ],
      "execution_count": 0,
      "outputs": []
    },
    {
      "cell_type": "markdown",
      "metadata": {
        "id": "kuWe0iSvSKr2",
        "colab_type": "text"
      },
      "source": [
        "### Result"
      ]
    },
    {
      "cell_type": "code",
      "metadata": {
        "id": "dQ-seQmVRJ4X",
        "colab_type": "code",
        "outputId": "01363c7e-0f12-4841-9751-39d480999fe4",
        "colab": {
          "base_uri": "https://localhost:8080/",
          "height": 195
        }
      },
      "source": [
        "country_difference.head()"
      ],
      "execution_count": 0,
      "outputs": [
        {
          "output_type": "execute_result",
          "data": {
            "text/html": [
              "<div>\n",
              "<style scoped>\n",
              "    .dataframe tbody tr th:only-of-type {\n",
              "        vertical-align: middle;\n",
              "    }\n",
              "\n",
              "    .dataframe tbody tr th {\n",
              "        vertical-align: top;\n",
              "    }\n",
              "\n",
              "    .dataframe thead th {\n",
              "        text-align: right;\n",
              "    }\n",
              "</style>\n",
              "<table border=\"1\" class=\"dataframe\">\n",
              "  <thead>\n",
              "    <tr style=\"text-align: right;\">\n",
              "      <th></th>\n",
              "      <th>country</th>\n",
              "      <th>borrowed</th>\n",
              "      <th>lent</th>\n",
              "      <th>difference</th>\n",
              "    </tr>\n",
              "  </thead>\n",
              "  <tbody>\n",
              "    <tr>\n",
              "      <th>0</th>\n",
              "      <td>Philippines</td>\n",
              "      <td>97045925.0</td>\n",
              "      <td>3190391.83</td>\n",
              "      <td>-93855533.17</td>\n",
              "    </tr>\n",
              "    <tr>\n",
              "      <th>1</th>\n",
              "      <td>Peru</td>\n",
              "      <td>78702800.0</td>\n",
              "      <td>210138.88</td>\n",
              "      <td>-78492661.12</td>\n",
              "    </tr>\n",
              "    <tr>\n",
              "      <th>2</th>\n",
              "      <td>Kenya</td>\n",
              "      <td>63650255.0</td>\n",
              "      <td>619401.25</td>\n",
              "      <td>-63030853.75</td>\n",
              "    </tr>\n",
              "    <tr>\n",
              "      <th>3</th>\n",
              "      <td>Paraguay</td>\n",
              "      <td>53715200.0</td>\n",
              "      <td>66041.90</td>\n",
              "      <td>-53649158.10</td>\n",
              "    </tr>\n",
              "    <tr>\n",
              "      <th>4</th>\n",
              "      <td>Cambodia</td>\n",
              "      <td>50829425.0</td>\n",
              "      <td>211303.13</td>\n",
              "      <td>-50618121.87</td>\n",
              "    </tr>\n",
              "  </tbody>\n",
              "</table>\n",
              "</div>"
            ],
            "text/plain": [
              "       country    borrowed        lent   difference\n",
              "0  Philippines  97045925.0  3190391.83 -93855533.17\n",
              "1         Peru  78702800.0   210138.88 -78492661.12\n",
              "2        Kenya  63650255.0   619401.25 -63030853.75\n",
              "3     Paraguay  53715200.0    66041.90 -53649158.10\n",
              "4     Cambodia  50829425.0   211303.13 -50618121.87"
            ]
          },
          "metadata": {
            "tags": []
          },
          "execution_count": 106
        }
      ]
    },
    {
      "cell_type": "markdown",
      "metadata": {
        "id": "E016hO4SSo90",
        "colab_type": "text"
      },
      "source": [
        "## Task 10\n",
        "- Which country has the highest ratio between the difference computed at the previous point and the population?"
      ]
    },
    {
      "cell_type": "code",
      "metadata": {
        "id": "j2ZuZec_SvWW",
        "colab_type": "code",
        "colab": {}
      },
      "source": [
        "country_info_10 = country_info[['country_name','population']]"
      ],
      "execution_count": 0,
      "outputs": []
    },
    {
      "cell_type": "code",
      "metadata": {
        "id": "JuW1STYUWNKD",
        "colab_type": "code",
        "outputId": "58f0d0f5-1284-4192-ebbe-d41139c414b1",
        "colab": {
          "base_uri": "https://localhost:8080/",
          "height": 162
        }
      },
      "source": [
        "country_difference = pd.merge(country_difference,country_info_10,how='inner',left_on='country',right_on='country_name')"
      ],
      "execution_count": 0,
      "outputs": [
        {
          "output_type": "error",
          "ename": "NameError",
          "evalue": "ignored",
          "traceback": [
            "\u001b[0;31m---------------------------------------------------------------------------\u001b[0m",
            "\u001b[0;31mNameError\u001b[0m                                 Traceback (most recent call last)",
            "\u001b[0;32m<ipython-input-79-a563f77cc94a>\u001b[0m in \u001b[0;36m<module>\u001b[0;34m()\u001b[0m\n\u001b[0;32m----> 1\u001b[0;31m \u001b[0mcountry_difference\u001b[0m \u001b[0;34m=\u001b[0m \u001b[0mpd\u001b[0m\u001b[0;34m.\u001b[0m\u001b[0mmerge\u001b[0m\u001b[0;34m(\u001b[0m\u001b[0mcountry_difference\u001b[0m\u001b[0;34m,\u001b[0m\u001b[0mcountry_info_10\u001b[0m\u001b[0;34m,\u001b[0m\u001b[0mhow\u001b[0m\u001b[0;34m=\u001b[0m\u001b[0;34m'inner'\u001b[0m\u001b[0;34m,\u001b[0m\u001b[0mleft_on\u001b[0m\u001b[0;34m=\u001b[0m\u001b[0;34m'country'\u001b[0m\u001b[0;34m,\u001b[0m\u001b[0mright_on\u001b[0m\u001b[0;34m=\u001b[0m\u001b[0;34m'country_name'\u001b[0m\u001b[0;34m)\u001b[0m\u001b[0;34m\u001b[0m\u001b[0;34m\u001b[0m\u001b[0m\n\u001b[0m",
            "\u001b[0;31mNameError\u001b[0m: name 'country_difference' is not defined"
          ]
        }
      ]
    },
    {
      "cell_type": "code",
      "metadata": {
        "id": "THVkYp_AWs41",
        "colab_type": "code",
        "colab": {}
      },
      "source": [
        "country_difference.drop(columns='country_name',inplace=True)"
      ],
      "execution_count": 0,
      "outputs": []
    },
    {
      "cell_type": "code",
      "metadata": {
        "id": "csHfXtedW7-u",
        "colab_type": "code",
        "colab": {}
      },
      "source": [
        "country_difference['ratio']= country_difference['difference'] / country_difference['population']"
      ],
      "execution_count": 0,
      "outputs": []
    },
    {
      "cell_type": "code",
      "metadata": {
        "id": "9LYSteqRXqLI",
        "colab_type": "code",
        "colab": {}
      },
      "source": [
        "highest_ratio = country_difference.sort_values(by='ratio',ascending=False)"
      ],
      "execution_count": 0,
      "outputs": []
    },
    {
      "cell_type": "markdown",
      "metadata": {
        "id": "7f4N-vN2ZBYd",
        "colab_type": "text"
      },
      "source": [
        "### Result"
      ]
    },
    {
      "cell_type": "code",
      "metadata": {
        "id": "BOxgKgknYStd",
        "colab_type": "code",
        "outputId": "830bdb9f-7c81-4864-c3e4-0a2bb9ad5893",
        "colab": {
          "base_uri": "https://localhost:8080/",
          "height": 34
        }
      },
      "source": [
        "print(\"Country highest ratio: \"+highest_ratio.iloc[0]['country'])"
      ],
      "execution_count": 0,
      "outputs": [
        {
          "output_type": "stream",
          "text": [
            "Country highest ratio: Canada\n"
          ],
          "name": "stdout"
        }
      ]
    },
    {
      "cell_type": "markdown",
      "metadata": {
        "id": "TwmrNqtfYxJk",
        "colab_type": "text"
      },
      "source": [
        "## Task 11\n",
        "- Which country has the highest ratio between the difference computed at point 9 and the population that is not below the poverty line?"
      ]
    },
    {
      "cell_type": "code",
      "metadata": {
        "id": "jCyT8mplYvEP",
        "colab_type": "code",
        "outputId": "c49eb07d-e3ba-4a3c-fde6-dda54a0d8380",
        "colab": {
          "base_uri": "https://localhost:8080/",
          "height": 402
        }
      },
      "source": [
        "country_info_11=country_info[['country_name','population','population_below_poverty_line']]\n",
        "country_info_11"
      ],
      "execution_count": 0,
      "outputs": [
        {
          "output_type": "execute_result",
          "data": {
            "text/html": [
              "<div>\n",
              "<style scoped>\n",
              "    .dataframe tbody tr th:only-of-type {\n",
              "        vertical-align: middle;\n",
              "    }\n",
              "\n",
              "    .dataframe tbody tr th {\n",
              "        vertical-align: top;\n",
              "    }\n",
              "\n",
              "    .dataframe thead th {\n",
              "        text-align: right;\n",
              "    }\n",
              "</style>\n",
              "<table border=\"1\" class=\"dataframe\">\n",
              "  <thead>\n",
              "    <tr style=\"text-align: right;\">\n",
              "      <th></th>\n",
              "      <th>country_name</th>\n",
              "      <th>population</th>\n",
              "      <th>population_below_poverty_line</th>\n",
              "    </tr>\n",
              "  </thead>\n",
              "  <tbody>\n",
              "    <tr>\n",
              "      <th>0</th>\n",
              "      <td>India</td>\n",
              "      <td>1339180127</td>\n",
              "      <td>21.9</td>\n",
              "    </tr>\n",
              "    <tr>\n",
              "      <th>1</th>\n",
              "      <td>Nigeria</td>\n",
              "      <td>190886311</td>\n",
              "      <td>70.0</td>\n",
              "    </tr>\n",
              "    <tr>\n",
              "      <th>2</th>\n",
              "      <td>Mexico</td>\n",
              "      <td>129163276</td>\n",
              "      <td>46.2</td>\n",
              "    </tr>\n",
              "    <tr>\n",
              "      <th>3</th>\n",
              "      <td>Pakistan</td>\n",
              "      <td>197015955</td>\n",
              "      <td>29.5</td>\n",
              "    </tr>\n",
              "    <tr>\n",
              "      <th>4</th>\n",
              "      <td>Bangladesh</td>\n",
              "      <td>164669751</td>\n",
              "      <td>31.5</td>\n",
              "    </tr>\n",
              "    <tr>\n",
              "      <th>...</th>\n",
              "      <td>...</td>\n",
              "      <td>...</td>\n",
              "      <td>...</td>\n",
              "    </tr>\n",
              "    <tr>\n",
              "      <th>169</th>\n",
              "      <td>Somalia</td>\n",
              "      <td>14742523</td>\n",
              "      <td>NaN</td>\n",
              "    </tr>\n",
              "    <tr>\n",
              "      <th>170</th>\n",
              "      <td>Central African Republic</td>\n",
              "      <td>4659080</td>\n",
              "      <td>NaN</td>\n",
              "    </tr>\n",
              "    <tr>\n",
              "      <th>171</th>\n",
              "      <td>Samoa</td>\n",
              "      <td>196440</td>\n",
              "      <td>NaN</td>\n",
              "    </tr>\n",
              "    <tr>\n",
              "      <th>172</th>\n",
              "      <td>Palestine</td>\n",
              "      <td>4920724</td>\n",
              "      <td>NaN</td>\n",
              "    </tr>\n",
              "    <tr>\n",
              "      <th>173</th>\n",
              "      <td>Kosovo</td>\n",
              "      <td>1895250</td>\n",
              "      <td>30.0</td>\n",
              "    </tr>\n",
              "  </tbody>\n",
              "</table>\n",
              "<p>174 rows × 3 columns</p>\n",
              "</div>"
            ],
            "text/plain": [
              "                 country_name  population  population_below_poverty_line\n",
              "0                       India  1339180127                           21.9\n",
              "1                     Nigeria   190886311                           70.0\n",
              "2                      Mexico   129163276                           46.2\n",
              "3                    Pakistan   197015955                           29.5\n",
              "4                  Bangladesh   164669751                           31.5\n",
              "..                        ...         ...                            ...\n",
              "169                   Somalia    14742523                            NaN\n",
              "170  Central African Republic     4659080                            NaN\n",
              "171                     Samoa      196440                            NaN\n",
              "172                 Palestine     4920724                            NaN\n",
              "173                    Kosovo     1895250                           30.0\n",
              "\n",
              "[174 rows x 3 columns]"
            ]
          },
          "metadata": {
            "tags": []
          },
          "execution_count": 80
        }
      ]
    },
    {
      "cell_type": "code",
      "metadata": {
        "id": "wNXSsVSzaGa8",
        "colab_type": "code",
        "outputId": "09dc5211-b85d-4a6e-bdbf-1fca5908205d",
        "colab": {
          "base_uri": "https://localhost:8080/",
          "height": 34
        }
      },
      "source": [
        "media = country_info_11['population_below_poverty_line'].mean()\n",
        "media"
      ],
      "execution_count": 0,
      "outputs": [
        {
          "output_type": "execute_result",
          "data": {
            "text/plain": [
              "28.47697368421052"
            ]
          },
          "metadata": {
            "tags": []
          },
          "execution_count": 114
        }
      ]
    },
    {
      "cell_type": "code",
      "metadata": {
        "id": "UmtRUo9XeK84",
        "colab_type": "code",
        "outputId": "c6b6c6cc-bfbb-4d6c-9e5a-9a453a599396",
        "colab": {
          "base_uri": "https://localhost:8080/",
          "height": 252
        }
      },
      "source": [
        "country_info_11[country_info_11['population_below_poverty_line']> media]['country_name'].unique()"
      ],
      "execution_count": 0,
      "outputs": [
        {
          "output_type": "execute_result",
          "data": {
            "text/plain": [
              "array(['Nigeria', 'Mexico', 'Pakistan', 'Bangladesh',\n",
              "       'Democratic Republic of the Congo', 'Ethiopia', 'Kenya', 'Sudan',\n",
              "       'Madagascar', 'Italy', 'Yemen', 'Syria', 'Argentina', 'Mozambique',\n",
              "       'Afghanistan', 'Angola', 'Zimbabwe', 'Ivory Coast', 'Zambia',\n",
              "       'Guatemala', 'Niger', 'Malawi', 'Burkina Faso', 'Senegal',\n",
              "       'Cameroon', 'Burundi', 'Chad', 'Mali', 'Haiti', 'South Sudan',\n",
              "       'Guinea', 'Sierra Leone', 'Rwanda', 'Togo', 'Bolivia', 'Benin',\n",
              "       'Greece', 'Dominican Republic', 'Papua New Guinea', 'Tajikistan',\n",
              "       'Honduras', 'Liberia', 'Eritrea', 'Congo', 'El Salvador', 'Libya',\n",
              "       'Kyrgyzstan', 'Nicaragua', 'Lebanon', 'Mauritania', 'Lesotho',\n",
              "       'Guinea-Bissau', 'Gambia', 'Armenia', 'Swaziland', 'Namibia',\n",
              "       'Gabon', 'Botswana', 'Equatorial Guinea', 'Timor-Leste',\n",
              "       'Suriname', 'Comoros', 'Fiji', 'Guyana', 'Belize', 'Kosovo'],\n",
              "      dtype=object)"
            ]
          },
          "metadata": {
            "tags": []
          },
          "execution_count": 115
        }
      ]
    },
    {
      "cell_type": "code",
      "metadata": {
        "id": "Iwfcx6Dsek-J",
        "colab_type": "code",
        "outputId": "43140fd3-ebbb-42cb-c629-4accb1d44680",
        "colab": {
          "base_uri": "https://localhost:8080/",
          "height": 101
        }
      },
      "source": [
        "country_info_11[country_info_11['population_below_poverty_line']> 50]['country_name'].unique()"
      ],
      "execution_count": 0,
      "outputs": [
        {
          "output_type": "execute_result",
          "data": {
            "text/plain": [
              "array(['Nigeria', 'Democratic Republic of the Congo', 'Madagascar',\n",
              "       'Yemen', 'Syria', 'Zimbabwe', 'Zambia', 'Guatemala', 'Malawi',\n",
              "       'Burundi', 'Haiti', 'South Sudan', 'Sierra Leone', 'Togo',\n",
              "       'Liberia', 'Lesotho', 'Guinea-Bissau', 'Swaziland', 'Suriname'],\n",
              "      dtype=object)"
            ]
          },
          "metadata": {
            "tags": []
          },
          "execution_count": 116
        }
      ]
    },
    {
      "cell_type": "code",
      "metadata": {
        "id": "i_XuRvDugGlF",
        "colab_type": "code",
        "colab": {}
      },
      "source": [
        "valori = country_info_11['population_below_poverty_line']"
      ],
      "execution_count": 0,
      "outputs": []
    },
    {
      "cell_type": "code",
      "metadata": {
        "id": "G0J5oPS0miCH",
        "colab_type": "code",
        "colab": {}
      },
      "source": [
        "valori = pd.DataFrame(valori)\n",
        "valori = valori.dropna()"
      ],
      "execution_count": 0,
      "outputs": []
    },
    {
      "cell_type": "code",
      "metadata": {
        "id": "Zu0sh692oELL",
        "colab_type": "code",
        "outputId": "18303ba3-222d-42d0-fbe4-b0f0f5c90ebf",
        "colab": {
          "base_uri": "https://localhost:8080/",
          "height": 84
        }
      },
      "source": [
        "quantili = valori.population_below_poverty_line.quantile([0.25,0.5,0.75])\n",
        "first_quantile=quantili.iloc[0]\n",
        "third_quantile=quantili.iloc[2]\n",
        "quantili"
      ],
      "execution_count": 0,
      "outputs": [
        {
          "output_type": "execute_result",
          "data": {
            "text/plain": [
              "0.25    15.100\n",
              "0.50    23.000\n",
              "0.75    38.725\n",
              "Name: population_below_poverty_line, dtype: float64"
            ]
          },
          "metadata": {
            "tags": []
          },
          "execution_count": 119
        }
      ]
    },
    {
      "cell_type": "code",
      "metadata": {
        "id": "AxPc1X38nlUu",
        "colab_type": "code",
        "outputId": "3f5a47e5-3ef4-46c3-c0b2-340f7ef74549",
        "colab": {
          "base_uri": "https://localhost:8080/",
          "height": 283
        }
      },
      "source": [
        "valori.boxplot(column='population_below_poverty_line')"
      ],
      "execution_count": 0,
      "outputs": [
        {
          "output_type": "execute_result",
          "data": {
            "text/plain": [
              "<matplotlib.axes._subplots.AxesSubplot at 0x7f37f13be828>"
            ]
          },
          "metadata": {
            "tags": []
          },
          "execution_count": 120
        },
        {
          "output_type": "display_data",
          "data": {
            "image/png": "[encoded data removed]",
            "text/plain": [
              "<Figure size 432x288 with 1 Axes>"
            ]
          },
          "metadata": {
            "tags": []
          }
        }
      ]
    },
    {
      "cell_type": "code",
      "metadata": {
        "id": "mw2vbPqDgdhc",
        "colab_type": "code",
        "outputId": "c832774e-5230-435e-b9b1-497fe7f714b7",
        "colab": {
          "base_uri": "https://localhost:8080/",
          "height": 353
        }
      },
      "source": [
        "stringa='Media: '+str(media)\n",
        "\n",
        "fig = plt.figure(figsize=(10,5))\n",
        "plt.hist(valori['population_below_poverty_line'],bins='auto',rwidth=0.9)\n",
        "plt.text(50, 30, stringa)\n",
        "plt.title(\"Distribution poverty line\")"
      ],
      "execution_count": 0,
      "outputs": [
        {
          "output_type": "execute_result",
          "data": {
            "text/plain": [
              "Text(0.5, 1.0, 'Distribution poverty line')"
            ]
          },
          "metadata": {
            "tags": []
          },
          "execution_count": 121
        },
        {
          "output_type": "display_data",
          "data": {
            "image/png": "[encoded data removed]",
            "text/plain": [
              "<Figure size 720x360 with 1 Axes>"
            ]
          },
          "metadata": {
            "tags": []
          }
        }
      ]
    },
    {
      "cell_type": "code",
      "metadata": {
        "id": "m-Nvmjmkjkyi",
        "colab_type": "code",
        "colab": {}
      },
      "source": [
        "country_info_11 = country_info_11[country_info_11['population_below_poverty_line']<50]"
      ],
      "execution_count": 0,
      "outputs": []
    },
    {
      "cell_type": "code",
      "metadata": {
        "id": "eyXaVrBpj_xg",
        "colab_type": "code",
        "colab": {}
      },
      "source": [
        "country_difference_ratio = pd.merge(country_difference,country_info_11,how='inner',left_on='country',right_on='country_name')"
      ],
      "execution_count": 0,
      "outputs": []
    },
    {
      "cell_type": "code",
      "metadata": {
        "id": "LVuPD047lMJA",
        "colab_type": "code",
        "colab": {}
      },
      "source": [
        "country_difference_ratio.drop(columns=['country_name','population_y'],inplace=True)"
      ],
      "execution_count": 0,
      "outputs": []
    },
    {
      "cell_type": "code",
      "metadata": {
        "id": "tUJuiWaUlbNo",
        "colab_type": "code",
        "outputId": "6e8c9225-c1a4-4632-f658-b26aaba7086f",
        "colab": {
          "base_uri": "https://localhost:8080/",
          "height": 402
        }
      },
      "source": [
        "country_difference_ratio"
      ],
      "execution_count": 0,
      "outputs": [
        {
          "output_type": "execute_result",
          "data": {
            "text/html": [
              "<div>\n",
              "<style scoped>\n",
              "    .dataframe tbody tr th:only-of-type {\n",
              "        vertical-align: middle;\n",
              "    }\n",
              "\n",
              "    .dataframe tbody tr th {\n",
              "        vertical-align: top;\n",
              "    }\n",
              "\n",
              "    .dataframe thead th {\n",
              "        text-align: right;\n",
              "    }\n",
              "</style>\n",
              "<table border=\"1\" class=\"dataframe\">\n",
              "  <thead>\n",
              "    <tr style=\"text-align: right;\">\n",
              "      <th></th>\n",
              "      <th>country</th>\n",
              "      <th>borrowed</th>\n",
              "      <th>lent</th>\n",
              "      <th>difference</th>\n",
              "      <th>population_x</th>\n",
              "      <th>ratio</th>\n",
              "      <th>population_below_poverty_line</th>\n",
              "    </tr>\n",
              "  </thead>\n",
              "  <tbody>\n",
              "    <tr>\n",
              "      <th>0</th>\n",
              "      <td>Philippines</td>\n",
              "      <td>97045925.0</td>\n",
              "      <td>3190391.83</td>\n",
              "      <td>-93855533.17</td>\n",
              "      <td>104918090</td>\n",
              "      <td>-0.894560</td>\n",
              "      <td>21.6</td>\n",
              "    </tr>\n",
              "    <tr>\n",
              "      <th>1</th>\n",
              "      <td>Peru</td>\n",
              "      <td>78702800.0</td>\n",
              "      <td>210138.88</td>\n",
              "      <td>-78492661.12</td>\n",
              "      <td>32165485</td>\n",
              "      <td>-2.440276</td>\n",
              "      <td>22.7</td>\n",
              "    </tr>\n",
              "    <tr>\n",
              "      <th>2</th>\n",
              "      <td>Kenya</td>\n",
              "      <td>63650255.0</td>\n",
              "      <td>619401.25</td>\n",
              "      <td>-63030853.75</td>\n",
              "      <td>49699862</td>\n",
              "      <td>-1.268230</td>\n",
              "      <td>43.4</td>\n",
              "    </tr>\n",
              "    <tr>\n",
              "      <th>3</th>\n",
              "      <td>Paraguay</td>\n",
              "      <td>53715200.0</td>\n",
              "      <td>66041.90</td>\n",
              "      <td>-53649158.10</td>\n",
              "      <td>6811297</td>\n",
              "      <td>-7.876497</td>\n",
              "      <td>22.2</td>\n",
              "    </tr>\n",
              "    <tr>\n",
              "      <th>4</th>\n",
              "      <td>Cambodia</td>\n",
              "      <td>50829425.0</td>\n",
              "      <td>211303.13</td>\n",
              "      <td>-50618121.87</td>\n",
              "      <td>16005373</td>\n",
              "      <td>-3.162571</td>\n",
              "      <td>17.7</td>\n",
              "    </tr>\n",
              "    <tr>\n",
              "      <th>...</th>\n",
              "      <td>...</td>\n",
              "      <td>...</td>\n",
              "      <td>...</td>\n",
              "      <td>...</td>\n",
              "      <td>...</td>\n",
              "      <td>...</td>\n",
              "      <td>...</td>\n",
              "    </tr>\n",
              "    <tr>\n",
              "      <th>59</th>\n",
              "      <td>Papua New Guinea</td>\n",
              "      <td>50000.0</td>\n",
              "      <td>12728.95</td>\n",
              "      <td>-37271.05</td>\n",
              "      <td>8251162</td>\n",
              "      <td>-0.004517</td>\n",
              "      <td>37.0</td>\n",
              "    </tr>\n",
              "    <tr>\n",
              "      <th>60</th>\n",
              "      <td>Bhutan</td>\n",
              "      <td>15625.0</td>\n",
              "      <td>3205.37</td>\n",
              "      <td>-12419.63</td>\n",
              "      <td>807610</td>\n",
              "      <td>-0.015378</td>\n",
              "      <td>13.3</td>\n",
              "    </tr>\n",
              "    <tr>\n",
              "      <th>61</th>\n",
              "      <td>Mauritania</td>\n",
              "      <td>15000.0</td>\n",
              "      <td>269.49</td>\n",
              "      <td>-14730.51</td>\n",
              "      <td>4420184</td>\n",
              "      <td>-0.003333</td>\n",
              "      <td>31.0</td>\n",
              "    </tr>\n",
              "    <tr>\n",
              "      <th>62</th>\n",
              "      <td>Botswana</td>\n",
              "      <td>8000.0</td>\n",
              "      <td>23897.32</td>\n",
              "      <td>15897.32</td>\n",
              "      <td>2291661</td>\n",
              "      <td>0.006937</td>\n",
              "      <td>30.3</td>\n",
              "    </tr>\n",
              "    <tr>\n",
              "      <th>63</th>\n",
              "      <td>Uruguay</td>\n",
              "      <td>8000.0</td>\n",
              "      <td>125742.18</td>\n",
              "      <td>117742.18</td>\n",
              "      <td>3456750</td>\n",
              "      <td>0.034062</td>\n",
              "      <td>9.7</td>\n",
              "    </tr>\n",
              "  </tbody>\n",
              "</table>\n",
              "<p>64 rows × 7 columns</p>\n",
              "</div>"
            ],
            "text/plain": [
              "             country    borrowed  ...     ratio  population_below_poverty_line\n",
              "0        Philippines  97045925.0  ... -0.894560                           21.6\n",
              "1               Peru  78702800.0  ... -2.440276                           22.7\n",
              "2              Kenya  63650255.0  ... -1.268230                           43.4\n",
              "3           Paraguay  53715200.0  ... -7.876497                           22.2\n",
              "4           Cambodia  50829425.0  ... -3.162571                           17.7\n",
              "..               ...         ...  ...       ...                            ...\n",
              "59  Papua New Guinea     50000.0  ... -0.004517                           37.0\n",
              "60            Bhutan     15625.0  ... -0.015378                           13.3\n",
              "61        Mauritania     15000.0  ... -0.003333                           31.0\n",
              "62          Botswana      8000.0  ...  0.006937                           30.3\n",
              "63           Uruguay      8000.0  ...  0.034062                            9.7\n",
              "\n",
              "[64 rows x 7 columns]"
            ]
          },
          "metadata": {
            "tags": []
          },
          "execution_count": 125
        }
      ]
    },
    {
      "cell_type": "markdown",
      "metadata": {
        "id": "ylHGoTKiFuTI",
        "colab_type": "text"
      },
      "source": [
        "### Result"
      ]
    },
    {
      "cell_type": "code",
      "metadata": {
        "id": "OFSsYBrCljZb",
        "colab_type": "code",
        "outputId": "4ab379df-62c5-4c88-ebc2-3ba64d2dd53e",
        "colab": {
          "base_uri": "https://localhost:8080/",
          "height": 34
        }
      },
      "source": [
        "highest_ratio_notPoverty = country_difference_ratio.sort_values(by='ratio',ascending=False)\n",
        "print(\"Country highest ratio with constraint: \"+highest_ratio.iloc[0]['country'])"
      ],
      "execution_count": 0,
      "outputs": [
        {
          "output_type": "stream",
          "text": [
            "Country highest ratio with constraint: Canada\n"
          ],
          "name": "stdout"
        }
      ]
    },
    {
      "cell_type": "markdown",
      "metadata": {
        "id": "MLK9_JPhHGBm",
        "colab_type": "text"
      },
      "source": [
        "## Task 12\n",
        "- For each year, compute the total amount of loans. Each loan that has planned expiration time and disburse time in different years must have its amount distributed proportionally to the number of days in each year. For example, a loan with disburse time December 1st, 2016, planned expiration time January 30th 2018, and amount 5000USD has an amount of 5000USD * 31 / (31+365+30) = 363.85 for 2016, 5000USD * 365 / (31+365+30) = 4284.04 for 2017, and 5000USD * 30 / (31+365+30) = 352.11 for 2018."
      ]
    },
    {
      "cell_type": "code",
      "metadata": {
        "id": "2RhZoCgNHLbs",
        "colab_type": "code",
        "colab": {}
      },
      "source": [
        "loanYear.columns = ['loan_id','country','disburse_time','planned_expiration_time','duration',\n",
        "                    'funded_amount','loan_amount','currency','year_disburse']"
      ],
      "execution_count": 0,
      "outputs": []
    },
    {
      "cell_type": "code",
      "metadata": {
        "id": "SizItcQ4L_6a",
        "colab_type": "code",
        "colab": {}
      },
      "source": [
        "loanYear = loanYear[loanYear['duration']>0]"
      ],
      "execution_count": 0,
      "outputs": []
    },
    {
      "cell_type": "code",
      "metadata": {
        "id": "S1p7HHloSL5V",
        "colab_type": "code",
        "colab": {}
      },
      "source": [
        "loanYear['currency'] = loanYear.apply(lambda x: str(x['currency']),axis=1)"
      ],
      "execution_count": 0,
      "outputs": []
    },
    {
      "cell_type": "code",
      "metadata": {
        "id": "95f2hhDjyDtF",
        "colab_type": "code",
        "outputId": "f77366a6-d475-41d1-a803-b0f6bf987598",
        "colab": {
          "base_uri": "https://localhost:8080/",
          "height": 195
        }
      },
      "source": [
        "loanYear.head()"
      ],
      "execution_count": 0,
      "outputs": [
        {
          "output_type": "execute_result",
          "data": {
            "text/html": [
              "<div>\n",
              "<style scoped>\n",
              "    .dataframe tbody tr th:only-of-type {\n",
              "        vertical-align: middle;\n",
              "    }\n",
              "\n",
              "    .dataframe tbody tr th {\n",
              "        vertical-align: top;\n",
              "    }\n",
              "\n",
              "    .dataframe thead th {\n",
              "        text-align: right;\n",
              "    }\n",
              "</style>\n",
              "<table border=\"1\" class=\"dataframe\">\n",
              "  <thead>\n",
              "    <tr style=\"text-align: right;\">\n",
              "      <th></th>\n",
              "      <th>loan_id</th>\n",
              "      <th>country</th>\n",
              "      <th>disburse_time</th>\n",
              "      <th>planned_expiration_time</th>\n",
              "      <th>duration</th>\n",
              "      <th>funded_amount</th>\n",
              "      <th>loan_amount</th>\n",
              "      <th>currency</th>\n",
              "      <th>year_disburse</th>\n",
              "    </tr>\n",
              "  </thead>\n",
              "  <tbody>\n",
              "    <tr>\n",
              "      <th>0</th>\n",
              "      <td>657307</td>\n",
              "      <td>Philippines</td>\n",
              "      <td>2013-12-22 08:00:00.000 +0000</td>\n",
              "      <td>2014-02-14 03:30:06.000 +0000</td>\n",
              "      <td>53.0</td>\n",
              "      <td>125.0</td>\n",
              "      <td>125.0</td>\n",
              "      <td>PHP</td>\n",
              "      <td>2013</td>\n",
              "    </tr>\n",
              "    <tr>\n",
              "      <th>1</th>\n",
              "      <td>657259</td>\n",
              "      <td>Honduras</td>\n",
              "      <td>2013-12-20 08:00:00.000 +0000</td>\n",
              "      <td>2014-03-26 22:25:07.000 +0000</td>\n",
              "      <td>96.0</td>\n",
              "      <td>400.0</td>\n",
              "      <td>400.0</td>\n",
              "      <td>HNL</td>\n",
              "      <td>2013</td>\n",
              "    </tr>\n",
              "    <tr>\n",
              "      <th>2</th>\n",
              "      <td>658010</td>\n",
              "      <td>Pakistan</td>\n",
              "      <td>2014-01-09 08:00:00.000 +0000</td>\n",
              "      <td>2014-02-15 21:10:05.000 +0000</td>\n",
              "      <td>37.0</td>\n",
              "      <td>400.0</td>\n",
              "      <td>400.0</td>\n",
              "      <td>PKR</td>\n",
              "      <td>2014</td>\n",
              "    </tr>\n",
              "    <tr>\n",
              "      <th>3</th>\n",
              "      <td>659347</td>\n",
              "      <td>Kyrgyzstan</td>\n",
              "      <td>2014-01-17 08:00:00.000 +0000</td>\n",
              "      <td>2014-02-21 03:10:02.000 +0000</td>\n",
              "      <td>34.0</td>\n",
              "      <td>625.0</td>\n",
              "      <td>625.0</td>\n",
              "      <td>KGS</td>\n",
              "      <td>2014</td>\n",
              "    </tr>\n",
              "    <tr>\n",
              "      <th>4</th>\n",
              "      <td>656933</td>\n",
              "      <td>Philippines</td>\n",
              "      <td>2013-12-17 08:00:00.000 +0000</td>\n",
              "      <td>2014-02-13 06:10:02.000 +0000</td>\n",
              "      <td>57.0</td>\n",
              "      <td>425.0</td>\n",
              "      <td>425.0</td>\n",
              "      <td>PHP</td>\n",
              "      <td>2013</td>\n",
              "    </tr>\n",
              "  </tbody>\n",
              "</table>\n",
              "</div>"
            ],
            "text/plain": [
              "   loan_id      country  ... currency year_disburse\n",
              "0   657307  Philippines  ...      PHP          2013\n",
              "1   657259     Honduras  ...      HNL          2013\n",
              "2   658010     Pakistan  ...      PKR          2014\n",
              "3   659347   Kyrgyzstan  ...      KGS          2014\n",
              "4   656933  Philippines  ...      PHP          2013\n",
              "\n",
              "[5 rows x 9 columns]"
            ]
          },
          "metadata": {
            "tags": []
          },
          "execution_count": 133
        }
      ]
    },
    {
      "cell_type": "code",
      "metadata": {
        "id": "Ifd-vLjDJc49",
        "colab_type": "code",
        "outputId": "065c073f-7dab-49b9-ae57-d444fc9516de",
        "colab": {
          "base_uri": "https://localhost:8080/",
          "height": 195
        }
      },
      "source": [
        "currency_included.head()"
      ],
      "execution_count": 0,
      "outputs": [
        {
          "output_type": "execute_result",
          "data": {
            "text/html": [
              "<div>\n",
              "<style scoped>\n",
              "    .dataframe tbody tr th:only-of-type {\n",
              "        vertical-align: middle;\n",
              "    }\n",
              "\n",
              "    .dataframe tbody tr th {\n",
              "        vertical-align: top;\n",
              "    }\n",
              "\n",
              "    .dataframe thead th {\n",
              "        text-align: right;\n",
              "    }\n",
              "</style>\n",
              "<table border=\"1\" class=\"dataframe\">\n",
              "  <thead>\n",
              "    <tr style=\"text-align: right;\">\n",
              "      <th></th>\n",
              "      <th>currency</th>\n",
              "      <th>conversion</th>\n",
              "    </tr>\n",
              "  </thead>\n",
              "  <tbody>\n",
              "    <tr>\n",
              "      <th>0</th>\n",
              "      <td>PHP</td>\n",
              "      <td>True</td>\n",
              "    </tr>\n",
              "    <tr>\n",
              "      <th>1</th>\n",
              "      <td>HNL</td>\n",
              "      <td>False</td>\n",
              "    </tr>\n",
              "    <tr>\n",
              "      <th>2</th>\n",
              "      <td>PKR</td>\n",
              "      <td>False</td>\n",
              "    </tr>\n",
              "    <tr>\n",
              "      <th>3</th>\n",
              "      <td>KGS</td>\n",
              "      <td>False</td>\n",
              "    </tr>\n",
              "    <tr>\n",
              "      <th>4</th>\n",
              "      <td>USD</td>\n",
              "      <td>False</td>\n",
              "    </tr>\n",
              "  </tbody>\n",
              "</table>\n",
              "</div>"
            ],
            "text/plain": [
              "  currency  conversion\n",
              "0      PHP        True\n",
              "1      HNL       False\n",
              "2      PKR       False\n",
              "3      KGS       False\n",
              "4      USD       False"
            ]
          },
          "metadata": {
            "tags": []
          },
          "execution_count": 140
        }
      ]
    },
    {
      "cell_type": "code",
      "metadata": {
        "id": "SytKfzkgL5hH",
        "colab_type": "code",
        "outputId": "050931f5-dc50-4616-ba4f-82472f5a3b19",
        "colab": {
          "base_uri": "https://localhost:8080/",
          "height": 34
        }
      },
      "source": [
        "len(firstBlock), len(secondBlock)"
      ],
      "execution_count": 0,
      "outputs": [
        {
          "output_type": "execute_result",
          "data": {
            "text/plain": [
              "(271075, 758180)"
            ]
          },
          "metadata": {
            "tags": []
          },
          "execution_count": 144
        }
      ]
    },
    {
      "cell_type": "code",
      "metadata": {
        "id": "1rPOI3opP18n",
        "colab_type": "code",
        "colab": {}
      },
      "source": [
        "secondBlock['loan_amount_conversion'] = secondBlock['loan_amount']"
      ],
      "execution_count": 0,
      "outputs": []
    },
    {
      "cell_type": "code",
      "metadata": {
        "id": "1rL2xeY7-9f9",
        "colab_type": "code",
        "colab": {}
      },
      "source": [
        "secondBlock.drop(columns=['conversion'],inplace=True)"
      ],
      "execution_count": 0,
      "outputs": []
    },
    {
      "cell_type": "code",
      "metadata": {
        "id": "4MEfqL6pLH4d",
        "colab_type": "code",
        "outputId": "37f12c2e-b789-4398-eab8-3617021f8a89",
        "colab": {
          "base_uri": "https://localhost:8080/",
          "height": 235
        }
      },
      "source": [
        "currency_firstBlock = firstBlock['currency'].unique()\n",
        "firstBlock.groupby('currency')['country'].count()"
      ],
      "execution_count": 0,
      "outputs": [
        {
          "output_type": "execute_result",
          "data": {
            "text/plain": [
              "currency\n",
              "BRL       462\n",
              "CNY       125\n",
              "EUR      2180\n",
              "IDR      7862\n",
              "ILS       371\n",
              "INR     14707\n",
              "MXN      9375\n",
              "PHP    233833\n",
              "THB        50\n",
              "TRY      1974\n",
              "ZAR       136\n",
              "Name: country, dtype: int64"
            ]
          },
          "metadata": {
            "tags": []
          },
          "execution_count": 147
        }
      ]
    },
    {
      "cell_type": "code",
      "metadata": {
        "id": "QabXEknTa70V",
        "colab_type": "code",
        "colab": {}
      },
      "source": [
        "dateCurrency = firstBlock[['loan_id','disburse_time','currency']]"
      ],
      "execution_count": 0,
      "outputs": []
    },
    {
      "cell_type": "code",
      "metadata": {
        "id": "8KBslSDabt3P",
        "colab_type": "code",
        "colab": {}
      },
      "source": [
        "'''val = range(len(currency_firstBlock))\n",
        "assignment = list(map(lambda x,y: (x,y),currency_firstBlock, val))\n",
        "index_currency = pd.DataFrame(assignment)\n",
        "index_currency.columns=['currency','index_currency']\n",
        "\n",
        "firstBlock_test = pd.merge(firstBlock,index_currency,how='inner',on='currency')'''"
      ],
      "execution_count": 0,
      "outputs": []
    },
    {
      "cell_type": "code",
      "metadata": {
        "colab_type": "code",
        "id": "yR6u7CM3d2uS",
        "colab": {}
      },
      "source": [
        "def fill_list(currency, dates):\n",
        "  date_list=list()\n",
        "  for key in dates:\n",
        "    currency_rate = (currency,currency_object.get_rate(currency,'USD',key))\n",
        "    pair = (key,currency_rate)\n",
        "    date_list.append(pair)\n",
        "  print(\"Trovato rate currency \"+str(currency))\n",
        "  return date_list\n",
        "\n",
        "def controllaPerformance(df,currency_list):\n",
        "  currency_list = dateCurrency['currency'].unique()\n",
        "  dict_currency_list = list()\n",
        "  for i in currency_list:\n",
        "    print(i)\n",
        "    loan_currency = df[df['currency']==i][['disburse_time','currency']]\n",
        "    date_loan_currency = set(loan_currency['disburse_time'].tolist()) #drop duplicates\n",
        "    ris = fill_list(i,date_loan_currency)\n",
        "    #print(ris)\n",
        "    dict_currency_list.append(ris)\n",
        "\n",
        "  return dict_currency_list"
      ],
      "execution_count": 0,
      "outputs": []
    },
    {
      "cell_type": "code",
      "metadata": {
        "id": "pgjVX3NeQrLY",
        "colab_type": "code",
        "outputId": "6b8e4a5a-1adc-4200-87a2-b2065bbf7a86",
        "colab": {
          "base_uri": "https://localhost:8080/",
          "height": 575
        }
      },
      "source": [
        "'''inizio=datetime.now()\n",
        "print(\"Inizio: \"+inizio.strftime(\"%H:%M:%S\"))\n",
        "controllaPerformance(firstBlock,currency_firstBlock)\n",
        "fine=datetime.now()\n",
        "print(\"Fine: \"+fine.strftime(\"%H:%M:%S\"))\n",
        "diff= fine - inizio\n",
        "diff'''"
      ],
      "execution_count": 0,
      "outputs": [
        {
          "output_type": "stream",
          "text": [
            "Inizio: 08:09:56\n",
            "PHP\n",
            "Trovato rate currency PHP\n",
            "ILS\n",
            "Trovato rate currency ILS\n",
            "MXN\n",
            "Trovato rate currency MXN\n",
            "IDR\n"
          ],
          "name": "stdout"
        },
        {
          "output_type": "error",
          "ename": "KeyboardInterrupt",
          "evalue": "ignored",
          "traceback": [
            "\u001b[0;31m---------------------------------------------------------------------------\u001b[0m",
            "\u001b[0;31mTypeError\u001b[0m                                 Traceback (most recent call last)",
            "\u001b[0;32m/usr/local/lib/python3.6/dist-packages/urllib3/connectionpool.py\u001b[0m in \u001b[0;36m_make_request\u001b[0;34m(self, conn, method, url, timeout, chunked, **httplib_request_kw)\u001b[0m\n\u001b[1;32m    376\u001b[0m             \u001b[0;32mtry\u001b[0m\u001b[0;34m:\u001b[0m  \u001b[0;31m# Python 2.7, use buffering of HTTP responses\u001b[0m\u001b[0;34m\u001b[0m\u001b[0;34m\u001b[0m\u001b[0m\n\u001b[0;32m--> 377\u001b[0;31m                 \u001b[0mhttplib_response\u001b[0m \u001b[0;34m=\u001b[0m \u001b[0mconn\u001b[0m\u001b[0;34m.\u001b[0m\u001b[0mgetresponse\u001b[0m\u001b[0;34m(\u001b[0m\u001b[0mbuffering\u001b[0m\u001b[0;34m=\u001b[0m\u001b[0;32mTrue\u001b[0m\u001b[0;34m)\u001b[0m\u001b[0;34m\u001b[0m\u001b[0;34m\u001b[0m\u001b[0m\n\u001b[0m\u001b[1;32m    378\u001b[0m             \u001b[0;32mexcept\u001b[0m \u001b[0mTypeError\u001b[0m\u001b[0;34m:\u001b[0m  \u001b[0;31m# Python 3\u001b[0m\u001b[0;34m\u001b[0m\u001b[0;34m\u001b[0m\u001b[0m\n",
            "\u001b[0;31mTypeError\u001b[0m: getresponse() got an unexpected keyword argument 'buffering'",
            "\nDuring handling of the above exception, another exception occurred:\n",
            "\u001b[0;31mKeyboardInterrupt\u001b[0m                         Traceback (most recent call last)",
            "\u001b[0;32m<ipython-input-162-fa80b0a16910>\u001b[0m in \u001b[0;36m<module>\u001b[0;34m()\u001b[0m\n\u001b[1;32m      1\u001b[0m \u001b[0minizio\u001b[0m\u001b[0;34m=\u001b[0m\u001b[0mdatetime\u001b[0m\u001b[0;34m.\u001b[0m\u001b[0mnow\u001b[0m\u001b[0;34m(\u001b[0m\u001b[0;34m)\u001b[0m\u001b[0;34m\u001b[0m\u001b[0;34m\u001b[0m\u001b[0m\n\u001b[1;32m      2\u001b[0m \u001b[0mprint\u001b[0m\u001b[0;34m(\u001b[0m\u001b[0;34m\"Inizio: \"\u001b[0m\u001b[0;34m+\u001b[0m\u001b[0minizio\u001b[0m\u001b[0;34m.\u001b[0m\u001b[0mstrftime\u001b[0m\u001b[0;34m(\u001b[0m\u001b[0;34m\"%H:%M:%S\"\u001b[0m\u001b[0;34m)\u001b[0m\u001b[0;34m)\u001b[0m\u001b[0;34m\u001b[0m\u001b[0;34m\u001b[0m\u001b[0m\n\u001b[0;32m----> 3\u001b[0;31m \u001b[0mcontrollaPerformance\u001b[0m\u001b[0;34m(\u001b[0m\u001b[0mfirstBlock\u001b[0m\u001b[0;34m,\u001b[0m\u001b[0mcurrency_firstBlock\u001b[0m\u001b[0;34m)\u001b[0m\u001b[0;34m\u001b[0m\u001b[0;34m\u001b[0m\u001b[0m\n\u001b[0m\u001b[1;32m      4\u001b[0m \u001b[0mfine\u001b[0m\u001b[0;34m=\u001b[0m\u001b[0mdatetime\u001b[0m\u001b[0;34m.\u001b[0m\u001b[0mnow\u001b[0m\u001b[0;34m(\u001b[0m\u001b[0;34m)\u001b[0m\u001b[0;34m\u001b[0m\u001b[0;34m\u001b[0m\u001b[0m\n\u001b[1;32m      5\u001b[0m \u001b[0mprint\u001b[0m\u001b[0;34m(\u001b[0m\u001b[0;34m\"Fine: \"\u001b[0m\u001b[0;34m+\u001b[0m\u001b[0mfine\u001b[0m\u001b[0;34m.\u001b[0m\u001b[0mstrftime\u001b[0m\u001b[0;34m(\u001b[0m\u001b[0;34m\"%H:%M:%S\"\u001b[0m\u001b[0;34m)\u001b[0m\u001b[0;34m)\u001b[0m\u001b[0;34m\u001b[0m\u001b[0;34m\u001b[0m\u001b[0m\n",
            "\u001b[0;32m<ipython-input-158-7c286df8b09d>\u001b[0m in \u001b[0;36mcontrollaPerformance\u001b[0;34m(firstBlock_test, currency_list)\u001b[0m\n\u001b[1;32m     15\u001b[0m     \u001b[0mloan_currency\u001b[0m \u001b[0;34m=\u001b[0m \u001b[0mfirstBlock_test\u001b[0m\u001b[0;34m[\u001b[0m\u001b[0mfirstBlock_test\u001b[0m\u001b[0;34m[\u001b[0m\u001b[0;34m'currency'\u001b[0m\u001b[0;34m]\u001b[0m\u001b[0;34m==\u001b[0m\u001b[0mi\u001b[0m\u001b[0;34m]\u001b[0m\u001b[0;34m[\u001b[0m\u001b[0;34m[\u001b[0m\u001b[0;34m'disburse_time'\u001b[0m\u001b[0;34m,\u001b[0m\u001b[0;34m'currency'\u001b[0m\u001b[0;34m]\u001b[0m\u001b[0;34m]\u001b[0m\u001b[0;34m\u001b[0m\u001b[0;34m\u001b[0m\u001b[0m\n\u001b[1;32m     16\u001b[0m     \u001b[0mdate_loan_currency\u001b[0m \u001b[0;34m=\u001b[0m \u001b[0mset\u001b[0m\u001b[0;34m(\u001b[0m\u001b[0mloan_currency\u001b[0m\u001b[0;34m[\u001b[0m\u001b[0;34m'disburse_time'\u001b[0m\u001b[0;34m]\u001b[0m\u001b[0;34m.\u001b[0m\u001b[0mtolist\u001b[0m\u001b[0;34m(\u001b[0m\u001b[0;34m)\u001b[0m\u001b[0;34m)\u001b[0m \u001b[0;31m#drop duplicates\u001b[0m\u001b[0;34m\u001b[0m\u001b[0;34m\u001b[0m\u001b[0m\n\u001b[0;32m---> 17\u001b[0;31m     \u001b[0mris\u001b[0m \u001b[0;34m=\u001b[0m \u001b[0mfill_list\u001b[0m\u001b[0;34m(\u001b[0m\u001b[0mi\u001b[0m\u001b[0;34m,\u001b[0m\u001b[0mdate_loan_currency\u001b[0m\u001b[0;34m)\u001b[0m\u001b[0;34m\u001b[0m\u001b[0;34m\u001b[0m\u001b[0m\n\u001b[0m\u001b[1;32m     18\u001b[0m     \u001b[0;31m#print(ris)\u001b[0m\u001b[0;34m\u001b[0m\u001b[0;34m\u001b[0m\u001b[0;34m\u001b[0m\u001b[0m\n\u001b[1;32m     19\u001b[0m     \u001b[0mdict_currency_list\u001b[0m\u001b[0;34m.\u001b[0m\u001b[0mappend\u001b[0m\u001b[0;34m(\u001b[0m\u001b[0mris\u001b[0m\u001b[0;34m)\u001b[0m\u001b[0;34m\u001b[0m\u001b[0;34m\u001b[0m\u001b[0m\n",
            "\u001b[0;32m<ipython-input-158-7c286df8b09d>\u001b[0m in \u001b[0;36mfill_list\u001b[0;34m(currency, dates)\u001b[0m\n\u001b[1;32m      2\u001b[0m   \u001b[0mdate_list\u001b[0m\u001b[0;34m=\u001b[0m\u001b[0mlist\u001b[0m\u001b[0;34m(\u001b[0m\u001b[0;34m)\u001b[0m\u001b[0;34m\u001b[0m\u001b[0;34m\u001b[0m\u001b[0m\n\u001b[1;32m      3\u001b[0m   \u001b[0;32mfor\u001b[0m \u001b[0mkey\u001b[0m \u001b[0;32min\u001b[0m \u001b[0mdates\u001b[0m\u001b[0;34m:\u001b[0m\u001b[0;34m\u001b[0m\u001b[0;34m\u001b[0m\u001b[0m\n\u001b[0;32m----> 4\u001b[0;31m     \u001b[0mcurrency_rate\u001b[0m \u001b[0;34m=\u001b[0m \u001b[0;34m(\u001b[0m\u001b[0mcurrency\u001b[0m\u001b[0;34m,\u001b[0m\u001b[0mcurrency_object\u001b[0m\u001b[0;34m.\u001b[0m\u001b[0mget_rate\u001b[0m\u001b[0;34m(\u001b[0m\u001b[0mcurrency\u001b[0m\u001b[0;34m,\u001b[0m\u001b[0;34m'USD'\u001b[0m\u001b[0;34m,\u001b[0m\u001b[0mkey\u001b[0m\u001b[0;34m)\u001b[0m\u001b[0;34m)\u001b[0m\u001b[0;34m\u001b[0m\u001b[0;34m\u001b[0m\u001b[0m\n\u001b[0m\u001b[1;32m      5\u001b[0m     \u001b[0mpair\u001b[0m \u001b[0;34m=\u001b[0m \u001b[0;34m(\u001b[0m\u001b[0mkey\u001b[0m\u001b[0;34m,\u001b[0m\u001b[0mcurrency_rate\u001b[0m\u001b[0;34m)\u001b[0m\u001b[0;34m\u001b[0m\u001b[0;34m\u001b[0m\u001b[0m\n\u001b[1;32m      6\u001b[0m     \u001b[0mdate_list\u001b[0m\u001b[0;34m.\u001b[0m\u001b[0mappend\u001b[0m\u001b[0;34m(\u001b[0m\u001b[0mpair\u001b[0m\u001b[0;34m)\u001b[0m\u001b[0;34m\u001b[0m\u001b[0;34m\u001b[0m\u001b[0m\n",
            "\u001b[0;32m/usr/local/lib/python3.6/dist-packages/forex_python/converter.py\u001b[0m in \u001b[0;36mget_rate\u001b[0;34m(self, base_cur, dest_cur, date_obj)\u001b[0m\n\u001b[1;32m     64\u001b[0m         \u001b[0mpayload\u001b[0m \u001b[0;34m=\u001b[0m \u001b[0;34m{\u001b[0m\u001b[0;34m'base'\u001b[0m\u001b[0;34m:\u001b[0m \u001b[0mbase_cur\u001b[0m\u001b[0;34m,\u001b[0m \u001b[0;34m'symbols'\u001b[0m\u001b[0;34m:\u001b[0m \u001b[0mdest_cur\u001b[0m\u001b[0;34m,\u001b[0m \u001b[0;34m'rtype'\u001b[0m\u001b[0;34m:\u001b[0m \u001b[0;34m'fpy'\u001b[0m\u001b[0;34m}\u001b[0m\u001b[0;34m\u001b[0m\u001b[0;34m\u001b[0m\u001b[0m\n\u001b[1;32m     65\u001b[0m         \u001b[0msource_url\u001b[0m \u001b[0;34m=\u001b[0m \u001b[0mself\u001b[0m\u001b[0;34m.\u001b[0m\u001b[0m_source_url\u001b[0m\u001b[0;34m(\u001b[0m\u001b[0;34m)\u001b[0m \u001b[0;34m+\u001b[0m \u001b[0mdate_str\u001b[0m\u001b[0;34m\u001b[0m\u001b[0;34m\u001b[0m\u001b[0m\n\u001b[0;32m---> 66\u001b[0;31m         \u001b[0mresponse\u001b[0m \u001b[0;34m=\u001b[0m \u001b[0mrequests\u001b[0m\u001b[0;34m.\u001b[0m\u001b[0mget\u001b[0m\u001b[0;34m(\u001b[0m\u001b[0msource_url\u001b[0m\u001b[0;34m,\u001b[0m \u001b[0mparams\u001b[0m\u001b[0;34m=\u001b[0m\u001b[0mpayload\u001b[0m\u001b[0;34m)\u001b[0m\u001b[0;34m\u001b[0m\u001b[0;34m\u001b[0m\u001b[0m\n\u001b[0m\u001b[1;32m     67\u001b[0m         \u001b[0;32mif\u001b[0m \u001b[0mresponse\u001b[0m\u001b[0;34m.\u001b[0m\u001b[0mstatus_code\u001b[0m \u001b[0;34m==\u001b[0m \u001b[0;36m200\u001b[0m\u001b[0;34m:\u001b[0m\u001b[0;34m\u001b[0m\u001b[0;34m\u001b[0m\u001b[0m\n\u001b[1;32m     68\u001b[0m             \u001b[0mrate\u001b[0m \u001b[0;34m=\u001b[0m \u001b[0mself\u001b[0m\u001b[0;34m.\u001b[0m\u001b[0m_get_decoded_rate\u001b[0m\u001b[0;34m(\u001b[0m\u001b[0mresponse\u001b[0m\u001b[0;34m,\u001b[0m \u001b[0mdest_cur\u001b[0m\u001b[0;34m)\u001b[0m\u001b[0;34m\u001b[0m\u001b[0;34m\u001b[0m\u001b[0m\n",
            "\u001b[0;32m/usr/local/lib/python3.6/dist-packages/requests/api.py\u001b[0m in \u001b[0;36mget\u001b[0;34m(url, params, **kwargs)\u001b[0m\n\u001b[1;32m     73\u001b[0m \u001b[0;34m\u001b[0m\u001b[0m\n\u001b[1;32m     74\u001b[0m     \u001b[0mkwargs\u001b[0m\u001b[0;34m.\u001b[0m\u001b[0msetdefault\u001b[0m\u001b[0;34m(\u001b[0m\u001b[0;34m'allow_redirects'\u001b[0m\u001b[0;34m,\u001b[0m \u001b[0;32mTrue\u001b[0m\u001b[0;34m)\u001b[0m\u001b[0;34m\u001b[0m\u001b[0;34m\u001b[0m\u001b[0m\n\u001b[0;32m---> 75\u001b[0;31m     \u001b[0;32mreturn\u001b[0m \u001b[0mrequest\u001b[0m\u001b[0;34m(\u001b[0m\u001b[0;34m'get'\u001b[0m\u001b[0;34m,\u001b[0m \u001b[0murl\u001b[0m\u001b[0;34m,\u001b[0m \u001b[0mparams\u001b[0m\u001b[0;34m=\u001b[0m\u001b[0mparams\u001b[0m\u001b[0;34m,\u001b[0m \u001b[0;34m**\u001b[0m\u001b[0mkwargs\u001b[0m\u001b[0;34m)\u001b[0m\u001b[0;34m\u001b[0m\u001b[0;34m\u001b[0m\u001b[0m\n\u001b[0m\u001b[1;32m     76\u001b[0m \u001b[0;34m\u001b[0m\u001b[0m\n\u001b[1;32m     77\u001b[0m \u001b[0;34m\u001b[0m\u001b[0m\n",
            "\u001b[0;32m/usr/local/lib/python3.6/dist-packages/requests/api.py\u001b[0m in \u001b[0;36mrequest\u001b[0;34m(method, url, **kwargs)\u001b[0m\n\u001b[1;32m     58\u001b[0m     \u001b[0;31m# cases, and look like a memory leak in others.\u001b[0m\u001b[0;34m\u001b[0m\u001b[0;34m\u001b[0m\u001b[0;34m\u001b[0m\u001b[0m\n\u001b[1;32m     59\u001b[0m     \u001b[0;32mwith\u001b[0m \u001b[0msessions\u001b[0m\u001b[0;34m.\u001b[0m\u001b[0mSession\u001b[0m\u001b[0;34m(\u001b[0m\u001b[0;34m)\u001b[0m \u001b[0;32mas\u001b[0m \u001b[0msession\u001b[0m\u001b[0;34m:\u001b[0m\u001b[0;34m\u001b[0m\u001b[0;34m\u001b[0m\u001b[0m\n\u001b[0;32m---> 60\u001b[0;31m         \u001b[0;32mreturn\u001b[0m \u001b[0msession\u001b[0m\u001b[0;34m.\u001b[0m\u001b[0mrequest\u001b[0m\u001b[0;34m(\u001b[0m\u001b[0mmethod\u001b[0m\u001b[0;34m=\u001b[0m\u001b[0mmethod\u001b[0m\u001b[0;34m,\u001b[0m \u001b[0murl\u001b[0m\u001b[0;34m=\u001b[0m\u001b[0murl\u001b[0m\u001b[0;34m,\u001b[0m \u001b[0;34m**\u001b[0m\u001b[0mkwargs\u001b[0m\u001b[0;34m)\u001b[0m\u001b[0;34m\u001b[0m\u001b[0;34m\u001b[0m\u001b[0m\n\u001b[0m\u001b[1;32m     61\u001b[0m \u001b[0;34m\u001b[0m\u001b[0m\n\u001b[1;32m     62\u001b[0m \u001b[0;34m\u001b[0m\u001b[0m\n",
            "\u001b[0;32m/usr/local/lib/python3.6/dist-packages/requests/sessions.py\u001b[0m in \u001b[0;36mrequest\u001b[0;34m(self, method, url, params, data, headers, cookies, files, auth, timeout, allow_redirects, proxies, hooks, stream, verify, cert, json)\u001b[0m\n\u001b[1;32m    531\u001b[0m         }\n\u001b[1;32m    532\u001b[0m         \u001b[0msend_kwargs\u001b[0m\u001b[0;34m.\u001b[0m\u001b[0mupdate\u001b[0m\u001b[0;34m(\u001b[0m\u001b[0msettings\u001b[0m\u001b[0;34m)\u001b[0m\u001b[0;34m\u001b[0m\u001b[0;34m\u001b[0m\u001b[0m\n\u001b[0;32m--> 533\u001b[0;31m         \u001b[0mresp\u001b[0m \u001b[0;34m=\u001b[0m \u001b[0mself\u001b[0m\u001b[0;34m.\u001b[0m\u001b[0msend\u001b[0m\u001b[0;34m(\u001b[0m\u001b[0mprep\u001b[0m\u001b[0;34m,\u001b[0m \u001b[0;34m**\u001b[0m\u001b[0msend_kwargs\u001b[0m\u001b[0;34m)\u001b[0m\u001b[0;34m\u001b[0m\u001b[0;34m\u001b[0m\u001b[0m\n\u001b[0m\u001b[1;32m    534\u001b[0m \u001b[0;34m\u001b[0m\u001b[0m\n\u001b[1;32m    535\u001b[0m         \u001b[0;32mreturn\u001b[0m \u001b[0mresp\u001b[0m\u001b[0;34m\u001b[0m\u001b[0;34m\u001b[0m\u001b[0m\n",
            "\u001b[0;32m/usr/local/lib/python3.6/dist-packages/requests/sessions.py\u001b[0m in \u001b[0;36msend\u001b[0;34m(self, request, **kwargs)\u001b[0m\n\u001b[1;32m    644\u001b[0m \u001b[0;34m\u001b[0m\u001b[0m\n\u001b[1;32m    645\u001b[0m         \u001b[0;31m# Send the request\u001b[0m\u001b[0;34m\u001b[0m\u001b[0;34m\u001b[0m\u001b[0;34m\u001b[0m\u001b[0m\n\u001b[0;32m--> 646\u001b[0;31m         \u001b[0mr\u001b[0m \u001b[0;34m=\u001b[0m \u001b[0madapter\u001b[0m\u001b[0;34m.\u001b[0m\u001b[0msend\u001b[0m\u001b[0;34m(\u001b[0m\u001b[0mrequest\u001b[0m\u001b[0;34m,\u001b[0m \u001b[0;34m**\u001b[0m\u001b[0mkwargs\u001b[0m\u001b[0;34m)\u001b[0m\u001b[0;34m\u001b[0m\u001b[0;34m\u001b[0m\u001b[0m\n\u001b[0m\u001b[1;32m    647\u001b[0m \u001b[0;34m\u001b[0m\u001b[0m\n\u001b[1;32m    648\u001b[0m         \u001b[0;31m# Total elapsed time of the request (approximately)\u001b[0m\u001b[0;34m\u001b[0m\u001b[0;34m\u001b[0m\u001b[0;34m\u001b[0m\u001b[0m\n",
            "\u001b[0;32m/usr/local/lib/python3.6/dist-packages/requests/adapters.py\u001b[0m in \u001b[0;36msend\u001b[0;34m(self, request, stream, timeout, verify, cert, proxies)\u001b[0m\n\u001b[1;32m    447\u001b[0m                     \u001b[0mdecode_content\u001b[0m\u001b[0;34m=\u001b[0m\u001b[0;32mFalse\u001b[0m\u001b[0;34m,\u001b[0m\u001b[0;34m\u001b[0m\u001b[0;34m\u001b[0m\u001b[0m\n\u001b[1;32m    448\u001b[0m                     \u001b[0mretries\u001b[0m\u001b[0;34m=\u001b[0m\u001b[0mself\u001b[0m\u001b[0;34m.\u001b[0m\u001b[0mmax_retries\u001b[0m\u001b[0;34m,\u001b[0m\u001b[0;34m\u001b[0m\u001b[0;34m\u001b[0m\u001b[0m\n\u001b[0;32m--> 449\u001b[0;31m                     \u001b[0mtimeout\u001b[0m\u001b[0;34m=\u001b[0m\u001b[0mtimeout\u001b[0m\u001b[0;34m\u001b[0m\u001b[0;34m\u001b[0m\u001b[0m\n\u001b[0m\u001b[1;32m    450\u001b[0m                 )\n\u001b[1;32m    451\u001b[0m \u001b[0;34m\u001b[0m\u001b[0m\n",
            "\u001b[0;32m/usr/local/lib/python3.6/dist-packages/urllib3/connectionpool.py\u001b[0m in \u001b[0;36murlopen\u001b[0;34m(self, method, url, body, headers, retries, redirect, assert_same_host, timeout, pool_timeout, release_conn, chunked, body_pos, **response_kw)\u001b[0m\n\u001b[1;32m    598\u001b[0m                                                   \u001b[0mtimeout\u001b[0m\u001b[0;34m=\u001b[0m\u001b[0mtimeout_obj\u001b[0m\u001b[0;34m,\u001b[0m\u001b[0;34m\u001b[0m\u001b[0;34m\u001b[0m\u001b[0m\n\u001b[1;32m    599\u001b[0m                                                   \u001b[0mbody\u001b[0m\u001b[0;34m=\u001b[0m\u001b[0mbody\u001b[0m\u001b[0;34m,\u001b[0m \u001b[0mheaders\u001b[0m\u001b[0;34m=\u001b[0m\u001b[0mheaders\u001b[0m\u001b[0;34m,\u001b[0m\u001b[0;34m\u001b[0m\u001b[0;34m\u001b[0m\u001b[0m\n\u001b[0;32m--> 600\u001b[0;31m                                                   chunked=chunked)\n\u001b[0m\u001b[1;32m    601\u001b[0m \u001b[0;34m\u001b[0m\u001b[0m\n\u001b[1;32m    602\u001b[0m             \u001b[0;31m# If we're going to release the connection in ``finally:``, then\u001b[0m\u001b[0;34m\u001b[0m\u001b[0;34m\u001b[0m\u001b[0;34m\u001b[0m\u001b[0m\n",
            "\u001b[0;32m/usr/local/lib/python3.6/dist-packages/urllib3/connectionpool.py\u001b[0m in \u001b[0;36m_make_request\u001b[0;34m(self, conn, method, url, timeout, chunked, **httplib_request_kw)\u001b[0m\n\u001b[1;32m    378\u001b[0m             \u001b[0;32mexcept\u001b[0m \u001b[0mTypeError\u001b[0m\u001b[0;34m:\u001b[0m  \u001b[0;31m# Python 3\u001b[0m\u001b[0;34m\u001b[0m\u001b[0;34m\u001b[0m\u001b[0m\n\u001b[1;32m    379\u001b[0m                 \u001b[0;32mtry\u001b[0m\u001b[0;34m:\u001b[0m\u001b[0;34m\u001b[0m\u001b[0;34m\u001b[0m\u001b[0m\n\u001b[0;32m--> 380\u001b[0;31m                     \u001b[0mhttplib_response\u001b[0m \u001b[0;34m=\u001b[0m \u001b[0mconn\u001b[0m\u001b[0;34m.\u001b[0m\u001b[0mgetresponse\u001b[0m\u001b[0;34m(\u001b[0m\u001b[0;34m)\u001b[0m\u001b[0;34m\u001b[0m\u001b[0;34m\u001b[0m\u001b[0m\n\u001b[0m\u001b[1;32m    381\u001b[0m                 \u001b[0;32mexcept\u001b[0m \u001b[0mException\u001b[0m \u001b[0;32mas\u001b[0m \u001b[0me\u001b[0m\u001b[0;34m:\u001b[0m\u001b[0;34m\u001b[0m\u001b[0;34m\u001b[0m\u001b[0m\n\u001b[1;32m    382\u001b[0m                     \u001b[0;31m# Remove the TypeError from the exception chain in Python 3;\u001b[0m\u001b[0;34m\u001b[0m\u001b[0;34m\u001b[0m\u001b[0;34m\u001b[0m\u001b[0m\n",
            "\u001b[0;32m/usr/lib/python3.6/http/client.py\u001b[0m in \u001b[0;36mgetresponse\u001b[0;34m(self)\u001b[0m\n\u001b[1;32m   1344\u001b[0m         \u001b[0;32mtry\u001b[0m\u001b[0;34m:\u001b[0m\u001b[0;34m\u001b[0m\u001b[0;34m\u001b[0m\u001b[0m\n\u001b[1;32m   1345\u001b[0m             \u001b[0;32mtry\u001b[0m\u001b[0;34m:\u001b[0m\u001b[0;34m\u001b[0m\u001b[0;34m\u001b[0m\u001b[0m\n\u001b[0;32m-> 1346\u001b[0;31m                 \u001b[0mresponse\u001b[0m\u001b[0;34m.\u001b[0m\u001b[0mbegin\u001b[0m\u001b[0;34m(\u001b[0m\u001b[0;34m)\u001b[0m\u001b[0;34m\u001b[0m\u001b[0;34m\u001b[0m\u001b[0m\n\u001b[0m\u001b[1;32m   1347\u001b[0m             \u001b[0;32mexcept\u001b[0m \u001b[0mConnectionError\u001b[0m\u001b[0;34m:\u001b[0m\u001b[0;34m\u001b[0m\u001b[0;34m\u001b[0m\u001b[0m\n\u001b[1;32m   1348\u001b[0m                 \u001b[0mself\u001b[0m\u001b[0;34m.\u001b[0m\u001b[0mclose\u001b[0m\u001b[0;34m(\u001b[0m\u001b[0;34m)\u001b[0m\u001b[0;34m\u001b[0m\u001b[0;34m\u001b[0m\u001b[0m\n",
            "\u001b[0;32m/usr/lib/python3.6/http/client.py\u001b[0m in \u001b[0;36mbegin\u001b[0;34m(self)\u001b[0m\n\u001b[1;32m    305\u001b[0m         \u001b[0;31m# read until we get a non-100 response\u001b[0m\u001b[0;34m\u001b[0m\u001b[0;34m\u001b[0m\u001b[0;34m\u001b[0m\u001b[0m\n\u001b[1;32m    306\u001b[0m         \u001b[0;32mwhile\u001b[0m \u001b[0;32mTrue\u001b[0m\u001b[0;34m:\u001b[0m\u001b[0;34m\u001b[0m\u001b[0;34m\u001b[0m\u001b[0m\n\u001b[0;32m--> 307\u001b[0;31m             \u001b[0mversion\u001b[0m\u001b[0;34m,\u001b[0m \u001b[0mstatus\u001b[0m\u001b[0;34m,\u001b[0m \u001b[0mreason\u001b[0m \u001b[0;34m=\u001b[0m \u001b[0mself\u001b[0m\u001b[0;34m.\u001b[0m\u001b[0m_read_status\u001b[0m\u001b[0;34m(\u001b[0m\u001b[0;34m)\u001b[0m\u001b[0;34m\u001b[0m\u001b[0;34m\u001b[0m\u001b[0m\n\u001b[0m\u001b[1;32m    308\u001b[0m             \u001b[0;32mif\u001b[0m \u001b[0mstatus\u001b[0m \u001b[0;34m!=\u001b[0m \u001b[0mCONTINUE\u001b[0m\u001b[0;34m:\u001b[0m\u001b[0;34m\u001b[0m\u001b[0;34m\u001b[0m\u001b[0m\n\u001b[1;32m    309\u001b[0m                 \u001b[0;32mbreak\u001b[0m\u001b[0;34m\u001b[0m\u001b[0;34m\u001b[0m\u001b[0m\n",
            "\u001b[0;32m/usr/lib/python3.6/http/client.py\u001b[0m in \u001b[0;36m_read_status\u001b[0;34m(self)\u001b[0m\n\u001b[1;32m    266\u001b[0m \u001b[0;34m\u001b[0m\u001b[0m\n\u001b[1;32m    267\u001b[0m     \u001b[0;32mdef\u001b[0m \u001b[0m_read_status\u001b[0m\u001b[0;34m(\u001b[0m\u001b[0mself\u001b[0m\u001b[0;34m)\u001b[0m\u001b[0;34m:\u001b[0m\u001b[0;34m\u001b[0m\u001b[0;34m\u001b[0m\u001b[0m\n\u001b[0;32m--> 268\u001b[0;31m         \u001b[0mline\u001b[0m \u001b[0;34m=\u001b[0m \u001b[0mstr\u001b[0m\u001b[0;34m(\u001b[0m\u001b[0mself\u001b[0m\u001b[0;34m.\u001b[0m\u001b[0mfp\u001b[0m\u001b[0;34m.\u001b[0m\u001b[0mreadline\u001b[0m\u001b[0;34m(\u001b[0m\u001b[0m_MAXLINE\u001b[0m \u001b[0;34m+\u001b[0m \u001b[0;36m1\u001b[0m\u001b[0;34m)\u001b[0m\u001b[0;34m,\u001b[0m \u001b[0;34m\"iso-8859-1\"\u001b[0m\u001b[0;34m)\u001b[0m\u001b[0;34m\u001b[0m\u001b[0;34m\u001b[0m\u001b[0m\n\u001b[0m\u001b[1;32m    269\u001b[0m         \u001b[0;32mif\u001b[0m \u001b[0mlen\u001b[0m\u001b[0;34m(\u001b[0m\u001b[0mline\u001b[0m\u001b[0;34m)\u001b[0m \u001b[0;34m>\u001b[0m \u001b[0m_MAXLINE\u001b[0m\u001b[0;34m:\u001b[0m\u001b[0;34m\u001b[0m\u001b[0;34m\u001b[0m\u001b[0m\n\u001b[1;32m    270\u001b[0m             \u001b[0;32mraise\u001b[0m \u001b[0mLineTooLong\u001b[0m\u001b[0;34m(\u001b[0m\u001b[0;34m\"status line\"\u001b[0m\u001b[0;34m)\u001b[0m\u001b[0;34m\u001b[0m\u001b[0;34m\u001b[0m\u001b[0m\n",
            "\u001b[0;32m/usr/lib/python3.6/socket.py\u001b[0m in \u001b[0;36mreadinto\u001b[0;34m(self, b)\u001b[0m\n\u001b[1;32m    584\u001b[0m         \u001b[0;32mwhile\u001b[0m \u001b[0;32mTrue\u001b[0m\u001b[0;34m:\u001b[0m\u001b[0;34m\u001b[0m\u001b[0;34m\u001b[0m\u001b[0m\n\u001b[1;32m    585\u001b[0m             \u001b[0;32mtry\u001b[0m\u001b[0;34m:\u001b[0m\u001b[0;34m\u001b[0m\u001b[0;34m\u001b[0m\u001b[0m\n\u001b[0;32m--> 586\u001b[0;31m                 \u001b[0;32mreturn\u001b[0m \u001b[0mself\u001b[0m\u001b[0;34m.\u001b[0m\u001b[0m_sock\u001b[0m\u001b[0;34m.\u001b[0m\u001b[0mrecv_into\u001b[0m\u001b[0;34m(\u001b[0m\u001b[0mb\u001b[0m\u001b[0;34m)\u001b[0m\u001b[0;34m\u001b[0m\u001b[0;34m\u001b[0m\u001b[0m\n\u001b[0m\u001b[1;32m    587\u001b[0m             \u001b[0;32mexcept\u001b[0m \u001b[0mtimeout\u001b[0m\u001b[0;34m:\u001b[0m\u001b[0;34m\u001b[0m\u001b[0;34m\u001b[0m\u001b[0m\n\u001b[1;32m    588\u001b[0m                 \u001b[0mself\u001b[0m\u001b[0;34m.\u001b[0m\u001b[0m_timeout_occurred\u001b[0m \u001b[0;34m=\u001b[0m \u001b[0;32mTrue\u001b[0m\u001b[0;34m\u001b[0m\u001b[0;34m\u001b[0m\u001b[0m\n",
            "\u001b[0;32m/usr/lib/python3.6/ssl.py\u001b[0m in \u001b[0;36mrecv_into\u001b[0;34m(self, buffer, nbytes, flags)\u001b[0m\n\u001b[1;32m   1010\u001b[0m                   \u001b[0;34m\"non-zero flags not allowed in calls to recv_into() on %s\"\u001b[0m \u001b[0;34m%\u001b[0m\u001b[0;34m\u001b[0m\u001b[0;34m\u001b[0m\u001b[0m\n\u001b[1;32m   1011\u001b[0m                   self.__class__)\n\u001b[0;32m-> 1012\u001b[0;31m             \u001b[0;32mreturn\u001b[0m \u001b[0mself\u001b[0m\u001b[0;34m.\u001b[0m\u001b[0mread\u001b[0m\u001b[0;34m(\u001b[0m\u001b[0mnbytes\u001b[0m\u001b[0;34m,\u001b[0m \u001b[0mbuffer\u001b[0m\u001b[0;34m)\u001b[0m\u001b[0;34m\u001b[0m\u001b[0;34m\u001b[0m\u001b[0m\n\u001b[0m\u001b[1;32m   1013\u001b[0m         \u001b[0;32melse\u001b[0m\u001b[0;34m:\u001b[0m\u001b[0;34m\u001b[0m\u001b[0;34m\u001b[0m\u001b[0m\n\u001b[1;32m   1014\u001b[0m             \u001b[0;32mreturn\u001b[0m \u001b[0msocket\u001b[0m\u001b[0;34m.\u001b[0m\u001b[0mrecv_into\u001b[0m\u001b[0;34m(\u001b[0m\u001b[0mself\u001b[0m\u001b[0;34m,\u001b[0m \u001b[0mbuffer\u001b[0m\u001b[0;34m,\u001b[0m \u001b[0mnbytes\u001b[0m\u001b[0;34m,\u001b[0m \u001b[0mflags\u001b[0m\u001b[0;34m)\u001b[0m\u001b[0;34m\u001b[0m\u001b[0;34m\u001b[0m\u001b[0m\n",
            "\u001b[0;32m/usr/lib/python3.6/ssl.py\u001b[0m in \u001b[0;36mread\u001b[0;34m(self, len, buffer)\u001b[0m\n\u001b[1;32m    872\u001b[0m             \u001b[0;32mraise\u001b[0m \u001b[0mValueError\u001b[0m\u001b[0;34m(\u001b[0m\u001b[0;34m\"Read on closed or unwrapped SSL socket.\"\u001b[0m\u001b[0;34m)\u001b[0m\u001b[0;34m\u001b[0m\u001b[0;34m\u001b[0m\u001b[0m\n\u001b[1;32m    873\u001b[0m         \u001b[0;32mtry\u001b[0m\u001b[0;34m:\u001b[0m\u001b[0;34m\u001b[0m\u001b[0;34m\u001b[0m\u001b[0m\n\u001b[0;32m--> 874\u001b[0;31m             \u001b[0;32mreturn\u001b[0m \u001b[0mself\u001b[0m\u001b[0;34m.\u001b[0m\u001b[0m_sslobj\u001b[0m\u001b[0;34m.\u001b[0m\u001b[0mread\u001b[0m\u001b[0;34m(\u001b[0m\u001b[0mlen\u001b[0m\u001b[0;34m,\u001b[0m \u001b[0mbuffer\u001b[0m\u001b[0;34m)\u001b[0m\u001b[0;34m\u001b[0m\u001b[0;34m\u001b[0m\u001b[0m\n\u001b[0m\u001b[1;32m    875\u001b[0m         \u001b[0;32mexcept\u001b[0m \u001b[0mSSLError\u001b[0m \u001b[0;32mas\u001b[0m \u001b[0mx\u001b[0m\u001b[0;34m:\u001b[0m\u001b[0;34m\u001b[0m\u001b[0;34m\u001b[0m\u001b[0m\n\u001b[1;32m    876\u001b[0m             \u001b[0;32mif\u001b[0m \u001b[0mx\u001b[0m\u001b[0;34m.\u001b[0m\u001b[0margs\u001b[0m\u001b[0;34m[\u001b[0m\u001b[0;36m0\u001b[0m\u001b[0;34m]\u001b[0m \u001b[0;34m==\u001b[0m \u001b[0mSSL_ERROR_EOF\u001b[0m \u001b[0;32mand\u001b[0m \u001b[0mself\u001b[0m\u001b[0;34m.\u001b[0m\u001b[0msuppress_ragged_eofs\u001b[0m\u001b[0;34m:\u001b[0m\u001b[0;34m\u001b[0m\u001b[0;34m\u001b[0m\u001b[0m\n",
            "\u001b[0;32m/usr/lib/python3.6/ssl.py\u001b[0m in \u001b[0;36mread\u001b[0;34m(self, len, buffer)\u001b[0m\n\u001b[1;32m    629\u001b[0m         \"\"\"\n\u001b[1;32m    630\u001b[0m         \u001b[0;32mif\u001b[0m \u001b[0mbuffer\u001b[0m \u001b[0;32mis\u001b[0m \u001b[0;32mnot\u001b[0m \u001b[0;32mNone\u001b[0m\u001b[0;34m:\u001b[0m\u001b[0;34m\u001b[0m\u001b[0;34m\u001b[0m\u001b[0m\n\u001b[0;32m--> 631\u001b[0;31m             \u001b[0mv\u001b[0m \u001b[0;34m=\u001b[0m \u001b[0mself\u001b[0m\u001b[0;34m.\u001b[0m\u001b[0m_sslobj\u001b[0m\u001b[0;34m.\u001b[0m\u001b[0mread\u001b[0m\u001b[0;34m(\u001b[0m\u001b[0mlen\u001b[0m\u001b[0;34m,\u001b[0m \u001b[0mbuffer\u001b[0m\u001b[0;34m)\u001b[0m\u001b[0;34m\u001b[0m\u001b[0;34m\u001b[0m\u001b[0m\n\u001b[0m\u001b[1;32m    632\u001b[0m         \u001b[0;32melse\u001b[0m\u001b[0;34m:\u001b[0m\u001b[0;34m\u001b[0m\u001b[0;34m\u001b[0m\u001b[0m\n\u001b[1;32m    633\u001b[0m             \u001b[0mv\u001b[0m \u001b[0;34m=\u001b[0m \u001b[0mself\u001b[0m\u001b[0;34m.\u001b[0m\u001b[0m_sslobj\u001b[0m\u001b[0;34m.\u001b[0m\u001b[0mread\u001b[0m\u001b[0;34m(\u001b[0m\u001b[0mlen\u001b[0m\u001b[0;34m)\u001b[0m\u001b[0;34m\u001b[0m\u001b[0;34m\u001b[0m\u001b[0m\n",
            "\u001b[0;31mKeyboardInterrupt\u001b[0m: "
          ]
        }
      ]
    },
    {
      "cell_type": "code",
      "metadata": {
        "id": "qjTJDidLq4iD",
        "colab_type": "code",
        "outputId": "09b498e5-c742-4e21-cdef-74fd593f1b13",
        "colab": {
          "base_uri": "https://localhost:8080/",
          "height": 437
        }
      },
      "source": [
        "inizio=datetime.now()\n",
        "print(\"Inizio: \"+inizio.strftime(\"%H:%M:%S\"))\n",
        "dict_currency_list = controllaPerformance_map(firstBlock, currency_firstBlock)\n",
        "fine=datetime.now()\n",
        "print(\"Fine: \"+fine.strftime(\"%H:%M:%S\"))\n",
        "diff= fine - inizio\n",
        "diff"
      ],
      "execution_count": 0,
      "outputs": [
        {
          "output_type": "stream",
          "text": [
            "Inizio: 13:13:03\n",
            "PHP\n",
            "ILS\n",
            "MXN\n",
            "IDR\n",
            "INR\n",
            "EUR\n",
            "ZAR\n",
            "TRY\n",
            "CNY\n",
            "BRL\n",
            "THB\n",
            "Trovato rate currency PHP\n",
            "Trovato rate currency ILS\n",
            "Trovato rate currency MXN\n",
            "Trovato rate currency IDR\n",
            "Trovato rate currency INR\n",
            "Trovato rate currency EUR\n",
            "Trovato rate currency ZAR\n",
            "Trovato rate currency TRY\n",
            "Trovato rate currency CNY\n",
            "Trovato rate currency BRL\n",
            "Trovato rate currency THB\n",
            "Fine: 13:29:27\n"
          ],
          "name": "stdout"
        },
        {
          "output_type": "execute_result",
          "data": {
            "text/plain": [
              "datetime.timedelta(0, 983, 564117)"
            ]
          },
          "metadata": {
            "tags": []
          },
          "execution_count": 153
        }
      ]
    },
    {
      "cell_type": "code",
      "metadata": {
        "id": "Vn8E0o0Yw4RT",
        "colab_type": "code",
        "outputId": "cc90d787-b380-4c11-f5ca-abbcf4e5b0b4",
        "colab": {
          "base_uri": "https://localhost:8080/",
          "height": 195
        }
      },
      "source": [
        "date_currency.head()"
      ],
      "execution_count": 0,
      "outputs": [
        {
          "output_type": "execute_result",
          "data": {
            "text/html": [
              "<div>\n",
              "<style scoped>\n",
              "    .dataframe tbody tr th:only-of-type {\n",
              "        vertical-align: middle;\n",
              "    }\n",
              "\n",
              "    .dataframe tbody tr th {\n",
              "        vertical-align: top;\n",
              "    }\n",
              "\n",
              "    .dataframe thead th {\n",
              "        text-align: right;\n",
              "    }\n",
              "</style>\n",
              "<table border=\"1\" class=\"dataframe\">\n",
              "  <thead>\n",
              "    <tr style=\"text-align: right;\">\n",
              "      <th></th>\n",
              "      <th>date</th>\n",
              "      <th>currency</th>\n",
              "    </tr>\n",
              "  </thead>\n",
              "  <tbody>\n",
              "    <tr>\n",
              "      <th>0</th>\n",
              "      <td>2016-02-16 08:00:00</td>\n",
              "      <td>[(PHP, 0.0210480679), (MXN, 0.0530559687), (ID...</td>\n",
              "    </tr>\n",
              "    <tr>\n",
              "      <th>1</th>\n",
              "      <td>2015-08-11 07:00:00</td>\n",
              "      <td>[(PHP, 0.0217083947), (MXN, 0.0614702824), (ID...</td>\n",
              "    </tr>\n",
              "    <tr>\n",
              "      <th>2</th>\n",
              "      <td>2017-04-16 07:00:00</td>\n",
              "      <td>[(PHP, 0.0202152746)]</td>\n",
              "    </tr>\n",
              "    <tr>\n",
              "      <th>3</th>\n",
              "      <td>2015-04-20 07:00:00</td>\n",
              "      <td>[(PHP, 0.0225980485), (MXN, 0.0651106024), (ID...</td>\n",
              "    </tr>\n",
              "    <tr>\n",
              "      <th>4</th>\n",
              "      <td>2013-06-13 07:00:00</td>\n",
              "      <td>[(PHP, 0.0232682091), (MXN, 0.0777899817), (ID...</td>\n",
              "    </tr>\n",
              "  </tbody>\n",
              "</table>\n",
              "</div>"
            ],
            "text/plain": [
              "                 date                                           currency\n",
              "0 2016-02-16 08:00:00  [(PHP, 0.0210480679), (MXN, 0.0530559687), (ID...\n",
              "1 2015-08-11 07:00:00  [(PHP, 0.0217083947), (MXN, 0.0614702824), (ID...\n",
              "2 2017-04-16 07:00:00                              [(PHP, 0.0202152746)]\n",
              "3 2015-04-20 07:00:00  [(PHP, 0.0225980485), (MXN, 0.0651106024), (ID...\n",
              "4 2013-06-13 07:00:00  [(PHP, 0.0232682091), (MXN, 0.0777899817), (ID..."
            ]
          },
          "metadata": {
            "tags": []
          },
          "execution_count": 156
        }
      ]
    },
    {
      "cell_type": "code",
      "metadata": {
        "id": "y2THQdLgSL_K",
        "colab_type": "code",
        "colab": {}
      },
      "source": [
        "date_currency = date_currency.explode('currency').reset_index()"
      ],
      "execution_count": 0,
      "outputs": []
    },
    {
      "cell_type": "code",
      "metadata": {
        "id": "_-SbO3-jSmWy",
        "colab_type": "code",
        "outputId": "72b896ea-aaee-4ee1-d6ee-11207d655759",
        "colab": {
          "base_uri": "https://localhost:8080/",
          "height": 195
        }
      },
      "source": [
        "date_currency.head()"
      ],
      "execution_count": 0,
      "outputs": [
        {
          "output_type": "execute_result",
          "data": {
            "text/html": [
              "<div>\n",
              "<style scoped>\n",
              "    .dataframe tbody tr th:only-of-type {\n",
              "        vertical-align: middle;\n",
              "    }\n",
              "\n",
              "    .dataframe tbody tr th {\n",
              "        vertical-align: top;\n",
              "    }\n",
              "\n",
              "    .dataframe thead th {\n",
              "        text-align: right;\n",
              "    }\n",
              "</style>\n",
              "<table border=\"1\" class=\"dataframe\">\n",
              "  <thead>\n",
              "    <tr style=\"text-align: right;\">\n",
              "      <th></th>\n",
              "      <th>index</th>\n",
              "      <th>date</th>\n",
              "      <th>currency</th>\n",
              "    </tr>\n",
              "  </thead>\n",
              "  <tbody>\n",
              "    <tr>\n",
              "      <th>0</th>\n",
              "      <td>0</td>\n",
              "      <td>2016-02-16 08:00:00</td>\n",
              "      <td>(PHP, 0.0210480679)</td>\n",
              "    </tr>\n",
              "    <tr>\n",
              "      <th>1</th>\n",
              "      <td>0</td>\n",
              "      <td>2016-02-16 08:00:00</td>\n",
              "      <td>(MXN, 0.0530559687)</td>\n",
              "    </tr>\n",
              "    <tr>\n",
              "      <th>2</th>\n",
              "      <td>0</td>\n",
              "      <td>2016-02-16 08:00:00</td>\n",
              "      <td>(IDR, 7.44506e-05)</td>\n",
              "    </tr>\n",
              "    <tr>\n",
              "      <th>3</th>\n",
              "      <td>0</td>\n",
              "      <td>2016-02-16 08:00:00</td>\n",
              "      <td>(INR, 0.0146154702)</td>\n",
              "    </tr>\n",
              "    <tr>\n",
              "      <th>4</th>\n",
              "      <td>0</td>\n",
              "      <td>2016-02-16 08:00:00</td>\n",
              "      <td>(EUR, 1.1166)</td>\n",
              "    </tr>\n",
              "  </tbody>\n",
              "</table>\n",
              "</div>"
            ],
            "text/plain": [
              "   index                date             currency\n",
              "0      0 2016-02-16 08:00:00  (PHP, 0.0210480679)\n",
              "1      0 2016-02-16 08:00:00  (MXN, 0.0530559687)\n",
              "2      0 2016-02-16 08:00:00   (IDR, 7.44506e-05)\n",
              "3      0 2016-02-16 08:00:00  (INR, 0.0146154702)\n",
              "4      0 2016-02-16 08:00:00        (EUR, 1.1166)"
            ]
          },
          "metadata": {
            "tags": []
          },
          "execution_count": 158
        }
      ]
    },
    {
      "cell_type": "code",
      "metadata": {
        "id": "InMG2gs79vQq",
        "colab_type": "code",
        "outputId": "59710097-f0b3-41c1-f956-92f65f0aee55",
        "colab": {
          "base_uri": "https://localhost:8080/",
          "height": 195
        }
      },
      "source": [
        "date_currency.head()"
      ],
      "execution_count": 0,
      "outputs": [
        {
          "output_type": "execute_result",
          "data": {
            "text/html": [
              "<div>\n",
              "<style scoped>\n",
              "    .dataframe tbody tr th:only-of-type {\n",
              "        vertical-align: middle;\n",
              "    }\n",
              "\n",
              "    .dataframe tbody tr th {\n",
              "        vertical-align: top;\n",
              "    }\n",
              "\n",
              "    .dataframe thead th {\n",
              "        text-align: right;\n",
              "    }\n",
              "</style>\n",
              "<table border=\"1\" class=\"dataframe\">\n",
              "  <thead>\n",
              "    <tr style=\"text-align: right;\">\n",
              "      <th></th>\n",
              "      <th>index</th>\n",
              "      <th>disburse_time</th>\n",
              "      <th>curr_list</th>\n",
              "      <th>currency</th>\n",
              "      <th>rate</th>\n",
              "    </tr>\n",
              "  </thead>\n",
              "  <tbody>\n",
              "    <tr>\n",
              "      <th>0</th>\n",
              "      <td>0</td>\n",
              "      <td>2016-02-16 08:00:00</td>\n",
              "      <td>(PHP, 0.0210480679)</td>\n",
              "      <td>PHP</td>\n",
              "      <td>0.021048</td>\n",
              "    </tr>\n",
              "    <tr>\n",
              "      <th>1</th>\n",
              "      <td>0</td>\n",
              "      <td>2016-02-16 08:00:00</td>\n",
              "      <td>(MXN, 0.0530559687)</td>\n",
              "      <td>MXN</td>\n",
              "      <td>0.053056</td>\n",
              "    </tr>\n",
              "    <tr>\n",
              "      <th>2</th>\n",
              "      <td>0</td>\n",
              "      <td>2016-02-16 08:00:00</td>\n",
              "      <td>(IDR, 7.44506e-05)</td>\n",
              "      <td>IDR</td>\n",
              "      <td>0.000074</td>\n",
              "    </tr>\n",
              "    <tr>\n",
              "      <th>3</th>\n",
              "      <td>0</td>\n",
              "      <td>2016-02-16 08:00:00</td>\n",
              "      <td>(INR, 0.0146154702)</td>\n",
              "      <td>INR</td>\n",
              "      <td>0.014615</td>\n",
              "    </tr>\n",
              "    <tr>\n",
              "      <th>4</th>\n",
              "      <td>0</td>\n",
              "      <td>2016-02-16 08:00:00</td>\n",
              "      <td>(EUR, 1.1166)</td>\n",
              "      <td>EUR</td>\n",
              "      <td>1.116600</td>\n",
              "    </tr>\n",
              "  </tbody>\n",
              "</table>\n",
              "</div>"
            ],
            "text/plain": [
              "   index       disburse_time            curr_list currency      rate\n",
              "0      0 2016-02-16 08:00:00  (PHP, 0.0210480679)      PHP  0.021048\n",
              "1      0 2016-02-16 08:00:00  (MXN, 0.0530559687)      MXN  0.053056\n",
              "2      0 2016-02-16 08:00:00   (IDR, 7.44506e-05)      IDR  0.000074\n",
              "3      0 2016-02-16 08:00:00  (INR, 0.0146154702)      INR  0.014615\n",
              "4      0 2016-02-16 08:00:00        (EUR, 1.1166)      EUR  1.116600"
            ]
          },
          "metadata": {
            "tags": []
          },
          "execution_count": 161
        }
      ]
    },
    {
      "cell_type": "markdown",
      "metadata": {
        "id": "3C0gcwzPQ2Ll",
        "colab_type": "text"
      },
      "source": [
        "### Test methods"
      ]
    },
    {
      "cell_type": "code",
      "metadata": {
        "id": "H2E_olO3N0rE",
        "colab_type": "code",
        "colab": {}
      },
      "source": [
        "def first_method1(df):\n",
        "    df['loan_amount_conversion'] = df['loan_amount']\n",
        "    return df\n",
        "\n",
        "def second_method1(df):\n",
        "    df['loan_amount_conversion'] = df.apply(lambda x: x['loan_amount'],axis=1)\n",
        "    return df"
      ],
      "execution_count": 0,
      "outputs": []
    },
    {
      "cell_type": "code",
      "metadata": {
        "id": "sI58p6ggQwp6",
        "colab_type": "code",
        "colab": {}
      },
      "source": [
        "#secondBlock_test = secondBlock[:10000]"
      ],
      "execution_count": 0,
      "outputs": []
    },
    {
      "cell_type": "code",
      "metadata": {
        "id": "YlFxS2igNuNX",
        "colab_type": "code",
        "colab": {}
      },
      "source": [
        "#%timeit first_method1(secondBlock_test)"
      ],
      "execution_count": 0,
      "outputs": []
    },
    {
      "cell_type": "code",
      "metadata": {
        "id": "fxN4nTmhPg7D",
        "colab_type": "code",
        "colab": {}
      },
      "source": [
        "#%timeit second_method1(secondBlock_test)"
      ],
      "execution_count": 0,
      "outputs": []
    },
    {
      "cell_type": "code",
      "metadata": {
        "id": "x0WjYxT0Uhzl",
        "colab_type": "code",
        "outputId": "ce297ede-e14c-49c3-9e01-545b629b6cea",
        "colab": {
          "base_uri": "https://localhost:8080/",
          "height": 134
        }
      },
      "source": [
        "secondBlock['currency'].unique()"
      ],
      "execution_count": 0,
      "outputs": [
        {
          "output_type": "execute_result",
          "data": {
            "text/plain": [
              "array(['HNL', 'PKR', 'KGS', 'USD', 'BIF', 'XOF', 'MNT', 'PEN', 'AMD',\n",
              "       'GHS', 'TZS', 'GTQ', 'PYG', 'NIO', 'KES', 'UGX', 'RWF', 'MZN',\n",
              "       'AZN', 'TJS', 'MGA', 'BOB', 'VND', 'COP', 'JOD', 'YER', 'CLP',\n",
              "       'KHR', 'ALL', 'NPR', 'SLL', 'LBP', 'XAF', 'WST', 'DOP', 'LRD',\n",
              "       'LAK', 'MMK', 'GEL', 'HTG', 'UAH', 'SDG', 'CRC', 'EGP', 'ZMW',\n",
              "       'ZMK', 'BZD', 'MWK', 'SRD', 'SSP', 'NGN', 'SBD', 'MDL', 'LSL',\n",
              "       'NAD', 'VUV', 'XCD', 'ZWD'], dtype=object)"
            ]
          },
          "metadata": {
            "tags": []
          },
          "execution_count": 182
        }
      ]
    },
    {
      "cell_type": "markdown",
      "metadata": {
        "id": "kVQtAlEtWGO-",
        "colab_type": "text"
      },
      "source": [
        "### Merge two parts divided before in all-one (loan_USD)"
      ]
    },
    {
      "cell_type": "code",
      "metadata": {
        "id": "-CtRdmbyUucp",
        "colab_type": "code",
        "colab": {}
      },
      "source": [
        "loan_USD = pd.concat([firstBlock,secondBlock],axis=0,sort=False)"
      ],
      "execution_count": 0,
      "outputs": []
    },
    {
      "cell_type": "code",
      "metadata": {
        "id": "QhQCU3Vo2o-5",
        "colab_type": "code",
        "colab": {}
      },
      "source": [
        "loan_USD['year_expiration']=loan_USD.apply(lambda x: x['planned_expiration_time'].date().year,axis=1)"
      ],
      "execution_count": 0,
      "outputs": []
    },
    {
      "cell_type": "code",
      "metadata": {
        "id": "nyeB0BqC8do-",
        "colab_type": "code",
        "colab": {}
      },
      "source": [
        "loan_USD['difference_years'] = loan_USD['year_expiration'] - loan_USD['year_disburse']"
      ],
      "execution_count": 0,
      "outputs": []
    },
    {
      "cell_type": "code",
      "metadata": {
        "id": "j2r_avRYVBqj",
        "colab_type": "code",
        "colab": {}
      },
      "source": [
        "loan_USD = loan_USD[['loan_id','disburse_time',\n",
        "                          'planned_expiration_time','year_disburse','year_expiration','difference_years','loan_amount_conversion']]"
      ],
      "execution_count": 0,
      "outputs": []
    },
    {
      "cell_type": "code",
      "metadata": {
        "id": "9JWhjGGdWunf",
        "colab_type": "code",
        "colab": {}
      },
      "source": [
        "loan_USD['loan_amount_conversion'] = round(loan_USD['loan_amount_conversion'],2)"
      ],
      "execution_count": 0,
      "outputs": []
    },
    {
      "cell_type": "code",
      "metadata": {
        "id": "43gu4dt59Dix",
        "colab_type": "code",
        "outputId": "81b40f46-ce1c-45fb-eae5-9af0fa9faf88",
        "colab": {
          "base_uri": "https://localhost:8080/",
          "height": 34
        }
      },
      "source": [
        "loan_USD['difference_years'].unique()"
      ],
      "execution_count": 0,
      "outputs": [
        {
          "output_type": "execute_result",
          "data": {
            "text/plain": [
              "array([1, 0, 4, 5])"
            ]
          },
          "metadata": {
            "tags": []
          },
          "execution_count": 174
        }
      ]
    },
    {
      "cell_type": "code",
      "metadata": {
        "id": "TSqQkCzVuIdO",
        "colab_type": "code",
        "outputId": "241951b5-6ad1-4669-e05c-2dcef779208d",
        "colab": {
          "base_uri": "https://localhost:8080/",
          "height": 195
        }
      },
      "source": [
        "loan_USD.head()"
      ],
      "execution_count": 0,
      "outputs": [
        {
          "output_type": "execute_result",
          "data": {
            "text/html": [
              "<div>\n",
              "<style scoped>\n",
              "    .dataframe tbody tr th:only-of-type {\n",
              "        vertical-align: middle;\n",
              "    }\n",
              "\n",
              "    .dataframe tbody tr th {\n",
              "        vertical-align: top;\n",
              "    }\n",
              "\n",
              "    .dataframe thead th {\n",
              "        text-align: right;\n",
              "    }\n",
              "</style>\n",
              "<table border=\"1\" class=\"dataframe\">\n",
              "  <thead>\n",
              "    <tr style=\"text-align: right;\">\n",
              "      <th></th>\n",
              "      <th>loan_id</th>\n",
              "      <th>disburse_time</th>\n",
              "      <th>planned_expiration_time</th>\n",
              "      <th>year_disburse</th>\n",
              "      <th>year_expiration</th>\n",
              "      <th>difference_years</th>\n",
              "      <th>loan_amount_conversion</th>\n",
              "    </tr>\n",
              "  </thead>\n",
              "  <tbody>\n",
              "    <tr>\n",
              "      <th>0</th>\n",
              "      <td>657307</td>\n",
              "      <td>2013-12-22 08:00:00</td>\n",
              "      <td>2014-02-14 03:30:06</td>\n",
              "      <td>2013</td>\n",
              "      <td>2014</td>\n",
              "      <td>1</td>\n",
              "      <td>2.81</td>\n",
              "    </tr>\n",
              "    <tr>\n",
              "      <th>1</th>\n",
              "      <td>656933</td>\n",
              "      <td>2013-12-17 08:00:00</td>\n",
              "      <td>2014-02-13 06:10:02</td>\n",
              "      <td>2013</td>\n",
              "      <td>2014</td>\n",
              "      <td>1</td>\n",
              "      <td>9.60</td>\n",
              "    </tr>\n",
              "    <tr>\n",
              "      <th>2</th>\n",
              "      <td>657341</td>\n",
              "      <td>2013-12-17 08:00:00</td>\n",
              "      <td>2014-02-14 08:30:03</td>\n",
              "      <td>2013</td>\n",
              "      <td>2014</td>\n",
              "      <td>1</td>\n",
              "      <td>9.60</td>\n",
              "    </tr>\n",
              "    <tr>\n",
              "      <th>3</th>\n",
              "      <td>657884</td>\n",
              "      <td>2013-12-17 08:00:00</td>\n",
              "      <td>2014-02-15 18:10:08</td>\n",
              "      <td>2013</td>\n",
              "      <td>2014</td>\n",
              "      <td>1</td>\n",
              "      <td>15.25</td>\n",
              "    </tr>\n",
              "    <tr>\n",
              "      <th>4</th>\n",
              "      <td>657867</td>\n",
              "      <td>2013-12-17 08:00:00</td>\n",
              "      <td>2014-02-15 18:50:02</td>\n",
              "      <td>2013</td>\n",
              "      <td>2014</td>\n",
              "      <td>1</td>\n",
              "      <td>6.21</td>\n",
              "    </tr>\n",
              "  </tbody>\n",
              "</table>\n",
              "</div>"
            ],
            "text/plain": [
              "   loan_id       disburse_time  ... difference_years  loan_amount_conversion\n",
              "0   657307 2013-12-22 08:00:00  ...                1                    2.81\n",
              "1   656933 2013-12-17 08:00:00  ...                1                    9.60\n",
              "2   657341 2013-12-17 08:00:00  ...                1                    9.60\n",
              "3   657884 2013-12-17 08:00:00  ...                1                   15.25\n",
              "4   657867 2013-12-17 08:00:00  ...                1                    6.21\n",
              "\n",
              "[5 rows x 7 columns]"
            ]
          },
          "metadata": {
            "tags": []
          },
          "execution_count": 176
        }
      ]
    },
    {
      "cell_type": "code",
      "metadata": {
        "id": "rg7e3YM2uhuX",
        "colab_type": "code",
        "colab": {}
      },
      "source": [
        "sameYear_loan_USD = loan_USD[loan_USD['year_disburse']==loan_USD['year_expiration']]\n",
        "index_sameYear = sameYear_loan_USD.index"
      ],
      "execution_count": 0,
      "outputs": []
    },
    {
      "cell_type": "code",
      "metadata": {
        "id": "fb-yFyMzvFRv",
        "colab_type": "code",
        "colab": {}
      },
      "source": [
        "distribution_loan_USD = sameYear_loan_USD[['loan_id','loan_amount_conversion','year_expiration']]"
      ],
      "execution_count": 0,
      "outputs": []
    },
    {
      "cell_type": "code",
      "metadata": {
        "id": "yV0CPtOBvYRN",
        "colab_type": "code",
        "outputId": "5244e62d-ce66-474d-d7f4-46372d195a9f",
        "colab": {
          "base_uri": "https://localhost:8080/",
          "height": 195
        }
      },
      "source": [
        "distribution_loan_USD.columns = ['loan_id','loan_amount_USD','year']\n",
        "distribution_loan_USD.head()"
      ],
      "execution_count": 0,
      "outputs": [
        {
          "output_type": "execute_result",
          "data": {
            "text/html": [
              "<div>\n",
              "<style scoped>\n",
              "    .dataframe tbody tr th:only-of-type {\n",
              "        vertical-align: middle;\n",
              "    }\n",
              "\n",
              "    .dataframe tbody tr th {\n",
              "        vertical-align: top;\n",
              "    }\n",
              "\n",
              "    .dataframe thead th {\n",
              "        text-align: right;\n",
              "    }\n",
              "</style>\n",
              "<table border=\"1\" class=\"dataframe\">\n",
              "  <thead>\n",
              "    <tr style=\"text-align: right;\">\n",
              "      <th></th>\n",
              "      <th>loan_id</th>\n",
              "      <th>loan_amount_USD</th>\n",
              "      <th>year</th>\n",
              "    </tr>\n",
              "  </thead>\n",
              "  <tbody>\n",
              "    <tr>\n",
              "      <th>91</th>\n",
              "      <td>659605</td>\n",
              "      <td>7.76</td>\n",
              "      <td>2014</td>\n",
              "    </tr>\n",
              "    <tr>\n",
              "      <th>92</th>\n",
              "      <td>660485</td>\n",
              "      <td>5.54</td>\n",
              "      <td>2014</td>\n",
              "    </tr>\n",
              "    <tr>\n",
              "      <th>93</th>\n",
              "      <td>659100</td>\n",
              "      <td>4.99</td>\n",
              "      <td>2014</td>\n",
              "    </tr>\n",
              "    <tr>\n",
              "      <th>94</th>\n",
              "      <td>659266</td>\n",
              "      <td>17.74</td>\n",
              "      <td>2014</td>\n",
              "    </tr>\n",
              "    <tr>\n",
              "      <th>95</th>\n",
              "      <td>663198</td>\n",
              "      <td>2.77</td>\n",
              "      <td>2014</td>\n",
              "    </tr>\n",
              "  </tbody>\n",
              "</table>\n",
              "</div>"
            ],
            "text/plain": [
              "    loan_id  loan_amount_USD  year\n",
              "91   659605             7.76  2014\n",
              "92   660485             5.54  2014\n",
              "93   659100             4.99  2014\n",
              "94   659266            17.74  2014\n",
              "95   663198             2.77  2014"
            ]
          },
          "metadata": {
            "tags": []
          },
          "execution_count": 180
        }
      ]
    },
    {
      "cell_type": "code",
      "metadata": {
        "id": "UV2DyVs9vxu6",
        "colab_type": "code",
        "colab": {}
      },
      "source": [
        "differentYear_loan_USD = loan_USD.drop(index_sameYear, axis=0)"
      ],
      "execution_count": 0,
      "outputs": []
    },
    {
      "cell_type": "code",
      "metadata": {
        "id": "7C8rybxWwr-g",
        "colab_type": "code",
        "outputId": "81dce3e2-7b9f-464f-c6d8-708599ee6dca",
        "colab": {
          "base_uri": "https://localhost:8080/",
          "height": 118
        }
      },
      "source": [
        "differentYear_loan_USD['day_disburse'] = differentYear_loan_USD.apply(lambda x: x['disburse_time'].date().day,axis=1)"
      ],
      "execution_count": 0,
      "outputs": [
        {
          "output_type": "stream",
          "text": [
            "/usr/local/lib/python3.6/dist-packages/ipykernel_launcher.py:1: SettingWithCopyWarning: \n",
            "A value is trying to be set on a copy of a slice from a DataFrame.\n",
            "Try using .loc[row_indexer,col_indexer] = value instead\n",
            "\n",
            "See the caveats in the documentation: http://pandas.pydata.org/pandas-docs/stable/user_guide/indexing.html#returning-a-view-versus-a-copy\n",
            "  \"\"\"Entry point for launching an IPython kernel.\n"
          ],
          "name": "stderr"
        }
      ]
    },
    {
      "cell_type": "code",
      "metadata": {
        "id": "ZJHlkUQQyOIf",
        "colab_type": "code",
        "outputId": "74cf6816-40ba-45d7-cb25-22ac3ccf1b3f",
        "colab": {
          "base_uri": "https://localhost:8080/",
          "height": 195
        }
      },
      "source": [
        "differentYear_loan_USD.head()"
      ],
      "execution_count": 0,
      "outputs": [
        {
          "output_type": "execute_result",
          "data": {
            "text/html": [
              "<div>\n",
              "<style scoped>\n",
              "    .dataframe tbody tr th:only-of-type {\n",
              "        vertical-align: middle;\n",
              "    }\n",
              "\n",
              "    .dataframe tbody tr th {\n",
              "        vertical-align: top;\n",
              "    }\n",
              "\n",
              "    .dataframe thead th {\n",
              "        text-align: right;\n",
              "    }\n",
              "</style>\n",
              "<table border=\"1\" class=\"dataframe\">\n",
              "  <thead>\n",
              "    <tr style=\"text-align: right;\">\n",
              "      <th></th>\n",
              "      <th>loan_id</th>\n",
              "      <th>disburse_time</th>\n",
              "      <th>planned_expiration_time</th>\n",
              "      <th>year_disburse</th>\n",
              "      <th>year_expiration</th>\n",
              "      <th>difference_years</th>\n",
              "      <th>loan_amount_conversion</th>\n",
              "      <th>day_disburse</th>\n",
              "    </tr>\n",
              "  </thead>\n",
              "  <tbody>\n",
              "    <tr>\n",
              "      <th>0</th>\n",
              "      <td>657307</td>\n",
              "      <td>2013-12-22 08:00:00</td>\n",
              "      <td>2014-02-14 03:30:06</td>\n",
              "      <td>2013</td>\n",
              "      <td>2014</td>\n",
              "      <td>1</td>\n",
              "      <td>2.81</td>\n",
              "      <td>22</td>\n",
              "    </tr>\n",
              "    <tr>\n",
              "      <th>1</th>\n",
              "      <td>656933</td>\n",
              "      <td>2013-12-17 08:00:00</td>\n",
              "      <td>2014-02-13 06:10:02</td>\n",
              "      <td>2013</td>\n",
              "      <td>2014</td>\n",
              "      <td>1</td>\n",
              "      <td>9.60</td>\n",
              "      <td>17</td>\n",
              "    </tr>\n",
              "    <tr>\n",
              "      <th>2</th>\n",
              "      <td>657341</td>\n",
              "      <td>2013-12-17 08:00:00</td>\n",
              "      <td>2014-02-14 08:30:03</td>\n",
              "      <td>2013</td>\n",
              "      <td>2014</td>\n",
              "      <td>1</td>\n",
              "      <td>9.60</td>\n",
              "      <td>17</td>\n",
              "    </tr>\n",
              "    <tr>\n",
              "      <th>3</th>\n",
              "      <td>657884</td>\n",
              "      <td>2013-12-17 08:00:00</td>\n",
              "      <td>2014-02-15 18:10:08</td>\n",
              "      <td>2013</td>\n",
              "      <td>2014</td>\n",
              "      <td>1</td>\n",
              "      <td>15.25</td>\n",
              "      <td>17</td>\n",
              "    </tr>\n",
              "    <tr>\n",
              "      <th>4</th>\n",
              "      <td>657867</td>\n",
              "      <td>2013-12-17 08:00:00</td>\n",
              "      <td>2014-02-15 18:50:02</td>\n",
              "      <td>2013</td>\n",
              "      <td>2014</td>\n",
              "      <td>1</td>\n",
              "      <td>6.21</td>\n",
              "      <td>17</td>\n",
              "    </tr>\n",
              "  </tbody>\n",
              "</table>\n",
              "</div>"
            ],
            "text/plain": [
              "   loan_id       disburse_time  ... loan_amount_conversion  day_disburse\n",
              "0   657307 2013-12-22 08:00:00  ...                   2.81            22\n",
              "1   656933 2013-12-17 08:00:00  ...                   9.60            17\n",
              "2   657341 2013-12-17 08:00:00  ...                   9.60            17\n",
              "3   657884 2013-12-17 08:00:00  ...                  15.25            17\n",
              "4   657867 2013-12-17 08:00:00  ...                   6.21            17\n",
              "\n",
              "[5 rows x 8 columns]"
            ]
          },
          "metadata": {
            "tags": []
          },
          "execution_count": 183
        }
      ]
    },
    {
      "cell_type": "code",
      "metadata": {
        "id": "dEUMo10DG1At",
        "colab_type": "code",
        "outputId": "60b75aab-4327-4ca1-eada-ba57f27e9c94",
        "colab": {
          "base_uri": "https://localhost:8080/",
          "height": 218
        }
      },
      "source": [
        "differentYear_loan_USD['month_disburse'] = differentYear_loan_USD.apply(lambda x: x['disburse_time'].date().month,axis=1)\n",
        "differentYear_loan_USD['day_expiration'] = differentYear_loan_USD.apply(lambda x: x['planned_expiration_time'].date().day,axis=1)"
      ],
      "execution_count": 0,
      "outputs": [
        {
          "output_type": "stream",
          "text": [
            "/usr/local/lib/python3.6/dist-packages/ipykernel_launcher.py:1: SettingWithCopyWarning: \n",
            "A value is trying to be set on a copy of a slice from a DataFrame.\n",
            "Try using .loc[row_indexer,col_indexer] = value instead\n",
            "\n",
            "See the caveats in the documentation: http://pandas.pydata.org/pandas-docs/stable/user_guide/indexing.html#returning-a-view-versus-a-copy\n",
            "  \"\"\"Entry point for launching an IPython kernel.\n",
            "/usr/local/lib/python3.6/dist-packages/ipykernel_launcher.py:2: SettingWithCopyWarning: \n",
            "A value is trying to be set on a copy of a slice from a DataFrame.\n",
            "Try using .loc[row_indexer,col_indexer] = value instead\n",
            "\n",
            "See the caveats in the documentation: http://pandas.pydata.org/pandas-docs/stable/user_guide/indexing.html#returning-a-view-versus-a-copy\n",
            "  \n"
          ],
          "name": "stderr"
        }
      ]
    },
    {
      "cell_type": "code",
      "metadata": {
        "id": "O8lKnxjXJCJI",
        "colab_type": "code",
        "outputId": "1f62ac83-41aa-4fe2-e4c0-751b4a68931d",
        "colab": {
          "base_uri": "https://localhost:8080/",
          "height": 34
        }
      },
      "source": [
        "'''different_loan_test = differentYear_loan_USD[differentYear_loan_USD['difference_years']==1]\n",
        "len(different_loan_test)'''"
      ],
      "execution_count": 0,
      "outputs": [
        {
          "output_type": "execute_result",
          "data": {
            "text/plain": [
              "140220"
            ]
          },
          "metadata": {
            "tags": []
          },
          "execution_count": 364
        }
      ]
    },
    {
      "cell_type": "code",
      "metadata": {
        "id": "nIcwv07ArNZ4",
        "colab_type": "code",
        "colab": {}
      },
      "source": [
        "def check_leap(year):\n",
        "  if calendar.isleap(year)==True:\n",
        "    return 366\n",
        "  else:\n",
        "    return 365"
      ],
      "execution_count": 0,
      "outputs": []
    },
    {
      "cell_type": "code",
      "metadata": {
        "id": "GZ3MSf7QpEc_",
        "colab_type": "code",
        "colab": {}
      },
      "source": [
        "def compute_amount_year(loan,den,val_num,range_year):\n",
        "  val_year = round((loan * val_num) / den,2)\n",
        "  print(\"Anno: \"+str(range_year)+\" - Val: \"+str(val_year))\n",
        "  return (range_year,val_year)"
      ],
      "execution_count": 0,
      "outputs": []
    },
    {
      "cell_type": "code",
      "metadata": {
        "id": "YQIgOf8-JcDE",
        "colab_type": "code",
        "colab": {}
      },
      "source": [
        "def compute_distribution(id,loan,day_d,month_d,year_d,day_e,year_e):\n",
        "  days_month = calendar.monthrange(year_d,month_d)[1]\n",
        "  values = []\n",
        "  year_range = set(range(year_d,year_e+1))\n",
        "  lower_upper = set([year_d,year_e])\n",
        "  year_ris = list(year_range - lower_upper)\n",
        "  difference = days_month - day_d\n",
        "  if (len(year_ris)==0):\n",
        "    values.append([difference,day_e])\n",
        "  else:\n",
        "    years_day = list(map (check_leap, year_ris))\n",
        "    values.append([[difference],years_day,[day_e]])\n",
        "    values = list(itertools.chain(*values))\n",
        "\n",
        "  values = list(itertools.chain(*values))\n",
        "  year_range=list(year_range)\n",
        "  year_range.sort()\n",
        "  den=sum(values)\n",
        "  result_list = list(map (functools.partial(compute_amount_year, loan,den), values, list(year_range)))\n",
        "  return result_list"
      ],
      "execution_count": 0,
      "outputs": []
    },
    {
      "cell_type": "code",
      "metadata": {
        "id": "AoAdgx5VpL1W",
        "colab_type": "code",
        "outputId": "56111824-765f-46fb-e7bb-9565f9a1b4e7",
        "colab": {
          "base_uri": "https://localhost:8080/",
          "height": 160
        }
      },
      "source": [
        "differentYear_loan_USD.iloc[:2]"
      ],
      "execution_count": 0,
      "outputs": [
        {
          "output_type": "execute_result",
          "data": {
            "text/html": [
              "<div>\n",
              "<style scoped>\n",
              "    .dataframe tbody tr th:only-of-type {\n",
              "        vertical-align: middle;\n",
              "    }\n",
              "\n",
              "    .dataframe tbody tr th {\n",
              "        vertical-align: top;\n",
              "    }\n",
              "\n",
              "    .dataframe thead th {\n",
              "        text-align: right;\n",
              "    }\n",
              "</style>\n",
              "<table border=\"1\" class=\"dataframe\">\n",
              "  <thead>\n",
              "    <tr style=\"text-align: right;\">\n",
              "      <th></th>\n",
              "      <th>loan_id</th>\n",
              "      <th>disburse_time</th>\n",
              "      <th>planned_expiration_time</th>\n",
              "      <th>year_disburse</th>\n",
              "      <th>year_expiration</th>\n",
              "      <th>difference_years</th>\n",
              "      <th>loan_amount_conversion</th>\n",
              "      <th>day_disburse</th>\n",
              "      <th>month_disburse</th>\n",
              "      <th>day_expiration</th>\n",
              "    </tr>\n",
              "  </thead>\n",
              "  <tbody>\n",
              "    <tr>\n",
              "      <th>0</th>\n",
              "      <td>657307</td>\n",
              "      <td>2013-12-22 08:00:00</td>\n",
              "      <td>2014-02-14 03:30:06</td>\n",
              "      <td>2013</td>\n",
              "      <td>2014</td>\n",
              "      <td>1</td>\n",
              "      <td>2.81</td>\n",
              "      <td>22</td>\n",
              "      <td>12</td>\n",
              "      <td>14</td>\n",
              "    </tr>\n",
              "    <tr>\n",
              "      <th>1</th>\n",
              "      <td>656933</td>\n",
              "      <td>2013-12-17 08:00:00</td>\n",
              "      <td>2014-02-13 06:10:02</td>\n",
              "      <td>2013</td>\n",
              "      <td>2014</td>\n",
              "      <td>1</td>\n",
              "      <td>9.60</td>\n",
              "      <td>17</td>\n",
              "      <td>12</td>\n",
              "      <td>13</td>\n",
              "    </tr>\n",
              "  </tbody>\n",
              "</table>\n",
              "</div>"
            ],
            "text/plain": [
              "   loan_id       disburse_time  ... month_disburse  day_expiration\n",
              "0   657307 2013-12-22 08:00:00  ...             12              14\n",
              "1   656933 2013-12-17 08:00:00  ...             12              13\n",
              "\n",
              "[2 rows x 10 columns]"
            ]
          },
          "metadata": {
            "tags": []
          },
          "execution_count": 373
        }
      ]
    },
    {
      "cell_type": "code",
      "metadata": {
        "id": "xMUsxaaMH-R0",
        "colab_type": "code",
        "outputId": "c0c2f7a1-d360-4dcf-80ba-6b5bdf564daf",
        "colab": {
          "base_uri": "https://localhost:8080/",
          "height": 1000
        }
      },
      "source": [
        "differentYear_loan_USD['dict_distribution']=differentYear_loan_USD.apply(lambda x: compute_distribution(x['loan_id'],x['loan_amount_conversion'],\n",
        "                                                                                              x['day_disburse'],x['month_disburse'],\n",
        "                                                                                              x['year_disburse'],x['day_expiration'],x['year_expiration']),axis=1)"
      ],
      "execution_count": 0,
      "outputs": [
        {
          "output_type": "stream",
          "text": [
            "\u001b[1;30;43mStreaming output truncated to the last 5000 lines.\u001b[0m\n",
            "Anno: 2015 - Val: 56.62\n",
            "Anno: 2014 - Val: 166.94\n",
            "Anno: 2015 - Val: 58.06\n",
            "Anno: 2014 - Val: 121.97\n",
            "Anno: 2015 - Val: 53.03\n",
            "Anno: 2014 - Val: 98.57\n",
            "Anno: 2015 - Val: 51.43\n",
            "Anno: 2014 - Val: 148.39\n",
            "Anno: 2015 - Val: 51.61\n",
            "Anno: 2014 - Val: 435.14\n",
            "Anno: 2015 - Val: 264.86\n",
            "Anno: 2014 - Val: 121.97\n",
            "Anno: 2015 - Val: 53.03\n",
            "Anno: 2014 - Val: 84.56\n",
            "Anno: 2015 - Val: 40.44\n",
            "Anno: 2014 - Val: 652.7\n",
            "Anno: 2015 - Val: 397.3\n",
            "Anno: 2017 - Val: 33.33\n",
            "Anno: 2018 - Val: 66.67\n",
            "Anno: 2017 - Val: 25.0\n",
            "Anno: 2018 - Val: 75.0\n",
            "Anno: 2014 - Val: 42.59\n",
            "Anno: 2015 - Val: 7.41\n",
            "Anno: 2014 - Val: 107.81\n",
            "Anno: 2015 - Val: 42.19\n",
            "Anno: 2017 - Val: 18.75\n",
            "Anno: 2018 - Val: 56.25\n",
            "Anno: 2014 - Val: 42.59\n",
            "Anno: 2015 - Val: 7.41\n",
            "Anno: 2016 - Val: 253.12\n",
            "Anno: 2017 - Val: 421.88\n",
            "Anno: 2016 - Val: 70.59\n",
            "Anno: 2017 - Val: 129.41\n",
            "Anno: 2016 - Val: 0.0\n",
            "Anno: 2017 - Val: 125.0\n",
            "Anno: 2016 - Val: 117.39\n",
            "Anno: 2017 - Val: 332.61\n",
            "Anno: 2016 - Val: 35.29\n",
            "Anno: 2017 - Val: 64.71\n",
            "Anno: 2015 - Val: 56.25\n",
            "Anno: 2016 - Val: 18.75\n",
            "Anno: 2015 - Val: 202.63\n",
            "Anno: 2016 - Val: 72.37\n",
            "Anno: 2016 - Val: 397.06\n",
            "Anno: 2017 - Val: 277.94\n",
            "Anno: 2016 - Val: 125.81\n",
            "Anno: 2017 - Val: 174.19\n",
            "Anno: 2016 - Val: 178.23\n",
            "Anno: 2017 - Val: 246.77\n",
            "Anno: 2016 - Val: 104.84\n",
            "Anno: 2017 - Val: 145.16\n",
            "Anno: 2016 - Val: 50.0\n",
            "Anno: 2017 - Val: 175.0\n",
            "Anno: 2016 - Val: 0.0\n",
            "Anno: 2017 - Val: 350.0\n",
            "Anno: 2016 - Val: 426.47\n",
            "Anno: 2017 - Val: 298.53\n",
            "Anno: 2015 - Val: 56.25\n",
            "Anno: 2016 - Val: 18.75\n",
            "Anno: 2014 - Val: 46.62\n",
            "Anno: 2015 - Val: 28.38\n",
            "Anno: 2015 - Val: 350.0\n",
            "Anno: 2016 - Val: 250.0\n",
            "Anno: 2015 - Val: 75.0\n",
            "Anno: 2016 - Val: 25.0\n",
            "Anno: 2014 - Val: 57.5\n",
            "Anno: 2015 - Val: 42.5\n",
            "Anno: 2014 - Val: 57.5\n",
            "Anno: 2015 - Val: 42.5\n",
            "Anno: 2015 - Val: 42.86\n",
            "Anno: 2016 - Val: 7.14\n",
            "Anno: 2015 - Val: 192.86\n",
            "Anno: 2016 - Val: 32.14\n",
            "Anno: 2015 - Val: 200.0\n",
            "Anno: 2016 - Val: 25.0\n",
            "Anno: 2015 - Val: 133.33\n",
            "Anno: 2016 - Val: 16.67\n",
            "Anno: 2015 - Val: 44.44\n",
            "Anno: 2016 - Val: 5.56\n",
            "Anno: 2015 - Val: 184.62\n",
            "Anno: 2016 - Val: 15.38\n",
            "Anno: 2014 - Val: 46.0\n",
            "Anno: 2015 - Val: 4.0\n",
            "Anno: 2014 - Val: 53.91\n",
            "Anno: 2015 - Val: 21.09\n",
            "Anno: 2014 - Val: 95.83\n",
            "Anno: 2015 - Val: 54.17\n",
            "Anno: 2016 - Val: 113.21\n",
            "Anno: 2017 - Val: 86.79\n",
            "Anno: 2016 - Val: 28.3\n",
            "Anno: 2017 - Val: 21.7\n",
            "Anno: 2014 - Val: 56.1\n",
            "Anno: 2015 - Val: 43.9\n",
            "Anno: 2014 - Val: 59.9\n",
            "Anno: 2015 - Val: 65.1\n",
            "Anno: 2014 - Val: 59.9\n",
            "Anno: 2015 - Val: 65.1\n",
            "Anno: 2014 - Val: 47.92\n",
            "Anno: 2015 - Val: 52.08\n",
            "Anno: 2014 - Val: 359.38\n",
            "Anno: 2015 - Val: 15.62\n",
            "Anno: 2014 - Val: 38.33\n",
            "Anno: 2015 - Val: 11.67\n",
            "Anno: 2017 - Val: 44.12\n",
            "Anno: 2018 - Val: 80.88\n",
            "Anno: 2014 - Val: 158.62\n",
            "Anno: 2015 - Val: 41.38\n",
            "Anno: 2017 - Val: 33.33\n",
            "Anno: 2018 - Val: 66.67\n",
            "Anno: 2014 - Val: 38.33\n",
            "Anno: 2015 - Val: 11.67\n",
            "Anno: 2014 - Val: 129.84\n",
            "Anno: 2015 - Val: 45.16\n",
            "Anno: 2014 - Val: 32.55\n",
            "Anno: 2015 - Val: 42.45\n",
            "Anno: 2014 - Val: 143.75\n",
            "Anno: 2015 - Val: 6.25\n",
            "Anno: 2014 - Val: 28.05\n",
            "Anno: 2015 - Val: 21.95\n",
            "Anno: 2014 - Val: 225.89\n",
            "Anno: 2015 - Val: 49.11\n",
            "Anno: 2014 - Val: 47.92\n",
            "Anno: 2015 - Val: 2.08\n",
            "Anno: 2014 - Val: 37.1\n",
            "Anno: 2015 - Val: 12.9\n",
            "Anno: 2014 - Val: 33.17\n",
            "Anno: 2015 - Val: 41.83\n",
            "Anno: 2014 - Val: 167.71\n",
            "Anno: 2015 - Val: 7.29\n",
            "Anno: 2014 - Val: 158.62\n",
            "Anno: 2015 - Val: 41.38\n",
            "Anno: 2014 - Val: 37.1\n",
            "Anno: 2015 - Val: 12.9\n",
            "Anno: 2014 - Val: 56.1\n",
            "Anno: 2015 - Val: 43.9\n",
            "Anno: 2014 - Val: 50.0\n",
            "Anno: 2015 - Val: 50.0\n",
            "Anno: 2014 - Val: 55.29\n",
            "Anno: 2015 - Val: 69.71\n",
            "Anno: 2017 - Val: 70.0\n",
            "Anno: 2018 - Val: 105.0\n",
            "Anno: 2017 - Val: 11.54\n",
            "Anno: 2018 - Val: 38.46\n",
            "Anno: 2014 - Val: 118.97\n",
            "Anno: 2015 - Val: 31.03\n",
            "Anno: 2014 - Val: 161.0\n",
            "Anno: 2015 - Val: 14.0\n",
            "Anno: 2015 - Val: 138.46\n",
            "Anno: 2016 - Val: 11.54\n",
            "Anno: 2015 - Val: 200.0\n",
            "Anno: 2016 - Val: 25.0\n",
            "Anno: 2015 - Val: 66.67\n",
            "Anno: 2016 - Val: 8.33\n",
            "Anno: 2015 - Val: 66.67\n",
            "Anno: 2016 - Val: 8.33\n",
            "Anno: 2014 - Val: 35.94\n",
            "Anno: 2015 - Val: 14.06\n",
            "Anno: 2014 - Val: 32.55\n",
            "Anno: 2015 - Val: 42.45\n",
            "Anno: 2014 - Val: 46.94\n",
            "Anno: 2015 - Val: 53.06\n",
            "Anno: 2014 - Val: 37.1\n",
            "Anno: 2015 - Val: 12.9\n",
            "Anno: 2014 - Val: 178.45\n",
            "Anno: 2015 - Val: 46.55\n",
            "Anno: 2014 - Val: 33.17\n",
            "Anno: 2015 - Val: 41.83\n",
            "Anno: 2016 - Val: 172.41\n",
            "Anno: 2017 - Val: 77.59\n",
            "Anno: 2014 - Val: 50.0\n",
            "Anno: 2015 - Val: 50.0\n",
            "Anno: 2016 - Val: 124.14\n",
            "Anno: 2017 - Val: 175.86\n",
            "Anno: 2014 - Val: 57.5\n",
            "Anno: 2015 - Val: 17.5\n",
            "Anno: 2014 - Val: 331.73\n",
            "Anno: 2015 - Val: 43.27\n",
            "Anno: 2014 - Val: 176.92\n",
            "Anno: 2015 - Val: 23.08\n",
            "Anno: 2014 - Val: 33.17\n",
            "Anno: 2015 - Val: 41.83\n",
            "Anno: 2014 - Val: 129.84\n",
            "Anno: 2015 - Val: 45.16\n",
            "Anno: 2014 - Val: 67.65\n",
            "Anno: 2015 - Val: 82.35\n",
            "Anno: 2014 - Val: 45.1\n",
            "Anno: 2015 - Val: 54.9\n",
            "Anno: 2014 - Val: 143.75\n",
            "Anno: 2015 - Val: 6.25\n",
            "Anno: 2017 - Val: 44.12\n",
            "Anno: 2018 - Val: 80.88\n",
            "Anno: 2017 - Val: 64.29\n",
            "Anno: 2018 - Val: 85.71\n",
            "Anno: 2017 - Val: 11.11\n",
            "Anno: 2018 - Val: 38.89\n",
            "Anno: 2017 - Val: 9.68\n",
            "Anno: 2018 - Val: 40.32\n",
            "Anno: 2014 - Val: 166.94\n",
            "Anno: 2015 - Val: 58.06\n",
            "Anno: 2014 - Val: 179.69\n",
            "Anno: 2015 - Val: 70.31\n",
            "Anno: 2014 - Val: 50.74\n",
            "Anno: 2015 - Val: 24.26\n",
            "Anno: 2014 - Val: 121.97\n",
            "Anno: 2015 - Val: 53.03\n",
            "Anno: 2014 - Val: 84.56\n",
            "Anno: 2015 - Val: 40.44\n",
            "Anno: 2014 - Val: 164.29\n",
            "Anno: 2015 - Val: 85.71\n",
            "Anno: 2014 - Val: 67.65\n",
            "Anno: 2015 - Val: 32.35\n",
            "Anno: 2017 - Val: 11.54\n",
            "Anno: 2018 - Val: 38.46\n",
            "Anno: 2014 - Val: 70.12\n",
            "Anno: 2015 - Val: 54.88\n",
            "Anno: 2014 - Val: 143.75\n",
            "Anno: 2015 - Val: 6.25\n",
            "Anno: 2014 - Val: 331.73\n",
            "Anno: 2015 - Val: 43.27\n",
            "Anno: 2014 - Val: 37.1\n",
            "Anno: 2015 - Val: 12.9\n",
            "Anno: 2017 - Val: 64.29\n",
            "Anno: 2018 - Val: 85.71\n",
            "Anno: 2017 - Val: 44.12\n",
            "Anno: 2018 - Val: 80.88\n",
            "Anno: 2014 - Val: 57.5\n",
            "Anno: 2015 - Val: 17.5\n",
            "Anno: 2017 - Val: 60.0\n",
            "Anno: 2018 - Val: 90.0\n",
            "Anno: 2015 - Val: 115.38\n",
            "Anno: 2016 - Val: 9.62\n",
            "Anno: 2015 - Val: 177.78\n",
            "Anno: 2016 - Val: 22.22\n",
            "Anno: 2015 - Val: 92.31\n",
            "Anno: 2016 - Val: 7.69\n",
            "Anno: 2015 - Val: 66.67\n",
            "Anno: 2016 - Val: 8.33\n",
            "Anno: 2015 - Val: 92.31\n",
            "Anno: 2016 - Val: 7.69\n",
            "Anno: 2016 - Val: 166.67\n",
            "Anno: 2017 - Val: 333.33\n",
            "Anno: 2014 - Val: 121.97\n",
            "Anno: 2015 - Val: 53.03\n",
            "Anno: 2017 - Val: 11.54\n",
            "Anno: 2018 - Val: 38.46\n",
            "Anno: 2014 - Val: 121.97\n",
            "Anno: 2015 - Val: 53.03\n",
            "Anno: 2014 - Val: 121.97\n",
            "Anno: 2015 - Val: 53.03\n",
            "Anno: 2014 - Val: 41.07\n",
            "Anno: 2015 - Val: 8.93\n",
            "Anno: 2015 - Val: 155.56\n",
            "Anno: 2016 - Val: 19.44\n",
            "Anno: 2015 - Val: 200.0\n",
            "Anno: 2016 - Val: 25.0\n",
            "Anno: 2015 - Val: 21.43\n",
            "Anno: 2016 - Val: 3.57\n",
            "Anno: 2016 - Val: 198.11\n",
            "Anno: 2017 - Val: 151.89\n",
            "Anno: 2014 - Val: 98.17\n",
            "Anno: 2015 - Val: 76.83\n",
            "Anno: 2014 - Val: 67.65\n",
            "Anno: 2015 - Val: 82.35\n",
            "Anno: 2014 - Val: 68.45\n",
            "Anno: 2015 - Val: 56.55\n",
            "Anno: 2014 - Val: 42.07\n",
            "Anno: 2015 - Val: 32.93\n",
            "Anno: 2014 - Val: 47.92\n",
            "Anno: 2015 - Val: 52.08\n",
            "Anno: 2014 - Val: 154.81\n",
            "Anno: 2015 - Val: 20.19\n",
            "Anno: 2014 - Val: 54.76\n",
            "Anno: 2015 - Val: 45.24\n",
            "Anno: 2014 - Val: 56.37\n",
            "Anno: 2015 - Val: 68.63\n",
            "Anno: 2014 - Val: 54.76\n",
            "Anno: 2015 - Val: 45.24\n",
            "Anno: 2014 - Val: 54.76\n",
            "Anno: 2015 - Val: 45.24\n",
            "Anno: 2014 - Val: 84.15\n",
            "Anno: 2015 - Val: 65.85\n",
            "Anno: 2014 - Val: 32.86\n",
            "Anno: 2015 - Val: 17.14\n",
            "Anno: 2014 - Val: 277.59\n",
            "Anno: 2015 - Val: 72.41\n",
            "Anno: 2014 - Val: 225.89\n",
            "Anno: 2015 - Val: 49.11\n",
            "Anno: 2014 - Val: 158.62\n",
            "Anno: 2015 - Val: 41.38\n",
            "Anno: 2017 - Val: 75.0\n",
            "Anno: 2018 - Val: 75.0\n",
            "Anno: 2014 - Val: 287.5\n",
            "Anno: 2015 - Val: 37.5\n",
            "Anno: 2016 - Val: 371.43\n",
            "Anno: 2017 - Val: 278.57\n",
            "Anno: 2017 - Val: 11.54\n",
            "Anno: 2018 - Val: 38.46\n",
            "Anno: 2015 - Val: 138.46\n",
            "Anno: 2016 - Val: 11.54\n",
            "Anno: 2015 - Val: 161.54\n",
            "Anno: 2016 - Val: 13.46\n",
            "Anno: 2015 - Val: 44.44\n",
            "Anno: 2016 - Val: 5.56\n",
            "Anno: 2015 - Val: 88.89\n",
            "Anno: 2016 - Val: 11.11\n",
            "Anno: 2015 - Val: 88.89\n",
            "Anno: 2016 - Val: 11.11\n",
            "Anno: 2015 - Val: 184.62\n",
            "Anno: 2016 - Val: 15.38\n",
            "Anno: 2015 - Val: 88.89\n",
            "Anno: 2016 - Val: 11.11\n",
            "Anno: 2015 - Val: 42.86\n",
            "Anno: 2016 - Val: 7.14\n",
            "Anno: 2015 - Val: 69.23\n",
            "Anno: 2016 - Val: 5.77\n",
            "Anno: 2015 - Val: 88.89\n",
            "Anno: 2016 - Val: 11.11\n",
            "Anno: 2015 - Val: 161.54\n",
            "Anno: 2016 - Val: 13.46\n",
            "Anno: 2015 - Val: 92.31\n",
            "Anno: 2016 - Val: 7.69\n",
            "Anno: 2014 - Val: 49.29\n",
            "Anno: 2015 - Val: 25.71\n",
            "Anno: 2014 - Val: 179.69\n",
            "Anno: 2015 - Val: 70.31\n",
            "Anno: 2014 - Val: 148.39\n",
            "Anno: 2015 - Val: 51.61\n",
            "Anno: 2015 - Val: 184.62\n",
            "Anno: 2016 - Val: 15.38\n",
            "Anno: 2015 - Val: 92.31\n",
            "Anno: 2016 - Val: 7.69\n",
            "Anno: 2015 - Val: 155.56\n",
            "Anno: 2016 - Val: 19.44\n",
            "Anno: 2015 - Val: 21.43\n",
            "Anno: 2016 - Val: 3.57\n",
            "Anno: 2015 - Val: 200.0\n",
            "Anno: 2016 - Val: 25.0\n",
            "Anno: 2015 - Val: 66.67\n",
            "Anno: 2016 - Val: 8.33\n",
            "Anno: 2016 - Val: 0.0\n",
            "Anno: 2017 - Val: 300.0\n",
            "Anno: 2016 - Val: 127.78\n",
            "Anno: 2017 - Val: 447.22\n",
            "Anno: 2016 - Val: 117.65\n",
            "Anno: 2017 - Val: 82.35\n",
            "Anno: 2015 - Val: 184.21\n",
            "Anno: 2016 - Val: 65.79\n",
            "Anno: 2016 - Val: 33.33\n",
            "Anno: 2017 - Val: 66.67\n",
            "Anno: 2016 - Val: 28.26\n",
            "Anno: 2017 - Val: 21.74\n",
            "Anno: 2016 - Val: 178.23\n",
            "Anno: 2017 - Val: 246.77\n",
            "Anno: 2016 - Val: 0.0\n",
            "Anno: 2017 - Val: 200.0\n",
            "Anno: 2016 - Val: 0.0\n",
            "Anno: 2017 - Val: 300.0\n",
            "Anno: 2016 - Val: 0.0\n",
            "Anno: 2017 - Val: 400.0\n",
            "Anno: 2016 - Val: 17.86\n",
            "Anno: 2017 - Val: 7.14\n",
            "Anno: 2016 - Val: 221.74\n",
            "Anno: 2017 - Val: 628.26\n",
            "Anno: 2016 - Val: 0.0\n",
            "Anno: 2017 - Val: 250.0\n",
            "Anno: 2016 - Val: 0.0\n",
            "Anno: 2017 - Val: 125.0\n",
            "Anno: 2016 - Val: 0.0\n",
            "Anno: 2017 - Val: 125.0\n",
            "Anno: 2015 - Val: 157.5\n",
            "Anno: 2016 - Val: 67.5\n",
            "Anno: 2015 - Val: 160.71\n",
            "Anno: 2016 - Val: 214.29\n",
            "Anno: 2015 - Val: 87.5\n",
            "Anno: 2016 - Val: 37.5\n",
            "Anno: 2015 - Val: 175.0\n",
            "Anno: 2016 - Val: 75.0\n",
            "Anno: 2015 - Val: 154.0\n",
            "Anno: 2016 - Val: 121.0\n",
            "Anno: 2015 - Val: 267.86\n",
            "Anno: 2016 - Val: 357.14\n",
            "Anno: 2015 - Val: 54.81\n",
            "Anno: 2016 - Val: 20.19\n",
            "Anno: 2015 - Val: 64.29\n",
            "Anno: 2016 - Val: 85.71\n",
            "Anno: 2014 - Val: 73.72\n",
            "Anno: 2015 - Val: 51.28\n",
            "Anno: 2014 - Val: 58.97\n",
            "Anno: 2015 - Val: 41.03\n",
            "Anno: 2014 - Val: 75.66\n",
            "Anno: 2015 - Val: 49.34\n",
            "Anno: 2014 - Val: 46.62\n",
            "Anno: 2015 - Val: 28.38\n",
            "Anno: 2014 - Val: 58.97\n",
            "Anno: 2015 - Val: 41.03\n",
            "Anno: 2014 - Val: 170.37\n",
            "Anno: 2015 - Val: 29.63\n",
            "Anno: 2014 - Val: 42.59\n",
            "Anno: 2015 - Val: 7.41\n",
            "Anno: 2014 - Val: 52.27\n",
            "Anno: 2015 - Val: 22.73\n",
            "Anno: 2014 - Val: 95.83\n",
            "Anno: 2015 - Val: 54.17\n",
            "Anno: 2017 - Val: 30.0\n",
            "Anno: 2018 - Val: 70.0\n",
            "Anno: 2017 - Val: 31.58\n",
            "Anno: 2018 - Val: 68.42\n",
            "Anno: 2017 - Val: 30.0\n",
            "Anno: 2018 - Val: 70.0\n",
            "Anno: 2017 - Val: 18.0\n",
            "Anno: 2018 - Val: 57.0\n",
            "Anno: 2016 - Val: 410.38\n",
            "Anno: 2017 - Val: 314.62\n",
            "Anno: 2016 - Val: 0.0\n",
            "Anno: 2017 - Val: 300.0\n",
            "Anno: 2016 - Val: 0.0\n",
            "Anno: 2017 - Val: 350.0\n",
            "Anno: 2016 - Val: 0.0\n",
            "Anno: 2017 - Val: 600.0\n",
            "Anno: 2016 - Val: 0.0\n",
            "Anno: 2017 - Val: 725.0\n",
            "Anno: 2016 - Val: 167.74\n",
            "Anno: 2017 - Val: 232.26\n",
            "Anno: 2016 - Val: 143.75\n",
            "Anno: 2017 - Val: 431.25\n",
            "Anno: 2015 - Val: 75.0\n",
            "Anno: 2016 - Val: 25.0\n",
            "Anno: 2016 - Val: 93.75\n",
            "Anno: 2017 - Val: 56.25\n",
            "Anno: 2016 - Val: 514.71\n",
            "Anno: 2017 - Val: 360.29\n",
            "Anno: 2015 - Val: 131.25\n",
            "Anno: 2016 - Val: 43.75\n",
            "Anno: 2015 - Val: 100.0\n",
            "Anno: 2016 - Val: 25.0\n",
            "Anno: 2015 - Val: 37.5\n",
            "Anno: 2016 - Val: 12.5\n",
            "Anno: 2015 - Val: 100.0\n",
            "Anno: 2016 - Val: 25.0\n",
            "Anno: 2015 - Val: 175.0\n",
            "Anno: 2016 - Val: 75.0\n",
            "Anno: 2015 - Val: 287.9\n",
            "Anno: 2016 - Val: 137.1\n",
            "Anno: 2016 - Val: 0.0\n",
            "Anno: 2017 - Val: 300.0\n",
            "Anno: 2016 - Val: 0.0\n",
            "Anno: 2017 - Val: 75.0\n",
            "Anno: 2015 - Val: 129.63\n",
            "Anno: 2016 - Val: 120.37\n",
            "Anno: 2014 - Val: 71.88\n",
            "Anno: 2015 - Val: 53.12\n",
            "Anno: 2014 - Val: 46.62\n",
            "Anno: 2015 - Val: 28.38\n",
            "Anno: 2015 - Val: 100.0\n",
            "Anno: 2016 - Val: 100.0\n",
            "Anno: 2016 - Val: 26.09\n",
            "Anno: 2017 - Val: 73.91\n",
            "Anno: 2016 - Val: 0.0\n",
            "Anno: 2017 - Val: 600.0\n",
            "Anno: 2015 - Val: 186.21\n",
            "Anno: 2016 - Val: 38.79\n",
            "Anno: 2016 - Val: 162.5\n",
            "Anno: 2017 - Val: 212.5\n",
            "Anno: 2014 - Val: 23.96\n",
            "Anno: 2015 - Val: 26.04\n",
            "Anno: 2014 - Val: 56.37\n",
            "Anno: 2015 - Val: 68.63\n",
            "Anno: 2014 - Val: 54.76\n",
            "Anno: 2015 - Val: 45.24\n",
            "Anno: 2014 - Val: 32.55\n",
            "Anno: 2015 - Val: 42.45\n",
            "Anno: 2014 - Val: 87.5\n",
            "Anno: 2015 - Val: 87.5\n",
            "Anno: 2014 - Val: 59.9\n",
            "Anno: 2015 - Val: 65.1\n",
            "Anno: 2014 - Val: 50.0\n",
            "Anno: 2015 - Val: 50.0\n",
            "Anno: 2015 - Val: 168.0\n",
            "Anno: 2016 - Val: 132.0\n",
            "Anno: 2014 - Val: 57.5\n",
            "Anno: 2015 - Val: 42.5\n",
            "Anno: 2014 - Val: 73.72\n",
            "Anno: 2015 - Val: 51.28\n",
            "Anno: 2015 - Val: 29.35\n",
            "Anno: 2016 - Val: 45.65\n",
            "Anno: 2015 - Val: 246.15\n",
            "Anno: 2016 - Val: 153.85\n",
            "Anno: 2014 - Val: 167.71\n",
            "Anno: 2015 - Val: 7.29\n",
            "Anno: 2014 - Val: 57.5\n",
            "Anno: 2015 - Val: 17.5\n",
            "Anno: 2014 - Val: 246.43\n",
            "Anno: 2015 - Val: 53.57\n",
            "Anno: 2014 - Val: 153.33\n",
            "Anno: 2015 - Val: 46.67\n",
            "Anno: 2014 - Val: 57.5\n",
            "Anno: 2015 - Val: 17.5\n",
            "Anno: 2014 - Val: 37.1\n",
            "Anno: 2015 - Val: 12.9\n",
            "Anno: 2014 - Val: 33.17\n",
            "Anno: 2015 - Val: 41.83\n",
            "Anno: 2014 - Val: 225.89\n",
            "Anno: 2015 - Val: 49.11\n",
            "Anno: 2014 - Val: 47.92\n",
            "Anno: 2015 - Val: 52.08\n",
            "Anno: 2014 - Val: 33.17\n",
            "Anno: 2015 - Val: 41.83\n",
            "Anno: 2014 - Val: 225.89\n",
            "Anno: 2015 - Val: 49.11\n",
            "Anno: 2014 - Val: 431.25\n",
            "Anno: 2015 - Val: 18.75\n",
            "Anno: 2014 - Val: 54.76\n",
            "Anno: 2015 - Val: 45.24\n",
            "Anno: 2014 - Val: 37.1\n",
            "Anno: 2015 - Val: 12.9\n",
            "Anno: 2014 - Val: 37.1\n",
            "Anno: 2015 - Val: 12.9\n",
            "Anno: 2014 - Val: 32.55\n",
            "Anno: 2015 - Val: 42.45\n",
            "Anno: 2014 - Val: 46.62\n",
            "Anno: 2015 - Val: 28.38\n",
            "Anno: 2014 - Val: 58.97\n",
            "Anno: 2015 - Val: 41.03\n",
            "Anno: 2014 - Val: 45.39\n",
            "Anno: 2015 - Val: 29.61\n",
            "Anno: 2014 - Val: 45.39\n",
            "Anno: 2015 - Val: 29.61\n",
            "Anno: 2017 - Val: 96.43\n",
            "Anno: 2018 - Val: 128.57\n",
            "Anno: 2016 - Val: 20.69\n",
            "Anno: 2017 - Val: 29.31\n",
            "Anno: 2014 - Val: 39.66\n",
            "Anno: 2015 - Val: 10.34\n",
            "Anno: 2014 - Val: 53.91\n",
            "Anno: 2015 - Val: 21.09\n",
            "Anno: 2014 - Val: 107.81\n",
            "Anno: 2015 - Val: 42.19\n",
            "Anno: 2014 - Val: 53.91\n",
            "Anno: 2015 - Val: 21.09\n",
            "Anno: 2014 - Val: 95.83\n",
            "Anno: 2015 - Val: 54.17\n",
            "Anno: 2017 - Val: 33.33\n",
            "Anno: 2018 - Val: 66.67\n",
            "Anno: 2017 - Val: 31.58\n",
            "Anno: 2018 - Val: 68.42\n",
            "Anno: 2014 - Val: 161.0\n",
            "Anno: 2015 - Val: 14.0\n",
            "Anno: 2014 - Val: 161.0\n",
            "Anno: 2015 - Val: 14.0\n",
            "Anno: 2014 - Val: 35.94\n",
            "Anno: 2015 - Val: 14.06\n",
            "Anno: 2014 - Val: 107.81\n",
            "Anno: 2015 - Val: 42.19\n",
            "Anno: 2014 - Val: 127.78\n",
            "Anno: 2015 - Val: 22.22\n",
            "Anno: 2014 - Val: 52.27\n",
            "Anno: 2015 - Val: 22.73\n",
            "Anno: 2017 - Val: 17.31\n",
            "Anno: 2018 - Val: 57.69\n",
            "Anno: 2017 - Val: 10.34\n",
            "Anno: 2018 - Val: 39.66\n",
            "Anno: 2014 - Val: 52.27\n",
            "Anno: 2015 - Val: 22.73\n",
            "Anno: 2014 - Val: 95.83\n",
            "Anno: 2015 - Val: 54.17\n",
            "Anno: 2016 - Val: 50.0\n",
            "Anno: 2017 - Val: 25.0\n",
            "Anno: 2016 - Val: 0.0\n",
            "Anno: 2017 - Val: 900.0\n",
            "Anno: 2016 - Val: 91.0\n",
            "Anno: 2017 - Val: 84.0\n",
            "Anno: 2016 - Val: 0.0\n",
            "Anno: 2017 - Val: 200.0\n",
            "Anno: 2014 - Val: 121.97\n",
            "Anno: 2015 - Val: 53.03\n",
            "Anno: 2014 - Val: 191.67\n",
            "Anno: 2015 - Val: 83.33\n",
            "Anno: 2015 - Val: 50.0\n",
            "Anno: 2016 - Val: 125.0\n",
            "Anno: 2015 - Val: 393.75\n",
            "Anno: 2016 - Val: 281.25\n",
            "Anno: 2014 - Val: 75.66\n",
            "Anno: 2015 - Val: 49.34\n",
            "Anno: 2015 - Val: 168.0\n",
            "Anno: 2016 - Val: 132.0\n",
            "Anno: 2014 - Val: 75.66\n",
            "Anno: 2015 - Val: 49.34\n",
            "Anno: 2014 - Val: 58.97\n",
            "Anno: 2015 - Val: 41.03\n",
            "Anno: 2014 - Val: 73.72\n",
            "Anno: 2015 - Val: 51.28\n",
            "Anno: 2014 - Val: 121.97\n",
            "Anno: 2015 - Val: 53.03\n",
            "Anno: 2014 - Val: 121.97\n",
            "Anno: 2015 - Val: 53.03\n",
            "Anno: 2014 - Val: 52.27\n",
            "Anno: 2015 - Val: 22.73\n",
            "Anno: 2016 - Val: 0.0\n",
            "Anno: 2017 - Val: 600.0\n",
            "Anno: 2016 - Val: 136.29\n",
            "Anno: 2017 - Val: 188.71\n",
            "Anno: 2016 - Val: 56.25\n",
            "Anno: 2017 - Val: 168.75\n",
            "Anno: 2016 - Val: 515.62\n",
            "Anno: 2017 - Val: 309.38\n",
            "Anno: 2016 - Val: 0.0\n",
            "Anno: 2017 - Val: 350.0\n",
            "Anno: 2016 - Val: 75.0\n",
            "Anno: 2017 - Val: 225.0\n",
            "Anno: 2015 - Val: 186.21\n",
            "Anno: 2016 - Val: 38.79\n",
            "Anno: 2016 - Val: 122.22\n",
            "Anno: 2017 - Val: 427.78\n",
            "Anno: 2016 - Val: 0.0\n",
            "Anno: 2017 - Val: 325.0\n",
            "Anno: 2016 - Val: 0.0\n",
            "Anno: 2017 - Val: 300.0\n",
            "Anno: 2016 - Val: 267.86\n",
            "Anno: 2017 - Val: 107.14\n",
            "Anno: 2015 - Val: 210.0\n",
            "Anno: 2016 - Val: 165.0\n",
            "Anno: 2015 - Val: 280.0\n",
            "Anno: 2016 - Val: 120.0\n",
            "Anno: 2014 - Val: 57.5\n",
            "Anno: 2015 - Val: 42.5\n",
            "Anno: 2017 - Val: 25.0\n",
            "Anno: 2018 - Val: 75.0\n",
            "Anno: 2014 - Val: 95.83\n",
            "Anno: 2015 - Val: 54.17\n",
            "Anno: 2015 - Val: 155.56\n",
            "Anno: 2016 - Val: 19.44\n",
            "Anno: 2015 - Val: 184.62\n",
            "Anno: 2016 - Val: 15.38\n",
            "Anno: 2015 - Val: 66.67\n",
            "Anno: 2016 - Val: 8.33\n",
            "Anno: 2015 - Val: 230.77\n",
            "Anno: 2016 - Val: 19.23\n",
            "Anno: 2015 - Val: 42.86\n",
            "Anno: 2016 - Val: 7.14\n",
            "Anno: 2015 - Val: 138.46\n",
            "Anno: 2016 - Val: 11.54\n",
            "Anno: 2015 - Val: 42.86\n",
            "Anno: 2016 - Val: 7.14\n",
            "Anno: 2015 - Val: 154.0\n",
            "Anno: 2016 - Val: 121.0\n",
            "Anno: 2014 - Val: 45.39\n",
            "Anno: 2015 - Val: 29.61\n",
            "Anno: 2014 - Val: 73.72\n",
            "Anno: 2015 - Val: 51.28\n",
            "Anno: 2015 - Val: 96.43\n",
            "Anno: 2016 - Val: 128.57\n",
            "Anno: 2014 - Val: 46.62\n",
            "Anno: 2015 - Val: 28.38\n",
            "Anno: 2014 - Val: 60.53\n",
            "Anno: 2015 - Val: 39.47\n",
            "Anno: 2015 - Val: 87.5\n",
            "Anno: 2016 - Val: 37.5\n",
            "Anno: 2014 - Val: 45.39\n",
            "Anno: 2015 - Val: 29.61\n",
            "Anno: 2014 - Val: 71.88\n",
            "Anno: 2015 - Val: 53.12\n",
            "Anno: 2014 - Val: 118.97\n",
            "Anno: 2015 - Val: 31.03\n",
            "Anno: 2014 - Val: 53.91\n",
            "Anno: 2015 - Val: 21.09\n",
            "Anno: 2017 - Val: 30.0\n",
            "Anno: 2018 - Val: 70.0\n",
            "Anno: 2017 - Val: 30.0\n",
            "Anno: 2018 - Val: 70.0\n",
            "Anno: 2014 - Val: 32.55\n",
            "Anno: 2015 - Val: 42.45\n",
            "Anno: 2014 - Val: 32.55\n",
            "Anno: 2015 - Val: 42.45\n",
            "Anno: 2014 - Val: 59.9\n",
            "Anno: 2015 - Val: 65.1\n",
            "Anno: 2014 - Val: 45.1\n",
            "Anno: 2015 - Val: 54.9\n",
            "Anno: 2014 - Val: 143.75\n",
            "Anno: 2015 - Val: 6.25\n",
            "Anno: 2014 - Val: 143.75\n",
            "Anno: 2015 - Val: 6.25\n",
            "Anno: 2014 - Val: 37.1\n",
            "Anno: 2015 - Val: 12.9\n",
            "Anno: 2014 - Val: 176.92\n",
            "Anno: 2015 - Val: 23.08\n",
            "Anno: 2014 - Val: 57.5\n",
            "Anno: 2015 - Val: 17.5\n",
            "Anno: 2014 - Val: 37.1\n",
            "Anno: 2015 - Val: 12.9\n",
            "Anno: 2014 - Val: 176.92\n",
            "Anno: 2015 - Val: 23.08\n",
            "Anno: 2017 - Val: 44.12\n",
            "Anno: 2018 - Val: 80.88\n",
            "Anno: 2014 - Val: 71.88\n",
            "Anno: 2015 - Val: 78.12\n",
            "Anno: 2014 - Val: 143.75\n",
            "Anno: 2015 - Val: 6.25\n",
            "Anno: 2014 - Val: 62.5\n",
            "Anno: 2015 - Val: 62.5\n",
            "Anno: 2014 - Val: 46.0\n",
            "Anno: 2015 - Val: 54.0\n",
            "Anno: 2014 - Val: 33.17\n",
            "Anno: 2015 - Val: 41.83\n",
            "Anno: 2014 - Val: 98.17\n",
            "Anno: 2015 - Val: 76.83\n",
            "Anno: 2014 - Val: 54.76\n",
            "Anno: 2015 - Val: 45.24\n",
            "Anno: 2014 - Val: 48.94\n",
            "Anno: 2015 - Val: 51.06\n",
            "Anno: 2014 - Val: 33.82\n",
            "Anno: 2015 - Val: 41.18\n",
            "Anno: 2014 - Val: 167.71\n",
            "Anno: 2015 - Val: 7.29\n",
            "Anno: 2014 - Val: 178.45\n",
            "Anno: 2015 - Val: 46.55\n",
            "Anno: 2014 - Val: 57.5\n",
            "Anno: 2015 - Val: 17.5\n",
            "Anno: 2017 - Val: 112.5\n",
            "Anno: 2018 - Val: 112.5\n",
            "Anno: 2016 - Val: 285.71\n",
            "Anno: 2017 - Val: 214.29\n",
            "Anno: 2017 - Val: 17.31\n",
            "Anno: 2018 - Val: 57.69\n",
            "Anno: 2017 - Val: 17.31\n",
            "Anno: 2018 - Val: 57.69\n",
            "Anno: 2016 - Val: 109.09\n",
            "Anno: 2017 - Val: 90.91\n",
            "Anno: 2016 - Val: 54.55\n",
            "Anno: 2017 - Val: 45.45\n",
            "Anno: 2014 - Val: 52.27\n",
            "Anno: 2015 - Val: 22.73\n",
            "Anno: 2015 - Val: 66.67\n",
            "Anno: 2016 - Val: 8.33\n",
            "Anno: 2015 - Val: 666.67\n",
            "Anno: 2016 - Val: 83.33\n",
            "Anno: 2014 - Val: 176.92\n",
            "Anno: 2015 - Val: 23.08\n",
            "Anno: 2014 - Val: 33.17\n",
            "Anno: 2015 - Val: 41.83\n",
            "Anno: 2014 - Val: 46.94\n",
            "Anno: 2015 - Val: 53.06\n",
            "Anno: 2014 - Val: 225.89\n",
            "Anno: 2015 - Val: 49.11\n",
            "Anno: 2014 - Val: 92.0\n",
            "Anno: 2015 - Val: 8.0\n",
            "Anno: 2014 - Val: 205.36\n",
            "Anno: 2015 - Val: 44.64\n",
            "Anno: 2014 - Val: 59.9\n",
            "Anno: 2015 - Val: 65.1\n",
            "Anno: 2014 - Val: 45.1\n",
            "Anno: 2015 - Val: 54.9\n",
            "Anno: 2014 - Val: 33.17\n",
            "Anno: 2015 - Val: 41.83\n",
            "Anno: 2014 - Val: 431.25\n",
            "Anno: 2015 - Val: 18.75\n",
            "Anno: 2014 - Val: 383.33\n",
            "Anno: 2015 - Val: 16.67\n",
            "Anno: 2014 - Val: 95.83\n",
            "Anno: 2015 - Val: 54.17\n",
            "Anno: 2017 - Val: 46.88\n",
            "Anno: 2018 - Val: 78.12\n",
            "Anno: 2017 - Val: 60.0\n",
            "Anno: 2018 - Val: 90.0\n",
            "Anno: 2017 - Val: 75.0\n",
            "Anno: 2018 - Val: 100.0\n",
            "Anno: 2014 - Val: 37.1\n",
            "Anno: 2015 - Val: 12.9\n",
            "Anno: 2014 - Val: 38.33\n",
            "Anno: 2015 - Val: 11.67\n",
            "Anno: 2017 - Val: 60.0\n",
            "Anno: 2018 - Val: 90.0\n",
            "Anno: 2014 - Val: 70.12\n",
            "Anno: 2015 - Val: 54.88\n",
            "Anno: 2014 - Val: 33.17\n",
            "Anno: 2015 - Val: 41.83\n",
            "Anno: 2014 - Val: 33.82\n",
            "Anno: 2015 - Val: 41.18\n",
            "Anno: 2014 - Val: 62.5\n",
            "Anno: 2015 - Val: 62.5\n",
            "Anno: 2014 - Val: 33.17\n",
            "Anno: 2015 - Val: 41.83\n",
            "Anno: 2014 - Val: 309.62\n",
            "Anno: 2015 - Val: 40.38\n",
            "Anno: 2014 - Val: 37.1\n",
            "Anno: 2015 - Val: 12.9\n",
            "Anno: 2014 - Val: 69.0\n",
            "Anno: 2015 - Val: 6.0\n",
            "Anno: 2017 - Val: 150.0\n",
            "Anno: 2018 - Val: 150.0\n",
            "Anno: 2014 - Val: 266.96\n",
            "Anno: 2015 - Val: 58.04\n",
            "Anno: 2017 - Val: 17.31\n",
            "Anno: 2018 - Val: 57.69\n",
            "Anno: 2017 - Val: 11.11\n",
            "Anno: 2018 - Val: 38.89\n",
            "Anno: 2017 - Val: 17.31\n",
            "Anno: 2018 - Val: 57.69\n",
            "Anno: 2017 - Val: 10.0\n",
            "Anno: 2018 - Val: 40.0\n",
            "Anno: 2014 - Val: 121.97\n",
            "Anno: 2015 - Val: 53.03\n",
            "Anno: 2014 - Val: 41.07\n",
            "Anno: 2015 - Val: 8.93\n",
            "Anno: 2014 - Val: 295.27\n",
            "Anno: 2015 - Val: 179.73\n",
            "Anno: 2014 - Val: 121.97\n",
            "Anno: 2015 - Val: 53.03\n",
            "Anno: 2014 - Val: 121.97\n",
            "Anno: 2015 - Val: 53.03\n",
            "Anno: 2014 - Val: 65.71\n",
            "Anno: 2015 - Val: 34.29\n",
            "Anno: 2014 - Val: 121.97\n",
            "Anno: 2015 - Val: 53.03\n",
            "Anno: 2014 - Val: 121.97\n",
            "Anno: 2015 - Val: 53.03\n",
            "Anno: 2017 - Val: 17.31\n",
            "Anno: 2018 - Val: 57.69\n",
            "Anno: 2017 - Val: 17.31\n",
            "Anno: 2018 - Val: 57.69\n",
            "Anno: 2017 - Val: 17.31\n",
            "Anno: 2018 - Val: 57.69\n",
            "Anno: 2014 - Val: 32.55\n",
            "Anno: 2015 - Val: 42.45\n",
            "Anno: 2014 - Val: 331.73\n",
            "Anno: 2015 - Val: 43.27\n",
            "Anno: 2014 - Val: 42.07\n",
            "Anno: 2015 - Val: 32.93\n",
            "Anno: 2014 - Val: 33.17\n",
            "Anno: 2015 - Val: 41.83\n",
            "Anno: 2014 - Val: 54.76\n",
            "Anno: 2015 - Val: 45.24\n",
            "Anno: 2014 - Val: 63.89\n",
            "Anno: 2015 - Val: 61.11\n",
            "Anno: 2014 - Val: 33.17\n",
            "Anno: 2015 - Val: 41.83\n",
            "Anno: 2014 - Val: 50.0\n",
            "Anno: 2015 - Val: 50.0\n",
            "Anno: 2014 - Val: 50.0\n",
            "Anno: 2015 - Val: 50.0\n",
            "Anno: 2014 - Val: 46.94\n",
            "Anno: 2015 - Val: 53.06\n",
            "Anno: 2014 - Val: 143.75\n",
            "Anno: 2015 - Val: 6.25\n",
            "Anno: 2014 - Val: 98.17\n",
            "Anno: 2015 - Val: 76.83\n",
            "Anno: 2014 - Val: 33.82\n",
            "Anno: 2015 - Val: 41.18\n",
            "Anno: 2017 - Val: 60.0\n",
            "Anno: 2018 - Val: 90.0\n",
            "Anno: 2014 - Val: 57.5\n",
            "Anno: 2015 - Val: 17.5\n",
            "Anno: 2017 - Val: 46.88\n",
            "Anno: 2018 - Val: 78.12\n",
            "Anno: 2017 - Val: 23.0\n",
            "Anno: 2018 - Val: 552.0\n",
            "Anno: 2015 - Val: 115.38\n",
            "Anno: 2016 - Val: 9.62\n",
            "Anno: 2015 - Val: 138.46\n",
            "Anno: 2016 - Val: 11.54\n",
            "Anno: 2014 - Val: 115.0\n",
            "Anno: 2015 - Val: 60.0\n",
            "Anno: 2014 - Val: 166.94\n",
            "Anno: 2015 - Val: 58.06\n",
            "Anno: 2014 - Val: 121.97\n",
            "Anno: 2015 - Val: 53.03\n",
            "Anno: 2017 - Val: 17.31\n",
            "Anno: 2018 - Val: 57.69\n",
            "Anno: 2014 - Val: 191.67\n",
            "Anno: 2015 - Val: 83.33\n",
            "Anno: 2014 - Val: 179.69\n",
            "Anno: 2015 - Val: 70.31\n",
            "Anno: 2014 - Val: 32.86\n",
            "Anno: 2015 - Val: 17.14\n",
            "Anno: 2014 - Val: 277.59\n",
            "Anno: 2015 - Val: 72.41\n",
            "Anno: 2015 - Val: 300.0\n",
            "Anno: 2016 - Val: 25.0\n",
            "Anno: 2015 - Val: 44.44\n",
            "Anno: 2016 - Val: 5.56\n",
            "Anno: 2015 - Val: 150.0\n",
            "Anno: 2016 - Val: 25.0\n",
            "Anno: 2014 - Val: 551.04\n",
            "Anno: 2015 - Val: 23.96\n",
            "Anno: 2014 - Val: 59.9\n",
            "Anno: 2015 - Val: 65.1\n",
            "Anno: 2014 - Val: 28.05\n",
            "Anno: 2015 - Val: 21.95\n",
            "Anno: 2014 - Val: 63.89\n",
            "Anno: 2015 - Val: 61.11\n",
            "Anno: 2014 - Val: 59.9\n",
            "Anno: 2015 - Val: 65.1\n",
            "Anno: 2014 - Val: 46.94\n",
            "Anno: 2015 - Val: 53.06\n",
            "Anno: 2014 - Val: 176.92\n",
            "Anno: 2015 - Val: 23.08\n",
            "Anno: 2014 - Val: 68.45\n",
            "Anno: 2015 - Val: 56.55\n",
            "Anno: 2014 - Val: 23.96\n",
            "Anno: 2015 - Val: 26.04\n",
            "Anno: 2014 - Val: 50.0\n",
            "Anno: 2015 - Val: 50.0\n",
            "Anno: 2014 - Val: 48.94\n",
            "Anno: 2015 - Val: 51.06\n",
            "Anno: 2014 - Val: 33.17\n",
            "Anno: 2015 - Val: 41.83\n",
            "Anno: 2014 - Val: 455.21\n",
            "Anno: 2015 - Val: 19.79\n",
            "Anno: 2014 - Val: 54.76\n",
            "Anno: 2015 - Val: 45.24\n",
            "Anno: 2014 - Val: 50.0\n",
            "Anno: 2015 - Val: 50.0\n",
            "Anno: 2014 - Val: 148.39\n",
            "Anno: 2015 - Val: 51.61\n",
            "Anno: 2014 - Val: 139.39\n",
            "Anno: 2015 - Val: 60.61\n",
            "Anno: 2014 - Val: 121.97\n",
            "Anno: 2015 - Val: 53.03\n",
            "Anno: 2014 - Val: 174.24\n",
            "Anno: 2015 - Val: 75.76\n",
            "Anno: 2014 - Val: 174.24\n",
            "Anno: 2015 - Val: 75.76\n",
            "Anno: 2014 - Val: 129.84\n",
            "Anno: 2015 - Val: 45.16\n",
            "Anno: 2014 - Val: 18.55\n",
            "Anno: 2015 - Val: 6.45\n",
            "Anno: 2014 - Val: 38.33\n",
            "Anno: 2015 - Val: 11.67\n",
            "Anno: 2014 - Val: 37.1\n",
            "Anno: 2015 - Val: 12.9\n",
            "Anno: 2016 - Val: 766.3\n",
            "Anno: 2017 - Val: 408.7\n",
            "Anno: 2017 - Val: 9.68\n",
            "Anno: 2018 - Val: 40.32\n",
            "Anno: 2017 - Val: 10.34\n",
            "Anno: 2018 - Val: 39.66\n",
            "Anno: 2017 - Val: 10.0\n",
            "Anno: 2018 - Val: 40.0\n",
            "Anno: 2015 - Val: 184.62\n",
            "Anno: 2016 - Val: 15.38\n",
            "Anno: 2015 - Val: 88.89\n",
            "Anno: 2016 - Val: 11.11\n",
            "Anno: 2015 - Val: 66.67\n",
            "Anno: 2016 - Val: 8.33\n",
            "Anno: 2015 - Val: 138.46\n",
            "Anno: 2016 - Val: 11.54\n",
            "Anno: 2015 - Val: 138.46\n",
            "Anno: 2016 - Val: 11.54\n",
            "Anno: 2014 - Val: 225.89\n",
            "Anno: 2015 - Val: 49.11\n",
            "Anno: 2015 - Val: 42.86\n",
            "Anno: 2016 - Val: 7.14\n",
            "Anno: 2015 - Val: 92.31\n",
            "Anno: 2016 - Val: 7.69\n",
            "Anno: 2015 - Val: 111.11\n",
            "Anno: 2016 - Val: 13.89\n",
            "Anno: 2015 - Val: 88.89\n",
            "Anno: 2016 - Val: 11.11\n",
            "Anno: 2015 - Val: 88.89\n",
            "Anno: 2016 - Val: 11.11\n",
            "Anno: 2015 - Val: 64.29\n",
            "Anno: 2016 - Val: 10.71\n",
            "Anno: 2015 - Val: 138.46\n",
            "Anno: 2016 - Val: 11.54\n",
            "Anno: 2016 - Val: 0.0\n",
            "Anno: 2017 - Val: 200.0\n",
            "Anno: 2016 - Val: 141.3\n",
            "Anno: 2017 - Val: 108.7\n",
            "Anno: 2016 - Val: 70.59\n",
            "Anno: 2017 - Val: 129.41\n",
            "Anno: 2015 - Val: 150.0\n",
            "Anno: 2016 - Val: 50.0\n",
            "Anno: 2015 - Val: 37.5\n",
            "Anno: 2016 - Val: 12.5\n",
            "Anno: 2016 - Val: 109.38\n",
            "Anno: 2017 - Val: 65.62\n",
            "Anno: 2015 - Val: 100.0\n",
            "Anno: 2016 - Val: 25.0\n",
            "Anno: 2016 - Val: 398.39\n",
            "Anno: 2017 - Val: 551.61\n",
            "Anno: 2015 - Val: 75.0\n",
            "Anno: 2016 - Val: 25.0\n",
            "Anno: 2016 - Val: 78.12\n",
            "Anno: 2017 - Val: 46.88\n",
            "Anno: 2016 - Val: 178.57\n",
            "Anno: 2017 - Val: 71.43\n",
            "Anno: 2016 - Val: 141.67\n",
            "Anno: 2017 - Val: 283.33\n",
            "Anno: 2016 - Val: 0.0\n",
            "Anno: 2017 - Val: 300.0\n",
            "Anno: 2016 - Val: 0.0\n",
            "Anno: 2017 - Val: 600.0\n",
            "Anno: 2016 - Val: 0.0\n",
            "Anno: 2017 - Val: 425.0\n",
            "Anno: 2016 - Val: 0.0\n",
            "Anno: 2017 - Val: 125.0\n",
            "Anno: 2016 - Val: 65.0\n",
            "Anno: 2017 - Val: 60.0\n",
            "Anno: 2016 - Val: 183.96\n",
            "Anno: 2017 - Val: 141.04\n",
            "Anno: 2015 - Val: 116.13\n",
            "Anno: 2016 - Val: 33.87\n",
            "Anno: 2015 - Val: 323.08\n",
            "Anno: 2016 - Val: 201.92\n",
            "Anno: 2015 - Val: 120.69\n",
            "Anno: 2016 - Val: 129.31\n",
            "Anno: 2015 - Val: 105.0\n",
            "Anno: 2016 - Val: 45.0\n",
            "Anno: 2015 - Val: 338.46\n",
            "Anno: 2016 - Val: 211.54\n",
            "Anno: 2015 - Val: 192.5\n",
            "Anno: 2016 - Val: 82.5\n",
            "Anno: 2014 - Val: 58.97\n",
            "Anno: 2015 - Val: 41.03\n",
            "Anno: 2014 - Val: 73.72\n",
            "Anno: 2015 - Val: 51.28\n",
            "Anno: 2014 - Val: 75.66\n",
            "Anno: 2015 - Val: 49.34\n",
            "Anno: 2014 - Val: 58.97\n",
            "Anno: 2015 - Val: 41.03\n",
            "Anno: 2014 - Val: 45.39\n",
            "Anno: 2015 - Val: 29.61\n",
            "Anno: 2014 - Val: 42.59\n",
            "Anno: 2015 - Val: 7.41\n",
            "Anno: 2014 - Val: 111.29\n",
            "Anno: 2015 - Val: 38.71\n",
            "Anno: 2014 - Val: 0.0\n",
            "Anno: 2015 - Val: 150.0\n",
            "Anno: 2014 - Val: 35.94\n",
            "Anno: 2015 - Val: 14.06\n",
            "Anno: 2014 - Val: 52.27\n",
            "Anno: 2015 - Val: 22.73\n",
            "Anno: 2014 - Val: 37.1\n",
            "Anno: 2015 - Val: 12.9\n",
            "Anno: 2017 - Val: 30.0\n",
            "Anno: 2018 - Val: 70.0\n",
            "Anno: 2017 - Val: 33.33\n",
            "Anno: 2018 - Val: 66.67\n",
            "Anno: 2016 - Val: 0.0\n",
            "Anno: 2017 - Val: 300.0\n",
            "Anno: 2016 - Val: 0.0\n",
            "Anno: 2017 - Val: 175.0\n",
            "Anno: 2015 - Val: 80.0\n",
            "Anno: 2016 - Val: 20.0\n",
            "Anno: 2016 - Val: 78.12\n",
            "Anno: 2017 - Val: 46.88\n",
            "Anno: 2016 - Val: 0.0\n",
            "Anno: 2017 - Val: 250.0\n",
            "Anno: 2016 - Val: 0.0\n",
            "Anno: 2017 - Val: 425.0\n",
            "Anno: 2016 - Val: 0.0\n",
            "Anno: 2017 - Val: 875.0\n",
            "Anno: 2015 - Val: 521.59\n",
            "Anno: 2016 - Val: 753.41\n",
            "Anno: 2015 - Val: 96.43\n",
            "Anno: 2016 - Val: 128.57\n",
            "Anno: 2015 - Val: 210.0\n",
            "Anno: 2016 - Val: 90.0\n",
            "Anno: 2015 - Val: 323.08\n",
            "Anno: 2016 - Val: 201.92\n",
            "Anno: 2015 - Val: 50.81\n",
            "Anno: 2016 - Val: 24.19\n",
            "Anno: 2015 - Val: 338.71\n",
            "Anno: 2016 - Val: 161.29\n",
            "Anno: 2015 - Val: 100.0\n",
            "Anno: 2016 - Val: 100.0\n",
            "Anno: 2016 - Val: 78.0\n",
            "Anno: 2017 - Val: 72.0\n",
            "Anno: 2016 - Val: 156.25\n",
            "Anno: 2017 - Val: 93.75\n",
            "Anno: 2016 - Val: 308.33\n",
            "Anno: 2017 - Val: 616.67\n",
            "Anno: 2016 - Val: 0.0\n",
            "Anno: 2017 - Val: 250.0\n",
            "Anno: 2016 - Val: 0.0\n",
            "Anno: 2017 - Val: 375.0\n",
            "Anno: 2016 - Val: 39.0\n",
            "Anno: 2017 - Val: 36.0\n",
            "Anno: 2014 - Val: 71.88\n",
            "Anno: 2015 - Val: 53.12\n",
            "Anno: 2014 - Val: 46.62\n",
            "Anno: 2015 - Val: 28.38\n",
            "Anno: 2014 - Val: 45.39\n",
            "Anno: 2015 - Val: 29.61\n",
            "Anno: 2015 - Val: 150.0\n",
            "Anno: 2016 - Val: 50.0\n",
            "Anno: 2015 - Val: 80.0\n",
            "Anno: 2016 - Val: 20.0\n",
            "Anno: 2014 - Val: 56.37\n",
            "Anno: 2015 - Val: 68.63\n",
            "Anno: 2014 - Val: 59.9\n",
            "Anno: 2015 - Val: 65.1\n",
            "Anno: 2014 - Val: 32.55\n",
            "Anno: 2015 - Val: 42.45\n",
            "Anno: 2014 - Val: 42.07\n",
            "Anno: 2015 - Val: 32.93\n",
            "Anno: 2014 - Val: 32.55\n",
            "Anno: 2015 - Val: 42.45\n",
            "Anno: 2014 - Val: 32.55\n",
            "Anno: 2015 - Val: 42.45\n",
            "Anno: 2014 - Val: 60.53\n",
            "Anno: 2015 - Val: 39.47\n",
            "Anno: 2014 - Val: 46.62\n",
            "Anno: 2015 - Val: 28.38\n",
            "Anno: 2014 - Val: 176.92\n",
            "Anno: 2015 - Val: 23.08\n",
            "Anno: 2014 - Val: 331.73\n",
            "Anno: 2015 - Val: 43.27\n",
            "Anno: 2014 - Val: 54.76\n",
            "Anno: 2015 - Val: 45.24\n",
            "Anno: 2014 - Val: 50.0\n",
            "Anno: 2015 - Val: 50.0\n",
            "Anno: 2014 - Val: 32.55\n",
            "Anno: 2015 - Val: 42.45\n",
            "Anno: 2014 - Val: 527.08\n",
            "Anno: 2015 - Val: 22.92\n",
            "Anno: 2014 - Val: 359.38\n",
            "Anno: 2015 - Val: 15.62\n",
            "Anno: 2014 - Val: 205.36\n",
            "Anno: 2015 - Val: 44.64\n",
            "Anno: 2014 - Val: 50.0\n",
            "Anno: 2015 - Val: 50.0\n",
            "Anno: 2014 - Val: 59.9\n",
            "Anno: 2015 - Val: 65.1\n",
            "Anno: 2014 - Val: 46.94\n",
            "Anno: 2015 - Val: 53.06\n",
            "Anno: 2014 - Val: 32.55\n",
            "Anno: 2015 - Val: 42.45\n",
            "Anno: 2014 - Val: 50.0\n",
            "Anno: 2015 - Val: 50.0\n",
            "Anno: 2015 - Val: 168.75\n",
            "Anno: 2016 - Val: 431.25\n",
            "Anno: 2015 - Val: 87.5\n",
            "Anno: 2016 - Val: 37.5\n",
            "Anno: 2015 - Val: 85.71\n",
            "Anno: 2016 - Val: 114.29\n",
            "Anno: 2014 - Val: 57.5\n",
            "Anno: 2015 - Val: 17.5\n",
            "Anno: 2014 - Val: 225.89\n",
            "Anno: 2015 - Val: 49.11\n",
            "Anno: 2014 - Val: 148.39\n",
            "Anno: 2015 - Val: 51.61\n",
            "Anno: 2014 - Val: 38.33\n",
            "Anno: 2015 - Val: 11.67\n",
            "Anno: 2014 - Val: 57.5\n",
            "Anno: 2015 - Val: 17.5\n",
            "Anno: 2017 - Val: 60.0\n",
            "Anno: 2018 - Val: 90.0\n",
            "Anno: 2017 - Val: 44.12\n",
            "Anno: 2018 - Val: 80.88\n",
            "Anno: 2016 - Val: 173.86\n",
            "Anno: 2017 - Val: 251.14\n",
            "Anno: 2014 - Val: 107.81\n",
            "Anno: 2015 - Val: 42.19\n",
            "Anno: 2014 - Val: 40.0\n",
            "Anno: 2015 - Val: 10.0\n",
            "Anno: 2014 - Val: 161.0\n",
            "Anno: 2015 - Val: 14.0\n",
            "Anno: 2017 - Val: 30.0\n",
            "Anno: 2018 - Val: 70.0\n",
            "Anno: 2017 - Val: 30.0\n",
            "Anno: 2018 - Val: 70.0\n",
            "Anno: 2017 - Val: 33.33\n",
            "Anno: 2018 - Val: 66.67\n",
            "Anno: 2017 - Val: 17.31\n",
            "Anno: 2018 - Val: 57.69\n",
            "Anno: 2017 - Val: 11.11\n",
            "Anno: 2018 - Val: 38.89\n",
            "Anno: 2017 - Val: 17.31\n",
            "Anno: 2018 - Val: 57.69\n",
            "Anno: 2014 - Val: 95.83\n",
            "Anno: 2015 - Val: 54.17\n",
            "Anno: 2017 - Val: 9.68\n",
            "Anno: 2018 - Val: 40.32\n",
            "Anno: 2014 - Val: 174.24\n",
            "Anno: 2015 - Val: 75.76\n",
            "Anno: 2014 - Val: 121.97\n",
            "Anno: 2015 - Val: 53.03\n",
            "Anno: 2014 - Val: 450.68\n",
            "Anno: 2015 - Val: 274.32\n",
            "Anno: 2014 - Val: 52.27\n",
            "Anno: 2015 - Val: 22.73\n",
            "Anno: 2014 - Val: 42.59\n",
            "Anno: 2015 - Val: 7.41\n",
            "Anno: 2014 - Val: 110.58\n",
            "Anno: 2015 - Val: 14.42\n",
            "Anno: 2014 - Val: 52.27\n",
            "Anno: 2015 - Val: 22.73\n",
            "Anno: 2016 - Val: 0.0\n",
            "Anno: 2017 - Val: 425.0\n",
            "Anno: 2016 - Val: 37.5\n",
            "Anno: 2017 - Val: 62.5\n",
            "Anno: 2014 - Val: 184.82\n",
            "Anno: 2015 - Val: 40.18\n",
            "Anno: 2015 - Val: 112.5\n",
            "Anno: 2016 - Val: 37.5\n",
            "Anno: 2015 - Val: 42.86\n",
            "Anno: 2016 - Val: 107.14\n",
            "Anno: 2017 - Val: 50.0\n",
            "Anno: 2018 - Val: 1250.0\n",
            "Anno: 2014 - Val: 46.62\n",
            "Anno: 2015 - Val: 28.38\n",
            "Anno: 2014 - Val: 46.62\n",
            "Anno: 2015 - Val: 28.38\n",
            "Anno: 2014 - Val: 73.72\n",
            "Anno: 2015 - Val: 51.28\n",
            "Anno: 2014 - Val: 295.27\n",
            "Anno: 2015 - Val: 179.73\n",
            "Anno: 2014 - Val: 65.71\n",
            "Anno: 2015 - Val: 34.29\n",
            "Anno: 2014 - Val: 279.73\n",
            "Anno: 2015 - Val: 170.27\n",
            "Anno: 2014 - Val: 53.91\n",
            "Anno: 2015 - Val: 21.09\n",
            "Anno: 2014 - Val: 46.0\n",
            "Anno: 2015 - Val: 4.0\n",
            "Anno: 2014 - Val: 53.91\n",
            "Anno: 2015 - Val: 21.09\n",
            "Anno: 2014 - Val: 35.94\n",
            "Anno: 2015 - Val: 14.06\n",
            "Anno: 2014 - Val: 52.27\n",
            "Anno: 2015 - Val: 22.73\n",
            "Anno: 2017 - Val: 33.33\n",
            "Anno: 2018 - Val: 66.67\n",
            "Anno: 2016 - Val: 0.0\n",
            "Anno: 2017 - Val: 600.0\n",
            "Anno: 2016 - Val: 0.0\n",
            "Anno: 2017 - Val: 600.0\n",
            "Anno: 2015 - Val: 56.25\n",
            "Anno: 2016 - Val: 18.75\n",
            "Anno: 2016 - Val: 0.0\n",
            "Anno: 2017 - Val: 125.0\n",
            "Anno: 2016 - Val: 46.88\n",
            "Anno: 2017 - Val: 78.12\n",
            "Anno: 2015 - Val: 168.75\n",
            "Anno: 2016 - Val: 56.25\n",
            "Anno: 2016 - Val: 205.56\n",
            "Anno: 2017 - Val: 719.44\n",
            "Anno: 2016 - Val: 0.0\n",
            "Anno: 2017 - Val: 425.0\n",
            "Anno: 2016 - Val: 0.0\n",
            "Anno: 2017 - Val: 1250.0\n",
            "Anno: 2015 - Val: 175.0\n",
            "Anno: 2016 - Val: 75.0\n",
            "Anno: 2016 - Val: 65.0\n",
            "Anno: 2017 - Val: 60.0\n",
            "Anno: 2015 - Val: 124.14\n",
            "Anno: 2016 - Val: 25.86\n",
            "Anno: 2015 - Val: 93.75\n",
            "Anno: 2016 - Val: 31.25\n",
            "Anno: 2016 - Val: 62.5\n",
            "Anno: 2017 - Val: 187.5\n",
            "Anno: 2014 - Val: 73.72\n",
            "Anno: 2015 - Val: 51.28\n",
            "Anno: 2014 - Val: 73.72\n",
            "Anno: 2015 - Val: 51.28\n",
            "Anno: 2014 - Val: 71.88\n",
            "Anno: 2015 - Val: 53.12\n",
            "Anno: 2015 - Val: 138.46\n",
            "Anno: 2016 - Val: 11.54\n",
            "Anno: 2015 - Val: 168.0\n",
            "Anno: 2016 - Val: 132.0\n",
            "Anno: 2015 - Val: 123.08\n",
            "Anno: 2016 - Val: 76.92\n",
            "Anno: 2014 - Val: 57.5\n",
            "Anno: 2015 - Val: 42.5\n",
            "Anno: 2014 - Val: 52.27\n",
            "Anno: 2015 - Val: 22.73\n",
            "Anno: 2014 - Val: 53.91\n",
            "Anno: 2015 - Val: 21.09\n",
            "Anno: 2014 - Val: 95.83\n",
            "Anno: 2015 - Val: 54.17\n",
            "Anno: 2014 - Val: 57.5\n",
            "Anno: 2015 - Val: 17.5\n",
            "Anno: 2014 - Val: 138.0\n",
            "Anno: 2015 - Val: 12.0\n",
            "Anno: 2014 - Val: 309.62\n",
            "Anno: 2015 - Val: 40.38\n",
            "Anno: 2014 - Val: 37.1\n",
            "Anno: 2015 - Val: 12.9\n",
            "Anno: 2014 - Val: 407.29\n",
            "Anno: 2015 - Val: 17.71\n",
            "Anno: 2014 - Val: 266.96\n",
            "Anno: 2015 - Val: 58.04\n",
            "Anno: 2014 - Val: 50.0\n",
            "Anno: 2015 - Val: 50.0\n",
            "Anno: 2014 - Val: 37.1\n",
            "Anno: 2015 - Val: 12.9\n",
            "Anno: 2014 - Val: 57.5\n",
            "Anno: 2015 - Val: 17.5\n",
            "Anno: 2017 - Val: 60.0\n",
            "Anno: 2018 - Val: 90.0\n",
            "Anno: 2017 - Val: 44.12\n",
            "Anno: 2018 - Val: 80.88\n",
            "Anno: 2014 - Val: 266.96\n",
            "Anno: 2015 - Val: 58.04\n",
            "Anno: 2014 - Val: 69.0\n",
            "Anno: 2015 - Val: 6.0\n",
            "Anno: 2014 - Val: 37.1\n",
            "Anno: 2015 - Val: 12.9\n",
            "Anno: 2014 - Val: 37.1\n",
            "Anno: 2015 - Val: 12.9\n",
            "Anno: 2014 - Val: 23.96\n",
            "Anno: 2015 - Val: 26.04\n",
            "Anno: 2014 - Val: 70.12\n",
            "Anno: 2015 - Val: 54.88\n",
            "Anno: 2014 - Val: 50.0\n",
            "Anno: 2015 - Val: 50.0\n",
            "Anno: 2014 - Val: 61.17\n",
            "Anno: 2015 - Val: 63.83\n",
            "Anno: 2014 - Val: 158.62\n",
            "Anno: 2015 - Val: 41.38\n",
            "Anno: 2014 - Val: 47.92\n",
            "Anno: 2015 - Val: 52.08\n",
            "Anno: 2017 - Val: 175.0\n",
            "Anno: 2018 - Val: 175.0\n",
            "Anno: 2017 - Val: 44.12\n",
            "Anno: 2018 - Val: 80.88\n",
            "Anno: 2017 - Val: 85.71\n",
            "Anno: 2018 - Val: 114.29\n",
            "Anno: 2017 - Val: 46.88\n",
            "Anno: 2018 - Val: 78.12\n",
            "Anno: 2017 - Val: 44.12\n",
            "Anno: 2018 - Val: 80.88\n",
            "Anno: 2016 - Val: 250.0\n",
            "Anno: 2017 - Val: 500.0\n",
            "Anno: 2017 - Val: 17.31\n",
            "Anno: 2018 - Val: 57.69\n",
            "Anno: 2017 - Val: 17.31\n",
            "Anno: 2018 - Val: 57.69\n",
            "Anno: 2017 - Val: 17.31\n",
            "Anno: 2018 - Val: 57.69\n",
            "Anno: 2014 - Val: 107.81\n",
            "Anno: 2015 - Val: 42.19\n",
            "Anno: 2014 - Val: 52.27\n",
            "Anno: 2015 - Val: 22.73\n",
            "Anno: 2014 - Val: 39.66\n",
            "Anno: 2015 - Val: 10.34\n",
            "Anno: 2015 - Val: 42.86\n",
            "Anno: 2016 - Val: 7.14\n",
            "Anno: 2015 - Val: 177.78\n",
            "Anno: 2016 - Val: 22.22\n",
            "Anno: 2015 - Val: 88.89\n",
            "Anno: 2016 - Val: 11.11\n",
            "Anno: 2015 - Val: 92.31\n",
            "Anno: 2016 - Val: 7.69\n",
            "Anno: 2014 - Val: 98.57\n",
            "Anno: 2015 - Val: 51.43\n",
            "Anno: 2014 - Val: 98.57\n",
            "Anno: 2015 - Val: 51.43\n",
            "Anno: 2017 - Val: 30.0\n",
            "Anno: 2018 - Val: 70.0\n",
            "Anno: 2017 - Val: 33.33\n",
            "Anno: 2018 - Val: 66.67\n",
            "Anno: 2014 - Val: 47.92\n",
            "Anno: 2015 - Val: 52.08\n",
            "Anno: 2014 - Val: 38.33\n",
            "Anno: 2015 - Val: 11.67\n",
            "Anno: 2014 - Val: 56.1\n",
            "Anno: 2015 - Val: 43.9\n",
            "Anno: 2014 - Val: 59.9\n",
            "Anno: 2015 - Val: 65.1\n",
            "Anno: 2014 - Val: 56.37\n",
            "Anno: 2015 - Val: 68.63\n",
            "Anno: 2014 - Val: 158.62\n",
            "Anno: 2015 - Val: 41.38\n",
            "Anno: 2014 - Val: 37.1\n",
            "Anno: 2015 - Val: 12.9\n",
            "Anno: 2014 - Val: 50.0\n",
            "Anno: 2015 - Val: 50.0\n",
            "Anno: 2014 - Val: 46.94\n",
            "Anno: 2015 - Val: 53.06\n",
            "Anno: 2014 - Val: 158.62\n",
            "Anno: 2015 - Val: 41.38\n",
            "Anno: 2014 - Val: 148.39\n",
            "Anno: 2015 - Val: 51.61\n",
            "Anno: 2014 - Val: 18.55\n",
            "Anno: 2015 - Val: 6.45\n",
            "Anno: 2014 - Val: 143.75\n",
            "Anno: 2015 - Val: 6.25\n",
            "Anno: 2014 - Val: 167.71\n",
            "Anno: 2015 - Val: 7.29\n",
            "Anno: 2014 - Val: 38.33\n",
            "Anno: 2015 - Val: 11.67\n",
            "Anno: 2014 - Val: 59.9\n",
            "Anno: 2015 - Val: 65.1\n",
            "Anno: 2014 - Val: 225.89\n",
            "Anno: 2015 - Val: 49.11\n",
            "Anno: 2014 - Val: 33.82\n",
            "Anno: 2015 - Val: 41.18\n",
            "Anno: 2014 - Val: 331.73\n",
            "Anno: 2015 - Val: 43.27\n",
            "Anno: 2014 - Val: 98.17\n",
            "Anno: 2015 - Val: 76.83\n",
            "Anno: 2014 - Val: 50.0\n",
            "Anno: 2015 - Val: 50.0\n",
            "Anno: 2014 - Val: 69.0\n",
            "Anno: 2015 - Val: 6.0\n",
            "Anno: 2014 - Val: 37.1\n",
            "Anno: 2015 - Val: 12.9\n",
            "Anno: 2014 - Val: 37.1\n",
            "Anno: 2015 - Val: 12.9\n",
            "Anno: 2017 - Val: 46.88\n",
            "Anno: 2018 - Val: 78.12\n",
            "Anno: 2017 - Val: 46.88\n",
            "Anno: 2018 - Val: 78.12\n",
            "Anno: 2017 - Val: 50.0\n",
            "Anno: 2018 - Val: 100.0\n",
            "Anno: 2017 - Val: 0.0\n",
            "Anno: 2018 - Val: 275.0\n",
            "Anno: 2014 - Val: 49.29\n",
            "Anno: 2015 - Val: 25.71\n",
            "Anno: 2014 - Val: 23.96\n",
            "Anno: 2015 - Val: 26.04\n",
            "Anno: 2014 - Val: 50.74\n",
            "Anno: 2015 - Val: 24.26\n",
            "Anno: 2014 - Val: 121.97\n",
            "Anno: 2015 - Val: 53.03\n",
            "Anno: 2014 - Val: 205.36\n",
            "Anno: 2015 - Val: 44.64\n",
            "Anno: 2014 - Val: 179.69\n",
            "Anno: 2015 - Val: 70.31\n",
            "Anno: 2014 - Val: 174.24\n",
            "Anno: 2015 - Val: 75.76\n",
            "Anno: 2017 - Val: 10.34\n",
            "Anno: 2018 - Val: 39.66\n",
            "Anno: 2014 - Val: 42.07\n",
            "Anno: 2015 - Val: 32.93\n",
            "Anno: 2014 - Val: 143.75\n",
            "Anno: 2015 - Val: 6.25\n",
            "Anno: 2014 - Val: 58.67\n",
            "Anno: 2015 - Val: 66.33\n",
            "Anno: 2014 - Val: 37.1\n",
            "Anno: 2015 - Val: 12.9\n",
            "Anno: 2014 - Val: 32.55\n",
            "Anno: 2015 - Val: 42.45\n",
            "Anno: 2014 - Val: 37.1\n",
            "Anno: 2015 - Val: 12.9\n",
            "Anno: 2014 - Val: 28.05\n",
            "Anno: 2015 - Val: 21.95\n",
            "Anno: 2014 - Val: 50.0\n",
            "Anno: 2015 - Val: 50.0\n",
            "Anno: 2014 - Val: 129.84\n",
            "Anno: 2015 - Val: 45.16\n",
            "Anno: 2014 - Val: 68.45\n",
            "Anno: 2015 - Val: 56.55\n",
            "Anno: 2014 - Val: 59.9\n",
            "Anno: 2015 - Val: 65.1\n",
            "Anno: 2014 - Val: 33.17\n",
            "Anno: 2015 - Val: 41.83\n",
            "Anno: 2014 - Val: 309.62\n",
            "Anno: 2015 - Val: 40.38\n",
            "Anno: 2014 - Val: 59.9\n",
            "Anno: 2015 - Val: 65.1\n",
            "Anno: 2014 - Val: 33.17\n",
            "Anno: 2015 - Val: 41.83\n",
            "Anno: 2014 - Val: 33.17\n",
            "Anno: 2015 - Val: 41.83\n",
            "Anno: 2014 - Val: 57.5\n",
            "Anno: 2015 - Val: 17.5\n",
            "Anno: 2017 - Val: 46.88\n",
            "Anno: 2018 - Val: 78.12\n",
            "Anno: 2017 - Val: 85.71\n",
            "Anno: 2018 - Val: 114.29\n",
            "Anno: 2015 - Val: 64.29\n",
            "Anno: 2016 - Val: 10.71\n",
            "Anno: 2015 - Val: 128.57\n",
            "Anno: 2016 - Val: 21.43\n",
            "Anno: 2015 - Val: 177.78\n",
            "Anno: 2016 - Val: 22.22\n",
            "Anno: 2015 - Val: 92.31\n",
            "Anno: 2016 - Val: 7.69\n",
            "Anno: 2014 - Val: 435.14\n",
            "Anno: 2015 - Val: 264.86\n",
            "Anno: 2014 - Val: 115.0\n",
            "Anno: 2015 - Val: 60.0\n",
            "Anno: 2014 - Val: 121.97\n",
            "Anno: 2015 - Val: 53.03\n",
            "Anno: 2016 - Val: 162.5\n",
            "Anno: 2017 - Val: 162.5\n",
            "Anno: 2017 - Val: 18.0\n",
            "Anno: 2018 - Val: 432.0\n",
            "Anno: 2017 - Val: 11.11\n",
            "Anno: 2018 - Val: 38.89\n",
            "Anno: 2014 - Val: 166.94\n",
            "Anno: 2015 - Val: 58.06\n",
            "Anno: 2014 - Val: 179.69\n",
            "Anno: 2015 - Val: 70.31\n",
            "Anno: 2014 - Val: 179.69\n",
            "Anno: 2015 - Val: 70.31\n",
            "Anno: 2014 - Val: 50.74\n",
            "Anno: 2015 - Val: 24.26\n",
            "Anno: 2014 - Val: 279.73\n",
            "Anno: 2015 - Val: 170.27\n",
            "Anno: 2014 - Val: 121.97\n",
            "Anno: 2015 - Val: 53.03\n",
            "Anno: 2015 - Val: 184.62\n",
            "Anno: 2016 - Val: 15.38\n",
            "Anno: 2015 - Val: 64.29\n",
            "Anno: 2016 - Val: 10.71\n",
            "Anno: 2014 - Val: 46.0\n",
            "Anno: 2015 - Val: 54.0\n",
            "Anno: 2014 - Val: 167.71\n",
            "Anno: 2015 - Val: 7.29\n",
            "Anno: 2014 - Val: 54.76\n",
            "Anno: 2015 - Val: 45.24\n",
            "Anno: 2014 - Val: 56.1\n",
            "Anno: 2015 - Val: 43.9\n",
            "Anno: 2014 - Val: 67.65\n",
            "Anno: 2015 - Val: 82.35\n",
            "Anno: 2014 - Val: 47.92\n",
            "Anno: 2015 - Val: 52.08\n",
            "Anno: 2014 - Val: 88.46\n",
            "Anno: 2015 - Val: 61.54\n",
            "Anno: 2014 - Val: 179.69\n",
            "Anno: 2015 - Val: 70.31\n",
            "Anno: 2014 - Val: 49.29\n",
            "Anno: 2015 - Val: 25.71\n",
            "Anno: 2014 - Val: 279.73\n",
            "Anno: 2015 - Val: 170.27\n",
            "Anno: 2014 - Val: 121.97\n",
            "Anno: 2015 - Val: 53.03\n",
            "Anno: 2014 - Val: 57.5\n",
            "Anno: 2015 - Val: 17.5\n",
            "Anno: 2014 - Val: 129.84\n",
            "Anno: 2015 - Val: 45.16\n",
            "Anno: 2014 - Val: 176.92\n",
            "Anno: 2015 - Val: 23.08\n",
            "Anno: 2017 - Val: 10.71\n",
            "Anno: 2018 - Val: 39.29\n",
            "Anno: 2015 - Val: 230.77\n",
            "Anno: 2016 - Val: 19.23\n",
            "Anno: 2015 - Val: 92.31\n",
            "Anno: 2016 - Val: 7.69\n",
            "Anno: 2015 - Val: 62.07\n",
            "Anno: 2016 - Val: 12.93\n",
            "Anno: 2015 - Val: 42.86\n",
            "Anno: 2016 - Val: 7.14\n",
            "Anno: 2015 - Val: 44.44\n",
            "Anno: 2016 - Val: 5.56\n",
            "Anno: 2015 - Val: 115.38\n",
            "Anno: 2016 - Val: 9.62\n",
            "Anno: 2015 - Val: 82.76\n",
            "Anno: 2016 - Val: 17.24\n",
            "Anno: 2014 - Val: 143.75\n",
            "Anno: 2015 - Val: 31.25\n",
            "Anno: 2014 - Val: 287.5\n",
            "Anno: 2015 - Val: 62.5\n",
            "Anno: 2015 - Val: 115.38\n",
            "Anno: 2016 - Val: 9.62\n",
            "Anno: 2015 - Val: 44.44\n",
            "Anno: 2016 - Val: 5.56\n",
            "Anno: 2015 - Val: 66.67\n",
            "Anno: 2016 - Val: 8.33\n",
            "Anno: 2015 - Val: 138.46\n",
            "Anno: 2016 - Val: 11.54\n",
            "Anno: 2015 - Val: 21.43\n",
            "Anno: 2016 - Val: 3.57\n",
            "Anno: 2015 - Val: 92.31\n",
            "Anno: 2016 - Val: 7.69\n",
            "Anno: 2016 - Val: 0.0\n",
            "Anno: 2017 - Val: 600.0\n",
            "Anno: 2016 - Val: 0.0\n",
            "Anno: 2017 - Val: 300.0\n",
            "Anno: 2016 - Val: 285.71\n",
            "Anno: 2017 - Val: 114.29\n",
            "Anno: 2016 - Val: 0.0\n",
            "Anno: 2017 - Val: 900.0\n",
            "Anno: 2016 - Val: 84.78\n",
            "Anno: 2017 - Val: 65.22\n",
            "Anno: 2016 - Val: 68.75\n",
            "Anno: 2017 - Val: 206.25\n",
            "Anno: 2016 - Val: 75.0\n",
            "Anno: 2017 - Val: 125.0\n",
            "Anno: 2015 - Val: 210.0\n",
            "Anno: 2016 - Val: 90.0\n",
            "Anno: 2015 - Val: 140.0\n",
            "Anno: 2016 - Val: 60.0\n",
            "Anno: 2016 - Val: 91.07\n",
            "Anno: 2017 - Val: 333.93\n",
            "Anno: 2015 - Val: 112.5\n",
            "Anno: 2016 - Val: 37.5\n",
            "Anno: 2015 - Val: 93.75\n",
            "Anno: 2016 - Val: 31.25\n",
            "Anno: 2016 - Val: 558.82\n",
            "Anno: 2017 - Val: 391.18\n",
            "Anno: 2014 - Val: 75.66\n",
            "Anno: 2015 - Val: 49.34\n",
            "Anno: 2015 - Val: 97.83\n",
            "Anno: 2016 - Val: 152.17\n",
            "Anno: 2015 - Val: 168.75\n",
            "Anno: 2016 - Val: 56.25\n",
            "Anno: 2015 - Val: 262.5\n",
            "Anno: 2016 - Val: 187.5\n",
            "Anno: 2014 - Val: 73.72\n",
            "Anno: 2015 - Val: 51.28\n",
            "Anno: 2014 - Val: 57.5\n",
            "Anno: 2015 - Val: 42.5\n",
            "Anno: 2014 - Val: 73.72\n",
            "Anno: 2015 - Val: 51.28\n",
            "Anno: 2014 - Val: 73.72\n",
            "Anno: 2015 - Val: 51.28\n",
            "Anno: 2014 - Val: 73.72\n",
            "Anno: 2015 - Val: 51.28\n",
            "Anno: 2014 - Val: 46.62\n",
            "Anno: 2015 - Val: 28.38\n",
            "Anno: 2014 - Val: 44.23\n",
            "Anno: 2015 - Val: 5.77\n",
            "Anno: 2014 - Val: 53.91\n",
            "Anno: 2015 - Val: 21.09\n",
            "Anno: 2014 - Val: 52.27\n",
            "Anno: 2015 - Val: 22.73\n",
            "Anno: 2014 - Val: 35.94\n",
            "Anno: 2015 - Val: 14.06\n",
            "Anno: 2014 - Val: 107.81\n",
            "Anno: 2015 - Val: 42.19\n",
            "Anno: 2017 - Val: 33.33\n",
            "Anno: 2018 - Val: 66.67\n",
            "Anno: 2017 - Val: 33.33\n",
            "Anno: 2018 - Val: 66.67\n",
            "Anno: 2014 - Val: 95.83\n",
            "Anno: 2015 - Val: 54.17\n",
            "Anno: 2017 - Val: 30.0\n",
            "Anno: 2018 - Val: 70.0\n",
            "Anno: 2016 - Val: 0.0\n",
            "Anno: 2017 - Val: 350.0\n",
            "Anno: 2016 - Val: 0.0\n",
            "Anno: 2017 - Val: 175.0\n",
            "Anno: 2016 - Val: 46.88\n",
            "Anno: 2017 - Val: 28.12\n",
            "Anno: 2016 - Val: 264.71\n",
            "Anno: 2017 - Val: 185.29\n",
            "Anno: 2016 - Val: 285.71\n",
            "Anno: 2017 - Val: 114.29\n",
            "Anno: 2015 - Val: 37.5\n",
            "Anno: 2016 - Val: 12.5\n",
            "Anno: 2016 - Val: 150.0\n",
            "Anno: 2017 - Val: 550.0\n",
            "Anno: 2016 - Val: 0.0\n",
            "Anno: 2017 - Val: 425.0\n",
            "Anno: 2016 - Val: 98.91\n",
            "Anno: 2017 - Val: 76.09\n",
            "Anno: 2015 - Val: 93.75\n",
            "Anno: 2016 - Val: 31.25\n",
            "Anno: 2015 - Val: 56.25\n",
            "Anno: 2016 - Val: 18.75\n",
            "Anno: 2016 - Val: 303.57\n",
            "Anno: 2017 - Val: 121.43\n",
            "Anno: 2016 - Val: 112.5\n",
            "Anno: 2017 - Val: 337.5\n",
            "Anno: 2014 - Val: 73.72\n",
            "Anno: 2015 - Val: 51.28\n",
            "Anno: 2014 - Val: 58.97\n",
            "Anno: 2015 - Val: 41.03\n",
            "Anno: 2014 - Val: 71.88\n",
            "Anno: 2015 - Val: 53.12\n",
            "Anno: 2015 - Val: 182.0\n",
            "Anno: 2016 - Val: 143.0\n",
            "Anno: 2015 - Val: 52.5\n",
            "Anno: 2016 - Val: 22.5\n",
            "Anno: 2014 - Val: 68.45\n",
            "Anno: 2015 - Val: 56.55\n",
            "Anno: 2014 - Val: 33.82\n",
            "Anno: 2015 - Val: 41.18\n",
            "Anno: 2014 - Val: 407.29\n",
            "Anno: 2015 - Val: 17.71\n",
            "Anno: 2014 - Val: 59.9\n",
            "Anno: 2015 - Val: 65.1\n",
            "Anno: 2014 - Val: 54.76\n",
            "Anno: 2015 - Val: 45.24\n",
            "Anno: 2014 - Val: 176.92\n",
            "Anno: 2015 - Val: 23.08\n",
            "Anno: 2014 - Val: 225.89\n",
            "Anno: 2015 - Val: 49.11\n",
            "Anno: 2014 - Val: 225.89\n",
            "Anno: 2015 - Val: 49.11\n",
            "Anno: 2014 - Val: 32.55\n",
            "Anno: 2015 - Val: 42.45\n",
            "Anno: 2014 - Val: 154.81\n",
            "Anno: 2015 - Val: 20.19\n",
            "Anno: 2015 - Val: 539.58\n",
            "Anno: 2016 - Val: 385.42\n",
            "Anno: 2014 - Val: 58.97\n",
            "Anno: 2015 - Val: 41.03\n",
            "Anno: 2014 - Val: 58.97\n",
            "Anno: 2015 - Val: 41.03\n",
            "Anno: 2014 - Val: 50.0\n",
            "Anno: 2015 - Val: 50.0\n",
            "Anno: 2014 - Val: 33.17\n",
            "Anno: 2015 - Val: 41.83\n",
            "Anno: 2014 - Val: 54.76\n",
            "Anno: 2015 - Val: 45.24\n",
            "Anno: 2014 - Val: 63.89\n",
            "Anno: 2015 - Val: 61.11\n",
            "Anno: 2014 - Val: 32.55\n",
            "Anno: 2015 - Val: 42.45\n",
            "Anno: 2014 - Val: 32.55\n",
            "Anno: 2015 - Val: 42.45\n",
            "Anno: 2014 - Val: 59.9\n",
            "Anno: 2015 - Val: 65.1\n",
            "Anno: 2014 - Val: 23.96\n",
            "Anno: 2015 - Val: 26.04\n",
            "Anno: 2014 - Val: 527.08\n",
            "Anno: 2015 - Val: 22.92\n",
            "Anno: 2014 - Val: 143.75\n",
            "Anno: 2015 - Val: 6.25\n",
            "Anno: 2014 - Val: 32.55\n",
            "Anno: 2015 - Val: 42.45\n",
            "Anno: 2014 - Val: 46.62\n",
            "Anno: 2015 - Val: 28.38\n",
            "Anno: 2014 - Val: 45.39\n",
            "Anno: 2015 - Val: 29.61\n",
            "Anno: 2014 - Val: 57.5\n",
            "Anno: 2015 - Val: 42.5\n",
            "Anno: 2014 - Val: 75.66\n",
            "Anno: 2015 - Val: 49.34\n",
            "Anno: 2017 - Val: 60.0\n",
            "Anno: 2018 - Val: 90.0\n",
            "Anno: 2017 - Val: 41.67\n",
            "Anno: 2018 - Val: 83.33\n",
            "Anno: 2014 - Val: 246.43\n",
            "Anno: 2015 - Val: 53.57\n",
            "Anno: 2014 - Val: 205.36\n",
            "Anno: 2015 - Val: 44.64\n",
            "Anno: 2014 - Val: 57.5\n",
            "Anno: 2015 - Val: 17.5\n",
            "Anno: 2014 - Val: 205.36\n",
            "Anno: 2015 - Val: 44.64\n",
            "Anno: 2017 - Val: 44.12\n",
            "Anno: 2018 - Val: 80.88\n",
            "Anno: 2016 - Val: 279.55\n",
            "Anno: 2017 - Val: 745.45\n",
            "Anno: 2014 - Val: 52.27\n",
            "Anno: 2015 - Val: 22.73\n",
            "Anno: 2017 - Val: 30.0\n",
            "Anno: 2018 - Val: 70.0\n",
            "Anno: 2017 - Val: 31.58\n",
            "Anno: 2018 - Val: 68.42\n",
            "Anno: 2017 - Val: 30.0\n",
            "Anno: 2018 - Val: 70.0\n",
            "Anno: 2014 - Val: 88.46\n",
            "Anno: 2015 - Val: 11.54\n",
            "Anno: 2014 - Val: 53.91\n",
            "Anno: 2015 - Val: 21.09\n",
            "Anno: 2014 - Val: 98.57\n",
            "Anno: 2015 - Val: 51.43\n",
            "Anno: 2017 - Val: 10.34\n",
            "Anno: 2018 - Val: 39.66\n",
            "Anno: 2017 - Val: 9.68\n",
            "Anno: 2018 - Val: 40.32\n",
            "Anno: 2017 - Val: 1.0\n",
            "Anno: 2018 - Val: 24.0\n",
            "Anno: 2017 - Val: 9.68\n",
            "Anno: 2018 - Val: 40.32\n",
            "Anno: 2014 - Val: 121.97\n",
            "Anno: 2015 - Val: 53.03\n",
            "Anno: 2014 - Val: 118.97\n",
            "Anno: 2015 - Val: 31.03\n",
            "Anno: 2014 - Val: 161.0\n",
            "Anno: 2015 - Val: 14.0\n",
            "Anno: 2014 - Val: 42.59\n",
            "Anno: 2015 - Val: 7.41\n",
            "Anno: 2016 - Val: 0.0\n",
            "Anno: 2017 - Val: 75.0\n",
            "Anno: 2016 - Val: 0.0\n",
            "Anno: 2017 - Val: 250.0\n",
            "Anno: 2016 - Val: 0.0\n",
            "Anno: 2017 - Val: 250.0\n",
            "Anno: 2016 - Val: 53.57\n",
            "Anno: 2017 - Val: 21.43\n",
            "Anno: 2015 - Val: 33.87\n",
            "Anno: 2016 - Val: 16.13\n",
            "Anno: 2015 - Val: 29.35\n",
            "Anno: 2016 - Val: 45.65\n",
            "Anno: 2014 - Val: 67.65\n",
            "Anno: 2015 - Val: 32.35\n",
            "Anno: 2014 - Val: 191.67\n",
            "Anno: 2015 - Val: 83.33\n",
            "Anno: 2014 - Val: 121.97\n",
            "Anno: 2015 - Val: 53.03\n",
            "Anno: 2014 - Val: 42.59\n",
            "Anno: 2015 - Val: 7.41\n",
            "Anno: 2014 - Val: 161.0\n",
            "Anno: 2015 - Val: 14.0\n",
            "Anno: 2014 - Val: 107.81\n",
            "Anno: 2015 - Val: 42.19\n",
            "Anno: 2014 - Val: 35.94\n",
            "Anno: 2015 - Val: 14.06\n",
            "Anno: 2016 - Val: 0.0\n",
            "Anno: 2017 - Val: 175.0\n",
            "Anno: 2016 - Val: 0.0\n",
            "Anno: 2017 - Val: 425.0\n",
            "Anno: 2016 - Val: 125.81\n",
            "Anno: 2017 - Val: 174.19\n",
            "Anno: 2016 - Val: 0.0\n",
            "Anno: 2017 - Val: 300.0\n",
            "Anno: 2015 - Val: 80.0\n",
            "Anno: 2016 - Val: 20.0\n",
            "Anno: 2015 - Val: 93.75\n",
            "Anno: 2016 - Val: 31.25\n",
            "Anno: 2015 - Val: 280.0\n",
            "Anno: 2016 - Val: 120.0\n",
            "Anno: 2016 - Val: 144.64\n",
            "Anno: 2017 - Val: 530.36\n",
            "Anno: 2015 - Val: 19.57\n",
            "Anno: 2016 - Val: 30.43\n",
            "Anno: 2016 - Val: 131.25\n",
            "Anno: 2017 - Val: 393.75\n",
            "Anno: 2016 - Val: 94.44\n",
            "Anno: 2017 - Val: 330.56\n",
            "Anno: 2014 - Val: 75.66\n",
            "Anno: 2015 - Val: 49.34\n",
            "Anno: 2014 - Val: 46.62\n",
            "Anno: 2015 - Val: 28.38\n",
            "Anno: 2014 - Val: 57.5\n",
            "Anno: 2015 - Val: 42.5\n",
            "Anno: 2015 - Val: 200.0\n",
            "Anno: 2016 - Val: 25.0\n",
            "Anno: 2015 - Val: 230.77\n",
            "Anno: 2016 - Val: 19.23\n",
            "Anno: 2015 - Val: 88.89\n",
            "Anno: 2016 - Val: 11.11\n",
            "Anno: 2015 - Val: 92.31\n",
            "Anno: 2016 - Val: 7.69\n",
            "Anno: 2015 - Val: 135.48\n",
            "Anno: 2016 - Val: 64.52\n",
            "Anno: 2014 - Val: 75.66\n",
            "Anno: 2015 - Val: 49.34\n",
            "Anno: 2014 - Val: 58.97\n",
            "Anno: 2015 - Val: 41.03\n",
            "Anno: 2015 - Val: 84.68\n",
            "Anno: 2016 - Val: 40.32\n",
            "Anno: 2014 - Val: 75.66\n",
            "Anno: 2015 - Val: 49.34\n",
            "Anno: 2015 - Val: 84.68\n",
            "Anno: 2016 - Val: 40.32\n",
            "Anno: 2014 - Val: 71.88\n",
            "Anno: 2015 - Val: 53.12\n",
            "Anno: 2016 - Val: 56.6\n",
            "Anno: 2017 - Val: 43.4\n",
            "Anno: 2016 - Val: 277.78\n",
            "Anno: 2017 - Val: 222.22\n",
            "Anno: 2014 - Val: 115.0\n",
            "Anno: 2015 - Val: 35.0\n",
            "Anno: 2014 - Val: 52.27\n",
            "Anno: 2015 - Val: 22.73\n",
            "Anno: 2014 - Val: 35.94\n",
            "Anno: 2015 - Val: 14.06\n",
            "Anno: 2014 - Val: 35.94\n",
            "Anno: 2015 - Val: 14.06\n",
            "Anno: 2017 - Val: 23.08\n",
            "Anno: 2018 - Val: 76.92\n",
            "Anno: 2014 - Val: 46.94\n",
            "Anno: 2015 - Val: 53.06\n",
            "Anno: 2014 - Val: 32.55\n",
            "Anno: 2015 - Val: 42.45\n",
            "Anno: 2014 - Val: 154.81\n",
            "Anno: 2015 - Val: 20.19\n",
            "Anno: 2014 - Val: 331.73\n",
            "Anno: 2015 - Val: 43.27\n",
            "Anno: 2014 - Val: 176.92\n",
            "Anno: 2015 - Val: 23.08\n",
            "Anno: 2014 - Val: 167.71\n",
            "Anno: 2015 - Val: 7.29\n",
            "Anno: 2014 - Val: 54.76\n",
            "Anno: 2015 - Val: 45.24\n",
            "Anno: 2014 - Val: 54.76\n",
            "Anno: 2015 - Val: 45.24\n",
            "Anno: 2014 - Val: 50.0\n",
            "Anno: 2015 - Val: 50.0\n",
            "Anno: 2014 - Val: 63.89\n",
            "Anno: 2015 - Val: 61.11\n",
            "Anno: 2014 - Val: 176.92\n",
            "Anno: 2015 - Val: 23.08\n",
            "Anno: 2014 - Val: 158.62\n",
            "Anno: 2015 - Val: 41.38\n",
            "Anno: 2014 - Val: 129.84\n",
            "Anno: 2015 - Val: 45.16\n",
            "Anno: 2014 - Val: 158.62\n",
            "Anno: 2015 - Val: 41.38\n",
            "Anno: 2014 - Val: 37.1\n",
            "Anno: 2015 - Val: 12.9\n",
            "Anno: 2014 - Val: 158.62\n",
            "Anno: 2015 - Val: 41.38\n",
            "Anno: 2014 - Val: 308.8\n",
            "Anno: 2015 - Val: 416.2\n",
            "Anno: 2014 - Val: 46.94\n",
            "Anno: 2015 - Val: 53.06\n",
            "Anno: 2014 - Val: 56.37\n",
            "Anno: 2015 - Val: 68.63\n",
            "Anno: 2014 - Val: 167.71\n",
            "Anno: 2015 - Val: 7.29\n",
            "Anno: 2017 - Val: 44.12\n",
            "Anno: 2018 - Val: 80.88\n",
            "Anno: 2014 - Val: 37.1\n",
            "Anno: 2015 - Val: 12.9\n",
            "Anno: 2014 - Val: 158.62\n",
            "Anno: 2015 - Val: 41.38\n",
            "Anno: 2014 - Val: 158.62\n",
            "Anno: 2015 - Val: 41.38\n",
            "Anno: 2014 - Val: 158.62\n",
            "Anno: 2015 - Val: 41.38\n",
            "Anno: 2017 - Val: 44.12\n",
            "Anno: 2018 - Val: 80.88\n",
            "Anno: 2014 - Val: 35.94\n",
            "Anno: 2015 - Val: 14.06\n",
            "Anno: 2014 - Val: 39.66\n",
            "Anno: 2015 - Val: 10.34\n",
            "Anno: 2014 - Val: 35.94\n",
            "Anno: 2015 - Val: 14.06\n",
            "Anno: 2014 - Val: 42.59\n",
            "Anno: 2015 - Val: 7.41\n",
            "Anno: 2014 - Val: 95.83\n",
            "Anno: 2015 - Val: 54.17\n",
            "Anno: 2014 - Val: 95.83\n",
            "Anno: 2015 - Val: 54.17\n",
            "Anno: 2014 - Val: 54.76\n",
            "Anno: 2015 - Val: 45.24\n",
            "Anno: 2014 - Val: 158.62\n",
            "Anno: 2015 - Val: 41.38\n",
            "Anno: 2014 - Val: 50.0\n",
            "Anno: 2015 - Val: 50.0\n",
            "Anno: 2014 - Val: 167.71\n",
            "Anno: 2015 - Val: 7.29\n",
            "Anno: 2014 - Val: 225.89\n",
            "Anno: 2015 - Val: 49.11\n",
            "Anno: 2014 - Val: 68.45\n",
            "Anno: 2015 - Val: 56.55\n",
            "Anno: 2014 - Val: 38.33\n",
            "Anno: 2015 - Val: 11.67\n",
            "Anno: 2014 - Val: 42.07\n",
            "Anno: 2015 - Val: 32.93\n",
            "Anno: 2014 - Val: 59.9\n",
            "Anno: 2015 - Val: 65.1\n",
            "Anno: 2014 - Val: 33.17\n",
            "Anno: 2015 - Val: 41.83\n",
            "Anno: 2014 - Val: 50.0\n",
            "Anno: 2015 - Val: 50.0\n",
            "Anno: 2014 - Val: 383.33\n",
            "Anno: 2015 - Val: 16.67\n",
            "Anno: 2014 - Val: 167.71\n",
            "Anno: 2015 - Val: 7.29\n",
            "Anno: 2014 - Val: 246.43\n",
            "Anno: 2015 - Val: 53.57\n",
            "Anno: 2014 - Val: 205.36\n",
            "Anno: 2015 - Val: 44.64\n",
            "Anno: 2014 - Val: 50.0\n",
            "Anno: 2015 - Val: 50.0\n",
            "Anno: 2014 - Val: 59.9\n",
            "Anno: 2015 - Val: 65.1\n",
            "Anno: 2014 - Val: 359.38\n",
            "Anno: 2015 - Val: 15.62\n",
            "Anno: 2014 - Val: 164.29\n",
            "Anno: 2015 - Val: 35.71\n",
            "Anno: 2017 - Val: 44.12\n",
            "Anno: 2018 - Val: 80.88\n",
            "Anno: 2017 - Val: 85.71\n",
            "Anno: 2018 - Val: 114.29\n",
            "Anno: 2014 - Val: 47.92\n",
            "Anno: 2015 - Val: 52.08\n",
            "Anno: 2014 - Val: 37.1\n",
            "Anno: 2015 - Val: 12.9\n",
            "Anno: 2014 - Val: 28.05\n",
            "Anno: 2015 - Val: 21.95\n",
            "Anno: 2014 - Val: 59.9\n",
            "Anno: 2015 - Val: 65.1\n",
            "Anno: 2014 - Val: 45.1\n",
            "Anno: 2015 - Val: 54.9\n",
            "Anno: 2014 - Val: 205.36\n",
            "Anno: 2015 - Val: 44.64\n",
            "Anno: 2014 - Val: 37.1\n",
            "Anno: 2015 - Val: 12.9\n",
            "Anno: 2014 - Val: 68.45\n",
            "Anno: 2015 - Val: 56.55\n",
            "Anno: 2014 - Val: 33.82\n",
            "Anno: 2015 - Val: 41.18\n",
            "Anno: 2014 - Val: 61.17\n",
            "Anno: 2015 - Val: 63.83\n",
            "Anno: 2014 - Val: 32.55\n",
            "Anno: 2015 - Val: 42.45\n",
            "Anno: 2014 - Val: 246.43\n",
            "Anno: 2015 - Val: 53.57\n",
            "Anno: 2014 - Val: 18.55\n",
            "Anno: 2015 - Val: 6.45\n",
            "Anno: 2014 - Val: 54.76\n",
            "Anno: 2015 - Val: 45.24\n",
            "Anno: 2014 - Val: 68.45\n",
            "Anno: 2015 - Val: 56.55\n",
            "Anno: 2014 - Val: 67.65\n",
            "Anno: 2015 - Val: 82.35\n",
            "Anno: 2014 - Val: 143.75\n",
            "Anno: 2015 - Val: 6.25\n",
            "Anno: 2014 - Val: 143.75\n",
            "Anno: 2015 - Val: 6.25\n",
            "Anno: 2014 - Val: 56.1\n",
            "Anno: 2015 - Val: 43.9\n",
            "Anno: 2017 - Val: 10.0\n",
            "Anno: 2018 - Val: 40.0\n",
            "Anno: 2017 - Val: 17.31\n",
            "Anno: 2018 - Val: 57.69\n",
            "Anno: 2017 - Val: 10.0\n",
            "Anno: 2018 - Val: 40.0\n",
            "Anno: 2017 - Val: 9.68\n",
            "Anno: 2018 - Val: 40.32\n",
            "Anno: 2017 - Val: 17.31\n",
            "Anno: 2018 - Val: 57.69\n",
            "Anno: 2017 - Val: 18.0\n",
            "Anno: 2018 - Val: 57.0\n",
            "Anno: 2017 - Val: 11.11\n",
            "Anno: 2018 - Val: 38.89\n",
            "Anno: 2017 - Val: 10.0\n",
            "Anno: 2018 - Val: 40.0\n",
            "Anno: 2017 - Val: 11.54\n",
            "Anno: 2018 - Val: 38.46\n",
            "Anno: 2017 - Val: 17.31\n",
            "Anno: 2018 - Val: 57.69\n",
            "Anno: 2014 - Val: 357.43\n",
            "Anno: 2015 - Val: 217.57\n",
            "Anno: 2014 - Val: 50.74\n",
            "Anno: 2015 - Val: 24.26\n",
            "Anno: 2014 - Val: 148.39\n",
            "Anno: 2015 - Val: 51.61\n",
            "Anno: 2014 - Val: 121.97\n",
            "Anno: 2015 - Val: 53.03\n",
            "Anno: 2014 - Val: 121.97\n",
            "Anno: 2015 - Val: 53.03\n",
            "Anno: 2014 - Val: 279.73\n",
            "Anno: 2015 - Val: 170.27\n",
            "Anno: 2014 - Val: 191.67\n",
            "Anno: 2015 - Val: 83.33\n",
            "Anno: 2014 - Val: 694.79\n",
            "Anno: 2015 - Val: 30.21\n",
            "Anno: 2014 - Val: 359.38\n",
            "Anno: 2015 - Val: 15.62\n",
            "Anno: 2014 - Val: 23.96\n",
            "Anno: 2015 - Val: 26.04\n",
            "Anno: 2014 - Val: 28.05\n",
            "Anno: 2015 - Val: 21.95\n",
            "Anno: 2014 - Val: 46.94\n",
            "Anno: 2015 - Val: 53.06\n",
            "Anno: 2014 - Val: 225.89\n",
            "Anno: 2015 - Val: 49.11\n",
            "Anno: 2014 - Val: 205.36\n",
            "Anno: 2015 - Val: 44.64\n",
            "Anno: 2014 - Val: 42.07\n",
            "Anno: 2015 - Val: 32.93\n",
            "Anno: 2014 - Val: 63.89\n",
            "Anno: 2015 - Val: 61.11\n",
            "Anno: 2014 - Val: 225.89\n",
            "Anno: 2015 - Val: 49.11\n",
            "Anno: 2014 - Val: 63.89\n",
            "Anno: 2015 - Val: 61.11\n",
            "Anno: 2014 - Val: 67.65\n",
            "Anno: 2015 - Val: 82.35\n",
            "Anno: 2014 - Val: 33.82\n",
            "Anno: 2015 - Val: 41.18\n",
            "Anno: 2014 - Val: 63.89\n",
            "Anno: 2015 - Val: 61.11\n",
            "Anno: 2014 - Val: 33.82\n",
            "Anno: 2015 - Val: 41.18\n",
            "Anno: 2014 - Val: 67.65\n",
            "Anno: 2015 - Val: 82.35\n",
            "Anno: 2014 - Val: 167.71\n",
            "Anno: 2015 - Val: 7.29\n",
            "Anno: 2017 - Val: 75.0\n",
            "Anno: 2018 - Val: 75.0\n",
            "Anno: 2017 - Val: 56.25\n",
            "Anno: 2018 - Val: 93.75\n",
            "Anno: 2017 - Val: 46.88\n",
            "Anno: 2018 - Val: 78.12\n",
            "Anno: 2015 - Val: 253.85\n",
            "Anno: 2016 - Val: 21.15\n",
            "Anno: 2015 - Val: 85.71\n",
            "Anno: 2016 - Val: 14.29\n",
            "Anno: 2014 - Val: 230.0\n",
            "Anno: 2015 - Val: 120.0\n",
            "Anno: 2014 - Val: 115.0\n",
            "Anno: 2015 - Val: 60.0\n",
            "Anno: 2017 - Val: 10.0\n",
            "Anno: 2018 - Val: 40.0\n",
            "Anno: 2014 - Val: 148.39\n",
            "Anno: 2015 - Val: 51.61\n",
            "Anno: 2014 - Val: 166.94\n",
            "Anno: 2015 - Val: 58.06\n",
            "Anno: 2015 - Val: 115.38\n",
            "Anno: 2016 - Val: 9.62\n",
            "Anno: 2015 - Val: 88.89\n",
            "Anno: 2016 - Val: 11.11\n",
            "Anno: 2014 - Val: 167.71\n",
            "Anno: 2015 - Val: 7.29\n",
            "Anno: 2014 - Val: 138.79\n",
            "Anno: 2015 - Val: 36.21\n",
            "Anno: 2014 - Val: 143.75\n",
            "Anno: 2015 - Val: 6.25\n",
            "Anno: 2014 - Val: 167.71\n",
            "Anno: 2015 - Val: 7.29\n",
            "Anno: 2014 - Val: 331.73\n",
            "Anno: 2015 - Val: 43.27\n",
            "Anno: 2014 - Val: 56.37\n",
            "Anno: 2015 - Val: 68.63\n",
            "Anno: 2014 - Val: 225.89\n",
            "Anno: 2015 - Val: 49.11\n",
            "Anno: 2014 - Val: 56.37\n",
            "Anno: 2015 - Val: 68.63\n",
            "Anno: 2014 - Val: 56.37\n",
            "Anno: 2015 - Val: 68.63\n",
            "Anno: 2014 - Val: 266.96\n",
            "Anno: 2015 - Val: 58.04\n",
            "Anno: 2014 - Val: 54.76\n",
            "Anno: 2015 - Val: 45.24\n",
            "Anno: 2014 - Val: 178.45\n",
            "Anno: 2015 - Val: 46.55\n",
            "Anno: 2014 - Val: 50.0\n",
            "Anno: 2015 - Val: 50.0\n",
            "Anno: 2014 - Val: 50.0\n",
            "Anno: 2015 - Val: 50.0\n",
            "Anno: 2014 - Val: 33.82\n",
            "Anno: 2015 - Val: 41.18\n",
            "Anno: 2014 - Val: 359.38\n",
            "Anno: 2015 - Val: 15.62\n",
            "Anno: 2014 - Val: 115.0\n",
            "Anno: 2015 - Val: 60.0\n",
            "Anno: 2014 - Val: 67.65\n",
            "Anno: 2015 - Val: 32.35\n",
            "Anno: 2014 - Val: 50.74\n",
            "Anno: 2015 - Val: 24.26\n",
            "Anno: 2014 - Val: 166.94\n",
            "Anno: 2015 - Val: 58.06\n",
            "Anno: 2014 - Val: 121.97\n",
            "Anno: 2015 - Val: 53.03\n",
            "Anno: 2014 - Val: 435.14\n",
            "Anno: 2015 - Val: 264.86\n",
            "Anno: 2017 - Val: 64.29\n",
            "Anno: 2018 - Val: 85.71\n",
            "Anno: 2017 - Val: 60.0\n",
            "Anno: 2018 - Val: 90.0\n",
            "Anno: 2017 - Val: 56.25\n",
            "Anno: 2018 - Val: 93.75\n",
            "Anno: 2014 - Val: 129.84\n",
            "Anno: 2015 - Val: 45.16\n",
            "Anno: 2014 - Val: 37.1\n",
            "Anno: 2015 - Val: 12.9\n",
            "Anno: 2017 - Val: 44.12\n",
            "Anno: 2018 - Val: 80.88\n",
            "Anno: 2017 - Val: 10.0\n",
            "Anno: 2018 - Val: 40.0\n",
            "Anno: 2017 - Val: 6.73\n",
            "Anno: 2018 - Val: 168.27\n",
            "Anno: 2015 - Val: 161.54\n",
            "Anno: 2016 - Val: 13.46\n",
            "Anno: 2015 - Val: 66.67\n",
            "Anno: 2016 - Val: 8.33\n",
            "Anno: 2015 - Val: 64.29\n",
            "Anno: 2016 - Val: 10.71\n",
            "Anno: 2015 - Val: 66.67\n",
            "Anno: 2016 - Val: 8.33\n",
            "Anno: 2015 - Val: 200.0\n",
            "Anno: 2016 - Val: 25.0\n",
            "Anno: 2015 - Val: 155.56\n",
            "Anno: 2016 - Val: 19.44\n",
            "Anno: 2015 - Val: 64.29\n",
            "Anno: 2016 - Val: 10.71\n",
            "Anno: 2015 - Val: 88.89\n",
            "Anno: 2016 - Val: 11.11\n",
            "Anno: 2015 - Val: 62.07\n",
            "Anno: 2016 - Val: 12.93\n",
            "Anno: 2015 - Val: 64.29\n",
            "Anno: 2016 - Val: 10.71\n",
            "Anno: 2015 - Val: 128.57\n",
            "Anno: 2016 - Val: 21.43\n",
            "Anno: 2014 - Val: 166.94\n",
            "Anno: 2015 - Val: 58.06\n",
            "Anno: 2014 - Val: 33.82\n",
            "Anno: 2015 - Val: 16.18\n",
            "Anno: 2014 - Val: 121.97\n",
            "Anno: 2015 - Val: 53.03\n",
            "Anno: 2014 - Val: 191.67\n",
            "Anno: 2015 - Val: 83.33\n",
            "Anno: 2015 - Val: 177.78\n",
            "Anno: 2016 - Val: 22.22\n",
            "Anno: 2015 - Val: 253.85\n",
            "Anno: 2016 - Val: 21.15\n",
            "Anno: 2015 - Val: 177.78\n",
            "Anno: 2016 - Val: 22.22\n",
            "Anno: 2015 - Val: 128.57\n",
            "Anno: 2016 - Val: 21.43\n",
            "Anno: 2015 - Val: 171.43\n",
            "Anno: 2016 - Val: 28.57\n",
            "Anno: 2015 - Val: 155.56\n",
            "Anno: 2016 - Val: 19.44\n",
            "Anno: 2015 - Val: 66.67\n",
            "Anno: 2016 - Val: 8.33\n",
            "Anno: 2015 - Val: 155.56\n",
            "Anno: 2016 - Val: 19.44\n",
            "Anno: 2015 - Val: 115.38\n",
            "Anno: 2016 - Val: 9.62\n",
            "Anno: 2016 - Val: 0.0\n",
            "Anno: 2017 - Val: 650.0\n",
            "Anno: 2016 - Val: 0.0\n",
            "Anno: 2017 - Val: 300.0\n",
            "Anno: 2016 - Val: 0.0\n",
            "Anno: 2017 - Val: 250.0\n",
            "Anno: 2016 - Val: 78.12\n",
            "Anno: 2017 - Val: 46.88\n",
            "Anno: 2016 - Val: 136.29\n",
            "Anno: 2017 - Val: 188.71\n",
            "Anno: 2015 - Val: 120.0\n",
            "Anno: 2016 - Val: 30.0\n",
            "Anno: 2016 - Val: 80.65\n",
            "Anno: 2017 - Val: 44.35\n",
            "Anno: 2016 - Val: 65.0\n",
            "Anno: 2017 - Val: 60.0\n",
            "Anno: 2016 - Val: 239.36\n",
            "Anno: 2017 - Val: 135.64\n",
            "Anno: 2015 - Val: 77.42\n",
            "Anno: 2016 - Val: 22.58\n",
            "Anno: 2016 - Val: 108.33\n",
            "Anno: 2017 - Val: 216.67\n",
            "Anno: 2016 - Val: 116.67\n",
            "Anno: 2017 - Val: 233.33\n",
            "Anno: 2016 - Val: 265.62\n",
            "Anno: 2017 - Val: 159.38\n",
            "Anno: 2015 - Val: 590.0\n",
            "Anno: 2016 - Val: 885.0\n",
            "Anno: 2015 - Val: 22.34\n",
            "Anno: 2016 - Val: 27.66\n",
            "Anno: 2015 - Val: 76.56\n",
            "Anno: 2016 - Val: 98.44\n",
            "Anno: 2014 - Val: 73.72\n",
            "Anno: 2015 - Val: 51.28\n",
            "Anno: 2014 - Val: 73.72\n",
            "Anno: 2015 - Val: 51.28\n",
            "Anno: 2014 - Val: 46.0\n",
            "Anno: 2015 - Val: 4.0\n",
            "Anno: 2014 - Val: 42.59\n",
            "Anno: 2015 - Val: 7.41\n",
            "Anno: 2014 - Val: 53.91\n",
            "Anno: 2015 - Val: 21.09\n",
            "Anno: 2014 - Val: 35.94\n",
            "Anno: 2015 - Val: 14.06\n",
            "Anno: 2014 - Val: 52.27\n",
            "Anno: 2015 - Val: 22.73\n",
            "Anno: 2014 - Val: 42.59\n",
            "Anno: 2015 - Val: 7.41\n",
            "Anno: 2014 - Val: 115.0\n",
            "Anno: 2015 - Val: 35.0\n",
            "Anno: 2017 - Val: 33.33\n",
            "Anno: 2018 - Val: 66.67\n",
            "Anno: 2016 - Val: 226.42\n",
            "Anno: 2017 - Val: 173.58\n",
            "Anno: 2016 - Val: 0.0\n",
            "Anno: 2017 - Val: 300.0\n",
            "Anno: 2016 - Val: 0.0\n",
            "Anno: 2017 - Val: 200.0\n",
            "Anno: 2016 - Val: 0.0\n",
            "Anno: 2017 - Val: 475.0\n",
            "Anno: 2016 - Val: 267.86\n",
            "Anno: 2017 - Val: 107.14\n",
            "Anno: 2015 - Val: 93.75\n",
            "Anno: 2016 - Val: 31.25\n",
            "Anno: 2015 - Val: 75.0\n",
            "Anno: 2016 - Val: 25.0\n",
            "Anno: 2015 - Val: 56.25\n",
            "Anno: 2016 - Val: 18.75\n",
            "Anno: 2015 - Val: 87.5\n",
            "Anno: 2016 - Val: 37.5\n",
            "Anno: 2016 - Val: 75.0\n",
            "Anno: 2017 - Val: 150.0\n",
            "Anno: 2015 - Val: 93.75\n",
            "Anno: 2016 - Val: 31.25\n",
            "Anno: 2016 - Val: 294.44\n",
            "Anno: 2017 - Val: 1030.56\n",
            "Anno: 2015 - Val: 150.0\n",
            "Anno: 2016 - Val: 50.0\n",
            "Anno: 2016 - Val: 0.0\n",
            "Anno: 2017 - Val: 375.0\n",
            "Anno: 2016 - Val: 0.0\n",
            "Anno: 2017 - Val: 250.0\n",
            "Anno: 2016 - Val: 0.0\n",
            "Anno: 2017 - Val: 575.0\n",
            "Anno: 2014 - Val: 75.66\n",
            "Anno: 2015 - Val: 49.34\n",
            "Anno: 2015 - Val: 232.03\n",
            "Anno: 2016 - Val: 592.97\n",
            "Anno: 2014 - Val: 46.62\n",
            "Anno: 2015 - Val: 28.38\n",
            "Anno: 2014 - Val: 71.88\n",
            "Anno: 2015 - Val: 53.12\n",
            "Anno: 2016 - Val: 140.62\n",
            "Anno: 2017 - Val: 84.38\n",
            "Anno: 2016 - Val: 326.09\n",
            "Anno: 2017 - Val: 923.91\n",
            "Anno: 2016 - Val: 105.56\n",
            "Anno: 2017 - Val: 369.44\n",
            "Anno: 2016 - Val: 221.0\n",
            "Anno: 2017 - Val: 204.0\n",
            "Anno: 2015 - Val: 64.29\n",
            "Anno: 2016 - Val: 160.71\n",
            "Anno: 2014 - Val: 46.94\n",
            "Anno: 2015 - Val: 53.06\n",
            "Anno: 2014 - Val: 54.76\n",
            "Anno: 2015 - Val: 45.24\n",
            "Anno: 2014 - Val: 42.07\n",
            "Anno: 2015 - Val: 32.93\n",
            "Anno: 2014 - Val: 50.0\n",
            "Anno: 2015 - Val: 50.0\n",
            "Anno: 2014 - Val: 59.9\n",
            "Anno: 2015 - Val: 65.1\n",
            "Anno: 2014 - Val: 47.92\n",
            "Anno: 2015 - Val: 2.08\n",
            "Anno: 2014 - Val: 46.94\n",
            "Anno: 2015 - Val: 53.06\n",
            "Anno: 2014 - Val: 33.17\n",
            "Anno: 2015 - Val: 41.83\n",
            "Anno: 2014 - Val: 28.05\n",
            "Anno: 2015 - Val: 21.95\n",
            "Anno: 2014 - Val: 45.39\n",
            "Anno: 2015 - Val: 29.61\n",
            "Anno: 2014 - Val: 167.71\n",
            "Anno: 2015 - Val: 7.29\n",
            "Anno: 2014 - Val: 167.71\n",
            "Anno: 2015 - Val: 7.29\n",
            "Anno: 2014 - Val: 167.71\n",
            "Anno: 2015 - Val: 7.29\n",
            "Anno: 2014 - Val: 23.96\n",
            "Anno: 2015 - Val: 26.04\n",
            "Anno: 2014 - Val: 45.1\n",
            "Anno: 2015 - Val: 54.9\n",
            "Anno: 2014 - Val: 98.17\n",
            "Anno: 2015 - Val: 76.83\n",
            "Anno: 2014 - Val: 56.37\n",
            "Anno: 2015 - Val: 68.63\n",
            "Anno: 2014 - Val: 87.5\n",
            "Anno: 2015 - Val: 87.5\n",
            "Anno: 2014 - Val: 167.71\n",
            "Anno: 2015 - Val: 7.29\n",
            "Anno: 2014 - Val: 176.92\n",
            "Anno: 2015 - Val: 23.08\n",
            "Anno: 2014 - Val: 47.92\n",
            "Anno: 2015 - Val: 52.08\n",
            "Anno: 2014 - Val: 32.55\n",
            "Anno: 2015 - Val: 42.45\n",
            "Anno: 2014 - Val: 176.92\n",
            "Anno: 2015 - Val: 23.08\n",
            "Anno: 2015 - Val: 64.29\n",
            "Anno: 2016 - Val: 85.71\n",
            "Anno: 2014 - Val: 225.89\n",
            "Anno: 2015 - Val: 49.11\n",
            "Anno: 2014 - Val: 359.38\n",
            "Anno: 2015 - Val: 15.62\n",
            "Anno: 2017 - Val: 44.12\n",
            "Anno: 2018 - Val: 80.88\n",
            "Anno: 2014 - Val: 167.71\n",
            "Anno: 2015 - Val: 7.29\n",
            "Anno: 2017 - Val: 60.0\n",
            "Anno: 2018 - Val: 90.0\n",
            "Anno: 2017 - Val: 75.0\n",
            "Anno: 2018 - Val: 100.0\n",
            "Anno: 2014 - Val: 266.96\n",
            "Anno: 2015 - Val: 58.04\n",
            "Anno: 2014 - Val: 158.62\n",
            "Anno: 2015 - Val: 41.38\n",
            "Anno: 2014 - Val: 38.33\n",
            "Anno: 2015 - Val: 11.67\n",
            "Anno: 2014 - Val: 129.84\n",
            "Anno: 2015 - Val: 45.16\n",
            "Anno: 2014 - Val: 57.5\n",
            "Anno: 2015 - Val: 42.5\n",
            "Anno: 2014 - Val: 88.46\n",
            "Anno: 2015 - Val: 11.54\n",
            "Anno: 2014 - Val: 35.94\n",
            "Anno: 2015 - Val: 14.06\n",
            "Anno: 2014 - Val: 53.91\n",
            "Anno: 2015 - Val: 21.09\n",
            "Anno: 2014 - Val: 52.27\n",
            "Anno: 2015 - Val: 22.73\n",
            "Anno: 2014 - Val: 115.0\n",
            "Anno: 2015 - Val: 10.0\n",
            "Anno: 2017 - Val: 18.0\n",
            "Anno: 2018 - Val: 57.0\n",
            "Anno: 2017 - Val: 30.0\n",
            "Anno: 2018 - Val: 70.0\n",
            "Anno: 2014 - Val: 35.94\n",
            "Anno: 2015 - Val: 14.06\n",
            "Anno: 2017 - Val: 25.0\n",
            "Anno: 2018 - Val: 75.0\n",
            "Anno: 2014 - Val: 53.91\n",
            "Anno: 2015 - Val: 21.09\n",
            "Anno: 2014 - Val: 52.27\n",
            "Anno: 2015 - Val: 22.73\n",
            "Anno: 2017 - Val: 17.31\n",
            "Anno: 2018 - Val: 57.69\n",
            "Anno: 2017 - Val: 17.31\n",
            "Anno: 2018 - Val: 57.69\n",
            "Anno: 2017 - Val: 10.0\n",
            "Anno: 2018 - Val: 40.0\n",
            "Anno: 2017 - Val: 9.68\n",
            "Anno: 2018 - Val: 40.32\n",
            "Anno: 2017 - Val: 11.54\n",
            "Anno: 2018 - Val: 38.46\n",
            "Anno: 2014 - Val: 53.91\n",
            "Anno: 2015 - Val: 21.09\n",
            "Anno: 2014 - Val: 52.27\n",
            "Anno: 2015 - Val: 22.73\n",
            "Anno: 2014 - Val: 52.27\n",
            "Anno: 2015 - Val: 22.73\n",
            "Anno: 2014 - Val: 42.59\n",
            "Anno: 2015 - Val: 7.41\n",
            "Anno: 2016 - Val: 0.0\n",
            "Anno: 2017 - Val: 600.0\n",
            "Anno: 2016 - Val: 0.0\n",
            "Anno: 2017 - Val: 525.0\n",
            "Anno: 2016 - Val: 0.0\n",
            "Anno: 2017 - Val: 200.0\n",
            "Anno: 2016 - Val: 0.0\n",
            "Anno: 2017 - Val: 600.0\n",
            "Anno: 2016 - Val: 0.0\n",
            "Anno: 2017 - Val: 200.0\n",
            "Anno: 2014 - Val: 67.65\n",
            "Anno: 2015 - Val: 32.35\n",
            "Anno: 2014 - Val: 312.14\n",
            "Anno: 2015 - Val: 162.86\n",
            "Anno: 2014 - Val: 179.69\n",
            "Anno: 2015 - Val: 70.31\n",
            "Anno: 2014 - Val: 148.39\n",
            "Anno: 2015 - Val: 51.61\n",
            "Anno: 2014 - Val: 161.72\n",
            "Anno: 2015 - Val: 63.28\n",
            "Anno: 2014 - Val: 310.81\n",
            "Anno: 2015 - Val: 189.19\n",
            "Anno: 2014 - Val: 115.0\n",
            "Anno: 2015 - Val: 60.0\n",
            "Anno: 2014 - Val: 121.97\n",
            "Anno: 2015 - Val: 53.03\n",
            "Anno: 2014 - Val: 148.39\n",
            "Anno: 2015 - Val: 51.61\n",
            "Anno: 2016 - Val: 66.67\n",
            "Anno: 2017 - Val: 133.33\n",
            "Anno: 2015 - Val: 58.06\n",
            "Anno: 2016 - Val: 16.94\n",
            "Anno: 2015 - Val: 93.75\n",
            "Anno: 2016 - Val: 31.25\n",
            "Anno: 2015 - Val: 150.0\n",
            "Anno: 2016 - Val: 50.0\n",
            "Anno: 2015 - Val: 320.83\n",
            "Anno: 2016 - Val: 229.17\n",
            "Anno: 2016 - Val: 205.88\n",
            "Anno: 2017 - Val: 144.12\n",
            "Anno: 2014 - Val: 73.72\n",
            "Anno: 2015 - Val: 51.28\n",
            "Anno: 2014 - Val: 115.0\n",
            "Anno: 2015 - Val: 60.0\n",
            "Anno: 2014 - Val: 52.27\n",
            "Anno: 2015 - Val: 22.73\n",
            "Anno: 2014 - Val: 53.91\n",
            "Anno: 2015 - Val: 21.09\n",
            "Anno: 2014 - Val: 101.47\n",
            "Anno: 2015 - Val: 48.53\n",
            "Anno: 2014 - Val: 52.27\n",
            "Anno: 2015 - Val: 22.73\n",
            "Anno: 2014 - Val: 98.57\n",
            "Anno: 2015 - Val: 51.43\n",
            "Anno: 2016 - Val: 0.0\n",
            "Anno: 2017 - Val: 600.0\n",
            "Anno: 2015 - Val: 75.0\n",
            "Anno: 2016 - Val: 25.0\n",
            "Anno: 2016 - Val: 0.0\n",
            "Anno: 2017 - Val: 425.0\n",
            "Anno: 2015 - Val: 75.0\n",
            "Anno: 2016 - Val: 25.0\n",
            "Anno: 2016 - Val: 0.0\n",
            "Anno: 2017 - Val: 600.0\n",
            "Anno: 2016 - Val: 130.43\n",
            "Anno: 2017 - Val: 369.57\n",
            "Anno: 2016 - Val: 70.65\n",
            "Anno: 2017 - Val: 54.35\n",
            "Anno: 2016 - Val: 42.45\n",
            "Anno: 2017 - Val: 32.55\n",
            "Anno: 2014 - Val: 75.66\n",
            "Anno: 2015 - Val: 49.34\n",
            "Anno: 2015 - Val: 96.77\n",
            "Anno: 2016 - Val: 28.23\n",
            "Anno: 2015 - Val: 56.25\n",
            "Anno: 2016 - Val: 18.75\n",
            "Anno: 2016 - Val: 52.42\n",
            "Anno: 2017 - Val: 72.58\n",
            "Anno: 2015 - Val: 70.59\n",
            "Anno: 2016 - Val: 29.41\n",
            "Anno: 2015 - Val: 41.38\n",
            "Anno: 2016 - Val: 8.62\n",
            "Anno: 2015 - Val: 138.46\n",
            "Anno: 2016 - Val: 11.54\n",
            "Anno: 2015 - Val: 85.71\n",
            "Anno: 2016 - Val: 14.29\n",
            "Anno: 2015 - Val: 207.69\n",
            "Anno: 2016 - Val: 17.31\n",
            "Anno: 2015 - Val: 66.67\n",
            "Anno: 2016 - Val: 8.33\n",
            "Anno: 2015 - Val: 92.31\n",
            "Anno: 2016 - Val: 7.69\n",
            "Anno: 2014 - Val: 60.53\n",
            "Anno: 2015 - Val: 39.47\n",
            "Anno: 2014 - Val: 45.39\n",
            "Anno: 2015 - Val: 29.61\n",
            "Anno: 2015 - Val: 315.0\n",
            "Anno: 2016 - Val: 135.0\n",
            "Anno: 2014 - Val: 39.66\n",
            "Anno: 2015 - Val: 10.34\n",
            "Anno: 2014 - Val: 35.94\n",
            "Anno: 2015 - Val: 14.06\n",
            "Anno: 2014 - Val: 53.91\n",
            "Anno: 2015 - Val: 21.09\n",
            "Anno: 2014 - Val: 53.91\n",
            "Anno: 2015 - Val: 21.09\n",
            "Anno: 2017 - Val: 18.0\n",
            "Anno: 2018 - Val: 57.0\n",
            "Anno: 2014 - Val: 33.17\n",
            "Anno: 2015 - Val: 41.83\n",
            "Anno: 2014 - Val: 167.71\n",
            "Anno: 2015 - Val: 7.29\n",
            "Anno: 2014 - Val: 331.73\n",
            "Anno: 2015 - Val: 43.27\n",
            "Anno: 2014 - Val: 56.37\n",
            "Anno: 2015 - Val: 68.63\n",
            "Anno: 2014 - Val: 54.76\n",
            "Anno: 2015 - Val: 45.24\n",
            "Anno: 2014 - Val: 32.55\n",
            "Anno: 2015 - Val: 42.45\n",
            "Anno: 2014 - Val: 50.0\n",
            "Anno: 2015 - Val: 50.0\n",
            "Anno: 2014 - Val: 56.37\n",
            "Anno: 2015 - Val: 68.63\n",
            "Anno: 2016 - Val: 198.11\n",
            "Anno: 2017 - Val: 151.89\n",
            "Anno: 2014 - Val: 18.55\n",
            "Anno: 2015 - Val: 6.45\n",
            "Anno: 2017 - Val: 41.67\n",
            "Anno: 2018 - Val: 83.33\n",
            "Anno: 2014 - Val: 37.1\n",
            "Anno: 2015 - Val: 12.9\n",
            "Anno: 2014 - Val: 158.62\n",
            "Anno: 2015 - Val: 41.38\n",
            "Anno: 2014 - Val: 138.0\n",
            "Anno: 2015 - Val: 12.0\n",
            "Anno: 2014 - Val: 143.75\n",
            "Anno: 2015 - Val: 6.25\n",
            "Anno: 2014 - Val: 33.82\n",
            "Anno: 2015 - Val: 41.18\n",
            "Anno: 2014 - Val: 32.55\n",
            "Anno: 2015 - Val: 42.45\n",
            "Anno: 2014 - Val: 71.88\n",
            "Anno: 2015 - Val: 78.12\n",
            "Anno: 2014 - Val: 62.5\n",
            "Anno: 2015 - Val: 62.5\n",
            "Anno: 2014 - Val: 50.0\n",
            "Anno: 2015 - Val: 50.0\n",
            "Anno: 2014 - Val: 32.55\n",
            "Anno: 2015 - Val: 42.45\n",
            "Anno: 2014 - Val: 32.55\n",
            "Anno: 2015 - Val: 42.45\n",
            "Anno: 2014 - Val: 167.71\n",
            "Anno: 2015 - Val: 7.29\n",
            "Anno: 2014 - Val: 176.92\n",
            "Anno: 2015 - Val: 23.08\n",
            "Anno: 2014 - Val: 178.45\n",
            "Anno: 2015 - Val: 46.55\n",
            "Anno: 2014 - Val: 37.1\n",
            "Anno: 2015 - Val: 12.9\n",
            "Anno: 2017 - Val: 60.0\n",
            "Anno: 2018 - Val: 90.0\n",
            "Anno: 2017 - Val: 64.29\n",
            "Anno: 2018 - Val: 85.71\n",
            "Anno: 2016 - Val: 242.86\n",
            "Anno: 2017 - Val: 182.14\n",
            "Anno: 2017 - Val: 11.11\n",
            "Anno: 2018 - Val: 38.89\n",
            "Anno: 2016 - Val: 300.0\n",
            "Anno: 2017 - Val: 250.0\n",
            "Anno: 2014 - Val: 35.94\n",
            "Anno: 2015 - Val: 14.06\n",
            "Anno: 2014 - Val: 52.27\n",
            "Anno: 2015 - Val: 22.73\n",
            "Anno: 2015 - Val: 128.57\n",
            "Anno: 2016 - Val: 21.43\n",
            "Anno: 2015 - Val: 200.0\n",
            "Anno: 2016 - Val: 25.0\n",
            "Anno: 2015 - Val: 230.77\n",
            "Anno: 2016 - Val: 19.23\n",
            "Anno: 2015 - Val: 88.89\n",
            "Anno: 2016 - Val: 11.11\n",
            "Anno: 2014 - Val: 87.5\n",
            "Anno: 2015 - Val: 87.5\n",
            "Anno: 2014 - Val: 176.92\n",
            "Anno: 2015 - Val: 23.08\n",
            "Anno: 2014 - Val: 33.17\n",
            "Anno: 2015 - Val: 41.83\n",
            "Anno: 2014 - Val: 54.76\n",
            "Anno: 2015 - Val: 45.24\n",
            "Anno: 2014 - Val: 44.23\n",
            "Anno: 2015 - Val: 30.77\n",
            "Anno: 2014 - Val: 23.96\n",
            "Anno: 2015 - Val: 26.04\n",
            "Anno: 2014 - Val: 45.1\n",
            "Anno: 2015 - Val: 54.9\n",
            "Anno: 2014 - Val: 225.89\n",
            "Anno: 2015 - Val: 49.11\n",
            "Anno: 2014 - Val: 95.83\n",
            "Anno: 2015 - Val: 54.17\n",
            "Anno: 2017 - Val: 25.0\n",
            "Anno: 2018 - Val: 75.0\n",
            "Anno: 2017 - Val: 30.0\n",
            "Anno: 2018 - Val: 70.0\n",
            "Anno: 2014 - Val: 18.55\n",
            "Anno: 2015 - Val: 6.45\n",
            "Anno: 2014 - Val: 178.45\n",
            "Anno: 2015 - Val: 46.55\n",
            "Anno: 2014 - Val: 37.1\n",
            "Anno: 2015 - Val: 12.9\n",
            "Anno: 2014 - Val: 37.1\n",
            "Anno: 2015 - Val: 12.9\n",
            "Anno: 2014 - Val: 33.82\n",
            "Anno: 2015 - Val: 41.18\n",
            "Anno: 2014 - Val: 54.76\n",
            "Anno: 2015 - Val: 45.24\n",
            "Anno: 2014 - Val: 54.76\n",
            "Anno: 2015 - Val: 45.24\n",
            "Anno: 2014 - Val: 32.55\n",
            "Anno: 2015 - Val: 42.45\n",
            "Anno: 2014 - Val: 54.76\n",
            "Anno: 2015 - Val: 45.24\n",
            "Anno: 2014 - Val: 59.9\n",
            "Anno: 2015 - Val: 65.1\n",
            "Anno: 2014 - Val: 178.45\n",
            "Anno: 2015 - Val: 46.55\n",
            "Anno: 2014 - Val: 38.33\n",
            "Anno: 2015 - Val: 11.67\n",
            "Anno: 2014 - Val: 71.88\n",
            "Anno: 2015 - Val: 78.12\n",
            "Anno: 2014 - Val: 143.75\n",
            "Anno: 2015 - Val: 6.25\n",
            "Anno: 2014 - Val: 33.17\n",
            "Anno: 2015 - Val: 41.83\n",
            "Anno: 2014 - Val: 42.07\n",
            "Anno: 2015 - Val: 32.93\n",
            "Anno: 2014 - Val: 33.17\n",
            "Anno: 2015 - Val: 41.83\n",
            "Anno: 2014 - Val: 176.92\n",
            "Anno: 2015 - Val: 23.08\n",
            "Anno: 2014 - Val: 28.05\n",
            "Anno: 2015 - Val: 21.95\n",
            "Anno: 2014 - Val: 46.94\n",
            "Anno: 2015 - Val: 53.06\n",
            "Anno: 2014 - Val: 33.82\n",
            "Anno: 2015 - Val: 41.18\n",
            "Anno: 2017 - Val: 10.0\n",
            "Anno: 2018 - Val: 40.0\n",
            "Anno: 2017 - Val: 17.31\n",
            "Anno: 2018 - Val: 57.69\n",
            "Anno: 2017 - Val: 18.97\n",
            "Anno: 2018 - Val: 531.03\n",
            "Anno: 2017 - Val: 11.11\n",
            "Anno: 2018 - Val: 38.89\n",
            "Anno: 2017 - Val: 19.44\n",
            "Anno: 2018 - Val: 505.56\n",
            "Anno: 2017 - Val: 17.31\n",
            "Anno: 2018 - Val: 57.69\n",
            "Anno: 2014 - Val: 121.97\n",
            "Anno: 2015 - Val: 53.03\n",
            "Anno: 2014 - Val: 49.29\n",
            "Anno: 2015 - Val: 25.71\n",
            "Anno: 2014 - Val: 326.35\n",
            "Anno: 2015 - Val: 198.65\n",
            "Anno: 2014 - Val: 148.39\n",
            "Anno: 2015 - Val: 51.61\n",
            "Anno: 2017 - Val: 11.11\n",
            "Anno: 2018 - Val: 38.89\n",
            "Anno: 2017 - Val: 19.64\n",
            "Anno: 2018 - Val: 530.36\n",
            "Anno: 2017 - Val: 10.0\n",
            "Anno: 2018 - Val: 40.0\n",
            "Anno: 2014 - Val: 56.37\n",
            "Anno: 2015 - Val: 68.63\n",
            "Anno: 2014 - Val: 33.17\n",
            "Anno: 2015 - Val: 41.83\n",
            "Anno: 2014 - Val: 70.12\n",
            "Anno: 2015 - Val: 54.88\n",
            "Anno: 2014 - Val: 47.92\n",
            "Anno: 2015 - Val: 52.08\n",
            "Anno: 2014 - Val: 61.17\n",
            "Anno: 2015 - Val: 63.83\n",
            "Anno: 2014 - Val: 54.76\n",
            "Anno: 2015 - Val: 45.24\n",
            "Anno: 2014 - Val: 47.92\n",
            "Anno: 2015 - Val: 2.08\n",
            "Anno: 2014 - Val: 23.96\n",
            "Anno: 2015 - Val: 26.04\n",
            "Anno: 2014 - Val: 47.92\n",
            "Anno: 2015 - Val: 52.08\n",
            "Anno: 2014 - Val: 33.82\n",
            "Anno: 2015 - Val: 41.18\n",
            "Anno: 2014 - Val: 178.45\n",
            "Anno: 2015 - Val: 46.55\n",
            "Anno: 2014 - Val: 37.1\n",
            "Anno: 2015 - Val: 12.9\n",
            "Anno: 2014 - Val: 143.75\n",
            "Anno: 2015 - Val: 6.25\n",
            "Anno: 2014 - Val: 57.5\n",
            "Anno: 2015 - Val: 17.5\n",
            "Anno: 2014 - Val: 158.62\n",
            "Anno: 2015 - Val: 41.38\n",
            "Anno: 2014 - Val: 129.84\n",
            "Anno: 2015 - Val: 45.16\n",
            "Anno: 2015 - Val: 115.38\n",
            "Anno: 2016 - Val: 9.62\n",
            "Anno: 2015 - Val: 230.77\n",
            "Anno: 2016 - Val: 19.23\n",
            "Anno: 2015 - Val: 69.23\n",
            "Anno: 2016 - Val: 5.77\n",
            "Anno: 2015 - Val: 88.89\n",
            "Anno: 2016 - Val: 11.11\n",
            "Anno: 2015 - Val: 207.69\n",
            "Anno: 2016 - Val: 17.31\n",
            "Anno: 2015 - Val: 44.44\n",
            "Anno: 2016 - Val: 5.56\n",
            "Anno: 2014 - Val: 372.97\n",
            "Anno: 2015 - Val: 227.03\n",
            "Anno: 2014 - Val: 179.69\n",
            "Anno: 2015 - Val: 70.31\n",
            "Anno: 2014 - Val: 33.82\n",
            "Anno: 2015 - Val: 16.18\n",
            "Anno: 2014 - Val: 98.57\n",
            "Anno: 2015 - Val: 51.43\n",
            "Anno: 2014 - Val: 121.97\n",
            "Anno: 2015 - Val: 53.03\n",
            "Anno: 2014 - Val: 191.67\n",
            "Anno: 2015 - Val: 83.33\n",
            "Anno: 2014 - Val: 115.0\n",
            "Anno: 2015 - Val: 60.0\n",
            "Anno: 2014 - Val: 39.66\n",
            "Anno: 2015 - Val: 10.34\n",
            "Anno: 2015 - Val: 88.89\n",
            "Anno: 2016 - Val: 11.11\n",
            "Anno: 2015 - Val: 85.71\n",
            "Anno: 2016 - Val: 14.29\n",
            "Anno: 2015 - Val: 88.89\n",
            "Anno: 2016 - Val: 11.11\n",
            "Anno: 2015 - Val: 155.56\n",
            "Anno: 2016 - Val: 19.44\n",
            "Anno: 2015 - Val: 161.54\n",
            "Anno: 2016 - Val: 13.46\n",
            "Anno: 2016 - Val: 113.21\n",
            "Anno: 2017 - Val: 86.79\n",
            "Anno: 2014 - Val: 59.9\n",
            "Anno: 2015 - Val: 65.1\n",
            "Anno: 2014 - Val: 33.82\n",
            "Anno: 2015 - Val: 41.18\n",
            "Anno: 2014 - Val: 32.55\n",
            "Anno: 2015 - Val: 42.45\n",
            "Anno: 2014 - Val: 205.36\n",
            "Anno: 2015 - Val: 44.64\n",
            "Anno: 2014 - Val: 54.76\n",
            "Anno: 2015 - Val: 45.24\n",
            "Anno: 2014 - Val: 33.82\n",
            "Anno: 2015 - Val: 41.18\n",
            "Anno: 2014 - Val: 407.29\n",
            "Anno: 2015 - Val: 17.71\n",
            "Anno: 2014 - Val: 167.71\n",
            "Anno: 2015 - Val: 7.29\n",
            "Anno: 2014 - Val: 54.76\n",
            "Anno: 2015 - Val: 45.24\n",
            "Anno: 2014 - Val: 59.9\n",
            "Anno: 2015 - Val: 65.1\n",
            "Anno: 2014 - Val: 46.94\n",
            "Anno: 2015 - Val: 53.06\n",
            "Anno: 2014 - Val: 54.76\n",
            "Anno: 2015 - Val: 45.24\n",
            "Anno: 2014 - Val: 33.17\n",
            "Anno: 2015 - Val: 41.83\n",
            "Anno: 2014 - Val: 176.92\n",
            "Anno: 2015 - Val: 23.08\n",
            "Anno: 2014 - Val: 71.88\n",
            "Anno: 2015 - Val: 78.12\n",
            "Anno: 2014 - Val: 205.36\n",
            "Anno: 2015 - Val: 44.64\n",
            "Anno: 2014 - Val: 121.97\n",
            "Anno: 2015 - Val: 53.03\n",
            "Anno: 2014 - Val: 121.97\n",
            "Anno: 2015 - Val: 53.03\n",
            "Anno: 2014 - Val: 166.94\n",
            "Anno: 2015 - Val: 58.06\n",
            "Anno: 2017 - Val: 46.88\n",
            "Anno: 2018 - Val: 78.12\n",
            "Anno: 2015 - Val: 150.0\n",
            "Anno: 2016 - Val: 25.0\n",
            "Anno: 2015 - Val: 184.62\n",
            "Anno: 2016 - Val: 15.38\n",
            "Anno: 2015 - Val: 244.44\n",
            "Anno: 2016 - Val: 30.56\n",
            "Anno: 2015 - Val: 115.38\n",
            "Anno: 2016 - Val: 9.62\n",
            "Anno: 2015 - Val: 88.89\n",
            "Anno: 2016 - Val: 11.11\n",
            "Anno: 2015 - Val: 276.92\n",
            "Anno: 2016 - Val: 23.08\n",
            "Anno: 2015 - Val: 22.22\n",
            "Anno: 2016 - Val: 2.78\n",
            "Anno: 2015 - Val: 85.71\n",
            "Anno: 2016 - Val: 14.29\n",
            "Anno: 2015 - Val: 88.89\n",
            "Anno: 2016 - Val: 11.11\n",
            "Anno: 2014 - Val: 166.94\n",
            "Anno: 2015 - Val: 58.06\n",
            "Anno: 2014 - Val: 277.59\n",
            "Anno: 2015 - Val: 72.41\n",
            "Anno: 2015 - Val: 177.78\n",
            "Anno: 2016 - Val: 22.22\n",
            "Anno: 2015 - Val: 44.44\n",
            "Anno: 2016 - Val: 5.56\n",
            "Anno: 2015 - Val: 42.86\n",
            "Anno: 2016 - Val: 7.14\n",
            "Anno: 2015 - Val: 88.89\n",
            "Anno: 2016 - Val: 11.11\n",
            "Anno: 2015 - Val: 323.08\n",
            "Anno: 2016 - Val: 26.92\n",
            "Anno: 2015 - Val: 230.77\n",
            "Anno: 2016 - Val: 19.23\n",
            "Anno: 2015 - Val: 42.86\n",
            "Anno: 2016 - Val: 7.14\n",
            "Anno: 2015 - Val: 66.67\n",
            "Anno: 2016 - Val: 8.33\n",
            "Anno: 2015 - Val: 88.89\n",
            "Anno: 2016 - Val: 11.11\n",
            "Anno: 2015 - Val: 75.0\n",
            "Anno: 2016 - Val: 25.0\n",
            "Anno: 2016 - Val: 98.91\n",
            "Anno: 2017 - Val: 76.09\n",
            "Anno: 2016 - Val: 100.0\n",
            "Anno: 2017 - Val: 200.0\n",
            "Anno: 2016 - Val: 335.48\n",
            "Anno: 2017 - Val: 464.52\n",
            "Anno: 2016 - Val: 0.0\n",
            "Anno: 2017 - Val: 600.0\n",
            "Anno: 2015 - Val: 56.25\n",
            "Anno: 2016 - Val: 18.75\n",
            "Anno: 2016 - Val: 0.0\n",
            "Anno: 2017 - Val: 300.0\n",
            "Anno: 2016 - Val: 83.33\n",
            "Anno: 2017 - Val: 166.67\n",
            "Anno: 2016 - Val: 0.0\n",
            "Anno: 2017 - Val: 375.0\n",
            "Anno: 2016 - Val: 56.52\n",
            "Anno: 2017 - Val: 43.48\n",
            "Anno: 2016 - Val: 104.35\n",
            "Anno: 2017 - Val: 295.65\n",
            "Anno: 2016 - Val: 159.57\n",
            "Anno: 2017 - Val: 90.43\n",
            "Anno: 2016 - Val: 200.0\n",
            "Anno: 2017 - Val: 600.0\n",
            "Anno: 2016 - Val: 96.77\n",
            "Anno: 2017 - Val: 53.23\n",
            "Anno: 2016 - Val: 272.58\n",
            "Anno: 2017 - Val: 377.42\n",
            "Anno: 2016 - Val: 470.59\n",
            "Anno: 2017 - Val: 329.41\n",
            "Anno: 2016 - Val: 235.29\n",
            "Anno: 2017 - Val: 164.71\n",
            "Anno: 2015 - Val: 96.77\n",
            "Anno: 2016 - Val: 28.23\n",
            "Anno: 2016 - Val: 87.93\n",
            "Anno: 2017 - Val: 337.07\n",
            "Anno: 2016 - Val: 83.33\n",
            "Anno: 2017 - Val: 291.67\n",
            "Anno: 2015 - Val: 233.33\n",
            "Anno: 2016 - Val: 166.67\n",
            "Anno: 2015 - Val: 233.33\n",
            "Anno: 2016 - Val: 166.67\n",
            "Anno: 2015 - Val: 35.0\n",
            "Anno: 2016 - Val: 15.0\n",
            "Anno: 2015 - Val: 175.0\n",
            "Anno: 2016 - Val: 75.0\n",
            "Anno: 2015 - Val: 157.5\n",
            "Anno: 2016 - Val: 67.5\n",
            "Anno: 2015 - Val: 160.71\n",
            "Anno: 2016 - Val: 214.29\n",
            "Anno: 2014 - Val: 57.5\n",
            "Anno: 2015 - Val: 42.5\n",
            "Anno: 2014 - Val: 75.66\n",
            "Anno: 2015 - Val: 49.34\n",
            "Anno: 2014 - Val: 52.27\n",
            "Anno: 2015 - Val: 22.73\n",
            "Anno: 2014 - Val: 161.0\n",
            "Anno: 2015 - Val: 14.0\n",
            "Anno: 2014 - Val: 98.57\n",
            "Anno: 2015 - Val: 51.43\n",
            "Anno: 2014 - Val: 95.83\n",
            "Anno: 2015 - Val: 54.17\n",
            "Anno: 2017 - Val: 25.0\n",
            "Anno: 2018 - Val: 75.0\n",
            "Anno: 2017 - Val: 18.0\n",
            "Anno: 2018 - Val: 57.0\n",
            "Anno: 2016 - Val: 160.71\n",
            "Anno: 2017 - Val: 64.29\n",
            "Anno: 2016 - Val: 46.88\n",
            "Anno: 2017 - Val: 28.12\n",
            "Anno: 2015 - Val: 112.5\n",
            "Anno: 2016 - Val: 37.5\n",
            "Anno: 2016 - Val: 0.0\n",
            "Anno: 2017 - Val: 400.0\n",
            "Anno: 2016 - Val: 0.0\n",
            "Anno: 2017 - Val: 200.0\n",
            "Anno: 2016 - Val: 0.0\n",
            "Anno: 2017 - Val: 250.0\n",
            "Anno: 2016 - Val: 0.0\n",
            "Anno: 2017 - Val: 200.0\n",
            "Anno: 2016 - Val: 46.88\n",
            "Anno: 2017 - Val: 28.12\n",
            "Anno: 2016 - Val: 127.78\n",
            "Anno: 2017 - Val: 447.22\n",
            "Anno: 2016 - Val: 77.78\n",
            "Anno: 2017 - Val: 272.22\n",
            "Anno: 2016 - Val: 375.0\n",
            "Anno: 2017 - Val: 150.0\n",
            "Anno: 2015 - Val: 540.0\n",
            "Anno: 2016 - Val: 810.0\n",
            "Anno: 2015 - Val: 75.0\n",
            "Anno: 2016 - Val: 25.0\n",
            "Anno: 2016 - Val: 98.91\n",
            "Anno: 2017 - Val: 76.09\n",
            "Anno: 2014 - Val: 46.62\n",
            "Anno: 2015 - Val: 28.38\n",
            "Anno: 2014 - Val: 71.88\n",
            "Anno: 2015 - Val: 53.12\n",
            "Anno: 2014 - Val: 58.97\n",
            "Anno: 2015 - Val: 41.03\n",
            "Anno: 2016 - Val: 281.25\n",
            "Anno: 2017 - Val: 168.75\n",
            "Anno: 2016 - Val: 75.0\n",
            "Anno: 2017 - Val: 150.0\n",
            "Anno: 2015 - Val: 182.0\n",
            "Anno: 2016 - Val: 143.0\n",
            "Anno: 2014 - Val: 59.9\n",
            "Anno: 2015 - Val: 65.1\n",
            "Anno: 2014 - Val: 33.17\n",
            "Anno: 2015 - Val: 41.83\n",
            "Anno: 2014 - Val: 56.37\n",
            "Anno: 2015 - Val: 68.63\n",
            "Anno: 2014 - Val: 59.9\n",
            "Anno: 2015 - Val: 65.1\n",
            "Anno: 2015 - Val: 64.29\n",
            "Anno: 2016 - Val: 85.71\n",
            "Anno: 2015 - Val: 140.0\n",
            "Anno: 2016 - Val: 60.0\n",
            "Anno: 2014 - Val: 46.62\n",
            "Anno: 2015 - Val: 28.38\n",
            "Anno: 2014 - Val: 45.39\n",
            "Anno: 2015 - Val: 29.61\n",
            "Anno: 2014 - Val: 46.62\n",
            "Anno: 2015 - Val: 28.38\n",
            "Anno: 2014 - Val: 71.88\n",
            "Anno: 2015 - Val: 53.12\n",
            "Anno: 2014 - Val: 50.0\n",
            "Anno: 2015 - Val: 50.0\n",
            "Anno: 2014 - Val: 50.0\n",
            "Anno: 2015 - Val: 50.0\n",
            "Anno: 2014 - Val: 54.76\n",
            "Anno: 2015 - Val: 45.24\n",
            "Anno: 2014 - Val: 48.94\n",
            "Anno: 2015 - Val: 51.06\n",
            "Anno: 2014 - Val: 527.08\n",
            "Anno: 2015 - Val: 22.92\n",
            "Anno: 2014 - Val: 47.92\n",
            "Anno: 2015 - Val: 2.08\n",
            "Anno: 2014 - Val: 54.76\n",
            "Anno: 2015 - Val: 45.24\n",
            "Anno: 2014 - Val: 143.75\n",
            "Anno: 2015 - Val: 6.25\n",
            "Anno: 2014 - Val: 54.76\n",
            "Anno: 2015 - Val: 45.24\n",
            "Anno: 2014 - Val: 33.82\n",
            "Anno: 2015 - Val: 41.18\n",
            "Anno: 2014 - Val: 18.55\n",
            "Anno: 2015 - Val: 6.45\n",
            "Anno: 2014 - Val: 47.92\n",
            "Anno: 2015 - Val: 52.08\n",
            "Anno: 2014 - Val: 56.1\n",
            "Anno: 2015 - Val: 43.9\n",
            "Anno: 2014 - Val: 50.0\n",
            "Anno: 2015 - Val: 50.0\n",
            "Anno: 2014 - Val: 143.75\n",
            "Anno: 2015 - Val: 6.25\n",
            "Anno: 2014 - Val: 38.33\n",
            "Anno: 2015 - Val: 11.67\n",
            "Anno: 2014 - Val: 167.71\n",
            "Anno: 2015 - Val: 7.29\n",
            "Anno: 2014 - Val: 37.1\n",
            "Anno: 2015 - Val: 12.9\n",
            "Anno: 2017 - Val: 46.88\n",
            "Anno: 2018 - Val: 78.12\n",
            "Anno: 2014 - Val: 46.62\n",
            "Anno: 2015 - Val: 28.38\n",
            "Anno: 2014 - Val: 45.39\n",
            "Anno: 2015 - Val: 29.61\n",
            "Anno: 2017 - Val: 46.88\n",
            "Anno: 2018 - Val: 78.12\n",
            "Anno: 2017 - Val: 64.29\n",
            "Anno: 2018 - Val: 85.71\n",
            "Anno: 2017 - Val: 46.88\n",
            "Anno: 2018 - Val: 78.12\n",
            "Anno: 2016 - Val: 274.39\n",
            "Anno: 2017 - Val: 100.61\n",
            "Anno: 2014 - Val: 52.27\n",
            "Anno: 2015 - Val: 22.73\n",
            "Anno: 2014 - Val: 52.27\n",
            "Anno: 2015 - Val: 22.73\n",
            "Anno: 2014 - Val: 98.57\n",
            "Anno: 2015 - Val: 51.43\n",
            "Anno: 2014 - Val: 127.78\n",
            "Anno: 2015 - Val: 22.22\n",
            "Anno: 2014 - Val: 115.0\n",
            "Anno: 2015 - Val: 35.0\n",
            "Anno: 2017 - Val: 30.0\n",
            "Anno: 2018 - Val: 70.0\n",
            "Anno: 2014 - Val: 37.1\n",
            "Anno: 2015 - Val: 12.9\n",
            "Anno: 2017 - Val: 33.33\n",
            "Anno: 2018 - Val: 66.67\n",
            "Anno: 2017 - Val: 31.58\n",
            "Anno: 2018 - Val: 68.42\n",
            "Anno: 2014 - Val: 52.27\n",
            "Anno: 2015 - Val: 22.73\n",
            "Anno: 2014 - Val: 110.58\n",
            "Anno: 2015 - Val: 14.42\n",
            "Anno: 2014 - Val: 53.91\n",
            "Anno: 2015 - Val: 21.09\n",
            "Anno: 2014 - Val: 166.94\n",
            "Anno: 2015 - Val: 58.06\n",
            "Anno: 2014 - Val: 50.74\n",
            "Anno: 2015 - Val: 24.26\n",
            "Anno: 2014 - Val: 82.14\n",
            "Anno: 2015 - Val: 42.86\n",
            "Anno: 2014 - Val: 191.67\n",
            "Anno: 2015 - Val: 83.33\n",
            "Anno: 2016 - Val: 0.0\n",
            "Anno: 2017 - Val: 600.0\n",
            "Anno: 2016 - Val: 0.0\n",
            "Anno: 2017 - Val: 475.0\n",
            "Anno: 2016 - Val: 0.0\n",
            "Anno: 2017 - Val: 350.0\n",
            "Anno: 2017 - Val: 10.0\n",
            "Anno: 2018 - Val: 40.0\n",
            "Anno: 2015 - Val: 112.5\n",
            "Anno: 2016 - Val: 37.5\n",
            "Anno: 2015 - Val: 80.0\n",
            "Anno: 2016 - Val: 20.0\n",
            "Anno: 2015 - Val: 92.31\n",
            "Anno: 2016 - Val: 57.69\n",
            "Anno: 2014 - Val: 58.97\n",
            "Anno: 2015 - Val: 41.03\n",
            "Anno: 2014 - Val: 73.72\n",
            "Anno: 2015 - Val: 51.28\n",
            "Anno: 2014 - Val: 57.5\n",
            "Anno: 2015 - Val: 42.5\n",
            "Anno: 2014 - Val: 121.97\n",
            "Anno: 2015 - Val: 53.03\n",
            "Anno: 2014 - Val: 115.0\n",
            "Anno: 2015 - Val: 35.0\n",
            "Anno: 2014 - Val: 35.94\n",
            "Anno: 2015 - Val: 14.06\n",
            "Anno: 2017 - Val: 18.0\n",
            "Anno: 2018 - Val: 57.0\n",
            "Anno: 2017 - Val: 17.31\n",
            "Anno: 2018 - Val: 57.69\n",
            "Anno: 2016 - Val: 100.0\n",
            "Anno: 2017 - Val: 50.0\n",
            "Anno: 2016 - Val: 121.88\n",
            "Anno: 2017 - Val: 103.12\n",
            "Anno: 2016 - Val: 30.3\n",
            "Anno: 2017 - Val: 19.7\n",
            "Anno: 2015 - Val: 168.75\n",
            "Anno: 2016 - Val: 56.25\n",
            "Anno: 2016 - Val: 0.0\n",
            "Anno: 2017 - Val: 475.0\n",
            "Anno: 2016 - Val: 285.71\n",
            "Anno: 2017 - Val: 114.29\n",
            "Anno: 2015 - Val: 72.73\n",
            "Anno: 2016 - Val: 27.27\n",
            "Anno: 2016 - Val: 0.0\n",
            "Anno: 2017 - Val: 825.0\n",
            "Anno: 2016 - Val: 0.0\n",
            "Anno: 2017 - Val: 300.0\n",
            "Anno: 2016 - Val: 0.0\n",
            "Anno: 2017 - Val: 825.0\n",
            "Anno: 2015 - Val: 287.5\n",
            "Anno: 2016 - Val: 287.5\n",
            "Anno: 2016 - Val: 339.29\n",
            "Anno: 2017 - Val: 135.71\n",
            "Anno: 2015 - Val: 168.75\n",
            "Anno: 2016 - Val: 56.25\n",
            "Anno: 2014 - Val: 60.53\n",
            "Anno: 2015 - Val: 39.47\n",
            "Anno: 2015 - Val: 175.0\n",
            "Anno: 2016 - Val: 75.0\n",
            "Anno: 2016 - Val: 190.91\n",
            "Anno: 2017 - Val: 159.09\n",
            "Anno: 2016 - Val: 83.33\n",
            "Anno: 2017 - Val: 66.67\n",
            "Anno: 2015 - Val: 332.5\n",
            "Anno: 2016 - Val: 142.5\n",
            "Anno: 2015 - Val: 323.08\n",
            "Anno: 2016 - Val: 201.92\n",
            "Anno: 2015 - Val: 469.51\n",
            "Anno: 2016 - Val: 905.49\n",
            "Anno: 2015 - Val: 52.5\n",
            "Anno: 2016 - Val: 22.5\n",
            "Anno: 2014 - Val: 46.62\n",
            "Anno: 2015 - Val: 28.38\n",
            "Anno: 2014 - Val: 45.39\n",
            "Anno: 2015 - Val: 29.61\n",
            "Anno: 2015 - Val: 93.75\n",
            "Anno: 2016 - Val: 31.25\n",
            "Anno: 2017 - Val: 30.0\n",
            "Anno: 2018 - Val: 70.0\n",
            "Anno: 2015 - Val: 138.46\n",
            "Anno: 2016 - Val: 11.54\n",
            "Anno: 2015 - Val: 207.69\n",
            "Anno: 2016 - Val: 17.31\n",
            "Anno: 2014 - Val: 71.88\n",
            "Anno: 2015 - Val: 53.12\n",
            "Anno: 2014 - Val: 71.88\n",
            "Anno: 2015 - Val: 53.12\n",
            "Anno: 2014 - Val: 58.97\n",
            "Anno: 2015 - Val: 41.03\n",
            "Anno: 2016 - Val: 127.36\n",
            "Anno: 2017 - Val: 97.64\n",
            "Anno: 2014 - Val: 52.27\n",
            "Anno: 2015 - Val: 22.73\n",
            "Anno: 2014 - Val: 95.83\n",
            "Anno: 2015 - Val: 54.17\n",
            "Anno: 2017 - Val: 33.33\n",
            "Anno: 2018 - Val: 66.67\n",
            "Anno: 2016 - Val: 127.36\n",
            "Anno: 2017 - Val: 97.64\n",
            "Anno: 2014 - Val: 23.96\n",
            "Anno: 2015 - Val: 26.04\n",
            "Anno: 2014 - Val: 33.17\n",
            "Anno: 2015 - Val: 41.83\n",
            "Anno: 2014 - Val: 167.71\n",
            "Anno: 2015 - Val: 7.29\n",
            "Anno: 2014 - Val: 178.45\n",
            "Anno: 2015 - Val: 46.55\n",
            "Anno: 2014 - Val: 48.94\n",
            "Anno: 2015 - Val: 51.06\n",
            "Anno: 2014 - Val: 67.65\n",
            "Anno: 2015 - Val: 82.35\n",
            "Anno: 2014 - Val: 167.71\n",
            "Anno: 2015 - Val: 7.29\n",
            "Anno: 2014 - Val: 176.92\n",
            "Anno: 2015 - Val: 23.08\n",
            "Anno: 2014 - Val: 50.0\n",
            "Anno: 2015 - Val: 50.0\n",
            "Anno: 2014 - Val: 59.9\n",
            "Anno: 2015 - Val: 65.1\n",
            "Anno: 2017 - Val: 175.0\n",
            "Anno: 2018 - Val: 175.0\n",
            "Anno: 2014 - Val: 59.9\n",
            "Anno: 2015 - Val: 65.1\n",
            "Anno: 2014 - Val: 54.76\n",
            "Anno: 2015 - Val: 45.24\n",
            "Anno: 2014 - Val: 694.79\n",
            "Anno: 2015 - Val: 30.21\n",
            "Anno: 2015 - Val: 80.0\n",
            "Anno: 2016 - Val: 20.0\n",
            "Anno: 2014 - Val: 56.37\n",
            "Anno: 2015 - Val: 68.63\n",
            "Anno: 2014 - Val: 33.17\n",
            "Anno: 2015 - Val: 41.83\n",
            "Anno: 2014 - Val: 178.45\n",
            "Anno: 2015 - Val: 46.55\n",
            "Anno: 2014 - Val: 37.1\n",
            "Anno: 2015 - Val: 12.9\n",
            "Anno: 2014 - Val: 59.9\n",
            "Anno: 2015 - Val: 65.1\n",
            "Anno: 2014 - Val: 56.37\n",
            "Anno: 2015 - Val: 68.63\n",
            "Anno: 2014 - Val: 158.62\n",
            "Anno: 2015 - Val: 41.38\n",
            "Anno: 2014 - Val: 50.0\n",
            "Anno: 2015 - Val: 50.0\n",
            "Anno: 2014 - Val: 47.92\n",
            "Anno: 2015 - Val: 52.08\n",
            "Anno: 2014 - Val: 246.43\n",
            "Anno: 2015 - Val: 53.57\n",
            "Anno: 2014 - Val: 33.82\n",
            "Anno: 2015 - Val: 41.18\n",
            "Anno: 2014 - Val: 32.55\n",
            "Anno: 2015 - Val: 42.45\n",
            "Anno: 2014 - Val: 176.92\n",
            "Anno: 2015 - Val: 23.08\n",
            "Anno: 2014 - Val: 37.1\n",
            "Anno: 2015 - Val: 12.9\n",
            "Anno: 2017 - Val: 44.12\n",
            "Anno: 2018 - Val: 80.88\n",
            "Anno: 2017 - Val: 44.12\n",
            "Anno: 2018 - Val: 80.88\n",
            "Anno: 2016 - Val: 228.57\n",
            "Anno: 2017 - Val: 171.43\n",
            "Anno: 2017 - Val: 18.0\n",
            "Anno: 2018 - Val: 57.0\n",
            "Anno: 2014 - Val: 118.97\n",
            "Anno: 2015 - Val: 31.03\n",
            "Anno: 2014 - Val: 66.35\n",
            "Anno: 2015 - Val: 8.65\n",
            "Anno: 2015 - Val: 66.67\n",
            "Anno: 2016 - Val: 8.33\n",
            "Anno: 2015 - Val: 111.11\n",
            "Anno: 2016 - Val: 13.89\n",
            "Anno: 2015 - Val: 66.67\n",
            "Anno: 2016 - Val: 8.33\n",
            "Anno: 2015 - Val: 88.89\n",
            "Anno: 2016 - Val: 11.11\n",
            "Anno: 2014 - Val: 98.57\n",
            "Anno: 2015 - Val: 51.43\n",
            "Anno: 2017 - Val: 33.33\n",
            "Anno: 2018 - Val: 66.67\n",
            "Anno: 2014 - Val: 225.89\n",
            "Anno: 2015 - Val: 49.11\n",
            "Anno: 2014 - Val: 63.89\n",
            "Anno: 2015 - Val: 61.11\n",
            "Anno: 2014 - Val: 154.81\n",
            "Anno: 2015 - Val: 20.19\n",
            "Anno: 2014 - Val: 37.1\n",
            "Anno: 2015 - Val: 12.9\n",
            "Anno: 2014 - Val: 48.94\n",
            "Anno: 2015 - Val: 51.06\n",
            "Anno: 2014 - Val: 33.17\n",
            "Anno: 2015 - Val: 41.83\n",
            "Anno: 2014 - Val: 143.75\n",
            "Anno: 2015 - Val: 6.25\n",
            "Anno: 2014 - Val: 37.1\n",
            "Anno: 2015 - Val: 12.9\n",
            "Anno: 2014 - Val: 56.37\n",
            "Anno: 2015 - Val: 68.63\n",
            "Anno: 2014 - Val: 57.5\n",
            "Anno: 2015 - Val: 17.5\n",
            "Anno: 2014 - Val: 37.1\n",
            "Anno: 2015 - Val: 12.9\n",
            "Anno: 2014 - Val: 59.9\n",
            "Anno: 2015 - Val: 65.1\n",
            "Anno: 2014 - Val: 176.92\n",
            "Anno: 2015 - Val: 23.08\n",
            "Anno: 2017 - Val: 44.12\n",
            "Anno: 2018 - Val: 80.88\n",
            "Anno: 2017 - Val: 112.5\n",
            "Anno: 2018 - Val: 112.5\n",
            "Anno: 2014 - Val: 59.9\n",
            "Anno: 2015 - Val: 65.1\n",
            "Anno: 2014 - Val: 54.76\n",
            "Anno: 2015 - Val: 45.24\n",
            "Anno: 2014 - Val: 33.17\n",
            "Anno: 2015 - Val: 41.83\n",
            "Anno: 2014 - Val: 63.89\n",
            "Anno: 2015 - Val: 61.11\n",
            "Anno: 2014 - Val: 63.89\n",
            "Anno: 2015 - Val: 61.11\n",
            "Anno: 2014 - Val: 44.23\n",
            "Anno: 2015 - Val: 30.77\n",
            "Anno: 2014 - Val: 50.0\n",
            "Anno: 2015 - Val: 50.0\n",
            "Anno: 2014 - Val: 167.71\n",
            "Anno: 2015 - Val: 7.29\n",
            "Anno: 2014 - Val: 38.33\n",
            "Anno: 2015 - Val: 11.67\n",
            "Anno: 2014 - Val: 37.1\n",
            "Anno: 2015 - Val: 12.9\n",
            "Anno: 2014 - Val: 38.33\n",
            "Anno: 2015 - Val: 11.67\n",
            "Anno: 2017 - Val: 137.5\n",
            "Anno: 2018 - Val: 137.5\n",
            "Anno: 2017 - Val: 112.5\n",
            "Anno: 2018 - Val: 112.5\n",
            "Anno: 2017 - Val: 60.0\n",
            "Anno: 2018 - Val: 90.0\n",
            "Anno: 2017 - Val: 44.12\n",
            "Anno: 2018 - Val: 80.88\n",
            "Anno: 2017 - Val: 17.31\n",
            "Anno: 2018 - Val: 57.69\n",
            "Anno: 2017 - Val: 2.0\n",
            "Anno: 2018 - Val: 48.0\n",
            "Anno: 2017 - Val: 17.31\n",
            "Anno: 2018 - Val: 57.69\n",
            "Anno: 2014 - Val: 191.67\n",
            "Anno: 2015 - Val: 83.33\n",
            "Anno: 2014 - Val: 101.47\n",
            "Anno: 2015 - Val: 48.53\n",
            "Anno: 2014 - Val: 161.72\n",
            "Anno: 2015 - Val: 63.28\n",
            "Anno: 2014 - Val: 191.67\n",
            "Anno: 2015 - Val: 83.33\n",
            "Anno: 2014 - Val: 143.75\n",
            "Anno: 2015 - Val: 31.25\n",
            "Anno: 2014 - Val: 191.67\n",
            "Anno: 2015 - Val: 83.33\n",
            "Anno: 2014 - Val: 121.97\n",
            "Anno: 2015 - Val: 53.03\n",
            "Anno: 2014 - Val: 174.24\n",
            "Anno: 2015 - Val: 75.76\n",
            "Anno: 2014 - Val: 248.65\n",
            "Anno: 2015 - Val: 151.35\n",
            "Anno: 2014 - Val: 466.22\n",
            "Anno: 2015 - Val: 283.78\n",
            "Anno: 2014 - Val: 906.73\n",
            "Anno: 2015 - Val: 118.27\n",
            "Anno: 2017 - Val: 10.34\n",
            "Anno: 2018 - Val: 39.66\n",
            "Anno: 2014 - Val: 37.1\n",
            "Anno: 2015 - Val: 12.9\n",
            "Anno: 2014 - Val: 42.07\n",
            "Anno: 2015 - Val: 32.93\n",
            "Anno: 2014 - Val: 154.81\n",
            "Anno: 2015 - Val: 20.19\n",
            "Anno: 2014 - Val: 158.62\n",
            "Anno: 2015 - Val: 41.38\n",
            "Anno: 2014 - Val: 50.0\n",
            "Anno: 2015 - Val: 50.0\n",
            "Anno: 2014 - Val: 45.1\n",
            "Anno: 2015 - Val: 54.9\n",
            "Anno: 2014 - Val: 46.94\n",
            "Anno: 2015 - Val: 53.06\n",
            "Anno: 2014 - Val: 37.1\n",
            "Anno: 2015 - Val: 12.9\n",
            "Anno: 2014 - Val: 68.45\n",
            "Anno: 2015 - Val: 56.55\n",
            "Anno: 2014 - Val: 84.15\n",
            "Anno: 2015 - Val: 65.85\n",
            "Anno: 2014 - Val: 50.0\n",
            "Anno: 2015 - Val: 50.0\n",
            "Anno: 2014 - Val: 158.62\n",
            "Anno: 2015 - Val: 41.38\n",
            "Anno: 2014 - Val: 158.62\n",
            "Anno: 2015 - Val: 41.38\n",
            "Anno: 2014 - Val: 143.75\n",
            "Anno: 2015 - Val: 6.25\n",
            "Anno: 2014 - Val: 33.17\n",
            "Anno: 2015 - Val: 41.83\n",
            "Anno: 2014 - Val: 176.92\n",
            "Anno: 2015 - Val: 23.08\n",
            "Anno: 2014 - Val: 37.1\n",
            "Anno: 2015 - Val: 12.9\n",
            "Anno: 2017 - Val: 10.34\n",
            "Anno: 2018 - Val: 39.66\n",
            "Anno: 2017 - Val: 10.0\n",
            "Anno: 2018 - Val: 40.0\n",
            "Anno: 2017 - Val: 2.59\n",
            "Anno: 2018 - Val: 72.41\n",
            "Anno: 2017 - Val: 10.0\n",
            "Anno: 2018 - Val: 40.0\n",
            "Anno: 2015 - Val: 42.86\n",
            "Anno: 2016 - Val: 7.14\n",
            "Anno: 2015 - Val: 161.54\n",
            "Anno: 2016 - Val: 13.46\n",
            "Anno: 2015 - Val: 88.89\n",
            "Anno: 2016 - Val: 11.11\n",
            "Anno: 2015 - Val: 111.11\n",
            "Anno: 2016 - Val: 13.89\n",
            "Anno: 2015 - Val: 177.78\n",
            "Anno: 2016 - Val: 22.22\n",
            "Anno: 2015 - Val: 88.89\n",
            "Anno: 2016 - Val: 11.11\n",
            "Anno: 2014 - Val: 166.94\n",
            "Anno: 2015 - Val: 58.06\n",
            "Anno: 2014 - Val: 121.97\n",
            "Anno: 2015 - Val: 53.03\n",
            "Anno: 2014 - Val: 174.24\n",
            "Anno: 2015 - Val: 75.76\n",
            "Anno: 2015 - Val: 128.57\n",
            "Anno: 2016 - Val: 21.43\n",
            "Anno: 2015 - Val: 66.67\n",
            "Anno: 2016 - Val: 8.33\n",
            "Anno: 2015 - Val: 161.54\n",
            "Anno: 2016 - Val: 13.46\n",
            "Anno: 2016 - Val: 169.81\n",
            "Anno: 2017 - Val: 130.19\n",
            "Anno: 2014 - Val: 54.76\n",
            "Anno: 2015 - Val: 45.24\n",
            "Anno: 2014 - Val: 246.43\n",
            "Anno: 2015 - Val: 53.57\n",
            "Anno: 2014 - Val: 37.1\n",
            "Anno: 2015 - Val: 12.9\n",
            "Anno: 2014 - Val: 205.36\n",
            "Anno: 2015 - Val: 44.64\n",
            "Anno: 2014 - Val: 56.1\n",
            "Anno: 2015 - Val: 43.9\n",
            "Anno: 2014 - Val: 50.0\n",
            "Anno: 2015 - Val: 50.0\n",
            "Anno: 2014 - Val: 57.5\n",
            "Anno: 2015 - Val: 67.5\n",
            "Anno: 2014 - Val: 37.1\n",
            "Anno: 2015 - Val: 12.9\n",
            "Anno: 2014 - Val: 176.92\n",
            "Anno: 2015 - Val: 23.08\n",
            "Anno: 2014 - Val: 37.1\n",
            "Anno: 2015 - Val: 12.9\n",
            "Anno: 2014 - Val: 694.79\n",
            "Anno: 2015 - Val: 30.21\n",
            "Anno: 2017 - Val: 137.5\n",
            "Anno: 2018 - Val: 137.5\n",
            "Anno: 2014 - Val: 148.39\n",
            "Anno: 2015 - Val: 51.61\n",
            "Anno: 2014 - Val: 121.97\n",
            "Anno: 2015 - Val: 53.03\n",
            "Anno: 2014 - Val: 148.39\n",
            "Anno: 2015 - Val: 51.61\n",
            "Anno: 2017 - Val: 60.0\n",
            "Anno: 2018 - Val: 90.0\n",
            "Anno: 2017 - Val: 44.12\n",
            "Anno: 2018 - Val: 80.88\n",
            "Anno: 2017 - Val: 11.11\n",
            "Anno: 2018 - Val: 38.89\n",
            "Anno: 2015 - Val: 207.69\n",
            "Anno: 2016 - Val: 17.31\n",
            "Anno: 2015 - Val: 184.62\n",
            "Anno: 2016 - Val: 15.38\n",
            "Anno: 2015 - Val: 161.54\n",
            "Anno: 2016 - Val: 13.46\n",
            "Anno: 2014 - Val: 121.97\n",
            "Anno: 2015 - Val: 53.03\n",
            "Anno: 2014 - Val: 121.97\n",
            "Anno: 2015 - Val: 53.03\n",
            "Anno: 2015 - Val: 161.54\n",
            "Anno: 2016 - Val: 13.46\n",
            "Anno: 2015 - Val: 128.57\n",
            "Anno: 2016 - Val: 21.43\n",
            "Anno: 2015 - Val: 128.57\n",
            "Anno: 2016 - Val: 21.43\n",
            "Anno: 2015 - Val: 64.29\n",
            "Anno: 2016 - Val: 10.71\n",
            "Anno: 2015 - Val: 128.57\n",
            "Anno: 2016 - Val: 21.43\n",
            "Anno: 2015 - Val: 85.71\n",
            "Anno: 2016 - Val: 14.29\n",
            "Anno: 2015 - Val: 161.54\n",
            "Anno: 2016 - Val: 13.46\n",
            "Anno: 2015 - Val: 66.67\n",
            "Anno: 2016 - Val: 8.33\n",
            "Anno: 2015 - Val: 124.14\n",
            "Anno: 2016 - Val: 25.86\n",
            "Anno: 2016 - Val: 0.0\n",
            "Anno: 2017 - Val: 175.0\n",
            "Anno: 2015 - Val: 41.38\n",
            "Anno: 2016 - Val: 8.62\n",
            "Anno: 2016 - Val: 0.0\n",
            "Anno: 2017 - Val: 125.0\n",
            "Anno: 2015 - Val: 96.77\n",
            "Anno: 2016 - Val: 28.23\n",
            "Anno: 2016 - Val: 0.0\n",
            "Anno: 2017 - Val: 300.0\n",
            "Anno: 2016 - Val: 0.0\n",
            "Anno: 2017 - Val: 600.0\n",
            "Anno: 2016 - Val: 125.0\n",
            "Anno: 2017 - Val: 75.0\n",
            "Anno: 2016 - Val: 0.0\n",
            "Anno: 2017 - Val: 250.0\n",
            "Anno: 2016 - Val: 87.5\n",
            "Anno: 2017 - Val: 262.5\n",
            "Anno: 2016 - Val: 58.33\n",
            "Anno: 2017 - Val: 116.67\n",
            "Anno: 2016 - Val: 406.25\n",
            "Anno: 2017 - Val: 243.75\n",
            "Anno: 2016 - Val: 0.0\n",
            "Anno: 2017 - Val: 250.0\n",
            "Anno: 2016 - Val: 56.25\n",
            "Anno: 2017 - Val: 168.75\n",
            "Anno: 2016 - Val: 397.06\n",
            "Anno: 2017 - Val: 277.94\n",
            "Anno: 2016 - Val: 31.25\n",
            "Anno: 2017 - Val: 18.75\n",
            "Anno: 2016 - Val: 235.29\n",
            "Anno: 2017 - Val: 164.71\n",
            "Anno: 2016 - Val: 187.5\n",
            "Anno: 2017 - Val: 562.5\n",
            "Anno: 2016 - Val: 100.0\n",
            "Anno: 2017 - Val: 350.0\n",
            "Anno: 2016 - Val: 64.52\n",
            "Anno: 2017 - Val: 35.48\n",
            "Anno: 2016 - Val: 53.57\n",
            "Anno: 2017 - Val: 21.43\n",
            "Anno: 2016 - Val: 161.76\n",
            "Anno: 2017 - Val: 113.24\n",
            "Anno: 2015 - Val: 210.0\n",
            "Anno: 2016 - Val: 90.0\n",
            "Anno: 2015 - Val: 112.5\n",
            "Anno: 2016 - Val: 112.5\n",
            "Anno: 2015 - Val: 168.0\n",
            "Anno: 2016 - Val: 132.0\n",
            "Anno: 2015 - Val: 112.5\n",
            "Anno: 2016 - Val: 112.5\n",
            "Anno: 2015 - Val: 92.31\n",
            "Anno: 2016 - Val: 57.69\n",
            "Anno: 2014 - Val: 58.97\n",
            "Anno: 2015 - Val: 41.03\n",
            "Anno: 2014 - Val: 45.39\n",
            "Anno: 2015 - Val: 29.61\n",
            "Anno: 2014 - Val: 45.39\n",
            "Anno: 2015 - Val: 29.61\n",
            "Anno: 2014 - Val: 73.72\n",
            "Anno: 2015 - Val: 51.28\n",
            "Anno: 2014 - Val: 60.53\n",
            "Anno: 2015 - Val: 39.47\n",
            "Anno: 2014 - Val: 46.62\n",
            "Anno: 2015 - Val: 28.38\n",
            "Anno: 2014 - Val: 115.0\n",
            "Anno: 2015 - Val: 35.0\n",
            "Anno: 2014 - Val: 35.94\n",
            "Anno: 2015 - Val: 14.06\n",
            "Anno: 2014 - Val: 42.59\n",
            "Anno: 2015 - Val: 7.41\n",
            "Anno: 2014 - Val: 161.0\n",
            "Anno: 2015 - Val: 14.0\n",
            "Anno: 2014 - Val: 42.59\n",
            "Anno: 2015 - Val: 7.41\n",
            "Anno: 2014 - Val: 46.0\n",
            "Anno: 2015 - Val: 4.0\n",
            "Anno: 2017 - Val: 33.33\n",
            "Anno: 2018 - Val: 66.67\n",
            "Anno: 2017 - Val: 18.0\n",
            "Anno: 2018 - Val: 57.0\n",
            "Anno: 2014 - Val: 53.91\n",
            "Anno: 2015 - Val: 21.09\n",
            "Anno: 2017 - Val: 33.33\n",
            "Anno: 2018 - Val: 66.67\n",
            "Anno: 2016 - Val: 208.33\n",
            "Anno: 2017 - Val: 166.67\n",
            "Anno: 2016 - Val: 0.0\n",
            "Anno: 2017 - Val: 850.0\n",
            "Anno: 2016 - Val: 25.0\n",
            "Anno: 2017 - Val: 50.0\n",
            "Anno: 2016 - Val: 382.35\n",
            "Anno: 2017 - Val: 267.65\n",
            "Anno: 2015 - Val: 150.0\n",
            "Anno: 2016 - Val: 50.0\n",
            "Anno: 2016 - Val: 0.0\n",
            "Anno: 2017 - Val: 250.0\n",
            "Anno: 2015 - Val: 80.0\n",
            "Anno: 2016 - Val: 20.0\n",
            "Anno: 2015 - Val: 80.0\n",
            "Anno: 2016 - Val: 20.0\n",
            "Anno: 2015 - Val: 93.75\n",
            "Anno: 2016 - Val: 31.25\n",
            "Anno: 2015 - Val: 174.19\n",
            "Anno: 2016 - Val: 50.81\n",
            "Anno: 2016 - Val: 0.0\n",
            "Anno: 2017 - Val: 600.0\n",
            "Anno: 2015 - Val: 247.92\n",
            "Anno: 2016 - Val: 177.08\n",
            "Anno: 2016 - Val: 426.47\n",
            "Anno: 2017 - Val: 298.53\n",
            "Anno: 2015 - Val: 87.5\n",
            "Anno: 2016 - Val: 37.5\n",
            "Anno: 2016 - Val: 53.57\n",
            "Anno: 2017 - Val: 196.43\n",
            "Anno: 2016 - Val: 54.17\n",
            "Anno: 2017 - Val: 45.83\n",
            "Anno: 2016 - Val: 58.33\n",
            "Anno: 2017 - Val: 116.67\n",
            "Anno: 2014 - Val: 46.62\n",
            "Anno: 2015 - Val: 28.38\n",
            "Anno: 2014 - Val: 73.72\n",
            "Anno: 2015 - Val: 51.28\n",
            "Anno: 2015 - Val: 37.5\n",
            "Anno: 2016 - Val: 12.5\n",
            "Anno: 2015 - Val: 93.75\n",
            "Anno: 2016 - Val: 31.25\n",
            "Anno: 2014 - Val: 23.96\n",
            "Anno: 2015 - Val: 26.04\n",
            "Anno: 2014 - Val: 33.82\n",
            "Anno: 2015 - Val: 41.18\n",
            "Anno: 2014 - Val: 359.38\n",
            "Anno: 2015 - Val: 15.62\n",
            "Anno: 2014 - Val: 167.71\n",
            "Anno: 2015 - Val: 7.29\n",
            "Anno: 2014 - Val: 56.1\n",
            "Anno: 2015 - Val: 43.9\n",
            "Anno: 2014 - Val: 50.0\n",
            "Anno: 2015 - Val: 50.0\n",
            "Anno: 2014 - Val: 176.92\n",
            "Anno: 2015 - Val: 23.08\n",
            "Anno: 2014 - Val: 67.65\n",
            "Anno: 2015 - Val: 82.35\n",
            "Anno: 2014 - Val: 32.55\n",
            "Anno: 2015 - Val: 42.45\n",
            "Anno: 2014 - Val: 46.94\n",
            "Anno: 2015 - Val: 53.06\n",
            "Anno: 2014 - Val: 167.71\n",
            "Anno: 2015 - Val: 7.29\n",
            "Anno: 2014 - Val: 178.45\n",
            "Anno: 2015 - Val: 46.55\n",
            "Anno: 2014 - Val: 158.62\n",
            "Anno: 2015 - Val: 41.38\n",
            "Anno: 2014 - Val: 68.45\n",
            "Anno: 2015 - Val: 56.55\n",
            "Anno: 2014 - Val: 33.82\n",
            "Anno: 2015 - Val: 41.18\n",
            "Anno: 2014 - Val: 158.62\n",
            "Anno: 2015 - Val: 41.38\n",
            "Anno: 2014 - Val: 56.37\n",
            "Anno: 2015 - Val: 68.63\n",
            "Anno: 2014 - Val: 148.39\n",
            "Anno: 2015 - Val: 51.61\n",
            "Anno: 2014 - Val: 59.9\n",
            "Anno: 2015 - Val: 65.1\n",
            "Anno: 2014 - Val: 59.9\n",
            "Anno: 2015 - Val: 65.1\n",
            "Anno: 2014 - Val: 33.82\n",
            "Anno: 2015 - Val: 41.18\n",
            "Anno: 2014 - Val: 143.75\n",
            "Anno: 2015 - Val: 6.25\n",
            "Anno: 2014 - Val: 42.07\n",
            "Anno: 2015 - Val: 32.93\n",
            "Anno: 2015 - Val: 25.0\n",
            "Anno: 2016 - Val: 25.0\n",
            "Anno: 2014 - Val: 45.39\n",
            "Anno: 2015 - Val: 29.61\n",
            "Anno: 2014 - Val: 73.72\n",
            "Anno: 2015 - Val: 51.28\n",
            "Anno: 2014 - Val: 75.66\n",
            "Anno: 2015 - Val: 49.34\n",
            "Anno: 2014 - Val: 46.62\n",
            "Anno: 2015 - Val: 28.38\n",
            "Anno: 2014 - Val: 46.62\n",
            "Anno: 2015 - Val: 28.38\n",
            "Anno: 2014 - Val: 45.39\n",
            "Anno: 2015 - Val: 29.61\n",
            "Anno: 2014 - Val: 158.62\n",
            "Anno: 2015 - Val: 41.38\n",
            "Anno: 2014 - Val: 37.1\n",
            "Anno: 2015 - Val: 12.9\n",
            "Anno: 2017 - Val: 275.0\n",
            "Anno: 2018 - Val: 275.0\n",
            "Anno: 2017 - Val: 137.5\n",
            "Anno: 2018 - Val: 137.5\n",
            "Anno: 2014 - Val: 37.1\n",
            "Anno: 2015 - Val: 12.9\n",
            "Anno: 2017 - Val: 44.12\n",
            "Anno: 2018 - Val: 80.88\n",
            "Anno: 2014 - Val: 35.94\n",
            "Anno: 2015 - Val: 14.06\n",
            "Anno: 2014 - Val: 53.91\n",
            "Anno: 2015 - Val: 21.09\n",
            "Anno: 2014 - Val: 149.07\n",
            "Anno: 2015 - Val: 25.93\n",
            "Anno: 2014 - Val: 35.94\n",
            "Anno: 2015 - Val: 14.06\n",
            "Anno: 2014 - Val: 53.91\n",
            "Anno: 2015 - Val: 21.09\n",
            "Anno: 2014 - Val: 95.83\n",
            "Anno: 2015 - Val: 54.17\n",
            "Anno: 2014 - Val: 53.91\n",
            "Anno: 2015 - Val: 21.09\n",
            "Anno: 2014 - Val: 95.83\n",
            "Anno: 2015 - Val: 54.17\n",
            "Anno: 2017 - Val: 33.33\n",
            "Anno: 2018 - Val: 66.67\n",
            "Anno: 2017 - Val: 9.68\n",
            "Anno: 2018 - Val: 40.32\n",
            "Anno: 2014 - Val: 121.97\n",
            "Anno: 2015 - Val: 53.03\n",
            "Anno: 2014 - Val: 932.43\n",
            "Anno: 2015 - Val: 567.57\n",
            "Anno: 2014 - Val: 101.47\n",
            "Anno: 2015 - Val: 48.53\n",
            "Anno: 2014 - Val: 95.83\n",
            "Anno: 2015 - Val: 54.17\n",
            "Anno: 2016 - Val: 0.0\n",
            "Anno: 2017 - Val: 300.0\n",
            "Anno: 2016 - Val: 71.43\n",
            "Anno: 2017 - Val: 28.57\n",
            "Anno: 2015 - Val: 56.25\n",
            "Anno: 2016 - Val: 18.75\n",
            "Anno: 2015 - Val: 82.76\n",
            "Anno: 2016 - Val: 17.24\n",
            "Anno: 2015 - Val: 60.0\n",
            "Anno: 2016 - Val: 15.0\n",
            "Anno: 2014 - Val: 46.62\n",
            "Anno: 2015 - Val: 28.38\n",
            "Anno: 2015 - Val: 192.5\n",
            "Anno: 2016 - Val: 82.5\n",
            "Anno: 2015 - Val: 101.61\n",
            "Anno: 2016 - Val: 48.39\n",
            "Anno: 2015 - Val: 87.5\n",
            "Anno: 2016 - Val: 37.5\n",
            "Anno: 2015 - Val: 85.71\n",
            "Anno: 2016 - Val: 114.29\n",
            "Anno: 2015 - Val: 154.0\n",
            "Anno: 2016 - Val: 121.0\n",
            "Anno: 2015 - Val: 196.0\n",
            "Anno: 2016 - Val: 154.0\n",
            "Anno: 2014 - Val: 121.97\n",
            "Anno: 2015 - Val: 53.03\n",
            "Anno: 2014 - Val: 166.94\n",
            "Anno: 2015 - Val: 58.06\n",
            "Anno: 2014 - Val: 121.97\n",
            "Anno: 2015 - Val: 53.03\n",
            "Anno: 2014 - Val: 52.27\n",
            "Anno: 2015 - Val: 22.73\n",
            "Anno: 2016 - Val: 0.0\n",
            "Anno: 2017 - Val: 375.0\n",
            "Anno: 2017 - Val: 33.33\n",
            "Anno: 2018 - Val: 66.67\n",
            "Anno: 2017 - Val: 18.0\n",
            "Anno: 2018 - Val: 57.0\n",
            "Anno: 2015 - Val: 75.0\n",
            "Anno: 2016 - Val: 25.0\n",
            "Anno: 2016 - Val: 208.33\n",
            "Anno: 2017 - Val: 416.67\n",
            "Anno: 2016 - Val: 283.06\n",
            "Anno: 2017 - Val: 391.94\n",
            "Anno: 2015 - Val: 184.21\n",
            "Anno: 2016 - Val: 65.79\n",
            "Anno: 2016 - Val: 0.0\n",
            "Anno: 2017 - Val: 250.0\n",
            "Anno: 2016 - Val: 235.29\n",
            "Anno: 2017 - Val: 164.71\n",
            "Anno: 2016 - Val: 182.0\n",
            "Anno: 2017 - Val: 168.0\n",
            "Anno: 2016 - Val: 71.43\n",
            "Anno: 2017 - Val: 28.57\n",
            "Anno: 2015 - Val: 60.0\n",
            "Anno: 2016 - Val: 15.0\n",
            "Anno: 2014 - Val: 46.62\n",
            "Anno: 2015 - Val: 28.38\n",
            "Anno: 2014 - Val: 46.62\n",
            "Anno: 2015 - Val: 28.38\n",
            "Anno: 2014 - Val: 75.66\n",
            "Anno: 2015 - Val: 49.34\n",
            "Anno: 2015 - Val: 46.15\n",
            "Anno: 2016 - Val: 3.85\n",
            "Anno: 2015 - Val: 230.77\n",
            "Anno: 2016 - Val: 19.23\n",
            "Anno: 2015 - Val: 364.58\n",
            "Anno: 2016 - Val: 260.42\n",
            "Anno: 2014 - Val: 98.57\n",
            "Anno: 2015 - Val: 51.43\n",
            "Anno: 2014 - Val: 69.0\n",
            "Anno: 2015 - Val: 6.0\n",
            "Anno: 2014 - Val: 53.91\n",
            "Anno: 2015 - Val: 21.09\n",
            "Anno: 2014 - Val: 69.0\n",
            "Anno: 2015 - Val: 6.0\n",
            "Anno: 2014 - Val: 42.59\n",
            "Anno: 2015 - Val: 7.41\n",
            "Anno: 2014 - Val: 42.07\n",
            "Anno: 2015 - Val: 32.93\n",
            "Anno: 2014 - Val: 359.38\n",
            "Anno: 2015 - Val: 15.62\n",
            "Anno: 2014 - Val: 154.81\n",
            "Anno: 2015 - Val: 20.19\n",
            "Anno: 2014 - Val: 63.89\n",
            "Anno: 2015 - Val: 61.11\n",
            "Anno: 2014 - Val: 56.37\n",
            "Anno: 2015 - Val: 68.63\n",
            "Anno: 2014 - Val: 115.0\n",
            "Anno: 2015 - Val: 10.0\n",
            "Anno: 2014 - Val: 66.86\n",
            "Anno: 2015 - Val: 58.14\n",
            "Anno: 2014 - Val: 143.75\n",
            "Anno: 2015 - Val: 6.25\n",
            "Anno: 2014 - Val: 87.5\n",
            "Anno: 2015 - Val: 87.5\n",
            "Anno: 2014 - Val: 33.17\n",
            "Anno: 2015 - Val: 41.83\n",
            "Anno: 2014 - Val: 45.1\n",
            "Anno: 2015 - Val: 54.9\n",
            "Anno: 2017 - Val: 44.12\n",
            "Anno: 2018 - Val: 80.88\n",
            "Anno: 2017 - Val: 64.29\n",
            "Anno: 2018 - Val: 85.71\n",
            "Anno: 2014 - Val: 57.5\n",
            "Anno: 2015 - Val: 17.5\n",
            "Anno: 2017 - Val: 41.67\n",
            "Anno: 2018 - Val: 83.33\n",
            "Anno: 2017 - Val: 64.29\n",
            "Anno: 2018 - Val: 85.71\n",
            "Anno: 2016 - Val: 245.45\n",
            "Anno: 2017 - Val: 204.55\n",
            "Anno: 2014 - Val: 205.36\n",
            "Anno: 2015 - Val: 44.64\n",
            "Anno: 2014 - Val: 57.5\n",
            "Anno: 2015 - Val: 17.5\n",
            "Anno: 2014 - Val: 68.45\n",
            "Anno: 2015 - Val: 56.55\n",
            "Anno: 2014 - Val: 110.58\n",
            "Anno: 2015 - Val: 14.42\n",
            "Anno: 2014 - Val: 59.9\n",
            "Anno: 2015 - Val: 65.1\n",
            "Anno: 2014 - Val: 225.89\n",
            "Anno: 2015 - Val: 49.11\n",
            "Anno: 2014 - Val: 63.89\n",
            "Anno: 2015 - Val: 61.11\n",
            "Anno: 2014 - Val: 47.92\n",
            "Anno: 2015 - Val: 2.08\n",
            "Anno: 2014 - Val: 309.62\n",
            "Anno: 2015 - Val: 40.38\n",
            "Anno: 2017 - Val: 44.12\n",
            "Anno: 2018 - Val: 80.88\n",
            "Anno: 2017 - Val: 17.31\n",
            "Anno: 2018 - Val: 57.69\n",
            "Anno: 2016 - Val: 84.91\n",
            "Anno: 2017 - Val: 65.09\n",
            "Anno: 2014 - Val: 115.0\n",
            "Anno: 2015 - Val: 35.0\n",
            "Anno: 2014 - Val: 52.27\n",
            "Anno: 2015 - Val: 22.73\n",
            "Anno: 2015 - Val: 44.44\n",
            "Anno: 2016 - Val: 5.56\n",
            "Anno: 2015 - Val: 92.31\n",
            "Anno: 2016 - Val: 7.69\n",
            "Anno: 2015 - Val: 128.57\n",
            "Anno: 2016 - Val: 21.43\n",
            "Anno: 2015 - Val: 85.71\n",
            "Anno: 2016 - Val: 14.29\n",
            "Anno: 2014 - Val: 98.57\n",
            "Anno: 2015 - Val: 51.43\n",
            "Anno: 2014 - Val: 205.36\n",
            "Anno: 2015 - Val: 44.64\n",
            "Anno: 2014 - Val: 98.17\n",
            "Anno: 2015 - Val: 76.83\n",
            "Anno: 2014 - Val: 33.82\n",
            "Anno: 2015 - Val: 41.18\n",
            "Anno: 2014 - Val: 158.62\n",
            "Anno: 2015 - Val: 41.38\n",
            "Anno: 2014 - Val: 68.45\n",
            "Anno: 2015 - Val: 56.55\n",
            "Anno: 2014 - Val: 68.45\n",
            "Anno: 2015 - Val: 56.55\n",
            "Anno: 2014 - Val: 143.75\n",
            "Anno: 2015 - Val: 6.25\n",
            "Anno: 2014 - Val: 359.38\n",
            "Anno: 2015 - Val: 15.62\n",
            "Anno: 2014 - Val: 158.62\n",
            "Anno: 2015 - Val: 41.38\n",
            "Anno: 2014 - Val: 98.17\n",
            "Anno: 2015 - Val: 76.83\n",
            "Anno: 2014 - Val: 61.17\n",
            "Anno: 2015 - Val: 63.83\n",
            "Anno: 2014 - Val: 33.17\n",
            "Anno: 2015 - Val: 41.83\n",
            "Anno: 2014 - Val: 167.71\n",
            "Anno: 2015 - Val: 7.29\n",
            "Anno: 2014 - Val: 54.76\n",
            "Anno: 2015 - Val: 45.24\n",
            "Anno: 2014 - Val: 56.37\n",
            "Anno: 2015 - Val: 68.63\n",
            "Anno: 2014 - Val: 69.0\n",
            "Anno: 2015 - Val: 6.0\n",
            "Anno: 2014 - Val: 225.89\n",
            "Anno: 2015 - Val: 49.11\n",
            "Anno: 2014 - Val: 205.36\n",
            "Anno: 2015 - Val: 44.64\n",
            "Anno: 2014 - Val: 56.1\n",
            "Anno: 2015 - Val: 43.9\n",
            "Anno: 2014 - Val: 33.82\n",
            "Anno: 2015 - Val: 41.18\n",
            "Anno: 2014 - Val: 54.76\n",
            "Anno: 2015 - Val: 45.24\n",
            "Anno: 2014 - Val: 42.07\n",
            "Anno: 2015 - Val: 32.93\n",
            "Anno: 2014 - Val: 42.07\n",
            "Anno: 2015 - Val: 32.93\n",
            "Anno: 2014 - Val: 59.9\n",
            "Anno: 2015 - Val: 65.1\n",
            "Anno: 2014 - Val: 63.89\n",
            "Anno: 2015 - Val: 61.11\n",
            "Anno: 2014 - Val: 56.37\n",
            "Anno: 2015 - Val: 68.63\n",
            "Anno: 2014 - Val: 143.75\n",
            "Anno: 2015 - Val: 6.25\n",
            "Anno: 2014 - Val: 431.25\n",
            "Anno: 2015 - Val: 18.75\n",
            "Anno: 2014 - Val: 59.9\n",
            "Anno: 2015 - Val: 65.1\n",
            "Anno: 2014 - Val: 33.82\n",
            "Anno: 2015 - Val: 41.18\n",
            "Anno: 2014 - Val: 309.62\n",
            "Anno: 2015 - Val: 40.38\n",
            "Anno: 2014 - Val: 37.1\n",
            "Anno: 2015 - Val: 12.9\n",
            "Anno: 2014 - Val: 176.92\n",
            "Anno: 2015 - Val: 23.08\n",
            "Anno: 2014 - Val: 37.1\n",
            "Anno: 2015 - Val: 12.9\n",
            "Anno: 2017 - Val: 137.5\n",
            "Anno: 2018 - Val: 137.5\n",
            "Anno: 2016 - Val: 137.5\n",
            "Anno: 2017 - Val: 137.5\n",
            "Anno: 2016 - Val: 283.02\n",
            "Anno: 2017 - Val: 216.98\n",
            "Anno: 2016 - Val: 218.18\n",
            "Anno: 2017 - Val: 181.82\n",
            "Anno: 2017 - Val: 17.31\n",
            "Anno: 2018 - Val: 57.69\n",
            "Anno: 2014 - Val: 84.56\n",
            "Anno: 2015 - Val: 40.44\n",
            "Anno: 2014 - Val: 225.89\n",
            "Anno: 2015 - Val: 49.11\n",
            "Anno: 2014 - Val: 225.89\n",
            "Anno: 2015 - Val: 49.11\n",
            "Anno: 2017 - Val: 11.54\n",
            "Anno: 2018 - Val: 38.46\n",
            "Anno: 2014 - Val: 37.1\n",
            "Anno: 2015 - Val: 12.9\n",
            "Anno: 2014 - Val: 246.43\n",
            "Anno: 2015 - Val: 53.57\n",
            "Anno: 2014 - Val: 37.1\n",
            "Anno: 2015 - Val: 12.9\n",
            "Anno: 2014 - Val: 87.5\n",
            "Anno: 2015 - Val: 87.5\n",
            "Anno: 2014 - Val: 167.71\n",
            "Anno: 2015 - Val: 7.29\n",
            "Anno: 2014 - Val: 37.1\n",
            "Anno: 2015 - Val: 12.9\n",
            "Anno: 2014 - Val: 71.88\n",
            "Anno: 2015 - Val: 78.12\n",
            "Anno: 2014 - Val: 32.55\n",
            "Anno: 2015 - Val: 42.45\n",
            "Anno: 2014 - Val: 46.94\n",
            "Anno: 2015 - Val: 53.06\n",
            "Anno: 2014 - Val: 32.55\n",
            "Anno: 2015 - Val: 42.45\n",
            "Anno: 2014 - Val: 225.89\n",
            "Anno: 2015 - Val: 49.11\n",
            "Anno: 2017 - Val: 18.0\n",
            "Anno: 2018 - Val: 432.0\n",
            "Anno: 2017 - Val: 10.0\n",
            "Anno: 2018 - Val: 40.0\n",
            "Anno: 2017 - Val: 60.0\n",
            "Anno: 2018 - Val: 90.0\n",
            "Anno: 2017 - Val: 60.0\n",
            "Anno: 2018 - Val: 90.0\n",
            "Anno: 2015 - Val: 138.46\n",
            "Anno: 2016 - Val: 11.54\n",
            "Anno: 2015 - Val: 69.23\n",
            "Anno: 2016 - Val: 5.77\n",
            "Anno: 2015 - Val: 88.89\n",
            "Anno: 2016 - Val: 11.11\n",
            "Anno: 2015 - Val: 161.54\n",
            "Anno: 2016 - Val: 13.46\n",
            "Anno: 2015 - Val: 207.69\n",
            "Anno: 2016 - Val: 17.31\n",
            "Anno: 2015 - Val: 44.44\n",
            "Anno: 2016 - Val: 5.56\n",
            "Anno: 2014 - Val: 148.39\n",
            "Anno: 2015 - Val: 51.61\n",
            "Anno: 2014 - Val: 166.94\n",
            "Anno: 2015 - Val: 58.06\n",
            "Anno: 2014 - Val: 166.94\n",
            "Anno: 2015 - Val: 58.06\n",
            "Anno: 2014 - Val: 139.39\n",
            "Anno: 2015 - Val: 60.61\n",
            "Anno: 2014 - Val: 932.43\n",
            "Anno: 2015 - Val: 567.57\n",
            "Anno: 2014 - Val: 166.94\n",
            "Anno: 2015 - Val: 58.06\n",
            "Anno: 2014 - Val: 121.97\n",
            "Anno: 2015 - Val: 53.03\n",
            "Anno: 2014 - Val: 148.39\n",
            "Anno: 2015 - Val: 51.61\n",
            "Anno: 2014 - Val: 233.11\n",
            "Anno: 2015 - Val: 141.89\n",
            "Anno: 2014 - Val: 233.11\n",
            "Anno: 2015 - Val: 141.89\n",
            "Anno: 2017 - Val: 17.31\n",
            "Anno: 2018 - Val: 57.69\n",
            "Anno: 2014 - Val: 166.94\n",
            "Anno: 2015 - Val: 58.06\n",
            "Anno: 2015 - Val: 92.31\n",
            "Anno: 2016 - Val: 7.69\n",
            "Anno: 2015 - Val: 111.11\n",
            "Anno: 2016 - Val: 13.89\n",
            "Anno: 2015 - Val: 42.86\n",
            "Anno: 2016 - Val: 7.14\n",
            "Anno: 2014 - Val: 54.76\n",
            "Anno: 2015 - Val: 45.24\n",
            "Anno: 2014 - Val: 54.76\n",
            "Anno: 2015 - Val: 45.24\n",
            "Anno: 2014 - Val: 98.17\n",
            "Anno: 2015 - Val: 76.83\n",
            "Anno: 2014 - Val: 33.82\n",
            "Anno: 2015 - Val: 41.18\n",
            "Anno: 2014 - Val: 59.9\n",
            "Anno: 2015 - Val: 65.1\n",
            "Anno: 2014 - Val: 45.1\n",
            "Anno: 2015 - Val: 54.9\n",
            "Anno: 2014 - Val: 158.62\n",
            "Anno: 2015 - Val: 41.38\n",
            "Anno: 2014 - Val: 50.0\n",
            "Anno: 2015 - Val: 50.0\n",
            "Anno: 2014 - Val: 32.55\n",
            "Anno: 2015 - Val: 42.45\n",
            "Anno: 2014 - Val: 176.92\n",
            "Anno: 2015 - Val: 23.08\n",
            "Anno: 2014 - Val: 167.71\n",
            "Anno: 2015 - Val: 7.29\n",
            "Anno: 2014 - Val: 331.73\n",
            "Anno: 2015 - Val: 43.27\n",
            "Anno: 2014 - Val: 33.17\n",
            "Anno: 2015 - Val: 41.83\n",
            "Anno: 2014 - Val: 33.17\n",
            "Anno: 2015 - Val: 41.83\n",
            "Anno: 2014 - Val: 121.97\n",
            "Anno: 2015 - Val: 53.03\n",
            "Anno: 2014 - Val: 166.94\n",
            "Anno: 2015 - Val: 58.06\n",
            "Anno: 2017 - Val: 46.88\n",
            "Anno: 2018 - Val: 78.12\n",
            "Anno: 2017 - Val: 60.0\n",
            "Anno: 2018 - Val: 90.0\n",
            "Anno: 2017 - Val: 44.12\n",
            "Anno: 2018 - Val: 80.88\n",
            "Anno: 2017 - Val: 11.54\n",
            "Anno: 2018 - Val: 38.46\n",
            "Anno: 2015 - Val: 369.23\n",
            "Anno: 2016 - Val: 30.77\n",
            "Anno: 2015 - Val: 66.67\n",
            "Anno: 2016 - Val: 8.33\n",
            "Anno: 2014 - Val: 179.69\n",
            "Anno: 2015 - Val: 70.31\n",
            "Anno: 2014 - Val: 174.24\n",
            "Anno: 2015 - Val: 75.76\n",
            "Anno: 2014 - Val: 121.97\n",
            "Anno: 2015 - Val: 53.03\n",
            "Anno: 2014 - Val: 121.97\n",
            "Anno: 2015 - Val: 53.03\n",
            "Anno: 2014 - Val: 166.94\n",
            "Anno: 2015 - Val: 58.06\n",
            "Anno: 2015 - Val: 88.89\n",
            "Anno: 2016 - Val: 11.11\n",
            "Anno: 2015 - Val: 138.46\n",
            "Anno: 2016 - Val: 11.54\n",
            "Anno: 2015 - Val: 88.89\n",
            "Anno: 2016 - Val: 11.11\n",
            "Anno: 2015 - Val: 88.89\n",
            "Anno: 2016 - Val: 11.11\n",
            "Anno: 2015 - Val: 66.67\n",
            "Anno: 2016 - Val: 8.33\n",
            "Anno: 2015 - Val: 200.0\n",
            "Anno: 2016 - Val: 25.0\n",
            "Anno: 2015 - Val: 66.67\n",
            "Anno: 2016 - Val: 8.33\n",
            "Anno: 2015 - Val: 66.67\n",
            "Anno: 2016 - Val: 8.33\n",
            "Anno: 2015 - Val: 44.44\n",
            "Anno: 2016 - Val: 5.56\n",
            "Anno: 2015 - Val: 62.07\n",
            "Anno: 2016 - Val: 12.93\n",
            "Anno: 2015 - Val: 42.86\n",
            "Anno: 2016 - Val: 7.14\n",
            "Anno: 2015 - Val: 165.52\n",
            "Anno: 2016 - Val: 34.48\n",
            "Anno: 2015 - Val: 90.91\n",
            "Anno: 2016 - Val: 34.09\n",
            "Anno: 2015 - Val: 56.25\n",
            "Anno: 2016 - Val: 18.75\n",
            "Anno: 2015 - Val: 150.0\n",
            "Anno: 2016 - Val: 50.0\n",
            "Anno: 2016 - Val: 0.0\n",
            "Anno: 2017 - Val: 1000.0\n",
            "Anno: 2016 - Val: 0.0\n",
            "Anno: 2017 - Val: 250.0\n",
            "Anno: 2016 - Val: 0.0\n",
            "Anno: 2017 - Val: 600.0\n",
            "Anno: 2016 - Val: 0.0\n",
            "Anno: 2017 - Val: 300.0\n",
            "Anno: 2016 - Val: 214.29\n",
            "Anno: 2017 - Val: 85.71\n",
            "Anno: 2016 - Val: 485.29\n",
            "Anno: 2017 - Val: 339.71\n",
            "Anno: 2016 - Val: 75.0\n",
            "Anno: 2017 - Val: 225.0\n",
            "Anno: 2016 - Val: 104.0\n",
            "Anno: 2017 - Val: 96.0\n",
            "Anno: 2016 - Val: 91.67\n",
            "Anno: 2017 - Val: 183.33\n",
            "Anno: 2015 - Val: 109.09\n",
            "Anno: 2016 - Val: 40.91\n",
            "Anno: 2016 - Val: 98.91\n",
            "Anno: 2017 - Val: 76.09\n",
            "Anno: 2016 - Val: 542.55\n",
            "Anno: 2017 - Val: 307.45\n",
            "Anno: 2016 - Val: 241.13\n",
            "Anno: 2017 - Val: 333.87\n",
            "Anno: 2015 - Val: 57.14\n",
            "Anno: 2016 - Val: 142.86\n",
            "Anno: 2015 - Val: 116.67\n",
            "Anno: 2016 - Val: 58.33\n",
            "Anno: 2015 - Val: 384.62\n",
            "Anno: 2016 - Val: 240.38\n",
            "Anno: 2014 - Val: 46.62\n",
            "Anno: 2015 - Val: 28.38\n",
            "Anno: 2014 - Val: 45.39\n",
            "Anno: 2015 - Val: 29.61\n",
            "Anno: 2015 - Val: 64.29\n",
            "Anno: 2016 - Val: 85.71\n",
            "Anno: 2014 - Val: 75.66\n",
            "Anno: 2015 - Val: 49.34\n",
            "Anno: 2015 - Val: 100.0\n",
            "Anno: 2016 - Val: 100.0\n",
            "Anno: 2014 - Val: 57.5\n",
            "Anno: 2015 - Val: 42.5\n",
            "Anno: 2014 - Val: 57.5\n",
            "Anno: 2015 - Val: 42.5\n",
            "Anno: 2014 - Val: 46.62\n",
            "Anno: 2015 - Val: 28.38\n",
            "Anno: 2014 - Val: 45.39\n",
            "Anno: 2015 - Val: 29.61\n",
            "Anno: 2014 - Val: 98.57\n",
            "Anno: 2015 - Val: 51.43\n",
            "Anno: 2014 - Val: 115.0\n",
            "Anno: 2015 - Val: 35.0\n",
            "Anno: 2014 - Val: 52.27\n",
            "Anno: 2015 - Val: 22.73\n",
            "Anno: 2014 - Val: 107.81\n",
            "Anno: 2015 - Val: 42.19\n",
            "Anno: 2017 - Val: 33.33\n",
            "Anno: 2018 - Val: 66.67\n",
            "Anno: 2014 - Val: 52.27\n",
            "Anno: 2015 - Val: 22.73\n",
            "Anno: 2016 - Val: 56.6\n",
            "Anno: 2017 - Val: 43.4\n",
            "Anno: 2016 - Val: 0.0\n",
            "Anno: 2017 - Val: 125.0\n",
            "Anno: 2016 - Val: 0.0\n",
            "Anno: 2017 - Val: 300.0\n",
            "Anno: 2016 - Val: 0.0\n",
            "Anno: 2017 - Val: 125.0\n",
            "Anno: 2015 - Val: 80.0\n",
            "Anno: 2016 - Val: 20.0\n",
            "Anno: 2016 - Val: 857.14\n",
            "Anno: 2017 - Val: 342.86\n",
            "Anno: 2016 - Val: 93.75\n",
            "Anno: 2017 - Val: 56.25\n",
            "Anno: 2016 - Val: 0.0\n",
            "Anno: 2017 - Val: 1075.0\n",
            "Anno: 2015 - Val: 112.5\n",
            "Anno: 2016 - Val: 37.5\n",
            "Anno: 2015 - Val: 20.69\n",
            "Anno: 2016 - Val: 4.31\n",
            "Anno: 2015 - Val: 112.5\n",
            "Anno: 2016 - Val: 37.5\n",
            "Anno: 2016 - Val: 140.62\n",
            "Anno: 2017 - Val: 84.38\n",
            "Anno: 2016 - Val: 141.67\n",
            "Anno: 2017 - Val: 283.33\n",
            "Anno: 2016 - Val: 214.29\n",
            "Anno: 2017 - Val: 85.71\n",
            "Anno: 2015 - Val: 60.0\n",
            "Anno: 2016 - Val: 15.0\n",
            "Anno: 2015 - Val: 227.5\n",
            "Anno: 2016 - Val: 97.5\n",
            "Anno: 2015 - Val: 135.48\n",
            "Anno: 2016 - Val: 64.52\n",
            "Anno: 2015 - Val: 87.5\n",
            "Anno: 2016 - Val: 87.5\n",
            "Anno: 2016 - Val: 0.0\n",
            "Anno: 2017 - Val: 250.0\n",
            "Anno: 2016 - Val: 78.12\n",
            "Anno: 2017 - Val: 46.88\n",
            "Anno: 2016 - Val: 143.0\n",
            "Anno: 2017 - Val: 132.0\n",
            "Anno: 2016 - Val: 62.5\n",
            "Anno: 2017 - Val: 37.5\n",
            "Anno: 2016 - Val: 0.0\n",
            "Anno: 2017 - Val: 600.0\n",
            "Anno: 2016 - Val: 68.75\n",
            "Anno: 2017 - Val: 206.25\n",
            "Anno: 2014 - Val: 73.72\n",
            "Anno: 2015 - Val: 51.28\n",
            "Anno: 2014 - Val: 46.62\n",
            "Anno: 2015 - Val: 28.38\n",
            "Anno: 2014 - Val: 45.39\n",
            "Anno: 2015 - Val: 29.61\n",
            "Anno: 2014 - Val: 75.66\n",
            "Anno: 2015 - Val: 49.34\n",
            "Anno: 2014 - Val: 46.62\n",
            "Anno: 2015 - Val: 28.38\n",
            "Anno: 2014 - Val: 58.97\n",
            "Anno: 2015 - Val: 41.03\n",
            "Anno: 2016 - Val: 178.23\n",
            "Anno: 2017 - Val: 246.77\n",
            "Anno: 2016 - Val: 220.59\n",
            "Anno: 2017 - Val: 154.41\n",
            "Anno: 2015 - Val: 87.5\n",
            "Anno: 2016 - Val: 37.5\n",
            "Anno: 2015 - Val: 101.61\n",
            "Anno: 2016 - Val: 48.39\n",
            "Anno: 2015 - Val: 52.5\n",
            "Anno: 2016 - Val: 22.5\n",
            "Anno: 2014 - Val: 57.5\n",
            "Anno: 2015 - Val: 17.5\n",
            "Anno: 2014 - Val: 33.17\n",
            "Anno: 2015 - Val: 41.83\n",
            "Anno: 2014 - Val: 37.1\n",
            "Anno: 2015 - Val: 12.9\n",
            "Anno: 2014 - Val: 71.88\n",
            "Anno: 2015 - Val: 78.12\n",
            "Anno: 2014 - Val: 32.55\n",
            "Anno: 2015 - Val: 42.45\n",
            "Anno: 2014 - Val: 47.92\n",
            "Anno: 2015 - Val: 52.08\n",
            "Anno: 2014 - Val: 28.05\n",
            "Anno: 2015 - Val: 21.95\n",
            "Anno: 2014 - Val: 62.5\n",
            "Anno: 2015 - Val: 62.5\n",
            "Anno: 2014 - Val: 67.65\n",
            "Anno: 2015 - Val: 82.35\n",
            "Anno: 2014 - Val: 33.82\n",
            "Anno: 2015 - Val: 41.18\n",
            "Anno: 2014 - Val: 98.17\n",
            "Anno: 2015 - Val: 76.83\n",
            "Anno: 2014 - Val: 50.0\n",
            "Anno: 2015 - Val: 50.0\n",
            "Anno: 2014 - Val: 48.94\n",
            "Anno: 2015 - Val: 51.06\n",
            "Anno: 2014 - Val: 68.45\n",
            "Anno: 2015 - Val: 56.55\n",
            "Anno: 2015 - Val: 246.43\n",
            "Anno: 2016 - Val: 328.57\n",
            "Anno: 2015 - Val: 100.0\n",
            "Anno: 2016 - Val: 100.0\n",
            "Anno: 2014 - Val: 75.66\n",
            "Anno: 2015 - Val: 49.34\n",
            "Anno: 2017 - Val: 60.0\n",
            "Anno: 2018 - Val: 90.0\n",
            "Anno: 2014 - Val: 246.43\n",
            "Anno: 2015 - Val: 53.57\n",
            "Anno: 2014 - Val: 37.1\n",
            "Anno: 2015 - Val: 12.9\n",
            "Anno: 2017 - Val: 46.88\n",
            "Anno: 2018 - Val: 78.12\n",
            "Anno: 2017 - Val: 44.12\n",
            "Anno: 2018 - Val: 80.88\n",
            "Anno: 2014 - Val: 57.5\n",
            "Anno: 2015 - Val: 17.5\n",
            "Anno: 2014 - Val: 115.0\n",
            "Anno: 2015 - Val: 10.0\n",
            "Anno: 2016 - Val: 114.29\n",
            "Anno: 2017 - Val: 85.71\n",
            "Anno: 2014 - Val: 95.83\n",
            "Anno: 2015 - Val: 54.17\n",
            "Anno: 2017 - Val: 18.0\n",
            "Anno: 2018 - Val: 57.0\n",
            "Anno: 2017 - Val: 17.31\n",
            "Anno: 2018 - Val: 57.69\n",
            "Anno: 2014 - Val: 107.81\n",
            "Anno: 2015 - Val: 42.19\n",
            "Anno: 2014 - Val: 52.27\n",
            "Anno: 2015 - Val: 22.73\n",
            "Anno: 2017 - Val: 9.68\n",
            "Anno: 2018 - Val: 40.32\n",
            "Anno: 2017 - Val: 10.34\n",
            "Anno: 2018 - Val: 39.66\n",
            "Anno: 2017 - Val: 11.54\n",
            "Anno: 2018 - Val: 38.46\n",
            "Anno: 2014 - Val: 179.69\n",
            "Anno: 2015 - Val: 70.31\n",
            "Anno: 2014 - Val: 179.69\n",
            "Anno: 2015 - Val: 70.31\n",
            "Anno: 2014 - Val: 41.07\n",
            "Anno: 2015 - Val: 8.93\n",
            "Anno: 2014 - Val: 191.67\n",
            "Anno: 2015 - Val: 83.33\n",
            "Anno: 2014 - Val: 191.67\n",
            "Anno: 2015 - Val: 83.33\n",
            "Anno: 2014 - Val: 107.81\n",
            "Anno: 2015 - Val: 42.19\n",
            "Anno: 2016 - Val: 0.0\n",
            "Anno: 2017 - Val: 250.0\n",
            "Anno: 2016 - Val: 96.77\n",
            "Anno: 2017 - Val: 53.23\n",
            "Anno: 2016 - Val: 104.84\n",
            "Anno: 2017 - Val: 145.16\n",
            "Anno: 2016 - Val: 71.43\n",
            "Anno: 2017 - Val: 28.57\n",
            "Anno: 2015 - Val: 112.5\n",
            "Anno: 2016 - Val: 37.5\n",
            "Anno: 2015 - Val: 224.0\n",
            "Anno: 2016 - Val: 176.0\n",
            "Anno: 2015 - Val: 42.19\n",
            "Anno: 2016 - Val: 32.81\n",
            "Anno: 2015 - Val: 182.14\n",
            "Anno: 2016 - Val: 242.86\n",
            "Anno: 2014 - Val: 73.72\n",
            "Anno: 2015 - Val: 51.28\n",
            "Anno: 2014 - Val: 121.97\n",
            "Anno: 2015 - Val: 53.03\n",
            "Anno: 2014 - Val: 191.67\n",
            "Anno: 2015 - Val: 83.33\n",
            "Anno: 2014 - Val: 166.94\n",
            "Anno: 2015 - Val: 58.06\n",
            "Anno: 2014 - Val: 115.0\n",
            "Anno: 2015 - Val: 35.0\n",
            "Anno: 2014 - Val: 98.57\n",
            "Anno: 2015 - Val: 51.43\n",
            "Anno: 2017 - Val: 30.0\n",
            "Anno: 2018 - Val: 70.0\n",
            "Anno: 2017 - Val: 11.54\n",
            "Anno: 2018 - Val: 38.46\n",
            "Anno: 2014 - Val: 52.27\n",
            "Anno: 2015 - Val: 22.73\n",
            "Anno: 2014 - Val: 52.27\n",
            "Anno: 2015 - Val: 22.73\n",
            "Anno: 2016 - Val: 133.33\n",
            "Anno: 2017 - Val: 266.67\n",
            "Anno: 2016 - Val: 255.32\n",
            "Anno: 2017 - Val: 144.68\n",
            "Anno: 2015 - Val: 72.73\n",
            "Anno: 2016 - Val: 27.27\n",
            "Anno: 2016 - Val: 75.0\n",
            "Anno: 2017 - Val: 150.0\n",
            "Anno: 2015 - Val: 37.5\n",
            "Anno: 2016 - Val: 12.5\n",
            "Anno: 2015 - Val: 56.25\n",
            "Anno: 2016 - Val: 18.75\n",
            "Anno: 2016 - Val: 397.06\n",
            "Anno: 2017 - Val: 277.94\n",
            "Anno: 2015 - Val: 52.5\n",
            "Anno: 2016 - Val: 22.5\n",
            "Anno: 2016 - Val: 0.0\n",
            "Anno: 2017 - Val: 575.0\n",
            "Anno: 2016 - Val: 0.0\n",
            "Anno: 2017 - Val: 300.0\n",
            "Anno: 2016 - Val: 0.0\n",
            "Anno: 2017 - Val: 300.0\n",
            "Anno: 2015 - Val: 165.52\n",
            "Anno: 2016 - Val: 34.48\n",
            "Anno: 2014 - Val: 75.66\n",
            "Anno: 2015 - Val: 49.34\n",
            "Anno: 2015 - Val: 87.5\n",
            "Anno: 2016 - Val: 87.5\n",
            "Anno: 2017 - Val: 33.33\n",
            "Anno: 2018 - Val: 66.67\n",
            "Anno: 2017 - Val: 30.0\n",
            "Anno: 2018 - Val: 70.0\n",
            "Anno: 2015 - Val: 42.86\n",
            "Anno: 2016 - Val: 7.14\n",
            "Anno: 2015 - Val: 184.62\n",
            "Anno: 2016 - Val: 15.38\n",
            "Anno: 2015 - Val: 92.31\n",
            "Anno: 2016 - Val: 7.69\n",
            "Anno: 2015 - Val: 155.56\n",
            "Anno: 2016 - Val: 19.44\n",
            "Anno: 2014 - Val: 75.66\n",
            "Anno: 2015 - Val: 49.34\n",
            "Anno: 2014 - Val: 58.97\n",
            "Anno: 2015 - Val: 41.03\n",
            "Anno: 2014 - Val: 45.39\n",
            "Anno: 2015 - Val: 29.61\n",
            "Anno: 2014 - Val: 75.66\n",
            "Anno: 2015 - Val: 49.34\n",
            "Anno: 2014 - Val: 115.0\n",
            "Anno: 2015 - Val: 35.0\n",
            "Anno: 2014 - Val: 88.46\n",
            "Anno: 2015 - Val: 11.54\n",
            "Anno: 2014 - Val: 88.46\n",
            "Anno: 2015 - Val: 11.54\n",
            "Anno: 2014 - Val: 98.57\n",
            "Anno: 2015 - Val: 51.43\n",
            "Anno: 2014 - Val: 50.0\n",
            "Anno: 2015 - Val: 50.0\n",
            "Anno: 2014 - Val: 33.17\n",
            "Anno: 2015 - Val: 41.83\n",
            "Anno: 2014 - Val: 176.92\n",
            "Anno: 2015 - Val: 23.08\n",
            "Anno: 2014 - Val: 176.92\n",
            "Anno: 2015 - Val: 23.08\n",
            "Anno: 2014 - Val: 68.45\n",
            "Anno: 2015 - Val: 56.55\n",
            "Anno: 2014 - Val: 33.17\n",
            "Anno: 2015 - Val: 41.83\n",
            "Anno: 2014 - Val: 167.71\n",
            "Anno: 2015 - Val: 7.29\n",
            "Anno: 2014 - Val: 54.76\n",
            "Anno: 2015 - Val: 45.24\n",
            "Anno: 2014 - Val: 178.45\n",
            "Anno: 2015 - Val: 46.55\n",
            "Anno: 2014 - Val: 68.45\n",
            "Anno: 2015 - Val: 56.55\n",
            "Anno: 2014 - Val: 46.94\n",
            "Anno: 2015 - Val: 53.06\n",
            "Anno: 2014 - Val: 167.71\n",
            "Anno: 2015 - Val: 7.29\n",
            "Anno: 2014 - Val: 167.71\n",
            "Anno: 2015 - Val: 7.29\n",
            "Anno: 2014 - Val: 129.84\n",
            "Anno: 2015 - Val: 45.16\n",
            "Anno: 2014 - Val: 67.65\n",
            "Anno: 2015 - Val: 82.35\n",
            "Anno: 2014 - Val: 167.71\n",
            "Anno: 2015 - Val: 7.29\n",
            "Anno: 2014 - Val: 63.89\n",
            "Anno: 2015 - Val: 61.11\n",
            "Anno: 2014 - Val: 50.0\n",
            "Anno: 2015 - Val: 50.0\n",
            "Anno: 2014 - Val: 46.0\n",
            "Anno: 2015 - Val: 54.0\n",
            "Anno: 2014 - Val: 45.1\n",
            "Anno: 2015 - Val: 54.9\n",
            "Anno: 2014 - Val: 225.89\n",
            "Anno: 2015 - Val: 49.11\n",
            "Anno: 2017 - Val: 46.88\n",
            "Anno: 2018 - Val: 78.12\n",
            "Anno: 2016 - Val: 214.29\n",
            "Anno: 2017 - Val: 160.71\n",
            "Anno: 2016 - Val: 477.27\n",
            "Anno: 2017 - Val: 397.73\n",
            "Anno: 2016 - Val: 409.09\n",
            "Anno: 2017 - Val: 340.91\n",
            "Anno: 2014 - Val: 35.94\n",
            "Anno: 2015 - Val: 14.06\n",
            "Anno: 2014 - Val: 35.94\n",
            "Anno: 2015 - Val: 14.06\n",
            "Anno: 2014 - Val: 35.94\n",
            "Anno: 2015 - Val: 14.06\n",
            "Anno: 2014 - Val: 52.27\n",
            "Anno: 2015 - Val: 22.73\n",
            "Anno: 2015 - Val: 177.78\n",
            "Anno: 2016 - Val: 22.22\n",
            "Anno: 2015 - Val: 69.23\n",
            "Anno: 2016 - Val: 5.77\n",
            "Anno: 2014 - Val: 68.45\n",
            "Anno: 2015 - Val: 56.55\n",
            "Anno: 2014 - Val: 32.55\n",
            "Anno: 2015 - Val: 42.45\n",
            "Anno: 2014 - Val: 167.71\n",
            "Anno: 2015 - Val: 7.29\n",
            "Anno: 2014 - Val: 143.75\n",
            "Anno: 2015 - Val: 6.25\n",
            "Anno: 2017 - Val: 41.67\n",
            "Anno: 2018 - Val: 83.33\n",
            "Anno: 2017 - Val: 44.12\n",
            "Anno: 2018 - Val: 80.88\n",
            "Anno: 2014 - Val: 37.1\n",
            "Anno: 2015 - Val: 12.9\n",
            "Anno: 2014 - Val: 158.62\n",
            "Anno: 2015 - Val: 41.38\n",
            "Anno: 2014 - Val: 38.33\n",
            "Anno: 2015 - Val: 11.67\n",
            "Anno: 2017 - Val: 112.5\n",
            "Anno: 2018 - Val: 112.5\n",
            "Anno: 2014 - Val: 158.62\n",
            "Anno: 2015 - Val: 41.38\n",
            "Anno: 2014 - Val: 57.5\n",
            "Anno: 2015 - Val: 17.5\n",
            "Anno: 2014 - Val: 138.0\n",
            "Anno: 2015 - Val: 12.0\n",
            "Anno: 2014 - Val: 54.76\n",
            "Anno: 2015 - Val: 45.24\n",
            "Anno: 2014 - Val: 50.0\n",
            "Anno: 2015 - Val: 50.0\n",
            "Anno: 2014 - Val: 23.96\n",
            "Anno: 2015 - Val: 26.04\n",
            "Anno: 2014 - Val: 167.71\n",
            "Anno: 2015 - Val: 7.29\n",
            "Anno: 2014 - Val: 37.1\n",
            "Anno: 2015 - Val: 12.9\n",
            "Anno: 2014 - Val: 143.75\n",
            "Anno: 2015 - Val: 6.25\n",
            "Anno: 2014 - Val: 158.62\n",
            "Anno: 2015 - Val: 41.38\n",
            "Anno: 2014 - Val: 37.1\n",
            "Anno: 2015 - Val: 12.9\n",
            "Anno: 2014 - Val: 47.92\n",
            "Anno: 2015 - Val: 52.08\n",
            "Anno: 2016 - Val: 204.0\n",
            "Anno: 2017 - Val: 221.0\n",
            "Anno: 2017 - Val: 17.31\n",
            "Anno: 2018 - Val: 57.69\n",
            "Anno: 2017 - Val: 11.54\n",
            "Anno: 2018 - Val: 38.46\n",
            "Anno: 2014 - Val: 148.39\n",
            "Anno: 2015 - Val: 51.61\n",
            "Anno: 2017 - Val: 44.12\n",
            "Anno: 2018 - Val: 80.88\n",
            "Anno: 2014 - Val: 121.97\n",
            "Anno: 2015 - Val: 53.03\n",
            "Anno: 2014 - Val: 179.69\n",
            "Anno: 2015 - Val: 70.31\n",
            "Anno: 2014 - Val: 179.69\n",
            "Anno: 2015 - Val: 70.31\n",
            "Anno: 2014 - Val: 166.94\n",
            "Anno: 2015 - Val: 58.06\n",
            "Anno: 2016 - Val: 29.46\n",
            "Anno: 2017 - Val: 45.54\n",
            "Anno: 2017 - Val: 10.0\n",
            "Anno: 2018 - Val: 40.0\n",
            "Anno: 2017 - Val: 11.54\n",
            "Anno: 2018 - Val: 38.46\n",
            "Anno: 2017 - Val: 11.54\n",
            "Anno: 2018 - Val: 38.46\n",
            "Anno: 2017 - Val: 17.31\n",
            "Anno: 2018 - Val: 57.69\n",
            "Anno: 2014 - Val: 143.75\n",
            "Anno: 2015 - Val: 6.25\n",
            "Anno: 2014 - Val: 46.0\n",
            "Anno: 2015 - Val: 54.0\n",
            "Anno: 2014 - Val: 23.96\n",
            "Anno: 2015 - Val: 26.04\n",
            "Anno: 2014 - Val: 287.5\n",
            "Anno: 2015 - Val: 37.5\n",
            "Anno: 2014 - Val: 54.76\n",
            "Anno: 2015 - Val: 45.24\n",
            "Anno: 2014 - Val: 246.43\n",
            "Anno: 2015 - Val: 53.57\n",
            "Anno: 2017 - Val: 44.12\n",
            "Anno: 2018 - Val: 80.88\n",
            "Anno: 2017 - Val: 9.68\n",
            "Anno: 2018 - Val: 40.32\n",
            "Anno: 2015 - Val: 46.15\n",
            "Anno: 2016 - Val: 3.85\n",
            "Anno: 2015 - Val: 82.76\n",
            "Anno: 2016 - Val: 17.24\n",
            "Anno: 2015 - Val: 138.46\n",
            "Anno: 2016 - Val: 11.54\n",
            "Anno: 2015 - Val: 66.67\n",
            "Anno: 2016 - Val: 8.33\n",
            "Anno: 2015 - Val: 88.89\n",
            "Anno: 2016 - Val: 11.11\n",
            "Anno: 2015 - Val: 42.86\n",
            "Anno: 2016 - Val: 7.14\n",
            "Anno: 2014 - Val: 606.08\n",
            "Anno: 2015 - Val: 368.92\n",
            "Anno: 2014 - Val: 161.72\n",
            "Anno: 2015 - Val: 63.28\n",
            "Anno: 2014 - Val: 121.97\n",
            "Anno: 2015 - Val: 53.03\n",
            "Anno: 2017 - Val: 17.31\n",
            "Anno: 2018 - Val: 57.69\n",
            "Anno: 2017 - Val: 11.54\n",
            "Anno: 2018 - Val: 38.46\n",
            "Anno: 2017 - Val: 10.0\n",
            "Anno: 2018 - Val: 40.0\n",
            "Anno: 2014 - Val: 121.97\n",
            "Anno: 2015 - Val: 53.03\n",
            "Anno: 2014 - Val: 49.29\n",
            "Anno: 2015 - Val: 25.71\n",
            "Anno: 2014 - Val: 121.97\n",
            "Anno: 2015 - Val: 53.03\n",
            "Anno: 2015 - Val: 22.22\n",
            "Anno: 2016 - Val: 2.78\n",
            "Anno: 2015 - Val: 138.46\n",
            "Anno: 2016 - Val: 11.54\n",
            "Anno: 2015 - Val: 42.86\n",
            "Anno: 2016 - Val: 7.14\n",
            "Anno: 2014 - Val: 54.76\n",
            "Anno: 2015 - Val: 45.24\n",
            "Anno: 2014 - Val: 63.89\n",
            "Anno: 2015 - Val: 61.11\n",
            "Anno: 2014 - Val: 70.12\n",
            "Anno: 2015 - Val: 54.88\n",
            "Anno: 2014 - Val: 225.89\n",
            "Anno: 2015 - Val: 49.11\n",
            "Anno: 2014 - Val: 37.1\n",
            "Anno: 2015 - Val: 12.9\n",
            "Anno: 2014 - Val: 225.89\n",
            "Anno: 2015 - Val: 49.11\n",
            "Anno: 2014 - Val: 225.89\n",
            "Anno: 2015 - Val: 49.11\n",
            "Anno: 2014 - Val: 59.9\n",
            "Anno: 2015 - Val: 65.1\n",
            "Anno: 2014 - Val: 67.65\n",
            "Anno: 2015 - Val: 82.35\n",
            "Anno: 2014 - Val: 67.65\n",
            "Anno: 2015 - Val: 82.35\n",
            "Anno: 2014 - Val: 129.84\n",
            "Anno: 2015 - Val: 45.16\n",
            "Anno: 2014 - Val: 47.92\n",
            "Anno: 2015 - Val: 52.08\n",
            "Anno: 2014 - Val: 18.55\n",
            "Anno: 2015 - Val: 6.45\n",
            "Anno: 2014 - Val: 47.92\n",
            "Anno: 2015 - Val: 2.08\n",
            "Anno: 2014 - Val: 50.74\n",
            "Anno: 2015 - Val: 24.26\n",
            "Anno: 2014 - Val: 341.89\n",
            "Anno: 2015 - Val: 208.11\n",
            "Anno: 2014 - Val: 121.97\n",
            "Anno: 2015 - Val: 53.03\n",
            "Anno: 2014 - Val: 121.97\n",
            "Anno: 2015 - Val: 53.03\n",
            "Anno: 2014 - Val: 166.94\n",
            "Anno: 2015 - Val: 58.06\n",
            "Anno: 2014 - Val: 357.43\n",
            "Anno: 2015 - Val: 217.57\n",
            "Anno: 2017 - Val: 44.12\n",
            "Anno: 2018 - Val: 80.88\n",
            "Anno: 2017 - Val: 44.12\n",
            "Anno: 2018 - Val: 80.88\n",
            "Anno: 2016 - Val: 128.05\n",
            "Anno: 2017 - Val: 46.95\n",
            "Anno: 2017 - Val: 17.31\n",
            "Anno: 2018 - Val: 57.69\n",
            "Anno: 2017 - Val: 11.54\n",
            "Anno: 2018 - Val: 38.46\n",
            "Anno: 2017 - Val: 17.31\n",
            "Anno: 2018 - Val: 57.69\n",
            "Anno: 2017 - Val: 6.73\n",
            "Anno: 2018 - Val: 168.27\n",
            "Anno: 2017 - Val: 9.68\n",
            "Anno: 2018 - Val: 40.32\n",
            "Anno: 2015 - Val: 88.89\n",
            "Anno: 2016 - Val: 11.11\n",
            "Anno: 2015 - Val: 200.0\n",
            "Anno: 2016 - Val: 25.0\n",
            "Anno: 2015 - Val: 88.89\n",
            "Anno: 2016 - Val: 11.11\n",
            "Anno: 2015 - Val: 184.62\n",
            "Anno: 2016 - Val: 15.38\n",
            "Anno: 2015 - Val: 138.46\n",
            "Anno: 2016 - Val: 11.54\n",
            "Anno: 2014 - Val: 148.39\n",
            "Anno: 2015 - Val: 51.61\n",
            "Anno: 2014 - Val: 50.74\n",
            "Anno: 2015 - Val: 24.26\n",
            "Anno: 2015 - Val: 133.33\n",
            "Anno: 2016 - Val: 16.67\n",
            "Anno: 2015 - Val: 155.56\n",
            "Anno: 2016 - Val: 19.44\n",
            "Anno: 2015 - Val: 66.67\n",
            "Anno: 2016 - Val: 8.33\n",
            "Anno: 2015 - Val: 85.71\n",
            "Anno: 2016 - Val: 14.29\n",
            "Anno: 2015 - Val: 230.77\n",
            "Anno: 2016 - Val: 19.23\n",
            "Anno: 2015 - Val: 85.71\n",
            "Anno: 2016 - Val: 14.29\n",
            "Anno: 2016 - Val: 492.31\n",
            "Anno: 2017 - Val: 707.69\n",
            "Anno: 2016 - Val: 61.11\n",
            "Anno: 2017 - Val: 763.89\n",
            "Anno: 2017 - Val: 295.31\n",
            "Anno: 2018 - Val: 754.69\n",
            "Anno: 2017 - Val: 0.0\n",
            "Anno: 2018 - Val: 1350.0\n",
            "Anno: 2016 - Val: 427.08\n",
            "Anno: 2017 - Val: 597.92\n",
            "Anno: 2016 - Val: 572.97\n",
            "Anno: 2017 - Val: 752.03\n",
            "Anno: 2017 - Val: 619.23\n",
            "Anno: 2018 - Val: 530.77\n",
            "Anno: 2017 - Val: 327.22\n",
            "Anno: 2018 - Val: 447.78\n",
            "Anno: 2017 - Val: 0.0\n",
            "Anno: 2018 - Val: 800.0\n",
            "Anno: 2017 - Val: 645.0\n",
            "Anno: 2018 - Val: 430.0\n",
            "Anno: 2016 - Val: 833.0\n",
            "Anno: 2017 - Val: 392.0\n",
            "Anno: 2016 - Val: 221.67\n",
            "Anno: 2017 - Val: 728.33\n",
            "Anno: 2016 - Val: 229.31\n",
            "Anno: 2017 - Val: 720.69\n",
            "Anno: 2017 - Val: 360.61\n",
            "Anno: 2018 - Val: 489.39\n",
            "Anno: 2016 - Val: 465.31\n",
            "Anno: 2017 - Val: 484.69\n",
            "Anno: 2016 - Val: 1157.14\n",
            "Anno: 2017 - Val: 192.86\n",
            "Anno: 2017 - Val: 0.0\n",
            "Anno: 2018 - Val: 1375.0\n",
            "Anno: 2017 - Val: 1312.5\n",
            "Anno: 2018 - Val: 187.5\n",
            "Anno: 2016 - Val: 66.67\n",
            "Anno: 2017 - Val: 833.33\n",
            "Anno: 2016 - Val: 267.86\n",
            "Anno: 2017 - Val: 107.14\n",
            "Anno: 2016 - Val: 230.0\n",
            "Anno: 2017 - Val: 920.0\n",
            "Anno: 2017 - Val: 0.0\n",
            "Anno: 2018 - Val: 1325.0\n",
            "Anno: 2017 - Val: 348.33\n",
            "Anno: 2018 - Val: 476.67\n",
            "Anno: 2017 - Val: 0.0\n",
            "Anno: 2018 - Val: 1350.0\n",
            "Anno: 2016 - Val: 217.24\n",
            "Anno: 2017 - Val: 682.76\n",
            "Anno: 2017 - Val: 343.75\n",
            "Anno: 2018 - Val: 1031.25\n",
            "Anno: 2016 - Val: 430.77\n",
            "Anno: 2017 - Val: 619.23\n",
            "Anno: 2017 - Val: 1312.5\n",
            "Anno: 2018 - Val: 187.5\n",
            "Anno: 2017 - Val: 770.0\n",
            "Anno: 2018 - Val: 330.0\n",
            "Anno: 2017 - Val: 0.0\n",
            "Anno: 2018 - Val: 925.0\n",
            "Anno: 2017 - Val: 0.0\n",
            "Anno: 2018 - Val: 725.0\n",
            "Anno: 2016 - Val: 191.67\n",
            "Anno: 2017 - Val: 958.33\n",
            "Anno: 2016 - Val: 263.1\n",
            "Anno: 2017 - Val: 386.9\n",
            "Anno: 2016 - Val: 309.09\n",
            "Anno: 2017 - Val: 540.91\n",
            "Anno: 2016 - Val: 285.53\n",
            "Anno: 2017 - Val: 489.47\n",
            "Anno: 2016 - Val: 238.64\n",
            "Anno: 2017 - Val: 136.36\n",
            "Anno: 2016 - Val: 367.57\n",
            "Anno: 2017 - Val: 482.43\n",
            "Anno: 2017 - Val: 498.08\n",
            "Anno: 2018 - Val: 426.92\n",
            "Anno: 2017 - Val: 665.0\n",
            "Anno: 2018 - Val: 285.0\n",
            "Anno: 2017 - Val: 0.0\n",
            "Anno: 2018 - Val: 975.0\n",
            "Anno: 2017 - Val: 615.15\n",
            "Anno: 2018 - Val: 834.85\n",
            "Anno: 2017 - Val: 746.67\n",
            "Anno: 2018 - Val: 653.33\n",
            "Anno: 2017 - Val: 0.0\n",
            "Anno: 2018 - Val: 925.0\n",
            "Anno: 2017 - Val: 432.0\n",
            "Anno: 2018 - Val: 468.0\n",
            "Anno: 2017 - Val: 624.0\n",
            "Anno: 2018 - Val: 676.0\n",
            "Anno: 2016 - Val: 367.57\n",
            "Anno: 2017 - Val: 482.43\n",
            "Anno: 2017 - Val: 206.25\n",
            "Anno: 2018 - Val: 618.75\n",
            "Anno: 2016 - Val: 266.67\n",
            "Anno: 2017 - Val: 383.33\n",
            "Anno: 2017 - Val: 0.0\n",
            "Anno: 2018 - Val: 775.0\n",
            "Anno: 2017 - Val: 726.92\n",
            "Anno: 2018 - Val: 623.08\n",
            "Anno: 2016 - Val: 147.37\n",
            "Anno: 2017 - Val: 252.63\n",
            "Anno: 2017 - Val: 0.0\n",
            "Anno: 2018 - Val: 975.0\n",
            "Anno: 2017 - Val: 0.0\n",
            "Anno: 2018 - Val: 1150.0\n",
            "Anno: 2017 - Val: 630.0\n",
            "Anno: 2018 - Val: 270.0\n",
            "Anno: 2017 - Val: 684.78\n",
            "Anno: 2018 - Val: 65.22\n",
            "Anno: 2017 - Val: 0.0\n",
            "Anno: 2018 - Val: 1350.0\n",
            "Anno: 2017 - Val: 75.0\n",
            "Anno: 2018 - Val: 975.0\n",
            "Anno: 2017 - Val: 255.0\n",
            "Anno: 2018 - Val: 1020.0\n",
            "Anno: 2017 - Val: 0.0\n",
            "Anno: 2018 - Val: 1125.0\n",
            "Anno: 2017 - Val: 601.56\n",
            "Anno: 2018 - Val: 773.44\n",
            "Anno: 2017 - Val: 312.0\n",
            "Anno: 2018 - Val: 338.0\n",
            "Anno: 2016 - Val: 341.46\n",
            "Anno: 2017 - Val: 533.54\n",
            "Anno: 2016 - Val: 286.36\n",
            "Anno: 2017 - Val: 163.64\n",
            "Anno: 2017 - Val: 492.0\n",
            "Anno: 2018 - Val: 533.0\n",
            "Anno: 2017 - Val: 408.0\n",
            "Anno: 2018 - Val: 442.0\n",
            "Anno: 2017 - Val: 528.0\n",
            "Anno: 2018 - Val: 572.0\n",
            "Anno: 2017 - Val: 0.0\n",
            "Anno: 2018 - Val: 850.0\n",
            "Anno: 2017 - Val: 55.36\n",
            "Anno: 2018 - Val: 719.64\n",
            "Anno: 2016 - Val: 324.32\n",
            "Anno: 2017 - Val: 675.68\n",
            "Anno: 2016 - Val: 221.88\n",
            "Anno: 2017 - Val: 1553.12\n",
            "Anno: 2017 - Val: 2507.69\n",
            "Anno: 2018 - Val: 1567.31\n",
            "Anno: 2017 - Val: 178.03\n",
            "Anno: 2018 - Val: 996.97\n",
            "Anno: 2015 - Val: 1947.86\n",
            "Anno: 2016 - Val: 577.14\n",
            "Anno: 2016 - Val: 642.86\n",
            "Anno: 2017 - Val: 857.14\n",
            "Anno: 2017 - Val: 498.65\n",
            "Anno: 2018 - Val: 1551.35\n",
            "Anno: 2016 - Val: 370.95\n",
            "Anno: 2017 - Val: 1154.05\n",
            "Anno: 2015 - Val: 1575.0\n",
            "Anno: 2016 - Val: 1425.0\n",
            "Anno: 2016 - Val: 300.0\n",
            "Anno: 2017 - Val: 550.0\n",
            "Anno: 2017 - Val: 575.76\n",
            "Anno: 2018 - Val: 3224.24\n",
            "Anno: 2015 - Val: 1963.89\n",
            "Anno: 2016 - Val: 561.11\n",
            "Anno: 2017 - Val: 927.63\n",
            "Anno: 2018 - Val: 247.37\n",
            "Anno: 2017 - Val: 350.0\n",
            "Anno: 2018 - Val: 250.0\n",
            "Anno: 2016 - Val: 492.11\n",
            "Anno: 2017 - Val: 607.89\n",
            "Anno: 2016 - Val: 250.0\n",
            "Anno: 2017 - Val: 750.0\n",
            "Anno: 2015 - Val: 2092.14\n",
            "Anno: 2016 - Val: 432.86\n",
            "Anno: 2015 - Val: 540.15\n",
            "Anno: 2016 - Val: 234.85\n",
            "Anno: 2016 - Val: 198.53\n",
            "Anno: 2017 - Val: 551.47\n",
            "Anno: 2015 - Val: 398.68\n",
            "Anno: 2016 - Val: 2126.32\n",
            "Anno: 2017 - Val: 218.92\n",
            "Anno: 2018 - Val: 681.08\n",
            "Anno: 2016 - Val: 675.0\n",
            "Anno: 2017 - Val: 75.0\n",
            "Anno: 2017 - Val: 822.56\n",
            "Anno: 2018 - Val: 952.44\n",
            "Anno: 2016 - Val: 117.42\n",
            "Anno: 2017 - Val: 657.58\n",
            "Anno: 2017 - Val: 464.29\n",
            "Anno: 2018 - Val: 185.71\n",
            "Anno: 2016 - Val: 486.11\n",
            "Anno: 2017 - Val: 1263.89\n",
            "Anno: 2016 - Val: 0.0\n",
            "Anno: 2017 - Val: 1850.0\n",
            "Anno: 2017 - Val: 957.41\n",
            "Anno: 2018 - Val: 217.59\n",
            "Anno: 2015 - Val: 999.32\n",
            "Anno: 2016 - Val: 275.68\n",
            "Anno: 2016 - Val: 285.71\n",
            "Anno: 2017 - Val: 714.29\n",
            "Anno: 2017 - Val: 0.0\n",
            "Anno: 2018 - Val: 1750.0\n",
            "Anno: 2017 - Val: 1192.5\n",
            "Anno: 2018 - Val: 1457.5\n",
            "Anno: 2017 - Val: 1226.09\n",
            "Anno: 2018 - Val: 1123.91\n",
            "Anno: 2017 - Val: 684.21\n",
            "Anno: 2018 - Val: 315.79\n",
            "Anno: 2016 - Val: 454.17\n",
            "Anno: 2017 - Val: 2270.83\n",
            "Anno: 2017 - Val: 854.63\n",
            "Anno: 2018 - Val: 920.37\n",
            "Anno: 2016 - Val: 297.5\n",
            "Anno: 2017 - Val: 2677.5\n",
            "Anno: 2015 - Val: 1277.78\n",
            "Anno: 2016 - Val: 1022.22\n",
            "Anno: 2015 - Val: 465.0\n",
            "Anno: 2016 - Val: 310.0\n",
            "Anno: 2017 - Val: 1250.0\n",
            "Anno: 2018 - Val: 500.0\n",
            "Anno: 2016 - Val: 294.12\n",
            "Anno: 2017 - Val: 955.88\n",
            "Anno: 2017 - Val: 195.83\n",
            "Anno: 2018 - Val: 979.17\n",
            "Anno: 2015 - Val: 391.3\n",
            "Anno: 2016 - Val: 208.7\n",
            "Anno: 2015 - Val: 326.35\n",
            "Anno: 2016 - Val: 198.65\n",
            "Anno: 2015 - Val: 460.71\n",
            "Anno: 2016 - Val: 614.29\n",
            "Anno: 2016 - Val: 400.0\n",
            "Anno: 2017 - Val: 100.0\n",
            "Anno: 2017 - Val: 337.84\n",
            "Anno: 2018 - Val: 162.16\n",
            "Anno: 2017 - Val: 312.5\n",
            "Anno: 2018 - Val: 187.5\n",
            "Anno: 2015 - Val: 412.5\n",
            "Anno: 2016 - Val: 412.5\n",
            "Anno: 2017 - Val: 0.0\n",
            "Anno: 2018 - Val: 300.0\n",
            "Anno: 2017 - Val: 324.32\n",
            "Anno: 2018 - Val: 275.68\n",
            "Anno: 2015 - Val: 135.29\n",
            "Anno: 2016 - Val: 439.71\n",
            "Anno: 2017 - Val: 325.0\n",
            "Anno: 2018 - Val: 175.0\n",
            "Anno: 2017 - Val: 853.12\n",
            "Anno: 2018 - Val: 121.88\n",
            "Anno: 2015 - Val: 717.19\n",
            "Anno: 2016 - Val: 557.81\n",
            "Anno: 2016 - Val: 483.33\n",
            "Anno: 2017 - Val: 216.67\n",
            "Anno: 2015 - Val: 60.71\n",
            "Anno: 2016 - Val: 789.29\n",
            "Anno: 2016 - Val: 53.85\n",
            "Anno: 2017 - Val: 646.15\n",
            "Anno: 2016 - Val: 42.86\n",
            "Anno: 2017 - Val: 557.14\n",
            "Anno: 2016 - Val: 697.67\n",
            "Anno: 2017 - Val: 302.33\n",
            "Anno: 2016 - Val: 70.59\n",
            "Anno: 2017 - Val: 529.41\n",
            "Anno: 2017 - Val: 175.0\n",
            "Anno: 2018 - Val: 425.0\n",
            "Anno: 2017 - Val: 490.0\n",
            "Anno: 2018 - Val: 210.0\n",
            "Anno: 2017 - Val: 437.5\n",
            "Anno: 2018 - Val: 562.5\n",
            "Anno: 2017 - Val: 312.0\n",
            "Anno: 2018 - Val: 663.0\n",
            "Anno: 2016 - Val: 315.79\n",
            "Anno: 2017 - Val: 684.21\n",
            "Anno: 2015 - Val: 589.29\n",
            "Anno: 2016 - Val: 235.71\n",
            "Anno: 2017 - Val: 261.29\n",
            "Anno: 2018 - Val: 38.71\n",
            "Anno: 2016 - Val: 110.0\n",
            "Anno: 2017 - Val: 715.0\n",
            "Anno: 2016 - Val: 215.38\n",
            "Anno: 2017 - Val: 584.62\n",
            "Anno: 2016 - Val: 430.83\n",
            "Anno: 2017 - Val: 744.17\n",
            "Anno: 2017 - Val: 287.5\n",
            "Anno: 2018 - Val: 212.5\n",
            "Anno: 2015 - Val: 495.65\n",
            "Anno: 2016 - Val: 104.35\n",
            "Anno: 2017 - Val: 320.0\n",
            "Anno: 2018 - Val: 480.0\n",
            "Anno: 2016 - Val: 0.0\n",
            "Anno: 2017 - Val: 1025.0\n",
            "Anno: 2017 - Val: 709.68\n",
            "Anno: 2018 - Val: 290.32\n",
            "Anno: 2017 - Val: 774.19\n",
            "Anno: 2018 - Val: 225.81\n",
            "Anno: 2016 - Val: 400.0\n",
            "Anno: 2017 - Val: 75.0\n",
            "Anno: 2015 - Val: 364.29\n",
            "Anno: 2016 - Val: 485.71\n",
            "Anno: 2016 - Val: 681.82\n",
            "Anno: 2017 - Val: 318.18\n",
            "Anno: 2015 - Val: 731.25\n",
            "Anno: 2016 - Val: 243.75\n",
            "Anno: 2017 - Val: 127.27\n",
            "Anno: 2018 - Val: 572.73\n",
            "Anno: 2017 - Val: 362.79\n",
            "Anno: 2018 - Val: 237.21\n",
            "Anno: 2017 - Val: 345.0\n",
            "Anno: 2018 - Val: 255.0\n",
            "Anno: 2017 - Val: 297.62\n",
            "Anno: 2018 - Val: 202.38\n",
            "Anno: 2016 - Val: 80.0\n",
            "Anno: 2017 - Val: 520.0\n",
            "Anno: 2017 - Val: 232.26\n",
            "Anno: 2018 - Val: 67.74\n",
            "Anno: 2017 - Val: 700.0\n",
            "Anno: 2018 - Val: 100.0\n",
            "Anno: 2016 - Val: 540.0\n",
            "Anno: 2017 - Val: 60.0\n",
            "Anno: 2016 - Val: 478.05\n",
            "Anno: 2017 - Val: 221.95\n",
            "Anno: 2015 - Val: 738.64\n",
            "Anno: 2016 - Val: 236.36\n",
            "Anno: 2017 - Val: 60.0\n",
            "Anno: 2018 - Val: 540.0\n",
            "Anno: 2016 - Val: 942.5\n",
            "Anno: 2017 - Val: 32.5\n",
            "Anno: 2016 - Val: 506.9\n",
            "Anno: 2017 - Val: 193.1\n",
            "Anno: 2016 - Val: 293.33\n",
            "Anno: 2017 - Val: 506.67\n",
            "Anno: 2017 - Val: 472.97\n",
            "Anno: 2018 - Val: 227.03\n",
            "Anno: 2017 - Val: 638.71\n",
            "Anno: 2018 - Val: 261.29\n",
            "Anno: 2017 - Val: 667.74\n",
            "Anno: 2018 - Val: 232.26\n",
            "Anno: 2017 - Val: 655.17\n",
            "Anno: 2018 - Val: 344.83\n",
            "Anno: 2015 - Val: 390.0\n",
            "Anno: 2016 - Val: 260.0\n",
            "Anno: 2017 - Val: 433.33\n",
            "Anno: 2018 - Val: 266.67\n",
            "Anno: 2017 - Val: 261.29\n",
            "Anno: 2018 - Val: 38.71\n",
            "Anno: 2017 - Val: 60.0\n",
            "Anno: 2018 - Val: 540.0\n",
            "Anno: 2016 - Val: 545.45\n",
            "Anno: 2017 - Val: 254.55\n",
            "Anno: 2017 - Val: 75.0\n",
            "Anno: 2018 - Val: 225.0\n",
            "Anno: 2017 - Val: 250.0\n",
            "Anno: 2018 - Val: 250.0\n",
            "Anno: 2017 - Val: 471.79\n",
            "Anno: 2018 - Val: 328.21\n",
            "Anno: 2017 - Val: 709.68\n",
            "Anno: 2018 - Val: 290.32\n",
            "Anno: 2017 - Val: 191.67\n",
            "Anno: 2018 - Val: 108.33\n",
            "Anno: 2017 - Val: 0.0\n",
            "Anno: 2018 - Val: 1100.0\n",
            "Anno: 2016 - Val: 150.0\n",
            "Anno: 2017 - Val: 975.0\n",
            "Anno: 2017 - Val: 150.0\n",
            "Anno: 2018 - Val: 450.0\n",
            "Anno: 2017 - Val: 406.45\n",
            "Anno: 2018 - Val: 193.55\n",
            "Anno: 2017 - Val: 342.11\n",
            "Anno: 2018 - Val: 157.89\n",
            "Anno: 2016 - Val: 183.33\n",
            "Anno: 2017 - Val: 916.67\n"
          ],
          "name": "stdout"
        },
        {
          "output_type": "stream",
          "text": [
            "/usr/local/lib/python3.6/dist-packages/ipykernel_launcher.py:3: SettingWithCopyWarning: \n",
            "A value is trying to be set on a copy of a slice from a DataFrame.\n",
            "Try using .loc[row_indexer,col_indexer] = value instead\n",
            "\n",
            "See the caveats in the documentation: http://pandas.pydata.org/pandas-docs/stable/user_guide/indexing.html#returning-a-view-versus-a-copy\n",
            "  This is separate from the ipykernel package so we can avoid doing imports until\n"
          ],
          "name": "stderr"
        }
      ]
    },
    {
      "cell_type": "code",
      "metadata": {
        "id": "CDn_VRX4-H8o",
        "colab_type": "code",
        "outputId": "7e931cec-fa3f-469e-bb65-ee56e693c10e",
        "colab": {
          "base_uri": "https://localhost:8080/",
          "height": 195
        }
      },
      "source": [
        "loan_distribution = differentYear_loan_USD[['loan_id','dict_distribution']]\n",
        "loan_distribution.head()"
      ],
      "execution_count": 0,
      "outputs": [
        {
          "output_type": "execute_result",
          "data": {
            "text/html": [
              "<div>\n",
              "<style scoped>\n",
              "    .dataframe tbody tr th:only-of-type {\n",
              "        vertical-align: middle;\n",
              "    }\n",
              "\n",
              "    .dataframe tbody tr th {\n",
              "        vertical-align: top;\n",
              "    }\n",
              "\n",
              "    .dataframe thead th {\n",
              "        text-align: right;\n",
              "    }\n",
              "</style>\n",
              "<table border=\"1\" class=\"dataframe\">\n",
              "  <thead>\n",
              "    <tr style=\"text-align: right;\">\n",
              "      <th></th>\n",
              "      <th>loan_id</th>\n",
              "      <th>dict_distribution</th>\n",
              "    </tr>\n",
              "  </thead>\n",
              "  <tbody>\n",
              "    <tr>\n",
              "      <th>0</th>\n",
              "      <td>657307</td>\n",
              "      <td>[(2013, 1.1), (2014, 1.71)]</td>\n",
              "    </tr>\n",
              "    <tr>\n",
              "      <th>1</th>\n",
              "      <td>656933</td>\n",
              "      <td>[(2013, 4.98), (2014, 4.62)]</td>\n",
              "    </tr>\n",
              "    <tr>\n",
              "      <th>2</th>\n",
              "      <td>657341</td>\n",
              "      <td>[(2013, 4.8), (2014, 4.8)]</td>\n",
              "    </tr>\n",
              "    <tr>\n",
              "      <th>3</th>\n",
              "      <td>657884</td>\n",
              "      <td>[(2013, 7.36), (2014, 7.89)]</td>\n",
              "    </tr>\n",
              "    <tr>\n",
              "      <th>4</th>\n",
              "      <td>657867</td>\n",
              "      <td>[(2013, 3.0), (2014, 3.21)]</td>\n",
              "    </tr>\n",
              "  </tbody>\n",
              "</table>\n",
              "</div>"
            ],
            "text/plain": [
              "   loan_id             dict_distribution\n",
              "0   657307   [(2013, 1.1), (2014, 1.71)]\n",
              "1   656933  [(2013, 4.98), (2014, 4.62)]\n",
              "2   657341    [(2013, 4.8), (2014, 4.8)]\n",
              "3   657884  [(2013, 7.36), (2014, 7.89)]\n",
              "4   657867   [(2013, 3.0), (2014, 3.21)]"
            ]
          },
          "metadata": {
            "tags": []
          },
          "execution_count": 376
        }
      ]
    },
    {
      "cell_type": "code",
      "metadata": {
        "id": "VMbx_ayD_H5c",
        "colab_type": "code",
        "outputId": "4af46731-076b-4c9e-edbb-d957f240664b",
        "colab": {
          "base_uri": "https://localhost:8080/",
          "height": 402
        }
      },
      "source": [
        "loan_distribution = loan_distribution.explode('dict_distribution')\n",
        "loan_distribution"
      ],
      "execution_count": 0,
      "outputs": [
        {
          "output_type": "execute_result",
          "data": {
            "text/html": [
              "<div>\n",
              "<style scoped>\n",
              "    .dataframe tbody tr th:only-of-type {\n",
              "        vertical-align: middle;\n",
              "    }\n",
              "\n",
              "    .dataframe tbody tr th {\n",
              "        vertical-align: top;\n",
              "    }\n",
              "\n",
              "    .dataframe thead th {\n",
              "        text-align: right;\n",
              "    }\n",
              "</style>\n",
              "<table border=\"1\" class=\"dataframe\">\n",
              "  <thead>\n",
              "    <tr style=\"text-align: right;\">\n",
              "      <th></th>\n",
              "      <th>loan_id</th>\n",
              "      <th>dict_distribution</th>\n",
              "    </tr>\n",
              "  </thead>\n",
              "  <tbody>\n",
              "    <tr>\n",
              "      <th>0</th>\n",
              "      <td>657307</td>\n",
              "      <td>(2013, 1.1)</td>\n",
              "    </tr>\n",
              "    <tr>\n",
              "      <th>0</th>\n",
              "      <td>657307</td>\n",
              "      <td>(2014, 1.71)</td>\n",
              "    </tr>\n",
              "    <tr>\n",
              "      <th>1</th>\n",
              "      <td>656933</td>\n",
              "      <td>(2013, 4.98)</td>\n",
              "    </tr>\n",
              "    <tr>\n",
              "      <th>1</th>\n",
              "      <td>656933</td>\n",
              "      <td>(2014, 4.62)</td>\n",
              "    </tr>\n",
              "    <tr>\n",
              "      <th>2</th>\n",
              "      <td>657341</td>\n",
              "      <td>(2013, 4.8)</td>\n",
              "    </tr>\n",
              "    <tr>\n",
              "      <th>...</th>\n",
              "      <td>...</td>\n",
              "      <td>...</td>\n",
              "    </tr>\n",
              "    <tr>\n",
              "      <th>1029146</th>\n",
              "      <td>1429632</td>\n",
              "      <td>(2018, 193.55)</td>\n",
              "    </tr>\n",
              "    <tr>\n",
              "      <th>1029155</th>\n",
              "      <td>1431373</td>\n",
              "      <td>(2017, 342.11)</td>\n",
              "    </tr>\n",
              "    <tr>\n",
              "      <th>1029155</th>\n",
              "      <td>1431373</td>\n",
              "      <td>(2018, 157.89)</td>\n",
              "    </tr>\n",
              "    <tr>\n",
              "      <th>1029158</th>\n",
              "      <td>1226583</td>\n",
              "      <td>(2016, 183.33)</td>\n",
              "    </tr>\n",
              "    <tr>\n",
              "      <th>1029158</th>\n",
              "      <td>1226583</td>\n",
              "      <td>(2017, 916.67)</td>\n",
              "    </tr>\n",
              "  </tbody>\n",
              "</table>\n",
              "<p>286229 rows × 2 columns</p>\n",
              "</div>"
            ],
            "text/plain": [
              "         loan_id dict_distribution\n",
              "0         657307       (2013, 1.1)\n",
              "0         657307      (2014, 1.71)\n",
              "1         656933      (2013, 4.98)\n",
              "1         656933      (2014, 4.62)\n",
              "2         657341       (2013, 4.8)\n",
              "...          ...               ...\n",
              "1029146  1429632    (2018, 193.55)\n",
              "1029155  1431373    (2017, 342.11)\n",
              "1029155  1431373    (2018, 157.89)\n",
              "1029158  1226583    (2016, 183.33)\n",
              "1029158  1226583    (2017, 916.67)\n",
              "\n",
              "[286229 rows x 2 columns]"
            ]
          },
          "metadata": {
            "tags": []
          },
          "execution_count": 377
        }
      ]
    },
    {
      "cell_type": "code",
      "metadata": {
        "id": "pYc_qzs8BykZ",
        "colab_type": "code",
        "colab": {}
      },
      "source": [
        "loan_distribution['year'] = loan_distribution.apply(lambda x: x['dict_distribution'][0],axis=1)\n",
        "loan_distribution['loan_amount_USD'] = loan_distribution.apply(lambda x: x['dict_distribution'][1],axis=1)\n",
        "\n",
        "loan_distribution = loan_distribution.reset_index()"
      ],
      "execution_count": 0,
      "outputs": []
    },
    {
      "cell_type": "code",
      "metadata": {
        "id": "lZItdITNBVuS",
        "colab_type": "code",
        "colab": {}
      },
      "source": [
        "loan_distribution.drop(columns=['index','dict_distribution'],inplace=True)"
      ],
      "execution_count": 0,
      "outputs": []
    },
    {
      "cell_type": "code",
      "metadata": {
        "id": "BmRdqsoQoLbt",
        "colab_type": "code",
        "outputId": "c98f8b90-917d-412d-8023-2e25eeb2c490",
        "colab": {
          "base_uri": "https://localhost:8080/",
          "height": 402
        }
      },
      "source": [
        "loan_distribution"
      ],
      "execution_count": 0,
      "outputs": [
        {
          "output_type": "execute_result",
          "data": {
            "text/html": [
              "<div>\n",
              "<style scoped>\n",
              "    .dataframe tbody tr th:only-of-type {\n",
              "        vertical-align: middle;\n",
              "    }\n",
              "\n",
              "    .dataframe tbody tr th {\n",
              "        vertical-align: top;\n",
              "    }\n",
              "\n",
              "    .dataframe thead th {\n",
              "        text-align: right;\n",
              "    }\n",
              "</style>\n",
              "<table border=\"1\" class=\"dataframe\">\n",
              "  <thead>\n",
              "    <tr style=\"text-align: right;\">\n",
              "      <th></th>\n",
              "      <th>loan_id</th>\n",
              "      <th>year</th>\n",
              "      <th>loan_amount_USD</th>\n",
              "    </tr>\n",
              "  </thead>\n",
              "  <tbody>\n",
              "    <tr>\n",
              "      <th>0</th>\n",
              "      <td>657307</td>\n",
              "      <td>2013</td>\n",
              "      <td>1.10</td>\n",
              "    </tr>\n",
              "    <tr>\n",
              "      <th>1</th>\n",
              "      <td>657307</td>\n",
              "      <td>2014</td>\n",
              "      <td>1.71</td>\n",
              "    </tr>\n",
              "    <tr>\n",
              "      <th>2</th>\n",
              "      <td>656933</td>\n",
              "      <td>2013</td>\n",
              "      <td>4.98</td>\n",
              "    </tr>\n",
              "    <tr>\n",
              "      <th>3</th>\n",
              "      <td>656933</td>\n",
              "      <td>2014</td>\n",
              "      <td>4.62</td>\n",
              "    </tr>\n",
              "    <tr>\n",
              "      <th>4</th>\n",
              "      <td>657341</td>\n",
              "      <td>2013</td>\n",
              "      <td>4.80</td>\n",
              "    </tr>\n",
              "    <tr>\n",
              "      <th>...</th>\n",
              "      <td>...</td>\n",
              "      <td>...</td>\n",
              "      <td>...</td>\n",
              "    </tr>\n",
              "    <tr>\n",
              "      <th>286224</th>\n",
              "      <td>1429632</td>\n",
              "      <td>2018</td>\n",
              "      <td>193.55</td>\n",
              "    </tr>\n",
              "    <tr>\n",
              "      <th>286225</th>\n",
              "      <td>1431373</td>\n",
              "      <td>2017</td>\n",
              "      <td>342.11</td>\n",
              "    </tr>\n",
              "    <tr>\n",
              "      <th>286226</th>\n",
              "      <td>1431373</td>\n",
              "      <td>2018</td>\n",
              "      <td>157.89</td>\n",
              "    </tr>\n",
              "    <tr>\n",
              "      <th>286227</th>\n",
              "      <td>1226583</td>\n",
              "      <td>2016</td>\n",
              "      <td>183.33</td>\n",
              "    </tr>\n",
              "    <tr>\n",
              "      <th>286228</th>\n",
              "      <td>1226583</td>\n",
              "      <td>2017</td>\n",
              "      <td>916.67</td>\n",
              "    </tr>\n",
              "  </tbody>\n",
              "</table>\n",
              "<p>286229 rows × 3 columns</p>\n",
              "</div>"
            ],
            "text/plain": [
              "        loan_id  year  loan_amount_USD\n",
              "0        657307  2013             1.10\n",
              "1        657307  2014             1.71\n",
              "2        656933  2013             4.98\n",
              "3        656933  2014             4.62\n",
              "4        657341  2013             4.80\n",
              "...         ...   ...              ...\n",
              "286224  1429632  2018           193.55\n",
              "286225  1431373  2017           342.11\n",
              "286226  1431373  2018           157.89\n",
              "286227  1226583  2016           183.33\n",
              "286228  1226583  2017           916.67\n",
              "\n",
              "[286229 rows x 3 columns]"
            ]
          },
          "metadata": {
            "tags": []
          },
          "execution_count": 380
        }
      ]
    },
    {
      "cell_type": "markdown",
      "metadata": {
        "id": "PeLeeg1k17yS",
        "colab_type": "text"
      },
      "source": [
        "### Merge file loan same Year disburse and expiration with other file different Year"
      ]
    },
    {
      "cell_type": "code",
      "metadata": {
        "id": "YvV07Ai42LMk",
        "colab_type": "code",
        "outputId": "922b9f68-00e6-452b-af37-74d169b7d9ea",
        "colab": {
          "base_uri": "https://localhost:8080/",
          "height": 195
        }
      },
      "source": [
        "distribution_loan = pd.concat([distribution_loan_USD,loan_distribution],axis=0,sort=False)\n",
        "distribution_loan.head()"
      ],
      "execution_count": 0,
      "outputs": [
        {
          "output_type": "execute_result",
          "data": {
            "text/html": [
              "<div>\n",
              "<style scoped>\n",
              "    .dataframe tbody tr th:only-of-type {\n",
              "        vertical-align: middle;\n",
              "    }\n",
              "\n",
              "    .dataframe tbody tr th {\n",
              "        vertical-align: top;\n",
              "    }\n",
              "\n",
              "    .dataframe thead th {\n",
              "        text-align: right;\n",
              "    }\n",
              "</style>\n",
              "<table border=\"1\" class=\"dataframe\">\n",
              "  <thead>\n",
              "    <tr style=\"text-align: right;\">\n",
              "      <th></th>\n",
              "      <th>loan_id</th>\n",
              "      <th>loan_amount_USD</th>\n",
              "      <th>year</th>\n",
              "    </tr>\n",
              "  </thead>\n",
              "  <tbody>\n",
              "    <tr>\n",
              "      <th>91</th>\n",
              "      <td>659605</td>\n",
              "      <td>7.76</td>\n",
              "      <td>2014</td>\n",
              "    </tr>\n",
              "    <tr>\n",
              "      <th>92</th>\n",
              "      <td>660485</td>\n",
              "      <td>5.54</td>\n",
              "      <td>2014</td>\n",
              "    </tr>\n",
              "    <tr>\n",
              "      <th>93</th>\n",
              "      <td>659100</td>\n",
              "      <td>4.99</td>\n",
              "      <td>2014</td>\n",
              "    </tr>\n",
              "    <tr>\n",
              "      <th>94</th>\n",
              "      <td>659266</td>\n",
              "      <td>17.74</td>\n",
              "      <td>2014</td>\n",
              "    </tr>\n",
              "    <tr>\n",
              "      <th>95</th>\n",
              "      <td>663198</td>\n",
              "      <td>2.77</td>\n",
              "      <td>2014</td>\n",
              "    </tr>\n",
              "  </tbody>\n",
              "</table>\n",
              "</div>"
            ],
            "text/plain": [
              "    loan_id  loan_amount_USD  year\n",
              "91   659605             7.76  2014\n",
              "92   660485             5.54  2014\n",
              "93   659100             4.99  2014\n",
              "94   659266            17.74  2014\n",
              "95   663198             2.77  2014"
            ]
          },
          "metadata": {
            "tags": []
          },
          "execution_count": 386
        }
      ]
    },
    {
      "cell_type": "code",
      "metadata": {
        "id": "3mVpYXLz2khM",
        "colab_type": "code",
        "colab": {}
      },
      "source": [
        "year_distribution = pd.DataFrame(distribution_loan.groupby('year')['loan_amount_USD'].sum()).reset_index(level=0)"
      ],
      "execution_count": 0,
      "outputs": []
    },
    {
      "cell_type": "code",
      "metadata": {
        "id": "09IuvKu135U1",
        "colab_type": "code",
        "outputId": "57588c07-7d0b-4604-e941-ffcd8bab430e",
        "colab": {
          "base_uri": "https://localhost:8080/",
          "height": 284
        }
      },
      "source": [
        "year_distribution['loan_amount_USD_format'] = year_distribution.apply(lambda x: format(x['loan_amount_USD'],'f'),axis=1)"
      ],
      "execution_count": 0,
      "outputs": [
        {
          "output_type": "execute_result",
          "data": {
            "text/html": [
              "<div>\n",
              "<style scoped>\n",
              "    .dataframe tbody tr th:only-of-type {\n",
              "        vertical-align: middle;\n",
              "    }\n",
              "\n",
              "    .dataframe tbody tr th {\n",
              "        vertical-align: top;\n",
              "    }\n",
              "\n",
              "    .dataframe thead th {\n",
              "        text-align: right;\n",
              "    }\n",
              "</style>\n",
              "<table border=\"1\" class=\"dataframe\">\n",
              "  <thead>\n",
              "    <tr style=\"text-align: right;\">\n",
              "      <th></th>\n",
              "      <th>year</th>\n",
              "      <th>loan_amount_USD</th>\n",
              "      <th>loan_amount_USD_format</th>\n",
              "    </tr>\n",
              "  </thead>\n",
              "  <tbody>\n",
              "    <tr>\n",
              "      <th>0</th>\n",
              "      <td>2011</td>\n",
              "      <td>1.004375e+06</td>\n",
              "      <td>1004375.350000</td>\n",
              "    </tr>\n",
              "    <tr>\n",
              "      <th>1</th>\n",
              "      <td>2012</td>\n",
              "      <td>9.928101e+07</td>\n",
              "      <td>99281011.330001</td>\n",
              "    </tr>\n",
              "    <tr>\n",
              "      <th>2</th>\n",
              "      <td>2013</td>\n",
              "      <td>1.079177e+08</td>\n",
              "      <td>107917749.449999</td>\n",
              "    </tr>\n",
              "    <tr>\n",
              "      <th>3</th>\n",
              "      <td>2014</td>\n",
              "      <td>1.334364e+08</td>\n",
              "      <td>133436355.799999</td>\n",
              "    </tr>\n",
              "    <tr>\n",
              "      <th>4</th>\n",
              "      <td>2015</td>\n",
              "      <td>1.313179e+08</td>\n",
              "      <td>131317875.300002</td>\n",
              "    </tr>\n",
              "    <tr>\n",
              "      <th>5</th>\n",
              "      <td>2016</td>\n",
              "      <td>1.301017e+08</td>\n",
              "      <td>130101678.000002</td>\n",
              "    </tr>\n",
              "    <tr>\n",
              "      <th>6</th>\n",
              "      <td>2017</td>\n",
              "      <td>1.416665e+08</td>\n",
              "      <td>141666486.019999</td>\n",
              "    </tr>\n",
              "    <tr>\n",
              "      <th>7</th>\n",
              "      <td>2018</td>\n",
              "      <td>7.116009e+06</td>\n",
              "      <td>7116008.890000</td>\n",
              "    </tr>\n",
              "  </tbody>\n",
              "</table>\n",
              "</div>"
            ],
            "text/plain": [
              "   year  loan_amount_USD loan_amount_USD_format\n",
              "0  2011     1.004375e+06         1004375.350000\n",
              "1  2012     9.928101e+07        99281011.330001\n",
              "2  2013     1.079177e+08       107917749.449999\n",
              "3  2014     1.334364e+08       133436355.799999\n",
              "4  2015     1.313179e+08       131317875.300002\n",
              "5  2016     1.301017e+08       130101678.000002\n",
              "6  2017     1.416665e+08       141666486.019999\n",
              "7  2018     7.116009e+06         7116008.890000"
            ]
          },
          "metadata": {
            "tags": []
          },
          "execution_count": 395
        }
      ]
    },
    {
      "cell_type": "markdown",
      "metadata": {
        "id": "maGTF3Ll4seR",
        "colab_type": "text"
      },
      "source": [
        "### Result"
      ]
    },
    {
      "cell_type": "code",
      "metadata": {
        "id": "8K7jEdcA4gK-",
        "colab_type": "code",
        "outputId": "36efb174-f244-4e90-f34c-7a801d8a44ea",
        "colab": {
          "base_uri": "https://localhost:8080/",
          "height": 284
        }
      },
      "source": [
        "year_distribution"
      ],
      "execution_count": 0,
      "outputs": [
        {
          "output_type": "execute_result",
          "data": {
            "text/html": [
              "<div>\n",
              "<style scoped>\n",
              "    .dataframe tbody tr th:only-of-type {\n",
              "        vertical-align: middle;\n",
              "    }\n",
              "\n",
              "    .dataframe tbody tr th {\n",
              "        vertical-align: top;\n",
              "    }\n",
              "\n",
              "    .dataframe thead th {\n",
              "        text-align: right;\n",
              "    }\n",
              "</style>\n",
              "<table border=\"1\" class=\"dataframe\">\n",
              "  <thead>\n",
              "    <tr style=\"text-align: right;\">\n",
              "      <th></th>\n",
              "      <th>year</th>\n",
              "      <th>loan_amount_USD</th>\n",
              "      <th>loan_amount_USD_format</th>\n",
              "    </tr>\n",
              "  </thead>\n",
              "  <tbody>\n",
              "    <tr>\n",
              "      <th>0</th>\n",
              "      <td>2011</td>\n",
              "      <td>1.004375e+06</td>\n",
              "      <td>1004375.350000</td>\n",
              "    </tr>\n",
              "    <tr>\n",
              "      <th>1</th>\n",
              "      <td>2012</td>\n",
              "      <td>9.928101e+07</td>\n",
              "      <td>99281011.330001</td>\n",
              "    </tr>\n",
              "    <tr>\n",
              "      <th>2</th>\n",
              "      <td>2013</td>\n",
              "      <td>1.079177e+08</td>\n",
              "      <td>107917749.449999</td>\n",
              "    </tr>\n",
              "    <tr>\n",
              "      <th>3</th>\n",
              "      <td>2014</td>\n",
              "      <td>1.334364e+08</td>\n",
              "      <td>133436355.799999</td>\n",
              "    </tr>\n",
              "    <tr>\n",
              "      <th>4</th>\n",
              "      <td>2015</td>\n",
              "      <td>1.313179e+08</td>\n",
              "      <td>131317875.300002</td>\n",
              "    </tr>\n",
              "    <tr>\n",
              "      <th>5</th>\n",
              "      <td>2016</td>\n",
              "      <td>1.301017e+08</td>\n",
              "      <td>130101678.000002</td>\n",
              "    </tr>\n",
              "    <tr>\n",
              "      <th>6</th>\n",
              "      <td>2017</td>\n",
              "      <td>1.416665e+08</td>\n",
              "      <td>141666486.019999</td>\n",
              "    </tr>\n",
              "    <tr>\n",
              "      <th>7</th>\n",
              "      <td>2018</td>\n",
              "      <td>7.116009e+06</td>\n",
              "      <td>7116008.890000</td>\n",
              "    </tr>\n",
              "  </tbody>\n",
              "</table>\n",
              "</div>"
            ],
            "text/plain": [
              "   year  loan_amount_USD loan_amount_USD_format\n",
              "0  2011     1.004375e+06         1004375.350000\n",
              "1  2012     9.928101e+07        99281011.330001\n",
              "2  2013     1.079177e+08       107917749.449999\n",
              "3  2014     1.334364e+08       133436355.799999\n",
              "4  2015     1.313179e+08       131317875.300002\n",
              "5  2016     1.301017e+08       130101678.000002\n",
              "6  2017     1.416665e+08       141666486.019999\n",
              "7  2018     7.116009e+06         7116008.890000"
            ]
          },
          "metadata": {
            "tags": []
          },
          "execution_count": 397
        }
      ]
    }
  ]
}